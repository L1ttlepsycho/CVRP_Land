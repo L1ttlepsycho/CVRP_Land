{
 "cells": [
  {
   "cell_type": "code",
   "execution_count": 1,
   "metadata": {},
   "outputs": [],
   "source": [
    "import os\n",
    "import shutil\n",
    "import vrplib\n",
    "import pickle"
   ]
  },
  {
   "cell_type": "code",
   "execution_count": 2,
   "metadata": {},
   "outputs": [],
   "source": [
    "#对CVRPDataset进行根据dimension的分类\n",
    "root_dir='./Vrp-Set-XXL'\n",
    "set_name='XXL'\n",
    "src_dir=root_dir+'/'+set_name\n",
    "path_list = [os.path.join(src_dir, f) for f in sorted(os.listdir(src_dir))] \\\n",
    "    if os.path.isdir(src_dir) else [src_dir]\n",
    "dim_list={}"
   ]
  },
  {
   "cell_type": "code",
   "execution_count": 3,
   "metadata": {},
   "outputs": [
    {
     "name": "stdout",
     "output_type": "stream",
     "text": [
      "['./Vrp-Set-XXL/XXL']\n"
     ]
    }
   ],
   "source": [
    "print(path_list)"
   ]
  },
  {
   "cell_type": "code",
   "execution_count": 6,
   "metadata": {},
   "outputs": [
    {
     "name": "stdout",
     "output_type": "stream",
     "text": [
      "dir made!\n",
      "dir made!\n",
      "dir made!\n",
      "dir made!\n",
      "dir made!\n"
     ]
    },
    {
     "ename": "KeyError",
     "evalue": "'Antwerp1'",
     "output_type": "error",
     "traceback": [
      "\u001b[0;31m---------------------------------------------------------------------------\u001b[0m",
      "\u001b[0;31mKeyError\u001b[0m                                  Traceback (most recent call last)",
      "Cell \u001b[0;32mIn[6], line 29\u001b[0m\n\u001b[1;32m     26\u001b[0m fpath,fname\u001b[38;5;241m=\u001b[39mos\u001b[38;5;241m.\u001b[39mpath\u001b[38;5;241m.\u001b[39msplit(path)\n\u001b[1;32m     27\u001b[0m \u001b[38;5;66;03m#print(fpath,fname)\u001b[39;00m\n\u001b[0;32m---> 29\u001b[0m dim\u001b[38;5;241m=\u001b[39mdim_list[fname[\u001b[38;5;241m0\u001b[39m:\u001b[38;5;241m-\u001b[39m\u001b[38;5;241m4\u001b[39m]]\n\u001b[1;32m     30\u001b[0m dst_dir\u001b[38;5;241m=\u001b[39mroot_dir\u001b[38;5;241m+\u001b[39m\u001b[38;5;124m'\u001b[39m\u001b[38;5;124m/\u001b[39m\u001b[38;5;124m'\u001b[39m\u001b[38;5;241m+\u001b[39mset_name\u001b[38;5;241m+\u001b[39m\u001b[38;5;124m'\u001b[39m\u001b[38;5;124m-n\u001b[39m\u001b[38;5;124m'\u001b[39m\u001b[38;5;241m+\u001b[39m\u001b[38;5;28mstr\u001b[39m(dim)\u001b[38;5;241m+\u001b[39m\u001b[38;5;124m'\u001b[39m\u001b[38;5;124m-sol\u001b[39m\u001b[38;5;124m'\u001b[39m\n\u001b[1;32m     31\u001b[0m \u001b[38;5;66;03m#print(dst_dir)\u001b[39;00m\n",
      "\u001b[0;31mKeyError\u001b[0m: 'Antwerp1'"
     ]
    }
   ],
   "source": [
    "for path in path_list:\n",
    "    if path.endswith('.vrp'):\n",
    "        #print(path)\n",
    "        fpath,fname=os.path.split(path)\n",
    "        #print(fpath,fname)\n",
    "\n",
    "        instance = vrplib.read_instance(path)\n",
    "        dim=instance['dimension']\n",
    "        dim_list[fname[0:-4]]=dim\n",
    "\n",
    "        dst_dir=root_dir+'/'+set_name+'-n'+str(dim)\n",
    "        #print(dst_dir)\n",
    "\n",
    "        if not os.path.exists(path):\n",
    "            print('file not exists')\n",
    "            continue\n",
    "        else:\n",
    "            if not os.path.exists(dst_dir):\n",
    "                os.makedirs(dst_dir)\n",
    "                print('dir made!')\n",
    "            #print(dst_dir+f'/'+fname)\n",
    "            shutil.move(path,dst_dir+f'/'+fname)\n",
    "                \n",
    "for path in path_list:\n",
    "    if path.endswith('.sol'):\n",
    "        fpath,fname=os.path.split(path)\n",
    "        #print(fpath,fname)\n",
    "\n",
    "        dim=dim_list[fname[0:-4]]\n",
    "        dst_dir=root_dir+'/'+set_name+'-n'+str(dim)+'-sol'\n",
    "        #print(dst_dir)\n",
    "        if not os.path.exists(path):\n",
    "            print('file not exists')\n",
    "            continue\n",
    "        else:\n",
    "            if not os.path.exists(dst_dir):\n",
    "                os.makedirs(dst_dir)\n",
    "                print('dir made!')\n",
    "            #print(dst_dir+f'/'+fname)\n",
    "            shutil.move(path,dst_dir+f'/'+fname)"
   ]
  },
  {
   "cell_type": "code",
   "execution_count": 29,
   "metadata": {},
   "outputs": [
    {
     "name": "stdout",
     "output_type": "stream",
     "text": [
      "{'Li_21': 561, 'Li_22': 601, 'Li_23': 641, 'Li_24': 721, 'Li_25': 761, 'Li_26': 801, 'Li_27': 841, 'Li_28': 881, 'Li_29': 961, 'Li_30': 1041, 'Li_31': 1121, 'Li_32': 1201}\n"
     ]
    }
   ],
   "source": [
    "print(dim_list)"
   ]
  },
  {
   "cell_type": "code",
   "execution_count": 62,
   "metadata": {},
   "outputs": [
    {
     "name": "stdout",
     "output_type": "stream",
     "text": [
      "[['../dataset/Vrp-Set-XXL/XXL-n10001/Ghent1.vrp'], ['../dataset/Vrp-Set-XXL/XXL-n11001/Ghent2.vrp'], ['../dataset/Vrp-Set-XXL/XXL-n15001/Brussels1.vrp'], ['../dataset/Vrp-Set-XXL/XXL-n16001/Brussels2.vrp'], ['../dataset/Vrp-Set-XXL/XXL-n20001/Flanders1.vrp'], ['../dataset/Vrp-Set-XXL/XXL-n30001/Flanders2.vrp'], ['../dataset/Vrp-Set-XXL/XXL-n3001/Leuven1.vrp'], ['../dataset/Vrp-Set-XXL/XXL-n4001/Leuven2.vrp'], ['../dataset/Vrp-Set-XXL/XXL-n6001/Antwerp1.vrp'], ['../dataset/Vrp-Set-XXL/XXL-n7001/Antwerp2.vrp']]\n"
     ]
    }
   ],
   "source": [
    "#打包DataSets\n",
    "root_dir='../dataset'\n",
    "set_name='Vrp-Set-XXL'\n",
    "src_dir=root_dir+'/'+set_name\n",
    "scale=1\n",
    "path_list=[]\n",
    "dim_list={}\n",
    "\n",
    "for dir in sorted(os.listdir(src_dir)):\n",
    "    dir=os.path.join(src_dir,dir)\n",
    "    #print(dir)\n",
    "    list=[os.path.join(dir, f) for f in sorted(os.listdir(dir))] \\\n",
    "        if os.path.isdir(dir) else [dir]\n",
    "    path_list.append(list)\n",
    "\n",
    "print(path_list)"
   ]
  },
  {
   "cell_type": "code",
   "execution_count": 63,
   "metadata": {},
   "outputs": [],
   "source": [
    "for sub_list in path_list:\n",
    "    data_list=[]\n",
    "    dim=0\n",
    "    for path in sub_list:\n",
    "\n",
    "        if path.endswith('.vrp'):\n",
    "            #print(path)\n",
    "            fpath,fname=os.path.split(path)\n",
    "            #print(fpath,fname)\n",
    "\n",
    "            instance = vrplib.read_instance(path)\n",
    "            dim=instance['dimension']\n",
    "            locations=instance['node_coord']/scale\n",
    "            depot_xy,node_xy=locations[0],locations[1:]\n",
    "            node_demand=instance['demand'][1:]\n",
    "            #print(dim,', demand: ',node_demand)\n",
    "            capacity=instance['capacity']\n",
    "            #print(path,': ',dim)\n",
    "            data=(depot_xy.tolist(), node_xy.tolist(), node_demand.tolist(),capacity)\n",
    "            data_list.append(data)\n",
    "        else:\n",
    "            continue\n",
    "    \n",
    "    if dim==0: continue  \n",
    "    #print(len(data_list))   \n",
    "    s=pickle.dumps(data_list)\n",
    "    if not os.path.exists(root_dir+'/scale-'+str(scale)):\n",
    "        os.makedirs(root_dir+'/scale-'+str(scale))\n",
    "        print('dir made!')\n",
    "    with open(root_dir+'/scale-'+str(scale)+'/'+set_name+'-n'+str(dim)+'.pkl','wb+') as f:\n",
    "        f.write(s)"
   ]
  }
 ],
 "metadata": {
  "kernelspec": {
   "display_name": "Python 3",
   "language": "python",
   "name": "python3"
  },
  "language_info": {
   "codemirror_mode": {
    "name": "ipython",
    "version": 3
   },
   "file_extension": ".py",
   "mimetype": "text/x-python",
   "name": "python",
   "nbconvert_exporter": "python",
   "pygments_lexer": "ipython3",
   "version": "3.11.5"
  }
 },
 "nbformat": 4,
 "nbformat_minor": 2
}
