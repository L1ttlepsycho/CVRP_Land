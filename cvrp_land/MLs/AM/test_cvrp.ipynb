{
 "cells": [
  {
   "cell_type": "code",
   "execution_count": 2,
   "metadata": {},
   "outputs": [],
   "source": [
    "import os\n",
    "\n"
   ]
  },
  {
   "cell_type": "code",
   "execution_count": 3,
   "metadata": {},
   "outputs": [
    {
     "name": "stdout",
     "output_type": "stream",
     "text": [
      "['data/vrp/scale-1000/Vrp-Set-A-n32.pkl', 'data/vrp/scale-1000/Vrp-Set-A-n33.pkl', 'data/vrp/scale-1000/Vrp-Set-A-n34.pkl', 'data/vrp/scale-1000/Vrp-Set-A-n36.pkl', 'data/vrp/scale-1000/Vrp-Set-A-n37.pkl', 'data/vrp/scale-1000/Vrp-Set-A-n38.pkl', 'data/vrp/scale-1000/Vrp-Set-A-n39.pkl', 'data/vrp/scale-1000/Vrp-Set-A-n44.pkl', 'data/vrp/scale-1000/Vrp-Set-A-n45.pkl', 'data/vrp/scale-1000/Vrp-Set-A-n46.pkl', 'data/vrp/scale-1000/Vrp-Set-A-n48.pkl', 'data/vrp/scale-1000/Vrp-Set-A-n53.pkl', 'data/vrp/scale-1000/Vrp-Set-A-n54.pkl', 'data/vrp/scale-1000/Vrp-Set-A-n55.pkl', 'data/vrp/scale-1000/Vrp-Set-A-n60.pkl', 'data/vrp/scale-1000/Vrp-Set-A-n61.pkl', 'data/vrp/scale-1000/Vrp-Set-A-n62.pkl', 'data/vrp/scale-1000/Vrp-Set-A-n63.pkl', 'data/vrp/scale-1000/Vrp-Set-A-n64.pkl', 'data/vrp/scale-1000/Vrp-Set-A-n65.pkl', 'data/vrp/scale-1000/Vrp-Set-A-n69.pkl', 'data/vrp/scale-1000/Vrp-Set-A-n80.pkl', 'data/vrp/scale-1000/Vrp-Set-B-n31.pkl', 'data/vrp/scale-1000/Vrp-Set-B-n34.pkl', 'data/vrp/scale-1000/Vrp-Set-B-n35.pkl', 'data/vrp/scale-1000/Vrp-Set-B-n38.pkl', 'data/vrp/scale-1000/Vrp-Set-B-n39.pkl', 'data/vrp/scale-1000/Vrp-Set-B-n41.pkl', 'data/vrp/scale-1000/Vrp-Set-B-n43.pkl', 'data/vrp/scale-1000/Vrp-Set-B-n44.pkl', 'data/vrp/scale-1000/Vrp-Set-B-n45.pkl', 'data/vrp/scale-1000/Vrp-Set-B-n50.pkl', 'data/vrp/scale-1000/Vrp-Set-B-n51.pkl', 'data/vrp/scale-1000/Vrp-Set-B-n52.pkl', 'data/vrp/scale-1000/Vrp-Set-B-n56.pkl', 'data/vrp/scale-1000/Vrp-Set-B-n57.pkl', 'data/vrp/scale-1000/Vrp-Set-B-n63.pkl', 'data/vrp/scale-1000/Vrp-Set-B-n64.pkl', 'data/vrp/scale-1000/Vrp-Set-B-n66.pkl', 'data/vrp/scale-1000/Vrp-Set-B-n67.pkl', 'data/vrp/scale-1000/Vrp-Set-B-n68.pkl', 'data/vrp/scale-1000/Vrp-Set-B-n78.pkl', 'data/vrp/scale-1000/Vrp-Set-CMT-n101.pkl', 'data/vrp/scale-1000/Vrp-Set-CMT-n121.pkl', 'data/vrp/scale-1000/Vrp-Set-CMT-n151.pkl', 'data/vrp/scale-1000/Vrp-Set-CMT-n200.pkl', 'data/vrp/scale-1000/Vrp-Set-CMT-n51.pkl', 'data/vrp/scale-1000/Vrp-Set-CMT-n76.pkl', 'data/vrp/scale-1000/Vrp-Set-D-n1001.pkl', 'data/vrp/scale-1000/Vrp-Set-D-n242.pkl', 'data/vrp/scale-1000/Vrp-Set-D-n323.pkl', 'data/vrp/scale-1000/Vrp-Set-D-n401.pkl', 'data/vrp/scale-1000/Vrp-Set-D-n405.pkl', 'data/vrp/scale-1000/Vrp-Set-D-n455.pkl', 'data/vrp/scale-1000/Vrp-Set-D-n501.pkl', 'data/vrp/scale-1000/Vrp-Set-D-n510.pkl', 'data/vrp/scale-1000/Vrp-Set-D-n601.pkl', 'data/vrp/scale-1000/Vrp-Set-D-n701.pkl', 'data/vrp/scale-1000/Vrp-Set-D-n901.pkl', 'data/vrp/scale-1000/Vrp-Set-E-n101.pkl', 'data/vrp/scale-1000/Vrp-Set-E-n22.pkl', 'data/vrp/scale-1000/Vrp-Set-E-n23.pkl', 'data/vrp/scale-1000/Vrp-Set-E-n30.pkl', 'data/vrp/scale-1000/Vrp-Set-E-n33.pkl', 'data/vrp/scale-1000/Vrp-Set-E-n51.pkl', 'data/vrp/scale-1000/Vrp-Set-E-n76.pkl', 'data/vrp/scale-1000/Vrp-Set-F-n135.pkl', 'data/vrp/scale-1000/Vrp-Set-F-n45.pkl', 'data/vrp/scale-1000/Vrp-Set-F-n72.pkl', 'data/vrp/scale-1000/Vrp-Set-Golden-n201.pkl', 'data/vrp/scale-1000/Vrp-Set-Golden-n241.pkl', 'data/vrp/scale-1000/Vrp-Set-Golden-n253.pkl', 'data/vrp/scale-1000/Vrp-Set-Golden-n256.pkl', 'data/vrp/scale-1000/Vrp-Set-Golden-n281.pkl', 'data/vrp/scale-1000/Vrp-Set-Golden-n301.pkl', 'data/vrp/scale-1000/Vrp-Set-Golden-n321.pkl', 'data/vrp/scale-1000/Vrp-Set-Golden-n324.pkl', 'data/vrp/scale-1000/Vrp-Set-Golden-n361.pkl', 'data/vrp/scale-1000/Vrp-Set-Golden-n397.pkl', 'data/vrp/scale-1000/Vrp-Set-Golden-n400.pkl', 'data/vrp/scale-1000/Vrp-Set-Golden-n401.pkl', 'data/vrp/scale-1000/Vrp-Set-Golden-n421.pkl', 'data/vrp/scale-1000/Vrp-Set-Golden-n441.pkl', 'data/vrp/scale-1000/Vrp-Set-Golden-n481.pkl', 'data/vrp/scale-1000/Vrp-Set-Golden-n484.pkl', 'data/vrp/scale-1000/Vrp-Set-Li-n1041.pkl', 'data/vrp/scale-1000/Vrp-Set-Li-n1121.pkl', 'data/vrp/scale-1000/Vrp-Set-Li-n1201.pkl', 'data/vrp/scale-1000/Vrp-Set-Li-n561.pkl', 'data/vrp/scale-1000/Vrp-Set-Li-n601.pkl', 'data/vrp/scale-1000/Vrp-Set-Li-n641.pkl', 'data/vrp/scale-1000/Vrp-Set-Li-n721.pkl', 'data/vrp/scale-1000/Vrp-Set-Li-n761.pkl', 'data/vrp/scale-1000/Vrp-Set-Li-n801.pkl', 'data/vrp/scale-1000/Vrp-Set-Li-n841.pkl', 'data/vrp/scale-1000/Vrp-Set-Li-n881.pkl', 'data/vrp/scale-1000/Vrp-Set-Li-n961.pkl', 'data/vrp/scale-1000/Vrp-Set-M-n101.pkl', 'data/vrp/scale-1000/Vrp-Set-M-n121.pkl', 'data/vrp/scale-1000/Vrp-Set-M-n151.pkl', 'data/vrp/scale-1000/Vrp-Set-M-n200.pkl', 'data/vrp/scale-1000/Vrp-Set-P-n101.pkl', 'data/vrp/scale-1000/Vrp-Set-P-n16.pkl', 'data/vrp/scale-1000/Vrp-Set-P-n19.pkl', 'data/vrp/scale-1000/Vrp-Set-P-n20.pkl', 'data/vrp/scale-1000/Vrp-Set-P-n21.pkl', 'data/vrp/scale-1000/Vrp-Set-P-n22.pkl', 'data/vrp/scale-1000/Vrp-Set-P-n23.pkl', 'data/vrp/scale-1000/Vrp-Set-P-n40.pkl', 'data/vrp/scale-1000/Vrp-Set-P-n45.pkl', 'data/vrp/scale-1000/Vrp-Set-P-n50.pkl', 'data/vrp/scale-1000/Vrp-Set-P-n51.pkl', 'data/vrp/scale-1000/Vrp-Set-P-n55.pkl', 'data/vrp/scale-1000/Vrp-Set-P-n60.pkl', 'data/vrp/scale-1000/Vrp-Set-P-n65.pkl', 'data/vrp/scale-1000/Vrp-Set-P-n70.pkl', 'data/vrp/scale-1000/Vrp-Set-P-n76.pkl', 'data/vrp/scale-1000/Vrp-Set-X-n1001.pkl', 'data/vrp/scale-1000/Vrp-Set-X-n101.pkl', 'data/vrp/scale-1000/Vrp-Set-X-n106.pkl', 'data/vrp/scale-1000/Vrp-Set-X-n110.pkl', 'data/vrp/scale-1000/Vrp-Set-X-n115.pkl', 'data/vrp/scale-1000/Vrp-Set-X-n120.pkl', 'data/vrp/scale-1000/Vrp-Set-X-n125.pkl', 'data/vrp/scale-1000/Vrp-Set-X-n129.pkl', 'data/vrp/scale-1000/Vrp-Set-X-n134.pkl', 'data/vrp/scale-1000/Vrp-Set-X-n139.pkl', 'data/vrp/scale-1000/Vrp-Set-X-n143.pkl', 'data/vrp/scale-1000/Vrp-Set-X-n148.pkl', 'data/vrp/scale-1000/Vrp-Set-X-n153.pkl', 'data/vrp/scale-1000/Vrp-Set-X-n157.pkl', 'data/vrp/scale-1000/Vrp-Set-X-n162.pkl', 'data/vrp/scale-1000/Vrp-Set-X-n167.pkl', 'data/vrp/scale-1000/Vrp-Set-X-n172.pkl', 'data/vrp/scale-1000/Vrp-Set-X-n176.pkl', 'data/vrp/scale-1000/Vrp-Set-X-n181.pkl', 'data/vrp/scale-1000/Vrp-Set-X-n186.pkl', 'data/vrp/scale-1000/Vrp-Set-X-n190.pkl', 'data/vrp/scale-1000/Vrp-Set-X-n195.pkl', 'data/vrp/scale-1000/Vrp-Set-X-n200.pkl', 'data/vrp/scale-1000/Vrp-Set-X-n204.pkl', 'data/vrp/scale-1000/Vrp-Set-X-n209.pkl', 'data/vrp/scale-1000/Vrp-Set-X-n214.pkl', 'data/vrp/scale-1000/Vrp-Set-X-n219.pkl', 'data/vrp/scale-1000/Vrp-Set-X-n223.pkl', 'data/vrp/scale-1000/Vrp-Set-X-n228.pkl', 'data/vrp/scale-1000/Vrp-Set-X-n233.pkl', 'data/vrp/scale-1000/Vrp-Set-X-n237.pkl', 'data/vrp/scale-1000/Vrp-Set-X-n242.pkl', 'data/vrp/scale-1000/Vrp-Set-X-n247.pkl', 'data/vrp/scale-1000/Vrp-Set-X-n251.pkl', 'data/vrp/scale-1000/Vrp-Set-X-n256.pkl', 'data/vrp/scale-1000/Vrp-Set-X-n261.pkl', 'data/vrp/scale-1000/Vrp-Set-X-n266.pkl', 'data/vrp/scale-1000/Vrp-Set-X-n270.pkl', 'data/vrp/scale-1000/Vrp-Set-X-n275.pkl', 'data/vrp/scale-1000/Vrp-Set-X-n280.pkl', 'data/vrp/scale-1000/Vrp-Set-X-n284.pkl', 'data/vrp/scale-1000/Vrp-Set-X-n289.pkl', 'data/vrp/scale-1000/Vrp-Set-X-n294.pkl', 'data/vrp/scale-1000/Vrp-Set-X-n298.pkl', 'data/vrp/scale-1000/Vrp-Set-X-n303.pkl', 'data/vrp/scale-1000/Vrp-Set-X-n308.pkl', 'data/vrp/scale-1000/Vrp-Set-X-n313.pkl', 'data/vrp/scale-1000/Vrp-Set-X-n317.pkl', 'data/vrp/scale-1000/Vrp-Set-X-n322.pkl', 'data/vrp/scale-1000/Vrp-Set-X-n327.pkl', 'data/vrp/scale-1000/Vrp-Set-X-n331.pkl', 'data/vrp/scale-1000/Vrp-Set-X-n336.pkl', 'data/vrp/scale-1000/Vrp-Set-X-n344.pkl', 'data/vrp/scale-1000/Vrp-Set-X-n351.pkl', 'data/vrp/scale-1000/Vrp-Set-X-n359.pkl', 'data/vrp/scale-1000/Vrp-Set-X-n367.pkl', 'data/vrp/scale-1000/Vrp-Set-X-n376.pkl', 'data/vrp/scale-1000/Vrp-Set-X-n384.pkl', 'data/vrp/scale-1000/Vrp-Set-X-n393.pkl', 'data/vrp/scale-1000/Vrp-Set-X-n401.pkl', 'data/vrp/scale-1000/Vrp-Set-X-n411.pkl', 'data/vrp/scale-1000/Vrp-Set-X-n420.pkl', 'data/vrp/scale-1000/Vrp-Set-X-n429.pkl', 'data/vrp/scale-1000/Vrp-Set-X-n439.pkl', 'data/vrp/scale-1000/Vrp-Set-X-n449.pkl', 'data/vrp/scale-1000/Vrp-Set-X-n459.pkl', 'data/vrp/scale-1000/Vrp-Set-X-n469.pkl', 'data/vrp/scale-1000/Vrp-Set-X-n480.pkl', 'data/vrp/scale-1000/Vrp-Set-X-n491.pkl', 'data/vrp/scale-1000/Vrp-Set-X-n502.pkl', 'data/vrp/scale-1000/Vrp-Set-X-n513.pkl', 'data/vrp/scale-1000/Vrp-Set-X-n524.pkl', 'data/vrp/scale-1000/Vrp-Set-X-n536.pkl', 'data/vrp/scale-1000/Vrp-Set-X-n548.pkl', 'data/vrp/scale-1000/Vrp-Set-X-n561.pkl', 'data/vrp/scale-1000/Vrp-Set-X-n573.pkl', 'data/vrp/scale-1000/Vrp-Set-X-n586.pkl', 'data/vrp/scale-1000/Vrp-Set-X-n599.pkl', 'data/vrp/scale-1000/Vrp-Set-X-n613.pkl', 'data/vrp/scale-1000/Vrp-Set-X-n627.pkl', 'data/vrp/scale-1000/Vrp-Set-X-n641.pkl', 'data/vrp/scale-1000/Vrp-Set-X-n655.pkl', 'data/vrp/scale-1000/Vrp-Set-X-n670.pkl', 'data/vrp/scale-1000/Vrp-Set-X-n685.pkl', 'data/vrp/scale-1000/Vrp-Set-X-n701.pkl', 'data/vrp/scale-1000/Vrp-Set-X-n716.pkl', 'data/vrp/scale-1000/Vrp-Set-X-n733.pkl', 'data/vrp/scale-1000/Vrp-Set-X-n749.pkl', 'data/vrp/scale-1000/Vrp-Set-X-n766.pkl', 'data/vrp/scale-1000/Vrp-Set-X-n783.pkl', 'data/vrp/scale-1000/Vrp-Set-X-n801.pkl', 'data/vrp/scale-1000/Vrp-Set-X-n819.pkl', 'data/vrp/scale-1000/Vrp-Set-X-n837.pkl', 'data/vrp/scale-1000/Vrp-Set-X-n856.pkl', 'data/vrp/scale-1000/Vrp-Set-X-n876.pkl', 'data/vrp/scale-1000/Vrp-Set-X-n895.pkl', 'data/vrp/scale-1000/Vrp-Set-X-n916.pkl', 'data/vrp/scale-1000/Vrp-Set-X-n936.pkl', 'data/vrp/scale-1000/Vrp-Set-X-n957.pkl', 'data/vrp/scale-1000/Vrp-Set-X-n979.pkl', 'data/vrp/scale-1000/Vrp-Set-XXL-n10001.pkl', 'data/vrp/scale-1000/Vrp-Set-XXL-n11001.pkl', 'data/vrp/scale-1000/Vrp-Set-XXL-n15001.pkl', 'data/vrp/scale-1000/Vrp-Set-XXL-n16001.pkl', 'data/vrp/scale-1000/Vrp-Set-XXL-n20001.pkl', 'data/vrp/scale-1000/Vrp-Set-XXL-n30001.pkl', 'data/vrp/scale-1000/Vrp-Set-XXL-n3001.pkl', 'data/vrp/scale-1000/Vrp-Set-XXL-n4001.pkl', 'data/vrp/scale-1000/Vrp-Set-XXL-n6001.pkl', 'data/vrp/scale-1000/Vrp-Set-XXL-n7001.pkl', 'data/vrp/scale-1000/Vrp-Set-tai-n101.pkl', 'data/vrp/scale-1000/Vrp-Set-tai-n151.pkl', 'data/vrp/scale-1000/Vrp-Set-tai-n386.pkl', 'data/vrp/scale-1000/Vrp-Set-tai-n76.pkl']\n"
     ]
    }
   ],
   "source": [
    "test_path='data/vrp/scale-1000'\n",
    "path_list=[]\n",
    "\n",
    "path_list=[os.path.join(test_path, f) for f in sorted(os.listdir(test_path))] \\\n",
    "    if os.path.isdir(test_path) else [test_path]\n",
    "print(path_list)"
   ]
  },
  {
   "cell_type": "code",
   "execution_count": 4,
   "metadata": {},
   "outputs": [
    {
     "name": "stdout",
     "output_type": "stream",
     "text": [
      "  [*] Loading model from outputs/cvrp_100/cvrp100_rollout/epoch-99.pt\n"
     ]
    },
    {
     "name": "stderr",
     "output_type": "stream",
     "text": [
      "100%|██████████| 1/1 [00:01<00:00,  1.76s/it]\n"
     ]
    },
    {
     "name": "stdout",
     "output_type": "stream",
     "text": [
      "Average cost: 1.2398748397827148 +- 0.0\n",
      "Average serial duration: 1.7536466121673584 +- 0.0\n",
      "Average parallel duration: 0.001712545519694686\n",
      "Calculated total duration: 0:00:00\n",
      "baseline on \" data/vrp/scale-1000/Vrp-Set-A-n32.pkl \" Success\n",
      "  [*] Loading model from outputs/cvrp_100/cvrp100_rollout/epoch-99.pt\n"
     ]
    },
    {
     "name": "stderr",
     "output_type": "stream",
     "text": [
      "100%|██████████| 1/1 [00:01<00:00,  1.72s/it]\n"
     ]
    },
    {
     "name": "stdout",
     "output_type": "stream",
     "text": [
      "Average cost: 1.0810000896453857 +- 0.10406512083303654\n",
      "Average serial duration: 1.7125301361083984 +- 0.0\n",
      "Average parallel duration: 0.0016723927110433578\n",
      "Calculated total duration: 0:00:00\n",
      "baseline on \" data/vrp/scale-1000/Vrp-Set-A-n33.pkl \" Success\n",
      "  [*] Loading model from outputs/cvrp_100/cvrp100_rollout/epoch-99.pt\n"
     ]
    },
    {
     "name": "stderr",
     "output_type": "stream",
     "text": [
      "100%|██████████| 1/1 [00:01<00:00,  1.79s/it]\n"
     ]
    },
    {
     "name": "stdout",
     "output_type": "stream",
     "text": [
      "Average cost: 1.35224449634552 +- 0.0\n",
      "Average serial duration: 1.7841482162475586 +- 0.0\n",
      "Average parallel duration: 0.0017423322424292564\n",
      "Calculated total duration: 0:00:00\n",
      "baseline on \" data/vrp/scale-1000/Vrp-Set-A-n34.pkl \" Success\n",
      "  [*] Loading model from outputs/cvrp_100/cvrp100_rollout/epoch-99.pt\n"
     ]
    },
    {
     "name": "stderr",
     "output_type": "stream",
     "text": [
      "100%|██████████| 1/1 [00:01<00:00,  1.54s/it]\n"
     ]
    },
    {
     "name": "stdout",
     "output_type": "stream",
     "text": [
      "Average cost: 1.570131540298462 +- 0.0\n",
      "Average serial duration: 1.5378777980804443 +- 0.0\n",
      "Average parallel duration: 0.001501833787187934\n",
      "Calculated total duration: 0:00:00\n",
      "baseline on \" data/vrp/scale-1000/Vrp-Set-A-n36.pkl \" Success\n",
      "  [*] Loading model from outputs/cvrp_100/cvrp100_rollout/epoch-99.pt\n"
     ]
    },
    {
     "name": "stderr",
     "output_type": "stream",
     "text": [
      "100%|██████████| 1/1 [00:01<00:00,  1.69s/it]\n"
     ]
    },
    {
     "name": "stdout",
     "output_type": "stream",
     "text": [
      "Average cost: 1.5497887134552002 +- 0.35058018331192126\n",
      "Average serial duration: 1.6858739852905273 +- 0.0\n",
      "Average parallel duration: 0.0016463613137602806\n",
      "Calculated total duration: 0:00:00\n",
      "baseline on \" data/vrp/scale-1000/Vrp-Set-A-n37.pkl \" Success\n",
      "  [*] Loading model from outputs/cvrp_100/cvrp100_rollout/epoch-99.pt\n"
     ]
    },
    {
     "name": "stderr",
     "output_type": "stream",
     "text": [
      "100%|██████████| 1/1 [00:01<00:00,  1.62s/it]\n"
     ]
    },
    {
     "name": "stdout",
     "output_type": "stream",
     "text": [
      "Average cost: 1.4600576162338257 +- 0.0\n",
      "Average serial duration: 1.620729684829712 +- 0.0\n",
      "Average parallel duration: 0.0015827438328415155\n",
      "Calculated total duration: 0:00:00\n",
      "baseline on \" data/vrp/scale-1000/Vrp-Set-A-n38.pkl \" Success\n",
      "  [*] Loading model from outputs/cvrp_100/cvrp100_rollout/epoch-99.pt\n"
     ]
    },
    {
     "name": "stderr",
     "output_type": "stream",
     "text": [
      "100%|██████████| 1/1 [00:01<00:00,  1.67s/it]\n"
     ]
    },
    {
     "name": "stdout",
     "output_type": "stream",
     "text": [
      "Average cost: 1.4409370422363281 +- 0.12329386182285874\n",
      "Average serial duration: 1.6630628108978271 +- 0.0\n",
      "Average parallel duration: 0.0016240847762674093\n",
      "Calculated total duration: 0:00:00\n",
      "baseline on \" data/vrp/scale-1000/Vrp-Set-A-n39.pkl \" Success\n",
      "  [*] Loading model from outputs/cvrp_100/cvrp100_rollout/epoch-99.pt\n"
     ]
    },
    {
     "name": "stderr",
     "output_type": "stream",
     "text": [
      "100%|██████████| 1/1 [00:01<00:00,  1.71s/it]\n"
     ]
    },
    {
     "name": "stdout",
     "output_type": "stream",
     "text": [
      "Average cost: 1.4230568408966064 +- 0.0\n",
      "Average serial duration: 1.7101917266845703 +- 0.0\n",
      "Average parallel duration: 0.0016701091080904007\n",
      "Calculated total duration: 0:00:00\n",
      "baseline on \" data/vrp/scale-1000/Vrp-Set-A-n44.pkl \" Success\n",
      "  [*] Loading model from outputs/cvrp_100/cvrp100_rollout/epoch-99.pt\n"
     ]
    },
    {
     "name": "stderr",
     "output_type": "stream",
     "text": [
      "100%|██████████| 1/1 [00:01<00:00,  1.69s/it]\n"
     ]
    },
    {
     "name": "stdout",
     "output_type": "stream",
     "text": [
      "Average cost: 1.4518237113952637 +- 0.01695061953411136\n",
      "Average serial duration: 1.690840244293213 +- 0.0\n",
      "Average parallel duration: 0.0016512111760675907\n",
      "Calculated total duration: 0:00:00\n",
      "baseline on \" data/vrp/scale-1000/Vrp-Set-A-n45.pkl \" Success\n",
      "  [*] Loading model from outputs/cvrp_100/cvrp100_rollout/epoch-99.pt\n"
     ]
    },
    {
     "name": "stderr",
     "output_type": "stream",
     "text": [
      "100%|██████████| 1/1 [00:01<00:00,  1.71s/it]\n"
     ]
    },
    {
     "name": "stdout",
     "output_type": "stream",
     "text": [
      "Average cost: 1.5838806629180908 +- 0.0\n",
      "Average serial duration: 1.7070133686065674 +- 0.0\n",
      "Average parallel duration: 0.001667005242779851\n",
      "Calculated total duration: 0:00:00\n",
      "baseline on \" data/vrp/scale-1000/Vrp-Set-A-n46.pkl \" Success\n",
      "  [*] Loading model from outputs/cvrp_100/cvrp100_rollout/epoch-99.pt\n"
     ]
    },
    {
     "name": "stderr",
     "output_type": "stream",
     "text": [
      "100%|██████████| 1/1 [00:01<00:00,  1.72s/it]\n"
     ]
    },
    {
     "name": "stdout",
     "output_type": "stream",
     "text": [
      "Average cost: 2.4876208305358887 +- 0.0\n",
      "Average serial duration: 1.7131881713867188 +- 0.0\n",
      "Average parallel duration: 0.0016730353236198425\n",
      "Calculated total duration: 0:00:00\n",
      "baseline on \" data/vrp/scale-1000/Vrp-Set-A-n48.pkl \" Success\n",
      "  [*] Loading model from outputs/cvrp_100/cvrp100_rollout/epoch-99.pt\n"
     ]
    },
    {
     "name": "stderr",
     "output_type": "stream",
     "text": [
      "100%|██████████| 1/1 [00:01<00:00,  1.73s/it]\n"
     ]
    },
    {
     "name": "stdout",
     "output_type": "stream",
     "text": [
      "Average cost: 1.6698017120361328 +- 0.0\n",
      "Average serial duration: 1.7250323295593262 +- 0.0\n",
      "Average parallel duration: 0.0016846018843352795\n",
      "Calculated total duration: 0:00:00\n",
      "baseline on \" data/vrp/scale-1000/Vrp-Set-A-n53.pkl \" Success\n",
      "  [*] Loading model from outputs/cvrp_100/cvrp100_rollout/epoch-99.pt\n"
     ]
    },
    {
     "name": "stderr",
     "output_type": "stream",
     "text": [
      "100%|██████████| 1/1 [00:01<00:00,  1.80s/it]\n"
     ]
    },
    {
     "name": "stdout",
     "output_type": "stream",
     "text": [
      "Average cost: 4.978255748748779 +- 0.0\n",
      "Average serial duration: 1.7965834140777588 +- 0.0\n",
      "Average parallel duration: 0.0017544759903103113\n",
      "Calculated total duration: 0:00:00\n",
      "baseline on \" data/vrp/scale-1000/Vrp-Set-A-n54.pkl \" Success\n",
      "  [*] Loading model from outputs/cvrp_100/cvrp100_rollout/epoch-99.pt\n"
     ]
    },
    {
     "name": "stderr",
     "output_type": "stream",
     "text": [
      "100%|██████████| 1/1 [00:01<00:00,  1.73s/it]\n"
     ]
    },
    {
     "name": "stdout",
     "output_type": "stream",
     "text": [
      "Average cost: 1.8840097188949585 +- 0.0\n",
      "Average serial duration: 1.7244510650634766 +- 0.0\n",
      "Average parallel duration: 0.0016840342432260513\n",
      "Calculated total duration: 0:00:00\n",
      "baseline on \" data/vrp/scale-1000/Vrp-Set-A-n55.pkl \" Success\n",
      "  [*] Loading model from outputs/cvrp_100/cvrp100_rollout/epoch-99.pt\n"
     ]
    },
    {
     "name": "stderr",
     "output_type": "stream",
     "text": [
      "100%|██████████| 1/1 [00:01<00:00,  1.69s/it]\n"
     ]
    },
    {
     "name": "stdout",
     "output_type": "stream",
     "text": [
      "Average cost: 1.9917454719543457 +- 0.0\n",
      "Average serial duration: 1.6899166107177734 +- 0.0\n",
      "Average parallel duration: 0.0016503091901540756\n",
      "Calculated total duration: 0:00:00\n",
      "baseline on \" data/vrp/scale-1000/Vrp-Set-A-n60.pkl \" Success\n",
      "  [*] Loading model from outputs/cvrp_100/cvrp100_rollout/epoch-99.pt\n"
     ]
    },
    {
     "name": "stderr",
     "output_type": "stream",
     "text": [
      "100%|██████████| 1/1 [00:01<00:00,  1.80s/it]\n"
     ]
    },
    {
     "name": "stdout",
     "output_type": "stream",
     "text": [
      "Average cost: 2.4286153316497803 +- 0.0\n",
      "Average serial duration: 1.7908120155334473 +- 0.0\n",
      "Average parallel duration: 0.001748839858919382\n",
      "Calculated total duration: 0:00:00\n",
      "baseline on \" data/vrp/scale-1000/Vrp-Set-A-n61.pkl \" Success\n",
      "  [*] Loading model from outputs/cvrp_100/cvrp100_rollout/epoch-99.pt\n"
     ]
    },
    {
     "name": "stderr",
     "output_type": "stream",
     "text": [
      "100%|██████████| 1/1 [00:01<00:00,  1.81s/it]\n"
     ]
    },
    {
     "name": "stdout",
     "output_type": "stream",
     "text": [
      "Average cost: 3.2604856491088867 +- 0.0\n",
      "Average serial duration: 1.8018696308135986 +- 0.0\n",
      "Average parallel duration: 0.001759638311341405\n",
      "Calculated total duration: 0:00:00\n",
      "baseline on \" data/vrp/scale-1000/Vrp-Set-A-n62.pkl \" Success\n",
      "  [*] Loading model from outputs/cvrp_100/cvrp100_rollout/epoch-99.pt\n"
     ]
    },
    {
     "name": "stderr",
     "output_type": "stream",
     "text": [
      "100%|██████████| 1/1 [00:01<00:00,  1.73s/it]\n"
     ]
    },
    {
     "name": "stdout",
     "output_type": "stream",
     "text": [
      "Average cost: 2.479250907897949 +- 0.2733801380693047\n",
      "Average serial duration: 1.7265675067901611 +- 0.0\n",
      "Average parallel duration: 0.0016861010808497667\n",
      "Calculated total duration: 0:00:00\n",
      "baseline on \" data/vrp/scale-1000/Vrp-Set-A-n63.pkl \" Success\n",
      "  [*] Loading model from outputs/cvrp_100/cvrp100_rollout/epoch-99.pt\n"
     ]
    },
    {
     "name": "stderr",
     "output_type": "stream",
     "text": [
      "100%|██████████| 1/1 [00:01<00:00,  1.77s/it]\n"
     ]
    },
    {
     "name": "stdout",
     "output_type": "stream",
     "text": [
      "Average cost: 3.6802256107330322 +- 0.0\n",
      "Average serial duration: 1.7629177570343018 +- 0.0\n",
      "Average parallel duration: 0.0017215993721038103\n",
      "Calculated total duration: 0:00:00\n",
      "baseline on \" data/vrp/scale-1000/Vrp-Set-A-n64.pkl \" Success\n",
      "  [*] Loading model from outputs/cvrp_100/cvrp100_rollout/epoch-99.pt\n"
     ]
    },
    {
     "name": "stderr",
     "output_type": "stream",
     "text": [
      "100%|██████████| 1/1 [00:01<00:00,  1.74s/it]\n"
     ]
    },
    {
     "name": "stdout",
     "output_type": "stream",
     "text": [
      "Average cost: 2.421131134033203 +- 0.0\n",
      "Average serial duration: 1.7359397411346436 +- 0.0\n",
      "Average parallel duration: 0.0016952536534518003\n",
      "Calculated total duration: 0:00:00\n",
      "baseline on \" data/vrp/scale-1000/Vrp-Set-A-n65.pkl \" Success\n",
      "  [*] Loading model from outputs/cvrp_100/cvrp100_rollout/epoch-99.pt\n"
     ]
    },
    {
     "name": "stderr",
     "output_type": "stream",
     "text": [
      "100%|██████████| 1/1 [00:01<00:00,  1.79s/it]\n"
     ]
    },
    {
     "name": "stdout",
     "output_type": "stream",
     "text": [
      "Average cost: 3.049971342086792 +- 0.0\n",
      "Average serial duration: 1.7883834838867188 +- 0.0\n",
      "Average parallel duration: 0.0017464682459831238\n",
      "Calculated total duration: 0:00:00\n",
      "baseline on \" data/vrp/scale-1000/Vrp-Set-A-n69.pkl \" Success\n",
      "  [*] Loading model from outputs/cvrp_100/cvrp100_rollout/epoch-99.pt\n"
     ]
    },
    {
     "name": "stderr",
     "output_type": "stream",
     "text": [
      "100%|██████████| 1/1 [00:01<00:00,  1.77s/it]\n"
     ]
    },
    {
     "name": "stdout",
     "output_type": "stream",
     "text": [
      "Average cost: 2.584153413772583 +- 0.0\n",
      "Average serial duration: 1.7659413814544678 +- 0.0\n",
      "Average parallel duration: 0.0017245521303266287\n",
      "Calculated total duration: 0:00:00\n",
      "baseline on \" data/vrp/scale-1000/Vrp-Set-A-n80.pkl \" Success\n",
      "  [*] Loading model from outputs/cvrp_100/cvrp100_rollout/epoch-99.pt\n"
     ]
    },
    {
     "name": "stderr",
     "output_type": "stream",
     "text": [
      "100%|██████████| 1/1 [00:01<00:00,  1.61s/it]\n"
     ]
    },
    {
     "name": "stdout",
     "output_type": "stream",
     "text": [
      "Average cost: 0.8849744200706482 +- 0.0\n",
      "Average serial duration: 1.6092734336853027 +- 0.0\n",
      "Average parallel duration: 0.0015715560875833035\n",
      "Calculated total duration: 0:00:00\n",
      "baseline on \" data/vrp/scale-1000/Vrp-Set-B-n31.pkl \" Success\n",
      "  [*] Loading model from outputs/cvrp_100/cvrp100_rollout/epoch-99.pt\n"
     ]
    },
    {
     "name": "stderr",
     "output_type": "stream",
     "text": [
      "100%|██████████| 1/1 [00:01<00:00,  1.64s/it]\n"
     ]
    },
    {
     "name": "stdout",
     "output_type": "stream",
     "text": [
      "Average cost: 1.1477572917938232 +- 0.0\n",
      "Average serial duration: 1.6318726539611816 +- 0.0\n",
      "Average parallel duration: 0.0015936256386339664\n",
      "Calculated total duration: 0:00:00\n",
      "baseline on \" data/vrp/scale-1000/Vrp-Set-B-n34.pkl \" Success\n",
      "  [*] Loading model from outputs/cvrp_100/cvrp100_rollout/epoch-99.pt\n"
     ]
    },
    {
     "name": "stderr",
     "output_type": "stream",
     "text": [
      "100%|██████████| 1/1 [00:01<00:00,  1.84s/it]\n"
     ]
    },
    {
     "name": "stdout",
     "output_type": "stream",
     "text": [
      "Average cost: 1.3710565567016602 +- 0.0\n",
      "Average serial duration: 1.8352699279785156 +- 0.0\n",
      "Average parallel duration: 0.0017922557890415192\n",
      "Calculated total duration: 0:00:00\n",
      "baseline on \" data/vrp/scale-1000/Vrp-Set-B-n35.pkl \" Success\n",
      "  [*] Loading model from outputs/cvrp_100/cvrp100_rollout/epoch-99.pt\n"
     ]
    },
    {
     "name": "stderr",
     "output_type": "stream",
     "text": [
      "100%|██████████| 1/1 [00:01<00:00,  1.87s/it]\n"
     ]
    },
    {
     "name": "stdout",
     "output_type": "stream",
     "text": [
      "Average cost: 1.2197020053863525 +- 0.0\n",
      "Average serial duration: 1.8663570880889893 +- 0.0\n",
      "Average parallel duration: 0.0018226143438369036\n",
      "Calculated total duration: 0:00:00\n",
      "baseline on \" data/vrp/scale-1000/Vrp-Set-B-n38.pkl \" Success\n",
      "  [*] Loading model from outputs/cvrp_100/cvrp100_rollout/epoch-99.pt\n"
     ]
    },
    {
     "name": "stderr",
     "output_type": "stream",
     "text": [
      "100%|██████████| 1/1 [00:01<00:00,  1.67s/it]\n"
     ]
    },
    {
     "name": "stdout",
     "output_type": "stream",
     "text": [
      "Average cost: 1.0451440811157227 +- 0.0\n",
      "Average serial duration: 1.6623430252075195 +- 0.0\n",
      "Average parallel duration: 0.0016233818605542183\n",
      "Calculated total duration: 0:00:00\n",
      "baseline on \" data/vrp/scale-1000/Vrp-Set-B-n39.pkl \" Success\n",
      "  [*] Loading model from outputs/cvrp_100/cvrp100_rollout/epoch-99.pt\n"
     ]
    },
    {
     "name": "stderr",
     "output_type": "stream",
     "text": [
      "100%|██████████| 1/1 [00:01<00:00,  1.71s/it]\n"
     ]
    },
    {
     "name": "stdout",
     "output_type": "stream",
     "text": [
      "Average cost: 1.3992635011672974 +- 0.0\n",
      "Average serial duration: 1.704103708267212 +- 0.0\n",
      "Average parallel duration: 0.0016641637776046991\n",
      "Calculated total duration: 0:00:00\n",
      "baseline on \" data/vrp/scale-1000/Vrp-Set-B-n41.pkl \" Success\n",
      "  [*] Loading model from outputs/cvrp_100/cvrp100_rollout/epoch-99.pt\n"
     ]
    },
    {
     "name": "stderr",
     "output_type": "stream",
     "text": [
      "100%|██████████| 1/1 [00:01<00:00,  1.65s/it]\n"
     ]
    },
    {
     "name": "stdout",
     "output_type": "stream",
     "text": [
      "Average cost: 2.067575216293335 +- 0.0\n",
      "Average serial duration: 1.6521360874176025 +- 0.0\n",
      "Average parallel duration: 0.0016134141478687525\n",
      "Calculated total duration: 0:00:00\n",
      "baseline on \" data/vrp/scale-1000/Vrp-Set-B-n43.pkl \" Success\n",
      "  [*] Loading model from outputs/cvrp_100/cvrp100_rollout/epoch-99.pt\n"
     ]
    },
    {
     "name": "stderr",
     "output_type": "stream",
     "text": [
      "100%|██████████| 1/1 [00:01<00:00,  1.85s/it]\n"
     ]
    },
    {
     "name": "stdout",
     "output_type": "stream",
     "text": [
      "Average cost: 1.3929857015609741 +- 0.0\n",
      "Average serial duration: 1.848320722579956 +- 0.0\n",
      "Average parallel duration: 0.0018050007056444883\n",
      "Calculated total duration: 0:00:00\n",
      "baseline on \" data/vrp/scale-1000/Vrp-Set-B-n44.pkl \" Success\n",
      "  [*] Loading model from outputs/cvrp_100/cvrp100_rollout/epoch-99.pt\n"
     ]
    },
    {
     "name": "stderr",
     "output_type": "stream",
     "text": [
      "100%|██████████| 1/1 [00:01<00:00,  1.90s/it]\n"
     ]
    },
    {
     "name": "stdout",
     "output_type": "stream",
     "text": [
      "Average cost: 1.7970812320709229 +- 0.7861350724238696\n",
      "Average serial duration: 1.895432472229004 +- 0.0\n",
      "Average parallel duration: 0.0018510082736611366\n",
      "Calculated total duration: 0:00:00\n",
      "baseline on \" data/vrp/scale-1000/Vrp-Set-B-n45.pkl \" Success\n",
      "  [*] Loading model from outputs/cvrp_100/cvrp100_rollout/epoch-99.pt\n"
     ]
    },
    {
     "name": "stderr",
     "output_type": "stream",
     "text": [
      "100%|██████████| 1/1 [00:01<00:00,  1.90s/it]\n"
     ]
    },
    {
     "name": "stdout",
     "output_type": "stream",
     "text": [
      "Average cost: 1.7031761407852173 +- 0.39733047920456915\n",
      "Average serial duration: 1.8926994800567627 +- 0.0\n",
      "Average parallel duration: 0.0018483393359929323\n",
      "Calculated total duration: 0:00:00\n",
      "baseline on \" data/vrp/scale-1000/Vrp-Set-B-n50.pkl \" Success\n",
      "  [*] Loading model from outputs/cvrp_100/cvrp100_rollout/epoch-99.pt\n"
     ]
    },
    {
     "name": "stderr",
     "output_type": "stream",
     "text": [
      "100%|██████████| 1/1 [00:01<00:00,  1.72s/it]\n"
     ]
    },
    {
     "name": "stdout",
     "output_type": "stream",
     "text": [
      "Average cost: 2.0529544353485107 +- 0.0\n",
      "Average serial duration: 1.7069742679595947 +- 0.0\n",
      "Average parallel duration: 0.0016669670585542917\n",
      "Calculated total duration: 0:00:00\n",
      "baseline on \" data/vrp/scale-1000/Vrp-Set-B-n51.pkl \" Success\n",
      "  [*] Loading model from outputs/cvrp_100/cvrp100_rollout/epoch-99.pt\n"
     ]
    },
    {
     "name": "stderr",
     "output_type": "stream",
     "text": [
      "100%|██████████| 1/1 [00:01<00:00,  1.78s/it]\n"
     ]
    },
    {
     "name": "stdout",
     "output_type": "stream",
     "text": [
      "Average cost: 2.899294376373291 +- 0.0\n",
      "Average serial duration: 1.7743003368377686 +- 0.0\n",
      "Average parallel duration: 0.0017327151726931334\n",
      "Calculated total duration: 0:00:00\n",
      "baseline on \" data/vrp/scale-1000/Vrp-Set-B-n52.pkl \" Success\n",
      "  [*] Loading model from outputs/cvrp_100/cvrp100_rollout/epoch-99.pt\n"
     ]
    },
    {
     "name": "stderr",
     "output_type": "stream",
     "text": [
      "100%|██████████| 1/1 [00:01<00:00,  1.87s/it]\n"
     ]
    },
    {
     "name": "stdout",
     "output_type": "stream",
     "text": [
      "Average cost: 1.4132791757583618 +- 0.0\n",
      "Average serial duration: 1.8607938289642334 +- 0.0\n",
      "Average parallel duration: 0.0018171814735978842\n",
      "Calculated total duration: 0:00:00\n",
      "baseline on \" data/vrp/scale-1000/Vrp-Set-B-n56.pkl \" Success\n",
      "  [*] Loading model from outputs/cvrp_100/cvrp100_rollout/epoch-99.pt\n"
     ]
    },
    {
     "name": "stderr",
     "output_type": "stream",
     "text": [
      "100%|██████████| 1/1 [00:01<00:00,  1.73s/it]\n"
     ]
    },
    {
     "name": "stdout",
     "output_type": "stream",
     "text": [
      "Average cost: 2.6673970222473145 +- 1.0769404878352153\n",
      "Average serial duration: 1.717583179473877 +- 0.0\n",
      "Average parallel duration: 0.001677327323704958\n",
      "Calculated total duration: 0:00:00\n",
      "baseline on \" data/vrp/scale-1000/Vrp-Set-B-n57.pkl \" Success\n",
      "  [*] Loading model from outputs/cvrp_100/cvrp100_rollout/epoch-99.pt\n"
     ]
    },
    {
     "name": "stderr",
     "output_type": "stream",
     "text": [
      "100%|██████████| 1/1 [00:01<00:00,  1.72s/it]\n"
     ]
    },
    {
     "name": "stdout",
     "output_type": "stream",
     "text": [
      "Average cost: 2.220266103744507 +- 0.0\n",
      "Average serial duration: 1.7142524719238281 +- 0.0\n",
      "Average parallel duration: 0.0016740746796131134\n",
      "Calculated total duration: 0:00:00\n",
      "baseline on \" data/vrp/scale-1000/Vrp-Set-B-n63.pkl \" Success\n",
      "  [*] Loading model from outputs/cvrp_100/cvrp100_rollout/epoch-99.pt\n"
     ]
    },
    {
     "name": "stderr",
     "output_type": "stream",
     "text": [
      "100%|██████████| 1/1 [00:01<00:00,  1.79s/it]\n"
     ]
    },
    {
     "name": "stdout",
     "output_type": "stream",
     "text": [
      "Average cost: 2.094120740890503 +- 0.0\n",
      "Average serial duration: 1.7841029167175293 +- 0.0\n",
      "Average parallel duration: 0.0017422880046069622\n",
      "Calculated total duration: 0:00:00\n",
      "baseline on \" data/vrp/scale-1000/Vrp-Set-B-n64.pkl \" Success\n",
      "  [*] Loading model from outputs/cvrp_100/cvrp100_rollout/epoch-99.pt\n"
     ]
    },
    {
     "name": "stderr",
     "output_type": "stream",
     "text": [
      "100%|██████████| 1/1 [00:01<00:00,  1.74s/it]\n"
     ]
    },
    {
     "name": "stdout",
     "output_type": "stream",
     "text": [
      "Average cost: 1.9519199132919312 +- 0.0\n",
      "Average serial duration: 1.7396764755249023 +- 0.0\n",
      "Average parallel duration: 0.0016989028081297874\n",
      "Calculated total duration: 0:00:00\n",
      "baseline on \" data/vrp/scale-1000/Vrp-Set-B-n66.pkl \" Success\n",
      "  [*] Loading model from outputs/cvrp_100/cvrp100_rollout/epoch-99.pt\n"
     ]
    },
    {
     "name": "stderr",
     "output_type": "stream",
     "text": [
      "100%|██████████| 1/1 [00:01<00:00,  1.77s/it]\n"
     ]
    },
    {
     "name": "stdout",
     "output_type": "stream",
     "text": [
      "Average cost: 2.1052706241607666 +- 0.0\n",
      "Average serial duration: 1.7649929523468018 +- 0.0\n",
      "Average parallel duration: 0.0017236259300261736\n",
      "Calculated total duration: 0:00:00\n",
      "baseline on \" data/vrp/scale-1000/Vrp-Set-B-n67.pkl \" Success\n",
      "  [*] Loading model from outputs/cvrp_100/cvrp100_rollout/epoch-99.pt\n"
     ]
    },
    {
     "name": "stderr",
     "output_type": "stream",
     "text": [
      "100%|██████████| 1/1 [00:01<00:00,  1.77s/it]\n"
     ]
    },
    {
     "name": "stdout",
     "output_type": "stream",
     "text": [
      "Average cost: 3.1439754962921143 +- 0.0\n",
      "Average serial duration: 1.7680284976959229 +- 0.0\n",
      "Average parallel duration: 0.0017265903297811747\n",
      "Calculated total duration: 0:00:00\n",
      "baseline on \" data/vrp/scale-1000/Vrp-Set-B-n68.pkl \" Success\n",
      "  [*] Loading model from outputs/cvrp_100/cvrp100_rollout/epoch-99.pt\n"
     ]
    },
    {
     "name": "stderr",
     "output_type": "stream",
     "text": [
      "100%|██████████| 1/1 [00:01<00:00,  1.83s/it]\n"
     ]
    },
    {
     "name": "stdout",
     "output_type": "stream",
     "text": [
      "Average cost: 6.607639312744141 +- 0.0\n",
      "Average serial duration: 1.8306584358215332 +- 0.0\n",
      "Average parallel duration: 0.001787752378731966\n",
      "Calculated total duration: 0:00:00\n",
      "baseline on \" data/vrp/scale-1000/Vrp-Set-B-n78.pkl \" Success\n",
      "  [*] Loading model from outputs/cvrp_100/cvrp100_rollout/epoch-99.pt\n"
     ]
    },
    {
     "name": "stderr",
     "output_type": "stream",
     "text": [
      "100%|██████████| 1/1 [00:02<00:00,  2.05s/it]\n"
     ]
    },
    {
     "name": "stdout",
     "output_type": "stream",
     "text": [
      "Average cost: 2.1003997325897217 +- 0.18074250221252441\n",
      "Average serial duration: 2.045623779296875 +- 0.0\n",
      "Average parallel duration: 0.0019976794719696045\n",
      "Calculated total duration: 0:00:00\n",
      "baseline on \" data/vrp/scale-1000/Vrp-Set-CMT-n101.pkl \" Success\n",
      "  [*] Loading model from outputs/cvrp_100/cvrp100_rollout/epoch-99.pt\n"
     ]
    },
    {
     "name": "stderr",
     "output_type": "stream",
     "text": [
      "100%|██████████| 1/1 [00:01<00:00,  1.88s/it]\n"
     ]
    },
    {
     "name": "stdout",
     "output_type": "stream",
     "text": [
      "Average cost: 2.662288188934326 +- 0.0\n",
      "Average serial duration: 1.8730275630950928 +- 0.0\n",
      "Average parallel duration: 0.0018291284795850515\n",
      "Calculated total duration: 0:00:00\n",
      "baseline on \" data/vrp/scale-1000/Vrp-Set-CMT-n121.pkl \" Success\n",
      "  [*] Loading model from outputs/cvrp_100/cvrp100_rollout/epoch-99.pt\n"
     ]
    },
    {
     "name": "stderr",
     "output_type": "stream",
     "text": [
      "100%|██████████| 1/1 [00:01<00:00,  1.97s/it]\n"
     ]
    },
    {
     "name": "stdout",
     "output_type": "stream",
     "text": [
      "Average cost: 2.751471519470215 +- 0.0\n",
      "Average serial duration: 1.9679083824157715 +- 0.0\n",
      "Average parallel duration: 0.0019217855297029018\n",
      "Calculated total duration: 0:00:00\n",
      "baseline on \" data/vrp/scale-1000/Vrp-Set-CMT-n151.pkl \" Success\n",
      "  [*] Loading model from outputs/cvrp_100/cvrp100_rollout/epoch-99.pt\n"
     ]
    },
    {
     "name": "stderr",
     "output_type": "stream",
     "text": [
      "100%|██████████| 1/1 [00:02<00:00,  2.19s/it]\n"
     ]
    },
    {
     "name": "stdout",
     "output_type": "stream",
     "text": [
      "Average cost: 3.6822669506073 +- 0.0\n",
      "Average serial duration: 2.189990997314453 +- 0.0\n",
      "Average parallel duration: 0.0021386630833148956\n",
      "Calculated total duration: 0:00:00\n",
      "baseline on \" data/vrp/scale-1000/Vrp-Set-CMT-n200.pkl \" Success\n",
      "  [*] Loading model from outputs/cvrp_100/cvrp100_rollout/epoch-99.pt\n"
     ]
    },
    {
     "name": "stderr",
     "output_type": "stream",
     "text": [
      "100%|██████████| 1/1 [00:01<00:00,  1.73s/it]\n"
     ]
    },
    {
     "name": "stdout",
     "output_type": "stream",
     "text": [
      "Average cost: 1.3023744821548462 +- 0.0\n",
      "Average serial duration: 1.7230358123779297 +- 0.0\n",
      "Average parallel duration: 0.001682652160525322\n",
      "Calculated total duration: 0:00:00\n",
      "baseline on \" data/vrp/scale-1000/Vrp-Set-CMT-n51.pkl \" Success\n",
      "  [*] Loading model from outputs/cvrp_100/cvrp100_rollout/epoch-99.pt\n"
     ]
    },
    {
     "name": "stderr",
     "output_type": "stream",
     "text": [
      "100%|██████████| 1/1 [00:01<00:00,  1.88s/it]\n"
     ]
    },
    {
     "name": "stdout",
     "output_type": "stream",
     "text": [
      "Average cost: 2.8742752075195312 +- 0.0\n",
      "Average serial duration: 1.8739371299743652 +- 0.0\n",
      "Average parallel duration: 0.001830016728490591\n",
      "Calculated total duration: 0:00:00\n",
      "baseline on \" data/vrp/scale-1000/Vrp-Set-CMT-n76.pkl \" Success\n",
      "  [*] Loading model from outputs/cvrp_100/cvrp100_rollout/epoch-99.pt\n"
     ]
    },
    {
     "name": "stderr",
     "output_type": "stream",
     "text": [
      "100%|██████████| 1/1 [00:03<00:00,  3.80s/it]\n"
     ]
    },
    {
     "name": "stdout",
     "output_type": "stream",
     "text": [
      "Average cost: 39.17851638793945 +- 0.0\n",
      "Average serial duration: 3.794231653213501 +- 0.0\n",
      "Average parallel duration: 0.0037053043488413095\n",
      "Calculated total duration: 0:00:00\n",
      "baseline on \" data/vrp/scale-1000/Vrp-Set-D-n1001.pkl \" Success\n",
      "  [*] Loading model from outputs/cvrp_100/cvrp100_rollout/epoch-99.pt\n"
     ]
    },
    {
     "name": "stderr",
     "output_type": "stream",
     "text": [
      "100%|██████████| 1/1 [00:02<00:00,  2.35s/it]\n"
     ]
    },
    {
     "name": "stdout",
     "output_type": "stream",
     "text": [
      "Average cost: 19.588531494140625 +- 0.0\n",
      "Average serial duration: 2.348823308944702 +- 0.0\n",
      "Average parallel duration: 0.0022937727626413107\n",
      "Calculated total duration: 0:00:00\n",
      "baseline on \" data/vrp/scale-1000/Vrp-Set-D-n242.pkl \" Success\n",
      "  [*] Loading model from outputs/cvrp_100/cvrp100_rollout/epoch-99.pt\n"
     ]
    },
    {
     "name": "stderr",
     "output_type": "stream",
     "text": [
      "100%|██████████| 1/1 [00:02<00:00,  2.51s/it]\n"
     ]
    },
    {
     "name": "stdout",
     "output_type": "stream",
     "text": [
      "Average cost: 26.602968215942383 +- 0.0\n",
      "Average serial duration: 2.5103037357330322 +- 0.0\n",
      "Average parallel duration: 0.0024514684919267893\n",
      "Calculated total duration: 0:00:00\n",
      "baseline on \" data/vrp/scale-1000/Vrp-Set-D-n323.pkl \" Success\n",
      "  [*] Loading model from outputs/cvrp_100/cvrp100_rollout/epoch-99.pt\n"
     ]
    },
    {
     "name": "stderr",
     "output_type": "stream",
     "text": [
      "100%|██████████| 1/1 [00:02<00:00,  2.76s/it]\n"
     ]
    },
    {
     "name": "stdout",
     "output_type": "stream",
     "text": [
      "Average cost: 46.53156661987305 +- 0.0\n",
      "Average serial duration: 2.7548835277557373 +- 0.0\n",
      "Average parallel duration: 0.002690315945073962\n",
      "Calculated total duration: 0:00:00\n",
      "baseline on \" data/vrp/scale-1000/Vrp-Set-D-n401.pkl \" Success\n",
      "  [*] Loading model from outputs/cvrp_100/cvrp100_rollout/epoch-99.pt\n"
     ]
    },
    {
     "name": "stderr",
     "output_type": "stream",
     "text": [
      "100%|██████████| 1/1 [00:02<00:00,  2.82s/it]\n"
     ]
    },
    {
     "name": "stdout",
     "output_type": "stream",
     "text": [
      "Average cost: 21.561458587646484 +- 0.0\n",
      "Average serial duration: 2.8075547218322754 +- 0.0\n",
      "Average parallel duration: 0.0027417526580393314\n",
      "Calculated total duration: 0:00:00\n",
      "baseline on \" data/vrp/scale-1000/Vrp-Set-D-n405.pkl \" Success\n",
      "  [*] Loading model from outputs/cvrp_100/cvrp100_rollout/epoch-99.pt\n"
     ]
    },
    {
     "name": "stderr",
     "output_type": "stream",
     "text": [
      "100%|██████████| 1/1 [00:02<00:00,  2.87s/it]\n"
     ]
    },
    {
     "name": "stdout",
     "output_type": "stream",
     "text": [
      "Average cost: 24.976116180419922 +- 0.0\n",
      "Average serial duration: 2.8624379634857178 +- 0.0\n",
      "Average parallel duration: 0.0027953495737165213\n",
      "Calculated total duration: 0:00:00\n",
      "baseline on \" data/vrp/scale-1000/Vrp-Set-D-n455.pkl \" Success\n",
      "  [*] Loading model from outputs/cvrp_100/cvrp100_rollout/epoch-99.pt\n"
     ]
    },
    {
     "name": "stderr",
     "output_type": "stream",
     "text": [
      "100%|██████████| 1/1 [00:03<00:00,  3.08s/it]\n"
     ]
    },
    {
     "name": "stdout",
     "output_type": "stream",
     "text": [
      "Average cost: 24.27455711364746 +- 0.0\n",
      "Average serial duration: 3.0754880905151367 +- 0.0\n",
      "Average parallel duration: 0.003003406338393688\n",
      "Calculated total duration: 0:00:00\n",
      "baseline on \" data/vrp/scale-1000/Vrp-Set-D-n501.pkl \" Success\n",
      "  [*] Loading model from outputs/cvrp_100/cvrp100_rollout/epoch-99.pt\n"
     ]
    },
    {
     "name": "stderr",
     "output_type": "stream",
     "text": [
      "100%|██████████| 1/1 [00:03<00:00,  3.03s/it]\n"
     ]
    },
    {
     "name": "stdout",
     "output_type": "stream",
     "text": [
      "Average cost: 35.2293701171875 +- 0.0\n",
      "Average serial duration: 3.025477886199951 +- 0.0\n",
      "Average parallel duration: 0.00295456824824214\n",
      "Calculated total duration: 0:00:00\n",
      "baseline on \" data/vrp/scale-1000/Vrp-Set-D-n510.pkl \" Success\n",
      "  [*] Loading model from outputs/cvrp_100/cvrp100_rollout/epoch-99.pt\n"
     ]
    },
    {
     "name": "stderr",
     "output_type": "stream",
     "text": [
      "100%|██████████| 1/1 [00:03<00:00,  3.26s/it]\n"
     ]
    },
    {
     "name": "stdout",
     "output_type": "stream",
     "text": [
      "Average cost: 30.72258758544922 +- 12.598626319719651\n",
      "Average serial duration: 3.2544045448303223 +- 0.0\n",
      "Average parallel duration: 0.0031781294383108616\n",
      "Calculated total duration: 0:00:00\n",
      "baseline on \" data/vrp/scale-1000/Vrp-Set-D-n601.pkl \" Success\n",
      "  [*] Loading model from outputs/cvrp_100/cvrp100_rollout/epoch-99.pt\n"
     ]
    },
    {
     "name": "stderr",
     "output_type": "stream",
     "text": [
      "100%|██████████| 1/1 [00:03<00:00,  3.69s/it]\n"
     ]
    },
    {
     "name": "stdout",
     "output_type": "stream",
     "text": [
      "Average cost: 48.069576263427734 +- 0.0\n",
      "Average serial duration: 3.689440965652466 +- 0.0\n",
      "Average parallel duration: 0.003602969693019986\n",
      "Calculated total duration: 0:00:00\n",
      "baseline on \" data/vrp/scale-1000/Vrp-Set-D-n701.pkl \" Success\n",
      "  [*] Loading model from outputs/cvrp_100/cvrp100_rollout/epoch-99.pt\n"
     ]
    },
    {
     "name": "stderr",
     "output_type": "stream",
     "text": [
      "100%|██████████| 1/1 [00:04<00:00,  4.49s/it]\n"
     ]
    },
    {
     "name": "stdout",
     "output_type": "stream",
     "text": [
      "Average cost: 45.46327209472656 +- 0.0\n",
      "Average serial duration: 4.479435205459595 +- 0.0\n",
      "Average parallel duration: 0.0043744484428316355\n",
      "Calculated total duration: 0:00:00\n",
      "baseline on \" data/vrp/scale-1000/Vrp-Set-D-n901.pkl \" Success\n",
      "  [*] Loading model from outputs/cvrp_100/cvrp100_rollout/epoch-99.pt\n"
     ]
    },
    {
     "name": "stderr",
     "output_type": "stream",
     "text": [
      "100%|██████████| 1/1 [00:02<00:00,  2.15s/it]\n"
     ]
    },
    {
     "name": "stdout",
     "output_type": "stream",
     "text": [
      "Average cost: 2.9974961280822754 +- 1.5242943871877883\n",
      "Average serial duration: 2.1422464847564697 +- 0.0\n",
      "Average parallel duration: 0.00209203758276999\n",
      "Calculated total duration: 0:00:00\n",
      "baseline on \" data/vrp/scale-1000/Vrp-Set-E-n101.pkl \" Success\n",
      "  [*] Loading model from outputs/cvrp_100/cvrp100_rollout/epoch-99.pt\n"
     ]
    },
    {
     "name": "stderr",
     "output_type": "stream",
     "text": [
      "100%|██████████| 1/1 [00:01<00:00,  1.63s/it]\n"
     ]
    },
    {
     "name": "stdout",
     "output_type": "stream",
     "text": [
      "Average cost: 0.6049320101737976 +- 0.0\n",
      "Average serial duration: 1.622340202331543 +- 0.0\n",
      "Average parallel duration: 0.0015843166038393974\n",
      "Calculated total duration: 0:00:00\n",
      "baseline on \" data/vrp/scale-1000/Vrp-Set-E-n22.pkl \" Success\n",
      "  [*] Loading model from outputs/cvrp_100/cvrp100_rollout/epoch-99.pt\n"
     ]
    },
    {
     "name": "stderr",
     "output_type": "stream",
     "text": [
      "100%|██████████| 1/1 [00:01<00:00,  1.60s/it]\n"
     ]
    },
    {
     "name": "stdout",
     "output_type": "stream",
     "text": [
      "Average cost: 0.9398908615112305 +- 0.0\n",
      "Average serial duration: 1.5942835807800293 +- 0.0\n",
      "Average parallel duration: 0.0015569175593554974\n",
      "Calculated total duration: 0:00:00\n",
      "baseline on \" data/vrp/scale-1000/Vrp-Set-E-n23.pkl \" Success\n",
      "  [*] Loading model from outputs/cvrp_100/cvrp100_rollout/epoch-99.pt\n"
     ]
    },
    {
     "name": "stderr",
     "output_type": "stream",
     "text": [
      "100%|██████████| 1/1 [00:01<00:00,  1.64s/it]\n"
     ]
    },
    {
     "name": "stdout",
     "output_type": "stream",
     "text": [
      "Average cost: 0.7391082048416138 +- 0.0\n",
      "Average serial duration: 1.635444164276123 +- 0.0\n",
      "Average parallel duration: 0.0015971134416759014\n",
      "Calculated total duration: 0:00:00\n",
      "baseline on \" data/vrp/scale-1000/Vrp-Set-E-n30.pkl \" Success\n",
      "  [*] Loading model from outputs/cvrp_100/cvrp100_rollout/epoch-99.pt\n"
     ]
    },
    {
     "name": "stderr",
     "output_type": "stream",
     "text": [
      "100%|██████████| 1/1 [00:01<00:00,  1.65s/it]\n"
     ]
    },
    {
     "name": "stdout",
     "output_type": "stream",
     "text": [
      "Average cost: 1.0820177793502808 +- 0.0\n",
      "Average serial duration: 1.6455891132354736 +- 0.0\n",
      "Average parallel duration: 0.0016070206183940172\n",
      "Calculated total duration: 0:00:00\n",
      "baseline on \" data/vrp/scale-1000/Vrp-Set-E-n33.pkl \" Success\n",
      "  [*] Loading model from outputs/cvrp_100/cvrp100_rollout/epoch-99.pt\n"
     ]
    },
    {
     "name": "stderr",
     "output_type": "stream",
     "text": [
      "100%|██████████| 1/1 [00:01<00:00,  1.70s/it]\n"
     ]
    },
    {
     "name": "stdout",
     "output_type": "stream",
     "text": [
      "Average cost: 1.3023744821548462 +- 0.0\n",
      "Average serial duration: 1.6987509727478027 +- 0.0\n",
      "Average parallel duration: 0.001658936496824026\n",
      "Calculated total duration: 0:00:00\n",
      "baseline on \" data/vrp/scale-1000/Vrp-Set-E-n51.pkl \" Success\n",
      "  [*] Loading model from outputs/cvrp_100/cvrp100_rollout/epoch-99.pt\n"
     ]
    },
    {
     "name": "stderr",
     "output_type": "stream",
     "text": [
      "100%|██████████| 1/1 [00:01<00:00,  1.97s/it]\n"
     ]
    },
    {
     "name": "stdout",
     "output_type": "stream",
     "text": [
      "Average cost: 2.074256181716919 +- 0.48507454991340637\n",
      "Average serial duration: 1.9665422439575195 +- 0.0\n",
      "Average parallel duration: 0.0019204514101147652\n",
      "Calculated total duration: 0:00:00\n",
      "baseline on \" data/vrp/scale-1000/Vrp-Set-E-n76.pkl \" Success\n",
      "  [*] Loading model from outputs/cvrp_100/cvrp100_rollout/epoch-99.pt\n"
     ]
    },
    {
     "name": "stderr",
     "output_type": "stream",
     "text": [
      "100%|██████████| 1/1 [00:01<00:00,  1.94s/it]\n"
     ]
    },
    {
     "name": "stdout",
     "output_type": "stream",
     "text": [
      "Average cost: 2.425776720046997 +- 0.0\n",
      "Average serial duration: 1.9392471313476562 +- 0.0\n",
      "Average parallel duration: 0.0018937960267066956\n",
      "Calculated total duration: 0:00:00\n",
      "baseline on \" data/vrp/scale-1000/Vrp-Set-F-n135.pkl \" Success\n",
      "  [*] Loading model from outputs/cvrp_100/cvrp100_rollout/epoch-99.pt\n"
     ]
    },
    {
     "name": "stderr",
     "output_type": "stream",
     "text": [
      "100%|██████████| 1/1 [00:01<00:00,  1.67s/it]\n"
     ]
    },
    {
     "name": "stdout",
     "output_type": "stream",
     "text": [
      "Average cost: 1.3207632303237915 +- 0.0\n",
      "Average serial duration: 1.6716904640197754 +- 0.0\n",
      "Average parallel duration: 0.001632510218769312\n",
      "Calculated total duration: 0:00:00\n",
      "baseline on \" data/vrp/scale-1000/Vrp-Set-F-n45.pkl \" Success\n",
      "  [*] Loading model from outputs/cvrp_100/cvrp100_rollout/epoch-99.pt\n"
     ]
    },
    {
     "name": "stderr",
     "output_type": "stream",
     "text": [
      "100%|██████████| 1/1 [00:01<00:00,  1.76s/it]\n"
     ]
    },
    {
     "name": "stdout",
     "output_type": "stream",
     "text": [
      "Average cost: 0.7339785695075989 +- 0.0\n",
      "Average serial duration: 1.7533528804779053 +- 0.0\n",
      "Average parallel duration: 0.0017122586723417044\n",
      "Calculated total duration: 0:00:00\n",
      "baseline on \" data/vrp/scale-1000/Vrp-Set-F-n72.pkl \" Success\n",
      "  [*] Loading model from outputs/cvrp_100/cvrp100_rollout/epoch-99.pt\n"
     ]
    },
    {
     "name": "stderr",
     "output_type": "stream",
     "text": [
      "100%|██████████| 1/1 [00:02<00:00,  2.08s/it]\n"
     ]
    },
    {
     "name": "stdout",
     "output_type": "stream",
     "text": [
      "Average cost: 13.139278411865234 +- 0.0\n",
      "Average serial duration: 2.0738272666931152 +- 0.0\n",
      "Average parallel duration: 0.0020252219401299953\n",
      "Calculated total duration: 0:00:00\n",
      "baseline on \" data/vrp/scale-1000/Vrp-Set-Golden-n201.pkl \" Success\n",
      "  [*] Loading model from outputs/cvrp_100/cvrp100_rollout/epoch-99.pt\n"
     ]
    },
    {
     "name": "stderr",
     "output_type": "stream",
     "text": [
      "100%|██████████| 1/1 [00:02<00:00,  2.47s/it]\n"
     ]
    },
    {
     "name": "stdout",
     "output_type": "stream",
     "text": [
      "Average cost: 6.3444671630859375 +- 6.158061874585627\n",
      "Average serial duration: 2.467564105987549 +- 0.0\n",
      "Average parallel duration: 0.0024097305722534657\n",
      "Calculated total duration: 0:00:00\n",
      "baseline on \" data/vrp/scale-1000/Vrp-Set-Golden-n241.pkl \" Success\n",
      "  [*] Loading model from outputs/cvrp_100/cvrp100_rollout/epoch-99.pt\n"
     ]
    },
    {
     "name": "stderr",
     "output_type": "stream",
     "text": [
      "100%|██████████| 1/1 [00:02<00:00,  2.46s/it]\n"
     ]
    },
    {
     "name": "stdout",
     "output_type": "stream",
     "text": [
      "Average cost: 2.361851453781128 +- 0.0\n",
      "Average serial duration: 2.460050582885742 +- 0.0\n",
      "Average parallel duration: 0.0024023931473493576\n",
      "Calculated total duration: 0:00:00\n",
      "baseline on \" data/vrp/scale-1000/Vrp-Set-Golden-n253.pkl \" Success\n",
      "  [*] Loading model from outputs/cvrp_100/cvrp100_rollout/epoch-99.pt\n"
     ]
    },
    {
     "name": "stderr",
     "output_type": "stream",
     "text": [
      "100%|██████████| 1/1 [00:02<00:00,  2.31s/it]\n"
     ]
    },
    {
     "name": "stdout",
     "output_type": "stream",
     "text": [
      "Average cost: 1.6013462543487549 +- 0.0\n",
      "Average serial duration: 2.3078665733337402 +- 0.0\n",
      "Average parallel duration: 0.0022537759505212307\n",
      "Calculated total duration: 0:00:00\n",
      "baseline on \" data/vrp/scale-1000/Vrp-Set-Golden-n256.pkl \" Success\n",
      "  [*] Loading model from outputs/cvrp_100/cvrp100_rollout/epoch-99.pt\n"
     ]
    },
    {
     "name": "stderr",
     "output_type": "stream",
     "text": [
      "100%|██████████| 1/1 [00:02<00:00,  2.50s/it]\n"
     ]
    },
    {
     "name": "stdout",
     "output_type": "stream",
     "text": [
      "Average cost: 17.135643005371094 +- 0.0\n",
      "Average serial duration: 2.494224786758423 +- 0.0\n",
      "Average parallel duration: 0.0024357663933187723\n",
      "Calculated total duration: 0:00:00\n",
      "baseline on \" data/vrp/scale-1000/Vrp-Set-Golden-n281.pkl \" Success\n",
      "  [*] Loading model from outputs/cvrp_100/cvrp100_rollout/epoch-99.pt\n"
     ]
    },
    {
     "name": "stderr",
     "output_type": "stream",
     "text": [
      "100%|██████████| 1/1 [00:02<00:00,  2.35s/it]\n"
     ]
    },
    {
     "name": "stdout",
     "output_type": "stream",
     "text": [
      "Average cost: 2.7895967960357666 +- 0.0\n",
      "Average serial duration: 2.345738410949707 +- 0.0\n",
      "Average parallel duration: 0.0022907601669430733\n",
      "Calculated total duration: 0:00:00\n",
      "baseline on \" data/vrp/scale-1000/Vrp-Set-Golden-n301.pkl \" Success\n",
      "  [*] Loading model from outputs/cvrp_100/cvrp100_rollout/epoch-99.pt\n"
     ]
    },
    {
     "name": "stderr",
     "output_type": "stream",
     "text": [
      "100%|██████████| 1/1 [00:02<00:00,  2.48s/it]\n"
     ]
    },
    {
     "name": "stdout",
     "output_type": "stream",
     "text": [
      "Average cost: 9.919798851013184 +- 9.752111116291736\n",
      "Average serial duration: 2.47892165184021 +- 0.0\n",
      "Average parallel duration: 0.002420821925625205\n",
      "Calculated total duration: 0:00:00\n",
      "baseline on \" data/vrp/scale-1000/Vrp-Set-Golden-n321.pkl \" Success\n",
      "  [*] Loading model from outputs/cvrp_100/cvrp100_rollout/epoch-99.pt\n"
     ]
    },
    {
     "name": "stderr",
     "output_type": "stream",
     "text": [
      "100%|██████████| 1/1 [00:02<00:00,  2.64s/it]\n"
     ]
    },
    {
     "name": "stdout",
     "output_type": "stream",
     "text": [
      "Average cost: 2.02628755569458 +- 0.0\n",
      "Average serial duration: 2.6393020153045654 +- 0.0\n",
      "Average parallel duration: 0.0025774433743208647\n",
      "Calculated total duration: 0:00:00\n",
      "baseline on \" data/vrp/scale-1000/Vrp-Set-Golden-n324.pkl \" Success\n",
      "  [*] Loading model from outputs/cvrp_100/cvrp100_rollout/epoch-99.pt\n"
     ]
    },
    {
     "name": "stderr",
     "output_type": "stream",
     "text": [
      "100%|██████████| 1/1 [00:02<00:00,  2.73s/it]\n"
     ]
    },
    {
     "name": "stdout",
     "output_type": "stream",
     "text": [
      "Average cost: 12.393304824829102 +- 11.694292517989405\n",
      "Average serial duration: 2.7284271717071533 +- 0.0\n",
      "Average parallel duration: 0.002664479659870267\n",
      "Calculated total duration: 0:00:00\n",
      "baseline on \" data/vrp/scale-1000/Vrp-Set-Golden-n361.pkl \" Success\n",
      "  [*] Loading model from outputs/cvrp_100/cvrp100_rollout/epoch-99.pt\n"
     ]
    },
    {
     "name": "stderr",
     "output_type": "stream",
     "text": [
      "100%|██████████| 1/1 [00:02<00:00,  2.77s/it]\n"
     ]
    },
    {
     "name": "stdout",
     "output_type": "stream",
     "text": [
      "Average cost: 3.8470332622528076 +- 0.0\n",
      "Average serial duration: 2.76086163520813 +- 0.0\n",
      "Average parallel duration: 0.0026961539406329393\n",
      "Calculated total duration: 0:00:00\n",
      "baseline on \" data/vrp/scale-1000/Vrp-Set-Golden-n397.pkl \" Success\n",
      "  [*] Loading model from outputs/cvrp_100/cvrp100_rollout/epoch-99.pt\n"
     ]
    },
    {
     "name": "stderr",
     "output_type": "stream",
     "text": [
      "100%|██████████| 1/1 [00:02<00:00,  2.62s/it]\n"
     ]
    },
    {
     "name": "stdout",
     "output_type": "stream",
     "text": [
      "Average cost: 2.6165199279785156 +- 0.0\n",
      "Average serial duration: 2.6124911308288574 +- 0.0\n",
      "Average parallel duration: 0.002551260869950056\n",
      "Calculated total duration: 0:00:00\n",
      "baseline on \" data/vrp/scale-1000/Vrp-Set-Golden-n400.pkl \" Success\n",
      "  [*] Loading model from outputs/cvrp_100/cvrp100_rollout/epoch-99.pt\n"
     ]
    },
    {
     "name": "stderr",
     "output_type": "stream",
     "text": [
      "100%|██████████| 1/1 [00:02<00:00,  2.84s/it]\n"
     ]
    },
    {
     "name": "stdout",
     "output_type": "stream",
     "text": [
      "Average cost: 22.94981575012207 +- 0.0\n",
      "Average serial duration: 2.8322808742523193 +- 0.0\n",
      "Average parallel duration: 0.0027658992912620306\n",
      "Calculated total duration: 0:00:00\n",
      "baseline on \" data/vrp/scale-1000/Vrp-Set-Golden-n401.pkl \" Success\n",
      "  [*] Loading model from outputs/cvrp_100/cvrp100_rollout/epoch-99.pt\n"
     ]
    },
    {
     "name": "stderr",
     "output_type": "stream",
     "text": [
      "100%|██████████| 1/1 [00:02<00:00,  2.89s/it]\n"
     ]
    },
    {
     "name": "stdout",
     "output_type": "stream",
     "text": [
      "Average cost: 5.74043607711792 +- 0.0\n",
      "Average serial duration: 2.887049913406372 +- 0.0\n",
      "Average parallel duration: 0.0028193846810609102\n",
      "Calculated total duration: 0:00:00\n",
      "baseline on \" data/vrp/scale-1000/Vrp-Set-Golden-n421.pkl \" Success\n",
      "  [*] Loading model from outputs/cvrp_100/cvrp100_rollout/epoch-99.pt\n"
     ]
    },
    {
     "name": "stderr",
     "output_type": "stream",
     "text": [
      "100%|██████████| 1/1 [00:02<00:00,  2.88s/it]\n"
     ]
    },
    {
     "name": "stdout",
     "output_type": "stream",
     "text": [
      "Average cost: 23.92742919921875 +- 0.0\n",
      "Average serial duration: 2.8733434677124023 +- 0.0\n",
      "Average parallel duration: 0.002805999480187893\n",
      "Calculated total duration: 0:00:00\n",
      "baseline on \" data/vrp/scale-1000/Vrp-Set-Golden-n441.pkl \" Success\n",
      "  [*] Loading model from outputs/cvrp_100/cvrp100_rollout/epoch-99.pt\n"
     ]
    },
    {
     "name": "stderr",
     "output_type": "stream",
     "text": [
      "100%|██████████| 1/1 [00:02<00:00,  2.94s/it]\n"
     ]
    },
    {
     "name": "stdout",
     "output_type": "stream",
     "text": [
      "Average cost: 16.499204635620117 +- 16.63344190835608\n",
      "Average serial duration: 2.9395833015441895 +- 0.0\n",
      "Average parallel duration: 0.0028706868179142475\n",
      "Calculated total duration: 0:00:00\n",
      "baseline on \" data/vrp/scale-1000/Vrp-Set-Golden-n481.pkl \" Success\n",
      "  [*] Loading model from outputs/cvrp_100/cvrp100_rollout/epoch-99.pt\n"
     ]
    },
    {
     "name": "stderr",
     "output_type": "stream",
     "text": [
      "100%|██████████| 1/1 [00:03<00:00,  3.06s/it]\n"
     ]
    },
    {
     "name": "stdout",
     "output_type": "stream",
     "text": [
      "Average cost: 3.5967822074890137 +- 0.0\n",
      "Average serial duration: 3.0589077472686768 +- 0.0\n",
      "Average parallel duration: 0.002987214596942067\n",
      "Calculated total duration: 0:00:00\n",
      "baseline on \" data/vrp/scale-1000/Vrp-Set-Golden-n484.pkl \" Success\n",
      "  [*] Loading model from outputs/cvrp_100/cvrp100_rollout/epoch-99.pt\n"
     ]
    },
    {
     "name": "stderr",
     "output_type": "stream",
     "text": [
      "100%|██████████| 1/1 [00:04<00:00,  4.45s/it]\n"
     ]
    },
    {
     "name": "stdout",
     "output_type": "stream",
     "text": [
      "Average cost: 98.9969711303711 +- 0.0\n",
      "Average serial duration: 4.449643135070801 +- 0.0\n",
      "Average parallel duration: 0.004345354624092579\n",
      "Calculated total duration: 0:00:00\n",
      "baseline on \" data/vrp/scale-1000/Vrp-Set-Li-n1041.pkl \" Success\n",
      "  [*] Loading model from outputs/cvrp_100/cvrp100_rollout/epoch-99.pt\n"
     ]
    },
    {
     "name": "stderr",
     "output_type": "stream",
     "text": [
      "100%|██████████| 1/1 [00:04<00:00,  4.67s/it]\n"
     ]
    },
    {
     "name": "stdout",
     "output_type": "stream",
     "text": [
      "Average cost: 87.51033782958984 +- 0.0\n",
      "Average serial duration: 4.66902494430542 +- 0.0\n",
      "Average parallel duration: 0.004559594672173262\n",
      "Calculated total duration: 0:00:00\n",
      "baseline on \" data/vrp/scale-1000/Vrp-Set-Li-n1121.pkl \" Success\n",
      "  [*] Loading model from outputs/cvrp_100/cvrp100_rollout/epoch-99.pt\n"
     ]
    },
    {
     "name": "stderr",
     "output_type": "stream",
     "text": [
      "100%|██████████| 1/1 [00:05<00:00,  5.18s/it]\n"
     ]
    },
    {
     "name": "stdout",
     "output_type": "stream",
     "text": [
      "Average cost: 125.31795501708984 +- 0.0\n",
      "Average serial duration: 5.177803993225098 +- 0.0\n",
      "Average parallel duration: 0.005056449212133884\n",
      "Calculated total duration: 0:00:00\n",
      "baseline on \" data/vrp/scale-1000/Vrp-Set-Li-n1201.pkl \" Success\n",
      "  [*] Loading model from outputs/cvrp_100/cvrp100_rollout/epoch-99.pt\n"
     ]
    },
    {
     "name": "stderr",
     "output_type": "stream",
     "text": [
      "100%|██████████| 1/1 [00:02<00:00,  2.97s/it]\n"
     ]
    },
    {
     "name": "stdout",
     "output_type": "stream",
     "text": [
      "Average cost: 34.51839065551758 +- 0.0\n",
      "Average serial duration: 2.9706079959869385 +- 0.0\n",
      "Average parallel duration: 0.0029009843710809946\n",
      "Calculated total duration: 0:00:00\n",
      "baseline on \" data/vrp/scale-1000/Vrp-Set-Li-n561.pkl \" Success\n",
      "  [*] Loading model from outputs/cvrp_100/cvrp100_rollout/epoch-99.pt\n"
     ]
    },
    {
     "name": "stderr",
     "output_type": "stream",
     "text": [
      "100%|██████████| 1/1 [00:03<00:00,  3.36s/it]\n"
     ]
    },
    {
     "name": "stdout",
     "output_type": "stream",
     "text": [
      "Average cost: 29.656391143798828 +- 0.0\n",
      "Average serial duration: 3.3585429191589355 +- 0.0\n",
      "Average parallel duration: 0.003279827069491148\n",
      "Calculated total duration: 0:00:00\n",
      "baseline on \" data/vrp/scale-1000/Vrp-Set-Li-n601.pkl \" Success\n",
      "  [*] Loading model from outputs/cvrp_100/cvrp100_rollout/epoch-99.pt\n"
     ]
    },
    {
     "name": "stderr",
     "output_type": "stream",
     "text": [
      "100%|██████████| 1/1 [00:03<00:00,  3.37s/it]\n"
     ]
    },
    {
     "name": "stdout",
     "output_type": "stream",
     "text": [
      "Average cost: 40.08651351928711 +- 0.0\n",
      "Average serial duration: 3.366100549697876 +- 0.0\n",
      "Average parallel duration: 0.003287207568064332\n",
      "Calculated total duration: 0:00:00\n",
      "baseline on \" data/vrp/scale-1000/Vrp-Set-Li-n641.pkl \" Success\n",
      "  [*] Loading model from outputs/cvrp_100/cvrp100_rollout/epoch-99.pt\n"
     ]
    },
    {
     "name": "stderr",
     "output_type": "stream",
     "text": [
      "100%|██████████| 1/1 [00:03<00:00,  3.60s/it]\n"
     ]
    },
    {
     "name": "stdout",
     "output_type": "stream",
     "text": [
      "Average cost: 47.51448059082031 +- 0.0\n",
      "Average serial duration: 3.5976364612579346 +- 0.0\n",
      "Average parallel duration: 0.0035133168566972017\n",
      "Calculated total duration: 0:00:00\n",
      "baseline on \" data/vrp/scale-1000/Vrp-Set-Li-n721.pkl \" Success\n",
      "  [*] Loading model from outputs/cvrp_100/cvrp100_rollout/epoch-99.pt\n"
     ]
    },
    {
     "name": "stderr",
     "output_type": "stream",
     "text": [
      "100%|██████████| 1/1 [00:03<00:00,  3.82s/it]\n"
     ]
    },
    {
     "name": "stdout",
     "output_type": "stream",
     "text": [
      "Average cost: 36.54179000854492 +- 0.0\n",
      "Average serial duration: 3.819674015045166 +- 0.0\n",
      "Average parallel duration: 0.003730150405317545\n",
      "Calculated total duration: 0:00:00\n",
      "baseline on \" data/vrp/scale-1000/Vrp-Set-Li-n761.pkl \" Success\n",
      "  [*] Loading model from outputs/cvrp_100/cvrp100_rollout/epoch-99.pt\n"
     ]
    },
    {
     "name": "stderr",
     "output_type": "stream",
     "text": [
      "100%|██████████| 1/1 [00:03<00:00,  3.67s/it]\n"
     ]
    },
    {
     "name": "stdout",
     "output_type": "stream",
     "text": [
      "Average cost: 54.41315460205078 +- 0.0\n",
      "Average serial duration: 3.6709790229797363 +- 0.0\n",
      "Average parallel duration: 0.0035849404521286488\n",
      "Calculated total duration: 0:00:00\n",
      "baseline on \" data/vrp/scale-1000/Vrp-Set-Li-n801.pkl \" Success\n",
      "  [*] Loading model from outputs/cvrp_100/cvrp100_rollout/epoch-99.pt\n"
     ]
    },
    {
     "name": "stderr",
     "output_type": "stream",
     "text": [
      "100%|██████████| 1/1 [00:03<00:00,  4.00s/it]\n"
     ]
    },
    {
     "name": "stdout",
     "output_type": "stream",
     "text": [
      "Average cost: 39.31658935546875 +- 0.0\n",
      "Average serial duration: 3.9932897090911865 +- 0.0\n",
      "Average parallel duration: 0.003899696981534362\n",
      "Calculated total duration: 0:00:00\n",
      "baseline on \" data/vrp/scale-1000/Vrp-Set-Li-n841.pkl \" Success\n",
      "  [*] Loading model from outputs/cvrp_100/cvrp100_rollout/epoch-99.pt\n"
     ]
    },
    {
     "name": "stderr",
     "output_type": "stream",
     "text": [
      "100%|██████████| 1/1 [00:04<00:00,  4.21s/it]\n"
     ]
    },
    {
     "name": "stdout",
     "output_type": "stream",
     "text": [
      "Average cost: 59.193321228027344 +- 0.0\n",
      "Average serial duration: 4.204007863998413 +- 0.0\n",
      "Average parallel duration: 0.00410547642968595\n",
      "Calculated total duration: 0:00:00\n",
      "baseline on \" data/vrp/scale-1000/Vrp-Set-Li-n881.pkl \" Success\n",
      "  [*] Loading model from outputs/cvrp_100/cvrp100_rollout/epoch-99.pt\n"
     ]
    },
    {
     "name": "stderr",
     "output_type": "stream",
     "text": [
      "100%|██████████| 1/1 [00:04<00:00,  4.42s/it]\n"
     ]
    },
    {
     "name": "stdout",
     "output_type": "stream",
     "text": [
      "Average cost: 81.79443359375 +- 0.0\n",
      "Average serial duration: 4.418285131454468 +- 0.0\n",
      "Average parallel duration: 0.004314731573686004\n",
      "Calculated total duration: 0:00:00\n",
      "baseline on \" data/vrp/scale-1000/Vrp-Set-Li-n961.pkl \" Success\n",
      "  [*] Loading model from outputs/cvrp_100/cvrp100_rollout/epoch-99.pt\n"
     ]
    },
    {
     "name": "stderr",
     "output_type": "stream",
     "text": [
      "100%|██████████| 1/1 [00:01<00:00,  1.86s/it]\n"
     ]
    },
    {
     "name": "stdout",
     "output_type": "stream",
     "text": [
      "Average cost: 2.281142234802246 +- 0.0\n",
      "Average serial duration: 1.859208345413208 +- 0.0\n",
      "Average parallel duration: 0.001815633149817586\n",
      "Calculated total duration: 0:00:00\n",
      "baseline on \" data/vrp/scale-1000/Vrp-Set-M-n101.pkl \" Success\n",
      "  [*] Loading model from outputs/cvrp_100/cvrp100_rollout/epoch-99.pt\n"
     ]
    },
    {
     "name": "stderr",
     "output_type": "stream",
     "text": [
      "100%|██████████| 1/1 [00:01<00:00,  1.88s/it]\n"
     ]
    },
    {
     "name": "stdout",
     "output_type": "stream",
     "text": [
      "Average cost: 2.662288188934326 +- 0.0\n",
      "Average serial duration: 1.878727912902832 +- 0.0\n",
      "Average parallel duration: 0.001834695227444172\n",
      "Calculated total duration: 0:00:00\n",
      "baseline on \" data/vrp/scale-1000/Vrp-Set-M-n121.pkl \" Success\n",
      "  [*] Loading model from outputs/cvrp_100/cvrp100_rollout/epoch-99.pt\n"
     ]
    },
    {
     "name": "stderr",
     "output_type": "stream",
     "text": [
      "100%|██████████| 1/1 [00:01<00:00,  1.94s/it]\n"
     ]
    },
    {
     "name": "stdout",
     "output_type": "stream",
     "text": [
      "Average cost: 2.751471519470215 +- 0.0\n",
      "Average serial duration: 1.9360501766204834 +- 0.0\n",
      "Average parallel duration: 0.0018906740006059408\n",
      "Calculated total duration: 0:00:00\n",
      "baseline on \" data/vrp/scale-1000/Vrp-Set-M-n151.pkl \" Success\n",
      "  [*] Loading model from outputs/cvrp_100/cvrp100_rollout/epoch-99.pt\n"
     ]
    },
    {
     "name": "stderr",
     "output_type": "stream",
     "text": [
      "100%|██████████| 1/1 [00:02<00:00,  2.17s/it]\n"
     ]
    },
    {
     "name": "stdout",
     "output_type": "stream",
     "text": [
      "Average cost: 3.6822669506073 +- 0.0\n",
      "Average serial duration: 2.1669347286224365 +- 0.0\n",
      "Average parallel duration: 0.002116147195920348\n",
      "Calculated total duration: 0:00:00\n",
      "baseline on \" data/vrp/scale-1000/Vrp-Set-M-n200.pkl \" Success\n",
      "  [*] Loading model from outputs/cvrp_100/cvrp100_rollout/epoch-99.pt\n"
     ]
    },
    {
     "name": "stderr",
     "output_type": "stream",
     "text": [
      "100%|██████████| 1/1 [00:01<00:00,  1.79s/it]\n"
     ]
    },
    {
     "name": "stdout",
     "output_type": "stream",
     "text": [
      "Average cost: 1.7283958196640015 +- 0.0\n",
      "Average serial duration: 1.7856829166412354 +- 0.0\n",
      "Average parallel duration: 0.0017438309732824564\n",
      "Calculated total duration: 0:00:00\n",
      "baseline on \" data/vrp/scale-1000/Vrp-Set-P-n101.pkl \" Success\n",
      "  [*] Loading model from outputs/cvrp_100/cvrp100_rollout/epoch-99.pt\n"
     ]
    },
    {
     "name": "stderr",
     "output_type": "stream",
     "text": [
      "100%|██████████| 1/1 [00:01<00:00,  1.66s/it]\n"
     ]
    },
    {
     "name": "stdout",
     "output_type": "stream",
     "text": [
      "Average cost: 0.7522087097167969 +- 0.0\n",
      "Average serial duration: 1.6575055122375488 +- 0.0\n",
      "Average parallel duration: 0.0016186577267944813\n",
      "Calculated total duration: 0:00:00\n",
      "baseline on \" data/vrp/scale-1000/Vrp-Set-P-n16.pkl \" Success\n",
      "  [*] Loading model from outputs/cvrp_100/cvrp100_rollout/epoch-99.pt\n"
     ]
    },
    {
     "name": "stderr",
     "output_type": "stream",
     "text": [
      "100%|██████████| 1/1 [00:01<00:00,  1.59s/it]\n"
     ]
    },
    {
     "name": "stdout",
     "output_type": "stream",
     "text": [
      "Average cost: 0.34437453746795654 +- 0.0\n",
      "Average serial duration: 1.5898551940917969 +- 0.0\n",
      "Average parallel duration: 0.0015525929629802704\n",
      "Calculated total duration: 0:00:00\n",
      "baseline on \" data/vrp/scale-1000/Vrp-Set-P-n19.pkl \" Success\n",
      "  [*] Loading model from outputs/cvrp_100/cvrp100_rollout/epoch-99.pt\n"
     ]
    },
    {
     "name": "stderr",
     "output_type": "stream",
     "text": [
      "100%|██████████| 1/1 [00:01<00:00,  1.62s/it]\n"
     ]
    },
    {
     "name": "stdout",
     "output_type": "stream",
     "text": [
      "Average cost: 0.39880067110061646 +- 0.0\n",
      "Average serial duration: 1.6174540519714355 +- 0.0\n",
      "Average parallel duration: 0.001579544972628355\n",
      "Calculated total duration: 0:00:00\n",
      "baseline on \" data/vrp/scale-1000/Vrp-Set-P-n20.pkl \" Success\n",
      "  [*] Loading model from outputs/cvrp_100/cvrp100_rollout/epoch-99.pt\n"
     ]
    },
    {
     "name": "stderr",
     "output_type": "stream",
     "text": [
      "100%|██████████| 1/1 [00:01<00:00,  1.54s/it]\n"
     ]
    },
    {
     "name": "stdout",
     "output_type": "stream",
     "text": [
      "Average cost: 0.46698445081710815 +- 0.0\n",
      "Average serial duration: 1.533141851425171 +- 0.0\n",
      "Average parallel duration: 0.0014972088392823935\n",
      "Calculated total duration: 0:00:00\n",
      "baseline on \" data/vrp/scale-1000/Vrp-Set-P-n21.pkl \" Success\n",
      "  [*] Loading model from outputs/cvrp_100/cvrp100_rollout/epoch-99.pt\n"
     ]
    },
    {
     "name": "stderr",
     "output_type": "stream",
     "text": [
      "100%|██████████| 1/1 [00:01<00:00,  1.72s/it]\n"
     ]
    },
    {
     "name": "stdout",
     "output_type": "stream",
     "text": [
      "Average cost: 0.7312676906585693 +- 0.36381155419918876\n",
      "Average serial duration: 1.7172694206237793 +- 0.0\n",
      "Average parallel duration: 0.0016770209185779095\n",
      "Calculated total duration: 0:00:00\n",
      "baseline on \" data/vrp/scale-1000/Vrp-Set-P-n22.pkl \" Success\n",
      "  [*] Loading model from outputs/cvrp_100/cvrp100_rollout/epoch-99.pt\n"
     ]
    },
    {
     "name": "stderr",
     "output_type": "stream",
     "text": [
      "100%|██████████| 1/1 [00:01<00:00,  1.71s/it]\n"
     ]
    },
    {
     "name": "stdout",
     "output_type": "stream",
     "text": [
      "Average cost: 0.8073103427886963 +- 0.0\n",
      "Average serial duration: 1.7109334468841553 +- 0.0\n",
      "Average parallel duration: 0.0016708334442228079\n",
      "Calculated total duration: 0:00:00\n",
      "baseline on \" data/vrp/scale-1000/Vrp-Set-P-n23.pkl \" Success\n",
      "  [*] Loading model from outputs/cvrp_100/cvrp100_rollout/epoch-99.pt\n"
     ]
    },
    {
     "name": "stderr",
     "output_type": "stream",
     "text": [
      "100%|██████████| 1/1 [00:01<00:00,  1.79s/it]\n"
     ]
    },
    {
     "name": "stdout",
     "output_type": "stream",
     "text": [
      "Average cost: 1.0345083475112915 +- 0.0\n",
      "Average serial duration: 1.7906904220581055 +- 0.0\n",
      "Average parallel duration: 0.0017487211152911186\n",
      "Calculated total duration: 0:00:00\n",
      "baseline on \" data/vrp/scale-1000/Vrp-Set-P-n40.pkl \" Success\n",
      "  [*] Loading model from outputs/cvrp_100/cvrp100_rollout/epoch-99.pt\n"
     ]
    },
    {
     "name": "stderr",
     "output_type": "stream",
     "text": [
      "100%|██████████| 1/1 [00:01<00:00,  1.78s/it]\n"
     ]
    },
    {
     "name": "stdout",
     "output_type": "stream",
     "text": [
      "Average cost: 1.2990151643753052 +- 0.0\n",
      "Average serial duration: 1.7725374698638916 +- 0.0\n",
      "Average parallel duration: 0.0017309936229139566\n",
      "Calculated total duration: 0:00:00\n",
      "baseline on \" data/vrp/scale-1000/Vrp-Set-P-n45.pkl \" Success\n",
      "  [*] Loading model from outputs/cvrp_100/cvrp100_rollout/epoch-99.pt\n"
     ]
    },
    {
     "name": "stderr",
     "output_type": "stream",
     "text": [
      "100%|██████████| 1/1 [00:01<00:00,  1.89s/it]\n"
     ]
    },
    {
     "name": "stdout",
     "output_type": "stream",
     "text": [
      "Average cost: 1.3622695207595825 +- 0.21315315462885587\n",
      "Average serial duration: 1.8899633884429932 +- 0.0\n",
      "Average parallel duration: 0.0018456673715263605\n",
      "Calculated total duration: 0:00:00\n",
      "baseline on \" data/vrp/scale-1000/Vrp-Set-P-n50.pkl \" Success\n",
      "  [*] Loading model from outputs/cvrp_100/cvrp100_rollout/epoch-99.pt\n"
     ]
    },
    {
     "name": "stderr",
     "output_type": "stream",
     "text": [
      "100%|██████████| 1/1 [00:01<00:00,  1.82s/it]\n"
     ]
    },
    {
     "name": "stdout",
     "output_type": "stream",
     "text": [
      "Average cost: 1.230820655822754 +- 0.0\n",
      "Average serial duration: 1.8146891593933105 +- 0.0\n",
      "Average parallel duration: 0.0017721573822200298\n",
      "Calculated total duration: 0:00:00\n",
      "baseline on \" data/vrp/scale-1000/Vrp-Set-P-n51.pkl \" Success\n",
      "  [*] Loading model from outputs/cvrp_100/cvrp100_rollout/epoch-99.pt\n"
     ]
    },
    {
     "name": "stderr",
     "output_type": "stream",
     "text": [
      "100%|██████████| 1/1 [00:01<00:00,  1.88s/it]\n"
     ]
    },
    {
     "name": "stdout",
     "output_type": "stream",
     "text": [
      "Average cost: 1.6267645359039307 +- 0.20936599373817444\n",
      "Average serial duration: 1.8757860660552979 +- 0.0\n",
      "Average parallel duration: 0.0018318223301321268\n",
      "Calculated total duration: 0:00:00\n",
      "baseline on \" data/vrp/scale-1000/Vrp-Set-P-n55.pkl \" Success\n",
      "  [*] Loading model from outputs/cvrp_100/cvrp100_rollout/epoch-99.pt\n"
     ]
    },
    {
     "name": "stderr",
     "output_type": "stream",
     "text": [
      "100%|██████████| 1/1 [00:01<00:00,  1.90s/it]\n"
     ]
    },
    {
     "name": "stdout",
     "output_type": "stream",
     "text": [
      "Average cost: 1.6359820365905762 +- 0.05338075380668474\n",
      "Average serial duration: 1.8956048488616943 +- 0.0\n",
      "Average parallel duration: 0.0018511766102164984\n",
      "Calculated total duration: 0:00:00\n",
      "baseline on \" data/vrp/scale-1000/Vrp-Set-P-n60.pkl \" Success\n",
      "  [*] Loading model from outputs/cvrp_100/cvrp100_rollout/epoch-99.pt\n"
     ]
    },
    {
     "name": "stderr",
     "output_type": "stream",
     "text": [
      "100%|██████████| 1/1 [00:01<00:00,  1.86s/it]\n"
     ]
    },
    {
     "name": "stdout",
     "output_type": "stream",
     "text": [
      "Average cost: 2.198185682296753 +- 0.0\n",
      "Average serial duration: 1.8616809844970703 +- 0.0\n",
      "Average parallel duration: 0.0018180478364229202\n",
      "Calculated total duration: 0:00:00\n",
      "baseline on \" data/vrp/scale-1000/Vrp-Set-P-n65.pkl \" Success\n",
      "  [*] Loading model from outputs/cvrp_100/cvrp100_rollout/epoch-99.pt\n"
     ]
    },
    {
     "name": "stderr",
     "output_type": "stream",
     "text": [
      "100%|██████████| 1/1 [00:01<00:00,  1.82s/it]\n"
     ]
    },
    {
     "name": "stdout",
     "output_type": "stream",
     "text": [
      "Average cost: 2.4791648387908936 +- 0.0\n",
      "Average serial duration: 1.811063528060913 +- 0.0\n",
      "Average parallel duration: 0.0017686167266219854\n",
      "Calculated total duration: 0:00:00\n",
      "baseline on \" data/vrp/scale-1000/Vrp-Set-P-n70.pkl \" Success\n",
      "  [*] Loading model from outputs/cvrp_100/cvrp100_rollout/epoch-99.pt\n"
     ]
    },
    {
     "name": "stderr",
     "output_type": "stream",
     "text": [
      "100%|██████████| 1/1 [00:01<00:00,  1.72s/it]\n"
     ]
    },
    {
     "name": "stdout",
     "output_type": "stream",
     "text": [
      "Average cost: 1.3705050945281982 +- 0.00876662878396298\n",
      "Average serial duration: 1.7120990753173828 +- 0.0\n",
      "Average parallel duration: 0.0016719717532396317\n",
      "Calculated total duration: 0:00:00\n",
      "baseline on \" data/vrp/scale-1000/Vrp-Set-P-n76.pkl \" Success\n",
      "  [*] Loading model from outputs/cvrp_100/cvrp100_rollout/epoch-99.pt\n"
     ]
    },
    {
     "name": "stderr",
     "output_type": "stream",
     "text": [
      "100%|██████████| 1/1 [00:04<00:00,  4.45s/it]\n"
     ]
    },
    {
     "name": "stdout",
     "output_type": "stream",
     "text": [
      "Average cost: 89.97008514404297 +- 0.0\n",
      "Average serial duration: 4.452341794967651 +- 0.0\n",
      "Average parallel duration: 0.004347990034148097\n",
      "Calculated total duration: 0:00:00\n",
      "baseline on \" data/vrp/scale-1000/Vrp-Set-X-n1001.pkl \" Success\n",
      "  [*] Loading model from outputs/cvrp_100/cvrp100_rollout/epoch-99.pt\n"
     ]
    },
    {
     "name": "stderr",
     "output_type": "stream",
     "text": [
      "100%|██████████| 1/1 [00:02<00:00,  2.03s/it]\n"
     ]
    },
    {
     "name": "stdout",
     "output_type": "stream",
     "text": [
      "Average cost: 30.31476402282715 +- 0.0\n",
      "Average serial duration: 2.0265932083129883 +- 0.0\n",
      "Average parallel duration: 0.0019790949299931526\n",
      "Calculated total duration: 0:00:00\n",
      "baseline on \" data/vrp/scale-1000/Vrp-Set-X-n101.pkl \" Success\n",
      "  [*] Loading model from outputs/cvrp_100/cvrp100_rollout/epoch-99.pt\n"
     ]
    },
    {
     "name": "stderr",
     "output_type": "stream",
     "text": [
      "100%|██████████| 1/1 [00:01<00:00,  1.98s/it]\n"
     ]
    },
    {
     "name": "stdout",
     "output_type": "stream",
     "text": [
      "Average cost: 27.961570739746094 +- 0.0\n",
      "Average serial duration: 1.9761135578155518 +- 0.0\n",
      "Average parallel duration: 0.0019297983963042498\n",
      "Calculated total duration: 0:00:00\n",
      "baseline on \" data/vrp/scale-1000/Vrp-Set-X-n106.pkl \" Success\n",
      "  [*] Loading model from outputs/cvrp_100/cvrp100_rollout/epoch-99.pt\n"
     ]
    },
    {
     "name": "stderr",
     "output_type": "stream",
     "text": [
      "100%|██████████| 1/1 [00:02<00:00,  2.05s/it]\n"
     ]
    },
    {
     "name": "stdout",
     "output_type": "stream",
     "text": [
      "Average cost: 16.109821319580078 +- 0.0\n",
      "Average serial duration: 2.0439393520355225 +- 0.0\n",
      "Average parallel duration: 0.00199603452347219\n",
      "Calculated total duration: 0:00:00\n",
      "baseline on \" data/vrp/scale-1000/Vrp-Set-X-n110.pkl \" Success\n",
      "  [*] Loading model from outputs/cvrp_100/cvrp100_rollout/epoch-99.pt\n"
     ]
    },
    {
     "name": "stderr",
     "output_type": "stream",
     "text": [
      "100%|██████████| 1/1 [00:01<00:00,  1.85s/it]\n"
     ]
    },
    {
     "name": "stdout",
     "output_type": "stream",
     "text": [
      "Average cost: 15.126237869262695 +- 0.0\n",
      "Average serial duration: 1.842888355255127 +- 0.0\n",
      "Average parallel duration: 0.001799695659428835\n",
      "Calculated total duration: 0:00:00\n",
      "baseline on \" data/vrp/scale-1000/Vrp-Set-X-n115.pkl \" Success\n",
      "  [*] Loading model from outputs/cvrp_100/cvrp100_rollout/epoch-99.pt\n"
     ]
    },
    {
     "name": "stderr",
     "output_type": "stream",
     "text": [
      "100%|██████████| 1/1 [00:01<00:00,  1.85s/it]\n"
     ]
    },
    {
     "name": "stdout",
     "output_type": "stream",
     "text": [
      "Average cost: 14.701260566711426 +- 0.0\n",
      "Average serial duration: 1.849778413772583 +- 0.0\n",
      "Average parallel duration: 0.001806424232199788\n",
      "Calculated total duration: 0:00:00\n",
      "baseline on \" data/vrp/scale-1000/Vrp-Set-X-n120.pkl \" Success\n",
      "  [*] Loading model from outputs/cvrp_100/cvrp100_rollout/epoch-99.pt\n"
     ]
    },
    {
     "name": "stderr",
     "output_type": "stream",
     "text": [
      "100%|██████████| 1/1 [00:01<00:00,  1.95s/it]\n"
     ]
    },
    {
     "name": "stdout",
     "output_type": "stream",
     "text": [
      "Average cost: 58.927860260009766 +- 0.0\n",
      "Average serial duration: 1.9447014331817627 +- 0.0\n",
      "Average parallel duration: 0.0018991224933415651\n",
      "Calculated total duration: 0:00:00\n",
      "baseline on \" data/vrp/scale-1000/Vrp-Set-X-n125.pkl \" Success\n",
      "  [*] Loading model from outputs/cvrp_100/cvrp100_rollout/epoch-99.pt\n"
     ]
    },
    {
     "name": "stderr",
     "output_type": "stream",
     "text": [
      "100%|██████████| 1/1 [00:01<00:00,  1.90s/it]\n"
     ]
    },
    {
     "name": "stdout",
     "output_type": "stream",
     "text": [
      "Average cost: 30.871252059936523 +- 0.0\n",
      "Average serial duration: 1.8994140625 +- 0.0\n",
      "Average parallel duration: 0.0018548965454101562\n",
      "Calculated total duration: 0:00:00\n",
      "baseline on \" data/vrp/scale-1000/Vrp-Set-X-n129.pkl \" Success\n",
      "  [*] Loading model from outputs/cvrp_100/cvrp100_rollout/epoch-99.pt\n"
     ]
    },
    {
     "name": "stderr",
     "output_type": "stream",
     "text": [
      "100%|██████████| 1/1 [00:01<00:00,  1.93s/it]\n"
     ]
    },
    {
     "name": "stdout",
     "output_type": "stream",
     "text": [
      "Average cost: 12.591886520385742 +- 0.0\n",
      "Average serial duration: 1.9294159412384033 +- 0.0\n",
      "Average parallel duration: 0.0018841952551156282\n",
      "Calculated total duration: 0:00:00\n",
      "baseline on \" data/vrp/scale-1000/Vrp-Set-X-n134.pkl \" Success\n",
      "  [*] Loading model from outputs/cvrp_100/cvrp100_rollout/epoch-99.pt\n"
     ]
    },
    {
     "name": "stderr",
     "output_type": "stream",
     "text": [
      "100%|██████████| 1/1 [00:01<00:00,  1.85s/it]\n"
     ]
    },
    {
     "name": "stdout",
     "output_type": "stream",
     "text": [
      "Average cost: 14.334810256958008 +- 0.0\n",
      "Average serial duration: 1.8508665561676025 +- 0.0\n",
      "Average parallel duration: 0.0018074868712574244\n",
      "Calculated total duration: 0:00:00\n",
      "baseline on \" data/vrp/scale-1000/Vrp-Set-X-n139.pkl \" Success\n",
      "  [*] Loading model from outputs/cvrp_100/cvrp100_rollout/epoch-99.pt\n"
     ]
    },
    {
     "name": "stderr",
     "output_type": "stream",
     "text": [
      "100%|██████████| 1/1 [00:01<00:00,  1.93s/it]\n"
     ]
    },
    {
     "name": "stdout",
     "output_type": "stream",
     "text": [
      "Average cost: 17.35323143005371 +- 0.0\n",
      "Average serial duration: 1.929110050201416 +- 0.0\n",
      "Average parallel duration: 0.0018838965333998203\n",
      "Calculated total duration: 0:00:00\n",
      "baseline on \" data/vrp/scale-1000/Vrp-Set-X-n143.pkl \" Success\n",
      "  [*] Loading model from outputs/cvrp_100/cvrp100_rollout/epoch-99.pt\n"
     ]
    },
    {
     "name": "stderr",
     "output_type": "stream",
     "text": [
      "100%|██████████| 1/1 [00:02<00:00,  2.10s/it]\n"
     ]
    },
    {
     "name": "stdout",
     "output_type": "stream",
     "text": [
      "Average cost: 48.235713958740234 +- 0.0\n",
      "Average serial duration: 2.0995681285858154 +- 0.0\n",
      "Average parallel duration: 0.0020503595005720854\n",
      "Calculated total duration: 0:00:00\n",
      "baseline on \" data/vrp/scale-1000/Vrp-Set-X-n148.pkl \" Success\n",
      "  [*] Loading model from outputs/cvrp_100/cvrp100_rollout/epoch-99.pt\n"
     ]
    },
    {
     "name": "stderr",
     "output_type": "stream",
     "text": [
      "100%|██████████| 1/1 [00:02<00:00,  2.04s/it]\n"
     ]
    },
    {
     "name": "stdout",
     "output_type": "stream",
     "text": [
      "Average cost: 27.922761917114258 +- 0.0\n",
      "Average serial duration: 2.038151502609253 +- 0.0\n",
      "Average parallel duration: 0.0019903823267668486\n",
      "Calculated total duration: 0:00:00\n",
      "baseline on \" data/vrp/scale-1000/Vrp-Set-X-n153.pkl \" Success\n",
      "  [*] Loading model from outputs/cvrp_100/cvrp100_rollout/epoch-99.pt\n"
     ]
    },
    {
     "name": "stderr",
     "output_type": "stream",
     "text": [
      "100%|██████████| 1/1 [00:02<00:00,  2.00s/it]\n"
     ]
    },
    {
     "name": "stdout",
     "output_type": "stream",
     "text": [
      "Average cost: 18.074665069580078 +- 0.0\n",
      "Average serial duration: 1.999135971069336 +- 0.0\n",
      "Average parallel duration: 0.0019522812217473984\n",
      "Calculated total duration: 0:00:00\n",
      "baseline on \" data/vrp/scale-1000/Vrp-Set-X-n157.pkl \" Success\n",
      "  [*] Loading model from outputs/cvrp_100/cvrp100_rollout/epoch-99.pt\n"
     ]
    },
    {
     "name": "stderr",
     "output_type": "stream",
     "text": [
      "100%|██████████| 1/1 [00:02<00:00,  2.25s/it]\n"
     ]
    },
    {
     "name": "stdout",
     "output_type": "stream",
     "text": [
      "Average cost: 15.175614356994629 +- 0.0\n",
      "Average serial duration: 2.2484610080718994 +- 0.0\n",
      "Average parallel duration: 0.0021957627031952143\n",
      "Calculated total duration: 0:00:00\n",
      "baseline on \" data/vrp/scale-1000/Vrp-Set-X-n162.pkl \" Success\n",
      "  [*] Loading model from outputs/cvrp_100/cvrp100_rollout/epoch-99.pt\n"
     ]
    },
    {
     "name": "stderr",
     "output_type": "stream",
     "text": [
      "100%|██████████| 1/1 [00:02<00:00,  2.12s/it]\n"
     ]
    },
    {
     "name": "stdout",
     "output_type": "stream",
     "text": [
      "Average cost: 22.87803840637207 +- 0.0\n",
      "Average serial duration: 2.116919994354248 +- 0.0\n",
      "Average parallel duration: 0.0020673046819865704\n",
      "Calculated total duration: 0:00:00\n",
      "baseline on \" data/vrp/scale-1000/Vrp-Set-X-n167.pkl \" Success\n",
      "  [*] Loading model from outputs/cvrp_100/cvrp100_rollout/epoch-99.pt\n"
     ]
    },
    {
     "name": "stderr",
     "output_type": "stream",
     "text": [
      "100%|██████████| 1/1 [00:02<00:00,  2.24s/it]\n"
     ]
    },
    {
     "name": "stdout",
     "output_type": "stream",
     "text": [
      "Average cost: 51.09992980957031 +- 0.0\n",
      "Average serial duration: 2.235386610031128 +- 0.0\n",
      "Average parallel duration: 0.0021829947363585234\n",
      "Calculated total duration: 0:00:00\n",
      "baseline on \" data/vrp/scale-1000/Vrp-Set-X-n172.pkl \" Success\n",
      "  [*] Loading model from outputs/cvrp_100/cvrp100_rollout/epoch-99.pt\n"
     ]
    },
    {
     "name": "stderr",
     "output_type": "stream",
     "text": [
      "100%|██████████| 1/1 [00:02<00:00,  2.23s/it]\n"
     ]
    },
    {
     "name": "stdout",
     "output_type": "stream",
     "text": [
      "Average cost: 53.53483581542969 +- 0.0\n",
      "Average serial duration: 2.2245872020721436 +- 0.0\n",
      "Average parallel duration: 0.0021724484395235777\n",
      "Calculated total duration: 0:00:00\n",
      "baseline on \" data/vrp/scale-1000/Vrp-Set-X-n176.pkl \" Success\n",
      "  [*] Loading model from outputs/cvrp_100/cvrp100_rollout/epoch-99.pt\n"
     ]
    },
    {
     "name": "stderr",
     "output_type": "stream",
     "text": [
      "100%|██████████| 1/1 [00:02<00:00,  2.22s/it]\n"
     ]
    },
    {
     "name": "stdout",
     "output_type": "stream",
     "text": [
      "Average cost: 26.83420181274414 +- 0.0\n",
      "Average serial duration: 2.2158119678497314 +- 0.0\n",
      "Average parallel duration: 0.0021638788748532534\n",
      "Calculated total duration: 0:00:00\n",
      "baseline on \" data/vrp/scale-1000/Vrp-Set-X-n181.pkl \" Success\n",
      "  [*] Loading model from outputs/cvrp_100/cvrp100_rollout/epoch-99.pt\n"
     ]
    },
    {
     "name": "stderr",
     "output_type": "stream",
     "text": [
      "100%|██████████| 1/1 [00:02<00:00,  2.25s/it]\n"
     ]
    },
    {
     "name": "stdout",
     "output_type": "stream",
     "text": [
      "Average cost: 26.59449005126953 +- 0.0\n",
      "Average serial duration: 2.2421607971191406 +- 0.0\n",
      "Average parallel duration: 0.0021896101534366608\n",
      "Calculated total duration: 0:00:00\n",
      "baseline on \" data/vrp/scale-1000/Vrp-Set-X-n186.pkl \" Success\n",
      "  [*] Loading model from outputs/cvrp_100/cvrp100_rollout/epoch-99.pt\n"
     ]
    },
    {
     "name": "stderr",
     "output_type": "stream",
     "text": [
      "100%|██████████| 1/1 [00:02<00:00,  2.06s/it]\n"
     ]
    },
    {
     "name": "stdout",
     "output_type": "stream",
     "text": [
      "Average cost: 19.212594985961914 +- 0.0\n",
      "Average serial duration: 2.057695150375366 +- 0.0\n",
      "Average parallel duration: 0.0020094679202884436\n",
      "Calculated total duration: 0:00:00\n",
      "baseline on \" data/vrp/scale-1000/Vrp-Set-X-n190.pkl \" Success\n",
      "  [*] Loading model from outputs/cvrp_100/cvrp100_rollout/epoch-99.pt\n"
     ]
    },
    {
     "name": "stderr",
     "output_type": "stream",
     "text": [
      "100%|██████████| 1/1 [00:02<00:00,  2.22s/it]\n"
     ]
    },
    {
     "name": "stdout",
     "output_type": "stream",
     "text": [
      "Average cost: 49.74701690673828 +- 0.0\n",
      "Average serial duration: 2.213676691055298 +- 0.0\n",
      "Average parallel duration: 0.0021617936436086893\n",
      "Calculated total duration: 0:00:00\n",
      "baseline on \" data/vrp/scale-1000/Vrp-Set-X-n195.pkl \" Success\n",
      "  [*] Loading model from outputs/cvrp_100/cvrp100_rollout/epoch-99.pt\n"
     ]
    },
    {
     "name": "stderr",
     "output_type": "stream",
     "text": [
      "100%|██████████| 1/1 [00:02<00:00,  2.19s/it]\n"
     ]
    },
    {
     "name": "stdout",
     "output_type": "stream",
     "text": [
      "Average cost: 62.43413162231445 +- 0.0\n",
      "Average serial duration: 2.1867587566375732 +- 0.0\n",
      "Average parallel duration: 0.00213550659827888\n",
      "Calculated total duration: 0:00:00\n",
      "baseline on \" data/vrp/scale-1000/Vrp-Set-X-n200.pkl \" Success\n",
      "  [*] Loading model from outputs/cvrp_100/cvrp100_rollout/epoch-99.pt\n"
     ]
    },
    {
     "name": "stderr",
     "output_type": "stream",
     "text": [
      "100%|██████████| 1/1 [00:02<00:00,  2.19s/it]\n"
     ]
    },
    {
     "name": "stdout",
     "output_type": "stream",
     "text": [
      "Average cost: 20.83860969543457 +- 0.0\n",
      "Average serial duration: 2.1870365142822266 +- 0.0\n",
      "Average parallel duration: 0.002135777845978737\n",
      "Calculated total duration: 0:00:00\n",
      "baseline on \" data/vrp/scale-1000/Vrp-Set-X-n204.pkl \" Success\n",
      "  [*] Loading model from outputs/cvrp_100/cvrp100_rollout/epoch-99.pt\n"
     ]
    },
    {
     "name": "stderr",
     "output_type": "stream",
     "text": [
      "100%|██████████| 1/1 [00:02<00:00,  2.33s/it]\n"
     ]
    },
    {
     "name": "stdout",
     "output_type": "stream",
     "text": [
      "Average cost: 33.53498840332031 +- 0.0\n",
      "Average serial duration: 2.322920322418213 +- 0.0\n",
      "Average parallel duration: 0.002268476877361536\n",
      "Calculated total duration: 0:00:00\n",
      "baseline on \" data/vrp/scale-1000/Vrp-Set-X-n209.pkl \" Success\n",
      "  [*] Loading model from outputs/cvrp_100/cvrp100_rollout/epoch-99.pt\n"
     ]
    },
    {
     "name": "stderr",
     "output_type": "stream",
     "text": [
      "100%|██████████| 1/1 [00:02<00:00,  2.35s/it]\n"
     ]
    },
    {
     "name": "stdout",
     "output_type": "stream",
     "text": [
      "Average cost: 12.955891609191895 +- 0.0\n",
      "Average serial duration: 2.3478612899780273 +- 0.0\n",
      "Average parallel duration: 0.0022928332909941673\n",
      "Calculated total duration: 0:00:00\n",
      "baseline on \" data/vrp/scale-1000/Vrp-Set-X-n214.pkl \" Success\n",
      "  [*] Loading model from outputs/cvrp_100/cvrp100_rollout/epoch-99.pt\n"
     ]
    },
    {
     "name": "stderr",
     "output_type": "stream",
     "text": [
      "100%|██████████| 1/1 [00:02<00:00,  2.40s/it]\n"
     ]
    },
    {
     "name": "stdout",
     "output_type": "stream",
     "text": [
      "Average cost: 124.03919982910156 +- 0.0\n",
      "Average serial duration: 2.3907008171081543 +- 0.0\n",
      "Average parallel duration: 0.002334668766707182\n",
      "Calculated total duration: 0:00:00\n",
      "baseline on \" data/vrp/scale-1000/Vrp-Set-X-n219.pkl \" Success\n",
      "  [*] Loading model from outputs/cvrp_100/cvrp100_rollout/epoch-99.pt\n"
     ]
    },
    {
     "name": "stderr",
     "output_type": "stream",
     "text": [
      "100%|██████████| 1/1 [00:02<00:00,  2.33s/it]\n"
     ]
    },
    {
     "name": "stdout",
     "output_type": "stream",
     "text": [
      "Average cost: 43.349456787109375 +- 0.0\n",
      "Average serial duration: 2.3305702209472656 +- 0.0\n",
      "Average parallel duration: 0.002275947481393814\n",
      "Calculated total duration: 0:00:00\n",
      "baseline on \" data/vrp/scale-1000/Vrp-Set-X-n223.pkl \" Success\n",
      "  [*] Loading model from outputs/cvrp_100/cvrp100_rollout/epoch-99.pt\n"
     ]
    },
    {
     "name": "stderr",
     "output_type": "stream",
     "text": [
      "100%|██████████| 1/1 [00:02<00:00,  2.20s/it]\n"
     ]
    },
    {
     "name": "stdout",
     "output_type": "stream",
     "text": [
      "Average cost: 31.02572250366211 +- 0.0\n",
      "Average serial duration: 2.19828724861145 +- 0.0\n",
      "Average parallel duration: 0.0021467648912221193\n",
      "Calculated total duration: 0:00:00\n",
      "baseline on \" data/vrp/scale-1000/Vrp-Set-X-n228.pkl \" Success\n",
      "  [*] Loading model from outputs/cvrp_100/cvrp100_rollout/epoch-99.pt\n"
     ]
    },
    {
     "name": "stderr",
     "output_type": "stream",
     "text": [
      "100%|██████████| 1/1 [00:02<00:00,  2.15s/it]\n"
     ]
    },
    {
     "name": "stdout",
     "output_type": "stream",
     "text": [
      "Average cost: 21.717819213867188 +- 0.0\n",
      "Average serial duration: 2.150277614593506 +- 0.0\n",
      "Average parallel duration: 0.0020998804830014706\n",
      "Calculated total duration: 0:00:00\n",
      "baseline on \" data/vrp/scale-1000/Vrp-Set-X-n233.pkl \" Success\n",
      "  [*] Loading model from outputs/cvrp_100/cvrp100_rollout/epoch-99.pt\n"
     ]
    },
    {
     "name": "stderr",
     "output_type": "stream",
     "text": [
      "100%|██████████| 1/1 [00:02<00:00,  2.17s/it]\n"
     ]
    },
    {
     "name": "stdout",
     "output_type": "stream",
     "text": [
      "Average cost: 30.99350929260254 +- 0.0\n",
      "Average serial duration: 2.1713812351226807 +- 0.0\n",
      "Average parallel duration: 0.002120489487424493\n",
      "Calculated total duration: 0:00:00\n",
      "baseline on \" data/vrp/scale-1000/Vrp-Set-X-n237.pkl \" Success\n",
      "  [*] Loading model from outputs/cvrp_100/cvrp100_rollout/epoch-99.pt\n"
     ]
    },
    {
     "name": "stderr",
     "output_type": "stream",
     "text": [
      "100%|██████████| 1/1 [00:02<00:00,  2.26s/it]\n"
     ]
    },
    {
     "name": "stdout",
     "output_type": "stream",
     "text": [
      "Average cost: 88.1451644897461 +- 0.0\n",
      "Average serial duration: 2.2527084350585938 +- 0.0\n",
      "Average parallel duration: 0.002199910581111908\n",
      "Calculated total duration: 0:00:00\n",
      "baseline on \" data/vrp/scale-1000/Vrp-Set-X-n242.pkl \" Success\n",
      "  [*] Loading model from outputs/cvrp_100/cvrp100_rollout/epoch-99.pt\n"
     ]
    },
    {
     "name": "stderr",
     "output_type": "stream",
     "text": [
      "100%|██████████| 1/1 [00:02<00:00,  2.55s/it]\n"
     ]
    },
    {
     "name": "stdout",
     "output_type": "stream",
     "text": [
      "Average cost: 42.41280746459961 +- 0.0\n",
      "Average serial duration: 2.548262119293213 +- 0.0\n",
      "Average parallel duration: 0.002488537225872278\n",
      "Calculated total duration: 0:00:00\n",
      "baseline on \" data/vrp/scale-1000/Vrp-Set-X-n247.pkl \" Success\n",
      "  [*] Loading model from outputs/cvrp_100/cvrp100_rollout/epoch-99.pt\n"
     ]
    },
    {
     "name": "stderr",
     "output_type": "stream",
     "text": [
      "100%|██████████| 1/1 [00:02<00:00,  2.38s/it]\n"
     ]
    },
    {
     "name": "stdout",
     "output_type": "stream",
     "text": [
      "Average cost: 42.4037971496582 +- 0.0\n",
      "Average serial duration: 2.371123790740967 +- 0.0\n",
      "Average parallel duration: 0.0023155505768954754\n",
      "Calculated total duration: 0:00:00\n",
      "baseline on \" data/vrp/scale-1000/Vrp-Set-X-n251.pkl \" Success\n",
      "  [*] Loading model from outputs/cvrp_100/cvrp100_rollout/epoch-99.pt\n"
     ]
    },
    {
     "name": "stderr",
     "output_type": "stream",
     "text": [
      "100%|██████████| 1/1 [00:02<00:00,  2.33s/it]\n"
     ]
    },
    {
     "name": "stdout",
     "output_type": "stream",
     "text": [
      "Average cost: 21.46734046936035 +- 0.0\n",
      "Average serial duration: 2.3231260776519775 +- 0.0\n",
      "Average parallel duration: 0.0022686778102070093\n",
      "Calculated total duration: 0:00:00\n",
      "baseline on \" data/vrp/scale-1000/Vrp-Set-X-n256.pkl \" Success\n",
      "  [*] Loading model from outputs/cvrp_100/cvrp100_rollout/epoch-99.pt\n"
     ]
    },
    {
     "name": "stderr",
     "output_type": "stream",
     "text": [
      "100%|██████████| 1/1 [00:02<00:00,  2.38s/it]\n"
     ]
    },
    {
     "name": "stdout",
     "output_type": "stream",
     "text": [
      "Average cost: 30.170503616333008 +- 0.0\n",
      "Average serial duration: 2.3721225261688232 +- 0.0\n",
      "Average parallel duration: 0.0023165259044617414\n",
      "Calculated total duration: 0:00:00\n",
      "baseline on \" data/vrp/scale-1000/Vrp-Set-X-n261.pkl \" Success\n",
      "  [*] Loading model from outputs/cvrp_100/cvrp100_rollout/epoch-99.pt\n"
     ]
    },
    {
     "name": "stderr",
     "output_type": "stream",
     "text": [
      "100%|██████████| 1/1 [00:02<00:00,  2.36s/it]\n"
     ]
    },
    {
     "name": "stdout",
     "output_type": "stream",
     "text": [
      "Average cost: 81.40187072753906 +- 0.0\n",
      "Average serial duration: 2.353848695755005 +- 0.0\n",
      "Average parallel duration: 0.002298680366948247\n",
      "Calculated total duration: 0:00:00\n",
      "baseline on \" data/vrp/scale-1000/Vrp-Set-X-n266.pkl \" Success\n",
      "  [*] Loading model from outputs/cvrp_100/cvrp100_rollout/epoch-99.pt\n"
     ]
    },
    {
     "name": "stderr",
     "output_type": "stream",
     "text": [
      "100%|██████████| 1/1 [00:02<00:00,  2.36s/it]\n"
     ]
    },
    {
     "name": "stdout",
     "output_type": "stream",
     "text": [
      "Average cost: 38.689109802246094 +- 0.0\n",
      "Average serial duration: 2.351787567138672 +- 0.0\n",
      "Average parallel duration: 0.0022966675460338593\n",
      "Calculated total duration: 0:00:00\n",
      "baseline on \" data/vrp/scale-1000/Vrp-Set-X-n270.pkl \" Success\n",
      "  [*] Loading model from outputs/cvrp_100/cvrp100_rollout/epoch-99.pt\n"
     ]
    },
    {
     "name": "stderr",
     "output_type": "stream",
     "text": [
      "100%|██████████| 1/1 [00:02<00:00,  2.32s/it]\n"
     ]
    },
    {
     "name": "stdout",
     "output_type": "stream",
     "text": [
      "Average cost: 25.139760971069336 +- 0.0\n",
      "Average serial duration: 2.316718816757202 +- 0.0\n",
      "Average parallel duration: 0.0022624207194894552\n",
      "Calculated total duration: 0:00:00\n",
      "baseline on \" data/vrp/scale-1000/Vrp-Set-X-n275.pkl \" Success\n",
      "  [*] Loading model from outputs/cvrp_100/cvrp100_rollout/epoch-99.pt\n"
     ]
    },
    {
     "name": "stderr",
     "output_type": "stream",
     "text": [
      "100%|██████████| 1/1 [00:02<00:00,  2.30s/it]\n"
     ]
    },
    {
     "name": "stdout",
     "output_type": "stream",
     "text": [
      "Average cost: 37.56490707397461 +- 0.0\n",
      "Average serial duration: 2.2953765392303467 +- 0.0\n",
      "Average parallel duration: 0.0022415786515921354\n",
      "Calculated total duration: 0:00:00\n",
      "baseline on \" data/vrp/scale-1000/Vrp-Set-X-n280.pkl \" Success\n",
      "  [*] Loading model from outputs/cvrp_100/cvrp100_rollout/epoch-99.pt\n"
     ]
    },
    {
     "name": "stderr",
     "output_type": "stream",
     "text": [
      "100%|██████████| 1/1 [00:02<00:00,  2.35s/it]\n"
     ]
    },
    {
     "name": "stdout",
     "output_type": "stream",
     "text": [
      "Average cost: 26.235157012939453 +- 0.0\n",
      "Average serial duration: 2.3460476398468018 +- 0.0\n",
      "Average parallel duration: 0.0022910621482878923\n",
      "Calculated total duration: 0:00:00\n",
      "baseline on \" data/vrp/scale-1000/Vrp-Set-X-n284.pkl \" Success\n",
      "  [*] Loading model from outputs/cvrp_100/cvrp100_rollout/epoch-99.pt\n"
     ]
    },
    {
     "name": "stderr",
     "output_type": "stream",
     "text": [
      "100%|██████████| 1/1 [00:02<00:00,  2.71s/it]\n"
     ]
    },
    {
     "name": "stdout",
     "output_type": "stream",
     "text": [
      "Average cost: 103.43972778320312 +- 0.0\n",
      "Average serial duration: 2.7013256549835205 +- 0.0\n",
      "Average parallel duration: 0.0026380133349448442\n",
      "Calculated total duration: 0:00:00\n",
      "baseline on \" data/vrp/scale-1000/Vrp-Set-X-n289.pkl \" Success\n",
      "  [*] Loading model from outputs/cvrp_100/cvrp100_rollout/epoch-99.pt\n"
     ]
    },
    {
     "name": "stderr",
     "output_type": "stream",
     "text": [
      "100%|██████████| 1/1 [00:02<00:00,  2.54s/it]\n"
     ]
    },
    {
     "name": "stdout",
     "output_type": "stream",
     "text": [
      "Average cost: 51.744895935058594 +- 0.0\n",
      "Average serial duration: 2.5401997566223145 +- 0.0\n",
      "Average parallel duration: 0.002480663824826479\n",
      "Calculated total duration: 0:00:00\n",
      "baseline on \" data/vrp/scale-1000/Vrp-Set-X-n294.pkl \" Success\n",
      "  [*] Loading model from outputs/cvrp_100/cvrp100_rollout/epoch-99.pt\n"
     ]
    },
    {
     "name": "stderr",
     "output_type": "stream",
     "text": [
      "100%|██████████| 1/1 [00:02<00:00,  2.49s/it]\n"
     ]
    },
    {
     "name": "stdout",
     "output_type": "stream",
     "text": [
      "Average cost: 37.956146240234375 +- 0.0\n",
      "Average serial duration: 2.4862215518951416 +- 0.0\n",
      "Average parallel duration: 0.0024279507342725992\n",
      "Calculated total duration: 0:00:00\n",
      "baseline on \" data/vrp/scale-1000/Vrp-Set-X-n298.pkl \" Success\n",
      "  [*] Loading model from outputs/cvrp_100/cvrp100_rollout/epoch-99.pt\n"
     ]
    },
    {
     "name": "stderr",
     "output_type": "stream",
     "text": [
      "100%|██████████| 1/1 [00:02<00:00,  2.55s/it]\n"
     ]
    },
    {
     "name": "stdout",
     "output_type": "stream",
     "text": [
      "Average cost: 25.275522232055664 +- 0.0\n",
      "Average serial duration: 2.5424959659576416 +- 0.0\n",
      "Average parallel duration: 0.0024829062167555094\n",
      "Calculated total duration: 0:00:00\n",
      "baseline on \" data/vrp/scale-1000/Vrp-Set-X-n303.pkl \" Success\n",
      "  [*] Loading model from outputs/cvrp_100/cvrp100_rollout/epoch-99.pt\n"
     ]
    },
    {
     "name": "stderr",
     "output_type": "stream",
     "text": [
      "100%|██████████| 1/1 [00:02<00:00,  2.35s/it]\n"
     ]
    },
    {
     "name": "stdout",
     "output_type": "stream",
     "text": [
      "Average cost: 30.474552154541016 +- 0.0\n",
      "Average serial duration: 2.345585346221924 +- 0.0\n",
      "Average parallel duration: 0.0022906106896698475\n",
      "Calculated total duration: 0:00:00\n",
      "baseline on \" data/vrp/scale-1000/Vrp-Set-X-n308.pkl \" Success\n",
      "  [*] Loading model from outputs/cvrp_100/cvrp100_rollout/epoch-99.pt\n"
     ]
    },
    {
     "name": "stderr",
     "output_type": "stream",
     "text": [
      "100%|██████████| 1/1 [00:02<00:00,  2.55s/it]\n"
     ]
    },
    {
     "name": "stdout",
     "output_type": "stream",
     "text": [
      "Average cost: 101.64164733886719 +- 0.0\n",
      "Average serial duration: 2.551077127456665 +- 0.0\n",
      "Average parallel duration: 0.0024912862572818995\n",
      "Calculated total duration: 0:00:00\n",
      "baseline on \" data/vrp/scale-1000/Vrp-Set-X-n313.pkl \" Success\n",
      "  [*] Loading model from outputs/cvrp_100/cvrp100_rollout/epoch-99.pt\n"
     ]
    },
    {
     "name": "stderr",
     "output_type": "stream",
     "text": [
      "100%|██████████| 1/1 [00:02<00:00,  2.69s/it]\n"
     ]
    },
    {
     "name": "stdout",
     "output_type": "stream",
     "text": [
      "Average cost: 83.04063415527344 +- 0.0\n",
      "Average serial duration: 2.687203884124756 +- 0.0\n",
      "Average parallel duration: 0.002624222543090582\n",
      "Calculated total duration: 0:00:00\n",
      "baseline on \" data/vrp/scale-1000/Vrp-Set-X-n317.pkl \" Success\n",
      "  [*] Loading model from outputs/cvrp_100/cvrp100_rollout/epoch-99.pt\n"
     ]
    },
    {
     "name": "stderr",
     "output_type": "stream",
     "text": [
      "100%|██████████| 1/1 [00:02<00:00,  2.65s/it]\n"
     ]
    },
    {
     "name": "stdout",
     "output_type": "stream",
     "text": [
      "Average cost: 33.55645751953125 +- 0.0\n",
      "Average serial duration: 2.6498873233795166 +- 0.0\n",
      "Average parallel duration: 0.002587780589237809\n",
      "Calculated total duration: 0:00:00\n",
      "baseline on \" data/vrp/scale-1000/Vrp-Set-X-n322.pkl \" Success\n",
      "  [*] Loading model from outputs/cvrp_100/cvrp100_rollout/epoch-99.pt\n"
     ]
    },
    {
     "name": "stderr",
     "output_type": "stream",
     "text": [
      "100%|██████████| 1/1 [00:02<00:00,  2.58s/it]\n"
     ]
    },
    {
     "name": "stdout",
     "output_type": "stream",
     "text": [
      "Average cost: 32.330223083496094 +- 0.0\n",
      "Average serial duration: 2.5714948177337646 +- 0.0\n",
      "Average parallel duration: 0.0025112254079431295\n",
      "Calculated total duration: 0:00:00\n",
      "baseline on \" data/vrp/scale-1000/Vrp-Set-X-n327.pkl \" Success\n",
      "  [*] Loading model from outputs/cvrp_100/cvrp100_rollout/epoch-99.pt\n"
     ]
    },
    {
     "name": "stderr",
     "output_type": "stream",
     "text": [
      "100%|██████████| 1/1 [00:02<00:00,  2.44s/it]\n"
     ]
    },
    {
     "name": "stdout",
     "output_type": "stream",
     "text": [
      "Average cost: 34.913028717041016 +- 0.0\n",
      "Average serial duration: 2.4316904544830322 +- 0.0\n",
      "Average parallel duration: 0.002374697709456086\n",
      "Calculated total duration: 0:00:00\n",
      "baseline on \" data/vrp/scale-1000/Vrp-Set-X-n331.pkl \" Success\n",
      "  [*] Loading model from outputs/cvrp_100/cvrp100_rollout/epoch-99.pt\n"
     ]
    },
    {
     "name": "stderr",
     "output_type": "stream",
     "text": [
      "100%|██████████| 1/1 [00:02<00:00,  2.64s/it]\n"
     ]
    },
    {
     "name": "stdout",
     "output_type": "stream",
     "text": [
      "Average cost: 151.37881469726562 +- 0.0\n",
      "Average serial duration: 2.638129472732544 +- 0.0\n",
      "Average parallel duration: 0.002576298313215375\n",
      "Calculated total duration: 0:00:00\n",
      "baseline on \" data/vrp/scale-1000/Vrp-Set-X-n336.pkl \" Success\n",
      "  [*] Loading model from outputs/cvrp_100/cvrp100_rollout/epoch-99.pt\n"
     ]
    },
    {
     "name": "stderr",
     "output_type": "stream",
     "text": [
      "100%|██████████| 1/1 [00:02<00:00,  2.74s/it]\n"
     ]
    },
    {
     "name": "stdout",
     "output_type": "stream",
     "text": [
      "Average cost: 46.420413970947266 +- 0.0\n",
      "Average serial duration: 2.7381651401519775 +- 0.0\n",
      "Average parallel duration: 0.0026739893946796656\n",
      "Calculated total duration: 0:00:00\n",
      "baseline on \" data/vrp/scale-1000/Vrp-Set-X-n344.pkl \" Success\n",
      "  [*] Loading model from outputs/cvrp_100/cvrp100_rollout/epoch-99.pt\n"
     ]
    },
    {
     "name": "stderr",
     "output_type": "stream",
     "text": [
      "100%|██████████| 1/1 [00:02<00:00,  2.69s/it]\n"
     ]
    },
    {
     "name": "stdout",
     "output_type": "stream",
     "text": [
      "Average cost: 29.890174865722656 +- 0.0\n",
      "Average serial duration: 2.688211679458618 +- 0.0\n",
      "Average parallel duration: 0.002625206718221307\n",
      "Calculated total duration: 0:00:00\n",
      "baseline on \" data/vrp/scale-1000/Vrp-Set-X-n351.pkl \" Success\n",
      "  [*] Loading model from outputs/cvrp_100/cvrp100_rollout/epoch-99.pt\n"
     ]
    },
    {
     "name": "stderr",
     "output_type": "stream",
     "text": [
      "100%|██████████| 1/1 [00:02<00:00,  2.62s/it]\n"
     ]
    },
    {
     "name": "stdout",
     "output_type": "stream",
     "text": [
      "Average cost: 56.3687629699707 +- 0.0\n",
      "Average serial duration: 2.6212997436523438 +- 0.0\n",
      "Average parallel duration: 0.002559863030910492\n",
      "Calculated total duration: 0:00:00\n",
      "baseline on \" data/vrp/scale-1000/Vrp-Set-X-n359.pkl \" Success\n",
      "  [*] Loading model from outputs/cvrp_100/cvrp100_rollout/epoch-99.pt\n"
     ]
    },
    {
     "name": "stderr",
     "output_type": "stream",
     "text": [
      "100%|██████████| 1/1 [00:02<00:00,  2.67s/it]\n"
     ]
    },
    {
     "name": "stdout",
     "output_type": "stream",
     "text": [
      "Average cost: 28.03919792175293 +- 0.0\n",
      "Average serial duration: 2.667792797088623 +- 0.0\n",
      "Average parallel duration: 0.0026052664034068584\n",
      "Calculated total duration: 0:00:00\n",
      "baseline on \" data/vrp/scale-1000/Vrp-Set-X-n367.pkl \" Success\n",
      "  [*] Loading model from outputs/cvrp_100/cvrp100_rollout/epoch-99.pt\n"
     ]
    },
    {
     "name": "stderr",
     "output_type": "stream",
     "text": [
      "100%|██████████| 1/1 [00:02<00:00,  2.87s/it]\n"
     ]
    },
    {
     "name": "stdout",
     "output_type": "stream",
     "text": [
      "Average cost: 154.2961883544922 +- 0.0\n",
      "Average serial duration: 2.869358539581299 +- 0.0\n",
      "Average parallel duration: 0.002802107948809862\n",
      "Calculated total duration: 0:00:00\n",
      "baseline on \" data/vrp/scale-1000/Vrp-Set-X-n376.pkl \" Success\n",
      "  [*] Loading model from outputs/cvrp_100/cvrp100_rollout/epoch-99.pt\n"
     ]
    },
    {
     "name": "stderr",
     "output_type": "stream",
     "text": [
      "100%|██████████| 1/1 [00:02<00:00,  2.68s/it]\n"
     ]
    },
    {
     "name": "stdout",
     "output_type": "stream",
     "text": [
      "Average cost: 73.07315826416016 +- 0.0\n",
      "Average serial duration: 2.672299861907959 +- 0.0\n",
      "Average parallel duration: 0.002609667833894491\n",
      "Calculated total duration: 0:00:00\n",
      "baseline on \" data/vrp/scale-1000/Vrp-Set-X-n384.pkl \" Success\n",
      "  [*] Loading model from outputs/cvrp_100/cvrp100_rollout/epoch-99.pt\n"
     ]
    },
    {
     "name": "stderr",
     "output_type": "stream",
     "text": [
      "100%|██████████| 1/1 [00:02<00:00,  2.89s/it]\n"
     ]
    },
    {
     "name": "stdout",
     "output_type": "stream",
     "text": [
      "Average cost: 43.91635513305664 +- 0.0\n",
      "Average serial duration: 2.890467882156372 +- 0.0\n",
      "Average parallel duration: 0.002822722541168332\n",
      "Calculated total duration: 0:00:00\n",
      "baseline on \" data/vrp/scale-1000/Vrp-Set-X-n393.pkl \" Success\n",
      "  [*] Loading model from outputs/cvrp_100/cvrp100_rollout/epoch-99.pt\n"
     ]
    },
    {
     "name": "stderr",
     "output_type": "stream",
     "text": [
      "100%|██████████| 1/1 [00:02<00:00,  2.82s/it]\n"
     ]
    },
    {
     "name": "stdout",
     "output_type": "stream",
     "text": [
      "Average cost: 71.73313903808594 +- 0.0\n",
      "Average serial duration: 2.813389301300049 +- 0.0\n",
      "Average parallel duration: 0.002747450489550829\n",
      "Calculated total duration: 0:00:00\n",
      "baseline on \" data/vrp/scale-1000/Vrp-Set-X-n401.pkl \" Success\n",
      "  [*] Loading model from outputs/cvrp_100/cvrp100_rollout/epoch-99.pt\n"
     ]
    },
    {
     "name": "stderr",
     "output_type": "stream",
     "text": [
      "100%|██████████| 1/1 [00:02<00:00,  2.64s/it]\n"
     ]
    },
    {
     "name": "stdout",
     "output_type": "stream",
     "text": [
      "Average cost: 26.063796997070312 +- 0.0\n",
      "Average serial duration: 2.633970260620117 +- 0.0\n",
      "Average parallel duration: 0.002572236582636833\n",
      "Calculated total duration: 0:00:00\n",
      "baseline on \" data/vrp/scale-1000/Vrp-Set-X-n411.pkl \" Success\n",
      "  [*] Loading model from outputs/cvrp_100/cvrp100_rollout/epoch-99.pt\n"
     ]
    },
    {
     "name": "stderr",
     "output_type": "stream",
     "text": [
      "100%|██████████| 1/1 [00:03<00:00,  3.01s/it]\n"
     ]
    },
    {
     "name": "stdout",
     "output_type": "stream",
     "text": [
      "Average cost: 122.54820251464844 +- 0.0\n",
      "Average serial duration: 3.0128724575042725 +- 0.0\n",
      "Average parallel duration: 0.002942258259281516\n",
      "Calculated total duration: 0:00:00\n",
      "baseline on \" data/vrp/scale-1000/Vrp-Set-X-n420.pkl \" Success\n",
      "  [*] Loading model from outputs/cvrp_100/cvrp100_rollout/epoch-99.pt\n"
     ]
    },
    {
     "name": "stderr",
     "output_type": "stream",
     "text": [
      "100%|██████████| 1/1 [00:02<00:00,  2.82s/it]\n"
     ]
    },
    {
     "name": "stdout",
     "output_type": "stream",
     "text": [
      "Average cost: 72.98828887939453 +- 0.0\n",
      "Average serial duration: 2.8218953609466553 +- 0.0\n",
      "Average parallel duration: 0.002755757188424468\n",
      "Calculated total duration: 0:00:00\n",
      "baseline on \" data/vrp/scale-1000/Vrp-Set-X-n429.pkl \" Success\n",
      "  [*] Loading model from outputs/cvrp_100/cvrp100_rollout/epoch-99.pt\n"
     ]
    },
    {
     "name": "stderr",
     "output_type": "stream",
     "text": [
      "100%|██████████| 1/1 [00:02<00:00,  2.95s/it]\n"
     ]
    },
    {
     "name": "stdout",
     "output_type": "stream",
     "text": [
      "Average cost: 41.2077522277832 +- 0.0\n",
      "Average serial duration: 2.949777126312256 +- 0.0\n",
      "Average parallel duration: 0.0028806417249143124\n",
      "Calculated total duration: 0:00:00\n",
      "baseline on \" data/vrp/scale-1000/Vrp-Set-X-n439.pkl \" Success\n",
      "  [*] Loading model from outputs/cvrp_100/cvrp100_rollout/epoch-99.pt\n"
     ]
    },
    {
     "name": "stderr",
     "output_type": "stream",
     "text": [
      "100%|██████████| 1/1 [00:02<00:00,  2.89s/it]\n"
     ]
    },
    {
     "name": "stdout",
     "output_type": "stream",
     "text": [
      "Average cost: 61.93435287475586 +- 0.0\n",
      "Average serial duration: 2.884150743484497 +- 0.0\n",
      "Average parallel duration: 0.002816553460434079\n",
      "Calculated total duration: 0:00:00\n",
      "baseline on \" data/vrp/scale-1000/Vrp-Set-X-n449.pkl \" Success\n",
      "  [*] Loading model from outputs/cvrp_100/cvrp100_rollout/epoch-99.pt\n"
     ]
    },
    {
     "name": "stderr",
     "output_type": "stream",
     "text": [
      "100%|██████████| 1/1 [00:02<00:00,  2.80s/it]\n"
     ]
    },
    {
     "name": "stdout",
     "output_type": "stream",
     "text": [
      "Average cost: 29.428741455078125 +- 0.0\n",
      "Average serial duration: 2.792680263519287 +- 0.0\n",
      "Average parallel duration: 0.002727226819843054\n",
      "Calculated total duration: 0:00:00\n",
      "baseline on \" data/vrp/scale-1000/Vrp-Set-X-n459.pkl \" Success\n",
      "  [*] Loading model from outputs/cvrp_100/cvrp100_rollout/epoch-99.pt\n"
     ]
    },
    {
     "name": "stderr",
     "output_type": "stream",
     "text": [
      "100%|██████████| 1/1 [00:03<00:00,  3.26s/it]\n"
     ]
    },
    {
     "name": "stdout",
     "output_type": "stream",
     "text": [
      "Average cost: 245.20188903808594 +- 0.0\n",
      "Average serial duration: 3.252826452255249 +- 0.0\n",
      "Average parallel duration: 0.0031765883322805166\n",
      "Calculated total duration: 0:00:00\n",
      "baseline on \" data/vrp/scale-1000/Vrp-Set-X-n469.pkl \" Success\n",
      "  [*] Loading model from outputs/cvrp_100/cvrp100_rollout/epoch-99.pt\n"
     ]
    },
    {
     "name": "stderr",
     "output_type": "stream",
     "text": [
      "100%|██████████| 1/1 [00:03<00:00,  3.09s/it]\n"
     ]
    },
    {
     "name": "stdout",
     "output_type": "stream",
     "text": [
      "Average cost: 96.7851333618164 +- 0.0\n",
      "Average serial duration: 3.089611768722534 +- 0.0\n",
      "Average parallel duration: 0.0030171989928931\n",
      "Calculated total duration: 0:00:00\n",
      "baseline on \" data/vrp/scale-1000/Vrp-Set-X-n480.pkl \" Success\n",
      "  [*] Loading model from outputs/cvrp_100/cvrp100_rollout/epoch-99.pt\n"
     ]
    },
    {
     "name": "stderr",
     "output_type": "stream",
     "text": [
      "100%|██████████| 1/1 [00:03<00:00,  3.07s/it]\n"
     ]
    },
    {
     "name": "stdout",
     "output_type": "stream",
     "text": [
      "Average cost: 74.40702056884766 +- 0.0\n",
      "Average serial duration: 3.06964111328125 +- 0.0\n",
      "Average parallel duration: 0.0029976963996887207\n",
      "Calculated total duration: 0:00:00\n",
      "baseline on \" data/vrp/scale-1000/Vrp-Set-X-n491.pkl \" Success\n",
      "  [*] Loading model from outputs/cvrp_100/cvrp100_rollout/epoch-99.pt\n"
     ]
    },
    {
     "name": "stderr",
     "output_type": "stream",
     "text": [
      "100%|██████████| 1/1 [00:02<00:00,  2.90s/it]\n"
     ]
    },
    {
     "name": "stdout",
     "output_type": "stream",
     "text": [
      "Average cost: 73.13492584228516 +- 0.0\n",
      "Average serial duration: 2.8978095054626465 +- 0.0\n",
      "Average parallel duration: 0.0028298920951783657\n",
      "Calculated total duration: 0:00:00\n",
      "baseline on \" data/vrp/scale-1000/Vrp-Set-X-n502.pkl \" Success\n",
      "  [*] Loading model from outputs/cvrp_100/cvrp100_rollout/epoch-99.pt\n"
     ]
    },
    {
     "name": "stderr",
     "output_type": "stream",
     "text": [
      "100%|██████████| 1/1 [00:03<00:00,  3.14s/it]\n"
     ]
    },
    {
     "name": "stdout",
     "output_type": "stream",
     "text": [
      "Average cost: 30.872493743896484 +- 0.0\n",
      "Average serial duration: 3.1320555210113525 +- 0.0\n",
      "Average parallel duration: 0.003058647969737649\n",
      "Calculated total duration: 0:00:00\n",
      "baseline on \" data/vrp/scale-1000/Vrp-Set-X-n513.pkl \" Success\n",
      "  [*] Loading model from outputs/cvrp_100/cvrp100_rollout/epoch-99.pt\n"
     ]
    },
    {
     "name": "stderr",
     "output_type": "stream",
     "text": [
      "100%|██████████| 1/1 [00:03<00:00,  3.23s/it]\n"
     ]
    },
    {
     "name": "stdout",
     "output_type": "stream",
     "text": [
      "Average cost: 179.877685546875 +- 0.0\n",
      "Average serial duration: 3.2309679985046387 +- 0.0\n",
      "Average parallel duration: 0.003155242186039686\n",
      "Calculated total duration: 0:00:00\n",
      "baseline on \" data/vrp/scale-1000/Vrp-Set-X-n524.pkl \" Success\n",
      "  [*] Loading model from outputs/cvrp_100/cvrp100_rollout/epoch-99.pt\n"
     ]
    },
    {
     "name": "stderr",
     "output_type": "stream",
     "text": [
      "100%|██████████| 1/1 [00:03<00:00,  3.34s/it]\n"
     ]
    },
    {
     "name": "stdout",
     "output_type": "stream",
     "text": [
      "Average cost: 109.17974090576172 +- 0.0\n",
      "Average serial duration: 3.3317089080810547 +- 0.0\n",
      "Average parallel duration: 0.003253621980547905\n",
      "Calculated total duration: 0:00:00\n",
      "baseline on \" data/vrp/scale-1000/Vrp-Set-X-n536.pkl \" Success\n",
      "  [*] Loading model from outputs/cvrp_100/cvrp100_rollout/epoch-99.pt\n"
     ]
    },
    {
     "name": "stderr",
     "output_type": "stream",
     "text": [
      "100%|██████████| 1/1 [00:02<00:00,  2.94s/it]\n"
     ]
    },
    {
     "name": "stdout",
     "output_type": "stream",
     "text": [
      "Average cost: 102.94043731689453 +- 0.0\n",
      "Average serial duration: 2.9353902339935303 +- 0.0\n",
      "Average parallel duration: 0.002866592025384307\n",
      "Calculated total duration: 0:00:00\n",
      "baseline on \" data/vrp/scale-1000/Vrp-Set-X-n548.pkl \" Success\n",
      "  [*] Loading model from outputs/cvrp_100/cvrp100_rollout/epoch-99.pt\n"
     ]
    },
    {
     "name": "stderr",
     "output_type": "stream",
     "text": [
      "100%|██████████| 1/1 [00:03<00:00,  3.33s/it]\n"
     ]
    },
    {
     "name": "stdout",
     "output_type": "stream",
     "text": [
      "Average cost: 50.28854751586914 +- 0.0\n",
      "Average serial duration: 3.323079824447632 +- 0.0\n",
      "Average parallel duration: 0.0032451951410621405\n",
      "Calculated total duration: 0:00:00\n",
      "baseline on \" data/vrp/scale-1000/Vrp-Set-X-n561.pkl \" Success\n",
      "  [*] Loading model from outputs/cvrp_100/cvrp100_rollout/epoch-99.pt\n"
     ]
    },
    {
     "name": "stderr",
     "output_type": "stream",
     "text": [
      "100%|██████████| 1/1 [00:03<00:00,  3.32s/it]\n"
     ]
    },
    {
     "name": "stdout",
     "output_type": "stream",
     "text": [
      "Average cost: 58.2529182434082 +- 0.0\n",
      "Average serial duration: 3.320460796356201 +- 0.0\n",
      "Average parallel duration: 0.0032426374964416027\n",
      "Calculated total duration: 0:00:00\n",
      "baseline on \" data/vrp/scale-1000/Vrp-Set-X-n573.pkl \" Success\n",
      "  [*] Loading model from outputs/cvrp_100/cvrp100_rollout/epoch-99.pt\n"
     ]
    },
    {
     "name": "stderr",
     "output_type": "stream",
     "text": [
      "100%|██████████| 1/1 [00:03<00:00,  3.53s/it]\n"
     ]
    },
    {
     "name": "stdout",
     "output_type": "stream",
     "text": [
      "Average cost: 212.0902099609375 +- 0.0\n",
      "Average serial duration: 3.5270097255706787 +- 0.0\n",
      "Average parallel duration: 0.003444345435127616\n",
      "Calculated total duration: 0:00:00\n",
      "baseline on \" data/vrp/scale-1000/Vrp-Set-X-n586.pkl \" Success\n",
      "  [*] Loading model from outputs/cvrp_100/cvrp100_rollout/epoch-99.pt\n"
     ]
    },
    {
     "name": "stderr",
     "output_type": "stream",
     "text": [
      "100%|██████████| 1/1 [00:03<00:00,  3.57s/it]\n"
     ]
    },
    {
     "name": "stdout",
     "output_type": "stream",
     "text": [
      "Average cost: 117.9917984008789 +- 0.0\n",
      "Average serial duration: 3.5702619552612305 +- 0.0\n",
      "Average parallel duration: 0.0034865839406847954\n",
      "Calculated total duration: 0:00:00\n",
      "baseline on \" data/vrp/scale-1000/Vrp-Set-X-n599.pkl \" Success\n",
      "  [*] Loading model from outputs/cvrp_100/cvrp100_rollout/epoch-99.pt\n"
     ]
    },
    {
     "name": "stderr",
     "output_type": "stream",
     "text": [
      "100%|██████████| 1/1 [00:03<00:00,  3.35s/it]\n"
     ]
    },
    {
     "name": "stdout",
     "output_type": "stream",
     "text": [
      "Average cost: 69.39718627929688 +- 0.0\n",
      "Average serial duration: 3.3471791744232178 +- 0.0\n",
      "Average parallel duration: 0.0032687296625226736\n",
      "Calculated total duration: 0:00:00\n",
      "baseline on \" data/vrp/scale-1000/Vrp-Set-X-n613.pkl \" Success\n",
      "  [*] Loading model from outputs/cvrp_100/cvrp100_rollout/epoch-99.pt\n"
     ]
    },
    {
     "name": "stderr",
     "output_type": "stream",
     "text": [
      "100%|██████████| 1/1 [00:03<00:00,  3.28s/it]\n"
     ]
    },
    {
     "name": "stdout",
     "output_type": "stream",
     "text": [
      "Average cost: 73.36991119384766 +- 0.0\n",
      "Average serial duration: 3.2770891189575195 +- 0.0\n",
      "Average parallel duration: 0.0032002823427319527\n",
      "Calculated total duration: 0:00:00\n",
      "baseline on \" data/vrp/scale-1000/Vrp-Set-X-n627.pkl \" Success\n",
      "  [*] Loading model from outputs/cvrp_100/cvrp100_rollout/epoch-99.pt\n"
     ]
    },
    {
     "name": "stderr",
     "output_type": "stream",
     "text": [
      "100%|██████████| 1/1 [00:03<00:00,  3.46s/it]\n"
     ]
    },
    {
     "name": "stdout",
     "output_type": "stream",
     "text": [
      "Average cost: 72.8984375 +- 0.0\n",
      "Average serial duration: 3.454493284225464 +- 0.0\n",
      "Average parallel duration: 0.0033735285978764296\n",
      "Calculated total duration: 0:00:00\n",
      "baseline on \" data/vrp/scale-1000/Vrp-Set-X-n641.pkl \" Success\n",
      "  [*] Loading model from outputs/cvrp_100/cvrp100_rollout/epoch-99.pt\n"
     ]
    },
    {
     "name": "stderr",
     "output_type": "stream",
     "text": [
      "100%|██████████| 1/1 [00:03<00:00,  3.62s/it]\n"
     ]
    },
    {
     "name": "stdout",
     "output_type": "stream",
     "text": [
      "Average cost: 114.27893829345703 +- 0.0\n",
      "Average serial duration: 3.6126489639282227 +- 0.0\n",
      "Average parallel duration: 0.003527977503836155\n",
      "Calculated total duration: 0:00:00\n",
      "baseline on \" data/vrp/scale-1000/Vrp-Set-X-n655.pkl \" Success\n",
      "  [*] Loading model from outputs/cvrp_100/cvrp100_rollout/epoch-99.pt\n"
     ]
    },
    {
     "name": "stderr",
     "output_type": "stream",
     "text": [
      "100%|██████████| 1/1 [00:03<00:00,  3.91s/it]\n"
     ]
    },
    {
     "name": "stdout",
     "output_type": "stream",
     "text": [
      "Average cost: 166.46817016601562 +- 0.0\n",
      "Average serial duration: 3.911858320236206 +- 0.0\n",
      "Average parallel duration: 0.00382017414085567\n",
      "Calculated total duration: 0:00:00\n",
      "baseline on \" data/vrp/scale-1000/Vrp-Set-X-n670.pkl \" Success\n",
      "  [*] Loading model from outputs/cvrp_100/cvrp100_rollout/epoch-99.pt\n"
     ]
    },
    {
     "name": "stderr",
     "output_type": "stream",
     "text": [
      "100%|██████████| 1/1 [00:03<00:00,  3.41s/it]\n"
     ]
    },
    {
     "name": "stdout",
     "output_type": "stream",
     "text": [
      "Average cost: 82.71256256103516 +- 0.0\n",
      "Average serial duration: 3.4104857444763184 +- 0.0\n",
      "Average parallel duration: 0.0033305524848401546\n",
      "Calculated total duration: 0:00:00\n",
      "baseline on \" data/vrp/scale-1000/Vrp-Set-X-n685.pkl \" Success\n",
      "  [*] Loading model from outputs/cvrp_100/cvrp100_rollout/epoch-99.pt\n"
     ]
    },
    {
     "name": "stderr",
     "output_type": "stream",
     "text": [
      "100%|██████████| 1/1 [00:03<00:00,  3.41s/it]\n"
     ]
    },
    {
     "name": "stdout",
     "output_type": "stream",
     "text": [
      "Average cost: 92.59307098388672 +- 0.0\n",
      "Average serial duration: 3.4048125743865967 +- 0.0\n",
      "Average parallel duration: 0.003325012279674411\n",
      "Calculated total duration: 0:00:00\n",
      "baseline on \" data/vrp/scale-1000/Vrp-Set-X-n701.pkl \" Success\n",
      "  [*] Loading model from outputs/cvrp_100/cvrp100_rollout/epoch-99.pt\n"
     ]
    },
    {
     "name": "stderr",
     "output_type": "stream",
     "text": [
      "100%|██████████| 1/1 [00:03<00:00,  3.63s/it]\n"
     ]
    },
    {
     "name": "stdout",
     "output_type": "stream",
     "text": [
      "Average cost: 54.469444274902344 +- 0.0\n",
      "Average serial duration: 3.626331090927124 +- 0.0\n",
      "Average parallel duration: 0.0035413389559835196\n",
      "Calculated total duration: 0:00:00\n",
      "baseline on \" data/vrp/scale-1000/Vrp-Set-X-n716.pkl \" Success\n",
      "  [*] Loading model from outputs/cvrp_100/cvrp100_rollout/epoch-99.pt\n"
     ]
    },
    {
     "name": "stderr",
     "output_type": "stream",
     "text": [
      "100%|██████████| 1/1 [00:04<00:00,  4.12s/it]\n"
     ]
    },
    {
     "name": "stdout",
     "output_type": "stream",
     "text": [
      "Average cost: 151.78948974609375 +- 0.0\n",
      "Average serial duration: 4.1153504848480225 +- 0.0\n",
      "Average parallel duration: 0.004018896957859397\n",
      "Calculated total duration: 0:00:00\n",
      "baseline on \" data/vrp/scale-1000/Vrp-Set-X-n733.pkl \" Success\n",
      "  [*] Loading model from outputs/cvrp_100/cvrp100_rollout/epoch-99.pt\n"
     ]
    },
    {
     "name": "stderr",
     "output_type": "stream",
     "text": [
      "100%|██████████| 1/1 [00:03<00:00,  3.94s/it]\n"
     ]
    },
    {
     "name": "stdout",
     "output_type": "stream",
     "text": [
      "Average cost: 88.28519439697266 +- 0.0\n",
      "Average serial duration: 3.933760404586792 +- 0.0\n",
      "Average parallel duration: 0.003841562895104289\n",
      "Calculated total duration: 0:00:00\n",
      "baseline on \" data/vrp/scale-1000/Vrp-Set-X-n749.pkl \" Success\n",
      "  [*] Loading model from outputs/cvrp_100/cvrp100_rollout/epoch-99.pt\n"
     ]
    },
    {
     "name": "stderr",
     "output_type": "stream",
     "text": [
      "100%|██████████| 1/1 [00:03<00:00,  3.89s/it]\n"
     ]
    },
    {
     "name": "stdout",
     "output_type": "stream",
     "text": [
      "Average cost: 128.47727966308594 +- 0.0\n",
      "Average serial duration: 3.888206720352173 +- 0.0\n",
      "Average parallel duration: 0.003797076875343919\n",
      "Calculated total duration: 0:00:00\n",
      "baseline on \" data/vrp/scale-1000/Vrp-Set-X-n766.pkl \" Success\n",
      "  [*] Loading model from outputs/cvrp_100/cvrp100_rollout/epoch-99.pt\n"
     ]
    },
    {
     "name": "stderr",
     "output_type": "stream",
     "text": [
      "100%|██████████| 1/1 [00:04<00:00,  4.09s/it]\n"
     ]
    },
    {
     "name": "stdout",
     "output_type": "stream",
     "text": [
      "Average cost: 89.32062530517578 +- 0.0\n",
      "Average serial duration: 4.0909271240234375 +- 0.0\n",
      "Average parallel duration: 0.003995046019554138\n",
      "Calculated total duration: 0:00:00\n",
      "baseline on \" data/vrp/scale-1000/Vrp-Set-X-n783.pkl \" Success\n",
      "  [*] Loading model from outputs/cvrp_100/cvrp100_rollout/epoch-99.pt\n"
     ]
    },
    {
     "name": "stderr",
     "output_type": "stream",
     "text": [
      "100%|██████████| 1/1 [00:03<00:00,  3.83s/it]\n"
     ]
    },
    {
     "name": "stdout",
     "output_type": "stream",
     "text": [
      "Average cost: 88.9349594116211 +- 0.0\n",
      "Average serial duration: 3.829329013824463 +- 0.0\n",
      "Average parallel duration: 0.003739579115062952\n",
      "Calculated total duration: 0:00:00\n",
      "baseline on \" data/vrp/scale-1000/Vrp-Set-X-n801.pkl \" Success\n",
      "  [*] Loading model from outputs/cvrp_100/cvrp100_rollout/epoch-99.pt\n"
     ]
    },
    {
     "name": "stderr",
     "output_type": "stream",
     "text": [
      "100%|██████████| 1/1 [00:04<00:00,  4.40s/it]\n"
     ]
    },
    {
     "name": "stdout",
     "output_type": "stream",
     "text": [
      "Average cost: 175.28713989257812 +- 0.0\n",
      "Average serial duration: 4.394322395324707 +- 0.0\n",
      "Average parallel duration: 0.004291330464184284\n",
      "Calculated total duration: 0:00:00\n",
      "baseline on \" data/vrp/scale-1000/Vrp-Set-X-n819.pkl \" Success\n",
      "  [*] Loading model from outputs/cvrp_100/cvrp100_rollout/epoch-99.pt\n"
     ]
    },
    {
     "name": "stderr",
     "output_type": "stream",
     "text": [
      "100%|██████████| 1/1 [00:04<00:00,  4.27s/it]\n"
     ]
    },
    {
     "name": "stdout",
     "output_type": "stream",
     "text": [
      "Average cost: 215.20059204101562 +- 0.0\n",
      "Average serial duration: 4.2636191844940186 +- 0.0\n",
      "Average parallel duration: 0.00416369060985744\n",
      "Calculated total duration: 0:00:00\n",
      "baseline on \" data/vrp/scale-1000/Vrp-Set-X-n837.pkl \" Success\n",
      "  [*] Loading model from outputs/cvrp_100/cvrp100_rollout/epoch-99.pt\n"
     ]
    },
    {
     "name": "stderr",
     "output_type": "stream",
     "text": [
      "100%|██████████| 1/1 [00:04<00:00,  4.24s/it]\n"
     ]
    },
    {
     "name": "stdout",
     "output_type": "stream",
     "text": [
      "Average cost: 101.619873046875 +- 0.0\n",
      "Average serial duration: 4.233278274536133 +- 0.0\n",
      "Average parallel duration: 0.004134060814976692\n",
      "Calculated total duration: 0:00:00\n",
      "baseline on \" data/vrp/scale-1000/Vrp-Set-X-n856.pkl \" Success\n",
      "  [*] Loading model from outputs/cvrp_100/cvrp100_rollout/epoch-99.pt\n"
     ]
    },
    {
     "name": "stderr",
     "output_type": "stream",
     "text": [
      "100%|██████████| 1/1 [00:04<00:00,  4.16s/it]\n"
     ]
    },
    {
     "name": "stdout",
     "output_type": "stream",
     "text": [
      "Average cost: 111.44991302490234 +- 0.0\n",
      "Average serial duration: 4.161881446838379 +- 0.0\n",
      "Average parallel duration: 0.004064337350428104\n",
      "Calculated total duration: 0:00:00\n",
      "baseline on \" data/vrp/scale-1000/Vrp-Set-X-n876.pkl \" Success\n",
      "  [*] Loading model from outputs/cvrp_100/cvrp100_rollout/epoch-99.pt\n"
     ]
    },
    {
     "name": "stderr",
     "output_type": "stream",
     "text": [
      "100%|██████████| 1/1 [00:04<00:00,  4.02s/it]\n"
     ]
    },
    {
     "name": "stdout",
     "output_type": "stream",
     "text": [
      "Average cost: 66.4381103515625 +- 0.0\n",
      "Average serial duration: 4.015859127044678 +- 0.0\n",
      "Average parallel duration: 0.003921737428754568\n",
      "Calculated total duration: 0:00:00\n",
      "baseline on \" data/vrp/scale-1000/Vrp-Set-X-n895.pkl \" Success\n",
      "  [*] Loading model from outputs/cvrp_100/cvrp100_rollout/epoch-99.pt\n"
     ]
    },
    {
     "name": "stderr",
     "output_type": "stream",
     "text": [
      "100%|██████████| 1/1 [00:04<00:00,  4.68s/it]\n"
     ]
    },
    {
     "name": "stdout",
     "output_type": "stream",
     "text": [
      "Average cost: 359.4068908691406 +- 0.0\n",
      "Average serial duration: 4.676652193069458 +- 0.0\n",
      "Average parallel duration: 0.004567043157294393\n",
      "Calculated total duration: 0:00:00\n",
      "baseline on \" data/vrp/scale-1000/Vrp-Set-X-n916.pkl \" Success\n",
      "  [*] Loading model from outputs/cvrp_100/cvrp100_rollout/epoch-99.pt\n"
     ]
    },
    {
     "name": "stderr",
     "output_type": "stream",
     "text": [
      "100%|██████████| 1/1 [00:04<00:00,  4.61s/it]\n"
     ]
    },
    {
     "name": "stdout",
     "output_type": "stream",
     "text": [
      "Average cost: 162.02471923828125 +- 0.0\n",
      "Average serial duration: 4.60401725769043 +- 0.0\n",
      "Average parallel duration: 0.00449611060321331\n",
      "Calculated total duration: 0:00:00\n",
      "baseline on \" data/vrp/scale-1000/Vrp-Set-X-n936.pkl \" Success\n",
      "  [*] Loading model from outputs/cvrp_100/cvrp100_rollout/epoch-99.pt\n"
     ]
    },
    {
     "name": "stderr",
     "output_type": "stream",
     "text": [
      "100%|██████████| 1/1 [00:04<00:00,  4.44s/it]\n"
     ]
    },
    {
     "name": "stdout",
     "output_type": "stream",
     "text": [
      "Average cost: 110.49635314941406 +- 0.0\n",
      "Average serial duration: 4.432770013809204 +- 0.0\n",
      "Average parallel duration: 0.004328876966610551\n",
      "Calculated total duration: 0:00:00\n",
      "baseline on \" data/vrp/scale-1000/Vrp-Set-X-n957.pkl \" Success\n",
      "  [*] Loading model from outputs/cvrp_100/cvrp100_rollout/epoch-99.pt\n"
     ]
    },
    {
     "name": "stderr",
     "output_type": "stream",
     "text": [
      "100%|██████████| 1/1 [00:04<00:00,  4.36s/it]\n"
     ]
    },
    {
     "name": "stdout",
     "output_type": "stream",
     "text": [
      "Average cost: 135.989990234375 +- 0.0\n",
      "Average serial duration: 4.349172353744507 +- 0.0\n",
      "Average parallel duration: 0.00424723862670362\n",
      "Calculated total duration: 0:00:00\n",
      "baseline on \" data/vrp/scale-1000/Vrp-Set-X-n979.pkl \" Success\n",
      "  [*] Loading model from outputs/cvrp_100/cvrp100_rollout/epoch-99.pt\n"
     ]
    },
    {
     "name": "stderr",
     "output_type": "stream",
     "text": [
      "  0%|          | 0/1 [00:01<?, ?it/s]\n",
      "Traceback (most recent call last):\n",
      "  File \"/home/xunj/GradWork/test_package/cvrp_land/MLs/AM/eval.py\", line 216, in <module>\n",
      "    eval_dataset(dataset_path, width, opts.softmax_temperature, opts)\n",
      "  File \"/home/xunj/GradWork/test_package/cvrp_land/MLs/AM/eval.py\", line 70, in eval_dataset\n",
      "    results = _eval_dataset(model, dataset, width, softmax_temp, opts, device)\n",
      "              ^^^^^^^^^^^^^^^^^^^^^^^^^^^^^^^^^^^^^^^^^^^^^^^^^^^^^^^^^^^^^^^^\n",
      "  File \"/home/xunj/GradWork/test_package/cvrp_land/MLs/AM/eval.py\", line 140, in _eval_dataset\n",
      "    sequences, costs = model.sample_many(batch, batch_rep=batch_rep, iter_rep=iter_rep)\n",
      "                       ^^^^^^^^^^^^^^^^^^^^^^^^^^^^^^^^^^^^^^^^^^^^^^^^^^^^^^^^^^^^^^^^\n",
      "  File \"/home/xunj/GradWork/test_package/cvrp_land/MLs/AM/nets/attention_model.py\", line 287, in sample_many\n",
      "    (input, self.embedder(self._init_embed(input))[0]),  # Pack input with embeddings (additional input)\n",
      "            ^^^^^^^^^^^^^^^^^^^^^^^^^^^^^^^^^^^^^^\n",
      "  File \"/home/xunj/miniconda3/lib/python3.11/site-packages/torch/nn/modules/module.py\", line 1518, in _wrapped_call_impl\n",
      "    return self._call_impl(*args, **kwargs)\n",
      "           ^^^^^^^^^^^^^^^^^^^^^^^^^^^^^^^^\n",
      "  File \"/home/xunj/miniconda3/lib/python3.11/site-packages/torch/nn/modules/module.py\", line 1527, in _call_impl\n",
      "    return forward_call(*args, **kwargs)\n",
      "           ^^^^^^^^^^^^^^^^^^^^^^^^^^^^^\n",
      "  File \"/home/xunj/GradWork/test_package/cvrp_land/MLs/AM/nets/graph_encoder.py\", line 210, in forward\n",
      "    h = self.layers(h)\n",
      "        ^^^^^^^^^^^^^^\n",
      "  File \"/home/xunj/miniconda3/lib/python3.11/site-packages/torch/nn/modules/module.py\", line 1518, in _wrapped_call_impl\n",
      "    return self._call_impl(*args, **kwargs)\n",
      "           ^^^^^^^^^^^^^^^^^^^^^^^^^^^^^^^^\n",
      "  File \"/home/xunj/miniconda3/lib/python3.11/site-packages/torch/nn/modules/module.py\", line 1527, in _call_impl\n",
      "    return forward_call(*args, **kwargs)\n",
      "           ^^^^^^^^^^^^^^^^^^^^^^^^^^^^^\n",
      "  File \"/home/xunj/miniconda3/lib/python3.11/site-packages/torch/nn/modules/container.py\", line 215, in forward\n",
      "    input = module(input)\n",
      "            ^^^^^^^^^^^^^\n",
      "  File \"/home/xunj/miniconda3/lib/python3.11/site-packages/torch/nn/modules/module.py\", line 1518, in _wrapped_call_impl\n",
      "    return self._call_impl(*args, **kwargs)\n",
      "           ^^^^^^^^^^^^^^^^^^^^^^^^^^^^^^^^\n",
      "  File \"/home/xunj/miniconda3/lib/python3.11/site-packages/torch/nn/modules/module.py\", line 1527, in _call_impl\n",
      "    return forward_call(*args, **kwargs)\n",
      "           ^^^^^^^^^^^^^^^^^^^^^^^^^^^^^\n",
      "  File \"/home/xunj/miniconda3/lib/python3.11/site-packages/torch/nn/modules/container.py\", line 215, in forward\n",
      "    input = module(input)\n",
      "            ^^^^^^^^^^^^^\n",
      "  File \"/home/xunj/miniconda3/lib/python3.11/site-packages/torch/nn/modules/module.py\", line 1518, in _wrapped_call_impl\n",
      "    return self._call_impl(*args, **kwargs)\n",
      "           ^^^^^^^^^^^^^^^^^^^^^^^^^^^^^^^^\n",
      "  File \"/home/xunj/miniconda3/lib/python3.11/site-packages/torch/nn/modules/module.py\", line 1527, in _call_impl\n",
      "    return forward_call(*args, **kwargs)\n",
      "           ^^^^^^^^^^^^^^^^^^^^^^^^^^^^^\n",
      "  File \"/home/xunj/GradWork/test_package/cvrp_land/MLs/AM/nets/graph_encoder.py\", line 14, in forward\n",
      "    return input + self.module(input)\n",
      "                   ^^^^^^^^^^^^^^^^^^\n",
      "  File \"/home/xunj/miniconda3/lib/python3.11/site-packages/torch/nn/modules/module.py\", line 1518, in _wrapped_call_impl\n",
      "    return self._call_impl(*args, **kwargs)\n",
      "           ^^^^^^^^^^^^^^^^^^^^^^^^^^^^^^^^\n",
      "  File \"/home/xunj/miniconda3/lib/python3.11/site-packages/torch/nn/modules/module.py\", line 1527, in _call_impl\n",
      "    return forward_call(*args, **kwargs)\n",
      "           ^^^^^^^^^^^^^^^^^^^^^^^^^^^^^\n",
      "  File \"/home/xunj/GradWork/test_package/cvrp_land/MLs/AM/nets/graph_encoder.py\", line 88, in forward\n",
      "    compatibility = self.norm_factor * torch.matmul(Q, K.transpose(2, 3))\n",
      "                    ~~~~~~~~~~~~~~~~~^~~~~~~~~~~~~~~~~~~~~~~~~~~~~~~~~~~~\n",
      "torch.cuda.OutOfMemoryError: CUDA out of memory. Tried to allocate 2.98 GiB. GPU 0 has a total capacty of 23.69 GiB of which 1.83 GiB is free. Process 1370383 has 17.75 GiB memory in use. Including non-PyTorch memory, this process has 4.11 GiB memory in use. Of the allocated memory 3.01 GiB is allocated by PyTorch, and 15.21 MiB is reserved by PyTorch but unallocated. If reserved but unallocated memory is large try setting max_split_size_mb to avoid fragmentation.  See documentation for Memory Management and PYTORCH_CUDA_ALLOC_CONF\n"
     ]
    },
    {
     "name": "stdout",
     "output_type": "stream",
     "text": [
      "Check out issue\n",
      "  [*] Loading model from outputs/cvrp_100/cvrp100_rollout/epoch-99.pt\n"
     ]
    },
    {
     "name": "stderr",
     "output_type": "stream",
     "text": [
      "  0%|          | 0/1 [00:01<?, ?it/s]\n",
      "Traceback (most recent call last):\n",
      "  File \"/home/xunj/GradWork/test_package/cvrp_land/MLs/AM/eval.py\", line 216, in <module>\n",
      "    eval_dataset(dataset_path, width, opts.softmax_temperature, opts)\n",
      "  File \"/home/xunj/GradWork/test_package/cvrp_land/MLs/AM/eval.py\", line 70, in eval_dataset\n",
      "    results = _eval_dataset(model, dataset, width, softmax_temp, opts, device)\n",
      "              ^^^^^^^^^^^^^^^^^^^^^^^^^^^^^^^^^^^^^^^^^^^^^^^^^^^^^^^^^^^^^^^^\n",
      "  File \"/home/xunj/GradWork/test_package/cvrp_land/MLs/AM/eval.py\", line 140, in _eval_dataset\n",
      "    sequences, costs = model.sample_many(batch, batch_rep=batch_rep, iter_rep=iter_rep)\n",
      "                       ^^^^^^^^^^^^^^^^^^^^^^^^^^^^^^^^^^^^^^^^^^^^^^^^^^^^^^^^^^^^^^^^\n",
      "  File \"/home/xunj/GradWork/test_package/cvrp_land/MLs/AM/nets/attention_model.py\", line 287, in sample_many\n",
      "    (input, self.embedder(self._init_embed(input))[0]),  # Pack input with embeddings (additional input)\n",
      "            ^^^^^^^^^^^^^^^^^^^^^^^^^^^^^^^^^^^^^^\n",
      "  File \"/home/xunj/miniconda3/lib/python3.11/site-packages/torch/nn/modules/module.py\", line 1518, in _wrapped_call_impl\n",
      "    return self._call_impl(*args, **kwargs)\n",
      "           ^^^^^^^^^^^^^^^^^^^^^^^^^^^^^^^^\n",
      "  File \"/home/xunj/miniconda3/lib/python3.11/site-packages/torch/nn/modules/module.py\", line 1527, in _call_impl\n",
      "    return forward_call(*args, **kwargs)\n",
      "           ^^^^^^^^^^^^^^^^^^^^^^^^^^^^^\n",
      "  File \"/home/xunj/GradWork/test_package/cvrp_land/MLs/AM/nets/graph_encoder.py\", line 210, in forward\n",
      "    h = self.layers(h)\n",
      "        ^^^^^^^^^^^^^^\n",
      "  File \"/home/xunj/miniconda3/lib/python3.11/site-packages/torch/nn/modules/module.py\", line 1518, in _wrapped_call_impl\n",
      "    return self._call_impl(*args, **kwargs)\n",
      "           ^^^^^^^^^^^^^^^^^^^^^^^^^^^^^^^^\n",
      "  File \"/home/xunj/miniconda3/lib/python3.11/site-packages/torch/nn/modules/module.py\", line 1527, in _call_impl\n",
      "    return forward_call(*args, **kwargs)\n",
      "           ^^^^^^^^^^^^^^^^^^^^^^^^^^^^^\n",
      "  File \"/home/xunj/miniconda3/lib/python3.11/site-packages/torch/nn/modules/container.py\", line 215, in forward\n",
      "    input = module(input)\n",
      "            ^^^^^^^^^^^^^\n",
      "  File \"/home/xunj/miniconda3/lib/python3.11/site-packages/torch/nn/modules/module.py\", line 1518, in _wrapped_call_impl\n",
      "    return self._call_impl(*args, **kwargs)\n",
      "           ^^^^^^^^^^^^^^^^^^^^^^^^^^^^^^^^\n",
      "  File \"/home/xunj/miniconda3/lib/python3.11/site-packages/torch/nn/modules/module.py\", line 1527, in _call_impl\n",
      "    return forward_call(*args, **kwargs)\n",
      "           ^^^^^^^^^^^^^^^^^^^^^^^^^^^^^\n",
      "  File \"/home/xunj/miniconda3/lib/python3.11/site-packages/torch/nn/modules/container.py\", line 215, in forward\n",
      "    input = module(input)\n",
      "            ^^^^^^^^^^^^^\n",
      "  File \"/home/xunj/miniconda3/lib/python3.11/site-packages/torch/nn/modules/module.py\", line 1518, in _wrapped_call_impl\n",
      "    return self._call_impl(*args, **kwargs)\n",
      "           ^^^^^^^^^^^^^^^^^^^^^^^^^^^^^^^^\n",
      "  File \"/home/xunj/miniconda3/lib/python3.11/site-packages/torch/nn/modules/module.py\", line 1527, in _call_impl\n",
      "    return forward_call(*args, **kwargs)\n",
      "           ^^^^^^^^^^^^^^^^^^^^^^^^^^^^^\n",
      "  File \"/home/xunj/GradWork/test_package/cvrp_land/MLs/AM/nets/graph_encoder.py\", line 14, in forward\n",
      "    return input + self.module(input)\n",
      "                   ^^^^^^^^^^^^^^^^^^\n",
      "  File \"/home/xunj/miniconda3/lib/python3.11/site-packages/torch/nn/modules/module.py\", line 1518, in _wrapped_call_impl\n",
      "    return self._call_impl(*args, **kwargs)\n",
      "           ^^^^^^^^^^^^^^^^^^^^^^^^^^^^^^^^\n",
      "  File \"/home/xunj/miniconda3/lib/python3.11/site-packages/torch/nn/modules/module.py\", line 1527, in _call_impl\n",
      "    return forward_call(*args, **kwargs)\n",
      "           ^^^^^^^^^^^^^^^^^^^^^^^^^^^^^\n",
      "  File \"/home/xunj/GradWork/test_package/cvrp_land/MLs/AM/nets/graph_encoder.py\", line 88, in forward\n",
      "    compatibility = self.norm_factor * torch.matmul(Q, K.transpose(2, 3))\n",
      "                    ~~~~~~~~~~~~~~~~~^~~~~~~~~~~~~~~~~~~~~~~~~~~~~~~~~~~~\n",
      "torch.cuda.OutOfMemoryError: CUDA out of memory. Tried to allocate 3.61 GiB. GPU 0 has a total capacty of 23.69 GiB of which 1.20 GiB is free. Process 1370383 has 17.75 GiB memory in use. Including non-PyTorch memory, this process has 4.73 GiB memory in use. Of the allocated memory 3.64 GiB is allocated by PyTorch, and 11.61 MiB is reserved by PyTorch but unallocated. If reserved but unallocated memory is large try setting max_split_size_mb to avoid fragmentation.  See documentation for Memory Management and PYTORCH_CUDA_ALLOC_CONF\n"
     ]
    },
    {
     "name": "stdout",
     "output_type": "stream",
     "text": [
      "Check out issue\n",
      "  [*] Loading model from outputs/cvrp_100/cvrp100_rollout/epoch-99.pt\n"
     ]
    },
    {
     "name": "stderr",
     "output_type": "stream",
     "text": [
      "  0%|          | 0/1 [00:01<?, ?it/s]\n",
      "Traceback (most recent call last):\n",
      "  File \"/home/xunj/GradWork/test_package/cvrp_land/MLs/AM/eval.py\", line 216, in <module>\n",
      "    eval_dataset(dataset_path, width, opts.softmax_temperature, opts)\n",
      "  File \"/home/xunj/GradWork/test_package/cvrp_land/MLs/AM/eval.py\", line 70, in eval_dataset\n",
      "    results = _eval_dataset(model, dataset, width, softmax_temp, opts, device)\n",
      "              ^^^^^^^^^^^^^^^^^^^^^^^^^^^^^^^^^^^^^^^^^^^^^^^^^^^^^^^^^^^^^^^^\n",
      "  File \"/home/xunj/GradWork/test_package/cvrp_land/MLs/AM/eval.py\", line 140, in _eval_dataset\n",
      "    sequences, costs = model.sample_many(batch, batch_rep=batch_rep, iter_rep=iter_rep)\n",
      "                       ^^^^^^^^^^^^^^^^^^^^^^^^^^^^^^^^^^^^^^^^^^^^^^^^^^^^^^^^^^^^^^^^\n",
      "  File \"/home/xunj/GradWork/test_package/cvrp_land/MLs/AM/nets/attention_model.py\", line 287, in sample_many\n",
      "    (input, self.embedder(self._init_embed(input))[0]),  # Pack input with embeddings (additional input)\n",
      "            ^^^^^^^^^^^^^^^^^^^^^^^^^^^^^^^^^^^^^^\n",
      "  File \"/home/xunj/miniconda3/lib/python3.11/site-packages/torch/nn/modules/module.py\", line 1518, in _wrapped_call_impl\n",
      "    return self._call_impl(*args, **kwargs)\n",
      "           ^^^^^^^^^^^^^^^^^^^^^^^^^^^^^^^^\n",
      "  File \"/home/xunj/miniconda3/lib/python3.11/site-packages/torch/nn/modules/module.py\", line 1527, in _call_impl\n",
      "    return forward_call(*args, **kwargs)\n",
      "           ^^^^^^^^^^^^^^^^^^^^^^^^^^^^^\n",
      "  File \"/home/xunj/GradWork/test_package/cvrp_land/MLs/AM/nets/graph_encoder.py\", line 210, in forward\n",
      "    h = self.layers(h)\n",
      "        ^^^^^^^^^^^^^^\n",
      "  File \"/home/xunj/miniconda3/lib/python3.11/site-packages/torch/nn/modules/module.py\", line 1518, in _wrapped_call_impl\n",
      "    return self._call_impl(*args, **kwargs)\n",
      "           ^^^^^^^^^^^^^^^^^^^^^^^^^^^^^^^^\n",
      "  File \"/home/xunj/miniconda3/lib/python3.11/site-packages/torch/nn/modules/module.py\", line 1527, in _call_impl\n",
      "    return forward_call(*args, **kwargs)\n",
      "           ^^^^^^^^^^^^^^^^^^^^^^^^^^^^^\n",
      "  File \"/home/xunj/miniconda3/lib/python3.11/site-packages/torch/nn/modules/container.py\", line 215, in forward\n",
      "    input = module(input)\n",
      "            ^^^^^^^^^^^^^\n",
      "  File \"/home/xunj/miniconda3/lib/python3.11/site-packages/torch/nn/modules/module.py\", line 1518, in _wrapped_call_impl\n",
      "    return self._call_impl(*args, **kwargs)\n",
      "           ^^^^^^^^^^^^^^^^^^^^^^^^^^^^^^^^\n",
      "  File \"/home/xunj/miniconda3/lib/python3.11/site-packages/torch/nn/modules/module.py\", line 1527, in _call_impl\n",
      "    return forward_call(*args, **kwargs)\n",
      "           ^^^^^^^^^^^^^^^^^^^^^^^^^^^^^\n",
      "  File \"/home/xunj/miniconda3/lib/python3.11/site-packages/torch/nn/modules/container.py\", line 215, in forward\n",
      "    input = module(input)\n",
      "            ^^^^^^^^^^^^^\n",
      "  File \"/home/xunj/miniconda3/lib/python3.11/site-packages/torch/nn/modules/module.py\", line 1518, in _wrapped_call_impl\n",
      "    return self._call_impl(*args, **kwargs)\n",
      "           ^^^^^^^^^^^^^^^^^^^^^^^^^^^^^^^^\n",
      "  File \"/home/xunj/miniconda3/lib/python3.11/site-packages/torch/nn/modules/module.py\", line 1527, in _call_impl\n",
      "    return forward_call(*args, **kwargs)\n",
      "           ^^^^^^^^^^^^^^^^^^^^^^^^^^^^^\n",
      "  File \"/home/xunj/GradWork/test_package/cvrp_land/MLs/AM/nets/graph_encoder.py\", line 14, in forward\n",
      "    return input + self.module(input)\n",
      "                   ^^^^^^^^^^^^^^^^^^\n",
      "  File \"/home/xunj/miniconda3/lib/python3.11/site-packages/torch/nn/modules/module.py\", line 1518, in _wrapped_call_impl\n",
      "    return self._call_impl(*args, **kwargs)\n",
      "           ^^^^^^^^^^^^^^^^^^^^^^^^^^^^^^^^\n",
      "  File \"/home/xunj/miniconda3/lib/python3.11/site-packages/torch/nn/modules/module.py\", line 1527, in _call_impl\n",
      "    return forward_call(*args, **kwargs)\n",
      "           ^^^^^^^^^^^^^^^^^^^^^^^^^^^^^\n",
      "  File \"/home/xunj/GradWork/test_package/cvrp_land/MLs/AM/nets/graph_encoder.py\", line 88, in forward\n",
      "    compatibility = self.norm_factor * torch.matmul(Q, K.transpose(2, 3))\n",
      "                                       ^^^^^^^^^^^^^^^^^^^^^^^^^^^^^^^^^^\n",
      "torch.cuda.OutOfMemoryError: CUDA out of memory. Tried to allocate 6.71 GiB. GPU 0 has a total capacty of 23.69 GiB of which 4.79 GiB is free. Process 1370383 has 17.75 GiB memory in use. Including non-PyTorch memory, this process has 1.14 GiB memory in use. Of the allocated memory 40.25 MiB is allocated by PyTorch, and 23.75 MiB is reserved by PyTorch but unallocated. If reserved but unallocated memory is large try setting max_split_size_mb to avoid fragmentation.  See documentation for Memory Management and PYTORCH_CUDA_ALLOC_CONF\n"
     ]
    },
    {
     "name": "stdout",
     "output_type": "stream",
     "text": [
      "Check out issue\n",
      "  [*] Loading model from outputs/cvrp_100/cvrp100_rollout/epoch-99.pt\n"
     ]
    },
    {
     "name": "stderr",
     "output_type": "stream",
     "text": [
      "  0%|          | 0/1 [00:01<?, ?it/s]\n",
      "Traceback (most recent call last):\n",
      "  File \"/home/xunj/GradWork/test_package/cvrp_land/MLs/AM/eval.py\", line 216, in <module>\n",
      "    eval_dataset(dataset_path, width, opts.softmax_temperature, opts)\n",
      "  File \"/home/xunj/GradWork/test_package/cvrp_land/MLs/AM/eval.py\", line 70, in eval_dataset\n",
      "    results = _eval_dataset(model, dataset, width, softmax_temp, opts, device)\n",
      "              ^^^^^^^^^^^^^^^^^^^^^^^^^^^^^^^^^^^^^^^^^^^^^^^^^^^^^^^^^^^^^^^^\n",
      "  File \"/home/xunj/GradWork/test_package/cvrp_land/MLs/AM/eval.py\", line 140, in _eval_dataset\n",
      "    sequences, costs = model.sample_many(batch, batch_rep=batch_rep, iter_rep=iter_rep)\n",
      "                       ^^^^^^^^^^^^^^^^^^^^^^^^^^^^^^^^^^^^^^^^^^^^^^^^^^^^^^^^^^^^^^^^\n",
      "  File \"/home/xunj/GradWork/test_package/cvrp_land/MLs/AM/nets/attention_model.py\", line 287, in sample_many\n",
      "    (input, self.embedder(self._init_embed(input))[0]),  # Pack input with embeddings (additional input)\n",
      "            ^^^^^^^^^^^^^^^^^^^^^^^^^^^^^^^^^^^^^^\n",
      "  File \"/home/xunj/miniconda3/lib/python3.11/site-packages/torch/nn/modules/module.py\", line 1518, in _wrapped_call_impl\n",
      "    return self._call_impl(*args, **kwargs)\n",
      "           ^^^^^^^^^^^^^^^^^^^^^^^^^^^^^^^^\n",
      "  File \"/home/xunj/miniconda3/lib/python3.11/site-packages/torch/nn/modules/module.py\", line 1527, in _call_impl\n",
      "    return forward_call(*args, **kwargs)\n",
      "           ^^^^^^^^^^^^^^^^^^^^^^^^^^^^^\n",
      "  File \"/home/xunj/GradWork/test_package/cvrp_land/MLs/AM/nets/graph_encoder.py\", line 210, in forward\n",
      "    h = self.layers(h)\n",
      "        ^^^^^^^^^^^^^^\n",
      "  File \"/home/xunj/miniconda3/lib/python3.11/site-packages/torch/nn/modules/module.py\", line 1518, in _wrapped_call_impl\n",
      "    return self._call_impl(*args, **kwargs)\n",
      "           ^^^^^^^^^^^^^^^^^^^^^^^^^^^^^^^^\n",
      "  File \"/home/xunj/miniconda3/lib/python3.11/site-packages/torch/nn/modules/module.py\", line 1527, in _call_impl\n",
      "    return forward_call(*args, **kwargs)\n",
      "           ^^^^^^^^^^^^^^^^^^^^^^^^^^^^^\n",
      "  File \"/home/xunj/miniconda3/lib/python3.11/site-packages/torch/nn/modules/container.py\", line 215, in forward\n",
      "    input = module(input)\n",
      "            ^^^^^^^^^^^^^\n",
      "  File \"/home/xunj/miniconda3/lib/python3.11/site-packages/torch/nn/modules/module.py\", line 1518, in _wrapped_call_impl\n",
      "    return self._call_impl(*args, **kwargs)\n",
      "           ^^^^^^^^^^^^^^^^^^^^^^^^^^^^^^^^\n",
      "  File \"/home/xunj/miniconda3/lib/python3.11/site-packages/torch/nn/modules/module.py\", line 1527, in _call_impl\n",
      "    return forward_call(*args, **kwargs)\n",
      "           ^^^^^^^^^^^^^^^^^^^^^^^^^^^^^\n",
      "  File \"/home/xunj/miniconda3/lib/python3.11/site-packages/torch/nn/modules/container.py\", line 215, in forward\n",
      "    input = module(input)\n",
      "            ^^^^^^^^^^^^^\n",
      "  File \"/home/xunj/miniconda3/lib/python3.11/site-packages/torch/nn/modules/module.py\", line 1518, in _wrapped_call_impl\n",
      "    return self._call_impl(*args, **kwargs)\n",
      "           ^^^^^^^^^^^^^^^^^^^^^^^^^^^^^^^^\n",
      "  File \"/home/xunj/miniconda3/lib/python3.11/site-packages/torch/nn/modules/module.py\", line 1527, in _call_impl\n",
      "    return forward_call(*args, **kwargs)\n",
      "           ^^^^^^^^^^^^^^^^^^^^^^^^^^^^^\n",
      "  File \"/home/xunj/GradWork/test_package/cvrp_land/MLs/AM/nets/graph_encoder.py\", line 14, in forward\n",
      "    return input + self.module(input)\n",
      "                   ^^^^^^^^^^^^^^^^^^\n",
      "  File \"/home/xunj/miniconda3/lib/python3.11/site-packages/torch/nn/modules/module.py\", line 1518, in _wrapped_call_impl\n",
      "    return self._call_impl(*args, **kwargs)\n",
      "           ^^^^^^^^^^^^^^^^^^^^^^^^^^^^^^^^\n",
      "  File \"/home/xunj/miniconda3/lib/python3.11/site-packages/torch/nn/modules/module.py\", line 1527, in _call_impl\n",
      "    return forward_call(*args, **kwargs)\n",
      "           ^^^^^^^^^^^^^^^^^^^^^^^^^^^^^\n",
      "  File \"/home/xunj/GradWork/test_package/cvrp_land/MLs/AM/nets/graph_encoder.py\", line 88, in forward\n",
      "    compatibility = self.norm_factor * torch.matmul(Q, K.transpose(2, 3))\n",
      "                                       ^^^^^^^^^^^^^^^^^^^^^^^^^^^^^^^^^^\n",
      "torch.cuda.OutOfMemoryError: CUDA out of memory. Tried to allocate 7.63 GiB. GPU 0 has a total capacty of 23.69 GiB of which 4.79 GiB is free. Process 1370383 has 17.75 GiB memory in use. Including non-PyTorch memory, this process has 1.14 GiB memory in use. Of the allocated memory 42.21 MiB is allocated by PyTorch, and 21.79 MiB is reserved by PyTorch but unallocated. If reserved but unallocated memory is large try setting max_split_size_mb to avoid fragmentation.  See documentation for Memory Management and PYTORCH_CUDA_ALLOC_CONF\n"
     ]
    },
    {
     "name": "stdout",
     "output_type": "stream",
     "text": [
      "Check out issue\n",
      "  [*] Loading model from outputs/cvrp_100/cvrp100_rollout/epoch-99.pt\n"
     ]
    },
    {
     "name": "stderr",
     "output_type": "stream",
     "text": [
      "  0%|          | 0/1 [00:01<?, ?it/s]\n",
      "Traceback (most recent call last):\n",
      "  File \"/home/xunj/GradWork/test_package/cvrp_land/MLs/AM/eval.py\", line 216, in <module>\n",
      "    eval_dataset(dataset_path, width, opts.softmax_temperature, opts)\n",
      "  File \"/home/xunj/GradWork/test_package/cvrp_land/MLs/AM/eval.py\", line 70, in eval_dataset\n",
      "    results = _eval_dataset(model, dataset, width, softmax_temp, opts, device)\n",
      "              ^^^^^^^^^^^^^^^^^^^^^^^^^^^^^^^^^^^^^^^^^^^^^^^^^^^^^^^^^^^^^^^^\n",
      "  File \"/home/xunj/GradWork/test_package/cvrp_land/MLs/AM/eval.py\", line 140, in _eval_dataset\n",
      "    sequences, costs = model.sample_many(batch, batch_rep=batch_rep, iter_rep=iter_rep)\n",
      "                       ^^^^^^^^^^^^^^^^^^^^^^^^^^^^^^^^^^^^^^^^^^^^^^^^^^^^^^^^^^^^^^^^\n",
      "  File \"/home/xunj/GradWork/test_package/cvrp_land/MLs/AM/nets/attention_model.py\", line 287, in sample_many\n",
      "    (input, self.embedder(self._init_embed(input))[0]),  # Pack input with embeddings (additional input)\n",
      "            ^^^^^^^^^^^^^^^^^^^^^^^^^^^^^^^^^^^^^^\n",
      "  File \"/home/xunj/miniconda3/lib/python3.11/site-packages/torch/nn/modules/module.py\", line 1518, in _wrapped_call_impl\n",
      "    return self._call_impl(*args, **kwargs)\n",
      "           ^^^^^^^^^^^^^^^^^^^^^^^^^^^^^^^^\n",
      "  File \"/home/xunj/miniconda3/lib/python3.11/site-packages/torch/nn/modules/module.py\", line 1527, in _call_impl\n",
      "    return forward_call(*args, **kwargs)\n",
      "           ^^^^^^^^^^^^^^^^^^^^^^^^^^^^^\n",
      "  File \"/home/xunj/GradWork/test_package/cvrp_land/MLs/AM/nets/graph_encoder.py\", line 210, in forward\n",
      "    h = self.layers(h)\n",
      "        ^^^^^^^^^^^^^^\n",
      "  File \"/home/xunj/miniconda3/lib/python3.11/site-packages/torch/nn/modules/module.py\", line 1518, in _wrapped_call_impl\n",
      "    return self._call_impl(*args, **kwargs)\n",
      "           ^^^^^^^^^^^^^^^^^^^^^^^^^^^^^^^^\n",
      "  File \"/home/xunj/miniconda3/lib/python3.11/site-packages/torch/nn/modules/module.py\", line 1527, in _call_impl\n",
      "    return forward_call(*args, **kwargs)\n",
      "           ^^^^^^^^^^^^^^^^^^^^^^^^^^^^^\n",
      "  File \"/home/xunj/miniconda3/lib/python3.11/site-packages/torch/nn/modules/container.py\", line 215, in forward\n",
      "    input = module(input)\n",
      "            ^^^^^^^^^^^^^\n",
      "  File \"/home/xunj/miniconda3/lib/python3.11/site-packages/torch/nn/modules/module.py\", line 1518, in _wrapped_call_impl\n",
      "    return self._call_impl(*args, **kwargs)\n",
      "           ^^^^^^^^^^^^^^^^^^^^^^^^^^^^^^^^\n",
      "  File \"/home/xunj/miniconda3/lib/python3.11/site-packages/torch/nn/modules/module.py\", line 1527, in _call_impl\n",
      "    return forward_call(*args, **kwargs)\n",
      "           ^^^^^^^^^^^^^^^^^^^^^^^^^^^^^\n",
      "  File \"/home/xunj/miniconda3/lib/python3.11/site-packages/torch/nn/modules/container.py\", line 215, in forward\n",
      "    input = module(input)\n",
      "            ^^^^^^^^^^^^^\n",
      "  File \"/home/xunj/miniconda3/lib/python3.11/site-packages/torch/nn/modules/module.py\", line 1518, in _wrapped_call_impl\n",
      "    return self._call_impl(*args, **kwargs)\n",
      "           ^^^^^^^^^^^^^^^^^^^^^^^^^^^^^^^^\n",
      "  File \"/home/xunj/miniconda3/lib/python3.11/site-packages/torch/nn/modules/module.py\", line 1527, in _call_impl\n",
      "    return forward_call(*args, **kwargs)\n",
      "           ^^^^^^^^^^^^^^^^^^^^^^^^^^^^^\n",
      "  File \"/home/xunj/GradWork/test_package/cvrp_land/MLs/AM/nets/graph_encoder.py\", line 14, in forward\n",
      "    return input + self.module(input)\n",
      "                   ^^^^^^^^^^^^^^^^^^\n",
      "  File \"/home/xunj/miniconda3/lib/python3.11/site-packages/torch/nn/modules/module.py\", line 1518, in _wrapped_call_impl\n",
      "    return self._call_impl(*args, **kwargs)\n",
      "           ^^^^^^^^^^^^^^^^^^^^^^^^^^^^^^^^\n",
      "  File \"/home/xunj/miniconda3/lib/python3.11/site-packages/torch/nn/modules/module.py\", line 1527, in _call_impl\n",
      "    return forward_call(*args, **kwargs)\n",
      "           ^^^^^^^^^^^^^^^^^^^^^^^^^^^^^\n",
      "  File \"/home/xunj/GradWork/test_package/cvrp_land/MLs/AM/nets/graph_encoder.py\", line 88, in forward\n",
      "    compatibility = self.norm_factor * torch.matmul(Q, K.transpose(2, 3))\n",
      "                                       ^^^^^^^^^^^^^^^^^^^^^^^^^^^^^^^^^^\n",
      "torch.cuda.OutOfMemoryError: CUDA out of memory. Tried to allocate 11.92 GiB. GPU 0 has a total capacty of 23.69 GiB of which 4.79 GiB is free. Process 1370383 has 17.75 GiB memory in use. Including non-PyTorch memory, this process has 1.14 GiB memory in use. Of the allocated memory 50.54 MiB is allocated by PyTorch, and 13.46 MiB is reserved by PyTorch but unallocated. If reserved but unallocated memory is large try setting max_split_size_mb to avoid fragmentation.  See documentation for Memory Management and PYTORCH_CUDA_ALLOC_CONF\n"
     ]
    },
    {
     "name": "stdout",
     "output_type": "stream",
     "text": [
      "Check out issue\n",
      "  [*] Loading model from outputs/cvrp_100/cvrp100_rollout/epoch-99.pt\n"
     ]
    },
    {
     "name": "stderr",
     "output_type": "stream",
     "text": [
      "  0%|          | 0/1 [00:01<?, ?it/s]\n",
      "Traceback (most recent call last):\n",
      "  File \"/home/xunj/GradWork/test_package/cvrp_land/MLs/AM/eval.py\", line 216, in <module>\n",
      "    eval_dataset(dataset_path, width, opts.softmax_temperature, opts)\n",
      "  File \"/home/xunj/GradWork/test_package/cvrp_land/MLs/AM/eval.py\", line 70, in eval_dataset\n",
      "    results = _eval_dataset(model, dataset, width, softmax_temp, opts, device)\n",
      "              ^^^^^^^^^^^^^^^^^^^^^^^^^^^^^^^^^^^^^^^^^^^^^^^^^^^^^^^^^^^^^^^^\n",
      "  File \"/home/xunj/GradWork/test_package/cvrp_land/MLs/AM/eval.py\", line 140, in _eval_dataset\n",
      "    sequences, costs = model.sample_many(batch, batch_rep=batch_rep, iter_rep=iter_rep)\n",
      "                       ^^^^^^^^^^^^^^^^^^^^^^^^^^^^^^^^^^^^^^^^^^^^^^^^^^^^^^^^^^^^^^^^\n",
      "  File \"/home/xunj/GradWork/test_package/cvrp_land/MLs/AM/nets/attention_model.py\", line 287, in sample_many\n",
      "    (input, self.embedder(self._init_embed(input))[0]),  # Pack input with embeddings (additional input)\n",
      "            ^^^^^^^^^^^^^^^^^^^^^^^^^^^^^^^^^^^^^^\n",
      "  File \"/home/xunj/miniconda3/lib/python3.11/site-packages/torch/nn/modules/module.py\", line 1518, in _wrapped_call_impl\n",
      "    return self._call_impl(*args, **kwargs)\n",
      "           ^^^^^^^^^^^^^^^^^^^^^^^^^^^^^^^^\n",
      "  File \"/home/xunj/miniconda3/lib/python3.11/site-packages/torch/nn/modules/module.py\", line 1527, in _call_impl\n",
      "    return forward_call(*args, **kwargs)\n",
      "           ^^^^^^^^^^^^^^^^^^^^^^^^^^^^^\n",
      "  File \"/home/xunj/GradWork/test_package/cvrp_land/MLs/AM/nets/graph_encoder.py\", line 210, in forward\n",
      "    h = self.layers(h)\n",
      "        ^^^^^^^^^^^^^^\n",
      "  File \"/home/xunj/miniconda3/lib/python3.11/site-packages/torch/nn/modules/module.py\", line 1518, in _wrapped_call_impl\n",
      "    return self._call_impl(*args, **kwargs)\n",
      "           ^^^^^^^^^^^^^^^^^^^^^^^^^^^^^^^^\n",
      "  File \"/home/xunj/miniconda3/lib/python3.11/site-packages/torch/nn/modules/module.py\", line 1527, in _call_impl\n",
      "    return forward_call(*args, **kwargs)\n",
      "           ^^^^^^^^^^^^^^^^^^^^^^^^^^^^^\n",
      "  File \"/home/xunj/miniconda3/lib/python3.11/site-packages/torch/nn/modules/container.py\", line 215, in forward\n",
      "    input = module(input)\n",
      "            ^^^^^^^^^^^^^\n",
      "  File \"/home/xunj/miniconda3/lib/python3.11/site-packages/torch/nn/modules/module.py\", line 1518, in _wrapped_call_impl\n",
      "    return self._call_impl(*args, **kwargs)\n",
      "           ^^^^^^^^^^^^^^^^^^^^^^^^^^^^^^^^\n",
      "  File \"/home/xunj/miniconda3/lib/python3.11/site-packages/torch/nn/modules/module.py\", line 1527, in _call_impl\n",
      "    return forward_call(*args, **kwargs)\n",
      "           ^^^^^^^^^^^^^^^^^^^^^^^^^^^^^\n",
      "  File \"/home/xunj/miniconda3/lib/python3.11/site-packages/torch/nn/modules/container.py\", line 215, in forward\n",
      "    input = module(input)\n",
      "            ^^^^^^^^^^^^^\n",
      "  File \"/home/xunj/miniconda3/lib/python3.11/site-packages/torch/nn/modules/module.py\", line 1518, in _wrapped_call_impl\n",
      "    return self._call_impl(*args, **kwargs)\n",
      "           ^^^^^^^^^^^^^^^^^^^^^^^^^^^^^^^^\n",
      "  File \"/home/xunj/miniconda3/lib/python3.11/site-packages/torch/nn/modules/module.py\", line 1527, in _call_impl\n",
      "    return forward_call(*args, **kwargs)\n",
      "           ^^^^^^^^^^^^^^^^^^^^^^^^^^^^^\n",
      "  File \"/home/xunj/GradWork/test_package/cvrp_land/MLs/AM/nets/graph_encoder.py\", line 14, in forward\n",
      "    return input + self.module(input)\n",
      "                   ^^^^^^^^^^^^^^^^^^\n",
      "  File \"/home/xunj/miniconda3/lib/python3.11/site-packages/torch/nn/modules/module.py\", line 1518, in _wrapped_call_impl\n",
      "    return self._call_impl(*args, **kwargs)\n",
      "           ^^^^^^^^^^^^^^^^^^^^^^^^^^^^^^^^\n",
      "  File \"/home/xunj/miniconda3/lib/python3.11/site-packages/torch/nn/modules/module.py\", line 1527, in _call_impl\n",
      "    return forward_call(*args, **kwargs)\n",
      "           ^^^^^^^^^^^^^^^^^^^^^^^^^^^^^\n",
      "  File \"/home/xunj/GradWork/test_package/cvrp_land/MLs/AM/nets/graph_encoder.py\", line 88, in forward\n",
      "    compatibility = self.norm_factor * torch.matmul(Q, K.transpose(2, 3))\n",
      "                                       ^^^^^^^^^^^^^^^^^^^^^^^^^^^^^^^^^^\n",
      "torch.cuda.OutOfMemoryError: CUDA out of memory. Tried to allocate 26.82 GiB. GPU 0 has a total capacty of 23.69 GiB of which 4.77 GiB is free. Process 1370383 has 17.75 GiB memory in use. Including non-PyTorch memory, this process has 1.17 GiB memory in use. Of the allocated memory 69.72 MiB is allocated by PyTorch, and 18.28 MiB is reserved by PyTorch but unallocated. If reserved but unallocated memory is large try setting max_split_size_mb to avoid fragmentation.  See documentation for Memory Management and PYTORCH_CUDA_ALLOC_CONF\n"
     ]
    },
    {
     "name": "stdout",
     "output_type": "stream",
     "text": [
      "Check out issue\n",
      "  [*] Loading model from outputs/cvrp_100/cvrp100_rollout/epoch-99.pt\n"
     ]
    },
    {
     "name": "stderr",
     "output_type": "stream",
     "text": [
      "100%|██████████| 1/1 [00:10<00:00, 10.75s/it]\n"
     ]
    },
    {
     "name": "stdout",
     "output_type": "stream",
     "text": [
      "Average cost: 494.183837890625 +- 0.0\n",
      "Average serial duration: 10.748130083084106 +- 0.0\n",
      "Average parallel duration: 0.010496220784261823\n",
      "Calculated total duration: 0:00:00\n",
      "baseline on \" data/vrp/scale-1000/Vrp-Set-XXL-n3001.pkl \" Success\n",
      "  [*] Loading model from outputs/cvrp_100/cvrp100_rollout/epoch-99.pt\n"
     ]
    },
    {
     "name": "stderr",
     "output_type": "stream",
     "text": [
      "100%|██████████| 1/1 [00:15<00:00, 15.63s/it]\n"
     ]
    },
    {
     "name": "stdout",
     "output_type": "stream",
     "text": [
      "Average cost: 1908.846923828125 +- 0.0\n",
      "Average serial duration: 15.629531860351562 +- 0.0\n",
      "Average parallel duration: 0.015263214707374573\n",
      "Calculated total duration: 0:00:00\n",
      "baseline on \" data/vrp/scale-1000/Vrp-Set-XXL-n4001.pkl \" Success\n",
      "  [*] Loading model from outputs/cvrp_100/cvrp100_rollout/epoch-99.pt\n"
     ]
    },
    {
     "name": "stderr",
     "output_type": "stream",
     "text": [
      "100%|██████████| 1/1 [00:19<00:00, 19.43s/it]\n"
     ]
    },
    {
     "name": "stdout",
     "output_type": "stream",
     "text": [
      "Average cost: 1225.3414306640625 +- 0.0\n",
      "Average serial duration: 19.42481231689453 +- 0.0\n",
      "Average parallel duration: 0.018969543278217316\n",
      "Calculated total duration: 0:00:00\n",
      "baseline on \" data/vrp/scale-1000/Vrp-Set-XXL-n6001.pkl \" Success\n",
      "  [*] Loading model from outputs/cvrp_100/cvrp100_rollout/epoch-99.pt\n"
     ]
    },
    {
     "name": "stderr",
     "output_type": "stream",
     "text": [
      "100%|██████████| 1/1 [00:21<00:00, 21.33s/it]\n"
     ]
    },
    {
     "name": "stdout",
     "output_type": "stream",
     "text": [
      "Average cost: 794.0562744140625 +- 0.0\n",
      "Average serial duration: 21.32507824897766 +- 0.0\n",
      "Average parallel duration: 0.020825271727517247\n",
      "Calculated total duration: 0:00:00\n",
      "baseline on \" data/vrp/scale-1000/Vrp-Set-XXL-n7001.pkl \" Success\n",
      "  [*] Loading model from outputs/cvrp_100/cvrp100_rollout/epoch-99.pt\n"
     ]
    },
    {
     "name": "stderr",
     "output_type": "stream",
     "text": [
      "100%|██████████| 1/1 [00:02<00:00,  2.08s/it]\n"
     ]
    },
    {
     "name": "stdout",
     "output_type": "stream",
     "text": [
      "Average cost: 6.661573886871338 +- 3.4253761768341064\n",
      "Average serial duration: 2.0790345668792725 +- 0.0\n",
      "Average parallel duration: 0.0020303071942180395\n",
      "Calculated total duration: 0:00:00\n",
      "baseline on \" data/vrp/scale-1000/Vrp-Set-tai-n101.pkl \" Success\n",
      "  [*] Loading model from outputs/cvrp_100/cvrp100_rollout/epoch-99.pt\n"
     ]
    },
    {
     "name": "stderr",
     "output_type": "stream",
     "text": [
      "100%|██████████| 1/1 [00:02<00:00,  2.46s/it]\n"
     ]
    },
    {
     "name": "stdout",
     "output_type": "stream",
     "text": [
      "Average cost: 12.01144027709961 +- 5.829996585845947\n",
      "Average serial duration: 2.4524052143096924 +- 0.0\n",
      "Average parallel duration: 0.002394926967099309\n",
      "Calculated total duration: 0:00:00\n",
      "baseline on \" data/vrp/scale-1000/Vrp-Set-tai-n151.pkl \" Success\n",
      "  [*] Loading model from outputs/cvrp_100/cvrp100_rollout/epoch-99.pt\n"
     ]
    },
    {
     "name": "stderr",
     "output_type": "stream",
     "text": [
      "100%|██████████| 1/1 [00:03<00:00,  3.58s/it]\n"
     ]
    },
    {
     "name": "stdout",
     "output_type": "stream",
     "text": [
      "Average cost: 166.08712768554688 +- 0.0\n",
      "Average serial duration: 3.5670690536499023 +- 0.0\n",
      "Average parallel duration: 0.0034834658727049828\n",
      "Calculated total duration: 0:00:00\n",
      "baseline on \" data/vrp/scale-1000/Vrp-Set-tai-n386.pkl \" Success\n",
      "  [*] Loading model from outputs/cvrp_100/cvrp100_rollout/epoch-99.pt\n"
     ]
    },
    {
     "name": "stderr",
     "output_type": "stream",
     "text": [
      "100%|██████████| 1/1 [00:01<00:00,  1.91s/it]\n"
     ]
    },
    {
     "name": "stdout",
     "output_type": "stream",
     "text": [
      "Average cost: 5.220487594604492 +- 0.8832072019577026\n",
      "Average serial duration: 1.9089853763580322 +- 0.0\n",
      "Average parallel duration: 0.0018642435315996408\n",
      "Calculated total duration: 0:00:00\n",
      "baseline on \" data/vrp/scale-1000/Vrp-Set-tai-n76.pkl \" Success\n"
     ]
    }
   ],
   "source": [
    "for path in path_list:\n",
    "    res=os.system(f'python eval.py --datasets {path} --model outputs/cvrp_100/cvrp100_rollout --decode_strategy greedy -f')\n",
    "    if res==0:\n",
    "        print('baseline on \"',path,'\" Success')\n",
    "        del path\n",
    "    else: \n",
    "        print('Check out issue')"
   ]
  }
 ],
 "metadata": {
  "kernelspec": {
   "display_name": "base",
   "language": "python",
   "name": "python3"
  },
  "language_info": {
   "codemirror_mode": {
    "name": "ipython",
    "version": 3
   },
   "file_extension": ".py",
   "mimetype": "text/x-python",
   "name": "python",
   "nbconvert_exporter": "python",
   "pygments_lexer": "ipython3",
   "version": "3.11.5"
  }
 },
 "nbformat": 4,
 "nbformat_minor": 2
}
