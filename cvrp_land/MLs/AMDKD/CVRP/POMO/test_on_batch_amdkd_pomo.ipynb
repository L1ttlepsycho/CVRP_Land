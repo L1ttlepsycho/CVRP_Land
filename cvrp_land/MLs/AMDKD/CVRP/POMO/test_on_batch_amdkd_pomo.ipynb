{
 "cells": [
  {
   "cell_type": "code",
   "execution_count": 2,
   "metadata": {},
   "outputs": [
    {
     "name": "stdout",
     "output_type": "stream",
     "text": [
      "[['../../../../../VRP-Omni-modified/Vrp-Set-A/A-n32', '../../../../../VRP-Omni-modified/Vrp-Set-A/A-n32-sol', '../../../../../VRP-Omni-modified/Vrp-Set-A/A-n33', '../../../../../VRP-Omni-modified/Vrp-Set-A/A-n33-sol', '../../../../../VRP-Omni-modified/Vrp-Set-A/A-n34', '../../../../../VRP-Omni-modified/Vrp-Set-A/A-n34-sol', '../../../../../VRP-Omni-modified/Vrp-Set-A/A-n36', '../../../../../VRP-Omni-modified/Vrp-Set-A/A-n36-sol', '../../../../../VRP-Omni-modified/Vrp-Set-A/A-n37', '../../../../../VRP-Omni-modified/Vrp-Set-A/A-n37-sol', '../../../../../VRP-Omni-modified/Vrp-Set-A/A-n38', '../../../../../VRP-Omni-modified/Vrp-Set-A/A-n38-sol', '../../../../../VRP-Omni-modified/Vrp-Set-A/A-n39', '../../../../../VRP-Omni-modified/Vrp-Set-A/A-n39-sol', '../../../../../VRP-Omni-modified/Vrp-Set-A/A-n44', '../../../../../VRP-Omni-modified/Vrp-Set-A/A-n44-sol', '../../../../../VRP-Omni-modified/Vrp-Set-A/A-n45', '../../../../../VRP-Omni-modified/Vrp-Set-A/A-n45-sol', '../../../../../VRP-Omni-modified/Vrp-Set-A/A-n46', '../../../../../VRP-Omni-modified/Vrp-Set-A/A-n46-sol', '../../../../../VRP-Omni-modified/Vrp-Set-A/A-n48', '../../../../../VRP-Omni-modified/Vrp-Set-A/A-n48-sol', '../../../../../VRP-Omni-modified/Vrp-Set-A/A-n53', '../../../../../VRP-Omni-modified/Vrp-Set-A/A-n53-sol', '../../../../../VRP-Omni-modified/Vrp-Set-A/A-n54', '../../../../../VRP-Omni-modified/Vrp-Set-A/A-n54-sol', '../../../../../VRP-Omni-modified/Vrp-Set-A/A-n55', '../../../../../VRP-Omni-modified/Vrp-Set-A/A-n55-sol', '../../../../../VRP-Omni-modified/Vrp-Set-A/A-n60', '../../../../../VRP-Omni-modified/Vrp-Set-A/A-n60-sol', '../../../../../VRP-Omni-modified/Vrp-Set-A/A-n61', '../../../../../VRP-Omni-modified/Vrp-Set-A/A-n61-sol', '../../../../../VRP-Omni-modified/Vrp-Set-A/A-n62', '../../../../../VRP-Omni-modified/Vrp-Set-A/A-n62-sol', '../../../../../VRP-Omni-modified/Vrp-Set-A/A-n63', '../../../../../VRP-Omni-modified/Vrp-Set-A/A-n63-sol', '../../../../../VRP-Omni-modified/Vrp-Set-A/A-n64', '../../../../../VRP-Omni-modified/Vrp-Set-A/A-n64-sol', '../../../../../VRP-Omni-modified/Vrp-Set-A/A-n65', '../../../../../VRP-Omni-modified/Vrp-Set-A/A-n65-sol', '../../../../../VRP-Omni-modified/Vrp-Set-A/A-n69', '../../../../../VRP-Omni-modified/Vrp-Set-A/A-n69-sol', '../../../../../VRP-Omni-modified/Vrp-Set-A/A-n80', '../../../../../VRP-Omni-modified/Vrp-Set-A/A-n80-sol'], ['../../../../../VRP-Omni-modified/Vrp-Set-B/B-n31', '../../../../../VRP-Omni-modified/Vrp-Set-B/B-n31-sol', '../../../../../VRP-Omni-modified/Vrp-Set-B/B-n34', '../../../../../VRP-Omni-modified/Vrp-Set-B/B-n34-sol', '../../../../../VRP-Omni-modified/Vrp-Set-B/B-n35', '../../../../../VRP-Omni-modified/Vrp-Set-B/B-n35-sol', '../../../../../VRP-Omni-modified/Vrp-Set-B/B-n38', '../../../../../VRP-Omni-modified/Vrp-Set-B/B-n38-sol', '../../../../../VRP-Omni-modified/Vrp-Set-B/B-n39', '../../../../../VRP-Omni-modified/Vrp-Set-B/B-n39-sol', '../../../../../VRP-Omni-modified/Vrp-Set-B/B-n41', '../../../../../VRP-Omni-modified/Vrp-Set-B/B-n41-sol', '../../../../../VRP-Omni-modified/Vrp-Set-B/B-n43', '../../../../../VRP-Omni-modified/Vrp-Set-B/B-n43-sol', '../../../../../VRP-Omni-modified/Vrp-Set-B/B-n44', '../../../../../VRP-Omni-modified/Vrp-Set-B/B-n44-sol', '../../../../../VRP-Omni-modified/Vrp-Set-B/B-n45', '../../../../../VRP-Omni-modified/Vrp-Set-B/B-n45-sol', '../../../../../VRP-Omni-modified/Vrp-Set-B/B-n50', '../../../../../VRP-Omni-modified/Vrp-Set-B/B-n50-sol', '../../../../../VRP-Omni-modified/Vrp-Set-B/B-n51', '../../../../../VRP-Omni-modified/Vrp-Set-B/B-n51-sol', '../../../../../VRP-Omni-modified/Vrp-Set-B/B-n52', '../../../../../VRP-Omni-modified/Vrp-Set-B/B-n52-sol', '../../../../../VRP-Omni-modified/Vrp-Set-B/B-n56', '../../../../../VRP-Omni-modified/Vrp-Set-B/B-n56-sol', '../../../../../VRP-Omni-modified/Vrp-Set-B/B-n57', '../../../../../VRP-Omni-modified/Vrp-Set-B/B-n57-sol', '../../../../../VRP-Omni-modified/Vrp-Set-B/B-n63', '../../../../../VRP-Omni-modified/Vrp-Set-B/B-n63-sol', '../../../../../VRP-Omni-modified/Vrp-Set-B/B-n64', '../../../../../VRP-Omni-modified/Vrp-Set-B/B-n64-sol', '../../../../../VRP-Omni-modified/Vrp-Set-B/B-n66', '../../../../../VRP-Omni-modified/Vrp-Set-B/B-n66-sol', '../../../../../VRP-Omni-modified/Vrp-Set-B/B-n67', '../../../../../VRP-Omni-modified/Vrp-Set-B/B-n67-sol', '../../../../../VRP-Omni-modified/Vrp-Set-B/B-n68', '../../../../../VRP-Omni-modified/Vrp-Set-B/B-n68-sol', '../../../../../VRP-Omni-modified/Vrp-Set-B/B-n78', '../../../../../VRP-Omni-modified/Vrp-Set-B/B-n78-sol'], ['../../../../../VRP-Omni-modified/Vrp-Set-CMT/CMT-n101', '../../../../../VRP-Omni-modified/Vrp-Set-CMT/CMT-n101-sol', '../../../../../VRP-Omni-modified/Vrp-Set-CMT/CMT-n121', '../../../../../VRP-Omni-modified/Vrp-Set-CMT/CMT-n121-sol', '../../../../../VRP-Omni-modified/Vrp-Set-CMT/CMT-n151', '../../../../../VRP-Omni-modified/Vrp-Set-CMT/CMT-n151-sol', '../../../../../VRP-Omni-modified/Vrp-Set-CMT/CMT-n200', '../../../../../VRP-Omni-modified/Vrp-Set-CMT/CMT-n200-sol', '../../../../../VRP-Omni-modified/Vrp-Set-CMT/CMT-n51', '../../../../../VRP-Omni-modified/Vrp-Set-CMT/CMT-n51-sol', '../../../../../VRP-Omni-modified/Vrp-Set-CMT/CMT-n76', '../../../../../VRP-Omni-modified/Vrp-Set-CMT/CMT-n76-sol'], ['../../../../../VRP-Omni-modified/Vrp-Set-D/D-n1001', '../../../../../VRP-Omni-modified/Vrp-Set-D/D-n1001-sol', '../../../../../VRP-Omni-modified/Vrp-Set-D/D-n242', '../../../../../VRP-Omni-modified/Vrp-Set-D/D-n242-sol', '../../../../../VRP-Omni-modified/Vrp-Set-D/D-n323', '../../../../../VRP-Omni-modified/Vrp-Set-D/D-n323-sol', '../../../../../VRP-Omni-modified/Vrp-Set-D/D-n401', '../../../../../VRP-Omni-modified/Vrp-Set-D/D-n401-sol', '../../../../../VRP-Omni-modified/Vrp-Set-D/D-n405', '../../../../../VRP-Omni-modified/Vrp-Set-D/D-n405-sol', '../../../../../VRP-Omni-modified/Vrp-Set-D/D-n455', '../../../../../VRP-Omni-modified/Vrp-Set-D/D-n455-sol', '../../../../../VRP-Omni-modified/Vrp-Set-D/D-n501', '../../../../../VRP-Omni-modified/Vrp-Set-D/D-n501-sol', '../../../../../VRP-Omni-modified/Vrp-Set-D/D-n510', '../../../../../VRP-Omni-modified/Vrp-Set-D/D-n510-sol', '../../../../../VRP-Omni-modified/Vrp-Set-D/D-n601', '../../../../../VRP-Omni-modified/Vrp-Set-D/D-n601-sol', '../../../../../VRP-Omni-modified/Vrp-Set-D/D-n701', '../../../../../VRP-Omni-modified/Vrp-Set-D/D-n701-sol', '../../../../../VRP-Omni-modified/Vrp-Set-D/D-n901', '../../../../../VRP-Omni-modified/Vrp-Set-D/D-n901-sol'], ['../../../../../VRP-Omni-modified/Vrp-Set-E/E-n10', '../../../../../VRP-Omni-modified/Vrp-Set-E/E-n10-sol', '../../../../../VRP-Omni-modified/Vrp-Set-E/E-n13', '../../../../../VRP-Omni-modified/Vrp-Set-E/E-n13-sol', '../../../../../VRP-Omni-modified/Vrp-Set-E/E-n22', '../../../../../VRP-Omni-modified/Vrp-Set-E/E-n22-sol', '../../../../../VRP-Omni-modified/Vrp-Set-E/E-n23', '../../../../../VRP-Omni-modified/Vrp-Set-E/E-n23-sol', '../../../../../VRP-Omni-modified/Vrp-Set-E/E-n30', '../../../../../VRP-Omni-modified/Vrp-Set-E/E-n30-sol', '../../../../../VRP-Omni-modified/Vrp-Set-E/E-n31', '../../../../../VRP-Omni-modified/Vrp-Set-E/E-n31-sol', '../../../../../VRP-Omni-modified/Vrp-Set-E/E-n33', '../../../../../VRP-Omni-modified/Vrp-Set-E/E-n33-sol', '../../../../../VRP-Omni-modified/Vrp-Set-E/E-n51', '../../../../../VRP-Omni-modified/Vrp-Set-E/E-n51-sol', '../../../../../VRP-Omni-modified/Vrp-Set-E/E-n76', '../../../../../VRP-Omni-modified/Vrp-Set-E/E-n76-sol'], ['../../../../../VRP-Omni-modified/Vrp-Set-F/F-n135', '../../../../../VRP-Omni-modified/Vrp-Set-F/F-n135-sol', '../../../../../VRP-Omni-modified/Vrp-Set-F/F-n45', '../../../../../VRP-Omni-modified/Vrp-Set-F/F-n45-sol', '../../../../../VRP-Omni-modified/Vrp-Set-F/F-n72', '../../../../../VRP-Omni-modified/Vrp-Set-F/F-n72-sol'], ['../../../../../VRP-Omni-modified/Vrp-Set-Golden/Golden-n201', '../../../../../VRP-Omni-modified/Vrp-Set-Golden/Golden-n201-sol', '../../../../../VRP-Omni-modified/Vrp-Set-Golden/Golden-n241', '../../../../../VRP-Omni-modified/Vrp-Set-Golden/Golden-n241-sol', '../../../../../VRP-Omni-modified/Vrp-Set-Golden/Golden-n253', '../../../../../VRP-Omni-modified/Vrp-Set-Golden/Golden-n253-sol', '../../../../../VRP-Omni-modified/Vrp-Set-Golden/Golden-n256', '../../../../../VRP-Omni-modified/Vrp-Set-Golden/Golden-n256-sol', '../../../../../VRP-Omni-modified/Vrp-Set-Golden/Golden-n281', '../../../../../VRP-Omni-modified/Vrp-Set-Golden/Golden-n281-sol', '../../../../../VRP-Omni-modified/Vrp-Set-Golden/Golden-n301', '../../../../../VRP-Omni-modified/Vrp-Set-Golden/Golden-n301-sol', '../../../../../VRP-Omni-modified/Vrp-Set-Golden/Golden-n321', '../../../../../VRP-Omni-modified/Vrp-Set-Golden/Golden-n321-sol', '../../../../../VRP-Omni-modified/Vrp-Set-Golden/Golden-n324', '../../../../../VRP-Omni-modified/Vrp-Set-Golden/Golden-n324-sol', '../../../../../VRP-Omni-modified/Vrp-Set-Golden/Golden-n361', '../../../../../VRP-Omni-modified/Vrp-Set-Golden/Golden-n361-sol', '../../../../../VRP-Omni-modified/Vrp-Set-Golden/Golden-n397', '../../../../../VRP-Omni-modified/Vrp-Set-Golden/Golden-n397-sol', '../../../../../VRP-Omni-modified/Vrp-Set-Golden/Golden-n400', '../../../../../VRP-Omni-modified/Vrp-Set-Golden/Golden-n400-sol', '../../../../../VRP-Omni-modified/Vrp-Set-Golden/Golden-n401', '../../../../../VRP-Omni-modified/Vrp-Set-Golden/Golden-n401-sol', '../../../../../VRP-Omni-modified/Vrp-Set-Golden/Golden-n421', '../../../../../VRP-Omni-modified/Vrp-Set-Golden/Golden-n421-sol', '../../../../../VRP-Omni-modified/Vrp-Set-Golden/Golden-n441', '../../../../../VRP-Omni-modified/Vrp-Set-Golden/Golden-n441-sol', '../../../../../VRP-Omni-modified/Vrp-Set-Golden/Golden-n481', '../../../../../VRP-Omni-modified/Vrp-Set-Golden/Golden-n481-sol', '../../../../../VRP-Omni-modified/Vrp-Set-Golden/Golden-n484', '../../../../../VRP-Omni-modified/Vrp-Set-Golden/Golden-n484-sol'], ['../../../../../VRP-Omni-modified/Vrp-Set-Li/Li-n1041', '../../../../../VRP-Omni-modified/Vrp-Set-Li/Li-n1041-sol', '../../../../../VRP-Omni-modified/Vrp-Set-Li/Li-n1121', '../../../../../VRP-Omni-modified/Vrp-Set-Li/Li-n1121-sol', '../../../../../VRP-Omni-modified/Vrp-Set-Li/Li-n1201', '../../../../../VRP-Omni-modified/Vrp-Set-Li/Li-n1201-sol', '../../../../../VRP-Omni-modified/Vrp-Set-Li/Li-n561', '../../../../../VRP-Omni-modified/Vrp-Set-Li/Li-n561-sol', '../../../../../VRP-Omni-modified/Vrp-Set-Li/Li-n601', '../../../../../VRP-Omni-modified/Vrp-Set-Li/Li-n601-sol', '../../../../../VRP-Omni-modified/Vrp-Set-Li/Li-n641', '../../../../../VRP-Omni-modified/Vrp-Set-Li/Li-n641-sol', '../../../../../VRP-Omni-modified/Vrp-Set-Li/Li-n721', '../../../../../VRP-Omni-modified/Vrp-Set-Li/Li-n721-sol', '../../../../../VRP-Omni-modified/Vrp-Set-Li/Li-n761', '../../../../../VRP-Omni-modified/Vrp-Set-Li/Li-n761-sol', '../../../../../VRP-Omni-modified/Vrp-Set-Li/Li-n801', '../../../../../VRP-Omni-modified/Vrp-Set-Li/Li-n801-sol', '../../../../../VRP-Omni-modified/Vrp-Set-Li/Li-n841', '../../../../../VRP-Omni-modified/Vrp-Set-Li/Li-n841-sol', '../../../../../VRP-Omni-modified/Vrp-Set-Li/Li-n881', '../../../../../VRP-Omni-modified/Vrp-Set-Li/Li-n881-sol', '../../../../../VRP-Omni-modified/Vrp-Set-Li/Li-n961', '../../../../../VRP-Omni-modified/Vrp-Set-Li/Li-n961-sol'], ['../../../../../VRP-Omni-modified/Vrp-Set-M/M-n101', '../../../../../VRP-Omni-modified/Vrp-Set-M/M-n101-sol', '../../../../../VRP-Omni-modified/Vrp-Set-M/M-n121', '../../../../../VRP-Omni-modified/Vrp-Set-M/M-n121-sol', '../../../../../VRP-Omni-modified/Vrp-Set-M/M-n151', '../../../../../VRP-Omni-modified/Vrp-Set-M/M-n151-sol', '../../../../../VRP-Omni-modified/Vrp-Set-M/M-n200', '../../../../../VRP-Omni-modified/Vrp-Set-M/M-n200-sol'], ['../../../../../VRP-Omni-modified/Vrp-Set-P/P-n101', '../../../../../VRP-Omni-modified/Vrp-Set-P/P-n101-sol', '../../../../../VRP-Omni-modified/Vrp-Set-P/P-n16', '../../../../../VRP-Omni-modified/Vrp-Set-P/P-n16-sol', '../../../../../VRP-Omni-modified/Vrp-Set-P/P-n19', '../../../../../VRP-Omni-modified/Vrp-Set-P/P-n19-sol', '../../../../../VRP-Omni-modified/Vrp-Set-P/P-n20', '../../../../../VRP-Omni-modified/Vrp-Set-P/P-n20-sol', '../../../../../VRP-Omni-modified/Vrp-Set-P/P-n21', '../../../../../VRP-Omni-modified/Vrp-Set-P/P-n21-sol', '../../../../../VRP-Omni-modified/Vrp-Set-P/P-n22', '../../../../../VRP-Omni-modified/Vrp-Set-P/P-n22-sol', '../../../../../VRP-Omni-modified/Vrp-Set-P/P-n23', '../../../../../VRP-Omni-modified/Vrp-Set-P/P-n23-sol', '../../../../../VRP-Omni-modified/Vrp-Set-P/P-n40', '../../../../../VRP-Omni-modified/Vrp-Set-P/P-n40-sol', '../../../../../VRP-Omni-modified/Vrp-Set-P/P-n45', '../../../../../VRP-Omni-modified/Vrp-Set-P/P-n45-sol', '../../../../../VRP-Omni-modified/Vrp-Set-P/P-n50', '../../../../../VRP-Omni-modified/Vrp-Set-P/P-n50-sol', '../../../../../VRP-Omni-modified/Vrp-Set-P/P-n51', '../../../../../VRP-Omni-modified/Vrp-Set-P/P-n51-sol', '../../../../../VRP-Omni-modified/Vrp-Set-P/P-n55', '../../../../../VRP-Omni-modified/Vrp-Set-P/P-n55-sol', '../../../../../VRP-Omni-modified/Vrp-Set-P/P-n60', '../../../../../VRP-Omni-modified/Vrp-Set-P/P-n60-sol', '../../../../../VRP-Omni-modified/Vrp-Set-P/P-n65', '../../../../../VRP-Omni-modified/Vrp-Set-P/P-n65-sol', '../../../../../VRP-Omni-modified/Vrp-Set-P/P-n70', '../../../../../VRP-Omni-modified/Vrp-Set-P/P-n70-sol', '../../../../../VRP-Omni-modified/Vrp-Set-P/P-n76', '../../../../../VRP-Omni-modified/Vrp-Set-P/P-n76-sol'], ['../../../../../VRP-Omni-modified/Vrp-Set-X/X-n1001', '../../../../../VRP-Omni-modified/Vrp-Set-X/X-n1001-sol', '../../../../../VRP-Omni-modified/Vrp-Set-X/X-n101', '../../../../../VRP-Omni-modified/Vrp-Set-X/X-n101-sol', '../../../../../VRP-Omni-modified/Vrp-Set-X/X-n106', '../../../../../VRP-Omni-modified/Vrp-Set-X/X-n106-sol', '../../../../../VRP-Omni-modified/Vrp-Set-X/X-n110', '../../../../../VRP-Omni-modified/Vrp-Set-X/X-n110-sol', '../../../../../VRP-Omni-modified/Vrp-Set-X/X-n115', '../../../../../VRP-Omni-modified/Vrp-Set-X/X-n115-sol', '../../../../../VRP-Omni-modified/Vrp-Set-X/X-n120', '../../../../../VRP-Omni-modified/Vrp-Set-X/X-n120-sol', '../../../../../VRP-Omni-modified/Vrp-Set-X/X-n125', '../../../../../VRP-Omni-modified/Vrp-Set-X/X-n125-sol', '../../../../../VRP-Omni-modified/Vrp-Set-X/X-n129', '../../../../../VRP-Omni-modified/Vrp-Set-X/X-n129-sol', '../../../../../VRP-Omni-modified/Vrp-Set-X/X-n134', '../../../../../VRP-Omni-modified/Vrp-Set-X/X-n134-sol', '../../../../../VRP-Omni-modified/Vrp-Set-X/X-n139', '../../../../../VRP-Omni-modified/Vrp-Set-X/X-n139-sol', '../../../../../VRP-Omni-modified/Vrp-Set-X/X-n143', '../../../../../VRP-Omni-modified/Vrp-Set-X/X-n143-sol', '../../../../../VRP-Omni-modified/Vrp-Set-X/X-n148', '../../../../../VRP-Omni-modified/Vrp-Set-X/X-n148-sol', '../../../../../VRP-Omni-modified/Vrp-Set-X/X-n153', '../../../../../VRP-Omni-modified/Vrp-Set-X/X-n153-sol', '../../../../../VRP-Omni-modified/Vrp-Set-X/X-n157', '../../../../../VRP-Omni-modified/Vrp-Set-X/X-n157-sol', '../../../../../VRP-Omni-modified/Vrp-Set-X/X-n162', '../../../../../VRP-Omni-modified/Vrp-Set-X/X-n162-sol', '../../../../../VRP-Omni-modified/Vrp-Set-X/X-n167', '../../../../../VRP-Omni-modified/Vrp-Set-X/X-n167-sol', '../../../../../VRP-Omni-modified/Vrp-Set-X/X-n172', '../../../../../VRP-Omni-modified/Vrp-Set-X/X-n172-sol', '../../../../../VRP-Omni-modified/Vrp-Set-X/X-n176', '../../../../../VRP-Omni-modified/Vrp-Set-X/X-n176-sol', '../../../../../VRP-Omni-modified/Vrp-Set-X/X-n181', '../../../../../VRP-Omni-modified/Vrp-Set-X/X-n181-sol', '../../../../../VRP-Omni-modified/Vrp-Set-X/X-n186', '../../../../../VRP-Omni-modified/Vrp-Set-X/X-n186-sol', '../../../../../VRP-Omni-modified/Vrp-Set-X/X-n190', '../../../../../VRP-Omni-modified/Vrp-Set-X/X-n190-sol', '../../../../../VRP-Omni-modified/Vrp-Set-X/X-n195', '../../../../../VRP-Omni-modified/Vrp-Set-X/X-n195-sol', '../../../../../VRP-Omni-modified/Vrp-Set-X/X-n200', '../../../../../VRP-Omni-modified/Vrp-Set-X/X-n200-sol', '../../../../../VRP-Omni-modified/Vrp-Set-X/X-n204', '../../../../../VRP-Omni-modified/Vrp-Set-X/X-n204-sol', '../../../../../VRP-Omni-modified/Vrp-Set-X/X-n209', '../../../../../VRP-Omni-modified/Vrp-Set-X/X-n209-sol', '../../../../../VRP-Omni-modified/Vrp-Set-X/X-n214', '../../../../../VRP-Omni-modified/Vrp-Set-X/X-n214-sol', '../../../../../VRP-Omni-modified/Vrp-Set-X/X-n219', '../../../../../VRP-Omni-modified/Vrp-Set-X/X-n219-sol', '../../../../../VRP-Omni-modified/Vrp-Set-X/X-n223', '../../../../../VRP-Omni-modified/Vrp-Set-X/X-n223-sol', '../../../../../VRP-Omni-modified/Vrp-Set-X/X-n228', '../../../../../VRP-Omni-modified/Vrp-Set-X/X-n228-sol', '../../../../../VRP-Omni-modified/Vrp-Set-X/X-n233', '../../../../../VRP-Omni-modified/Vrp-Set-X/X-n233-sol', '../../../../../VRP-Omni-modified/Vrp-Set-X/X-n237', '../../../../../VRP-Omni-modified/Vrp-Set-X/X-n237-sol', '../../../../../VRP-Omni-modified/Vrp-Set-X/X-n242', '../../../../../VRP-Omni-modified/Vrp-Set-X/X-n242-sol', '../../../../../VRP-Omni-modified/Vrp-Set-X/X-n247', '../../../../../VRP-Omni-modified/Vrp-Set-X/X-n247-sol', '../../../../../VRP-Omni-modified/Vrp-Set-X/X-n251', '../../../../../VRP-Omni-modified/Vrp-Set-X/X-n251-sol', '../../../../../VRP-Omni-modified/Vrp-Set-X/X-n256', '../../../../../VRP-Omni-modified/Vrp-Set-X/X-n256-sol', '../../../../../VRP-Omni-modified/Vrp-Set-X/X-n261', '../../../../../VRP-Omni-modified/Vrp-Set-X/X-n261-sol', '../../../../../VRP-Omni-modified/Vrp-Set-X/X-n266', '../../../../../VRP-Omni-modified/Vrp-Set-X/X-n266-sol', '../../../../../VRP-Omni-modified/Vrp-Set-X/X-n270', '../../../../../VRP-Omni-modified/Vrp-Set-X/X-n270-sol', '../../../../../VRP-Omni-modified/Vrp-Set-X/X-n275', '../../../../../VRP-Omni-modified/Vrp-Set-X/X-n275-sol', '../../../../../VRP-Omni-modified/Vrp-Set-X/X-n280', '../../../../../VRP-Omni-modified/Vrp-Set-X/X-n280-sol', '../../../../../VRP-Omni-modified/Vrp-Set-X/X-n284', '../../../../../VRP-Omni-modified/Vrp-Set-X/X-n284-sol', '../../../../../VRP-Omni-modified/Vrp-Set-X/X-n289', '../../../../../VRP-Omni-modified/Vrp-Set-X/X-n289-sol', '../../../../../VRP-Omni-modified/Vrp-Set-X/X-n294', '../../../../../VRP-Omni-modified/Vrp-Set-X/X-n294-sol', '../../../../../VRP-Omni-modified/Vrp-Set-X/X-n298', '../../../../../VRP-Omni-modified/Vrp-Set-X/X-n298-sol', '../../../../../VRP-Omni-modified/Vrp-Set-X/X-n303', '../../../../../VRP-Omni-modified/Vrp-Set-X/X-n303-sol', '../../../../../VRP-Omni-modified/Vrp-Set-X/X-n308', '../../../../../VRP-Omni-modified/Vrp-Set-X/X-n308-sol', '../../../../../VRP-Omni-modified/Vrp-Set-X/X-n313', '../../../../../VRP-Omni-modified/Vrp-Set-X/X-n313-sol', '../../../../../VRP-Omni-modified/Vrp-Set-X/X-n317', '../../../../../VRP-Omni-modified/Vrp-Set-X/X-n317-sol', '../../../../../VRP-Omni-modified/Vrp-Set-X/X-n322', '../../../../../VRP-Omni-modified/Vrp-Set-X/X-n322-sol', '../../../../../VRP-Omni-modified/Vrp-Set-X/X-n327', '../../../../../VRP-Omni-modified/Vrp-Set-X/X-n327-sol', '../../../../../VRP-Omni-modified/Vrp-Set-X/X-n331', '../../../../../VRP-Omni-modified/Vrp-Set-X/X-n331-sol', '../../../../../VRP-Omni-modified/Vrp-Set-X/X-n336', '../../../../../VRP-Omni-modified/Vrp-Set-X/X-n336-sol', '../../../../../VRP-Omni-modified/Vrp-Set-X/X-n344', '../../../../../VRP-Omni-modified/Vrp-Set-X/X-n344-sol', '../../../../../VRP-Omni-modified/Vrp-Set-X/X-n351', '../../../../../VRP-Omni-modified/Vrp-Set-X/X-n351-sol', '../../../../../VRP-Omni-modified/Vrp-Set-X/X-n359', '../../../../../VRP-Omni-modified/Vrp-Set-X/X-n359-sol', '../../../../../VRP-Omni-modified/Vrp-Set-X/X-n367', '../../../../../VRP-Omni-modified/Vrp-Set-X/X-n367-sol', '../../../../../VRP-Omni-modified/Vrp-Set-X/X-n376', '../../../../../VRP-Omni-modified/Vrp-Set-X/X-n376-sol', '../../../../../VRP-Omni-modified/Vrp-Set-X/X-n384', '../../../../../VRP-Omni-modified/Vrp-Set-X/X-n384-sol', '../../../../../VRP-Omni-modified/Vrp-Set-X/X-n393', '../../../../../VRP-Omni-modified/Vrp-Set-X/X-n393-sol', '../../../../../VRP-Omni-modified/Vrp-Set-X/X-n401', '../../../../../VRP-Omni-modified/Vrp-Set-X/X-n401-sol', '../../../../../VRP-Omni-modified/Vrp-Set-X/X-n411', '../../../../../VRP-Omni-modified/Vrp-Set-X/X-n411-sol', '../../../../../VRP-Omni-modified/Vrp-Set-X/X-n420', '../../../../../VRP-Omni-modified/Vrp-Set-X/X-n420-sol', '../../../../../VRP-Omni-modified/Vrp-Set-X/X-n429', '../../../../../VRP-Omni-modified/Vrp-Set-X/X-n429-sol', '../../../../../VRP-Omni-modified/Vrp-Set-X/X-n439', '../../../../../VRP-Omni-modified/Vrp-Set-X/X-n439-sol', '../../../../../VRP-Omni-modified/Vrp-Set-X/X-n449', '../../../../../VRP-Omni-modified/Vrp-Set-X/X-n449-sol', '../../../../../VRP-Omni-modified/Vrp-Set-X/X-n459', '../../../../../VRP-Omni-modified/Vrp-Set-X/X-n459-sol', '../../../../../VRP-Omni-modified/Vrp-Set-X/X-n469', '../../../../../VRP-Omni-modified/Vrp-Set-X/X-n469-sol', '../../../../../VRP-Omni-modified/Vrp-Set-X/X-n480', '../../../../../VRP-Omni-modified/Vrp-Set-X/X-n480-sol', '../../../../../VRP-Omni-modified/Vrp-Set-X/X-n491', '../../../../../VRP-Omni-modified/Vrp-Set-X/X-n491-sol', '../../../../../VRP-Omni-modified/Vrp-Set-X/X-n502', '../../../../../VRP-Omni-modified/Vrp-Set-X/X-n502-sol', '../../../../../VRP-Omni-modified/Vrp-Set-X/X-n513', '../../../../../VRP-Omni-modified/Vrp-Set-X/X-n513-sol', '../../../../../VRP-Omni-modified/Vrp-Set-X/X-n524', '../../../../../VRP-Omni-modified/Vrp-Set-X/X-n524-sol', '../../../../../VRP-Omni-modified/Vrp-Set-X/X-n536', '../../../../../VRP-Omni-modified/Vrp-Set-X/X-n536-sol', '../../../../../VRP-Omni-modified/Vrp-Set-X/X-n548', '../../../../../VRP-Omni-modified/Vrp-Set-X/X-n548-sol', '../../../../../VRP-Omni-modified/Vrp-Set-X/X-n561', '../../../../../VRP-Omni-modified/Vrp-Set-X/X-n561-sol', '../../../../../VRP-Omni-modified/Vrp-Set-X/X-n573', '../../../../../VRP-Omni-modified/Vrp-Set-X/X-n573-sol', '../../../../../VRP-Omni-modified/Vrp-Set-X/X-n586', '../../../../../VRP-Omni-modified/Vrp-Set-X/X-n586-sol', '../../../../../VRP-Omni-modified/Vrp-Set-X/X-n599', '../../../../../VRP-Omni-modified/Vrp-Set-X/X-n599-sol', '../../../../../VRP-Omni-modified/Vrp-Set-X/X-n613', '../../../../../VRP-Omni-modified/Vrp-Set-X/X-n613-sol', '../../../../../VRP-Omni-modified/Vrp-Set-X/X-n627', '../../../../../VRP-Omni-modified/Vrp-Set-X/X-n627-sol', '../../../../../VRP-Omni-modified/Vrp-Set-X/X-n641', '../../../../../VRP-Omni-modified/Vrp-Set-X/X-n641-sol', '../../../../../VRP-Omni-modified/Vrp-Set-X/X-n655', '../../../../../VRP-Omni-modified/Vrp-Set-X/X-n655-sol', '../../../../../VRP-Omni-modified/Vrp-Set-X/X-n670', '../../../../../VRP-Omni-modified/Vrp-Set-X/X-n670-sol', '../../../../../VRP-Omni-modified/Vrp-Set-X/X-n685', '../../../../../VRP-Omni-modified/Vrp-Set-X/X-n685-sol', '../../../../../VRP-Omni-modified/Vrp-Set-X/X-n701', '../../../../../VRP-Omni-modified/Vrp-Set-X/X-n701-sol', '../../../../../VRP-Omni-modified/Vrp-Set-X/X-n716', '../../../../../VRP-Omni-modified/Vrp-Set-X/X-n716-sol', '../../../../../VRP-Omni-modified/Vrp-Set-X/X-n733', '../../../../../VRP-Omni-modified/Vrp-Set-X/X-n733-sol', '../../../../../VRP-Omni-modified/Vrp-Set-X/X-n749', '../../../../../VRP-Omni-modified/Vrp-Set-X/X-n749-sol', '../../../../../VRP-Omni-modified/Vrp-Set-X/X-n766', '../../../../../VRP-Omni-modified/Vrp-Set-X/X-n766-sol', '../../../../../VRP-Omni-modified/Vrp-Set-X/X-n783', '../../../../../VRP-Omni-modified/Vrp-Set-X/X-n783-sol', '../../../../../VRP-Omni-modified/Vrp-Set-X/X-n801', '../../../../../VRP-Omni-modified/Vrp-Set-X/X-n801-sol', '../../../../../VRP-Omni-modified/Vrp-Set-X/X-n819', '../../../../../VRP-Omni-modified/Vrp-Set-X/X-n819-sol', '../../../../../VRP-Omni-modified/Vrp-Set-X/X-n837', '../../../../../VRP-Omni-modified/Vrp-Set-X/X-n837-sol', '../../../../../VRP-Omni-modified/Vrp-Set-X/X-n856', '../../../../../VRP-Omni-modified/Vrp-Set-X/X-n856-sol', '../../../../../VRP-Omni-modified/Vrp-Set-X/X-n876', '../../../../../VRP-Omni-modified/Vrp-Set-X/X-n876-sol', '../../../../../VRP-Omni-modified/Vrp-Set-X/X-n895', '../../../../../VRP-Omni-modified/Vrp-Set-X/X-n895-sol', '../../../../../VRP-Omni-modified/Vrp-Set-X/X-n916', '../../../../../VRP-Omni-modified/Vrp-Set-X/X-n916-sol', '../../../../../VRP-Omni-modified/Vrp-Set-X/X-n936', '../../../../../VRP-Omni-modified/Vrp-Set-X/X-n936-sol', '../../../../../VRP-Omni-modified/Vrp-Set-X/X-n957', '../../../../../VRP-Omni-modified/Vrp-Set-X/X-n957-sol', '../../../../../VRP-Omni-modified/Vrp-Set-X/X-n979', '../../../../../VRP-Omni-modified/Vrp-Set-X/X-n979-sol'], ['../../../../../VRP-Omni-modified/Vrp-Set-XML100/Vrp-Set-XML100'], ['../../../../../VRP-Omni-modified/Vrp-Set-XXL/XXL', '../../../../../VRP-Omni-modified/Vrp-Set-XXL/XXL-n15001', '../../../../../VRP-Omni-modified/Vrp-Set-XXL/XXL-n16001', '../../../../../VRP-Omni-modified/Vrp-Set-XXL/XXL-n20001', '../../../../../VRP-Omni-modified/Vrp-Set-XXL/XXL-n30001', '../../../../../VRP-Omni-modified/Vrp-Set-XXL/XXL-n6001', '../../../../../VRP-Omni-modified/Vrp-Set-XXL/XXL-n7001'], ['../../../../../VRP-Omni-modified/Vrp-Set-tai/tai-n101', '../../../../../VRP-Omni-modified/Vrp-Set-tai/tai-n101-sol', '../../../../../VRP-Omni-modified/Vrp-Set-tai/tai-n151', '../../../../../VRP-Omni-modified/Vrp-Set-tai/tai-n151-sol', '../../../../../VRP-Omni-modified/Vrp-Set-tai/tai-n386', '../../../../../VRP-Omni-modified/Vrp-Set-tai/tai-n386-sol', '../../../../../VRP-Omni-modified/Vrp-Set-tai/tai-n76', '../../../../../VRP-Omni-modified/Vrp-Set-tai/tai-n76-sol']]\n"
     ]
    }
   ],
   "source": [
    "import os\n",
    "import shutil\n",
    "import vrplib\n",
    "import pickle\n",
    "\n",
    "# batch run amd-kd pomo\n",
    "root_dir='../../../../../VRP-Omni-modified'\n",
    "src_dir=root_dir\n",
    "\n",
    "path_list=[]\n",
    "\n",
    "for dir in sorted(os.listdir(src_dir)):\n",
    "    dir=os.path.join(src_dir,dir)\n",
    "    #print(dir)\n",
    "    list=[os.path.join(dir, f) for f in sorted(os.listdir(dir))] \\\n",
    "        if os.path.isdir(dir) else [dir]\n",
    "    path_list.append(list)\n",
    "\n",
    "print(path_list)"
   ]
  },
  {
   "cell_type": "code",
   "execution_count": 3,
   "metadata": {},
   "outputs": [
    {
     "name": "stdout",
     "output_type": "stream",
     "text": [
      "[2024-04-01 17:00:02] test.py(117) : DEBUG_MODE: False\n",
      "[2024-04-01 17:00:02] test.py(118) : USE_CUDA: True, CUDA_DEVICE_NUM: 0\n",
      "[2024-04-01 17:00:02] test.py(119) : env_params{'problem_size': 50, 'pomo_size': 50, 'distribution': {'data_type': 'mixed', 'n_cluster': 3, 'n_cluster_mix': 1, 'lower': 0.2, 'upper': 0.8, 'std': 0.07}, 'load_path': 'data/vrp_uniform50_1000_seed1234.pkl', 'load_raw': None}\n",
      "[2024-04-01 17:00:02] test.py(119) : model_params{'embedding_dim': 64, 'sqrt_embedding_dim': 8.0, 'encoder_layer_num': 6, 'qkv_dim': 8, 'head_num': 8, 'logit_clipping': 10, 'ff_hidden_dim': 512, 'eval_type': 'argmax'}\n",
      "[2024-04-01 17:00:02] test.py(119) : tester_params{'use_cuda': True, 'cuda_device_num': 0, 'model_load': {'path': 'pretrained/checkpoint-cvrp-100.pt', 'epoch': 'test'}, 'test_episodes': 1000, 'test_batch_size': 1, 'augmentation_enable': True, 'aug_factor': 8, 'aug_batch_size': 1, 'test_data_load': {'enable': False, 'filename': ''}, 'test_set_path': '../../../../../VRP-Omni-modified/Vrp-Set-A/A-n32', 'test_set_opt_sol_path': '../../../../../VRP-Omni-modified/Vrp-Set-A/A-n33-sol', 'test_set_name': 'A-n33'}\n",
      "[2024-04-01 17:00:02] test.py(119) : logger_params{'log_file': {'desc': 'test_cvrp50_pretrained_epochtest', 'filename': 'log.txt', 'filepath': './result/20240401_180000_test_cvrp50_pretrained_epochtest'}}\n",
      "['../../../../../VRP-Omni-modified/Vrp-Set-A/A-n32/A-n32-k5.vrp']\n"
     ]
    },
    {
     "name": "stderr",
     "output_type": "stream",
     "text": [
      "/home/xunj/miniconda3/envs/amd/lib/python3.8/site-packages/torch/__init__.py:696: UserWarning: torch.set_default_tensor_type() is deprecated as of PyTorch 2.1, please use torch.set_default_dtype() and torch.set_default_device() as alternatives. (Triggered internally at /opt/conda/conda-bld/pytorch_1708025829503/work/torch/csrc/tensor/python_tensor.cpp:451.)\n",
      "  _C._set_default_tensor_type(t)\n"
     ]
    },
    {
     "name": "stdout",
     "output_type": "stream",
     "text": [
      "pretrained/checkpoint-cvrp-100.pt\n",
      "torch.Size([8, 1])\n",
      "torch.Size([8, 31])\n",
      "[2024-04-01 17:00:03] CVRPTester.py(144) : episode   1/  1, Elapsed[0.01m], Remain[0.00m], score:0.963, aug_score:0.963\n",
      "[2024-04-01 17:00:03] CVRPTester.py(150) :  *** Test Done *** \n",
      "[2024-04-01 17:00:03] CVRPTester.py(151) :  NO-AUG SCORE: 0.9630576372146606 \n",
      "[2024-04-01 17:00:03] CVRPTester.py(152) :  AUGMENTATION SCORE: 0.9630576372146606 \n",
      ">> Evaluation on ../../../../../VRP-Omni-modified/Vrp-Set-A/A-n32 finished within 0.43s\n",
      ">> Save final results to res/A-n32\n",
      "Test on \" ../../../../../VRP-Omni-modified/Vrp-Set-A/A-n32 \" Success\n",
      "-----------------------------------------------------------------------------------------------------------------\n",
      "[2024-04-01 17:00:07] test.py(117) : DEBUG_MODE: False\n",
      "[2024-04-01 17:00:07] test.py(118) : USE_CUDA: True, CUDA_DEVICE_NUM: 0\n",
      "[2024-04-01 17:00:07] test.py(119) : env_params{'problem_size': 50, 'pomo_size': 50, 'distribution': {'data_type': 'mixed', 'n_cluster': 3, 'n_cluster_mix': 1, 'lower': 0.2, 'upper': 0.8, 'std': 0.07}, 'load_path': 'data/vrp_uniform50_1000_seed1234.pkl', 'load_raw': None}\n",
      "[2024-04-01 17:00:07] test.py(119) : model_params{'embedding_dim': 64, 'sqrt_embedding_dim': 8.0, 'encoder_layer_num': 6, 'qkv_dim': 8, 'head_num': 8, 'logit_clipping': 10, 'ff_hidden_dim': 512, 'eval_type': 'argmax'}\n",
      "[2024-04-01 17:00:07] test.py(119) : tester_params{'use_cuda': True, 'cuda_device_num': 0, 'model_load': {'path': 'pretrained/checkpoint-cvrp-100.pt', 'epoch': 'test'}, 'test_episodes': 1000, 'test_batch_size': 1, 'augmentation_enable': True, 'aug_factor': 8, 'aug_batch_size': 1, 'test_data_load': {'enable': False, 'filename': ''}, 'test_set_path': '../../../../../VRP-Omni-modified/Vrp-Set-A/A-n33', 'test_set_opt_sol_path': '../../../../../VRP-Omni-modified/Vrp-Set-A/A-n33-sol', 'test_set_name': 'A-n33'}\n",
      "[2024-04-01 17:00:07] test.py(119) : logger_params{'log_file': {'desc': 'test_cvrp50_pretrained_epochtest', 'filename': 'log.txt', 'filepath': './result/20240401_180005_test_cvrp50_pretrained_epochtest'}}\n",
      "['../../../../../VRP-Omni-modified/Vrp-Set-A/A-n33/A-n33-k5.vrp', '../../../../../VRP-Omni-modified/Vrp-Set-A/A-n33/A-n33-k6.vrp']\n"
     ]
    },
    {
     "name": "stderr",
     "output_type": "stream",
     "text": [
      "/home/xunj/miniconda3/envs/amd/lib/python3.8/site-packages/torch/__init__.py:696: UserWarning: torch.set_default_tensor_type() is deprecated as of PyTorch 2.1, please use torch.set_default_dtype() and torch.set_default_device() as alternatives. (Triggered internally at /opt/conda/conda-bld/pytorch_1708025829503/work/torch/csrc/tensor/python_tensor.cpp:451.)\n",
      "  _C._set_default_tensor_type(t)\n"
     ]
    },
    {
     "name": "stdout",
     "output_type": "stream",
     "text": [
      "pretrained/checkpoint-cvrp-100.pt\n",
      "torch.Size([8, 1])\n",
      "torch.Size([8, 32])\n",
      "[2024-04-01 17:00:07] CVRPTester.py(144) : episode   1/  2, Elapsed[0.01m], Remain[0.01m], score:0.937, aug_score:0.857\n",
      "torch.Size([8, 1])\n",
      "torch.Size([8, 32])\n",
      "[2024-04-01 17:00:07] CVRPTester.py(144) : episode   2/  2, Elapsed[0.01m], Remain[0.00m], score:1.015, aug_score:0.901\n",
      "[2024-04-01 17:00:07] CVRPTester.py(150) :  *** Test Done *** \n",
      "[2024-04-01 17:00:07] CVRPTester.py(151) :  NO-AUG SCORE: 0.9759272336959839 \n",
      "[2024-04-01 17:00:07] CVRPTester.py(152) :  AUGMENTATION SCORE: 0.8793319463729858 \n",
      ">> Evaluation on ../../../../../VRP-Omni-modified/Vrp-Set-A/A-n33 finished within 0.05s\n",
      ">> Save final results to res/A-n33\n",
      "Test on \" ../../../../../VRP-Omni-modified/Vrp-Set-A/A-n33 \" Success\n",
      "-----------------------------------------------------------------------------------------------------------------\n",
      "[2024-04-01 17:00:11] test.py(117) : DEBUG_MODE: False\n",
      "[2024-04-01 17:00:11] test.py(118) : USE_CUDA: True, CUDA_DEVICE_NUM: 0\n",
      "[2024-04-01 17:00:11] test.py(119) : env_params{'problem_size': 50, 'pomo_size': 50, 'distribution': {'data_type': 'mixed', 'n_cluster': 3, 'n_cluster_mix': 1, 'lower': 0.2, 'upper': 0.8, 'std': 0.07}, 'load_path': 'data/vrp_uniform50_1000_seed1234.pkl', 'load_raw': None}\n",
      "[2024-04-01 17:00:11] test.py(119) : model_params{'embedding_dim': 64, 'sqrt_embedding_dim': 8.0, 'encoder_layer_num': 6, 'qkv_dim': 8, 'head_num': 8, 'logit_clipping': 10, 'ff_hidden_dim': 512, 'eval_type': 'argmax'}\n",
      "[2024-04-01 17:00:11] test.py(119) : tester_params{'use_cuda': True, 'cuda_device_num': 0, 'model_load': {'path': 'pretrained/checkpoint-cvrp-100.pt', 'epoch': 'test'}, 'test_episodes': 1000, 'test_batch_size': 1, 'augmentation_enable': True, 'aug_factor': 8, 'aug_batch_size': 1, 'test_data_load': {'enable': False, 'filename': ''}, 'test_set_path': '../../../../../VRP-Omni-modified/Vrp-Set-A/A-n34', 'test_set_opt_sol_path': '../../../../../VRP-Omni-modified/Vrp-Set-A/A-n33-sol', 'test_set_name': 'A-n33'}\n",
      "[2024-04-01 17:00:11] test.py(119) : logger_params{'log_file': {'desc': 'test_cvrp50_pretrained_epochtest', 'filename': 'log.txt', 'filepath': './result/20240401_180009_test_cvrp50_pretrained_epochtest'}}\n",
      "['../../../../../VRP-Omni-modified/Vrp-Set-A/A-n34/A-n34-k5.vrp']\n"
     ]
    },
    {
     "name": "stderr",
     "output_type": "stream",
     "text": [
      "/home/xunj/miniconda3/envs/amd/lib/python3.8/site-packages/torch/__init__.py:696: UserWarning: torch.set_default_tensor_type() is deprecated as of PyTorch 2.1, please use torch.set_default_dtype() and torch.set_default_device() as alternatives. (Triggered internally at /opt/conda/conda-bld/pytorch_1708025829503/work/torch/csrc/tensor/python_tensor.cpp:451.)\n",
      "  _C._set_default_tensor_type(t)\n"
     ]
    },
    {
     "name": "stdout",
     "output_type": "stream",
     "text": [
      "pretrained/checkpoint-cvrp-100.pt\n",
      "torch.Size([8, 1])\n",
      "torch.Size([8, 33])\n",
      "[2024-04-01 17:00:12] CVRPTester.py(144) : episode   1/  1, Elapsed[0.01m], Remain[0.00m], score:1.000, aug_score:1.000\n",
      "[2024-04-01 17:00:12] CVRPTester.py(150) :  *** Test Done *** \n",
      "[2024-04-01 17:00:12] CVRPTester.py(151) :  NO-AUG SCORE: 1.000367522239685 \n",
      "[2024-04-01 17:00:12] CVRPTester.py(152) :  AUGMENTATION SCORE: 1.000367522239685 \n",
      ">> Evaluation on ../../../../../VRP-Omni-modified/Vrp-Set-A/A-n34 finished within 0.41s\n",
      ">> Save final results to res/A-n34\n",
      "Test on \" ../../../../../VRP-Omni-modified/Vrp-Set-A/A-n34 \" Success\n",
      "-----------------------------------------------------------------------------------------------------------------\n",
      "[2024-04-01 17:00:15] test.py(117) : DEBUG_MODE: False\n",
      "[2024-04-01 17:00:15] test.py(118) : USE_CUDA: True, CUDA_DEVICE_NUM: 0\n",
      "[2024-04-01 17:00:15] test.py(119) : env_params{'problem_size': 50, 'pomo_size': 50, 'distribution': {'data_type': 'mixed', 'n_cluster': 3, 'n_cluster_mix': 1, 'lower': 0.2, 'upper': 0.8, 'std': 0.07}, 'load_path': 'data/vrp_uniform50_1000_seed1234.pkl', 'load_raw': None}\n",
      "[2024-04-01 17:00:15] test.py(119) : model_params{'embedding_dim': 64, 'sqrt_embedding_dim': 8.0, 'encoder_layer_num': 6, 'qkv_dim': 8, 'head_num': 8, 'logit_clipping': 10, 'ff_hidden_dim': 512, 'eval_type': 'argmax'}\n",
      "[2024-04-01 17:00:15] test.py(119) : tester_params{'use_cuda': True, 'cuda_device_num': 0, 'model_load': {'path': 'pretrained/checkpoint-cvrp-100.pt', 'epoch': 'test'}, 'test_episodes': 1000, 'test_batch_size': 1, 'augmentation_enable': True, 'aug_factor': 8, 'aug_batch_size': 1, 'test_data_load': {'enable': False, 'filename': ''}, 'test_set_path': '../../../../../VRP-Omni-modified/Vrp-Set-A/A-n36', 'test_set_opt_sol_path': '../../../../../VRP-Omni-modified/Vrp-Set-A/A-n33-sol', 'test_set_name': 'A-n33'}\n",
      "[2024-04-01 17:00:15] test.py(119) : logger_params{'log_file': {'desc': 'test_cvrp50_pretrained_epochtest', 'filename': 'log.txt', 'filepath': './result/20240401_180013_test_cvrp50_pretrained_epochtest'}}\n",
      "['../../../../../VRP-Omni-modified/Vrp-Set-A/A-n36/A-n36-k5.vrp']\n"
     ]
    },
    {
     "name": "stderr",
     "output_type": "stream",
     "text": [
      "/home/xunj/miniconda3/envs/amd/lib/python3.8/site-packages/torch/__init__.py:696: UserWarning: torch.set_default_tensor_type() is deprecated as of PyTorch 2.1, please use torch.set_default_dtype() and torch.set_default_device() as alternatives. (Triggered internally at /opt/conda/conda-bld/pytorch_1708025829503/work/torch/csrc/tensor/python_tensor.cpp:451.)\n",
      "  _C._set_default_tensor_type(t)\n"
     ]
    },
    {
     "name": "stdout",
     "output_type": "stream",
     "text": [
      "pretrained/checkpoint-cvrp-100.pt\n",
      "torch.Size([8, 1])\n",
      "torch.Size([8, 35])\n",
      "[2024-04-01 17:00:16] CVRPTester.py(144) : episode   1/  1, Elapsed[0.01m], Remain[0.00m], score:1.110, aug_score:0.923\n",
      "[2024-04-01 17:00:16] CVRPTester.py(150) :  *** Test Done *** \n",
      "[2024-04-01 17:00:16] CVRPTester.py(151) :  NO-AUG SCORE: 1.1099307537078857 \n",
      "[2024-04-01 17:00:16] CVRPTester.py(152) :  AUGMENTATION SCORE: 0.9231804609298706 \n",
      ">> Evaluation on ../../../../../VRP-Omni-modified/Vrp-Set-A/A-n36 finished within 0.41s\n",
      ">> Save final results to res/A-n36\n",
      "Test on \" ../../../../../VRP-Omni-modified/Vrp-Set-A/A-n36 \" Success\n",
      "-----------------------------------------------------------------------------------------------------------------\n",
      "[2024-04-01 17:00:20] test.py(117) : DEBUG_MODE: False\n",
      "[2024-04-01 17:00:20] test.py(118) : USE_CUDA: True, CUDA_DEVICE_NUM: 0\n",
      "[2024-04-01 17:00:20] test.py(119) : env_params{'problem_size': 50, 'pomo_size': 50, 'distribution': {'data_type': 'mixed', 'n_cluster': 3, 'n_cluster_mix': 1, 'lower': 0.2, 'upper': 0.8, 'std': 0.07}, 'load_path': 'data/vrp_uniform50_1000_seed1234.pkl', 'load_raw': None}\n",
      "[2024-04-01 17:00:20] test.py(119) : model_params{'embedding_dim': 64, 'sqrt_embedding_dim': 8.0, 'encoder_layer_num': 6, 'qkv_dim': 8, 'head_num': 8, 'logit_clipping': 10, 'ff_hidden_dim': 512, 'eval_type': 'argmax'}\n",
      "[2024-04-01 17:00:20] test.py(119) : tester_params{'use_cuda': True, 'cuda_device_num': 0, 'model_load': {'path': 'pretrained/checkpoint-cvrp-100.pt', 'epoch': 'test'}, 'test_episodes': 1000, 'test_batch_size': 1, 'augmentation_enable': True, 'aug_factor': 8, 'aug_batch_size': 1, 'test_data_load': {'enable': False, 'filename': ''}, 'test_set_path': '../../../../../VRP-Omni-modified/Vrp-Set-A/A-n37', 'test_set_opt_sol_path': '../../../../../VRP-Omni-modified/Vrp-Set-A/A-n33-sol', 'test_set_name': 'A-n33'}\n",
      "[2024-04-01 17:00:20] test.py(119) : logger_params{'log_file': {'desc': 'test_cvrp50_pretrained_epochtest', 'filename': 'log.txt', 'filepath': './result/20240401_180018_test_cvrp50_pretrained_epochtest'}}\n",
      "['../../../../../VRP-Omni-modified/Vrp-Set-A/A-n37/A-n37-k5.vrp', '../../../../../VRP-Omni-modified/Vrp-Set-A/A-n37/A-n37-k6.vrp']\n"
     ]
    },
    {
     "name": "stderr",
     "output_type": "stream",
     "text": [
      "/home/xunj/miniconda3/envs/amd/lib/python3.8/site-packages/torch/__init__.py:696: UserWarning: torch.set_default_tensor_type() is deprecated as of PyTorch 2.1, please use torch.set_default_dtype() and torch.set_default_device() as alternatives. (Triggered internally at /opt/conda/conda-bld/pytorch_1708025829503/work/torch/csrc/tensor/python_tensor.cpp:451.)\n",
      "  _C._set_default_tensor_type(t)\n"
     ]
    },
    {
     "name": "stdout",
     "output_type": "stream",
     "text": [
      "pretrained/checkpoint-cvrp-100.pt\n",
      "torch.Size([8, 1])\n",
      "torch.Size([8, 36])\n",
      "[2024-04-01 17:00:20] CVRPTester.py(144) : episode   1/  2, Elapsed[0.01m], Remain[0.01m], score:0.953, aug_score:0.906\n",
      "torch.Size([8, 1])\n",
      "torch.Size([8, 36])\n",
      "[2024-04-01 17:00:20] CVRPTester.py(144) : episode   2/  2, Elapsed[0.01m], Remain[0.00m], score:1.073, aug_score:1.063\n",
      "[2024-04-01 17:00:20] CVRPTester.py(150) :  *** Test Done *** \n",
      "[2024-04-01 17:00:20] CVRPTester.py(151) :  NO-AUG SCORE: 1.0129668712615967 \n",
      "[2024-04-01 17:00:20] CVRPTester.py(152) :  AUGMENTATION SCORE: 0.9846600890159607 \n",
      ">> Evaluation on ../../../../../VRP-Omni-modified/Vrp-Set-A/A-n37 finished within 0.07s\n",
      ">> Save final results to res/A-n37\n",
      "Test on \" ../../../../../VRP-Omni-modified/Vrp-Set-A/A-n37 \" Success\n",
      "-----------------------------------------------------------------------------------------------------------------\n",
      "[2024-04-01 17:00:24] test.py(117) : DEBUG_MODE: False\n",
      "[2024-04-01 17:00:24] test.py(118) : USE_CUDA: True, CUDA_DEVICE_NUM: 0\n",
      "[2024-04-01 17:00:24] test.py(119) : env_params{'problem_size': 50, 'pomo_size': 50, 'distribution': {'data_type': 'mixed', 'n_cluster': 3, 'n_cluster_mix': 1, 'lower': 0.2, 'upper': 0.8, 'std': 0.07}, 'load_path': 'data/vrp_uniform50_1000_seed1234.pkl', 'load_raw': None}\n",
      "[2024-04-01 17:00:24] test.py(119) : model_params{'embedding_dim': 64, 'sqrt_embedding_dim': 8.0, 'encoder_layer_num': 6, 'qkv_dim': 8, 'head_num': 8, 'logit_clipping': 10, 'ff_hidden_dim': 512, 'eval_type': 'argmax'}\n",
      "[2024-04-01 17:00:24] test.py(119) : tester_params{'use_cuda': True, 'cuda_device_num': 0, 'model_load': {'path': 'pretrained/checkpoint-cvrp-100.pt', 'epoch': 'test'}, 'test_episodes': 1000, 'test_batch_size': 1, 'augmentation_enable': True, 'aug_factor': 8, 'aug_batch_size': 1, 'test_data_load': {'enable': False, 'filename': ''}, 'test_set_path': '../../../../../VRP-Omni-modified/Vrp-Set-A/A-n38', 'test_set_opt_sol_path': '../../../../../VRP-Omni-modified/Vrp-Set-A/A-n33-sol', 'test_set_name': 'A-n33'}\n",
      "[2024-04-01 17:00:24] test.py(119) : logger_params{'log_file': {'desc': 'test_cvrp50_pretrained_epochtest', 'filename': 'log.txt', 'filepath': './result/20240401_180022_test_cvrp50_pretrained_epochtest'}}\n",
      "['../../../../../VRP-Omni-modified/Vrp-Set-A/A-n38/A-n38-k5.vrp']\n"
     ]
    },
    {
     "name": "stderr",
     "output_type": "stream",
     "text": [
      "/home/xunj/miniconda3/envs/amd/lib/python3.8/site-packages/torch/__init__.py:696: UserWarning: torch.set_default_tensor_type() is deprecated as of PyTorch 2.1, please use torch.set_default_dtype() and torch.set_default_device() as alternatives. (Triggered internally at /opt/conda/conda-bld/pytorch_1708025829503/work/torch/csrc/tensor/python_tensor.cpp:451.)\n",
      "  _C._set_default_tensor_type(t)\n"
     ]
    },
    {
     "name": "stdout",
     "output_type": "stream",
     "text": [
      "pretrained/checkpoint-cvrp-100.pt\n",
      "torch.Size([8, 1])\n",
      "torch.Size([8, 37])\n",
      "[2024-04-01 17:00:25] CVRPTester.py(144) : episode   1/  1, Elapsed[0.01m], Remain[0.00m], score:0.944, aug_score:0.822\n",
      "[2024-04-01 17:00:25] CVRPTester.py(150) :  *** Test Done *** \n",
      "[2024-04-01 17:00:25] CVRPTester.py(151) :  NO-AUG SCORE: 0.9444486498832703 \n",
      "[2024-04-01 17:00:25] CVRPTester.py(152) :  AUGMENTATION SCORE: 0.8219552636146545 \n",
      ">> Evaluation on ../../../../../VRP-Omni-modified/Vrp-Set-A/A-n38 finished within 0.42s\n",
      ">> Save final results to res/A-n38\n",
      "Test on \" ../../../../../VRP-Omni-modified/Vrp-Set-A/A-n38 \" Success\n",
      "-----------------------------------------------------------------------------------------------------------------\n",
      "[2024-04-01 17:00:28] test.py(117) : DEBUG_MODE: False\n",
      "[2024-04-01 17:00:28] test.py(118) : USE_CUDA: True, CUDA_DEVICE_NUM: 0\n",
      "[2024-04-01 17:00:28] test.py(119) : env_params{'problem_size': 50, 'pomo_size': 50, 'distribution': {'data_type': 'mixed', 'n_cluster': 3, 'n_cluster_mix': 1, 'lower': 0.2, 'upper': 0.8, 'std': 0.07}, 'load_path': 'data/vrp_uniform50_1000_seed1234.pkl', 'load_raw': None}\n",
      "[2024-04-01 17:00:28] test.py(119) : model_params{'embedding_dim': 64, 'sqrt_embedding_dim': 8.0, 'encoder_layer_num': 6, 'qkv_dim': 8, 'head_num': 8, 'logit_clipping': 10, 'ff_hidden_dim': 512, 'eval_type': 'argmax'}\n",
      "[2024-04-01 17:00:28] test.py(119) : tester_params{'use_cuda': True, 'cuda_device_num': 0, 'model_load': {'path': 'pretrained/checkpoint-cvrp-100.pt', 'epoch': 'test'}, 'test_episodes': 1000, 'test_batch_size': 1, 'augmentation_enable': True, 'aug_factor': 8, 'aug_batch_size': 1, 'test_data_load': {'enable': False, 'filename': ''}, 'test_set_path': '../../../../../VRP-Omni-modified/Vrp-Set-A/A-n39', 'test_set_opt_sol_path': '../../../../../VRP-Omni-modified/Vrp-Set-A/A-n33-sol', 'test_set_name': 'A-n33'}\n",
      "[2024-04-01 17:00:28] test.py(119) : logger_params{'log_file': {'desc': 'test_cvrp50_pretrained_epochtest', 'filename': 'log.txt', 'filepath': './result/20240401_180026_test_cvrp50_pretrained_epochtest'}}\n",
      "['../../../../../VRP-Omni-modified/Vrp-Set-A/A-n39/A-n39-k5.vrp', '../../../../../VRP-Omni-modified/Vrp-Set-A/A-n39/A-n39-k6.vrp']\n"
     ]
    },
    {
     "name": "stderr",
     "output_type": "stream",
     "text": [
      "/home/xunj/miniconda3/envs/amd/lib/python3.8/site-packages/torch/__init__.py:696: UserWarning: torch.set_default_tensor_type() is deprecated as of PyTorch 2.1, please use torch.set_default_dtype() and torch.set_default_device() as alternatives. (Triggered internally at /opt/conda/conda-bld/pytorch_1708025829503/work/torch/csrc/tensor/python_tensor.cpp:451.)\n",
      "  _C._set_default_tensor_type(t)\n"
     ]
    },
    {
     "name": "stdout",
     "output_type": "stream",
     "text": [
      "pretrained/checkpoint-cvrp-100.pt\n",
      "torch.Size([8, 1])\n",
      "torch.Size([8, 38])\n",
      "[2024-04-01 17:00:29] CVRPTester.py(144) : episode   1/  2, Elapsed[0.01m], Remain[0.01m], score:1.118, aug_score:0.959\n",
      "torch.Size([8, 1])\n",
      "torch.Size([8, 38])\n",
      "[2024-04-01 17:00:29] CVRPTester.py(144) : episode   2/  2, Elapsed[0.01m], Remain[0.00m], score:1.119, aug_score:0.968\n",
      "[2024-04-01 17:00:29] CVRPTester.py(150) :  *** Test Done *** \n",
      "[2024-04-01 17:00:29] CVRPTester.py(151) :  NO-AUG SCORE: 1.118302345275879 \n",
      "[2024-04-01 17:00:29] CVRPTester.py(152) :  AUGMENTATION SCORE: 0.9635116457939148 \n",
      ">> Evaluation on ../../../../../VRP-Omni-modified/Vrp-Set-A/A-n39 finished within 0.07s\n",
      ">> Save final results to res/A-n39\n",
      "Test on \" ../../../../../VRP-Omni-modified/Vrp-Set-A/A-n39 \" Success\n",
      "-----------------------------------------------------------------------------------------------------------------\n",
      "[2024-04-01 17:00:33] test.py(117) : DEBUG_MODE: False\n",
      "[2024-04-01 17:00:33] test.py(118) : USE_CUDA: True, CUDA_DEVICE_NUM: 0\n",
      "[2024-04-01 17:00:33] test.py(119) : env_params{'problem_size': 50, 'pomo_size': 50, 'distribution': {'data_type': 'mixed', 'n_cluster': 3, 'n_cluster_mix': 1, 'lower': 0.2, 'upper': 0.8, 'std': 0.07}, 'load_path': 'data/vrp_uniform50_1000_seed1234.pkl', 'load_raw': None}\n",
      "[2024-04-01 17:00:33] test.py(119) : model_params{'embedding_dim': 64, 'sqrt_embedding_dim': 8.0, 'encoder_layer_num': 6, 'qkv_dim': 8, 'head_num': 8, 'logit_clipping': 10, 'ff_hidden_dim': 512, 'eval_type': 'argmax'}\n",
      "[2024-04-01 17:00:33] test.py(119) : tester_params{'use_cuda': True, 'cuda_device_num': 0, 'model_load': {'path': 'pretrained/checkpoint-cvrp-100.pt', 'epoch': 'test'}, 'test_episodes': 1000, 'test_batch_size': 1, 'augmentation_enable': True, 'aug_factor': 8, 'aug_batch_size': 1, 'test_data_load': {'enable': False, 'filename': ''}, 'test_set_path': '../../../../../VRP-Omni-modified/Vrp-Set-A/A-n44', 'test_set_opt_sol_path': '../../../../../VRP-Omni-modified/Vrp-Set-A/A-n33-sol', 'test_set_name': 'A-n33'}\n",
      "[2024-04-01 17:00:33] test.py(119) : logger_params{'log_file': {'desc': 'test_cvrp50_pretrained_epochtest', 'filename': 'log.txt', 'filepath': './result/20240401_180031_test_cvrp50_pretrained_epochtest'}}\n",
      "['../../../../../VRP-Omni-modified/Vrp-Set-A/A-n44/A-n44-k6.vrp']\n"
     ]
    },
    {
     "name": "stderr",
     "output_type": "stream",
     "text": [
      "/home/xunj/miniconda3/envs/amd/lib/python3.8/site-packages/torch/__init__.py:696: UserWarning: torch.set_default_tensor_type() is deprecated as of PyTorch 2.1, please use torch.set_default_dtype() and torch.set_default_device() as alternatives. (Triggered internally at /opt/conda/conda-bld/pytorch_1708025829503/work/torch/csrc/tensor/python_tensor.cpp:451.)\n",
      "  _C._set_default_tensor_type(t)\n"
     ]
    },
    {
     "name": "stdout",
     "output_type": "stream",
     "text": [
      "pretrained/checkpoint-cvrp-100.pt\n",
      "torch.Size([8, 1])\n",
      "torch.Size([8, 43])\n",
      "[2024-04-01 17:00:33] CVRPTester.py(144) : episode   1/  1, Elapsed[0.01m], Remain[0.00m], score:1.140, aug_score:1.069\n",
      "[2024-04-01 17:00:33] CVRPTester.py(150) :  *** Test Done *** \n",
      "[2024-04-01 17:00:33] CVRPTester.py(151) :  NO-AUG SCORE: 1.1397616863250732 \n",
      "[2024-04-01 17:00:33] CVRPTester.py(152) :  AUGMENTATION SCORE: 1.068652629852295 \n",
      ">> Evaluation on ../../../../../VRP-Omni-modified/Vrp-Set-A/A-n44 finished within 0.42s\n",
      ">> Save final results to res/A-n44\n",
      "Test on \" ../../../../../VRP-Omni-modified/Vrp-Set-A/A-n44 \" Success\n",
      "-----------------------------------------------------------------------------------------------------------------\n",
      "[2024-04-01 17:00:37] test.py(117) : DEBUG_MODE: False\n",
      "[2024-04-01 17:00:37] test.py(118) : USE_CUDA: True, CUDA_DEVICE_NUM: 0\n",
      "[2024-04-01 17:00:37] test.py(119) : env_params{'problem_size': 50, 'pomo_size': 50, 'distribution': {'data_type': 'mixed', 'n_cluster': 3, 'n_cluster_mix': 1, 'lower': 0.2, 'upper': 0.8, 'std': 0.07}, 'load_path': 'data/vrp_uniform50_1000_seed1234.pkl', 'load_raw': None}\n",
      "[2024-04-01 17:00:37] test.py(119) : model_params{'embedding_dim': 64, 'sqrt_embedding_dim': 8.0, 'encoder_layer_num': 6, 'qkv_dim': 8, 'head_num': 8, 'logit_clipping': 10, 'ff_hidden_dim': 512, 'eval_type': 'argmax'}\n",
      "[2024-04-01 17:00:37] test.py(119) : tester_params{'use_cuda': True, 'cuda_device_num': 0, 'model_load': {'path': 'pretrained/checkpoint-cvrp-100.pt', 'epoch': 'test'}, 'test_episodes': 1000, 'test_batch_size': 1, 'augmentation_enable': True, 'aug_factor': 8, 'aug_batch_size': 1, 'test_data_load': {'enable': False, 'filename': ''}, 'test_set_path': '../../../../../VRP-Omni-modified/Vrp-Set-A/A-n45', 'test_set_opt_sol_path': '../../../../../VRP-Omni-modified/Vrp-Set-A/A-n33-sol', 'test_set_name': 'A-n33'}\n",
      "[2024-04-01 17:00:37] test.py(119) : logger_params{'log_file': {'desc': 'test_cvrp50_pretrained_epochtest', 'filename': 'log.txt', 'filepath': './result/20240401_180035_test_cvrp50_pretrained_epochtest'}}\n",
      "['../../../../../VRP-Omni-modified/Vrp-Set-A/A-n45/A-n45-k6.vrp', '../../../../../VRP-Omni-modified/Vrp-Set-A/A-n45/A-n45-k7.vrp']\n"
     ]
    },
    {
     "name": "stderr",
     "output_type": "stream",
     "text": [
      "/home/xunj/miniconda3/envs/amd/lib/python3.8/site-packages/torch/__init__.py:696: UserWarning: torch.set_default_tensor_type() is deprecated as of PyTorch 2.1, please use torch.set_default_dtype() and torch.set_default_device() as alternatives. (Triggered internally at /opt/conda/conda-bld/pytorch_1708025829503/work/torch/csrc/tensor/python_tensor.cpp:451.)\n",
      "  _C._set_default_tensor_type(t)\n"
     ]
    },
    {
     "name": "stdout",
     "output_type": "stream",
     "text": [
      "pretrained/checkpoint-cvrp-100.pt\n",
      "torch.Size([8, 1])\n",
      "torch.Size([8, 44])\n",
      "[2024-04-01 17:00:38] CVRPTester.py(144) : episode   1/  2, Elapsed[0.01m], Remain[0.01m], score:1.064, aug_score:1.054\n",
      "torch.Size([8, 1])\n",
      "torch.Size([8, 44])\n",
      "[2024-04-01 17:00:38] CVRPTester.py(144) : episode   2/  2, Elapsed[0.01m], Remain[0.00m], score:1.229, aug_score:1.219\n",
      "[2024-04-01 17:00:38] CVRPTester.py(150) :  *** Test Done *** \n",
      "[2024-04-01 17:00:38] CVRPTester.py(151) :  NO-AUG SCORE: 1.146644949913025 \n",
      "[2024-04-01 17:00:38] CVRPTester.py(152) :  AUGMENTATION SCORE: 1.1362919807434082 \n",
      ">> Evaluation on ../../../../../VRP-Omni-modified/Vrp-Set-A/A-n45 finished within 0.06s\n",
      ">> Save final results to res/A-n45\n",
      "Test on \" ../../../../../VRP-Omni-modified/Vrp-Set-A/A-n45 \" Success\n",
      "-----------------------------------------------------------------------------------------------------------------\n",
      "[2024-04-01 17:00:41] test.py(117) : DEBUG_MODE: False\n",
      "[2024-04-01 17:00:41] test.py(118) : USE_CUDA: True, CUDA_DEVICE_NUM: 0\n",
      "[2024-04-01 17:00:41] test.py(119) : env_params{'problem_size': 50, 'pomo_size': 50, 'distribution': {'data_type': 'mixed', 'n_cluster': 3, 'n_cluster_mix': 1, 'lower': 0.2, 'upper': 0.8, 'std': 0.07}, 'load_path': 'data/vrp_uniform50_1000_seed1234.pkl', 'load_raw': None}\n",
      "[2024-04-01 17:00:41] test.py(119) : model_params{'embedding_dim': 64, 'sqrt_embedding_dim': 8.0, 'encoder_layer_num': 6, 'qkv_dim': 8, 'head_num': 8, 'logit_clipping': 10, 'ff_hidden_dim': 512, 'eval_type': 'argmax'}\n",
      "[2024-04-01 17:00:41] test.py(119) : tester_params{'use_cuda': True, 'cuda_device_num': 0, 'model_load': {'path': 'pretrained/checkpoint-cvrp-100.pt', 'epoch': 'test'}, 'test_episodes': 1000, 'test_batch_size': 1, 'augmentation_enable': True, 'aug_factor': 8, 'aug_batch_size': 1, 'test_data_load': {'enable': False, 'filename': ''}, 'test_set_path': '../../../../../VRP-Omni-modified/Vrp-Set-A/A-n46', 'test_set_opt_sol_path': '../../../../../VRP-Omni-modified/Vrp-Set-A/A-n33-sol', 'test_set_name': 'A-n33'}\n",
      "[2024-04-01 17:00:41] test.py(119) : logger_params{'log_file': {'desc': 'test_cvrp50_pretrained_epochtest', 'filename': 'log.txt', 'filepath': './result/20240401_180039_test_cvrp50_pretrained_epochtest'}}\n",
      "['../../../../../VRP-Omni-modified/Vrp-Set-A/A-n46/A-n46-k7.vrp']\n"
     ]
    },
    {
     "name": "stderr",
     "output_type": "stream",
     "text": [
      "/home/xunj/miniconda3/envs/amd/lib/python3.8/site-packages/torch/__init__.py:696: UserWarning: torch.set_default_tensor_type() is deprecated as of PyTorch 2.1, please use torch.set_default_dtype() and torch.set_default_device() as alternatives. (Triggered internally at /opt/conda/conda-bld/pytorch_1708025829503/work/torch/csrc/tensor/python_tensor.cpp:451.)\n",
      "  _C._set_default_tensor_type(t)\n"
     ]
    },
    {
     "name": "stdout",
     "output_type": "stream",
     "text": [
      "pretrained/checkpoint-cvrp-100.pt\n",
      "torch.Size([8, 1])\n",
      "torch.Size([8, 45])\n",
      "[2024-04-01 17:00:42] CVRPTester.py(144) : episode   1/  1, Elapsed[0.01m], Remain[0.00m], score:1.084, aug_score:1.017\n",
      "[2024-04-01 17:00:42] CVRPTester.py(150) :  *** Test Done *** \n",
      "[2024-04-01 17:00:42] CVRPTester.py(151) :  NO-AUG SCORE: 1.0837068557739258 \n",
      "[2024-04-01 17:00:42] CVRPTester.py(152) :  AUGMENTATION SCORE: 1.0171771049499512 \n",
      ">> Evaluation on ../../../../../VRP-Omni-modified/Vrp-Set-A/A-n46 finished within 0.43s\n",
      ">> Save final results to res/A-n46\n",
      "Test on \" ../../../../../VRP-Omni-modified/Vrp-Set-A/A-n46 \" Success\n",
      "-----------------------------------------------------------------------------------------------------------------\n",
      "[2024-04-01 17:00:45] test.py(117) : DEBUG_MODE: False\n",
      "[2024-04-01 17:00:45] test.py(118) : USE_CUDA: True, CUDA_DEVICE_NUM: 0\n",
      "[2024-04-01 17:00:45] test.py(119) : env_params{'problem_size': 50, 'pomo_size': 50, 'distribution': {'data_type': 'mixed', 'n_cluster': 3, 'n_cluster_mix': 1, 'lower': 0.2, 'upper': 0.8, 'std': 0.07}, 'load_path': 'data/vrp_uniform50_1000_seed1234.pkl', 'load_raw': None}\n",
      "[2024-04-01 17:00:45] test.py(119) : model_params{'embedding_dim': 64, 'sqrt_embedding_dim': 8.0, 'encoder_layer_num': 6, 'qkv_dim': 8, 'head_num': 8, 'logit_clipping': 10, 'ff_hidden_dim': 512, 'eval_type': 'argmax'}\n",
      "[2024-04-01 17:00:45] test.py(119) : tester_params{'use_cuda': True, 'cuda_device_num': 0, 'model_load': {'path': 'pretrained/checkpoint-cvrp-100.pt', 'epoch': 'test'}, 'test_episodes': 1000, 'test_batch_size': 1, 'augmentation_enable': True, 'aug_factor': 8, 'aug_batch_size': 1, 'test_data_load': {'enable': False, 'filename': ''}, 'test_set_path': '../../../../../VRP-Omni-modified/Vrp-Set-A/A-n48', 'test_set_opt_sol_path': '../../../../../VRP-Omni-modified/Vrp-Set-A/A-n33-sol', 'test_set_name': 'A-n33'}\n",
      "[2024-04-01 17:00:45] test.py(119) : logger_params{'log_file': {'desc': 'test_cvrp50_pretrained_epochtest', 'filename': 'log.txt', 'filepath': './result/20240401_180044_test_cvrp50_pretrained_epochtest'}}\n",
      "['../../../../../VRP-Omni-modified/Vrp-Set-A/A-n48/A-n48-k7.vrp']\n"
     ]
    },
    {
     "name": "stderr",
     "output_type": "stream",
     "text": [
      "/home/xunj/miniconda3/envs/amd/lib/python3.8/site-packages/torch/__init__.py:696: UserWarning: torch.set_default_tensor_type() is deprecated as of PyTorch 2.1, please use torch.set_default_dtype() and torch.set_default_device() as alternatives. (Triggered internally at /opt/conda/conda-bld/pytorch_1708025829503/work/torch/csrc/tensor/python_tensor.cpp:451.)\n",
      "  _C._set_default_tensor_type(t)\n"
     ]
    },
    {
     "name": "stdout",
     "output_type": "stream",
     "text": [
      "pretrained/checkpoint-cvrp-100.pt\n",
      "torch.Size([8, 1])\n",
      "torch.Size([8, 47])\n",
      "[2024-04-01 17:00:46] CVRPTester.py(144) : episode   1/  1, Elapsed[0.01m], Remain[0.00m], score:1.213, aug_score:1.188\n",
      "[2024-04-01 17:00:46] CVRPTester.py(150) :  *** Test Done *** \n",
      "[2024-04-01 17:00:46] CVRPTester.py(151) :  NO-AUG SCORE: 1.2133119106292725 \n",
      "[2024-04-01 17:00:46] CVRPTester.py(152) :  AUGMENTATION SCORE: 1.188302755355835 \n",
      ">> Evaluation on ../../../../../VRP-Omni-modified/Vrp-Set-A/A-n48 finished within 0.43s\n",
      ">> Save final results to res/A-n48\n",
      "Test on \" ../../../../../VRP-Omni-modified/Vrp-Set-A/A-n48 \" Success\n",
      "-----------------------------------------------------------------------------------------------------------------\n",
      "[2024-04-01 17:00:50] test.py(117) : DEBUG_MODE: False\n",
      "[2024-04-01 17:00:50] test.py(118) : USE_CUDA: True, CUDA_DEVICE_NUM: 0\n",
      "[2024-04-01 17:00:50] test.py(119) : env_params{'problem_size': 50, 'pomo_size': 50, 'distribution': {'data_type': 'mixed', 'n_cluster': 3, 'n_cluster_mix': 1, 'lower': 0.2, 'upper': 0.8, 'std': 0.07}, 'load_path': 'data/vrp_uniform50_1000_seed1234.pkl', 'load_raw': None}\n",
      "[2024-04-01 17:00:50] test.py(119) : model_params{'embedding_dim': 64, 'sqrt_embedding_dim': 8.0, 'encoder_layer_num': 6, 'qkv_dim': 8, 'head_num': 8, 'logit_clipping': 10, 'ff_hidden_dim': 512, 'eval_type': 'argmax'}\n",
      "[2024-04-01 17:00:50] test.py(119) : tester_params{'use_cuda': True, 'cuda_device_num': 0, 'model_load': {'path': 'pretrained/checkpoint-cvrp-100.pt', 'epoch': 'test'}, 'test_episodes': 1000, 'test_batch_size': 1, 'augmentation_enable': True, 'aug_factor': 8, 'aug_batch_size': 1, 'test_data_load': {'enable': False, 'filename': ''}, 'test_set_path': '../../../../../VRP-Omni-modified/Vrp-Set-A/A-n53', 'test_set_opt_sol_path': '../../../../../VRP-Omni-modified/Vrp-Set-A/A-n33-sol', 'test_set_name': 'A-n33'}\n",
      "[2024-04-01 17:00:50] test.py(119) : logger_params{'log_file': {'desc': 'test_cvrp50_pretrained_epochtest', 'filename': 'log.txt', 'filepath': './result/20240401_180048_test_cvrp50_pretrained_epochtest'}}\n",
      "['../../../../../VRP-Omni-modified/Vrp-Set-A/A-n53/A-n53-k7.vrp']\n",
      "pretrained/checkpoint-cvrp-100.pt\n"
     ]
    },
    {
     "name": "stderr",
     "output_type": "stream",
     "text": [
      "/home/xunj/miniconda3/envs/amd/lib/python3.8/site-packages/torch/__init__.py:696: UserWarning: torch.set_default_tensor_type() is deprecated as of PyTorch 2.1, please use torch.set_default_dtype() and torch.set_default_device() as alternatives. (Triggered internally at /opt/conda/conda-bld/pytorch_1708025829503/work/torch/csrc/tensor/python_tensor.cpp:451.)\n",
      "  _C._set_default_tensor_type(t)\n"
     ]
    },
    {
     "name": "stdout",
     "output_type": "stream",
     "text": [
      "torch.Size([8, 1])\n",
      "torch.Size([8, 52])\n",
      "[2024-04-01 17:00:50] CVRPTester.py(144) : episode   1/  1, Elapsed[0.01m], Remain[0.00m], score:1.172, aug_score:1.096\n",
      "[2024-04-01 17:00:50] CVRPTester.py(150) :  *** Test Done *** \n",
      "[2024-04-01 17:00:50] CVRPTester.py(151) :  NO-AUG SCORE: 1.1717015504837036 \n",
      "[2024-04-01 17:00:50] CVRPTester.py(152) :  AUGMENTATION SCORE: 1.096382975578308 \n",
      ">> Evaluation on ../../../../../VRP-Omni-modified/Vrp-Set-A/A-n53 finished within 0.45s\n",
      ">> Save final results to res/A-n53\n",
      "Test on \" ../../../../../VRP-Omni-modified/Vrp-Set-A/A-n53 \" Success\n",
      "-----------------------------------------------------------------------------------------------------------------\n",
      "[2024-04-01 17:00:54] test.py(117) : DEBUG_MODE: False\n",
      "[2024-04-01 17:00:54] test.py(118) : USE_CUDA: True, CUDA_DEVICE_NUM: 0\n",
      "[2024-04-01 17:00:54] test.py(119) : env_params{'problem_size': 50, 'pomo_size': 50, 'distribution': {'data_type': 'mixed', 'n_cluster': 3, 'n_cluster_mix': 1, 'lower': 0.2, 'upper': 0.8, 'std': 0.07}, 'load_path': 'data/vrp_uniform50_1000_seed1234.pkl', 'load_raw': None}\n",
      "[2024-04-01 17:00:54] test.py(119) : model_params{'embedding_dim': 64, 'sqrt_embedding_dim': 8.0, 'encoder_layer_num': 6, 'qkv_dim': 8, 'head_num': 8, 'logit_clipping': 10, 'ff_hidden_dim': 512, 'eval_type': 'argmax'}\n",
      "[2024-04-01 17:00:54] test.py(119) : tester_params{'use_cuda': True, 'cuda_device_num': 0, 'model_load': {'path': 'pretrained/checkpoint-cvrp-100.pt', 'epoch': 'test'}, 'test_episodes': 1000, 'test_batch_size': 1, 'augmentation_enable': True, 'aug_factor': 8, 'aug_batch_size': 1, 'test_data_load': {'enable': False, 'filename': ''}, 'test_set_path': '../../../../../VRP-Omni-modified/Vrp-Set-A/A-n54', 'test_set_opt_sol_path': '../../../../../VRP-Omni-modified/Vrp-Set-A/A-n33-sol', 'test_set_name': 'A-n33'}\n",
      "[2024-04-01 17:00:54] test.py(119) : logger_params{'log_file': {'desc': 'test_cvrp50_pretrained_epochtest', 'filename': 'log.txt', 'filepath': './result/20240401_180052_test_cvrp50_pretrained_epochtest'}}\n",
      "['../../../../../VRP-Omni-modified/Vrp-Set-A/A-n54/A-n54-k7.vrp']\n"
     ]
    },
    {
     "name": "stderr",
     "output_type": "stream",
     "text": [
      "/home/xunj/miniconda3/envs/amd/lib/python3.8/site-packages/torch/__init__.py:696: UserWarning: torch.set_default_tensor_type() is deprecated as of PyTorch 2.1, please use torch.set_default_dtype() and torch.set_default_device() as alternatives. (Triggered internally at /opt/conda/conda-bld/pytorch_1708025829503/work/torch/csrc/tensor/python_tensor.cpp:451.)\n",
      "  _C._set_default_tensor_type(t)\n"
     ]
    },
    {
     "name": "stdout",
     "output_type": "stream",
     "text": [
      "pretrained/checkpoint-cvrp-100.pt\n",
      "torch.Size([8, 1])\n",
      "torch.Size([8, 53])\n",
      "[2024-04-01 17:00:55] CVRPTester.py(144) : episode   1/  1, Elapsed[0.01m], Remain[0.00m], score:1.256, aug_score:1.253\n",
      "[2024-04-01 17:00:55] CVRPTester.py(150) :  *** Test Done *** \n",
      "[2024-04-01 17:00:55] CVRPTester.py(151) :  NO-AUG SCORE: 1.2564890384674072 \n",
      "[2024-04-01 17:00:55] CVRPTester.py(152) :  AUGMENTATION SCORE: 1.2525417804718018 \n",
      ">> Evaluation on ../../../../../VRP-Omni-modified/Vrp-Set-A/A-n54 finished within 0.46s\n",
      ">> Save final results to res/A-n54\n",
      "Test on \" ../../../../../VRP-Omni-modified/Vrp-Set-A/A-n54 \" Success\n",
      "-----------------------------------------------------------------------------------------------------------------\n",
      "[2024-04-01 17:00:58] test.py(117) : DEBUG_MODE: False\n",
      "[2024-04-01 17:00:58] test.py(118) : USE_CUDA: True, CUDA_DEVICE_NUM: 0\n",
      "[2024-04-01 17:00:58] test.py(119) : env_params{'problem_size': 50, 'pomo_size': 50, 'distribution': {'data_type': 'mixed', 'n_cluster': 3, 'n_cluster_mix': 1, 'lower': 0.2, 'upper': 0.8, 'std': 0.07}, 'load_path': 'data/vrp_uniform50_1000_seed1234.pkl', 'load_raw': None}\n",
      "[2024-04-01 17:00:58] test.py(119) : model_params{'embedding_dim': 64, 'sqrt_embedding_dim': 8.0, 'encoder_layer_num': 6, 'qkv_dim': 8, 'head_num': 8, 'logit_clipping': 10, 'ff_hidden_dim': 512, 'eval_type': 'argmax'}\n",
      "[2024-04-01 17:00:58] test.py(119) : tester_params{'use_cuda': True, 'cuda_device_num': 0, 'model_load': {'path': 'pretrained/checkpoint-cvrp-100.pt', 'epoch': 'test'}, 'test_episodes': 1000, 'test_batch_size': 1, 'augmentation_enable': True, 'aug_factor': 8, 'aug_batch_size': 1, 'test_data_load': {'enable': False, 'filename': ''}, 'test_set_path': '../../../../../VRP-Omni-modified/Vrp-Set-A/A-n55', 'test_set_opt_sol_path': '../../../../../VRP-Omni-modified/Vrp-Set-A/A-n33-sol', 'test_set_name': 'A-n33'}\n",
      "[2024-04-01 17:00:58] test.py(119) : logger_params{'log_file': {'desc': 'test_cvrp50_pretrained_epochtest', 'filename': 'log.txt', 'filepath': './result/20240401_180056_test_cvrp50_pretrained_epochtest'}}\n",
      "['../../../../../VRP-Omni-modified/Vrp-Set-A/A-n55/A-n55-k9.vrp']\n"
     ]
    },
    {
     "name": "stderr",
     "output_type": "stream",
     "text": [
      "/home/xunj/miniconda3/envs/amd/lib/python3.8/site-packages/torch/__init__.py:696: UserWarning: torch.set_default_tensor_type() is deprecated as of PyTorch 2.1, please use torch.set_default_dtype() and torch.set_default_device() as alternatives. (Triggered internally at /opt/conda/conda-bld/pytorch_1708025829503/work/torch/csrc/tensor/python_tensor.cpp:451.)\n",
      "  _C._set_default_tensor_type(t)\n"
     ]
    },
    {
     "name": "stdout",
     "output_type": "stream",
     "text": [
      "pretrained/checkpoint-cvrp-100.pt\n",
      "torch.Size([8, 1])\n",
      "torch.Size([8, 54])\n",
      "[2024-04-01 17:00:59] CVRPTester.py(144) : episode   1/  1, Elapsed[0.01m], Remain[0.00m], score:1.231, aug_score:1.182\n",
      "[2024-04-01 17:00:59] CVRPTester.py(150) :  *** Test Done *** \n",
      "[2024-04-01 17:00:59] CVRPTester.py(151) :  NO-AUG SCORE: 1.2314469814300537 \n",
      "[2024-04-01 17:00:59] CVRPTester.py(152) :  AUGMENTATION SCORE: 1.181902289390564 \n",
      ">> Evaluation on ../../../../../VRP-Omni-modified/Vrp-Set-A/A-n55 finished within 0.44s\n",
      ">> Save final results to res/A-n55\n",
      "Test on \" ../../../../../VRP-Omni-modified/Vrp-Set-A/A-n55 \" Success\n",
      "-----------------------------------------------------------------------------------------------------------------\n",
      "[2024-04-01 17:01:03] test.py(117) : DEBUG_MODE: False\n",
      "[2024-04-01 17:01:03] test.py(118) : USE_CUDA: True, CUDA_DEVICE_NUM: 0\n",
      "[2024-04-01 17:01:03] test.py(119) : env_params{'problem_size': 50, 'pomo_size': 50, 'distribution': {'data_type': 'mixed', 'n_cluster': 3, 'n_cluster_mix': 1, 'lower': 0.2, 'upper': 0.8, 'std': 0.07}, 'load_path': 'data/vrp_uniform50_1000_seed1234.pkl', 'load_raw': None}\n",
      "[2024-04-01 17:01:03] test.py(119) : model_params{'embedding_dim': 64, 'sqrt_embedding_dim': 8.0, 'encoder_layer_num': 6, 'qkv_dim': 8, 'head_num': 8, 'logit_clipping': 10, 'ff_hidden_dim': 512, 'eval_type': 'argmax'}\n",
      "[2024-04-01 17:01:03] test.py(119) : tester_params{'use_cuda': True, 'cuda_device_num': 0, 'model_load': {'path': 'pretrained/checkpoint-cvrp-100.pt', 'epoch': 'test'}, 'test_episodes': 1000, 'test_batch_size': 1, 'augmentation_enable': True, 'aug_factor': 8, 'aug_batch_size': 1, 'test_data_load': {'enable': False, 'filename': ''}, 'test_set_path': '../../../../../VRP-Omni-modified/Vrp-Set-A/A-n60', 'test_set_opt_sol_path': '../../../../../VRP-Omni-modified/Vrp-Set-A/A-n33-sol', 'test_set_name': 'A-n33'}\n",
      "[2024-04-01 17:01:03] test.py(119) : logger_params{'log_file': {'desc': 'test_cvrp50_pretrained_epochtest', 'filename': 'log.txt', 'filepath': './result/20240401_180101_test_cvrp50_pretrained_epochtest'}}\n",
      "['../../../../../VRP-Omni-modified/Vrp-Set-A/A-n60/A-n60-k9.vrp']\n"
     ]
    },
    {
     "name": "stderr",
     "output_type": "stream",
     "text": [
      "/home/xunj/miniconda3/envs/amd/lib/python3.8/site-packages/torch/__init__.py:696: UserWarning: torch.set_default_tensor_type() is deprecated as of PyTorch 2.1, please use torch.set_default_dtype() and torch.set_default_device() as alternatives. (Triggered internally at /opt/conda/conda-bld/pytorch_1708025829503/work/torch/csrc/tensor/python_tensor.cpp:451.)\n",
      "  _C._set_default_tensor_type(t)\n"
     ]
    },
    {
     "name": "stdout",
     "output_type": "stream",
     "text": [
      "pretrained/checkpoint-cvrp-100.pt\n",
      "torch.Size([8, 1])\n",
      "torch.Size([8, 59])\n",
      "[2024-04-01 17:01:04] CVRPTester.py(144) : episode   1/  1, Elapsed[0.01m], Remain[0.00m], score:1.406, aug_score:1.382\n",
      "[2024-04-01 17:01:04] CVRPTester.py(150) :  *** Test Done *** \n",
      "[2024-04-01 17:01:04] CVRPTester.py(151) :  NO-AUG SCORE: 1.405883550643921 \n",
      "[2024-04-01 17:01:04] CVRPTester.py(152) :  AUGMENTATION SCORE: 1.382340908050537 \n",
      ">> Evaluation on ../../../../../VRP-Omni-modified/Vrp-Set-A/A-n60 finished within 0.44s\n",
      ">> Save final results to res/A-n60\n",
      "Test on \" ../../../../../VRP-Omni-modified/Vrp-Set-A/A-n60 \" Success\n",
      "-----------------------------------------------------------------------------------------------------------------\n",
      "[2024-04-01 17:01:07] test.py(117) : DEBUG_MODE: False\n",
      "[2024-04-01 17:01:07] test.py(118) : USE_CUDA: True, CUDA_DEVICE_NUM: 0\n",
      "[2024-04-01 17:01:07] test.py(119) : env_params{'problem_size': 50, 'pomo_size': 50, 'distribution': {'data_type': 'mixed', 'n_cluster': 3, 'n_cluster_mix': 1, 'lower': 0.2, 'upper': 0.8, 'std': 0.07}, 'load_path': 'data/vrp_uniform50_1000_seed1234.pkl', 'load_raw': None}\n",
      "[2024-04-01 17:01:07] test.py(119) : model_params{'embedding_dim': 64, 'sqrt_embedding_dim': 8.0, 'encoder_layer_num': 6, 'qkv_dim': 8, 'head_num': 8, 'logit_clipping': 10, 'ff_hidden_dim': 512, 'eval_type': 'argmax'}\n",
      "[2024-04-01 17:01:07] test.py(119) : tester_params{'use_cuda': True, 'cuda_device_num': 0, 'model_load': {'path': 'pretrained/checkpoint-cvrp-100.pt', 'epoch': 'test'}, 'test_episodes': 1000, 'test_batch_size': 1, 'augmentation_enable': True, 'aug_factor': 8, 'aug_batch_size': 1, 'test_data_load': {'enable': False, 'filename': ''}, 'test_set_path': '../../../../../VRP-Omni-modified/Vrp-Set-A/A-n61', 'test_set_opt_sol_path': '../../../../../VRP-Omni-modified/Vrp-Set-A/A-n33-sol', 'test_set_name': 'A-n33'}\n",
      "[2024-04-01 17:01:07] test.py(119) : logger_params{'log_file': {'desc': 'test_cvrp50_pretrained_epochtest', 'filename': 'log.txt', 'filepath': './result/20240401_180105_test_cvrp50_pretrained_epochtest'}}\n",
      "['../../../../../VRP-Omni-modified/Vrp-Set-A/A-n61/A-n61-k9.vrp']\n"
     ]
    },
    {
     "name": "stderr",
     "output_type": "stream",
     "text": [
      "/home/xunj/miniconda3/envs/amd/lib/python3.8/site-packages/torch/__init__.py:696: UserWarning: torch.set_default_tensor_type() is deprecated as of PyTorch 2.1, please use torch.set_default_dtype() and torch.set_default_device() as alternatives. (Triggered internally at /opt/conda/conda-bld/pytorch_1708025829503/work/torch/csrc/tensor/python_tensor.cpp:451.)\n",
      "  _C._set_default_tensor_type(t)\n"
     ]
    },
    {
     "name": "stdout",
     "output_type": "stream",
     "text": [
      "pretrained/checkpoint-cvrp-100.pt\n",
      "torch.Size([8, 1])\n",
      "torch.Size([8, 60])\n",
      "[2024-04-01 17:01:08] CVRPTester.py(144) : episode   1/  1, Elapsed[0.01m], Remain[0.00m], score:1.128, aug_score:1.123\n",
      "[2024-04-01 17:01:08] CVRPTester.py(150) :  *** Test Done *** \n",
      "[2024-04-01 17:01:08] CVRPTester.py(151) :  NO-AUG SCORE: 1.127502679824829 \n",
      "[2024-04-01 17:01:08] CVRPTester.py(152) :  AUGMENTATION SCORE: 1.1230545043945312 \n",
      ">> Evaluation on ../../../../../VRP-Omni-modified/Vrp-Set-A/A-n61 finished within 0.44s\n",
      ">> Save final results to res/A-n61\n",
      "Test on \" ../../../../../VRP-Omni-modified/Vrp-Set-A/A-n61 \" Success\n",
      "-----------------------------------------------------------------------------------------------------------------\n",
      "[2024-04-01 17:01:12] test.py(117) : DEBUG_MODE: False\n",
      "[2024-04-01 17:01:12] test.py(118) : USE_CUDA: True, CUDA_DEVICE_NUM: 0\n",
      "[2024-04-01 17:01:12] test.py(119) : env_params{'problem_size': 50, 'pomo_size': 50, 'distribution': {'data_type': 'mixed', 'n_cluster': 3, 'n_cluster_mix': 1, 'lower': 0.2, 'upper': 0.8, 'std': 0.07}, 'load_path': 'data/vrp_uniform50_1000_seed1234.pkl', 'load_raw': None}\n",
      "[2024-04-01 17:01:12] test.py(119) : model_params{'embedding_dim': 64, 'sqrt_embedding_dim': 8.0, 'encoder_layer_num': 6, 'qkv_dim': 8, 'head_num': 8, 'logit_clipping': 10, 'ff_hidden_dim': 512, 'eval_type': 'argmax'}\n",
      "[2024-04-01 17:01:12] test.py(119) : tester_params{'use_cuda': True, 'cuda_device_num': 0, 'model_load': {'path': 'pretrained/checkpoint-cvrp-100.pt', 'epoch': 'test'}, 'test_episodes': 1000, 'test_batch_size': 1, 'augmentation_enable': True, 'aug_factor': 8, 'aug_batch_size': 1, 'test_data_load': {'enable': False, 'filename': ''}, 'test_set_path': '../../../../../VRP-Omni-modified/Vrp-Set-A/A-n62', 'test_set_opt_sol_path': '../../../../../VRP-Omni-modified/Vrp-Set-A/A-n33-sol', 'test_set_name': 'A-n33'}\n",
      "[2024-04-01 17:01:12] test.py(119) : logger_params{'log_file': {'desc': 'test_cvrp50_pretrained_epochtest', 'filename': 'log.txt', 'filepath': './result/20240401_180110_test_cvrp50_pretrained_epochtest'}}\n",
      "['../../../../../VRP-Omni-modified/Vrp-Set-A/A-n62/A-n62-k8.vrp']\n"
     ]
    },
    {
     "name": "stderr",
     "output_type": "stream",
     "text": [
      "/home/xunj/miniconda3/envs/amd/lib/python3.8/site-packages/torch/__init__.py:696: UserWarning: torch.set_default_tensor_type() is deprecated as of PyTorch 2.1, please use torch.set_default_dtype() and torch.set_default_device() as alternatives. (Triggered internally at /opt/conda/conda-bld/pytorch_1708025829503/work/torch/csrc/tensor/python_tensor.cpp:451.)\n",
      "  _C._set_default_tensor_type(t)\n"
     ]
    },
    {
     "name": "stdout",
     "output_type": "stream",
     "text": [
      "pretrained/checkpoint-cvrp-100.pt\n",
      "torch.Size([8, 1])\n",
      "torch.Size([8, 61])\n",
      "[2024-04-01 17:01:12] CVRPTester.py(144) : episode   1/  1, Elapsed[0.01m], Remain[0.00m], score:1.400, aug_score:1.339\n",
      "[2024-04-01 17:01:12] CVRPTester.py(150) :  *** Test Done *** \n",
      "[2024-04-01 17:01:12] CVRPTester.py(151) :  NO-AUG SCORE: 1.3997445106506348 \n",
      "[2024-04-01 17:01:12] CVRPTester.py(152) :  AUGMENTATION SCORE: 1.3389053344726562 \n",
      ">> Evaluation on ../../../../../VRP-Omni-modified/Vrp-Set-A/A-n62 finished within 0.44s\n",
      ">> Save final results to res/A-n62\n",
      "Test on \" ../../../../../VRP-Omni-modified/Vrp-Set-A/A-n62 \" Success\n",
      "-----------------------------------------------------------------------------------------------------------------\n",
      "[2024-04-01 17:01:16] test.py(117) : DEBUG_MODE: False\n",
      "[2024-04-01 17:01:16] test.py(118) : USE_CUDA: True, CUDA_DEVICE_NUM: 0\n",
      "[2024-04-01 17:01:16] test.py(119) : env_params{'problem_size': 50, 'pomo_size': 50, 'distribution': {'data_type': 'mixed', 'n_cluster': 3, 'n_cluster_mix': 1, 'lower': 0.2, 'upper': 0.8, 'std': 0.07}, 'load_path': 'data/vrp_uniform50_1000_seed1234.pkl', 'load_raw': None}\n",
      "[2024-04-01 17:01:16] test.py(119) : model_params{'embedding_dim': 64, 'sqrt_embedding_dim': 8.0, 'encoder_layer_num': 6, 'qkv_dim': 8, 'head_num': 8, 'logit_clipping': 10, 'ff_hidden_dim': 512, 'eval_type': 'argmax'}\n",
      "[2024-04-01 17:01:16] test.py(119) : tester_params{'use_cuda': True, 'cuda_device_num': 0, 'model_load': {'path': 'pretrained/checkpoint-cvrp-100.pt', 'epoch': 'test'}, 'test_episodes': 1000, 'test_batch_size': 1, 'augmentation_enable': True, 'aug_factor': 8, 'aug_batch_size': 1, 'test_data_load': {'enable': False, 'filename': ''}, 'test_set_path': '../../../../../VRP-Omni-modified/Vrp-Set-A/A-n63', 'test_set_opt_sol_path': '../../../../../VRP-Omni-modified/Vrp-Set-A/A-n33-sol', 'test_set_name': 'A-n33'}\n",
      "[2024-04-01 17:01:16] test.py(119) : logger_params{'log_file': {'desc': 'test_cvrp50_pretrained_epochtest', 'filename': 'log.txt', 'filepath': './result/20240401_180114_test_cvrp50_pretrained_epochtest'}}\n",
      "['../../../../../VRP-Omni-modified/Vrp-Set-A/A-n63/A-n63-k10.vrp', '../../../../../VRP-Omni-modified/Vrp-Set-A/A-n63/A-n63-k9.vrp']\n"
     ]
    },
    {
     "name": "stderr",
     "output_type": "stream",
     "text": [
      "/home/xunj/miniconda3/envs/amd/lib/python3.8/site-packages/torch/__init__.py:696: UserWarning: torch.set_default_tensor_type() is deprecated as of PyTorch 2.1, please use torch.set_default_dtype() and torch.set_default_device() as alternatives. (Triggered internally at /opt/conda/conda-bld/pytorch_1708025829503/work/torch/csrc/tensor/python_tensor.cpp:451.)\n",
      "  _C._set_default_tensor_type(t)\n"
     ]
    },
    {
     "name": "stdout",
     "output_type": "stream",
     "text": [
      "pretrained/checkpoint-cvrp-100.pt\n",
      "torch.Size([8, 1])\n",
      "torch.Size([8, 62])\n",
      "[2024-04-01 17:01:17] CVRPTester.py(144) : episode   1/  2, Elapsed[0.01m], Remain[0.01m], score:1.386, aug_score:1.366\n",
      "torch.Size([8, 1])\n",
      "torch.Size([8, 62])\n",
      "[2024-04-01 17:01:17] CVRPTester.py(144) : episode   2/  2, Elapsed[0.01m], Remain[0.00m], score:1.676, aug_score:1.656\n",
      "[2024-04-01 17:01:17] CVRPTester.py(150) :  *** Test Done *** \n",
      "[2024-04-01 17:01:17] CVRPTester.py(151) :  NO-AUG SCORE: 1.5308222770690918 \n",
      "[2024-04-01 17:01:17] CVRPTester.py(152) :  AUGMENTATION SCORE: 1.5110634565353394 \n",
      ">> Evaluation on ../../../../../VRP-Omni-modified/Vrp-Set-A/A-n63 finished within 0.08s\n",
      ">> Save final results to res/A-n63\n",
      "Test on \" ../../../../../VRP-Omni-modified/Vrp-Set-A/A-n63 \" Success\n",
      "-----------------------------------------------------------------------------------------------------------------\n",
      "[2024-04-01 17:01:21] test.py(117) : DEBUG_MODE: False\n",
      "[2024-04-01 17:01:21] test.py(118) : USE_CUDA: True, CUDA_DEVICE_NUM: 0\n",
      "[2024-04-01 17:01:21] test.py(119) : env_params{'problem_size': 50, 'pomo_size': 50, 'distribution': {'data_type': 'mixed', 'n_cluster': 3, 'n_cluster_mix': 1, 'lower': 0.2, 'upper': 0.8, 'std': 0.07}, 'load_path': 'data/vrp_uniform50_1000_seed1234.pkl', 'load_raw': None}\n",
      "[2024-04-01 17:01:21] test.py(119) : model_params{'embedding_dim': 64, 'sqrt_embedding_dim': 8.0, 'encoder_layer_num': 6, 'qkv_dim': 8, 'head_num': 8, 'logit_clipping': 10, 'ff_hidden_dim': 512, 'eval_type': 'argmax'}\n",
      "[2024-04-01 17:01:21] test.py(119) : tester_params{'use_cuda': True, 'cuda_device_num': 0, 'model_load': {'path': 'pretrained/checkpoint-cvrp-100.pt', 'epoch': 'test'}, 'test_episodes': 1000, 'test_batch_size': 1, 'augmentation_enable': True, 'aug_factor': 8, 'aug_batch_size': 1, 'test_data_load': {'enable': False, 'filename': ''}, 'test_set_path': '../../../../../VRP-Omni-modified/Vrp-Set-A/A-n64', 'test_set_opt_sol_path': '../../../../../VRP-Omni-modified/Vrp-Set-A/A-n33-sol', 'test_set_name': 'A-n33'}\n",
      "[2024-04-01 17:01:21] test.py(119) : logger_params{'log_file': {'desc': 'test_cvrp50_pretrained_epochtest', 'filename': 'log.txt', 'filepath': './result/20240401_180119_test_cvrp50_pretrained_epochtest'}}\n",
      "['../../../../../VRP-Omni-modified/Vrp-Set-A/A-n64/A-n64-k9.vrp']\n",
      "pretrained/checkpoint-cvrp-100.pt\n"
     ]
    },
    {
     "name": "stderr",
     "output_type": "stream",
     "text": [
      "/home/xunj/miniconda3/envs/amd/lib/python3.8/site-packages/torch/__init__.py:696: UserWarning: torch.set_default_tensor_type() is deprecated as of PyTorch 2.1, please use torch.set_default_dtype() and torch.set_default_device() as alternatives. (Triggered internally at /opt/conda/conda-bld/pytorch_1708025829503/work/torch/csrc/tensor/python_tensor.cpp:451.)\n",
      "  _C._set_default_tensor_type(t)\n"
     ]
    },
    {
     "name": "stdout",
     "output_type": "stream",
     "text": [
      "torch.Size([8, 1])\n",
      "torch.Size([8, 63])\n",
      "[2024-04-01 17:01:21] CVRPTester.py(144) : episode   1/  1, Elapsed[0.01m], Remain[0.00m], score:1.477, aug_score:1.444\n",
      "[2024-04-01 17:01:21] CVRPTester.py(150) :  *** Test Done *** \n",
      "[2024-04-01 17:01:21] CVRPTester.py(151) :  NO-AUG SCORE: 1.4771833419799805 \n",
      "[2024-04-01 17:01:21] CVRPTester.py(152) :  AUGMENTATION SCORE: 1.4442776441574097 \n",
      ">> Evaluation on ../../../../../VRP-Omni-modified/Vrp-Set-A/A-n64 finished within 0.44s\n",
      ">> Save final results to res/A-n64\n",
      "Test on \" ../../../../../VRP-Omni-modified/Vrp-Set-A/A-n64 \" Success\n",
      "-----------------------------------------------------------------------------------------------------------------\n",
      "[2024-04-01 17:01:25] test.py(117) : DEBUG_MODE: False\n",
      "[2024-04-01 17:01:25] test.py(118) : USE_CUDA: True, CUDA_DEVICE_NUM: 0\n",
      "[2024-04-01 17:01:25] test.py(119) : env_params{'problem_size': 50, 'pomo_size': 50, 'distribution': {'data_type': 'mixed', 'n_cluster': 3, 'n_cluster_mix': 1, 'lower': 0.2, 'upper': 0.8, 'std': 0.07}, 'load_path': 'data/vrp_uniform50_1000_seed1234.pkl', 'load_raw': None}\n",
      "[2024-04-01 17:01:25] test.py(119) : model_params{'embedding_dim': 64, 'sqrt_embedding_dim': 8.0, 'encoder_layer_num': 6, 'qkv_dim': 8, 'head_num': 8, 'logit_clipping': 10, 'ff_hidden_dim': 512, 'eval_type': 'argmax'}\n",
      "[2024-04-01 17:01:25] test.py(119) : tester_params{'use_cuda': True, 'cuda_device_num': 0, 'model_load': {'path': 'pretrained/checkpoint-cvrp-100.pt', 'epoch': 'test'}, 'test_episodes': 1000, 'test_batch_size': 1, 'augmentation_enable': True, 'aug_factor': 8, 'aug_batch_size': 1, 'test_data_load': {'enable': False, 'filename': ''}, 'test_set_path': '../../../../../VRP-Omni-modified/Vrp-Set-A/A-n65', 'test_set_opt_sol_path': '../../../../../VRP-Omni-modified/Vrp-Set-A/A-n33-sol', 'test_set_name': 'A-n33'}\n",
      "[2024-04-01 17:01:25] test.py(119) : logger_params{'log_file': {'desc': 'test_cvrp50_pretrained_epochtest', 'filename': 'log.txt', 'filepath': './result/20240401_180123_test_cvrp50_pretrained_epochtest'}}\n",
      "['../../../../../VRP-Omni-modified/Vrp-Set-A/A-n65/A-n65-k9.vrp']\n"
     ]
    },
    {
     "name": "stderr",
     "output_type": "stream",
     "text": [
      "/home/xunj/miniconda3/envs/amd/lib/python3.8/site-packages/torch/__init__.py:696: UserWarning: torch.set_default_tensor_type() is deprecated as of PyTorch 2.1, please use torch.set_default_dtype() and torch.set_default_device() as alternatives. (Triggered internally at /opt/conda/conda-bld/pytorch_1708025829503/work/torch/csrc/tensor/python_tensor.cpp:451.)\n",
      "  _C._set_default_tensor_type(t)\n"
     ]
    },
    {
     "name": "stdout",
     "output_type": "stream",
     "text": [
      "pretrained/checkpoint-cvrp-100.pt\n",
      "torch.Size([8, 1])\n",
      "torch.Size([8, 64])\n",
      "[2024-04-01 17:01:26] CVRPTester.py(144) : episode   1/  1, Elapsed[0.01m], Remain[0.00m], score:1.249, aug_score:1.237\n",
      "[2024-04-01 17:01:26] CVRPTester.py(150) :  *** Test Done *** \n",
      "[2024-04-01 17:01:26] CVRPTester.py(151) :  NO-AUG SCORE: 1.2487108707427979 \n",
      "[2024-04-01 17:01:26] CVRPTester.py(152) :  AUGMENTATION SCORE: 1.23691987991333 \n",
      ">> Evaluation on ../../../../../VRP-Omni-modified/Vrp-Set-A/A-n65 finished within 0.47s\n",
      ">> Save final results to res/A-n65\n",
      "Test on \" ../../../../../VRP-Omni-modified/Vrp-Set-A/A-n65 \" Success\n",
      "-----------------------------------------------------------------------------------------------------------------\n",
      "[2024-04-01 17:01:30] test.py(117) : DEBUG_MODE: False\n",
      "[2024-04-01 17:01:30] test.py(118) : USE_CUDA: True, CUDA_DEVICE_NUM: 0\n",
      "[2024-04-01 17:01:30] test.py(119) : env_params{'problem_size': 50, 'pomo_size': 50, 'distribution': {'data_type': 'mixed', 'n_cluster': 3, 'n_cluster_mix': 1, 'lower': 0.2, 'upper': 0.8, 'std': 0.07}, 'load_path': 'data/vrp_uniform50_1000_seed1234.pkl', 'load_raw': None}\n",
      "[2024-04-01 17:01:30] test.py(119) : model_params{'embedding_dim': 64, 'sqrt_embedding_dim': 8.0, 'encoder_layer_num': 6, 'qkv_dim': 8, 'head_num': 8, 'logit_clipping': 10, 'ff_hidden_dim': 512, 'eval_type': 'argmax'}\n",
      "[2024-04-01 17:01:30] test.py(119) : tester_params{'use_cuda': True, 'cuda_device_num': 0, 'model_load': {'path': 'pretrained/checkpoint-cvrp-100.pt', 'epoch': 'test'}, 'test_episodes': 1000, 'test_batch_size': 1, 'augmentation_enable': True, 'aug_factor': 8, 'aug_batch_size': 1, 'test_data_load': {'enable': False, 'filename': ''}, 'test_set_path': '../../../../../VRP-Omni-modified/Vrp-Set-A/A-n69', 'test_set_opt_sol_path': '../../../../../VRP-Omni-modified/Vrp-Set-A/A-n33-sol', 'test_set_name': 'A-n33'}\n",
      "[2024-04-01 17:01:30] test.py(119) : logger_params{'log_file': {'desc': 'test_cvrp50_pretrained_epochtest', 'filename': 'log.txt', 'filepath': './result/20240401_180127_test_cvrp50_pretrained_epochtest'}}\n",
      "['../../../../../VRP-Omni-modified/Vrp-Set-A/A-n69/A-n69-k9.vrp']\n"
     ]
    },
    {
     "name": "stderr",
     "output_type": "stream",
     "text": [
      "/home/xunj/miniconda3/envs/amd/lib/python3.8/site-packages/torch/__init__.py:696: UserWarning: torch.set_default_tensor_type() is deprecated as of PyTorch 2.1, please use torch.set_default_dtype() and torch.set_default_device() as alternatives. (Triggered internally at /opt/conda/conda-bld/pytorch_1708025829503/work/torch/csrc/tensor/python_tensor.cpp:451.)\n",
      "  _C._set_default_tensor_type(t)\n"
     ]
    },
    {
     "name": "stdout",
     "output_type": "stream",
     "text": [
      "pretrained/checkpoint-cvrp-100.pt\n",
      "torch.Size([8, 1])\n",
      "torch.Size([8, 68])\n",
      "[2024-04-01 17:01:30] CVRPTester.py(144) : episode   1/  1, Elapsed[0.01m], Remain[0.00m], score:1.263, aug_score:1.204\n",
      "[2024-04-01 17:01:30] CVRPTester.py(150) :  *** Test Done *** \n",
      "[2024-04-01 17:01:30] CVRPTester.py(151) :  NO-AUG SCORE: 1.2633472681045532 \n",
      "[2024-04-01 17:01:30] CVRPTester.py(152) :  AUGMENTATION SCORE: 1.2037744522094727 \n",
      ">> Evaluation on ../../../../../VRP-Omni-modified/Vrp-Set-A/A-n69 finished within 0.40s\n",
      ">> Save final results to res/A-n69\n",
      "Test on \" ../../../../../VRP-Omni-modified/Vrp-Set-A/A-n69 \" Success\n",
      "-----------------------------------------------------------------------------------------------------------------\n",
      "[2024-04-01 17:01:34] test.py(117) : DEBUG_MODE: False\n",
      "[2024-04-01 17:01:34] test.py(118) : USE_CUDA: True, CUDA_DEVICE_NUM: 0\n",
      "[2024-04-01 17:01:34] test.py(119) : env_params{'problem_size': 50, 'pomo_size': 50, 'distribution': {'data_type': 'mixed', 'n_cluster': 3, 'n_cluster_mix': 1, 'lower': 0.2, 'upper': 0.8, 'std': 0.07}, 'load_path': 'data/vrp_uniform50_1000_seed1234.pkl', 'load_raw': None}\n",
      "[2024-04-01 17:01:34] test.py(119) : model_params{'embedding_dim': 64, 'sqrt_embedding_dim': 8.0, 'encoder_layer_num': 6, 'qkv_dim': 8, 'head_num': 8, 'logit_clipping': 10, 'ff_hidden_dim': 512, 'eval_type': 'argmax'}\n",
      "[2024-04-01 17:01:34] test.py(119) : tester_params{'use_cuda': True, 'cuda_device_num': 0, 'model_load': {'path': 'pretrained/checkpoint-cvrp-100.pt', 'epoch': 'test'}, 'test_episodes': 1000, 'test_batch_size': 1, 'augmentation_enable': True, 'aug_factor': 8, 'aug_batch_size': 1, 'test_data_load': {'enable': False, 'filename': ''}, 'test_set_path': '../../../../../VRP-Omni-modified/Vrp-Set-A/A-n80', 'test_set_opt_sol_path': '../../../../../VRP-Omni-modified/Vrp-Set-A/A-n33-sol', 'test_set_name': 'A-n33'}\n",
      "[2024-04-01 17:01:34] test.py(119) : logger_params{'log_file': {'desc': 'test_cvrp50_pretrained_epochtest', 'filename': 'log.txt', 'filepath': './result/20240401_180132_test_cvrp50_pretrained_epochtest'}}\n",
      "['../../../../../VRP-Omni-modified/Vrp-Set-A/A-n80/A-n80-k10.vrp']\n"
     ]
    },
    {
     "name": "stderr",
     "output_type": "stream",
     "text": [
      "/home/xunj/miniconda3/envs/amd/lib/python3.8/site-packages/torch/__init__.py:696: UserWarning: torch.set_default_tensor_type() is deprecated as of PyTorch 2.1, please use torch.set_default_dtype() and torch.set_default_device() as alternatives. (Triggered internally at /opt/conda/conda-bld/pytorch_1708025829503/work/torch/csrc/tensor/python_tensor.cpp:451.)\n",
      "  _C._set_default_tensor_type(t)\n"
     ]
    },
    {
     "name": "stdout",
     "output_type": "stream",
     "text": [
      "pretrained/checkpoint-cvrp-100.pt\n",
      "torch.Size([8, 1])\n",
      "torch.Size([8, 79])\n",
      "[2024-04-01 17:01:34] CVRPTester.py(144) : episode   1/  1, Elapsed[0.01m], Remain[0.00m], score:1.798, aug_score:1.790\n",
      "[2024-04-01 17:01:34] CVRPTester.py(150) :  *** Test Done *** \n",
      "[2024-04-01 17:01:34] CVRPTester.py(151) :  NO-AUG SCORE: 1.7976748943328857 \n",
      "[2024-04-01 17:01:34] CVRPTester.py(152) :  AUGMENTATION SCORE: 1.7903804779052734 \n",
      ">> Evaluation on ../../../../../VRP-Omni-modified/Vrp-Set-A/A-n80 finished within 0.47s\n",
      ">> Save final results to res/A-n80\n",
      "Test on \" ../../../../../VRP-Omni-modified/Vrp-Set-A/A-n80 \" Success\n",
      "-----------------------------------------------------------------------------------------------------------------\n",
      "[2024-04-01 17:01:38] test.py(117) : DEBUG_MODE: False\n",
      "[2024-04-01 17:01:38] test.py(118) : USE_CUDA: True, CUDA_DEVICE_NUM: 0\n",
      "[2024-04-01 17:01:38] test.py(119) : env_params{'problem_size': 50, 'pomo_size': 50, 'distribution': {'data_type': 'mixed', 'n_cluster': 3, 'n_cluster_mix': 1, 'lower': 0.2, 'upper': 0.8, 'std': 0.07}, 'load_path': 'data/vrp_uniform50_1000_seed1234.pkl', 'load_raw': None}\n",
      "[2024-04-01 17:01:38] test.py(119) : model_params{'embedding_dim': 64, 'sqrt_embedding_dim': 8.0, 'encoder_layer_num': 6, 'qkv_dim': 8, 'head_num': 8, 'logit_clipping': 10, 'ff_hidden_dim': 512, 'eval_type': 'argmax'}\n",
      "[2024-04-01 17:01:38] test.py(119) : tester_params{'use_cuda': True, 'cuda_device_num': 0, 'model_load': {'path': 'pretrained/checkpoint-cvrp-100.pt', 'epoch': 'test'}, 'test_episodes': 1000, 'test_batch_size': 1, 'augmentation_enable': True, 'aug_factor': 8, 'aug_batch_size': 1, 'test_data_load': {'enable': False, 'filename': ''}, 'test_set_path': '../../../../../VRP-Omni-modified/Vrp-Set-B/B-n31', 'test_set_opt_sol_path': '../../../../../VRP-Omni-modified/Vrp-Set-A/A-n33-sol', 'test_set_name': 'A-n33'}\n",
      "[2024-04-01 17:01:38] test.py(119) : logger_params{'log_file': {'desc': 'test_cvrp50_pretrained_epochtest', 'filename': 'log.txt', 'filepath': './result/20240401_180136_test_cvrp50_pretrained_epochtest'}}\n",
      "['../../../../../VRP-Omni-modified/Vrp-Set-B/B-n31/B-n31-k5.vrp']\n"
     ]
    },
    {
     "name": "stderr",
     "output_type": "stream",
     "text": [
      "/home/xunj/miniconda3/envs/amd/lib/python3.8/site-packages/torch/__init__.py:696: UserWarning: torch.set_default_tensor_type() is deprecated as of PyTorch 2.1, please use torch.set_default_dtype() and torch.set_default_device() as alternatives. (Triggered internally at /opt/conda/conda-bld/pytorch_1708025829503/work/torch/csrc/tensor/python_tensor.cpp:451.)\n",
      "  _C._set_default_tensor_type(t)\n"
     ]
    },
    {
     "name": "stdout",
     "output_type": "stream",
     "text": [
      "pretrained/checkpoint-cvrp-100.pt\n",
      "torch.Size([8, 1])\n",
      "torch.Size([8, 30])\n",
      "[2024-04-01 17:01:39] CVRPTester.py(144) : episode   1/  1, Elapsed[0.01m], Remain[0.00m], score:1.212, aug_score:0.726\n",
      "[2024-04-01 17:01:39] CVRPTester.py(150) :  *** Test Done *** \n",
      "[2024-04-01 17:01:39] CVRPTester.py(151) :  NO-AUG SCORE: 1.2115767002105713 \n",
      "[2024-04-01 17:01:39] CVRPTester.py(152) :  AUGMENTATION SCORE: 0.7258844375610352 \n",
      ">> Evaluation on ../../../../../VRP-Omni-modified/Vrp-Set-B/B-n31 finished within 0.35s\n",
      ">> Save final results to res/B-n31\n",
      "Test on \" ../../../../../VRP-Omni-modified/Vrp-Set-B/B-n31 \" Success\n",
      "-----------------------------------------------------------------------------------------------------------------\n",
      "[2024-04-01 17:01:42] test.py(117) : DEBUG_MODE: False\n",
      "[2024-04-01 17:01:42] test.py(118) : USE_CUDA: True, CUDA_DEVICE_NUM: 0\n",
      "[2024-04-01 17:01:42] test.py(119) : env_params{'problem_size': 50, 'pomo_size': 50, 'distribution': {'data_type': 'mixed', 'n_cluster': 3, 'n_cluster_mix': 1, 'lower': 0.2, 'upper': 0.8, 'std': 0.07}, 'load_path': 'data/vrp_uniform50_1000_seed1234.pkl', 'load_raw': None}\n",
      "[2024-04-01 17:01:42] test.py(119) : model_params{'embedding_dim': 64, 'sqrt_embedding_dim': 8.0, 'encoder_layer_num': 6, 'qkv_dim': 8, 'head_num': 8, 'logit_clipping': 10, 'ff_hidden_dim': 512, 'eval_type': 'argmax'}\n",
      "[2024-04-01 17:01:42] test.py(119) : tester_params{'use_cuda': True, 'cuda_device_num': 0, 'model_load': {'path': 'pretrained/checkpoint-cvrp-100.pt', 'epoch': 'test'}, 'test_episodes': 1000, 'test_batch_size': 1, 'augmentation_enable': True, 'aug_factor': 8, 'aug_batch_size': 1, 'test_data_load': {'enable': False, 'filename': ''}, 'test_set_path': '../../../../../VRP-Omni-modified/Vrp-Set-B/B-n34', 'test_set_opt_sol_path': '../../../../../VRP-Omni-modified/Vrp-Set-A/A-n33-sol', 'test_set_name': 'A-n33'}\n",
      "[2024-04-01 17:01:42] test.py(119) : logger_params{'log_file': {'desc': 'test_cvrp50_pretrained_epochtest', 'filename': 'log.txt', 'filepath': './result/20240401_180140_test_cvrp50_pretrained_epochtest'}}\n",
      "['../../../../../VRP-Omni-modified/Vrp-Set-B/B-n34/B-n34-k5.vrp']\n"
     ]
    },
    {
     "name": "stderr",
     "output_type": "stream",
     "text": [
      "/home/xunj/miniconda3/envs/amd/lib/python3.8/site-packages/torch/__init__.py:696: UserWarning: torch.set_default_tensor_type() is deprecated as of PyTorch 2.1, please use torch.set_default_dtype() and torch.set_default_device() as alternatives. (Triggered internally at /opt/conda/conda-bld/pytorch_1708025829503/work/torch/csrc/tensor/python_tensor.cpp:451.)\n",
      "  _C._set_default_tensor_type(t)\n"
     ]
    },
    {
     "name": "stdout",
     "output_type": "stream",
     "text": [
      "pretrained/checkpoint-cvrp-100.pt\n",
      "torch.Size([8, 1])\n",
      "torch.Size([8, 33])\n",
      "[2024-04-01 17:01:43] CVRPTester.py(144) : episode   1/  1, Elapsed[0.01m], Remain[0.00m], score:1.223, aug_score:1.001\n",
      "[2024-04-01 17:01:43] CVRPTester.py(150) :  *** Test Done *** \n",
      "[2024-04-01 17:01:43] CVRPTester.py(151) :  NO-AUG SCORE: 1.222693920135498 \n",
      "[2024-04-01 17:01:43] CVRPTester.py(152) :  AUGMENTATION SCORE: 1.0014889240264893 \n",
      ">> Evaluation on ../../../../../VRP-Omni-modified/Vrp-Set-B/B-n34 finished within 0.42s\n",
      ">> Save final results to res/B-n34\n",
      "Test on \" ../../../../../VRP-Omni-modified/Vrp-Set-B/B-n34 \" Success\n",
      "-----------------------------------------------------------------------------------------------------------------\n",
      "[2024-04-01 17:01:47] test.py(117) : DEBUG_MODE: False\n",
      "[2024-04-01 17:01:47] test.py(118) : USE_CUDA: True, CUDA_DEVICE_NUM: 0\n",
      "[2024-04-01 17:01:47] test.py(119) : env_params{'problem_size': 50, 'pomo_size': 50, 'distribution': {'data_type': 'mixed', 'n_cluster': 3, 'n_cluster_mix': 1, 'lower': 0.2, 'upper': 0.8, 'std': 0.07}, 'load_path': 'data/vrp_uniform50_1000_seed1234.pkl', 'load_raw': None}\n",
      "[2024-04-01 17:01:47] test.py(119) : model_params{'embedding_dim': 64, 'sqrt_embedding_dim': 8.0, 'encoder_layer_num': 6, 'qkv_dim': 8, 'head_num': 8, 'logit_clipping': 10, 'ff_hidden_dim': 512, 'eval_type': 'argmax'}\n",
      "[2024-04-01 17:01:47] test.py(119) : tester_params{'use_cuda': True, 'cuda_device_num': 0, 'model_load': {'path': 'pretrained/checkpoint-cvrp-100.pt', 'epoch': 'test'}, 'test_episodes': 1000, 'test_batch_size': 1, 'augmentation_enable': True, 'aug_factor': 8, 'aug_batch_size': 1, 'test_data_load': {'enable': False, 'filename': ''}, 'test_set_path': '../../../../../VRP-Omni-modified/Vrp-Set-B/B-n35', 'test_set_opt_sol_path': '../../../../../VRP-Omni-modified/Vrp-Set-A/A-n33-sol', 'test_set_name': 'A-n33'}\n",
      "[2024-04-01 17:01:47] test.py(119) : logger_params{'log_file': {'desc': 'test_cvrp50_pretrained_epochtest', 'filename': 'log.txt', 'filepath': './result/20240401_180145_test_cvrp50_pretrained_epochtest'}}\n",
      "['../../../../../VRP-Omni-modified/Vrp-Set-B/B-n35/B-n35-k5.vrp']\n"
     ]
    },
    {
     "name": "stderr",
     "output_type": "stream",
     "text": [
      "/home/xunj/miniconda3/envs/amd/lib/python3.8/site-packages/torch/__init__.py:696: UserWarning: torch.set_default_tensor_type() is deprecated as of PyTorch 2.1, please use torch.set_default_dtype() and torch.set_default_device() as alternatives. (Triggered internally at /opt/conda/conda-bld/pytorch_1708025829503/work/torch/csrc/tensor/python_tensor.cpp:451.)\n",
      "  _C._set_default_tensor_type(t)\n"
     ]
    },
    {
     "name": "stdout",
     "output_type": "stream",
     "text": [
      "pretrained/checkpoint-cvrp-100.pt\n",
      "torch.Size([8, 1])\n",
      "torch.Size([8, 34])\n",
      "[2024-04-01 17:01:47] CVRPTester.py(144) : episode   1/  1, Elapsed[0.01m], Remain[0.00m], score:1.477, aug_score:1.247\n",
      "[2024-04-01 17:01:47] CVRPTester.py(150) :  *** Test Done *** \n",
      "[2024-04-01 17:01:47] CVRPTester.py(151) :  NO-AUG SCORE: 1.4771957397460938 \n",
      "[2024-04-01 17:01:47] CVRPTester.py(152) :  AUGMENTATION SCORE: 1.247279167175293 \n",
      ">> Evaluation on ../../../../../VRP-Omni-modified/Vrp-Set-B/B-n35 finished within 0.41s\n",
      ">> Save final results to res/B-n35\n",
      "Test on \" ../../../../../VRP-Omni-modified/Vrp-Set-B/B-n35 \" Success\n",
      "-----------------------------------------------------------------------------------------------------------------\n",
      "[2024-04-01 17:01:51] test.py(117) : DEBUG_MODE: False\n",
      "[2024-04-01 17:01:51] test.py(118) : USE_CUDA: True, CUDA_DEVICE_NUM: 0\n",
      "[2024-04-01 17:01:51] test.py(119) : env_params{'problem_size': 50, 'pomo_size': 50, 'distribution': {'data_type': 'mixed', 'n_cluster': 3, 'n_cluster_mix': 1, 'lower': 0.2, 'upper': 0.8, 'std': 0.07}, 'load_path': 'data/vrp_uniform50_1000_seed1234.pkl', 'load_raw': None}\n",
      "[2024-04-01 17:01:51] test.py(119) : model_params{'embedding_dim': 64, 'sqrt_embedding_dim': 8.0, 'encoder_layer_num': 6, 'qkv_dim': 8, 'head_num': 8, 'logit_clipping': 10, 'ff_hidden_dim': 512, 'eval_type': 'argmax'}\n",
      "[2024-04-01 17:01:51] test.py(119) : tester_params{'use_cuda': True, 'cuda_device_num': 0, 'model_load': {'path': 'pretrained/checkpoint-cvrp-100.pt', 'epoch': 'test'}, 'test_episodes': 1000, 'test_batch_size': 1, 'augmentation_enable': True, 'aug_factor': 8, 'aug_batch_size': 1, 'test_data_load': {'enable': False, 'filename': ''}, 'test_set_path': '../../../../../VRP-Omni-modified/Vrp-Set-B/B-n38', 'test_set_opt_sol_path': '../../../../../VRP-Omni-modified/Vrp-Set-A/A-n33-sol', 'test_set_name': 'A-n33'}\n",
      "[2024-04-01 17:01:51] test.py(119) : logger_params{'log_file': {'desc': 'test_cvrp50_pretrained_epochtest', 'filename': 'log.txt', 'filepath': './result/20240401_180149_test_cvrp50_pretrained_epochtest'}}\n",
      "['../../../../../VRP-Omni-modified/Vrp-Set-B/B-n38/B-n38-k6.vrp']\n"
     ]
    },
    {
     "name": "stderr",
     "output_type": "stream",
     "text": [
      "/home/xunj/miniconda3/envs/amd/lib/python3.8/site-packages/torch/__init__.py:696: UserWarning: torch.set_default_tensor_type() is deprecated as of PyTorch 2.1, please use torch.set_default_dtype() and torch.set_default_device() as alternatives. (Triggered internally at /opt/conda/conda-bld/pytorch_1708025829503/work/torch/csrc/tensor/python_tensor.cpp:451.)\n",
      "  _C._set_default_tensor_type(t)\n"
     ]
    },
    {
     "name": "stdout",
     "output_type": "stream",
     "text": [
      "pretrained/checkpoint-cvrp-100.pt\n",
      "torch.Size([8, 1])\n",
      "torch.Size([8, 37])\n",
      "[2024-04-01 17:01:52] CVRPTester.py(144) : episode   1/  1, Elapsed[0.01m], Remain[0.00m], score:0.888, aug_score:0.838\n",
      "[2024-04-01 17:01:52] CVRPTester.py(150) :  *** Test Done *** \n",
      "[2024-04-01 17:01:52] CVRPTester.py(151) :  NO-AUG SCORE: 0.8883347511291504 \n",
      "[2024-04-01 17:01:52] CVRPTester.py(152) :  AUGMENTATION SCORE: 0.837917685508728 \n",
      ">> Evaluation on ../../../../../VRP-Omni-modified/Vrp-Set-B/B-n38 finished within 0.41s\n",
      ">> Save final results to res/B-n38\n",
      "Test on \" ../../../../../VRP-Omni-modified/Vrp-Set-B/B-n38 \" Success\n",
      "-----------------------------------------------------------------------------------------------------------------\n",
      "[2024-04-01 17:01:55] test.py(117) : DEBUG_MODE: False\n",
      "[2024-04-01 17:01:55] test.py(118) : USE_CUDA: True, CUDA_DEVICE_NUM: 0\n",
      "[2024-04-01 17:01:55] test.py(119) : env_params{'problem_size': 50, 'pomo_size': 50, 'distribution': {'data_type': 'mixed', 'n_cluster': 3, 'n_cluster_mix': 1, 'lower': 0.2, 'upper': 0.8, 'std': 0.07}, 'load_path': 'data/vrp_uniform50_1000_seed1234.pkl', 'load_raw': None}\n",
      "[2024-04-01 17:01:55] test.py(119) : model_params{'embedding_dim': 64, 'sqrt_embedding_dim': 8.0, 'encoder_layer_num': 6, 'qkv_dim': 8, 'head_num': 8, 'logit_clipping': 10, 'ff_hidden_dim': 512, 'eval_type': 'argmax'}\n",
      "[2024-04-01 17:01:55] test.py(119) : tester_params{'use_cuda': True, 'cuda_device_num': 0, 'model_load': {'path': 'pretrained/checkpoint-cvrp-100.pt', 'epoch': 'test'}, 'test_episodes': 1000, 'test_batch_size': 1, 'augmentation_enable': True, 'aug_factor': 8, 'aug_batch_size': 1, 'test_data_load': {'enable': False, 'filename': ''}, 'test_set_path': '../../../../../VRP-Omni-modified/Vrp-Set-B/B-n39', 'test_set_opt_sol_path': '../../../../../VRP-Omni-modified/Vrp-Set-A/A-n33-sol', 'test_set_name': 'A-n33'}\n",
      "[2024-04-01 17:01:55] test.py(119) : logger_params{'log_file': {'desc': 'test_cvrp50_pretrained_epochtest', 'filename': 'log.txt', 'filepath': './result/20240401_180153_test_cvrp50_pretrained_epochtest'}}\n",
      "['../../../../../VRP-Omni-modified/Vrp-Set-B/B-n39/B-n39-k5.vrp']\n"
     ]
    },
    {
     "name": "stderr",
     "output_type": "stream",
     "text": [
      "/home/xunj/miniconda3/envs/amd/lib/python3.8/site-packages/torch/__init__.py:696: UserWarning: torch.set_default_tensor_type() is deprecated as of PyTorch 2.1, please use torch.set_default_dtype() and torch.set_default_device() as alternatives. (Triggered internally at /opt/conda/conda-bld/pytorch_1708025829503/work/torch/csrc/tensor/python_tensor.cpp:451.)\n",
      "  _C._set_default_tensor_type(t)\n"
     ]
    },
    {
     "name": "stdout",
     "output_type": "stream",
     "text": [
      "pretrained/checkpoint-cvrp-100.pt\n",
      "torch.Size([8, 1])\n",
      "torch.Size([8, 38])\n",
      "[2024-04-01 17:01:56] CVRPTester.py(144) : episode   1/  1, Elapsed[0.01m], Remain[0.00m], score:0.637, aug_score:0.637\n",
      "[2024-04-01 17:01:56] CVRPTester.py(150) :  *** Test Done *** \n",
      "[2024-04-01 17:01:56] CVRPTester.py(151) :  NO-AUG SCORE: 0.6373498439788818 \n",
      "[2024-04-01 17:01:56] CVRPTester.py(152) :  AUGMENTATION SCORE: 0.6373498439788818 \n",
      ">> Evaluation on ../../../../../VRP-Omni-modified/Vrp-Set-B/B-n39 finished within 0.42s\n",
      ">> Save final results to res/B-n39\n",
      "Test on \" ../../../../../VRP-Omni-modified/Vrp-Set-B/B-n39 \" Success\n",
      "-----------------------------------------------------------------------------------------------------------------\n",
      "[2024-04-01 17:02:00] test.py(117) : DEBUG_MODE: False\n",
      "[2024-04-01 17:02:00] test.py(118) : USE_CUDA: True, CUDA_DEVICE_NUM: 0\n",
      "[2024-04-01 17:02:00] test.py(119) : env_params{'problem_size': 50, 'pomo_size': 50, 'distribution': {'data_type': 'mixed', 'n_cluster': 3, 'n_cluster_mix': 1, 'lower': 0.2, 'upper': 0.8, 'std': 0.07}, 'load_path': 'data/vrp_uniform50_1000_seed1234.pkl', 'load_raw': None}\n",
      "[2024-04-01 17:02:00] test.py(119) : model_params{'embedding_dim': 64, 'sqrt_embedding_dim': 8.0, 'encoder_layer_num': 6, 'qkv_dim': 8, 'head_num': 8, 'logit_clipping': 10, 'ff_hidden_dim': 512, 'eval_type': 'argmax'}\n",
      "[2024-04-01 17:02:00] test.py(119) : tester_params{'use_cuda': True, 'cuda_device_num': 0, 'model_load': {'path': 'pretrained/checkpoint-cvrp-100.pt', 'epoch': 'test'}, 'test_episodes': 1000, 'test_batch_size': 1, 'augmentation_enable': True, 'aug_factor': 8, 'aug_batch_size': 1, 'test_data_load': {'enable': False, 'filename': ''}, 'test_set_path': '../../../../../VRP-Omni-modified/Vrp-Set-B/B-n41', 'test_set_opt_sol_path': '../../../../../VRP-Omni-modified/Vrp-Set-A/A-n33-sol', 'test_set_name': 'A-n33'}\n",
      "[2024-04-01 17:02:00] test.py(119) : logger_params{'log_file': {'desc': 'test_cvrp50_pretrained_epochtest', 'filename': 'log.txt', 'filepath': './result/20240401_180158_test_cvrp50_pretrained_epochtest'}}\n",
      "['../../../../../VRP-Omni-modified/Vrp-Set-B/B-n41/B-n41-k6.vrp']\n"
     ]
    },
    {
     "name": "stderr",
     "output_type": "stream",
     "text": [
      "/home/xunj/miniconda3/envs/amd/lib/python3.8/site-packages/torch/__init__.py:696: UserWarning: torch.set_default_tensor_type() is deprecated as of PyTorch 2.1, please use torch.set_default_dtype() and torch.set_default_device() as alternatives. (Triggered internally at /opt/conda/conda-bld/pytorch_1708025829503/work/torch/csrc/tensor/python_tensor.cpp:451.)\n",
      "  _C._set_default_tensor_type(t)\n"
     ]
    },
    {
     "name": "stdout",
     "output_type": "stream",
     "text": [
      "pretrained/checkpoint-cvrp-100.pt\n",
      "torch.Size([8, 1])\n",
      "torch.Size([8, 40])\n",
      "[2024-04-01 17:02:00] CVRPTester.py(144) : episode   1/  1, Elapsed[0.01m], Remain[0.00m], score:1.018, aug_score:0.887\n",
      "[2024-04-01 17:02:00] CVRPTester.py(150) :  *** Test Done *** \n",
      "[2024-04-01 17:02:00] CVRPTester.py(151) :  NO-AUG SCORE: 1.018489122390747 \n",
      "[2024-04-01 17:02:00] CVRPTester.py(152) :  AUGMENTATION SCORE: 0.8866897225379944 \n",
      ">> Evaluation on ../../../../../VRP-Omni-modified/Vrp-Set-B/B-n41 finished within 0.43s\n",
      ">> Save final results to res/B-n41\n",
      "Test on \" ../../../../../VRP-Omni-modified/Vrp-Set-B/B-n41 \" Success\n",
      "-----------------------------------------------------------------------------------------------------------------\n",
      "[2024-04-01 17:02:04] test.py(117) : DEBUG_MODE: False\n",
      "[2024-04-01 17:02:04] test.py(118) : USE_CUDA: True, CUDA_DEVICE_NUM: 0\n",
      "[2024-04-01 17:02:04] test.py(119) : env_params{'problem_size': 50, 'pomo_size': 50, 'distribution': {'data_type': 'mixed', 'n_cluster': 3, 'n_cluster_mix': 1, 'lower': 0.2, 'upper': 0.8, 'std': 0.07}, 'load_path': 'data/vrp_uniform50_1000_seed1234.pkl', 'load_raw': None}\n",
      "[2024-04-01 17:02:04] test.py(119) : model_params{'embedding_dim': 64, 'sqrt_embedding_dim': 8.0, 'encoder_layer_num': 6, 'qkv_dim': 8, 'head_num': 8, 'logit_clipping': 10, 'ff_hidden_dim': 512, 'eval_type': 'argmax'}\n",
      "[2024-04-01 17:02:04] test.py(119) : tester_params{'use_cuda': True, 'cuda_device_num': 0, 'model_load': {'path': 'pretrained/checkpoint-cvrp-100.pt', 'epoch': 'test'}, 'test_episodes': 1000, 'test_batch_size': 1, 'augmentation_enable': True, 'aug_factor': 8, 'aug_batch_size': 1, 'test_data_load': {'enable': False, 'filename': ''}, 'test_set_path': '../../../../../VRP-Omni-modified/Vrp-Set-B/B-n43', 'test_set_opt_sol_path': '../../../../../VRP-Omni-modified/Vrp-Set-A/A-n33-sol', 'test_set_name': 'A-n33'}\n",
      "[2024-04-01 17:02:04] test.py(119) : logger_params{'log_file': {'desc': 'test_cvrp50_pretrained_epochtest', 'filename': 'log.txt', 'filepath': './result/20240401_180202_test_cvrp50_pretrained_epochtest'}}\n",
      "['../../../../../VRP-Omni-modified/Vrp-Set-B/B-n43/B-n43-k6.vrp']\n"
     ]
    },
    {
     "name": "stderr",
     "output_type": "stream",
     "text": [
      "/home/xunj/miniconda3/envs/amd/lib/python3.8/site-packages/torch/__init__.py:696: UserWarning: torch.set_default_tensor_type() is deprecated as of PyTorch 2.1, please use torch.set_default_dtype() and torch.set_default_device() as alternatives. (Triggered internally at /opt/conda/conda-bld/pytorch_1708025829503/work/torch/csrc/tensor/python_tensor.cpp:451.)\n",
      "  _C._set_default_tensor_type(t)\n"
     ]
    },
    {
     "name": "stdout",
     "output_type": "stream",
     "text": [
      "pretrained/checkpoint-cvrp-100.pt\n",
      "torch.Size([8, 1])\n",
      "torch.Size([8, 42])\n",
      "[2024-04-01 17:02:05] CVRPTester.py(144) : episode   1/  1, Elapsed[0.01m], Remain[0.00m], score:0.876, aug_score:0.808\n",
      "[2024-04-01 17:02:05] CVRPTester.py(150) :  *** Test Done *** \n",
      "[2024-04-01 17:02:05] CVRPTester.py(151) :  NO-AUG SCORE: 0.8759216070175171 \n",
      "[2024-04-01 17:02:05] CVRPTester.py(152) :  AUGMENTATION SCORE: 0.8076598644256592 \n",
      ">> Evaluation on ../../../../../VRP-Omni-modified/Vrp-Set-B/B-n43 finished within 0.45s\n",
      ">> Save final results to res/B-n43\n",
      "Test on \" ../../../../../VRP-Omni-modified/Vrp-Set-B/B-n43 \" Success\n",
      "-----------------------------------------------------------------------------------------------------------------\n",
      "[2024-04-01 17:02:08] test.py(117) : DEBUG_MODE: False\n",
      "[2024-04-01 17:02:08] test.py(118) : USE_CUDA: True, CUDA_DEVICE_NUM: 0\n",
      "[2024-04-01 17:02:08] test.py(119) : env_params{'problem_size': 50, 'pomo_size': 50, 'distribution': {'data_type': 'mixed', 'n_cluster': 3, 'n_cluster_mix': 1, 'lower': 0.2, 'upper': 0.8, 'std': 0.07}, 'load_path': 'data/vrp_uniform50_1000_seed1234.pkl', 'load_raw': None}\n",
      "[2024-04-01 17:02:08] test.py(119) : model_params{'embedding_dim': 64, 'sqrt_embedding_dim': 8.0, 'encoder_layer_num': 6, 'qkv_dim': 8, 'head_num': 8, 'logit_clipping': 10, 'ff_hidden_dim': 512, 'eval_type': 'argmax'}\n",
      "[2024-04-01 17:02:08] test.py(119) : tester_params{'use_cuda': True, 'cuda_device_num': 0, 'model_load': {'path': 'pretrained/checkpoint-cvrp-100.pt', 'epoch': 'test'}, 'test_episodes': 1000, 'test_batch_size': 1, 'augmentation_enable': True, 'aug_factor': 8, 'aug_batch_size': 1, 'test_data_load': {'enable': False, 'filename': ''}, 'test_set_path': '../../../../../VRP-Omni-modified/Vrp-Set-B/B-n44', 'test_set_opt_sol_path': '../../../../../VRP-Omni-modified/Vrp-Set-A/A-n33-sol', 'test_set_name': 'A-n33'}\n",
      "[2024-04-01 17:02:08] test.py(119) : logger_params{'log_file': {'desc': 'test_cvrp50_pretrained_epochtest', 'filename': 'log.txt', 'filepath': './result/20240401_180207_test_cvrp50_pretrained_epochtest'}}\n",
      "['../../../../../VRP-Omni-modified/Vrp-Set-B/B-n44/B-n44-k7.vrp']\n"
     ]
    },
    {
     "name": "stderr",
     "output_type": "stream",
     "text": [
      "/home/xunj/miniconda3/envs/amd/lib/python3.8/site-packages/torch/__init__.py:696: UserWarning: torch.set_default_tensor_type() is deprecated as of PyTorch 2.1, please use torch.set_default_dtype() and torch.set_default_device() as alternatives. (Triggered internally at /opt/conda/conda-bld/pytorch_1708025829503/work/torch/csrc/tensor/python_tensor.cpp:451.)\n",
      "  _C._set_default_tensor_type(t)\n"
     ]
    },
    {
     "name": "stdout",
     "output_type": "stream",
     "text": [
      "pretrained/checkpoint-cvrp-100.pt\n",
      "torch.Size([8, 1])\n",
      "torch.Size([8, 43])\n",
      "[2024-04-01 17:02:09] CVRPTester.py(144) : episode   1/  1, Elapsed[0.01m], Remain[0.00m], score:1.117, aug_score:0.995\n",
      "[2024-04-01 17:02:09] CVRPTester.py(150) :  *** Test Done *** \n",
      "[2024-04-01 17:02:09] CVRPTester.py(151) :  NO-AUG SCORE: 1.1168793439865112 \n",
      "[2024-04-01 17:02:09] CVRPTester.py(152) :  AUGMENTATION SCORE: 0.9946777820587158 \n",
      ">> Evaluation on ../../../../../VRP-Omni-modified/Vrp-Set-B/B-n44 finished within 0.42s\n",
      ">> Save final results to res/B-n44\n",
      "Test on \" ../../../../../VRP-Omni-modified/Vrp-Set-B/B-n44 \" Success\n",
      "-----------------------------------------------------------------------------------------------------------------\n",
      "[2024-04-01 17:02:13] test.py(117) : DEBUG_MODE: False\n",
      "[2024-04-01 17:02:13] test.py(118) : USE_CUDA: True, CUDA_DEVICE_NUM: 0\n",
      "[2024-04-01 17:02:13] test.py(119) : env_params{'problem_size': 50, 'pomo_size': 50, 'distribution': {'data_type': 'mixed', 'n_cluster': 3, 'n_cluster_mix': 1, 'lower': 0.2, 'upper': 0.8, 'std': 0.07}, 'load_path': 'data/vrp_uniform50_1000_seed1234.pkl', 'load_raw': None}\n",
      "[2024-04-01 17:02:13] test.py(119) : model_params{'embedding_dim': 64, 'sqrt_embedding_dim': 8.0, 'encoder_layer_num': 6, 'qkv_dim': 8, 'head_num': 8, 'logit_clipping': 10, 'ff_hidden_dim': 512, 'eval_type': 'argmax'}\n",
      "[2024-04-01 17:02:13] test.py(119) : tester_params{'use_cuda': True, 'cuda_device_num': 0, 'model_load': {'path': 'pretrained/checkpoint-cvrp-100.pt', 'epoch': 'test'}, 'test_episodes': 1000, 'test_batch_size': 1, 'augmentation_enable': True, 'aug_factor': 8, 'aug_batch_size': 1, 'test_data_load': {'enable': False, 'filename': ''}, 'test_set_path': '../../../../../VRP-Omni-modified/Vrp-Set-B/B-n45', 'test_set_opt_sol_path': '../../../../../VRP-Omni-modified/Vrp-Set-A/A-n33-sol', 'test_set_name': 'A-n33'}\n",
      "[2024-04-01 17:02:13] test.py(119) : logger_params{'log_file': {'desc': 'test_cvrp50_pretrained_epochtest', 'filename': 'log.txt', 'filepath': './result/20240401_180211_test_cvrp50_pretrained_epochtest'}}\n",
      "['../../../../../VRP-Omni-modified/Vrp-Set-B/B-n45/B-n45-k5.vrp', '../../../../../VRP-Omni-modified/Vrp-Set-B/B-n45/B-n45-k6.vrp']\n",
      "pretrained/checkpoint-cvrp-100.pt\n"
     ]
    },
    {
     "name": "stderr",
     "output_type": "stream",
     "text": [
      "/home/xunj/miniconda3/envs/amd/lib/python3.8/site-packages/torch/__init__.py:696: UserWarning: torch.set_default_tensor_type() is deprecated as of PyTorch 2.1, please use torch.set_default_dtype() and torch.set_default_device() as alternatives. (Triggered internally at /opt/conda/conda-bld/pytorch_1708025829503/work/torch/csrc/tensor/python_tensor.cpp:451.)\n",
      "  _C._set_default_tensor_type(t)\n"
     ]
    },
    {
     "name": "stdout",
     "output_type": "stream",
     "text": [
      "torch.Size([8, 1])\n",
      "torch.Size([8, 44])\n",
      "[2024-04-01 17:02:13] CVRPTester.py(144) : episode   1/  2, Elapsed[0.01m], Remain[0.01m], score:0.926, aug_score:0.818\n",
      "torch.Size([8, 1])\n",
      "torch.Size([8, 44])\n",
      "[2024-04-01 17:02:13] CVRPTester.py(144) : episode   2/  2, Elapsed[0.01m], Remain[0.00m], score:0.771, aug_score:0.751\n",
      "[2024-04-01 17:02:13] CVRPTester.py(150) :  *** Test Done *** \n",
      "[2024-04-01 17:02:13] CVRPTester.py(151) :  NO-AUG SCORE: 0.8484264612197876 \n",
      "[2024-04-01 17:02:13] CVRPTester.py(152) :  AUGMENTATION SCORE: 0.7841641902923584 \n",
      ">> Evaluation on ../../../../../VRP-Omni-modified/Vrp-Set-B/B-n45 finished within 0.06s\n",
      ">> Save final results to res/B-n45\n",
      "Test on \" ../../../../../VRP-Omni-modified/Vrp-Set-B/B-n45 \" Success\n",
      "-----------------------------------------------------------------------------------------------------------------\n",
      "[2024-04-01 17:02:17] test.py(117) : DEBUG_MODE: False\n",
      "[2024-04-01 17:02:17] test.py(118) : USE_CUDA: True, CUDA_DEVICE_NUM: 0\n",
      "[2024-04-01 17:02:17] test.py(119) : env_params{'problem_size': 50, 'pomo_size': 50, 'distribution': {'data_type': 'mixed', 'n_cluster': 3, 'n_cluster_mix': 1, 'lower': 0.2, 'upper': 0.8, 'std': 0.07}, 'load_path': 'data/vrp_uniform50_1000_seed1234.pkl', 'load_raw': None}\n",
      "[2024-04-01 17:02:17] test.py(119) : model_params{'embedding_dim': 64, 'sqrt_embedding_dim': 8.0, 'encoder_layer_num': 6, 'qkv_dim': 8, 'head_num': 8, 'logit_clipping': 10, 'ff_hidden_dim': 512, 'eval_type': 'argmax'}\n",
      "[2024-04-01 17:02:17] test.py(119) : tester_params{'use_cuda': True, 'cuda_device_num': 0, 'model_load': {'path': 'pretrained/checkpoint-cvrp-100.pt', 'epoch': 'test'}, 'test_episodes': 1000, 'test_batch_size': 1, 'augmentation_enable': True, 'aug_factor': 8, 'aug_batch_size': 1, 'test_data_load': {'enable': False, 'filename': ''}, 'test_set_path': '../../../../../VRP-Omni-modified/Vrp-Set-B/B-n50', 'test_set_opt_sol_path': '../../../../../VRP-Omni-modified/Vrp-Set-A/A-n33-sol', 'test_set_name': 'A-n33'}\n",
      "[2024-04-01 17:02:17] test.py(119) : logger_params{'log_file': {'desc': 'test_cvrp50_pretrained_epochtest', 'filename': 'log.txt', 'filepath': './result/20240401_180215_test_cvrp50_pretrained_epochtest'}}\n",
      "['../../../../../VRP-Omni-modified/Vrp-Set-B/B-n50/B-n50-k7.vrp', '../../../../../VRP-Omni-modified/Vrp-Set-B/B-n50/B-n50-k8.vrp']\n"
     ]
    },
    {
     "name": "stderr",
     "output_type": "stream",
     "text": [
      "/home/xunj/miniconda3/envs/amd/lib/python3.8/site-packages/torch/__init__.py:696: UserWarning: torch.set_default_tensor_type() is deprecated as of PyTorch 2.1, please use torch.set_default_dtype() and torch.set_default_device() as alternatives. (Triggered internally at /opt/conda/conda-bld/pytorch_1708025829503/work/torch/csrc/tensor/python_tensor.cpp:451.)\n",
      "  _C._set_default_tensor_type(t)\n"
     ]
    },
    {
     "name": "stdout",
     "output_type": "stream",
     "text": [
      "pretrained/checkpoint-cvrp-100.pt\n",
      "torch.Size([8, 1])\n",
      "torch.Size([8, 49])\n",
      "[2024-04-01 17:02:18] CVRPTester.py(144) : episode   1/  2, Elapsed[0.01m], Remain[0.01m], score:0.833, aug_score:0.784\n",
      "torch.Size([8, 1])\n",
      "torch.Size([8, 49])\n",
      "[2024-04-01 17:02:18] CVRPTester.py(144) : episode   2/  2, Elapsed[0.01m], Remain[0.00m], score:1.376, aug_score:1.352\n",
      "[2024-04-01 17:02:18] CVRPTester.py(150) :  *** Test Done *** \n",
      "[2024-04-01 17:02:18] CVRPTester.py(151) :  NO-AUG SCORE: 1.10423743724823 \n",
      "[2024-04-01 17:02:18] CVRPTester.py(152) :  AUGMENTATION SCORE: 1.067670226097107 \n",
      ">> Evaluation on ../../../../../VRP-Omni-modified/Vrp-Set-B/B-n50 finished within 0.07s\n",
      ">> Save final results to res/B-n50\n",
      "Test on \" ../../../../../VRP-Omni-modified/Vrp-Set-B/B-n50 \" Success\n",
      "-----------------------------------------------------------------------------------------------------------------\n",
      "[2024-04-01 17:02:21] test.py(117) : DEBUG_MODE: False\n",
      "[2024-04-01 17:02:21] test.py(118) : USE_CUDA: True, CUDA_DEVICE_NUM: 0\n",
      "[2024-04-01 17:02:21] test.py(119) : env_params{'problem_size': 50, 'pomo_size': 50, 'distribution': {'data_type': 'mixed', 'n_cluster': 3, 'n_cluster_mix': 1, 'lower': 0.2, 'upper': 0.8, 'std': 0.07}, 'load_path': 'data/vrp_uniform50_1000_seed1234.pkl', 'load_raw': None}\n",
      "[2024-04-01 17:02:21] test.py(119) : model_params{'embedding_dim': 64, 'sqrt_embedding_dim': 8.0, 'encoder_layer_num': 6, 'qkv_dim': 8, 'head_num': 8, 'logit_clipping': 10, 'ff_hidden_dim': 512, 'eval_type': 'argmax'}\n",
      "[2024-04-01 17:02:21] test.py(119) : tester_params{'use_cuda': True, 'cuda_device_num': 0, 'model_load': {'path': 'pretrained/checkpoint-cvrp-100.pt', 'epoch': 'test'}, 'test_episodes': 1000, 'test_batch_size': 1, 'augmentation_enable': True, 'aug_factor': 8, 'aug_batch_size': 1, 'test_data_load': {'enable': False, 'filename': ''}, 'test_set_path': '../../../../../VRP-Omni-modified/Vrp-Set-B/B-n51', 'test_set_opt_sol_path': '../../../../../VRP-Omni-modified/Vrp-Set-A/A-n33-sol', 'test_set_name': 'A-n33'}\n",
      "[2024-04-01 17:02:21] test.py(119) : logger_params{'log_file': {'desc': 'test_cvrp50_pretrained_epochtest', 'filename': 'log.txt', 'filepath': './result/20240401_180220_test_cvrp50_pretrained_epochtest'}}\n",
      "['../../../../../VRP-Omni-modified/Vrp-Set-B/B-n51/B-n51-k7.vrp']\n"
     ]
    },
    {
     "name": "stderr",
     "output_type": "stream",
     "text": [
      "/home/xunj/miniconda3/envs/amd/lib/python3.8/site-packages/torch/__init__.py:696: UserWarning: torch.set_default_tensor_type() is deprecated as of PyTorch 2.1, please use torch.set_default_dtype() and torch.set_default_device() as alternatives. (Triggered internally at /opt/conda/conda-bld/pytorch_1708025829503/work/torch/csrc/tensor/python_tensor.cpp:451.)\n",
      "  _C._set_default_tensor_type(t)\n"
     ]
    },
    {
     "name": "stdout",
     "output_type": "stream",
     "text": [
      "pretrained/checkpoint-cvrp-100.pt\n",
      "torch.Size([8, 1])\n",
      "torch.Size([8, 50])\n",
      "[2024-04-01 17:02:22] CVRPTester.py(144) : episode   1/  1, Elapsed[0.01m], Remain[0.00m], score:1.211, aug_score:1.109\n",
      "[2024-04-01 17:02:22] CVRPTester.py(150) :  *** Test Done *** \n",
      "[2024-04-01 17:02:22] CVRPTester.py(151) :  NO-AUG SCORE: 1.2112889289855957 \n",
      "[2024-04-01 17:02:22] CVRPTester.py(152) :  AUGMENTATION SCORE: 1.108633279800415 \n",
      ">> Evaluation on ../../../../../VRP-Omni-modified/Vrp-Set-B/B-n51 finished within 0.39s\n",
      ">> Save final results to res/B-n51\n",
      "Test on \" ../../../../../VRP-Omni-modified/Vrp-Set-B/B-n51 \" Success\n",
      "-----------------------------------------------------------------------------------------------------------------\n",
      "[2024-04-01 17:02:26] test.py(117) : DEBUG_MODE: False\n",
      "[2024-04-01 17:02:26] test.py(118) : USE_CUDA: True, CUDA_DEVICE_NUM: 0\n",
      "[2024-04-01 17:02:26] test.py(119) : env_params{'problem_size': 50, 'pomo_size': 50, 'distribution': {'data_type': 'mixed', 'n_cluster': 3, 'n_cluster_mix': 1, 'lower': 0.2, 'upper': 0.8, 'std': 0.07}, 'load_path': 'data/vrp_uniform50_1000_seed1234.pkl', 'load_raw': None}\n",
      "[2024-04-01 17:02:26] test.py(119) : model_params{'embedding_dim': 64, 'sqrt_embedding_dim': 8.0, 'encoder_layer_num': 6, 'qkv_dim': 8, 'head_num': 8, 'logit_clipping': 10, 'ff_hidden_dim': 512, 'eval_type': 'argmax'}\n",
      "[2024-04-01 17:02:26] test.py(119) : tester_params{'use_cuda': True, 'cuda_device_num': 0, 'model_load': {'path': 'pretrained/checkpoint-cvrp-100.pt', 'epoch': 'test'}, 'test_episodes': 1000, 'test_batch_size': 1, 'augmentation_enable': True, 'aug_factor': 8, 'aug_batch_size': 1, 'test_data_load': {'enable': False, 'filename': ''}, 'test_set_path': '../../../../../VRP-Omni-modified/Vrp-Set-B/B-n52', 'test_set_opt_sol_path': '../../../../../VRP-Omni-modified/Vrp-Set-A/A-n33-sol', 'test_set_name': 'A-n33'}\n",
      "[2024-04-01 17:02:26] test.py(119) : logger_params{'log_file': {'desc': 'test_cvrp50_pretrained_epochtest', 'filename': 'log.txt', 'filepath': './result/20240401_180224_test_cvrp50_pretrained_epochtest'}}\n",
      "['../../../../../VRP-Omni-modified/Vrp-Set-B/B-n52/B-n52-k7.vrp']\n"
     ]
    },
    {
     "name": "stderr",
     "output_type": "stream",
     "text": [
      "/home/xunj/miniconda3/envs/amd/lib/python3.8/site-packages/torch/__init__.py:696: UserWarning: torch.set_default_tensor_type() is deprecated as of PyTorch 2.1, please use torch.set_default_dtype() and torch.set_default_device() as alternatives. (Triggered internally at /opt/conda/conda-bld/pytorch_1708025829503/work/torch/csrc/tensor/python_tensor.cpp:451.)\n",
      "  _C._set_default_tensor_type(t)\n"
     ]
    },
    {
     "name": "stdout",
     "output_type": "stream",
     "text": [
      "pretrained/checkpoint-cvrp-100.pt\n",
      "torch.Size([8, 1])\n",
      "torch.Size([8, 51])\n",
      "[2024-04-01 17:02:26] CVRPTester.py(144) : episode   1/  1, Elapsed[0.01m], Remain[0.00m], score:0.923, aug_score:0.846\n",
      "[2024-04-01 17:02:26] CVRPTester.py(150) :  *** Test Done *** \n",
      "[2024-04-01 17:02:26] CVRPTester.py(151) :  NO-AUG SCORE: 0.922831654548645 \n",
      "[2024-04-01 17:02:26] CVRPTester.py(152) :  AUGMENTATION SCORE: 0.8459780216217041 \n",
      ">> Evaluation on ../../../../../VRP-Omni-modified/Vrp-Set-B/B-n52 finished within 0.37s\n",
      ">> Save final results to res/B-n52\n",
      "Test on \" ../../../../../VRP-Omni-modified/Vrp-Set-B/B-n52 \" Success\n",
      "-----------------------------------------------------------------------------------------------------------------\n",
      "[2024-04-01 17:02:30] test.py(117) : DEBUG_MODE: False\n",
      "[2024-04-01 17:02:30] test.py(118) : USE_CUDA: True, CUDA_DEVICE_NUM: 0\n",
      "[2024-04-01 17:02:30] test.py(119) : env_params{'problem_size': 50, 'pomo_size': 50, 'distribution': {'data_type': 'mixed', 'n_cluster': 3, 'n_cluster_mix': 1, 'lower': 0.2, 'upper': 0.8, 'std': 0.07}, 'load_path': 'data/vrp_uniform50_1000_seed1234.pkl', 'load_raw': None}\n",
      "[2024-04-01 17:02:30] test.py(119) : model_params{'embedding_dim': 64, 'sqrt_embedding_dim': 8.0, 'encoder_layer_num': 6, 'qkv_dim': 8, 'head_num': 8, 'logit_clipping': 10, 'ff_hidden_dim': 512, 'eval_type': 'argmax'}\n",
      "[2024-04-01 17:02:30] test.py(119) : tester_params{'use_cuda': True, 'cuda_device_num': 0, 'model_load': {'path': 'pretrained/checkpoint-cvrp-100.pt', 'epoch': 'test'}, 'test_episodes': 1000, 'test_batch_size': 1, 'augmentation_enable': True, 'aug_factor': 8, 'aug_batch_size': 1, 'test_data_load': {'enable': False, 'filename': ''}, 'test_set_path': '../../../../../VRP-Omni-modified/Vrp-Set-B/B-n56', 'test_set_opt_sol_path': '../../../../../VRP-Omni-modified/Vrp-Set-A/A-n33-sol', 'test_set_name': 'A-n33'}\n",
      "[2024-04-01 17:02:30] test.py(119) : logger_params{'log_file': {'desc': 'test_cvrp50_pretrained_epochtest', 'filename': 'log.txt', 'filepath': './result/20240401_180228_test_cvrp50_pretrained_epochtest'}}\n",
      "['../../../../../VRP-Omni-modified/Vrp-Set-B/B-n56/B-n56-k7.vrp']\n"
     ]
    },
    {
     "name": "stderr",
     "output_type": "stream",
     "text": [
      "/home/xunj/miniconda3/envs/amd/lib/python3.8/site-packages/torch/__init__.py:696: UserWarning: torch.set_default_tensor_type() is deprecated as of PyTorch 2.1, please use torch.set_default_dtype() and torch.set_default_device() as alternatives. (Triggered internally at /opt/conda/conda-bld/pytorch_1708025829503/work/torch/csrc/tensor/python_tensor.cpp:451.)\n",
      "  _C._set_default_tensor_type(t)\n"
     ]
    },
    {
     "name": "stdout",
     "output_type": "stream",
     "text": [
      "pretrained/checkpoint-cvrp-100.pt\n",
      "torch.Size([8, 1])\n",
      "torch.Size([8, 55])\n",
      "[2024-04-01 17:02:31] CVRPTester.py(144) : episode   1/  1, Elapsed[0.01m], Remain[0.00m], score:0.786, aug_score:0.770\n",
      "[2024-04-01 17:02:31] CVRPTester.py(150) :  *** Test Done *** \n",
      "[2024-04-01 17:02:31] CVRPTester.py(151) :  NO-AUG SCORE: 0.7858295440673828 \n",
      "[2024-04-01 17:02:31] CVRPTester.py(152) :  AUGMENTATION SCORE: 0.7698904275894165 \n",
      ">> Evaluation on ../../../../../VRP-Omni-modified/Vrp-Set-B/B-n56 finished within 0.43s\n",
      ">> Save final results to res/B-n56\n",
      "Test on \" ../../../../../VRP-Omni-modified/Vrp-Set-B/B-n56 \" Success\n",
      "-----------------------------------------------------------------------------------------------------------------\n",
      "[2024-04-01 17:02:34] test.py(117) : DEBUG_MODE: False\n",
      "[2024-04-01 17:02:34] test.py(118) : USE_CUDA: True, CUDA_DEVICE_NUM: 0\n",
      "[2024-04-01 17:02:34] test.py(119) : env_params{'problem_size': 50, 'pomo_size': 50, 'distribution': {'data_type': 'mixed', 'n_cluster': 3, 'n_cluster_mix': 1, 'lower': 0.2, 'upper': 0.8, 'std': 0.07}, 'load_path': 'data/vrp_uniform50_1000_seed1234.pkl', 'load_raw': None}\n",
      "[2024-04-01 17:02:34] test.py(119) : model_params{'embedding_dim': 64, 'sqrt_embedding_dim': 8.0, 'encoder_layer_num': 6, 'qkv_dim': 8, 'head_num': 8, 'logit_clipping': 10, 'ff_hidden_dim': 512, 'eval_type': 'argmax'}\n",
      "[2024-04-01 17:02:34] test.py(119) : tester_params{'use_cuda': True, 'cuda_device_num': 0, 'model_load': {'path': 'pretrained/checkpoint-cvrp-100.pt', 'epoch': 'test'}, 'test_episodes': 1000, 'test_batch_size': 1, 'augmentation_enable': True, 'aug_factor': 8, 'aug_batch_size': 1, 'test_data_load': {'enable': False, 'filename': ''}, 'test_set_path': '../../../../../VRP-Omni-modified/Vrp-Set-B/B-n57', 'test_set_opt_sol_path': '../../../../../VRP-Omni-modified/Vrp-Set-A/A-n33-sol', 'test_set_name': 'A-n33'}\n",
      "[2024-04-01 17:02:34] test.py(119) : logger_params{'log_file': {'desc': 'test_cvrp50_pretrained_epochtest', 'filename': 'log.txt', 'filepath': './result/20240401_180232_test_cvrp50_pretrained_epochtest'}}\n",
      "['../../../../../VRP-Omni-modified/Vrp-Set-B/B-n57/B-n57-k7.vrp', '../../../../../VRP-Omni-modified/Vrp-Set-B/B-n57/B-n57-k9.vrp']\n"
     ]
    },
    {
     "name": "stderr",
     "output_type": "stream",
     "text": [
      "/home/xunj/miniconda3/envs/amd/lib/python3.8/site-packages/torch/__init__.py:696: UserWarning: torch.set_default_tensor_type() is deprecated as of PyTorch 2.1, please use torch.set_default_dtype() and torch.set_default_device() as alternatives. (Triggered internally at /opt/conda/conda-bld/pytorch_1708025829503/work/torch/csrc/tensor/python_tensor.cpp:451.)\n",
      "  _C._set_default_tensor_type(t)\n"
     ]
    },
    {
     "name": "stdout",
     "output_type": "stream",
     "text": [
      "pretrained/checkpoint-cvrp-100.pt\n",
      "torch.Size([8, 1])\n",
      "torch.Size([8, 56])\n",
      "[2024-04-01 17:02:35] CVRPTester.py(144) : episode   1/  2, Elapsed[0.01m], Remain[0.01m], score:1.276, aug_score:1.173\n",
      "torch.Size([8, 1])\n",
      "torch.Size([8, 56])\n",
      "[2024-04-01 17:02:35] CVRPTester.py(144) : episode   2/  2, Elapsed[0.01m], Remain[0.00m], score:1.641, aug_score:1.638\n",
      "[2024-04-01 17:02:35] CVRPTester.py(150) :  *** Test Done *** \n",
      "[2024-04-01 17:02:35] CVRPTester.py(151) :  NO-AUG SCORE: 1.4585415124893188 \n",
      "[2024-04-01 17:02:35] CVRPTester.py(152) :  AUGMENTATION SCORE: 1.405502200126648 \n",
      ">> Evaluation on ../../../../../VRP-Omni-modified/Vrp-Set-B/B-n57 finished within 0.07s\n",
      ">> Save final results to res/B-n57\n",
      "Test on \" ../../../../../VRP-Omni-modified/Vrp-Set-B/B-n57 \" Success\n",
      "-----------------------------------------------------------------------------------------------------------------\n",
      "[2024-04-01 17:02:38] test.py(117) : DEBUG_MODE: False\n",
      "[2024-04-01 17:02:38] test.py(118) : USE_CUDA: True, CUDA_DEVICE_NUM: 0\n",
      "[2024-04-01 17:02:38] test.py(119) : env_params{'problem_size': 50, 'pomo_size': 50, 'distribution': {'data_type': 'mixed', 'n_cluster': 3, 'n_cluster_mix': 1, 'lower': 0.2, 'upper': 0.8, 'std': 0.07}, 'load_path': 'data/vrp_uniform50_1000_seed1234.pkl', 'load_raw': None}\n",
      "[2024-04-01 17:02:38] test.py(119) : model_params{'embedding_dim': 64, 'sqrt_embedding_dim': 8.0, 'encoder_layer_num': 6, 'qkv_dim': 8, 'head_num': 8, 'logit_clipping': 10, 'ff_hidden_dim': 512, 'eval_type': 'argmax'}\n",
      "[2024-04-01 17:02:38] test.py(119) : tester_params{'use_cuda': True, 'cuda_device_num': 0, 'model_load': {'path': 'pretrained/checkpoint-cvrp-100.pt', 'epoch': 'test'}, 'test_episodes': 1000, 'test_batch_size': 1, 'augmentation_enable': True, 'aug_factor': 8, 'aug_batch_size': 1, 'test_data_load': {'enable': False, 'filename': ''}, 'test_set_path': '../../../../../VRP-Omni-modified/Vrp-Set-B/B-n63', 'test_set_opt_sol_path': '../../../../../VRP-Omni-modified/Vrp-Set-A/A-n33-sol', 'test_set_name': 'A-n33'}\n",
      "[2024-04-01 17:02:38] test.py(119) : logger_params{'log_file': {'desc': 'test_cvrp50_pretrained_epochtest', 'filename': 'log.txt', 'filepath': './result/20240401_180237_test_cvrp50_pretrained_epochtest'}}\n",
      "['../../../../../VRP-Omni-modified/Vrp-Set-B/B-n63/B-n63-k10.vrp']\n",
      "pretrained/checkpoint-cvrp-100.pt\n"
     ]
    },
    {
     "name": "stderr",
     "output_type": "stream",
     "text": [
      "/home/xunj/miniconda3/envs/amd/lib/python3.8/site-packages/torch/__init__.py:696: UserWarning: torch.set_default_tensor_type() is deprecated as of PyTorch 2.1, please use torch.set_default_dtype() and torch.set_default_device() as alternatives. (Triggered internally at /opt/conda/conda-bld/pytorch_1708025829503/work/torch/csrc/tensor/python_tensor.cpp:451.)\n",
      "  _C._set_default_tensor_type(t)\n"
     ]
    },
    {
     "name": "stdout",
     "output_type": "stream",
     "text": [
      "torch.Size([8, 1])\n",
      "torch.Size([8, 62])\n",
      "[2024-04-01 17:02:39] CVRPTester.py(144) : episode   1/  1, Elapsed[0.01m], Remain[0.00m], score:1.594, aug_score:1.592\n",
      "[2024-04-01 17:02:39] CVRPTester.py(150) :  *** Test Done *** \n",
      "[2024-04-01 17:02:39] CVRPTester.py(151) :  NO-AUG SCORE: 1.594415545463562 \n",
      "[2024-04-01 17:02:39] CVRPTester.py(152) :  AUGMENTATION SCORE: 1.591665506362915 \n",
      ">> Evaluation on ../../../../../VRP-Omni-modified/Vrp-Set-B/B-n63 finished within 0.37s\n",
      ">> Save final results to res/B-n63\n",
      "Test on \" ../../../../../VRP-Omni-modified/Vrp-Set-B/B-n63 \" Success\n",
      "-----------------------------------------------------------------------------------------------------------------\n",
      "[2024-04-01 17:02:43] test.py(117) : DEBUG_MODE: False\n",
      "[2024-04-01 17:02:43] test.py(118) : USE_CUDA: True, CUDA_DEVICE_NUM: 0\n",
      "[2024-04-01 17:02:43] test.py(119) : env_params{'problem_size': 50, 'pomo_size': 50, 'distribution': {'data_type': 'mixed', 'n_cluster': 3, 'n_cluster_mix': 1, 'lower': 0.2, 'upper': 0.8, 'std': 0.07}, 'load_path': 'data/vrp_uniform50_1000_seed1234.pkl', 'load_raw': None}\n",
      "[2024-04-01 17:02:43] test.py(119) : model_params{'embedding_dim': 64, 'sqrt_embedding_dim': 8.0, 'encoder_layer_num': 6, 'qkv_dim': 8, 'head_num': 8, 'logit_clipping': 10, 'ff_hidden_dim': 512, 'eval_type': 'argmax'}\n",
      "[2024-04-01 17:02:43] test.py(119) : tester_params{'use_cuda': True, 'cuda_device_num': 0, 'model_load': {'path': 'pretrained/checkpoint-cvrp-100.pt', 'epoch': 'test'}, 'test_episodes': 1000, 'test_batch_size': 1, 'augmentation_enable': True, 'aug_factor': 8, 'aug_batch_size': 1, 'test_data_load': {'enable': False, 'filename': ''}, 'test_set_path': '../../../../../VRP-Omni-modified/Vrp-Set-B/B-n64', 'test_set_opt_sol_path': '../../../../../VRP-Omni-modified/Vrp-Set-A/A-n33-sol', 'test_set_name': 'A-n33'}\n",
      "[2024-04-01 17:02:43] test.py(119) : logger_params{'log_file': {'desc': 'test_cvrp50_pretrained_epochtest', 'filename': 'log.txt', 'filepath': './result/20240401_180241_test_cvrp50_pretrained_epochtest'}}\n",
      "['../../../../../VRP-Omni-modified/Vrp-Set-B/B-n64/B-n64-k9.vrp']\n",
      "pretrained/checkpoint-cvrp-100.pt\n"
     ]
    },
    {
     "name": "stderr",
     "output_type": "stream",
     "text": [
      "/home/xunj/miniconda3/envs/amd/lib/python3.8/site-packages/torch/__init__.py:696: UserWarning: torch.set_default_tensor_type() is deprecated as of PyTorch 2.1, please use torch.set_default_dtype() and torch.set_default_device() as alternatives. (Triggered internally at /opt/conda/conda-bld/pytorch_1708025829503/work/torch/csrc/tensor/python_tensor.cpp:451.)\n",
      "  _C._set_default_tensor_type(t)\n"
     ]
    },
    {
     "name": "stdout",
     "output_type": "stream",
     "text": [
      "torch.Size([8, 1])\n",
      "torch.Size([8, 63])\n",
      "[2024-04-01 17:02:43] CVRPTester.py(144) : episode   1/  1, Elapsed[0.01m], Remain[0.00m], score:1.032, aug_score:0.930\n",
      "[2024-04-01 17:02:43] CVRPTester.py(150) :  *** Test Done *** \n",
      "[2024-04-01 17:02:43] CVRPTester.py(151) :  NO-AUG SCORE: 1.0316495895385742 \n",
      "[2024-04-01 17:02:43] CVRPTester.py(152) :  AUGMENTATION SCORE: 0.9298816919326782 \n",
      ">> Evaluation on ../../../../../VRP-Omni-modified/Vrp-Set-B/B-n64 finished within 0.36s\n",
      ">> Save final results to res/B-n64\n",
      "Test on \" ../../../../../VRP-Omni-modified/Vrp-Set-B/B-n64 \" Success\n",
      "-----------------------------------------------------------------------------------------------------------------\n",
      "[2024-04-01 17:02:47] test.py(117) : DEBUG_MODE: False\n",
      "[2024-04-01 17:02:47] test.py(118) : USE_CUDA: True, CUDA_DEVICE_NUM: 0\n",
      "[2024-04-01 17:02:47] test.py(119) : env_params{'problem_size': 50, 'pomo_size': 50, 'distribution': {'data_type': 'mixed', 'n_cluster': 3, 'n_cluster_mix': 1, 'lower': 0.2, 'upper': 0.8, 'std': 0.07}, 'load_path': 'data/vrp_uniform50_1000_seed1234.pkl', 'load_raw': None}\n",
      "[2024-04-01 17:02:47] test.py(119) : model_params{'embedding_dim': 64, 'sqrt_embedding_dim': 8.0, 'encoder_layer_num': 6, 'qkv_dim': 8, 'head_num': 8, 'logit_clipping': 10, 'ff_hidden_dim': 512, 'eval_type': 'argmax'}\n",
      "[2024-04-01 17:02:47] test.py(119) : tester_params{'use_cuda': True, 'cuda_device_num': 0, 'model_load': {'path': 'pretrained/checkpoint-cvrp-100.pt', 'epoch': 'test'}, 'test_episodes': 1000, 'test_batch_size': 1, 'augmentation_enable': True, 'aug_factor': 8, 'aug_batch_size': 1, 'test_data_load': {'enable': False, 'filename': ''}, 'test_set_path': '../../../../../VRP-Omni-modified/Vrp-Set-B/B-n66', 'test_set_opt_sol_path': '../../../../../VRP-Omni-modified/Vrp-Set-A/A-n33-sol', 'test_set_name': 'A-n33'}\n",
      "[2024-04-01 17:02:47] test.py(119) : logger_params{'log_file': {'desc': 'test_cvrp50_pretrained_epochtest', 'filename': 'log.txt', 'filepath': './result/20240401_180245_test_cvrp50_pretrained_epochtest'}}\n",
      "['../../../../../VRP-Omni-modified/Vrp-Set-B/B-n66/B-n66-k9.vrp']\n",
      "pretrained/checkpoint-cvrp-100.pt\n"
     ]
    },
    {
     "name": "stderr",
     "output_type": "stream",
     "text": [
      "/home/xunj/miniconda3/envs/amd/lib/python3.8/site-packages/torch/__init__.py:696: UserWarning: torch.set_default_tensor_type() is deprecated as of PyTorch 2.1, please use torch.set_default_dtype() and torch.set_default_device() as alternatives. (Triggered internally at /opt/conda/conda-bld/pytorch_1708025829503/work/torch/csrc/tensor/python_tensor.cpp:451.)\n",
      "  _C._set_default_tensor_type(t)\n"
     ]
    },
    {
     "name": "stdout",
     "output_type": "stream",
     "text": [
      "torch.Size([8, 1])\n",
      "torch.Size([8, 65])\n",
      "[2024-04-01 17:02:47] CVRPTester.py(144) : episode   1/  1, Elapsed[0.01m], Remain[0.00m], score:1.382, aug_score:1.357\n",
      "[2024-04-01 17:02:47] CVRPTester.py(150) :  *** Test Done *** \n",
      "[2024-04-01 17:02:47] CVRPTester.py(151) :  NO-AUG SCORE: 1.3822259902954102 \n",
      "[2024-04-01 17:02:47] CVRPTester.py(152) :  AUGMENTATION SCORE: 1.357357382774353 \n",
      ">> Evaluation on ../../../../../VRP-Omni-modified/Vrp-Set-B/B-n66 finished within 0.37s\n",
      ">> Save final results to res/B-n66\n",
      "Test on \" ../../../../../VRP-Omni-modified/Vrp-Set-B/B-n66 \" Success\n",
      "-----------------------------------------------------------------------------------------------------------------\n",
      "[2024-04-01 17:02:51] test.py(117) : DEBUG_MODE: False\n",
      "[2024-04-01 17:02:51] test.py(118) : USE_CUDA: True, CUDA_DEVICE_NUM: 0\n",
      "[2024-04-01 17:02:51] test.py(119) : env_params{'problem_size': 50, 'pomo_size': 50, 'distribution': {'data_type': 'mixed', 'n_cluster': 3, 'n_cluster_mix': 1, 'lower': 0.2, 'upper': 0.8, 'std': 0.07}, 'load_path': 'data/vrp_uniform50_1000_seed1234.pkl', 'load_raw': None}\n",
      "[2024-04-01 17:02:51] test.py(119) : model_params{'embedding_dim': 64, 'sqrt_embedding_dim': 8.0, 'encoder_layer_num': 6, 'qkv_dim': 8, 'head_num': 8, 'logit_clipping': 10, 'ff_hidden_dim': 512, 'eval_type': 'argmax'}\n",
      "[2024-04-01 17:02:51] test.py(119) : tester_params{'use_cuda': True, 'cuda_device_num': 0, 'model_load': {'path': 'pretrained/checkpoint-cvrp-100.pt', 'epoch': 'test'}, 'test_episodes': 1000, 'test_batch_size': 1, 'augmentation_enable': True, 'aug_factor': 8, 'aug_batch_size': 1, 'test_data_load': {'enable': False, 'filename': ''}, 'test_set_path': '../../../../../VRP-Omni-modified/Vrp-Set-B/B-n67', 'test_set_opt_sol_path': '../../../../../VRP-Omni-modified/Vrp-Set-A/A-n33-sol', 'test_set_name': 'A-n33'}\n",
      "[2024-04-01 17:02:51] test.py(119) : logger_params{'log_file': {'desc': 'test_cvrp50_pretrained_epochtest', 'filename': 'log.txt', 'filepath': './result/20240401_180249_test_cvrp50_pretrained_epochtest'}}\n",
      "['../../../../../VRP-Omni-modified/Vrp-Set-B/B-n67/B-n67-k10.vrp']\n"
     ]
    },
    {
     "name": "stderr",
     "output_type": "stream",
     "text": [
      "/home/xunj/miniconda3/envs/amd/lib/python3.8/site-packages/torch/__init__.py:696: UserWarning: torch.set_default_tensor_type() is deprecated as of PyTorch 2.1, please use torch.set_default_dtype() and torch.set_default_device() as alternatives. (Triggered internally at /opt/conda/conda-bld/pytorch_1708025829503/work/torch/csrc/tensor/python_tensor.cpp:451.)\n",
      "  _C._set_default_tensor_type(t)\n"
     ]
    },
    {
     "name": "stdout",
     "output_type": "stream",
     "text": [
      "pretrained/checkpoint-cvrp-100.pt\n",
      "torch.Size([8, 1])\n",
      "torch.Size([8, 66])\n",
      "[2024-04-01 17:02:52] CVRPTester.py(144) : episode   1/  1, Elapsed[0.01m], Remain[0.00m], score:1.154, aug_score:1.064\n",
      "[2024-04-01 17:02:52] CVRPTester.py(150) :  *** Test Done *** \n",
      "[2024-04-01 17:02:52] CVRPTester.py(151) :  NO-AUG SCORE: 1.1535329818725586 \n",
      "[2024-04-01 17:02:52] CVRPTester.py(152) :  AUGMENTATION SCORE: 1.0638004541397095 \n",
      ">> Evaluation on ../../../../../VRP-Omni-modified/Vrp-Set-B/B-n67 finished within 0.38s\n",
      ">> Save final results to res/B-n67\n",
      "Test on \" ../../../../../VRP-Omni-modified/Vrp-Set-B/B-n67 \" Success\n",
      "-----------------------------------------------------------------------------------------------------------------\n",
      "[2024-04-01 17:02:55] test.py(117) : DEBUG_MODE: False\n",
      "[2024-04-01 17:02:55] test.py(118) : USE_CUDA: True, CUDA_DEVICE_NUM: 0\n",
      "[2024-04-01 17:02:55] test.py(119) : env_params{'problem_size': 50, 'pomo_size': 50, 'distribution': {'data_type': 'mixed', 'n_cluster': 3, 'n_cluster_mix': 1, 'lower': 0.2, 'upper': 0.8, 'std': 0.07}, 'load_path': 'data/vrp_uniform50_1000_seed1234.pkl', 'load_raw': None}\n",
      "[2024-04-01 17:02:55] test.py(119) : model_params{'embedding_dim': 64, 'sqrt_embedding_dim': 8.0, 'encoder_layer_num': 6, 'qkv_dim': 8, 'head_num': 8, 'logit_clipping': 10, 'ff_hidden_dim': 512, 'eval_type': 'argmax'}\n",
      "[2024-04-01 17:02:55] test.py(119) : tester_params{'use_cuda': True, 'cuda_device_num': 0, 'model_load': {'path': 'pretrained/checkpoint-cvrp-100.pt', 'epoch': 'test'}, 'test_episodes': 1000, 'test_batch_size': 1, 'augmentation_enable': True, 'aug_factor': 8, 'aug_batch_size': 1, 'test_data_load': {'enable': False, 'filename': ''}, 'test_set_path': '../../../../../VRP-Omni-modified/Vrp-Set-B/B-n68', 'test_set_opt_sol_path': '../../../../../VRP-Omni-modified/Vrp-Set-A/A-n33-sol', 'test_set_name': 'A-n33'}\n",
      "[2024-04-01 17:02:55] test.py(119) : logger_params{'log_file': {'desc': 'test_cvrp50_pretrained_epochtest', 'filename': 'log.txt', 'filepath': './result/20240401_180253_test_cvrp50_pretrained_epochtest'}}\n",
      "['../../../../../VRP-Omni-modified/Vrp-Set-B/B-n68/B-n68-k9.vrp']\n"
     ]
    },
    {
     "name": "stderr",
     "output_type": "stream",
     "text": [
      "/home/xunj/miniconda3/envs/amd/lib/python3.8/site-packages/torch/__init__.py:696: UserWarning: torch.set_default_tensor_type() is deprecated as of PyTorch 2.1, please use torch.set_default_dtype() and torch.set_default_device() as alternatives. (Triggered internally at /opt/conda/conda-bld/pytorch_1708025829503/work/torch/csrc/tensor/python_tensor.cpp:451.)\n",
      "  _C._set_default_tensor_type(t)\n"
     ]
    },
    {
     "name": "stdout",
     "output_type": "stream",
     "text": [
      "pretrained/checkpoint-cvrp-100.pt\n",
      "torch.Size([8, 1])\n",
      "torch.Size([8, 67])\n",
      "[2024-04-01 17:02:56] CVRPTester.py(144) : episode   1/  1, Elapsed[0.01m], Remain[0.00m], score:1.318, aug_score:1.318\n",
      "[2024-04-01 17:02:56] CVRPTester.py(150) :  *** Test Done *** \n",
      "[2024-04-01 17:02:56] CVRPTester.py(151) :  NO-AUG SCORE: 1.3175771236419678 \n",
      "[2024-04-01 17:02:56] CVRPTester.py(152) :  AUGMENTATION SCORE: 1.3175771236419678 \n",
      ">> Evaluation on ../../../../../VRP-Omni-modified/Vrp-Set-B/B-n68 finished within 0.48s\n",
      ">> Save final results to res/B-n68\n",
      "Test on \" ../../../../../VRP-Omni-modified/Vrp-Set-B/B-n68 \" Success\n",
      "-----------------------------------------------------------------------------------------------------------------\n",
      "[2024-04-01 17:02:59] test.py(117) : DEBUG_MODE: False\n",
      "[2024-04-01 17:02:59] test.py(118) : USE_CUDA: True, CUDA_DEVICE_NUM: 0\n",
      "[2024-04-01 17:02:59] test.py(119) : env_params{'problem_size': 50, 'pomo_size': 50, 'distribution': {'data_type': 'mixed', 'n_cluster': 3, 'n_cluster_mix': 1, 'lower': 0.2, 'upper': 0.8, 'std': 0.07}, 'load_path': 'data/vrp_uniform50_1000_seed1234.pkl', 'load_raw': None}\n",
      "[2024-04-01 17:02:59] test.py(119) : model_params{'embedding_dim': 64, 'sqrt_embedding_dim': 8.0, 'encoder_layer_num': 6, 'qkv_dim': 8, 'head_num': 8, 'logit_clipping': 10, 'ff_hidden_dim': 512, 'eval_type': 'argmax'}\n",
      "[2024-04-01 17:02:59] test.py(119) : tester_params{'use_cuda': True, 'cuda_device_num': 0, 'model_load': {'path': 'pretrained/checkpoint-cvrp-100.pt', 'epoch': 'test'}, 'test_episodes': 1000, 'test_batch_size': 1, 'augmentation_enable': True, 'aug_factor': 8, 'aug_batch_size': 1, 'test_data_load': {'enable': False, 'filename': ''}, 'test_set_path': '../../../../../VRP-Omni-modified/Vrp-Set-B/B-n78', 'test_set_opt_sol_path': '../../../../../VRP-Omni-modified/Vrp-Set-A/A-n33-sol', 'test_set_name': 'A-n33'}\n",
      "[2024-04-01 17:02:59] test.py(119) : logger_params{'log_file': {'desc': 'test_cvrp50_pretrained_epochtest', 'filename': 'log.txt', 'filepath': './result/20240401_180258_test_cvrp50_pretrained_epochtest'}}\n",
      "['../../../../../VRP-Omni-modified/Vrp-Set-B/B-n78/B-n78-k10.vrp']\n"
     ]
    },
    {
     "name": "stderr",
     "output_type": "stream",
     "text": [
      "/home/xunj/miniconda3/envs/amd/lib/python3.8/site-packages/torch/__init__.py:696: UserWarning: torch.set_default_tensor_type() is deprecated as of PyTorch 2.1, please use torch.set_default_dtype() and torch.set_default_device() as alternatives. (Triggered internally at /opt/conda/conda-bld/pytorch_1708025829503/work/torch/csrc/tensor/python_tensor.cpp:451.)\n",
      "  _C._set_default_tensor_type(t)\n"
     ]
    },
    {
     "name": "stdout",
     "output_type": "stream",
     "text": [
      "pretrained/checkpoint-cvrp-100.pt\n",
      "torch.Size([8, 1])\n",
      "torch.Size([8, 77])\n",
      "[2024-04-01 17:03:00] CVRPTester.py(144) : episode   1/  1, Elapsed[0.01m], Remain[0.00m], score:1.308, aug_score:1.275\n",
      "[2024-04-01 17:03:00] CVRPTester.py(150) :  *** Test Done *** \n",
      "[2024-04-01 17:03:00] CVRPTester.py(151) :  NO-AUG SCORE: 1.3077130317687988 \n",
      "[2024-04-01 17:03:00] CVRPTester.py(152) :  AUGMENTATION SCORE: 1.2746623754501343 \n",
      ">> Evaluation on ../../../../../VRP-Omni-modified/Vrp-Set-B/B-n78 finished within 0.46s\n",
      ">> Save final results to res/B-n78\n",
      "Test on \" ../../../../../VRP-Omni-modified/Vrp-Set-B/B-n78 \" Success\n",
      "-----------------------------------------------------------------------------------------------------------------\n",
      "[2024-04-01 17:03:04] test.py(117) : DEBUG_MODE: False\n",
      "[2024-04-01 17:03:04] test.py(118) : USE_CUDA: True, CUDA_DEVICE_NUM: 0\n",
      "[2024-04-01 17:03:04] test.py(119) : env_params{'problem_size': 50, 'pomo_size': 50, 'distribution': {'data_type': 'mixed', 'n_cluster': 3, 'n_cluster_mix': 1, 'lower': 0.2, 'upper': 0.8, 'std': 0.07}, 'load_path': 'data/vrp_uniform50_1000_seed1234.pkl', 'load_raw': None}\n",
      "[2024-04-01 17:03:04] test.py(119) : model_params{'embedding_dim': 64, 'sqrt_embedding_dim': 8.0, 'encoder_layer_num': 6, 'qkv_dim': 8, 'head_num': 8, 'logit_clipping': 10, 'ff_hidden_dim': 512, 'eval_type': 'argmax'}\n",
      "[2024-04-01 17:03:04] test.py(119) : tester_params{'use_cuda': True, 'cuda_device_num': 0, 'model_load': {'path': 'pretrained/checkpoint-cvrp-100.pt', 'epoch': 'test'}, 'test_episodes': 1000, 'test_batch_size': 1, 'augmentation_enable': True, 'aug_factor': 8, 'aug_batch_size': 1, 'test_data_load': {'enable': False, 'filename': ''}, 'test_set_path': '../../../../../VRP-Omni-modified/Vrp-Set-CMT/CMT-n101', 'test_set_opt_sol_path': '../../../../../VRP-Omni-modified/Vrp-Set-A/A-n33-sol', 'test_set_name': 'A-n33'}\n",
      "[2024-04-01 17:03:04] test.py(119) : logger_params{'log_file': {'desc': 'test_cvrp50_pretrained_epochtest', 'filename': 'log.txt', 'filepath': './result/20240401_180302_test_cvrp50_pretrained_epochtest'}}\n",
      "['../../../../../VRP-Omni-modified/Vrp-Set-CMT/CMT-n101/CMT12.vrp', '../../../../../VRP-Omni-modified/Vrp-Set-CMT/CMT-n101/CMT14.vrp', '../../../../../VRP-Omni-modified/Vrp-Set-CMT/CMT-n101/CMT3.vrp', '../../../../../VRP-Omni-modified/Vrp-Set-CMT/CMT-n101/CMT8.vrp']\n"
     ]
    },
    {
     "name": "stderr",
     "output_type": "stream",
     "text": [
      "/home/xunj/miniconda3/envs/amd/lib/python3.8/site-packages/torch/__init__.py:696: UserWarning: torch.set_default_tensor_type() is deprecated as of PyTorch 2.1, please use torch.set_default_dtype() and torch.set_default_device() as alternatives. (Triggered internally at /opt/conda/conda-bld/pytorch_1708025829503/work/torch/csrc/tensor/python_tensor.cpp:451.)\n",
      "  _C._set_default_tensor_type(t)\n",
      "Traceback (most recent call last):\n",
      "  File \"test.py\", line 140, in <module>\n",
      "    main()\n",
      "  File \"test.py\", line 103, in main\n",
      "    tester = Tester(env_params=env_params,\n",
      "  File \"/home/xunj/GradWork/AMDKD-main/AMDKD-main/AMDKD-POMO/CVRP/POMO/CVRPTester.py\", line 66, in __init__\n",
      "    self.test_data = self.pack_cvrplib(self.path_list)[: self.tester_params['test_episodes']]\n",
      "  File \"/home/xunj/GradWork/AMDKD-main/AMDKD-main/AMDKD-POMO/CVRP/POMO/CVRPTester.py\", line 223, in pack_cvrplib\n",
      "    locations = np.loadtxt(lines[i + 1:i + 1 + dimension], dtype=int)\n",
      "  File \"/home/xunj/miniconda3/envs/amd/lib/python3.8/site-packages/numpy/lib/npyio.py\", line 1163, in loadtxt\n",
      "    chunk.append(packer(convert_row(words)))\n",
      "  File \"/home/xunj/miniconda3/envs/amd/lib/python3.8/site-packages/numpy/lib/npyio.py\", line 1142, in convert_row\n",
      "    return [*map(_conv, vals)]\n",
      "ValueError: invalid literal for int() with base 10: '40.00000'\n"
     ]
    },
    {
     "name": "stdout",
     "output_type": "stream",
     "text": [
      "Check out issue on set:  ../../../../../VRP-Omni-modified/Vrp-Set-CMT/CMT-n101\n",
      "[2024-04-01 17:03:07] test.py(117) : DEBUG_MODE: False\n",
      "[2024-04-01 17:03:07] test.py(118) : USE_CUDA: True, CUDA_DEVICE_NUM: 0\n",
      "[2024-04-01 17:03:07] test.py(119) : env_params{'problem_size': 50, 'pomo_size': 50, 'distribution': {'data_type': 'mixed', 'n_cluster': 3, 'n_cluster_mix': 1, 'lower': 0.2, 'upper': 0.8, 'std': 0.07}, 'load_path': 'data/vrp_uniform50_1000_seed1234.pkl', 'load_raw': None}\n",
      "[2024-04-01 17:03:07] test.py(119) : model_params{'embedding_dim': 64, 'sqrt_embedding_dim': 8.0, 'encoder_layer_num': 6, 'qkv_dim': 8, 'head_num': 8, 'logit_clipping': 10, 'ff_hidden_dim': 512, 'eval_type': 'argmax'}\n",
      "[2024-04-01 17:03:07] test.py(119) : tester_params{'use_cuda': True, 'cuda_device_num': 0, 'model_load': {'path': 'pretrained/checkpoint-cvrp-100.pt', 'epoch': 'test'}, 'test_episodes': 1000, 'test_batch_size': 1, 'augmentation_enable': True, 'aug_factor': 8, 'aug_batch_size': 1, 'test_data_load': {'enable': False, 'filename': ''}, 'test_set_path': '../../../../../VRP-Omni-modified/Vrp-Set-CMT/CMT-n121', 'test_set_opt_sol_path': '../../../../../VRP-Omni-modified/Vrp-Set-A/A-n33-sol', 'test_set_name': 'A-n33'}\n",
      "[2024-04-01 17:03:07] test.py(119) : logger_params{'log_file': {'desc': 'test_cvrp50_pretrained_epochtest', 'filename': 'log.txt', 'filepath': './result/20240401_180306_test_cvrp50_pretrained_epochtest'}}\n",
      "['../../../../../VRP-Omni-modified/Vrp-Set-CMT/CMT-n121/CMT11.vrp', '../../../../../VRP-Omni-modified/Vrp-Set-CMT/CMT-n121/CMT13.vrp']\n"
     ]
    },
    {
     "name": "stderr",
     "output_type": "stream",
     "text": [
      "/home/xunj/miniconda3/envs/amd/lib/python3.8/site-packages/torch/__init__.py:696: UserWarning: torch.set_default_tensor_type() is deprecated as of PyTorch 2.1, please use torch.set_default_dtype() and torch.set_default_device() as alternatives. (Triggered internally at /opt/conda/conda-bld/pytorch_1708025829503/work/torch/csrc/tensor/python_tensor.cpp:451.)\n",
      "  _C._set_default_tensor_type(t)\n",
      "Traceback (most recent call last):\n",
      "  File \"test.py\", line 140, in <module>\n",
      "    main()\n",
      "  File \"test.py\", line 103, in main\n",
      "    tester = Tester(env_params=env_params,\n",
      "  File \"/home/xunj/GradWork/AMDKD-main/AMDKD-main/AMDKD-POMO/CVRP/POMO/CVRPTester.py\", line 66, in __init__\n",
      "    self.test_data = self.pack_cvrplib(self.path_list)[: self.tester_params['test_episodes']]\n",
      "  File \"/home/xunj/GradWork/AMDKD-main/AMDKD-main/AMDKD-POMO/CVRP/POMO/CVRPTester.py\", line 223, in pack_cvrplib\n",
      "    locations = np.loadtxt(lines[i + 1:i + 1 + dimension], dtype=int)\n",
      "  File \"/home/xunj/miniconda3/envs/amd/lib/python3.8/site-packages/numpy/lib/npyio.py\", line 1163, in loadtxt\n",
      "    chunk.append(packer(convert_row(words)))\n",
      "  File \"/home/xunj/miniconda3/envs/amd/lib/python3.8/site-packages/numpy/lib/npyio.py\", line 1142, in convert_row\n",
      "    return [*map(_conv, vals)]\n",
      "ValueError: invalid literal for int() with base 10: '10.00000'\n"
     ]
    },
    {
     "name": "stdout",
     "output_type": "stream",
     "text": [
      "Check out issue on set:  ../../../../../VRP-Omni-modified/Vrp-Set-CMT/CMT-n121\n",
      "[2024-04-01 17:03:11] test.py(117) : DEBUG_MODE: False\n",
      "[2024-04-01 17:03:11] test.py(118) : USE_CUDA: True, CUDA_DEVICE_NUM: 0\n",
      "[2024-04-01 17:03:11] test.py(119) : env_params{'problem_size': 50, 'pomo_size': 50, 'distribution': {'data_type': 'mixed', 'n_cluster': 3, 'n_cluster_mix': 1, 'lower': 0.2, 'upper': 0.8, 'std': 0.07}, 'load_path': 'data/vrp_uniform50_1000_seed1234.pkl', 'load_raw': None}\n",
      "[2024-04-01 17:03:11] test.py(119) : model_params{'embedding_dim': 64, 'sqrt_embedding_dim': 8.0, 'encoder_layer_num': 6, 'qkv_dim': 8, 'head_num': 8, 'logit_clipping': 10, 'ff_hidden_dim': 512, 'eval_type': 'argmax'}\n",
      "[2024-04-01 17:03:11] test.py(119) : tester_params{'use_cuda': True, 'cuda_device_num': 0, 'model_load': {'path': 'pretrained/checkpoint-cvrp-100.pt', 'epoch': 'test'}, 'test_episodes': 1000, 'test_batch_size': 1, 'augmentation_enable': True, 'aug_factor': 8, 'aug_batch_size': 1, 'test_data_load': {'enable': False, 'filename': ''}, 'test_set_path': '../../../../../VRP-Omni-modified/Vrp-Set-CMT/CMT-n151', 'test_set_opt_sol_path': '../../../../../VRP-Omni-modified/Vrp-Set-A/A-n33-sol', 'test_set_name': 'A-n33'}\n",
      "[2024-04-01 17:03:11] test.py(119) : logger_params{'log_file': {'desc': 'test_cvrp50_pretrained_epochtest', 'filename': 'log.txt', 'filepath': './result/20240401_180309_test_cvrp50_pretrained_epochtest'}}\n",
      "['../../../../../VRP-Omni-modified/Vrp-Set-CMT/CMT-n151/CMT4.vrp', '../../../../../VRP-Omni-modified/Vrp-Set-CMT/CMT-n151/CMT9.vrp']\n"
     ]
    },
    {
     "name": "stderr",
     "output_type": "stream",
     "text": [
      "/home/xunj/miniconda3/envs/amd/lib/python3.8/site-packages/torch/__init__.py:696: UserWarning: torch.set_default_tensor_type() is deprecated as of PyTorch 2.1, please use torch.set_default_dtype() and torch.set_default_device() as alternatives. (Triggered internally at /opt/conda/conda-bld/pytorch_1708025829503/work/torch/csrc/tensor/python_tensor.cpp:451.)\n",
      "  _C._set_default_tensor_type(t)\n",
      "Traceback (most recent call last):\n",
      "  File \"test.py\", line 140, in <module>\n",
      "    main()\n",
      "  File \"test.py\", line 103, in main\n",
      "    tester = Tester(env_params=env_params,\n",
      "  File \"/home/xunj/GradWork/AMDKD-main/AMDKD-main/AMDKD-POMO/CVRP/POMO/CVRPTester.py\", line 66, in __init__\n",
      "    self.test_data = self.pack_cvrplib(self.path_list)[: self.tester_params['test_episodes']]\n",
      "  File \"/home/xunj/GradWork/AMDKD-main/AMDKD-main/AMDKD-POMO/CVRP/POMO/CVRPTester.py\", line 223, in pack_cvrplib\n",
      "    locations = np.loadtxt(lines[i + 1:i + 1 + dimension], dtype=int)\n",
      "  File \"/home/xunj/miniconda3/envs/amd/lib/python3.8/site-packages/numpy/lib/npyio.py\", line 1163, in loadtxt\n",
      "    chunk.append(packer(convert_row(words)))\n",
      "  File \"/home/xunj/miniconda3/envs/amd/lib/python3.8/site-packages/numpy/lib/npyio.py\", line 1142, in convert_row\n",
      "    return [*map(_conv, vals)]\n",
      "ValueError: invalid literal for int() with base 10: '35.00000'\n"
     ]
    },
    {
     "name": "stdout",
     "output_type": "stream",
     "text": [
      "Check out issue on set:  ../../../../../VRP-Omni-modified/Vrp-Set-CMT/CMT-n151\n",
      "[2024-04-01 17:03:15] test.py(117) : DEBUG_MODE: False\n",
      "[2024-04-01 17:03:15] test.py(118) : USE_CUDA: True, CUDA_DEVICE_NUM: 0\n",
      "[2024-04-01 17:03:15] test.py(119) : env_params{'problem_size': 50, 'pomo_size': 50, 'distribution': {'data_type': 'mixed', 'n_cluster': 3, 'n_cluster_mix': 1, 'lower': 0.2, 'upper': 0.8, 'std': 0.07}, 'load_path': 'data/vrp_uniform50_1000_seed1234.pkl', 'load_raw': None}\n",
      "[2024-04-01 17:03:15] test.py(119) : model_params{'embedding_dim': 64, 'sqrt_embedding_dim': 8.0, 'encoder_layer_num': 6, 'qkv_dim': 8, 'head_num': 8, 'logit_clipping': 10, 'ff_hidden_dim': 512, 'eval_type': 'argmax'}\n",
      "[2024-04-01 17:03:15] test.py(119) : tester_params{'use_cuda': True, 'cuda_device_num': 0, 'model_load': {'path': 'pretrained/checkpoint-cvrp-100.pt', 'epoch': 'test'}, 'test_episodes': 1000, 'test_batch_size': 1, 'augmentation_enable': True, 'aug_factor': 8, 'aug_batch_size': 1, 'test_data_load': {'enable': False, 'filename': ''}, 'test_set_path': '../../../../../VRP-Omni-modified/Vrp-Set-CMT/CMT-n200', 'test_set_opt_sol_path': '../../../../../VRP-Omni-modified/Vrp-Set-A/A-n33-sol', 'test_set_name': 'A-n33'}\n",
      "[2024-04-01 17:03:15] test.py(119) : logger_params{'log_file': {'desc': 'test_cvrp50_pretrained_epochtest', 'filename': 'log.txt', 'filepath': './result/20240401_180313_test_cvrp50_pretrained_epochtest'}}\n",
      "['../../../../../VRP-Omni-modified/Vrp-Set-CMT/CMT-n200/CMT10.vrp', '../../../../../VRP-Omni-modified/Vrp-Set-CMT/CMT-n200/CMT5.vrp']\n"
     ]
    },
    {
     "name": "stderr",
     "output_type": "stream",
     "text": [
      "/home/xunj/miniconda3/envs/amd/lib/python3.8/site-packages/torch/__init__.py:696: UserWarning: torch.set_default_tensor_type() is deprecated as of PyTorch 2.1, please use torch.set_default_dtype() and torch.set_default_device() as alternatives. (Triggered internally at /opt/conda/conda-bld/pytorch_1708025829503/work/torch/csrc/tensor/python_tensor.cpp:451.)\n",
      "  _C._set_default_tensor_type(t)\n",
      "Traceback (most recent call last):\n",
      "  File \"test.py\", line 140, in <module>\n",
      "    main()\n",
      "  File \"test.py\", line 103, in main\n",
      "    tester = Tester(env_params=env_params,\n",
      "  File \"/home/xunj/GradWork/AMDKD-main/AMDKD-main/AMDKD-POMO/CVRP/POMO/CVRPTester.py\", line 66, in __init__\n",
      "    self.test_data = self.pack_cvrplib(self.path_list)[: self.tester_params['test_episodes']]\n",
      "  File \"/home/xunj/GradWork/AMDKD-main/AMDKD-main/AMDKD-POMO/CVRP/POMO/CVRPTester.py\", line 223, in pack_cvrplib\n",
      "    locations = np.loadtxt(lines[i + 1:i + 1 + dimension], dtype=int)\n",
      "  File \"/home/xunj/miniconda3/envs/amd/lib/python3.8/site-packages/numpy/lib/npyio.py\", line 1163, in loadtxt\n",
      "    chunk.append(packer(convert_row(words)))\n",
      "  File \"/home/xunj/miniconda3/envs/amd/lib/python3.8/site-packages/numpy/lib/npyio.py\", line 1142, in convert_row\n",
      "    return [*map(_conv, vals)]\n",
      "ValueError: invalid literal for int() with base 10: '35.00000'\n"
     ]
    },
    {
     "name": "stdout",
     "output_type": "stream",
     "text": [
      "Check out issue on set:  ../../../../../VRP-Omni-modified/Vrp-Set-CMT/CMT-n200\n",
      "[2024-04-01 17:03:18] test.py(117) : DEBUG_MODE: False\n",
      "[2024-04-01 17:03:18] test.py(118) : USE_CUDA: True, CUDA_DEVICE_NUM: 0\n",
      "[2024-04-01 17:03:18] test.py(119) : env_params{'problem_size': 50, 'pomo_size': 50, 'distribution': {'data_type': 'mixed', 'n_cluster': 3, 'n_cluster_mix': 1, 'lower': 0.2, 'upper': 0.8, 'std': 0.07}, 'load_path': 'data/vrp_uniform50_1000_seed1234.pkl', 'load_raw': None}\n",
      "[2024-04-01 17:03:18] test.py(119) : model_params{'embedding_dim': 64, 'sqrt_embedding_dim': 8.0, 'encoder_layer_num': 6, 'qkv_dim': 8, 'head_num': 8, 'logit_clipping': 10, 'ff_hidden_dim': 512, 'eval_type': 'argmax'}\n",
      "[2024-04-01 17:03:18] test.py(119) : tester_params{'use_cuda': True, 'cuda_device_num': 0, 'model_load': {'path': 'pretrained/checkpoint-cvrp-100.pt', 'epoch': 'test'}, 'test_episodes': 1000, 'test_batch_size': 1, 'augmentation_enable': True, 'aug_factor': 8, 'aug_batch_size': 1, 'test_data_load': {'enable': False, 'filename': ''}, 'test_set_path': '../../../../../VRP-Omni-modified/Vrp-Set-CMT/CMT-n51', 'test_set_opt_sol_path': '../../../../../VRP-Omni-modified/Vrp-Set-A/A-n33-sol', 'test_set_name': 'A-n33'}\n",
      "[2024-04-01 17:03:18] test.py(119) : logger_params{'log_file': {'desc': 'test_cvrp50_pretrained_epochtest', 'filename': 'log.txt', 'filepath': './result/20240401_180316_test_cvrp50_pretrained_epochtest'}}\n",
      "['../../../../../VRP-Omni-modified/Vrp-Set-CMT/CMT-n51/CMT1.vrp', '../../../../../VRP-Omni-modified/Vrp-Set-CMT/CMT-n51/CMT6.vrp']\n"
     ]
    },
    {
     "name": "stderr",
     "output_type": "stream",
     "text": [
      "/home/xunj/miniconda3/envs/amd/lib/python3.8/site-packages/torch/__init__.py:696: UserWarning: torch.set_default_tensor_type() is deprecated as of PyTorch 2.1, please use torch.set_default_dtype() and torch.set_default_device() as alternatives. (Triggered internally at /opt/conda/conda-bld/pytorch_1708025829503/work/torch/csrc/tensor/python_tensor.cpp:451.)\n",
      "  _C._set_default_tensor_type(t)\n",
      "Traceback (most recent call last):\n",
      "  File \"test.py\", line 140, in <module>\n",
      "    main()\n",
      "  File \"test.py\", line 103, in main\n",
      "    tester = Tester(env_params=env_params,\n",
      "  File \"/home/xunj/GradWork/AMDKD-main/AMDKD-main/AMDKD-POMO/CVRP/POMO/CVRPTester.py\", line 66, in __init__\n",
      "    self.test_data = self.pack_cvrplib(self.path_list)[: self.tester_params['test_episodes']]\n",
      "  File \"/home/xunj/GradWork/AMDKD-main/AMDKD-main/AMDKD-POMO/CVRP/POMO/CVRPTester.py\", line 223, in pack_cvrplib\n",
      "    locations = np.loadtxt(lines[i + 1:i + 1 + dimension], dtype=int)\n",
      "  File \"/home/xunj/miniconda3/envs/amd/lib/python3.8/site-packages/numpy/lib/npyio.py\", line 1163, in loadtxt\n",
      "    chunk.append(packer(convert_row(words)))\n",
      "  File \"/home/xunj/miniconda3/envs/amd/lib/python3.8/site-packages/numpy/lib/npyio.py\", line 1142, in convert_row\n",
      "    return [*map(_conv, vals)]\n",
      "ValueError: invalid literal for int() with base 10: '30.00000'\n"
     ]
    },
    {
     "name": "stdout",
     "output_type": "stream",
     "text": [
      "Check out issue on set:  ../../../../../VRP-Omni-modified/Vrp-Set-CMT/CMT-n51\n",
      "[2024-04-01 17:03:22] test.py(117) : DEBUG_MODE: False\n",
      "[2024-04-01 17:03:22] test.py(118) : USE_CUDA: True, CUDA_DEVICE_NUM: 0\n",
      "[2024-04-01 17:03:22] test.py(119) : env_params{'problem_size': 50, 'pomo_size': 50, 'distribution': {'data_type': 'mixed', 'n_cluster': 3, 'n_cluster_mix': 1, 'lower': 0.2, 'upper': 0.8, 'std': 0.07}, 'load_path': 'data/vrp_uniform50_1000_seed1234.pkl', 'load_raw': None}\n",
      "[2024-04-01 17:03:22] test.py(119) : model_params{'embedding_dim': 64, 'sqrt_embedding_dim': 8.0, 'encoder_layer_num': 6, 'qkv_dim': 8, 'head_num': 8, 'logit_clipping': 10, 'ff_hidden_dim': 512, 'eval_type': 'argmax'}\n",
      "[2024-04-01 17:03:22] test.py(119) : tester_params{'use_cuda': True, 'cuda_device_num': 0, 'model_load': {'path': 'pretrained/checkpoint-cvrp-100.pt', 'epoch': 'test'}, 'test_episodes': 1000, 'test_batch_size': 1, 'augmentation_enable': True, 'aug_factor': 8, 'aug_batch_size': 1, 'test_data_load': {'enable': False, 'filename': ''}, 'test_set_path': '../../../../../VRP-Omni-modified/Vrp-Set-CMT/CMT-n76', 'test_set_opt_sol_path': '../../../../../VRP-Omni-modified/Vrp-Set-A/A-n33-sol', 'test_set_name': 'A-n33'}\n",
      "[2024-04-01 17:03:22] test.py(119) : logger_params{'log_file': {'desc': 'test_cvrp50_pretrained_epochtest', 'filename': 'log.txt', 'filepath': './result/20240401_180320_test_cvrp50_pretrained_epochtest'}}\n",
      "['../../../../../VRP-Omni-modified/Vrp-Set-CMT/CMT-n76/CMT2.vrp', '../../../../../VRP-Omni-modified/Vrp-Set-CMT/CMT-n76/CMT7.vrp']\n"
     ]
    },
    {
     "name": "stderr",
     "output_type": "stream",
     "text": [
      "/home/xunj/miniconda3/envs/amd/lib/python3.8/site-packages/torch/__init__.py:696: UserWarning: torch.set_default_tensor_type() is deprecated as of PyTorch 2.1, please use torch.set_default_dtype() and torch.set_default_device() as alternatives. (Triggered internally at /opt/conda/conda-bld/pytorch_1708025829503/work/torch/csrc/tensor/python_tensor.cpp:451.)\n",
      "  _C._set_default_tensor_type(t)\n",
      "Traceback (most recent call last):\n",
      "  File \"test.py\", line 140, in <module>\n",
      "    main()\n",
      "  File \"test.py\", line 103, in main\n",
      "    tester = Tester(env_params=env_params,\n",
      "  File \"/home/xunj/GradWork/AMDKD-main/AMDKD-main/AMDKD-POMO/CVRP/POMO/CVRPTester.py\", line 66, in __init__\n",
      "    self.test_data = self.pack_cvrplib(self.path_list)[: self.tester_params['test_episodes']]\n",
      "  File \"/home/xunj/GradWork/AMDKD-main/AMDKD-main/AMDKD-POMO/CVRP/POMO/CVRPTester.py\", line 223, in pack_cvrplib\n",
      "    locations = np.loadtxt(lines[i + 1:i + 1 + dimension], dtype=int)\n",
      "  File \"/home/xunj/miniconda3/envs/amd/lib/python3.8/site-packages/numpy/lib/npyio.py\", line 1163, in loadtxt\n",
      "    chunk.append(packer(convert_row(words)))\n",
      "  File \"/home/xunj/miniconda3/envs/amd/lib/python3.8/site-packages/numpy/lib/npyio.py\", line 1142, in convert_row\n",
      "    return [*map(_conv, vals)]\n",
      "ValueError: invalid literal for int() with base 10: '40.00000'\n"
     ]
    },
    {
     "name": "stdout",
     "output_type": "stream",
     "text": [
      "Check out issue on set:  ../../../../../VRP-Omni-modified/Vrp-Set-CMT/CMT-n76\n",
      "[2024-04-01 17:03:26] test.py(117) : DEBUG_MODE: False\n",
      "[2024-04-01 17:03:26] test.py(118) : USE_CUDA: True, CUDA_DEVICE_NUM: 0\n",
      "[2024-04-01 17:03:26] test.py(119) : env_params{'problem_size': 50, 'pomo_size': 50, 'distribution': {'data_type': 'mixed', 'n_cluster': 3, 'n_cluster_mix': 1, 'lower': 0.2, 'upper': 0.8, 'std': 0.07}, 'load_path': 'data/vrp_uniform50_1000_seed1234.pkl', 'load_raw': None}\n",
      "[2024-04-01 17:03:26] test.py(119) : model_params{'embedding_dim': 64, 'sqrt_embedding_dim': 8.0, 'encoder_layer_num': 6, 'qkv_dim': 8, 'head_num': 8, 'logit_clipping': 10, 'ff_hidden_dim': 512, 'eval_type': 'argmax'}\n",
      "[2024-04-01 17:03:26] test.py(119) : tester_params{'use_cuda': True, 'cuda_device_num': 0, 'model_load': {'path': 'pretrained/checkpoint-cvrp-100.pt', 'epoch': 'test'}, 'test_episodes': 1000, 'test_batch_size': 1, 'augmentation_enable': True, 'aug_factor': 8, 'aug_batch_size': 1, 'test_data_load': {'enable': False, 'filename': ''}, 'test_set_path': '../../../../../VRP-Omni-modified/Vrp-Set-D/D-n1001', 'test_set_opt_sol_path': '../../../../../VRP-Omni-modified/Vrp-Set-A/A-n33-sol', 'test_set_name': 'A-n33'}\n",
      "[2024-04-01 17:03:26] test.py(119) : logger_params{'log_file': {'desc': 'test_cvrp50_pretrained_epochtest', 'filename': 'log.txt', 'filepath': './result/20240401_180324_test_cvrp50_pretrained_epochtest'}}\n",
      "['../../../../../VRP-Omni-modified/Vrp-Set-D/D-n1001/Loggi-n1001-k31.vrp']\n"
     ]
    },
    {
     "name": "stderr",
     "output_type": "stream",
     "text": [
      "/home/xunj/miniconda3/envs/amd/lib/python3.8/site-packages/torch/__init__.py:696: UserWarning: torch.set_default_tensor_type() is deprecated as of PyTorch 2.1, please use torch.set_default_dtype() and torch.set_default_device() as alternatives. (Triggered internally at /opt/conda/conda-bld/pytorch_1708025829503/work/torch/csrc/tensor/python_tensor.cpp:451.)\n",
      "  _C._set_default_tensor_type(t)\n"
     ]
    },
    {
     "name": "stdout",
     "output_type": "stream",
     "text": [
      "pretrained/checkpoint-cvrp-100.pt\n",
      "torch.Size([8, 1])\n",
      "torch.Size([8, 1000])\n",
      "[2024-04-01 17:03:31] CVRPTester.py(144) : episode   1/  1, Elapsed[0.09m], Remain[0.00m], score:124.637, aug_score:49.185\n",
      "[2024-04-01 17:03:31] CVRPTester.py(150) :  *** Test Done *** \n",
      "[2024-04-01 17:03:31] CVRPTester.py(151) :  NO-AUG SCORE: 124.63661193847656 \n",
      "[2024-04-01 17:03:31] CVRPTester.py(152) :  AUGMENTATION SCORE: 49.18517303466797 \n",
      ">> Evaluation on ../../../../../VRP-Omni-modified/Vrp-Set-D/D-n1001 finished within 5.10s\n",
      ">> Save final results to res/D-n1001\n",
      "Test on \" ../../../../../VRP-Omni-modified/Vrp-Set-D/D-n1001 \" Success\n",
      "-----------------------------------------------------------------------------------------------------------------\n",
      "[2024-04-01 17:03:34] test.py(117) : DEBUG_MODE: False\n",
      "[2024-04-01 17:03:34] test.py(118) : USE_CUDA: True, CUDA_DEVICE_NUM: 0\n",
      "[2024-04-01 17:03:34] test.py(119) : env_params{'problem_size': 50, 'pomo_size': 50, 'distribution': {'data_type': 'mixed', 'n_cluster': 3, 'n_cluster_mix': 1, 'lower': 0.2, 'upper': 0.8, 'std': 0.07}, 'load_path': 'data/vrp_uniform50_1000_seed1234.pkl', 'load_raw': None}\n",
      "[2024-04-01 17:03:34] test.py(119) : model_params{'embedding_dim': 64, 'sqrt_embedding_dim': 8.0, 'encoder_layer_num': 6, 'qkv_dim': 8, 'head_num': 8, 'logit_clipping': 10, 'ff_hidden_dim': 512, 'eval_type': 'argmax'}\n",
      "[2024-04-01 17:03:34] test.py(119) : tester_params{'use_cuda': True, 'cuda_device_num': 0, 'model_load': {'path': 'pretrained/checkpoint-cvrp-100.pt', 'epoch': 'test'}, 'test_episodes': 1000, 'test_batch_size': 1, 'augmentation_enable': True, 'aug_factor': 8, 'aug_batch_size': 1, 'test_data_load': {'enable': False, 'filename': ''}, 'test_set_path': '../../../../../VRP-Omni-modified/Vrp-Set-D/D-n242', 'test_set_opt_sol_path': '../../../../../VRP-Omni-modified/Vrp-Set-A/A-n33-sol', 'test_set_name': 'A-n33'}\n",
      "[2024-04-01 17:03:34] test.py(119) : logger_params{'log_file': {'desc': 'test_cvrp50_pretrained_epochtest', 'filename': 'log.txt', 'filepath': './result/20240401_180333_test_cvrp50_pretrained_epochtest'}}\n",
      "['../../../../../VRP-Omni-modified/Vrp-Set-D/D-n242/ORTEC-n242-k12.vrp']\n"
     ]
    },
    {
     "name": "stderr",
     "output_type": "stream",
     "text": [
      "/home/xunj/miniconda3/envs/amd/lib/python3.8/site-packages/torch/__init__.py:696: UserWarning: torch.set_default_tensor_type() is deprecated as of PyTorch 2.1, please use torch.set_default_dtype() and torch.set_default_device() as alternatives. (Triggered internally at /opt/conda/conda-bld/pytorch_1708025829503/work/torch/csrc/tensor/python_tensor.cpp:451.)\n",
      "  _C._set_default_tensor_type(t)\n"
     ]
    },
    {
     "name": "stdout",
     "output_type": "stream",
     "text": [
      "pretrained/checkpoint-cvrp-100.pt\n",
      "torch.Size([8, 1])\n",
      "torch.Size([8, 241])\n",
      "[2024-04-01 17:03:35] CVRPTester.py(144) : episode   1/  1, Elapsed[0.01m], Remain[0.00m], score:19.054, aug_score:18.913\n",
      "[2024-04-01 17:03:35] CVRPTester.py(150) :  *** Test Done *** \n",
      "[2024-04-01 17:03:35] CVRPTester.py(151) :  NO-AUG SCORE: 19.053861618041992 \n",
      "[2024-04-01 17:03:35] CVRPTester.py(152) :  AUGMENTATION SCORE: 18.912826538085938 \n",
      ">> Evaluation on ../../../../../VRP-Omni-modified/Vrp-Set-D/D-n242 finished within 0.60s\n",
      ">> Save final results to res/D-n242\n",
      "Test on \" ../../../../../VRP-Omni-modified/Vrp-Set-D/D-n242 \" Success\n",
      "-----------------------------------------------------------------------------------------------------------------\n",
      "[2024-04-01 17:03:39] test.py(117) : DEBUG_MODE: False\n",
      "[2024-04-01 17:03:39] test.py(118) : USE_CUDA: True, CUDA_DEVICE_NUM: 0\n",
      "[2024-04-01 17:03:39] test.py(119) : env_params{'problem_size': 50, 'pomo_size': 50, 'distribution': {'data_type': 'mixed', 'n_cluster': 3, 'n_cluster_mix': 1, 'lower': 0.2, 'upper': 0.8, 'std': 0.07}, 'load_path': 'data/vrp_uniform50_1000_seed1234.pkl', 'load_raw': None}\n",
      "[2024-04-01 17:03:39] test.py(119) : model_params{'embedding_dim': 64, 'sqrt_embedding_dim': 8.0, 'encoder_layer_num': 6, 'qkv_dim': 8, 'head_num': 8, 'logit_clipping': 10, 'ff_hidden_dim': 512, 'eval_type': 'argmax'}\n",
      "[2024-04-01 17:03:39] test.py(119) : tester_params{'use_cuda': True, 'cuda_device_num': 0, 'model_load': {'path': 'pretrained/checkpoint-cvrp-100.pt', 'epoch': 'test'}, 'test_episodes': 1000, 'test_batch_size': 1, 'augmentation_enable': True, 'aug_factor': 8, 'aug_batch_size': 1, 'test_data_load': {'enable': False, 'filename': ''}, 'test_set_path': '../../../../../VRP-Omni-modified/Vrp-Set-D/D-n323', 'test_set_opt_sol_path': '../../../../../VRP-Omni-modified/Vrp-Set-A/A-n33-sol', 'test_set_name': 'A-n33'}\n",
      "[2024-04-01 17:03:39] test.py(119) : logger_params{'log_file': {'desc': 'test_cvrp50_pretrained_epochtest', 'filename': 'log.txt', 'filepath': './result/20240401_180337_test_cvrp50_pretrained_epochtest'}}\n",
      "['../../../../../VRP-Omni-modified/Vrp-Set-D/D-n323/ORTEC-n323-k21.vrp']\n"
     ]
    },
    {
     "name": "stderr",
     "output_type": "stream",
     "text": [
      "/home/xunj/miniconda3/envs/amd/lib/python3.8/site-packages/torch/__init__.py:696: UserWarning: torch.set_default_tensor_type() is deprecated as of PyTorch 2.1, please use torch.set_default_dtype() and torch.set_default_device() as alternatives. (Triggered internally at /opt/conda/conda-bld/pytorch_1708025829503/work/torch/csrc/tensor/python_tensor.cpp:451.)\n",
      "  _C._set_default_tensor_type(t)\n"
     ]
    },
    {
     "name": "stdout",
     "output_type": "stream",
     "text": [
      "pretrained/checkpoint-cvrp-100.pt\n",
      "torch.Size([8, 1])\n",
      "torch.Size([8, 322])\n",
      "[2024-04-01 17:03:40] CVRPTester.py(144) : episode   1/  1, Elapsed[0.01m], Remain[0.00m], score:26.597, aug_score:26.597\n",
      "[2024-04-01 17:03:40] CVRPTester.py(150) :  *** Test Done *** \n",
      "[2024-04-01 17:03:40] CVRPTester.py(151) :  NO-AUG SCORE: 26.597427368164062 \n",
      "[2024-04-01 17:03:40] CVRPTester.py(152) :  AUGMENTATION SCORE: 26.597427368164062 \n",
      ">> Evaluation on ../../../../../VRP-Omni-modified/Vrp-Set-D/D-n323 finished within 0.72s\n",
      ">> Save final results to res/D-n323\n",
      "Test on \" ../../../../../VRP-Omni-modified/Vrp-Set-D/D-n323 \" Success\n",
      "-----------------------------------------------------------------------------------------------------------------\n",
      "[2024-04-01 17:03:44] test.py(117) : DEBUG_MODE: False\n",
      "[2024-04-01 17:03:44] test.py(118) : USE_CUDA: True, CUDA_DEVICE_NUM: 0\n",
      "[2024-04-01 17:03:44] test.py(119) : env_params{'problem_size': 50, 'pomo_size': 50, 'distribution': {'data_type': 'mixed', 'n_cluster': 3, 'n_cluster_mix': 1, 'lower': 0.2, 'upper': 0.8, 'std': 0.07}, 'load_path': 'data/vrp_uniform50_1000_seed1234.pkl', 'load_raw': None}\n",
      "[2024-04-01 17:03:44] test.py(119) : model_params{'embedding_dim': 64, 'sqrt_embedding_dim': 8.0, 'encoder_layer_num': 6, 'qkv_dim': 8, 'head_num': 8, 'logit_clipping': 10, 'ff_hidden_dim': 512, 'eval_type': 'argmax'}\n",
      "[2024-04-01 17:03:44] test.py(119) : tester_params{'use_cuda': True, 'cuda_device_num': 0, 'model_load': {'path': 'pretrained/checkpoint-cvrp-100.pt', 'epoch': 'test'}, 'test_episodes': 1000, 'test_batch_size': 1, 'augmentation_enable': True, 'aug_factor': 8, 'aug_batch_size': 1, 'test_data_load': {'enable': False, 'filename': ''}, 'test_set_path': '../../../../../VRP-Omni-modified/Vrp-Set-D/D-n401', 'test_set_opt_sol_path': '../../../../../VRP-Omni-modified/Vrp-Set-A/A-n33-sol', 'test_set_name': 'A-n33'}\n",
      "[2024-04-01 17:03:44] test.py(119) : logger_params{'log_file': {'desc': 'test_cvrp50_pretrained_epochtest', 'filename': 'log.txt', 'filepath': './result/20240401_180342_test_cvrp50_pretrained_epochtest'}}\n",
      "['../../../../../VRP-Omni-modified/Vrp-Set-D/D-n401/Loggi-n401-k23.vrp']\n"
     ]
    },
    {
     "name": "stderr",
     "output_type": "stream",
     "text": [
      "/home/xunj/miniconda3/envs/amd/lib/python3.8/site-packages/torch/__init__.py:696: UserWarning: torch.set_default_tensor_type() is deprecated as of PyTorch 2.1, please use torch.set_default_dtype() and torch.set_default_device() as alternatives. (Triggered internally at /opt/conda/conda-bld/pytorch_1708025829503/work/torch/csrc/tensor/python_tensor.cpp:451.)\n",
      "  _C._set_default_tensor_type(t)\n"
     ]
    },
    {
     "name": "stdout",
     "output_type": "stream",
     "text": [
      "pretrained/checkpoint-cvrp-100.pt\n",
      "torch.Size([8, 1])\n",
      "torch.Size([8, 400])\n",
      "[2024-04-01 17:03:45] CVRPTester.py(144) : episode   1/  1, Elapsed[0.01m], Remain[0.00m], score:45.864, aug_score:44.222\n",
      "[2024-04-01 17:03:45] CVRPTester.py(150) :  *** Test Done *** \n",
      "[2024-04-01 17:03:45] CVRPTester.py(151) :  NO-AUG SCORE: 45.86405563354492 \n",
      "[2024-04-01 17:03:45] CVRPTester.py(152) :  AUGMENTATION SCORE: 44.221534729003906 \n",
      ">> Evaluation on ../../../../../VRP-Omni-modified/Vrp-Set-D/D-n401 finished within 0.87s\n",
      ">> Save final results to res/D-n401\n",
      "Test on \" ../../../../../VRP-Omni-modified/Vrp-Set-D/D-n401 \" Success\n",
      "-----------------------------------------------------------------------------------------------------------------\n",
      "[2024-04-01 17:03:48] test.py(117) : DEBUG_MODE: False\n",
      "[2024-04-01 17:03:48] test.py(118) : USE_CUDA: True, CUDA_DEVICE_NUM: 0\n",
      "[2024-04-01 17:03:48] test.py(119) : env_params{'problem_size': 50, 'pomo_size': 50, 'distribution': {'data_type': 'mixed', 'n_cluster': 3, 'n_cluster_mix': 1, 'lower': 0.2, 'upper': 0.8, 'std': 0.07}, 'load_path': 'data/vrp_uniform50_1000_seed1234.pkl', 'load_raw': None}\n",
      "[2024-04-01 17:03:48] test.py(119) : model_params{'embedding_dim': 64, 'sqrt_embedding_dim': 8.0, 'encoder_layer_num': 6, 'qkv_dim': 8, 'head_num': 8, 'logit_clipping': 10, 'ff_hidden_dim': 512, 'eval_type': 'argmax'}\n",
      "[2024-04-01 17:03:48] test.py(119) : tester_params{'use_cuda': True, 'cuda_device_num': 0, 'model_load': {'path': 'pretrained/checkpoint-cvrp-100.pt', 'epoch': 'test'}, 'test_episodes': 1000, 'test_batch_size': 1, 'augmentation_enable': True, 'aug_factor': 8, 'aug_batch_size': 1, 'test_data_load': {'enable': False, 'filename': ''}, 'test_set_path': '../../../../../VRP-Omni-modified/Vrp-Set-D/D-n405', 'test_set_opt_sol_path': '../../../../../VRP-Omni-modified/Vrp-Set-A/A-n33-sol', 'test_set_name': 'A-n33'}\n",
      "[2024-04-01 17:03:48] test.py(119) : logger_params{'log_file': {'desc': 'test_cvrp50_pretrained_epochtest', 'filename': 'log.txt', 'filepath': './result/20240401_180346_test_cvrp50_pretrained_epochtest'}}\n",
      "['../../../../../VRP-Omni-modified/Vrp-Set-D/D-n405/ORTEC-n405-k18.vrp']\n"
     ]
    },
    {
     "name": "stderr",
     "output_type": "stream",
     "text": [
      "/home/xunj/miniconda3/envs/amd/lib/python3.8/site-packages/torch/__init__.py:696: UserWarning: torch.set_default_tensor_type() is deprecated as of PyTorch 2.1, please use torch.set_default_dtype() and torch.set_default_device() as alternatives. (Triggered internally at /opt/conda/conda-bld/pytorch_1708025829503/work/torch/csrc/tensor/python_tensor.cpp:451.)\n",
      "  _C._set_default_tensor_type(t)\n"
     ]
    },
    {
     "name": "stdout",
     "output_type": "stream",
     "text": [
      "pretrained/checkpoint-cvrp-100.pt\n",
      "torch.Size([8, 1])\n",
      "torch.Size([8, 404])\n",
      "[2024-04-01 17:03:49] CVRPTester.py(144) : episode   1/  1, Elapsed[0.01m], Remain[0.00m], score:24.722, aug_score:24.348\n",
      "[2024-04-01 17:03:49] CVRPTester.py(150) :  *** Test Done *** \n",
      "[2024-04-01 17:03:49] CVRPTester.py(151) :  NO-AUG SCORE: 24.721641540527344 \n",
      "[2024-04-01 17:03:49] CVRPTester.py(152) :  AUGMENTATION SCORE: 24.347957611083984 \n",
      ">> Evaluation on ../../../../../VRP-Omni-modified/Vrp-Set-D/D-n405 finished within 0.84s\n",
      ">> Save final results to res/D-n405\n",
      "Test on \" ../../../../../VRP-Omni-modified/Vrp-Set-D/D-n405 \" Success\n",
      "-----------------------------------------------------------------------------------------------------------------\n",
      "[2024-04-01 17:03:53] test.py(117) : DEBUG_MODE: False\n",
      "[2024-04-01 17:03:53] test.py(118) : USE_CUDA: True, CUDA_DEVICE_NUM: 0\n",
      "[2024-04-01 17:03:53] test.py(119) : env_params{'problem_size': 50, 'pomo_size': 50, 'distribution': {'data_type': 'mixed', 'n_cluster': 3, 'n_cluster_mix': 1, 'lower': 0.2, 'upper': 0.8, 'std': 0.07}, 'load_path': 'data/vrp_uniform50_1000_seed1234.pkl', 'load_raw': None}\n",
      "[2024-04-01 17:03:53] test.py(119) : model_params{'embedding_dim': 64, 'sqrt_embedding_dim': 8.0, 'encoder_layer_num': 6, 'qkv_dim': 8, 'head_num': 8, 'logit_clipping': 10, 'ff_hidden_dim': 512, 'eval_type': 'argmax'}\n",
      "[2024-04-01 17:03:53] test.py(119) : tester_params{'use_cuda': True, 'cuda_device_num': 0, 'model_load': {'path': 'pretrained/checkpoint-cvrp-100.pt', 'epoch': 'test'}, 'test_episodes': 1000, 'test_batch_size': 1, 'augmentation_enable': True, 'aug_factor': 8, 'aug_batch_size': 1, 'test_data_load': {'enable': False, 'filename': ''}, 'test_set_path': '../../../../../VRP-Omni-modified/Vrp-Set-D/D-n455', 'test_set_opt_sol_path': '../../../../../VRP-Omni-modified/Vrp-Set-A/A-n33-sol', 'test_set_name': 'A-n33'}\n",
      "[2024-04-01 17:03:53] test.py(119) : logger_params{'log_file': {'desc': 'test_cvrp50_pretrained_epochtest', 'filename': 'log.txt', 'filepath': './result/20240401_180351_test_cvrp50_pretrained_epochtest'}}\n",
      "['../../../../../VRP-Omni-modified/Vrp-Set-D/D-n455/ORTEC-n455-k41.vrp']\n"
     ]
    },
    {
     "name": "stderr",
     "output_type": "stream",
     "text": [
      "/home/xunj/miniconda3/envs/amd/lib/python3.8/site-packages/torch/__init__.py:696: UserWarning: torch.set_default_tensor_type() is deprecated as of PyTorch 2.1, please use torch.set_default_dtype() and torch.set_default_device() as alternatives. (Triggered internally at /opt/conda/conda-bld/pytorch_1708025829503/work/torch/csrc/tensor/python_tensor.cpp:451.)\n",
      "  _C._set_default_tensor_type(t)\n"
     ]
    },
    {
     "name": "stdout",
     "output_type": "stream",
     "text": [
      "pretrained/checkpoint-cvrp-100.pt\n",
      "torch.Size([8, 1])\n",
      "torch.Size([8, 454])\n",
      "[2024-04-01 17:03:54] CVRPTester.py(144) : episode   1/  1, Elapsed[0.02m], Remain[0.00m], score:26.734, aug_score:25.818\n",
      "[2024-04-01 17:03:54] CVRPTester.py(150) :  *** Test Done *** \n",
      "[2024-04-01 17:03:54] CVRPTester.py(151) :  NO-AUG SCORE: 26.734163284301758 \n",
      "[2024-04-01 17:03:54] CVRPTester.py(152) :  AUGMENTATION SCORE: 25.817813873291016 \n",
      ">> Evaluation on ../../../../../VRP-Omni-modified/Vrp-Set-D/D-n455 finished within 1.04s\n",
      ">> Save final results to res/D-n455\n",
      "Test on \" ../../../../../VRP-Omni-modified/Vrp-Set-D/D-n455 \" Success\n",
      "-----------------------------------------------------------------------------------------------------------------\n",
      "[2024-04-01 17:03:58] test.py(117) : DEBUG_MODE: False\n",
      "[2024-04-01 17:03:58] test.py(118) : USE_CUDA: True, CUDA_DEVICE_NUM: 0\n",
      "[2024-04-01 17:03:58] test.py(119) : env_params{'problem_size': 50, 'pomo_size': 50, 'distribution': {'data_type': 'mixed', 'n_cluster': 3, 'n_cluster_mix': 1, 'lower': 0.2, 'upper': 0.8, 'std': 0.07}, 'load_path': 'data/vrp_uniform50_1000_seed1234.pkl', 'load_raw': None}\n",
      "[2024-04-01 17:03:58] test.py(119) : model_params{'embedding_dim': 64, 'sqrt_embedding_dim': 8.0, 'encoder_layer_num': 6, 'qkv_dim': 8, 'head_num': 8, 'logit_clipping': 10, 'ff_hidden_dim': 512, 'eval_type': 'argmax'}\n",
      "[2024-04-01 17:03:58] test.py(119) : tester_params{'use_cuda': True, 'cuda_device_num': 0, 'model_load': {'path': 'pretrained/checkpoint-cvrp-100.pt', 'epoch': 'test'}, 'test_episodes': 1000, 'test_batch_size': 1, 'augmentation_enable': True, 'aug_factor': 8, 'aug_batch_size': 1, 'test_data_load': {'enable': False, 'filename': ''}, 'test_set_path': '../../../../../VRP-Omni-modified/Vrp-Set-D/D-n501', 'test_set_opt_sol_path': '../../../../../VRP-Omni-modified/Vrp-Set-A/A-n33-sol', 'test_set_name': 'A-n33'}\n",
      "[2024-04-01 17:03:58] test.py(119) : logger_params{'log_file': {'desc': 'test_cvrp50_pretrained_epochtest', 'filename': 'log.txt', 'filepath': './result/20240401_180356_test_cvrp50_pretrained_epochtest'}}\n",
      "['../../../../../VRP-Omni-modified/Vrp-Set-D/D-n501/Loggi-n501-k24.vrp']\n"
     ]
    },
    {
     "name": "stderr",
     "output_type": "stream",
     "text": [
      "/home/xunj/miniconda3/envs/amd/lib/python3.8/site-packages/torch/__init__.py:696: UserWarning: torch.set_default_tensor_type() is deprecated as of PyTorch 2.1, please use torch.set_default_dtype() and torch.set_default_device() as alternatives. (Triggered internally at /opt/conda/conda-bld/pytorch_1708025829503/work/torch/csrc/tensor/python_tensor.cpp:451.)\n",
      "  _C._set_default_tensor_type(t)\n"
     ]
    },
    {
     "name": "stdout",
     "output_type": "stream",
     "text": [
      "pretrained/checkpoint-cvrp-100.pt\n",
      "torch.Size([8, 1])\n",
      "torch.Size([8, 500])\n",
      "[2024-04-01 17:04:00] CVRPTester.py(144) : episode   1/  1, Elapsed[0.02m], Remain[0.00m], score:25.042, aug_score:25.040\n",
      "[2024-04-01 17:04:00] CVRPTester.py(150) :  *** Test Done *** \n",
      "[2024-04-01 17:04:00] CVRPTester.py(151) :  NO-AUG SCORE: 25.042478561401367 \n",
      "[2024-04-01 17:04:00] CVRPTester.py(152) :  AUGMENTATION SCORE: 25.039958953857422 \n",
      ">> Evaluation on ../../../../../VRP-Omni-modified/Vrp-Set-D/D-n501 finished within 1.15s\n",
      ">> Save final results to res/D-n501\n",
      "Test on \" ../../../../../VRP-Omni-modified/Vrp-Set-D/D-n501 \" Success\n",
      "-----------------------------------------------------------------------------------------------------------------\n",
      "[2024-04-01 17:04:03] test.py(117) : DEBUG_MODE: False\n",
      "[2024-04-01 17:04:03] test.py(118) : USE_CUDA: True, CUDA_DEVICE_NUM: 0\n",
      "[2024-04-01 17:04:03] test.py(119) : env_params{'problem_size': 50, 'pomo_size': 50, 'distribution': {'data_type': 'mixed', 'n_cluster': 3, 'n_cluster_mix': 1, 'lower': 0.2, 'upper': 0.8, 'std': 0.07}, 'load_path': 'data/vrp_uniform50_1000_seed1234.pkl', 'load_raw': None}\n",
      "[2024-04-01 17:04:03] test.py(119) : model_params{'embedding_dim': 64, 'sqrt_embedding_dim': 8.0, 'encoder_layer_num': 6, 'qkv_dim': 8, 'head_num': 8, 'logit_clipping': 10, 'ff_hidden_dim': 512, 'eval_type': 'argmax'}\n",
      "[2024-04-01 17:04:03] test.py(119) : tester_params{'use_cuda': True, 'cuda_device_num': 0, 'model_load': {'path': 'pretrained/checkpoint-cvrp-100.pt', 'epoch': 'test'}, 'test_episodes': 1000, 'test_batch_size': 1, 'augmentation_enable': True, 'aug_factor': 8, 'aug_batch_size': 1, 'test_data_load': {'enable': False, 'filename': ''}, 'test_set_path': '../../../../../VRP-Omni-modified/Vrp-Set-D/D-n510', 'test_set_opt_sol_path': '../../../../../VRP-Omni-modified/Vrp-Set-A/A-n33-sol', 'test_set_name': 'A-n33'}\n",
      "[2024-04-01 17:04:03] test.py(119) : logger_params{'log_file': {'desc': 'test_cvrp50_pretrained_epochtest', 'filename': 'log.txt', 'filepath': './result/20240401_180401_test_cvrp50_pretrained_epochtest'}}\n",
      "['../../../../../VRP-Omni-modified/Vrp-Set-D/D-n510/ORTEC-n510-k23.vrp']\n"
     ]
    },
    {
     "name": "stderr",
     "output_type": "stream",
     "text": [
      "/home/xunj/miniconda3/envs/amd/lib/python3.8/site-packages/torch/__init__.py:696: UserWarning: torch.set_default_tensor_type() is deprecated as of PyTorch 2.1, please use torch.set_default_dtype() and torch.set_default_device() as alternatives. (Triggered internally at /opt/conda/conda-bld/pytorch_1708025829503/work/torch/csrc/tensor/python_tensor.cpp:451.)\n",
      "  _C._set_default_tensor_type(t)\n"
     ]
    },
    {
     "name": "stdout",
     "output_type": "stream",
     "text": [
      "pretrained/checkpoint-cvrp-100.pt\n",
      "torch.Size([8, 1])\n",
      "torch.Size([8, 509])\n",
      "[2024-04-01 17:04:05] CVRPTester.py(144) : episode   1/  1, Elapsed[0.02m], Remain[0.00m], score:48.567, aug_score:40.289\n",
      "[2024-04-01 17:04:05] CVRPTester.py(150) :  *** Test Done *** \n",
      "[2024-04-01 17:04:05] CVRPTester.py(151) :  NO-AUG SCORE: 48.566829681396484 \n",
      "[2024-04-01 17:04:05] CVRPTester.py(152) :  AUGMENTATION SCORE: 40.28942108154297 \n",
      ">> Evaluation on ../../../../../VRP-Omni-modified/Vrp-Set-D/D-n510 finished within 1.18s\n",
      ">> Save final results to res/D-n510\n",
      "Test on \" ../../../../../VRP-Omni-modified/Vrp-Set-D/D-n510 \" Success\n",
      "-----------------------------------------------------------------------------------------------------------------\n",
      "[2024-04-01 17:04:08] test.py(117) : DEBUG_MODE: False\n",
      "[2024-04-01 17:04:08] test.py(118) : USE_CUDA: True, CUDA_DEVICE_NUM: 0\n",
      "[2024-04-01 17:04:08] test.py(119) : env_params{'problem_size': 50, 'pomo_size': 50, 'distribution': {'data_type': 'mixed', 'n_cluster': 3, 'n_cluster_mix': 1, 'lower': 0.2, 'upper': 0.8, 'std': 0.07}, 'load_path': 'data/vrp_uniform50_1000_seed1234.pkl', 'load_raw': None}\n",
      "[2024-04-01 17:04:08] test.py(119) : model_params{'embedding_dim': 64, 'sqrt_embedding_dim': 8.0, 'encoder_layer_num': 6, 'qkv_dim': 8, 'head_num': 8, 'logit_clipping': 10, 'ff_hidden_dim': 512, 'eval_type': 'argmax'}\n",
      "[2024-04-01 17:04:08] test.py(119) : tester_params{'use_cuda': True, 'cuda_device_num': 0, 'model_load': {'path': 'pretrained/checkpoint-cvrp-100.pt', 'epoch': 'test'}, 'test_episodes': 1000, 'test_batch_size': 1, 'augmentation_enable': True, 'aug_factor': 8, 'aug_batch_size': 1, 'test_data_load': {'enable': False, 'filename': ''}, 'test_set_path': '../../../../../VRP-Omni-modified/Vrp-Set-D/D-n601', 'test_set_opt_sol_path': '../../../../../VRP-Omni-modified/Vrp-Set-A/A-n33-sol', 'test_set_name': 'A-n33'}\n",
      "[2024-04-01 17:04:08] test.py(119) : logger_params{'log_file': {'desc': 'test_cvrp50_pretrained_epochtest', 'filename': 'log.txt', 'filepath': './result/20240401_180406_test_cvrp50_pretrained_epochtest'}}\n",
      "['../../../../../VRP-Omni-modified/Vrp-Set-D/D-n601/Loggi-n601-k19.vrp', '../../../../../VRP-Omni-modified/Vrp-Set-D/D-n601/Loggi-n601-k42.vrp']\n"
     ]
    },
    {
     "name": "stderr",
     "output_type": "stream",
     "text": [
      "/home/xunj/miniconda3/envs/amd/lib/python3.8/site-packages/torch/__init__.py:696: UserWarning: torch.set_default_tensor_type() is deprecated as of PyTorch 2.1, please use torch.set_default_dtype() and torch.set_default_device() as alternatives. (Triggered internally at /opt/conda/conda-bld/pytorch_1708025829503/work/torch/csrc/tensor/python_tensor.cpp:451.)\n",
      "  _C._set_default_tensor_type(t)\n"
     ]
    },
    {
     "name": "stdout",
     "output_type": "stream",
     "text": [
      "pretrained/checkpoint-cvrp-100.pt\n",
      "torch.Size([8, 1])\n",
      "torch.Size([8, 600])\n",
      "[2024-04-01 17:04:10] CVRPTester.py(144) : episode   1/  2, Elapsed[0.03m], Remain[0.03m], score:31.784, aug_score:22.897\n",
      "torch.Size([8, 1])\n",
      "torch.Size([8, 600])\n",
      "[2024-04-01 17:04:11] CVRPTester.py(144) : episode   2/  2, Elapsed[0.05m], Remain[0.00m], score:46.895, aug_score:46.250\n",
      "[2024-04-01 17:04:11] CVRPTester.py(150) :  *** Test Done *** \n",
      "[2024-04-01 17:04:11] CVRPTester.py(151) :  NO-AUG SCORE: 39.33939743041992 \n",
      "[2024-04-01 17:04:11] CVRPTester.py(152) :  AUGMENTATION SCORE: 34.57380676269531 \n",
      ">> Evaluation on ../../../../../VRP-Omni-modified/Vrp-Set-D/D-n601 finished within 1.22s\n",
      ">> Save final results to res/D-n601\n",
      "Test on \" ../../../../../VRP-Omni-modified/Vrp-Set-D/D-n601 \" Success\n",
      "-----------------------------------------------------------------------------------------------------------------\n",
      "[2024-04-01 17:04:15] test.py(117) : DEBUG_MODE: False\n",
      "[2024-04-01 17:04:15] test.py(118) : USE_CUDA: True, CUDA_DEVICE_NUM: 0\n",
      "[2024-04-01 17:04:15] test.py(119) : env_params{'problem_size': 50, 'pomo_size': 50, 'distribution': {'data_type': 'mixed', 'n_cluster': 3, 'n_cluster_mix': 1, 'lower': 0.2, 'upper': 0.8, 'std': 0.07}, 'load_path': 'data/vrp_uniform50_1000_seed1234.pkl', 'load_raw': None}\n",
      "[2024-04-01 17:04:15] test.py(119) : model_params{'embedding_dim': 64, 'sqrt_embedding_dim': 8.0, 'encoder_layer_num': 6, 'qkv_dim': 8, 'head_num': 8, 'logit_clipping': 10, 'ff_hidden_dim': 512, 'eval_type': 'argmax'}\n",
      "[2024-04-01 17:04:15] test.py(119) : tester_params{'use_cuda': True, 'cuda_device_num': 0, 'model_load': {'path': 'pretrained/checkpoint-cvrp-100.pt', 'epoch': 'test'}, 'test_episodes': 1000, 'test_batch_size': 1, 'augmentation_enable': True, 'aug_factor': 8, 'aug_batch_size': 1, 'test_data_load': {'enable': False, 'filename': ''}, 'test_set_path': '../../../../../VRP-Omni-modified/Vrp-Set-D/D-n701', 'test_set_opt_sol_path': '../../../../../VRP-Omni-modified/Vrp-Set-A/A-n33-sol', 'test_set_name': 'A-n33'}\n",
      "[2024-04-01 17:04:15] test.py(119) : logger_params{'log_file': {'desc': 'test_cvrp50_pretrained_epochtest', 'filename': 'log.txt', 'filepath': './result/20240401_180413_test_cvrp50_pretrained_epochtest'}}\n",
      "['../../../../../VRP-Omni-modified/Vrp-Set-D/D-n701/ORTEC-n701-k64.vrp']\n"
     ]
    },
    {
     "name": "stderr",
     "output_type": "stream",
     "text": [
      "/home/xunj/miniconda3/envs/amd/lib/python3.8/site-packages/torch/__init__.py:696: UserWarning: torch.set_default_tensor_type() is deprecated as of PyTorch 2.1, please use torch.set_default_dtype() and torch.set_default_device() as alternatives. (Triggered internally at /opt/conda/conda-bld/pytorch_1708025829503/work/torch/csrc/tensor/python_tensor.cpp:451.)\n",
      "  _C._set_default_tensor_type(t)\n"
     ]
    },
    {
     "name": "stdout",
     "output_type": "stream",
     "text": [
      "pretrained/checkpoint-cvrp-100.pt\n",
      "torch.Size([8, 1])\n",
      "torch.Size([8, 700])\n",
      "[2024-04-01 17:04:17] CVRPTester.py(144) : episode   1/  1, Elapsed[0.04m], Remain[0.00m], score:67.652, aug_score:56.477\n",
      "[2024-04-01 17:04:17] CVRPTester.py(150) :  *** Test Done *** \n",
      "[2024-04-01 17:04:17] CVRPTester.py(151) :  NO-AUG SCORE: 67.65185546875 \n",
      "[2024-04-01 17:04:17] CVRPTester.py(152) :  AUGMENTATION SCORE: 56.47734832763672 \n",
      ">> Evaluation on ../../../../../VRP-Omni-modified/Vrp-Set-D/D-n701 finished within 2.24s\n",
      ">> Save final results to res/D-n701\n",
      "Test on \" ../../../../../VRP-Omni-modified/Vrp-Set-D/D-n701 \" Success\n",
      "-----------------------------------------------------------------------------------------------------------------\n",
      "[2024-04-01 17:04:21] test.py(117) : DEBUG_MODE: False\n",
      "[2024-04-01 17:04:21] test.py(118) : USE_CUDA: True, CUDA_DEVICE_NUM: 0\n",
      "[2024-04-01 17:04:21] test.py(119) : env_params{'problem_size': 50, 'pomo_size': 50, 'distribution': {'data_type': 'mixed', 'n_cluster': 3, 'n_cluster_mix': 1, 'lower': 0.2, 'upper': 0.8, 'std': 0.07}, 'load_path': 'data/vrp_uniform50_1000_seed1234.pkl', 'load_raw': None}\n",
      "[2024-04-01 17:04:21] test.py(119) : model_params{'embedding_dim': 64, 'sqrt_embedding_dim': 8.0, 'encoder_layer_num': 6, 'qkv_dim': 8, 'head_num': 8, 'logit_clipping': 10, 'ff_hidden_dim': 512, 'eval_type': 'argmax'}\n",
      "[2024-04-01 17:04:21] test.py(119) : tester_params{'use_cuda': True, 'cuda_device_num': 0, 'model_load': {'path': 'pretrained/checkpoint-cvrp-100.pt', 'epoch': 'test'}, 'test_episodes': 1000, 'test_batch_size': 1, 'augmentation_enable': True, 'aug_factor': 8, 'aug_batch_size': 1, 'test_data_load': {'enable': False, 'filename': ''}, 'test_set_path': '../../../../../VRP-Omni-modified/Vrp-Set-D/D-n901', 'test_set_opt_sol_path': '../../../../../VRP-Omni-modified/Vrp-Set-A/A-n33-sol', 'test_set_name': 'A-n33'}\n",
      "[2024-04-01 17:04:21] test.py(119) : logger_params{'log_file': {'desc': 'test_cvrp50_pretrained_epochtest', 'filename': 'log.txt', 'filepath': './result/20240401_180419_test_cvrp50_pretrained_epochtest'}}\n",
      "['../../../../../VRP-Omni-modified/Vrp-Set-D/D-n901/Loggi-n901-k42.vrp']\n"
     ]
    },
    {
     "name": "stderr",
     "output_type": "stream",
     "text": [
      "/home/xunj/miniconda3/envs/amd/lib/python3.8/site-packages/torch/__init__.py:696: UserWarning: torch.set_default_tensor_type() is deprecated as of PyTorch 2.1, please use torch.set_default_dtype() and torch.set_default_device() as alternatives. (Triggered internally at /opt/conda/conda-bld/pytorch_1708025829503/work/torch/csrc/tensor/python_tensor.cpp:451.)\n",
      "  _C._set_default_tensor_type(t)\n"
     ]
    },
    {
     "name": "stdout",
     "output_type": "stream",
     "text": [
      "pretrained/checkpoint-cvrp-100.pt\n",
      "torch.Size([8, 1])\n",
      "torch.Size([8, 900])\n",
      "[2024-04-01 17:04:26] CVRPTester.py(144) : episode   1/  1, Elapsed[0.07m], Remain[0.00m], score:45.322, aug_score:42.781\n",
      "[2024-04-01 17:04:26] CVRPTester.py(150) :  *** Test Done *** \n",
      "[2024-04-01 17:04:26] CVRPTester.py(151) :  NO-AUG SCORE: 45.32228088378906 \n",
      "[2024-04-01 17:04:26] CVRPTester.py(152) :  AUGMENTATION SCORE: 42.78142547607422 \n",
      ">> Evaluation on ../../../../../VRP-Omni-modified/Vrp-Set-D/D-n901 finished within 4.01s\n",
      ">> Save final results to res/D-n901\n",
      "Test on \" ../../../../../VRP-Omni-modified/Vrp-Set-D/D-n901 \" Success\n",
      "-----------------------------------------------------------------------------------------------------------------\n",
      "[2024-04-01 17:04:29] test.py(117) : DEBUG_MODE: False\n",
      "[2024-04-01 17:04:29] test.py(118) : USE_CUDA: True, CUDA_DEVICE_NUM: 0\n",
      "[2024-04-01 17:04:29] test.py(119) : env_params{'problem_size': 50, 'pomo_size': 50, 'distribution': {'data_type': 'mixed', 'n_cluster': 3, 'n_cluster_mix': 1, 'lower': 0.2, 'upper': 0.8, 'std': 0.07}, 'load_path': 'data/vrp_uniform50_1000_seed1234.pkl', 'load_raw': None}\n",
      "[2024-04-01 17:04:29] test.py(119) : model_params{'embedding_dim': 64, 'sqrt_embedding_dim': 8.0, 'encoder_layer_num': 6, 'qkv_dim': 8, 'head_num': 8, 'logit_clipping': 10, 'ff_hidden_dim': 512, 'eval_type': 'argmax'}\n",
      "[2024-04-01 17:04:29] test.py(119) : tester_params{'use_cuda': True, 'cuda_device_num': 0, 'model_load': {'path': 'pretrained/checkpoint-cvrp-100.pt', 'epoch': 'test'}, 'test_episodes': 1000, 'test_batch_size': 1, 'augmentation_enable': True, 'aug_factor': 8, 'aug_batch_size': 1, 'test_data_load': {'enable': False, 'filename': ''}, 'test_set_path': '../../../../../VRP-Omni-modified/Vrp-Set-E/E-n10', 'test_set_opt_sol_path': '../../../../../VRP-Omni-modified/Vrp-Set-A/A-n33-sol', 'test_set_name': 'A-n33'}\n",
      "[2024-04-01 17:04:29] test.py(119) : logger_params{'log_file': {'desc': 'test_cvrp50_pretrained_epochtest', 'filename': 'log.txt', 'filepath': './result/20240401_180427_test_cvrp50_pretrained_epochtest'}}\n",
      "['../../../../../VRP-Omni-modified/Vrp-Set-E/E-n10/E-n101-k14.vrp', '../../../../../VRP-Omni-modified/Vrp-Set-E/E-n10/E-n101-k8.vrp']\n"
     ]
    },
    {
     "name": "stderr",
     "output_type": "stream",
     "text": [
      "/home/xunj/miniconda3/envs/amd/lib/python3.8/site-packages/torch/__init__.py:696: UserWarning: torch.set_default_tensor_type() is deprecated as of PyTorch 2.1, please use torch.set_default_dtype() and torch.set_default_device() as alternatives. (Triggered internally at /opt/conda/conda-bld/pytorch_1708025829503/work/torch/csrc/tensor/python_tensor.cpp:451.)\n",
      "  _C._set_default_tensor_type(t)\n"
     ]
    },
    {
     "name": "stdout",
     "output_type": "stream",
     "text": [
      "pretrained/checkpoint-cvrp-100.pt\n",
      "torch.Size([8, 1])\n",
      "torch.Size([8, 100])\n",
      "[2024-04-01 17:04:30] CVRPTester.py(144) : episode   1/  2, Elapsed[0.01m], Remain[0.01m], score:1.227, aug_score:1.146\n",
      "torch.Size([8, 1])\n",
      "torch.Size([8, 100])\n",
      "[2024-04-01 17:04:30] CVRPTester.py(144) : episode   2/  2, Elapsed[0.01m], Remain[0.00m], score:0.913, aug_score:0.864\n",
      "[2024-04-01 17:04:30] CVRPTester.py(150) :  *** Test Done *** \n",
      "[2024-04-01 17:04:30] CVRPTester.py(151) :  NO-AUG SCORE: 1.0700128078460693 \n",
      "[2024-04-01 17:04:30] CVRPTester.py(152) :  AUGMENTATION SCORE: 1.0050835609436035 \n",
      ">> Evaluation on ../../../../../VRP-Omni-modified/Vrp-Set-E/E-n10 finished within 0.12s\n",
      ">> Save final results to res/E-n10\n",
      "Test on \" ../../../../../VRP-Omni-modified/Vrp-Set-E/E-n10 \" Success\n",
      "-----------------------------------------------------------------------------------------------------------------\n",
      "[2024-04-01 17:04:34] test.py(117) : DEBUG_MODE: False\n",
      "[2024-04-01 17:04:34] test.py(118) : USE_CUDA: True, CUDA_DEVICE_NUM: 0\n",
      "[2024-04-01 17:04:34] test.py(119) : env_params{'problem_size': 50, 'pomo_size': 50, 'distribution': {'data_type': 'mixed', 'n_cluster': 3, 'n_cluster_mix': 1, 'lower': 0.2, 'upper': 0.8, 'std': 0.07}, 'load_path': 'data/vrp_uniform50_1000_seed1234.pkl', 'load_raw': None}\n",
      "[2024-04-01 17:04:34] test.py(119) : model_params{'embedding_dim': 64, 'sqrt_embedding_dim': 8.0, 'encoder_layer_num': 6, 'qkv_dim': 8, 'head_num': 8, 'logit_clipping': 10, 'ff_hidden_dim': 512, 'eval_type': 'argmax'}\n",
      "[2024-04-01 17:04:34] test.py(119) : tester_params{'use_cuda': True, 'cuda_device_num': 0, 'model_load': {'path': 'pretrained/checkpoint-cvrp-100.pt', 'epoch': 'test'}, 'test_episodes': 1000, 'test_batch_size': 1, 'augmentation_enable': True, 'aug_factor': 8, 'aug_batch_size': 1, 'test_data_load': {'enable': False, 'filename': ''}, 'test_set_path': '../../../../../VRP-Omni-modified/Vrp-Set-E/E-n13', 'test_set_opt_sol_path': '../../../../../VRP-Omni-modified/Vrp-Set-A/A-n33-sol', 'test_set_name': 'A-n33'}\n",
      "[2024-04-01 17:04:34] test.py(119) : logger_params{'log_file': {'desc': 'test_cvrp50_pretrained_epochtest', 'filename': 'log.txt', 'filepath': './result/20240401_180432_test_cvrp50_pretrained_epochtest'}}\n",
      "['../../../../../VRP-Omni-modified/Vrp-Set-E/E-n13/E-n13-k4.vrp']\n"
     ]
    },
    {
     "name": "stderr",
     "output_type": "stream",
     "text": [
      "/home/xunj/miniconda3/envs/amd/lib/python3.8/site-packages/torch/__init__.py:696: UserWarning: torch.set_default_tensor_type() is deprecated as of PyTorch 2.1, please use torch.set_default_dtype() and torch.set_default_device() as alternatives. (Triggered internally at /opt/conda/conda-bld/pytorch_1708025829503/work/torch/csrc/tensor/python_tensor.cpp:451.)\n",
      "  _C._set_default_tensor_type(t)\n",
      "Traceback (most recent call last):\n",
      "  File \"test.py\", line 140, in <module>\n",
      "    main()\n",
      "  File \"test.py\", line 103, in main\n",
      "    tester = Tester(env_params=env_params,\n",
      "  File \"/home/xunj/GradWork/AMDKD-main/AMDKD-main/AMDKD-POMO/CVRP/POMO/CVRPTester.py\", line 66, in __init__\n",
      "    self.test_data = self.pack_cvrplib(self.path_list)[: self.tester_params['test_episodes']]\n",
      "  File \"/home/xunj/GradWork/AMDKD-main/AMDKD-main/AMDKD-POMO/CVRP/POMO/CVRPTester.py\", line 230, in pack_cvrplib\n",
      "    original_locations = locations[:, 1:]\n",
      "UnboundLocalError: local variable 'locations' referenced before assignment\n"
     ]
    },
    {
     "name": "stdout",
     "output_type": "stream",
     "text": [
      "Check out issue on set:  ../../../../../VRP-Omni-modified/Vrp-Set-E/E-n13\n",
      "[2024-04-01 17:04:37] test.py(117) : DEBUG_MODE: False\n",
      "[2024-04-01 17:04:37] test.py(118) : USE_CUDA: True, CUDA_DEVICE_NUM: 0\n",
      "[2024-04-01 17:04:37] test.py(119) : env_params{'problem_size': 50, 'pomo_size': 50, 'distribution': {'data_type': 'mixed', 'n_cluster': 3, 'n_cluster_mix': 1, 'lower': 0.2, 'upper': 0.8, 'std': 0.07}, 'load_path': 'data/vrp_uniform50_1000_seed1234.pkl', 'load_raw': None}\n",
      "[2024-04-01 17:04:37] test.py(119) : model_params{'embedding_dim': 64, 'sqrt_embedding_dim': 8.0, 'encoder_layer_num': 6, 'qkv_dim': 8, 'head_num': 8, 'logit_clipping': 10, 'ff_hidden_dim': 512, 'eval_type': 'argmax'}\n",
      "[2024-04-01 17:04:37] test.py(119) : tester_params{'use_cuda': True, 'cuda_device_num': 0, 'model_load': {'path': 'pretrained/checkpoint-cvrp-100.pt', 'epoch': 'test'}, 'test_episodes': 1000, 'test_batch_size': 1, 'augmentation_enable': True, 'aug_factor': 8, 'aug_batch_size': 1, 'test_data_load': {'enable': False, 'filename': ''}, 'test_set_path': '../../../../../VRP-Omni-modified/Vrp-Set-E/E-n22', 'test_set_opt_sol_path': '../../../../../VRP-Omni-modified/Vrp-Set-A/A-n33-sol', 'test_set_name': 'A-n33'}\n",
      "[2024-04-01 17:04:37] test.py(119) : logger_params{'log_file': {'desc': 'test_cvrp50_pretrained_epochtest', 'filename': 'log.txt', 'filepath': './result/20240401_180435_test_cvrp50_pretrained_epochtest'}}\n",
      "['../../../../../VRP-Omni-modified/Vrp-Set-E/E-n22/E-n22-k4.vrp']\n"
     ]
    },
    {
     "name": "stderr",
     "output_type": "stream",
     "text": [
      "/home/xunj/miniconda3/envs/amd/lib/python3.8/site-packages/torch/__init__.py:696: UserWarning: torch.set_default_tensor_type() is deprecated as of PyTorch 2.1, please use torch.set_default_dtype() and torch.set_default_device() as alternatives. (Triggered internally at /opt/conda/conda-bld/pytorch_1708025829503/work/torch/csrc/tensor/python_tensor.cpp:451.)\n",
      "  _C._set_default_tensor_type(t)\n"
     ]
    },
    {
     "name": "stdout",
     "output_type": "stream",
     "text": [
      "pretrained/checkpoint-cvrp-100.pt\n",
      "torch.Size([8, 1])\n",
      "torch.Size([8, 21])\n",
      "[2024-04-01 17:04:38] CVRPTester.py(144) : episode   1/  1, Elapsed[0.01m], Remain[0.00m], score:0.771, aug_score:0.622\n",
      "[2024-04-01 17:04:38] CVRPTester.py(150) :  *** Test Done *** \n",
      "[2024-04-01 17:04:38] CVRPTester.py(151) :  NO-AUG SCORE: 0.771041989326477 \n",
      "[2024-04-01 17:04:38] CVRPTester.py(152) :  AUGMENTATION SCORE: 0.6221857070922852 \n",
      ">> Evaluation on ../../../../../VRP-Omni-modified/Vrp-Set-E/E-n22 finished within 0.40s\n",
      ">> Save final results to res/E-n22\n",
      "Test on \" ../../../../../VRP-Omni-modified/Vrp-Set-E/E-n22 \" Success\n",
      "-----------------------------------------------------------------------------------------------------------------\n",
      "[2024-04-01 17:04:42] test.py(117) : DEBUG_MODE: False\n",
      "[2024-04-01 17:04:42] test.py(118) : USE_CUDA: True, CUDA_DEVICE_NUM: 0\n",
      "[2024-04-01 17:04:42] test.py(119) : env_params{'problem_size': 50, 'pomo_size': 50, 'distribution': {'data_type': 'mixed', 'n_cluster': 3, 'n_cluster_mix': 1, 'lower': 0.2, 'upper': 0.8, 'std': 0.07}, 'load_path': 'data/vrp_uniform50_1000_seed1234.pkl', 'load_raw': None}\n",
      "[2024-04-01 17:04:42] test.py(119) : model_params{'embedding_dim': 64, 'sqrt_embedding_dim': 8.0, 'encoder_layer_num': 6, 'qkv_dim': 8, 'head_num': 8, 'logit_clipping': 10, 'ff_hidden_dim': 512, 'eval_type': 'argmax'}\n",
      "[2024-04-01 17:04:42] test.py(119) : tester_params{'use_cuda': True, 'cuda_device_num': 0, 'model_load': {'path': 'pretrained/checkpoint-cvrp-100.pt', 'epoch': 'test'}, 'test_episodes': 1000, 'test_batch_size': 1, 'augmentation_enable': True, 'aug_factor': 8, 'aug_batch_size': 1, 'test_data_load': {'enable': False, 'filename': ''}, 'test_set_path': '../../../../../VRP-Omni-modified/Vrp-Set-E/E-n23', 'test_set_opt_sol_path': '../../../../../VRP-Omni-modified/Vrp-Set-A/A-n33-sol', 'test_set_name': 'A-n33'}\n",
      "[2024-04-01 17:04:42] test.py(119) : logger_params{'log_file': {'desc': 'test_cvrp50_pretrained_epochtest', 'filename': 'log.txt', 'filepath': './result/20240401_180440_test_cvrp50_pretrained_epochtest'}}\n",
      "['../../../../../VRP-Omni-modified/Vrp-Set-E/E-n23/E-n23-k3.vrp']\n"
     ]
    },
    {
     "name": "stderr",
     "output_type": "stream",
     "text": [
      "/home/xunj/miniconda3/envs/amd/lib/python3.8/site-packages/torch/__init__.py:696: UserWarning: torch.set_default_tensor_type() is deprecated as of PyTorch 2.1, please use torch.set_default_dtype() and torch.set_default_device() as alternatives. (Triggered internally at /opt/conda/conda-bld/pytorch_1708025829503/work/torch/csrc/tensor/python_tensor.cpp:451.)\n",
      "  _C._set_default_tensor_type(t)\n"
     ]
    },
    {
     "name": "stdout",
     "output_type": "stream",
     "text": [
      "pretrained/checkpoint-cvrp-100.pt\n",
      "torch.Size([8, 1])\n",
      "torch.Size([8, 22])\n",
      "[2024-04-01 17:04:42] CVRPTester.py(144) : episode   1/  1, Elapsed[0.01m], Remain[0.00m], score:1.102, aug_score:0.961\n",
      "[2024-04-01 17:04:42] CVRPTester.py(150) :  *** Test Done *** \n",
      "[2024-04-01 17:04:42] CVRPTester.py(151) :  NO-AUG SCORE: 1.1024428606033325 \n",
      "[2024-04-01 17:04:42] CVRPTester.py(152) :  AUGMENTATION SCORE: 0.9606537818908691 \n",
      ">> Evaluation on ../../../../../VRP-Omni-modified/Vrp-Set-E/E-n23 finished within 0.40s\n",
      ">> Save final results to res/E-n23\n",
      "Test on \" ../../../../../VRP-Omni-modified/Vrp-Set-E/E-n23 \" Success\n",
      "-----------------------------------------------------------------------------------------------------------------\n",
      "[2024-04-01 17:04:46] test.py(117) : DEBUG_MODE: False\n",
      "[2024-04-01 17:04:46] test.py(118) : USE_CUDA: True, CUDA_DEVICE_NUM: 0\n",
      "[2024-04-01 17:04:46] test.py(119) : env_params{'problem_size': 50, 'pomo_size': 50, 'distribution': {'data_type': 'mixed', 'n_cluster': 3, 'n_cluster_mix': 1, 'lower': 0.2, 'upper': 0.8, 'std': 0.07}, 'load_path': 'data/vrp_uniform50_1000_seed1234.pkl', 'load_raw': None}\n",
      "[2024-04-01 17:04:46] test.py(119) : model_params{'embedding_dim': 64, 'sqrt_embedding_dim': 8.0, 'encoder_layer_num': 6, 'qkv_dim': 8, 'head_num': 8, 'logit_clipping': 10, 'ff_hidden_dim': 512, 'eval_type': 'argmax'}\n",
      "[2024-04-01 17:04:46] test.py(119) : tester_params{'use_cuda': True, 'cuda_device_num': 0, 'model_load': {'path': 'pretrained/checkpoint-cvrp-100.pt', 'epoch': 'test'}, 'test_episodes': 1000, 'test_batch_size': 1, 'augmentation_enable': True, 'aug_factor': 8, 'aug_batch_size': 1, 'test_data_load': {'enable': False, 'filename': ''}, 'test_set_path': '../../../../../VRP-Omni-modified/Vrp-Set-E/E-n30', 'test_set_opt_sol_path': '../../../../../VRP-Omni-modified/Vrp-Set-A/A-n33-sol', 'test_set_name': 'A-n33'}\n",
      "[2024-04-01 17:04:46] test.py(119) : logger_params{'log_file': {'desc': 'test_cvrp50_pretrained_epochtest', 'filename': 'log.txt', 'filepath': './result/20240401_180444_test_cvrp50_pretrained_epochtest'}}\n",
      "['../../../../../VRP-Omni-modified/Vrp-Set-E/E-n30/E-n30-k3.vrp']\n"
     ]
    },
    {
     "name": "stderr",
     "output_type": "stream",
     "text": [
      "/home/xunj/miniconda3/envs/amd/lib/python3.8/site-packages/torch/__init__.py:696: UserWarning: torch.set_default_tensor_type() is deprecated as of PyTorch 2.1, please use torch.set_default_dtype() and torch.set_default_device() as alternatives. (Triggered internally at /opt/conda/conda-bld/pytorch_1708025829503/work/torch/csrc/tensor/python_tensor.cpp:451.)\n",
      "  _C._set_default_tensor_type(t)\n"
     ]
    },
    {
     "name": "stdout",
     "output_type": "stream",
     "text": [
      "pretrained/checkpoint-cvrp-100.pt\n",
      "torch.Size([8, 1])\n",
      "torch.Size([8, 29])\n",
      "[2024-04-01 17:04:46] CVRPTester.py(144) : episode   1/  1, Elapsed[0.01m], Remain[0.00m], score:0.968, aug_score:0.685\n",
      "[2024-04-01 17:04:46] CVRPTester.py(150) :  *** Test Done *** \n",
      "[2024-04-01 17:04:46] CVRPTester.py(151) :  NO-AUG SCORE: 0.9683888554573059 \n",
      "[2024-04-01 17:04:46] CVRPTester.py(152) :  AUGMENTATION SCORE: 0.6845338344573975 \n",
      ">> Evaluation on ../../../../../VRP-Omni-modified/Vrp-Set-E/E-n30 finished within 0.40s\n",
      ">> Save final results to res/E-n30\n",
      "Test on \" ../../../../../VRP-Omni-modified/Vrp-Set-E/E-n30 \" Success\n",
      "-----------------------------------------------------------------------------------------------------------------\n",
      "[2024-04-01 17:04:50] test.py(117) : DEBUG_MODE: False\n",
      "[2024-04-01 17:04:50] test.py(118) : USE_CUDA: True, CUDA_DEVICE_NUM: 0\n",
      "[2024-04-01 17:04:50] test.py(119) : env_params{'problem_size': 50, 'pomo_size': 50, 'distribution': {'data_type': 'mixed', 'n_cluster': 3, 'n_cluster_mix': 1, 'lower': 0.2, 'upper': 0.8, 'std': 0.07}, 'load_path': 'data/vrp_uniform50_1000_seed1234.pkl', 'load_raw': None}\n",
      "[2024-04-01 17:04:50] test.py(119) : model_params{'embedding_dim': 64, 'sqrt_embedding_dim': 8.0, 'encoder_layer_num': 6, 'qkv_dim': 8, 'head_num': 8, 'logit_clipping': 10, 'ff_hidden_dim': 512, 'eval_type': 'argmax'}\n",
      "[2024-04-01 17:04:50] test.py(119) : tester_params{'use_cuda': True, 'cuda_device_num': 0, 'model_load': {'path': 'pretrained/checkpoint-cvrp-100.pt', 'epoch': 'test'}, 'test_episodes': 1000, 'test_batch_size': 1, 'augmentation_enable': True, 'aug_factor': 8, 'aug_batch_size': 1, 'test_data_load': {'enable': False, 'filename': ''}, 'test_set_path': '../../../../../VRP-Omni-modified/Vrp-Set-E/E-n31', 'test_set_opt_sol_path': '../../../../../VRP-Omni-modified/Vrp-Set-A/A-n33-sol', 'test_set_name': 'A-n33'}\n",
      "[2024-04-01 17:04:50] test.py(119) : logger_params{'log_file': {'desc': 'test_cvrp50_pretrained_epochtest', 'filename': 'log.txt', 'filepath': './result/20240401_180448_test_cvrp50_pretrained_epochtest'}}\n",
      "['../../../../../VRP-Omni-modified/Vrp-Set-E/E-n31/E-n31-k7.vrp']\n"
     ]
    },
    {
     "name": "stderr",
     "output_type": "stream",
     "text": [
      "/home/xunj/miniconda3/envs/amd/lib/python3.8/site-packages/torch/__init__.py:696: UserWarning: torch.set_default_tensor_type() is deprecated as of PyTorch 2.1, please use torch.set_default_dtype() and torch.set_default_device() as alternatives. (Triggered internally at /opt/conda/conda-bld/pytorch_1708025829503/work/torch/csrc/tensor/python_tensor.cpp:451.)\n",
      "  _C._set_default_tensor_type(t)\n",
      "Traceback (most recent call last):\n",
      "  File \"test.py\", line 140, in <module>\n",
      "    main()\n",
      "  File \"test.py\", line 103, in main\n",
      "    tester = Tester(env_params=env_params,\n",
      "  File \"/home/xunj/GradWork/AMDKD-main/AMDKD-main/AMDKD-POMO/CVRP/POMO/CVRPTester.py\", line 66, in __init__\n",
      "    self.test_data = self.pack_cvrplib(self.path_list)[: self.tester_params['test_episodes']]\n",
      "  File \"/home/xunj/GradWork/AMDKD-main/AMDKD-main/AMDKD-POMO/CVRP/POMO/CVRPTester.py\", line 230, in pack_cvrplib\n",
      "    original_locations = locations[:, 1:]\n",
      "UnboundLocalError: local variable 'locations' referenced before assignment\n"
     ]
    },
    {
     "name": "stdout",
     "output_type": "stream",
     "text": [
      "Check out issue on set:  ../../../../../VRP-Omni-modified/Vrp-Set-E/E-n31\n",
      "[2024-04-01 17:04:54] test.py(117) : DEBUG_MODE: False\n",
      "[2024-04-01 17:04:54] test.py(118) : USE_CUDA: True, CUDA_DEVICE_NUM: 0\n",
      "[2024-04-01 17:04:54] test.py(119) : env_params{'problem_size': 50, 'pomo_size': 50, 'distribution': {'data_type': 'mixed', 'n_cluster': 3, 'n_cluster_mix': 1, 'lower': 0.2, 'upper': 0.8, 'std': 0.07}, 'load_path': 'data/vrp_uniform50_1000_seed1234.pkl', 'load_raw': None}\n",
      "[2024-04-01 17:04:54] test.py(119) : model_params{'embedding_dim': 64, 'sqrt_embedding_dim': 8.0, 'encoder_layer_num': 6, 'qkv_dim': 8, 'head_num': 8, 'logit_clipping': 10, 'ff_hidden_dim': 512, 'eval_type': 'argmax'}\n",
      "[2024-04-01 17:04:54] test.py(119) : tester_params{'use_cuda': True, 'cuda_device_num': 0, 'model_load': {'path': 'pretrained/checkpoint-cvrp-100.pt', 'epoch': 'test'}, 'test_episodes': 1000, 'test_batch_size': 1, 'augmentation_enable': True, 'aug_factor': 8, 'aug_batch_size': 1, 'test_data_load': {'enable': False, 'filename': ''}, 'test_set_path': '../../../../../VRP-Omni-modified/Vrp-Set-E/E-n33', 'test_set_opt_sol_path': '../../../../../VRP-Omni-modified/Vrp-Set-A/A-n33-sol', 'test_set_name': 'A-n33'}\n",
      "[2024-04-01 17:04:54] test.py(119) : logger_params{'log_file': {'desc': 'test_cvrp50_pretrained_epochtest', 'filename': 'log.txt', 'filepath': './result/20240401_180452_test_cvrp50_pretrained_epochtest'}}\n",
      "['../../../../../VRP-Omni-modified/Vrp-Set-E/E-n33/E-n33-k4.vrp']\n"
     ]
    },
    {
     "name": "stderr",
     "output_type": "stream",
     "text": [
      "/home/xunj/miniconda3/envs/amd/lib/python3.8/site-packages/torch/__init__.py:696: UserWarning: torch.set_default_tensor_type() is deprecated as of PyTorch 2.1, please use torch.set_default_dtype() and torch.set_default_device() as alternatives. (Triggered internally at /opt/conda/conda-bld/pytorch_1708025829503/work/torch/csrc/tensor/python_tensor.cpp:451.)\n",
      "  _C._set_default_tensor_type(t)\n"
     ]
    },
    {
     "name": "stdout",
     "output_type": "stream",
     "text": [
      "pretrained/checkpoint-cvrp-100.pt\n",
      "torch.Size([8, 1])\n",
      "torch.Size([8, 32])\n",
      "[2024-04-01 17:04:54] CVRPTester.py(144) : episode   1/  1, Elapsed[0.01m], Remain[0.00m], score:1.158, aug_score:1.074\n",
      "[2024-04-01 17:04:54] CVRPTester.py(150) :  *** Test Done *** \n",
      "[2024-04-01 17:04:54] CVRPTester.py(151) :  NO-AUG SCORE: 1.1580226421356201 \n",
      "[2024-04-01 17:04:54] CVRPTester.py(152) :  AUGMENTATION SCORE: 1.0739223957061768 \n",
      ">> Evaluation on ../../../../../VRP-Omni-modified/Vrp-Set-E/E-n33 finished within 0.36s\n",
      ">> Save final results to res/E-n33\n",
      "Test on \" ../../../../../VRP-Omni-modified/Vrp-Set-E/E-n33 \" Success\n",
      "-----------------------------------------------------------------------------------------------------------------\n",
      "[2024-04-01 17:04:58] test.py(117) : DEBUG_MODE: False\n",
      "[2024-04-01 17:04:58] test.py(118) : USE_CUDA: True, CUDA_DEVICE_NUM: 0\n",
      "[2024-04-01 17:04:58] test.py(119) : env_params{'problem_size': 50, 'pomo_size': 50, 'distribution': {'data_type': 'mixed', 'n_cluster': 3, 'n_cluster_mix': 1, 'lower': 0.2, 'upper': 0.8, 'std': 0.07}, 'load_path': 'data/vrp_uniform50_1000_seed1234.pkl', 'load_raw': None}\n",
      "[2024-04-01 17:04:58] test.py(119) : model_params{'embedding_dim': 64, 'sqrt_embedding_dim': 8.0, 'encoder_layer_num': 6, 'qkv_dim': 8, 'head_num': 8, 'logit_clipping': 10, 'ff_hidden_dim': 512, 'eval_type': 'argmax'}\n",
      "[2024-04-01 17:04:58] test.py(119) : tester_params{'use_cuda': True, 'cuda_device_num': 0, 'model_load': {'path': 'pretrained/checkpoint-cvrp-100.pt', 'epoch': 'test'}, 'test_episodes': 1000, 'test_batch_size': 1, 'augmentation_enable': True, 'aug_factor': 8, 'aug_batch_size': 1, 'test_data_load': {'enable': False, 'filename': ''}, 'test_set_path': '../../../../../VRP-Omni-modified/Vrp-Set-E/E-n51', 'test_set_opt_sol_path': '../../../../../VRP-Omni-modified/Vrp-Set-A/A-n33-sol', 'test_set_name': 'A-n33'}\n",
      "[2024-04-01 17:04:58] test.py(119) : logger_params{'log_file': {'desc': 'test_cvrp50_pretrained_epochtest', 'filename': 'log.txt', 'filepath': './result/20240401_180456_test_cvrp50_pretrained_epochtest'}}\n",
      "['../../../../../VRP-Omni-modified/Vrp-Set-E/E-n51/E-n51-k5.vrp']\n"
     ]
    },
    {
     "name": "stderr",
     "output_type": "stream",
     "text": [
      "/home/xunj/miniconda3/envs/amd/lib/python3.8/site-packages/torch/__init__.py:696: UserWarning: torch.set_default_tensor_type() is deprecated as of PyTorch 2.1, please use torch.set_default_dtype() and torch.set_default_device() as alternatives. (Triggered internally at /opt/conda/conda-bld/pytorch_1708025829503/work/torch/csrc/tensor/python_tensor.cpp:451.)\n",
      "  _C._set_default_tensor_type(t)\n"
     ]
    },
    {
     "name": "stdout",
     "output_type": "stream",
     "text": [
      "pretrained/checkpoint-cvrp-100.pt\n",
      "torch.Size([8, 1])\n",
      "torch.Size([8, 50])\n",
      "[2024-04-01 17:04:58] CVRPTester.py(144) : episode   1/  1, Elapsed[0.01m], Remain[0.00m], score:0.671, aug_score:0.621\n",
      "[2024-04-01 17:04:58] CVRPTester.py(150) :  *** Test Done *** \n",
      "[2024-04-01 17:04:58] CVRPTester.py(151) :  NO-AUG SCORE: 0.6714074611663818 \n",
      "[2024-04-01 17:04:58] CVRPTester.py(152) :  AUGMENTATION SCORE: 0.6205125451087952 \n",
      ">> Evaluation on ../../../../../VRP-Omni-modified/Vrp-Set-E/E-n51 finished within 0.43s\n",
      ">> Save final results to res/E-n51\n",
      "Test on \" ../../../../../VRP-Omni-modified/Vrp-Set-E/E-n51 \" Success\n",
      "-----------------------------------------------------------------------------------------------------------------\n",
      "[2024-04-01 17:05:02] test.py(117) : DEBUG_MODE: False\n",
      "[2024-04-01 17:05:02] test.py(118) : USE_CUDA: True, CUDA_DEVICE_NUM: 0\n",
      "[2024-04-01 17:05:02] test.py(119) : env_params{'problem_size': 50, 'pomo_size': 50, 'distribution': {'data_type': 'mixed', 'n_cluster': 3, 'n_cluster_mix': 1, 'lower': 0.2, 'upper': 0.8, 'std': 0.07}, 'load_path': 'data/vrp_uniform50_1000_seed1234.pkl', 'load_raw': None}\n",
      "[2024-04-01 17:05:02] test.py(119) : model_params{'embedding_dim': 64, 'sqrt_embedding_dim': 8.0, 'encoder_layer_num': 6, 'qkv_dim': 8, 'head_num': 8, 'logit_clipping': 10, 'ff_hidden_dim': 512, 'eval_type': 'argmax'}\n",
      "[2024-04-01 17:05:02] test.py(119) : tester_params{'use_cuda': True, 'cuda_device_num': 0, 'model_load': {'path': 'pretrained/checkpoint-cvrp-100.pt', 'epoch': 'test'}, 'test_episodes': 1000, 'test_batch_size': 1, 'augmentation_enable': True, 'aug_factor': 8, 'aug_batch_size': 1, 'test_data_load': {'enable': False, 'filename': ''}, 'test_set_path': '../../../../../VRP-Omni-modified/Vrp-Set-E/E-n76', 'test_set_opt_sol_path': '../../../../../VRP-Omni-modified/Vrp-Set-A/A-n33-sol', 'test_set_name': 'A-n33'}\n",
      "[2024-04-01 17:05:02] test.py(119) : logger_params{'log_file': {'desc': 'test_cvrp50_pretrained_epochtest', 'filename': 'log.txt', 'filepath': './result/20240401_180500_test_cvrp50_pretrained_epochtest'}}\n",
      "['../../../../../VRP-Omni-modified/Vrp-Set-E/E-n76/E-n76-k10.vrp', '../../../../../VRP-Omni-modified/Vrp-Set-E/E-n76/E-n76-k14.vrp', '../../../../../VRP-Omni-modified/Vrp-Set-E/E-n76/E-n76-k7.vrp', '../../../../../VRP-Omni-modified/Vrp-Set-E/E-n76/E-n76-k8.vrp']\n"
     ]
    },
    {
     "name": "stderr",
     "output_type": "stream",
     "text": [
      "/home/xunj/miniconda3/envs/amd/lib/python3.8/site-packages/torch/__init__.py:696: UserWarning: torch.set_default_tensor_type() is deprecated as of PyTorch 2.1, please use torch.set_default_dtype() and torch.set_default_device() as alternatives. (Triggered internally at /opt/conda/conda-bld/pytorch_1708025829503/work/torch/csrc/tensor/python_tensor.cpp:451.)\n",
      "  _C._set_default_tensor_type(t)\n"
     ]
    },
    {
     "name": "stdout",
     "output_type": "stream",
     "text": [
      "pretrained/checkpoint-cvrp-100.pt\n",
      "torch.Size([8, 1])\n",
      "torch.Size([8, 75])\n",
      "[2024-04-01 17:05:03] CVRPTester.py(144) : episode   1/  4, Elapsed[0.01m], Remain[0.02m], score:0.992, aug_score:0.899\n",
      "torch.Size([8, 1])\n",
      "torch.Size([8, 75])\n",
      "[2024-04-01 17:05:03] CVRPTester.py(144) : episode   2/  4, Elapsed[0.01m], Remain[0.01m], score:1.139, aug_score:1.098\n",
      "torch.Size([8, 1])\n",
      "torch.Size([8, 75])\n",
      "[2024-04-01 17:05:03] CVRPTester.py(144) : episode   3/  4, Elapsed[0.01m], Remain[0.00m], score:0.783, aug_score:0.722\n",
      "torch.Size([8, 1])\n",
      "torch.Size([8, 75])\n",
      "[2024-04-01 17:05:03] CVRPTester.py(144) : episode   4/  4, Elapsed[0.01m], Remain[0.00m], score:0.827, aug_score:0.776\n",
      "[2024-04-01 17:05:03] CVRPTester.py(150) :  *** Test Done *** \n",
      "[2024-04-01 17:05:03] CVRPTester.py(151) :  NO-AUG SCORE: 0.9352442622184753 \n",
      "[2024-04-01 17:05:03] CVRPTester.py(152) :  AUGMENTATION SCORE: 0.873880922794342 \n",
      ">> Evaluation on ../../../../../VRP-Omni-modified/Vrp-Set-E/E-n76 finished within 0.09s\n",
      ">> Save final results to res/E-n76\n",
      "Test on \" ../../../../../VRP-Omni-modified/Vrp-Set-E/E-n76 \" Success\n",
      "-----------------------------------------------------------------------------------------------------------------\n",
      "[2024-04-01 17:05:07] test.py(117) : DEBUG_MODE: False\n",
      "[2024-04-01 17:05:07] test.py(118) : USE_CUDA: True, CUDA_DEVICE_NUM: 0\n",
      "[2024-04-01 17:05:07] test.py(119) : env_params{'problem_size': 50, 'pomo_size': 50, 'distribution': {'data_type': 'mixed', 'n_cluster': 3, 'n_cluster_mix': 1, 'lower': 0.2, 'upper': 0.8, 'std': 0.07}, 'load_path': 'data/vrp_uniform50_1000_seed1234.pkl', 'load_raw': None}\n",
      "[2024-04-01 17:05:07] test.py(119) : model_params{'embedding_dim': 64, 'sqrt_embedding_dim': 8.0, 'encoder_layer_num': 6, 'qkv_dim': 8, 'head_num': 8, 'logit_clipping': 10, 'ff_hidden_dim': 512, 'eval_type': 'argmax'}\n",
      "[2024-04-01 17:05:07] test.py(119) : tester_params{'use_cuda': True, 'cuda_device_num': 0, 'model_load': {'path': 'pretrained/checkpoint-cvrp-100.pt', 'epoch': 'test'}, 'test_episodes': 1000, 'test_batch_size': 1, 'augmentation_enable': True, 'aug_factor': 8, 'aug_batch_size': 1, 'test_data_load': {'enable': False, 'filename': ''}, 'test_set_path': '../../../../../VRP-Omni-modified/Vrp-Set-F/F-n135', 'test_set_opt_sol_path': '../../../../../VRP-Omni-modified/Vrp-Set-A/A-n33-sol', 'test_set_name': 'A-n33'}\n",
      "[2024-04-01 17:05:07] test.py(119) : logger_params{'log_file': {'desc': 'test_cvrp50_pretrained_epochtest', 'filename': 'log.txt', 'filepath': './result/20240401_180505_test_cvrp50_pretrained_epochtest'}}\n",
      "['../../../../../VRP-Omni-modified/Vrp-Set-F/F-n135/F-n135-k7.vrp']\n"
     ]
    },
    {
     "name": "stderr",
     "output_type": "stream",
     "text": [
      "/home/xunj/miniconda3/envs/amd/lib/python3.8/site-packages/torch/__init__.py:696: UserWarning: torch.set_default_tensor_type() is deprecated as of PyTorch 2.1, please use torch.set_default_dtype() and torch.set_default_device() as alternatives. (Triggered internally at /opt/conda/conda-bld/pytorch_1708025829503/work/torch/csrc/tensor/python_tensor.cpp:451.)\n",
      "  _C._set_default_tensor_type(t)\n",
      "Traceback (most recent call last):\n",
      "  File \"test.py\", line 140, in <module>\n",
      "    main()\n",
      "  File \"test.py\", line 103, in main\n",
      "    tester = Tester(env_params=env_params,\n",
      "  File \"/home/xunj/GradWork/AMDKD-main/AMDKD-main/AMDKD-POMO/CVRP/POMO/CVRPTester.py\", line 66, in __init__\n",
      "    self.test_data = self.pack_cvrplib(self.path_list)[: self.tester_params['test_episodes']]\n",
      "  File \"/home/xunj/GradWork/AMDKD-main/AMDKD-main/AMDKD-POMO/CVRP/POMO/CVRPTester.py\", line 223, in pack_cvrplib\n",
      "    locations = np.loadtxt(lines[i + 1:i + 1 + dimension], dtype=int)\n",
      "  File \"/home/xunj/miniconda3/envs/amd/lib/python3.8/site-packages/numpy/lib/npyio.py\", line 1163, in loadtxt\n",
      "    chunk.append(packer(convert_row(words)))\n",
      "  File \"/home/xunj/miniconda3/envs/amd/lib/python3.8/site-packages/numpy/lib/npyio.py\", line 1142, in convert_row\n",
      "    return [*map(_conv, vals)]\n",
      "ValueError: invalid literal for int() with base 10: '-6.0'\n"
     ]
    },
    {
     "name": "stdout",
     "output_type": "stream",
     "text": [
      "Check out issue on set:  ../../../../../VRP-Omni-modified/Vrp-Set-F/F-n135\n",
      "[2024-04-01 17:05:10] test.py(117) : DEBUG_MODE: False\n",
      "[2024-04-01 17:05:10] test.py(118) : USE_CUDA: True, CUDA_DEVICE_NUM: 0\n",
      "[2024-04-01 17:05:10] test.py(119) : env_params{'problem_size': 50, 'pomo_size': 50, 'distribution': {'data_type': 'mixed', 'n_cluster': 3, 'n_cluster_mix': 1, 'lower': 0.2, 'upper': 0.8, 'std': 0.07}, 'load_path': 'data/vrp_uniform50_1000_seed1234.pkl', 'load_raw': None}\n",
      "[2024-04-01 17:05:10] test.py(119) : model_params{'embedding_dim': 64, 'sqrt_embedding_dim': 8.0, 'encoder_layer_num': 6, 'qkv_dim': 8, 'head_num': 8, 'logit_clipping': 10, 'ff_hidden_dim': 512, 'eval_type': 'argmax'}\n",
      "[2024-04-01 17:05:10] test.py(119) : tester_params{'use_cuda': True, 'cuda_device_num': 0, 'model_load': {'path': 'pretrained/checkpoint-cvrp-100.pt', 'epoch': 'test'}, 'test_episodes': 1000, 'test_batch_size': 1, 'augmentation_enable': True, 'aug_factor': 8, 'aug_batch_size': 1, 'test_data_load': {'enable': False, 'filename': ''}, 'test_set_path': '../../../../../VRP-Omni-modified/Vrp-Set-F/F-n45', 'test_set_opt_sol_path': '../../../../../VRP-Omni-modified/Vrp-Set-A/A-n33-sol', 'test_set_name': 'A-n33'}\n",
      "[2024-04-01 17:05:10] test.py(119) : logger_params{'log_file': {'desc': 'test_cvrp50_pretrained_epochtest', 'filename': 'log.txt', 'filepath': './result/20240401_180508_test_cvrp50_pretrained_epochtest'}}\n",
      "['../../../../../VRP-Omni-modified/Vrp-Set-F/F-n45/F-n45-k4.vrp']\n"
     ]
    },
    {
     "name": "stderr",
     "output_type": "stream",
     "text": [
      "/home/xunj/miniconda3/envs/amd/lib/python3.8/site-packages/torch/__init__.py:696: UserWarning: torch.set_default_tensor_type() is deprecated as of PyTorch 2.1, please use torch.set_default_dtype() and torch.set_default_device() as alternatives. (Triggered internally at /opt/conda/conda-bld/pytorch_1708025829503/work/torch/csrc/tensor/python_tensor.cpp:451.)\n",
      "  _C._set_default_tensor_type(t)\n",
      "Traceback (most recent call last):\n",
      "  File \"test.py\", line 140, in <module>\n",
      "    main()\n",
      "  File \"test.py\", line 103, in main\n",
      "    tester = Tester(env_params=env_params,\n",
      "  File \"/home/xunj/GradWork/AMDKD-main/AMDKD-main/AMDKD-POMO/CVRP/POMO/CVRPTester.py\", line 66, in __init__\n",
      "    self.test_data = self.pack_cvrplib(self.path_list)[: self.tester_params['test_episodes']]\n",
      "  File \"/home/xunj/GradWork/AMDKD-main/AMDKD-main/AMDKD-POMO/CVRP/POMO/CVRPTester.py\", line 223, in pack_cvrplib\n",
      "    locations = np.loadtxt(lines[i + 1:i + 1 + dimension], dtype=int)\n",
      "  File \"/home/xunj/miniconda3/envs/amd/lib/python3.8/site-packages/numpy/lib/npyio.py\", line 1163, in loadtxt\n",
      "    chunk.append(packer(convert_row(words)))\n",
      "  File \"/home/xunj/miniconda3/envs/amd/lib/python3.8/site-packages/numpy/lib/npyio.py\", line 1142, in convert_row\n",
      "    return [*map(_conv, vals)]\n",
      "ValueError: invalid literal for int() with base 10: '2.5'\n"
     ]
    },
    {
     "name": "stdout",
     "output_type": "stream",
     "text": [
      "Check out issue on set:  ../../../../../VRP-Omni-modified/Vrp-Set-F/F-n45\n",
      "[2024-04-01 17:05:14] test.py(117) : DEBUG_MODE: False\n",
      "[2024-04-01 17:05:14] test.py(118) : USE_CUDA: True, CUDA_DEVICE_NUM: 0\n",
      "[2024-04-01 17:05:14] test.py(119) : env_params{'problem_size': 50, 'pomo_size': 50, 'distribution': {'data_type': 'mixed', 'n_cluster': 3, 'n_cluster_mix': 1, 'lower': 0.2, 'upper': 0.8, 'std': 0.07}, 'load_path': 'data/vrp_uniform50_1000_seed1234.pkl', 'load_raw': None}\n",
      "[2024-04-01 17:05:14] test.py(119) : model_params{'embedding_dim': 64, 'sqrt_embedding_dim': 8.0, 'encoder_layer_num': 6, 'qkv_dim': 8, 'head_num': 8, 'logit_clipping': 10, 'ff_hidden_dim': 512, 'eval_type': 'argmax'}\n",
      "[2024-04-01 17:05:14] test.py(119) : tester_params{'use_cuda': True, 'cuda_device_num': 0, 'model_load': {'path': 'pretrained/checkpoint-cvrp-100.pt', 'epoch': 'test'}, 'test_episodes': 1000, 'test_batch_size': 1, 'augmentation_enable': True, 'aug_factor': 8, 'aug_batch_size': 1, 'test_data_load': {'enable': False, 'filename': ''}, 'test_set_path': '../../../../../VRP-Omni-modified/Vrp-Set-F/F-n72', 'test_set_opt_sol_path': '../../../../../VRP-Omni-modified/Vrp-Set-A/A-n33-sol', 'test_set_name': 'A-n33'}\n",
      "[2024-04-01 17:05:14] test.py(119) : logger_params{'log_file': {'desc': 'test_cvrp50_pretrained_epochtest', 'filename': 'log.txt', 'filepath': './result/20240401_180512_test_cvrp50_pretrained_epochtest'}}\n",
      "['../../../../../VRP-Omni-modified/Vrp-Set-F/F-n72/F-n72-k4.vrp']\n"
     ]
    },
    {
     "name": "stderr",
     "output_type": "stream",
     "text": [
      "/home/xunj/miniconda3/envs/amd/lib/python3.8/site-packages/torch/__init__.py:696: UserWarning: torch.set_default_tensor_type() is deprecated as of PyTorch 2.1, please use torch.set_default_dtype() and torch.set_default_device() as alternatives. (Triggered internally at /opt/conda/conda-bld/pytorch_1708025829503/work/torch/csrc/tensor/python_tensor.cpp:451.)\n",
      "  _C._set_default_tensor_type(t)\n"
     ]
    },
    {
     "name": "stdout",
     "output_type": "stream",
     "text": [
      "pretrained/checkpoint-cvrp-100.pt\n",
      "torch.Size([8, 1])\n",
      "torch.Size([8, 71])\n",
      "[2024-04-01 17:05:15] CVRPTester.py(144) : episode   1/  1, Elapsed[0.01m], Remain[0.00m], score:0.400, aug_score:0.296\n",
      "[2024-04-01 17:05:15] CVRPTester.py(150) :  *** Test Done *** \n",
      "[2024-04-01 17:05:15] CVRPTester.py(151) :  NO-AUG SCORE: 0.4004116952419281 \n",
      "[2024-04-01 17:05:15] CVRPTester.py(152) :  AUGMENTATION SCORE: 0.2962561845779419 \n",
      ">> Evaluation on ../../../../../VRP-Omni-modified/Vrp-Set-F/F-n72 finished within 0.41s\n",
      ">> Save final results to res/F-n72\n",
      "Test on \" ../../../../../VRP-Omni-modified/Vrp-Set-F/F-n72 \" Success\n",
      "-----------------------------------------------------------------------------------------------------------------\n",
      "[2024-04-01 17:05:18] test.py(117) : DEBUG_MODE: False\n",
      "[2024-04-01 17:05:18] test.py(118) : USE_CUDA: True, CUDA_DEVICE_NUM: 0\n",
      "[2024-04-01 17:05:18] test.py(119) : env_params{'problem_size': 50, 'pomo_size': 50, 'distribution': {'data_type': 'mixed', 'n_cluster': 3, 'n_cluster_mix': 1, 'lower': 0.2, 'upper': 0.8, 'std': 0.07}, 'load_path': 'data/vrp_uniform50_1000_seed1234.pkl', 'load_raw': None}\n",
      "[2024-04-01 17:05:18] test.py(119) : model_params{'embedding_dim': 64, 'sqrt_embedding_dim': 8.0, 'encoder_layer_num': 6, 'qkv_dim': 8, 'head_num': 8, 'logit_clipping': 10, 'ff_hidden_dim': 512, 'eval_type': 'argmax'}\n",
      "[2024-04-01 17:05:18] test.py(119) : tester_params{'use_cuda': True, 'cuda_device_num': 0, 'model_load': {'path': 'pretrained/checkpoint-cvrp-100.pt', 'epoch': 'test'}, 'test_episodes': 1000, 'test_batch_size': 1, 'augmentation_enable': True, 'aug_factor': 8, 'aug_batch_size': 1, 'test_data_load': {'enable': False, 'filename': ''}, 'test_set_path': '../../../../../VRP-Omni-modified/Vrp-Set-Golden/Golden-n201', 'test_set_opt_sol_path': '../../../../../VRP-Omni-modified/Vrp-Set-A/A-n33-sol', 'test_set_name': 'A-n33'}\n",
      "[2024-04-01 17:05:18] test.py(119) : logger_params{'log_file': {'desc': 'test_cvrp50_pretrained_epochtest', 'filename': 'log.txt', 'filepath': './result/20240401_180516_test_cvrp50_pretrained_epochtest'}}\n",
      "['../../../../../VRP-Omni-modified/Vrp-Set-Golden/Golden-n201/Golden_5.vrp']\n"
     ]
    },
    {
     "name": "stderr",
     "output_type": "stream",
     "text": [
      "/home/xunj/miniconda3/envs/amd/lib/python3.8/site-packages/torch/__init__.py:696: UserWarning: torch.set_default_tensor_type() is deprecated as of PyTorch 2.1, please use torch.set_default_dtype() and torch.set_default_device() as alternatives. (Triggered internally at /opt/conda/conda-bld/pytorch_1708025829503/work/torch/csrc/tensor/python_tensor.cpp:451.)\n",
      "  _C._set_default_tensor_type(t)\n",
      "Traceback (most recent call last):\n",
      "  File \"test.py\", line 140, in <module>\n",
      "    main()\n",
      "  File \"test.py\", line 103, in main\n",
      "    tester = Tester(env_params=env_params,\n",
      "  File \"/home/xunj/GradWork/AMDKD-main/AMDKD-main/AMDKD-POMO/CVRP/POMO/CVRPTester.py\", line 66, in __init__\n",
      "    self.test_data = self.pack_cvrplib(self.path_list)[: self.tester_params['test_episodes']]\n",
      "  File \"/home/xunj/GradWork/AMDKD-main/AMDKD-main/AMDKD-POMO/CVRP/POMO/CVRPTester.py\", line 223, in pack_cvrplib\n",
      "    locations = np.loadtxt(lines[i + 1:i + 1 + dimension], dtype=int)\n",
      "  File \"/home/xunj/miniconda3/envs/amd/lib/python3.8/site-packages/numpy/lib/npyio.py\", line 1163, in loadtxt\n",
      "    chunk.append(packer(convert_row(words)))\n",
      "  File \"/home/xunj/miniconda3/envs/amd/lib/python3.8/site-packages/numpy/lib/npyio.py\", line 1142, in convert_row\n",
      "    return [*map(_conv, vals)]\n",
      "ValueError: invalid literal for int() with base 10: '0.00000'\n"
     ]
    },
    {
     "name": "stdout",
     "output_type": "stream",
     "text": [
      "Check out issue on set:  ../../../../../VRP-Omni-modified/Vrp-Set-Golden/Golden-n201\n",
      "[2024-04-01 17:05:22] test.py(117) : DEBUG_MODE: False\n",
      "[2024-04-01 17:05:22] test.py(118) : USE_CUDA: True, CUDA_DEVICE_NUM: 0\n",
      "[2024-04-01 17:05:22] test.py(119) : env_params{'problem_size': 50, 'pomo_size': 50, 'distribution': {'data_type': 'mixed', 'n_cluster': 3, 'n_cluster_mix': 1, 'lower': 0.2, 'upper': 0.8, 'std': 0.07}, 'load_path': 'data/vrp_uniform50_1000_seed1234.pkl', 'load_raw': None}\n",
      "[2024-04-01 17:05:22] test.py(119) : model_params{'embedding_dim': 64, 'sqrt_embedding_dim': 8.0, 'encoder_layer_num': 6, 'qkv_dim': 8, 'head_num': 8, 'logit_clipping': 10, 'ff_hidden_dim': 512, 'eval_type': 'argmax'}\n",
      "[2024-04-01 17:05:22] test.py(119) : tester_params{'use_cuda': True, 'cuda_device_num': 0, 'model_load': {'path': 'pretrained/checkpoint-cvrp-100.pt', 'epoch': 'test'}, 'test_episodes': 1000, 'test_batch_size': 1, 'augmentation_enable': True, 'aug_factor': 8, 'aug_batch_size': 1, 'test_data_load': {'enable': False, 'filename': ''}, 'test_set_path': '../../../../../VRP-Omni-modified/Vrp-Set-Golden/Golden-n241', 'test_set_opt_sol_path': '../../../../../VRP-Omni-modified/Vrp-Set-A/A-n33-sol', 'test_set_name': 'A-n33'}\n",
      "[2024-04-01 17:05:22] test.py(119) : logger_params{'log_file': {'desc': 'test_cvrp50_pretrained_epochtest', 'filename': 'log.txt', 'filepath': './result/20240401_180520_test_cvrp50_pretrained_epochtest'}}\n",
      "['../../../../../VRP-Omni-modified/Vrp-Set-Golden/Golden-n241/Golden_1.vrp', '../../../../../VRP-Omni-modified/Vrp-Set-Golden/Golden-n241/Golden_17.vrp']\n"
     ]
    },
    {
     "name": "stderr",
     "output_type": "stream",
     "text": [
      "/home/xunj/miniconda3/envs/amd/lib/python3.8/site-packages/torch/__init__.py:696: UserWarning: torch.set_default_tensor_type() is deprecated as of PyTorch 2.1, please use torch.set_default_dtype() and torch.set_default_device() as alternatives. (Triggered internally at /opt/conda/conda-bld/pytorch_1708025829503/work/torch/csrc/tensor/python_tensor.cpp:451.)\n",
      "  _C._set_default_tensor_type(t)\n",
      "Traceback (most recent call last):\n",
      "  File \"test.py\", line 140, in <module>\n",
      "    main()\n",
      "  File \"test.py\", line 103, in main\n",
      "    tester = Tester(env_params=env_params,\n",
      "  File \"/home/xunj/GradWork/AMDKD-main/AMDKD-main/AMDKD-POMO/CVRP/POMO/CVRPTester.py\", line 66, in __init__\n",
      "    self.test_data = self.pack_cvrplib(self.path_list)[: self.tester_params['test_episodes']]\n",
      "  File \"/home/xunj/GradWork/AMDKD-main/AMDKD-main/AMDKD-POMO/CVRP/POMO/CVRPTester.py\", line 223, in pack_cvrplib\n",
      "    locations = np.loadtxt(lines[i + 1:i + 1 + dimension], dtype=int)\n",
      "  File \"/home/xunj/miniconda3/envs/amd/lib/python3.8/site-packages/numpy/lib/npyio.py\", line 1163, in loadtxt\n",
      "    chunk.append(packer(convert_row(words)))\n",
      "  File \"/home/xunj/miniconda3/envs/amd/lib/python3.8/site-packages/numpy/lib/npyio.py\", line 1142, in convert_row\n",
      "    return [*map(_conv, vals)]\n",
      "ValueError: invalid literal for int() with base 10: '0.00000'\n"
     ]
    },
    {
     "name": "stdout",
     "output_type": "stream",
     "text": [
      "Check out issue on set:  ../../../../../VRP-Omni-modified/Vrp-Set-Golden/Golden-n241\n",
      "[2024-04-01 17:05:25] test.py(117) : DEBUG_MODE: False\n",
      "[2024-04-01 17:05:25] test.py(118) : USE_CUDA: True, CUDA_DEVICE_NUM: 0\n",
      "[2024-04-01 17:05:25] test.py(119) : env_params{'problem_size': 50, 'pomo_size': 50, 'distribution': {'data_type': 'mixed', 'n_cluster': 3, 'n_cluster_mix': 1, 'lower': 0.2, 'upper': 0.8, 'std': 0.07}, 'load_path': 'data/vrp_uniform50_1000_seed1234.pkl', 'load_raw': None}\n",
      "[2024-04-01 17:05:25] test.py(119) : model_params{'embedding_dim': 64, 'sqrt_embedding_dim': 8.0, 'encoder_layer_num': 6, 'qkv_dim': 8, 'head_num': 8, 'logit_clipping': 10, 'ff_hidden_dim': 512, 'eval_type': 'argmax'}\n",
      "[2024-04-01 17:05:25] test.py(119) : tester_params{'use_cuda': True, 'cuda_device_num': 0, 'model_load': {'path': 'pretrained/checkpoint-cvrp-100.pt', 'epoch': 'test'}, 'test_episodes': 1000, 'test_batch_size': 1, 'augmentation_enable': True, 'aug_factor': 8, 'aug_batch_size': 1, 'test_data_load': {'enable': False, 'filename': ''}, 'test_set_path': '../../../../../VRP-Omni-modified/Vrp-Set-Golden/Golden-n253', 'test_set_opt_sol_path': '../../../../../VRP-Omni-modified/Vrp-Set-A/A-n33-sol', 'test_set_name': 'A-n33'}\n",
      "[2024-04-01 17:05:25] test.py(119) : logger_params{'log_file': {'desc': 'test_cvrp50_pretrained_epochtest', 'filename': 'log.txt', 'filepath': './result/20240401_180523_test_cvrp50_pretrained_epochtest'}}\n",
      "['../../../../../VRP-Omni-modified/Vrp-Set-Golden/Golden-n253/Golden_13.vrp']\n"
     ]
    },
    {
     "name": "stderr",
     "output_type": "stream",
     "text": [
      "/home/xunj/miniconda3/envs/amd/lib/python3.8/site-packages/torch/__init__.py:696: UserWarning: torch.set_default_tensor_type() is deprecated as of PyTorch 2.1, please use torch.set_default_dtype() and torch.set_default_device() as alternatives. (Triggered internally at /opt/conda/conda-bld/pytorch_1708025829503/work/torch/csrc/tensor/python_tensor.cpp:451.)\n",
      "  _C._set_default_tensor_type(t)\n",
      "Traceback (most recent call last):\n",
      "  File \"test.py\", line 140, in <module>\n",
      "    main()\n",
      "  File \"test.py\", line 103, in main\n",
      "    tester = Tester(env_params=env_params,\n",
      "  File \"/home/xunj/GradWork/AMDKD-main/AMDKD-main/AMDKD-POMO/CVRP/POMO/CVRPTester.py\", line 66, in __init__\n",
      "    self.test_data = self.pack_cvrplib(self.path_list)[: self.tester_params['test_episodes']]\n",
      "  File \"/home/xunj/GradWork/AMDKD-main/AMDKD-main/AMDKD-POMO/CVRP/POMO/CVRPTester.py\", line 223, in pack_cvrplib\n",
      "    locations = np.loadtxt(lines[i + 1:i + 1 + dimension], dtype=int)\n",
      "  File \"/home/xunj/miniconda3/envs/amd/lib/python3.8/site-packages/numpy/lib/npyio.py\", line 1163, in loadtxt\n",
      "    chunk.append(packer(convert_row(words)))\n",
      "  File \"/home/xunj/miniconda3/envs/amd/lib/python3.8/site-packages/numpy/lib/npyio.py\", line 1142, in convert_row\n",
      "    return [*map(_conv, vals)]\n",
      "ValueError: invalid literal for int() with base 10: '0.00000'\n"
     ]
    },
    {
     "name": "stdout",
     "output_type": "stream",
     "text": [
      "Check out issue on set:  ../../../../../VRP-Omni-modified/Vrp-Set-Golden/Golden-n253\n",
      "[2024-04-01 17:05:29] test.py(117) : DEBUG_MODE: False\n",
      "[2024-04-01 17:05:29] test.py(118) : USE_CUDA: True, CUDA_DEVICE_NUM: 0\n",
      "[2024-04-01 17:05:29] test.py(119) : env_params{'problem_size': 50, 'pomo_size': 50, 'distribution': {'data_type': 'mixed', 'n_cluster': 3, 'n_cluster_mix': 1, 'lower': 0.2, 'upper': 0.8, 'std': 0.07}, 'load_path': 'data/vrp_uniform50_1000_seed1234.pkl', 'load_raw': None}\n",
      "[2024-04-01 17:05:29] test.py(119) : model_params{'embedding_dim': 64, 'sqrt_embedding_dim': 8.0, 'encoder_layer_num': 6, 'qkv_dim': 8, 'head_num': 8, 'logit_clipping': 10, 'ff_hidden_dim': 512, 'eval_type': 'argmax'}\n",
      "[2024-04-01 17:05:29] test.py(119) : tester_params{'use_cuda': True, 'cuda_device_num': 0, 'model_load': {'path': 'pretrained/checkpoint-cvrp-100.pt', 'epoch': 'test'}, 'test_episodes': 1000, 'test_batch_size': 1, 'augmentation_enable': True, 'aug_factor': 8, 'aug_batch_size': 1, 'test_data_load': {'enable': False, 'filename': ''}, 'test_set_path': '../../../../../VRP-Omni-modified/Vrp-Set-Golden/Golden-n256', 'test_set_opt_sol_path': '../../../../../VRP-Omni-modified/Vrp-Set-A/A-n33-sol', 'test_set_name': 'A-n33'}\n",
      "[2024-04-01 17:05:29] test.py(119) : logger_params{'log_file': {'desc': 'test_cvrp50_pretrained_epochtest', 'filename': 'log.txt', 'filepath': './result/20240401_180527_test_cvrp50_pretrained_epochtest'}}\n",
      "['../../../../../VRP-Omni-modified/Vrp-Set-Golden/Golden-n256/Golden_9.vrp']\n"
     ]
    },
    {
     "name": "stderr",
     "output_type": "stream",
     "text": [
      "/home/xunj/miniconda3/envs/amd/lib/python3.8/site-packages/torch/__init__.py:696: UserWarning: torch.set_default_tensor_type() is deprecated as of PyTorch 2.1, please use torch.set_default_dtype() and torch.set_default_device() as alternatives. (Triggered internally at /opt/conda/conda-bld/pytorch_1708025829503/work/torch/csrc/tensor/python_tensor.cpp:451.)\n",
      "  _C._set_default_tensor_type(t)\n",
      "Traceback (most recent call last):\n",
      "  File \"test.py\", line 140, in <module>\n",
      "    main()\n",
      "  File \"test.py\", line 103, in main\n",
      "    tester = Tester(env_params=env_params,\n",
      "  File \"/home/xunj/GradWork/AMDKD-main/AMDKD-main/AMDKD-POMO/CVRP/POMO/CVRPTester.py\", line 66, in __init__\n",
      "    self.test_data = self.pack_cvrplib(self.path_list)[: self.tester_params['test_episodes']]\n",
      "  File \"/home/xunj/GradWork/AMDKD-main/AMDKD-main/AMDKD-POMO/CVRP/POMO/CVRPTester.py\", line 223, in pack_cvrplib\n",
      "    locations = np.loadtxt(lines[i + 1:i + 1 + dimension], dtype=int)\n",
      "  File \"/home/xunj/miniconda3/envs/amd/lib/python3.8/site-packages/numpy/lib/npyio.py\", line 1163, in loadtxt\n",
      "    chunk.append(packer(convert_row(words)))\n",
      "  File \"/home/xunj/miniconda3/envs/amd/lib/python3.8/site-packages/numpy/lib/npyio.py\", line 1142, in convert_row\n",
      "    return [*map(_conv, vals)]\n",
      "ValueError: invalid literal for int() with base 10: '0.00000'\n"
     ]
    },
    {
     "name": "stdout",
     "output_type": "stream",
     "text": [
      "Check out issue on set:  ../../../../../VRP-Omni-modified/Vrp-Set-Golden/Golden-n256\n",
      "[2024-04-01 17:05:32] test.py(117) : DEBUG_MODE: False\n",
      "[2024-04-01 17:05:32] test.py(118) : USE_CUDA: True, CUDA_DEVICE_NUM: 0\n",
      "[2024-04-01 17:05:32] test.py(119) : env_params{'problem_size': 50, 'pomo_size': 50, 'distribution': {'data_type': 'mixed', 'n_cluster': 3, 'n_cluster_mix': 1, 'lower': 0.2, 'upper': 0.8, 'std': 0.07}, 'load_path': 'data/vrp_uniform50_1000_seed1234.pkl', 'load_raw': None}\n",
      "[2024-04-01 17:05:32] test.py(119) : model_params{'embedding_dim': 64, 'sqrt_embedding_dim': 8.0, 'encoder_layer_num': 6, 'qkv_dim': 8, 'head_num': 8, 'logit_clipping': 10, 'ff_hidden_dim': 512, 'eval_type': 'argmax'}\n",
      "[2024-04-01 17:05:32] test.py(119) : tester_params{'use_cuda': True, 'cuda_device_num': 0, 'model_load': {'path': 'pretrained/checkpoint-cvrp-100.pt', 'epoch': 'test'}, 'test_episodes': 1000, 'test_batch_size': 1, 'augmentation_enable': True, 'aug_factor': 8, 'aug_batch_size': 1, 'test_data_load': {'enable': False, 'filename': ''}, 'test_set_path': '../../../../../VRP-Omni-modified/Vrp-Set-Golden/Golden-n281', 'test_set_opt_sol_path': '../../../../../VRP-Omni-modified/Vrp-Set-A/A-n33-sol', 'test_set_name': 'A-n33'}\n",
      "[2024-04-01 17:05:32] test.py(119) : logger_params{'log_file': {'desc': 'test_cvrp50_pretrained_epochtest', 'filename': 'log.txt', 'filepath': './result/20240401_180530_test_cvrp50_pretrained_epochtest'}}\n",
      "['../../../../../VRP-Omni-modified/Vrp-Set-Golden/Golden-n281/Golden_6.vrp']\n"
     ]
    },
    {
     "name": "stderr",
     "output_type": "stream",
     "text": [
      "/home/xunj/miniconda3/envs/amd/lib/python3.8/site-packages/torch/__init__.py:696: UserWarning: torch.set_default_tensor_type() is deprecated as of PyTorch 2.1, please use torch.set_default_dtype() and torch.set_default_device() as alternatives. (Triggered internally at /opt/conda/conda-bld/pytorch_1708025829503/work/torch/csrc/tensor/python_tensor.cpp:451.)\n",
      "  _C._set_default_tensor_type(t)\n",
      "Traceback (most recent call last):\n",
      "  File \"test.py\", line 140, in <module>\n",
      "    main()\n",
      "  File \"test.py\", line 103, in main\n",
      "    tester = Tester(env_params=env_params,\n",
      "  File \"/home/xunj/GradWork/AMDKD-main/AMDKD-main/AMDKD-POMO/CVRP/POMO/CVRPTester.py\", line 66, in __init__\n",
      "    self.test_data = self.pack_cvrplib(self.path_list)[: self.tester_params['test_episodes']]\n",
      "  File \"/home/xunj/GradWork/AMDKD-main/AMDKD-main/AMDKD-POMO/CVRP/POMO/CVRPTester.py\", line 223, in pack_cvrplib\n",
      "    locations = np.loadtxt(lines[i + 1:i + 1 + dimension], dtype=int)\n",
      "  File \"/home/xunj/miniconda3/envs/amd/lib/python3.8/site-packages/numpy/lib/npyio.py\", line 1163, in loadtxt\n",
      "    chunk.append(packer(convert_row(words)))\n",
      "  File \"/home/xunj/miniconda3/envs/amd/lib/python3.8/site-packages/numpy/lib/npyio.py\", line 1142, in convert_row\n",
      "    return [*map(_conv, vals)]\n",
      "ValueError: invalid literal for int() with base 10: '0.00000'\n"
     ]
    },
    {
     "name": "stdout",
     "output_type": "stream",
     "text": [
      "Check out issue on set:  ../../../../../VRP-Omni-modified/Vrp-Set-Golden/Golden-n281\n",
      "[2024-04-01 17:05:36] test.py(117) : DEBUG_MODE: False\n",
      "[2024-04-01 17:05:36] test.py(118) : USE_CUDA: True, CUDA_DEVICE_NUM: 0\n",
      "[2024-04-01 17:05:36] test.py(119) : env_params{'problem_size': 50, 'pomo_size': 50, 'distribution': {'data_type': 'mixed', 'n_cluster': 3, 'n_cluster_mix': 1, 'lower': 0.2, 'upper': 0.8, 'std': 0.07}, 'load_path': 'data/vrp_uniform50_1000_seed1234.pkl', 'load_raw': None}\n",
      "[2024-04-01 17:05:36] test.py(119) : model_params{'embedding_dim': 64, 'sqrt_embedding_dim': 8.0, 'encoder_layer_num': 6, 'qkv_dim': 8, 'head_num': 8, 'logit_clipping': 10, 'ff_hidden_dim': 512, 'eval_type': 'argmax'}\n",
      "[2024-04-01 17:05:36] test.py(119) : tester_params{'use_cuda': True, 'cuda_device_num': 0, 'model_load': {'path': 'pretrained/checkpoint-cvrp-100.pt', 'epoch': 'test'}, 'test_episodes': 1000, 'test_batch_size': 1, 'augmentation_enable': True, 'aug_factor': 8, 'aug_batch_size': 1, 'test_data_load': {'enable': False, 'filename': ''}, 'test_set_path': '../../../../../VRP-Omni-modified/Vrp-Set-Golden/Golden-n301', 'test_set_opt_sol_path': '../../../../../VRP-Omni-modified/Vrp-Set-A/A-n33-sol', 'test_set_name': 'A-n33'}\n",
      "[2024-04-01 17:05:36] test.py(119) : logger_params{'log_file': {'desc': 'test_cvrp50_pretrained_epochtest', 'filename': 'log.txt', 'filepath': './result/20240401_180534_test_cvrp50_pretrained_epochtest'}}\n",
      "['../../../../../VRP-Omni-modified/Vrp-Set-Golden/Golden-n301/Golden_18.vrp']\n"
     ]
    },
    {
     "name": "stderr",
     "output_type": "stream",
     "text": [
      "/home/xunj/miniconda3/envs/amd/lib/python3.8/site-packages/torch/__init__.py:696: UserWarning: torch.set_default_tensor_type() is deprecated as of PyTorch 2.1, please use torch.set_default_dtype() and torch.set_default_device() as alternatives. (Triggered internally at /opt/conda/conda-bld/pytorch_1708025829503/work/torch/csrc/tensor/python_tensor.cpp:451.)\n",
      "  _C._set_default_tensor_type(t)\n",
      "Traceback (most recent call last):\n",
      "  File \"test.py\", line 140, in <module>\n",
      "    main()\n",
      "  File \"test.py\", line 103, in main\n",
      "    tester = Tester(env_params=env_params,\n",
      "  File \"/home/xunj/GradWork/AMDKD-main/AMDKD-main/AMDKD-POMO/CVRP/POMO/CVRPTester.py\", line 66, in __init__\n",
      "    self.test_data = self.pack_cvrplib(self.path_list)[: self.tester_params['test_episodes']]\n",
      "  File \"/home/xunj/GradWork/AMDKD-main/AMDKD-main/AMDKD-POMO/CVRP/POMO/CVRPTester.py\", line 223, in pack_cvrplib\n",
      "    locations = np.loadtxt(lines[i + 1:i + 1 + dimension], dtype=int)\n",
      "  File \"/home/xunj/miniconda3/envs/amd/lib/python3.8/site-packages/numpy/lib/npyio.py\", line 1163, in loadtxt\n",
      "    chunk.append(packer(convert_row(words)))\n",
      "  File \"/home/xunj/miniconda3/envs/amd/lib/python3.8/site-packages/numpy/lib/npyio.py\", line 1142, in convert_row\n",
      "    return [*map(_conv, vals)]\n",
      "ValueError: invalid literal for int() with base 10: '0.00000'\n"
     ]
    },
    {
     "name": "stdout",
     "output_type": "stream",
     "text": [
      "Check out issue on set:  ../../../../../VRP-Omni-modified/Vrp-Set-Golden/Golden-n301\n",
      "[2024-04-01 17:05:40] test.py(117) : DEBUG_MODE: False\n",
      "[2024-04-01 17:05:40] test.py(118) : USE_CUDA: True, CUDA_DEVICE_NUM: 0\n",
      "[2024-04-01 17:05:40] test.py(119) : env_params{'problem_size': 50, 'pomo_size': 50, 'distribution': {'data_type': 'mixed', 'n_cluster': 3, 'n_cluster_mix': 1, 'lower': 0.2, 'upper': 0.8, 'std': 0.07}, 'load_path': 'data/vrp_uniform50_1000_seed1234.pkl', 'load_raw': None}\n",
      "[2024-04-01 17:05:40] test.py(119) : model_params{'embedding_dim': 64, 'sqrt_embedding_dim': 8.0, 'encoder_layer_num': 6, 'qkv_dim': 8, 'head_num': 8, 'logit_clipping': 10, 'ff_hidden_dim': 512, 'eval_type': 'argmax'}\n",
      "[2024-04-01 17:05:40] test.py(119) : tester_params{'use_cuda': True, 'cuda_device_num': 0, 'model_load': {'path': 'pretrained/checkpoint-cvrp-100.pt', 'epoch': 'test'}, 'test_episodes': 1000, 'test_batch_size': 1, 'augmentation_enable': True, 'aug_factor': 8, 'aug_batch_size': 1, 'test_data_load': {'enable': False, 'filename': ''}, 'test_set_path': '../../../../../VRP-Omni-modified/Vrp-Set-Golden/Golden-n321', 'test_set_opt_sol_path': '../../../../../VRP-Omni-modified/Vrp-Set-A/A-n33-sol', 'test_set_name': 'A-n33'}\n",
      "[2024-04-01 17:05:40] test.py(119) : logger_params{'log_file': {'desc': 'test_cvrp50_pretrained_epochtest', 'filename': 'log.txt', 'filepath': './result/20240401_180538_test_cvrp50_pretrained_epochtest'}}\n",
      "['../../../../../VRP-Omni-modified/Vrp-Set-Golden/Golden-n321/Golden_14.vrp', '../../../../../VRP-Omni-modified/Vrp-Set-Golden/Golden-n321/Golden_2.vrp']\n"
     ]
    },
    {
     "name": "stderr",
     "output_type": "stream",
     "text": [
      "/home/xunj/miniconda3/envs/amd/lib/python3.8/site-packages/torch/__init__.py:696: UserWarning: torch.set_default_tensor_type() is deprecated as of PyTorch 2.1, please use torch.set_default_dtype() and torch.set_default_device() as alternatives. (Triggered internally at /opt/conda/conda-bld/pytorch_1708025829503/work/torch/csrc/tensor/python_tensor.cpp:451.)\n",
      "  _C._set_default_tensor_type(t)\n",
      "Traceback (most recent call last):\n",
      "  File \"test.py\", line 140, in <module>\n",
      "    main()\n",
      "  File \"test.py\", line 103, in main\n",
      "    tester = Tester(env_params=env_params,\n",
      "  File \"/home/xunj/GradWork/AMDKD-main/AMDKD-main/AMDKD-POMO/CVRP/POMO/CVRPTester.py\", line 66, in __init__\n",
      "    self.test_data = self.pack_cvrplib(self.path_list)[: self.tester_params['test_episodes']]\n",
      "  File \"/home/xunj/GradWork/AMDKD-main/AMDKD-main/AMDKD-POMO/CVRP/POMO/CVRPTester.py\", line 223, in pack_cvrplib\n",
      "    locations = np.loadtxt(lines[i + 1:i + 1 + dimension], dtype=int)\n",
      "  File \"/home/xunj/miniconda3/envs/amd/lib/python3.8/site-packages/numpy/lib/npyio.py\", line 1163, in loadtxt\n",
      "    chunk.append(packer(convert_row(words)))\n",
      "  File \"/home/xunj/miniconda3/envs/amd/lib/python3.8/site-packages/numpy/lib/npyio.py\", line 1142, in convert_row\n",
      "    return [*map(_conv, vals)]\n",
      "ValueError: invalid literal for int() with base 10: '0.00000'\n"
     ]
    },
    {
     "name": "stdout",
     "output_type": "stream",
     "text": [
      "Check out issue on set:  ../../../../../VRP-Omni-modified/Vrp-Set-Golden/Golden-n321\n",
      "[2024-04-01 17:05:43] test.py(117) : DEBUG_MODE: False\n",
      "[2024-04-01 17:05:43] test.py(118) : USE_CUDA: True, CUDA_DEVICE_NUM: 0\n",
      "[2024-04-01 17:05:43] test.py(119) : env_params{'problem_size': 50, 'pomo_size': 50, 'distribution': {'data_type': 'mixed', 'n_cluster': 3, 'n_cluster_mix': 1, 'lower': 0.2, 'upper': 0.8, 'std': 0.07}, 'load_path': 'data/vrp_uniform50_1000_seed1234.pkl', 'load_raw': None}\n",
      "[2024-04-01 17:05:43] test.py(119) : model_params{'embedding_dim': 64, 'sqrt_embedding_dim': 8.0, 'encoder_layer_num': 6, 'qkv_dim': 8, 'head_num': 8, 'logit_clipping': 10, 'ff_hidden_dim': 512, 'eval_type': 'argmax'}\n",
      "[2024-04-01 17:05:43] test.py(119) : tester_params{'use_cuda': True, 'cuda_device_num': 0, 'model_load': {'path': 'pretrained/checkpoint-cvrp-100.pt', 'epoch': 'test'}, 'test_episodes': 1000, 'test_batch_size': 1, 'augmentation_enable': True, 'aug_factor': 8, 'aug_batch_size': 1, 'test_data_load': {'enable': False, 'filename': ''}, 'test_set_path': '../../../../../VRP-Omni-modified/Vrp-Set-Golden/Golden-n324', 'test_set_opt_sol_path': '../../../../../VRP-Omni-modified/Vrp-Set-A/A-n33-sol', 'test_set_name': 'A-n33'}\n",
      "[2024-04-01 17:05:43] test.py(119) : logger_params{'log_file': {'desc': 'test_cvrp50_pretrained_epochtest', 'filename': 'log.txt', 'filepath': './result/20240401_180541_test_cvrp50_pretrained_epochtest'}}\n",
      "['../../../../../VRP-Omni-modified/Vrp-Set-Golden/Golden-n324/Golden_10.vrp']\n"
     ]
    },
    {
     "name": "stderr",
     "output_type": "stream",
     "text": [
      "/home/xunj/miniconda3/envs/amd/lib/python3.8/site-packages/torch/__init__.py:696: UserWarning: torch.set_default_tensor_type() is deprecated as of PyTorch 2.1, please use torch.set_default_dtype() and torch.set_default_device() as alternatives. (Triggered internally at /opt/conda/conda-bld/pytorch_1708025829503/work/torch/csrc/tensor/python_tensor.cpp:451.)\n",
      "  _C._set_default_tensor_type(t)\n",
      "Traceback (most recent call last):\n",
      "  File \"test.py\", line 140, in <module>\n",
      "    main()\n",
      "  File \"test.py\", line 103, in main\n",
      "    tester = Tester(env_params=env_params,\n",
      "  File \"/home/xunj/GradWork/AMDKD-main/AMDKD-main/AMDKD-POMO/CVRP/POMO/CVRPTester.py\", line 66, in __init__\n",
      "    self.test_data = self.pack_cvrplib(self.path_list)[: self.tester_params['test_episodes']]\n",
      "  File \"/home/xunj/GradWork/AMDKD-main/AMDKD-main/AMDKD-POMO/CVRP/POMO/CVRPTester.py\", line 223, in pack_cvrplib\n",
      "    locations = np.loadtxt(lines[i + 1:i + 1 + dimension], dtype=int)\n",
      "  File \"/home/xunj/miniconda3/envs/amd/lib/python3.8/site-packages/numpy/lib/npyio.py\", line 1163, in loadtxt\n",
      "    chunk.append(packer(convert_row(words)))\n",
      "  File \"/home/xunj/miniconda3/envs/amd/lib/python3.8/site-packages/numpy/lib/npyio.py\", line 1142, in convert_row\n",
      "    return [*map(_conv, vals)]\n",
      "ValueError: invalid literal for int() with base 10: '0.00000'\n"
     ]
    },
    {
     "name": "stdout",
     "output_type": "stream",
     "text": [
      "Check out issue on set:  ../../../../../VRP-Omni-modified/Vrp-Set-Golden/Golden-n324\n",
      "[2024-04-01 17:05:47] test.py(117) : DEBUG_MODE: False\n",
      "[2024-04-01 17:05:47] test.py(118) : USE_CUDA: True, CUDA_DEVICE_NUM: 0\n",
      "[2024-04-01 17:05:47] test.py(119) : env_params{'problem_size': 50, 'pomo_size': 50, 'distribution': {'data_type': 'mixed', 'n_cluster': 3, 'n_cluster_mix': 1, 'lower': 0.2, 'upper': 0.8, 'std': 0.07}, 'load_path': 'data/vrp_uniform50_1000_seed1234.pkl', 'load_raw': None}\n",
      "[2024-04-01 17:05:47] test.py(119) : model_params{'embedding_dim': 64, 'sqrt_embedding_dim': 8.0, 'encoder_layer_num': 6, 'qkv_dim': 8, 'head_num': 8, 'logit_clipping': 10, 'ff_hidden_dim': 512, 'eval_type': 'argmax'}\n",
      "[2024-04-01 17:05:47] test.py(119) : tester_params{'use_cuda': True, 'cuda_device_num': 0, 'model_load': {'path': 'pretrained/checkpoint-cvrp-100.pt', 'epoch': 'test'}, 'test_episodes': 1000, 'test_batch_size': 1, 'augmentation_enable': True, 'aug_factor': 8, 'aug_batch_size': 1, 'test_data_load': {'enable': False, 'filename': ''}, 'test_set_path': '../../../../../VRP-Omni-modified/Vrp-Set-Golden/Golden-n361', 'test_set_opt_sol_path': '../../../../../VRP-Omni-modified/Vrp-Set-A/A-n33-sol', 'test_set_name': 'A-n33'}\n",
      "[2024-04-01 17:05:47] test.py(119) : logger_params{'log_file': {'desc': 'test_cvrp50_pretrained_epochtest', 'filename': 'log.txt', 'filepath': './result/20240401_180545_test_cvrp50_pretrained_epochtest'}}\n",
      "['../../../../../VRP-Omni-modified/Vrp-Set-Golden/Golden-n361/Golden_19.vrp', '../../../../../VRP-Omni-modified/Vrp-Set-Golden/Golden-n361/Golden_7.vrp']\n"
     ]
    },
    {
     "name": "stderr",
     "output_type": "stream",
     "text": [
      "/home/xunj/miniconda3/envs/amd/lib/python3.8/site-packages/torch/__init__.py:696: UserWarning: torch.set_default_tensor_type() is deprecated as of PyTorch 2.1, please use torch.set_default_dtype() and torch.set_default_device() as alternatives. (Triggered internally at /opt/conda/conda-bld/pytorch_1708025829503/work/torch/csrc/tensor/python_tensor.cpp:451.)\n",
      "  _C._set_default_tensor_type(t)\n",
      "Traceback (most recent call last):\n",
      "  File \"test.py\", line 140, in <module>\n",
      "    main()\n",
      "  File \"test.py\", line 103, in main\n",
      "    tester = Tester(env_params=env_params,\n",
      "  File \"/home/xunj/GradWork/AMDKD-main/AMDKD-main/AMDKD-POMO/CVRP/POMO/CVRPTester.py\", line 66, in __init__\n",
      "    self.test_data = self.pack_cvrplib(self.path_list)[: self.tester_params['test_episodes']]\n",
      "  File \"/home/xunj/GradWork/AMDKD-main/AMDKD-main/AMDKD-POMO/CVRP/POMO/CVRPTester.py\", line 223, in pack_cvrplib\n",
      "    locations = np.loadtxt(lines[i + 1:i + 1 + dimension], dtype=int)\n",
      "  File \"/home/xunj/miniconda3/envs/amd/lib/python3.8/site-packages/numpy/lib/npyio.py\", line 1163, in loadtxt\n",
      "    chunk.append(packer(convert_row(words)))\n",
      "  File \"/home/xunj/miniconda3/envs/amd/lib/python3.8/site-packages/numpy/lib/npyio.py\", line 1142, in convert_row\n",
      "    return [*map(_conv, vals)]\n",
      "ValueError: invalid literal for int() with base 10: '0.00000'\n"
     ]
    },
    {
     "name": "stdout",
     "output_type": "stream",
     "text": [
      "Check out issue on set:  ../../../../../VRP-Omni-modified/Vrp-Set-Golden/Golden-n361\n",
      "[2024-04-01 17:05:51] test.py(117) : DEBUG_MODE: False\n",
      "[2024-04-01 17:05:51] test.py(118) : USE_CUDA: True, CUDA_DEVICE_NUM: 0\n",
      "[2024-04-01 17:05:51] test.py(119) : env_params{'problem_size': 50, 'pomo_size': 50, 'distribution': {'data_type': 'mixed', 'n_cluster': 3, 'n_cluster_mix': 1, 'lower': 0.2, 'upper': 0.8, 'std': 0.07}, 'load_path': 'data/vrp_uniform50_1000_seed1234.pkl', 'load_raw': None}\n",
      "[2024-04-01 17:05:51] test.py(119) : model_params{'embedding_dim': 64, 'sqrt_embedding_dim': 8.0, 'encoder_layer_num': 6, 'qkv_dim': 8, 'head_num': 8, 'logit_clipping': 10, 'ff_hidden_dim': 512, 'eval_type': 'argmax'}\n",
      "[2024-04-01 17:05:51] test.py(119) : tester_params{'use_cuda': True, 'cuda_device_num': 0, 'model_load': {'path': 'pretrained/checkpoint-cvrp-100.pt', 'epoch': 'test'}, 'test_episodes': 1000, 'test_batch_size': 1, 'augmentation_enable': True, 'aug_factor': 8, 'aug_batch_size': 1, 'test_data_load': {'enable': False, 'filename': ''}, 'test_set_path': '../../../../../VRP-Omni-modified/Vrp-Set-Golden/Golden-n397', 'test_set_opt_sol_path': '../../../../../VRP-Omni-modified/Vrp-Set-A/A-n33-sol', 'test_set_name': 'A-n33'}\n",
      "[2024-04-01 17:05:51] test.py(119) : logger_params{'log_file': {'desc': 'test_cvrp50_pretrained_epochtest', 'filename': 'log.txt', 'filepath': './result/20240401_180549_test_cvrp50_pretrained_epochtest'}}\n",
      "['../../../../../VRP-Omni-modified/Vrp-Set-Golden/Golden-n397/Golden_15.vrp']\n"
     ]
    },
    {
     "name": "stderr",
     "output_type": "stream",
     "text": [
      "/home/xunj/miniconda3/envs/amd/lib/python3.8/site-packages/torch/__init__.py:696: UserWarning: torch.set_default_tensor_type() is deprecated as of PyTorch 2.1, please use torch.set_default_dtype() and torch.set_default_device() as alternatives. (Triggered internally at /opt/conda/conda-bld/pytorch_1708025829503/work/torch/csrc/tensor/python_tensor.cpp:451.)\n",
      "  _C._set_default_tensor_type(t)\n",
      "Traceback (most recent call last):\n",
      "  File \"test.py\", line 140, in <module>\n",
      "    main()\n",
      "  File \"test.py\", line 103, in main\n",
      "    tester = Tester(env_params=env_params,\n",
      "  File \"/home/xunj/GradWork/AMDKD-main/AMDKD-main/AMDKD-POMO/CVRP/POMO/CVRPTester.py\", line 66, in __init__\n",
      "    self.test_data = self.pack_cvrplib(self.path_list)[: self.tester_params['test_episodes']]\n",
      "  File \"/home/xunj/GradWork/AMDKD-main/AMDKD-main/AMDKD-POMO/CVRP/POMO/CVRPTester.py\", line 223, in pack_cvrplib\n",
      "    locations = np.loadtxt(lines[i + 1:i + 1 + dimension], dtype=int)\n",
      "  File \"/home/xunj/miniconda3/envs/amd/lib/python3.8/site-packages/numpy/lib/npyio.py\", line 1163, in loadtxt\n",
      "    chunk.append(packer(convert_row(words)))\n",
      "  File \"/home/xunj/miniconda3/envs/amd/lib/python3.8/site-packages/numpy/lib/npyio.py\", line 1142, in convert_row\n",
      "    return [*map(_conv, vals)]\n",
      "ValueError: invalid literal for int() with base 10: '0.00000'\n"
     ]
    },
    {
     "name": "stdout",
     "output_type": "stream",
     "text": [
      "Check out issue on set:  ../../../../../VRP-Omni-modified/Vrp-Set-Golden/Golden-n397\n",
      "[2024-04-01 17:05:54] test.py(117) : DEBUG_MODE: False\n",
      "[2024-04-01 17:05:54] test.py(118) : USE_CUDA: True, CUDA_DEVICE_NUM: 0\n",
      "[2024-04-01 17:05:54] test.py(119) : env_params{'problem_size': 50, 'pomo_size': 50, 'distribution': {'data_type': 'mixed', 'n_cluster': 3, 'n_cluster_mix': 1, 'lower': 0.2, 'upper': 0.8, 'std': 0.07}, 'load_path': 'data/vrp_uniform50_1000_seed1234.pkl', 'load_raw': None}\n",
      "[2024-04-01 17:05:54] test.py(119) : model_params{'embedding_dim': 64, 'sqrt_embedding_dim': 8.0, 'encoder_layer_num': 6, 'qkv_dim': 8, 'head_num': 8, 'logit_clipping': 10, 'ff_hidden_dim': 512, 'eval_type': 'argmax'}\n",
      "[2024-04-01 17:05:54] test.py(119) : tester_params{'use_cuda': True, 'cuda_device_num': 0, 'model_load': {'path': 'pretrained/checkpoint-cvrp-100.pt', 'epoch': 'test'}, 'test_episodes': 1000, 'test_batch_size': 1, 'augmentation_enable': True, 'aug_factor': 8, 'aug_batch_size': 1, 'test_data_load': {'enable': False, 'filename': ''}, 'test_set_path': '../../../../../VRP-Omni-modified/Vrp-Set-Golden/Golden-n400', 'test_set_opt_sol_path': '../../../../../VRP-Omni-modified/Vrp-Set-A/A-n33-sol', 'test_set_name': 'A-n33'}\n",
      "[2024-04-01 17:05:54] test.py(119) : logger_params{'log_file': {'desc': 'test_cvrp50_pretrained_epochtest', 'filename': 'log.txt', 'filepath': './result/20240401_180552_test_cvrp50_pretrained_epochtest'}}\n",
      "['../../../../../VRP-Omni-modified/Vrp-Set-Golden/Golden-n400/Golden_11.vrp']\n"
     ]
    },
    {
     "name": "stderr",
     "output_type": "stream",
     "text": [
      "/home/xunj/miniconda3/envs/amd/lib/python3.8/site-packages/torch/__init__.py:696: UserWarning: torch.set_default_tensor_type() is deprecated as of PyTorch 2.1, please use torch.set_default_dtype() and torch.set_default_device() as alternatives. (Triggered internally at /opt/conda/conda-bld/pytorch_1708025829503/work/torch/csrc/tensor/python_tensor.cpp:451.)\n",
      "  _C._set_default_tensor_type(t)\n",
      "Traceback (most recent call last):\n",
      "  File \"test.py\", line 140, in <module>\n",
      "    main()\n",
      "  File \"test.py\", line 103, in main\n",
      "    tester = Tester(env_params=env_params,\n",
      "  File \"/home/xunj/GradWork/AMDKD-main/AMDKD-main/AMDKD-POMO/CVRP/POMO/CVRPTester.py\", line 66, in __init__\n",
      "    self.test_data = self.pack_cvrplib(self.path_list)[: self.tester_params['test_episodes']]\n",
      "  File \"/home/xunj/GradWork/AMDKD-main/AMDKD-main/AMDKD-POMO/CVRP/POMO/CVRPTester.py\", line 223, in pack_cvrplib\n",
      "    locations = np.loadtxt(lines[i + 1:i + 1 + dimension], dtype=int)\n",
      "  File \"/home/xunj/miniconda3/envs/amd/lib/python3.8/site-packages/numpy/lib/npyio.py\", line 1163, in loadtxt\n",
      "    chunk.append(packer(convert_row(words)))\n",
      "  File \"/home/xunj/miniconda3/envs/amd/lib/python3.8/site-packages/numpy/lib/npyio.py\", line 1142, in convert_row\n",
      "    return [*map(_conv, vals)]\n",
      "ValueError: invalid literal for int() with base 10: '0.00000'\n"
     ]
    },
    {
     "name": "stdout",
     "output_type": "stream",
     "text": [
      "Check out issue on set:  ../../../../../VRP-Omni-modified/Vrp-Set-Golden/Golden-n400\n",
      "[2024-04-01 17:05:58] test.py(117) : DEBUG_MODE: False\n",
      "[2024-04-01 17:05:58] test.py(118) : USE_CUDA: True, CUDA_DEVICE_NUM: 0\n",
      "[2024-04-01 17:05:58] test.py(119) : env_params{'problem_size': 50, 'pomo_size': 50, 'distribution': {'data_type': 'mixed', 'n_cluster': 3, 'n_cluster_mix': 1, 'lower': 0.2, 'upper': 0.8, 'std': 0.07}, 'load_path': 'data/vrp_uniform50_1000_seed1234.pkl', 'load_raw': None}\n",
      "[2024-04-01 17:05:58] test.py(119) : model_params{'embedding_dim': 64, 'sqrt_embedding_dim': 8.0, 'encoder_layer_num': 6, 'qkv_dim': 8, 'head_num': 8, 'logit_clipping': 10, 'ff_hidden_dim': 512, 'eval_type': 'argmax'}\n",
      "[2024-04-01 17:05:58] test.py(119) : tester_params{'use_cuda': True, 'cuda_device_num': 0, 'model_load': {'path': 'pretrained/checkpoint-cvrp-100.pt', 'epoch': 'test'}, 'test_episodes': 1000, 'test_batch_size': 1, 'augmentation_enable': True, 'aug_factor': 8, 'aug_batch_size': 1, 'test_data_load': {'enable': False, 'filename': ''}, 'test_set_path': '../../../../../VRP-Omni-modified/Vrp-Set-Golden/Golden-n401', 'test_set_opt_sol_path': '../../../../../VRP-Omni-modified/Vrp-Set-A/A-n33-sol', 'test_set_name': 'A-n33'}\n",
      "[2024-04-01 17:05:58] test.py(119) : logger_params{'log_file': {'desc': 'test_cvrp50_pretrained_epochtest', 'filename': 'log.txt', 'filepath': './result/20240401_180556_test_cvrp50_pretrained_epochtest'}}\n",
      "['../../../../../VRP-Omni-modified/Vrp-Set-Golden/Golden-n401/Golden_3.vrp']\n"
     ]
    },
    {
     "name": "stderr",
     "output_type": "stream",
     "text": [
      "/home/xunj/miniconda3/envs/amd/lib/python3.8/site-packages/torch/__init__.py:696: UserWarning: torch.set_default_tensor_type() is deprecated as of PyTorch 2.1, please use torch.set_default_dtype() and torch.set_default_device() as alternatives. (Triggered internally at /opt/conda/conda-bld/pytorch_1708025829503/work/torch/csrc/tensor/python_tensor.cpp:451.)\n",
      "  _C._set_default_tensor_type(t)\n",
      "Traceback (most recent call last):\n",
      "  File \"test.py\", line 140, in <module>\n",
      "    main()\n",
      "  File \"test.py\", line 103, in main\n",
      "    tester = Tester(env_params=env_params,\n",
      "  File \"/home/xunj/GradWork/AMDKD-main/AMDKD-main/AMDKD-POMO/CVRP/POMO/CVRPTester.py\", line 66, in __init__\n",
      "    self.test_data = self.pack_cvrplib(self.path_list)[: self.tester_params['test_episodes']]\n",
      "  File \"/home/xunj/GradWork/AMDKD-main/AMDKD-main/AMDKD-POMO/CVRP/POMO/CVRPTester.py\", line 223, in pack_cvrplib\n",
      "    locations = np.loadtxt(lines[i + 1:i + 1 + dimension], dtype=int)\n",
      "  File \"/home/xunj/miniconda3/envs/amd/lib/python3.8/site-packages/numpy/lib/npyio.py\", line 1163, in loadtxt\n",
      "    chunk.append(packer(convert_row(words)))\n",
      "  File \"/home/xunj/miniconda3/envs/amd/lib/python3.8/site-packages/numpy/lib/npyio.py\", line 1142, in convert_row\n",
      "    return [*map(_conv, vals)]\n",
      "ValueError: invalid literal for int() with base 10: '0.00000'\n"
     ]
    },
    {
     "name": "stdout",
     "output_type": "stream",
     "text": [
      "Check out issue on set:  ../../../../../VRP-Omni-modified/Vrp-Set-Golden/Golden-n401\n",
      "[2024-04-01 17:06:01] test.py(117) : DEBUG_MODE: False\n",
      "[2024-04-01 17:06:01] test.py(118) : USE_CUDA: True, CUDA_DEVICE_NUM: 0\n",
      "[2024-04-01 17:06:01] test.py(119) : env_params{'problem_size': 50, 'pomo_size': 50, 'distribution': {'data_type': 'mixed', 'n_cluster': 3, 'n_cluster_mix': 1, 'lower': 0.2, 'upper': 0.8, 'std': 0.07}, 'load_path': 'data/vrp_uniform50_1000_seed1234.pkl', 'load_raw': None}\n",
      "[2024-04-01 17:06:01] test.py(119) : model_params{'embedding_dim': 64, 'sqrt_embedding_dim': 8.0, 'encoder_layer_num': 6, 'qkv_dim': 8, 'head_num': 8, 'logit_clipping': 10, 'ff_hidden_dim': 512, 'eval_type': 'argmax'}\n",
      "[2024-04-01 17:06:01] test.py(119) : tester_params{'use_cuda': True, 'cuda_device_num': 0, 'model_load': {'path': 'pretrained/checkpoint-cvrp-100.pt', 'epoch': 'test'}, 'test_episodes': 1000, 'test_batch_size': 1, 'augmentation_enable': True, 'aug_factor': 8, 'aug_batch_size': 1, 'test_data_load': {'enable': False, 'filename': ''}, 'test_set_path': '../../../../../VRP-Omni-modified/Vrp-Set-Golden/Golden-n421', 'test_set_opt_sol_path': '../../../../../VRP-Omni-modified/Vrp-Set-A/A-n33-sol', 'test_set_name': 'A-n33'}\n",
      "[2024-04-01 17:06:01] test.py(119) : logger_params{'log_file': {'desc': 'test_cvrp50_pretrained_epochtest', 'filename': 'log.txt', 'filepath': './result/20240401_180559_test_cvrp50_pretrained_epochtest'}}\n",
      "['../../../../../VRP-Omni-modified/Vrp-Set-Golden/Golden-n421/Golden_20.vrp']\n"
     ]
    },
    {
     "name": "stderr",
     "output_type": "stream",
     "text": [
      "/home/xunj/miniconda3/envs/amd/lib/python3.8/site-packages/torch/__init__.py:696: UserWarning: torch.set_default_tensor_type() is deprecated as of PyTorch 2.1, please use torch.set_default_dtype() and torch.set_default_device() as alternatives. (Triggered internally at /opt/conda/conda-bld/pytorch_1708025829503/work/torch/csrc/tensor/python_tensor.cpp:451.)\n",
      "  _C._set_default_tensor_type(t)\n",
      "Traceback (most recent call last):\n",
      "  File \"test.py\", line 140, in <module>\n",
      "    main()\n",
      "  File \"test.py\", line 103, in main\n",
      "    tester = Tester(env_params=env_params,\n",
      "  File \"/home/xunj/GradWork/AMDKD-main/AMDKD-main/AMDKD-POMO/CVRP/POMO/CVRPTester.py\", line 66, in __init__\n",
      "    self.test_data = self.pack_cvrplib(self.path_list)[: self.tester_params['test_episodes']]\n",
      "  File \"/home/xunj/GradWork/AMDKD-main/AMDKD-main/AMDKD-POMO/CVRP/POMO/CVRPTester.py\", line 223, in pack_cvrplib\n",
      "    locations = np.loadtxt(lines[i + 1:i + 1 + dimension], dtype=int)\n",
      "  File \"/home/xunj/miniconda3/envs/amd/lib/python3.8/site-packages/numpy/lib/npyio.py\", line 1163, in loadtxt\n",
      "    chunk.append(packer(convert_row(words)))\n",
      "  File \"/home/xunj/miniconda3/envs/amd/lib/python3.8/site-packages/numpy/lib/npyio.py\", line 1142, in convert_row\n",
      "    return [*map(_conv, vals)]\n",
      "ValueError: invalid literal for int() with base 10: '0.00000'\n"
     ]
    },
    {
     "name": "stdout",
     "output_type": "stream",
     "text": [
      "Check out issue on set:  ../../../../../VRP-Omni-modified/Vrp-Set-Golden/Golden-n421\n",
      "[2024-04-01 17:06:05] test.py(117) : DEBUG_MODE: False\n",
      "[2024-04-01 17:06:05] test.py(118) : USE_CUDA: True, CUDA_DEVICE_NUM: 0\n",
      "[2024-04-01 17:06:05] test.py(119) : env_params{'problem_size': 50, 'pomo_size': 50, 'distribution': {'data_type': 'mixed', 'n_cluster': 3, 'n_cluster_mix': 1, 'lower': 0.2, 'upper': 0.8, 'std': 0.07}, 'load_path': 'data/vrp_uniform50_1000_seed1234.pkl', 'load_raw': None}\n",
      "[2024-04-01 17:06:05] test.py(119) : model_params{'embedding_dim': 64, 'sqrt_embedding_dim': 8.0, 'encoder_layer_num': 6, 'qkv_dim': 8, 'head_num': 8, 'logit_clipping': 10, 'ff_hidden_dim': 512, 'eval_type': 'argmax'}\n",
      "[2024-04-01 17:06:05] test.py(119) : tester_params{'use_cuda': True, 'cuda_device_num': 0, 'model_load': {'path': 'pretrained/checkpoint-cvrp-100.pt', 'epoch': 'test'}, 'test_episodes': 1000, 'test_batch_size': 1, 'augmentation_enable': True, 'aug_factor': 8, 'aug_batch_size': 1, 'test_data_load': {'enable': False, 'filename': ''}, 'test_set_path': '../../../../../VRP-Omni-modified/Vrp-Set-Golden/Golden-n441', 'test_set_opt_sol_path': '../../../../../VRP-Omni-modified/Vrp-Set-A/A-n33-sol', 'test_set_name': 'A-n33'}\n",
      "[2024-04-01 17:06:05] test.py(119) : logger_params{'log_file': {'desc': 'test_cvrp50_pretrained_epochtest', 'filename': 'log.txt', 'filepath': './result/20240401_180603_test_cvrp50_pretrained_epochtest'}}\n",
      "['../../../../../VRP-Omni-modified/Vrp-Set-Golden/Golden-n441/Golden_8.vrp']\n"
     ]
    },
    {
     "name": "stderr",
     "output_type": "stream",
     "text": [
      "/home/xunj/miniconda3/envs/amd/lib/python3.8/site-packages/torch/__init__.py:696: UserWarning: torch.set_default_tensor_type() is deprecated as of PyTorch 2.1, please use torch.set_default_dtype() and torch.set_default_device() as alternatives. (Triggered internally at /opt/conda/conda-bld/pytorch_1708025829503/work/torch/csrc/tensor/python_tensor.cpp:451.)\n",
      "  _C._set_default_tensor_type(t)\n",
      "Traceback (most recent call last):\n",
      "  File \"test.py\", line 140, in <module>\n",
      "    main()\n",
      "  File \"test.py\", line 103, in main\n",
      "    tester = Tester(env_params=env_params,\n",
      "  File \"/home/xunj/GradWork/AMDKD-main/AMDKD-main/AMDKD-POMO/CVRP/POMO/CVRPTester.py\", line 66, in __init__\n",
      "    self.test_data = self.pack_cvrplib(self.path_list)[: self.tester_params['test_episodes']]\n",
      "  File \"/home/xunj/GradWork/AMDKD-main/AMDKD-main/AMDKD-POMO/CVRP/POMO/CVRPTester.py\", line 223, in pack_cvrplib\n",
      "    locations = np.loadtxt(lines[i + 1:i + 1 + dimension], dtype=int)\n",
      "  File \"/home/xunj/miniconda3/envs/amd/lib/python3.8/site-packages/numpy/lib/npyio.py\", line 1163, in loadtxt\n",
      "    chunk.append(packer(convert_row(words)))\n",
      "  File \"/home/xunj/miniconda3/envs/amd/lib/python3.8/site-packages/numpy/lib/npyio.py\", line 1142, in convert_row\n",
      "    return [*map(_conv, vals)]\n",
      "ValueError: invalid literal for int() with base 10: '0.00000'\n"
     ]
    },
    {
     "name": "stdout",
     "output_type": "stream",
     "text": [
      "Check out issue on set:  ../../../../../VRP-Omni-modified/Vrp-Set-Golden/Golden-n441\n",
      "[2024-04-01 17:06:08] test.py(117) : DEBUG_MODE: False\n",
      "[2024-04-01 17:06:08] test.py(118) : USE_CUDA: True, CUDA_DEVICE_NUM: 0\n",
      "[2024-04-01 17:06:08] test.py(119) : env_params{'problem_size': 50, 'pomo_size': 50, 'distribution': {'data_type': 'mixed', 'n_cluster': 3, 'n_cluster_mix': 1, 'lower': 0.2, 'upper': 0.8, 'std': 0.07}, 'load_path': 'data/vrp_uniform50_1000_seed1234.pkl', 'load_raw': None}\n",
      "[2024-04-01 17:06:08] test.py(119) : model_params{'embedding_dim': 64, 'sqrt_embedding_dim': 8.0, 'encoder_layer_num': 6, 'qkv_dim': 8, 'head_num': 8, 'logit_clipping': 10, 'ff_hidden_dim': 512, 'eval_type': 'argmax'}\n",
      "[2024-04-01 17:06:08] test.py(119) : tester_params{'use_cuda': True, 'cuda_device_num': 0, 'model_load': {'path': 'pretrained/checkpoint-cvrp-100.pt', 'epoch': 'test'}, 'test_episodes': 1000, 'test_batch_size': 1, 'augmentation_enable': True, 'aug_factor': 8, 'aug_batch_size': 1, 'test_data_load': {'enable': False, 'filename': ''}, 'test_set_path': '../../../../../VRP-Omni-modified/Vrp-Set-Golden/Golden-n481', 'test_set_opt_sol_path': '../../../../../VRP-Omni-modified/Vrp-Set-A/A-n33-sol', 'test_set_name': 'A-n33'}\n",
      "[2024-04-01 17:06:08] test.py(119) : logger_params{'log_file': {'desc': 'test_cvrp50_pretrained_epochtest', 'filename': 'log.txt', 'filepath': './result/20240401_180607_test_cvrp50_pretrained_epochtest'}}\n",
      "['../../../../../VRP-Omni-modified/Vrp-Set-Golden/Golden-n481/Golden_16.vrp', '../../../../../VRP-Omni-modified/Vrp-Set-Golden/Golden-n481/Golden_4.vrp']\n"
     ]
    },
    {
     "name": "stderr",
     "output_type": "stream",
     "text": [
      "/home/xunj/miniconda3/envs/amd/lib/python3.8/site-packages/torch/__init__.py:696: UserWarning: torch.set_default_tensor_type() is deprecated as of PyTorch 2.1, please use torch.set_default_dtype() and torch.set_default_device() as alternatives. (Triggered internally at /opt/conda/conda-bld/pytorch_1708025829503/work/torch/csrc/tensor/python_tensor.cpp:451.)\n",
      "  _C._set_default_tensor_type(t)\n",
      "Traceback (most recent call last):\n",
      "  File \"test.py\", line 140, in <module>\n",
      "    main()\n",
      "  File \"test.py\", line 103, in main\n",
      "    tester = Tester(env_params=env_params,\n",
      "  File \"/home/xunj/GradWork/AMDKD-main/AMDKD-main/AMDKD-POMO/CVRP/POMO/CVRPTester.py\", line 66, in __init__\n",
      "    self.test_data = self.pack_cvrplib(self.path_list)[: self.tester_params['test_episodes']]\n",
      "  File \"/home/xunj/GradWork/AMDKD-main/AMDKD-main/AMDKD-POMO/CVRP/POMO/CVRPTester.py\", line 223, in pack_cvrplib\n",
      "    locations = np.loadtxt(lines[i + 1:i + 1 + dimension], dtype=int)\n",
      "  File \"/home/xunj/miniconda3/envs/amd/lib/python3.8/site-packages/numpy/lib/npyio.py\", line 1163, in loadtxt\n",
      "    chunk.append(packer(convert_row(words)))\n",
      "  File \"/home/xunj/miniconda3/envs/amd/lib/python3.8/site-packages/numpy/lib/npyio.py\", line 1142, in convert_row\n",
      "    return [*map(_conv, vals)]\n",
      "ValueError: invalid literal for int() with base 10: '0.00000'\n"
     ]
    },
    {
     "name": "stdout",
     "output_type": "stream",
     "text": [
      "Check out issue on set:  ../../../../../VRP-Omni-modified/Vrp-Set-Golden/Golden-n481\n",
      "[2024-04-01 17:06:12] test.py(117) : DEBUG_MODE: False\n",
      "[2024-04-01 17:06:12] test.py(118) : USE_CUDA: True, CUDA_DEVICE_NUM: 0\n",
      "[2024-04-01 17:06:12] test.py(119) : env_params{'problem_size': 50, 'pomo_size': 50, 'distribution': {'data_type': 'mixed', 'n_cluster': 3, 'n_cluster_mix': 1, 'lower': 0.2, 'upper': 0.8, 'std': 0.07}, 'load_path': 'data/vrp_uniform50_1000_seed1234.pkl', 'load_raw': None}\n",
      "[2024-04-01 17:06:12] test.py(119) : model_params{'embedding_dim': 64, 'sqrt_embedding_dim': 8.0, 'encoder_layer_num': 6, 'qkv_dim': 8, 'head_num': 8, 'logit_clipping': 10, 'ff_hidden_dim': 512, 'eval_type': 'argmax'}\n",
      "[2024-04-01 17:06:12] test.py(119) : tester_params{'use_cuda': True, 'cuda_device_num': 0, 'model_load': {'path': 'pretrained/checkpoint-cvrp-100.pt', 'epoch': 'test'}, 'test_episodes': 1000, 'test_batch_size': 1, 'augmentation_enable': True, 'aug_factor': 8, 'aug_batch_size': 1, 'test_data_load': {'enable': False, 'filename': ''}, 'test_set_path': '../../../../../VRP-Omni-modified/Vrp-Set-Golden/Golden-n484', 'test_set_opt_sol_path': '../../../../../VRP-Omni-modified/Vrp-Set-A/A-n33-sol', 'test_set_name': 'A-n33'}\n",
      "[2024-04-01 17:06:12] test.py(119) : logger_params{'log_file': {'desc': 'test_cvrp50_pretrained_epochtest', 'filename': 'log.txt', 'filepath': './result/20240401_180610_test_cvrp50_pretrained_epochtest'}}\n",
      "['../../../../../VRP-Omni-modified/Vrp-Set-Golden/Golden-n484/Golden_12.vrp']\n"
     ]
    },
    {
     "name": "stderr",
     "output_type": "stream",
     "text": [
      "/home/xunj/miniconda3/envs/amd/lib/python3.8/site-packages/torch/__init__.py:696: UserWarning: torch.set_default_tensor_type() is deprecated as of PyTorch 2.1, please use torch.set_default_dtype() and torch.set_default_device() as alternatives. (Triggered internally at /opt/conda/conda-bld/pytorch_1708025829503/work/torch/csrc/tensor/python_tensor.cpp:451.)\n",
      "  _C._set_default_tensor_type(t)\n",
      "Traceback (most recent call last):\n",
      "  File \"test.py\", line 140, in <module>\n",
      "    main()\n",
      "  File \"test.py\", line 103, in main\n",
      "    tester = Tester(env_params=env_params,\n",
      "  File \"/home/xunj/GradWork/AMDKD-main/AMDKD-main/AMDKD-POMO/CVRP/POMO/CVRPTester.py\", line 66, in __init__\n",
      "    self.test_data = self.pack_cvrplib(self.path_list)[: self.tester_params['test_episodes']]\n",
      "  File \"/home/xunj/GradWork/AMDKD-main/AMDKD-main/AMDKD-POMO/CVRP/POMO/CVRPTester.py\", line 223, in pack_cvrplib\n",
      "    locations = np.loadtxt(lines[i + 1:i + 1 + dimension], dtype=int)\n",
      "  File \"/home/xunj/miniconda3/envs/amd/lib/python3.8/site-packages/numpy/lib/npyio.py\", line 1163, in loadtxt\n",
      "    chunk.append(packer(convert_row(words)))\n",
      "  File \"/home/xunj/miniconda3/envs/amd/lib/python3.8/site-packages/numpy/lib/npyio.py\", line 1142, in convert_row\n",
      "    return [*map(_conv, vals)]\n",
      "ValueError: invalid literal for int() with base 10: '0.00000'\n"
     ]
    },
    {
     "name": "stdout",
     "output_type": "stream",
     "text": [
      "Check out issue on set:  ../../../../../VRP-Omni-modified/Vrp-Set-Golden/Golden-n484\n",
      "[2024-04-01 17:06:16] test.py(117) : DEBUG_MODE: False\n",
      "[2024-04-01 17:06:16] test.py(118) : USE_CUDA: True, CUDA_DEVICE_NUM: 0\n",
      "[2024-04-01 17:06:16] test.py(119) : env_params{'problem_size': 50, 'pomo_size': 50, 'distribution': {'data_type': 'mixed', 'n_cluster': 3, 'n_cluster_mix': 1, 'lower': 0.2, 'upper': 0.8, 'std': 0.07}, 'load_path': 'data/vrp_uniform50_1000_seed1234.pkl', 'load_raw': None}\n",
      "[2024-04-01 17:06:16] test.py(119) : model_params{'embedding_dim': 64, 'sqrt_embedding_dim': 8.0, 'encoder_layer_num': 6, 'qkv_dim': 8, 'head_num': 8, 'logit_clipping': 10, 'ff_hidden_dim': 512, 'eval_type': 'argmax'}\n",
      "[2024-04-01 17:06:16] test.py(119) : tester_params{'use_cuda': True, 'cuda_device_num': 0, 'model_load': {'path': 'pretrained/checkpoint-cvrp-100.pt', 'epoch': 'test'}, 'test_episodes': 1000, 'test_batch_size': 1, 'augmentation_enable': True, 'aug_factor': 8, 'aug_batch_size': 1, 'test_data_load': {'enable': False, 'filename': ''}, 'test_set_path': '../../../../../VRP-Omni-modified/Vrp-Set-Li/Li-n1041', 'test_set_opt_sol_path': '../../../../../VRP-Omni-modified/Vrp-Set-A/A-n33-sol', 'test_set_name': 'A-n33'}\n",
      "[2024-04-01 17:06:16] test.py(119) : logger_params{'log_file': {'desc': 'test_cvrp50_pretrained_epochtest', 'filename': 'log.txt', 'filepath': './result/20240401_180614_test_cvrp50_pretrained_epochtest'}}\n",
      "['../../../../../VRP-Omni-modified/Vrp-Set-Li/Li-n1041/Li_30.vrp']\n"
     ]
    },
    {
     "name": "stderr",
     "output_type": "stream",
     "text": [
      "/home/xunj/miniconda3/envs/amd/lib/python3.8/site-packages/torch/__init__.py:696: UserWarning: torch.set_default_tensor_type() is deprecated as of PyTorch 2.1, please use torch.set_default_dtype() and torch.set_default_device() as alternatives. (Triggered internally at /opt/conda/conda-bld/pytorch_1708025829503/work/torch/csrc/tensor/python_tensor.cpp:451.)\n",
      "  _C._set_default_tensor_type(t)\n",
      "Traceback (most recent call last):\n",
      "  File \"test.py\", line 140, in <module>\n",
      "    main()\n",
      "  File \"test.py\", line 103, in main\n",
      "    tester = Tester(env_params=env_params,\n",
      "  File \"/home/xunj/GradWork/AMDKD-main/AMDKD-main/AMDKD-POMO/CVRP/POMO/CVRPTester.py\", line 66, in __init__\n",
      "    self.test_data = self.pack_cvrplib(self.path_list)[: self.tester_params['test_episodes']]\n",
      "  File \"/home/xunj/GradWork/AMDKD-main/AMDKD-main/AMDKD-POMO/CVRP/POMO/CVRPTester.py\", line 223, in pack_cvrplib\n",
      "    locations = np.loadtxt(lines[i + 1:i + 1 + dimension], dtype=int)\n",
      "  File \"/home/xunj/miniconda3/envs/amd/lib/python3.8/site-packages/numpy/lib/npyio.py\", line 1163, in loadtxt\n",
      "    chunk.append(packer(convert_row(words)))\n",
      "  File \"/home/xunj/miniconda3/envs/amd/lib/python3.8/site-packages/numpy/lib/npyio.py\", line 1142, in convert_row\n",
      "    return [*map(_conv, vals)]\n",
      "ValueError: invalid literal for int() with base 10: '0.0000'\n"
     ]
    },
    {
     "name": "stdout",
     "output_type": "stream",
     "text": [
      "Check out issue on set:  ../../../../../VRP-Omni-modified/Vrp-Set-Li/Li-n1041\n",
      "[2024-04-01 17:06:19] test.py(117) : DEBUG_MODE: False\n",
      "[2024-04-01 17:06:19] test.py(118) : USE_CUDA: True, CUDA_DEVICE_NUM: 0\n",
      "[2024-04-01 17:06:19] test.py(119) : env_params{'problem_size': 50, 'pomo_size': 50, 'distribution': {'data_type': 'mixed', 'n_cluster': 3, 'n_cluster_mix': 1, 'lower': 0.2, 'upper': 0.8, 'std': 0.07}, 'load_path': 'data/vrp_uniform50_1000_seed1234.pkl', 'load_raw': None}\n",
      "[2024-04-01 17:06:19] test.py(119) : model_params{'embedding_dim': 64, 'sqrt_embedding_dim': 8.0, 'encoder_layer_num': 6, 'qkv_dim': 8, 'head_num': 8, 'logit_clipping': 10, 'ff_hidden_dim': 512, 'eval_type': 'argmax'}\n",
      "[2024-04-01 17:06:19] test.py(119) : tester_params{'use_cuda': True, 'cuda_device_num': 0, 'model_load': {'path': 'pretrained/checkpoint-cvrp-100.pt', 'epoch': 'test'}, 'test_episodes': 1000, 'test_batch_size': 1, 'augmentation_enable': True, 'aug_factor': 8, 'aug_batch_size': 1, 'test_data_load': {'enable': False, 'filename': ''}, 'test_set_path': '../../../../../VRP-Omni-modified/Vrp-Set-Li/Li-n1121', 'test_set_opt_sol_path': '../../../../../VRP-Omni-modified/Vrp-Set-A/A-n33-sol', 'test_set_name': 'A-n33'}\n",
      "[2024-04-01 17:06:19] test.py(119) : logger_params{'log_file': {'desc': 'test_cvrp50_pretrained_epochtest', 'filename': 'log.txt', 'filepath': './result/20240401_180617_test_cvrp50_pretrained_epochtest'}}\n",
      "['../../../../../VRP-Omni-modified/Vrp-Set-Li/Li-n1121/Li_31.vrp']\n"
     ]
    },
    {
     "name": "stderr",
     "output_type": "stream",
     "text": [
      "/home/xunj/miniconda3/envs/amd/lib/python3.8/site-packages/torch/__init__.py:696: UserWarning: torch.set_default_tensor_type() is deprecated as of PyTorch 2.1, please use torch.set_default_dtype() and torch.set_default_device() as alternatives. (Triggered internally at /opt/conda/conda-bld/pytorch_1708025829503/work/torch/csrc/tensor/python_tensor.cpp:451.)\n",
      "  _C._set_default_tensor_type(t)\n",
      "Traceback (most recent call last):\n",
      "  File \"test.py\", line 140, in <module>\n",
      "    main()\n",
      "  File \"test.py\", line 103, in main\n",
      "    tester = Tester(env_params=env_params,\n",
      "  File \"/home/xunj/GradWork/AMDKD-main/AMDKD-main/AMDKD-POMO/CVRP/POMO/CVRPTester.py\", line 66, in __init__\n",
      "    self.test_data = self.pack_cvrplib(self.path_list)[: self.tester_params['test_episodes']]\n",
      "  File \"/home/xunj/GradWork/AMDKD-main/AMDKD-main/AMDKD-POMO/CVRP/POMO/CVRPTester.py\", line 223, in pack_cvrplib\n",
      "    locations = np.loadtxt(lines[i + 1:i + 1 + dimension], dtype=int)\n",
      "  File \"/home/xunj/miniconda3/envs/amd/lib/python3.8/site-packages/numpy/lib/npyio.py\", line 1163, in loadtxt\n",
      "    chunk.append(packer(convert_row(words)))\n",
      "  File \"/home/xunj/miniconda3/envs/amd/lib/python3.8/site-packages/numpy/lib/npyio.py\", line 1142, in convert_row\n",
      "    return [*map(_conv, vals)]\n",
      "ValueError: invalid literal for int() with base 10: '0.0000'\n"
     ]
    },
    {
     "name": "stdout",
     "output_type": "stream",
     "text": [
      "Check out issue on set:  ../../../../../VRP-Omni-modified/Vrp-Set-Li/Li-n1121\n",
      "[2024-04-01 17:06:23] test.py(117) : DEBUG_MODE: False\n",
      "[2024-04-01 17:06:23] test.py(118) : USE_CUDA: True, CUDA_DEVICE_NUM: 0\n",
      "[2024-04-01 17:06:23] test.py(119) : env_params{'problem_size': 50, 'pomo_size': 50, 'distribution': {'data_type': 'mixed', 'n_cluster': 3, 'n_cluster_mix': 1, 'lower': 0.2, 'upper': 0.8, 'std': 0.07}, 'load_path': 'data/vrp_uniform50_1000_seed1234.pkl', 'load_raw': None}\n",
      "[2024-04-01 17:06:23] test.py(119) : model_params{'embedding_dim': 64, 'sqrt_embedding_dim': 8.0, 'encoder_layer_num': 6, 'qkv_dim': 8, 'head_num': 8, 'logit_clipping': 10, 'ff_hidden_dim': 512, 'eval_type': 'argmax'}\n",
      "[2024-04-01 17:06:23] test.py(119) : tester_params{'use_cuda': True, 'cuda_device_num': 0, 'model_load': {'path': 'pretrained/checkpoint-cvrp-100.pt', 'epoch': 'test'}, 'test_episodes': 1000, 'test_batch_size': 1, 'augmentation_enable': True, 'aug_factor': 8, 'aug_batch_size': 1, 'test_data_load': {'enable': False, 'filename': ''}, 'test_set_path': '../../../../../VRP-Omni-modified/Vrp-Set-Li/Li-n1201', 'test_set_opt_sol_path': '../../../../../VRP-Omni-modified/Vrp-Set-A/A-n33-sol', 'test_set_name': 'A-n33'}\n",
      "[2024-04-01 17:06:23] test.py(119) : logger_params{'log_file': {'desc': 'test_cvrp50_pretrained_epochtest', 'filename': 'log.txt', 'filepath': './result/20240401_180621_test_cvrp50_pretrained_epochtest'}}\n",
      "['../../../../../VRP-Omni-modified/Vrp-Set-Li/Li-n1201/Li_32.vrp']\n"
     ]
    },
    {
     "name": "stderr",
     "output_type": "stream",
     "text": [
      "/home/xunj/miniconda3/envs/amd/lib/python3.8/site-packages/torch/__init__.py:696: UserWarning: torch.set_default_tensor_type() is deprecated as of PyTorch 2.1, please use torch.set_default_dtype() and torch.set_default_device() as alternatives. (Triggered internally at /opt/conda/conda-bld/pytorch_1708025829503/work/torch/csrc/tensor/python_tensor.cpp:451.)\n",
      "  _C._set_default_tensor_type(t)\n",
      "Traceback (most recent call last):\n",
      "  File \"test.py\", line 140, in <module>\n",
      "    main()\n",
      "  File \"test.py\", line 103, in main\n",
      "    tester = Tester(env_params=env_params,\n",
      "  File \"/home/xunj/GradWork/AMDKD-main/AMDKD-main/AMDKD-POMO/CVRP/POMO/CVRPTester.py\", line 66, in __init__\n",
      "    self.test_data = self.pack_cvrplib(self.path_list)[: self.tester_params['test_episodes']]\n",
      "  File \"/home/xunj/GradWork/AMDKD-main/AMDKD-main/AMDKD-POMO/CVRP/POMO/CVRPTester.py\", line 223, in pack_cvrplib\n",
      "    locations = np.loadtxt(lines[i + 1:i + 1 + dimension], dtype=int)\n",
      "  File \"/home/xunj/miniconda3/envs/amd/lib/python3.8/site-packages/numpy/lib/npyio.py\", line 1163, in loadtxt\n",
      "    chunk.append(packer(convert_row(words)))\n",
      "  File \"/home/xunj/miniconda3/envs/amd/lib/python3.8/site-packages/numpy/lib/npyio.py\", line 1142, in convert_row\n",
      "    return [*map(_conv, vals)]\n",
      "ValueError: invalid literal for int() with base 10: '0.0000'\n"
     ]
    },
    {
     "name": "stdout",
     "output_type": "stream",
     "text": [
      "Check out issue on set:  ../../../../../VRP-Omni-modified/Vrp-Set-Li/Li-n1201\n",
      "[2024-04-01 17:06:27] test.py(117) : DEBUG_MODE: False\n",
      "[2024-04-01 17:06:27] test.py(118) : USE_CUDA: True, CUDA_DEVICE_NUM: 0\n",
      "[2024-04-01 17:06:27] test.py(119) : env_params{'problem_size': 50, 'pomo_size': 50, 'distribution': {'data_type': 'mixed', 'n_cluster': 3, 'n_cluster_mix': 1, 'lower': 0.2, 'upper': 0.8, 'std': 0.07}, 'load_path': 'data/vrp_uniform50_1000_seed1234.pkl', 'load_raw': None}\n",
      "[2024-04-01 17:06:27] test.py(119) : model_params{'embedding_dim': 64, 'sqrt_embedding_dim': 8.0, 'encoder_layer_num': 6, 'qkv_dim': 8, 'head_num': 8, 'logit_clipping': 10, 'ff_hidden_dim': 512, 'eval_type': 'argmax'}\n",
      "[2024-04-01 17:06:27] test.py(119) : tester_params{'use_cuda': True, 'cuda_device_num': 0, 'model_load': {'path': 'pretrained/checkpoint-cvrp-100.pt', 'epoch': 'test'}, 'test_episodes': 1000, 'test_batch_size': 1, 'augmentation_enable': True, 'aug_factor': 8, 'aug_batch_size': 1, 'test_data_load': {'enable': False, 'filename': ''}, 'test_set_path': '../../../../../VRP-Omni-modified/Vrp-Set-Li/Li-n561', 'test_set_opt_sol_path': '../../../../../VRP-Omni-modified/Vrp-Set-A/A-n33-sol', 'test_set_name': 'A-n33'}\n",
      "[2024-04-01 17:06:27] test.py(119) : logger_params{'log_file': {'desc': 'test_cvrp50_pretrained_epochtest', 'filename': 'log.txt', 'filepath': './result/20240401_180625_test_cvrp50_pretrained_epochtest'}}\n",
      "['../../../../../VRP-Omni-modified/Vrp-Set-Li/Li-n561/Li_21.vrp']\n"
     ]
    },
    {
     "name": "stderr",
     "output_type": "stream",
     "text": [
      "/home/xunj/miniconda3/envs/amd/lib/python3.8/site-packages/torch/__init__.py:696: UserWarning: torch.set_default_tensor_type() is deprecated as of PyTorch 2.1, please use torch.set_default_dtype() and torch.set_default_device() as alternatives. (Triggered internally at /opt/conda/conda-bld/pytorch_1708025829503/work/torch/csrc/tensor/python_tensor.cpp:451.)\n",
      "  _C._set_default_tensor_type(t)\n",
      "Traceback (most recent call last):\n",
      "  File \"test.py\", line 140, in <module>\n",
      "    main()\n",
      "  File \"test.py\", line 103, in main\n",
      "    tester = Tester(env_params=env_params,\n",
      "  File \"/home/xunj/GradWork/AMDKD-main/AMDKD-main/AMDKD-POMO/CVRP/POMO/CVRPTester.py\", line 66, in __init__\n",
      "    self.test_data = self.pack_cvrplib(self.path_list)[: self.tester_params['test_episodes']]\n",
      "  File \"/home/xunj/GradWork/AMDKD-main/AMDKD-main/AMDKD-POMO/CVRP/POMO/CVRPTester.py\", line 223, in pack_cvrplib\n",
      "    locations = np.loadtxt(lines[i + 1:i + 1 + dimension], dtype=int)\n",
      "  File \"/home/xunj/miniconda3/envs/amd/lib/python3.8/site-packages/numpy/lib/npyio.py\", line 1163, in loadtxt\n",
      "    chunk.append(packer(convert_row(words)))\n",
      "  File \"/home/xunj/miniconda3/envs/amd/lib/python3.8/site-packages/numpy/lib/npyio.py\", line 1142, in convert_row\n",
      "    return [*map(_conv, vals)]\n",
      "ValueError: invalid literal for int() with base 10: '0.0000'\n"
     ]
    },
    {
     "name": "stdout",
     "output_type": "stream",
     "text": [
      "Check out issue on set:  ../../../../../VRP-Omni-modified/Vrp-Set-Li/Li-n561\n",
      "[2024-04-01 17:06:30] test.py(117) : DEBUG_MODE: False\n",
      "[2024-04-01 17:06:30] test.py(118) : USE_CUDA: True, CUDA_DEVICE_NUM: 0\n",
      "[2024-04-01 17:06:30] test.py(119) : env_params{'problem_size': 50, 'pomo_size': 50, 'distribution': {'data_type': 'mixed', 'n_cluster': 3, 'n_cluster_mix': 1, 'lower': 0.2, 'upper': 0.8, 'std': 0.07}, 'load_path': 'data/vrp_uniform50_1000_seed1234.pkl', 'load_raw': None}\n",
      "[2024-04-01 17:06:30] test.py(119) : model_params{'embedding_dim': 64, 'sqrt_embedding_dim': 8.0, 'encoder_layer_num': 6, 'qkv_dim': 8, 'head_num': 8, 'logit_clipping': 10, 'ff_hidden_dim': 512, 'eval_type': 'argmax'}\n",
      "[2024-04-01 17:06:30] test.py(119) : tester_params{'use_cuda': True, 'cuda_device_num': 0, 'model_load': {'path': 'pretrained/checkpoint-cvrp-100.pt', 'epoch': 'test'}, 'test_episodes': 1000, 'test_batch_size': 1, 'augmentation_enable': True, 'aug_factor': 8, 'aug_batch_size': 1, 'test_data_load': {'enable': False, 'filename': ''}, 'test_set_path': '../../../../../VRP-Omni-modified/Vrp-Set-Li/Li-n601', 'test_set_opt_sol_path': '../../../../../VRP-Omni-modified/Vrp-Set-A/A-n33-sol', 'test_set_name': 'A-n33'}\n",
      "[2024-04-01 17:06:30] test.py(119) : logger_params{'log_file': {'desc': 'test_cvrp50_pretrained_epochtest', 'filename': 'log.txt', 'filepath': './result/20240401_180628_test_cvrp50_pretrained_epochtest'}}\n",
      "['../../../../../VRP-Omni-modified/Vrp-Set-Li/Li-n601/Li_22.vrp']\n"
     ]
    },
    {
     "name": "stderr",
     "output_type": "stream",
     "text": [
      "/home/xunj/miniconda3/envs/amd/lib/python3.8/site-packages/torch/__init__.py:696: UserWarning: torch.set_default_tensor_type() is deprecated as of PyTorch 2.1, please use torch.set_default_dtype() and torch.set_default_device() as alternatives. (Triggered internally at /opt/conda/conda-bld/pytorch_1708025829503/work/torch/csrc/tensor/python_tensor.cpp:451.)\n",
      "  _C._set_default_tensor_type(t)\n",
      "Traceback (most recent call last):\n",
      "  File \"test.py\", line 140, in <module>\n",
      "    main()\n",
      "  File \"test.py\", line 103, in main\n",
      "    tester = Tester(env_params=env_params,\n",
      "  File \"/home/xunj/GradWork/AMDKD-main/AMDKD-main/AMDKD-POMO/CVRP/POMO/CVRPTester.py\", line 66, in __init__\n",
      "    self.test_data = self.pack_cvrplib(self.path_list)[: self.tester_params['test_episodes']]\n",
      "  File \"/home/xunj/GradWork/AMDKD-main/AMDKD-main/AMDKD-POMO/CVRP/POMO/CVRPTester.py\", line 223, in pack_cvrplib\n",
      "    locations = np.loadtxt(lines[i + 1:i + 1 + dimension], dtype=int)\n",
      "  File \"/home/xunj/miniconda3/envs/amd/lib/python3.8/site-packages/numpy/lib/npyio.py\", line 1163, in loadtxt\n",
      "    chunk.append(packer(convert_row(words)))\n",
      "  File \"/home/xunj/miniconda3/envs/amd/lib/python3.8/site-packages/numpy/lib/npyio.py\", line 1142, in convert_row\n",
      "    return [*map(_conv, vals)]\n",
      "ValueError: invalid literal for int() with base 10: '0.0000'\n"
     ]
    },
    {
     "name": "stdout",
     "output_type": "stream",
     "text": [
      "Check out issue on set:  ../../../../../VRP-Omni-modified/Vrp-Set-Li/Li-n601\n",
      "[2024-04-01 17:06:34] test.py(117) : DEBUG_MODE: False\n",
      "[2024-04-01 17:06:34] test.py(118) : USE_CUDA: True, CUDA_DEVICE_NUM: 0\n",
      "[2024-04-01 17:06:34] test.py(119) : env_params{'problem_size': 50, 'pomo_size': 50, 'distribution': {'data_type': 'mixed', 'n_cluster': 3, 'n_cluster_mix': 1, 'lower': 0.2, 'upper': 0.8, 'std': 0.07}, 'load_path': 'data/vrp_uniform50_1000_seed1234.pkl', 'load_raw': None}\n",
      "[2024-04-01 17:06:34] test.py(119) : model_params{'embedding_dim': 64, 'sqrt_embedding_dim': 8.0, 'encoder_layer_num': 6, 'qkv_dim': 8, 'head_num': 8, 'logit_clipping': 10, 'ff_hidden_dim': 512, 'eval_type': 'argmax'}\n",
      "[2024-04-01 17:06:34] test.py(119) : tester_params{'use_cuda': True, 'cuda_device_num': 0, 'model_load': {'path': 'pretrained/checkpoint-cvrp-100.pt', 'epoch': 'test'}, 'test_episodes': 1000, 'test_batch_size': 1, 'augmentation_enable': True, 'aug_factor': 8, 'aug_batch_size': 1, 'test_data_load': {'enable': False, 'filename': ''}, 'test_set_path': '../../../../../VRP-Omni-modified/Vrp-Set-Li/Li-n641', 'test_set_opt_sol_path': '../../../../../VRP-Omni-modified/Vrp-Set-A/A-n33-sol', 'test_set_name': 'A-n33'}\n",
      "[2024-04-01 17:06:34] test.py(119) : logger_params{'log_file': {'desc': 'test_cvrp50_pretrained_epochtest', 'filename': 'log.txt', 'filepath': './result/20240401_180632_test_cvrp50_pretrained_epochtest'}}\n",
      "['../../../../../VRP-Omni-modified/Vrp-Set-Li/Li-n641/Li_23.vrp']\n"
     ]
    },
    {
     "name": "stderr",
     "output_type": "stream",
     "text": [
      "/home/xunj/miniconda3/envs/amd/lib/python3.8/site-packages/torch/__init__.py:696: UserWarning: torch.set_default_tensor_type() is deprecated as of PyTorch 2.1, please use torch.set_default_dtype() and torch.set_default_device() as alternatives. (Triggered internally at /opt/conda/conda-bld/pytorch_1708025829503/work/torch/csrc/tensor/python_tensor.cpp:451.)\n",
      "  _C._set_default_tensor_type(t)\n",
      "Traceback (most recent call last):\n",
      "  File \"test.py\", line 140, in <module>\n",
      "    main()\n",
      "  File \"test.py\", line 103, in main\n",
      "    tester = Tester(env_params=env_params,\n",
      "  File \"/home/xunj/GradWork/AMDKD-main/AMDKD-main/AMDKD-POMO/CVRP/POMO/CVRPTester.py\", line 66, in __init__\n",
      "    self.test_data = self.pack_cvrplib(self.path_list)[: self.tester_params['test_episodes']]\n",
      "  File \"/home/xunj/GradWork/AMDKD-main/AMDKD-main/AMDKD-POMO/CVRP/POMO/CVRPTester.py\", line 223, in pack_cvrplib\n",
      "    locations = np.loadtxt(lines[i + 1:i + 1 + dimension], dtype=int)\n",
      "  File \"/home/xunj/miniconda3/envs/amd/lib/python3.8/site-packages/numpy/lib/npyio.py\", line 1163, in loadtxt\n",
      "    chunk.append(packer(convert_row(words)))\n",
      "  File \"/home/xunj/miniconda3/envs/amd/lib/python3.8/site-packages/numpy/lib/npyio.py\", line 1142, in convert_row\n",
      "    return [*map(_conv, vals)]\n",
      "ValueError: invalid literal for int() with base 10: '0.0000'\n"
     ]
    },
    {
     "name": "stdout",
     "output_type": "stream",
     "text": [
      "Check out issue on set:  ../../../../../VRP-Omni-modified/Vrp-Set-Li/Li-n641\n",
      "[2024-04-01 17:06:37] test.py(117) : DEBUG_MODE: False\n",
      "[2024-04-01 17:06:37] test.py(118) : USE_CUDA: True, CUDA_DEVICE_NUM: 0\n",
      "[2024-04-01 17:06:37] test.py(119) : env_params{'problem_size': 50, 'pomo_size': 50, 'distribution': {'data_type': 'mixed', 'n_cluster': 3, 'n_cluster_mix': 1, 'lower': 0.2, 'upper': 0.8, 'std': 0.07}, 'load_path': 'data/vrp_uniform50_1000_seed1234.pkl', 'load_raw': None}\n",
      "[2024-04-01 17:06:37] test.py(119) : model_params{'embedding_dim': 64, 'sqrt_embedding_dim': 8.0, 'encoder_layer_num': 6, 'qkv_dim': 8, 'head_num': 8, 'logit_clipping': 10, 'ff_hidden_dim': 512, 'eval_type': 'argmax'}\n",
      "[2024-04-01 17:06:37] test.py(119) : tester_params{'use_cuda': True, 'cuda_device_num': 0, 'model_load': {'path': 'pretrained/checkpoint-cvrp-100.pt', 'epoch': 'test'}, 'test_episodes': 1000, 'test_batch_size': 1, 'augmentation_enable': True, 'aug_factor': 8, 'aug_batch_size': 1, 'test_data_load': {'enable': False, 'filename': ''}, 'test_set_path': '../../../../../VRP-Omni-modified/Vrp-Set-Li/Li-n721', 'test_set_opt_sol_path': '../../../../../VRP-Omni-modified/Vrp-Set-A/A-n33-sol', 'test_set_name': 'A-n33'}\n",
      "[2024-04-01 17:06:37] test.py(119) : logger_params{'log_file': {'desc': 'test_cvrp50_pretrained_epochtest', 'filename': 'log.txt', 'filepath': './result/20240401_180635_test_cvrp50_pretrained_epochtest'}}\n",
      "['../../../../../VRP-Omni-modified/Vrp-Set-Li/Li-n721/Li_24.vrp']\n"
     ]
    },
    {
     "name": "stderr",
     "output_type": "stream",
     "text": [
      "/home/xunj/miniconda3/envs/amd/lib/python3.8/site-packages/torch/__init__.py:696: UserWarning: torch.set_default_tensor_type() is deprecated as of PyTorch 2.1, please use torch.set_default_dtype() and torch.set_default_device() as alternatives. (Triggered internally at /opt/conda/conda-bld/pytorch_1708025829503/work/torch/csrc/tensor/python_tensor.cpp:451.)\n",
      "  _C._set_default_tensor_type(t)\n",
      "Traceback (most recent call last):\n",
      "  File \"test.py\", line 140, in <module>\n",
      "    main()\n",
      "  File \"test.py\", line 103, in main\n",
      "    tester = Tester(env_params=env_params,\n",
      "  File \"/home/xunj/GradWork/AMDKD-main/AMDKD-main/AMDKD-POMO/CVRP/POMO/CVRPTester.py\", line 66, in __init__\n",
      "    self.test_data = self.pack_cvrplib(self.path_list)[: self.tester_params['test_episodes']]\n",
      "  File \"/home/xunj/GradWork/AMDKD-main/AMDKD-main/AMDKD-POMO/CVRP/POMO/CVRPTester.py\", line 223, in pack_cvrplib\n",
      "    locations = np.loadtxt(lines[i + 1:i + 1 + dimension], dtype=int)\n",
      "  File \"/home/xunj/miniconda3/envs/amd/lib/python3.8/site-packages/numpy/lib/npyio.py\", line 1163, in loadtxt\n",
      "    chunk.append(packer(convert_row(words)))\n",
      "  File \"/home/xunj/miniconda3/envs/amd/lib/python3.8/site-packages/numpy/lib/npyio.py\", line 1142, in convert_row\n",
      "    return [*map(_conv, vals)]\n",
      "ValueError: invalid literal for int() with base 10: '0.0000'\n"
     ]
    },
    {
     "name": "stdout",
     "output_type": "stream",
     "text": [
      "Check out issue on set:  ../../../../../VRP-Omni-modified/Vrp-Set-Li/Li-n721\n",
      "[2024-04-01 17:06:41] test.py(117) : DEBUG_MODE: False\n",
      "[2024-04-01 17:06:41] test.py(118) : USE_CUDA: True, CUDA_DEVICE_NUM: 0\n",
      "[2024-04-01 17:06:41] test.py(119) : env_params{'problem_size': 50, 'pomo_size': 50, 'distribution': {'data_type': 'mixed', 'n_cluster': 3, 'n_cluster_mix': 1, 'lower': 0.2, 'upper': 0.8, 'std': 0.07}, 'load_path': 'data/vrp_uniform50_1000_seed1234.pkl', 'load_raw': None}\n",
      "[2024-04-01 17:06:41] test.py(119) : model_params{'embedding_dim': 64, 'sqrt_embedding_dim': 8.0, 'encoder_layer_num': 6, 'qkv_dim': 8, 'head_num': 8, 'logit_clipping': 10, 'ff_hidden_dim': 512, 'eval_type': 'argmax'}\n",
      "[2024-04-01 17:06:41] test.py(119) : tester_params{'use_cuda': True, 'cuda_device_num': 0, 'model_load': {'path': 'pretrained/checkpoint-cvrp-100.pt', 'epoch': 'test'}, 'test_episodes': 1000, 'test_batch_size': 1, 'augmentation_enable': True, 'aug_factor': 8, 'aug_batch_size': 1, 'test_data_load': {'enable': False, 'filename': ''}, 'test_set_path': '../../../../../VRP-Omni-modified/Vrp-Set-Li/Li-n761', 'test_set_opt_sol_path': '../../../../../VRP-Omni-modified/Vrp-Set-A/A-n33-sol', 'test_set_name': 'A-n33'}\n",
      "[2024-04-01 17:06:41] test.py(119) : logger_params{'log_file': {'desc': 'test_cvrp50_pretrained_epochtest', 'filename': 'log.txt', 'filepath': './result/20240401_180639_test_cvrp50_pretrained_epochtest'}}\n",
      "['../../../../../VRP-Omni-modified/Vrp-Set-Li/Li-n761/Li_25.vrp']\n"
     ]
    },
    {
     "name": "stderr",
     "output_type": "stream",
     "text": [
      "/home/xunj/miniconda3/envs/amd/lib/python3.8/site-packages/torch/__init__.py:696: UserWarning: torch.set_default_tensor_type() is deprecated as of PyTorch 2.1, please use torch.set_default_dtype() and torch.set_default_device() as alternatives. (Triggered internally at /opt/conda/conda-bld/pytorch_1708025829503/work/torch/csrc/tensor/python_tensor.cpp:451.)\n",
      "  _C._set_default_tensor_type(t)\n",
      "Traceback (most recent call last):\n",
      "  File \"test.py\", line 140, in <module>\n",
      "    main()\n",
      "  File \"test.py\", line 103, in main\n",
      "    tester = Tester(env_params=env_params,\n",
      "  File \"/home/xunj/GradWork/AMDKD-main/AMDKD-main/AMDKD-POMO/CVRP/POMO/CVRPTester.py\", line 66, in __init__\n",
      "    self.test_data = self.pack_cvrplib(self.path_list)[: self.tester_params['test_episodes']]\n",
      "  File \"/home/xunj/GradWork/AMDKD-main/AMDKD-main/AMDKD-POMO/CVRP/POMO/CVRPTester.py\", line 223, in pack_cvrplib\n",
      "    locations = np.loadtxt(lines[i + 1:i + 1 + dimension], dtype=int)\n",
      "  File \"/home/xunj/miniconda3/envs/amd/lib/python3.8/site-packages/numpy/lib/npyio.py\", line 1163, in loadtxt\n",
      "    chunk.append(packer(convert_row(words)))\n",
      "  File \"/home/xunj/miniconda3/envs/amd/lib/python3.8/site-packages/numpy/lib/npyio.py\", line 1142, in convert_row\n",
      "    return [*map(_conv, vals)]\n",
      "ValueError: invalid literal for int() with base 10: '0.0000'\n"
     ]
    },
    {
     "name": "stdout",
     "output_type": "stream",
     "text": [
      "Check out issue on set:  ../../../../../VRP-Omni-modified/Vrp-Set-Li/Li-n761\n",
      "[2024-04-01 17:06:44] test.py(117) : DEBUG_MODE: False\n",
      "[2024-04-01 17:06:44] test.py(118) : USE_CUDA: True, CUDA_DEVICE_NUM: 0\n",
      "[2024-04-01 17:06:44] test.py(119) : env_params{'problem_size': 50, 'pomo_size': 50, 'distribution': {'data_type': 'mixed', 'n_cluster': 3, 'n_cluster_mix': 1, 'lower': 0.2, 'upper': 0.8, 'std': 0.07}, 'load_path': 'data/vrp_uniform50_1000_seed1234.pkl', 'load_raw': None}\n",
      "[2024-04-01 17:06:44] test.py(119) : model_params{'embedding_dim': 64, 'sqrt_embedding_dim': 8.0, 'encoder_layer_num': 6, 'qkv_dim': 8, 'head_num': 8, 'logit_clipping': 10, 'ff_hidden_dim': 512, 'eval_type': 'argmax'}\n",
      "[2024-04-01 17:06:44] test.py(119) : tester_params{'use_cuda': True, 'cuda_device_num': 0, 'model_load': {'path': 'pretrained/checkpoint-cvrp-100.pt', 'epoch': 'test'}, 'test_episodes': 1000, 'test_batch_size': 1, 'augmentation_enable': True, 'aug_factor': 8, 'aug_batch_size': 1, 'test_data_load': {'enable': False, 'filename': ''}, 'test_set_path': '../../../../../VRP-Omni-modified/Vrp-Set-Li/Li-n801', 'test_set_opt_sol_path': '../../../../../VRP-Omni-modified/Vrp-Set-A/A-n33-sol', 'test_set_name': 'A-n33'}\n",
      "[2024-04-01 17:06:44] test.py(119) : logger_params{'log_file': {'desc': 'test_cvrp50_pretrained_epochtest', 'filename': 'log.txt', 'filepath': './result/20240401_180643_test_cvrp50_pretrained_epochtest'}}\n",
      "['../../../../../VRP-Omni-modified/Vrp-Set-Li/Li-n801/Li_26.vrp']\n"
     ]
    },
    {
     "name": "stderr",
     "output_type": "stream",
     "text": [
      "/home/xunj/miniconda3/envs/amd/lib/python3.8/site-packages/torch/__init__.py:696: UserWarning: torch.set_default_tensor_type() is deprecated as of PyTorch 2.1, please use torch.set_default_dtype() and torch.set_default_device() as alternatives. (Triggered internally at /opt/conda/conda-bld/pytorch_1708025829503/work/torch/csrc/tensor/python_tensor.cpp:451.)\n",
      "  _C._set_default_tensor_type(t)\n",
      "Traceback (most recent call last):\n",
      "  File \"test.py\", line 140, in <module>\n",
      "    main()\n",
      "  File \"test.py\", line 103, in main\n",
      "    tester = Tester(env_params=env_params,\n",
      "  File \"/home/xunj/GradWork/AMDKD-main/AMDKD-main/AMDKD-POMO/CVRP/POMO/CVRPTester.py\", line 66, in __init__\n",
      "    self.test_data = self.pack_cvrplib(self.path_list)[: self.tester_params['test_episodes']]\n",
      "  File \"/home/xunj/GradWork/AMDKD-main/AMDKD-main/AMDKD-POMO/CVRP/POMO/CVRPTester.py\", line 223, in pack_cvrplib\n",
      "    locations = np.loadtxt(lines[i + 1:i + 1 + dimension], dtype=int)\n",
      "  File \"/home/xunj/miniconda3/envs/amd/lib/python3.8/site-packages/numpy/lib/npyio.py\", line 1163, in loadtxt\n",
      "    chunk.append(packer(convert_row(words)))\n",
      "  File \"/home/xunj/miniconda3/envs/amd/lib/python3.8/site-packages/numpy/lib/npyio.py\", line 1142, in convert_row\n",
      "    return [*map(_conv, vals)]\n",
      "ValueError: invalid literal for int() with base 10: '0.0000'\n"
     ]
    },
    {
     "name": "stdout",
     "output_type": "stream",
     "text": [
      "Check out issue on set:  ../../../../../VRP-Omni-modified/Vrp-Set-Li/Li-n801\n",
      "[2024-04-01 17:06:48] test.py(117) : DEBUG_MODE: False\n",
      "[2024-04-01 17:06:48] test.py(118) : USE_CUDA: True, CUDA_DEVICE_NUM: 0\n",
      "[2024-04-01 17:06:48] test.py(119) : env_params{'problem_size': 50, 'pomo_size': 50, 'distribution': {'data_type': 'mixed', 'n_cluster': 3, 'n_cluster_mix': 1, 'lower': 0.2, 'upper': 0.8, 'std': 0.07}, 'load_path': 'data/vrp_uniform50_1000_seed1234.pkl', 'load_raw': None}\n",
      "[2024-04-01 17:06:48] test.py(119) : model_params{'embedding_dim': 64, 'sqrt_embedding_dim': 8.0, 'encoder_layer_num': 6, 'qkv_dim': 8, 'head_num': 8, 'logit_clipping': 10, 'ff_hidden_dim': 512, 'eval_type': 'argmax'}\n",
      "[2024-04-01 17:06:48] test.py(119) : tester_params{'use_cuda': True, 'cuda_device_num': 0, 'model_load': {'path': 'pretrained/checkpoint-cvrp-100.pt', 'epoch': 'test'}, 'test_episodes': 1000, 'test_batch_size': 1, 'augmentation_enable': True, 'aug_factor': 8, 'aug_batch_size': 1, 'test_data_load': {'enable': False, 'filename': ''}, 'test_set_path': '../../../../../VRP-Omni-modified/Vrp-Set-Li/Li-n841', 'test_set_opt_sol_path': '../../../../../VRP-Omni-modified/Vrp-Set-A/A-n33-sol', 'test_set_name': 'A-n33'}\n",
      "[2024-04-01 17:06:48] test.py(119) : logger_params{'log_file': {'desc': 'test_cvrp50_pretrained_epochtest', 'filename': 'log.txt', 'filepath': './result/20240401_180646_test_cvrp50_pretrained_epochtest'}}\n",
      "['../../../../../VRP-Omni-modified/Vrp-Set-Li/Li-n841/Li_27.vrp']\n"
     ]
    },
    {
     "name": "stderr",
     "output_type": "stream",
     "text": [
      "/home/xunj/miniconda3/envs/amd/lib/python3.8/site-packages/torch/__init__.py:696: UserWarning: torch.set_default_tensor_type() is deprecated as of PyTorch 2.1, please use torch.set_default_dtype() and torch.set_default_device() as alternatives. (Triggered internally at /opt/conda/conda-bld/pytorch_1708025829503/work/torch/csrc/tensor/python_tensor.cpp:451.)\n",
      "  _C._set_default_tensor_type(t)\n",
      "Traceback (most recent call last):\n",
      "  File \"test.py\", line 140, in <module>\n",
      "    main()\n",
      "  File \"test.py\", line 103, in main\n",
      "    tester = Tester(env_params=env_params,\n",
      "  File \"/home/xunj/GradWork/AMDKD-main/AMDKD-main/AMDKD-POMO/CVRP/POMO/CVRPTester.py\", line 66, in __init__\n",
      "    self.test_data = self.pack_cvrplib(self.path_list)[: self.tester_params['test_episodes']]\n",
      "  File \"/home/xunj/GradWork/AMDKD-main/AMDKD-main/AMDKD-POMO/CVRP/POMO/CVRPTester.py\", line 223, in pack_cvrplib\n",
      "    locations = np.loadtxt(lines[i + 1:i + 1 + dimension], dtype=int)\n",
      "  File \"/home/xunj/miniconda3/envs/amd/lib/python3.8/site-packages/numpy/lib/npyio.py\", line 1163, in loadtxt\n",
      "    chunk.append(packer(convert_row(words)))\n",
      "  File \"/home/xunj/miniconda3/envs/amd/lib/python3.8/site-packages/numpy/lib/npyio.py\", line 1142, in convert_row\n",
      "    return [*map(_conv, vals)]\n",
      "ValueError: invalid literal for int() with base 10: '0.0000'\n"
     ]
    },
    {
     "name": "stdout",
     "output_type": "stream",
     "text": [
      "Check out issue on set:  ../../../../../VRP-Omni-modified/Vrp-Set-Li/Li-n841\n",
      "[2024-04-01 17:06:51] test.py(117) : DEBUG_MODE: False\n",
      "[2024-04-01 17:06:51] test.py(118) : USE_CUDA: True, CUDA_DEVICE_NUM: 0\n",
      "[2024-04-01 17:06:51] test.py(119) : env_params{'problem_size': 50, 'pomo_size': 50, 'distribution': {'data_type': 'mixed', 'n_cluster': 3, 'n_cluster_mix': 1, 'lower': 0.2, 'upper': 0.8, 'std': 0.07}, 'load_path': 'data/vrp_uniform50_1000_seed1234.pkl', 'load_raw': None}\n",
      "[2024-04-01 17:06:51] test.py(119) : model_params{'embedding_dim': 64, 'sqrt_embedding_dim': 8.0, 'encoder_layer_num': 6, 'qkv_dim': 8, 'head_num': 8, 'logit_clipping': 10, 'ff_hidden_dim': 512, 'eval_type': 'argmax'}\n",
      "[2024-04-01 17:06:51] test.py(119) : tester_params{'use_cuda': True, 'cuda_device_num': 0, 'model_load': {'path': 'pretrained/checkpoint-cvrp-100.pt', 'epoch': 'test'}, 'test_episodes': 1000, 'test_batch_size': 1, 'augmentation_enable': True, 'aug_factor': 8, 'aug_batch_size': 1, 'test_data_load': {'enable': False, 'filename': ''}, 'test_set_path': '../../../../../VRP-Omni-modified/Vrp-Set-Li/Li-n881', 'test_set_opt_sol_path': '../../../../../VRP-Omni-modified/Vrp-Set-A/A-n33-sol', 'test_set_name': 'A-n33'}\n",
      "[2024-04-01 17:06:51] test.py(119) : logger_params{'log_file': {'desc': 'test_cvrp50_pretrained_epochtest', 'filename': 'log.txt', 'filepath': './result/20240401_180650_test_cvrp50_pretrained_epochtest'}}\n",
      "['../../../../../VRP-Omni-modified/Vrp-Set-Li/Li-n881/Li_28.vrp']\n"
     ]
    },
    {
     "name": "stderr",
     "output_type": "stream",
     "text": [
      "/home/xunj/miniconda3/envs/amd/lib/python3.8/site-packages/torch/__init__.py:696: UserWarning: torch.set_default_tensor_type() is deprecated as of PyTorch 2.1, please use torch.set_default_dtype() and torch.set_default_device() as alternatives. (Triggered internally at /opt/conda/conda-bld/pytorch_1708025829503/work/torch/csrc/tensor/python_tensor.cpp:451.)\n",
      "  _C._set_default_tensor_type(t)\n",
      "Traceback (most recent call last):\n",
      "  File \"test.py\", line 140, in <module>\n",
      "    main()\n",
      "  File \"test.py\", line 103, in main\n",
      "    tester = Tester(env_params=env_params,\n",
      "  File \"/home/xunj/GradWork/AMDKD-main/AMDKD-main/AMDKD-POMO/CVRP/POMO/CVRPTester.py\", line 66, in __init__\n",
      "    self.test_data = self.pack_cvrplib(self.path_list)[: self.tester_params['test_episodes']]\n",
      "  File \"/home/xunj/GradWork/AMDKD-main/AMDKD-main/AMDKD-POMO/CVRP/POMO/CVRPTester.py\", line 223, in pack_cvrplib\n",
      "    locations = np.loadtxt(lines[i + 1:i + 1 + dimension], dtype=int)\n",
      "  File \"/home/xunj/miniconda3/envs/amd/lib/python3.8/site-packages/numpy/lib/npyio.py\", line 1163, in loadtxt\n",
      "    chunk.append(packer(convert_row(words)))\n",
      "  File \"/home/xunj/miniconda3/envs/amd/lib/python3.8/site-packages/numpy/lib/npyio.py\", line 1142, in convert_row\n",
      "    return [*map(_conv, vals)]\n",
      "ValueError: invalid literal for int() with base 10: '0.0000'\n"
     ]
    },
    {
     "name": "stdout",
     "output_type": "stream",
     "text": [
      "Check out issue on set:  ../../../../../VRP-Omni-modified/Vrp-Set-Li/Li-n881\n",
      "[2024-04-01 17:06:55] test.py(117) : DEBUG_MODE: False\n",
      "[2024-04-01 17:06:55] test.py(118) : USE_CUDA: True, CUDA_DEVICE_NUM: 0\n",
      "[2024-04-01 17:06:55] test.py(119) : env_params{'problem_size': 50, 'pomo_size': 50, 'distribution': {'data_type': 'mixed', 'n_cluster': 3, 'n_cluster_mix': 1, 'lower': 0.2, 'upper': 0.8, 'std': 0.07}, 'load_path': 'data/vrp_uniform50_1000_seed1234.pkl', 'load_raw': None}\n",
      "[2024-04-01 17:06:55] test.py(119) : model_params{'embedding_dim': 64, 'sqrt_embedding_dim': 8.0, 'encoder_layer_num': 6, 'qkv_dim': 8, 'head_num': 8, 'logit_clipping': 10, 'ff_hidden_dim': 512, 'eval_type': 'argmax'}\n",
      "[2024-04-01 17:06:55] test.py(119) : tester_params{'use_cuda': True, 'cuda_device_num': 0, 'model_load': {'path': 'pretrained/checkpoint-cvrp-100.pt', 'epoch': 'test'}, 'test_episodes': 1000, 'test_batch_size': 1, 'augmentation_enable': True, 'aug_factor': 8, 'aug_batch_size': 1, 'test_data_load': {'enable': False, 'filename': ''}, 'test_set_path': '../../../../../VRP-Omni-modified/Vrp-Set-Li/Li-n961', 'test_set_opt_sol_path': '../../../../../VRP-Omni-modified/Vrp-Set-A/A-n33-sol', 'test_set_name': 'A-n33'}\n",
      "[2024-04-01 17:06:55] test.py(119) : logger_params{'log_file': {'desc': 'test_cvrp50_pretrained_epochtest', 'filename': 'log.txt', 'filepath': './result/20240401_180653_test_cvrp50_pretrained_epochtest'}}\n",
      "['../../../../../VRP-Omni-modified/Vrp-Set-Li/Li-n961/Li_29.vrp']\n"
     ]
    },
    {
     "name": "stderr",
     "output_type": "stream",
     "text": [
      "/home/xunj/miniconda3/envs/amd/lib/python3.8/site-packages/torch/__init__.py:696: UserWarning: torch.set_default_tensor_type() is deprecated as of PyTorch 2.1, please use torch.set_default_dtype() and torch.set_default_device() as alternatives. (Triggered internally at /opt/conda/conda-bld/pytorch_1708025829503/work/torch/csrc/tensor/python_tensor.cpp:451.)\n",
      "  _C._set_default_tensor_type(t)\n",
      "Traceback (most recent call last):\n",
      "  File \"test.py\", line 140, in <module>\n",
      "    main()\n",
      "  File \"test.py\", line 103, in main\n",
      "    tester = Tester(env_params=env_params,\n",
      "  File \"/home/xunj/GradWork/AMDKD-main/AMDKD-main/AMDKD-POMO/CVRP/POMO/CVRPTester.py\", line 66, in __init__\n",
      "    self.test_data = self.pack_cvrplib(self.path_list)[: self.tester_params['test_episodes']]\n",
      "  File \"/home/xunj/GradWork/AMDKD-main/AMDKD-main/AMDKD-POMO/CVRP/POMO/CVRPTester.py\", line 223, in pack_cvrplib\n",
      "    locations = np.loadtxt(lines[i + 1:i + 1 + dimension], dtype=int)\n",
      "  File \"/home/xunj/miniconda3/envs/amd/lib/python3.8/site-packages/numpy/lib/npyio.py\", line 1163, in loadtxt\n",
      "    chunk.append(packer(convert_row(words)))\n",
      "  File \"/home/xunj/miniconda3/envs/amd/lib/python3.8/site-packages/numpy/lib/npyio.py\", line 1142, in convert_row\n",
      "    return [*map(_conv, vals)]\n",
      "ValueError: invalid literal for int() with base 10: '0.0000'\n"
     ]
    },
    {
     "name": "stdout",
     "output_type": "stream",
     "text": [
      "Check out issue on set:  ../../../../../VRP-Omni-modified/Vrp-Set-Li/Li-n961\n",
      "[2024-04-01 17:06:59] test.py(117) : DEBUG_MODE: False\n",
      "[2024-04-01 17:06:59] test.py(118) : USE_CUDA: True, CUDA_DEVICE_NUM: 0\n",
      "[2024-04-01 17:06:59] test.py(119) : env_params{'problem_size': 50, 'pomo_size': 50, 'distribution': {'data_type': 'mixed', 'n_cluster': 3, 'n_cluster_mix': 1, 'lower': 0.2, 'upper': 0.8, 'std': 0.07}, 'load_path': 'data/vrp_uniform50_1000_seed1234.pkl', 'load_raw': None}\n",
      "[2024-04-01 17:06:59] test.py(119) : model_params{'embedding_dim': 64, 'sqrt_embedding_dim': 8.0, 'encoder_layer_num': 6, 'qkv_dim': 8, 'head_num': 8, 'logit_clipping': 10, 'ff_hidden_dim': 512, 'eval_type': 'argmax'}\n",
      "[2024-04-01 17:06:59] test.py(119) : tester_params{'use_cuda': True, 'cuda_device_num': 0, 'model_load': {'path': 'pretrained/checkpoint-cvrp-100.pt', 'epoch': 'test'}, 'test_episodes': 1000, 'test_batch_size': 1, 'augmentation_enable': True, 'aug_factor': 8, 'aug_batch_size': 1, 'test_data_load': {'enable': False, 'filename': ''}, 'test_set_path': '../../../../../VRP-Omni-modified/Vrp-Set-M/M-n101', 'test_set_opt_sol_path': '../../../../../VRP-Omni-modified/Vrp-Set-A/A-n33-sol', 'test_set_name': 'A-n33'}\n",
      "[2024-04-01 17:06:59] test.py(119) : logger_params{'log_file': {'desc': 'test_cvrp50_pretrained_epochtest', 'filename': 'log.txt', 'filepath': './result/20240401_180657_test_cvrp50_pretrained_epochtest'}}\n",
      "['../../../../../VRP-Omni-modified/Vrp-Set-M/M-n101/M-n101-k10.vrp']\n"
     ]
    },
    {
     "name": "stderr",
     "output_type": "stream",
     "text": [
      "/home/xunj/miniconda3/envs/amd/lib/python3.8/site-packages/torch/__init__.py:696: UserWarning: torch.set_default_tensor_type() is deprecated as of PyTorch 2.1, please use torch.set_default_dtype() and torch.set_default_device() as alternatives. (Triggered internally at /opt/conda/conda-bld/pytorch_1708025829503/work/torch/csrc/tensor/python_tensor.cpp:451.)\n",
      "  _C._set_default_tensor_type(t)\n"
     ]
    },
    {
     "name": "stdout",
     "output_type": "stream",
     "text": [
      "pretrained/checkpoint-cvrp-100.pt\n",
      "torch.Size([8, 1])\n",
      "torch.Size([8, 100])\n",
      "[2024-04-01 17:06:59] CVRPTester.py(144) : episode   1/  1, Elapsed[0.01m], Remain[0.00m], score:0.911, aug_score:0.843\n",
      "[2024-04-01 17:06:59] CVRPTester.py(150) :  *** Test Done *** \n",
      "[2024-04-01 17:06:59] CVRPTester.py(151) :  NO-AUG SCORE: 0.9114809632301331 \n",
      "[2024-04-01 17:06:59] CVRPTester.py(152) :  AUGMENTATION SCORE: 0.8431748151779175 \n",
      ">> Evaluation on ../../../../../VRP-Omni-modified/Vrp-Set-M/M-n101 finished within 0.49s\n",
      ">> Save final results to res/M-n101\n",
      "Test on \" ../../../../../VRP-Omni-modified/Vrp-Set-M/M-n101 \" Success\n",
      "-----------------------------------------------------------------------------------------------------------------\n",
      "[2024-04-01 17:07:03] test.py(117) : DEBUG_MODE: False\n",
      "[2024-04-01 17:07:03] test.py(118) : USE_CUDA: True, CUDA_DEVICE_NUM: 0\n",
      "[2024-04-01 17:07:03] test.py(119) : env_params{'problem_size': 50, 'pomo_size': 50, 'distribution': {'data_type': 'mixed', 'n_cluster': 3, 'n_cluster_mix': 1, 'lower': 0.2, 'upper': 0.8, 'std': 0.07}, 'load_path': 'data/vrp_uniform50_1000_seed1234.pkl', 'load_raw': None}\n",
      "[2024-04-01 17:07:03] test.py(119) : model_params{'embedding_dim': 64, 'sqrt_embedding_dim': 8.0, 'encoder_layer_num': 6, 'qkv_dim': 8, 'head_num': 8, 'logit_clipping': 10, 'ff_hidden_dim': 512, 'eval_type': 'argmax'}\n",
      "[2024-04-01 17:07:03] test.py(119) : tester_params{'use_cuda': True, 'cuda_device_num': 0, 'model_load': {'path': 'pretrained/checkpoint-cvrp-100.pt', 'epoch': 'test'}, 'test_episodes': 1000, 'test_batch_size': 1, 'augmentation_enable': True, 'aug_factor': 8, 'aug_batch_size': 1, 'test_data_load': {'enable': False, 'filename': ''}, 'test_set_path': '../../../../../VRP-Omni-modified/Vrp-Set-M/M-n121', 'test_set_opt_sol_path': '../../../../../VRP-Omni-modified/Vrp-Set-A/A-n33-sol', 'test_set_name': 'A-n33'}\n",
      "[2024-04-01 17:07:03] test.py(119) : logger_params{'log_file': {'desc': 'test_cvrp50_pretrained_epochtest', 'filename': 'log.txt', 'filepath': './result/20240401_180701_test_cvrp50_pretrained_epochtest'}}\n",
      "['../../../../../VRP-Omni-modified/Vrp-Set-M/M-n121/M-n121-k7.vrp']\n"
     ]
    },
    {
     "name": "stderr",
     "output_type": "stream",
     "text": [
      "/home/xunj/miniconda3/envs/amd/lib/python3.8/site-packages/torch/__init__.py:696: UserWarning: torch.set_default_tensor_type() is deprecated as of PyTorch 2.1, please use torch.set_default_dtype() and torch.set_default_device() as alternatives. (Triggered internally at /opt/conda/conda-bld/pytorch_1708025829503/work/torch/csrc/tensor/python_tensor.cpp:451.)\n",
      "  _C._set_default_tensor_type(t)\n"
     ]
    },
    {
     "name": "stdout",
     "output_type": "stream",
     "text": [
      "pretrained/checkpoint-cvrp-100.pt\n",
      "torch.Size([8, 1])\n",
      "torch.Size([8, 120])\n",
      "[2024-04-01 17:07:04] CVRPTester.py(144) : episode   1/  1, Elapsed[0.01m], Remain[0.00m], score:1.099, aug_score:1.085\n",
      "[2024-04-01 17:07:04] CVRPTester.py(150) :  *** Test Done *** \n",
      "[2024-04-01 17:07:04] CVRPTester.py(151) :  NO-AUG SCORE: 1.0986979007720947 \n",
      "[2024-04-01 17:07:04] CVRPTester.py(152) :  AUGMENTATION SCORE: 1.084728479385376 \n",
      ">> Evaluation on ../../../../../VRP-Omni-modified/Vrp-Set-M/M-n121 finished within 0.49s\n",
      ">> Save final results to res/M-n121\n",
      "Test on \" ../../../../../VRP-Omni-modified/Vrp-Set-M/M-n121 \" Success\n",
      "-----------------------------------------------------------------------------------------------------------------\n",
      "[2024-04-01 17:07:07] test.py(117) : DEBUG_MODE: False\n",
      "[2024-04-01 17:07:07] test.py(118) : USE_CUDA: True, CUDA_DEVICE_NUM: 0\n",
      "[2024-04-01 17:07:07] test.py(119) : env_params{'problem_size': 50, 'pomo_size': 50, 'distribution': {'data_type': 'mixed', 'n_cluster': 3, 'n_cluster_mix': 1, 'lower': 0.2, 'upper': 0.8, 'std': 0.07}, 'load_path': 'data/vrp_uniform50_1000_seed1234.pkl', 'load_raw': None}\n",
      "[2024-04-01 17:07:07] test.py(119) : model_params{'embedding_dim': 64, 'sqrt_embedding_dim': 8.0, 'encoder_layer_num': 6, 'qkv_dim': 8, 'head_num': 8, 'logit_clipping': 10, 'ff_hidden_dim': 512, 'eval_type': 'argmax'}\n",
      "[2024-04-01 17:07:07] test.py(119) : tester_params{'use_cuda': True, 'cuda_device_num': 0, 'model_load': {'path': 'pretrained/checkpoint-cvrp-100.pt', 'epoch': 'test'}, 'test_episodes': 1000, 'test_batch_size': 1, 'augmentation_enable': True, 'aug_factor': 8, 'aug_batch_size': 1, 'test_data_load': {'enable': False, 'filename': ''}, 'test_set_path': '../../../../../VRP-Omni-modified/Vrp-Set-M/M-n151', 'test_set_opt_sol_path': '../../../../../VRP-Omni-modified/Vrp-Set-A/A-n33-sol', 'test_set_name': 'A-n33'}\n",
      "[2024-04-01 17:07:07] test.py(119) : logger_params{'log_file': {'desc': 'test_cvrp50_pretrained_epochtest', 'filename': 'log.txt', 'filepath': './result/20240401_180705_test_cvrp50_pretrained_epochtest'}}\n",
      "['../../../../../VRP-Omni-modified/Vrp-Set-M/M-n151/M-n151-k12.vrp']\n"
     ]
    },
    {
     "name": "stderr",
     "output_type": "stream",
     "text": [
      "/home/xunj/miniconda3/envs/amd/lib/python3.8/site-packages/torch/__init__.py:696: UserWarning: torch.set_default_tensor_type() is deprecated as of PyTorch 2.1, please use torch.set_default_dtype() and torch.set_default_device() as alternatives. (Triggered internally at /opt/conda/conda-bld/pytorch_1708025829503/work/torch/csrc/tensor/python_tensor.cpp:451.)\n",
      "  _C._set_default_tensor_type(t)\n"
     ]
    },
    {
     "name": "stdout",
     "output_type": "stream",
     "text": [
      "pretrained/checkpoint-cvrp-100.pt\n",
      "torch.Size([8, 1])\n",
      "torch.Size([8, 150])\n",
      "[2024-04-01 17:07:08] CVRPTester.py(144) : episode   1/  1, Elapsed[0.01m], Remain[0.00m], score:1.152, aug_score:1.137\n",
      "[2024-04-01 17:07:08] CVRPTester.py(150) :  *** Test Done *** \n",
      "[2024-04-01 17:07:08] CVRPTester.py(151) :  NO-AUG SCORE: 1.1519144773483276 \n",
      "[2024-04-01 17:07:08] CVRPTester.py(152) :  AUGMENTATION SCORE: 1.1366345882415771 \n",
      ">> Evaluation on ../../../../../VRP-Omni-modified/Vrp-Set-M/M-n151 finished within 0.53s\n",
      ">> Save final results to res/M-n151\n",
      "Test on \" ../../../../../VRP-Omni-modified/Vrp-Set-M/M-n151 \" Success\n",
      "-----------------------------------------------------------------------------------------------------------------\n",
      "[2024-04-01 17:07:12] test.py(117) : DEBUG_MODE: False\n",
      "[2024-04-01 17:07:12] test.py(118) : USE_CUDA: True, CUDA_DEVICE_NUM: 0\n",
      "[2024-04-01 17:07:12] test.py(119) : env_params{'problem_size': 50, 'pomo_size': 50, 'distribution': {'data_type': 'mixed', 'n_cluster': 3, 'n_cluster_mix': 1, 'lower': 0.2, 'upper': 0.8, 'std': 0.07}, 'load_path': 'data/vrp_uniform50_1000_seed1234.pkl', 'load_raw': None}\n",
      "[2024-04-01 17:07:12] test.py(119) : model_params{'embedding_dim': 64, 'sqrt_embedding_dim': 8.0, 'encoder_layer_num': 6, 'qkv_dim': 8, 'head_num': 8, 'logit_clipping': 10, 'ff_hidden_dim': 512, 'eval_type': 'argmax'}\n",
      "[2024-04-01 17:07:12] test.py(119) : tester_params{'use_cuda': True, 'cuda_device_num': 0, 'model_load': {'path': 'pretrained/checkpoint-cvrp-100.pt', 'epoch': 'test'}, 'test_episodes': 1000, 'test_batch_size': 1, 'augmentation_enable': True, 'aug_factor': 8, 'aug_batch_size': 1, 'test_data_load': {'enable': False, 'filename': ''}, 'test_set_path': '../../../../../VRP-Omni-modified/Vrp-Set-M/M-n200', 'test_set_opt_sol_path': '../../../../../VRP-Omni-modified/Vrp-Set-A/A-n33-sol', 'test_set_name': 'A-n33'}\n",
      "[2024-04-01 17:07:12] test.py(119) : logger_params{'log_file': {'desc': 'test_cvrp50_pretrained_epochtest', 'filename': 'log.txt', 'filepath': './result/20240401_180710_test_cvrp50_pretrained_epochtest'}}\n",
      "['../../../../../VRP-Omni-modified/Vrp-Set-M/M-n200/M-n200-k16.vrp', '../../../../../VRP-Omni-modified/Vrp-Set-M/M-n200/M-n200-k17.vrp']\n"
     ]
    },
    {
     "name": "stderr",
     "output_type": "stream",
     "text": [
      "/home/xunj/miniconda3/envs/amd/lib/python3.8/site-packages/torch/__init__.py:696: UserWarning: torch.set_default_tensor_type() is deprecated as of PyTorch 2.1, please use torch.set_default_dtype() and torch.set_default_device() as alternatives. (Triggered internally at /opt/conda/conda-bld/pytorch_1708025829503/work/torch/csrc/tensor/python_tensor.cpp:451.)\n",
      "  _C._set_default_tensor_type(t)\n"
     ]
    },
    {
     "name": "stdout",
     "output_type": "stream",
     "text": [
      "pretrained/checkpoint-cvrp-100.pt\n",
      "torch.Size([8, 1])\n",
      "torch.Size([8, 199])\n",
      "[2024-04-01 17:07:13] CVRPTester.py(144) : episode   1/  2, Elapsed[0.01m], Remain[0.01m], score:1.501, aug_score:1.497\n",
      "torch.Size([8, 1])\n",
      "torch.Size([8, 199])\n",
      "[2024-04-01 17:07:13] CVRPTester.py(144) : episode   2/  2, Elapsed[0.01m], Remain[0.00m], score:1.501, aug_score:1.497\n",
      "[2024-04-01 17:07:13] CVRPTester.py(150) :  *** Test Done *** \n",
      "[2024-04-01 17:07:13] CVRPTester.py(151) :  NO-AUG SCORE: 1.5014537572860718 \n",
      "[2024-04-01 17:07:13] CVRPTester.py(152) :  AUGMENTATION SCORE: 1.496645212173462 \n",
      ">> Evaluation on ../../../../../VRP-Omni-modified/Vrp-Set-M/M-n200 finished within 0.24s\n",
      ">> Save final results to res/M-n200\n",
      "Test on \" ../../../../../VRP-Omni-modified/Vrp-Set-M/M-n200 \" Success\n",
      "-----------------------------------------------------------------------------------------------------------------\n",
      "[2024-04-01 17:07:17] test.py(117) : DEBUG_MODE: False\n",
      "[2024-04-01 17:07:17] test.py(118) : USE_CUDA: True, CUDA_DEVICE_NUM: 0\n",
      "[2024-04-01 17:07:17] test.py(119) : env_params{'problem_size': 50, 'pomo_size': 50, 'distribution': {'data_type': 'mixed', 'n_cluster': 3, 'n_cluster_mix': 1, 'lower': 0.2, 'upper': 0.8, 'std': 0.07}, 'load_path': 'data/vrp_uniform50_1000_seed1234.pkl', 'load_raw': None}\n",
      "[2024-04-01 17:07:17] test.py(119) : model_params{'embedding_dim': 64, 'sqrt_embedding_dim': 8.0, 'encoder_layer_num': 6, 'qkv_dim': 8, 'head_num': 8, 'logit_clipping': 10, 'ff_hidden_dim': 512, 'eval_type': 'argmax'}\n",
      "[2024-04-01 17:07:17] test.py(119) : tester_params{'use_cuda': True, 'cuda_device_num': 0, 'model_load': {'path': 'pretrained/checkpoint-cvrp-100.pt', 'epoch': 'test'}, 'test_episodes': 1000, 'test_batch_size': 1, 'augmentation_enable': True, 'aug_factor': 8, 'aug_batch_size': 1, 'test_data_load': {'enable': False, 'filename': ''}, 'test_set_path': '../../../../../VRP-Omni-modified/Vrp-Set-P/P-n101', 'test_set_opt_sol_path': '../../../../../VRP-Omni-modified/Vrp-Set-A/A-n33-sol', 'test_set_name': 'A-n33'}\n",
      "[2024-04-01 17:07:17] test.py(119) : logger_params{'log_file': {'desc': 'test_cvrp50_pretrained_epochtest', 'filename': 'log.txt', 'filepath': './result/20240401_180715_test_cvrp50_pretrained_epochtest'}}\n",
      "['../../../../../VRP-Omni-modified/Vrp-Set-P/P-n101/P-n101-k4.vrp']\n"
     ]
    },
    {
     "name": "stderr",
     "output_type": "stream",
     "text": [
      "/home/xunj/miniconda3/envs/amd/lib/python3.8/site-packages/torch/__init__.py:696: UserWarning: torch.set_default_tensor_type() is deprecated as of PyTorch 2.1, please use torch.set_default_dtype() and torch.set_default_device() as alternatives. (Triggered internally at /opt/conda/conda-bld/pytorch_1708025829503/work/torch/csrc/tensor/python_tensor.cpp:451.)\n",
      "  _C._set_default_tensor_type(t)\n"
     ]
    },
    {
     "name": "stdout",
     "output_type": "stream",
     "text": [
      "pretrained/checkpoint-cvrp-100.pt\n",
      "torch.Size([8, 1])\n",
      "torch.Size([8, 100])\n",
      "[2024-04-01 17:07:17] CVRPTester.py(144) : episode   1/  1, Elapsed[0.01m], Remain[0.00m], score:0.781, aug_score:0.745\n",
      "[2024-04-01 17:07:17] CVRPTester.py(150) :  *** Test Done *** \n",
      "[2024-04-01 17:07:17] CVRPTester.py(151) :  NO-AUG SCORE: 0.7811049222946167 \n",
      "[2024-04-01 17:07:17] CVRPTester.py(152) :  AUGMENTATION SCORE: 0.7450915575027466 \n",
      ">> Evaluation on ../../../../../VRP-Omni-modified/Vrp-Set-P/P-n101 finished within 0.49s\n",
      ">> Save final results to res/P-n101\n",
      "Test on \" ../../../../../VRP-Omni-modified/Vrp-Set-P/P-n101 \" Success\n",
      "-----------------------------------------------------------------------------------------------------------------\n",
      "[2024-04-01 17:07:21] test.py(117) : DEBUG_MODE: False\n",
      "[2024-04-01 17:07:21] test.py(118) : USE_CUDA: True, CUDA_DEVICE_NUM: 0\n",
      "[2024-04-01 17:07:21] test.py(119) : env_params{'problem_size': 50, 'pomo_size': 50, 'distribution': {'data_type': 'mixed', 'n_cluster': 3, 'n_cluster_mix': 1, 'lower': 0.2, 'upper': 0.8, 'std': 0.07}, 'load_path': 'data/vrp_uniform50_1000_seed1234.pkl', 'load_raw': None}\n",
      "[2024-04-01 17:07:21] test.py(119) : model_params{'embedding_dim': 64, 'sqrt_embedding_dim': 8.0, 'encoder_layer_num': 6, 'qkv_dim': 8, 'head_num': 8, 'logit_clipping': 10, 'ff_hidden_dim': 512, 'eval_type': 'argmax'}\n",
      "[2024-04-01 17:07:21] test.py(119) : tester_params{'use_cuda': True, 'cuda_device_num': 0, 'model_load': {'path': 'pretrained/checkpoint-cvrp-100.pt', 'epoch': 'test'}, 'test_episodes': 1000, 'test_batch_size': 1, 'augmentation_enable': True, 'aug_factor': 8, 'aug_batch_size': 1, 'test_data_load': {'enable': False, 'filename': ''}, 'test_set_path': '../../../../../VRP-Omni-modified/Vrp-Set-P/P-n16', 'test_set_opt_sol_path': '../../../../../VRP-Omni-modified/Vrp-Set-A/A-n33-sol', 'test_set_name': 'A-n33'}\n",
      "[2024-04-01 17:07:21] test.py(119) : logger_params{'log_file': {'desc': 'test_cvrp50_pretrained_epochtest', 'filename': 'log.txt', 'filepath': './result/20240401_180719_test_cvrp50_pretrained_epochtest'}}\n",
      "['../../../../../VRP-Omni-modified/Vrp-Set-P/P-n16/P-n16-k8.vrp']\n"
     ]
    },
    {
     "name": "stderr",
     "output_type": "stream",
     "text": [
      "/home/xunj/miniconda3/envs/amd/lib/python3.8/site-packages/torch/__init__.py:696: UserWarning: torch.set_default_tensor_type() is deprecated as of PyTorch 2.1, please use torch.set_default_dtype() and torch.set_default_device() as alternatives. (Triggered internally at /opt/conda/conda-bld/pytorch_1708025829503/work/torch/csrc/tensor/python_tensor.cpp:451.)\n",
      "  _C._set_default_tensor_type(t)\n"
     ]
    },
    {
     "name": "stdout",
     "output_type": "stream",
     "text": [
      "pretrained/checkpoint-cvrp-100.pt\n",
      "torch.Size([8, 1])\n",
      "torch.Size([8, 15])\n",
      "[2024-04-01 17:07:22] CVRPTester.py(144) : episode   1/  1, Elapsed[0.01m], Remain[0.00m], score:0.557, aug_score:0.557\n",
      "[2024-04-01 17:07:22] CVRPTester.py(150) :  *** Test Done *** \n",
      "[2024-04-01 17:07:22] CVRPTester.py(151) :  NO-AUG SCORE: 0.5574493408203125 \n",
      "[2024-04-01 17:07:22] CVRPTester.py(152) :  AUGMENTATION SCORE: 0.5574493408203125 \n",
      ">> Evaluation on ../../../../../VRP-Omni-modified/Vrp-Set-P/P-n16 finished within 0.42s\n",
      ">> Save final results to res/P-n16\n",
      "Test on \" ../../../../../VRP-Omni-modified/Vrp-Set-P/P-n16 \" Success\n",
      "-----------------------------------------------------------------------------------------------------------------\n",
      "[2024-04-01 17:07:25] test.py(117) : DEBUG_MODE: False\n",
      "[2024-04-01 17:07:25] test.py(118) : USE_CUDA: True, CUDA_DEVICE_NUM: 0\n",
      "[2024-04-01 17:07:25] test.py(119) : env_params{'problem_size': 50, 'pomo_size': 50, 'distribution': {'data_type': 'mixed', 'n_cluster': 3, 'n_cluster_mix': 1, 'lower': 0.2, 'upper': 0.8, 'std': 0.07}, 'load_path': 'data/vrp_uniform50_1000_seed1234.pkl', 'load_raw': None}\n",
      "[2024-04-01 17:07:25] test.py(119) : model_params{'embedding_dim': 64, 'sqrt_embedding_dim': 8.0, 'encoder_layer_num': 6, 'qkv_dim': 8, 'head_num': 8, 'logit_clipping': 10, 'ff_hidden_dim': 512, 'eval_type': 'argmax'}\n",
      "[2024-04-01 17:07:25] test.py(119) : tester_params{'use_cuda': True, 'cuda_device_num': 0, 'model_load': {'path': 'pretrained/checkpoint-cvrp-100.pt', 'epoch': 'test'}, 'test_episodes': 1000, 'test_batch_size': 1, 'augmentation_enable': True, 'aug_factor': 8, 'aug_batch_size': 1, 'test_data_load': {'enable': False, 'filename': ''}, 'test_set_path': '../../../../../VRP-Omni-modified/Vrp-Set-P/P-n19', 'test_set_opt_sol_path': '../../../../../VRP-Omni-modified/Vrp-Set-A/A-n33-sol', 'test_set_name': 'A-n33'}\n",
      "[2024-04-01 17:07:25] test.py(119) : logger_params{'log_file': {'desc': 'test_cvrp50_pretrained_epochtest', 'filename': 'log.txt', 'filepath': './result/20240401_180724_test_cvrp50_pretrained_epochtest'}}\n",
      "['../../../../../VRP-Omni-modified/Vrp-Set-P/P-n19/P-n19-k2.vrp']\n"
     ]
    },
    {
     "name": "stderr",
     "output_type": "stream",
     "text": [
      "/home/xunj/miniconda3/envs/amd/lib/python3.8/site-packages/torch/__init__.py:696: UserWarning: torch.set_default_tensor_type() is deprecated as of PyTorch 2.1, please use torch.set_default_dtype() and torch.set_default_device() as alternatives. (Triggered internally at /opt/conda/conda-bld/pytorch_1708025829503/work/torch/csrc/tensor/python_tensor.cpp:451.)\n",
      "  _C._set_default_tensor_type(t)\n"
     ]
    },
    {
     "name": "stdout",
     "output_type": "stream",
     "text": [
      "pretrained/checkpoint-cvrp-100.pt\n",
      "torch.Size([8, 1])\n",
      "torch.Size([8, 18])\n",
      "[2024-04-01 17:07:26] CVRPTester.py(144) : episode   1/  1, Elapsed[0.01m], Remain[0.00m], score:0.563, aug_score:0.441\n",
      "[2024-04-01 17:07:26] CVRPTester.py(150) :  *** Test Done *** \n",
      "[2024-04-01 17:07:26] CVRPTester.py(151) :  NO-AUG SCORE: 0.5629740953445435 \n",
      "[2024-04-01 17:07:26] CVRPTester.py(152) :  AUGMENTATION SCORE: 0.4406484067440033 \n",
      ">> Evaluation on ../../../../../VRP-Omni-modified/Vrp-Set-P/P-n19 finished within 0.40s\n",
      ">> Save final results to res/P-n19\n",
      "Test on \" ../../../../../VRP-Omni-modified/Vrp-Set-P/P-n19 \" Success\n",
      "-----------------------------------------------------------------------------------------------------------------\n",
      "[2024-04-01 17:07:30] test.py(117) : DEBUG_MODE: False\n",
      "[2024-04-01 17:07:30] test.py(118) : USE_CUDA: True, CUDA_DEVICE_NUM: 0\n",
      "[2024-04-01 17:07:30] test.py(119) : env_params{'problem_size': 50, 'pomo_size': 50, 'distribution': {'data_type': 'mixed', 'n_cluster': 3, 'n_cluster_mix': 1, 'lower': 0.2, 'upper': 0.8, 'std': 0.07}, 'load_path': 'data/vrp_uniform50_1000_seed1234.pkl', 'load_raw': None}\n",
      "[2024-04-01 17:07:30] test.py(119) : model_params{'embedding_dim': 64, 'sqrt_embedding_dim': 8.0, 'encoder_layer_num': 6, 'qkv_dim': 8, 'head_num': 8, 'logit_clipping': 10, 'ff_hidden_dim': 512, 'eval_type': 'argmax'}\n",
      "[2024-04-01 17:07:30] test.py(119) : tester_params{'use_cuda': True, 'cuda_device_num': 0, 'model_load': {'path': 'pretrained/checkpoint-cvrp-100.pt', 'epoch': 'test'}, 'test_episodes': 1000, 'test_batch_size': 1, 'augmentation_enable': True, 'aug_factor': 8, 'aug_batch_size': 1, 'test_data_load': {'enable': False, 'filename': ''}, 'test_set_path': '../../../../../VRP-Omni-modified/Vrp-Set-P/P-n20', 'test_set_opt_sol_path': '../../../../../VRP-Omni-modified/Vrp-Set-A/A-n33-sol', 'test_set_name': 'A-n33'}\n",
      "[2024-04-01 17:07:30] test.py(119) : logger_params{'log_file': {'desc': 'test_cvrp50_pretrained_epochtest', 'filename': 'log.txt', 'filepath': './result/20240401_180728_test_cvrp50_pretrained_epochtest'}}\n",
      "['../../../../../VRP-Omni-modified/Vrp-Set-P/P-n20/P-n20-k2.vrp']\n"
     ]
    },
    {
     "name": "stderr",
     "output_type": "stream",
     "text": [
      "/home/xunj/miniconda3/envs/amd/lib/python3.8/site-packages/torch/__init__.py:696: UserWarning: torch.set_default_tensor_type() is deprecated as of PyTorch 2.1, please use torch.set_default_dtype() and torch.set_default_device() as alternatives. (Triggered internally at /opt/conda/conda-bld/pytorch_1708025829503/work/torch/csrc/tensor/python_tensor.cpp:451.)\n",
      "  _C._set_default_tensor_type(t)\n"
     ]
    },
    {
     "name": "stdout",
     "output_type": "stream",
     "text": [
      "pretrained/checkpoint-cvrp-100.pt\n",
      "torch.Size([8, 1])\n",
      "torch.Size([8, 19])\n",
      "[2024-04-01 17:07:30] CVRPTester.py(144) : episode   1/  1, Elapsed[0.01m], Remain[0.00m], score:0.602, aug_score:0.382\n",
      "[2024-04-01 17:07:30] CVRPTester.py(150) :  *** Test Done *** \n",
      "[2024-04-01 17:07:30] CVRPTester.py(151) :  NO-AUG SCORE: 0.6022266149520874 \n",
      "[2024-04-01 17:07:30] CVRPTester.py(152) :  AUGMENTATION SCORE: 0.3817717432975769 \n",
      ">> Evaluation on ../../../../../VRP-Omni-modified/Vrp-Set-P/P-n20 finished within 0.40s\n",
      ">> Save final results to res/P-n20\n",
      "Test on \" ../../../../../VRP-Omni-modified/Vrp-Set-P/P-n20 \" Success\n",
      "-----------------------------------------------------------------------------------------------------------------\n",
      "[2024-04-01 17:07:34] test.py(117) : DEBUG_MODE: False\n",
      "[2024-04-01 17:07:34] test.py(118) : USE_CUDA: True, CUDA_DEVICE_NUM: 0\n",
      "[2024-04-01 17:07:34] test.py(119) : env_params{'problem_size': 50, 'pomo_size': 50, 'distribution': {'data_type': 'mixed', 'n_cluster': 3, 'n_cluster_mix': 1, 'lower': 0.2, 'upper': 0.8, 'std': 0.07}, 'load_path': 'data/vrp_uniform50_1000_seed1234.pkl', 'load_raw': None}\n",
      "[2024-04-01 17:07:34] test.py(119) : model_params{'embedding_dim': 64, 'sqrt_embedding_dim': 8.0, 'encoder_layer_num': 6, 'qkv_dim': 8, 'head_num': 8, 'logit_clipping': 10, 'ff_hidden_dim': 512, 'eval_type': 'argmax'}\n",
      "[2024-04-01 17:07:34] test.py(119) : tester_params{'use_cuda': True, 'cuda_device_num': 0, 'model_load': {'path': 'pretrained/checkpoint-cvrp-100.pt', 'epoch': 'test'}, 'test_episodes': 1000, 'test_batch_size': 1, 'augmentation_enable': True, 'aug_factor': 8, 'aug_batch_size': 1, 'test_data_load': {'enable': False, 'filename': ''}, 'test_set_path': '../../../../../VRP-Omni-modified/Vrp-Set-P/P-n21', 'test_set_opt_sol_path': '../../../../../VRP-Omni-modified/Vrp-Set-A/A-n33-sol', 'test_set_name': 'A-n33'}\n",
      "[2024-04-01 17:07:34] test.py(119) : logger_params{'log_file': {'desc': 'test_cvrp50_pretrained_epochtest', 'filename': 'log.txt', 'filepath': './result/20240401_180732_test_cvrp50_pretrained_epochtest'}}\n",
      "['../../../../../VRP-Omni-modified/Vrp-Set-P/P-n21/P-n21-k2.vrp']\n"
     ]
    },
    {
     "name": "stderr",
     "output_type": "stream",
     "text": [
      "/home/xunj/miniconda3/envs/amd/lib/python3.8/site-packages/torch/__init__.py:696: UserWarning: torch.set_default_tensor_type() is deprecated as of PyTorch 2.1, please use torch.set_default_dtype() and torch.set_default_device() as alternatives. (Triggered internally at /opt/conda/conda-bld/pytorch_1708025829503/work/torch/csrc/tensor/python_tensor.cpp:451.)\n",
      "  _C._set_default_tensor_type(t)\n"
     ]
    },
    {
     "name": "stdout",
     "output_type": "stream",
     "text": [
      "pretrained/checkpoint-cvrp-100.pt\n",
      "torch.Size([8, 1])\n",
      "torch.Size([8, 20])\n",
      "[2024-04-01 17:07:35] CVRPTester.py(144) : episode   1/  1, Elapsed[0.01m], Remain[0.00m], score:0.597, aug_score:0.425\n",
      "[2024-04-01 17:07:35] CVRPTester.py(150) :  *** Test Done *** \n",
      "[2024-04-01 17:07:35] CVRPTester.py(151) :  NO-AUG SCORE: 0.5967404842376709 \n",
      "[2024-04-01 17:07:35] CVRPTester.py(152) :  AUGMENTATION SCORE: 0.42519912123680115 \n",
      ">> Evaluation on ../../../../../VRP-Omni-modified/Vrp-Set-P/P-n21 finished within 0.40s\n",
      ">> Save final results to res/P-n21\n",
      "Test on \" ../../../../../VRP-Omni-modified/Vrp-Set-P/P-n21 \" Success\n",
      "-----------------------------------------------------------------------------------------------------------------\n",
      "[2024-04-01 17:07:38] test.py(117) : DEBUG_MODE: False\n",
      "[2024-04-01 17:07:38] test.py(118) : USE_CUDA: True, CUDA_DEVICE_NUM: 0\n",
      "[2024-04-01 17:07:38] test.py(119) : env_params{'problem_size': 50, 'pomo_size': 50, 'distribution': {'data_type': 'mixed', 'n_cluster': 3, 'n_cluster_mix': 1, 'lower': 0.2, 'upper': 0.8, 'std': 0.07}, 'load_path': 'data/vrp_uniform50_1000_seed1234.pkl', 'load_raw': None}\n",
      "[2024-04-01 17:07:38] test.py(119) : model_params{'embedding_dim': 64, 'sqrt_embedding_dim': 8.0, 'encoder_layer_num': 6, 'qkv_dim': 8, 'head_num': 8, 'logit_clipping': 10, 'ff_hidden_dim': 512, 'eval_type': 'argmax'}\n",
      "[2024-04-01 17:07:38] test.py(119) : tester_params{'use_cuda': True, 'cuda_device_num': 0, 'model_load': {'path': 'pretrained/checkpoint-cvrp-100.pt', 'epoch': 'test'}, 'test_episodes': 1000, 'test_batch_size': 1, 'augmentation_enable': True, 'aug_factor': 8, 'aug_batch_size': 1, 'test_data_load': {'enable': False, 'filename': ''}, 'test_set_path': '../../../../../VRP-Omni-modified/Vrp-Set-P/P-n22', 'test_set_opt_sol_path': '../../../../../VRP-Omni-modified/Vrp-Set-A/A-n33-sol', 'test_set_name': 'A-n33'}\n",
      "[2024-04-01 17:07:38] test.py(119) : logger_params{'log_file': {'desc': 'test_cvrp50_pretrained_epochtest', 'filename': 'log.txt', 'filepath': './result/20240401_180736_test_cvrp50_pretrained_epochtest'}}\n",
      "['../../../../../VRP-Omni-modified/Vrp-Set-P/P-n22/P-n22-k2.vrp', '../../../../../VRP-Omni-modified/Vrp-Set-P/P-n22/P-n22-k8.vrp']\n"
     ]
    },
    {
     "name": "stderr",
     "output_type": "stream",
     "text": [
      "/home/xunj/miniconda3/envs/amd/lib/python3.8/site-packages/torch/__init__.py:696: UserWarning: torch.set_default_tensor_type() is deprecated as of PyTorch 2.1, please use torch.set_default_dtype() and torch.set_default_device() as alternatives. (Triggered internally at /opt/conda/conda-bld/pytorch_1708025829503/work/torch/csrc/tensor/python_tensor.cpp:451.)\n",
      "  _C._set_default_tensor_type(t)\n"
     ]
    },
    {
     "name": "stdout",
     "output_type": "stream",
     "text": [
      "pretrained/checkpoint-cvrp-100.pt\n",
      "torch.Size([8, 1])\n",
      "torch.Size([8, 21])\n",
      "[2024-04-01 17:07:39] CVRPTester.py(144) : episode   1/  2, Elapsed[0.01m], Remain[0.01m], score:0.597, aug_score:0.422\n",
      "torch.Size([8, 1])\n",
      "torch.Size([8, 21])\n",
      "[2024-04-01 17:07:39] CVRPTester.py(144) : episode   2/  2, Elapsed[0.01m], Remain[0.00m], score:0.921, aug_score:0.782\n",
      "[2024-04-01 17:07:39] CVRPTester.py(150) :  *** Test Done *** \n",
      "[2024-04-01 17:07:39] CVRPTester.py(151) :  NO-AUG SCORE: 0.7588919401168823 \n",
      "[2024-04-01 17:07:39] CVRPTester.py(152) :  AUGMENTATION SCORE: 0.6020174026489258 \n",
      ">> Evaluation on ../../../../../VRP-Omni-modified/Vrp-Set-P/P-n22 finished within 0.04s\n",
      ">> Save final results to res/P-n22\n",
      "Test on \" ../../../../../VRP-Omni-modified/Vrp-Set-P/P-n22 \" Success\n",
      "-----------------------------------------------------------------------------------------------------------------\n",
      "[2024-04-01 17:07:42] test.py(117) : DEBUG_MODE: False\n",
      "[2024-04-01 17:07:42] test.py(118) : USE_CUDA: True, CUDA_DEVICE_NUM: 0\n",
      "[2024-04-01 17:07:42] test.py(119) : env_params{'problem_size': 50, 'pomo_size': 50, 'distribution': {'data_type': 'mixed', 'n_cluster': 3, 'n_cluster_mix': 1, 'lower': 0.2, 'upper': 0.8, 'std': 0.07}, 'load_path': 'data/vrp_uniform50_1000_seed1234.pkl', 'load_raw': None}\n",
      "[2024-04-01 17:07:42] test.py(119) : model_params{'embedding_dim': 64, 'sqrt_embedding_dim': 8.0, 'encoder_layer_num': 6, 'qkv_dim': 8, 'head_num': 8, 'logit_clipping': 10, 'ff_hidden_dim': 512, 'eval_type': 'argmax'}\n",
      "[2024-04-01 17:07:42] test.py(119) : tester_params{'use_cuda': True, 'cuda_device_num': 0, 'model_load': {'path': 'pretrained/checkpoint-cvrp-100.pt', 'epoch': 'test'}, 'test_episodes': 1000, 'test_batch_size': 1, 'augmentation_enable': True, 'aug_factor': 8, 'aug_batch_size': 1, 'test_data_load': {'enable': False, 'filename': ''}, 'test_set_path': '../../../../../VRP-Omni-modified/Vrp-Set-P/P-n23', 'test_set_opt_sol_path': '../../../../../VRP-Omni-modified/Vrp-Set-A/A-n33-sol', 'test_set_name': 'A-n33'}\n",
      "[2024-04-01 17:07:42] test.py(119) : logger_params{'log_file': {'desc': 'test_cvrp50_pretrained_epochtest', 'filename': 'log.txt', 'filepath': './result/20240401_180740_test_cvrp50_pretrained_epochtest'}}\n",
      "['../../../../../VRP-Omni-modified/Vrp-Set-P/P-n23/P-n23-k8.vrp']\n"
     ]
    },
    {
     "name": "stderr",
     "output_type": "stream",
     "text": [
      "/home/xunj/miniconda3/envs/amd/lib/python3.8/site-packages/torch/__init__.py:696: UserWarning: torch.set_default_tensor_type() is deprecated as of PyTorch 2.1, please use torch.set_default_dtype() and torch.set_default_device() as alternatives. (Triggered internally at /opt/conda/conda-bld/pytorch_1708025829503/work/torch/csrc/tensor/python_tensor.cpp:451.)\n",
      "  _C._set_default_tensor_type(t)\n"
     ]
    },
    {
     "name": "stdout",
     "output_type": "stream",
     "text": [
      "pretrained/checkpoint-cvrp-100.pt\n",
      "torch.Size([8, 1])\n",
      "torch.Size([8, 22])\n",
      "[2024-04-01 17:07:43] CVRPTester.py(144) : episode   1/  1, Elapsed[0.01m], Remain[0.00m], score:0.807, aug_score:0.675\n",
      "[2024-04-01 17:07:43] CVRPTester.py(150) :  *** Test Done *** \n",
      "[2024-04-01 17:07:43] CVRPTester.py(151) :  NO-AUG SCORE: 0.8066024780273438 \n",
      "[2024-04-01 17:07:43] CVRPTester.py(152) :  AUGMENTATION SCORE: 0.6746665239334106 \n",
      ">> Evaluation on ../../../../../VRP-Omni-modified/Vrp-Set-P/P-n23 finished within 0.42s\n",
      ">> Save final results to res/P-n23\n",
      "Test on \" ../../../../../VRP-Omni-modified/Vrp-Set-P/P-n23 \" Success\n",
      "-----------------------------------------------------------------------------------------------------------------\n",
      "[2024-04-01 17:07:47] test.py(117) : DEBUG_MODE: False\n",
      "[2024-04-01 17:07:47] test.py(118) : USE_CUDA: True, CUDA_DEVICE_NUM: 0\n",
      "[2024-04-01 17:07:47] test.py(119) : env_params{'problem_size': 50, 'pomo_size': 50, 'distribution': {'data_type': 'mixed', 'n_cluster': 3, 'n_cluster_mix': 1, 'lower': 0.2, 'upper': 0.8, 'std': 0.07}, 'load_path': 'data/vrp_uniform50_1000_seed1234.pkl', 'load_raw': None}\n",
      "[2024-04-01 17:07:47] test.py(119) : model_params{'embedding_dim': 64, 'sqrt_embedding_dim': 8.0, 'encoder_layer_num': 6, 'qkv_dim': 8, 'head_num': 8, 'logit_clipping': 10, 'ff_hidden_dim': 512, 'eval_type': 'argmax'}\n",
      "[2024-04-01 17:07:47] test.py(119) : tester_params{'use_cuda': True, 'cuda_device_num': 0, 'model_load': {'path': 'pretrained/checkpoint-cvrp-100.pt', 'epoch': 'test'}, 'test_episodes': 1000, 'test_batch_size': 1, 'augmentation_enable': True, 'aug_factor': 8, 'aug_batch_size': 1, 'test_data_load': {'enable': False, 'filename': ''}, 'test_set_path': '../../../../../VRP-Omni-modified/Vrp-Set-P/P-n40', 'test_set_opt_sol_path': '../../../../../VRP-Omni-modified/Vrp-Set-A/A-n33-sol', 'test_set_name': 'A-n33'}\n",
      "[2024-04-01 17:07:47] test.py(119) : logger_params{'log_file': {'desc': 'test_cvrp50_pretrained_epochtest', 'filename': 'log.txt', 'filepath': './result/20240401_180745_test_cvrp50_pretrained_epochtest'}}\n",
      "['../../../../../VRP-Omni-modified/Vrp-Set-P/P-n40/P-n40-k5.vrp']\n"
     ]
    },
    {
     "name": "stderr",
     "output_type": "stream",
     "text": [
      "/home/xunj/miniconda3/envs/amd/lib/python3.8/site-packages/torch/__init__.py:696: UserWarning: torch.set_default_tensor_type() is deprecated as of PyTorch 2.1, please use torch.set_default_dtype() and torch.set_default_device() as alternatives. (Triggered internally at /opt/conda/conda-bld/pytorch_1708025829503/work/torch/csrc/tensor/python_tensor.cpp:451.)\n",
      "  _C._set_default_tensor_type(t)\n"
     ]
    },
    {
     "name": "stdout",
     "output_type": "stream",
     "text": [
      "pretrained/checkpoint-cvrp-100.pt\n",
      "torch.Size([8, 1])\n",
      "torch.Size([8, 39])\n",
      "[2024-04-01 17:07:47] CVRPTester.py(144) : episode   1/  1, Elapsed[0.01m], Remain[0.00m], score:0.711, aug_score:0.571\n",
      "[2024-04-01 17:07:47] CVRPTester.py(150) :  *** Test Done *** \n",
      "[2024-04-01 17:07:47] CVRPTester.py(151) :  NO-AUG SCORE: 0.7106223702430725 \n",
      "[2024-04-01 17:07:47] CVRPTester.py(152) :  AUGMENTATION SCORE: 0.5711336731910706 \n",
      ">> Evaluation on ../../../../../VRP-Omni-modified/Vrp-Set-P/P-n40 finished within 0.42s\n",
      ">> Save final results to res/P-n40\n",
      "Test on \" ../../../../../VRP-Omni-modified/Vrp-Set-P/P-n40 \" Success\n",
      "-----------------------------------------------------------------------------------------------------------------\n",
      "[2024-04-01 17:07:51] test.py(117) : DEBUG_MODE: False\n",
      "[2024-04-01 17:07:51] test.py(118) : USE_CUDA: True, CUDA_DEVICE_NUM: 0\n",
      "[2024-04-01 17:07:51] test.py(119) : env_params{'problem_size': 50, 'pomo_size': 50, 'distribution': {'data_type': 'mixed', 'n_cluster': 3, 'n_cluster_mix': 1, 'lower': 0.2, 'upper': 0.8, 'std': 0.07}, 'load_path': 'data/vrp_uniform50_1000_seed1234.pkl', 'load_raw': None}\n",
      "[2024-04-01 17:07:51] test.py(119) : model_params{'embedding_dim': 64, 'sqrt_embedding_dim': 8.0, 'encoder_layer_num': 6, 'qkv_dim': 8, 'head_num': 8, 'logit_clipping': 10, 'ff_hidden_dim': 512, 'eval_type': 'argmax'}\n",
      "[2024-04-01 17:07:51] test.py(119) : tester_params{'use_cuda': True, 'cuda_device_num': 0, 'model_load': {'path': 'pretrained/checkpoint-cvrp-100.pt', 'epoch': 'test'}, 'test_episodes': 1000, 'test_batch_size': 1, 'augmentation_enable': True, 'aug_factor': 8, 'aug_batch_size': 1, 'test_data_load': {'enable': False, 'filename': ''}, 'test_set_path': '../../../../../VRP-Omni-modified/Vrp-Set-P/P-n45', 'test_set_opt_sol_path': '../../../../../VRP-Omni-modified/Vrp-Set-A/A-n33-sol', 'test_set_name': 'A-n33'}\n",
      "[2024-04-01 17:07:51] test.py(119) : logger_params{'log_file': {'desc': 'test_cvrp50_pretrained_epochtest', 'filename': 'log.txt', 'filepath': './result/20240401_180749_test_cvrp50_pretrained_epochtest'}}\n",
      "['../../../../../VRP-Omni-modified/Vrp-Set-P/P-n45/P-n45-k5.vrp']\n"
     ]
    },
    {
     "name": "stderr",
     "output_type": "stream",
     "text": [
      "/home/xunj/miniconda3/envs/amd/lib/python3.8/site-packages/torch/__init__.py:696: UserWarning: torch.set_default_tensor_type() is deprecated as of PyTorch 2.1, please use torch.set_default_dtype() and torch.set_default_device() as alternatives. (Triggered internally at /opt/conda/conda-bld/pytorch_1708025829503/work/torch/csrc/tensor/python_tensor.cpp:451.)\n",
      "  _C._set_default_tensor_type(t)\n"
     ]
    },
    {
     "name": "stdout",
     "output_type": "stream",
     "text": [
      "pretrained/checkpoint-cvrp-100.pt\n",
      "torch.Size([8, 1])\n",
      "torch.Size([8, 44])\n",
      "[2024-04-01 17:07:51] CVRPTester.py(144) : episode   1/  1, Elapsed[0.01m], Remain[0.00m], score:0.673, aug_score:0.622\n",
      "[2024-04-01 17:07:51] CVRPTester.py(150) :  *** Test Done *** \n",
      "[2024-04-01 17:07:51] CVRPTester.py(151) :  NO-AUG SCORE: 0.6725043058395386 \n",
      "[2024-04-01 17:07:51] CVRPTester.py(152) :  AUGMENTATION SCORE: 0.6218733191490173 \n",
      ">> Evaluation on ../../../../../VRP-Omni-modified/Vrp-Set-P/P-n45 finished within 0.42s\n",
      ">> Save final results to res/P-n45\n",
      "Test on \" ../../../../../VRP-Omni-modified/Vrp-Set-P/P-n45 \" Success\n",
      "-----------------------------------------------------------------------------------------------------------------\n",
      "[2024-04-01 17:07:55] test.py(117) : DEBUG_MODE: False\n",
      "[2024-04-01 17:07:55] test.py(118) : USE_CUDA: True, CUDA_DEVICE_NUM: 0\n",
      "[2024-04-01 17:07:55] test.py(119) : env_params{'problem_size': 50, 'pomo_size': 50, 'distribution': {'data_type': 'mixed', 'n_cluster': 3, 'n_cluster_mix': 1, 'lower': 0.2, 'upper': 0.8, 'std': 0.07}, 'load_path': 'data/vrp_uniform50_1000_seed1234.pkl', 'load_raw': None}\n",
      "[2024-04-01 17:07:55] test.py(119) : model_params{'embedding_dim': 64, 'sqrt_embedding_dim': 8.0, 'encoder_layer_num': 6, 'qkv_dim': 8, 'head_num': 8, 'logit_clipping': 10, 'ff_hidden_dim': 512, 'eval_type': 'argmax'}\n",
      "[2024-04-01 17:07:55] test.py(119) : tester_params{'use_cuda': True, 'cuda_device_num': 0, 'model_load': {'path': 'pretrained/checkpoint-cvrp-100.pt', 'epoch': 'test'}, 'test_episodes': 1000, 'test_batch_size': 1, 'augmentation_enable': True, 'aug_factor': 8, 'aug_batch_size': 1, 'test_data_load': {'enable': False, 'filename': ''}, 'test_set_path': '../../../../../VRP-Omni-modified/Vrp-Set-P/P-n50', 'test_set_opt_sol_path': '../../../../../VRP-Omni-modified/Vrp-Set-A/A-n33-sol', 'test_set_name': 'A-n33'}\n",
      "[2024-04-01 17:07:55] test.py(119) : logger_params{'log_file': {'desc': 'test_cvrp50_pretrained_epochtest', 'filename': 'log.txt', 'filepath': './result/20240401_180753_test_cvrp50_pretrained_epochtest'}}\n",
      "['../../../../../VRP-Omni-modified/Vrp-Set-P/P-n50/P-n50-k10.vrp', '../../../../../VRP-Omni-modified/Vrp-Set-P/P-n50/P-n50-k7.vrp', '../../../../../VRP-Omni-modified/Vrp-Set-P/P-n50/P-n50-k8.vrp']\n"
     ]
    },
    {
     "name": "stderr",
     "output_type": "stream",
     "text": [
      "/home/xunj/miniconda3/envs/amd/lib/python3.8/site-packages/torch/__init__.py:696: UserWarning: torch.set_default_tensor_type() is deprecated as of PyTorch 2.1, please use torch.set_default_dtype() and torch.set_default_device() as alternatives. (Triggered internally at /opt/conda/conda-bld/pytorch_1708025829503/work/torch/csrc/tensor/python_tensor.cpp:451.)\n",
      "  _C._set_default_tensor_type(t)\n"
     ]
    },
    {
     "name": "stdout",
     "output_type": "stream",
     "text": [
      "pretrained/checkpoint-cvrp-100.pt\n",
      "torch.Size([8, 1])\n",
      "torch.Size([8, 49])\n",
      "[2024-04-01 17:07:56] CVRPTester.py(144) : episode   1/  3, Elapsed[0.01m], Remain[0.01m], score:0.828, aug_score:0.797\n",
      "torch.Size([8, 1])\n",
      "torch.Size([8, 49])\n",
      "[2024-04-01 17:07:56] CVRPTester.py(144) : episode   2/  3, Elapsed[0.01m], Remain[0.00m], score:0.709, aug_score:0.660\n",
      "torch.Size([8, 1])\n",
      "torch.Size([8, 49])\n",
      "[2024-04-01 17:07:56] CVRPTester.py(144) : episode   3/  3, Elapsed[0.01m], Remain[0.00m], score:0.755, aug_score:0.708\n",
      "[2024-04-01 17:07:56] CVRPTester.py(150) :  *** Test Done *** \n",
      "[2024-04-01 17:07:56] CVRPTester.py(151) :  NO-AUG SCORE: 0.7640156745910645 \n",
      "[2024-04-01 17:07:56] CVRPTester.py(152) :  AUGMENTATION SCORE: 0.7216745615005493 \n",
      ">> Evaluation on ../../../../../VRP-Omni-modified/Vrp-Set-P/P-n50 finished within 0.06s\n",
      ">> Save final results to res/P-n50\n",
      "Test on \" ../../../../../VRP-Omni-modified/Vrp-Set-P/P-n50 \" Success\n",
      "-----------------------------------------------------------------------------------------------------------------\n",
      "[2024-04-01 17:08:00] test.py(117) : DEBUG_MODE: False\n",
      "[2024-04-01 17:08:00] test.py(118) : USE_CUDA: True, CUDA_DEVICE_NUM: 0\n",
      "[2024-04-01 17:08:00] test.py(119) : env_params{'problem_size': 50, 'pomo_size': 50, 'distribution': {'data_type': 'mixed', 'n_cluster': 3, 'n_cluster_mix': 1, 'lower': 0.2, 'upper': 0.8, 'std': 0.07}, 'load_path': 'data/vrp_uniform50_1000_seed1234.pkl', 'load_raw': None}\n",
      "[2024-04-01 17:08:00] test.py(119) : model_params{'embedding_dim': 64, 'sqrt_embedding_dim': 8.0, 'encoder_layer_num': 6, 'qkv_dim': 8, 'head_num': 8, 'logit_clipping': 10, 'ff_hidden_dim': 512, 'eval_type': 'argmax'}\n",
      "[2024-04-01 17:08:00] test.py(119) : tester_params{'use_cuda': True, 'cuda_device_num': 0, 'model_load': {'path': 'pretrained/checkpoint-cvrp-100.pt', 'epoch': 'test'}, 'test_episodes': 1000, 'test_batch_size': 1, 'augmentation_enable': True, 'aug_factor': 8, 'aug_batch_size': 1, 'test_data_load': {'enable': False, 'filename': ''}, 'test_set_path': '../../../../../VRP-Omni-modified/Vrp-Set-P/P-n51', 'test_set_opt_sol_path': '../../../../../VRP-Omni-modified/Vrp-Set-A/A-n33-sol', 'test_set_name': 'A-n33'}\n",
      "[2024-04-01 17:08:00] test.py(119) : logger_params{'log_file': {'desc': 'test_cvrp50_pretrained_epochtest', 'filename': 'log.txt', 'filepath': './result/20240401_180758_test_cvrp50_pretrained_epochtest'}}\n",
      "['../../../../../VRP-Omni-modified/Vrp-Set-P/P-n51/P-n51-k10.vrp']\n"
     ]
    },
    {
     "name": "stderr",
     "output_type": "stream",
     "text": [
      "/home/xunj/miniconda3/envs/amd/lib/python3.8/site-packages/torch/__init__.py:696: UserWarning: torch.set_default_tensor_type() is deprecated as of PyTorch 2.1, please use torch.set_default_dtype() and torch.set_default_device() as alternatives. (Triggered internally at /opt/conda/conda-bld/pytorch_1708025829503/work/torch/csrc/tensor/python_tensor.cpp:451.)\n",
      "  _C._set_default_tensor_type(t)\n"
     ]
    },
    {
     "name": "stdout",
     "output_type": "stream",
     "text": [
      "pretrained/checkpoint-cvrp-100.pt\n",
      "torch.Size([8, 1])\n",
      "torch.Size([8, 50])\n",
      "[2024-04-01 17:08:00] CVRPTester.py(144) : episode   1/  1, Elapsed[0.01m], Remain[0.00m], score:0.915, aug_score:0.835\n",
      "[2024-04-01 17:08:00] CVRPTester.py(150) :  *** Test Done *** \n",
      "[2024-04-01 17:08:00] CVRPTester.py(151) :  NO-AUG SCORE: 0.9145188927650452 \n",
      "[2024-04-01 17:08:00] CVRPTester.py(152) :  AUGMENTATION SCORE: 0.8347094655036926 \n",
      ">> Evaluation on ../../../../../VRP-Omni-modified/Vrp-Set-P/P-n51 finished within 0.43s\n",
      ">> Save final results to res/P-n51\n",
      "Test on \" ../../../../../VRP-Omni-modified/Vrp-Set-P/P-n51 \" Success\n",
      "-----------------------------------------------------------------------------------------------------------------\n",
      "[2024-04-01 17:08:04] test.py(117) : DEBUG_MODE: False\n",
      "[2024-04-01 17:08:04] test.py(118) : USE_CUDA: True, CUDA_DEVICE_NUM: 0\n",
      "[2024-04-01 17:08:04] test.py(119) : env_params{'problem_size': 50, 'pomo_size': 50, 'distribution': {'data_type': 'mixed', 'n_cluster': 3, 'n_cluster_mix': 1, 'lower': 0.2, 'upper': 0.8, 'std': 0.07}, 'load_path': 'data/vrp_uniform50_1000_seed1234.pkl', 'load_raw': None}\n",
      "[2024-04-01 17:08:04] test.py(119) : model_params{'embedding_dim': 64, 'sqrt_embedding_dim': 8.0, 'encoder_layer_num': 6, 'qkv_dim': 8, 'head_num': 8, 'logit_clipping': 10, 'ff_hidden_dim': 512, 'eval_type': 'argmax'}\n",
      "[2024-04-01 17:08:04] test.py(119) : tester_params{'use_cuda': True, 'cuda_device_num': 0, 'model_load': {'path': 'pretrained/checkpoint-cvrp-100.pt', 'epoch': 'test'}, 'test_episodes': 1000, 'test_batch_size': 1, 'augmentation_enable': True, 'aug_factor': 8, 'aug_batch_size': 1, 'test_data_load': {'enable': False, 'filename': ''}, 'test_set_path': '../../../../../VRP-Omni-modified/Vrp-Set-P/P-n55', 'test_set_opt_sol_path': '../../../../../VRP-Omni-modified/Vrp-Set-A/A-n33-sol', 'test_set_name': 'A-n33'}\n",
      "[2024-04-01 17:08:04] test.py(119) : logger_params{'log_file': {'desc': 'test_cvrp50_pretrained_epochtest', 'filename': 'log.txt', 'filepath': './result/20240401_180802_test_cvrp50_pretrained_epochtest'}}\n",
      "['../../../../../VRP-Omni-modified/Vrp-Set-P/P-n55/P-n55-k10.vrp', '../../../../../VRP-Omni-modified/Vrp-Set-P/P-n55/P-n55-k15.vrp', '../../../../../VRP-Omni-modified/Vrp-Set-P/P-n55/P-n55-k7.vrp', '../../../../../VRP-Omni-modified/Vrp-Set-P/P-n55/P-n55-k8.vrp']\n"
     ]
    },
    {
     "name": "stderr",
     "output_type": "stream",
     "text": [
      "/home/xunj/miniconda3/envs/amd/lib/python3.8/site-packages/torch/__init__.py:696: UserWarning: torch.set_default_tensor_type() is deprecated as of PyTorch 2.1, please use torch.set_default_dtype() and torch.set_default_device() as alternatives. (Triggered internally at /opt/conda/conda-bld/pytorch_1708025829503/work/torch/csrc/tensor/python_tensor.cpp:451.)\n",
      "  _C._set_default_tensor_type(t)\n"
     ]
    },
    {
     "name": "stdout",
     "output_type": "stream",
     "text": [
      "pretrained/checkpoint-cvrp-100.pt\n",
      "torch.Size([8, 1])\n",
      "torch.Size([8, 54])\n",
      "[2024-04-01 17:08:04] CVRPTester.py(144) : episode   1/  4, Elapsed[0.01m], Remain[0.02m], score:0.825, aug_score:0.753\n",
      "torch.Size([8, 1])\n",
      "torch.Size([8, 54])\n",
      "[2024-04-01 17:08:04] CVRPTester.py(144) : episode   2/  4, Elapsed[0.01m], Remain[0.01m], score:1.076, aug_score:1.021\n",
      "torch.Size([8, 1])\n",
      "torch.Size([8, 54])\n",
      "[2024-04-01 17:08:05] CVRPTester.py(144) : episode   3/  4, Elapsed[0.01m], Remain[0.00m], score:0.710, aug_score:0.615\n",
      "torch.Size([8, 1])\n",
      "torch.Size([8, 54])\n",
      "[2024-04-01 17:08:05] CVRPTester.py(144) : episode   4/  4, Elapsed[0.01m], Remain[0.00m], score:0.732, aug_score:0.668\n",
      "[2024-04-01 17:08:05] CVRPTester.py(150) :  *** Test Done *** \n",
      "[2024-04-01 17:08:05] CVRPTester.py(151) :  NO-AUG SCORE: 0.8360305428504944 \n",
      "[2024-04-01 17:08:05] CVRPTester.py(152) :  AUGMENTATION SCORE: 0.7642297148704529 \n",
      ">> Evaluation on ../../../../../VRP-Omni-modified/Vrp-Set-P/P-n55 finished within 0.07s\n",
      ">> Save final results to res/P-n55\n",
      "Test on \" ../../../../../VRP-Omni-modified/Vrp-Set-P/P-n55 \" Success\n",
      "-----------------------------------------------------------------------------------------------------------------\n",
      "[2024-04-01 17:08:08] test.py(117) : DEBUG_MODE: False\n",
      "[2024-04-01 17:08:08] test.py(118) : USE_CUDA: True, CUDA_DEVICE_NUM: 0\n",
      "[2024-04-01 17:08:08] test.py(119) : env_params{'problem_size': 50, 'pomo_size': 50, 'distribution': {'data_type': 'mixed', 'n_cluster': 3, 'n_cluster_mix': 1, 'lower': 0.2, 'upper': 0.8, 'std': 0.07}, 'load_path': 'data/vrp_uniform50_1000_seed1234.pkl', 'load_raw': None}\n",
      "[2024-04-01 17:08:08] test.py(119) : model_params{'embedding_dim': 64, 'sqrt_embedding_dim': 8.0, 'encoder_layer_num': 6, 'qkv_dim': 8, 'head_num': 8, 'logit_clipping': 10, 'ff_hidden_dim': 512, 'eval_type': 'argmax'}\n",
      "[2024-04-01 17:08:08] test.py(119) : tester_params{'use_cuda': True, 'cuda_device_num': 0, 'model_load': {'path': 'pretrained/checkpoint-cvrp-100.pt', 'epoch': 'test'}, 'test_episodes': 1000, 'test_batch_size': 1, 'augmentation_enable': True, 'aug_factor': 8, 'aug_batch_size': 1, 'test_data_load': {'enable': False, 'filename': ''}, 'test_set_path': '../../../../../VRP-Omni-modified/Vrp-Set-P/P-n60', 'test_set_opt_sol_path': '../../../../../VRP-Omni-modified/Vrp-Set-A/A-n33-sol', 'test_set_name': 'A-n33'}\n",
      "[2024-04-01 17:08:08] test.py(119) : logger_params{'log_file': {'desc': 'test_cvrp50_pretrained_epochtest', 'filename': 'log.txt', 'filepath': './result/20240401_180806_test_cvrp50_pretrained_epochtest'}}\n",
      "['../../../../../VRP-Omni-modified/Vrp-Set-P/P-n60/P-n60-k10.vrp', '../../../../../VRP-Omni-modified/Vrp-Set-P/P-n60/P-n60-k15.vrp']\n"
     ]
    },
    {
     "name": "stderr",
     "output_type": "stream",
     "text": [
      "/home/xunj/miniconda3/envs/amd/lib/python3.8/site-packages/torch/__init__.py:696: UserWarning: torch.set_default_tensor_type() is deprecated as of PyTorch 2.1, please use torch.set_default_dtype() and torch.set_default_device() as alternatives. (Triggered internally at /opt/conda/conda-bld/pytorch_1708025829503/work/torch/csrc/tensor/python_tensor.cpp:451.)\n",
      "  _C._set_default_tensor_type(t)\n"
     ]
    },
    {
     "name": "stdout",
     "output_type": "stream",
     "text": [
      "pretrained/checkpoint-cvrp-100.pt\n",
      "torch.Size([8, 1])\n",
      "torch.Size([8, 59])\n",
      "[2024-04-01 17:08:09] CVRPTester.py(144) : episode   1/  2, Elapsed[0.01m], Remain[0.01m], score:0.886, aug_score:0.797\n",
      "torch.Size([8, 1])\n",
      "torch.Size([8, 59])\n",
      "[2024-04-01 17:08:09] CVRPTester.py(144) : episode   2/  2, Elapsed[0.01m], Remain[0.00m], score:1.078, aug_score:1.066\n",
      "[2024-04-01 17:08:09] CVRPTester.py(150) :  *** Test Done *** \n",
      "[2024-04-01 17:08:09] CVRPTester.py(151) :  NO-AUG SCORE: 0.9817113876342773 \n",
      "[2024-04-01 17:08:09] CVRPTester.py(152) :  AUGMENTATION SCORE: 0.9314054846763611 \n",
      ">> Evaluation on ../../../../../VRP-Omni-modified/Vrp-Set-P/P-n60 finished within 0.08s\n",
      ">> Save final results to res/P-n60\n",
      "Test on \" ../../../../../VRP-Omni-modified/Vrp-Set-P/P-n60 \" Success\n",
      "-----------------------------------------------------------------------------------------------------------------\n",
      "[2024-04-01 17:08:13] test.py(117) : DEBUG_MODE: False\n",
      "[2024-04-01 17:08:13] test.py(118) : USE_CUDA: True, CUDA_DEVICE_NUM: 0\n",
      "[2024-04-01 17:08:13] test.py(119) : env_params{'problem_size': 50, 'pomo_size': 50, 'distribution': {'data_type': 'mixed', 'n_cluster': 3, 'n_cluster_mix': 1, 'lower': 0.2, 'upper': 0.8, 'std': 0.07}, 'load_path': 'data/vrp_uniform50_1000_seed1234.pkl', 'load_raw': None}\n",
      "[2024-04-01 17:08:13] test.py(119) : model_params{'embedding_dim': 64, 'sqrt_embedding_dim': 8.0, 'encoder_layer_num': 6, 'qkv_dim': 8, 'head_num': 8, 'logit_clipping': 10, 'ff_hidden_dim': 512, 'eval_type': 'argmax'}\n",
      "[2024-04-01 17:08:13] test.py(119) : tester_params{'use_cuda': True, 'cuda_device_num': 0, 'model_load': {'path': 'pretrained/checkpoint-cvrp-100.pt', 'epoch': 'test'}, 'test_episodes': 1000, 'test_batch_size': 1, 'augmentation_enable': True, 'aug_factor': 8, 'aug_batch_size': 1, 'test_data_load': {'enable': False, 'filename': ''}, 'test_set_path': '../../../../../VRP-Omni-modified/Vrp-Set-P/P-n65', 'test_set_opt_sol_path': '../../../../../VRP-Omni-modified/Vrp-Set-A/A-n33-sol', 'test_set_name': 'A-n33'}\n",
      "[2024-04-01 17:08:13] test.py(119) : logger_params{'log_file': {'desc': 'test_cvrp50_pretrained_epochtest', 'filename': 'log.txt', 'filepath': './result/20240401_180811_test_cvrp50_pretrained_epochtest'}}\n",
      "['../../../../../VRP-Omni-modified/Vrp-Set-P/P-n65/P-n65-k10.vrp']\n"
     ]
    },
    {
     "name": "stderr",
     "output_type": "stream",
     "text": [
      "/home/xunj/miniconda3/envs/amd/lib/python3.8/site-packages/torch/__init__.py:696: UserWarning: torch.set_default_tensor_type() is deprecated as of PyTorch 2.1, please use torch.set_default_dtype() and torch.set_default_device() as alternatives. (Triggered internally at /opt/conda/conda-bld/pytorch_1708025829503/work/torch/csrc/tensor/python_tensor.cpp:451.)\n",
      "  _C._set_default_tensor_type(t)\n"
     ]
    },
    {
     "name": "stdout",
     "output_type": "stream",
     "text": [
      "pretrained/checkpoint-cvrp-100.pt\n",
      "torch.Size([8, 1])\n",
      "torch.Size([8, 64])\n",
      "[2024-04-01 17:08:13] CVRPTester.py(144) : episode   1/  1, Elapsed[0.01m], Remain[0.00m], score:0.910, aug_score:0.863\n",
      "[2024-04-01 17:08:13] CVRPTester.py(150) :  *** Test Done *** \n",
      "[2024-04-01 17:08:13] CVRPTester.py(151) :  NO-AUG SCORE: 0.9097433090209961 \n",
      "[2024-04-01 17:08:13] CVRPTester.py(152) :  AUGMENTATION SCORE: 0.8632538914680481 \n",
      ">> Evaluation on ../../../../../VRP-Omni-modified/Vrp-Set-P/P-n65 finished within 0.44s\n",
      ">> Save final results to res/P-n65\n",
      "Test on \" ../../../../../VRP-Omni-modified/Vrp-Set-P/P-n65 \" Success\n",
      "-----------------------------------------------------------------------------------------------------------------\n",
      "[2024-04-01 17:08:17] test.py(117) : DEBUG_MODE: False\n",
      "[2024-04-01 17:08:17] test.py(118) : USE_CUDA: True, CUDA_DEVICE_NUM: 0\n",
      "[2024-04-01 17:08:17] test.py(119) : env_params{'problem_size': 50, 'pomo_size': 50, 'distribution': {'data_type': 'mixed', 'n_cluster': 3, 'n_cluster_mix': 1, 'lower': 0.2, 'upper': 0.8, 'std': 0.07}, 'load_path': 'data/vrp_uniform50_1000_seed1234.pkl', 'load_raw': None}\n",
      "[2024-04-01 17:08:17] test.py(119) : model_params{'embedding_dim': 64, 'sqrt_embedding_dim': 8.0, 'encoder_layer_num': 6, 'qkv_dim': 8, 'head_num': 8, 'logit_clipping': 10, 'ff_hidden_dim': 512, 'eval_type': 'argmax'}\n",
      "[2024-04-01 17:08:17] test.py(119) : tester_params{'use_cuda': True, 'cuda_device_num': 0, 'model_load': {'path': 'pretrained/checkpoint-cvrp-100.pt', 'epoch': 'test'}, 'test_episodes': 1000, 'test_batch_size': 1, 'augmentation_enable': True, 'aug_factor': 8, 'aug_batch_size': 1, 'test_data_load': {'enable': False, 'filename': ''}, 'test_set_path': '../../../../../VRP-Omni-modified/Vrp-Set-P/P-n70', 'test_set_opt_sol_path': '../../../../../VRP-Omni-modified/Vrp-Set-A/A-n33-sol', 'test_set_name': 'A-n33'}\n",
      "[2024-04-01 17:08:17] test.py(119) : logger_params{'log_file': {'desc': 'test_cvrp50_pretrained_epochtest', 'filename': 'log.txt', 'filepath': './result/20240401_180815_test_cvrp50_pretrained_epochtest'}}\n",
      "['../../../../../VRP-Omni-modified/Vrp-Set-P/P-n70/P-n70-k10.vrp']\n"
     ]
    },
    {
     "name": "stderr",
     "output_type": "stream",
     "text": [
      "/home/xunj/miniconda3/envs/amd/lib/python3.8/site-packages/torch/__init__.py:696: UserWarning: torch.set_default_tensor_type() is deprecated as of PyTorch 2.1, please use torch.set_default_dtype() and torch.set_default_device() as alternatives. (Triggered internally at /opt/conda/conda-bld/pytorch_1708025829503/work/torch/csrc/tensor/python_tensor.cpp:451.)\n",
      "  _C._set_default_tensor_type(t)\n"
     ]
    },
    {
     "name": "stdout",
     "output_type": "stream",
     "text": [
      "pretrained/checkpoint-cvrp-100.pt\n",
      "torch.Size([8, 1])\n",
      "torch.Size([8, 69])\n",
      "[2024-04-01 17:08:18] CVRPTester.py(144) : episode   1/  1, Elapsed[0.01m], Remain[0.00m], score:0.992, aug_score:0.893\n",
      "[2024-04-01 17:08:18] CVRPTester.py(150) :  *** Test Done *** \n",
      "[2024-04-01 17:08:18] CVRPTester.py(151) :  NO-AUG SCORE: 0.9923324584960938 \n",
      "[2024-04-01 17:08:18] CVRPTester.py(152) :  AUGMENTATION SCORE: 0.8933764100074768 \n",
      ">> Evaluation on ../../../../../VRP-Omni-modified/Vrp-Set-P/P-n70 finished within 0.45s\n",
      ">> Save final results to res/P-n70\n",
      "Test on \" ../../../../../VRP-Omni-modified/Vrp-Set-P/P-n70 \" Success\n",
      "-----------------------------------------------------------------------------------------------------------------\n",
      "[2024-04-01 17:08:21] test.py(117) : DEBUG_MODE: False\n",
      "[2024-04-01 17:08:21] test.py(118) : USE_CUDA: True, CUDA_DEVICE_NUM: 0\n",
      "[2024-04-01 17:08:21] test.py(119) : env_params{'problem_size': 50, 'pomo_size': 50, 'distribution': {'data_type': 'mixed', 'n_cluster': 3, 'n_cluster_mix': 1, 'lower': 0.2, 'upper': 0.8, 'std': 0.07}, 'load_path': 'data/vrp_uniform50_1000_seed1234.pkl', 'load_raw': None}\n",
      "[2024-04-01 17:08:21] test.py(119) : model_params{'embedding_dim': 64, 'sqrt_embedding_dim': 8.0, 'encoder_layer_num': 6, 'qkv_dim': 8, 'head_num': 8, 'logit_clipping': 10, 'ff_hidden_dim': 512, 'eval_type': 'argmax'}\n",
      "[2024-04-01 17:08:21] test.py(119) : tester_params{'use_cuda': True, 'cuda_device_num': 0, 'model_load': {'path': 'pretrained/checkpoint-cvrp-100.pt', 'epoch': 'test'}, 'test_episodes': 1000, 'test_batch_size': 1, 'augmentation_enable': True, 'aug_factor': 8, 'aug_batch_size': 1, 'test_data_load': {'enable': False, 'filename': ''}, 'test_set_path': '../../../../../VRP-Omni-modified/Vrp-Set-P/P-n76', 'test_set_opt_sol_path': '../../../../../VRP-Omni-modified/Vrp-Set-A/A-n33-sol', 'test_set_name': 'A-n33'}\n",
      "[2024-04-01 17:08:21] test.py(119) : logger_params{'log_file': {'desc': 'test_cvrp50_pretrained_epochtest', 'filename': 'log.txt', 'filepath': './result/20240401_180819_test_cvrp50_pretrained_epochtest'}}\n",
      "['../../../../../VRP-Omni-modified/Vrp-Set-P/P-n76/P-n76-k4.vrp', '../../../../../VRP-Omni-modified/Vrp-Set-P/P-n76/P-n76-k5.vrp']\n"
     ]
    },
    {
     "name": "stderr",
     "output_type": "stream",
     "text": [
      "/home/xunj/miniconda3/envs/amd/lib/python3.8/site-packages/torch/__init__.py:696: UserWarning: torch.set_default_tensor_type() is deprecated as of PyTorch 2.1, please use torch.set_default_dtype() and torch.set_default_device() as alternatives. (Triggered internally at /opt/conda/conda-bld/pytorch_1708025829503/work/torch/csrc/tensor/python_tensor.cpp:451.)\n",
      "  _C._set_default_tensor_type(t)\n"
     ]
    },
    {
     "name": "stdout",
     "output_type": "stream",
     "text": [
      "pretrained/checkpoint-cvrp-100.pt\n",
      "torch.Size([8, 1])\n",
      "torch.Size([8, 75])\n",
      "[2024-04-01 17:08:22] CVRPTester.py(144) : episode   1/  2, Elapsed[0.01m], Remain[0.01m], score:0.710, aug_score:0.653\n",
      "torch.Size([8, 1])\n",
      "torch.Size([8, 75])\n",
      "[2024-04-01 17:08:22] CVRPTester.py(144) : episode   2/  2, Elapsed[0.01m], Remain[0.00m], score:0.742, aug_score:0.675\n",
      "[2024-04-01 17:08:22] CVRPTester.py(150) :  *** Test Done *** \n",
      "[2024-04-01 17:08:22] CVRPTester.py(151) :  NO-AUG SCORE: 0.7260509729385376 \n",
      "[2024-04-01 17:08:22] CVRPTester.py(152) :  AUGMENTATION SCORE: 0.6638244986534119 \n",
      ">> Evaluation on ../../../../../VRP-Omni-modified/Vrp-Set-P/P-n76 finished within 0.09s\n",
      ">> Save final results to res/P-n76\n",
      "Test on \" ../../../../../VRP-Omni-modified/Vrp-Set-P/P-n76 \" Success\n",
      "-----------------------------------------------------------------------------------------------------------------\n",
      "[2024-04-01 17:08:26] test.py(117) : DEBUG_MODE: False\n",
      "[2024-04-01 17:08:26] test.py(118) : USE_CUDA: True, CUDA_DEVICE_NUM: 0\n",
      "[2024-04-01 17:08:26] test.py(119) : env_params{'problem_size': 50, 'pomo_size': 50, 'distribution': {'data_type': 'mixed', 'n_cluster': 3, 'n_cluster_mix': 1, 'lower': 0.2, 'upper': 0.8, 'std': 0.07}, 'load_path': 'data/vrp_uniform50_1000_seed1234.pkl', 'load_raw': None}\n",
      "[2024-04-01 17:08:26] test.py(119) : model_params{'embedding_dim': 64, 'sqrt_embedding_dim': 8.0, 'encoder_layer_num': 6, 'qkv_dim': 8, 'head_num': 8, 'logit_clipping': 10, 'ff_hidden_dim': 512, 'eval_type': 'argmax'}\n",
      "[2024-04-01 17:08:26] test.py(119) : tester_params{'use_cuda': True, 'cuda_device_num': 0, 'model_load': {'path': 'pretrained/checkpoint-cvrp-100.pt', 'epoch': 'test'}, 'test_episodes': 1000, 'test_batch_size': 1, 'augmentation_enable': True, 'aug_factor': 8, 'aug_batch_size': 1, 'test_data_load': {'enable': False, 'filename': ''}, 'test_set_path': '../../../../../VRP-Omni-modified/Vrp-Set-X/X-n1001', 'test_set_opt_sol_path': '../../../../../VRP-Omni-modified/Vrp-Set-A/A-n33-sol', 'test_set_name': 'A-n33'}\n",
      "[2024-04-01 17:08:26] test.py(119) : logger_params{'log_file': {'desc': 'test_cvrp50_pretrained_epochtest', 'filename': 'log.txt', 'filepath': './result/20240401_180824_test_cvrp50_pretrained_epochtest'}}\n",
      "['../../../../../VRP-Omni-modified/Vrp-Set-X/X-n1001/X-n1001-k43.vrp']\n"
     ]
    },
    {
     "name": "stderr",
     "output_type": "stream",
     "text": [
      "/home/xunj/miniconda3/envs/amd/lib/python3.8/site-packages/torch/__init__.py:696: UserWarning: torch.set_default_tensor_type() is deprecated as of PyTorch 2.1, please use torch.set_default_dtype() and torch.set_default_device() as alternatives. (Triggered internally at /opt/conda/conda-bld/pytorch_1708025829503/work/torch/csrc/tensor/python_tensor.cpp:451.)\n",
      "  _C._set_default_tensor_type(t)\n"
     ]
    },
    {
     "name": "stdout",
     "output_type": "stream",
     "text": [
      "pretrained/checkpoint-cvrp-100.pt\n",
      "torch.Size([8, 1])\n",
      "torch.Size([8, 1000])\n",
      "[2024-04-01 17:08:31] CVRPTester.py(144) : episode   1/  1, Elapsed[0.09m], Remain[0.00m], score:132.726, aug_score:121.538\n",
      "[2024-04-01 17:08:31] CVRPTester.py(150) :  *** Test Done *** \n",
      "[2024-04-01 17:08:31] CVRPTester.py(151) :  NO-AUG SCORE: 132.72579956054688 \n",
      "[2024-04-01 17:08:31] CVRPTester.py(152) :  AUGMENTATION SCORE: 121.53842163085938 \n",
      ">> Evaluation on ../../../../../VRP-Omni-modified/Vrp-Set-X/X-n1001 finished within 5.14s\n",
      ">> Save final results to res/X-n1001\n",
      "Test on \" ../../../../../VRP-Omni-modified/Vrp-Set-X/X-n1001 \" Success\n",
      "-----------------------------------------------------------------------------------------------------------------\n",
      "[2024-04-01 17:08:35] test.py(117) : DEBUG_MODE: False\n",
      "[2024-04-01 17:08:35] test.py(118) : USE_CUDA: True, CUDA_DEVICE_NUM: 0\n",
      "[2024-04-01 17:08:35] test.py(119) : env_params{'problem_size': 50, 'pomo_size': 50, 'distribution': {'data_type': 'mixed', 'n_cluster': 3, 'n_cluster_mix': 1, 'lower': 0.2, 'upper': 0.8, 'std': 0.07}, 'load_path': 'data/vrp_uniform50_1000_seed1234.pkl', 'load_raw': None}\n",
      "[2024-04-01 17:08:35] test.py(119) : model_params{'embedding_dim': 64, 'sqrt_embedding_dim': 8.0, 'encoder_layer_num': 6, 'qkv_dim': 8, 'head_num': 8, 'logit_clipping': 10, 'ff_hidden_dim': 512, 'eval_type': 'argmax'}\n",
      "[2024-04-01 17:08:35] test.py(119) : tester_params{'use_cuda': True, 'cuda_device_num': 0, 'model_load': {'path': 'pretrained/checkpoint-cvrp-100.pt', 'epoch': 'test'}, 'test_episodes': 1000, 'test_batch_size': 1, 'augmentation_enable': True, 'aug_factor': 8, 'aug_batch_size': 1, 'test_data_load': {'enable': False, 'filename': ''}, 'test_set_path': '../../../../../VRP-Omni-modified/Vrp-Set-X/X-n101', 'test_set_opt_sol_path': '../../../../../VRP-Omni-modified/Vrp-Set-A/A-n33-sol', 'test_set_name': 'A-n33'}\n",
      "[2024-04-01 17:08:35] test.py(119) : logger_params{'log_file': {'desc': 'test_cvrp50_pretrained_epochtest', 'filename': 'log.txt', 'filepath': './result/20240401_180833_test_cvrp50_pretrained_epochtest'}}\n",
      "['../../../../../VRP-Omni-modified/Vrp-Set-X/X-n101/X-n101-k25.vrp']\n"
     ]
    },
    {
     "name": "stderr",
     "output_type": "stream",
     "text": [
      "/home/xunj/miniconda3/envs/amd/lib/python3.8/site-packages/torch/__init__.py:696: UserWarning: torch.set_default_tensor_type() is deprecated as of PyTorch 2.1, please use torch.set_default_dtype() and torch.set_default_device() as alternatives. (Triggered internally at /opt/conda/conda-bld/pytorch_1708025829503/work/torch/csrc/tensor/python_tensor.cpp:451.)\n",
      "  _C._set_default_tensor_type(t)\n"
     ]
    },
    {
     "name": "stdout",
     "output_type": "stream",
     "text": [
      "pretrained/checkpoint-cvrp-100.pt\n",
      "torch.Size([8, 1])\n",
      "torch.Size([8, 100])\n",
      "[2024-04-01 17:08:35] CVRPTester.py(144) : episode   1/  1, Elapsed[0.01m], Remain[0.00m], score:29.854, aug_score:29.299\n",
      "[2024-04-01 17:08:35] CVRPTester.py(150) :  *** Test Done *** \n",
      "[2024-04-01 17:08:35] CVRPTester.py(151) :  NO-AUG SCORE: 29.853899002075195 \n",
      "[2024-04-01 17:08:35] CVRPTester.py(152) :  AUGMENTATION SCORE: 29.29867935180664 \n",
      ">> Evaluation on ../../../../../VRP-Omni-modified/Vrp-Set-X/X-n101 finished within 0.51s\n",
      ">> Save final results to res/X-n101\n",
      "Test on \" ../../../../../VRP-Omni-modified/Vrp-Set-X/X-n101 \" Success\n",
      "-----------------------------------------------------------------------------------------------------------------\n",
      "[2024-04-01 17:08:39] test.py(117) : DEBUG_MODE: False\n",
      "[2024-04-01 17:08:39] test.py(118) : USE_CUDA: True, CUDA_DEVICE_NUM: 0\n",
      "[2024-04-01 17:08:39] test.py(119) : env_params{'problem_size': 50, 'pomo_size': 50, 'distribution': {'data_type': 'mixed', 'n_cluster': 3, 'n_cluster_mix': 1, 'lower': 0.2, 'upper': 0.8, 'std': 0.07}, 'load_path': 'data/vrp_uniform50_1000_seed1234.pkl', 'load_raw': None}\n",
      "[2024-04-01 17:08:39] test.py(119) : model_params{'embedding_dim': 64, 'sqrt_embedding_dim': 8.0, 'encoder_layer_num': 6, 'qkv_dim': 8, 'head_num': 8, 'logit_clipping': 10, 'ff_hidden_dim': 512, 'eval_type': 'argmax'}\n",
      "[2024-04-01 17:08:39] test.py(119) : tester_params{'use_cuda': True, 'cuda_device_num': 0, 'model_load': {'path': 'pretrained/checkpoint-cvrp-100.pt', 'epoch': 'test'}, 'test_episodes': 1000, 'test_batch_size': 1, 'augmentation_enable': True, 'aug_factor': 8, 'aug_batch_size': 1, 'test_data_load': {'enable': False, 'filename': ''}, 'test_set_path': '../../../../../VRP-Omni-modified/Vrp-Set-X/X-n106', 'test_set_opt_sol_path': '../../../../../VRP-Omni-modified/Vrp-Set-A/A-n33-sol', 'test_set_name': 'A-n33'}\n",
      "[2024-04-01 17:08:39] test.py(119) : logger_params{'log_file': {'desc': 'test_cvrp50_pretrained_epochtest', 'filename': 'log.txt', 'filepath': './result/20240401_180837_test_cvrp50_pretrained_epochtest'}}\n",
      "['../../../../../VRP-Omni-modified/Vrp-Set-X/X-n106/X-n106-k14.vrp']\n"
     ]
    },
    {
     "name": "stderr",
     "output_type": "stream",
     "text": [
      "/home/xunj/miniconda3/envs/amd/lib/python3.8/site-packages/torch/__init__.py:696: UserWarning: torch.set_default_tensor_type() is deprecated as of PyTorch 2.1, please use torch.set_default_dtype() and torch.set_default_device() as alternatives. (Triggered internally at /opt/conda/conda-bld/pytorch_1708025829503/work/torch/csrc/tensor/python_tensor.cpp:451.)\n",
      "  _C._set_default_tensor_type(t)\n"
     ]
    },
    {
     "name": "stdout",
     "output_type": "stream",
     "text": [
      "pretrained/checkpoint-cvrp-100.pt\n",
      "torch.Size([8, 1])\n",
      "torch.Size([8, 105])\n",
      "[2024-04-01 17:08:40] CVRPTester.py(144) : episode   1/  1, Elapsed[0.01m], Remain[0.00m], score:26.981, aug_score:26.847\n",
      "[2024-04-01 17:08:40] CVRPTester.py(150) :  *** Test Done *** \n",
      "[2024-04-01 17:08:40] CVRPTester.py(151) :  NO-AUG SCORE: 26.98086166381836 \n",
      "[2024-04-01 17:08:40] CVRPTester.py(152) :  AUGMENTATION SCORE: 26.846839904785156 \n",
      ">> Evaluation on ../../../../../VRP-Omni-modified/Vrp-Set-X/X-n106 finished within 0.49s\n",
      ">> Save final results to res/X-n106\n",
      "Test on \" ../../../../../VRP-Omni-modified/Vrp-Set-X/X-n106 \" Success\n",
      "-----------------------------------------------------------------------------------------------------------------\n",
      "[2024-04-01 17:08:43] test.py(117) : DEBUG_MODE: False\n",
      "[2024-04-01 17:08:43] test.py(118) : USE_CUDA: True, CUDA_DEVICE_NUM: 0\n",
      "[2024-04-01 17:08:43] test.py(119) : env_params{'problem_size': 50, 'pomo_size': 50, 'distribution': {'data_type': 'mixed', 'n_cluster': 3, 'n_cluster_mix': 1, 'lower': 0.2, 'upper': 0.8, 'std': 0.07}, 'load_path': 'data/vrp_uniform50_1000_seed1234.pkl', 'load_raw': None}\n",
      "[2024-04-01 17:08:43] test.py(119) : model_params{'embedding_dim': 64, 'sqrt_embedding_dim': 8.0, 'encoder_layer_num': 6, 'qkv_dim': 8, 'head_num': 8, 'logit_clipping': 10, 'ff_hidden_dim': 512, 'eval_type': 'argmax'}\n",
      "[2024-04-01 17:08:43] test.py(119) : tester_params{'use_cuda': True, 'cuda_device_num': 0, 'model_load': {'path': 'pretrained/checkpoint-cvrp-100.pt', 'epoch': 'test'}, 'test_episodes': 1000, 'test_batch_size': 1, 'augmentation_enable': True, 'aug_factor': 8, 'aug_batch_size': 1, 'test_data_load': {'enable': False, 'filename': ''}, 'test_set_path': '../../../../../VRP-Omni-modified/Vrp-Set-X/X-n110', 'test_set_opt_sol_path': '../../../../../VRP-Omni-modified/Vrp-Set-A/A-n33-sol', 'test_set_name': 'A-n33'}\n",
      "[2024-04-01 17:08:43] test.py(119) : logger_params{'log_file': {'desc': 'test_cvrp50_pretrained_epochtest', 'filename': 'log.txt', 'filepath': './result/20240401_180841_test_cvrp50_pretrained_epochtest'}}\n",
      "['../../../../../VRP-Omni-modified/Vrp-Set-X/X-n110/X-n110-k13.vrp']\n"
     ]
    },
    {
     "name": "stderr",
     "output_type": "stream",
     "text": [
      "/home/xunj/miniconda3/envs/amd/lib/python3.8/site-packages/torch/__init__.py:696: UserWarning: torch.set_default_tensor_type() is deprecated as of PyTorch 2.1, please use torch.set_default_dtype() and torch.set_default_device() as alternatives. (Triggered internally at /opt/conda/conda-bld/pytorch_1708025829503/work/torch/csrc/tensor/python_tensor.cpp:451.)\n",
      "  _C._set_default_tensor_type(t)\n"
     ]
    },
    {
     "name": "stdout",
     "output_type": "stream",
     "text": [
      "pretrained/checkpoint-cvrp-100.pt\n",
      "torch.Size([8, 1])\n",
      "torch.Size([8, 109])\n",
      "[2024-04-01 17:08:44] CVRPTester.py(144) : episode   1/  1, Elapsed[0.01m], Remain[0.00m], score:15.315, aug_score:15.315\n",
      "[2024-04-01 17:08:44] CVRPTester.py(150) :  *** Test Done *** \n",
      "[2024-04-01 17:08:44] CVRPTester.py(151) :  NO-AUG SCORE: 15.314695358276367 \n",
      "[2024-04-01 17:08:44] CVRPTester.py(152) :  AUGMENTATION SCORE: 15.314695358276367 \n",
      ">> Evaluation on ../../../../../VRP-Omni-modified/Vrp-Set-X/X-n110 finished within 0.49s\n",
      ">> Save final results to res/X-n110\n",
      "Test on \" ../../../../../VRP-Omni-modified/Vrp-Set-X/X-n110 \" Success\n",
      "-----------------------------------------------------------------------------------------------------------------\n",
      "[2024-04-01 17:08:48] test.py(117) : DEBUG_MODE: False\n",
      "[2024-04-01 17:08:48] test.py(118) : USE_CUDA: True, CUDA_DEVICE_NUM: 0\n",
      "[2024-04-01 17:08:48] test.py(119) : env_params{'problem_size': 50, 'pomo_size': 50, 'distribution': {'data_type': 'mixed', 'n_cluster': 3, 'n_cluster_mix': 1, 'lower': 0.2, 'upper': 0.8, 'std': 0.07}, 'load_path': 'data/vrp_uniform50_1000_seed1234.pkl', 'load_raw': None}\n",
      "[2024-04-01 17:08:48] test.py(119) : model_params{'embedding_dim': 64, 'sqrt_embedding_dim': 8.0, 'encoder_layer_num': 6, 'qkv_dim': 8, 'head_num': 8, 'logit_clipping': 10, 'ff_hidden_dim': 512, 'eval_type': 'argmax'}\n",
      "[2024-04-01 17:08:48] test.py(119) : tester_params{'use_cuda': True, 'cuda_device_num': 0, 'model_load': {'path': 'pretrained/checkpoint-cvrp-100.pt', 'epoch': 'test'}, 'test_episodes': 1000, 'test_batch_size': 1, 'augmentation_enable': True, 'aug_factor': 8, 'aug_batch_size': 1, 'test_data_load': {'enable': False, 'filename': ''}, 'test_set_path': '../../../../../VRP-Omni-modified/Vrp-Set-X/X-n115', 'test_set_opt_sol_path': '../../../../../VRP-Omni-modified/Vrp-Set-A/A-n33-sol', 'test_set_name': 'A-n33'}\n",
      "[2024-04-01 17:08:48] test.py(119) : logger_params{'log_file': {'desc': 'test_cvrp50_pretrained_epochtest', 'filename': 'log.txt', 'filepath': './result/20240401_180846_test_cvrp50_pretrained_epochtest'}}\n",
      "['../../../../../VRP-Omni-modified/Vrp-Set-X/X-n115/X-n115-k10.vrp']\n"
     ]
    },
    {
     "name": "stderr",
     "output_type": "stream",
     "text": [
      "/home/xunj/miniconda3/envs/amd/lib/python3.8/site-packages/torch/__init__.py:696: UserWarning: torch.set_default_tensor_type() is deprecated as of PyTorch 2.1, please use torch.set_default_dtype() and torch.set_default_device() as alternatives. (Triggered internally at /opt/conda/conda-bld/pytorch_1708025829503/work/torch/csrc/tensor/python_tensor.cpp:451.)\n",
      "  _C._set_default_tensor_type(t)\n"
     ]
    },
    {
     "name": "stdout",
     "output_type": "stream",
     "text": [
      "pretrained/checkpoint-cvrp-100.pt\n",
      "torch.Size([8, 1])\n",
      "torch.Size([8, 114])\n",
      "[2024-04-01 17:08:48] CVRPTester.py(144) : episode   1/  1, Elapsed[0.01m], Remain[0.00m], score:13.619, aug_score:13.418\n",
      "[2024-04-01 17:08:48] CVRPTester.py(150) :  *** Test Done *** \n",
      "[2024-04-01 17:08:48] CVRPTester.py(151) :  NO-AUG SCORE: 13.61880874633789 \n",
      "[2024-04-01 17:08:48] CVRPTester.py(152) :  AUGMENTATION SCORE: 13.418153762817383 \n",
      ">> Evaluation on ../../../../../VRP-Omni-modified/Vrp-Set-X/X-n115 finished within 0.49s\n",
      ">> Save final results to res/X-n115\n",
      "Test on \" ../../../../../VRP-Omni-modified/Vrp-Set-X/X-n115 \" Success\n",
      "-----------------------------------------------------------------------------------------------------------------\n",
      "[2024-04-01 17:08:52] test.py(117) : DEBUG_MODE: False\n",
      "[2024-04-01 17:08:52] test.py(118) : USE_CUDA: True, CUDA_DEVICE_NUM: 0\n",
      "[2024-04-01 17:08:52] test.py(119) : env_params{'problem_size': 50, 'pomo_size': 50, 'distribution': {'data_type': 'mixed', 'n_cluster': 3, 'n_cluster_mix': 1, 'lower': 0.2, 'upper': 0.8, 'std': 0.07}, 'load_path': 'data/vrp_uniform50_1000_seed1234.pkl', 'load_raw': None}\n",
      "[2024-04-01 17:08:52] test.py(119) : model_params{'embedding_dim': 64, 'sqrt_embedding_dim': 8.0, 'encoder_layer_num': 6, 'qkv_dim': 8, 'head_num': 8, 'logit_clipping': 10, 'ff_hidden_dim': 512, 'eval_type': 'argmax'}\n",
      "[2024-04-01 17:08:52] test.py(119) : tester_params{'use_cuda': True, 'cuda_device_num': 0, 'model_load': {'path': 'pretrained/checkpoint-cvrp-100.pt', 'epoch': 'test'}, 'test_episodes': 1000, 'test_batch_size': 1, 'augmentation_enable': True, 'aug_factor': 8, 'aug_batch_size': 1, 'test_data_load': {'enable': False, 'filename': ''}, 'test_set_path': '../../../../../VRP-Omni-modified/Vrp-Set-X/X-n120', 'test_set_opt_sol_path': '../../../../../VRP-Omni-modified/Vrp-Set-A/A-n33-sol', 'test_set_name': 'A-n33'}\n",
      "[2024-04-01 17:08:52] test.py(119) : logger_params{'log_file': {'desc': 'test_cvrp50_pretrained_epochtest', 'filename': 'log.txt', 'filepath': './result/20240401_180850_test_cvrp50_pretrained_epochtest'}}\n",
      "['../../../../../VRP-Omni-modified/Vrp-Set-X/X-n120/X-n120-k6.vrp']\n",
      "pretrained/checkpoint-cvrp-100.pt\n"
     ]
    },
    {
     "name": "stderr",
     "output_type": "stream",
     "text": [
      "/home/xunj/miniconda3/envs/amd/lib/python3.8/site-packages/torch/__init__.py:696: UserWarning: torch.set_default_tensor_type() is deprecated as of PyTorch 2.1, please use torch.set_default_dtype() and torch.set_default_device() as alternatives. (Triggered internally at /opt/conda/conda-bld/pytorch_1708025829503/work/torch/csrc/tensor/python_tensor.cpp:451.)\n",
      "  _C._set_default_tensor_type(t)\n"
     ]
    },
    {
     "name": "stdout",
     "output_type": "stream",
     "text": [
      "torch.Size([8, 1])\n",
      "torch.Size([8, 119])\n",
      "[2024-04-01 17:08:53] CVRPTester.py(144) : episode   1/  1, Elapsed[0.01m], Remain[0.00m], score:13.631, aug_score:13.631\n",
      "[2024-04-01 17:08:53] CVRPTester.py(150) :  *** Test Done *** \n",
      "[2024-04-01 17:08:53] CVRPTester.py(151) :  NO-AUG SCORE: 13.63080883026123 \n",
      "[2024-04-01 17:08:53] CVRPTester.py(152) :  AUGMENTATION SCORE: 13.63080883026123 \n",
      ">> Evaluation on ../../../../../VRP-Omni-modified/Vrp-Set-X/X-n120 finished within 0.45s\n",
      ">> Save final results to res/X-n120\n",
      "Test on \" ../../../../../VRP-Omni-modified/Vrp-Set-X/X-n120 \" Success\n",
      "-----------------------------------------------------------------------------------------------------------------\n",
      "[2024-04-01 17:08:56] test.py(117) : DEBUG_MODE: False\n",
      "[2024-04-01 17:08:56] test.py(118) : USE_CUDA: True, CUDA_DEVICE_NUM: 0\n",
      "[2024-04-01 17:08:56] test.py(119) : env_params{'problem_size': 50, 'pomo_size': 50, 'distribution': {'data_type': 'mixed', 'n_cluster': 3, 'n_cluster_mix': 1, 'lower': 0.2, 'upper': 0.8, 'std': 0.07}, 'load_path': 'data/vrp_uniform50_1000_seed1234.pkl', 'load_raw': None}\n",
      "[2024-04-01 17:08:56] test.py(119) : model_params{'embedding_dim': 64, 'sqrt_embedding_dim': 8.0, 'encoder_layer_num': 6, 'qkv_dim': 8, 'head_num': 8, 'logit_clipping': 10, 'ff_hidden_dim': 512, 'eval_type': 'argmax'}\n",
      "[2024-04-01 17:08:56] test.py(119) : tester_params{'use_cuda': True, 'cuda_device_num': 0, 'model_load': {'path': 'pretrained/checkpoint-cvrp-100.pt', 'epoch': 'test'}, 'test_episodes': 1000, 'test_batch_size': 1, 'augmentation_enable': True, 'aug_factor': 8, 'aug_batch_size': 1, 'test_data_load': {'enable': False, 'filename': ''}, 'test_set_path': '../../../../../VRP-Omni-modified/Vrp-Set-X/X-n125', 'test_set_opt_sol_path': '../../../../../VRP-Omni-modified/Vrp-Set-A/A-n33-sol', 'test_set_name': 'A-n33'}\n",
      "[2024-04-01 17:08:56] test.py(119) : logger_params{'log_file': {'desc': 'test_cvrp50_pretrained_epochtest', 'filename': 'log.txt', 'filepath': './result/20240401_180854_test_cvrp50_pretrained_epochtest'}}\n",
      "['../../../../../VRP-Omni-modified/Vrp-Set-X/X-n125/X-n125-k30.vrp']\n"
     ]
    },
    {
     "name": "stderr",
     "output_type": "stream",
     "text": [
      "/home/xunj/miniconda3/envs/amd/lib/python3.8/site-packages/torch/__init__.py:696: UserWarning: torch.set_default_tensor_type() is deprecated as of PyTorch 2.1, please use torch.set_default_dtype() and torch.set_default_device() as alternatives. (Triggered internally at /opt/conda/conda-bld/pytorch_1708025829503/work/torch/csrc/tensor/python_tensor.cpp:451.)\n",
      "  _C._set_default_tensor_type(t)\n"
     ]
    },
    {
     "name": "stdout",
     "output_type": "stream",
     "text": [
      "pretrained/checkpoint-cvrp-100.pt\n",
      "torch.Size([8, 1])\n",
      "torch.Size([8, 124])\n",
      "[2024-04-01 17:08:57] CVRPTester.py(144) : episode   1/  1, Elapsed[0.01m], Remain[0.00m], score:58.880, aug_score:58.672\n",
      "[2024-04-01 17:08:57] CVRPTester.py(150) :  *** Test Done *** \n",
      "[2024-04-01 17:08:57] CVRPTester.py(151) :  NO-AUG SCORE: 58.880332946777344 \n",
      "[2024-04-01 17:08:57] CVRPTester.py(152) :  AUGMENTATION SCORE: 58.67224884033203 \n",
      ">> Evaluation on ../../../../../VRP-Omni-modified/Vrp-Set-X/X-n125 finished within 0.54s\n",
      ">> Save final results to res/X-n125\n",
      "Test on \" ../../../../../VRP-Omni-modified/Vrp-Set-X/X-n125 \" Success\n",
      "-----------------------------------------------------------------------------------------------------------------\n",
      "[2024-04-01 17:09:01] test.py(117) : DEBUG_MODE: False\n",
      "[2024-04-01 17:09:01] test.py(118) : USE_CUDA: True, CUDA_DEVICE_NUM: 0\n",
      "[2024-04-01 17:09:01] test.py(119) : env_params{'problem_size': 50, 'pomo_size': 50, 'distribution': {'data_type': 'mixed', 'n_cluster': 3, 'n_cluster_mix': 1, 'lower': 0.2, 'upper': 0.8, 'std': 0.07}, 'load_path': 'data/vrp_uniform50_1000_seed1234.pkl', 'load_raw': None}\n",
      "[2024-04-01 17:09:01] test.py(119) : model_params{'embedding_dim': 64, 'sqrt_embedding_dim': 8.0, 'encoder_layer_num': 6, 'qkv_dim': 8, 'head_num': 8, 'logit_clipping': 10, 'ff_hidden_dim': 512, 'eval_type': 'argmax'}\n",
      "[2024-04-01 17:09:01] test.py(119) : tester_params{'use_cuda': True, 'cuda_device_num': 0, 'model_load': {'path': 'pretrained/checkpoint-cvrp-100.pt', 'epoch': 'test'}, 'test_episodes': 1000, 'test_batch_size': 1, 'augmentation_enable': True, 'aug_factor': 8, 'aug_batch_size': 1, 'test_data_load': {'enable': False, 'filename': ''}, 'test_set_path': '../../../../../VRP-Omni-modified/Vrp-Set-X/X-n129', 'test_set_opt_sol_path': '../../../../../VRP-Omni-modified/Vrp-Set-A/A-n33-sol', 'test_set_name': 'A-n33'}\n",
      "[2024-04-01 17:09:01] test.py(119) : logger_params{'log_file': {'desc': 'test_cvrp50_pretrained_epochtest', 'filename': 'log.txt', 'filepath': './result/20240401_180859_test_cvrp50_pretrained_epochtest'}}\n",
      "['../../../../../VRP-Omni-modified/Vrp-Set-X/X-n129/X-n129-k18.vrp']\n"
     ]
    },
    {
     "name": "stderr",
     "output_type": "stream",
     "text": [
      "/home/xunj/miniconda3/envs/amd/lib/python3.8/site-packages/torch/__init__.py:696: UserWarning: torch.set_default_tensor_type() is deprecated as of PyTorch 2.1, please use torch.set_default_dtype() and torch.set_default_device() as alternatives. (Triggered internally at /opt/conda/conda-bld/pytorch_1708025829503/work/torch/csrc/tensor/python_tensor.cpp:451.)\n",
      "  _C._set_default_tensor_type(t)\n"
     ]
    },
    {
     "name": "stdout",
     "output_type": "stream",
     "text": [
      "pretrained/checkpoint-cvrp-100.pt\n",
      "torch.Size([8, 1])\n",
      "torch.Size([8, 128])\n",
      "[2024-04-01 17:09:02] CVRPTester.py(144) : episode   1/  1, Elapsed[0.01m], Remain[0.00m], score:29.449, aug_score:29.449\n",
      "[2024-04-01 17:09:02] CVRPTester.py(150) :  *** Test Done *** \n",
      "[2024-04-01 17:09:02] CVRPTester.py(151) :  NO-AUG SCORE: 29.449138641357422 \n",
      "[2024-04-01 17:09:02] CVRPTester.py(152) :  AUGMENTATION SCORE: 29.449138641357422 \n",
      ">> Evaluation on ../../../../../VRP-Omni-modified/Vrp-Set-X/X-n129 finished within 0.56s\n",
      ">> Save final results to res/X-n129\n",
      "Test on \" ../../../../../VRP-Omni-modified/Vrp-Set-X/X-n129 \" Success\n",
      "-----------------------------------------------------------------------------------------------------------------\n",
      "[2024-04-01 17:09:05] test.py(117) : DEBUG_MODE: False\n",
      "[2024-04-01 17:09:05] test.py(118) : USE_CUDA: True, CUDA_DEVICE_NUM: 0\n",
      "[2024-04-01 17:09:05] test.py(119) : env_params{'problem_size': 50, 'pomo_size': 50, 'distribution': {'data_type': 'mixed', 'n_cluster': 3, 'n_cluster_mix': 1, 'lower': 0.2, 'upper': 0.8, 'std': 0.07}, 'load_path': 'data/vrp_uniform50_1000_seed1234.pkl', 'load_raw': None}\n",
      "[2024-04-01 17:09:05] test.py(119) : model_params{'embedding_dim': 64, 'sqrt_embedding_dim': 8.0, 'encoder_layer_num': 6, 'qkv_dim': 8, 'head_num': 8, 'logit_clipping': 10, 'ff_hidden_dim': 512, 'eval_type': 'argmax'}\n",
      "[2024-04-01 17:09:05] test.py(119) : tester_params{'use_cuda': True, 'cuda_device_num': 0, 'model_load': {'path': 'pretrained/checkpoint-cvrp-100.pt', 'epoch': 'test'}, 'test_episodes': 1000, 'test_batch_size': 1, 'augmentation_enable': True, 'aug_factor': 8, 'aug_batch_size': 1, 'test_data_load': {'enable': False, 'filename': ''}, 'test_set_path': '../../../../../VRP-Omni-modified/Vrp-Set-X/X-n134', 'test_set_opt_sol_path': '../../../../../VRP-Omni-modified/Vrp-Set-A/A-n33-sol', 'test_set_name': 'A-n33'}\n",
      "[2024-04-01 17:09:05] test.py(119) : logger_params{'log_file': {'desc': 'test_cvrp50_pretrained_epochtest', 'filename': 'log.txt', 'filepath': './result/20240401_180903_test_cvrp50_pretrained_epochtest'}}\n",
      "['../../../../../VRP-Omni-modified/Vrp-Set-X/X-n134/X-n134-k13.vrp']\n"
     ]
    },
    {
     "name": "stderr",
     "output_type": "stream",
     "text": [
      "/home/xunj/miniconda3/envs/amd/lib/python3.8/site-packages/torch/__init__.py:696: UserWarning: torch.set_default_tensor_type() is deprecated as of PyTorch 2.1, please use torch.set_default_dtype() and torch.set_default_device() as alternatives. (Triggered internally at /opt/conda/conda-bld/pytorch_1708025829503/work/torch/csrc/tensor/python_tensor.cpp:451.)\n",
      "  _C._set_default_tensor_type(t)\n"
     ]
    },
    {
     "name": "stdout",
     "output_type": "stream",
     "text": [
      "pretrained/checkpoint-cvrp-100.pt\n",
      "torch.Size([8, 1])\n",
      "torch.Size([8, 133])\n",
      "[2024-04-01 17:09:06] CVRPTester.py(144) : episode   1/  1, Elapsed[0.01m], Remain[0.00m], score:11.352, aug_score:11.352\n",
      "[2024-04-01 17:09:06] CVRPTester.py(150) :  *** Test Done *** \n",
      "[2024-04-01 17:09:06] CVRPTester.py(151) :  NO-AUG SCORE: 11.351791381835938 \n",
      "[2024-04-01 17:09:06] CVRPTester.py(152) :  AUGMENTATION SCORE: 11.351791381835938 \n",
      ">> Evaluation on ../../../../../VRP-Omni-modified/Vrp-Set-X/X-n134 finished within 0.45s\n",
      ">> Save final results to res/X-n134\n",
      "Test on \" ../../../../../VRP-Omni-modified/Vrp-Set-X/X-n134 \" Success\n",
      "-----------------------------------------------------------------------------------------------------------------\n",
      "[2024-04-01 17:09:09] test.py(117) : DEBUG_MODE: False\n",
      "[2024-04-01 17:09:09] test.py(118) : USE_CUDA: True, CUDA_DEVICE_NUM: 0\n",
      "[2024-04-01 17:09:09] test.py(119) : env_params{'problem_size': 50, 'pomo_size': 50, 'distribution': {'data_type': 'mixed', 'n_cluster': 3, 'n_cluster_mix': 1, 'lower': 0.2, 'upper': 0.8, 'std': 0.07}, 'load_path': 'data/vrp_uniform50_1000_seed1234.pkl', 'load_raw': None}\n",
      "[2024-04-01 17:09:09] test.py(119) : model_params{'embedding_dim': 64, 'sqrt_embedding_dim': 8.0, 'encoder_layer_num': 6, 'qkv_dim': 8, 'head_num': 8, 'logit_clipping': 10, 'ff_hidden_dim': 512, 'eval_type': 'argmax'}\n",
      "[2024-04-01 17:09:09] test.py(119) : tester_params{'use_cuda': True, 'cuda_device_num': 0, 'model_load': {'path': 'pretrained/checkpoint-cvrp-100.pt', 'epoch': 'test'}, 'test_episodes': 1000, 'test_batch_size': 1, 'augmentation_enable': True, 'aug_factor': 8, 'aug_batch_size': 1, 'test_data_load': {'enable': False, 'filename': ''}, 'test_set_path': '../../../../../VRP-Omni-modified/Vrp-Set-X/X-n139', 'test_set_opt_sol_path': '../../../../../VRP-Omni-modified/Vrp-Set-A/A-n33-sol', 'test_set_name': 'A-n33'}\n",
      "[2024-04-01 17:09:09] test.py(119) : logger_params{'log_file': {'desc': 'test_cvrp50_pretrained_epochtest', 'filename': 'log.txt', 'filepath': './result/20240401_180907_test_cvrp50_pretrained_epochtest'}}\n",
      "['../../../../../VRP-Omni-modified/Vrp-Set-X/X-n139/X-n139-k10.vrp']\n",
      "pretrained/checkpoint-cvrp-100.pt\n"
     ]
    },
    {
     "name": "stderr",
     "output_type": "stream",
     "text": [
      "/home/xunj/miniconda3/envs/amd/lib/python3.8/site-packages/torch/__init__.py:696: UserWarning: torch.set_default_tensor_type() is deprecated as of PyTorch 2.1, please use torch.set_default_dtype() and torch.set_default_device() as alternatives. (Triggered internally at /opt/conda/conda-bld/pytorch_1708025829503/work/torch/csrc/tensor/python_tensor.cpp:451.)\n",
      "  _C._set_default_tensor_type(t)\n"
     ]
    },
    {
     "name": "stdout",
     "output_type": "stream",
     "text": [
      "torch.Size([8, 1])\n",
      "torch.Size([8, 138])\n",
      "[2024-04-01 17:09:10] CVRPTester.py(144) : episode   1/  1, Elapsed[0.01m], Remain[0.00m], score:14.094, aug_score:13.955\n",
      "[2024-04-01 17:09:10] CVRPTester.py(150) :  *** Test Done *** \n",
      "[2024-04-01 17:09:10] CVRPTester.py(151) :  NO-AUG SCORE: 14.09426498413086 \n",
      "[2024-04-01 17:09:10] CVRPTester.py(152) :  AUGMENTATION SCORE: 13.955190658569336 \n",
      ">> Evaluation on ../../../../../VRP-Omni-modified/Vrp-Set-X/X-n139 finished within 0.45s\n",
      ">> Save final results to res/X-n139\n",
      "Test on \" ../../../../../VRP-Omni-modified/Vrp-Set-X/X-n139 \" Success\n",
      "-----------------------------------------------------------------------------------------------------------------\n",
      "[2024-04-01 17:09:13] test.py(117) : DEBUG_MODE: False\n",
      "[2024-04-01 17:09:13] test.py(118) : USE_CUDA: True, CUDA_DEVICE_NUM: 0\n",
      "[2024-04-01 17:09:13] test.py(119) : env_params{'problem_size': 50, 'pomo_size': 50, 'distribution': {'data_type': 'mixed', 'n_cluster': 3, 'n_cluster_mix': 1, 'lower': 0.2, 'upper': 0.8, 'std': 0.07}, 'load_path': 'data/vrp_uniform50_1000_seed1234.pkl', 'load_raw': None}\n",
      "[2024-04-01 17:09:13] test.py(119) : model_params{'embedding_dim': 64, 'sqrt_embedding_dim': 8.0, 'encoder_layer_num': 6, 'qkv_dim': 8, 'head_num': 8, 'logit_clipping': 10, 'ff_hidden_dim': 512, 'eval_type': 'argmax'}\n",
      "[2024-04-01 17:09:13] test.py(119) : tester_params{'use_cuda': True, 'cuda_device_num': 0, 'model_load': {'path': 'pretrained/checkpoint-cvrp-100.pt', 'epoch': 'test'}, 'test_episodes': 1000, 'test_batch_size': 1, 'augmentation_enable': True, 'aug_factor': 8, 'aug_batch_size': 1, 'test_data_load': {'enable': False, 'filename': ''}, 'test_set_path': '../../../../../VRP-Omni-modified/Vrp-Set-X/X-n143', 'test_set_opt_sol_path': '../../../../../VRP-Omni-modified/Vrp-Set-A/A-n33-sol', 'test_set_name': 'A-n33'}\n",
      "[2024-04-01 17:09:13] test.py(119) : logger_params{'log_file': {'desc': 'test_cvrp50_pretrained_epochtest', 'filename': 'log.txt', 'filepath': './result/20240401_180911_test_cvrp50_pretrained_epochtest'}}\n",
      "['../../../../../VRP-Omni-modified/Vrp-Set-X/X-n143/X-n143-k7.vrp']\n",
      "pretrained/checkpoint-cvrp-100.pt\n"
     ]
    },
    {
     "name": "stderr",
     "output_type": "stream",
     "text": [
      "/home/xunj/miniconda3/envs/amd/lib/python3.8/site-packages/torch/__init__.py:696: UserWarning: torch.set_default_tensor_type() is deprecated as of PyTorch 2.1, please use torch.set_default_dtype() and torch.set_default_device() as alternatives. (Triggered internally at /opt/conda/conda-bld/pytorch_1708025829503/work/torch/csrc/tensor/python_tensor.cpp:451.)\n",
      "  _C._set_default_tensor_type(t)\n"
     ]
    },
    {
     "name": "stdout",
     "output_type": "stream",
     "text": [
      "torch.Size([8, 1])\n",
      "torch.Size([8, 142])\n",
      "[2024-04-01 17:09:14] CVRPTester.py(144) : episode   1/  1, Elapsed[0.01m], Remain[0.00m], score:16.524, aug_score:16.346\n",
      "[2024-04-01 17:09:14] CVRPTester.py(150) :  *** Test Done *** \n",
      "[2024-04-01 17:09:14] CVRPTester.py(151) :  NO-AUG SCORE: 16.524145126342773 \n",
      "[2024-04-01 17:09:14] CVRPTester.py(152) :  AUGMENTATION SCORE: 16.346433639526367 \n",
      ">> Evaluation on ../../../../../VRP-Omni-modified/Vrp-Set-X/X-n143 finished within 0.44s\n",
      ">> Save final results to res/X-n143\n",
      "Test on \" ../../../../../VRP-Omni-modified/Vrp-Set-X/X-n143 \" Success\n",
      "-----------------------------------------------------------------------------------------------------------------\n",
      "[2024-04-01 17:09:17] test.py(117) : DEBUG_MODE: False\n",
      "[2024-04-01 17:09:17] test.py(118) : USE_CUDA: True, CUDA_DEVICE_NUM: 0\n",
      "[2024-04-01 17:09:17] test.py(119) : env_params{'problem_size': 50, 'pomo_size': 50, 'distribution': {'data_type': 'mixed', 'n_cluster': 3, 'n_cluster_mix': 1, 'lower': 0.2, 'upper': 0.8, 'std': 0.07}, 'load_path': 'data/vrp_uniform50_1000_seed1234.pkl', 'load_raw': None}\n",
      "[2024-04-01 17:09:17] test.py(119) : model_params{'embedding_dim': 64, 'sqrt_embedding_dim': 8.0, 'encoder_layer_num': 6, 'qkv_dim': 8, 'head_num': 8, 'logit_clipping': 10, 'ff_hidden_dim': 512, 'eval_type': 'argmax'}\n",
      "[2024-04-01 17:09:17] test.py(119) : tester_params{'use_cuda': True, 'cuda_device_num': 0, 'model_load': {'path': 'pretrained/checkpoint-cvrp-100.pt', 'epoch': 'test'}, 'test_episodes': 1000, 'test_batch_size': 1, 'augmentation_enable': True, 'aug_factor': 8, 'aug_batch_size': 1, 'test_data_load': {'enable': False, 'filename': ''}, 'test_set_path': '../../../../../VRP-Omni-modified/Vrp-Set-X/X-n148', 'test_set_opt_sol_path': '../../../../../VRP-Omni-modified/Vrp-Set-A/A-n33-sol', 'test_set_name': 'A-n33'}\n",
      "[2024-04-01 17:09:17] test.py(119) : logger_params{'log_file': {'desc': 'test_cvrp50_pretrained_epochtest', 'filename': 'log.txt', 'filepath': './result/20240401_180916_test_cvrp50_pretrained_epochtest'}}\n",
      "['../../../../../VRP-Omni-modified/Vrp-Set-X/X-n148/X-n148-k46.vrp']\n"
     ]
    },
    {
     "name": "stderr",
     "output_type": "stream",
     "text": [
      "/home/xunj/miniconda3/envs/amd/lib/python3.8/site-packages/torch/__init__.py:696: UserWarning: torch.set_default_tensor_type() is deprecated as of PyTorch 2.1, please use torch.set_default_dtype() and torch.set_default_device() as alternatives. (Triggered internally at /opt/conda/conda-bld/pytorch_1708025829503/work/torch/csrc/tensor/python_tensor.cpp:451.)\n",
      "  _C._set_default_tensor_type(t)\n"
     ]
    },
    {
     "name": "stdout",
     "output_type": "stream",
     "text": [
      "pretrained/checkpoint-cvrp-100.pt\n",
      "torch.Size([8, 1])\n",
      "torch.Size([8, 147])\n",
      "[2024-04-01 17:09:18] CVRPTester.py(144) : episode   1/  1, Elapsed[0.01m], Remain[0.00m], score:48.175, aug_score:46.993\n",
      "[2024-04-01 17:09:18] CVRPTester.py(150) :  *** Test Done *** \n",
      "[2024-04-01 17:09:18] CVRPTester.py(151) :  NO-AUG SCORE: 48.17482376098633 \n",
      "[2024-04-01 17:09:18] CVRPTester.py(152) :  AUGMENTATION SCORE: 46.99252700805664 \n",
      ">> Evaluation on ../../../../../VRP-Omni-modified/Vrp-Set-X/X-n148 finished within 0.56s\n",
      ">> Save final results to res/X-n148\n",
      "Test on \" ../../../../../VRP-Omni-modified/Vrp-Set-X/X-n148 \" Success\n",
      "-----------------------------------------------------------------------------------------------------------------\n",
      "[2024-04-01 17:09:21] test.py(117) : DEBUG_MODE: False\n",
      "[2024-04-01 17:09:21] test.py(118) : USE_CUDA: True, CUDA_DEVICE_NUM: 0\n",
      "[2024-04-01 17:09:21] test.py(119) : env_params{'problem_size': 50, 'pomo_size': 50, 'distribution': {'data_type': 'mixed', 'n_cluster': 3, 'n_cluster_mix': 1, 'lower': 0.2, 'upper': 0.8, 'std': 0.07}, 'load_path': 'data/vrp_uniform50_1000_seed1234.pkl', 'load_raw': None}\n",
      "[2024-04-01 17:09:21] test.py(119) : model_params{'embedding_dim': 64, 'sqrt_embedding_dim': 8.0, 'encoder_layer_num': 6, 'qkv_dim': 8, 'head_num': 8, 'logit_clipping': 10, 'ff_hidden_dim': 512, 'eval_type': 'argmax'}\n",
      "[2024-04-01 17:09:21] test.py(119) : tester_params{'use_cuda': True, 'cuda_device_num': 0, 'model_load': {'path': 'pretrained/checkpoint-cvrp-100.pt', 'epoch': 'test'}, 'test_episodes': 1000, 'test_batch_size': 1, 'augmentation_enable': True, 'aug_factor': 8, 'aug_batch_size': 1, 'test_data_load': {'enable': False, 'filename': ''}, 'test_set_path': '../../../../../VRP-Omni-modified/Vrp-Set-X/X-n153', 'test_set_opt_sol_path': '../../../../../VRP-Omni-modified/Vrp-Set-A/A-n33-sol', 'test_set_name': 'A-n33'}\n",
      "[2024-04-01 17:09:21] test.py(119) : logger_params{'log_file': {'desc': 'test_cvrp50_pretrained_epochtest', 'filename': 'log.txt', 'filepath': './result/20240401_180920_test_cvrp50_pretrained_epochtest'}}\n",
      "['../../../../../VRP-Omni-modified/Vrp-Set-X/X-n153/X-n153-k22.vrp']\n",
      "pretrained/checkpoint-cvrp-100.pt\n"
     ]
    },
    {
     "name": "stderr",
     "output_type": "stream",
     "text": [
      "/home/xunj/miniconda3/envs/amd/lib/python3.8/site-packages/torch/__init__.py:696: UserWarning: torch.set_default_tensor_type() is deprecated as of PyTorch 2.1, please use torch.set_default_dtype() and torch.set_default_device() as alternatives. (Triggered internally at /opt/conda/conda-bld/pytorch_1708025829503/work/torch/csrc/tensor/python_tensor.cpp:451.)\n",
      "  _C._set_default_tensor_type(t)\n"
     ]
    },
    {
     "name": "stdout",
     "output_type": "stream",
     "text": [
      "torch.Size([8, 1])\n",
      "torch.Size([8, 152])\n",
      "[2024-04-01 17:09:22] CVRPTester.py(144) : episode   1/  1, Elapsed[0.01m], Remain[0.00m], score:23.928, aug_score:23.721\n",
      "[2024-04-01 17:09:22] CVRPTester.py(150) :  *** Test Done *** \n",
      "[2024-04-01 17:09:22] CVRPTester.py(151) :  NO-AUG SCORE: 23.928098678588867 \n",
      "[2024-04-01 17:09:22] CVRPTester.py(152) :  AUGMENTATION SCORE: 23.721458435058594 \n",
      ">> Evaluation on ../../../../../VRP-Omni-modified/Vrp-Set-X/X-n153 finished within 0.48s\n",
      ">> Save final results to res/X-n153\n",
      "Test on \" ../../../../../VRP-Omni-modified/Vrp-Set-X/X-n153 \" Success\n",
      "-----------------------------------------------------------------------------------------------------------------\n",
      "[2024-04-01 17:09:26] test.py(117) : DEBUG_MODE: False\n",
      "[2024-04-01 17:09:26] test.py(118) : USE_CUDA: True, CUDA_DEVICE_NUM: 0\n",
      "[2024-04-01 17:09:26] test.py(119) : env_params{'problem_size': 50, 'pomo_size': 50, 'distribution': {'data_type': 'mixed', 'n_cluster': 3, 'n_cluster_mix': 1, 'lower': 0.2, 'upper': 0.8, 'std': 0.07}, 'load_path': 'data/vrp_uniform50_1000_seed1234.pkl', 'load_raw': None}\n",
      "[2024-04-01 17:09:26] test.py(119) : model_params{'embedding_dim': 64, 'sqrt_embedding_dim': 8.0, 'encoder_layer_num': 6, 'qkv_dim': 8, 'head_num': 8, 'logit_clipping': 10, 'ff_hidden_dim': 512, 'eval_type': 'argmax'}\n",
      "[2024-04-01 17:09:26] test.py(119) : tester_params{'use_cuda': True, 'cuda_device_num': 0, 'model_load': {'path': 'pretrained/checkpoint-cvrp-100.pt', 'epoch': 'test'}, 'test_episodes': 1000, 'test_batch_size': 1, 'augmentation_enable': True, 'aug_factor': 8, 'aug_batch_size': 1, 'test_data_load': {'enable': False, 'filename': ''}, 'test_set_path': '../../../../../VRP-Omni-modified/Vrp-Set-X/X-n157', 'test_set_opt_sol_path': '../../../../../VRP-Omni-modified/Vrp-Set-A/A-n33-sol', 'test_set_name': 'A-n33'}\n",
      "[2024-04-01 17:09:26] test.py(119) : logger_params{'log_file': {'desc': 'test_cvrp50_pretrained_epochtest', 'filename': 'log.txt', 'filepath': './result/20240401_180924_test_cvrp50_pretrained_epochtest'}}\n",
      "['../../../../../VRP-Omni-modified/Vrp-Set-X/X-n157/X-n157-k13.vrp']\n"
     ]
    },
    {
     "name": "stderr",
     "output_type": "stream",
     "text": [
      "/home/xunj/miniconda3/envs/amd/lib/python3.8/site-packages/torch/__init__.py:696: UserWarning: torch.set_default_tensor_type() is deprecated as of PyTorch 2.1, please use torch.set_default_dtype() and torch.set_default_device() as alternatives. (Triggered internally at /opt/conda/conda-bld/pytorch_1708025829503/work/torch/csrc/tensor/python_tensor.cpp:451.)\n",
      "  _C._set_default_tensor_type(t)\n"
     ]
    },
    {
     "name": "stdout",
     "output_type": "stream",
     "text": [
      "pretrained/checkpoint-cvrp-100.pt\n",
      "torch.Size([8, 1])\n",
      "torch.Size([8, 156])\n",
      "[2024-04-01 17:09:26] CVRPTester.py(144) : episode   1/  1, Elapsed[0.01m], Remain[0.00m], score:17.648, aug_score:17.442\n",
      "[2024-04-01 17:09:26] CVRPTester.py(150) :  *** Test Done *** \n",
      "[2024-04-01 17:09:26] CVRPTester.py(151) :  NO-AUG SCORE: 17.648418426513672 \n",
      "[2024-04-01 17:09:26] CVRPTester.py(152) :  AUGMENTATION SCORE: 17.44213104248047 \n",
      ">> Evaluation on ../../../../../VRP-Omni-modified/Vrp-Set-X/X-n157 finished within 0.51s\n",
      ">> Save final results to res/X-n157\n",
      "Test on \" ../../../../../VRP-Omni-modified/Vrp-Set-X/X-n157 \" Success\n",
      "-----------------------------------------------------------------------------------------------------------------\n",
      "[2024-04-01 17:09:30] test.py(117) : DEBUG_MODE: False\n",
      "[2024-04-01 17:09:30] test.py(118) : USE_CUDA: True, CUDA_DEVICE_NUM: 0\n",
      "[2024-04-01 17:09:30] test.py(119) : env_params{'problem_size': 50, 'pomo_size': 50, 'distribution': {'data_type': 'mixed', 'n_cluster': 3, 'n_cluster_mix': 1, 'lower': 0.2, 'upper': 0.8, 'std': 0.07}, 'load_path': 'data/vrp_uniform50_1000_seed1234.pkl', 'load_raw': None}\n",
      "[2024-04-01 17:09:30] test.py(119) : model_params{'embedding_dim': 64, 'sqrt_embedding_dim': 8.0, 'encoder_layer_num': 6, 'qkv_dim': 8, 'head_num': 8, 'logit_clipping': 10, 'ff_hidden_dim': 512, 'eval_type': 'argmax'}\n",
      "[2024-04-01 17:09:30] test.py(119) : tester_params{'use_cuda': True, 'cuda_device_num': 0, 'model_load': {'path': 'pretrained/checkpoint-cvrp-100.pt', 'epoch': 'test'}, 'test_episodes': 1000, 'test_batch_size': 1, 'augmentation_enable': True, 'aug_factor': 8, 'aug_batch_size': 1, 'test_data_load': {'enable': False, 'filename': ''}, 'test_set_path': '../../../../../VRP-Omni-modified/Vrp-Set-X/X-n162', 'test_set_opt_sol_path': '../../../../../VRP-Omni-modified/Vrp-Set-A/A-n33-sol', 'test_set_name': 'A-n33'}\n",
      "[2024-04-01 17:09:30] test.py(119) : logger_params{'log_file': {'desc': 'test_cvrp50_pretrained_epochtest', 'filename': 'log.txt', 'filepath': './result/20240401_180928_test_cvrp50_pretrained_epochtest'}}\n",
      "['../../../../../VRP-Omni-modified/Vrp-Set-X/X-n162/X-n162-k11.vrp']\n",
      "pretrained/checkpoint-cvrp-100.pt\n"
     ]
    },
    {
     "name": "stderr",
     "output_type": "stream",
     "text": [
      "/home/xunj/miniconda3/envs/amd/lib/python3.8/site-packages/torch/__init__.py:696: UserWarning: torch.set_default_tensor_type() is deprecated as of PyTorch 2.1, please use torch.set_default_dtype() and torch.set_default_device() as alternatives. (Triggered internally at /opt/conda/conda-bld/pytorch_1708025829503/work/torch/csrc/tensor/python_tensor.cpp:451.)\n",
      "  _C._set_default_tensor_type(t)\n"
     ]
    },
    {
     "name": "stdout",
     "output_type": "stream",
     "text": [
      "torch.Size([8, 1])\n",
      "torch.Size([8, 161])\n",
      "[2024-04-01 17:09:30] CVRPTester.py(144) : episode   1/  1, Elapsed[0.01m], Remain[0.00m], score:15.170, aug_score:14.914\n",
      "[2024-04-01 17:09:30] CVRPTester.py(150) :  *** Test Done *** \n",
      "[2024-04-01 17:09:30] CVRPTester.py(151) :  NO-AUG SCORE: 15.170162200927734 \n",
      "[2024-04-01 17:09:30] CVRPTester.py(152) :  AUGMENTATION SCORE: 14.914041519165039 \n",
      ">> Evaluation on ../../../../../VRP-Omni-modified/Vrp-Set-X/X-n162 finished within 0.46s\n",
      ">> Save final results to res/X-n162\n",
      "Test on \" ../../../../../VRP-Omni-modified/Vrp-Set-X/X-n162 \" Success\n",
      "-----------------------------------------------------------------------------------------------------------------\n",
      "[2024-04-01 17:09:34] test.py(117) : DEBUG_MODE: False\n",
      "[2024-04-01 17:09:34] test.py(118) : USE_CUDA: True, CUDA_DEVICE_NUM: 0\n",
      "[2024-04-01 17:09:34] test.py(119) : env_params{'problem_size': 50, 'pomo_size': 50, 'distribution': {'data_type': 'mixed', 'n_cluster': 3, 'n_cluster_mix': 1, 'lower': 0.2, 'upper': 0.8, 'std': 0.07}, 'load_path': 'data/vrp_uniform50_1000_seed1234.pkl', 'load_raw': None}\n",
      "[2024-04-01 17:09:34] test.py(119) : model_params{'embedding_dim': 64, 'sqrt_embedding_dim': 8.0, 'encoder_layer_num': 6, 'qkv_dim': 8, 'head_num': 8, 'logit_clipping': 10, 'ff_hidden_dim': 512, 'eval_type': 'argmax'}\n",
      "[2024-04-01 17:09:34] test.py(119) : tester_params{'use_cuda': True, 'cuda_device_num': 0, 'model_load': {'path': 'pretrained/checkpoint-cvrp-100.pt', 'epoch': 'test'}, 'test_episodes': 1000, 'test_batch_size': 1, 'augmentation_enable': True, 'aug_factor': 8, 'aug_batch_size': 1, 'test_data_load': {'enable': False, 'filename': ''}, 'test_set_path': '../../../../../VRP-Omni-modified/Vrp-Set-X/X-n167', 'test_set_opt_sol_path': '../../../../../VRP-Omni-modified/Vrp-Set-A/A-n33-sol', 'test_set_name': 'A-n33'}\n",
      "[2024-04-01 17:09:34] test.py(119) : logger_params{'log_file': {'desc': 'test_cvrp50_pretrained_epochtest', 'filename': 'log.txt', 'filepath': './result/20240401_180932_test_cvrp50_pretrained_epochtest'}}\n",
      "['../../../../../VRP-Omni-modified/Vrp-Set-X/X-n167/X-n167-k10.vrp']\n",
      "pretrained/checkpoint-cvrp-100.pt\n"
     ]
    },
    {
     "name": "stderr",
     "output_type": "stream",
     "text": [
      "/home/xunj/miniconda3/envs/amd/lib/python3.8/site-packages/torch/__init__.py:696: UserWarning: torch.set_default_tensor_type() is deprecated as of PyTorch 2.1, please use torch.set_default_dtype() and torch.set_default_device() as alternatives. (Triggered internally at /opt/conda/conda-bld/pytorch_1708025829503/work/torch/csrc/tensor/python_tensor.cpp:451.)\n",
      "  _C._set_default_tensor_type(t)\n"
     ]
    },
    {
     "name": "stdout",
     "output_type": "stream",
     "text": [
      "torch.Size([8, 1])\n",
      "torch.Size([8, 166])\n",
      "[2024-04-01 17:09:34] CVRPTester.py(144) : episode   1/  1, Elapsed[0.01m], Remain[0.00m], score:21.658, aug_score:21.401\n",
      "[2024-04-01 17:09:34] CVRPTester.py(150) :  *** Test Done *** \n",
      "[2024-04-01 17:09:34] CVRPTester.py(151) :  NO-AUG SCORE: 21.657880783081055 \n",
      "[2024-04-01 17:09:34] CVRPTester.py(152) :  AUGMENTATION SCORE: 21.401235580444336 \n",
      ">> Evaluation on ../../../../../VRP-Omni-modified/Vrp-Set-X/X-n167 finished within 0.47s\n",
      ">> Save final results to res/X-n167\n",
      "Test on \" ../../../../../VRP-Omni-modified/Vrp-Set-X/X-n167 \" Success\n",
      "-----------------------------------------------------------------------------------------------------------------\n",
      "[2024-04-01 17:09:38] test.py(117) : DEBUG_MODE: False\n",
      "[2024-04-01 17:09:38] test.py(118) : USE_CUDA: True, CUDA_DEVICE_NUM: 0\n",
      "[2024-04-01 17:09:38] test.py(119) : env_params{'problem_size': 50, 'pomo_size': 50, 'distribution': {'data_type': 'mixed', 'n_cluster': 3, 'n_cluster_mix': 1, 'lower': 0.2, 'upper': 0.8, 'std': 0.07}, 'load_path': 'data/vrp_uniform50_1000_seed1234.pkl', 'load_raw': None}\n",
      "[2024-04-01 17:09:38] test.py(119) : model_params{'embedding_dim': 64, 'sqrt_embedding_dim': 8.0, 'encoder_layer_num': 6, 'qkv_dim': 8, 'head_num': 8, 'logit_clipping': 10, 'ff_hidden_dim': 512, 'eval_type': 'argmax'}\n",
      "[2024-04-01 17:09:38] test.py(119) : tester_params{'use_cuda': True, 'cuda_device_num': 0, 'model_load': {'path': 'pretrained/checkpoint-cvrp-100.pt', 'epoch': 'test'}, 'test_episodes': 1000, 'test_batch_size': 1, 'augmentation_enable': True, 'aug_factor': 8, 'aug_batch_size': 1, 'test_data_load': {'enable': False, 'filename': ''}, 'test_set_path': '../../../../../VRP-Omni-modified/Vrp-Set-X/X-n172', 'test_set_opt_sol_path': '../../../../../VRP-Omni-modified/Vrp-Set-A/A-n33-sol', 'test_set_name': 'A-n33'}\n",
      "[2024-04-01 17:09:38] test.py(119) : logger_params{'log_file': {'desc': 'test_cvrp50_pretrained_epochtest', 'filename': 'log.txt', 'filepath': './result/20240401_180936_test_cvrp50_pretrained_epochtest'}}\n",
      "['../../../../../VRP-Omni-modified/Vrp-Set-X/X-n172/X-n172-k51.vrp']\n"
     ]
    },
    {
     "name": "stderr",
     "output_type": "stream",
     "text": [
      "/home/xunj/miniconda3/envs/amd/lib/python3.8/site-packages/torch/__init__.py:696: UserWarning: torch.set_default_tensor_type() is deprecated as of PyTorch 2.1, please use torch.set_default_dtype() and torch.set_default_device() as alternatives. (Triggered internally at /opt/conda/conda-bld/pytorch_1708025829503/work/torch/csrc/tensor/python_tensor.cpp:451.)\n",
      "  _C._set_default_tensor_type(t)\n"
     ]
    },
    {
     "name": "stdout",
     "output_type": "stream",
     "text": [
      "pretrained/checkpoint-cvrp-100.pt\n",
      "torch.Size([8, 1])\n",
      "torch.Size([8, 171])\n",
      "[2024-04-01 17:09:39] CVRPTester.py(144) : episode   1/  1, Elapsed[0.01m], Remain[0.00m], score:50.675, aug_score:49.741\n",
      "[2024-04-01 17:09:39] CVRPTester.py(150) :  *** Test Done *** \n",
      "[2024-04-01 17:09:39] CVRPTester.py(151) :  NO-AUG SCORE: 50.675079345703125 \n",
      "[2024-04-01 17:09:39] CVRPTester.py(152) :  AUGMENTATION SCORE: 49.74095916748047 \n",
      ">> Evaluation on ../../../../../VRP-Omni-modified/Vrp-Set-X/X-n172 finished within 0.53s\n",
      ">> Save final results to res/X-n172\n",
      "Test on \" ../../../../../VRP-Omni-modified/Vrp-Set-X/X-n172 \" Success\n",
      "-----------------------------------------------------------------------------------------------------------------\n",
      "[2024-04-01 17:09:42] test.py(117) : DEBUG_MODE: False\n",
      "[2024-04-01 17:09:42] test.py(118) : USE_CUDA: True, CUDA_DEVICE_NUM: 0\n",
      "[2024-04-01 17:09:42] test.py(119) : env_params{'problem_size': 50, 'pomo_size': 50, 'distribution': {'data_type': 'mixed', 'n_cluster': 3, 'n_cluster_mix': 1, 'lower': 0.2, 'upper': 0.8, 'std': 0.07}, 'load_path': 'data/vrp_uniform50_1000_seed1234.pkl', 'load_raw': None}\n",
      "[2024-04-01 17:09:42] test.py(119) : model_params{'embedding_dim': 64, 'sqrt_embedding_dim': 8.0, 'encoder_layer_num': 6, 'qkv_dim': 8, 'head_num': 8, 'logit_clipping': 10, 'ff_hidden_dim': 512, 'eval_type': 'argmax'}\n",
      "[2024-04-01 17:09:42] test.py(119) : tester_params{'use_cuda': True, 'cuda_device_num': 0, 'model_load': {'path': 'pretrained/checkpoint-cvrp-100.pt', 'epoch': 'test'}, 'test_episodes': 1000, 'test_batch_size': 1, 'augmentation_enable': True, 'aug_factor': 8, 'aug_batch_size': 1, 'test_data_load': {'enable': False, 'filename': ''}, 'test_set_path': '../../../../../VRP-Omni-modified/Vrp-Set-X/X-n176', 'test_set_opt_sol_path': '../../../../../VRP-Omni-modified/Vrp-Set-A/A-n33-sol', 'test_set_name': 'A-n33'}\n",
      "[2024-04-01 17:09:42] test.py(119) : logger_params{'log_file': {'desc': 'test_cvrp50_pretrained_epochtest', 'filename': 'log.txt', 'filepath': './result/20240401_180941_test_cvrp50_pretrained_epochtest'}}\n",
      "['../../../../../VRP-Omni-modified/Vrp-Set-X/X-n176/X-n176-k26.vrp']\n",
      "pretrained/checkpoint-cvrp-100.pt\n"
     ]
    },
    {
     "name": "stderr",
     "output_type": "stream",
     "text": [
      "/home/xunj/miniconda3/envs/amd/lib/python3.8/site-packages/torch/__init__.py:696: UserWarning: torch.set_default_tensor_type() is deprecated as of PyTorch 2.1, please use torch.set_default_dtype() and torch.set_default_device() as alternatives. (Triggered internally at /opt/conda/conda-bld/pytorch_1708025829503/work/torch/csrc/tensor/python_tensor.cpp:451.)\n",
      "  _C._set_default_tensor_type(t)\n"
     ]
    },
    {
     "name": "stdout",
     "output_type": "stream",
     "text": [
      "torch.Size([8, 1])\n",
      "torch.Size([8, 175])\n",
      "[2024-04-01 17:09:43] CVRPTester.py(144) : episode   1/  1, Elapsed[0.01m], Remain[0.00m], score:53.189, aug_score:53.189\n",
      "[2024-04-01 17:09:43] CVRPTester.py(150) :  *** Test Done *** \n",
      "[2024-04-01 17:09:43] CVRPTester.py(151) :  NO-AUG SCORE: 53.1888427734375 \n",
      "[2024-04-01 17:09:43] CVRPTester.py(152) :  AUGMENTATION SCORE: 53.1888427734375 \n",
      ">> Evaluation on ../../../../../VRP-Omni-modified/Vrp-Set-X/X-n176 finished within 0.53s\n",
      ">> Save final results to res/X-n176\n",
      "Test on \" ../../../../../VRP-Omni-modified/Vrp-Set-X/X-n176 \" Success\n",
      "-----------------------------------------------------------------------------------------------------------------\n",
      "[2024-04-01 17:09:47] test.py(117) : DEBUG_MODE: False\n",
      "[2024-04-01 17:09:47] test.py(118) : USE_CUDA: True, CUDA_DEVICE_NUM: 0\n",
      "[2024-04-01 17:09:47] test.py(119) : env_params{'problem_size': 50, 'pomo_size': 50, 'distribution': {'data_type': 'mixed', 'n_cluster': 3, 'n_cluster_mix': 1, 'lower': 0.2, 'upper': 0.8, 'std': 0.07}, 'load_path': 'data/vrp_uniform50_1000_seed1234.pkl', 'load_raw': None}\n",
      "[2024-04-01 17:09:47] test.py(119) : model_params{'embedding_dim': 64, 'sqrt_embedding_dim': 8.0, 'encoder_layer_num': 6, 'qkv_dim': 8, 'head_num': 8, 'logit_clipping': 10, 'ff_hidden_dim': 512, 'eval_type': 'argmax'}\n",
      "[2024-04-01 17:09:47] test.py(119) : tester_params{'use_cuda': True, 'cuda_device_num': 0, 'model_load': {'path': 'pretrained/checkpoint-cvrp-100.pt', 'epoch': 'test'}, 'test_episodes': 1000, 'test_batch_size': 1, 'augmentation_enable': True, 'aug_factor': 8, 'aug_batch_size': 1, 'test_data_load': {'enable': False, 'filename': ''}, 'test_set_path': '../../../../../VRP-Omni-modified/Vrp-Set-X/X-n181', 'test_set_opt_sol_path': '../../../../../VRP-Omni-modified/Vrp-Set-A/A-n33-sol', 'test_set_name': 'A-n33'}\n",
      "[2024-04-01 17:09:47] test.py(119) : logger_params{'log_file': {'desc': 'test_cvrp50_pretrained_epochtest', 'filename': 'log.txt', 'filepath': './result/20240401_180945_test_cvrp50_pretrained_epochtest'}}\n",
      "['../../../../../VRP-Omni-modified/Vrp-Set-X/X-n181/X-n181-k23.vrp']\n",
      "pretrained/checkpoint-cvrp-100.pt\n"
     ]
    },
    {
     "name": "stderr",
     "output_type": "stream",
     "text": [
      "/home/xunj/miniconda3/envs/amd/lib/python3.8/site-packages/torch/__init__.py:696: UserWarning: torch.set_default_tensor_type() is deprecated as of PyTorch 2.1, please use torch.set_default_dtype() and torch.set_default_device() as alternatives. (Triggered internally at /opt/conda/conda-bld/pytorch_1708025829503/work/torch/csrc/tensor/python_tensor.cpp:451.)\n",
      "  _C._set_default_tensor_type(t)\n"
     ]
    },
    {
     "name": "stdout",
     "output_type": "stream",
     "text": [
      "torch.Size([8, 1])\n",
      "torch.Size([8, 180])\n",
      "[2024-04-01 17:09:47] CVRPTester.py(144) : episode   1/  1, Elapsed[0.01m], Remain[0.00m], score:26.712, aug_score:26.712\n",
      "[2024-04-01 17:09:47] CVRPTester.py(150) :  *** Test Done *** \n",
      "[2024-04-01 17:09:47] CVRPTester.py(151) :  NO-AUG SCORE: 26.71178436279297 \n",
      "[2024-04-01 17:09:47] CVRPTester.py(152) :  AUGMENTATION SCORE: 26.71178436279297 \n",
      ">> Evaluation on ../../../../../VRP-Omni-modified/Vrp-Set-X/X-n181 finished within 0.49s\n",
      ">> Save final results to res/X-n181\n",
      "Test on \" ../../../../../VRP-Omni-modified/Vrp-Set-X/X-n181 \" Success\n",
      "-----------------------------------------------------------------------------------------------------------------\n",
      "[2024-04-01 17:09:50] test.py(117) : DEBUG_MODE: False\n",
      "[2024-04-01 17:09:50] test.py(118) : USE_CUDA: True, CUDA_DEVICE_NUM: 0\n",
      "[2024-04-01 17:09:50] test.py(119) : env_params{'problem_size': 50, 'pomo_size': 50, 'distribution': {'data_type': 'mixed', 'n_cluster': 3, 'n_cluster_mix': 1, 'lower': 0.2, 'upper': 0.8, 'std': 0.07}, 'load_path': 'data/vrp_uniform50_1000_seed1234.pkl', 'load_raw': None}\n",
      "[2024-04-01 17:09:50] test.py(119) : model_params{'embedding_dim': 64, 'sqrt_embedding_dim': 8.0, 'encoder_layer_num': 6, 'qkv_dim': 8, 'head_num': 8, 'logit_clipping': 10, 'ff_hidden_dim': 512, 'eval_type': 'argmax'}\n",
      "[2024-04-01 17:09:50] test.py(119) : tester_params{'use_cuda': True, 'cuda_device_num': 0, 'model_load': {'path': 'pretrained/checkpoint-cvrp-100.pt', 'epoch': 'test'}, 'test_episodes': 1000, 'test_batch_size': 1, 'augmentation_enable': True, 'aug_factor': 8, 'aug_batch_size': 1, 'test_data_load': {'enable': False, 'filename': ''}, 'test_set_path': '../../../../../VRP-Omni-modified/Vrp-Set-X/X-n186', 'test_set_opt_sol_path': '../../../../../VRP-Omni-modified/Vrp-Set-A/A-n33-sol', 'test_set_name': 'A-n33'}\n",
      "[2024-04-01 17:09:50] test.py(119) : logger_params{'log_file': {'desc': 'test_cvrp50_pretrained_epochtest', 'filename': 'log.txt', 'filepath': './result/20240401_180949_test_cvrp50_pretrained_epochtest'}}\n",
      "['../../../../../VRP-Omni-modified/Vrp-Set-X/X-n186/X-n186-k15.vrp']\n",
      "pretrained/checkpoint-cvrp-100.pt\n"
     ]
    },
    {
     "name": "stderr",
     "output_type": "stream",
     "text": [
      "/home/xunj/miniconda3/envs/amd/lib/python3.8/site-packages/torch/__init__.py:696: UserWarning: torch.set_default_tensor_type() is deprecated as of PyTorch 2.1, please use torch.set_default_dtype() and torch.set_default_device() as alternatives. (Triggered internally at /opt/conda/conda-bld/pytorch_1708025829503/work/torch/csrc/tensor/python_tensor.cpp:451.)\n",
      "  _C._set_default_tensor_type(t)\n"
     ]
    },
    {
     "name": "stdout",
     "output_type": "stream",
     "text": [
      "torch.Size([8, 1])\n",
      "torch.Size([8, 185])\n",
      "[2024-04-01 17:09:51] CVRPTester.py(144) : episode   1/  1, Elapsed[0.01m], Remain[0.00m], score:26.319, aug_score:26.319\n",
      "[2024-04-01 17:09:51] CVRPTester.py(150) :  *** Test Done *** \n",
      "[2024-04-01 17:09:51] CVRPTester.py(151) :  NO-AUG SCORE: 26.319467544555664 \n",
      "[2024-04-01 17:09:51] CVRPTester.py(152) :  AUGMENTATION SCORE: 26.319467544555664 \n",
      ">> Evaluation on ../../../../../VRP-Omni-modified/Vrp-Set-X/X-n186 finished within 0.49s\n",
      ">> Save final results to res/X-n186\n",
      "Test on \" ../../../../../VRP-Omni-modified/Vrp-Set-X/X-n186 \" Success\n",
      "-----------------------------------------------------------------------------------------------------------------\n",
      "[2024-04-01 17:09:54] test.py(117) : DEBUG_MODE: False\n",
      "[2024-04-01 17:09:54] test.py(118) : USE_CUDA: True, CUDA_DEVICE_NUM: 0\n",
      "[2024-04-01 17:09:54] test.py(119) : env_params{'problem_size': 50, 'pomo_size': 50, 'distribution': {'data_type': 'mixed', 'n_cluster': 3, 'n_cluster_mix': 1, 'lower': 0.2, 'upper': 0.8, 'std': 0.07}, 'load_path': 'data/vrp_uniform50_1000_seed1234.pkl', 'load_raw': None}\n",
      "[2024-04-01 17:09:54] test.py(119) : model_params{'embedding_dim': 64, 'sqrt_embedding_dim': 8.0, 'encoder_layer_num': 6, 'qkv_dim': 8, 'head_num': 8, 'logit_clipping': 10, 'ff_hidden_dim': 512, 'eval_type': 'argmax'}\n",
      "[2024-04-01 17:09:54] test.py(119) : tester_params{'use_cuda': True, 'cuda_device_num': 0, 'model_load': {'path': 'pretrained/checkpoint-cvrp-100.pt', 'epoch': 'test'}, 'test_episodes': 1000, 'test_batch_size': 1, 'augmentation_enable': True, 'aug_factor': 8, 'aug_batch_size': 1, 'test_data_load': {'enable': False, 'filename': ''}, 'test_set_path': '../../../../../VRP-Omni-modified/Vrp-Set-X/X-n190', 'test_set_opt_sol_path': '../../../../../VRP-Omni-modified/Vrp-Set-A/A-n33-sol', 'test_set_name': 'A-n33'}\n",
      "[2024-04-01 17:09:54] test.py(119) : logger_params{'log_file': {'desc': 'test_cvrp50_pretrained_epochtest', 'filename': 'log.txt', 'filepath': './result/20240401_180953_test_cvrp50_pretrained_epochtest'}}\n",
      "['../../../../../VRP-Omni-modified/Vrp-Set-X/X-n190/X-n190-k8.vrp']\n",
      "pretrained/checkpoint-cvrp-100.pt\n"
     ]
    },
    {
     "name": "stderr",
     "output_type": "stream",
     "text": [
      "/home/xunj/miniconda3/envs/amd/lib/python3.8/site-packages/torch/__init__.py:696: UserWarning: torch.set_default_tensor_type() is deprecated as of PyTorch 2.1, please use torch.set_default_dtype() and torch.set_default_device() as alternatives. (Triggered internally at /opt/conda/conda-bld/pytorch_1708025829503/work/torch/csrc/tensor/python_tensor.cpp:451.)\n",
      "  _C._set_default_tensor_type(t)\n"
     ]
    },
    {
     "name": "stdout",
     "output_type": "stream",
     "text": [
      "torch.Size([8, 1])\n",
      "torch.Size([8, 189])\n",
      "[2024-04-01 17:09:55] CVRPTester.py(144) : episode   1/  1, Elapsed[0.01m], Remain[0.00m], score:17.727, aug_score:17.613\n",
      "[2024-04-01 17:09:55] CVRPTester.py(150) :  *** Test Done *** \n",
      "[2024-04-01 17:09:55] CVRPTester.py(151) :  NO-AUG SCORE: 17.72728729248047 \n",
      "[2024-04-01 17:09:55] CVRPTester.py(152) :  AUGMENTATION SCORE: 17.61307144165039 \n",
      ">> Evaluation on ../../../../../VRP-Omni-modified/Vrp-Set-X/X-n190 finished within 0.49s\n",
      ">> Save final results to res/X-n190\n",
      "Test on \" ../../../../../VRP-Omni-modified/Vrp-Set-X/X-n190 \" Success\n",
      "-----------------------------------------------------------------------------------------------------------------\n",
      "[2024-04-01 17:09:59] test.py(117) : DEBUG_MODE: False\n",
      "[2024-04-01 17:09:59] test.py(118) : USE_CUDA: True, CUDA_DEVICE_NUM: 0\n",
      "[2024-04-01 17:09:59] test.py(119) : env_params{'problem_size': 50, 'pomo_size': 50, 'distribution': {'data_type': 'mixed', 'n_cluster': 3, 'n_cluster_mix': 1, 'lower': 0.2, 'upper': 0.8, 'std': 0.07}, 'load_path': 'data/vrp_uniform50_1000_seed1234.pkl', 'load_raw': None}\n",
      "[2024-04-01 17:09:59] test.py(119) : model_params{'embedding_dim': 64, 'sqrt_embedding_dim': 8.0, 'encoder_layer_num': 6, 'qkv_dim': 8, 'head_num': 8, 'logit_clipping': 10, 'ff_hidden_dim': 512, 'eval_type': 'argmax'}\n",
      "[2024-04-01 17:09:59] test.py(119) : tester_params{'use_cuda': True, 'cuda_device_num': 0, 'model_load': {'path': 'pretrained/checkpoint-cvrp-100.pt', 'epoch': 'test'}, 'test_episodes': 1000, 'test_batch_size': 1, 'augmentation_enable': True, 'aug_factor': 8, 'aug_batch_size': 1, 'test_data_load': {'enable': False, 'filename': ''}, 'test_set_path': '../../../../../VRP-Omni-modified/Vrp-Set-X/X-n195', 'test_set_opt_sol_path': '../../../../../VRP-Omni-modified/Vrp-Set-A/A-n33-sol', 'test_set_name': 'A-n33'}\n",
      "[2024-04-01 17:09:59] test.py(119) : logger_params{'log_file': {'desc': 'test_cvrp50_pretrained_epochtest', 'filename': 'log.txt', 'filepath': './result/20240401_180957_test_cvrp50_pretrained_epochtest'}}\n",
      "['../../../../../VRP-Omni-modified/Vrp-Set-X/X-n195/X-n195-k51.vrp']\n",
      "pretrained/checkpoint-cvrp-100.pt\n"
     ]
    },
    {
     "name": "stderr",
     "output_type": "stream",
     "text": [
      "/home/xunj/miniconda3/envs/amd/lib/python3.8/site-packages/torch/__init__.py:696: UserWarning: torch.set_default_tensor_type() is deprecated as of PyTorch 2.1, please use torch.set_default_dtype() and torch.set_default_device() as alternatives. (Triggered internally at /opt/conda/conda-bld/pytorch_1708025829503/work/torch/csrc/tensor/python_tensor.cpp:451.)\n",
      "  _C._set_default_tensor_type(t)\n"
     ]
    },
    {
     "name": "stdout",
     "output_type": "stream",
     "text": [
      "torch.Size([8, 1])\n",
      "torch.Size([8, 194])\n",
      "[2024-04-01 17:09:59] CVRPTester.py(144) : episode   1/  1, Elapsed[0.01m], Remain[0.00m], score:52.215, aug_score:51.284\n",
      "[2024-04-01 17:09:59] CVRPTester.py(150) :  *** Test Done *** \n",
      "[2024-04-01 17:09:59] CVRPTester.py(151) :  NO-AUG SCORE: 52.21488952636719 \n",
      "[2024-04-01 17:09:59] CVRPTester.py(152) :  AUGMENTATION SCORE: 51.28374481201172 \n",
      ">> Evaluation on ../../../../../VRP-Omni-modified/Vrp-Set-X/X-n195 finished within 0.60s\n",
      ">> Save final results to res/X-n195\n",
      "Test on \" ../../../../../VRP-Omni-modified/Vrp-Set-X/X-n195 \" Success\n",
      "-----------------------------------------------------------------------------------------------------------------\n",
      "[2024-04-01 17:10:03] test.py(117) : DEBUG_MODE: False\n",
      "[2024-04-01 17:10:03] test.py(118) : USE_CUDA: True, CUDA_DEVICE_NUM: 0\n",
      "[2024-04-01 17:10:03] test.py(119) : env_params{'problem_size': 50, 'pomo_size': 50, 'distribution': {'data_type': 'mixed', 'n_cluster': 3, 'n_cluster_mix': 1, 'lower': 0.2, 'upper': 0.8, 'std': 0.07}, 'load_path': 'data/vrp_uniform50_1000_seed1234.pkl', 'load_raw': None}\n",
      "[2024-04-01 17:10:03] test.py(119) : model_params{'embedding_dim': 64, 'sqrt_embedding_dim': 8.0, 'encoder_layer_num': 6, 'qkv_dim': 8, 'head_num': 8, 'logit_clipping': 10, 'ff_hidden_dim': 512, 'eval_type': 'argmax'}\n",
      "[2024-04-01 17:10:03] test.py(119) : tester_params{'use_cuda': True, 'cuda_device_num': 0, 'model_load': {'path': 'pretrained/checkpoint-cvrp-100.pt', 'epoch': 'test'}, 'test_episodes': 1000, 'test_batch_size': 1, 'augmentation_enable': True, 'aug_factor': 8, 'aug_batch_size': 1, 'test_data_load': {'enable': False, 'filename': ''}, 'test_set_path': '../../../../../VRP-Omni-modified/Vrp-Set-X/X-n200', 'test_set_opt_sol_path': '../../../../../VRP-Omni-modified/Vrp-Set-A/A-n33-sol', 'test_set_name': 'A-n33'}\n",
      "[2024-04-01 17:10:03] test.py(119) : logger_params{'log_file': {'desc': 'test_cvrp50_pretrained_epochtest', 'filename': 'log.txt', 'filepath': './result/20240401_181001_test_cvrp50_pretrained_epochtest'}}\n",
      "['../../../../../VRP-Omni-modified/Vrp-Set-X/X-n200/X-n200-k36.vrp']\n",
      "pretrained/checkpoint-cvrp-100.pt\n"
     ]
    },
    {
     "name": "stderr",
     "output_type": "stream",
     "text": [
      "/home/xunj/miniconda3/envs/amd/lib/python3.8/site-packages/torch/__init__.py:696: UserWarning: torch.set_default_tensor_type() is deprecated as of PyTorch 2.1, please use torch.set_default_dtype() and torch.set_default_device() as alternatives. (Triggered internally at /opt/conda/conda-bld/pytorch_1708025829503/work/torch/csrc/tensor/python_tensor.cpp:451.)\n",
      "  _C._set_default_tensor_type(t)\n"
     ]
    },
    {
     "name": "stdout",
     "output_type": "stream",
     "text": [
      "torch.Size([8, 1])\n",
      "torch.Size([8, 199])\n",
      "[2024-04-01 17:10:04] CVRPTester.py(144) : episode   1/  1, Elapsed[0.01m], Remain[0.00m], score:63.222, aug_score:62.873\n",
      "[2024-04-01 17:10:04] CVRPTester.py(150) :  *** Test Done *** \n",
      "[2024-04-01 17:10:04] CVRPTester.py(151) :  NO-AUG SCORE: 63.22218704223633 \n",
      "[2024-04-01 17:10:04] CVRPTester.py(152) :  AUGMENTATION SCORE: 62.872901916503906 \n",
      ">> Evaluation on ../../../../../VRP-Omni-modified/Vrp-Set-X/X-n200 finished within 0.53s\n",
      ">> Save final results to res/X-n200\n",
      "Test on \" ../../../../../VRP-Omni-modified/Vrp-Set-X/X-n200 \" Success\n",
      "-----------------------------------------------------------------------------------------------------------------\n",
      "[2024-04-01 17:10:07] test.py(117) : DEBUG_MODE: False\n",
      "[2024-04-01 17:10:07] test.py(118) : USE_CUDA: True, CUDA_DEVICE_NUM: 0\n",
      "[2024-04-01 17:10:07] test.py(119) : env_params{'problem_size': 50, 'pomo_size': 50, 'distribution': {'data_type': 'mixed', 'n_cluster': 3, 'n_cluster_mix': 1, 'lower': 0.2, 'upper': 0.8, 'std': 0.07}, 'load_path': 'data/vrp_uniform50_1000_seed1234.pkl', 'load_raw': None}\n",
      "[2024-04-01 17:10:07] test.py(119) : model_params{'embedding_dim': 64, 'sqrt_embedding_dim': 8.0, 'encoder_layer_num': 6, 'qkv_dim': 8, 'head_num': 8, 'logit_clipping': 10, 'ff_hidden_dim': 512, 'eval_type': 'argmax'}\n",
      "[2024-04-01 17:10:07] test.py(119) : tester_params{'use_cuda': True, 'cuda_device_num': 0, 'model_load': {'path': 'pretrained/checkpoint-cvrp-100.pt', 'epoch': 'test'}, 'test_episodes': 1000, 'test_batch_size': 1, 'augmentation_enable': True, 'aug_factor': 8, 'aug_batch_size': 1, 'test_data_load': {'enable': False, 'filename': ''}, 'test_set_path': '../../../../../VRP-Omni-modified/Vrp-Set-X/X-n204', 'test_set_opt_sol_path': '../../../../../VRP-Omni-modified/Vrp-Set-A/A-n33-sol', 'test_set_name': 'A-n33'}\n",
      "[2024-04-01 17:10:07] test.py(119) : logger_params{'log_file': {'desc': 'test_cvrp50_pretrained_epochtest', 'filename': 'log.txt', 'filepath': './result/20240401_181005_test_cvrp50_pretrained_epochtest'}}\n",
      "['../../../../../VRP-Omni-modified/Vrp-Set-X/X-n204/X-n204-k19.vrp']\n",
      "pretrained/checkpoint-cvrp-100.pt\n"
     ]
    },
    {
     "name": "stderr",
     "output_type": "stream",
     "text": [
      "/home/xunj/miniconda3/envs/amd/lib/python3.8/site-packages/torch/__init__.py:696: UserWarning: torch.set_default_tensor_type() is deprecated as of PyTorch 2.1, please use torch.set_default_dtype() and torch.set_default_device() as alternatives. (Triggered internally at /opt/conda/conda-bld/pytorch_1708025829503/work/torch/csrc/tensor/python_tensor.cpp:451.)\n",
      "  _C._set_default_tensor_type(t)\n"
     ]
    },
    {
     "name": "stdout",
     "output_type": "stream",
     "text": [
      "torch.Size([8, 1])\n",
      "torch.Size([8, 203])\n",
      "[2024-04-01 17:10:08] CVRPTester.py(144) : episode   1/  1, Elapsed[0.01m], Remain[0.00m], score:21.544, aug_score:21.501\n",
      "[2024-04-01 17:10:08] CVRPTester.py(150) :  *** Test Done *** \n",
      "[2024-04-01 17:10:08] CVRPTester.py(151) :  NO-AUG SCORE: 21.54373550415039 \n",
      "[2024-04-01 17:10:08] CVRPTester.py(152) :  AUGMENTATION SCORE: 21.501270294189453 \n",
      ">> Evaluation on ../../../../../VRP-Omni-modified/Vrp-Set-X/X-n204 finished within 0.51s\n",
      ">> Save final results to res/X-n204\n",
      "Test on \" ../../../../../VRP-Omni-modified/Vrp-Set-X/X-n204 \" Success\n",
      "-----------------------------------------------------------------------------------------------------------------\n",
      "[2024-04-01 17:10:11] test.py(117) : DEBUG_MODE: False\n",
      "[2024-04-01 17:10:11] test.py(118) : USE_CUDA: True, CUDA_DEVICE_NUM: 0\n",
      "[2024-04-01 17:10:11] test.py(119) : env_params{'problem_size': 50, 'pomo_size': 50, 'distribution': {'data_type': 'mixed', 'n_cluster': 3, 'n_cluster_mix': 1, 'lower': 0.2, 'upper': 0.8, 'std': 0.07}, 'load_path': 'data/vrp_uniform50_1000_seed1234.pkl', 'load_raw': None}\n",
      "[2024-04-01 17:10:11] test.py(119) : model_params{'embedding_dim': 64, 'sqrt_embedding_dim': 8.0, 'encoder_layer_num': 6, 'qkv_dim': 8, 'head_num': 8, 'logit_clipping': 10, 'ff_hidden_dim': 512, 'eval_type': 'argmax'}\n",
      "[2024-04-01 17:10:11] test.py(119) : tester_params{'use_cuda': True, 'cuda_device_num': 0, 'model_load': {'path': 'pretrained/checkpoint-cvrp-100.pt', 'epoch': 'test'}, 'test_episodes': 1000, 'test_batch_size': 1, 'augmentation_enable': True, 'aug_factor': 8, 'aug_batch_size': 1, 'test_data_load': {'enable': False, 'filename': ''}, 'test_set_path': '../../../../../VRP-Omni-modified/Vrp-Set-X/X-n209', 'test_set_opt_sol_path': '../../../../../VRP-Omni-modified/Vrp-Set-A/A-n33-sol', 'test_set_name': 'A-n33'}\n",
      "[2024-04-01 17:10:11] test.py(119) : logger_params{'log_file': {'desc': 'test_cvrp50_pretrained_epochtest', 'filename': 'log.txt', 'filepath': './result/20240401_181009_test_cvrp50_pretrained_epochtest'}}\n",
      "['../../../../../VRP-Omni-modified/Vrp-Set-X/X-n209/X-n209-k16.vrp']\n"
     ]
    },
    {
     "name": "stderr",
     "output_type": "stream",
     "text": [
      "/home/xunj/miniconda3/envs/amd/lib/python3.8/site-packages/torch/__init__.py:696: UserWarning: torch.set_default_tensor_type() is deprecated as of PyTorch 2.1, please use torch.set_default_dtype() and torch.set_default_device() as alternatives. (Triggered internally at /opt/conda/conda-bld/pytorch_1708025829503/work/torch/csrc/tensor/python_tensor.cpp:451.)\n",
      "  _C._set_default_tensor_type(t)\n"
     ]
    },
    {
     "name": "stdout",
     "output_type": "stream",
     "text": [
      "pretrained/checkpoint-cvrp-100.pt\n",
      "torch.Size([8, 1])\n",
      "torch.Size([8, 208])\n",
      "[2024-04-01 17:10:12] CVRPTester.py(144) : episode   1/  1, Elapsed[0.01m], Remain[0.00m], score:33.533, aug_score:33.404\n",
      "[2024-04-01 17:10:12] CVRPTester.py(150) :  *** Test Done *** \n",
      "[2024-04-01 17:10:12] CVRPTester.py(151) :  NO-AUG SCORE: 33.532806396484375 \n",
      "[2024-04-01 17:10:12] CVRPTester.py(152) :  AUGMENTATION SCORE: 33.40412521362305 \n",
      ">> Evaluation on ../../../../../VRP-Omni-modified/Vrp-Set-X/X-n209 finished within 0.59s\n",
      ">> Save final results to res/X-n209\n",
      "Test on \" ../../../../../VRP-Omni-modified/Vrp-Set-X/X-n209 \" Success\n",
      "-----------------------------------------------------------------------------------------------------------------\n",
      "[2024-04-01 17:10:15] test.py(117) : DEBUG_MODE: False\n",
      "[2024-04-01 17:10:15] test.py(118) : USE_CUDA: True, CUDA_DEVICE_NUM: 0\n",
      "[2024-04-01 17:10:15] test.py(119) : env_params{'problem_size': 50, 'pomo_size': 50, 'distribution': {'data_type': 'mixed', 'n_cluster': 3, 'n_cluster_mix': 1, 'lower': 0.2, 'upper': 0.8, 'std': 0.07}, 'load_path': 'data/vrp_uniform50_1000_seed1234.pkl', 'load_raw': None}\n",
      "[2024-04-01 17:10:15] test.py(119) : model_params{'embedding_dim': 64, 'sqrt_embedding_dim': 8.0, 'encoder_layer_num': 6, 'qkv_dim': 8, 'head_num': 8, 'logit_clipping': 10, 'ff_hidden_dim': 512, 'eval_type': 'argmax'}\n",
      "[2024-04-01 17:10:15] test.py(119) : tester_params{'use_cuda': True, 'cuda_device_num': 0, 'model_load': {'path': 'pretrained/checkpoint-cvrp-100.pt', 'epoch': 'test'}, 'test_episodes': 1000, 'test_batch_size': 1, 'augmentation_enable': True, 'aug_factor': 8, 'aug_batch_size': 1, 'test_data_load': {'enable': False, 'filename': ''}, 'test_set_path': '../../../../../VRP-Omni-modified/Vrp-Set-X/X-n214', 'test_set_opt_sol_path': '../../../../../VRP-Omni-modified/Vrp-Set-A/A-n33-sol', 'test_set_name': 'A-n33'}\n",
      "[2024-04-01 17:10:15] test.py(119) : logger_params{'log_file': {'desc': 'test_cvrp50_pretrained_epochtest', 'filename': 'log.txt', 'filepath': './result/20240401_181013_test_cvrp50_pretrained_epochtest'}}\n",
      "['../../../../../VRP-Omni-modified/Vrp-Set-X/X-n214/X-n214-k11.vrp']\n",
      "pretrained/checkpoint-cvrp-100.pt\n"
     ]
    },
    {
     "name": "stderr",
     "output_type": "stream",
     "text": [
      "/home/xunj/miniconda3/envs/amd/lib/python3.8/site-packages/torch/__init__.py:696: UserWarning: torch.set_default_tensor_type() is deprecated as of PyTorch 2.1, please use torch.set_default_dtype() and torch.set_default_device() as alternatives. (Triggered internally at /opt/conda/conda-bld/pytorch_1708025829503/work/torch/csrc/tensor/python_tensor.cpp:451.)\n",
      "  _C._set_default_tensor_type(t)\n"
     ]
    },
    {
     "name": "stdout",
     "output_type": "stream",
     "text": [
      "torch.Size([8, 1])\n",
      "torch.Size([8, 213])\n",
      "[2024-04-01 17:10:16] CVRPTester.py(144) : episode   1/  1, Elapsed[0.01m], Remain[0.00m], score:12.315, aug_score:12.096\n",
      "[2024-04-01 17:10:16] CVRPTester.py(150) :  *** Test Done *** \n",
      "[2024-04-01 17:10:16] CVRPTester.py(151) :  NO-AUG SCORE: 12.315115928649902 \n",
      "[2024-04-01 17:10:16] CVRPTester.py(152) :  AUGMENTATION SCORE: 12.095667839050293 \n",
      ">> Evaluation on ../../../../../VRP-Omni-modified/Vrp-Set-X/X-n214 finished within 0.52s\n",
      ">> Save final results to res/X-n214\n",
      "Test on \" ../../../../../VRP-Omni-modified/Vrp-Set-X/X-n214 \" Success\n",
      "-----------------------------------------------------------------------------------------------------------------\n",
      "[2024-04-01 17:10:20] test.py(117) : DEBUG_MODE: False\n",
      "[2024-04-01 17:10:20] test.py(118) : USE_CUDA: True, CUDA_DEVICE_NUM: 0\n",
      "[2024-04-01 17:10:20] test.py(119) : env_params{'problem_size': 50, 'pomo_size': 50, 'distribution': {'data_type': 'mixed', 'n_cluster': 3, 'n_cluster_mix': 1, 'lower': 0.2, 'upper': 0.8, 'std': 0.07}, 'load_path': 'data/vrp_uniform50_1000_seed1234.pkl', 'load_raw': None}\n",
      "[2024-04-01 17:10:20] test.py(119) : model_params{'embedding_dim': 64, 'sqrt_embedding_dim': 8.0, 'encoder_layer_num': 6, 'qkv_dim': 8, 'head_num': 8, 'logit_clipping': 10, 'ff_hidden_dim': 512, 'eval_type': 'argmax'}\n",
      "[2024-04-01 17:10:20] test.py(119) : tester_params{'use_cuda': True, 'cuda_device_num': 0, 'model_load': {'path': 'pretrained/checkpoint-cvrp-100.pt', 'epoch': 'test'}, 'test_episodes': 1000, 'test_batch_size': 1, 'augmentation_enable': True, 'aug_factor': 8, 'aug_batch_size': 1, 'test_data_load': {'enable': False, 'filename': ''}, 'test_set_path': '../../../../../VRP-Omni-modified/Vrp-Set-X/X-n219', 'test_set_opt_sol_path': '../../../../../VRP-Omni-modified/Vrp-Set-A/A-n33-sol', 'test_set_name': 'A-n33'}\n",
      "[2024-04-01 17:10:20] test.py(119) : logger_params{'log_file': {'desc': 'test_cvrp50_pretrained_epochtest', 'filename': 'log.txt', 'filepath': './result/20240401_181018_test_cvrp50_pretrained_epochtest'}}\n",
      "['../../../../../VRP-Omni-modified/Vrp-Set-X/X-n219/X-n219-k73.vrp']\n"
     ]
    },
    {
     "name": "stderr",
     "output_type": "stream",
     "text": [
      "/home/xunj/miniconda3/envs/amd/lib/python3.8/site-packages/torch/__init__.py:696: UserWarning: torch.set_default_tensor_type() is deprecated as of PyTorch 2.1, please use torch.set_default_dtype() and torch.set_default_device() as alternatives. (Triggered internally at /opt/conda/conda-bld/pytorch_1708025829503/work/torch/csrc/tensor/python_tensor.cpp:451.)\n",
      "  _C._set_default_tensor_type(t)\n"
     ]
    },
    {
     "name": "stdout",
     "output_type": "stream",
     "text": [
      "pretrained/checkpoint-cvrp-100.pt\n",
      "torch.Size([8, 1])\n",
      "torch.Size([8, 218])\n",
      "[2024-04-01 17:10:20] CVRPTester.py(144) : episode   1/  1, Elapsed[0.01m], Remain[0.00m], score:125.562, aug_score:125.410\n",
      "[2024-04-01 17:10:20] CVRPTester.py(150) :  *** Test Done *** \n",
      "[2024-04-01 17:10:20] CVRPTester.py(151) :  NO-AUG SCORE: 125.56211853027344 \n",
      "[2024-04-01 17:10:20] CVRPTester.py(152) :  AUGMENTATION SCORE: 125.40969848632812 \n",
      ">> Evaluation on ../../../../../VRP-Omni-modified/Vrp-Set-X/X-n219 finished within 0.60s\n",
      ">> Save final results to res/X-n219\n",
      "Test on \" ../../../../../VRP-Omni-modified/Vrp-Set-X/X-n219 \" Success\n",
      "-----------------------------------------------------------------------------------------------------------------\n",
      "[2024-04-01 17:10:24] test.py(117) : DEBUG_MODE: False\n",
      "[2024-04-01 17:10:24] test.py(118) : USE_CUDA: True, CUDA_DEVICE_NUM: 0\n",
      "[2024-04-01 17:10:24] test.py(119) : env_params{'problem_size': 50, 'pomo_size': 50, 'distribution': {'data_type': 'mixed', 'n_cluster': 3, 'n_cluster_mix': 1, 'lower': 0.2, 'upper': 0.8, 'std': 0.07}, 'load_path': 'data/vrp_uniform50_1000_seed1234.pkl', 'load_raw': None}\n",
      "[2024-04-01 17:10:24] test.py(119) : model_params{'embedding_dim': 64, 'sqrt_embedding_dim': 8.0, 'encoder_layer_num': 6, 'qkv_dim': 8, 'head_num': 8, 'logit_clipping': 10, 'ff_hidden_dim': 512, 'eval_type': 'argmax'}\n",
      "[2024-04-01 17:10:24] test.py(119) : tester_params{'use_cuda': True, 'cuda_device_num': 0, 'model_load': {'path': 'pretrained/checkpoint-cvrp-100.pt', 'epoch': 'test'}, 'test_episodes': 1000, 'test_batch_size': 1, 'augmentation_enable': True, 'aug_factor': 8, 'aug_batch_size': 1, 'test_data_load': {'enable': False, 'filename': ''}, 'test_set_path': '../../../../../VRP-Omni-modified/Vrp-Set-X/X-n223', 'test_set_opt_sol_path': '../../../../../VRP-Omni-modified/Vrp-Set-A/A-n33-sol', 'test_set_name': 'A-n33'}\n",
      "[2024-04-01 17:10:24] test.py(119) : logger_params{'log_file': {'desc': 'test_cvrp50_pretrained_epochtest', 'filename': 'log.txt', 'filepath': './result/20240401_181022_test_cvrp50_pretrained_epochtest'}}\n",
      "['../../../../../VRP-Omni-modified/Vrp-Set-X/X-n223/X-n223-k34.vrp']\n"
     ]
    },
    {
     "name": "stderr",
     "output_type": "stream",
     "text": [
      "/home/xunj/miniconda3/envs/amd/lib/python3.8/site-packages/torch/__init__.py:696: UserWarning: torch.set_default_tensor_type() is deprecated as of PyTorch 2.1, please use torch.set_default_dtype() and torch.set_default_device() as alternatives. (Triggered internally at /opt/conda/conda-bld/pytorch_1708025829503/work/torch/csrc/tensor/python_tensor.cpp:451.)\n",
      "  _C._set_default_tensor_type(t)\n"
     ]
    },
    {
     "name": "stdout",
     "output_type": "stream",
     "text": [
      "pretrained/checkpoint-cvrp-100.pt\n",
      "torch.Size([8, 1])\n",
      "torch.Size([8, 222])\n",
      "[2024-04-01 17:10:25] CVRPTester.py(144) : episode   1/  1, Elapsed[0.01m], Remain[0.00m], score:46.195, aug_score:44.961\n",
      "[2024-04-01 17:10:25] CVRPTester.py(150) :  *** Test Done *** \n",
      "[2024-04-01 17:10:25] CVRPTester.py(151) :  NO-AUG SCORE: 46.19481658935547 \n",
      "[2024-04-01 17:10:25] CVRPTester.py(152) :  AUGMENTATION SCORE: 44.960941314697266 \n",
      ">> Evaluation on ../../../../../VRP-Omni-modified/Vrp-Set-X/X-n223 finished within 0.54s\n",
      ">> Save final results to res/X-n223\n",
      "Test on \" ../../../../../VRP-Omni-modified/Vrp-Set-X/X-n223 \" Success\n",
      "-----------------------------------------------------------------------------------------------------------------\n",
      "[2024-04-01 17:10:28] test.py(117) : DEBUG_MODE: False\n",
      "[2024-04-01 17:10:28] test.py(118) : USE_CUDA: True, CUDA_DEVICE_NUM: 0\n",
      "[2024-04-01 17:10:28] test.py(119) : env_params{'problem_size': 50, 'pomo_size': 50, 'distribution': {'data_type': 'mixed', 'n_cluster': 3, 'n_cluster_mix': 1, 'lower': 0.2, 'upper': 0.8, 'std': 0.07}, 'load_path': 'data/vrp_uniform50_1000_seed1234.pkl', 'load_raw': None}\n",
      "[2024-04-01 17:10:28] test.py(119) : model_params{'embedding_dim': 64, 'sqrt_embedding_dim': 8.0, 'encoder_layer_num': 6, 'qkv_dim': 8, 'head_num': 8, 'logit_clipping': 10, 'ff_hidden_dim': 512, 'eval_type': 'argmax'}\n",
      "[2024-04-01 17:10:28] test.py(119) : tester_params{'use_cuda': True, 'cuda_device_num': 0, 'model_load': {'path': 'pretrained/checkpoint-cvrp-100.pt', 'epoch': 'test'}, 'test_episodes': 1000, 'test_batch_size': 1, 'augmentation_enable': True, 'aug_factor': 8, 'aug_batch_size': 1, 'test_data_load': {'enable': False, 'filename': ''}, 'test_set_path': '../../../../../VRP-Omni-modified/Vrp-Set-X/X-n228', 'test_set_opt_sol_path': '../../../../../VRP-Omni-modified/Vrp-Set-A/A-n33-sol', 'test_set_name': 'A-n33'}\n",
      "[2024-04-01 17:10:28] test.py(119) : logger_params{'log_file': {'desc': 'test_cvrp50_pretrained_epochtest', 'filename': 'log.txt', 'filepath': './result/20240401_181026_test_cvrp50_pretrained_epochtest'}}\n",
      "['../../../../../VRP-Omni-modified/Vrp-Set-X/X-n228/X-n228-k23.vrp']\n",
      "pretrained/checkpoint-cvrp-100.pt\n"
     ]
    },
    {
     "name": "stderr",
     "output_type": "stream",
     "text": [
      "/home/xunj/miniconda3/envs/amd/lib/python3.8/site-packages/torch/__init__.py:696: UserWarning: torch.set_default_tensor_type() is deprecated as of PyTorch 2.1, please use torch.set_default_dtype() and torch.set_default_device() as alternatives. (Triggered internally at /opt/conda/conda-bld/pytorch_1708025829503/work/torch/csrc/tensor/python_tensor.cpp:451.)\n",
      "  _C._set_default_tensor_type(t)\n"
     ]
    },
    {
     "name": "stdout",
     "output_type": "stream",
     "text": [
      "torch.Size([8, 1])\n",
      "torch.Size([8, 227])\n",
      "[2024-04-01 17:10:29] CVRPTester.py(144) : episode   1/  1, Elapsed[0.01m], Remain[0.00m], score:28.861, aug_score:28.573\n",
      "[2024-04-01 17:10:29] CVRPTester.py(150) :  *** Test Done *** \n",
      "[2024-04-01 17:10:29] CVRPTester.py(151) :  NO-AUG SCORE: 28.86138153076172 \n",
      "[2024-04-01 17:10:29] CVRPTester.py(152) :  AUGMENTATION SCORE: 28.573196411132812 \n",
      ">> Evaluation on ../../../../../VRP-Omni-modified/Vrp-Set-X/X-n228 finished within 0.55s\n",
      ">> Save final results to res/X-n228\n",
      "Test on \" ../../../../../VRP-Omni-modified/Vrp-Set-X/X-n228 \" Success\n",
      "-----------------------------------------------------------------------------------------------------------------\n",
      "[2024-04-01 17:10:32] test.py(117) : DEBUG_MODE: False\n",
      "[2024-04-01 17:10:32] test.py(118) : USE_CUDA: True, CUDA_DEVICE_NUM: 0\n",
      "[2024-04-01 17:10:32] test.py(119) : env_params{'problem_size': 50, 'pomo_size': 50, 'distribution': {'data_type': 'mixed', 'n_cluster': 3, 'n_cluster_mix': 1, 'lower': 0.2, 'upper': 0.8, 'std': 0.07}, 'load_path': 'data/vrp_uniform50_1000_seed1234.pkl', 'load_raw': None}\n",
      "[2024-04-01 17:10:32] test.py(119) : model_params{'embedding_dim': 64, 'sqrt_embedding_dim': 8.0, 'encoder_layer_num': 6, 'qkv_dim': 8, 'head_num': 8, 'logit_clipping': 10, 'ff_hidden_dim': 512, 'eval_type': 'argmax'}\n",
      "[2024-04-01 17:10:32] test.py(119) : tester_params{'use_cuda': True, 'cuda_device_num': 0, 'model_load': {'path': 'pretrained/checkpoint-cvrp-100.pt', 'epoch': 'test'}, 'test_episodes': 1000, 'test_batch_size': 1, 'augmentation_enable': True, 'aug_factor': 8, 'aug_batch_size': 1, 'test_data_load': {'enable': False, 'filename': ''}, 'test_set_path': '../../../../../VRP-Omni-modified/Vrp-Set-X/X-n233', 'test_set_opt_sol_path': '../../../../../VRP-Omni-modified/Vrp-Set-A/A-n33-sol', 'test_set_name': 'A-n33'}\n",
      "[2024-04-01 17:10:32] test.py(119) : logger_params{'log_file': {'desc': 'test_cvrp50_pretrained_epochtest', 'filename': 'log.txt', 'filepath': './result/20240401_181031_test_cvrp50_pretrained_epochtest'}}\n",
      "['../../../../../VRP-Omni-modified/Vrp-Set-X/X-n233/X-n233-k16.vrp']\n",
      "pretrained/checkpoint-cvrp-100.pt\n"
     ]
    },
    {
     "name": "stderr",
     "output_type": "stream",
     "text": [
      "/home/xunj/miniconda3/envs/amd/lib/python3.8/site-packages/torch/__init__.py:696: UserWarning: torch.set_default_tensor_type() is deprecated as of PyTorch 2.1, please use torch.set_default_dtype() and torch.set_default_device() as alternatives. (Triggered internally at /opt/conda/conda-bld/pytorch_1708025829503/work/torch/csrc/tensor/python_tensor.cpp:451.)\n",
      "  _C._set_default_tensor_type(t)\n"
     ]
    },
    {
     "name": "stdout",
     "output_type": "stream",
     "text": [
      "torch.Size([8, 1])\n",
      "torch.Size([8, 232])\n",
      "[2024-04-01 17:10:33] CVRPTester.py(144) : episode   1/  1, Elapsed[0.01m], Remain[0.00m], score:22.008, aug_score:22.008\n",
      "[2024-04-01 17:10:33] CVRPTester.py(150) :  *** Test Done *** \n",
      "[2024-04-01 17:10:33] CVRPTester.py(151) :  NO-AUG SCORE: 22.007959365844727 \n",
      "[2024-04-01 17:10:33] CVRPTester.py(152) :  AUGMENTATION SCORE: 22.007959365844727 \n",
      ">> Evaluation on ../../../../../VRP-Omni-modified/Vrp-Set-X/X-n233 finished within 0.54s\n",
      ">> Save final results to res/X-n233\n",
      "Test on \" ../../../../../VRP-Omni-modified/Vrp-Set-X/X-n233 \" Success\n",
      "-----------------------------------------------------------------------------------------------------------------\n",
      "[2024-04-01 17:10:37] test.py(117) : DEBUG_MODE: False\n",
      "[2024-04-01 17:10:37] test.py(118) : USE_CUDA: True, CUDA_DEVICE_NUM: 0\n",
      "[2024-04-01 17:10:37] test.py(119) : env_params{'problem_size': 50, 'pomo_size': 50, 'distribution': {'data_type': 'mixed', 'n_cluster': 3, 'n_cluster_mix': 1, 'lower': 0.2, 'upper': 0.8, 'std': 0.07}, 'load_path': 'data/vrp_uniform50_1000_seed1234.pkl', 'load_raw': None}\n",
      "[2024-04-01 17:10:37] test.py(119) : model_params{'embedding_dim': 64, 'sqrt_embedding_dim': 8.0, 'encoder_layer_num': 6, 'qkv_dim': 8, 'head_num': 8, 'logit_clipping': 10, 'ff_hidden_dim': 512, 'eval_type': 'argmax'}\n",
      "[2024-04-01 17:10:37] test.py(119) : tester_params{'use_cuda': True, 'cuda_device_num': 0, 'model_load': {'path': 'pretrained/checkpoint-cvrp-100.pt', 'epoch': 'test'}, 'test_episodes': 1000, 'test_batch_size': 1, 'augmentation_enable': True, 'aug_factor': 8, 'aug_batch_size': 1, 'test_data_load': {'enable': False, 'filename': ''}, 'test_set_path': '../../../../../VRP-Omni-modified/Vrp-Set-X/X-n237', 'test_set_opt_sol_path': '../../../../../VRP-Omni-modified/Vrp-Set-A/A-n33-sol', 'test_set_name': 'A-n33'}\n",
      "[2024-04-01 17:10:37] test.py(119) : logger_params{'log_file': {'desc': 'test_cvrp50_pretrained_epochtest', 'filename': 'log.txt', 'filepath': './result/20240401_181035_test_cvrp50_pretrained_epochtest'}}\n",
      "['../../../../../VRP-Omni-modified/Vrp-Set-X/X-n237/X-n237-k14.vrp']\n",
      "pretrained/checkpoint-cvrp-100.pt\n"
     ]
    },
    {
     "name": "stderr",
     "output_type": "stream",
     "text": [
      "/home/xunj/miniconda3/envs/amd/lib/python3.8/site-packages/torch/__init__.py:696: UserWarning: torch.set_default_tensor_type() is deprecated as of PyTorch 2.1, please use torch.set_default_dtype() and torch.set_default_device() as alternatives. (Triggered internally at /opt/conda/conda-bld/pytorch_1708025829503/work/torch/csrc/tensor/python_tensor.cpp:451.)\n",
      "  _C._set_default_tensor_type(t)\n"
     ]
    },
    {
     "name": "stdout",
     "output_type": "stream",
     "text": [
      "torch.Size([8, 1])\n",
      "torch.Size([8, 236])\n",
      "[2024-04-01 17:10:37] CVRPTester.py(144) : episode   1/  1, Elapsed[0.01m], Remain[0.00m], score:31.740, aug_score:30.173\n",
      "[2024-04-01 17:10:37] CVRPTester.py(150) :  *** Test Done *** \n",
      "[2024-04-01 17:10:37] CVRPTester.py(151) :  NO-AUG SCORE: 31.739986419677734 \n",
      "[2024-04-01 17:10:37] CVRPTester.py(152) :  AUGMENTATION SCORE: 30.172649383544922 \n",
      ">> Evaluation on ../../../../../VRP-Omni-modified/Vrp-Set-X/X-n237 finished within 0.54s\n",
      ">> Save final results to res/X-n237\n",
      "Test on \" ../../../../../VRP-Omni-modified/Vrp-Set-X/X-n237 \" Success\n",
      "-----------------------------------------------------------------------------------------------------------------\n",
      "[2024-04-01 17:10:41] test.py(117) : DEBUG_MODE: False\n",
      "[2024-04-01 17:10:41] test.py(118) : USE_CUDA: True, CUDA_DEVICE_NUM: 0\n",
      "[2024-04-01 17:10:41] test.py(119) : env_params{'problem_size': 50, 'pomo_size': 50, 'distribution': {'data_type': 'mixed', 'n_cluster': 3, 'n_cluster_mix': 1, 'lower': 0.2, 'upper': 0.8, 'std': 0.07}, 'load_path': 'data/vrp_uniform50_1000_seed1234.pkl', 'load_raw': None}\n",
      "[2024-04-01 17:10:41] test.py(119) : model_params{'embedding_dim': 64, 'sqrt_embedding_dim': 8.0, 'encoder_layer_num': 6, 'qkv_dim': 8, 'head_num': 8, 'logit_clipping': 10, 'ff_hidden_dim': 512, 'eval_type': 'argmax'}\n",
      "[2024-04-01 17:10:41] test.py(119) : tester_params{'use_cuda': True, 'cuda_device_num': 0, 'model_load': {'path': 'pretrained/checkpoint-cvrp-100.pt', 'epoch': 'test'}, 'test_episodes': 1000, 'test_batch_size': 1, 'augmentation_enable': True, 'aug_factor': 8, 'aug_batch_size': 1, 'test_data_load': {'enable': False, 'filename': ''}, 'test_set_path': '../../../../../VRP-Omni-modified/Vrp-Set-X/X-n242', 'test_set_opt_sol_path': '../../../../../VRP-Omni-modified/Vrp-Set-A/A-n33-sol', 'test_set_name': 'A-n33'}\n",
      "[2024-04-01 17:10:41] test.py(119) : logger_params{'log_file': {'desc': 'test_cvrp50_pretrained_epochtest', 'filename': 'log.txt', 'filepath': './result/20240401_181039_test_cvrp50_pretrained_epochtest'}}\n",
      "['../../../../../VRP-Omni-modified/Vrp-Set-X/X-n242/X-n242-k48.vrp']\n",
      "pretrained/checkpoint-cvrp-100.pt\n"
     ]
    },
    {
     "name": "stderr",
     "output_type": "stream",
     "text": [
      "/home/xunj/miniconda3/envs/amd/lib/python3.8/site-packages/torch/__init__.py:696: UserWarning: torch.set_default_tensor_type() is deprecated as of PyTorch 2.1, please use torch.set_default_dtype() and torch.set_default_device() as alternatives. (Triggered internally at /opt/conda/conda-bld/pytorch_1708025829503/work/torch/csrc/tensor/python_tensor.cpp:451.)\n",
      "  _C._set_default_tensor_type(t)\n"
     ]
    },
    {
     "name": "stdout",
     "output_type": "stream",
     "text": [
      "torch.Size([8, 1])\n",
      "torch.Size([8, 241])\n",
      "[2024-04-01 17:10:42] CVRPTester.py(144) : episode   1/  1, Elapsed[0.01m], Remain[0.00m], score:91.873, aug_score:91.728\n",
      "[2024-04-01 17:10:42] CVRPTester.py(150) :  *** Test Done *** \n",
      "[2024-04-01 17:10:42] CVRPTester.py(151) :  NO-AUG SCORE: 91.87276458740234 \n",
      "[2024-04-01 17:10:42] CVRPTester.py(152) :  AUGMENTATION SCORE: 91.7275390625 \n",
      ">> Evaluation on ../../../../../VRP-Omni-modified/Vrp-Set-X/X-n242 finished within 0.57s\n",
      ">> Save final results to res/X-n242\n",
      "Test on \" ../../../../../VRP-Omni-modified/Vrp-Set-X/X-n242 \" Success\n",
      "-----------------------------------------------------------------------------------------------------------------\n",
      "[2024-04-01 17:10:45] test.py(117) : DEBUG_MODE: False\n",
      "[2024-04-01 17:10:45] test.py(118) : USE_CUDA: True, CUDA_DEVICE_NUM: 0\n",
      "[2024-04-01 17:10:45] test.py(119) : env_params{'problem_size': 50, 'pomo_size': 50, 'distribution': {'data_type': 'mixed', 'n_cluster': 3, 'n_cluster_mix': 1, 'lower': 0.2, 'upper': 0.8, 'std': 0.07}, 'load_path': 'data/vrp_uniform50_1000_seed1234.pkl', 'load_raw': None}\n",
      "[2024-04-01 17:10:45] test.py(119) : model_params{'embedding_dim': 64, 'sqrt_embedding_dim': 8.0, 'encoder_layer_num': 6, 'qkv_dim': 8, 'head_num': 8, 'logit_clipping': 10, 'ff_hidden_dim': 512, 'eval_type': 'argmax'}\n",
      "[2024-04-01 17:10:45] test.py(119) : tester_params{'use_cuda': True, 'cuda_device_num': 0, 'model_load': {'path': 'pretrained/checkpoint-cvrp-100.pt', 'epoch': 'test'}, 'test_episodes': 1000, 'test_batch_size': 1, 'augmentation_enable': True, 'aug_factor': 8, 'aug_batch_size': 1, 'test_data_load': {'enable': False, 'filename': ''}, 'test_set_path': '../../../../../VRP-Omni-modified/Vrp-Set-X/X-n247', 'test_set_opt_sol_path': '../../../../../VRP-Omni-modified/Vrp-Set-A/A-n33-sol', 'test_set_name': 'A-n33'}\n",
      "[2024-04-01 17:10:45] test.py(119) : logger_params{'log_file': {'desc': 'test_cvrp50_pretrained_epochtest', 'filename': 'log.txt', 'filepath': './result/20240401_181043_test_cvrp50_pretrained_epochtest'}}\n",
      "['../../../../../VRP-Omni-modified/Vrp-Set-X/X-n247/X-n247-k50.vrp']\n"
     ]
    },
    {
     "name": "stderr",
     "output_type": "stream",
     "text": [
      "/home/xunj/miniconda3/envs/amd/lib/python3.8/site-packages/torch/__init__.py:696: UserWarning: torch.set_default_tensor_type() is deprecated as of PyTorch 2.1, please use torch.set_default_dtype() and torch.set_default_device() as alternatives. (Triggered internally at /opt/conda/conda-bld/pytorch_1708025829503/work/torch/csrc/tensor/python_tensor.cpp:451.)\n",
      "  _C._set_default_tensor_type(t)\n"
     ]
    },
    {
     "name": "stdout",
     "output_type": "stream",
     "text": [
      "pretrained/checkpoint-cvrp-100.pt\n",
      "torch.Size([8, 1])\n",
      "torch.Size([8, 246])\n",
      "[2024-04-01 17:10:45] CVRPTester.py(144) : episode   1/  1, Elapsed[0.01m], Remain[0.00m], score:43.343, aug_score:43.134\n",
      "[2024-04-01 17:10:45] CVRPTester.py(150) :  *** Test Done *** \n",
      "[2024-04-01 17:10:45] CVRPTester.py(151) :  NO-AUG SCORE: 43.34336853027344 \n",
      "[2024-04-01 17:10:45] CVRPTester.py(152) :  AUGMENTATION SCORE: 43.134368896484375 \n",
      ">> Evaluation on ../../../../../VRP-Omni-modified/Vrp-Set-X/X-n247 finished within 0.58s\n",
      ">> Save final results to res/X-n247\n",
      "Test on \" ../../../../../VRP-Omni-modified/Vrp-Set-X/X-n247 \" Success\n",
      "-----------------------------------------------------------------------------------------------------------------\n",
      "[2024-04-01 17:10:49] test.py(117) : DEBUG_MODE: False\n",
      "[2024-04-01 17:10:49] test.py(118) : USE_CUDA: True, CUDA_DEVICE_NUM: 0\n",
      "[2024-04-01 17:10:49] test.py(119) : env_params{'problem_size': 50, 'pomo_size': 50, 'distribution': {'data_type': 'mixed', 'n_cluster': 3, 'n_cluster_mix': 1, 'lower': 0.2, 'upper': 0.8, 'std': 0.07}, 'load_path': 'data/vrp_uniform50_1000_seed1234.pkl', 'load_raw': None}\n",
      "[2024-04-01 17:10:49] test.py(119) : model_params{'embedding_dim': 64, 'sqrt_embedding_dim': 8.0, 'encoder_layer_num': 6, 'qkv_dim': 8, 'head_num': 8, 'logit_clipping': 10, 'ff_hidden_dim': 512, 'eval_type': 'argmax'}\n",
      "[2024-04-01 17:10:49] test.py(119) : tester_params{'use_cuda': True, 'cuda_device_num': 0, 'model_load': {'path': 'pretrained/checkpoint-cvrp-100.pt', 'epoch': 'test'}, 'test_episodes': 1000, 'test_batch_size': 1, 'augmentation_enable': True, 'aug_factor': 8, 'aug_batch_size': 1, 'test_data_load': {'enable': False, 'filename': ''}, 'test_set_path': '../../../../../VRP-Omni-modified/Vrp-Set-X/X-n251', 'test_set_opt_sol_path': '../../../../../VRP-Omni-modified/Vrp-Set-A/A-n33-sol', 'test_set_name': 'A-n33'}\n",
      "[2024-04-01 17:10:49] test.py(119) : logger_params{'log_file': {'desc': 'test_cvrp50_pretrained_epochtest', 'filename': 'log.txt', 'filepath': './result/20240401_181047_test_cvrp50_pretrained_epochtest'}}\n",
      "['../../../../../VRP-Omni-modified/Vrp-Set-X/X-n251/X-n251-k28.vrp']\n",
      "pretrained/checkpoint-cvrp-100.pt\n"
     ]
    },
    {
     "name": "stderr",
     "output_type": "stream",
     "text": [
      "/home/xunj/miniconda3/envs/amd/lib/python3.8/site-packages/torch/__init__.py:696: UserWarning: torch.set_default_tensor_type() is deprecated as of PyTorch 2.1, please use torch.set_default_dtype() and torch.set_default_device() as alternatives. (Triggered internally at /opt/conda/conda-bld/pytorch_1708025829503/work/torch/csrc/tensor/python_tensor.cpp:451.)\n",
      "  _C._set_default_tensor_type(t)\n"
     ]
    },
    {
     "name": "stdout",
     "output_type": "stream",
     "text": [
      "torch.Size([8, 1])\n",
      "torch.Size([8, 250])\n",
      "[2024-04-01 17:10:49] CVRPTester.py(144) : episode   1/  1, Elapsed[0.01m], Remain[0.00m], score:43.601, aug_score:42.671\n",
      "[2024-04-01 17:10:49] CVRPTester.py(150) :  *** Test Done *** \n",
      "[2024-04-01 17:10:49] CVRPTester.py(151) :  NO-AUG SCORE: 43.60078430175781 \n",
      "[2024-04-01 17:10:49] CVRPTester.py(152) :  AUGMENTATION SCORE: 42.67122268676758 \n",
      ">> Evaluation on ../../../../../VRP-Omni-modified/Vrp-Set-X/X-n251 finished within 0.57s\n",
      ">> Save final results to res/X-n251\n",
      "Test on \" ../../../../../VRP-Omni-modified/Vrp-Set-X/X-n251 \" Success\n",
      "-----------------------------------------------------------------------------------------------------------------\n",
      "[2024-04-01 17:10:53] test.py(117) : DEBUG_MODE: False\n",
      "[2024-04-01 17:10:53] test.py(118) : USE_CUDA: True, CUDA_DEVICE_NUM: 0\n",
      "[2024-04-01 17:10:53] test.py(119) : env_params{'problem_size': 50, 'pomo_size': 50, 'distribution': {'data_type': 'mixed', 'n_cluster': 3, 'n_cluster_mix': 1, 'lower': 0.2, 'upper': 0.8, 'std': 0.07}, 'load_path': 'data/vrp_uniform50_1000_seed1234.pkl', 'load_raw': None}\n",
      "[2024-04-01 17:10:53] test.py(119) : model_params{'embedding_dim': 64, 'sqrt_embedding_dim': 8.0, 'encoder_layer_num': 6, 'qkv_dim': 8, 'head_num': 8, 'logit_clipping': 10, 'ff_hidden_dim': 512, 'eval_type': 'argmax'}\n",
      "[2024-04-01 17:10:53] test.py(119) : tester_params{'use_cuda': True, 'cuda_device_num': 0, 'model_load': {'path': 'pretrained/checkpoint-cvrp-100.pt', 'epoch': 'test'}, 'test_episodes': 1000, 'test_batch_size': 1, 'augmentation_enable': True, 'aug_factor': 8, 'aug_batch_size': 1, 'test_data_load': {'enable': False, 'filename': ''}, 'test_set_path': '../../../../../VRP-Omni-modified/Vrp-Set-X/X-n256', 'test_set_opt_sol_path': '../../../../../VRP-Omni-modified/Vrp-Set-A/A-n33-sol', 'test_set_name': 'A-n33'}\n",
      "[2024-04-01 17:10:53] test.py(119) : logger_params{'log_file': {'desc': 'test_cvrp50_pretrained_epochtest', 'filename': 'log.txt', 'filepath': './result/20240401_181051_test_cvrp50_pretrained_epochtest'}}\n",
      "['../../../../../VRP-Omni-modified/Vrp-Set-X/X-n256/X-n256-k16.vrp']\n",
      "pretrained/checkpoint-cvrp-100.pt\n"
     ]
    },
    {
     "name": "stderr",
     "output_type": "stream",
     "text": [
      "/home/xunj/miniconda3/envs/amd/lib/python3.8/site-packages/torch/__init__.py:696: UserWarning: torch.set_default_tensor_type() is deprecated as of PyTorch 2.1, please use torch.set_default_dtype() and torch.set_default_device() as alternatives. (Triggered internally at /opt/conda/conda-bld/pytorch_1708025829503/work/torch/csrc/tensor/python_tensor.cpp:451.)\n",
      "  _C._set_default_tensor_type(t)\n"
     ]
    },
    {
     "name": "stdout",
     "output_type": "stream",
     "text": [
      "torch.Size([8, 1])\n",
      "torch.Size([8, 255])\n",
      "[2024-04-01 17:10:54] CVRPTester.py(144) : episode   1/  1, Elapsed[0.01m], Remain[0.00m], score:22.043, aug_score:22.043\n",
      "[2024-04-01 17:10:54] CVRPTester.py(150) :  *** Test Done *** \n",
      "[2024-04-01 17:10:54] CVRPTester.py(151) :  NO-AUG SCORE: 22.043115615844727 \n",
      "[2024-04-01 17:10:54] CVRPTester.py(152) :  AUGMENTATION SCORE: 22.043115615844727 \n",
      ">> Evaluation on ../../../../../VRP-Omni-modified/Vrp-Set-X/X-n256 finished within 0.54s\n",
      ">> Save final results to res/X-n256\n",
      "Test on \" ../../../../../VRP-Omni-modified/Vrp-Set-X/X-n256 \" Success\n",
      "-----------------------------------------------------------------------------------------------------------------\n",
      "[2024-04-01 17:10:57] test.py(117) : DEBUG_MODE: False\n",
      "[2024-04-01 17:10:57] test.py(118) : USE_CUDA: True, CUDA_DEVICE_NUM: 0\n",
      "[2024-04-01 17:10:57] test.py(119) : env_params{'problem_size': 50, 'pomo_size': 50, 'distribution': {'data_type': 'mixed', 'n_cluster': 3, 'n_cluster_mix': 1, 'lower': 0.2, 'upper': 0.8, 'std': 0.07}, 'load_path': 'data/vrp_uniform50_1000_seed1234.pkl', 'load_raw': None}\n",
      "[2024-04-01 17:10:57] test.py(119) : model_params{'embedding_dim': 64, 'sqrt_embedding_dim': 8.0, 'encoder_layer_num': 6, 'qkv_dim': 8, 'head_num': 8, 'logit_clipping': 10, 'ff_hidden_dim': 512, 'eval_type': 'argmax'}\n",
      "[2024-04-01 17:10:57] test.py(119) : tester_params{'use_cuda': True, 'cuda_device_num': 0, 'model_load': {'path': 'pretrained/checkpoint-cvrp-100.pt', 'epoch': 'test'}, 'test_episodes': 1000, 'test_batch_size': 1, 'augmentation_enable': True, 'aug_factor': 8, 'aug_batch_size': 1, 'test_data_load': {'enable': False, 'filename': ''}, 'test_set_path': '../../../../../VRP-Omni-modified/Vrp-Set-X/X-n261', 'test_set_opt_sol_path': '../../../../../VRP-Omni-modified/Vrp-Set-A/A-n33-sol', 'test_set_name': 'A-n33'}\n",
      "[2024-04-01 17:10:57] test.py(119) : logger_params{'log_file': {'desc': 'test_cvrp50_pretrained_epochtest', 'filename': 'log.txt', 'filepath': './result/20240401_181055_test_cvrp50_pretrained_epochtest'}}\n",
      "['../../../../../VRP-Omni-modified/Vrp-Set-X/X-n261/X-n261-k13.vrp']\n",
      "pretrained/checkpoint-cvrp-100.pt\n"
     ]
    },
    {
     "name": "stderr",
     "output_type": "stream",
     "text": [
      "/home/xunj/miniconda3/envs/amd/lib/python3.8/site-packages/torch/__init__.py:696: UserWarning: torch.set_default_tensor_type() is deprecated as of PyTorch 2.1, please use torch.set_default_dtype() and torch.set_default_device() as alternatives. (Triggered internally at /opt/conda/conda-bld/pytorch_1708025829503/work/torch/csrc/tensor/python_tensor.cpp:451.)\n",
      "  _C._set_default_tensor_type(t)\n"
     ]
    },
    {
     "name": "stdout",
     "output_type": "stream",
     "text": [
      "torch.Size([8, 1])\n",
      "torch.Size([8, 260])\n",
      "[2024-04-01 17:10:58] CVRPTester.py(144) : episode   1/  1, Elapsed[0.01m], Remain[0.00m], score:31.118, aug_score:30.426\n",
      "[2024-04-01 17:10:58] CVRPTester.py(150) :  *** Test Done *** \n",
      "[2024-04-01 17:10:58] CVRPTester.py(151) :  NO-AUG SCORE: 31.118488311767578 \n",
      "[2024-04-01 17:10:58] CVRPTester.py(152) :  AUGMENTATION SCORE: 30.425710678100586 \n",
      ">> Evaluation on ../../../../../VRP-Omni-modified/Vrp-Set-X/X-n261 finished within 0.56s\n",
      ">> Save final results to res/X-n261\n",
      "Test on \" ../../../../../VRP-Omni-modified/Vrp-Set-X/X-n261 \" Success\n",
      "-----------------------------------------------------------------------------------------------------------------\n",
      "[2024-04-01 17:11:01] test.py(117) : DEBUG_MODE: False\n",
      "[2024-04-01 17:11:01] test.py(118) : USE_CUDA: True, CUDA_DEVICE_NUM: 0\n",
      "[2024-04-01 17:11:01] test.py(119) : env_params{'problem_size': 50, 'pomo_size': 50, 'distribution': {'data_type': 'mixed', 'n_cluster': 3, 'n_cluster_mix': 1, 'lower': 0.2, 'upper': 0.8, 'std': 0.07}, 'load_path': 'data/vrp_uniform50_1000_seed1234.pkl', 'load_raw': None}\n",
      "[2024-04-01 17:11:01] test.py(119) : model_params{'embedding_dim': 64, 'sqrt_embedding_dim': 8.0, 'encoder_layer_num': 6, 'qkv_dim': 8, 'head_num': 8, 'logit_clipping': 10, 'ff_hidden_dim': 512, 'eval_type': 'argmax'}\n",
      "[2024-04-01 17:11:01] test.py(119) : tester_params{'use_cuda': True, 'cuda_device_num': 0, 'model_load': {'path': 'pretrained/checkpoint-cvrp-100.pt', 'epoch': 'test'}, 'test_episodes': 1000, 'test_batch_size': 1, 'augmentation_enable': True, 'aug_factor': 8, 'aug_batch_size': 1, 'test_data_load': {'enable': False, 'filename': ''}, 'test_set_path': '../../../../../VRP-Omni-modified/Vrp-Set-X/X-n266', 'test_set_opt_sol_path': '../../../../../VRP-Omni-modified/Vrp-Set-A/A-n33-sol', 'test_set_name': 'A-n33'}\n",
      "[2024-04-01 17:11:01] test.py(119) : logger_params{'log_file': {'desc': 'test_cvrp50_pretrained_epochtest', 'filename': 'log.txt', 'filepath': './result/20240401_181059_test_cvrp50_pretrained_epochtest'}}\n",
      "['../../../../../VRP-Omni-modified/Vrp-Set-X/X-n266/X-n266-k58.vrp']\n",
      "pretrained/checkpoint-cvrp-100.pt\n"
     ]
    },
    {
     "name": "stderr",
     "output_type": "stream",
     "text": [
      "/home/xunj/miniconda3/envs/amd/lib/python3.8/site-packages/torch/__init__.py:696: UserWarning: torch.set_default_tensor_type() is deprecated as of PyTorch 2.1, please use torch.set_default_dtype() and torch.set_default_device() as alternatives. (Triggered internally at /opt/conda/conda-bld/pytorch_1708025829503/work/torch/csrc/tensor/python_tensor.cpp:451.)\n",
      "  _C._set_default_tensor_type(t)\n"
     ]
    },
    {
     "name": "stdout",
     "output_type": "stream",
     "text": [
      "torch.Size([8, 1])\n",
      "torch.Size([8, 265])\n",
      "[2024-04-01 17:11:02] CVRPTester.py(144) : episode   1/  1, Elapsed[0.01m], Remain[0.00m], score:88.389, aug_score:87.079\n",
      "[2024-04-01 17:11:02] CVRPTester.py(150) :  *** Test Done *** \n",
      "[2024-04-01 17:11:02] CVRPTester.py(151) :  NO-AUG SCORE: 88.38899230957031 \n",
      "[2024-04-01 17:11:02] CVRPTester.py(152) :  AUGMENTATION SCORE: 87.07917022705078 \n",
      ">> Evaluation on ../../../../../VRP-Omni-modified/Vrp-Set-X/X-n266 finished within 0.64s\n",
      ">> Save final results to res/X-n266\n",
      "Test on \" ../../../../../VRP-Omni-modified/Vrp-Set-X/X-n266 \" Success\n",
      "-----------------------------------------------------------------------------------------------------------------\n",
      "[2024-04-01 17:11:05] test.py(117) : DEBUG_MODE: False\n",
      "[2024-04-01 17:11:05] test.py(118) : USE_CUDA: True, CUDA_DEVICE_NUM: 0\n",
      "[2024-04-01 17:11:05] test.py(119) : env_params{'problem_size': 50, 'pomo_size': 50, 'distribution': {'data_type': 'mixed', 'n_cluster': 3, 'n_cluster_mix': 1, 'lower': 0.2, 'upper': 0.8, 'std': 0.07}, 'load_path': 'data/vrp_uniform50_1000_seed1234.pkl', 'load_raw': None}\n",
      "[2024-04-01 17:11:05] test.py(119) : model_params{'embedding_dim': 64, 'sqrt_embedding_dim': 8.0, 'encoder_layer_num': 6, 'qkv_dim': 8, 'head_num': 8, 'logit_clipping': 10, 'ff_hidden_dim': 512, 'eval_type': 'argmax'}\n",
      "[2024-04-01 17:11:05] test.py(119) : tester_params{'use_cuda': True, 'cuda_device_num': 0, 'model_load': {'path': 'pretrained/checkpoint-cvrp-100.pt', 'epoch': 'test'}, 'test_episodes': 1000, 'test_batch_size': 1, 'augmentation_enable': True, 'aug_factor': 8, 'aug_batch_size': 1, 'test_data_load': {'enable': False, 'filename': ''}, 'test_set_path': '../../../../../VRP-Omni-modified/Vrp-Set-X/X-n270', 'test_set_opt_sol_path': '../../../../../VRP-Omni-modified/Vrp-Set-A/A-n33-sol', 'test_set_name': 'A-n33'}\n",
      "[2024-04-01 17:11:05] test.py(119) : logger_params{'log_file': {'desc': 'test_cvrp50_pretrained_epochtest', 'filename': 'log.txt', 'filepath': './result/20240401_181104_test_cvrp50_pretrained_epochtest'}}\n",
      "['../../../../../VRP-Omni-modified/Vrp-Set-X/X-n270/X-n270-k35.vrp']\n",
      "pretrained/checkpoint-cvrp-100.pt\n"
     ]
    },
    {
     "name": "stderr",
     "output_type": "stream",
     "text": [
      "/home/xunj/miniconda3/envs/amd/lib/python3.8/site-packages/torch/__init__.py:696: UserWarning: torch.set_default_tensor_type() is deprecated as of PyTorch 2.1, please use torch.set_default_dtype() and torch.set_default_device() as alternatives. (Triggered internally at /opt/conda/conda-bld/pytorch_1708025829503/work/torch/csrc/tensor/python_tensor.cpp:451.)\n",
      "  _C._set_default_tensor_type(t)\n"
     ]
    },
    {
     "name": "stdout",
     "output_type": "stream",
     "text": [
      "torch.Size([8, 1])\n",
      "torch.Size([8, 269])\n",
      "[2024-04-01 17:11:06] CVRPTester.py(144) : episode   1/  1, Elapsed[0.01m], Remain[0.00m], score:40.852, aug_score:40.690\n",
      "[2024-04-01 17:11:06] CVRPTester.py(150) :  *** Test Done *** \n",
      "[2024-04-01 17:11:06] CVRPTester.py(151) :  NO-AUG SCORE: 40.85223388671875 \n",
      "[2024-04-01 17:11:06] CVRPTester.py(152) :  AUGMENTATION SCORE: 40.68968200683594 \n",
      ">> Evaluation on ../../../../../VRP-Omni-modified/Vrp-Set-X/X-n270 finished within 0.60s\n",
      ">> Save final results to res/X-n270\n",
      "Test on \" ../../../../../VRP-Omni-modified/Vrp-Set-X/X-n270 \" Success\n",
      "-----------------------------------------------------------------------------------------------------------------\n",
      "[2024-04-01 17:11:10] test.py(117) : DEBUG_MODE: False\n",
      "[2024-04-01 17:11:10] test.py(118) : USE_CUDA: True, CUDA_DEVICE_NUM: 0\n",
      "[2024-04-01 17:11:10] test.py(119) : env_params{'problem_size': 50, 'pomo_size': 50, 'distribution': {'data_type': 'mixed', 'n_cluster': 3, 'n_cluster_mix': 1, 'lower': 0.2, 'upper': 0.8, 'std': 0.07}, 'load_path': 'data/vrp_uniform50_1000_seed1234.pkl', 'load_raw': None}\n",
      "[2024-04-01 17:11:10] test.py(119) : model_params{'embedding_dim': 64, 'sqrt_embedding_dim': 8.0, 'encoder_layer_num': 6, 'qkv_dim': 8, 'head_num': 8, 'logit_clipping': 10, 'ff_hidden_dim': 512, 'eval_type': 'argmax'}\n",
      "[2024-04-01 17:11:10] test.py(119) : tester_params{'use_cuda': True, 'cuda_device_num': 0, 'model_load': {'path': 'pretrained/checkpoint-cvrp-100.pt', 'epoch': 'test'}, 'test_episodes': 1000, 'test_batch_size': 1, 'augmentation_enable': True, 'aug_factor': 8, 'aug_batch_size': 1, 'test_data_load': {'enable': False, 'filename': ''}, 'test_set_path': '../../../../../VRP-Omni-modified/Vrp-Set-X/X-n275', 'test_set_opt_sol_path': '../../../../../VRP-Omni-modified/Vrp-Set-A/A-n33-sol', 'test_set_name': 'A-n33'}\n",
      "[2024-04-01 17:11:10] test.py(119) : logger_params{'log_file': {'desc': 'test_cvrp50_pretrained_epochtest', 'filename': 'log.txt', 'filepath': './result/20240401_181108_test_cvrp50_pretrained_epochtest'}}\n",
      "['../../../../../VRP-Omni-modified/Vrp-Set-X/X-n275/X-n275-k28.vrp']\n",
      "pretrained/checkpoint-cvrp-100.pt\n"
     ]
    },
    {
     "name": "stderr",
     "output_type": "stream",
     "text": [
      "/home/xunj/miniconda3/envs/amd/lib/python3.8/site-packages/torch/__init__.py:696: UserWarning: torch.set_default_tensor_type() is deprecated as of PyTorch 2.1, please use torch.set_default_dtype() and torch.set_default_device() as alternatives. (Triggered internally at /opt/conda/conda-bld/pytorch_1708025829503/work/torch/csrc/tensor/python_tensor.cpp:451.)\n",
      "  _C._set_default_tensor_type(t)\n"
     ]
    },
    {
     "name": "stdout",
     "output_type": "stream",
     "text": [
      "torch.Size([8, 1])\n",
      "torch.Size([8, 274])\n",
      "[2024-04-01 17:11:11] CVRPTester.py(144) : episode   1/  1, Elapsed[0.01m], Remain[0.00m], score:24.730, aug_score:24.612\n",
      "[2024-04-01 17:11:11] CVRPTester.py(150) :  *** Test Done *** \n",
      "[2024-04-01 17:11:11] CVRPTester.py(151) :  NO-AUG SCORE: 24.72960662841797 \n",
      "[2024-04-01 17:11:11] CVRPTester.py(152) :  AUGMENTATION SCORE: 24.612070083618164 \n",
      ">> Evaluation on ../../../../../VRP-Omni-modified/Vrp-Set-X/X-n275 finished within 0.59s\n",
      ">> Save final results to res/X-n275\n",
      "Test on \" ../../../../../VRP-Omni-modified/Vrp-Set-X/X-n275 \" Success\n",
      "-----------------------------------------------------------------------------------------------------------------\n",
      "[2024-04-01 17:11:14] test.py(117) : DEBUG_MODE: False\n",
      "[2024-04-01 17:11:14] test.py(118) : USE_CUDA: True, CUDA_DEVICE_NUM: 0\n",
      "[2024-04-01 17:11:14] test.py(119) : env_params{'problem_size': 50, 'pomo_size': 50, 'distribution': {'data_type': 'mixed', 'n_cluster': 3, 'n_cluster_mix': 1, 'lower': 0.2, 'upper': 0.8, 'std': 0.07}, 'load_path': 'data/vrp_uniform50_1000_seed1234.pkl', 'load_raw': None}\n",
      "[2024-04-01 17:11:14] test.py(119) : model_params{'embedding_dim': 64, 'sqrt_embedding_dim': 8.0, 'encoder_layer_num': 6, 'qkv_dim': 8, 'head_num': 8, 'logit_clipping': 10, 'ff_hidden_dim': 512, 'eval_type': 'argmax'}\n",
      "[2024-04-01 17:11:14] test.py(119) : tester_params{'use_cuda': True, 'cuda_device_num': 0, 'model_load': {'path': 'pretrained/checkpoint-cvrp-100.pt', 'epoch': 'test'}, 'test_episodes': 1000, 'test_batch_size': 1, 'augmentation_enable': True, 'aug_factor': 8, 'aug_batch_size': 1, 'test_data_load': {'enable': False, 'filename': ''}, 'test_set_path': '../../../../../VRP-Omni-modified/Vrp-Set-X/X-n280', 'test_set_opt_sol_path': '../../../../../VRP-Omni-modified/Vrp-Set-A/A-n33-sol', 'test_set_name': 'A-n33'}\n",
      "[2024-04-01 17:11:14] test.py(119) : logger_params{'log_file': {'desc': 'test_cvrp50_pretrained_epochtest', 'filename': 'log.txt', 'filepath': './result/20240401_181112_test_cvrp50_pretrained_epochtest'}}\n",
      "['../../../../../VRP-Omni-modified/Vrp-Set-X/X-n280/X-n280-k17.vrp']\n"
     ]
    },
    {
     "name": "stderr",
     "output_type": "stream",
     "text": [
      "/home/xunj/miniconda3/envs/amd/lib/python3.8/site-packages/torch/__init__.py:696: UserWarning: torch.set_default_tensor_type() is deprecated as of PyTorch 2.1, please use torch.set_default_dtype() and torch.set_default_device() as alternatives. (Triggered internally at /opt/conda/conda-bld/pytorch_1708025829503/work/torch/csrc/tensor/python_tensor.cpp:451.)\n",
      "  _C._set_default_tensor_type(t)\n"
     ]
    },
    {
     "name": "stdout",
     "output_type": "stream",
     "text": [
      "pretrained/checkpoint-cvrp-100.pt\n",
      "torch.Size([8, 1])\n",
      "torch.Size([8, 279])\n",
      "[2024-04-01 17:11:15] CVRPTester.py(144) : episode   1/  1, Elapsed[0.01m], Remain[0.00m], score:39.514, aug_score:38.508\n",
      "[2024-04-01 17:11:15] CVRPTester.py(150) :  *** Test Done *** \n",
      "[2024-04-01 17:11:15] CVRPTester.py(151) :  NO-AUG SCORE: 39.51431655883789 \n",
      "[2024-04-01 17:11:15] CVRPTester.py(152) :  AUGMENTATION SCORE: 38.508331298828125 \n",
      ">> Evaluation on ../../../../../VRP-Omni-modified/Vrp-Set-X/X-n280 finished within 0.60s\n",
      ">> Save final results to res/X-n280\n",
      "Test on \" ../../../../../VRP-Omni-modified/Vrp-Set-X/X-n280 \" Success\n",
      "-----------------------------------------------------------------------------------------------------------------\n",
      "[2024-04-01 17:11:18] test.py(117) : DEBUG_MODE: False\n",
      "[2024-04-01 17:11:18] test.py(118) : USE_CUDA: True, CUDA_DEVICE_NUM: 0\n",
      "[2024-04-01 17:11:18] test.py(119) : env_params{'problem_size': 50, 'pomo_size': 50, 'distribution': {'data_type': 'mixed', 'n_cluster': 3, 'n_cluster_mix': 1, 'lower': 0.2, 'upper': 0.8, 'std': 0.07}, 'load_path': 'data/vrp_uniform50_1000_seed1234.pkl', 'load_raw': None}\n",
      "[2024-04-01 17:11:18] test.py(119) : model_params{'embedding_dim': 64, 'sqrt_embedding_dim': 8.0, 'encoder_layer_num': 6, 'qkv_dim': 8, 'head_num': 8, 'logit_clipping': 10, 'ff_hidden_dim': 512, 'eval_type': 'argmax'}\n",
      "[2024-04-01 17:11:18] test.py(119) : tester_params{'use_cuda': True, 'cuda_device_num': 0, 'model_load': {'path': 'pretrained/checkpoint-cvrp-100.pt', 'epoch': 'test'}, 'test_episodes': 1000, 'test_batch_size': 1, 'augmentation_enable': True, 'aug_factor': 8, 'aug_batch_size': 1, 'test_data_load': {'enable': False, 'filename': ''}, 'test_set_path': '../../../../../VRP-Omni-modified/Vrp-Set-X/X-n284', 'test_set_opt_sol_path': '../../../../../VRP-Omni-modified/Vrp-Set-A/A-n33-sol', 'test_set_name': 'A-n33'}\n",
      "[2024-04-01 17:11:18] test.py(119) : logger_params{'log_file': {'desc': 'test_cvrp50_pretrained_epochtest', 'filename': 'log.txt', 'filepath': './result/20240401_181117_test_cvrp50_pretrained_epochtest'}}\n",
      "['../../../../../VRP-Omni-modified/Vrp-Set-X/X-n284/X-n284-k15.vrp']\n",
      "pretrained/checkpoint-cvrp-100.pt\n"
     ]
    },
    {
     "name": "stderr",
     "output_type": "stream",
     "text": [
      "/home/xunj/miniconda3/envs/amd/lib/python3.8/site-packages/torch/__init__.py:696: UserWarning: torch.set_default_tensor_type() is deprecated as of PyTorch 2.1, please use torch.set_default_dtype() and torch.set_default_device() as alternatives. (Triggered internally at /opt/conda/conda-bld/pytorch_1708025829503/work/torch/csrc/tensor/python_tensor.cpp:451.)\n",
      "  _C._set_default_tensor_type(t)\n"
     ]
    },
    {
     "name": "stdout",
     "output_type": "stream",
     "text": [
      "torch.Size([8, 1])\n",
      "torch.Size([8, 283])\n",
      "[2024-04-01 17:11:19] CVRPTester.py(144) : episode   1/  1, Elapsed[0.01m], Remain[0.00m], score:23.480, aug_score:23.480\n",
      "[2024-04-01 17:11:19] CVRPTester.py(150) :  *** Test Done *** \n",
      "[2024-04-01 17:11:19] CVRPTester.py(151) :  NO-AUG SCORE: 23.479938507080078 \n",
      "[2024-04-01 17:11:19] CVRPTester.py(152) :  AUGMENTATION SCORE: 23.479938507080078 \n",
      ">> Evaluation on ../../../../../VRP-Omni-modified/Vrp-Set-X/X-n284 finished within 0.67s\n",
      ">> Save final results to res/X-n284\n",
      "Test on \" ../../../../../VRP-Omni-modified/Vrp-Set-X/X-n284 \" Success\n",
      "-----------------------------------------------------------------------------------------------------------------\n",
      "[2024-04-01 17:11:23] test.py(117) : DEBUG_MODE: False\n",
      "[2024-04-01 17:11:23] test.py(118) : USE_CUDA: True, CUDA_DEVICE_NUM: 0\n",
      "[2024-04-01 17:11:23] test.py(119) : env_params{'problem_size': 50, 'pomo_size': 50, 'distribution': {'data_type': 'mixed', 'n_cluster': 3, 'n_cluster_mix': 1, 'lower': 0.2, 'upper': 0.8, 'std': 0.07}, 'load_path': 'data/vrp_uniform50_1000_seed1234.pkl', 'load_raw': None}\n",
      "[2024-04-01 17:11:23] test.py(119) : model_params{'embedding_dim': 64, 'sqrt_embedding_dim': 8.0, 'encoder_layer_num': 6, 'qkv_dim': 8, 'head_num': 8, 'logit_clipping': 10, 'ff_hidden_dim': 512, 'eval_type': 'argmax'}\n",
      "[2024-04-01 17:11:23] test.py(119) : tester_params{'use_cuda': True, 'cuda_device_num': 0, 'model_load': {'path': 'pretrained/checkpoint-cvrp-100.pt', 'epoch': 'test'}, 'test_episodes': 1000, 'test_batch_size': 1, 'augmentation_enable': True, 'aug_factor': 8, 'aug_batch_size': 1, 'test_data_load': {'enable': False, 'filename': ''}, 'test_set_path': '../../../../../VRP-Omni-modified/Vrp-Set-X/X-n289', 'test_set_opt_sol_path': '../../../../../VRP-Omni-modified/Vrp-Set-A/A-n33-sol', 'test_set_name': 'A-n33'}\n",
      "[2024-04-01 17:11:23] test.py(119) : logger_params{'log_file': {'desc': 'test_cvrp50_pretrained_epochtest', 'filename': 'log.txt', 'filepath': './result/20240401_181121_test_cvrp50_pretrained_epochtest'}}\n",
      "['../../../../../VRP-Omni-modified/Vrp-Set-X/X-n289/X-n289-k60.vrp']\n",
      "pretrained/checkpoint-cvrp-100.pt\n"
     ]
    },
    {
     "name": "stderr",
     "output_type": "stream",
     "text": [
      "/home/xunj/miniconda3/envs/amd/lib/python3.8/site-packages/torch/__init__.py:696: UserWarning: torch.set_default_tensor_type() is deprecated as of PyTorch 2.1, please use torch.set_default_dtype() and torch.set_default_device() as alternatives. (Triggered internally at /opt/conda/conda-bld/pytorch_1708025829503/work/torch/csrc/tensor/python_tensor.cpp:451.)\n",
      "  _C._set_default_tensor_type(t)\n"
     ]
    },
    {
     "name": "stdout",
     "output_type": "stream",
     "text": [
      "torch.Size([8, 1])\n",
      "torch.Size([8, 288])\n",
      "[2024-04-01 17:11:24] CVRPTester.py(144) : episode   1/  1, Elapsed[0.01m], Remain[0.00m], score:113.057, aug_score:108.758\n",
      "[2024-04-01 17:11:24] CVRPTester.py(150) :  *** Test Done *** \n",
      "[2024-04-01 17:11:24] CVRPTester.py(151) :  NO-AUG SCORE: 113.0574951171875 \n",
      "[2024-04-01 17:11:24] CVRPTester.py(152) :  AUGMENTATION SCORE: 108.75828552246094 \n",
      ">> Evaluation on ../../../../../VRP-Omni-modified/Vrp-Set-X/X-n289 finished within 0.64s\n",
      ">> Save final results to res/X-n289\n",
      "Test on \" ../../../../../VRP-Omni-modified/Vrp-Set-X/X-n289 \" Success\n",
      "-----------------------------------------------------------------------------------------------------------------\n",
      "[2024-04-01 17:11:27] test.py(117) : DEBUG_MODE: False\n",
      "[2024-04-01 17:11:27] test.py(118) : USE_CUDA: True, CUDA_DEVICE_NUM: 0\n",
      "[2024-04-01 17:11:27] test.py(119) : env_params{'problem_size': 50, 'pomo_size': 50, 'distribution': {'data_type': 'mixed', 'n_cluster': 3, 'n_cluster_mix': 1, 'lower': 0.2, 'upper': 0.8, 'std': 0.07}, 'load_path': 'data/vrp_uniform50_1000_seed1234.pkl', 'load_raw': None}\n",
      "[2024-04-01 17:11:27] test.py(119) : model_params{'embedding_dim': 64, 'sqrt_embedding_dim': 8.0, 'encoder_layer_num': 6, 'qkv_dim': 8, 'head_num': 8, 'logit_clipping': 10, 'ff_hidden_dim': 512, 'eval_type': 'argmax'}\n",
      "[2024-04-01 17:11:27] test.py(119) : tester_params{'use_cuda': True, 'cuda_device_num': 0, 'model_load': {'path': 'pretrained/checkpoint-cvrp-100.pt', 'epoch': 'test'}, 'test_episodes': 1000, 'test_batch_size': 1, 'augmentation_enable': True, 'aug_factor': 8, 'aug_batch_size': 1, 'test_data_load': {'enable': False, 'filename': ''}, 'test_set_path': '../../../../../VRP-Omni-modified/Vrp-Set-X/X-n294', 'test_set_opt_sol_path': '../../../../../VRP-Omni-modified/Vrp-Set-A/A-n33-sol', 'test_set_name': 'A-n33'}\n",
      "[2024-04-01 17:11:27] test.py(119) : logger_params{'log_file': {'desc': 'test_cvrp50_pretrained_epochtest', 'filename': 'log.txt', 'filepath': './result/20240401_181125_test_cvrp50_pretrained_epochtest'}}\n",
      "['../../../../../VRP-Omni-modified/Vrp-Set-X/X-n294/X-n294-k50.vrp']\n"
     ]
    },
    {
     "name": "stderr",
     "output_type": "stream",
     "text": [
      "/home/xunj/miniconda3/envs/amd/lib/python3.8/site-packages/torch/__init__.py:696: UserWarning: torch.set_default_tensor_type() is deprecated as of PyTorch 2.1, please use torch.set_default_dtype() and torch.set_default_device() as alternatives. (Triggered internally at /opt/conda/conda-bld/pytorch_1708025829503/work/torch/csrc/tensor/python_tensor.cpp:451.)\n",
      "  _C._set_default_tensor_type(t)\n"
     ]
    },
    {
     "name": "stdout",
     "output_type": "stream",
     "text": [
      "pretrained/checkpoint-cvrp-100.pt\n",
      "torch.Size([8, 1])\n",
      "torch.Size([8, 293])\n",
      "[2024-04-01 17:11:28] CVRPTester.py(144) : episode   1/  1, Elapsed[0.01m], Remain[0.00m], score:58.215, aug_score:57.428\n",
      "[2024-04-01 17:11:28] CVRPTester.py(150) :  *** Test Done *** \n",
      "[2024-04-01 17:11:28] CVRPTester.py(151) :  NO-AUG SCORE: 58.21498489379883 \n",
      "[2024-04-01 17:11:28] CVRPTester.py(152) :  AUGMENTATION SCORE: 57.427799224853516 \n",
      ">> Evaluation on ../../../../../VRP-Omni-modified/Vrp-Set-X/X-n294 finished within 0.66s\n",
      ">> Save final results to res/X-n294\n",
      "Test on \" ../../../../../VRP-Omni-modified/Vrp-Set-X/X-n294 \" Success\n",
      "-----------------------------------------------------------------------------------------------------------------\n",
      "[2024-04-01 17:11:31] test.py(117) : DEBUG_MODE: False\n",
      "[2024-04-01 17:11:31] test.py(118) : USE_CUDA: True, CUDA_DEVICE_NUM: 0\n",
      "[2024-04-01 17:11:31] test.py(119) : env_params{'problem_size': 50, 'pomo_size': 50, 'distribution': {'data_type': 'mixed', 'n_cluster': 3, 'n_cluster_mix': 1, 'lower': 0.2, 'upper': 0.8, 'std': 0.07}, 'load_path': 'data/vrp_uniform50_1000_seed1234.pkl', 'load_raw': None}\n",
      "[2024-04-01 17:11:31] test.py(119) : model_params{'embedding_dim': 64, 'sqrt_embedding_dim': 8.0, 'encoder_layer_num': 6, 'qkv_dim': 8, 'head_num': 8, 'logit_clipping': 10, 'ff_hidden_dim': 512, 'eval_type': 'argmax'}\n",
      "[2024-04-01 17:11:31] test.py(119) : tester_params{'use_cuda': True, 'cuda_device_num': 0, 'model_load': {'path': 'pretrained/checkpoint-cvrp-100.pt', 'epoch': 'test'}, 'test_episodes': 1000, 'test_batch_size': 1, 'augmentation_enable': True, 'aug_factor': 8, 'aug_batch_size': 1, 'test_data_load': {'enable': False, 'filename': ''}, 'test_set_path': '../../../../../VRP-Omni-modified/Vrp-Set-X/X-n298', 'test_set_opt_sol_path': '../../../../../VRP-Omni-modified/Vrp-Set-A/A-n33-sol', 'test_set_name': 'A-n33'}\n",
      "[2024-04-01 17:11:31] test.py(119) : logger_params{'log_file': {'desc': 'test_cvrp50_pretrained_epochtest', 'filename': 'log.txt', 'filepath': './result/20240401_181130_test_cvrp50_pretrained_epochtest'}}\n",
      "['../../../../../VRP-Omni-modified/Vrp-Set-X/X-n298/X-n298-k31.vrp']\n",
      "pretrained/checkpoint-cvrp-100.pt\n"
     ]
    },
    {
     "name": "stderr",
     "output_type": "stream",
     "text": [
      "/home/xunj/miniconda3/envs/amd/lib/python3.8/site-packages/torch/__init__.py:696: UserWarning: torch.set_default_tensor_type() is deprecated as of PyTorch 2.1, please use torch.set_default_dtype() and torch.set_default_device() as alternatives. (Triggered internally at /opt/conda/conda-bld/pytorch_1708025829503/work/torch/csrc/tensor/python_tensor.cpp:451.)\n",
      "  _C._set_default_tensor_type(t)\n"
     ]
    },
    {
     "name": "stdout",
     "output_type": "stream",
     "text": [
      "torch.Size([8, 1])\n",
      "torch.Size([8, 297])\n",
      "[2024-04-01 17:11:32] CVRPTester.py(144) : episode   1/  1, Elapsed[0.01m], Remain[0.00m], score:41.058, aug_score:40.443\n",
      "[2024-04-01 17:11:32] CVRPTester.py(150) :  *** Test Done *** \n",
      "[2024-04-01 17:11:32] CVRPTester.py(151) :  NO-AUG SCORE: 41.05842590332031 \n",
      "[2024-04-01 17:11:32] CVRPTester.py(152) :  AUGMENTATION SCORE: 40.443138122558594 \n",
      ">> Evaluation on ../../../../../VRP-Omni-modified/Vrp-Set-X/X-n298 finished within 0.62s\n",
      ">> Save final results to res/X-n298\n",
      "Test on \" ../../../../../VRP-Omni-modified/Vrp-Set-X/X-n298 \" Success\n",
      "-----------------------------------------------------------------------------------------------------------------\n",
      "[2024-04-01 17:11:36] test.py(117) : DEBUG_MODE: False\n",
      "[2024-04-01 17:11:36] test.py(118) : USE_CUDA: True, CUDA_DEVICE_NUM: 0\n",
      "[2024-04-01 17:11:36] test.py(119) : env_params{'problem_size': 50, 'pomo_size': 50, 'distribution': {'data_type': 'mixed', 'n_cluster': 3, 'n_cluster_mix': 1, 'lower': 0.2, 'upper': 0.8, 'std': 0.07}, 'load_path': 'data/vrp_uniform50_1000_seed1234.pkl', 'load_raw': None}\n",
      "[2024-04-01 17:11:36] test.py(119) : model_params{'embedding_dim': 64, 'sqrt_embedding_dim': 8.0, 'encoder_layer_num': 6, 'qkv_dim': 8, 'head_num': 8, 'logit_clipping': 10, 'ff_hidden_dim': 512, 'eval_type': 'argmax'}\n",
      "[2024-04-01 17:11:36] test.py(119) : tester_params{'use_cuda': True, 'cuda_device_num': 0, 'model_load': {'path': 'pretrained/checkpoint-cvrp-100.pt', 'epoch': 'test'}, 'test_episodes': 1000, 'test_batch_size': 1, 'augmentation_enable': True, 'aug_factor': 8, 'aug_batch_size': 1, 'test_data_load': {'enable': False, 'filename': ''}, 'test_set_path': '../../../../../VRP-Omni-modified/Vrp-Set-X/X-n303', 'test_set_opt_sol_path': '../../../../../VRP-Omni-modified/Vrp-Set-A/A-n33-sol', 'test_set_name': 'A-n33'}\n",
      "[2024-04-01 17:11:36] test.py(119) : logger_params{'log_file': {'desc': 'test_cvrp50_pretrained_epochtest', 'filename': 'log.txt', 'filepath': './result/20240401_181134_test_cvrp50_pretrained_epochtest'}}\n",
      "['../../../../../VRP-Omni-modified/Vrp-Set-X/X-n303/X-n303-k21.vrp']\n"
     ]
    },
    {
     "name": "stderr",
     "output_type": "stream",
     "text": [
      "/home/xunj/miniconda3/envs/amd/lib/python3.8/site-packages/torch/__init__.py:696: UserWarning: torch.set_default_tensor_type() is deprecated as of PyTorch 2.1, please use torch.set_default_dtype() and torch.set_default_device() as alternatives. (Triggered internally at /opt/conda/conda-bld/pytorch_1708025829503/work/torch/csrc/tensor/python_tensor.cpp:451.)\n",
      "  _C._set_default_tensor_type(t)\n"
     ]
    },
    {
     "name": "stdout",
     "output_type": "stream",
     "text": [
      "pretrained/checkpoint-cvrp-100.pt\n",
      "torch.Size([8, 1])\n",
      "torch.Size([8, 302])\n",
      "[2024-04-01 17:11:37] CVRPTester.py(144) : episode   1/  1, Elapsed[0.01m], Remain[0.00m], score:26.215, aug_score:24.917\n",
      "[2024-04-01 17:11:37] CVRPTester.py(150) :  *** Test Done *** \n",
      "[2024-04-01 17:11:37] CVRPTester.py(151) :  NO-AUG SCORE: 26.215457916259766 \n",
      "[2024-04-01 17:11:37] CVRPTester.py(152) :  AUGMENTATION SCORE: 24.917156219482422 \n",
      ">> Evaluation on ../../../../../VRP-Omni-modified/Vrp-Set-X/X-n303 finished within 0.61s\n",
      ">> Save final results to res/X-n303\n",
      "Test on \" ../../../../../VRP-Omni-modified/Vrp-Set-X/X-n303 \" Success\n",
      "-----------------------------------------------------------------------------------------------------------------\n",
      "[2024-04-01 17:11:40] test.py(117) : DEBUG_MODE: False\n",
      "[2024-04-01 17:11:40] test.py(118) : USE_CUDA: True, CUDA_DEVICE_NUM: 0\n",
      "[2024-04-01 17:11:40] test.py(119) : env_params{'problem_size': 50, 'pomo_size': 50, 'distribution': {'data_type': 'mixed', 'n_cluster': 3, 'n_cluster_mix': 1, 'lower': 0.2, 'upper': 0.8, 'std': 0.07}, 'load_path': 'data/vrp_uniform50_1000_seed1234.pkl', 'load_raw': None}\n",
      "[2024-04-01 17:11:40] test.py(119) : model_params{'embedding_dim': 64, 'sqrt_embedding_dim': 8.0, 'encoder_layer_num': 6, 'qkv_dim': 8, 'head_num': 8, 'logit_clipping': 10, 'ff_hidden_dim': 512, 'eval_type': 'argmax'}\n",
      "[2024-04-01 17:11:40] test.py(119) : tester_params{'use_cuda': True, 'cuda_device_num': 0, 'model_load': {'path': 'pretrained/checkpoint-cvrp-100.pt', 'epoch': 'test'}, 'test_episodes': 1000, 'test_batch_size': 1, 'augmentation_enable': True, 'aug_factor': 8, 'aug_batch_size': 1, 'test_data_load': {'enable': False, 'filename': ''}, 'test_set_path': '../../../../../VRP-Omni-modified/Vrp-Set-X/X-n308', 'test_set_opt_sol_path': '../../../../../VRP-Omni-modified/Vrp-Set-A/A-n33-sol', 'test_set_name': 'A-n33'}\n",
      "[2024-04-01 17:11:40] test.py(119) : logger_params{'log_file': {'desc': 'test_cvrp50_pretrained_epochtest', 'filename': 'log.txt', 'filepath': './result/20240401_181138_test_cvrp50_pretrained_epochtest'}}\n",
      "['../../../../../VRP-Omni-modified/Vrp-Set-X/X-n308/X-n308-k13.vrp']\n",
      "pretrained/checkpoint-cvrp-100.pt\n"
     ]
    },
    {
     "name": "stderr",
     "output_type": "stream",
     "text": [
      "/home/xunj/miniconda3/envs/amd/lib/python3.8/site-packages/torch/__init__.py:696: UserWarning: torch.set_default_tensor_type() is deprecated as of PyTorch 2.1, please use torch.set_default_dtype() and torch.set_default_device() as alternatives. (Triggered internally at /opt/conda/conda-bld/pytorch_1708025829503/work/torch/csrc/tensor/python_tensor.cpp:451.)\n",
      "  _C._set_default_tensor_type(t)\n"
     ]
    },
    {
     "name": "stdout",
     "output_type": "stream",
     "text": [
      "torch.Size([8, 1])\n",
      "torch.Size([8, 307])\n",
      "[2024-04-01 17:11:41] CVRPTester.py(144) : episode   1/  1, Elapsed[0.01m], Remain[0.00m], score:32.080, aug_score:30.835\n",
      "[2024-04-01 17:11:41] CVRPTester.py(150) :  *** Test Done *** \n",
      "[2024-04-01 17:11:41] CVRPTester.py(151) :  NO-AUG SCORE: 32.07955551147461 \n",
      "[2024-04-01 17:11:41] CVRPTester.py(152) :  AUGMENTATION SCORE: 30.835044860839844 \n",
      ">> Evaluation on ../../../../../VRP-Omni-modified/Vrp-Set-X/X-n308 finished within 0.70s\n",
      ">> Save final results to res/X-n308\n",
      "Test on \" ../../../../../VRP-Omni-modified/Vrp-Set-X/X-n308 \" Success\n",
      "-----------------------------------------------------------------------------------------------------------------\n",
      "[2024-04-01 17:11:44] test.py(117) : DEBUG_MODE: False\n",
      "[2024-04-01 17:11:44] test.py(118) : USE_CUDA: True, CUDA_DEVICE_NUM: 0\n",
      "[2024-04-01 17:11:44] test.py(119) : env_params{'problem_size': 50, 'pomo_size': 50, 'distribution': {'data_type': 'mixed', 'n_cluster': 3, 'n_cluster_mix': 1, 'lower': 0.2, 'upper': 0.8, 'std': 0.07}, 'load_path': 'data/vrp_uniform50_1000_seed1234.pkl', 'load_raw': None}\n",
      "[2024-04-01 17:11:44] test.py(119) : model_params{'embedding_dim': 64, 'sqrt_embedding_dim': 8.0, 'encoder_layer_num': 6, 'qkv_dim': 8, 'head_num': 8, 'logit_clipping': 10, 'ff_hidden_dim': 512, 'eval_type': 'argmax'}\n",
      "[2024-04-01 17:11:44] test.py(119) : tester_params{'use_cuda': True, 'cuda_device_num': 0, 'model_load': {'path': 'pretrained/checkpoint-cvrp-100.pt', 'epoch': 'test'}, 'test_episodes': 1000, 'test_batch_size': 1, 'augmentation_enable': True, 'aug_factor': 8, 'aug_batch_size': 1, 'test_data_load': {'enable': False, 'filename': ''}, 'test_set_path': '../../../../../VRP-Omni-modified/Vrp-Set-X/X-n313', 'test_set_opt_sol_path': '../../../../../VRP-Omni-modified/Vrp-Set-A/A-n33-sol', 'test_set_name': 'A-n33'}\n",
      "[2024-04-01 17:11:44] test.py(119) : logger_params{'log_file': {'desc': 'test_cvrp50_pretrained_epochtest', 'filename': 'log.txt', 'filepath': './result/20240401_181142_test_cvrp50_pretrained_epochtest'}}\n",
      "['../../../../../VRP-Omni-modified/Vrp-Set-X/X-n313/X-n313-k71.vrp']\n"
     ]
    },
    {
     "name": "stderr",
     "output_type": "stream",
     "text": [
      "/home/xunj/miniconda3/envs/amd/lib/python3.8/site-packages/torch/__init__.py:696: UserWarning: torch.set_default_tensor_type() is deprecated as of PyTorch 2.1, please use torch.set_default_dtype() and torch.set_default_device() as alternatives. (Triggered internally at /opt/conda/conda-bld/pytorch_1708025829503/work/torch/csrc/tensor/python_tensor.cpp:451.)\n",
      "  _C._set_default_tensor_type(t)\n"
     ]
    },
    {
     "name": "stdout",
     "output_type": "stream",
     "text": [
      "pretrained/checkpoint-cvrp-100.pt\n",
      "torch.Size([8, 1])\n",
      "torch.Size([8, 312])\n",
      "[2024-04-01 17:11:45] CVRPTester.py(144) : episode   1/  1, Elapsed[0.01m], Remain[0.00m], score:116.756, aug_score:108.062\n",
      "[2024-04-01 17:11:45] CVRPTester.py(150) :  *** Test Done *** \n",
      "[2024-04-01 17:11:45] CVRPTester.py(151) :  NO-AUG SCORE: 116.7560806274414 \n",
      "[2024-04-01 17:11:45] CVRPTester.py(152) :  AUGMENTATION SCORE: 108.0616455078125 \n",
      ">> Evaluation on ../../../../../VRP-Omni-modified/Vrp-Set-X/X-n313 finished within 0.68s\n",
      ">> Save final results to res/X-n313\n",
      "Test on \" ../../../../../VRP-Omni-modified/Vrp-Set-X/X-n313 \" Success\n",
      "-----------------------------------------------------------------------------------------------------------------\n",
      "[2024-04-01 17:11:49] test.py(117) : DEBUG_MODE: False\n",
      "[2024-04-01 17:11:49] test.py(118) : USE_CUDA: True, CUDA_DEVICE_NUM: 0\n",
      "[2024-04-01 17:11:49] test.py(119) : env_params{'problem_size': 50, 'pomo_size': 50, 'distribution': {'data_type': 'mixed', 'n_cluster': 3, 'n_cluster_mix': 1, 'lower': 0.2, 'upper': 0.8, 'std': 0.07}, 'load_path': 'data/vrp_uniform50_1000_seed1234.pkl', 'load_raw': None}\n",
      "[2024-04-01 17:11:49] test.py(119) : model_params{'embedding_dim': 64, 'sqrt_embedding_dim': 8.0, 'encoder_layer_num': 6, 'qkv_dim': 8, 'head_num': 8, 'logit_clipping': 10, 'ff_hidden_dim': 512, 'eval_type': 'argmax'}\n",
      "[2024-04-01 17:11:49] test.py(119) : tester_params{'use_cuda': True, 'cuda_device_num': 0, 'model_load': {'path': 'pretrained/checkpoint-cvrp-100.pt', 'epoch': 'test'}, 'test_episodes': 1000, 'test_batch_size': 1, 'augmentation_enable': True, 'aug_factor': 8, 'aug_batch_size': 1, 'test_data_load': {'enable': False, 'filename': ''}, 'test_set_path': '../../../../../VRP-Omni-modified/Vrp-Set-X/X-n317', 'test_set_opt_sol_path': '../../../../../VRP-Omni-modified/Vrp-Set-A/A-n33-sol', 'test_set_name': 'A-n33'}\n",
      "[2024-04-01 17:11:49] test.py(119) : logger_params{'log_file': {'desc': 'test_cvrp50_pretrained_epochtest', 'filename': 'log.txt', 'filepath': './result/20240401_181147_test_cvrp50_pretrained_epochtest'}}\n",
      "['../../../../../VRP-Omni-modified/Vrp-Set-X/X-n317/X-n317-k53.vrp']\n",
      "pretrained/checkpoint-cvrp-100.pt\n"
     ]
    },
    {
     "name": "stderr",
     "output_type": "stream",
     "text": [
      "/home/xunj/miniconda3/envs/amd/lib/python3.8/site-packages/torch/__init__.py:696: UserWarning: torch.set_default_tensor_type() is deprecated as of PyTorch 2.1, please use torch.set_default_dtype() and torch.set_default_device() as alternatives. (Triggered internally at /opt/conda/conda-bld/pytorch_1708025829503/work/torch/csrc/tensor/python_tensor.cpp:451.)\n",
      "  _C._set_default_tensor_type(t)\n"
     ]
    },
    {
     "name": "stdout",
     "output_type": "stream",
     "text": [
      "torch.Size([8, 1])\n",
      "torch.Size([8, 316])\n",
      "[2024-04-01 17:11:50] CVRPTester.py(144) : episode   1/  1, Elapsed[0.01m], Remain[0.00m], score:89.003, aug_score:84.717\n",
      "[2024-04-01 17:11:50] CVRPTester.py(150) :  *** Test Done *** \n",
      "[2024-04-01 17:11:50] CVRPTester.py(151) :  NO-AUG SCORE: 89.00334930419922 \n",
      "[2024-04-01 17:11:50] CVRPTester.py(152) :  AUGMENTATION SCORE: 84.71687316894531 \n",
      ">> Evaluation on ../../../../../VRP-Omni-modified/Vrp-Set-X/X-n317 finished within 0.69s\n",
      ">> Save final results to res/X-n317\n",
      "Test on \" ../../../../../VRP-Omni-modified/Vrp-Set-X/X-n317 \" Success\n",
      "-----------------------------------------------------------------------------------------------------------------\n",
      "[2024-04-01 17:11:53] test.py(117) : DEBUG_MODE: False\n",
      "[2024-04-01 17:11:53] test.py(118) : USE_CUDA: True, CUDA_DEVICE_NUM: 0\n",
      "[2024-04-01 17:11:53] test.py(119) : env_params{'problem_size': 50, 'pomo_size': 50, 'distribution': {'data_type': 'mixed', 'n_cluster': 3, 'n_cluster_mix': 1, 'lower': 0.2, 'upper': 0.8, 'std': 0.07}, 'load_path': 'data/vrp_uniform50_1000_seed1234.pkl', 'load_raw': None}\n",
      "[2024-04-01 17:11:53] test.py(119) : model_params{'embedding_dim': 64, 'sqrt_embedding_dim': 8.0, 'encoder_layer_num': 6, 'qkv_dim': 8, 'head_num': 8, 'logit_clipping': 10, 'ff_hidden_dim': 512, 'eval_type': 'argmax'}\n",
      "[2024-04-01 17:11:53] test.py(119) : tester_params{'use_cuda': True, 'cuda_device_num': 0, 'model_load': {'path': 'pretrained/checkpoint-cvrp-100.pt', 'epoch': 'test'}, 'test_episodes': 1000, 'test_batch_size': 1, 'augmentation_enable': True, 'aug_factor': 8, 'aug_batch_size': 1, 'test_data_load': {'enable': False, 'filename': ''}, 'test_set_path': '../../../../../VRP-Omni-modified/Vrp-Set-X/X-n322', 'test_set_opt_sol_path': '../../../../../VRP-Omni-modified/Vrp-Set-A/A-n33-sol', 'test_set_name': 'A-n33'}\n",
      "[2024-04-01 17:11:53] test.py(119) : logger_params{'log_file': {'desc': 'test_cvrp50_pretrained_epochtest', 'filename': 'log.txt', 'filepath': './result/20240401_181151_test_cvrp50_pretrained_epochtest'}}\n",
      "['../../../../../VRP-Omni-modified/Vrp-Set-X/X-n322/X-n322-k28.vrp']\n",
      "pretrained/checkpoint-cvrp-100.pt\n"
     ]
    },
    {
     "name": "stderr",
     "output_type": "stream",
     "text": [
      "/home/xunj/miniconda3/envs/amd/lib/python3.8/site-packages/torch/__init__.py:696: UserWarning: torch.set_default_tensor_type() is deprecated as of PyTorch 2.1, please use torch.set_default_dtype() and torch.set_default_device() as alternatives. (Triggered internally at /opt/conda/conda-bld/pytorch_1708025829503/work/torch/csrc/tensor/python_tensor.cpp:451.)\n",
      "  _C._set_default_tensor_type(t)\n"
     ]
    },
    {
     "name": "stdout",
     "output_type": "stream",
     "text": [
      "torch.Size([8, 1])\n",
      "torch.Size([8, 321])\n",
      "[2024-04-01 17:11:54] CVRPTester.py(144) : episode   1/  1, Elapsed[0.01m], Remain[0.00m], score:36.655, aug_score:35.451\n",
      "[2024-04-01 17:11:54] CVRPTester.py(150) :  *** Test Done *** \n",
      "[2024-04-01 17:11:54] CVRPTester.py(151) :  NO-AUG SCORE: 36.655189514160156 \n",
      "[2024-04-01 17:11:54] CVRPTester.py(152) :  AUGMENTATION SCORE: 35.450565338134766 \n",
      ">> Evaluation on ../../../../../VRP-Omni-modified/Vrp-Set-X/X-n322 finished within 0.67s\n",
      ">> Save final results to res/X-n322\n",
      "Test on \" ../../../../../VRP-Omni-modified/Vrp-Set-X/X-n322 \" Success\n",
      "-----------------------------------------------------------------------------------------------------------------\n",
      "[2024-04-01 17:11:57] test.py(117) : DEBUG_MODE: False\n",
      "[2024-04-01 17:11:57] test.py(118) : USE_CUDA: True, CUDA_DEVICE_NUM: 0\n",
      "[2024-04-01 17:11:57] test.py(119) : env_params{'problem_size': 50, 'pomo_size': 50, 'distribution': {'data_type': 'mixed', 'n_cluster': 3, 'n_cluster_mix': 1, 'lower': 0.2, 'upper': 0.8, 'std': 0.07}, 'load_path': 'data/vrp_uniform50_1000_seed1234.pkl', 'load_raw': None}\n",
      "[2024-04-01 17:11:57] test.py(119) : model_params{'embedding_dim': 64, 'sqrt_embedding_dim': 8.0, 'encoder_layer_num': 6, 'qkv_dim': 8, 'head_num': 8, 'logit_clipping': 10, 'ff_hidden_dim': 512, 'eval_type': 'argmax'}\n",
      "[2024-04-01 17:11:57] test.py(119) : tester_params{'use_cuda': True, 'cuda_device_num': 0, 'model_load': {'path': 'pretrained/checkpoint-cvrp-100.pt', 'epoch': 'test'}, 'test_episodes': 1000, 'test_batch_size': 1, 'augmentation_enable': True, 'aug_factor': 8, 'aug_batch_size': 1, 'test_data_load': {'enable': False, 'filename': ''}, 'test_set_path': '../../../../../VRP-Omni-modified/Vrp-Set-X/X-n327', 'test_set_opt_sol_path': '../../../../../VRP-Omni-modified/Vrp-Set-A/A-n33-sol', 'test_set_name': 'A-n33'}\n",
      "[2024-04-01 17:11:57] test.py(119) : logger_params{'log_file': {'desc': 'test_cvrp50_pretrained_epochtest', 'filename': 'log.txt', 'filepath': './result/20240401_181155_test_cvrp50_pretrained_epochtest'}}\n",
      "['../../../../../VRP-Omni-modified/Vrp-Set-X/X-n327/X-n327-k20.vrp']\n",
      "pretrained/checkpoint-cvrp-100.pt\n"
     ]
    },
    {
     "name": "stderr",
     "output_type": "stream",
     "text": [
      "/home/xunj/miniconda3/envs/amd/lib/python3.8/site-packages/torch/__init__.py:696: UserWarning: torch.set_default_tensor_type() is deprecated as of PyTorch 2.1, please use torch.set_default_dtype() and torch.set_default_device() as alternatives. (Triggered internally at /opt/conda/conda-bld/pytorch_1708025829503/work/torch/csrc/tensor/python_tensor.cpp:451.)\n",
      "  _C._set_default_tensor_type(t)\n"
     ]
    },
    {
     "name": "stdout",
     "output_type": "stream",
     "text": [
      "torch.Size([8, 1])\n",
      "torch.Size([8, 326])\n",
      "[2024-04-01 17:11:58] CVRPTester.py(144) : episode   1/  1, Elapsed[0.01m], Remain[0.00m], score:34.280, aug_score:33.660\n",
      "[2024-04-01 17:11:58] CVRPTester.py(150) :  *** Test Done *** \n",
      "[2024-04-01 17:11:58] CVRPTester.py(151) :  NO-AUG SCORE: 34.28023910522461 \n",
      "[2024-04-01 17:11:58] CVRPTester.py(152) :  AUGMENTATION SCORE: 33.660072326660156 \n",
      ">> Evaluation on ../../../../../VRP-Omni-modified/Vrp-Set-X/X-n327 finished within 0.65s\n",
      ">> Save final results to res/X-n327\n",
      "Test on \" ../../../../../VRP-Omni-modified/Vrp-Set-X/X-n327 \" Success\n",
      "-----------------------------------------------------------------------------------------------------------------\n",
      "[2024-04-01 17:12:02] test.py(117) : DEBUG_MODE: False\n",
      "[2024-04-01 17:12:02] test.py(118) : USE_CUDA: True, CUDA_DEVICE_NUM: 0\n",
      "[2024-04-01 17:12:02] test.py(119) : env_params{'problem_size': 50, 'pomo_size': 50, 'distribution': {'data_type': 'mixed', 'n_cluster': 3, 'n_cluster_mix': 1, 'lower': 0.2, 'upper': 0.8, 'std': 0.07}, 'load_path': 'data/vrp_uniform50_1000_seed1234.pkl', 'load_raw': None}\n",
      "[2024-04-01 17:12:02] test.py(119) : model_params{'embedding_dim': 64, 'sqrt_embedding_dim': 8.0, 'encoder_layer_num': 6, 'qkv_dim': 8, 'head_num': 8, 'logit_clipping': 10, 'ff_hidden_dim': 512, 'eval_type': 'argmax'}\n",
      "[2024-04-01 17:12:02] test.py(119) : tester_params{'use_cuda': True, 'cuda_device_num': 0, 'model_load': {'path': 'pretrained/checkpoint-cvrp-100.pt', 'epoch': 'test'}, 'test_episodes': 1000, 'test_batch_size': 1, 'augmentation_enable': True, 'aug_factor': 8, 'aug_batch_size': 1, 'test_data_load': {'enable': False, 'filename': ''}, 'test_set_path': '../../../../../VRP-Omni-modified/Vrp-Set-X/X-n331', 'test_set_opt_sol_path': '../../../../../VRP-Omni-modified/Vrp-Set-A/A-n33-sol', 'test_set_name': 'A-n33'}\n",
      "[2024-04-01 17:12:02] test.py(119) : logger_params{'log_file': {'desc': 'test_cvrp50_pretrained_epochtest', 'filename': 'log.txt', 'filepath': './result/20240401_181200_test_cvrp50_pretrained_epochtest'}}\n",
      "['../../../../../VRP-Omni-modified/Vrp-Set-X/X-n331/X-n331-k15.vrp']\n",
      "pretrained/checkpoint-cvrp-100.pt\n"
     ]
    },
    {
     "name": "stderr",
     "output_type": "stream",
     "text": [
      "/home/xunj/miniconda3/envs/amd/lib/python3.8/site-packages/torch/__init__.py:696: UserWarning: torch.set_default_tensor_type() is deprecated as of PyTorch 2.1, please use torch.set_default_dtype() and torch.set_default_device() as alternatives. (Triggered internally at /opt/conda/conda-bld/pytorch_1708025829503/work/torch/csrc/tensor/python_tensor.cpp:451.)\n",
      "  _C._set_default_tensor_type(t)\n"
     ]
    },
    {
     "name": "stdout",
     "output_type": "stream",
     "text": [
      "torch.Size([8, 1])\n",
      "torch.Size([8, 330])\n",
      "[2024-04-01 17:12:02] CVRPTester.py(144) : episode   1/  1, Elapsed[0.01m], Remain[0.00m], score:39.274, aug_score:39.125\n",
      "[2024-04-01 17:12:02] CVRPTester.py(150) :  *** Test Done *** \n",
      "[2024-04-01 17:12:02] CVRPTester.py(151) :  NO-AUG SCORE: 39.27357864379883 \n",
      "[2024-04-01 17:12:02] CVRPTester.py(152) :  AUGMENTATION SCORE: 39.125267028808594 \n",
      ">> Evaluation on ../../../../../VRP-Omni-modified/Vrp-Set-X/X-n331 finished within 0.66s\n",
      ">> Save final results to res/X-n331\n",
      "Test on \" ../../../../../VRP-Omni-modified/Vrp-Set-X/X-n331 \" Success\n",
      "-----------------------------------------------------------------------------------------------------------------\n",
      "[2024-04-01 17:12:06] test.py(117) : DEBUG_MODE: False\n",
      "[2024-04-01 17:12:06] test.py(118) : USE_CUDA: True, CUDA_DEVICE_NUM: 0\n",
      "[2024-04-01 17:12:06] test.py(119) : env_params{'problem_size': 50, 'pomo_size': 50, 'distribution': {'data_type': 'mixed', 'n_cluster': 3, 'n_cluster_mix': 1, 'lower': 0.2, 'upper': 0.8, 'std': 0.07}, 'load_path': 'data/vrp_uniform50_1000_seed1234.pkl', 'load_raw': None}\n",
      "[2024-04-01 17:12:06] test.py(119) : model_params{'embedding_dim': 64, 'sqrt_embedding_dim': 8.0, 'encoder_layer_num': 6, 'qkv_dim': 8, 'head_num': 8, 'logit_clipping': 10, 'ff_hidden_dim': 512, 'eval_type': 'argmax'}\n",
      "[2024-04-01 17:12:06] test.py(119) : tester_params{'use_cuda': True, 'cuda_device_num': 0, 'model_load': {'path': 'pretrained/checkpoint-cvrp-100.pt', 'epoch': 'test'}, 'test_episodes': 1000, 'test_batch_size': 1, 'augmentation_enable': True, 'aug_factor': 8, 'aug_batch_size': 1, 'test_data_load': {'enable': False, 'filename': ''}, 'test_set_path': '../../../../../VRP-Omni-modified/Vrp-Set-X/X-n336', 'test_set_opt_sol_path': '../../../../../VRP-Omni-modified/Vrp-Set-A/A-n33-sol', 'test_set_name': 'A-n33'}\n",
      "[2024-04-01 17:12:06] test.py(119) : logger_params{'log_file': {'desc': 'test_cvrp50_pretrained_epochtest', 'filename': 'log.txt', 'filepath': './result/20240401_181204_test_cvrp50_pretrained_epochtest'}}\n",
      "['../../../../../VRP-Omni-modified/Vrp-Set-X/X-n336/X-n336-k84.vrp']\n"
     ]
    },
    {
     "name": "stderr",
     "output_type": "stream",
     "text": [
      "/home/xunj/miniconda3/envs/amd/lib/python3.8/site-packages/torch/__init__.py:696: UserWarning: torch.set_default_tensor_type() is deprecated as of PyTorch 2.1, please use torch.set_default_dtype() and torch.set_default_device() as alternatives. (Triggered internally at /opt/conda/conda-bld/pytorch_1708025829503/work/torch/csrc/tensor/python_tensor.cpp:451.)\n",
      "  _C._set_default_tensor_type(t)\n"
     ]
    },
    {
     "name": "stdout",
     "output_type": "stream",
     "text": [
      "pretrained/checkpoint-cvrp-100.pt\n",
      "torch.Size([8, 1])\n",
      "torch.Size([8, 335])\n",
      "[2024-04-01 17:12:07] CVRPTester.py(144) : episode   1/  1, Elapsed[0.01m], Remain[0.00m], score:166.120, aug_score:163.631\n",
      "[2024-04-01 17:12:07] CVRPTester.py(150) :  *** Test Done *** \n",
      "[2024-04-01 17:12:07] CVRPTester.py(151) :  NO-AUG SCORE: 166.11984252929688 \n",
      "[2024-04-01 17:12:07] CVRPTester.py(152) :  AUGMENTATION SCORE: 163.63134765625 \n",
      ">> Evaluation on ../../../../../VRP-Omni-modified/Vrp-Set-X/X-n336 finished within 0.77s\n",
      ">> Save final results to res/X-n336\n",
      "Test on \" ../../../../../VRP-Omni-modified/Vrp-Set-X/X-n336 \" Success\n",
      "-----------------------------------------------------------------------------------------------------------------\n",
      "[2024-04-01 17:12:10] test.py(117) : DEBUG_MODE: False\n",
      "[2024-04-01 17:12:10] test.py(118) : USE_CUDA: True, CUDA_DEVICE_NUM: 0\n",
      "[2024-04-01 17:12:10] test.py(119) : env_params{'problem_size': 50, 'pomo_size': 50, 'distribution': {'data_type': 'mixed', 'n_cluster': 3, 'n_cluster_mix': 1, 'lower': 0.2, 'upper': 0.8, 'std': 0.07}, 'load_path': 'data/vrp_uniform50_1000_seed1234.pkl', 'load_raw': None}\n",
      "[2024-04-01 17:12:10] test.py(119) : model_params{'embedding_dim': 64, 'sqrt_embedding_dim': 8.0, 'encoder_layer_num': 6, 'qkv_dim': 8, 'head_num': 8, 'logit_clipping': 10, 'ff_hidden_dim': 512, 'eval_type': 'argmax'}\n",
      "[2024-04-01 17:12:10] test.py(119) : tester_params{'use_cuda': True, 'cuda_device_num': 0, 'model_load': {'path': 'pretrained/checkpoint-cvrp-100.pt', 'epoch': 'test'}, 'test_episodes': 1000, 'test_batch_size': 1, 'augmentation_enable': True, 'aug_factor': 8, 'aug_batch_size': 1, 'test_data_load': {'enable': False, 'filename': ''}, 'test_set_path': '../../../../../VRP-Omni-modified/Vrp-Set-X/X-n344', 'test_set_opt_sol_path': '../../../../../VRP-Omni-modified/Vrp-Set-A/A-n33-sol', 'test_set_name': 'A-n33'}\n",
      "[2024-04-01 17:12:10] test.py(119) : logger_params{'log_file': {'desc': 'test_cvrp50_pretrained_epochtest', 'filename': 'log.txt', 'filepath': './result/20240401_181209_test_cvrp50_pretrained_epochtest'}}\n",
      "['../../../../../VRP-Omni-modified/Vrp-Set-X/X-n344/X-n344-k43.vrp']\n",
      "pretrained/checkpoint-cvrp-100.pt\n"
     ]
    },
    {
     "name": "stderr",
     "output_type": "stream",
     "text": [
      "/home/xunj/miniconda3/envs/amd/lib/python3.8/site-packages/torch/__init__.py:696: UserWarning: torch.set_default_tensor_type() is deprecated as of PyTorch 2.1, please use torch.set_default_dtype() and torch.set_default_device() as alternatives. (Triggered internally at /opt/conda/conda-bld/pytorch_1708025829503/work/torch/csrc/tensor/python_tensor.cpp:451.)\n",
      "  _C._set_default_tensor_type(t)\n"
     ]
    },
    {
     "name": "stdout",
     "output_type": "stream",
     "text": [
      "torch.Size([8, 1])\n",
      "torch.Size([8, 343])\n",
      "[2024-04-01 17:12:11] CVRPTester.py(144) : episode   1/  1, Elapsed[0.01m], Remain[0.00m], score:50.954, aug_score:50.552\n",
      "[2024-04-01 17:12:11] CVRPTester.py(150) :  *** Test Done *** \n",
      "[2024-04-01 17:12:11] CVRPTester.py(151) :  NO-AUG SCORE: 50.95421600341797 \n",
      "[2024-04-01 17:12:11] CVRPTester.py(152) :  AUGMENTATION SCORE: 50.552345275878906 \n",
      ">> Evaluation on ../../../../../VRP-Omni-modified/Vrp-Set-X/X-n344 finished within 0.69s\n",
      ">> Save final results to res/X-n344\n",
      "Test on \" ../../../../../VRP-Omni-modified/Vrp-Set-X/X-n344 \" Success\n",
      "-----------------------------------------------------------------------------------------------------------------\n",
      "[2024-04-01 17:12:15] test.py(117) : DEBUG_MODE: False\n",
      "[2024-04-01 17:12:15] test.py(118) : USE_CUDA: True, CUDA_DEVICE_NUM: 0\n",
      "[2024-04-01 17:12:15] test.py(119) : env_params{'problem_size': 50, 'pomo_size': 50, 'distribution': {'data_type': 'mixed', 'n_cluster': 3, 'n_cluster_mix': 1, 'lower': 0.2, 'upper': 0.8, 'std': 0.07}, 'load_path': 'data/vrp_uniform50_1000_seed1234.pkl', 'load_raw': None}\n",
      "[2024-04-01 17:12:15] test.py(119) : model_params{'embedding_dim': 64, 'sqrt_embedding_dim': 8.0, 'encoder_layer_num': 6, 'qkv_dim': 8, 'head_num': 8, 'logit_clipping': 10, 'ff_hidden_dim': 512, 'eval_type': 'argmax'}\n",
      "[2024-04-01 17:12:15] test.py(119) : tester_params{'use_cuda': True, 'cuda_device_num': 0, 'model_load': {'path': 'pretrained/checkpoint-cvrp-100.pt', 'epoch': 'test'}, 'test_episodes': 1000, 'test_batch_size': 1, 'augmentation_enable': True, 'aug_factor': 8, 'aug_batch_size': 1, 'test_data_load': {'enable': False, 'filename': ''}, 'test_set_path': '../../../../../VRP-Omni-modified/Vrp-Set-X/X-n351', 'test_set_opt_sol_path': '../../../../../VRP-Omni-modified/Vrp-Set-A/A-n33-sol', 'test_set_name': 'A-n33'}\n",
      "[2024-04-01 17:12:15] test.py(119) : logger_params{'log_file': {'desc': 'test_cvrp50_pretrained_epochtest', 'filename': 'log.txt', 'filepath': './result/20240401_181213_test_cvrp50_pretrained_epochtest'}}\n",
      "['../../../../../VRP-Omni-modified/Vrp-Set-X/X-n351/X-n351-k40.vrp']\n",
      "pretrained/checkpoint-cvrp-100.pt\n"
     ]
    },
    {
     "name": "stderr",
     "output_type": "stream",
     "text": [
      "/home/xunj/miniconda3/envs/amd/lib/python3.8/site-packages/torch/__init__.py:696: UserWarning: torch.set_default_tensor_type() is deprecated as of PyTorch 2.1, please use torch.set_default_dtype() and torch.set_default_device() as alternatives. (Triggered internally at /opt/conda/conda-bld/pytorch_1708025829503/work/torch/csrc/tensor/python_tensor.cpp:451.)\n",
      "  _C._set_default_tensor_type(t)\n"
     ]
    },
    {
     "name": "stdout",
     "output_type": "stream",
     "text": [
      "torch.Size([8, 1])\n",
      "torch.Size([8, 350])\n",
      "[2024-04-01 17:12:16] CVRPTester.py(144) : episode   1/  1, Elapsed[0.01m], Remain[0.00m], score:34.476, aug_score:31.676\n",
      "[2024-04-01 17:12:16] CVRPTester.py(150) :  *** Test Done *** \n",
      "[2024-04-01 17:12:16] CVRPTester.py(151) :  NO-AUG SCORE: 34.47569274902344 \n",
      "[2024-04-01 17:12:16] CVRPTester.py(152) :  AUGMENTATION SCORE: 31.676231384277344 \n",
      ">> Evaluation on ../../../../../VRP-Omni-modified/Vrp-Set-X/X-n351 finished within 0.70s\n",
      ">> Save final results to res/X-n351\n",
      "Test on \" ../../../../../VRP-Omni-modified/Vrp-Set-X/X-n351 \" Success\n",
      "-----------------------------------------------------------------------------------------------------------------\n",
      "[2024-04-01 17:12:19] test.py(117) : DEBUG_MODE: False\n",
      "[2024-04-01 17:12:19] test.py(118) : USE_CUDA: True, CUDA_DEVICE_NUM: 0\n",
      "[2024-04-01 17:12:19] test.py(119) : env_params{'problem_size': 50, 'pomo_size': 50, 'distribution': {'data_type': 'mixed', 'n_cluster': 3, 'n_cluster_mix': 1, 'lower': 0.2, 'upper': 0.8, 'std': 0.07}, 'load_path': 'data/vrp_uniform50_1000_seed1234.pkl', 'load_raw': None}\n",
      "[2024-04-01 17:12:19] test.py(119) : model_params{'embedding_dim': 64, 'sqrt_embedding_dim': 8.0, 'encoder_layer_num': 6, 'qkv_dim': 8, 'head_num': 8, 'logit_clipping': 10, 'ff_hidden_dim': 512, 'eval_type': 'argmax'}\n",
      "[2024-04-01 17:12:19] test.py(119) : tester_params{'use_cuda': True, 'cuda_device_num': 0, 'model_load': {'path': 'pretrained/checkpoint-cvrp-100.pt', 'epoch': 'test'}, 'test_episodes': 1000, 'test_batch_size': 1, 'augmentation_enable': True, 'aug_factor': 8, 'aug_batch_size': 1, 'test_data_load': {'enable': False, 'filename': ''}, 'test_set_path': '../../../../../VRP-Omni-modified/Vrp-Set-X/X-n359', 'test_set_opt_sol_path': '../../../../../VRP-Omni-modified/Vrp-Set-A/A-n33-sol', 'test_set_name': 'A-n33'}\n",
      "[2024-04-01 17:12:19] test.py(119) : logger_params{'log_file': {'desc': 'test_cvrp50_pretrained_epochtest', 'filename': 'log.txt', 'filepath': './result/20240401_181217_test_cvrp50_pretrained_epochtest'}}\n",
      "['../../../../../VRP-Omni-modified/Vrp-Set-X/X-n359/X-n359-k29.vrp']\n"
     ]
    },
    {
     "name": "stderr",
     "output_type": "stream",
     "text": [
      "/home/xunj/miniconda3/envs/amd/lib/python3.8/site-packages/torch/__init__.py:696: UserWarning: torch.set_default_tensor_type() is deprecated as of PyTorch 2.1, please use torch.set_default_dtype() and torch.set_default_device() as alternatives. (Triggered internally at /opt/conda/conda-bld/pytorch_1708025829503/work/torch/csrc/tensor/python_tensor.cpp:451.)\n",
      "  _C._set_default_tensor_type(t)\n"
     ]
    },
    {
     "name": "stdout",
     "output_type": "stream",
     "text": [
      "pretrained/checkpoint-cvrp-100.pt\n",
      "torch.Size([8, 1])\n",
      "torch.Size([8, 358])\n",
      "[2024-04-01 17:12:20] CVRPTester.py(144) : episode   1/  1, Elapsed[0.01m], Remain[0.00m], score:61.518, aug_score:60.938\n",
      "[2024-04-01 17:12:20] CVRPTester.py(150) :  *** Test Done *** \n",
      "[2024-04-01 17:12:20] CVRPTester.py(151) :  NO-AUG SCORE: 61.5177001953125 \n",
      "[2024-04-01 17:12:20] CVRPTester.py(152) :  AUGMENTATION SCORE: 60.93811798095703 \n",
      ">> Evaluation on ../../../../../VRP-Omni-modified/Vrp-Set-X/X-n359 finished within 0.71s\n",
      ">> Save final results to res/X-n359\n",
      "Test on \" ../../../../../VRP-Omni-modified/Vrp-Set-X/X-n359 \" Success\n",
      "-----------------------------------------------------------------------------------------------------------------\n",
      "[2024-04-01 17:12:24] test.py(117) : DEBUG_MODE: False\n",
      "[2024-04-01 17:12:24] test.py(118) : USE_CUDA: True, CUDA_DEVICE_NUM: 0\n",
      "[2024-04-01 17:12:24] test.py(119) : env_params{'problem_size': 50, 'pomo_size': 50, 'distribution': {'data_type': 'mixed', 'n_cluster': 3, 'n_cluster_mix': 1, 'lower': 0.2, 'upper': 0.8, 'std': 0.07}, 'load_path': 'data/vrp_uniform50_1000_seed1234.pkl', 'load_raw': None}\n",
      "[2024-04-01 17:12:24] test.py(119) : model_params{'embedding_dim': 64, 'sqrt_embedding_dim': 8.0, 'encoder_layer_num': 6, 'qkv_dim': 8, 'head_num': 8, 'logit_clipping': 10, 'ff_hidden_dim': 512, 'eval_type': 'argmax'}\n",
      "[2024-04-01 17:12:24] test.py(119) : tester_params{'use_cuda': True, 'cuda_device_num': 0, 'model_load': {'path': 'pretrained/checkpoint-cvrp-100.pt', 'epoch': 'test'}, 'test_episodes': 1000, 'test_batch_size': 1, 'augmentation_enable': True, 'aug_factor': 8, 'aug_batch_size': 1, 'test_data_load': {'enable': False, 'filename': ''}, 'test_set_path': '../../../../../VRP-Omni-modified/Vrp-Set-X/X-n367', 'test_set_opt_sol_path': '../../../../../VRP-Omni-modified/Vrp-Set-A/A-n33-sol', 'test_set_name': 'A-n33'}\n",
      "[2024-04-01 17:12:24] test.py(119) : logger_params{'log_file': {'desc': 'test_cvrp50_pretrained_epochtest', 'filename': 'log.txt', 'filepath': './result/20240401_181222_test_cvrp50_pretrained_epochtest'}}\n",
      "['../../../../../VRP-Omni-modified/Vrp-Set-X/X-n367/X-n367-k17.vrp']\n"
     ]
    },
    {
     "name": "stderr",
     "output_type": "stream",
     "text": [
      "/home/xunj/miniconda3/envs/amd/lib/python3.8/site-packages/torch/__init__.py:696: UserWarning: torch.set_default_tensor_type() is deprecated as of PyTorch 2.1, please use torch.set_default_dtype() and torch.set_default_device() as alternatives. (Triggered internally at /opt/conda/conda-bld/pytorch_1708025829503/work/torch/csrc/tensor/python_tensor.cpp:451.)\n",
      "  _C._set_default_tensor_type(t)\n"
     ]
    },
    {
     "name": "stdout",
     "output_type": "stream",
     "text": [
      "pretrained/checkpoint-cvrp-100.pt\n",
      "torch.Size([8, 1])\n",
      "torch.Size([8, 366])\n",
      "[2024-04-01 17:12:25] CVRPTester.py(144) : episode   1/  1, Elapsed[0.01m], Remain[0.00m], score:28.042, aug_score:27.696\n",
      "[2024-04-01 17:12:25] CVRPTester.py(150) :  *** Test Done *** \n",
      "[2024-04-01 17:12:25] CVRPTester.py(151) :  NO-AUG SCORE: 28.04174041748047 \n",
      "[2024-04-01 17:12:25] CVRPTester.py(152) :  AUGMENTATION SCORE: 27.695703506469727 \n",
      ">> Evaluation on ../../../../../VRP-Omni-modified/Vrp-Set-X/X-n367 finished within 0.78s\n",
      ">> Save final results to res/X-n367\n",
      "Test on \" ../../../../../VRP-Omni-modified/Vrp-Set-X/X-n367 \" Success\n",
      "-----------------------------------------------------------------------------------------------------------------\n",
      "[2024-04-01 17:12:28] test.py(117) : DEBUG_MODE: False\n",
      "[2024-04-01 17:12:28] test.py(118) : USE_CUDA: True, CUDA_DEVICE_NUM: 0\n",
      "[2024-04-01 17:12:28] test.py(119) : env_params{'problem_size': 50, 'pomo_size': 50, 'distribution': {'data_type': 'mixed', 'n_cluster': 3, 'n_cluster_mix': 1, 'lower': 0.2, 'upper': 0.8, 'std': 0.07}, 'load_path': 'data/vrp_uniform50_1000_seed1234.pkl', 'load_raw': None}\n",
      "[2024-04-01 17:12:28] test.py(119) : model_params{'embedding_dim': 64, 'sqrt_embedding_dim': 8.0, 'encoder_layer_num': 6, 'qkv_dim': 8, 'head_num': 8, 'logit_clipping': 10, 'ff_hidden_dim': 512, 'eval_type': 'argmax'}\n",
      "[2024-04-01 17:12:28] test.py(119) : tester_params{'use_cuda': True, 'cuda_device_num': 0, 'model_load': {'path': 'pretrained/checkpoint-cvrp-100.pt', 'epoch': 'test'}, 'test_episodes': 1000, 'test_batch_size': 1, 'augmentation_enable': True, 'aug_factor': 8, 'aug_batch_size': 1, 'test_data_load': {'enable': False, 'filename': ''}, 'test_set_path': '../../../../../VRP-Omni-modified/Vrp-Set-X/X-n376', 'test_set_opt_sol_path': '../../../../../VRP-Omni-modified/Vrp-Set-A/A-n33-sol', 'test_set_name': 'A-n33'}\n",
      "[2024-04-01 17:12:28] test.py(119) : logger_params{'log_file': {'desc': 'test_cvrp50_pretrained_epochtest', 'filename': 'log.txt', 'filepath': './result/20240401_181226_test_cvrp50_pretrained_epochtest'}}\n",
      "['../../../../../VRP-Omni-modified/Vrp-Set-X/X-n376/X-n376-k94.vrp']\n",
      "pretrained/checkpoint-cvrp-100.pt\n"
     ]
    },
    {
     "name": "stderr",
     "output_type": "stream",
     "text": [
      "/home/xunj/miniconda3/envs/amd/lib/python3.8/site-packages/torch/__init__.py:696: UserWarning: torch.set_default_tensor_type() is deprecated as of PyTorch 2.1, please use torch.set_default_dtype() and torch.set_default_device() as alternatives. (Triggered internally at /opt/conda/conda-bld/pytorch_1708025829503/work/torch/csrc/tensor/python_tensor.cpp:451.)\n",
      "  _C._set_default_tensor_type(t)\n"
     ]
    },
    {
     "name": "stdout",
     "output_type": "stream",
     "text": [
      "torch.Size([8, 1])\n",
      "torch.Size([8, 375])\n",
      "[2024-04-01 17:12:29] CVRPTester.py(144) : episode   1/  1, Elapsed[0.02m], Remain[0.00m], score:174.244, aug_score:170.181\n",
      "[2024-04-01 17:12:29] CVRPTester.py(150) :  *** Test Done *** \n",
      "[2024-04-01 17:12:29] CVRPTester.py(151) :  NO-AUG SCORE: 174.24359130859375 \n",
      "[2024-04-01 17:12:29] CVRPTester.py(152) :  AUGMENTATION SCORE: 170.18112182617188 \n",
      ">> Evaluation on ../../../../../VRP-Omni-modified/Vrp-Set-X/X-n376 finished within 0.89s\n",
      ">> Save final results to res/X-n376\n",
      "Test on \" ../../../../../VRP-Omni-modified/Vrp-Set-X/X-n376 \" Success\n",
      "-----------------------------------------------------------------------------------------------------------------\n",
      "[2024-04-01 17:12:33] test.py(117) : DEBUG_MODE: False\n",
      "[2024-04-01 17:12:33] test.py(118) : USE_CUDA: True, CUDA_DEVICE_NUM: 0\n",
      "[2024-04-01 17:12:33] test.py(119) : env_params{'problem_size': 50, 'pomo_size': 50, 'distribution': {'data_type': 'mixed', 'n_cluster': 3, 'n_cluster_mix': 1, 'lower': 0.2, 'upper': 0.8, 'std': 0.07}, 'load_path': 'data/vrp_uniform50_1000_seed1234.pkl', 'load_raw': None}\n",
      "[2024-04-01 17:12:33] test.py(119) : model_params{'embedding_dim': 64, 'sqrt_embedding_dim': 8.0, 'encoder_layer_num': 6, 'qkv_dim': 8, 'head_num': 8, 'logit_clipping': 10, 'ff_hidden_dim': 512, 'eval_type': 'argmax'}\n",
      "[2024-04-01 17:12:33] test.py(119) : tester_params{'use_cuda': True, 'cuda_device_num': 0, 'model_load': {'path': 'pretrained/checkpoint-cvrp-100.pt', 'epoch': 'test'}, 'test_episodes': 1000, 'test_batch_size': 1, 'augmentation_enable': True, 'aug_factor': 8, 'aug_batch_size': 1, 'test_data_load': {'enable': False, 'filename': ''}, 'test_set_path': '../../../../../VRP-Omni-modified/Vrp-Set-X/X-n384', 'test_set_opt_sol_path': '../../../../../VRP-Omni-modified/Vrp-Set-A/A-n33-sol', 'test_set_name': 'A-n33'}\n",
      "[2024-04-01 17:12:33] test.py(119) : logger_params{'log_file': {'desc': 'test_cvrp50_pretrained_epochtest', 'filename': 'log.txt', 'filepath': './result/20240401_181231_test_cvrp50_pretrained_epochtest'}}\n",
      "['../../../../../VRP-Omni-modified/Vrp-Set-X/X-n384/X-n384-k52.vrp']\n",
      "pretrained/checkpoint-cvrp-100.pt\n"
     ]
    },
    {
     "name": "stderr",
     "output_type": "stream",
     "text": [
      "/home/xunj/miniconda3/envs/amd/lib/python3.8/site-packages/torch/__init__.py:696: UserWarning: torch.set_default_tensor_type() is deprecated as of PyTorch 2.1, please use torch.set_default_dtype() and torch.set_default_device() as alternatives. (Triggered internally at /opt/conda/conda-bld/pytorch_1708025829503/work/torch/csrc/tensor/python_tensor.cpp:451.)\n",
      "  _C._set_default_tensor_type(t)\n"
     ]
    },
    {
     "name": "stdout",
     "output_type": "stream",
     "text": [
      "torch.Size([8, 1])\n",
      "torch.Size([8, 383])\n",
      "[2024-04-01 17:12:34] CVRPTester.py(144) : episode   1/  1, Elapsed[0.01m], Remain[0.00m], score:83.195, aug_score:81.470\n",
      "[2024-04-01 17:12:34] CVRPTester.py(150) :  *** Test Done *** \n",
      "[2024-04-01 17:12:34] CVRPTester.py(151) :  NO-AUG SCORE: 83.19505310058594 \n",
      "[2024-04-01 17:12:34] CVRPTester.py(152) :  AUGMENTATION SCORE: 81.4703598022461 \n",
      ">> Evaluation on ../../../../../VRP-Omni-modified/Vrp-Set-X/X-n384 finished within 0.76s\n",
      ">> Save final results to res/X-n384\n",
      "Test on \" ../../../../../VRP-Omni-modified/Vrp-Set-X/X-n384 \" Success\n",
      "-----------------------------------------------------------------------------------------------------------------\n",
      "[2024-04-01 17:12:37] test.py(117) : DEBUG_MODE: False\n",
      "[2024-04-01 17:12:37] test.py(118) : USE_CUDA: True, CUDA_DEVICE_NUM: 0\n",
      "[2024-04-01 17:12:37] test.py(119) : env_params{'problem_size': 50, 'pomo_size': 50, 'distribution': {'data_type': 'mixed', 'n_cluster': 3, 'n_cluster_mix': 1, 'lower': 0.2, 'upper': 0.8, 'std': 0.07}, 'load_path': 'data/vrp_uniform50_1000_seed1234.pkl', 'load_raw': None}\n",
      "[2024-04-01 17:12:37] test.py(119) : model_params{'embedding_dim': 64, 'sqrt_embedding_dim': 8.0, 'encoder_layer_num': 6, 'qkv_dim': 8, 'head_num': 8, 'logit_clipping': 10, 'ff_hidden_dim': 512, 'eval_type': 'argmax'}\n",
      "[2024-04-01 17:12:37] test.py(119) : tester_params{'use_cuda': True, 'cuda_device_num': 0, 'model_load': {'path': 'pretrained/checkpoint-cvrp-100.pt', 'epoch': 'test'}, 'test_episodes': 1000, 'test_batch_size': 1, 'augmentation_enable': True, 'aug_factor': 8, 'aug_batch_size': 1, 'test_data_load': {'enable': False, 'filename': ''}, 'test_set_path': '../../../../../VRP-Omni-modified/Vrp-Set-X/X-n393', 'test_set_opt_sol_path': '../../../../../VRP-Omni-modified/Vrp-Set-A/A-n33-sol', 'test_set_name': 'A-n33'}\n",
      "[2024-04-01 17:12:37] test.py(119) : logger_params{'log_file': {'desc': 'test_cvrp50_pretrained_epochtest', 'filename': 'log.txt', 'filepath': './result/20240401_181235_test_cvrp50_pretrained_epochtest'}}\n",
      "['../../../../../VRP-Omni-modified/Vrp-Set-X/X-n393/X-n393-k38.vrp']\n",
      "pretrained/checkpoint-cvrp-100.pt\n"
     ]
    },
    {
     "name": "stderr",
     "output_type": "stream",
     "text": [
      "/home/xunj/miniconda3/envs/amd/lib/python3.8/site-packages/torch/__init__.py:696: UserWarning: torch.set_default_tensor_type() is deprecated as of PyTorch 2.1, please use torch.set_default_dtype() and torch.set_default_device() as alternatives. (Triggered internally at /opt/conda/conda-bld/pytorch_1708025829503/work/torch/csrc/tensor/python_tensor.cpp:451.)\n",
      "  _C._set_default_tensor_type(t)\n"
     ]
    },
    {
     "name": "stdout",
     "output_type": "stream",
     "text": [
      "torch.Size([8, 1])\n",
      "torch.Size([8, 392])\n",
      "[2024-04-01 17:12:38] CVRPTester.py(144) : episode   1/  1, Elapsed[0.01m], Remain[0.00m], score:53.137, aug_score:47.927\n",
      "[2024-04-01 17:12:38] CVRPTester.py(150) :  *** Test Done *** \n",
      "[2024-04-01 17:12:38] CVRPTester.py(151) :  NO-AUG SCORE: 53.13743591308594 \n",
      "[2024-04-01 17:12:38] CVRPTester.py(152) :  AUGMENTATION SCORE: 47.92744827270508 \n",
      ">> Evaluation on ../../../../../VRP-Omni-modified/Vrp-Set-X/X-n393 finished within 0.80s\n",
      ">> Save final results to res/X-n393\n",
      "Test on \" ../../../../../VRP-Omni-modified/Vrp-Set-X/X-n393 \" Success\n",
      "-----------------------------------------------------------------------------------------------------------------\n",
      "[2024-04-01 17:12:41] test.py(117) : DEBUG_MODE: False\n",
      "[2024-04-01 17:12:41] test.py(118) : USE_CUDA: True, CUDA_DEVICE_NUM: 0\n",
      "[2024-04-01 17:12:41] test.py(119) : env_params{'problem_size': 50, 'pomo_size': 50, 'distribution': {'data_type': 'mixed', 'n_cluster': 3, 'n_cluster_mix': 1, 'lower': 0.2, 'upper': 0.8, 'std': 0.07}, 'load_path': 'data/vrp_uniform50_1000_seed1234.pkl', 'load_raw': None}\n",
      "[2024-04-01 17:12:41] test.py(119) : model_params{'embedding_dim': 64, 'sqrt_embedding_dim': 8.0, 'encoder_layer_num': 6, 'qkv_dim': 8, 'head_num': 8, 'logit_clipping': 10, 'ff_hidden_dim': 512, 'eval_type': 'argmax'}\n",
      "[2024-04-01 17:12:41] test.py(119) : tester_params{'use_cuda': True, 'cuda_device_num': 0, 'model_load': {'path': 'pretrained/checkpoint-cvrp-100.pt', 'epoch': 'test'}, 'test_episodes': 1000, 'test_batch_size': 1, 'augmentation_enable': True, 'aug_factor': 8, 'aug_batch_size': 1, 'test_data_load': {'enable': False, 'filename': ''}, 'test_set_path': '../../../../../VRP-Omni-modified/Vrp-Set-X/X-n401', 'test_set_opt_sol_path': '../../../../../VRP-Omni-modified/Vrp-Set-A/A-n33-sol', 'test_set_name': 'A-n33'}\n",
      "[2024-04-01 17:12:41] test.py(119) : logger_params{'log_file': {'desc': 'test_cvrp50_pretrained_epochtest', 'filename': 'log.txt', 'filepath': './result/20240401_181240_test_cvrp50_pretrained_epochtest'}}\n",
      "['../../../../../VRP-Omni-modified/Vrp-Set-X/X-n401/X-n401-k29.vrp']\n",
      "pretrained/checkpoint-cvrp-100.pt\n"
     ]
    },
    {
     "name": "stderr",
     "output_type": "stream",
     "text": [
      "/home/xunj/miniconda3/envs/amd/lib/python3.8/site-packages/torch/__init__.py:696: UserWarning: torch.set_default_tensor_type() is deprecated as of PyTorch 2.1, please use torch.set_default_dtype() and torch.set_default_device() as alternatives. (Triggered internally at /opt/conda/conda-bld/pytorch_1708025829503/work/torch/csrc/tensor/python_tensor.cpp:451.)\n",
      "  _C._set_default_tensor_type(t)\n"
     ]
    },
    {
     "name": "stdout",
     "output_type": "stream",
     "text": [
      "torch.Size([8, 1])\n",
      "torch.Size([8, 400])\n",
      "[2024-04-01 17:12:43] CVRPTester.py(144) : episode   1/  1, Elapsed[0.01m], Remain[0.00m], score:76.039, aug_score:74.087\n",
      "[2024-04-01 17:12:43] CVRPTester.py(150) :  *** Test Done *** \n",
      "[2024-04-01 17:12:43] CVRPTester.py(151) :  NO-AUG SCORE: 76.03865814208984 \n",
      "[2024-04-01 17:12:43] CVRPTester.py(152) :  AUGMENTATION SCORE: 74.08662414550781 \n",
      ">> Evaluation on ../../../../../VRP-Omni-modified/Vrp-Set-X/X-n401 finished within 0.80s\n",
      ">> Save final results to res/X-n401\n",
      "Test on \" ../../../../../VRP-Omni-modified/Vrp-Set-X/X-n401 \" Success\n",
      "-----------------------------------------------------------------------------------------------------------------\n",
      "[2024-04-01 17:12:46] test.py(117) : DEBUG_MODE: False\n",
      "[2024-04-01 17:12:46] test.py(118) : USE_CUDA: True, CUDA_DEVICE_NUM: 0\n",
      "[2024-04-01 17:12:46] test.py(119) : env_params{'problem_size': 50, 'pomo_size': 50, 'distribution': {'data_type': 'mixed', 'n_cluster': 3, 'n_cluster_mix': 1, 'lower': 0.2, 'upper': 0.8, 'std': 0.07}, 'load_path': 'data/vrp_uniform50_1000_seed1234.pkl', 'load_raw': None}\n",
      "[2024-04-01 17:12:46] test.py(119) : model_params{'embedding_dim': 64, 'sqrt_embedding_dim': 8.0, 'encoder_layer_num': 6, 'qkv_dim': 8, 'head_num': 8, 'logit_clipping': 10, 'ff_hidden_dim': 512, 'eval_type': 'argmax'}\n",
      "[2024-04-01 17:12:46] test.py(119) : tester_params{'use_cuda': True, 'cuda_device_num': 0, 'model_load': {'path': 'pretrained/checkpoint-cvrp-100.pt', 'epoch': 'test'}, 'test_episodes': 1000, 'test_batch_size': 1, 'augmentation_enable': True, 'aug_factor': 8, 'aug_batch_size': 1, 'test_data_load': {'enable': False, 'filename': ''}, 'test_set_path': '../../../../../VRP-Omni-modified/Vrp-Set-X/X-n411', 'test_set_opt_sol_path': '../../../../../VRP-Omni-modified/Vrp-Set-A/A-n33-sol', 'test_set_name': 'A-n33'}\n",
      "[2024-04-01 17:12:46] test.py(119) : logger_params{'log_file': {'desc': 'test_cvrp50_pretrained_epochtest', 'filename': 'log.txt', 'filepath': './result/20240401_181244_test_cvrp50_pretrained_epochtest'}}\n",
      "['../../../../../VRP-Omni-modified/Vrp-Set-X/X-n411/X-n411-k19.vrp']\n",
      "pretrained/checkpoint-cvrp-100.pt\n"
     ]
    },
    {
     "name": "stderr",
     "output_type": "stream",
     "text": [
      "/home/xunj/miniconda3/envs/amd/lib/python3.8/site-packages/torch/__init__.py:696: UserWarning: torch.set_default_tensor_type() is deprecated as of PyTorch 2.1, please use torch.set_default_dtype() and torch.set_default_device() as alternatives. (Triggered internally at /opt/conda/conda-bld/pytorch_1708025829503/work/torch/csrc/tensor/python_tensor.cpp:451.)\n",
      "  _C._set_default_tensor_type(t)\n"
     ]
    },
    {
     "name": "stdout",
     "output_type": "stream",
     "text": [
      "torch.Size([8, 1])\n",
      "torch.Size([8, 410])\n",
      "[2024-04-01 17:12:47] CVRPTester.py(144) : episode   1/  1, Elapsed[0.01m], Remain[0.00m], score:26.410, aug_score:26.410\n",
      "[2024-04-01 17:12:47] CVRPTester.py(150) :  *** Test Done *** \n",
      "[2024-04-01 17:12:47] CVRPTester.py(151) :  NO-AUG SCORE: 26.41042709350586 \n",
      "[2024-04-01 17:12:47] CVRPTester.py(152) :  AUGMENTATION SCORE: 26.41042709350586 \n",
      ">> Evaluation on ../../../../../VRP-Omni-modified/Vrp-Set-X/X-n411 finished within 0.82s\n",
      ">> Save final results to res/X-n411\n",
      "Test on \" ../../../../../VRP-Omni-modified/Vrp-Set-X/X-n411 \" Success\n",
      "-----------------------------------------------------------------------------------------------------------------\n",
      "[2024-04-01 17:12:50] test.py(117) : DEBUG_MODE: False\n",
      "[2024-04-01 17:12:50] test.py(118) : USE_CUDA: True, CUDA_DEVICE_NUM: 0\n",
      "[2024-04-01 17:12:50] test.py(119) : env_params{'problem_size': 50, 'pomo_size': 50, 'distribution': {'data_type': 'mixed', 'n_cluster': 3, 'n_cluster_mix': 1, 'lower': 0.2, 'upper': 0.8, 'std': 0.07}, 'load_path': 'data/vrp_uniform50_1000_seed1234.pkl', 'load_raw': None}\n",
      "[2024-04-01 17:12:50] test.py(119) : model_params{'embedding_dim': 64, 'sqrt_embedding_dim': 8.0, 'encoder_layer_num': 6, 'qkv_dim': 8, 'head_num': 8, 'logit_clipping': 10, 'ff_hidden_dim': 512, 'eval_type': 'argmax'}\n",
      "[2024-04-01 17:12:50] test.py(119) : tester_params{'use_cuda': True, 'cuda_device_num': 0, 'model_load': {'path': 'pretrained/checkpoint-cvrp-100.pt', 'epoch': 'test'}, 'test_episodes': 1000, 'test_batch_size': 1, 'augmentation_enable': True, 'aug_factor': 8, 'aug_batch_size': 1, 'test_data_load': {'enable': False, 'filename': ''}, 'test_set_path': '../../../../../VRP-Omni-modified/Vrp-Set-X/X-n420', 'test_set_opt_sol_path': '../../../../../VRP-Omni-modified/Vrp-Set-A/A-n33-sol', 'test_set_name': 'A-n33'}\n",
      "[2024-04-01 17:12:50] test.py(119) : logger_params{'log_file': {'desc': 'test_cvrp50_pretrained_epochtest', 'filename': 'log.txt', 'filepath': './result/20240401_181249_test_cvrp50_pretrained_epochtest'}}\n",
      "['../../../../../VRP-Omni-modified/Vrp-Set-X/X-n420/X-n420-k130.vrp']\n",
      "pretrained/checkpoint-cvrp-100.pt\n"
     ]
    },
    {
     "name": "stderr",
     "output_type": "stream",
     "text": [
      "/home/xunj/miniconda3/envs/amd/lib/python3.8/site-packages/torch/__init__.py:696: UserWarning: torch.set_default_tensor_type() is deprecated as of PyTorch 2.1, please use torch.set_default_dtype() and torch.set_default_device() as alternatives. (Triggered internally at /opt/conda/conda-bld/pytorch_1708025829503/work/torch/csrc/tensor/python_tensor.cpp:451.)\n",
      "  _C._set_default_tensor_type(t)\n"
     ]
    },
    {
     "name": "stdout",
     "output_type": "stream",
     "text": [
      "torch.Size([8, 1])\n",
      "torch.Size([8, 419])\n",
      "[2024-04-01 17:12:52] CVRPTester.py(144) : episode   1/  1, Elapsed[0.02m], Remain[0.00m], score:142.121, aug_score:135.445\n",
      "[2024-04-01 17:12:52] CVRPTester.py(150) :  *** Test Done *** \n",
      "[2024-04-01 17:12:52] CVRPTester.py(151) :  NO-AUG SCORE: 142.12094116210938 \n",
      "[2024-04-01 17:12:52] CVRPTester.py(152) :  AUGMENTATION SCORE: 135.44479370117188 \n",
      ">> Evaluation on ../../../../../VRP-Omni-modified/Vrp-Set-X/X-n420 finished within 0.97s\n",
      ">> Save final results to res/X-n420\n",
      "Test on \" ../../../../../VRP-Omni-modified/Vrp-Set-X/X-n420 \" Success\n",
      "-----------------------------------------------------------------------------------------------------------------\n",
      "[2024-04-01 17:12:55] test.py(117) : DEBUG_MODE: False\n",
      "[2024-04-01 17:12:55] test.py(118) : USE_CUDA: True, CUDA_DEVICE_NUM: 0\n",
      "[2024-04-01 17:12:55] test.py(119) : env_params{'problem_size': 50, 'pomo_size': 50, 'distribution': {'data_type': 'mixed', 'n_cluster': 3, 'n_cluster_mix': 1, 'lower': 0.2, 'upper': 0.8, 'std': 0.07}, 'load_path': 'data/vrp_uniform50_1000_seed1234.pkl', 'load_raw': None}\n",
      "[2024-04-01 17:12:55] test.py(119) : model_params{'embedding_dim': 64, 'sqrt_embedding_dim': 8.0, 'encoder_layer_num': 6, 'qkv_dim': 8, 'head_num': 8, 'logit_clipping': 10, 'ff_hidden_dim': 512, 'eval_type': 'argmax'}\n",
      "[2024-04-01 17:12:55] test.py(119) : tester_params{'use_cuda': True, 'cuda_device_num': 0, 'model_load': {'path': 'pretrained/checkpoint-cvrp-100.pt', 'epoch': 'test'}, 'test_episodes': 1000, 'test_batch_size': 1, 'augmentation_enable': True, 'aug_factor': 8, 'aug_batch_size': 1, 'test_data_load': {'enable': False, 'filename': ''}, 'test_set_path': '../../../../../VRP-Omni-modified/Vrp-Set-X/X-n429', 'test_set_opt_sol_path': '../../../../../VRP-Omni-modified/Vrp-Set-A/A-n33-sol', 'test_set_name': 'A-n33'}\n",
      "[2024-04-01 17:12:55] test.py(119) : logger_params{'log_file': {'desc': 'test_cvrp50_pretrained_epochtest', 'filename': 'log.txt', 'filepath': './result/20240401_181253_test_cvrp50_pretrained_epochtest'}}\n",
      "['../../../../../VRP-Omni-modified/Vrp-Set-X/X-n429/X-n429-k61.vrp']\n",
      "pretrained/checkpoint-cvrp-100.pt\n"
     ]
    },
    {
     "name": "stderr",
     "output_type": "stream",
     "text": [
      "/home/xunj/miniconda3/envs/amd/lib/python3.8/site-packages/torch/__init__.py:696: UserWarning: torch.set_default_tensor_type() is deprecated as of PyTorch 2.1, please use torch.set_default_dtype() and torch.set_default_device() as alternatives. (Triggered internally at /opt/conda/conda-bld/pytorch_1708025829503/work/torch/csrc/tensor/python_tensor.cpp:451.)\n",
      "  _C._set_default_tensor_type(t)\n"
     ]
    },
    {
     "name": "stdout",
     "output_type": "stream",
     "text": [
      "torch.Size([8, 1])\n",
      "torch.Size([8, 428])\n",
      "[2024-04-01 17:12:56] CVRPTester.py(144) : episode   1/  1, Elapsed[0.02m], Remain[0.00m], score:86.030, aug_score:81.262\n",
      "[2024-04-01 17:12:56] CVRPTester.py(150) :  *** Test Done *** \n",
      "[2024-04-01 17:12:56] CVRPTester.py(151) :  NO-AUG SCORE: 86.03031158447266 \n",
      "[2024-04-01 17:12:56] CVRPTester.py(152) :  AUGMENTATION SCORE: 81.26243591308594 \n",
      ">> Evaluation on ../../../../../VRP-Omni-modified/Vrp-Set-X/X-n429 finished within 0.92s\n",
      ">> Save final results to res/X-n429\n",
      "Test on \" ../../../../../VRP-Omni-modified/Vrp-Set-X/X-n429 \" Success\n",
      "-----------------------------------------------------------------------------------------------------------------\n",
      "[2024-04-01 17:13:00] test.py(117) : DEBUG_MODE: False\n",
      "[2024-04-01 17:13:00] test.py(118) : USE_CUDA: True, CUDA_DEVICE_NUM: 0\n",
      "[2024-04-01 17:13:00] test.py(119) : env_params{'problem_size': 50, 'pomo_size': 50, 'distribution': {'data_type': 'mixed', 'n_cluster': 3, 'n_cluster_mix': 1, 'lower': 0.2, 'upper': 0.8, 'std': 0.07}, 'load_path': 'data/vrp_uniform50_1000_seed1234.pkl', 'load_raw': None}\n",
      "[2024-04-01 17:13:00] test.py(119) : model_params{'embedding_dim': 64, 'sqrt_embedding_dim': 8.0, 'encoder_layer_num': 6, 'qkv_dim': 8, 'head_num': 8, 'logit_clipping': 10, 'ff_hidden_dim': 512, 'eval_type': 'argmax'}\n",
      "[2024-04-01 17:13:00] test.py(119) : tester_params{'use_cuda': True, 'cuda_device_num': 0, 'model_load': {'path': 'pretrained/checkpoint-cvrp-100.pt', 'epoch': 'test'}, 'test_episodes': 1000, 'test_batch_size': 1, 'augmentation_enable': True, 'aug_factor': 8, 'aug_batch_size': 1, 'test_data_load': {'enable': False, 'filename': ''}, 'test_set_path': '../../../../../VRP-Omni-modified/Vrp-Set-X/X-n439', 'test_set_opt_sol_path': '../../../../../VRP-Omni-modified/Vrp-Set-A/A-n33-sol', 'test_set_name': 'A-n33'}\n",
      "[2024-04-01 17:13:00] test.py(119) : logger_params{'log_file': {'desc': 'test_cvrp50_pretrained_epochtest', 'filename': 'log.txt', 'filepath': './result/20240401_181258_test_cvrp50_pretrained_epochtest'}}\n",
      "['../../../../../VRP-Omni-modified/Vrp-Set-X/X-n439/X-n439-k37.vrp']\n"
     ]
    },
    {
     "name": "stderr",
     "output_type": "stream",
     "text": [
      "/home/xunj/miniconda3/envs/amd/lib/python3.8/site-packages/torch/__init__.py:696: UserWarning: torch.set_default_tensor_type() is deprecated as of PyTorch 2.1, please use torch.set_default_dtype() and torch.set_default_device() as alternatives. (Triggered internally at /opt/conda/conda-bld/pytorch_1708025829503/work/torch/csrc/tensor/python_tensor.cpp:451.)\n",
      "  _C._set_default_tensor_type(t)\n"
     ]
    },
    {
     "name": "stdout",
     "output_type": "stream",
     "text": [
      "pretrained/checkpoint-cvrp-100.pt\n",
      "torch.Size([8, 1])\n",
      "torch.Size([8, 438])\n",
      "[2024-04-01 17:13:01] CVRPTester.py(144) : episode   1/  1, Elapsed[0.02m], Remain[0.00m], score:48.432, aug_score:47.606\n",
      "[2024-04-01 17:13:01] CVRPTester.py(150) :  *** Test Done *** \n",
      "[2024-04-01 17:13:01] CVRPTester.py(151) :  NO-AUG SCORE: 48.431800842285156 \n",
      "[2024-04-01 17:13:01] CVRPTester.py(152) :  AUGMENTATION SCORE: 47.606319427490234 \n",
      ">> Evaluation on ../../../../../VRP-Omni-modified/Vrp-Set-X/X-n439 finished within 0.98s\n",
      ">> Save final results to res/X-n439\n",
      "Test on \" ../../../../../VRP-Omni-modified/Vrp-Set-X/X-n439 \" Success\n",
      "-----------------------------------------------------------------------------------------------------------------\n",
      "[2024-04-01 17:13:04] test.py(117) : DEBUG_MODE: False\n",
      "[2024-04-01 17:13:04] test.py(118) : USE_CUDA: True, CUDA_DEVICE_NUM: 0\n",
      "[2024-04-01 17:13:04] test.py(119) : env_params{'problem_size': 50, 'pomo_size': 50, 'distribution': {'data_type': 'mixed', 'n_cluster': 3, 'n_cluster_mix': 1, 'lower': 0.2, 'upper': 0.8, 'std': 0.07}, 'load_path': 'data/vrp_uniform50_1000_seed1234.pkl', 'load_raw': None}\n",
      "[2024-04-01 17:13:04] test.py(119) : model_params{'embedding_dim': 64, 'sqrt_embedding_dim': 8.0, 'encoder_layer_num': 6, 'qkv_dim': 8, 'head_num': 8, 'logit_clipping': 10, 'ff_hidden_dim': 512, 'eval_type': 'argmax'}\n",
      "[2024-04-01 17:13:04] test.py(119) : tester_params{'use_cuda': True, 'cuda_device_num': 0, 'model_load': {'path': 'pretrained/checkpoint-cvrp-100.pt', 'epoch': 'test'}, 'test_episodes': 1000, 'test_batch_size': 1, 'augmentation_enable': True, 'aug_factor': 8, 'aug_batch_size': 1, 'test_data_load': {'enable': False, 'filename': ''}, 'test_set_path': '../../../../../VRP-Omni-modified/Vrp-Set-X/X-n449', 'test_set_opt_sol_path': '../../../../../VRP-Omni-modified/Vrp-Set-A/A-n33-sol', 'test_set_name': 'A-n33'}\n",
      "[2024-04-01 17:13:04] test.py(119) : logger_params{'log_file': {'desc': 'test_cvrp50_pretrained_epochtest', 'filename': 'log.txt', 'filepath': './result/20240401_181302_test_cvrp50_pretrained_epochtest'}}\n",
      "['../../../../../VRP-Omni-modified/Vrp-Set-X/X-n449/X-n449-k29.vrp']\n",
      "pretrained/checkpoint-cvrp-100.pt\n"
     ]
    },
    {
     "name": "stderr",
     "output_type": "stream",
     "text": [
      "/home/xunj/miniconda3/envs/amd/lib/python3.8/site-packages/torch/__init__.py:696: UserWarning: torch.set_default_tensor_type() is deprecated as of PyTorch 2.1, please use torch.set_default_dtype() and torch.set_default_device() as alternatives. (Triggered internally at /opt/conda/conda-bld/pytorch_1708025829503/work/torch/csrc/tensor/python_tensor.cpp:451.)\n",
      "  _C._set_default_tensor_type(t)\n"
     ]
    },
    {
     "name": "stdout",
     "output_type": "stream",
     "text": [
      "torch.Size([8, 1])\n",
      "torch.Size([8, 448])\n",
      "[2024-04-01 17:13:05] CVRPTester.py(144) : episode   1/  1, Elapsed[0.02m], Remain[0.00m], score:75.934, aug_score:71.068\n",
      "[2024-04-01 17:13:05] CVRPTester.py(150) :  *** Test Done *** \n",
      "[2024-04-01 17:13:05] CVRPTester.py(151) :  NO-AUG SCORE: 75.93353271484375 \n",
      "[2024-04-01 17:13:05] CVRPTester.py(152) :  AUGMENTATION SCORE: 71.06758880615234 \n",
      ">> Evaluation on ../../../../../VRP-Omni-modified/Vrp-Set-X/X-n449 finished within 0.92s\n",
      ">> Save final results to res/X-n449\n",
      "Test on \" ../../../../../VRP-Omni-modified/Vrp-Set-X/X-n449 \" Success\n",
      "-----------------------------------------------------------------------------------------------------------------\n",
      "[2024-04-01 17:13:09] test.py(117) : DEBUG_MODE: False\n",
      "[2024-04-01 17:13:09] test.py(118) : USE_CUDA: True, CUDA_DEVICE_NUM: 0\n",
      "[2024-04-01 17:13:09] test.py(119) : env_params{'problem_size': 50, 'pomo_size': 50, 'distribution': {'data_type': 'mixed', 'n_cluster': 3, 'n_cluster_mix': 1, 'lower': 0.2, 'upper': 0.8, 'std': 0.07}, 'load_path': 'data/vrp_uniform50_1000_seed1234.pkl', 'load_raw': None}\n",
      "[2024-04-01 17:13:09] test.py(119) : model_params{'embedding_dim': 64, 'sqrt_embedding_dim': 8.0, 'encoder_layer_num': 6, 'qkv_dim': 8, 'head_num': 8, 'logit_clipping': 10, 'ff_hidden_dim': 512, 'eval_type': 'argmax'}\n",
      "[2024-04-01 17:13:09] test.py(119) : tester_params{'use_cuda': True, 'cuda_device_num': 0, 'model_load': {'path': 'pretrained/checkpoint-cvrp-100.pt', 'epoch': 'test'}, 'test_episodes': 1000, 'test_batch_size': 1, 'augmentation_enable': True, 'aug_factor': 8, 'aug_batch_size': 1, 'test_data_load': {'enable': False, 'filename': ''}, 'test_set_path': '../../../../../VRP-Omni-modified/Vrp-Set-X/X-n459', 'test_set_opt_sol_path': '../../../../../VRP-Omni-modified/Vrp-Set-A/A-n33-sol', 'test_set_name': 'A-n33'}\n",
      "[2024-04-01 17:13:09] test.py(119) : logger_params{'log_file': {'desc': 'test_cvrp50_pretrained_epochtest', 'filename': 'log.txt', 'filepath': './result/20240401_181307_test_cvrp50_pretrained_epochtest'}}\n",
      "['../../../../../VRP-Omni-modified/Vrp-Set-X/X-n459/X-n459-k26.vrp']\n",
      "pretrained/checkpoint-cvrp-100.pt\n"
     ]
    },
    {
     "name": "stderr",
     "output_type": "stream",
     "text": [
      "/home/xunj/miniconda3/envs/amd/lib/python3.8/site-packages/torch/__init__.py:696: UserWarning: torch.set_default_tensor_type() is deprecated as of PyTorch 2.1, please use torch.set_default_dtype() and torch.set_default_device() as alternatives. (Triggered internally at /opt/conda/conda-bld/pytorch_1708025829503/work/torch/csrc/tensor/python_tensor.cpp:451.)\n",
      "  _C._set_default_tensor_type(t)\n"
     ]
    },
    {
     "name": "stdout",
     "output_type": "stream",
     "text": [
      "torch.Size([8, 1])\n",
      "torch.Size([8, 458])\n",
      "[2024-04-01 17:13:10] CVRPTester.py(144) : episode   1/  1, Elapsed[0.02m], Remain[0.00m], score:35.614, aug_score:34.373\n",
      "[2024-04-01 17:13:10] CVRPTester.py(150) :  *** Test Done *** \n",
      "[2024-04-01 17:13:10] CVRPTester.py(151) :  NO-AUG SCORE: 35.61388397216797 \n",
      "[2024-04-01 17:13:10] CVRPTester.py(152) :  AUGMENTATION SCORE: 34.37311935424805 \n",
      ">> Evaluation on ../../../../../VRP-Omni-modified/Vrp-Set-X/X-n459 finished within 0.95s\n",
      ">> Save final results to res/X-n459\n",
      "Test on \" ../../../../../VRP-Omni-modified/Vrp-Set-X/X-n459 \" Success\n",
      "-----------------------------------------------------------------------------------------------------------------\n",
      "[2024-04-01 17:13:13] test.py(117) : DEBUG_MODE: False\n",
      "[2024-04-01 17:13:13] test.py(118) : USE_CUDA: True, CUDA_DEVICE_NUM: 0\n",
      "[2024-04-01 17:13:13] test.py(119) : env_params{'problem_size': 50, 'pomo_size': 50, 'distribution': {'data_type': 'mixed', 'n_cluster': 3, 'n_cluster_mix': 1, 'lower': 0.2, 'upper': 0.8, 'std': 0.07}, 'load_path': 'data/vrp_uniform50_1000_seed1234.pkl', 'load_raw': None}\n",
      "[2024-04-01 17:13:13] test.py(119) : model_params{'embedding_dim': 64, 'sqrt_embedding_dim': 8.0, 'encoder_layer_num': 6, 'qkv_dim': 8, 'head_num': 8, 'logit_clipping': 10, 'ff_hidden_dim': 512, 'eval_type': 'argmax'}\n",
      "[2024-04-01 17:13:13] test.py(119) : tester_params{'use_cuda': True, 'cuda_device_num': 0, 'model_load': {'path': 'pretrained/checkpoint-cvrp-100.pt', 'epoch': 'test'}, 'test_episodes': 1000, 'test_batch_size': 1, 'augmentation_enable': True, 'aug_factor': 8, 'aug_batch_size': 1, 'test_data_load': {'enable': False, 'filename': ''}, 'test_set_path': '../../../../../VRP-Omni-modified/Vrp-Set-X/X-n469', 'test_set_opt_sol_path': '../../../../../VRP-Omni-modified/Vrp-Set-A/A-n33-sol', 'test_set_name': 'A-n33'}\n",
      "[2024-04-01 17:13:13] test.py(119) : logger_params{'log_file': {'desc': 'test_cvrp50_pretrained_epochtest', 'filename': 'log.txt', 'filepath': './result/20240401_181312_test_cvrp50_pretrained_epochtest'}}\n",
      "['../../../../../VRP-Omni-modified/Vrp-Set-X/X-n469/X-n469-k138.vrp']\n",
      "pretrained/checkpoint-cvrp-100.pt\n"
     ]
    },
    {
     "name": "stderr",
     "output_type": "stream",
     "text": [
      "/home/xunj/miniconda3/envs/amd/lib/python3.8/site-packages/torch/__init__.py:696: UserWarning: torch.set_default_tensor_type() is deprecated as of PyTorch 2.1, please use torch.set_default_dtype() and torch.set_default_device() as alternatives. (Triggered internally at /opt/conda/conda-bld/pytorch_1708025829503/work/torch/csrc/tensor/python_tensor.cpp:451.)\n",
      "  _C._set_default_tensor_type(t)\n"
     ]
    },
    {
     "name": "stdout",
     "output_type": "stream",
     "text": [
      "torch.Size([8, 1])\n",
      "torch.Size([8, 468])\n",
      "[2024-04-01 17:13:15] CVRPTester.py(144) : episode   1/  1, Elapsed[0.02m], Remain[0.00m], score:271.936, aug_score:271.936\n",
      "[2024-04-01 17:13:15] CVRPTester.py(150) :  *** Test Done *** \n",
      "[2024-04-01 17:13:15] CVRPTester.py(151) :  NO-AUG SCORE: 271.9359130859375 \n",
      "[2024-04-01 17:13:15] CVRPTester.py(152) :  AUGMENTATION SCORE: 271.9359130859375 \n",
      ">> Evaluation on ../../../../../VRP-Omni-modified/Vrp-Set-X/X-n469 finished within 1.15s\n",
      ">> Save final results to res/X-n469\n",
      "Test on \" ../../../../../VRP-Omni-modified/Vrp-Set-X/X-n469 \" Success\n",
      "-----------------------------------------------------------------------------------------------------------------\n",
      "[2024-04-01 17:13:18] test.py(117) : DEBUG_MODE: False\n",
      "[2024-04-01 17:13:18] test.py(118) : USE_CUDA: True, CUDA_DEVICE_NUM: 0\n",
      "[2024-04-01 17:13:18] test.py(119) : env_params{'problem_size': 50, 'pomo_size': 50, 'distribution': {'data_type': 'mixed', 'n_cluster': 3, 'n_cluster_mix': 1, 'lower': 0.2, 'upper': 0.8, 'std': 0.07}, 'load_path': 'data/vrp_uniform50_1000_seed1234.pkl', 'load_raw': None}\n",
      "[2024-04-01 17:13:18] test.py(119) : model_params{'embedding_dim': 64, 'sqrt_embedding_dim': 8.0, 'encoder_layer_num': 6, 'qkv_dim': 8, 'head_num': 8, 'logit_clipping': 10, 'ff_hidden_dim': 512, 'eval_type': 'argmax'}\n",
      "[2024-04-01 17:13:18] test.py(119) : tester_params{'use_cuda': True, 'cuda_device_num': 0, 'model_load': {'path': 'pretrained/checkpoint-cvrp-100.pt', 'epoch': 'test'}, 'test_episodes': 1000, 'test_batch_size': 1, 'augmentation_enable': True, 'aug_factor': 8, 'aug_batch_size': 1, 'test_data_load': {'enable': False, 'filename': ''}, 'test_set_path': '../../../../../VRP-Omni-modified/Vrp-Set-X/X-n480', 'test_set_opt_sol_path': '../../../../../VRP-Omni-modified/Vrp-Set-A/A-n33-sol', 'test_set_name': 'A-n33'}\n",
      "[2024-04-01 17:13:18] test.py(119) : logger_params{'log_file': {'desc': 'test_cvrp50_pretrained_epochtest', 'filename': 'log.txt', 'filepath': './result/20240401_181316_test_cvrp50_pretrained_epochtest'}}\n",
      "['../../../../../VRP-Omni-modified/Vrp-Set-X/X-n480/X-n480-k70.vrp']\n"
     ]
    },
    {
     "name": "stderr",
     "output_type": "stream",
     "text": [
      "/home/xunj/miniconda3/envs/amd/lib/python3.8/site-packages/torch/__init__.py:696: UserWarning: torch.set_default_tensor_type() is deprecated as of PyTorch 2.1, please use torch.set_default_dtype() and torch.set_default_device() as alternatives. (Triggered internally at /opt/conda/conda-bld/pytorch_1708025829503/work/torch/csrc/tensor/python_tensor.cpp:451.)\n",
      "  _C._set_default_tensor_type(t)\n"
     ]
    },
    {
     "name": "stdout",
     "output_type": "stream",
     "text": [
      "pretrained/checkpoint-cvrp-100.pt\n",
      "torch.Size([8, 1])\n",
      "torch.Size([8, 479])\n",
      "[2024-04-01 17:13:19] CVRPTester.py(144) : episode   1/  1, Elapsed[0.02m], Remain[0.00m], score:112.422, aug_score:109.591\n",
      "[2024-04-01 17:13:19] CVRPTester.py(150) :  *** Test Done *** \n",
      "[2024-04-01 17:13:19] CVRPTester.py(151) :  NO-AUG SCORE: 112.42222595214844 \n",
      "[2024-04-01 17:13:19] CVRPTester.py(152) :  AUGMENTATION SCORE: 109.59085083007812 \n",
      ">> Evaluation on ../../../../../VRP-Omni-modified/Vrp-Set-X/X-n480 finished within 1.07s\n",
      ">> Save final results to res/X-n480\n",
      "Test on \" ../../../../../VRP-Omni-modified/Vrp-Set-X/X-n480 \" Success\n",
      "-----------------------------------------------------------------------------------------------------------------\n",
      "[2024-04-01 17:13:23] test.py(117) : DEBUG_MODE: False\n",
      "[2024-04-01 17:13:23] test.py(118) : USE_CUDA: True, CUDA_DEVICE_NUM: 0\n",
      "[2024-04-01 17:13:23] test.py(119) : env_params{'problem_size': 50, 'pomo_size': 50, 'distribution': {'data_type': 'mixed', 'n_cluster': 3, 'n_cluster_mix': 1, 'lower': 0.2, 'upper': 0.8, 'std': 0.07}, 'load_path': 'data/vrp_uniform50_1000_seed1234.pkl', 'load_raw': None}\n",
      "[2024-04-01 17:13:23] test.py(119) : model_params{'embedding_dim': 64, 'sqrt_embedding_dim': 8.0, 'encoder_layer_num': 6, 'qkv_dim': 8, 'head_num': 8, 'logit_clipping': 10, 'ff_hidden_dim': 512, 'eval_type': 'argmax'}\n",
      "[2024-04-01 17:13:23] test.py(119) : tester_params{'use_cuda': True, 'cuda_device_num': 0, 'model_load': {'path': 'pretrained/checkpoint-cvrp-100.pt', 'epoch': 'test'}, 'test_episodes': 1000, 'test_batch_size': 1, 'augmentation_enable': True, 'aug_factor': 8, 'aug_batch_size': 1, 'test_data_load': {'enable': False, 'filename': ''}, 'test_set_path': '../../../../../VRP-Omni-modified/Vrp-Set-X/X-n491', 'test_set_opt_sol_path': '../../../../../VRP-Omni-modified/Vrp-Set-A/A-n33-sol', 'test_set_name': 'A-n33'}\n",
      "[2024-04-01 17:13:23] test.py(119) : logger_params{'log_file': {'desc': 'test_cvrp50_pretrained_epochtest', 'filename': 'log.txt', 'filepath': './result/20240401_181321_test_cvrp50_pretrained_epochtest'}}\n",
      "['../../../../../VRP-Omni-modified/Vrp-Set-X/X-n491/X-n491-k59.vrp']\n",
      "pretrained/checkpoint-cvrp-100.pt\n"
     ]
    },
    {
     "name": "stderr",
     "output_type": "stream",
     "text": [
      "/home/xunj/miniconda3/envs/amd/lib/python3.8/site-packages/torch/__init__.py:696: UserWarning: torch.set_default_tensor_type() is deprecated as of PyTorch 2.1, please use torch.set_default_dtype() and torch.set_default_device() as alternatives. (Triggered internally at /opt/conda/conda-bld/pytorch_1708025829503/work/torch/csrc/tensor/python_tensor.cpp:451.)\n",
      "  _C._set_default_tensor_type(t)\n"
     ]
    },
    {
     "name": "stdout",
     "output_type": "stream",
     "text": [
      "torch.Size([8, 1])\n",
      "torch.Size([8, 490])\n",
      "[2024-04-01 17:13:24] CVRPTester.py(144) : episode   1/  1, Elapsed[0.02m], Remain[0.00m], score:86.570, aug_score:84.413\n",
      "[2024-04-01 17:13:24] CVRPTester.py(150) :  *** Test Done *** \n",
      "[2024-04-01 17:13:24] CVRPTester.py(151) :  NO-AUG SCORE: 86.56985473632812 \n",
      "[2024-04-01 17:13:24] CVRPTester.py(152) :  AUGMENTATION SCORE: 84.41334533691406 \n",
      ">> Evaluation on ../../../../../VRP-Omni-modified/Vrp-Set-X/X-n491 finished within 1.09s\n",
      ">> Save final results to res/X-n491\n",
      "Test on \" ../../../../../VRP-Omni-modified/Vrp-Set-X/X-n491 \" Success\n",
      "-----------------------------------------------------------------------------------------------------------------\n",
      "[2024-04-01 17:13:27] test.py(117) : DEBUG_MODE: False\n",
      "[2024-04-01 17:13:27] test.py(118) : USE_CUDA: True, CUDA_DEVICE_NUM: 0\n",
      "[2024-04-01 17:13:27] test.py(119) : env_params{'problem_size': 50, 'pomo_size': 50, 'distribution': {'data_type': 'mixed', 'n_cluster': 3, 'n_cluster_mix': 1, 'lower': 0.2, 'upper': 0.8, 'std': 0.07}, 'load_path': 'data/vrp_uniform50_1000_seed1234.pkl', 'load_raw': None}\n",
      "[2024-04-01 17:13:27] test.py(119) : model_params{'embedding_dim': 64, 'sqrt_embedding_dim': 8.0, 'encoder_layer_num': 6, 'qkv_dim': 8, 'head_num': 8, 'logit_clipping': 10, 'ff_hidden_dim': 512, 'eval_type': 'argmax'}\n",
      "[2024-04-01 17:13:27] test.py(119) : tester_params{'use_cuda': True, 'cuda_device_num': 0, 'model_load': {'path': 'pretrained/checkpoint-cvrp-100.pt', 'epoch': 'test'}, 'test_episodes': 1000, 'test_batch_size': 1, 'augmentation_enable': True, 'aug_factor': 8, 'aug_batch_size': 1, 'test_data_load': {'enable': False, 'filename': ''}, 'test_set_path': '../../../../../VRP-Omni-modified/Vrp-Set-X/X-n502', 'test_set_opt_sol_path': '../../../../../VRP-Omni-modified/Vrp-Set-A/A-n33-sol', 'test_set_name': 'A-n33'}\n",
      "[2024-04-01 17:13:27] test.py(119) : logger_params{'log_file': {'desc': 'test_cvrp50_pretrained_epochtest', 'filename': 'log.txt', 'filepath': './result/20240401_181325_test_cvrp50_pretrained_epochtest'}}\n",
      "['../../../../../VRP-Omni-modified/Vrp-Set-X/X-n502/X-n502-k39.vrp']\n",
      "pretrained/checkpoint-cvrp-100.pt\n"
     ]
    },
    {
     "name": "stderr",
     "output_type": "stream",
     "text": [
      "/home/xunj/miniconda3/envs/amd/lib/python3.8/site-packages/torch/__init__.py:696: UserWarning: torch.set_default_tensor_type() is deprecated as of PyTorch 2.1, please use torch.set_default_dtype() and torch.set_default_device() as alternatives. (Triggered internally at /opt/conda/conda-bld/pytorch_1708025829503/work/torch/csrc/tensor/python_tensor.cpp:451.)\n",
      "  _C._set_default_tensor_type(t)\n"
     ]
    },
    {
     "name": "stdout",
     "output_type": "stream",
     "text": [
      "torch.Size([8, 1])\n",
      "torch.Size([8, 501])\n",
      "[2024-04-01 17:13:29] CVRPTester.py(144) : episode   1/  1, Elapsed[0.02m], Remain[0.00m], score:84.890, aug_score:76.452\n",
      "[2024-04-01 17:13:29] CVRPTester.py(150) :  *** Test Done *** \n",
      "[2024-04-01 17:13:29] CVRPTester.py(151) :  NO-AUG SCORE: 84.89041137695312 \n",
      "[2024-04-01 17:13:29] CVRPTester.py(152) :  AUGMENTATION SCORE: 76.45233154296875 \n",
      ">> Evaluation on ../../../../../VRP-Omni-modified/Vrp-Set-X/X-n502 finished within 1.11s\n",
      ">> Save final results to res/X-n502\n",
      "Test on \" ../../../../../VRP-Omni-modified/Vrp-Set-X/X-n502 \" Success\n",
      "-----------------------------------------------------------------------------------------------------------------\n",
      "[2024-04-01 17:13:32] test.py(117) : DEBUG_MODE: False\n",
      "[2024-04-01 17:13:32] test.py(118) : USE_CUDA: True, CUDA_DEVICE_NUM: 0\n",
      "[2024-04-01 17:13:32] test.py(119) : env_params{'problem_size': 50, 'pomo_size': 50, 'distribution': {'data_type': 'mixed', 'n_cluster': 3, 'n_cluster_mix': 1, 'lower': 0.2, 'upper': 0.8, 'std': 0.07}, 'load_path': 'data/vrp_uniform50_1000_seed1234.pkl', 'load_raw': None}\n",
      "[2024-04-01 17:13:32] test.py(119) : model_params{'embedding_dim': 64, 'sqrt_embedding_dim': 8.0, 'encoder_layer_num': 6, 'qkv_dim': 8, 'head_num': 8, 'logit_clipping': 10, 'ff_hidden_dim': 512, 'eval_type': 'argmax'}\n",
      "[2024-04-01 17:13:32] test.py(119) : tester_params{'use_cuda': True, 'cuda_device_num': 0, 'model_load': {'path': 'pretrained/checkpoint-cvrp-100.pt', 'epoch': 'test'}, 'test_episodes': 1000, 'test_batch_size': 1, 'augmentation_enable': True, 'aug_factor': 8, 'aug_batch_size': 1, 'test_data_load': {'enable': False, 'filename': ''}, 'test_set_path': '../../../../../VRP-Omni-modified/Vrp-Set-X/X-n513', 'test_set_opt_sol_path': '../../../../../VRP-Omni-modified/Vrp-Set-A/A-n33-sol', 'test_set_name': 'A-n33'}\n",
      "[2024-04-01 17:13:32] test.py(119) : logger_params{'log_file': {'desc': 'test_cvrp50_pretrained_epochtest', 'filename': 'log.txt', 'filepath': './result/20240401_181330_test_cvrp50_pretrained_epochtest'}}\n",
      "['../../../../../VRP-Omni-modified/Vrp-Set-X/X-n513/X-n513-k21.vrp']\n",
      "pretrained/checkpoint-cvrp-100.pt\n"
     ]
    },
    {
     "name": "stderr",
     "output_type": "stream",
     "text": [
      "/home/xunj/miniconda3/envs/amd/lib/python3.8/site-packages/torch/__init__.py:696: UserWarning: torch.set_default_tensor_type() is deprecated as of PyTorch 2.1, please use torch.set_default_dtype() and torch.set_default_device() as alternatives. (Triggered internally at /opt/conda/conda-bld/pytorch_1708025829503/work/torch/csrc/tensor/python_tensor.cpp:451.)\n",
      "  _C._set_default_tensor_type(t)\n"
     ]
    },
    {
     "name": "stdout",
     "output_type": "stream",
     "text": [
      "torch.Size([8, 1])\n",
      "torch.Size([8, 512])\n",
      "[2024-04-01 17:13:33] CVRPTester.py(144) : episode   1/  1, Elapsed[0.02m], Remain[0.00m], score:40.432, aug_score:38.162\n",
      "[2024-04-01 17:13:33] CVRPTester.py(150) :  *** Test Done *** \n",
      "[2024-04-01 17:13:33] CVRPTester.py(151) :  NO-AUG SCORE: 40.4315185546875 \n",
      "[2024-04-01 17:13:33] CVRPTester.py(152) :  AUGMENTATION SCORE: 38.16164779663086 \n",
      ">> Evaluation on ../../../../../VRP-Omni-modified/Vrp-Set-X/X-n513 finished within 1.13s\n",
      ">> Save final results to res/X-n513\n",
      "Test on \" ../../../../../VRP-Omni-modified/Vrp-Set-X/X-n513 \" Success\n",
      "-----------------------------------------------------------------------------------------------------------------\n",
      "[2024-04-01 17:13:37] test.py(117) : DEBUG_MODE: False\n",
      "[2024-04-01 17:13:37] test.py(118) : USE_CUDA: True, CUDA_DEVICE_NUM: 0\n",
      "[2024-04-01 17:13:37] test.py(119) : env_params{'problem_size': 50, 'pomo_size': 50, 'distribution': {'data_type': 'mixed', 'n_cluster': 3, 'n_cluster_mix': 1, 'lower': 0.2, 'upper': 0.8, 'std': 0.07}, 'load_path': 'data/vrp_uniform50_1000_seed1234.pkl', 'load_raw': None}\n",
      "[2024-04-01 17:13:37] test.py(119) : model_params{'embedding_dim': 64, 'sqrt_embedding_dim': 8.0, 'encoder_layer_num': 6, 'qkv_dim': 8, 'head_num': 8, 'logit_clipping': 10, 'ff_hidden_dim': 512, 'eval_type': 'argmax'}\n",
      "[2024-04-01 17:13:37] test.py(119) : tester_params{'use_cuda': True, 'cuda_device_num': 0, 'model_load': {'path': 'pretrained/checkpoint-cvrp-100.pt', 'epoch': 'test'}, 'test_episodes': 1000, 'test_batch_size': 1, 'augmentation_enable': True, 'aug_factor': 8, 'aug_batch_size': 1, 'test_data_load': {'enable': False, 'filename': ''}, 'test_set_path': '../../../../../VRP-Omni-modified/Vrp-Set-X/X-n524', 'test_set_opt_sol_path': '../../../../../VRP-Omni-modified/Vrp-Set-A/A-n33-sol', 'test_set_name': 'A-n33'}\n",
      "[2024-04-01 17:13:37] test.py(119) : logger_params{'log_file': {'desc': 'test_cvrp50_pretrained_epochtest', 'filename': 'log.txt', 'filepath': './result/20240401_181335_test_cvrp50_pretrained_epochtest'}}\n",
      "['../../../../../VRP-Omni-modified/Vrp-Set-X/X-n524/X-n524-k153.vrp']\n",
      "pretrained/checkpoint-cvrp-100.pt\n"
     ]
    },
    {
     "name": "stderr",
     "output_type": "stream",
     "text": [
      "/home/xunj/miniconda3/envs/amd/lib/python3.8/site-packages/torch/__init__.py:696: UserWarning: torch.set_default_tensor_type() is deprecated as of PyTorch 2.1, please use torch.set_default_dtype() and torch.set_default_device() as alternatives. (Triggered internally at /opt/conda/conda-bld/pytorch_1708025829503/work/torch/csrc/tensor/python_tensor.cpp:451.)\n",
      "  _C._set_default_tensor_type(t)\n"
     ]
    },
    {
     "name": "stdout",
     "output_type": "stream",
     "text": [
      "torch.Size([8, 1])\n",
      "torch.Size([8, 523])\n",
      "[2024-04-01 17:13:39] CVRPTester.py(144) : episode   1/  1, Elapsed[0.02m], Remain[0.00m], score:196.982, aug_score:194.400\n",
      "[2024-04-01 17:13:39] CVRPTester.py(150) :  *** Test Done *** \n",
      "[2024-04-01 17:13:39] CVRPTester.py(151) :  NO-AUG SCORE: 196.98165893554688 \n",
      "[2024-04-01 17:13:39] CVRPTester.py(152) :  AUGMENTATION SCORE: 194.40020751953125 \n",
      ">> Evaluation on ../../../../../VRP-Omni-modified/Vrp-Set-X/X-n524 finished within 1.39s\n",
      ">> Save final results to res/X-n524\n",
      "Test on \" ../../../../../VRP-Omni-modified/Vrp-Set-X/X-n524 \" Success\n",
      "-----------------------------------------------------------------------------------------------------------------\n",
      "[2024-04-01 17:13:42] test.py(117) : DEBUG_MODE: False\n",
      "[2024-04-01 17:13:42] test.py(118) : USE_CUDA: True, CUDA_DEVICE_NUM: 0\n",
      "[2024-04-01 17:13:42] test.py(119) : env_params{'problem_size': 50, 'pomo_size': 50, 'distribution': {'data_type': 'mixed', 'n_cluster': 3, 'n_cluster_mix': 1, 'lower': 0.2, 'upper': 0.8, 'std': 0.07}, 'load_path': 'data/vrp_uniform50_1000_seed1234.pkl', 'load_raw': None}\n",
      "[2024-04-01 17:13:42] test.py(119) : model_params{'embedding_dim': 64, 'sqrt_embedding_dim': 8.0, 'encoder_layer_num': 6, 'qkv_dim': 8, 'head_num': 8, 'logit_clipping': 10, 'ff_hidden_dim': 512, 'eval_type': 'argmax'}\n",
      "[2024-04-01 17:13:42] test.py(119) : tester_params{'use_cuda': True, 'cuda_device_num': 0, 'model_load': {'path': 'pretrained/checkpoint-cvrp-100.pt', 'epoch': 'test'}, 'test_episodes': 1000, 'test_batch_size': 1, 'augmentation_enable': True, 'aug_factor': 8, 'aug_batch_size': 1, 'test_data_load': {'enable': False, 'filename': ''}, 'test_set_path': '../../../../../VRP-Omni-modified/Vrp-Set-X/X-n536', 'test_set_opt_sol_path': '../../../../../VRP-Omni-modified/Vrp-Set-A/A-n33-sol', 'test_set_name': 'A-n33'}\n",
      "[2024-04-01 17:13:42] test.py(119) : logger_params{'log_file': {'desc': 'test_cvrp50_pretrained_epochtest', 'filename': 'log.txt', 'filepath': './result/20240401_181340_test_cvrp50_pretrained_epochtest'}}\n",
      "['../../../../../VRP-Omni-modified/Vrp-Set-X/X-n536/X-n536-k96.vrp']\n"
     ]
    },
    {
     "name": "stderr",
     "output_type": "stream",
     "text": [
      "/home/xunj/miniconda3/envs/amd/lib/python3.8/site-packages/torch/__init__.py:696: UserWarning: torch.set_default_tensor_type() is deprecated as of PyTorch 2.1, please use torch.set_default_dtype() and torch.set_default_device() as alternatives. (Triggered internally at /opt/conda/conda-bld/pytorch_1708025829503/work/torch/csrc/tensor/python_tensor.cpp:451.)\n",
      "  _C._set_default_tensor_type(t)\n"
     ]
    },
    {
     "name": "stdout",
     "output_type": "stream",
     "text": [
      "pretrained/checkpoint-cvrp-100.pt\n",
      "torch.Size([8, 1])\n",
      "torch.Size([8, 535])\n",
      "[2024-04-01 17:13:44] CVRPTester.py(144) : episode   1/  1, Elapsed[0.02m], Remain[0.00m], score:118.629, aug_score:115.675\n",
      "[2024-04-01 17:13:44] CVRPTester.py(150) :  *** Test Done *** \n",
      "[2024-04-01 17:13:44] CVRPTester.py(151) :  NO-AUG SCORE: 118.62933349609375 \n",
      "[2024-04-01 17:13:44] CVRPTester.py(152) :  AUGMENTATION SCORE: 115.67533111572266 \n",
      ">> Evaluation on ../../../../../VRP-Omni-modified/Vrp-Set-X/X-n536 finished within 1.31s\n",
      ">> Save final results to res/X-n536\n",
      "Test on \" ../../../../../VRP-Omni-modified/Vrp-Set-X/X-n536 \" Success\n",
      "-----------------------------------------------------------------------------------------------------------------\n",
      "[2024-04-01 17:13:47] test.py(117) : DEBUG_MODE: False\n",
      "[2024-04-01 17:13:47] test.py(118) : USE_CUDA: True, CUDA_DEVICE_NUM: 0\n",
      "[2024-04-01 17:13:47] test.py(119) : env_params{'problem_size': 50, 'pomo_size': 50, 'distribution': {'data_type': 'mixed', 'n_cluster': 3, 'n_cluster_mix': 1, 'lower': 0.2, 'upper': 0.8, 'std': 0.07}, 'load_path': 'data/vrp_uniform50_1000_seed1234.pkl', 'load_raw': None}\n",
      "[2024-04-01 17:13:47] test.py(119) : model_params{'embedding_dim': 64, 'sqrt_embedding_dim': 8.0, 'encoder_layer_num': 6, 'qkv_dim': 8, 'head_num': 8, 'logit_clipping': 10, 'ff_hidden_dim': 512, 'eval_type': 'argmax'}\n",
      "[2024-04-01 17:13:47] test.py(119) : tester_params{'use_cuda': True, 'cuda_device_num': 0, 'model_load': {'path': 'pretrained/checkpoint-cvrp-100.pt', 'epoch': 'test'}, 'test_episodes': 1000, 'test_batch_size': 1, 'augmentation_enable': True, 'aug_factor': 8, 'aug_batch_size': 1, 'test_data_load': {'enable': False, 'filename': ''}, 'test_set_path': '../../../../../VRP-Omni-modified/Vrp-Set-X/X-n548', 'test_set_opt_sol_path': '../../../../../VRP-Omni-modified/Vrp-Set-A/A-n33-sol', 'test_set_name': 'A-n33'}\n",
      "[2024-04-01 17:13:47] test.py(119) : logger_params{'log_file': {'desc': 'test_cvrp50_pretrained_epochtest', 'filename': 'log.txt', 'filepath': './result/20240401_181345_test_cvrp50_pretrained_epochtest'}}\n",
      "['../../../../../VRP-Omni-modified/Vrp-Set-X/X-n548/X-n548-k50.vrp']\n",
      "pretrained/checkpoint-cvrp-100.pt\n"
     ]
    },
    {
     "name": "stderr",
     "output_type": "stream",
     "text": [
      "/home/xunj/miniconda3/envs/amd/lib/python3.8/site-packages/torch/__init__.py:696: UserWarning: torch.set_default_tensor_type() is deprecated as of PyTorch 2.1, please use torch.set_default_dtype() and torch.set_default_device() as alternatives. (Triggered internally at /opt/conda/conda-bld/pytorch_1708025829503/work/torch/csrc/tensor/python_tensor.cpp:451.)\n",
      "  _C._set_default_tensor_type(t)\n"
     ]
    },
    {
     "name": "stdout",
     "output_type": "stream",
     "text": [
      "torch.Size([8, 1])\n",
      "torch.Size([8, 547])\n",
      "[2024-04-01 17:13:49] CVRPTester.py(144) : episode   1/  1, Elapsed[0.02m], Remain[0.00m], score:124.429, aug_score:111.740\n",
      "[2024-04-01 17:13:49] CVRPTester.py(150) :  *** Test Done *** \n",
      "[2024-04-01 17:13:49] CVRPTester.py(151) :  NO-AUG SCORE: 124.42923736572266 \n",
      "[2024-04-01 17:13:49] CVRPTester.py(152) :  AUGMENTATION SCORE: 111.740478515625 \n",
      ">> Evaluation on ../../../../../VRP-Omni-modified/Vrp-Set-X/X-n548 finished within 1.29s\n",
      ">> Save final results to res/X-n548\n",
      "Test on \" ../../../../../VRP-Omni-modified/Vrp-Set-X/X-n548 \" Success\n",
      "-----------------------------------------------------------------------------------------------------------------\n",
      "[2024-04-01 17:13:52] test.py(117) : DEBUG_MODE: False\n",
      "[2024-04-01 17:13:52] test.py(118) : USE_CUDA: True, CUDA_DEVICE_NUM: 0\n",
      "[2024-04-01 17:13:52] test.py(119) : env_params{'problem_size': 50, 'pomo_size': 50, 'distribution': {'data_type': 'mixed', 'n_cluster': 3, 'n_cluster_mix': 1, 'lower': 0.2, 'upper': 0.8, 'std': 0.07}, 'load_path': 'data/vrp_uniform50_1000_seed1234.pkl', 'load_raw': None}\n",
      "[2024-04-01 17:13:52] test.py(119) : model_params{'embedding_dim': 64, 'sqrt_embedding_dim': 8.0, 'encoder_layer_num': 6, 'qkv_dim': 8, 'head_num': 8, 'logit_clipping': 10, 'ff_hidden_dim': 512, 'eval_type': 'argmax'}\n",
      "[2024-04-01 17:13:52] test.py(119) : tester_params{'use_cuda': True, 'cuda_device_num': 0, 'model_load': {'path': 'pretrained/checkpoint-cvrp-100.pt', 'epoch': 'test'}, 'test_episodes': 1000, 'test_batch_size': 1, 'augmentation_enable': True, 'aug_factor': 8, 'aug_batch_size': 1, 'test_data_load': {'enable': False, 'filename': ''}, 'test_set_path': '../../../../../VRP-Omni-modified/Vrp-Set-X/X-n561', 'test_set_opt_sol_path': '../../../../../VRP-Omni-modified/Vrp-Set-A/A-n33-sol', 'test_set_name': 'A-n33'}\n",
      "[2024-04-01 17:13:52] test.py(119) : logger_params{'log_file': {'desc': 'test_cvrp50_pretrained_epochtest', 'filename': 'log.txt', 'filepath': './result/20240401_181350_test_cvrp50_pretrained_epochtest'}}\n",
      "['../../../../../VRP-Omni-modified/Vrp-Set-X/X-n561/X-n561-k42.vrp']\n",
      "pretrained/checkpoint-cvrp-100.pt\n"
     ]
    },
    {
     "name": "stderr",
     "output_type": "stream",
     "text": [
      "/home/xunj/miniconda3/envs/amd/lib/python3.8/site-packages/torch/__init__.py:696: UserWarning: torch.set_default_tensor_type() is deprecated as of PyTorch 2.1, please use torch.set_default_dtype() and torch.set_default_device() as alternatives. (Triggered internally at /opt/conda/conda-bld/pytorch_1708025829503/work/torch/csrc/tensor/python_tensor.cpp:451.)\n",
      "  _C._set_default_tensor_type(t)\n"
     ]
    },
    {
     "name": "stdout",
     "output_type": "stream",
     "text": [
      "torch.Size([8, 1])\n",
      "torch.Size([8, 560])\n",
      "[2024-04-01 17:13:54] CVRPTester.py(144) : episode   1/  1, Elapsed[0.02m], Remain[0.00m], score:64.151, aug_score:61.549\n",
      "[2024-04-01 17:13:54] CVRPTester.py(150) :  *** Test Done *** \n",
      "[2024-04-01 17:13:54] CVRPTester.py(151) :  NO-AUG SCORE: 64.15129089355469 \n",
      "[2024-04-01 17:13:54] CVRPTester.py(152) :  AUGMENTATION SCORE: 61.54871368408203 \n",
      ">> Evaluation on ../../../../../VRP-Omni-modified/Vrp-Set-X/X-n561 finished within 1.33s\n",
      ">> Save final results to res/X-n561\n",
      "Test on \" ../../../../../VRP-Omni-modified/Vrp-Set-X/X-n561 \" Success\n",
      "-----------------------------------------------------------------------------------------------------------------\n",
      "[2024-04-01 17:13:57] test.py(117) : DEBUG_MODE: False\n",
      "[2024-04-01 17:13:57] test.py(118) : USE_CUDA: True, CUDA_DEVICE_NUM: 0\n",
      "[2024-04-01 17:13:57] test.py(119) : env_params{'problem_size': 50, 'pomo_size': 50, 'distribution': {'data_type': 'mixed', 'n_cluster': 3, 'n_cluster_mix': 1, 'lower': 0.2, 'upper': 0.8, 'std': 0.07}, 'load_path': 'data/vrp_uniform50_1000_seed1234.pkl', 'load_raw': None}\n",
      "[2024-04-01 17:13:57] test.py(119) : model_params{'embedding_dim': 64, 'sqrt_embedding_dim': 8.0, 'encoder_layer_num': 6, 'qkv_dim': 8, 'head_num': 8, 'logit_clipping': 10, 'ff_hidden_dim': 512, 'eval_type': 'argmax'}\n",
      "[2024-04-01 17:13:57] test.py(119) : tester_params{'use_cuda': True, 'cuda_device_num': 0, 'model_load': {'path': 'pretrained/checkpoint-cvrp-100.pt', 'epoch': 'test'}, 'test_episodes': 1000, 'test_batch_size': 1, 'augmentation_enable': True, 'aug_factor': 8, 'aug_batch_size': 1, 'test_data_load': {'enable': False, 'filename': ''}, 'test_set_path': '../../../../../VRP-Omni-modified/Vrp-Set-X/X-n573', 'test_set_opt_sol_path': '../../../../../VRP-Omni-modified/Vrp-Set-A/A-n33-sol', 'test_set_name': 'A-n33'}\n",
      "[2024-04-01 17:13:57] test.py(119) : logger_params{'log_file': {'desc': 'test_cvrp50_pretrained_epochtest', 'filename': 'log.txt', 'filepath': './result/20240401_181355_test_cvrp50_pretrained_epochtest'}}\n",
      "['../../../../../VRP-Omni-modified/Vrp-Set-X/X-n573/X-n573-k30.vrp']\n",
      "pretrained/checkpoint-cvrp-100.pt\n"
     ]
    },
    {
     "name": "stderr",
     "output_type": "stream",
     "text": [
      "/home/xunj/miniconda3/envs/amd/lib/python3.8/site-packages/torch/__init__.py:696: UserWarning: torch.set_default_tensor_type() is deprecated as of PyTorch 2.1, please use torch.set_default_dtype() and torch.set_default_device() as alternatives. (Triggered internally at /opt/conda/conda-bld/pytorch_1708025829503/work/torch/csrc/tensor/python_tensor.cpp:451.)\n",
      "  _C._set_default_tensor_type(t)\n"
     ]
    },
    {
     "name": "stdout",
     "output_type": "stream",
     "text": [
      "torch.Size([8, 1])\n",
      "torch.Size([8, 572])\n",
      "[2024-04-01 17:13:59] CVRPTester.py(144) : episode   1/  1, Elapsed[0.02m], Remain[0.00m], score:60.477, aug_score:55.809\n",
      "[2024-04-01 17:13:59] CVRPTester.py(150) :  *** Test Done *** \n",
      "[2024-04-01 17:13:59] CVRPTester.py(151) :  NO-AUG SCORE: 60.47678756713867 \n",
      "[2024-04-01 17:13:59] CVRPTester.py(152) :  AUGMENTATION SCORE: 55.80891799926758 \n",
      ">> Evaluation on ../../../../../VRP-Omni-modified/Vrp-Set-X/X-n573 finished within 1.36s\n",
      ">> Save final results to res/X-n573\n",
      "Test on \" ../../../../../VRP-Omni-modified/Vrp-Set-X/X-n573 \" Success\n",
      "-----------------------------------------------------------------------------------------------------------------\n",
      "[2024-04-01 17:14:02] test.py(117) : DEBUG_MODE: False\n",
      "[2024-04-01 17:14:02] test.py(118) : USE_CUDA: True, CUDA_DEVICE_NUM: 0\n",
      "[2024-04-01 17:14:02] test.py(119) : env_params{'problem_size': 50, 'pomo_size': 50, 'distribution': {'data_type': 'mixed', 'n_cluster': 3, 'n_cluster_mix': 1, 'lower': 0.2, 'upper': 0.8, 'std': 0.07}, 'load_path': 'data/vrp_uniform50_1000_seed1234.pkl', 'load_raw': None}\n",
      "[2024-04-01 17:14:02] test.py(119) : model_params{'embedding_dim': 64, 'sqrt_embedding_dim': 8.0, 'encoder_layer_num': 6, 'qkv_dim': 8, 'head_num': 8, 'logit_clipping': 10, 'ff_hidden_dim': 512, 'eval_type': 'argmax'}\n",
      "[2024-04-01 17:14:02] test.py(119) : tester_params{'use_cuda': True, 'cuda_device_num': 0, 'model_load': {'path': 'pretrained/checkpoint-cvrp-100.pt', 'epoch': 'test'}, 'test_episodes': 1000, 'test_batch_size': 1, 'augmentation_enable': True, 'aug_factor': 8, 'aug_batch_size': 1, 'test_data_load': {'enable': False, 'filename': ''}, 'test_set_path': '../../../../../VRP-Omni-modified/Vrp-Set-X/X-n586', 'test_set_opt_sol_path': '../../../../../VRP-Omni-modified/Vrp-Set-A/A-n33-sol', 'test_set_name': 'A-n33'}\n",
      "[2024-04-01 17:14:02] test.py(119) : logger_params{'log_file': {'desc': 'test_cvrp50_pretrained_epochtest', 'filename': 'log.txt', 'filepath': './result/20240401_181400_test_cvrp50_pretrained_epochtest'}}\n",
      "['../../../../../VRP-Omni-modified/Vrp-Set-X/X-n586/X-n586-k159.vrp']\n",
      "pretrained/checkpoint-cvrp-100.pt\n"
     ]
    },
    {
     "name": "stderr",
     "output_type": "stream",
     "text": [
      "/home/xunj/miniconda3/envs/amd/lib/python3.8/site-packages/torch/__init__.py:696: UserWarning: torch.set_default_tensor_type() is deprecated as of PyTorch 2.1, please use torch.set_default_dtype() and torch.set_default_device() as alternatives. (Triggered internally at /opt/conda/conda-bld/pytorch_1708025829503/work/torch/csrc/tensor/python_tensor.cpp:451.)\n",
      "  _C._set_default_tensor_type(t)\n"
     ]
    },
    {
     "name": "stdout",
     "output_type": "stream",
     "text": [
      "torch.Size([8, 1])\n",
      "torch.Size([8, 585])\n",
      "[2024-04-01 17:14:04] CVRPTester.py(144) : episode   1/  1, Elapsed[0.03m], Remain[0.00m], score:243.202, aug_score:229.203\n",
      "[2024-04-01 17:14:04] CVRPTester.py(150) :  *** Test Done *** \n",
      "[2024-04-01 17:14:04] CVRPTester.py(151) :  NO-AUG SCORE: 243.20228576660156 \n",
      "[2024-04-01 17:14:04] CVRPTester.py(152) :  AUGMENTATION SCORE: 229.20266723632812 \n",
      ">> Evaluation on ../../../../../VRP-Omni-modified/Vrp-Set-X/X-n586 finished within 1.66s\n",
      ">> Save final results to res/X-n586\n",
      "Test on \" ../../../../../VRP-Omni-modified/Vrp-Set-X/X-n586 \" Success\n",
      "-----------------------------------------------------------------------------------------------------------------\n",
      "[2024-04-01 17:14:08] test.py(117) : DEBUG_MODE: False\n",
      "[2024-04-01 17:14:08] test.py(118) : USE_CUDA: True, CUDA_DEVICE_NUM: 0\n",
      "[2024-04-01 17:14:08] test.py(119) : env_params{'problem_size': 50, 'pomo_size': 50, 'distribution': {'data_type': 'mixed', 'n_cluster': 3, 'n_cluster_mix': 1, 'lower': 0.2, 'upper': 0.8, 'std': 0.07}, 'load_path': 'data/vrp_uniform50_1000_seed1234.pkl', 'load_raw': None}\n",
      "[2024-04-01 17:14:08] test.py(119) : model_params{'embedding_dim': 64, 'sqrt_embedding_dim': 8.0, 'encoder_layer_num': 6, 'qkv_dim': 8, 'head_num': 8, 'logit_clipping': 10, 'ff_hidden_dim': 512, 'eval_type': 'argmax'}\n",
      "[2024-04-01 17:14:08] test.py(119) : tester_params{'use_cuda': True, 'cuda_device_num': 0, 'model_load': {'path': 'pretrained/checkpoint-cvrp-100.pt', 'epoch': 'test'}, 'test_episodes': 1000, 'test_batch_size': 1, 'augmentation_enable': True, 'aug_factor': 8, 'aug_batch_size': 1, 'test_data_load': {'enable': False, 'filename': ''}, 'test_set_path': '../../../../../VRP-Omni-modified/Vrp-Set-X/X-n599', 'test_set_opt_sol_path': '../../../../../VRP-Omni-modified/Vrp-Set-A/A-n33-sol', 'test_set_name': 'A-n33'}\n",
      "[2024-04-01 17:14:08] test.py(119) : logger_params{'log_file': {'desc': 'test_cvrp50_pretrained_epochtest', 'filename': 'log.txt', 'filepath': './result/20240401_181406_test_cvrp50_pretrained_epochtest'}}\n",
      "['../../../../../VRP-Omni-modified/Vrp-Set-X/X-n599/X-n599-k92.vrp']\n",
      "pretrained/checkpoint-cvrp-100.pt\n"
     ]
    },
    {
     "name": "stderr",
     "output_type": "stream",
     "text": [
      "/home/xunj/miniconda3/envs/amd/lib/python3.8/site-packages/torch/__init__.py:696: UserWarning: torch.set_default_tensor_type() is deprecated as of PyTorch 2.1, please use torch.set_default_dtype() and torch.set_default_device() as alternatives. (Triggered internally at /opt/conda/conda-bld/pytorch_1708025829503/work/torch/csrc/tensor/python_tensor.cpp:451.)\n",
      "  _C._set_default_tensor_type(t)\n"
     ]
    },
    {
     "name": "stdout",
     "output_type": "stream",
     "text": [
      "torch.Size([8, 1])\n",
      "torch.Size([8, 598])\n",
      "[2024-04-01 17:14:10] CVRPTester.py(144) : episode   1/  1, Elapsed[0.03m], Remain[0.00m], score:139.615, aug_score:137.345\n",
      "[2024-04-01 17:14:10] CVRPTester.py(150) :  *** Test Done *** \n",
      "[2024-04-01 17:14:10] CVRPTester.py(151) :  NO-AUG SCORE: 139.61526489257812 \n",
      "[2024-04-01 17:14:10] CVRPTester.py(152) :  AUGMENTATION SCORE: 137.34481811523438 \n",
      ">> Evaluation on ../../../../../VRP-Omni-modified/Vrp-Set-X/X-n599 finished within 1.61s\n",
      ">> Save final results to res/X-n599\n",
      "Test on \" ../../../../../VRP-Omni-modified/Vrp-Set-X/X-n599 \" Success\n",
      "-----------------------------------------------------------------------------------------------------------------\n",
      "[2024-04-01 17:14:13] test.py(117) : DEBUG_MODE: False\n",
      "[2024-04-01 17:14:13] test.py(118) : USE_CUDA: True, CUDA_DEVICE_NUM: 0\n",
      "[2024-04-01 17:14:13] test.py(119) : env_params{'problem_size': 50, 'pomo_size': 50, 'distribution': {'data_type': 'mixed', 'n_cluster': 3, 'n_cluster_mix': 1, 'lower': 0.2, 'upper': 0.8, 'std': 0.07}, 'load_path': 'data/vrp_uniform50_1000_seed1234.pkl', 'load_raw': None}\n",
      "[2024-04-01 17:14:13] test.py(119) : model_params{'embedding_dim': 64, 'sqrt_embedding_dim': 8.0, 'encoder_layer_num': 6, 'qkv_dim': 8, 'head_num': 8, 'logit_clipping': 10, 'ff_hidden_dim': 512, 'eval_type': 'argmax'}\n",
      "[2024-04-01 17:14:13] test.py(119) : tester_params{'use_cuda': True, 'cuda_device_num': 0, 'model_load': {'path': 'pretrained/checkpoint-cvrp-100.pt', 'epoch': 'test'}, 'test_episodes': 1000, 'test_batch_size': 1, 'augmentation_enable': True, 'aug_factor': 8, 'aug_batch_size': 1, 'test_data_load': {'enable': False, 'filename': ''}, 'test_set_path': '../../../../../VRP-Omni-modified/Vrp-Set-X/X-n613', 'test_set_opt_sol_path': '../../../../../VRP-Omni-modified/Vrp-Set-A/A-n33-sol', 'test_set_name': 'A-n33'}\n",
      "[2024-04-01 17:14:13] test.py(119) : logger_params{'log_file': {'desc': 'test_cvrp50_pretrained_epochtest', 'filename': 'log.txt', 'filepath': './result/20240401_181411_test_cvrp50_pretrained_epochtest'}}\n",
      "['../../../../../VRP-Omni-modified/Vrp-Set-X/X-n613/X-n613-k62.vrp']\n",
      "pretrained/checkpoint-cvrp-100.pt\n"
     ]
    },
    {
     "name": "stderr",
     "output_type": "stream",
     "text": [
      "/home/xunj/miniconda3/envs/amd/lib/python3.8/site-packages/torch/__init__.py:696: UserWarning: torch.set_default_tensor_type() is deprecated as of PyTorch 2.1, please use torch.set_default_dtype() and torch.set_default_device() as alternatives. (Triggered internally at /opt/conda/conda-bld/pytorch_1708025829503/work/torch/csrc/tensor/python_tensor.cpp:451.)\n",
      "  _C._set_default_tensor_type(t)\n"
     ]
    },
    {
     "name": "stdout",
     "output_type": "stream",
     "text": [
      "torch.Size([8, 1])\n",
      "torch.Size([8, 612])\n",
      "[2024-04-01 17:14:15] CVRPTester.py(144) : episode   1/  1, Elapsed[0.03m], Remain[0.00m], score:95.131, aug_score:91.012\n",
      "[2024-04-01 17:14:15] CVRPTester.py(150) :  *** Test Done *** \n",
      "[2024-04-01 17:14:15] CVRPTester.py(151) :  NO-AUG SCORE: 95.1305160522461 \n",
      "[2024-04-01 17:14:15] CVRPTester.py(152) :  AUGMENTATION SCORE: 91.01173400878906 \n",
      ">> Evaluation on ../../../../../VRP-Omni-modified/Vrp-Set-X/X-n613 finished within 1.61s\n",
      ">> Save final results to res/X-n613\n",
      "Test on \" ../../../../../VRP-Omni-modified/Vrp-Set-X/X-n613 \" Success\n",
      "-----------------------------------------------------------------------------------------------------------------\n",
      "[2024-04-01 17:14:18] test.py(117) : DEBUG_MODE: False\n",
      "[2024-04-01 17:14:18] test.py(118) : USE_CUDA: True, CUDA_DEVICE_NUM: 0\n",
      "[2024-04-01 17:14:18] test.py(119) : env_params{'problem_size': 50, 'pomo_size': 50, 'distribution': {'data_type': 'mixed', 'n_cluster': 3, 'n_cluster_mix': 1, 'lower': 0.2, 'upper': 0.8, 'std': 0.07}, 'load_path': 'data/vrp_uniform50_1000_seed1234.pkl', 'load_raw': None}\n",
      "[2024-04-01 17:14:18] test.py(119) : model_params{'embedding_dim': 64, 'sqrt_embedding_dim': 8.0, 'encoder_layer_num': 6, 'qkv_dim': 8, 'head_num': 8, 'logit_clipping': 10, 'ff_hidden_dim': 512, 'eval_type': 'argmax'}\n",
      "[2024-04-01 17:14:18] test.py(119) : tester_params{'use_cuda': True, 'cuda_device_num': 0, 'model_load': {'path': 'pretrained/checkpoint-cvrp-100.pt', 'epoch': 'test'}, 'test_episodes': 1000, 'test_batch_size': 1, 'augmentation_enable': True, 'aug_factor': 8, 'aug_batch_size': 1, 'test_data_load': {'enable': False, 'filename': ''}, 'test_set_path': '../../../../../VRP-Omni-modified/Vrp-Set-X/X-n627', 'test_set_opt_sol_path': '../../../../../VRP-Omni-modified/Vrp-Set-A/A-n33-sol', 'test_set_name': 'A-n33'}\n",
      "[2024-04-01 17:14:18] test.py(119) : logger_params{'log_file': {'desc': 'test_cvrp50_pretrained_epochtest', 'filename': 'log.txt', 'filepath': './result/20240401_181417_test_cvrp50_pretrained_epochtest'}}\n",
      "['../../../../../VRP-Omni-modified/Vrp-Set-X/X-n627/X-n627-k43.vrp']\n",
      "pretrained/checkpoint-cvrp-100.pt\n"
     ]
    },
    {
     "name": "stderr",
     "output_type": "stream",
     "text": [
      "/home/xunj/miniconda3/envs/amd/lib/python3.8/site-packages/torch/__init__.py:696: UserWarning: torch.set_default_tensor_type() is deprecated as of PyTorch 2.1, please use torch.set_default_dtype() and torch.set_default_device() as alternatives. (Triggered internally at /opt/conda/conda-bld/pytorch_1708025829503/work/torch/csrc/tensor/python_tensor.cpp:451.)\n",
      "  _C._set_default_tensor_type(t)\n"
     ]
    },
    {
     "name": "stdout",
     "output_type": "stream",
     "text": [
      "torch.Size([8, 1])\n",
      "torch.Size([8, 626])\n",
      "[2024-04-01 17:14:20] CVRPTester.py(144) : episode   1/  1, Elapsed[0.03m], Remain[0.00m], score:86.771, aug_score:85.555\n",
      "[2024-04-01 17:14:20] CVRPTester.py(150) :  *** Test Done *** \n",
      "[2024-04-01 17:14:20] CVRPTester.py(151) :  NO-AUG SCORE: 86.77114868164062 \n",
      "[2024-04-01 17:14:20] CVRPTester.py(152) :  AUGMENTATION SCORE: 85.55451965332031 \n",
      ">> Evaluation on ../../../../../VRP-Omni-modified/Vrp-Set-X/X-n627 finished within 1.64s\n",
      ">> Save final results to res/X-n627\n",
      "Test on \" ../../../../../VRP-Omni-modified/Vrp-Set-X/X-n627 \" Success\n",
      "-----------------------------------------------------------------------------------------------------------------\n",
      "[2024-04-01 17:14:23] test.py(117) : DEBUG_MODE: False\n",
      "[2024-04-01 17:14:23] test.py(118) : USE_CUDA: True, CUDA_DEVICE_NUM: 0\n",
      "[2024-04-01 17:14:23] test.py(119) : env_params{'problem_size': 50, 'pomo_size': 50, 'distribution': {'data_type': 'mixed', 'n_cluster': 3, 'n_cluster_mix': 1, 'lower': 0.2, 'upper': 0.8, 'std': 0.07}, 'load_path': 'data/vrp_uniform50_1000_seed1234.pkl', 'load_raw': None}\n",
      "[2024-04-01 17:14:23] test.py(119) : model_params{'embedding_dim': 64, 'sqrt_embedding_dim': 8.0, 'encoder_layer_num': 6, 'qkv_dim': 8, 'head_num': 8, 'logit_clipping': 10, 'ff_hidden_dim': 512, 'eval_type': 'argmax'}\n",
      "[2024-04-01 17:14:23] test.py(119) : tester_params{'use_cuda': True, 'cuda_device_num': 0, 'model_load': {'path': 'pretrained/checkpoint-cvrp-100.pt', 'epoch': 'test'}, 'test_episodes': 1000, 'test_batch_size': 1, 'augmentation_enable': True, 'aug_factor': 8, 'aug_batch_size': 1, 'test_data_load': {'enable': False, 'filename': ''}, 'test_set_path': '../../../../../VRP-Omni-modified/Vrp-Set-X/X-n641', 'test_set_opt_sol_path': '../../../../../VRP-Omni-modified/Vrp-Set-A/A-n33-sol', 'test_set_name': 'A-n33'}\n",
      "[2024-04-01 17:14:23] test.py(119) : logger_params{'log_file': {'desc': 'test_cvrp50_pretrained_epochtest', 'filename': 'log.txt', 'filepath': './result/20240401_181422_test_cvrp50_pretrained_epochtest'}}\n",
      "['../../../../../VRP-Omni-modified/Vrp-Set-X/X-n641/X-n641-k35.vrp']\n",
      "pretrained/checkpoint-cvrp-100.pt\n"
     ]
    },
    {
     "name": "stderr",
     "output_type": "stream",
     "text": [
      "/home/xunj/miniconda3/envs/amd/lib/python3.8/site-packages/torch/__init__.py:696: UserWarning: torch.set_default_tensor_type() is deprecated as of PyTorch 2.1, please use torch.set_default_dtype() and torch.set_default_device() as alternatives. (Triggered internally at /opt/conda/conda-bld/pytorch_1708025829503/work/torch/csrc/tensor/python_tensor.cpp:451.)\n",
      "  _C._set_default_tensor_type(t)\n"
     ]
    },
    {
     "name": "stdout",
     "output_type": "stream",
     "text": [
      "torch.Size([8, 1])\n",
      "torch.Size([8, 640])\n",
      "[2024-04-01 17:14:25] CVRPTester.py(144) : episode   1/  1, Elapsed[0.03m], Remain[0.00m], score:101.386, aug_score:98.885\n",
      "[2024-04-01 17:14:25] CVRPTester.py(150) :  *** Test Done *** \n",
      "[2024-04-01 17:14:25] CVRPTester.py(151) :  NO-AUG SCORE: 101.3863296508789 \n",
      "[2024-04-01 17:14:25] CVRPTester.py(152) :  AUGMENTATION SCORE: 98.88545989990234 \n",
      ">> Evaluation on ../../../../../VRP-Omni-modified/Vrp-Set-X/X-n641 finished within 1.69s\n",
      ">> Save final results to res/X-n641\n",
      "Test on \" ../../../../../VRP-Omni-modified/Vrp-Set-X/X-n641 \" Success\n",
      "-----------------------------------------------------------------------------------------------------------------\n",
      "[2024-04-01 17:14:29] test.py(117) : DEBUG_MODE: False\n",
      "[2024-04-01 17:14:29] test.py(118) : USE_CUDA: True, CUDA_DEVICE_NUM: 0\n",
      "[2024-04-01 17:14:29] test.py(119) : env_params{'problem_size': 50, 'pomo_size': 50, 'distribution': {'data_type': 'mixed', 'n_cluster': 3, 'n_cluster_mix': 1, 'lower': 0.2, 'upper': 0.8, 'std': 0.07}, 'load_path': 'data/vrp_uniform50_1000_seed1234.pkl', 'load_raw': None}\n",
      "[2024-04-01 17:14:29] test.py(119) : model_params{'embedding_dim': 64, 'sqrt_embedding_dim': 8.0, 'encoder_layer_num': 6, 'qkv_dim': 8, 'head_num': 8, 'logit_clipping': 10, 'ff_hidden_dim': 512, 'eval_type': 'argmax'}\n",
      "[2024-04-01 17:14:29] test.py(119) : tester_params{'use_cuda': True, 'cuda_device_num': 0, 'model_load': {'path': 'pretrained/checkpoint-cvrp-100.pt', 'epoch': 'test'}, 'test_episodes': 1000, 'test_batch_size': 1, 'augmentation_enable': True, 'aug_factor': 8, 'aug_batch_size': 1, 'test_data_load': {'enable': False, 'filename': ''}, 'test_set_path': '../../../../../VRP-Omni-modified/Vrp-Set-X/X-n655', 'test_set_opt_sol_path': '../../../../../VRP-Omni-modified/Vrp-Set-A/A-n33-sol', 'test_set_name': 'A-n33'}\n",
      "[2024-04-01 17:14:29] test.py(119) : logger_params{'log_file': {'desc': 'test_cvrp50_pretrained_epochtest', 'filename': 'log.txt', 'filepath': './result/20240401_181427_test_cvrp50_pretrained_epochtest'}}\n",
      "['../../../../../VRP-Omni-modified/Vrp-Set-X/X-n655/X-n655-k131.vrp']\n"
     ]
    },
    {
     "name": "stderr",
     "output_type": "stream",
     "text": [
      "/home/xunj/miniconda3/envs/amd/lib/python3.8/site-packages/torch/__init__.py:696: UserWarning: torch.set_default_tensor_type() is deprecated as of PyTorch 2.1, please use torch.set_default_dtype() and torch.set_default_device() as alternatives. (Triggered internally at /opt/conda/conda-bld/pytorch_1708025829503/work/torch/csrc/tensor/python_tensor.cpp:451.)\n",
      "  _C._set_default_tensor_type(t)\n"
     ]
    },
    {
     "name": "stdout",
     "output_type": "stream",
     "text": [
      "pretrained/checkpoint-cvrp-100.pt\n",
      "torch.Size([8, 1])\n",
      "torch.Size([8, 654])\n",
      "[2024-04-01 17:14:31] CVRPTester.py(144) : episode   1/  1, Elapsed[0.03m], Remain[0.00m], score:132.298, aug_score:127.602\n",
      "[2024-04-01 17:14:31] CVRPTester.py(150) :  *** Test Done *** \n",
      "[2024-04-01 17:14:31] CVRPTester.py(151) :  NO-AUG SCORE: 132.29832458496094 \n",
      "[2024-04-01 17:14:31] CVRPTester.py(152) :  AUGMENTATION SCORE: 127.60203552246094 \n",
      ">> Evaluation on ../../../../../VRP-Omni-modified/Vrp-Set-X/X-n655 finished within 2.03s\n",
      ">> Save final results to res/X-n655\n",
      "Test on \" ../../../../../VRP-Omni-modified/Vrp-Set-X/X-n655 \" Success\n",
      "-----------------------------------------------------------------------------------------------------------------\n",
      "[2024-04-01 17:14:35] test.py(117) : DEBUG_MODE: False\n",
      "[2024-04-01 17:14:35] test.py(118) : USE_CUDA: True, CUDA_DEVICE_NUM: 0\n",
      "[2024-04-01 17:14:35] test.py(119) : env_params{'problem_size': 50, 'pomo_size': 50, 'distribution': {'data_type': 'mixed', 'n_cluster': 3, 'n_cluster_mix': 1, 'lower': 0.2, 'upper': 0.8, 'std': 0.07}, 'load_path': 'data/vrp_uniform50_1000_seed1234.pkl', 'load_raw': None}\n",
      "[2024-04-01 17:14:35] test.py(119) : model_params{'embedding_dim': 64, 'sqrt_embedding_dim': 8.0, 'encoder_layer_num': 6, 'qkv_dim': 8, 'head_num': 8, 'logit_clipping': 10, 'ff_hidden_dim': 512, 'eval_type': 'argmax'}\n",
      "[2024-04-01 17:14:35] test.py(119) : tester_params{'use_cuda': True, 'cuda_device_num': 0, 'model_load': {'path': 'pretrained/checkpoint-cvrp-100.pt', 'epoch': 'test'}, 'test_episodes': 1000, 'test_batch_size': 1, 'augmentation_enable': True, 'aug_factor': 8, 'aug_batch_size': 1, 'test_data_load': {'enable': False, 'filename': ''}, 'test_set_path': '../../../../../VRP-Omni-modified/Vrp-Set-X/X-n670', 'test_set_opt_sol_path': '../../../../../VRP-Omni-modified/Vrp-Set-A/A-n33-sol', 'test_set_name': 'A-n33'}\n",
      "[2024-04-01 17:14:35] test.py(119) : logger_params{'log_file': {'desc': 'test_cvrp50_pretrained_epochtest', 'filename': 'log.txt', 'filepath': './result/20240401_181433_test_cvrp50_pretrained_epochtest'}}\n",
      "['../../../../../VRP-Omni-modified/Vrp-Set-X/X-n670/X-n670-k130.vrp']\n",
      "pretrained/checkpoint-cvrp-100.pt\n"
     ]
    },
    {
     "name": "stderr",
     "output_type": "stream",
     "text": [
      "/home/xunj/miniconda3/envs/amd/lib/python3.8/site-packages/torch/__init__.py:696: UserWarning: torch.set_default_tensor_type() is deprecated as of PyTorch 2.1, please use torch.set_default_dtype() and torch.set_default_device() as alternatives. (Triggered internally at /opt/conda/conda-bld/pytorch_1708025829503/work/torch/csrc/tensor/python_tensor.cpp:451.)\n",
      "  _C._set_default_tensor_type(t)\n"
     ]
    },
    {
     "name": "stdout",
     "output_type": "stream",
     "text": [
      "torch.Size([8, 1])\n",
      "torch.Size([8, 669])\n",
      "[2024-04-01 17:14:37] CVRPTester.py(144) : episode   1/  1, Elapsed[0.04m], Remain[0.00m], score:209.192, aug_score:195.620\n",
      "[2024-04-01 17:14:37] CVRPTester.py(150) :  *** Test Done *** \n",
      "[2024-04-01 17:14:37] CVRPTester.py(151) :  NO-AUG SCORE: 209.19219970703125 \n",
      "[2024-04-01 17:14:37] CVRPTester.py(152) :  AUGMENTATION SCORE: 195.61978149414062 \n",
      ">> Evaluation on ../../../../../VRP-Omni-modified/Vrp-Set-X/X-n670 finished within 2.17s\n",
      ">> Save final results to res/X-n670\n",
      "Test on \" ../../../../../VRP-Omni-modified/Vrp-Set-X/X-n670 \" Success\n",
      "-----------------------------------------------------------------------------------------------------------------\n",
      "[2024-04-01 17:14:40] test.py(117) : DEBUG_MODE: False\n",
      "[2024-04-01 17:14:40] test.py(118) : USE_CUDA: True, CUDA_DEVICE_NUM: 0\n",
      "[2024-04-01 17:14:40] test.py(119) : env_params{'problem_size': 50, 'pomo_size': 50, 'distribution': {'data_type': 'mixed', 'n_cluster': 3, 'n_cluster_mix': 1, 'lower': 0.2, 'upper': 0.8, 'std': 0.07}, 'load_path': 'data/vrp_uniform50_1000_seed1234.pkl', 'load_raw': None}\n",
      "[2024-04-01 17:14:40] test.py(119) : model_params{'embedding_dim': 64, 'sqrt_embedding_dim': 8.0, 'encoder_layer_num': 6, 'qkv_dim': 8, 'head_num': 8, 'logit_clipping': 10, 'ff_hidden_dim': 512, 'eval_type': 'argmax'}\n",
      "[2024-04-01 17:14:40] test.py(119) : tester_params{'use_cuda': True, 'cuda_device_num': 0, 'model_load': {'path': 'pretrained/checkpoint-cvrp-100.pt', 'epoch': 'test'}, 'test_episodes': 1000, 'test_batch_size': 1, 'augmentation_enable': True, 'aug_factor': 8, 'aug_batch_size': 1, 'test_data_load': {'enable': False, 'filename': ''}, 'test_set_path': '../../../../../VRP-Omni-modified/Vrp-Set-X/X-n685', 'test_set_opt_sol_path': '../../../../../VRP-Omni-modified/Vrp-Set-A/A-n33-sol', 'test_set_name': 'A-n33'}\n",
      "[2024-04-01 17:14:40] test.py(119) : logger_params{'log_file': {'desc': 'test_cvrp50_pretrained_epochtest', 'filename': 'log.txt', 'filepath': './result/20240401_181439_test_cvrp50_pretrained_epochtest'}}\n",
      "['../../../../../VRP-Omni-modified/Vrp-Set-X/X-n685/X-n685-k75.vrp']\n",
      "pretrained/checkpoint-cvrp-100.pt\n"
     ]
    },
    {
     "name": "stderr",
     "output_type": "stream",
     "text": [
      "/home/xunj/miniconda3/envs/amd/lib/python3.8/site-packages/torch/__init__.py:696: UserWarning: torch.set_default_tensor_type() is deprecated as of PyTorch 2.1, please use torch.set_default_dtype() and torch.set_default_device() as alternatives. (Triggered internally at /opt/conda/conda-bld/pytorch_1708025829503/work/torch/csrc/tensor/python_tensor.cpp:451.)\n",
      "  _C._set_default_tensor_type(t)\n"
     ]
    },
    {
     "name": "stdout",
     "output_type": "stream",
     "text": [
      "torch.Size([8, 1])\n",
      "torch.Size([8, 684])\n",
      "[2024-04-01 17:14:43] CVRPTester.py(144) : episode   1/  1, Elapsed[0.04m], Remain[0.00m], score:113.235, aug_score:98.614\n",
      "[2024-04-01 17:14:43] CVRPTester.py(150) :  *** Test Done *** \n",
      "[2024-04-01 17:14:43] CVRPTester.py(151) :  NO-AUG SCORE: 113.23538970947266 \n",
      "[2024-04-01 17:14:43] CVRPTester.py(152) :  AUGMENTATION SCORE: 98.61363220214844 \n",
      ">> Evaluation on ../../../../../VRP-Omni-modified/Vrp-Set-X/X-n685 finished within 2.10s\n",
      ">> Save final results to res/X-n685\n",
      "Test on \" ../../../../../VRP-Omni-modified/Vrp-Set-X/X-n685 \" Success\n",
      "-----------------------------------------------------------------------------------------------------------------\n",
      "[2024-04-01 17:14:46] test.py(117) : DEBUG_MODE: False\n",
      "[2024-04-01 17:14:46] test.py(118) : USE_CUDA: True, CUDA_DEVICE_NUM: 0\n",
      "[2024-04-01 17:14:46] test.py(119) : env_params{'problem_size': 50, 'pomo_size': 50, 'distribution': {'data_type': 'mixed', 'n_cluster': 3, 'n_cluster_mix': 1, 'lower': 0.2, 'upper': 0.8, 'std': 0.07}, 'load_path': 'data/vrp_uniform50_1000_seed1234.pkl', 'load_raw': None}\n",
      "[2024-04-01 17:14:46] test.py(119) : model_params{'embedding_dim': 64, 'sqrt_embedding_dim': 8.0, 'encoder_layer_num': 6, 'qkv_dim': 8, 'head_num': 8, 'logit_clipping': 10, 'ff_hidden_dim': 512, 'eval_type': 'argmax'}\n",
      "[2024-04-01 17:14:46] test.py(119) : tester_params{'use_cuda': True, 'cuda_device_num': 0, 'model_load': {'path': 'pretrained/checkpoint-cvrp-100.pt', 'epoch': 'test'}, 'test_episodes': 1000, 'test_batch_size': 1, 'augmentation_enable': True, 'aug_factor': 8, 'aug_batch_size': 1, 'test_data_load': {'enable': False, 'filename': ''}, 'test_set_path': '../../../../../VRP-Omni-modified/Vrp-Set-X/X-n701', 'test_set_opt_sol_path': '../../../../../VRP-Omni-modified/Vrp-Set-A/A-n33-sol', 'test_set_name': 'A-n33'}\n",
      "[2024-04-01 17:14:46] test.py(119) : logger_params{'log_file': {'desc': 'test_cvrp50_pretrained_epochtest', 'filename': 'log.txt', 'filepath': './result/20240401_181444_test_cvrp50_pretrained_epochtest'}}\n",
      "['../../../../../VRP-Omni-modified/Vrp-Set-X/X-n701/X-n701-k44.vrp']\n",
      "pretrained/checkpoint-cvrp-100.pt\n"
     ]
    },
    {
     "name": "stderr",
     "output_type": "stream",
     "text": [
      "/home/xunj/miniconda3/envs/amd/lib/python3.8/site-packages/torch/__init__.py:696: UserWarning: torch.set_default_tensor_type() is deprecated as of PyTorch 2.1, please use torch.set_default_dtype() and torch.set_default_device() as alternatives. (Triggered internally at /opt/conda/conda-bld/pytorch_1708025829503/work/torch/csrc/tensor/python_tensor.cpp:451.)\n",
      "  _C._set_default_tensor_type(t)\n"
     ]
    },
    {
     "name": "stdout",
     "output_type": "stream",
     "text": [
      "torch.Size([8, 1])\n",
      "torch.Size([8, 700])\n",
      "[2024-04-01 17:14:49] CVRPTester.py(144) : episode   1/  1, Elapsed[0.04m], Remain[0.00m], score:119.645, aug_score:119.645\n",
      "[2024-04-01 17:14:49] CVRPTester.py(150) :  *** Test Done *** \n",
      "[2024-04-01 17:14:49] CVRPTester.py(151) :  NO-AUG SCORE: 119.64459228515625 \n",
      "[2024-04-01 17:14:49] CVRPTester.py(152) :  AUGMENTATION SCORE: 119.64459228515625 \n",
      ">> Evaluation on ../../../../../VRP-Omni-modified/Vrp-Set-X/X-n701 finished within 2.15s\n",
      ">> Save final results to res/X-n701\n",
      "Test on \" ../../../../../VRP-Omni-modified/Vrp-Set-X/X-n701 \" Success\n",
      "-----------------------------------------------------------------------------------------------------------------\n",
      "[2024-04-01 17:14:52] test.py(117) : DEBUG_MODE: False\n",
      "[2024-04-01 17:14:52] test.py(118) : USE_CUDA: True, CUDA_DEVICE_NUM: 0\n",
      "[2024-04-01 17:14:52] test.py(119) : env_params{'problem_size': 50, 'pomo_size': 50, 'distribution': {'data_type': 'mixed', 'n_cluster': 3, 'n_cluster_mix': 1, 'lower': 0.2, 'upper': 0.8, 'std': 0.07}, 'load_path': 'data/vrp_uniform50_1000_seed1234.pkl', 'load_raw': None}\n",
      "[2024-04-01 17:14:52] test.py(119) : model_params{'embedding_dim': 64, 'sqrt_embedding_dim': 8.0, 'encoder_layer_num': 6, 'qkv_dim': 8, 'head_num': 8, 'logit_clipping': 10, 'ff_hidden_dim': 512, 'eval_type': 'argmax'}\n",
      "[2024-04-01 17:14:52] test.py(119) : tester_params{'use_cuda': True, 'cuda_device_num': 0, 'model_load': {'path': 'pretrained/checkpoint-cvrp-100.pt', 'epoch': 'test'}, 'test_episodes': 1000, 'test_batch_size': 1, 'augmentation_enable': True, 'aug_factor': 8, 'aug_batch_size': 1, 'test_data_load': {'enable': False, 'filename': ''}, 'test_set_path': '../../../../../VRP-Omni-modified/Vrp-Set-X/X-n716', 'test_set_opt_sol_path': '../../../../../VRP-Omni-modified/Vrp-Set-A/A-n33-sol', 'test_set_name': 'A-n33'}\n",
      "[2024-04-01 17:14:52] test.py(119) : logger_params{'log_file': {'desc': 'test_cvrp50_pretrained_epochtest', 'filename': 'log.txt', 'filepath': './result/20240401_181450_test_cvrp50_pretrained_epochtest'}}\n",
      "['../../../../../VRP-Omni-modified/Vrp-Set-X/X-n716/X-n716-k35.vrp']\n",
      "pretrained/checkpoint-cvrp-100.pt\n"
     ]
    },
    {
     "name": "stderr",
     "output_type": "stream",
     "text": [
      "/home/xunj/miniconda3/envs/amd/lib/python3.8/site-packages/torch/__init__.py:696: UserWarning: torch.set_default_tensor_type() is deprecated as of PyTorch 2.1, please use torch.set_default_dtype() and torch.set_default_device() as alternatives. (Triggered internally at /opt/conda/conda-bld/pytorch_1708025829503/work/torch/csrc/tensor/python_tensor.cpp:451.)\n",
      "  _C._set_default_tensor_type(t)\n"
     ]
    },
    {
     "name": "stdout",
     "output_type": "stream",
     "text": [
      "torch.Size([8, 1])\n",
      "torch.Size([8, 715])\n",
      "[2024-04-01 17:14:54] CVRPTester.py(144) : episode   1/  1, Elapsed[0.04m], Remain[0.00m], score:85.124, aug_score:65.007\n",
      "[2024-04-01 17:14:54] CVRPTester.py(150) :  *** Test Done *** \n",
      "[2024-04-01 17:14:54] CVRPTester.py(151) :  NO-AUG SCORE: 85.12445831298828 \n",
      "[2024-04-01 17:14:54] CVRPTester.py(152) :  AUGMENTATION SCORE: 65.00691986083984 \n",
      ">> Evaluation on ../../../../../VRP-Omni-modified/Vrp-Set-X/X-n716 finished within 2.20s\n",
      ">> Save final results to res/X-n716\n",
      "Test on \" ../../../../../VRP-Omni-modified/Vrp-Set-X/X-n716 \" Success\n",
      "-----------------------------------------------------------------------------------------------------------------\n",
      "[2024-04-01 17:14:58] test.py(117) : DEBUG_MODE: False\n",
      "[2024-04-01 17:14:58] test.py(118) : USE_CUDA: True, CUDA_DEVICE_NUM: 0\n",
      "[2024-04-01 17:14:58] test.py(119) : env_params{'problem_size': 50, 'pomo_size': 50, 'distribution': {'data_type': 'mixed', 'n_cluster': 3, 'n_cluster_mix': 1, 'lower': 0.2, 'upper': 0.8, 'std': 0.07}, 'load_path': 'data/vrp_uniform50_1000_seed1234.pkl', 'load_raw': None}\n",
      "[2024-04-01 17:14:58] test.py(119) : model_params{'embedding_dim': 64, 'sqrt_embedding_dim': 8.0, 'encoder_layer_num': 6, 'qkv_dim': 8, 'head_num': 8, 'logit_clipping': 10, 'ff_hidden_dim': 512, 'eval_type': 'argmax'}\n",
      "[2024-04-01 17:14:58] test.py(119) : tester_params{'use_cuda': True, 'cuda_device_num': 0, 'model_load': {'path': 'pretrained/checkpoint-cvrp-100.pt', 'epoch': 'test'}, 'test_episodes': 1000, 'test_batch_size': 1, 'augmentation_enable': True, 'aug_factor': 8, 'aug_batch_size': 1, 'test_data_load': {'enable': False, 'filename': ''}, 'test_set_path': '../../../../../VRP-Omni-modified/Vrp-Set-X/X-n733', 'test_set_opt_sol_path': '../../../../../VRP-Omni-modified/Vrp-Set-A/A-n33-sol', 'test_set_name': 'A-n33'}\n",
      "[2024-04-01 17:14:58] test.py(119) : logger_params{'log_file': {'desc': 'test_cvrp50_pretrained_epochtest', 'filename': 'log.txt', 'filepath': './result/20240401_181456_test_cvrp50_pretrained_epochtest'}}\n",
      "['../../../../../VRP-Omni-modified/Vrp-Set-X/X-n733/X-n733-k159.vrp']\n"
     ]
    },
    {
     "name": "stderr",
     "output_type": "stream",
     "text": [
      "/home/xunj/miniconda3/envs/amd/lib/python3.8/site-packages/torch/__init__.py:696: UserWarning: torch.set_default_tensor_type() is deprecated as of PyTorch 2.1, please use torch.set_default_dtype() and torch.set_default_device() as alternatives. (Triggered internally at /opt/conda/conda-bld/pytorch_1708025829503/work/torch/csrc/tensor/python_tensor.cpp:451.)\n",
      "  _C._set_default_tensor_type(t)\n"
     ]
    },
    {
     "name": "stdout",
     "output_type": "stream",
     "text": [
      "pretrained/checkpoint-cvrp-100.pt\n",
      "torch.Size([8, 1])\n",
      "torch.Size([8, 732])\n",
      "[2024-04-01 17:15:01] CVRPTester.py(144) : episode   1/  1, Elapsed[0.05m], Remain[0.00m], score:196.564, aug_score:189.758\n",
      "[2024-04-01 17:15:01] CVRPTester.py(150) :  *** Test Done *** \n",
      "[2024-04-01 17:15:01] CVRPTester.py(151) :  NO-AUG SCORE: 196.56427001953125 \n",
      "[2024-04-01 17:15:01] CVRPTester.py(152) :  AUGMENTATION SCORE: 189.75811767578125 \n",
      ">> Evaluation on ../../../../../VRP-Omni-modified/Vrp-Set-X/X-n733 finished within 2.72s\n",
      ">> Save final results to res/X-n733\n",
      "Test on \" ../../../../../VRP-Omni-modified/Vrp-Set-X/X-n733 \" Success\n",
      "-----------------------------------------------------------------------------------------------------------------\n",
      "[2024-04-01 17:15:04] test.py(117) : DEBUG_MODE: False\n",
      "[2024-04-01 17:15:04] test.py(118) : USE_CUDA: True, CUDA_DEVICE_NUM: 0\n",
      "[2024-04-01 17:15:04] test.py(119) : env_params{'problem_size': 50, 'pomo_size': 50, 'distribution': {'data_type': 'mixed', 'n_cluster': 3, 'n_cluster_mix': 1, 'lower': 0.2, 'upper': 0.8, 'std': 0.07}, 'load_path': 'data/vrp_uniform50_1000_seed1234.pkl', 'load_raw': None}\n",
      "[2024-04-01 17:15:04] test.py(119) : model_params{'embedding_dim': 64, 'sqrt_embedding_dim': 8.0, 'encoder_layer_num': 6, 'qkv_dim': 8, 'head_num': 8, 'logit_clipping': 10, 'ff_hidden_dim': 512, 'eval_type': 'argmax'}\n",
      "[2024-04-01 17:15:04] test.py(119) : tester_params{'use_cuda': True, 'cuda_device_num': 0, 'model_load': {'path': 'pretrained/checkpoint-cvrp-100.pt', 'epoch': 'test'}, 'test_episodes': 1000, 'test_batch_size': 1, 'augmentation_enable': True, 'aug_factor': 8, 'aug_batch_size': 1, 'test_data_load': {'enable': False, 'filename': ''}, 'test_set_path': '../../../../../VRP-Omni-modified/Vrp-Set-X/X-n749', 'test_set_opt_sol_path': '../../../../../VRP-Omni-modified/Vrp-Set-A/A-n33-sol', 'test_set_name': 'A-n33'}\n",
      "[2024-04-01 17:15:04] test.py(119) : logger_params{'log_file': {'desc': 'test_cvrp50_pretrained_epochtest', 'filename': 'log.txt', 'filepath': './result/20240401_181502_test_cvrp50_pretrained_epochtest'}}\n",
      "['../../../../../VRP-Omni-modified/Vrp-Set-X/X-n749/X-n749-k98.vrp']\n",
      "pretrained/checkpoint-cvrp-100.pt\n"
     ]
    },
    {
     "name": "stderr",
     "output_type": "stream",
     "text": [
      "/home/xunj/miniconda3/envs/amd/lib/python3.8/site-packages/torch/__init__.py:696: UserWarning: torch.set_default_tensor_type() is deprecated as of PyTorch 2.1, please use torch.set_default_dtype() and torch.set_default_device() as alternatives. (Triggered internally at /opt/conda/conda-bld/pytorch_1708025829503/work/torch/csrc/tensor/python_tensor.cpp:451.)\n",
      "  _C._set_default_tensor_type(t)\n"
     ]
    },
    {
     "name": "stdout",
     "output_type": "stream",
     "text": [
      "torch.Size([8, 1])\n",
      "torch.Size([8, 748])\n",
      "[2024-04-01 17:15:07] CVRPTester.py(144) : episode   1/  1, Elapsed[0.04m], Remain[0.00m], score:110.411, aug_score:110.411\n",
      "[2024-04-01 17:15:07] CVRPTester.py(150) :  *** Test Done *** \n",
      "[2024-04-01 17:15:07] CVRPTester.py(151) :  NO-AUG SCORE: 110.41072082519531 \n",
      "[2024-04-01 17:15:07] CVRPTester.py(152) :  AUGMENTATION SCORE: 110.41072082519531 \n",
      ">> Evaluation on ../../../../../VRP-Omni-modified/Vrp-Set-X/X-n749 finished within 2.61s\n",
      ">> Save final results to res/X-n749\n",
      "Test on \" ../../../../../VRP-Omni-modified/Vrp-Set-X/X-n749 \" Success\n",
      "-----------------------------------------------------------------------------------------------------------------\n",
      "[2024-04-01 17:15:10] test.py(117) : DEBUG_MODE: False\n",
      "[2024-04-01 17:15:10] test.py(118) : USE_CUDA: True, CUDA_DEVICE_NUM: 0\n",
      "[2024-04-01 17:15:10] test.py(119) : env_params{'problem_size': 50, 'pomo_size': 50, 'distribution': {'data_type': 'mixed', 'n_cluster': 3, 'n_cluster_mix': 1, 'lower': 0.2, 'upper': 0.8, 'std': 0.07}, 'load_path': 'data/vrp_uniform50_1000_seed1234.pkl', 'load_raw': None}\n",
      "[2024-04-01 17:15:10] test.py(119) : model_params{'embedding_dim': 64, 'sqrt_embedding_dim': 8.0, 'encoder_layer_num': 6, 'qkv_dim': 8, 'head_num': 8, 'logit_clipping': 10, 'ff_hidden_dim': 512, 'eval_type': 'argmax'}\n",
      "[2024-04-01 17:15:10] test.py(119) : tester_params{'use_cuda': True, 'cuda_device_num': 0, 'model_load': {'path': 'pretrained/checkpoint-cvrp-100.pt', 'epoch': 'test'}, 'test_episodes': 1000, 'test_batch_size': 1, 'augmentation_enable': True, 'aug_factor': 8, 'aug_batch_size': 1, 'test_data_load': {'enable': False, 'filename': ''}, 'test_set_path': '../../../../../VRP-Omni-modified/Vrp-Set-X/X-n766', 'test_set_opt_sol_path': '../../../../../VRP-Omni-modified/Vrp-Set-A/A-n33-sol', 'test_set_name': 'A-n33'}\n",
      "[2024-04-01 17:15:10] test.py(119) : logger_params{'log_file': {'desc': 'test_cvrp50_pretrained_epochtest', 'filename': 'log.txt', 'filepath': './result/20240401_181508_test_cvrp50_pretrained_epochtest'}}\n",
      "['../../../../../VRP-Omni-modified/Vrp-Set-X/X-n766/X-n766-k71.vrp']\n"
     ]
    },
    {
     "name": "stderr",
     "output_type": "stream",
     "text": [
      "/home/xunj/miniconda3/envs/amd/lib/python3.8/site-packages/torch/__init__.py:696: UserWarning: torch.set_default_tensor_type() is deprecated as of PyTorch 2.1, please use torch.set_default_dtype() and torch.set_default_device() as alternatives. (Triggered internally at /opt/conda/conda-bld/pytorch_1708025829503/work/torch/csrc/tensor/python_tensor.cpp:451.)\n",
      "  _C._set_default_tensor_type(t)\n"
     ]
    },
    {
     "name": "stdout",
     "output_type": "stream",
     "text": [
      "pretrained/checkpoint-cvrp-100.pt\n",
      "torch.Size([8, 1])\n",
      "torch.Size([8, 765])\n",
      "[2024-04-01 17:15:13] CVRPTester.py(144) : episode   1/  1, Elapsed[0.04m], Remain[0.00m], score:174.285, aug_score:148.760\n",
      "[2024-04-01 17:15:13] CVRPTester.py(150) :  *** Test Done *** \n",
      "[2024-04-01 17:15:13] CVRPTester.py(151) :  NO-AUG SCORE: 174.28533935546875 \n",
      "[2024-04-01 17:15:13] CVRPTester.py(152) :  AUGMENTATION SCORE: 148.759765625 \n",
      ">> Evaluation on ../../../../../VRP-Omni-modified/Vrp-Set-X/X-n766 finished within 2.67s\n",
      ">> Save final results to res/X-n766\n",
      "Test on \" ../../../../../VRP-Omni-modified/Vrp-Set-X/X-n766 \" Success\n",
      "-----------------------------------------------------------------------------------------------------------------\n",
      "[2024-04-01 17:15:17] test.py(117) : DEBUG_MODE: False\n",
      "[2024-04-01 17:15:17] test.py(118) : USE_CUDA: True, CUDA_DEVICE_NUM: 0\n",
      "[2024-04-01 17:15:17] test.py(119) : env_params{'problem_size': 50, 'pomo_size': 50, 'distribution': {'data_type': 'mixed', 'n_cluster': 3, 'n_cluster_mix': 1, 'lower': 0.2, 'upper': 0.8, 'std': 0.07}, 'load_path': 'data/vrp_uniform50_1000_seed1234.pkl', 'load_raw': None}\n",
      "[2024-04-01 17:15:17] test.py(119) : model_params{'embedding_dim': 64, 'sqrt_embedding_dim': 8.0, 'encoder_layer_num': 6, 'qkv_dim': 8, 'head_num': 8, 'logit_clipping': 10, 'ff_hidden_dim': 512, 'eval_type': 'argmax'}\n",
      "[2024-04-01 17:15:17] test.py(119) : tester_params{'use_cuda': True, 'cuda_device_num': 0, 'model_load': {'path': 'pretrained/checkpoint-cvrp-100.pt', 'epoch': 'test'}, 'test_episodes': 1000, 'test_batch_size': 1, 'augmentation_enable': True, 'aug_factor': 8, 'aug_batch_size': 1, 'test_data_load': {'enable': False, 'filename': ''}, 'test_set_path': '../../../../../VRP-Omni-modified/Vrp-Set-X/X-n783', 'test_set_opt_sol_path': '../../../../../VRP-Omni-modified/Vrp-Set-A/A-n33-sol', 'test_set_name': 'A-n33'}\n",
      "[2024-04-01 17:15:17] test.py(119) : logger_params{'log_file': {'desc': 'test_cvrp50_pretrained_epochtest', 'filename': 'log.txt', 'filepath': './result/20240401_181515_test_cvrp50_pretrained_epochtest'}}\n",
      "['../../../../../VRP-Omni-modified/Vrp-Set-X/X-n783/X-n783-k48.vrp']\n",
      "pretrained/checkpoint-cvrp-100.pt\n"
     ]
    },
    {
     "name": "stderr",
     "output_type": "stream",
     "text": [
      "/home/xunj/miniconda3/envs/amd/lib/python3.8/site-packages/torch/__init__.py:696: UserWarning: torch.set_default_tensor_type() is deprecated as of PyTorch 2.1, please use torch.set_default_dtype() and torch.set_default_device() as alternatives. (Triggered internally at /opt/conda/conda-bld/pytorch_1708025829503/work/torch/csrc/tensor/python_tensor.cpp:451.)\n",
      "  _C._set_default_tensor_type(t)\n"
     ]
    },
    {
     "name": "stdout",
     "output_type": "stream",
     "text": [
      "torch.Size([8, 1])\n",
      "torch.Size([8, 782])\n",
      "[2024-04-01 17:15:20] CVRPTester.py(144) : episode   1/  1, Elapsed[0.05m], Remain[0.00m], score:126.900, aug_score:121.286\n",
      "[2024-04-01 17:15:20] CVRPTester.py(150) :  *** Test Done *** \n",
      "[2024-04-01 17:15:20] CVRPTester.py(151) :  NO-AUG SCORE: 126.90023040771484 \n",
      "[2024-04-01 17:15:20] CVRPTester.py(152) :  AUGMENTATION SCORE: 121.28564453125 \n",
      ">> Evaluation on ../../../../../VRP-Omni-modified/Vrp-Set-X/X-n783 finished within 2.88s\n",
      ">> Save final results to res/X-n783\n",
      "Test on \" ../../../../../VRP-Omni-modified/Vrp-Set-X/X-n783 \" Success\n",
      "-----------------------------------------------------------------------------------------------------------------\n",
      "[2024-04-01 17:15:23] test.py(117) : DEBUG_MODE: False\n",
      "[2024-04-01 17:15:23] test.py(118) : USE_CUDA: True, CUDA_DEVICE_NUM: 0\n",
      "[2024-04-01 17:15:23] test.py(119) : env_params{'problem_size': 50, 'pomo_size': 50, 'distribution': {'data_type': 'mixed', 'n_cluster': 3, 'n_cluster_mix': 1, 'lower': 0.2, 'upper': 0.8, 'std': 0.07}, 'load_path': 'data/vrp_uniform50_1000_seed1234.pkl', 'load_raw': None}\n",
      "[2024-04-01 17:15:23] test.py(119) : model_params{'embedding_dim': 64, 'sqrt_embedding_dim': 8.0, 'encoder_layer_num': 6, 'qkv_dim': 8, 'head_num': 8, 'logit_clipping': 10, 'ff_hidden_dim': 512, 'eval_type': 'argmax'}\n",
      "[2024-04-01 17:15:23] test.py(119) : tester_params{'use_cuda': True, 'cuda_device_num': 0, 'model_load': {'path': 'pretrained/checkpoint-cvrp-100.pt', 'epoch': 'test'}, 'test_episodes': 1000, 'test_batch_size': 1, 'augmentation_enable': True, 'aug_factor': 8, 'aug_batch_size': 1, 'test_data_load': {'enable': False, 'filename': ''}, 'test_set_path': '../../../../../VRP-Omni-modified/Vrp-Set-X/X-n801', 'test_set_opt_sol_path': '../../../../../VRP-Omni-modified/Vrp-Set-A/A-n33-sol', 'test_set_name': 'A-n33'}\n",
      "[2024-04-01 17:15:23] test.py(119) : logger_params{'log_file': {'desc': 'test_cvrp50_pretrained_epochtest', 'filename': 'log.txt', 'filepath': './result/20240401_181521_test_cvrp50_pretrained_epochtest'}}\n",
      "['../../../../../VRP-Omni-modified/Vrp-Set-X/X-n801/X-n801-k40.vrp']\n",
      "pretrained/checkpoint-cvrp-100.pt\n"
     ]
    },
    {
     "name": "stderr",
     "output_type": "stream",
     "text": [
      "/home/xunj/miniconda3/envs/amd/lib/python3.8/site-packages/torch/__init__.py:696: UserWarning: torch.set_default_tensor_type() is deprecated as of PyTorch 2.1, please use torch.set_default_dtype() and torch.set_default_device() as alternatives. (Triggered internally at /opt/conda/conda-bld/pytorch_1708025829503/work/torch/csrc/tensor/python_tensor.cpp:451.)\n",
      "  _C._set_default_tensor_type(t)\n"
     ]
    },
    {
     "name": "stdout",
     "output_type": "stream",
     "text": [
      "torch.Size([8, 1])\n",
      "torch.Size([8, 800])\n",
      "[2024-04-01 17:15:26] CVRPTester.py(144) : episode   1/  1, Elapsed[0.05m], Remain[0.00m], score:132.869, aug_score:124.628\n",
      "[2024-04-01 17:15:26] CVRPTester.py(150) :  *** Test Done *** \n",
      "[2024-04-01 17:15:26] CVRPTester.py(151) :  NO-AUG SCORE: 132.86917114257812 \n",
      "[2024-04-01 17:15:26] CVRPTester.py(152) :  AUGMENTATION SCORE: 124.6282958984375 \n",
      ">> Evaluation on ../../../../../VRP-Omni-modified/Vrp-Set-X/X-n801 finished within 2.95s\n",
      ">> Save final results to res/X-n801\n",
      "Test on \" ../../../../../VRP-Omni-modified/Vrp-Set-X/X-n801 \" Success\n",
      "-----------------------------------------------------------------------------------------------------------------\n",
      "[2024-04-01 17:15:29] test.py(117) : DEBUG_MODE: False\n",
      "[2024-04-01 17:15:29] test.py(118) : USE_CUDA: True, CUDA_DEVICE_NUM: 0\n",
      "[2024-04-01 17:15:29] test.py(119) : env_params{'problem_size': 50, 'pomo_size': 50, 'distribution': {'data_type': 'mixed', 'n_cluster': 3, 'n_cluster_mix': 1, 'lower': 0.2, 'upper': 0.8, 'std': 0.07}, 'load_path': 'data/vrp_uniform50_1000_seed1234.pkl', 'load_raw': None}\n",
      "[2024-04-01 17:15:29] test.py(119) : model_params{'embedding_dim': 64, 'sqrt_embedding_dim': 8.0, 'encoder_layer_num': 6, 'qkv_dim': 8, 'head_num': 8, 'logit_clipping': 10, 'ff_hidden_dim': 512, 'eval_type': 'argmax'}\n",
      "[2024-04-01 17:15:29] test.py(119) : tester_params{'use_cuda': True, 'cuda_device_num': 0, 'model_load': {'path': 'pretrained/checkpoint-cvrp-100.pt', 'epoch': 'test'}, 'test_episodes': 1000, 'test_batch_size': 1, 'augmentation_enable': True, 'aug_factor': 8, 'aug_batch_size': 1, 'test_data_load': {'enable': False, 'filename': ''}, 'test_set_path': '../../../../../VRP-Omni-modified/Vrp-Set-X/X-n819', 'test_set_opt_sol_path': '../../../../../VRP-Omni-modified/Vrp-Set-A/A-n33-sol', 'test_set_name': 'A-n33'}\n",
      "[2024-04-01 17:15:29] test.py(119) : logger_params{'log_file': {'desc': 'test_cvrp50_pretrained_epochtest', 'filename': 'log.txt', 'filepath': './result/20240401_181528_test_cvrp50_pretrained_epochtest'}}\n",
      "['../../../../../VRP-Omni-modified/Vrp-Set-X/X-n819/X-n819-k171.vrp']\n",
      "pretrained/checkpoint-cvrp-100.pt\n"
     ]
    },
    {
     "name": "stderr",
     "output_type": "stream",
     "text": [
      "/home/xunj/miniconda3/envs/amd/lib/python3.8/site-packages/torch/__init__.py:696: UserWarning: torch.set_default_tensor_type() is deprecated as of PyTorch 2.1, please use torch.set_default_dtype() and torch.set_default_device() as alternatives. (Triggered internally at /opt/conda/conda-bld/pytorch_1708025829503/work/torch/csrc/tensor/python_tensor.cpp:451.)\n",
      "  _C._set_default_tensor_type(t)\n"
     ]
    },
    {
     "name": "stdout",
     "output_type": "stream",
     "text": [
      "torch.Size([8, 1])\n",
      "torch.Size([8, 818])\n",
      "[2024-04-01 17:15:33] CVRPTester.py(144) : episode   1/  1, Elapsed[0.06m], Remain[0.00m], score:219.451, aug_score:205.600\n",
      "[2024-04-01 17:15:33] CVRPTester.py(150) :  *** Test Done *** \n",
      "[2024-04-01 17:15:33] CVRPTester.py(151) :  NO-AUG SCORE: 219.45089721679688 \n",
      "[2024-04-01 17:15:33] CVRPTester.py(152) :  AUGMENTATION SCORE: 205.59979248046875 \n",
      ">> Evaluation on ../../../../../VRP-Omni-modified/Vrp-Set-X/X-n819 finished within 3.53s\n",
      ">> Save final results to res/X-n819\n",
      "Test on \" ../../../../../VRP-Omni-modified/Vrp-Set-X/X-n819 \" Success\n",
      "-----------------------------------------------------------------------------------------------------------------\n",
      "[2024-04-01 17:15:37] test.py(117) : DEBUG_MODE: False\n",
      "[2024-04-01 17:15:37] test.py(118) : USE_CUDA: True, CUDA_DEVICE_NUM: 0\n",
      "[2024-04-01 17:15:37] test.py(119) : env_params{'problem_size': 50, 'pomo_size': 50, 'distribution': {'data_type': 'mixed', 'n_cluster': 3, 'n_cluster_mix': 1, 'lower': 0.2, 'upper': 0.8, 'std': 0.07}, 'load_path': 'data/vrp_uniform50_1000_seed1234.pkl', 'load_raw': None}\n",
      "[2024-04-01 17:15:37] test.py(119) : model_params{'embedding_dim': 64, 'sqrt_embedding_dim': 8.0, 'encoder_layer_num': 6, 'qkv_dim': 8, 'head_num': 8, 'logit_clipping': 10, 'ff_hidden_dim': 512, 'eval_type': 'argmax'}\n",
      "[2024-04-01 17:15:37] test.py(119) : tester_params{'use_cuda': True, 'cuda_device_num': 0, 'model_load': {'path': 'pretrained/checkpoint-cvrp-100.pt', 'epoch': 'test'}, 'test_episodes': 1000, 'test_batch_size': 1, 'augmentation_enable': True, 'aug_factor': 8, 'aug_batch_size': 1, 'test_data_load': {'enable': False, 'filename': ''}, 'test_set_path': '../../../../../VRP-Omni-modified/Vrp-Set-X/X-n837', 'test_set_opt_sol_path': '../../../../../VRP-Omni-modified/Vrp-Set-A/A-n33-sol', 'test_set_name': 'A-n33'}\n",
      "[2024-04-01 17:15:37] test.py(119) : logger_params{'log_file': {'desc': 'test_cvrp50_pretrained_epochtest', 'filename': 'log.txt', 'filepath': './result/20240401_181535_test_cvrp50_pretrained_epochtest'}}\n",
      "['../../../../../VRP-Omni-modified/Vrp-Set-X/X-n837/X-n837-k142.vrp']\n",
      "pretrained/checkpoint-cvrp-100.pt\n"
     ]
    },
    {
     "name": "stderr",
     "output_type": "stream",
     "text": [
      "/home/xunj/miniconda3/envs/amd/lib/python3.8/site-packages/torch/__init__.py:696: UserWarning: torch.set_default_tensor_type() is deprecated as of PyTorch 2.1, please use torch.set_default_dtype() and torch.set_default_device() as alternatives. (Triggered internally at /opt/conda/conda-bld/pytorch_1708025829503/work/torch/csrc/tensor/python_tensor.cpp:451.)\n",
      "  _C._set_default_tensor_type(t)\n"
     ]
    },
    {
     "name": "stdout",
     "output_type": "stream",
     "text": [
      "torch.Size([8, 1])\n",
      "torch.Size([8, 836])\n",
      "[2024-04-01 17:15:40] CVRPTester.py(144) : episode   1/  1, Elapsed[0.06m], Remain[0.00m], score:285.112, aug_score:242.529\n",
      "[2024-04-01 17:15:40] CVRPTester.py(150) :  *** Test Done *** \n",
      "[2024-04-01 17:15:40] CVRPTester.py(151) :  NO-AUG SCORE: 285.1122741699219 \n",
      "[2024-04-01 17:15:40] CVRPTester.py(152) :  AUGMENTATION SCORE: 242.52891540527344 \n",
      ">> Evaluation on ../../../../../VRP-Omni-modified/Vrp-Set-X/X-n837 finished within 3.58s\n",
      ">> Save final results to res/X-n837\n",
      "Test on \" ../../../../../VRP-Omni-modified/Vrp-Set-X/X-n837 \" Success\n",
      "-----------------------------------------------------------------------------------------------------------------\n",
      "[2024-04-01 17:15:44] test.py(117) : DEBUG_MODE: False\n",
      "[2024-04-01 17:15:44] test.py(118) : USE_CUDA: True, CUDA_DEVICE_NUM: 0\n",
      "[2024-04-01 17:15:44] test.py(119) : env_params{'problem_size': 50, 'pomo_size': 50, 'distribution': {'data_type': 'mixed', 'n_cluster': 3, 'n_cluster_mix': 1, 'lower': 0.2, 'upper': 0.8, 'std': 0.07}, 'load_path': 'data/vrp_uniform50_1000_seed1234.pkl', 'load_raw': None}\n",
      "[2024-04-01 17:15:44] test.py(119) : model_params{'embedding_dim': 64, 'sqrt_embedding_dim': 8.0, 'encoder_layer_num': 6, 'qkv_dim': 8, 'head_num': 8, 'logit_clipping': 10, 'ff_hidden_dim': 512, 'eval_type': 'argmax'}\n",
      "[2024-04-01 17:15:44] test.py(119) : tester_params{'use_cuda': True, 'cuda_device_num': 0, 'model_load': {'path': 'pretrained/checkpoint-cvrp-100.pt', 'epoch': 'test'}, 'test_episodes': 1000, 'test_batch_size': 1, 'augmentation_enable': True, 'aug_factor': 8, 'aug_batch_size': 1, 'test_data_load': {'enable': False, 'filename': ''}, 'test_set_path': '../../../../../VRP-Omni-modified/Vrp-Set-X/X-n856', 'test_set_opt_sol_path': '../../../../../VRP-Omni-modified/Vrp-Set-A/A-n33-sol', 'test_set_name': 'A-n33'}\n",
      "[2024-04-01 17:15:44] test.py(119) : logger_params{'log_file': {'desc': 'test_cvrp50_pretrained_epochtest', 'filename': 'log.txt', 'filepath': './result/20240401_181542_test_cvrp50_pretrained_epochtest'}}\n",
      "['../../../../../VRP-Omni-modified/Vrp-Set-X/X-n856/X-n856-k95.vrp']\n",
      "pretrained/checkpoint-cvrp-100.pt\n"
     ]
    },
    {
     "name": "stderr",
     "output_type": "stream",
     "text": [
      "/home/xunj/miniconda3/envs/amd/lib/python3.8/site-packages/torch/__init__.py:696: UserWarning: torch.set_default_tensor_type() is deprecated as of PyTorch 2.1, please use torch.set_default_dtype() and torch.set_default_device() as alternatives. (Triggered internally at /opt/conda/conda-bld/pytorch_1708025829503/work/torch/csrc/tensor/python_tensor.cpp:451.)\n",
      "  _C._set_default_tensor_type(t)\n"
     ]
    },
    {
     "name": "stdout",
     "output_type": "stream",
     "text": [
      "torch.Size([8, 1])\n",
      "torch.Size([8, 855])\n",
      "[2024-04-01 17:15:48] CVRPTester.py(144) : episode   1/  1, Elapsed[0.06m], Remain[0.00m], score:127.918, aug_score:127.918\n",
      "[2024-04-01 17:15:48] CVRPTester.py(150) :  *** Test Done *** \n",
      "[2024-04-01 17:15:48] CVRPTester.py(151) :  NO-AUG SCORE: 127.91781616210938 \n",
      "[2024-04-01 17:15:48] CVRPTester.py(152) :  AUGMENTATION SCORE: 127.91781616210938 \n",
      ">> Evaluation on ../../../../../VRP-Omni-modified/Vrp-Set-X/X-n856 finished within 3.59s\n",
      ">> Save final results to res/X-n856\n",
      "Test on \" ../../../../../VRP-Omni-modified/Vrp-Set-X/X-n856 \" Success\n",
      "-----------------------------------------------------------------------------------------------------------------\n",
      "[2024-04-01 17:15:51] test.py(117) : DEBUG_MODE: False\n",
      "[2024-04-01 17:15:51] test.py(118) : USE_CUDA: True, CUDA_DEVICE_NUM: 0\n",
      "[2024-04-01 17:15:51] test.py(119) : env_params{'problem_size': 50, 'pomo_size': 50, 'distribution': {'data_type': 'mixed', 'n_cluster': 3, 'n_cluster_mix': 1, 'lower': 0.2, 'upper': 0.8, 'std': 0.07}, 'load_path': 'data/vrp_uniform50_1000_seed1234.pkl', 'load_raw': None}\n",
      "[2024-04-01 17:15:51] test.py(119) : model_params{'embedding_dim': 64, 'sqrt_embedding_dim': 8.0, 'encoder_layer_num': 6, 'qkv_dim': 8, 'head_num': 8, 'logit_clipping': 10, 'ff_hidden_dim': 512, 'eval_type': 'argmax'}\n",
      "[2024-04-01 17:15:51] test.py(119) : tester_params{'use_cuda': True, 'cuda_device_num': 0, 'model_load': {'path': 'pretrained/checkpoint-cvrp-100.pt', 'epoch': 'test'}, 'test_episodes': 1000, 'test_batch_size': 1, 'augmentation_enable': True, 'aug_factor': 8, 'aug_batch_size': 1, 'test_data_load': {'enable': False, 'filename': ''}, 'test_set_path': '../../../../../VRP-Omni-modified/Vrp-Set-X/X-n876', 'test_set_opt_sol_path': '../../../../../VRP-Omni-modified/Vrp-Set-A/A-n33-sol', 'test_set_name': 'A-n33'}\n",
      "[2024-04-01 17:15:51] test.py(119) : logger_params{'log_file': {'desc': 'test_cvrp50_pretrained_epochtest', 'filename': 'log.txt', 'filepath': './result/20240401_181549_test_cvrp50_pretrained_epochtest'}}\n",
      "['../../../../../VRP-Omni-modified/Vrp-Set-X/X-n876/X-n876-k59.vrp']\n",
      "pretrained/checkpoint-cvrp-100.pt\n"
     ]
    },
    {
     "name": "stderr",
     "output_type": "stream",
     "text": [
      "/home/xunj/miniconda3/envs/amd/lib/python3.8/site-packages/torch/__init__.py:696: UserWarning: torch.set_default_tensor_type() is deprecated as of PyTorch 2.1, please use torch.set_default_dtype() and torch.set_default_device() as alternatives. (Triggered internally at /opt/conda/conda-bld/pytorch_1708025829503/work/torch/csrc/tensor/python_tensor.cpp:451.)\n",
      "  _C._set_default_tensor_type(t)\n"
     ]
    },
    {
     "name": "stdout",
     "output_type": "stream",
     "text": [
      "torch.Size([8, 1])\n",
      "torch.Size([8, 875])\n",
      "[2024-04-01 17:15:55] CVRPTester.py(144) : episode   1/  1, Elapsed[0.06m], Remain[0.00m], score:190.666, aug_score:133.659\n",
      "[2024-04-01 17:15:55] CVRPTester.py(150) :  *** Test Done *** \n",
      "[2024-04-01 17:15:55] CVRPTester.py(151) :  NO-AUG SCORE: 190.66616821289062 \n",
      "[2024-04-01 17:15:55] CVRPTester.py(152) :  AUGMENTATION SCORE: 133.6586151123047 \n",
      ">> Evaluation on ../../../../../VRP-Omni-modified/Vrp-Set-X/X-n876 finished within 3.66s\n",
      ">> Save final results to res/X-n876\n",
      "Test on \" ../../../../../VRP-Omni-modified/Vrp-Set-X/X-n876 \" Success\n",
      "-----------------------------------------------------------------------------------------------------------------\n",
      "[2024-04-01 17:15:58] test.py(117) : DEBUG_MODE: False\n",
      "[2024-04-01 17:15:58] test.py(118) : USE_CUDA: True, CUDA_DEVICE_NUM: 0\n",
      "[2024-04-01 17:15:58] test.py(119) : env_params{'problem_size': 50, 'pomo_size': 50, 'distribution': {'data_type': 'mixed', 'n_cluster': 3, 'n_cluster_mix': 1, 'lower': 0.2, 'upper': 0.8, 'std': 0.07}, 'load_path': 'data/vrp_uniform50_1000_seed1234.pkl', 'load_raw': None}\n",
      "[2024-04-01 17:15:58] test.py(119) : model_params{'embedding_dim': 64, 'sqrt_embedding_dim': 8.0, 'encoder_layer_num': 6, 'qkv_dim': 8, 'head_num': 8, 'logit_clipping': 10, 'ff_hidden_dim': 512, 'eval_type': 'argmax'}\n",
      "[2024-04-01 17:15:58] test.py(119) : tester_params{'use_cuda': True, 'cuda_device_num': 0, 'model_load': {'path': 'pretrained/checkpoint-cvrp-100.pt', 'epoch': 'test'}, 'test_episodes': 1000, 'test_batch_size': 1, 'augmentation_enable': True, 'aug_factor': 8, 'aug_batch_size': 1, 'test_data_load': {'enable': False, 'filename': ''}, 'test_set_path': '../../../../../VRP-Omni-modified/Vrp-Set-X/X-n895', 'test_set_opt_sol_path': '../../../../../VRP-Omni-modified/Vrp-Set-A/A-n33-sol', 'test_set_name': 'A-n33'}\n",
      "[2024-04-01 17:15:58] test.py(119) : logger_params{'log_file': {'desc': 'test_cvrp50_pretrained_epochtest', 'filename': 'log.txt', 'filepath': './result/20240401_181557_test_cvrp50_pretrained_epochtest'}}\n",
      "['../../../../../VRP-Omni-modified/Vrp-Set-X/X-n895/X-n895-k37.vrp']\n",
      "pretrained/checkpoint-cvrp-100.pt\n"
     ]
    },
    {
     "name": "stderr",
     "output_type": "stream",
     "text": [
      "/home/xunj/miniconda3/envs/amd/lib/python3.8/site-packages/torch/__init__.py:696: UserWarning: torch.set_default_tensor_type() is deprecated as of PyTorch 2.1, please use torch.set_default_dtype() and torch.set_default_device() as alternatives. (Triggered internally at /opt/conda/conda-bld/pytorch_1708025829503/work/torch/csrc/tensor/python_tensor.cpp:451.)\n",
      "  _C._set_default_tensor_type(t)\n"
     ]
    },
    {
     "name": "stdout",
     "output_type": "stream",
     "text": [
      "torch.Size([8, 1])\n",
      "torch.Size([8, 894])\n",
      "[2024-04-01 17:16:02] CVRPTester.py(144) : episode   1/  1, Elapsed[0.06m], Remain[0.00m], score:97.329, aug_score:92.868\n",
      "[2024-04-01 17:16:02] CVRPTester.py(150) :  *** Test Done *** \n",
      "[2024-04-01 17:16:02] CVRPTester.py(151) :  NO-AUG SCORE: 97.32903289794922 \n",
      "[2024-04-01 17:16:02] CVRPTester.py(152) :  AUGMENTATION SCORE: 92.86848449707031 \n",
      ">> Evaluation on ../../../../../VRP-Omni-modified/Vrp-Set-X/X-n895 finished within 3.84s\n",
      ">> Save final results to res/X-n895\n",
      "Test on \" ../../../../../VRP-Omni-modified/Vrp-Set-X/X-n895 \" Success\n",
      "-----------------------------------------------------------------------------------------------------------------\n",
      "[2024-04-01 17:16:06] test.py(117) : DEBUG_MODE: False\n",
      "[2024-04-01 17:16:06] test.py(118) : USE_CUDA: True, CUDA_DEVICE_NUM: 0\n",
      "[2024-04-01 17:16:06] test.py(119) : env_params{'problem_size': 50, 'pomo_size': 50, 'distribution': {'data_type': 'mixed', 'n_cluster': 3, 'n_cluster_mix': 1, 'lower': 0.2, 'upper': 0.8, 'std': 0.07}, 'load_path': 'data/vrp_uniform50_1000_seed1234.pkl', 'load_raw': None}\n",
      "[2024-04-01 17:16:06] test.py(119) : model_params{'embedding_dim': 64, 'sqrt_embedding_dim': 8.0, 'encoder_layer_num': 6, 'qkv_dim': 8, 'head_num': 8, 'logit_clipping': 10, 'ff_hidden_dim': 512, 'eval_type': 'argmax'}\n",
      "[2024-04-01 17:16:06] test.py(119) : tester_params{'use_cuda': True, 'cuda_device_num': 0, 'model_load': {'path': 'pretrained/checkpoint-cvrp-100.pt', 'epoch': 'test'}, 'test_episodes': 1000, 'test_batch_size': 1, 'augmentation_enable': True, 'aug_factor': 8, 'aug_batch_size': 1, 'test_data_load': {'enable': False, 'filename': ''}, 'test_set_path': '../../../../../VRP-Omni-modified/Vrp-Set-X/X-n916', 'test_set_opt_sol_path': '../../../../../VRP-Omni-modified/Vrp-Set-A/A-n33-sol', 'test_set_name': 'A-n33'}\n",
      "[2024-04-01 17:16:06] test.py(119) : logger_params{'log_file': {'desc': 'test_cvrp50_pretrained_epochtest', 'filename': 'log.txt', 'filepath': './result/20240401_181604_test_cvrp50_pretrained_epochtest'}}\n",
      "['../../../../../VRP-Omni-modified/Vrp-Set-X/X-n916/X-n916-k207.vrp']\n",
      "pretrained/checkpoint-cvrp-100.pt\n"
     ]
    },
    {
     "name": "stderr",
     "output_type": "stream",
     "text": [
      "/home/xunj/miniconda3/envs/amd/lib/python3.8/site-packages/torch/__init__.py:696: UserWarning: torch.set_default_tensor_type() is deprecated as of PyTorch 2.1, please use torch.set_default_dtype() and torch.set_default_device() as alternatives. (Triggered internally at /opt/conda/conda-bld/pytorch_1708025829503/work/torch/csrc/tensor/python_tensor.cpp:451.)\n",
      "  _C._set_default_tensor_type(t)\n"
     ]
    },
    {
     "name": "stdout",
     "output_type": "stream",
     "text": [
      "torch.Size([8, 1])\n",
      "torch.Size([8, 915])\n",
      "[2024-04-01 17:16:11] CVRPTester.py(144) : episode   1/  1, Elapsed[0.08m], Remain[0.00m], score:426.307, aug_score:401.655\n",
      "[2024-04-01 17:16:11] CVRPTester.py(150) :  *** Test Done *** \n",
      "[2024-04-01 17:16:11] CVRPTester.py(151) :  NO-AUG SCORE: 426.30694580078125 \n",
      "[2024-04-01 17:16:11] CVRPTester.py(152) :  AUGMENTATION SCORE: 401.6546630859375 \n",
      ">> Evaluation on ../../../../../VRP-Omni-modified/Vrp-Set-X/X-n916 finished within 4.88s\n",
      ">> Save final results to res/X-n916\n",
      "Test on \" ../../../../../VRP-Omni-modified/Vrp-Set-X/X-n916 \" Success\n",
      "-----------------------------------------------------------------------------------------------------------------\n",
      "[2024-04-01 17:16:15] test.py(117) : DEBUG_MODE: False\n",
      "[2024-04-01 17:16:15] test.py(118) : USE_CUDA: True, CUDA_DEVICE_NUM: 0\n",
      "[2024-04-01 17:16:15] test.py(119) : env_params{'problem_size': 50, 'pomo_size': 50, 'distribution': {'data_type': 'mixed', 'n_cluster': 3, 'n_cluster_mix': 1, 'lower': 0.2, 'upper': 0.8, 'std': 0.07}, 'load_path': 'data/vrp_uniform50_1000_seed1234.pkl', 'load_raw': None}\n",
      "[2024-04-01 17:16:15] test.py(119) : model_params{'embedding_dim': 64, 'sqrt_embedding_dim': 8.0, 'encoder_layer_num': 6, 'qkv_dim': 8, 'head_num': 8, 'logit_clipping': 10, 'ff_hidden_dim': 512, 'eval_type': 'argmax'}\n",
      "[2024-04-01 17:16:15] test.py(119) : tester_params{'use_cuda': True, 'cuda_device_num': 0, 'model_load': {'path': 'pretrained/checkpoint-cvrp-100.pt', 'epoch': 'test'}, 'test_episodes': 1000, 'test_batch_size': 1, 'augmentation_enable': True, 'aug_factor': 8, 'aug_batch_size': 1, 'test_data_load': {'enable': False, 'filename': ''}, 'test_set_path': '../../../../../VRP-Omni-modified/Vrp-Set-X/X-n936', 'test_set_opt_sol_path': '../../../../../VRP-Omni-modified/Vrp-Set-A/A-n33-sol', 'test_set_name': 'A-n33'}\n",
      "[2024-04-01 17:16:15] test.py(119) : logger_params{'log_file': {'desc': 'test_cvrp50_pretrained_epochtest', 'filename': 'log.txt', 'filepath': './result/20240401_181613_test_cvrp50_pretrained_epochtest'}}\n",
      "['../../../../../VRP-Omni-modified/Vrp-Set-X/X-n936/X-n936-k151.vrp']\n"
     ]
    },
    {
     "name": "stderr",
     "output_type": "stream",
     "text": [
      "/home/xunj/miniconda3/envs/amd/lib/python3.8/site-packages/torch/__init__.py:696: UserWarning: torch.set_default_tensor_type() is deprecated as of PyTorch 2.1, please use torch.set_default_dtype() and torch.set_default_device() as alternatives. (Triggered internally at /opt/conda/conda-bld/pytorch_1708025829503/work/torch/csrc/tensor/python_tensor.cpp:451.)\n",
      "  _C._set_default_tensor_type(t)\n"
     ]
    },
    {
     "name": "stdout",
     "output_type": "stream",
     "text": [
      "pretrained/checkpoint-cvrp-100.pt\n",
      "torch.Size([8, 1])\n",
      "torch.Size([8, 935])\n",
      "[2024-04-01 17:16:20] CVRPTester.py(144) : episode   1/  1, Elapsed[0.08m], Remain[0.00m], score:210.993, aug_score:209.221\n",
      "[2024-04-01 17:16:20] CVRPTester.py(150) :  *** Test Done *** \n",
      "[2024-04-01 17:16:20] CVRPTester.py(151) :  NO-AUG SCORE: 210.9931640625 \n",
      "[2024-04-01 17:16:20] CVRPTester.py(152) :  AUGMENTATION SCORE: 209.2207794189453 \n",
      ">> Evaluation on ../../../../../VRP-Omni-modified/Vrp-Set-X/X-n936 finished within 4.84s\n",
      ">> Save final results to res/X-n936\n",
      "Test on \" ../../../../../VRP-Omni-modified/Vrp-Set-X/X-n936 \" Success\n",
      "-----------------------------------------------------------------------------------------------------------------\n",
      "[2024-04-01 17:16:23] test.py(117) : DEBUG_MODE: False\n",
      "[2024-04-01 17:16:23] test.py(118) : USE_CUDA: True, CUDA_DEVICE_NUM: 0\n",
      "[2024-04-01 17:16:23] test.py(119) : env_params{'problem_size': 50, 'pomo_size': 50, 'distribution': {'data_type': 'mixed', 'n_cluster': 3, 'n_cluster_mix': 1, 'lower': 0.2, 'upper': 0.8, 'std': 0.07}, 'load_path': 'data/vrp_uniform50_1000_seed1234.pkl', 'load_raw': None}\n",
      "[2024-04-01 17:16:23] test.py(119) : model_params{'embedding_dim': 64, 'sqrt_embedding_dim': 8.0, 'encoder_layer_num': 6, 'qkv_dim': 8, 'head_num': 8, 'logit_clipping': 10, 'ff_hidden_dim': 512, 'eval_type': 'argmax'}\n",
      "[2024-04-01 17:16:23] test.py(119) : tester_params{'use_cuda': True, 'cuda_device_num': 0, 'model_load': {'path': 'pretrained/checkpoint-cvrp-100.pt', 'epoch': 'test'}, 'test_episodes': 1000, 'test_batch_size': 1, 'augmentation_enable': True, 'aug_factor': 8, 'aug_batch_size': 1, 'test_data_load': {'enable': False, 'filename': ''}, 'test_set_path': '../../../../../VRP-Omni-modified/Vrp-Set-X/X-n957', 'test_set_opt_sol_path': '../../../../../VRP-Omni-modified/Vrp-Set-A/A-n33-sol', 'test_set_name': 'A-n33'}\n",
      "[2024-04-01 17:16:23] test.py(119) : logger_params{'log_file': {'desc': 'test_cvrp50_pretrained_epochtest', 'filename': 'log.txt', 'filepath': './result/20240401_181621_test_cvrp50_pretrained_epochtest'}}\n",
      "['../../../../../VRP-Omni-modified/Vrp-Set-X/X-n957/X-n957-k87.vrp']\n"
     ]
    },
    {
     "name": "stderr",
     "output_type": "stream",
     "text": [
      "/home/xunj/miniconda3/envs/amd/lib/python3.8/site-packages/torch/__init__.py:696: UserWarning: torch.set_default_tensor_type() is deprecated as of PyTorch 2.1, please use torch.set_default_dtype() and torch.set_default_device() as alternatives. (Triggered internally at /opt/conda/conda-bld/pytorch_1708025829503/work/torch/csrc/tensor/python_tensor.cpp:451.)\n",
      "  _C._set_default_tensor_type(t)\n"
     ]
    },
    {
     "name": "stdout",
     "output_type": "stream",
     "text": [
      "pretrained/checkpoint-cvrp-100.pt\n",
      "torch.Size([8, 1])\n",
      "torch.Size([8, 956])\n",
      "[2024-04-01 17:16:28] CVRPTester.py(144) : episode   1/  1, Elapsed[0.08m], Remain[0.00m], score:134.798, aug_score:123.785\n",
      "[2024-04-01 17:16:28] CVRPTester.py(150) :  *** Test Done *** \n",
      "[2024-04-01 17:16:28] CVRPTester.py(151) :  NO-AUG SCORE: 134.79791259765625 \n",
      "[2024-04-01 17:16:28] CVRPTester.py(152) :  AUGMENTATION SCORE: 123.78463745117188 \n",
      ">> Evaluation on ../../../../../VRP-Omni-modified/Vrp-Set-X/X-n957 finished within 4.77s\n",
      ">> Save final results to res/X-n957\n",
      "Test on \" ../../../../../VRP-Omni-modified/Vrp-Set-X/X-n957 \" Success\n",
      "-----------------------------------------------------------------------------------------------------------------\n",
      "[2024-04-01 17:16:31] test.py(117) : DEBUG_MODE: False\n",
      "[2024-04-01 17:16:31] test.py(118) : USE_CUDA: True, CUDA_DEVICE_NUM: 0\n",
      "[2024-04-01 17:16:31] test.py(119) : env_params{'problem_size': 50, 'pomo_size': 50, 'distribution': {'data_type': 'mixed', 'n_cluster': 3, 'n_cluster_mix': 1, 'lower': 0.2, 'upper': 0.8, 'std': 0.07}, 'load_path': 'data/vrp_uniform50_1000_seed1234.pkl', 'load_raw': None}\n",
      "[2024-04-01 17:16:31] test.py(119) : model_params{'embedding_dim': 64, 'sqrt_embedding_dim': 8.0, 'encoder_layer_num': 6, 'qkv_dim': 8, 'head_num': 8, 'logit_clipping': 10, 'ff_hidden_dim': 512, 'eval_type': 'argmax'}\n",
      "[2024-04-01 17:16:31] test.py(119) : tester_params{'use_cuda': True, 'cuda_device_num': 0, 'model_load': {'path': 'pretrained/checkpoint-cvrp-100.pt', 'epoch': 'test'}, 'test_episodes': 1000, 'test_batch_size': 1, 'augmentation_enable': True, 'aug_factor': 8, 'aug_batch_size': 1, 'test_data_load': {'enable': False, 'filename': ''}, 'test_set_path': '../../../../../VRP-Omni-modified/Vrp-Set-X/X-n979', 'test_set_opt_sol_path': '../../../../../VRP-Omni-modified/Vrp-Set-A/A-n33-sol', 'test_set_name': 'A-n33'}\n",
      "[2024-04-01 17:16:31] test.py(119) : logger_params{'log_file': {'desc': 'test_cvrp50_pretrained_epochtest', 'filename': 'log.txt', 'filepath': './result/20240401_181630_test_cvrp50_pretrained_epochtest'}}\n",
      "['../../../../../VRP-Omni-modified/Vrp-Set-X/X-n979/X-n979-k58.vrp']\n",
      "pretrained/checkpoint-cvrp-100.pt\n"
     ]
    },
    {
     "name": "stderr",
     "output_type": "stream",
     "text": [
      "/home/xunj/miniconda3/envs/amd/lib/python3.8/site-packages/torch/__init__.py:696: UserWarning: torch.set_default_tensor_type() is deprecated as of PyTorch 2.1, please use torch.set_default_dtype() and torch.set_default_device() as alternatives. (Triggered internally at /opt/conda/conda-bld/pytorch_1708025829503/work/torch/csrc/tensor/python_tensor.cpp:451.)\n",
      "  _C._set_default_tensor_type(t)\n"
     ]
    },
    {
     "name": "stdout",
     "output_type": "stream",
     "text": [
      "torch.Size([8, 1])\n",
      "torch.Size([8, 978])\n",
      "[2024-04-01 17:16:36] CVRPTester.py(144) : episode   1/  1, Elapsed[0.08m], Remain[0.00m], score:156.010, aug_score:148.389\n",
      "[2024-04-01 17:16:36] CVRPTester.py(150) :  *** Test Done *** \n",
      "[2024-04-01 17:16:36] CVRPTester.py(151) :  NO-AUG SCORE: 156.009521484375 \n",
      "[2024-04-01 17:16:36] CVRPTester.py(152) :  AUGMENTATION SCORE: 148.3892822265625 \n",
      ">> Evaluation on ../../../../../VRP-Omni-modified/Vrp-Set-X/X-n979 finished within 4.88s\n",
      ">> Save final results to res/X-n979\n",
      "Test on \" ../../../../../VRP-Omni-modified/Vrp-Set-X/X-n979 \" Success\n",
      "-----------------------------------------------------------------------------------------------------------------\n",
      "[2024-04-01 17:16:40] test.py(117) : DEBUG_MODE: False\n",
      "[2024-04-01 17:16:40] test.py(118) : USE_CUDA: True, CUDA_DEVICE_NUM: 0\n",
      "[2024-04-01 17:16:40] test.py(119) : env_params{'problem_size': 50, 'pomo_size': 50, 'distribution': {'data_type': 'mixed', 'n_cluster': 3, 'n_cluster_mix': 1, 'lower': 0.2, 'upper': 0.8, 'std': 0.07}, 'load_path': 'data/vrp_uniform50_1000_seed1234.pkl', 'load_raw': None}\n",
      "[2024-04-01 17:16:40] test.py(119) : model_params{'embedding_dim': 64, 'sqrt_embedding_dim': 8.0, 'encoder_layer_num': 6, 'qkv_dim': 8, 'head_num': 8, 'logit_clipping': 10, 'ff_hidden_dim': 512, 'eval_type': 'argmax'}\n",
      "[2024-04-01 17:16:40] test.py(119) : tester_params{'use_cuda': True, 'cuda_device_num': 0, 'model_load': {'path': 'pretrained/checkpoint-cvrp-100.pt', 'epoch': 'test'}, 'test_episodes': 1000, 'test_batch_size': 1, 'augmentation_enable': True, 'aug_factor': 8, 'aug_batch_size': 1, 'test_data_load': {'enable': False, 'filename': ''}, 'test_set_path': '../../../../../VRP-Omni-modified/Vrp-Set-XML100/Vrp-Set-XML100', 'test_set_opt_sol_path': '../../../../../VRP-Omni-modified/Vrp-Set-A/A-n33-sol', 'test_set_name': 'A-n33'}\n",
      "[2024-04-01 17:16:40] test.py(119) : logger_params{'log_file': {'desc': 'test_cvrp50_pretrained_epochtest', 'filename': 'log.txt', 'filepath': './result/20240401_181638_test_cvrp50_pretrained_epochtest'}}\n",
      "['../../../../../VRP-Omni-modified/Vrp-Set-XML100/Vrp-Set-XML100/OptimalCosts.ods', '../../../../../VRP-Omni-modified/Vrp-Set-XML100/Vrp-Set-XML100/README', '../../../../../VRP-Omni-modified/Vrp-Set-XML100/Vrp-Set-XML100/genXML100.sh', '../../../../../VRP-Omni-modified/Vrp-Set-XML100/Vrp-Set-XML100/generator.py', '../../../../../VRP-Omni-modified/Vrp-Set-XML100/Vrp-Set-XML100/instances', '../../../../../VRP-Omni-modified/Vrp-Set-XML100/Vrp-Set-XML100/solutions']\n"
     ]
    },
    {
     "name": "stderr",
     "output_type": "stream",
     "text": [
      "/home/xunj/miniconda3/envs/amd/lib/python3.8/site-packages/torch/__init__.py:696: UserWarning: torch.set_default_tensor_type() is deprecated as of PyTorch 2.1, please use torch.set_default_dtype() and torch.set_default_device() as alternatives. (Triggered internally at /opt/conda/conda-bld/pytorch_1708025829503/work/torch/csrc/tensor/python_tensor.cpp:451.)\n",
      "  _C._set_default_tensor_type(t)\n",
      "Traceback (most recent call last):\n",
      "  File \"test.py\", line 140, in <module>\n",
      "    main()\n",
      "  File \"test.py\", line 103, in main\n",
      "    tester = Tester(env_params=env_params,\n",
      "  File \"/home/xunj/GradWork/AMDKD-main/AMDKD-main/AMDKD-POMO/CVRP/POMO/CVRPTester.py\", line 59, in __init__\n",
      "    assert self.path_list[-1].endswith(\".vrp\")\n",
      "AssertionError\n"
     ]
    },
    {
     "name": "stdout",
     "output_type": "stream",
     "text": [
      "Check out issue on set:  ../../../../../VRP-Omni-modified/Vrp-Set-XML100/Vrp-Set-XML100\n",
      "[2024-04-01 17:16:43] test.py(117) : DEBUG_MODE: False\n",
      "[2024-04-01 17:16:43] test.py(118) : USE_CUDA: True, CUDA_DEVICE_NUM: 0\n",
      "[2024-04-01 17:16:43] test.py(119) : env_params{'problem_size': 50, 'pomo_size': 50, 'distribution': {'data_type': 'mixed', 'n_cluster': 3, 'n_cluster_mix': 1, 'lower': 0.2, 'upper': 0.8, 'std': 0.07}, 'load_path': 'data/vrp_uniform50_1000_seed1234.pkl', 'load_raw': None}\n",
      "[2024-04-01 17:16:43] test.py(119) : model_params{'embedding_dim': 64, 'sqrt_embedding_dim': 8.0, 'encoder_layer_num': 6, 'qkv_dim': 8, 'head_num': 8, 'logit_clipping': 10, 'ff_hidden_dim': 512, 'eval_type': 'argmax'}\n",
      "[2024-04-01 17:16:43] test.py(119) : tester_params{'use_cuda': True, 'cuda_device_num': 0, 'model_load': {'path': 'pretrained/checkpoint-cvrp-100.pt', 'epoch': 'test'}, 'test_episodes': 1000, 'test_batch_size': 1, 'augmentation_enable': True, 'aug_factor': 8, 'aug_batch_size': 1, 'test_data_load': {'enable': False, 'filename': ''}, 'test_set_path': '../../../../../VRP-Omni-modified/Vrp-Set-XXL/XXL', 'test_set_opt_sol_path': '../../../../../VRP-Omni-modified/Vrp-Set-A/A-n33-sol', 'test_set_name': 'A-n33'}\n",
      "[2024-04-01 17:16:43] test.py(119) : logger_params{'log_file': {'desc': 'test_cvrp50_pretrained_epochtest', 'filename': 'log.txt', 'filepath': './result/20240401_181641_test_cvrp50_pretrained_epochtest'}}\n",
      "['../../../../../VRP-Omni-modified/Vrp-Set-XXL/XXL/Antwerp1.sol', '../../../../../VRP-Omni-modified/Vrp-Set-XXL/XXL/Antwerp2.sol', '../../../../../VRP-Omni-modified/Vrp-Set-XXL/XXL/Brussels1.sol', '../../../../../VRP-Omni-modified/Vrp-Set-XXL/XXL/Brussels2.sol', '../../../../../VRP-Omni-modified/Vrp-Set-XXL/XXL/Flanders1.sol', '../../../../../VRP-Omni-modified/Vrp-Set-XXL/XXL/Flanders2.sol', '../../../../../VRP-Omni-modified/Vrp-Set-XXL/XXL/Ghent1.sol', '../../../../../VRP-Omni-modified/Vrp-Set-XXL/XXL/Ghent1.vrp', '../../../../../VRP-Omni-modified/Vrp-Set-XXL/XXL/Ghent2.sol', '../../../../../VRP-Omni-modified/Vrp-Set-XXL/XXL/Ghent2.vrp', '../../../../../VRP-Omni-modified/Vrp-Set-XXL/XXL/Leuven1.sol', '../../../../../VRP-Omni-modified/Vrp-Set-XXL/XXL/Leuven1.vrp', '../../../../../VRP-Omni-modified/Vrp-Set-XXL/XXL/Leuven2.sol', '../../../../../VRP-Omni-modified/Vrp-Set-XXL/XXL/Leuven2.vrp']\n"
     ]
    },
    {
     "name": "stderr",
     "output_type": "stream",
     "text": [
      "/home/xunj/miniconda3/envs/amd/lib/python3.8/site-packages/torch/__init__.py:696: UserWarning: torch.set_default_tensor_type() is deprecated as of PyTorch 2.1, please use torch.set_default_dtype() and torch.set_default_device() as alternatives. (Triggered internally at /opt/conda/conda-bld/pytorch_1708025829503/work/torch/csrc/tensor/python_tensor.cpp:451.)\n",
      "  _C._set_default_tensor_type(t)\n",
      "Traceback (most recent call last):\n",
      "  File \"test.py\", line 140, in <module>\n",
      "    main()\n",
      "  File \"test.py\", line 103, in main\n",
      "    tester = Tester(env_params=env_params,\n",
      "  File \"/home/xunj/GradWork/AMDKD-main/AMDKD-main/AMDKD-POMO/CVRP/POMO/CVRPTester.py\", line 66, in __init__\n",
      "    self.test_data = self.pack_cvrplib(self.path_list)[: self.tester_params['test_episodes']]\n",
      "  File \"/home/xunj/GradWork/AMDKD-main/AMDKD-main/AMDKD-POMO/CVRP/POMO/CVRPTester.py\", line 230, in pack_cvrplib\n",
      "    original_locations = locations[:, 1:]\n",
      "UnboundLocalError: local variable 'locations' referenced before assignment\n"
     ]
    },
    {
     "name": "stdout",
     "output_type": "stream",
     "text": [
      "Check out issue on set:  ../../../../../VRP-Omni-modified/Vrp-Set-XXL/XXL\n",
      "[2024-04-01 17:16:47] test.py(117) : DEBUG_MODE: False\n",
      "[2024-04-01 17:16:47] test.py(118) : USE_CUDA: True, CUDA_DEVICE_NUM: 0\n",
      "[2024-04-01 17:16:47] test.py(119) : env_params{'problem_size': 50, 'pomo_size': 50, 'distribution': {'data_type': 'mixed', 'n_cluster': 3, 'n_cluster_mix': 1, 'lower': 0.2, 'upper': 0.8, 'std': 0.07}, 'load_path': 'data/vrp_uniform50_1000_seed1234.pkl', 'load_raw': None}\n",
      "[2024-04-01 17:16:47] test.py(119) : model_params{'embedding_dim': 64, 'sqrt_embedding_dim': 8.0, 'encoder_layer_num': 6, 'qkv_dim': 8, 'head_num': 8, 'logit_clipping': 10, 'ff_hidden_dim': 512, 'eval_type': 'argmax'}\n",
      "[2024-04-01 17:16:47] test.py(119) : tester_params{'use_cuda': True, 'cuda_device_num': 0, 'model_load': {'path': 'pretrained/checkpoint-cvrp-100.pt', 'epoch': 'test'}, 'test_episodes': 1000, 'test_batch_size': 1, 'augmentation_enable': True, 'aug_factor': 8, 'aug_batch_size': 1, 'test_data_load': {'enable': False, 'filename': ''}, 'test_set_path': '../../../../../VRP-Omni-modified/Vrp-Set-XXL/XXL-n15001', 'test_set_opt_sol_path': '../../../../../VRP-Omni-modified/Vrp-Set-A/A-n33-sol', 'test_set_name': 'A-n33'}\n",
      "[2024-04-01 17:16:47] test.py(119) : logger_params{'log_file': {'desc': 'test_cvrp50_pretrained_epochtest', 'filename': 'log.txt', 'filepath': './result/20240401_181645_test_cvrp50_pretrained_epochtest'}}\n",
      "['../../../../../VRP-Omni-modified/Vrp-Set-XXL/XXL-n15001/Brussels1.vrp']\n"
     ]
    },
    {
     "name": "stderr",
     "output_type": "stream",
     "text": [
      "/home/xunj/miniconda3/envs/amd/lib/python3.8/site-packages/torch/__init__.py:696: UserWarning: torch.set_default_tensor_type() is deprecated as of PyTorch 2.1, please use torch.set_default_dtype() and torch.set_default_device() as alternatives. (Triggered internally at /opt/conda/conda-bld/pytorch_1708025829503/work/torch/csrc/tensor/python_tensor.cpp:451.)\n",
      "  _C._set_default_tensor_type(t)\n"
     ]
    },
    {
     "name": "stdout",
     "output_type": "stream",
     "text": [
      "pretrained/checkpoint-cvrp-100.pt\n",
      "torch.Size([8, 1])\n",
      "torch.Size([8, 15000])\n"
     ]
    },
    {
     "name": "stderr",
     "output_type": "stream",
     "text": [
      "Traceback (most recent call last):\n",
      "  File \"test.py\", line 140, in <module>\n",
      "    main()\n",
      "  File \"test.py\", line 106, in main\n",
      "    tester.run()\n",
      "  File \"/home/xunj/GradWork/AMDKD-main/AMDKD-main/AMDKD-POMO/CVRP/POMO/CVRPTester.py\", line 125, in run\n",
      "    score, aug_score,all_score,all_aug_score = self._test_one_batch(batch_size, episode,data=data)\n",
      "  File \"/home/xunj/GradWork/AMDKD-main/AMDKD-main/AMDKD-POMO/CVRP/POMO/CVRPTester.py\", line 181, in _test_one_batch\n",
      "    self.model.pre_forward(reset_state, attn_type='qk_scaled')\n",
      "  File \"/home/xunj/GradWork/AMDKD-main/AMDKD-main/AMDKD-POMO/CVRP/POMO/CVRPModel.py\", line 37, in pre_forward\n",
      "    embedding, self.encoded_nodes, attn = self.encoder(depot_xy, node_xy_demand, attn_type)\n",
      "  File \"/home/xunj/miniconda3/envs/amd/lib/python3.8/site-packages/torch/nn/modules/module.py\", line 1511, in _wrapped_call_impl\n",
      "    return self._call_impl(*args, **kwargs)\n",
      "  File \"/home/xunj/miniconda3/envs/amd/lib/python3.8/site-packages/torch/nn/modules/module.py\", line 1520, in _call_impl\n",
      "    return forward_call(*args, **kwargs)\n",
      "  File \"/home/xunj/GradWork/AMDKD-main/AMDKD-main/AMDKD-POMO/CVRP/POMO/CVRPModel.py\", line 162, in forward\n",
      "    out = layer([out, count, attn_type])\n",
      "  File \"/home/xunj/miniconda3/envs/amd/lib/python3.8/site-packages/torch/nn/modules/module.py\", line 1511, in _wrapped_call_impl\n",
      "    return self._call_impl(*args, **kwargs)\n",
      "  File \"/home/xunj/miniconda3/envs/amd/lib/python3.8/site-packages/torch/nn/modules/module.py\", line 1520, in _call_impl\n",
      "    return forward_call(*args, **kwargs)\n",
      "  File \"/home/xunj/GradWork/AMDKD-main/AMDKD-main/AMDKD-POMO/CVRP/POMO/CVRPModel.py\", line 205, in forward\n",
      "    out_concat = multi_head_attention(q, k, v, attn_type=attn_type)\n",
      "  File \"/home/xunj/GradWork/AMDKD-main/AMDKD-main/AMDKD-POMO/CVRP/POMO/CVRPModel.py\", line 354, in multi_head_attention\n",
      "    score = torch.matmul(q, k.transpose(2, 3))\n",
      "torch.cuda.OutOfMemoryError: CUDA out of memory. Tried to allocate 53.65 GiB. GPU 0 has a total capacity of 23.69 GiB of which 9.40 GiB is free. Process 1576934 has 348.00 MiB memory in use. Including non-PyTorch memory, this process has 13.95 GiB memory in use. Of the allocated memory 13.63 GiB is allocated by PyTorch, and 12.92 MiB is reserved by PyTorch but unallocated. If reserved but unallocated memory is large try setting PYTORCH_CUDA_ALLOC_CONF=expandable_segments:True to avoid fragmentation.  See documentation for Memory Management  (https://pytorch.org/docs/stable/notes/cuda.html#environment-variables)\n"
     ]
    },
    {
     "name": "stdout",
     "output_type": "stream",
     "text": [
      "Check out issue on set:  ../../../../../VRP-Omni-modified/Vrp-Set-XXL/XXL-n15001\n",
      "[2024-04-01 17:16:51] test.py(117) : DEBUG_MODE: False\n",
      "[2024-04-01 17:16:51] test.py(118) : USE_CUDA: True, CUDA_DEVICE_NUM: 0\n",
      "[2024-04-01 17:16:51] test.py(119) : env_params{'problem_size': 50, 'pomo_size': 50, 'distribution': {'data_type': 'mixed', 'n_cluster': 3, 'n_cluster_mix': 1, 'lower': 0.2, 'upper': 0.8, 'std': 0.07}, 'load_path': 'data/vrp_uniform50_1000_seed1234.pkl', 'load_raw': None}\n",
      "[2024-04-01 17:16:51] test.py(119) : model_params{'embedding_dim': 64, 'sqrt_embedding_dim': 8.0, 'encoder_layer_num': 6, 'qkv_dim': 8, 'head_num': 8, 'logit_clipping': 10, 'ff_hidden_dim': 512, 'eval_type': 'argmax'}\n",
      "[2024-04-01 17:16:51] test.py(119) : tester_params{'use_cuda': True, 'cuda_device_num': 0, 'model_load': {'path': 'pretrained/checkpoint-cvrp-100.pt', 'epoch': 'test'}, 'test_episodes': 1000, 'test_batch_size': 1, 'augmentation_enable': True, 'aug_factor': 8, 'aug_batch_size': 1, 'test_data_load': {'enable': False, 'filename': ''}, 'test_set_path': '../../../../../VRP-Omni-modified/Vrp-Set-XXL/XXL-n16001', 'test_set_opt_sol_path': '../../../../../VRP-Omni-modified/Vrp-Set-A/A-n33-sol', 'test_set_name': 'A-n33'}\n",
      "[2024-04-01 17:16:51] test.py(119) : logger_params{'log_file': {'desc': 'test_cvrp50_pretrained_epochtest', 'filename': 'log.txt', 'filepath': './result/20240401_181649_test_cvrp50_pretrained_epochtest'}}\n",
      "['../../../../../VRP-Omni-modified/Vrp-Set-XXL/XXL-n16001/Brussels2.vrp']\n"
     ]
    },
    {
     "name": "stderr",
     "output_type": "stream",
     "text": [
      "/home/xunj/miniconda3/envs/amd/lib/python3.8/site-packages/torch/__init__.py:696: UserWarning: torch.set_default_tensor_type() is deprecated as of PyTorch 2.1, please use torch.set_default_dtype() and torch.set_default_device() as alternatives. (Triggered internally at /opt/conda/conda-bld/pytorch_1708025829503/work/torch/csrc/tensor/python_tensor.cpp:451.)\n",
      "  _C._set_default_tensor_type(t)\n"
     ]
    },
    {
     "name": "stdout",
     "output_type": "stream",
     "text": [
      "pretrained/checkpoint-cvrp-100.pt\n",
      "torch.Size([8, 1])\n",
      "torch.Size([8, 16000])\n"
     ]
    },
    {
     "name": "stderr",
     "output_type": "stream",
     "text": [
      "Traceback (most recent call last):\n",
      "  File \"test.py\", line 140, in <module>\n",
      "    main()\n",
      "  File \"test.py\", line 106, in main\n",
      "    tester.run()\n",
      "  File \"/home/xunj/GradWork/AMDKD-main/AMDKD-main/AMDKD-POMO/CVRP/POMO/CVRPTester.py\", line 125, in run\n",
      "    score, aug_score,all_score,all_aug_score = self._test_one_batch(batch_size, episode,data=data)\n",
      "  File \"/home/xunj/GradWork/AMDKD-main/AMDKD-main/AMDKD-POMO/CVRP/POMO/CVRPTester.py\", line 181, in _test_one_batch\n",
      "    self.model.pre_forward(reset_state, attn_type='qk_scaled')\n",
      "  File \"/home/xunj/GradWork/AMDKD-main/AMDKD-main/AMDKD-POMO/CVRP/POMO/CVRPModel.py\", line 37, in pre_forward\n",
      "    embedding, self.encoded_nodes, attn = self.encoder(depot_xy, node_xy_demand, attn_type)\n",
      "  File \"/home/xunj/miniconda3/envs/amd/lib/python3.8/site-packages/torch/nn/modules/module.py\", line 1511, in _wrapped_call_impl\n",
      "    return self._call_impl(*args, **kwargs)\n",
      "  File \"/home/xunj/miniconda3/envs/amd/lib/python3.8/site-packages/torch/nn/modules/module.py\", line 1520, in _call_impl\n",
      "    return forward_call(*args, **kwargs)\n",
      "  File \"/home/xunj/GradWork/AMDKD-main/AMDKD-main/AMDKD-POMO/CVRP/POMO/CVRPModel.py\", line 162, in forward\n",
      "    out = layer([out, count, attn_type])\n",
      "  File \"/home/xunj/miniconda3/envs/amd/lib/python3.8/site-packages/torch/nn/modules/module.py\", line 1511, in _wrapped_call_impl\n",
      "    return self._call_impl(*args, **kwargs)\n",
      "  File \"/home/xunj/miniconda3/envs/amd/lib/python3.8/site-packages/torch/nn/modules/module.py\", line 1520, in _call_impl\n",
      "    return forward_call(*args, **kwargs)\n",
      "  File \"/home/xunj/GradWork/AMDKD-main/AMDKD-main/AMDKD-POMO/CVRP/POMO/CVRPModel.py\", line 205, in forward\n",
      "    out_concat = multi_head_attention(q, k, v, attn_type=attn_type)\n",
      "  File \"/home/xunj/GradWork/AMDKD-main/AMDKD-main/AMDKD-POMO/CVRP/POMO/CVRPModel.py\", line 354, in multi_head_attention\n",
      "    score = torch.matmul(q, k.transpose(2, 3))\n",
      "torch.cuda.OutOfMemoryError: CUDA out of memory. Tried to allocate 61.04 GiB. GPU 0 has a total capacity of 23.69 GiB of which 7.53 GiB is free. Process 1576934 has 348.00 MiB memory in use. Including non-PyTorch memory, this process has 15.81 GiB memory in use. Of the allocated memory 15.49 GiB is allocated by PyTorch, and 14.43 MiB is reserved by PyTorch but unallocated. If reserved but unallocated memory is large try setting PYTORCH_CUDA_ALLOC_CONF=expandable_segments:True to avoid fragmentation.  See documentation for Memory Management  (https://pytorch.org/docs/stable/notes/cuda.html#environment-variables)\n"
     ]
    },
    {
     "name": "stdout",
     "output_type": "stream",
     "text": [
      "Check out issue on set:  ../../../../../VRP-Omni-modified/Vrp-Set-XXL/XXL-n16001\n",
      "[2024-04-01 17:16:55] test.py(117) : DEBUG_MODE: False\n",
      "[2024-04-01 17:16:55] test.py(118) : USE_CUDA: True, CUDA_DEVICE_NUM: 0\n",
      "[2024-04-01 17:16:55] test.py(119) : env_params{'problem_size': 50, 'pomo_size': 50, 'distribution': {'data_type': 'mixed', 'n_cluster': 3, 'n_cluster_mix': 1, 'lower': 0.2, 'upper': 0.8, 'std': 0.07}, 'load_path': 'data/vrp_uniform50_1000_seed1234.pkl', 'load_raw': None}\n",
      "[2024-04-01 17:16:55] test.py(119) : model_params{'embedding_dim': 64, 'sqrt_embedding_dim': 8.0, 'encoder_layer_num': 6, 'qkv_dim': 8, 'head_num': 8, 'logit_clipping': 10, 'ff_hidden_dim': 512, 'eval_type': 'argmax'}\n",
      "[2024-04-01 17:16:55] test.py(119) : tester_params{'use_cuda': True, 'cuda_device_num': 0, 'model_load': {'path': 'pretrained/checkpoint-cvrp-100.pt', 'epoch': 'test'}, 'test_episodes': 1000, 'test_batch_size': 1, 'augmentation_enable': True, 'aug_factor': 8, 'aug_batch_size': 1, 'test_data_load': {'enable': False, 'filename': ''}, 'test_set_path': '../../../../../VRP-Omni-modified/Vrp-Set-XXL/XXL-n20001', 'test_set_opt_sol_path': '../../../../../VRP-Omni-modified/Vrp-Set-A/A-n33-sol', 'test_set_name': 'A-n33'}\n",
      "[2024-04-01 17:16:55] test.py(119) : logger_params{'log_file': {'desc': 'test_cvrp50_pretrained_epochtest', 'filename': 'log.txt', 'filepath': './result/20240401_181653_test_cvrp50_pretrained_epochtest'}}\n",
      "['../../../../../VRP-Omni-modified/Vrp-Set-XXL/XXL-n20001/Flanders1.vrp']\n"
     ]
    },
    {
     "name": "stderr",
     "output_type": "stream",
     "text": [
      "/home/xunj/miniconda3/envs/amd/lib/python3.8/site-packages/torch/__init__.py:696: UserWarning: torch.set_default_tensor_type() is deprecated as of PyTorch 2.1, please use torch.set_default_dtype() and torch.set_default_device() as alternatives. (Triggered internally at /opt/conda/conda-bld/pytorch_1708025829503/work/torch/csrc/tensor/python_tensor.cpp:451.)\n",
      "  _C._set_default_tensor_type(t)\n"
     ]
    },
    {
     "name": "stdout",
     "output_type": "stream",
     "text": [
      "pretrained/checkpoint-cvrp-100.pt\n",
      "torch.Size([8, 1])\n",
      "torch.Size([8, 20000])\n"
     ]
    },
    {
     "name": "stderr",
     "output_type": "stream",
     "text": [
      "Traceback (most recent call last):\n",
      "  File \"test.py\", line 140, in <module>\n",
      "    main()\n",
      "  File \"test.py\", line 106, in main\n",
      "    tester.run()\n",
      "  File \"/home/xunj/GradWork/AMDKD-main/AMDKD-main/AMDKD-POMO/CVRP/POMO/CVRPTester.py\", line 125, in run\n",
      "    score, aug_score,all_score,all_aug_score = self._test_one_batch(batch_size, episode,data=data)\n",
      "  File \"/home/xunj/GradWork/AMDKD-main/AMDKD-main/AMDKD-POMO/CVRP/POMO/CVRPTester.py\", line 180, in _test_one_batch\n",
      "    reset_state, _, _ = self.env.reset()\n",
      "  File \"/home/xunj/GradWork/AMDKD-main/AMDKD-main/AMDKD-POMO/CVRP/POMO/CVRPEnv.py\", line 154, in reset\n",
      "    self.ninf_mask = torch.zeros(size=(self.batch_size, self.pomo_size, self.problem_size+1))\n",
      "torch.cuda.OutOfMemoryError: CUDA out of memory. Tried to allocate 11.92 GiB. GPU 0 has a total capacity of 23.69 GiB of which 11.10 GiB is free. Process 1576934 has 348.00 MiB memory in use. Including non-PyTorch memory, this process has 12.24 GiB memory in use. Of the allocated memory 11.93 GiB is allocated by PyTorch, and 19.16 MiB is reserved by PyTorch but unallocated. If reserved but unallocated memory is large try setting PYTORCH_CUDA_ALLOC_CONF=expandable_segments:True to avoid fragmentation.  See documentation for Memory Management  (https://pytorch.org/docs/stable/notes/cuda.html#environment-variables)\n"
     ]
    },
    {
     "name": "stdout",
     "output_type": "stream",
     "text": [
      "Check out issue on set:  ../../../../../VRP-Omni-modified/Vrp-Set-XXL/XXL-n20001\n",
      "[2024-04-01 17:16:59] test.py(117) : DEBUG_MODE: False\n",
      "[2024-04-01 17:16:59] test.py(118) : USE_CUDA: True, CUDA_DEVICE_NUM: 0\n",
      "[2024-04-01 17:16:59] test.py(119) : env_params{'problem_size': 50, 'pomo_size': 50, 'distribution': {'data_type': 'mixed', 'n_cluster': 3, 'n_cluster_mix': 1, 'lower': 0.2, 'upper': 0.8, 'std': 0.07}, 'load_path': 'data/vrp_uniform50_1000_seed1234.pkl', 'load_raw': None}\n",
      "[2024-04-01 17:16:59] test.py(119) : model_params{'embedding_dim': 64, 'sqrt_embedding_dim': 8.0, 'encoder_layer_num': 6, 'qkv_dim': 8, 'head_num': 8, 'logit_clipping': 10, 'ff_hidden_dim': 512, 'eval_type': 'argmax'}\n",
      "[2024-04-01 17:16:59] test.py(119) : tester_params{'use_cuda': True, 'cuda_device_num': 0, 'model_load': {'path': 'pretrained/checkpoint-cvrp-100.pt', 'epoch': 'test'}, 'test_episodes': 1000, 'test_batch_size': 1, 'augmentation_enable': True, 'aug_factor': 8, 'aug_batch_size': 1, 'test_data_load': {'enable': False, 'filename': ''}, 'test_set_path': '../../../../../VRP-Omni-modified/Vrp-Set-XXL/XXL-n30001', 'test_set_opt_sol_path': '../../../../../VRP-Omni-modified/Vrp-Set-A/A-n33-sol', 'test_set_name': 'A-n33'}\n",
      "[2024-04-01 17:16:59] test.py(119) : logger_params{'log_file': {'desc': 'test_cvrp50_pretrained_epochtest', 'filename': 'log.txt', 'filepath': './result/20240401_181657_test_cvrp50_pretrained_epochtest'}}\n",
      "['../../../../../VRP-Omni-modified/Vrp-Set-XXL/XXL-n30001/Flanders2.vrp']\n"
     ]
    },
    {
     "name": "stderr",
     "output_type": "stream",
     "text": [
      "/home/xunj/miniconda3/envs/amd/lib/python3.8/site-packages/torch/__init__.py:696: UserWarning: torch.set_default_tensor_type() is deprecated as of PyTorch 2.1, please use torch.set_default_dtype() and torch.set_default_device() as alternatives. (Triggered internally at /opt/conda/conda-bld/pytorch_1708025829503/work/torch/csrc/tensor/python_tensor.cpp:451.)\n",
      "  _C._set_default_tensor_type(t)\n"
     ]
    },
    {
     "name": "stdout",
     "output_type": "stream",
     "text": [
      "pretrained/checkpoint-cvrp-100.pt\n",
      "torch.Size([8, 1])\n",
      "torch.Size([8, 30000])\n"
     ]
    },
    {
     "name": "stderr",
     "output_type": "stream",
     "text": [
      "Traceback (most recent call last):\n",
      "  File \"test.py\", line 140, in <module>\n",
      "    main()\n",
      "  File \"test.py\", line 106, in main\n",
      "    tester.run()\n",
      "  File \"/home/xunj/GradWork/AMDKD-main/AMDKD-main/AMDKD-POMO/CVRP/POMO/CVRPTester.py\", line 125, in run\n",
      "    score, aug_score,all_score,all_aug_score = self._test_one_batch(batch_size, episode,data=data)\n",
      "  File \"/home/xunj/GradWork/AMDKD-main/AMDKD-main/AMDKD-POMO/CVRP/POMO/CVRPTester.py\", line 180, in _test_one_batch\n",
      "    reset_state, _, _ = self.env.reset()\n",
      "  File \"/home/xunj/GradWork/AMDKD-main/AMDKD-main/AMDKD-POMO/CVRP/POMO/CVRPEnv.py\", line 152, in reset\n",
      "    self.visited_ninf_flag = torch.zeros(size=(self.batch_size, self.pomo_size, self.problem_size+1))\n",
      "torch.cuda.OutOfMemoryError: CUDA out of memory. Tried to allocate 26.82 GiB. GPU 0 has a total capacity of 23.69 GiB of which 23.03 GiB is free. Process 1576934 has 348.00 MiB memory in use. Including non-PyTorch memory, this process has 324.00 MiB memory in use. Of the allocated memory 9.25 MiB is allocated by PyTorch, and 16.75 MiB is reserved by PyTorch but unallocated. If reserved but unallocated memory is large try setting PYTORCH_CUDA_ALLOC_CONF=expandable_segments:True to avoid fragmentation.  See documentation for Memory Management  (https://pytorch.org/docs/stable/notes/cuda.html#environment-variables)\n"
     ]
    },
    {
     "name": "stdout",
     "output_type": "stream",
     "text": [
      "Check out issue on set:  ../../../../../VRP-Omni-modified/Vrp-Set-XXL/XXL-n30001\n",
      "[2024-04-01 17:17:02] test.py(117) : DEBUG_MODE: False\n",
      "[2024-04-01 17:17:02] test.py(118) : USE_CUDA: True, CUDA_DEVICE_NUM: 0\n",
      "[2024-04-01 17:17:02] test.py(119) : env_params{'problem_size': 50, 'pomo_size': 50, 'distribution': {'data_type': 'mixed', 'n_cluster': 3, 'n_cluster_mix': 1, 'lower': 0.2, 'upper': 0.8, 'std': 0.07}, 'load_path': 'data/vrp_uniform50_1000_seed1234.pkl', 'load_raw': None}\n",
      "[2024-04-01 17:17:02] test.py(119) : model_params{'embedding_dim': 64, 'sqrt_embedding_dim': 8.0, 'encoder_layer_num': 6, 'qkv_dim': 8, 'head_num': 8, 'logit_clipping': 10, 'ff_hidden_dim': 512, 'eval_type': 'argmax'}\n",
      "[2024-04-01 17:17:02] test.py(119) : tester_params{'use_cuda': True, 'cuda_device_num': 0, 'model_load': {'path': 'pretrained/checkpoint-cvrp-100.pt', 'epoch': 'test'}, 'test_episodes': 1000, 'test_batch_size': 1, 'augmentation_enable': True, 'aug_factor': 8, 'aug_batch_size': 1, 'test_data_load': {'enable': False, 'filename': ''}, 'test_set_path': '../../../../../VRP-Omni-modified/Vrp-Set-XXL/XXL-n6001', 'test_set_opt_sol_path': '../../../../../VRP-Omni-modified/Vrp-Set-A/A-n33-sol', 'test_set_name': 'A-n33'}\n",
      "[2024-04-01 17:17:02] test.py(119) : logger_params{'log_file': {'desc': 'test_cvrp50_pretrained_epochtest', 'filename': 'log.txt', 'filepath': './result/20240401_181700_test_cvrp50_pretrained_epochtest'}}\n",
      "['../../../../../VRP-Omni-modified/Vrp-Set-XXL/XXL-n6001/Antwerp1.vrp']\n"
     ]
    },
    {
     "name": "stderr",
     "output_type": "stream",
     "text": [
      "/home/xunj/miniconda3/envs/amd/lib/python3.8/site-packages/torch/__init__.py:696: UserWarning: torch.set_default_tensor_type() is deprecated as of PyTorch 2.1, please use torch.set_default_dtype() and torch.set_default_device() as alternatives. (Triggered internally at /opt/conda/conda-bld/pytorch_1708025829503/work/torch/csrc/tensor/python_tensor.cpp:451.)\n",
      "  _C._set_default_tensor_type(t)\n"
     ]
    },
    {
     "name": "stdout",
     "output_type": "stream",
     "text": [
      "pretrained/checkpoint-cvrp-100.pt\n",
      "torch.Size([8, 1])\n",
      "torch.Size([8, 6000])\n"
     ]
    },
    {
     "name": "stderr",
     "output_type": "stream",
     "text": [
      "Traceback (most recent call last):\n",
      "  File \"test.py\", line 140, in <module>\n",
      "    main()\n",
      "  File \"test.py\", line 106, in main\n",
      "    tester.run()\n",
      "  File \"/home/xunj/GradWork/AMDKD-main/AMDKD-main/AMDKD-POMO/CVRP/POMO/CVRPTester.py\", line 125, in run\n",
      "    score, aug_score,all_score,all_aug_score = self._test_one_batch(batch_size, episode,data=data)\n",
      "  File \"/home/xunj/GradWork/AMDKD-main/AMDKD-main/AMDKD-POMO/CVRP/POMO/CVRPTester.py\", line 181, in _test_one_batch\n",
      "    self.model.pre_forward(reset_state, attn_type='qk_scaled')\n",
      "  File \"/home/xunj/GradWork/AMDKD-main/AMDKD-main/AMDKD-POMO/CVRP/POMO/CVRPModel.py\", line 37, in pre_forward\n",
      "    embedding, self.encoded_nodes, attn = self.encoder(depot_xy, node_xy_demand, attn_type)\n",
      "  File \"/home/xunj/miniconda3/envs/amd/lib/python3.8/site-packages/torch/nn/modules/module.py\", line 1511, in _wrapped_call_impl\n",
      "    return self._call_impl(*args, **kwargs)\n",
      "  File \"/home/xunj/miniconda3/envs/amd/lib/python3.8/site-packages/torch/nn/modules/module.py\", line 1520, in _call_impl\n",
      "    return forward_call(*args, **kwargs)\n",
      "  File \"/home/xunj/GradWork/AMDKD-main/AMDKD-main/AMDKD-POMO/CVRP/POMO/CVRPModel.py\", line 162, in forward\n",
      "    out = layer([out, count, attn_type])\n",
      "  File \"/home/xunj/miniconda3/envs/amd/lib/python3.8/site-packages/torch/nn/modules/module.py\", line 1511, in _wrapped_call_impl\n",
      "    return self._call_impl(*args, **kwargs)\n",
      "  File \"/home/xunj/miniconda3/envs/amd/lib/python3.8/site-packages/torch/nn/modules/module.py\", line 1520, in _call_impl\n",
      "    return forward_call(*args, **kwargs)\n",
      "  File \"/home/xunj/GradWork/AMDKD-main/AMDKD-main/AMDKD-POMO/CVRP/POMO/CVRPModel.py\", line 205, in forward\n",
      "    out_concat = multi_head_attention(q, k, v, attn_type=attn_type)\n",
      "  File \"/home/xunj/GradWork/AMDKD-main/AMDKD-main/AMDKD-POMO/CVRP/POMO/CVRPModel.py\", line 365, in multi_head_attention\n",
      "    weights = nn.Softmax(dim=3)(score_scaled)\n",
      "  File \"/home/xunj/miniconda3/envs/amd/lib/python3.8/site-packages/torch/nn/modules/module.py\", line 1511, in _wrapped_call_impl\n",
      "    return self._call_impl(*args, **kwargs)\n",
      "  File \"/home/xunj/miniconda3/envs/amd/lib/python3.8/site-packages/torch/nn/modules/module.py\", line 1520, in _call_impl\n",
      "    return forward_call(*args, **kwargs)\n",
      "  File \"/home/xunj/miniconda3/envs/amd/lib/python3.8/site-packages/torch/nn/modules/activation.py\", line 1514, in forward\n",
      "    return F.softmax(input, self.dim, _stacklevel=5)\n",
      "  File \"/home/xunj/miniconda3/envs/amd/lib/python3.8/site-packages/torch/nn/functional.py\", line 1858, in softmax\n",
      "    ret = input.softmax(dim)\n",
      "torch.cuda.OutOfMemoryError: CUDA out of memory. Tried to allocate 8.59 GiB. GPU 0 has a total capacity of 23.69 GiB of which 3.65 GiB is free. Process 1576934 has 348.00 MiB memory in use. Including non-PyTorch memory, this process has 19.69 GiB memory in use. Of the allocated memory 19.39 GiB is allocated by PyTorch, and 4.29 MiB is reserved by PyTorch but unallocated. If reserved but unallocated memory is large try setting PYTORCH_CUDA_ALLOC_CONF=expandable_segments:True to avoid fragmentation.  See documentation for Memory Management  (https://pytorch.org/docs/stable/notes/cuda.html#environment-variables)\n"
     ]
    },
    {
     "name": "stdout",
     "output_type": "stream",
     "text": [
      "Check out issue on set:  ../../../../../VRP-Omni-modified/Vrp-Set-XXL/XXL-n6001\n",
      "[2024-04-01 17:17:06] test.py(117) : DEBUG_MODE: False\n",
      "[2024-04-01 17:17:06] test.py(118) : USE_CUDA: True, CUDA_DEVICE_NUM: 0\n",
      "[2024-04-01 17:17:06] test.py(119) : env_params{'problem_size': 50, 'pomo_size': 50, 'distribution': {'data_type': 'mixed', 'n_cluster': 3, 'n_cluster_mix': 1, 'lower': 0.2, 'upper': 0.8, 'std': 0.07}, 'load_path': 'data/vrp_uniform50_1000_seed1234.pkl', 'load_raw': None}\n",
      "[2024-04-01 17:17:06] test.py(119) : model_params{'embedding_dim': 64, 'sqrt_embedding_dim': 8.0, 'encoder_layer_num': 6, 'qkv_dim': 8, 'head_num': 8, 'logit_clipping': 10, 'ff_hidden_dim': 512, 'eval_type': 'argmax'}\n",
      "[2024-04-01 17:17:06] test.py(119) : tester_params{'use_cuda': True, 'cuda_device_num': 0, 'model_load': {'path': 'pretrained/checkpoint-cvrp-100.pt', 'epoch': 'test'}, 'test_episodes': 1000, 'test_batch_size': 1, 'augmentation_enable': True, 'aug_factor': 8, 'aug_batch_size': 1, 'test_data_load': {'enable': False, 'filename': ''}, 'test_set_path': '../../../../../VRP-Omni-modified/Vrp-Set-XXL/XXL-n7001', 'test_set_opt_sol_path': '../../../../../VRP-Omni-modified/Vrp-Set-A/A-n33-sol', 'test_set_name': 'A-n33'}\n",
      "[2024-04-01 17:17:06] test.py(119) : logger_params{'log_file': {'desc': 'test_cvrp50_pretrained_epochtest', 'filename': 'log.txt', 'filepath': './result/20240401_181704_test_cvrp50_pretrained_epochtest'}}\n",
      "['../../../../../VRP-Omni-modified/Vrp-Set-XXL/XXL-n7001/Antwerp2.vrp']\n"
     ]
    },
    {
     "name": "stderr",
     "output_type": "stream",
     "text": [
      "/home/xunj/miniconda3/envs/amd/lib/python3.8/site-packages/torch/__init__.py:696: UserWarning: torch.set_default_tensor_type() is deprecated as of PyTorch 2.1, please use torch.set_default_dtype() and torch.set_default_device() as alternatives. (Triggered internally at /opt/conda/conda-bld/pytorch_1708025829503/work/torch/csrc/tensor/python_tensor.cpp:451.)\n",
      "  _C._set_default_tensor_type(t)\n"
     ]
    },
    {
     "name": "stdout",
     "output_type": "stream",
     "text": [
      "pretrained/checkpoint-cvrp-100.pt\n",
      "torch.Size([8, 1])\n",
      "torch.Size([8, 7000])\n"
     ]
    },
    {
     "name": "stderr",
     "output_type": "stream",
     "text": [
      "Traceback (most recent call last):\n",
      "  File \"test.py\", line 140, in <module>\n",
      "    main()\n",
      "  File \"test.py\", line 106, in main\n",
      "    tester.run()\n",
      "  File \"/home/xunj/GradWork/AMDKD-main/AMDKD-main/AMDKD-POMO/CVRP/POMO/CVRPTester.py\", line 125, in run\n",
      "    score, aug_score,all_score,all_aug_score = self._test_one_batch(batch_size, episode,data=data)\n",
      "  File \"/home/xunj/GradWork/AMDKD-main/AMDKD-main/AMDKD-POMO/CVRP/POMO/CVRPTester.py\", line 181, in _test_one_batch\n",
      "    self.model.pre_forward(reset_state, attn_type='qk_scaled')\n",
      "  File \"/home/xunj/GradWork/AMDKD-main/AMDKD-main/AMDKD-POMO/CVRP/POMO/CVRPModel.py\", line 37, in pre_forward\n",
      "    embedding, self.encoded_nodes, attn = self.encoder(depot_xy, node_xy_demand, attn_type)\n",
      "  File \"/home/xunj/miniconda3/envs/amd/lib/python3.8/site-packages/torch/nn/modules/module.py\", line 1511, in _wrapped_call_impl\n",
      "    return self._call_impl(*args, **kwargs)\n",
      "  File \"/home/xunj/miniconda3/envs/amd/lib/python3.8/site-packages/torch/nn/modules/module.py\", line 1520, in _call_impl\n",
      "    return forward_call(*args, **kwargs)\n",
      "  File \"/home/xunj/GradWork/AMDKD-main/AMDKD-main/AMDKD-POMO/CVRP/POMO/CVRPModel.py\", line 162, in forward\n",
      "    out = layer([out, count, attn_type])\n",
      "  File \"/home/xunj/miniconda3/envs/amd/lib/python3.8/site-packages/torch/nn/modules/module.py\", line 1511, in _wrapped_call_impl\n",
      "    return self._call_impl(*args, **kwargs)\n",
      "  File \"/home/xunj/miniconda3/envs/amd/lib/python3.8/site-packages/torch/nn/modules/module.py\", line 1520, in _call_impl\n",
      "    return forward_call(*args, **kwargs)\n",
      "  File \"/home/xunj/GradWork/AMDKD-main/AMDKD-main/AMDKD-POMO/CVRP/POMO/CVRPModel.py\", line 205, in forward\n",
      "    out_concat = multi_head_attention(q, k, v, attn_type=attn_type)\n",
      "  File \"/home/xunj/GradWork/AMDKD-main/AMDKD-main/AMDKD-POMO/CVRP/POMO/CVRPModel.py\", line 357, in multi_head_attention\n",
      "    score_scaled = score / torch.sqrt(torch.tensor(key_dim, dtype=torch.float))\n",
      "torch.cuda.OutOfMemoryError: CUDA out of memory. Tried to allocate 11.69 GiB. GPU 0 has a total capacity of 23.69 GiB of which 8.34 GiB is free. Process 1576934 has 348.00 MiB memory in use. Including non-PyTorch memory, this process has 15.00 GiB memory in use. Of the allocated memory 14.69 GiB is allocated by PyTorch, and 15.15 MiB is reserved by PyTorch but unallocated. If reserved but unallocated memory is large try setting PYTORCH_CUDA_ALLOC_CONF=expandable_segments:True to avoid fragmentation.  See documentation for Memory Management  (https://pytorch.org/docs/stable/notes/cuda.html#environment-variables)\n"
     ]
    },
    {
     "name": "stdout",
     "output_type": "stream",
     "text": [
      "Check out issue on set:  ../../../../../VRP-Omni-modified/Vrp-Set-XXL/XXL-n7001\n",
      "[2024-04-01 17:17:10] test.py(117) : DEBUG_MODE: False\n",
      "[2024-04-01 17:17:10] test.py(118) : USE_CUDA: True, CUDA_DEVICE_NUM: 0\n",
      "[2024-04-01 17:17:10] test.py(119) : env_params{'problem_size': 50, 'pomo_size': 50, 'distribution': {'data_type': 'mixed', 'n_cluster': 3, 'n_cluster_mix': 1, 'lower': 0.2, 'upper': 0.8, 'std': 0.07}, 'load_path': 'data/vrp_uniform50_1000_seed1234.pkl', 'load_raw': None}\n",
      "[2024-04-01 17:17:10] test.py(119) : model_params{'embedding_dim': 64, 'sqrt_embedding_dim': 8.0, 'encoder_layer_num': 6, 'qkv_dim': 8, 'head_num': 8, 'logit_clipping': 10, 'ff_hidden_dim': 512, 'eval_type': 'argmax'}\n",
      "[2024-04-01 17:17:10] test.py(119) : tester_params{'use_cuda': True, 'cuda_device_num': 0, 'model_load': {'path': 'pretrained/checkpoint-cvrp-100.pt', 'epoch': 'test'}, 'test_episodes': 1000, 'test_batch_size': 1, 'augmentation_enable': True, 'aug_factor': 8, 'aug_batch_size': 1, 'test_data_load': {'enable': False, 'filename': ''}, 'test_set_path': '../../../../../VRP-Omni-modified/Vrp-Set-tai/tai-n101', 'test_set_opt_sol_path': '../../../../../VRP-Omni-modified/Vrp-Set-A/A-n33-sol', 'test_set_name': 'A-n33'}\n",
      "[2024-04-01 17:17:10] test.py(119) : logger_params{'log_file': {'desc': 'test_cvrp50_pretrained_epochtest', 'filename': 'log.txt', 'filepath': './result/20240401_181708_test_cvrp50_pretrained_epochtest'}}\n",
      "['../../../../../VRP-Omni-modified/Vrp-Set-tai/tai-n101/tai100a.vrp', '../../../../../VRP-Omni-modified/Vrp-Set-tai/tai-n101/tai100b.vrp', '../../../../../VRP-Omni-modified/Vrp-Set-tai/tai-n101/tai100c.vrp', '../../../../../VRP-Omni-modified/Vrp-Set-tai/tai-n101/tai100d.vrp']\n"
     ]
    },
    {
     "name": "stderr",
     "output_type": "stream",
     "text": [
      "/home/xunj/miniconda3/envs/amd/lib/python3.8/site-packages/torch/__init__.py:696: UserWarning: torch.set_default_tensor_type() is deprecated as of PyTorch 2.1, please use torch.set_default_dtype() and torch.set_default_device() as alternatives. (Triggered internally at /opt/conda/conda-bld/pytorch_1708025829503/work/torch/csrc/tensor/python_tensor.cpp:451.)\n",
      "  _C._set_default_tensor_type(t)\n"
     ]
    },
    {
     "name": "stdout",
     "output_type": "stream",
     "text": [
      "pretrained/checkpoint-cvrp-100.pt\n",
      "torch.Size([8, 1])\n",
      "torch.Size([8, 100])\n",
      "[2024-04-01 17:17:11] CVRPTester.py(144) : episode   1/  4, Elapsed[0.01m], Remain[0.02m], score:2.201, aug_score:2.156\n",
      "torch.Size([8, 1])\n",
      "torch.Size([8, 100])\n",
      "[2024-04-01 17:17:11] CVRPTester.py(144) : episode   2/  4, Elapsed[0.01m], Remain[0.01m], score:2.111, aug_score:2.009\n",
      "torch.Size([8, 1])\n",
      "torch.Size([8, 100])\n",
      "[2024-04-01 17:17:11] CVRPTester.py(144) : episode   3/  4, Elapsed[0.01m], Remain[0.00m], score:1.478, aug_score:1.478\n",
      "torch.Size([8, 1])\n",
      "torch.Size([8, 100])\n",
      "[2024-04-01 17:17:11] CVRPTester.py(144) : episode   4/  4, Elapsed[0.01m], Remain[0.00m], score:1.702, aug_score:1.655\n",
      "[2024-04-01 17:17:11] CVRPTester.py(150) :  *** Test Done *** \n",
      "[2024-04-01 17:17:11] CVRPTester.py(151) :  NO-AUG SCORE: 1.8729325532913208 \n",
      "[2024-04-01 17:17:11] CVRPTester.py(152) :  AUGMENTATION SCORE: 1.824476718902588 \n",
      ">> Evaluation on ../../../../../VRP-Omni-modified/Vrp-Set-tai/tai-n101 finished within 0.12s\n",
      ">> Save final results to res/tai-n101\n",
      "Test on \" ../../../../../VRP-Omni-modified/Vrp-Set-tai/tai-n101 \" Success\n",
      "-----------------------------------------------------------------------------------------------------------------\n",
      "[2024-04-01 17:17:14] test.py(117) : DEBUG_MODE: False\n",
      "[2024-04-01 17:17:14] test.py(118) : USE_CUDA: True, CUDA_DEVICE_NUM: 0\n",
      "[2024-04-01 17:17:14] test.py(119) : env_params{'problem_size': 50, 'pomo_size': 50, 'distribution': {'data_type': 'mixed', 'n_cluster': 3, 'n_cluster_mix': 1, 'lower': 0.2, 'upper': 0.8, 'std': 0.07}, 'load_path': 'data/vrp_uniform50_1000_seed1234.pkl', 'load_raw': None}\n",
      "[2024-04-01 17:17:14] test.py(119) : model_params{'embedding_dim': 64, 'sqrt_embedding_dim': 8.0, 'encoder_layer_num': 6, 'qkv_dim': 8, 'head_num': 8, 'logit_clipping': 10, 'ff_hidden_dim': 512, 'eval_type': 'argmax'}\n",
      "[2024-04-01 17:17:14] test.py(119) : tester_params{'use_cuda': True, 'cuda_device_num': 0, 'model_load': {'path': 'pretrained/checkpoint-cvrp-100.pt', 'epoch': 'test'}, 'test_episodes': 1000, 'test_batch_size': 1, 'augmentation_enable': True, 'aug_factor': 8, 'aug_batch_size': 1, 'test_data_load': {'enable': False, 'filename': ''}, 'test_set_path': '../../../../../VRP-Omni-modified/Vrp-Set-tai/tai-n151', 'test_set_opt_sol_path': '../../../../../VRP-Omni-modified/Vrp-Set-A/A-n33-sol', 'test_set_name': 'A-n33'}\n",
      "[2024-04-01 17:17:14] test.py(119) : logger_params{'log_file': {'desc': 'test_cvrp50_pretrained_epochtest', 'filename': 'log.txt', 'filepath': './result/20240401_181713_test_cvrp50_pretrained_epochtest'}}\n",
      "['../../../../../VRP-Omni-modified/Vrp-Set-tai/tai-n151/tai150a.vrp', '../../../../../VRP-Omni-modified/Vrp-Set-tai/tai-n151/tai150b.vrp', '../../../../../VRP-Omni-modified/Vrp-Set-tai/tai-n151/tai150c.vrp', '../../../../../VRP-Omni-modified/Vrp-Set-tai/tai-n151/tai150d.vrp']\n",
      "pretrained/checkpoint-cvrp-100.pt\n"
     ]
    },
    {
     "name": "stderr",
     "output_type": "stream",
     "text": [
      "/home/xunj/miniconda3/envs/amd/lib/python3.8/site-packages/torch/__init__.py:696: UserWarning: torch.set_default_tensor_type() is deprecated as of PyTorch 2.1, please use torch.set_default_dtype() and torch.set_default_device() as alternatives. (Triggered internally at /opt/conda/conda-bld/pytorch_1708025829503/work/torch/csrc/tensor/python_tensor.cpp:451.)\n",
      "  _C._set_default_tensor_type(t)\n"
     ]
    },
    {
     "name": "stdout",
     "output_type": "stream",
     "text": [
      "torch.Size([8, 1])\n",
      "torch.Size([8, 150])\n",
      "[2024-04-01 17:17:15] CVRPTester.py(144) : episode   1/  4, Elapsed[0.01m], Remain[0.02m], score:3.350, aug_score:3.240\n",
      "torch.Size([8, 1])\n",
      "torch.Size([8, 150])\n",
      "[2024-04-01 17:17:15] CVRPTester.py(144) : episode   2/  4, Elapsed[0.01m], Remain[0.01m], score:3.021, aug_score:2.909\n",
      "torch.Size([8, 1])\n",
      "torch.Size([8, 150])\n",
      "[2024-04-01 17:17:16] CVRPTester.py(144) : episode   3/  4, Elapsed[0.01m], Remain[0.00m], score:2.567, aug_score:2.567\n",
      "torch.Size([8, 1])\n",
      "torch.Size([8, 150])\n",
      "[2024-04-01 17:17:16] CVRPTester.py(144) : episode   4/  4, Elapsed[0.02m], Remain[0.00m], score:2.889, aug_score:2.889\n",
      "[2024-04-01 17:17:16] CVRPTester.py(150) :  *** Test Done *** \n",
      "[2024-04-01 17:17:16] CVRPTester.py(151) :  NO-AUG SCORE: 2.9568426609039307 \n",
      "[2024-04-01 17:17:16] CVRPTester.py(152) :  AUGMENTATION SCORE: 2.901252031326294 \n",
      ">> Evaluation on ../../../../../VRP-Omni-modified/Vrp-Set-tai/tai-n151 finished within 0.21s\n",
      ">> Save final results to res/tai-n151\n",
      "Test on \" ../../../../../VRP-Omni-modified/Vrp-Set-tai/tai-n151 \" Success\n",
      "-----------------------------------------------------------------------------------------------------------------\n",
      "[2024-04-01 17:17:19] test.py(117) : DEBUG_MODE: False\n",
      "[2024-04-01 17:17:19] test.py(118) : USE_CUDA: True, CUDA_DEVICE_NUM: 0\n",
      "[2024-04-01 17:17:19] test.py(119) : env_params{'problem_size': 50, 'pomo_size': 50, 'distribution': {'data_type': 'mixed', 'n_cluster': 3, 'n_cluster_mix': 1, 'lower': 0.2, 'upper': 0.8, 'std': 0.07}, 'load_path': 'data/vrp_uniform50_1000_seed1234.pkl', 'load_raw': None}\n",
      "[2024-04-01 17:17:19] test.py(119) : model_params{'embedding_dim': 64, 'sqrt_embedding_dim': 8.0, 'encoder_layer_num': 6, 'qkv_dim': 8, 'head_num': 8, 'logit_clipping': 10, 'ff_hidden_dim': 512, 'eval_type': 'argmax'}\n",
      "[2024-04-01 17:17:19] test.py(119) : tester_params{'use_cuda': True, 'cuda_device_num': 0, 'model_load': {'path': 'pretrained/checkpoint-cvrp-100.pt', 'epoch': 'test'}, 'test_episodes': 1000, 'test_batch_size': 1, 'augmentation_enable': True, 'aug_factor': 8, 'aug_batch_size': 1, 'test_data_load': {'enable': False, 'filename': ''}, 'test_set_path': '../../../../../VRP-Omni-modified/Vrp-Set-tai/tai-n386', 'test_set_opt_sol_path': '../../../../../VRP-Omni-modified/Vrp-Set-A/A-n33-sol', 'test_set_name': 'A-n33'}\n",
      "[2024-04-01 17:17:19] test.py(119) : logger_params{'log_file': {'desc': 'test_cvrp50_pretrained_epochtest', 'filename': 'log.txt', 'filepath': './result/20240401_181717_test_cvrp50_pretrained_epochtest'}}\n",
      "['../../../../../VRP-Omni-modified/Vrp-Set-tai/tai-n386/tai385.vrp']\n",
      "pretrained/checkpoint-cvrp-100.pt\n"
     ]
    },
    {
     "name": "stderr",
     "output_type": "stream",
     "text": [
      "/home/xunj/miniconda3/envs/amd/lib/python3.8/site-packages/torch/__init__.py:696: UserWarning: torch.set_default_tensor_type() is deprecated as of PyTorch 2.1, please use torch.set_default_dtype() and torch.set_default_device() as alternatives. (Triggered internally at /opt/conda/conda-bld/pytorch_1708025829503/work/torch/csrc/tensor/python_tensor.cpp:451.)\n",
      "  _C._set_default_tensor_type(t)\n"
     ]
    },
    {
     "name": "stdout",
     "output_type": "stream",
     "text": [
      "torch.Size([8, 1])\n",
      "torch.Size([8, 385])\n",
      "[2024-04-01 17:17:20] CVRPTester.py(144) : episode   1/  1, Elapsed[0.01m], Remain[0.00m], score:43.504, aug_score:34.589\n",
      "[2024-04-01 17:17:20] CVRPTester.py(150) :  *** Test Done *** \n",
      "[2024-04-01 17:17:20] CVRPTester.py(151) :  NO-AUG SCORE: 43.504302978515625 \n",
      "[2024-04-01 17:17:20] CVRPTester.py(152) :  AUGMENTATION SCORE: 34.588653564453125 \n",
      ">> Evaluation on ../../../../../VRP-Omni-modified/Vrp-Set-tai/tai-n386 finished within 0.83s\n",
      ">> Save final results to res/tai-n386\n",
      "Test on \" ../../../../../VRP-Omni-modified/Vrp-Set-tai/tai-n386 \" Success\n",
      "-----------------------------------------------------------------------------------------------------------------\n",
      "[2024-04-01 17:17:24] test.py(117) : DEBUG_MODE: False\n",
      "[2024-04-01 17:17:24] test.py(118) : USE_CUDA: True, CUDA_DEVICE_NUM: 0\n",
      "[2024-04-01 17:17:24] test.py(119) : env_params{'problem_size': 50, 'pomo_size': 50, 'distribution': {'data_type': 'mixed', 'n_cluster': 3, 'n_cluster_mix': 1, 'lower': 0.2, 'upper': 0.8, 'std': 0.07}, 'load_path': 'data/vrp_uniform50_1000_seed1234.pkl', 'load_raw': None}\n",
      "[2024-04-01 17:17:24] test.py(119) : model_params{'embedding_dim': 64, 'sqrt_embedding_dim': 8.0, 'encoder_layer_num': 6, 'qkv_dim': 8, 'head_num': 8, 'logit_clipping': 10, 'ff_hidden_dim': 512, 'eval_type': 'argmax'}\n",
      "[2024-04-01 17:17:24] test.py(119) : tester_params{'use_cuda': True, 'cuda_device_num': 0, 'model_load': {'path': 'pretrained/checkpoint-cvrp-100.pt', 'epoch': 'test'}, 'test_episodes': 1000, 'test_batch_size': 1, 'augmentation_enable': True, 'aug_factor': 8, 'aug_batch_size': 1, 'test_data_load': {'enable': False, 'filename': ''}, 'test_set_path': '../../../../../VRP-Omni-modified/Vrp-Set-tai/tai-n76', 'test_set_opt_sol_path': '../../../../../VRP-Omni-modified/Vrp-Set-A/A-n33-sol', 'test_set_name': 'A-n33'}\n",
      "[2024-04-01 17:17:24] test.py(119) : logger_params{'log_file': {'desc': 'test_cvrp50_pretrained_epochtest', 'filename': 'log.txt', 'filepath': './result/20240401_181722_test_cvrp50_pretrained_epochtest'}}\n",
      "['../../../../../VRP-Omni-modified/Vrp-Set-tai/tai-n76/tai75a.vrp', '../../../../../VRP-Omni-modified/Vrp-Set-tai/tai-n76/tai75b.vrp', '../../../../../VRP-Omni-modified/Vrp-Set-tai/tai-n76/tai75c.vrp', '../../../../../VRP-Omni-modified/Vrp-Set-tai/tai-n76/tai75d.vrp']\n",
      "pretrained/checkpoint-cvrp-100.pt\n"
     ]
    },
    {
     "name": "stderr",
     "output_type": "stream",
     "text": [
      "/home/xunj/miniconda3/envs/amd/lib/python3.8/site-packages/torch/__init__.py:696: UserWarning: torch.set_default_tensor_type() is deprecated as of PyTorch 2.1, please use torch.set_default_dtype() and torch.set_default_device() as alternatives. (Triggered internally at /opt/conda/conda-bld/pytorch_1708025829503/work/torch/csrc/tensor/python_tensor.cpp:451.)\n",
      "  _C._set_default_tensor_type(t)\n"
     ]
    },
    {
     "name": "stdout",
     "output_type": "stream",
     "text": [
      "torch.Size([8, 1])\n",
      "torch.Size([8, 75])\n",
      "[2024-04-01 17:17:24] CVRPTester.py(144) : episode   1/  4, Elapsed[0.01m], Remain[0.02m], score:1.790, aug_score:1.718\n",
      "torch.Size([8, 1])\n",
      "torch.Size([8, 75])\n",
      "[2024-04-01 17:17:24] CVRPTester.py(144) : episode   2/  4, Elapsed[0.01m], Remain[0.01m], score:1.471, aug_score:1.471\n",
      "torch.Size([8, 1])\n",
      "torch.Size([8, 75])\n",
      "[2024-04-01 17:17:24] CVRPTester.py(144) : episode   3/  4, Elapsed[0.01m], Remain[0.00m], score:1.400, aug_score:1.400\n",
      "torch.Size([8, 1])\n",
      "torch.Size([8, 75])\n",
      "[2024-04-01 17:17:25] CVRPTester.py(144) : episode   4/  4, Elapsed[0.01m], Remain[0.00m], score:1.488, aug_score:1.440\n",
      "[2024-04-01 17:17:25] CVRPTester.py(150) :  *** Test Done *** \n",
      "[2024-04-01 17:17:25] CVRPTester.py(151) :  NO-AUG SCORE: 1.5374257564544678 \n",
      "[2024-04-01 17:17:25] CVRPTester.py(152) :  AUGMENTATION SCORE: 1.5072940587997437 \n",
      ">> Evaluation on ../../../../../VRP-Omni-modified/Vrp-Set-tai/tai-n76 finished within 0.09s\n",
      ">> Save final results to res/tai-n76\n",
      "Test on \" ../../../../../VRP-Omni-modified/Vrp-Set-tai/tai-n76 \" Success\n",
      "-----------------------------------------------------------------------------------------------------------------\n"
     ]
    }
   ],
   "source": [
    "for sub_list in path_list:\n",
    "    res=0\n",
    "    for path in sub_list:\n",
    "        if not path.endswith('sol') and not path.endswith('.pkl') and not path.endswith('.ipynb'):\n",
    "            res=os.system('python -u test.py  --testpaths '+path)\n",
    "            if res==0:\n",
    "                print('Test on \"',path,'\" Success')\n",
    "                print('-----------------------------------------------------------------------------------------------------------------')\n",
    "                del path\n",
    "            else: \n",
    "                print('Check out issue on set: ',path)\n",
    "        #break\n",
    "    #break"
   ]
  }
 ],
 "metadata": {
  "kernelspec": {
   "display_name": "base",
   "language": "python",
   "name": "python3"
  },
  "language_info": {
   "codemirror_mode": {
    "name": "ipython",
    "version": 3
   },
   "file_extension": ".py",
   "mimetype": "text/x-python",
   "name": "python",
   "nbconvert_exporter": "python",
   "pygments_lexer": "ipython3",
   "version": "3.8.18"
  }
 },
 "nbformat": 4,
 "nbformat_minor": 2
}
