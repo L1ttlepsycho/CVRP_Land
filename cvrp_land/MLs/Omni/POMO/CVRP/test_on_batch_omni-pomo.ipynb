{
 "cells": [
  {
   "cell_type": "code",
   "execution_count": 1,
   "metadata": {},
   "outputs": [
    {
     "name": "stdout",
     "output_type": "stream",
     "text": [
      "[['../../data/CVRP/dataset/Vrp-Set-A/A-n32', '../../data/CVRP/dataset/Vrp-Set-A/A-n32-sol', '../../data/CVRP/dataset/Vrp-Set-A/A-n33', '../../data/CVRP/dataset/Vrp-Set-A/A-n33-sol', '../../data/CVRP/dataset/Vrp-Set-A/A-n34', '../../data/CVRP/dataset/Vrp-Set-A/A-n34-sol', '../../data/CVRP/dataset/Vrp-Set-A/A-n36', '../../data/CVRP/dataset/Vrp-Set-A/A-n36-sol', '../../data/CVRP/dataset/Vrp-Set-A/A-n37', '../../data/CVRP/dataset/Vrp-Set-A/A-n37-sol', '../../data/CVRP/dataset/Vrp-Set-A/A-n38', '../../data/CVRP/dataset/Vrp-Set-A/A-n38-sol', '../../data/CVRP/dataset/Vrp-Set-A/A-n39', '../../data/CVRP/dataset/Vrp-Set-A/A-n39-sol', '../../data/CVRP/dataset/Vrp-Set-A/A-n44', '../../data/CVRP/dataset/Vrp-Set-A/A-n44-sol', '../../data/CVRP/dataset/Vrp-Set-A/A-n45', '../../data/CVRP/dataset/Vrp-Set-A/A-n45-sol', '../../data/CVRP/dataset/Vrp-Set-A/A-n46', '../../data/CVRP/dataset/Vrp-Set-A/A-n46-sol', '../../data/CVRP/dataset/Vrp-Set-A/A-n48', '../../data/CVRP/dataset/Vrp-Set-A/A-n48-sol', '../../data/CVRP/dataset/Vrp-Set-A/A-n53', '../../data/CVRP/dataset/Vrp-Set-A/A-n53-sol', '../../data/CVRP/dataset/Vrp-Set-A/A-n54', '../../data/CVRP/dataset/Vrp-Set-A/A-n54-sol', '../../data/CVRP/dataset/Vrp-Set-A/A-n55', '../../data/CVRP/dataset/Vrp-Set-A/A-n55-sol', '../../data/CVRP/dataset/Vrp-Set-A/A-n60', '../../data/CVRP/dataset/Vrp-Set-A/A-n60-sol', '../../data/CVRP/dataset/Vrp-Set-A/A-n61', '../../data/CVRP/dataset/Vrp-Set-A/A-n61-sol', '../../data/CVRP/dataset/Vrp-Set-A/A-n62', '../../data/CVRP/dataset/Vrp-Set-A/A-n62-sol', '../../data/CVRP/dataset/Vrp-Set-A/A-n63', '../../data/CVRP/dataset/Vrp-Set-A/A-n63-sol', '../../data/CVRP/dataset/Vrp-Set-A/A-n64', '../../data/CVRP/dataset/Vrp-Set-A/A-n64-sol', '../../data/CVRP/dataset/Vrp-Set-A/A-n65', '../../data/CVRP/dataset/Vrp-Set-A/A-n65-sol', '../../data/CVRP/dataset/Vrp-Set-A/A-n69', '../../data/CVRP/dataset/Vrp-Set-A/A-n69-sol', '../../data/CVRP/dataset/Vrp-Set-A/A-n80', '../../data/CVRP/dataset/Vrp-Set-A/A-n80-sol'], ['../../data/CVRP/dataset/Vrp-Set-B/B-n31', '../../data/CVRP/dataset/Vrp-Set-B/B-n31-sol', '../../data/CVRP/dataset/Vrp-Set-B/B-n34', '../../data/CVRP/dataset/Vrp-Set-B/B-n34-sol', '../../data/CVRP/dataset/Vrp-Set-B/B-n35', '../../data/CVRP/dataset/Vrp-Set-B/B-n35-sol', '../../data/CVRP/dataset/Vrp-Set-B/B-n38', '../../data/CVRP/dataset/Vrp-Set-B/B-n38-sol', '../../data/CVRP/dataset/Vrp-Set-B/B-n39', '../../data/CVRP/dataset/Vrp-Set-B/B-n39-sol', '../../data/CVRP/dataset/Vrp-Set-B/B-n41', '../../data/CVRP/dataset/Vrp-Set-B/B-n41-sol', '../../data/CVRP/dataset/Vrp-Set-B/B-n43', '../../data/CVRP/dataset/Vrp-Set-B/B-n43-sol', '../../data/CVRP/dataset/Vrp-Set-B/B-n44', '../../data/CVRP/dataset/Vrp-Set-B/B-n44-sol', '../../data/CVRP/dataset/Vrp-Set-B/B-n45', '../../data/CVRP/dataset/Vrp-Set-B/B-n45-sol', '../../data/CVRP/dataset/Vrp-Set-B/B-n50', '../../data/CVRP/dataset/Vrp-Set-B/B-n50-sol', '../../data/CVRP/dataset/Vrp-Set-B/B-n51', '../../data/CVRP/dataset/Vrp-Set-B/B-n51-sol', '../../data/CVRP/dataset/Vrp-Set-B/B-n52', '../../data/CVRP/dataset/Vrp-Set-B/B-n52-sol', '../../data/CVRP/dataset/Vrp-Set-B/B-n56', '../../data/CVRP/dataset/Vrp-Set-B/B-n56-sol', '../../data/CVRP/dataset/Vrp-Set-B/B-n57', '../../data/CVRP/dataset/Vrp-Set-B/B-n57-sol', '../../data/CVRP/dataset/Vrp-Set-B/B-n63', '../../data/CVRP/dataset/Vrp-Set-B/B-n63-sol', '../../data/CVRP/dataset/Vrp-Set-B/B-n64', '../../data/CVRP/dataset/Vrp-Set-B/B-n64-sol', '../../data/CVRP/dataset/Vrp-Set-B/B-n66', '../../data/CVRP/dataset/Vrp-Set-B/B-n66-sol', '../../data/CVRP/dataset/Vrp-Set-B/B-n67', '../../data/CVRP/dataset/Vrp-Set-B/B-n67-sol', '../../data/CVRP/dataset/Vrp-Set-B/B-n68', '../../data/CVRP/dataset/Vrp-Set-B/B-n68-sol', '../../data/CVRP/dataset/Vrp-Set-B/B-n78', '../../data/CVRP/dataset/Vrp-Set-B/B-n78-sol'], ['../../data/CVRP/dataset/Vrp-Set-CMT/CMT-n101', '../../data/CVRP/dataset/Vrp-Set-CMT/CMT-n101-sol', '../../data/CVRP/dataset/Vrp-Set-CMT/CMT-n121', '../../data/CVRP/dataset/Vrp-Set-CMT/CMT-n121-sol', '../../data/CVRP/dataset/Vrp-Set-CMT/CMT-n151', '../../data/CVRP/dataset/Vrp-Set-CMT/CMT-n151-sol', '../../data/CVRP/dataset/Vrp-Set-CMT/CMT-n200', '../../data/CVRP/dataset/Vrp-Set-CMT/CMT-n200-sol', '../../data/CVRP/dataset/Vrp-Set-CMT/CMT-n51', '../../data/CVRP/dataset/Vrp-Set-CMT/CMT-n51-sol', '../../data/CVRP/dataset/Vrp-Set-CMT/CMT-n76', '../../data/CVRP/dataset/Vrp-Set-CMT/CMT-n76-sol'], ['../../data/CVRP/dataset/Vrp-Set-D/D-n1001', '../../data/CVRP/dataset/Vrp-Set-D/D-n1001-sol', '../../data/CVRP/dataset/Vrp-Set-D/D-n242', '../../data/CVRP/dataset/Vrp-Set-D/D-n242-sol', '../../data/CVRP/dataset/Vrp-Set-D/D-n323', '../../data/CVRP/dataset/Vrp-Set-D/D-n323-sol', '../../data/CVRP/dataset/Vrp-Set-D/D-n401', '../../data/CVRP/dataset/Vrp-Set-D/D-n401-sol', '../../data/CVRP/dataset/Vrp-Set-D/D-n405', '../../data/CVRP/dataset/Vrp-Set-D/D-n405-sol', '../../data/CVRP/dataset/Vrp-Set-D/D-n455', '../../data/CVRP/dataset/Vrp-Set-D/D-n455-sol', '../../data/CVRP/dataset/Vrp-Set-D/D-n501', '../../data/CVRP/dataset/Vrp-Set-D/D-n501-sol', '../../data/CVRP/dataset/Vrp-Set-D/D-n510', '../../data/CVRP/dataset/Vrp-Set-D/D-n510-sol', '../../data/CVRP/dataset/Vrp-Set-D/D-n601', '../../data/CVRP/dataset/Vrp-Set-D/D-n601-sol', '../../data/CVRP/dataset/Vrp-Set-D/D-n701', '../../data/CVRP/dataset/Vrp-Set-D/D-n701-sol', '../../data/CVRP/dataset/Vrp-Set-D/D-n901', '../../data/CVRP/dataset/Vrp-Set-D/D-n901-sol'], ['../../data/CVRP/dataset/Vrp-Set-E/E-n10', '../../data/CVRP/dataset/Vrp-Set-E/E-n10-sol', '../../data/CVRP/dataset/Vrp-Set-E/E-n22', '../../data/CVRP/dataset/Vrp-Set-E/E-n22-sol', '../../data/CVRP/dataset/Vrp-Set-E/E-n23', '../../data/CVRP/dataset/Vrp-Set-E/E-n23-sol', '../../data/CVRP/dataset/Vrp-Set-E/E-n30', '../../data/CVRP/dataset/Vrp-Set-E/E-n30-sol', '../../data/CVRP/dataset/Vrp-Set-E/E-n33', '../../data/CVRP/dataset/Vrp-Set-E/E-n33-sol', '../../data/CVRP/dataset/Vrp-Set-E/E-n51', '../../data/CVRP/dataset/Vrp-Set-E/E-n51-sol', '../../data/CVRP/dataset/Vrp-Set-E/E-n76', '../../data/CVRP/dataset/Vrp-Set-E/E-n76-sol'], ['../../data/CVRP/dataset/Vrp-Set-F/F-n135', '../../data/CVRP/dataset/Vrp-Set-F/F-n135-sol', '../../data/CVRP/dataset/Vrp-Set-F/F-n45', '../../data/CVRP/dataset/Vrp-Set-F/F-n45-sol', '../../data/CVRP/dataset/Vrp-Set-F/F-n72', '../../data/CVRP/dataset/Vrp-Set-F/F-n72-sol'], ['../../data/CVRP/dataset/Vrp-Set-Golden/Golden-n201', '../../data/CVRP/dataset/Vrp-Set-Golden/Golden-n201-sol', '../../data/CVRP/dataset/Vrp-Set-Golden/Golden-n241', '../../data/CVRP/dataset/Vrp-Set-Golden/Golden-n241-sol', '../../data/CVRP/dataset/Vrp-Set-Golden/Golden-n253', '../../data/CVRP/dataset/Vrp-Set-Golden/Golden-n253-sol', '../../data/CVRP/dataset/Vrp-Set-Golden/Golden-n256', '../../data/CVRP/dataset/Vrp-Set-Golden/Golden-n256-sol', '../../data/CVRP/dataset/Vrp-Set-Golden/Golden-n281', '../../data/CVRP/dataset/Vrp-Set-Golden/Golden-n281-sol', '../../data/CVRP/dataset/Vrp-Set-Golden/Golden-n301', '../../data/CVRP/dataset/Vrp-Set-Golden/Golden-n301-sol', '../../data/CVRP/dataset/Vrp-Set-Golden/Golden-n321', '../../data/CVRP/dataset/Vrp-Set-Golden/Golden-n321-sol', '../../data/CVRP/dataset/Vrp-Set-Golden/Golden-n324', '../../data/CVRP/dataset/Vrp-Set-Golden/Golden-n324-sol', '../../data/CVRP/dataset/Vrp-Set-Golden/Golden-n361', '../../data/CVRP/dataset/Vrp-Set-Golden/Golden-n361-sol', '../../data/CVRP/dataset/Vrp-Set-Golden/Golden-n397', '../../data/CVRP/dataset/Vrp-Set-Golden/Golden-n397-sol', '../../data/CVRP/dataset/Vrp-Set-Golden/Golden-n400', '../../data/CVRP/dataset/Vrp-Set-Golden/Golden-n400-sol', '../../data/CVRP/dataset/Vrp-Set-Golden/Golden-n401', '../../data/CVRP/dataset/Vrp-Set-Golden/Golden-n401-sol', '../../data/CVRP/dataset/Vrp-Set-Golden/Golden-n421', '../../data/CVRP/dataset/Vrp-Set-Golden/Golden-n421-sol', '../../data/CVRP/dataset/Vrp-Set-Golden/Golden-n441', '../../data/CVRP/dataset/Vrp-Set-Golden/Golden-n441-sol', '../../data/CVRP/dataset/Vrp-Set-Golden/Golden-n481', '../../data/CVRP/dataset/Vrp-Set-Golden/Golden-n481-sol', '../../data/CVRP/dataset/Vrp-Set-Golden/Golden-n484', '../../data/CVRP/dataset/Vrp-Set-Golden/Golden-n484-sol'], ['../../data/CVRP/dataset/Vrp-Set-Li/Li-n1041', '../../data/CVRP/dataset/Vrp-Set-Li/Li-n1041-sol', '../../data/CVRP/dataset/Vrp-Set-Li/Li-n1121', '../../data/CVRP/dataset/Vrp-Set-Li/Li-n1121-sol', '../../data/CVRP/dataset/Vrp-Set-Li/Li-n1201', '../../data/CVRP/dataset/Vrp-Set-Li/Li-n1201-sol', '../../data/CVRP/dataset/Vrp-Set-Li/Li-n561', '../../data/CVRP/dataset/Vrp-Set-Li/Li-n561-sol', '../../data/CVRP/dataset/Vrp-Set-Li/Li-n601', '../../data/CVRP/dataset/Vrp-Set-Li/Li-n601-sol', '../../data/CVRP/dataset/Vrp-Set-Li/Li-n641', '../../data/CVRP/dataset/Vrp-Set-Li/Li-n641-sol', '../../data/CVRP/dataset/Vrp-Set-Li/Li-n721', '../../data/CVRP/dataset/Vrp-Set-Li/Li-n721-sol', '../../data/CVRP/dataset/Vrp-Set-Li/Li-n761', '../../data/CVRP/dataset/Vrp-Set-Li/Li-n761-sol', '../../data/CVRP/dataset/Vrp-Set-Li/Li-n801', '../../data/CVRP/dataset/Vrp-Set-Li/Li-n801-sol', '../../data/CVRP/dataset/Vrp-Set-Li/Li-n841', '../../data/CVRP/dataset/Vrp-Set-Li/Li-n841-sol', '../../data/CVRP/dataset/Vrp-Set-Li/Li-n881', '../../data/CVRP/dataset/Vrp-Set-Li/Li-n881-sol', '../../data/CVRP/dataset/Vrp-Set-Li/Li-n961', '../../data/CVRP/dataset/Vrp-Set-Li/Li-n961-sol'], ['../../data/CVRP/dataset/Vrp-Set-M/M-n101', '../../data/CVRP/dataset/Vrp-Set-M/M-n101-sol', '../../data/CVRP/dataset/Vrp-Set-M/M-n121', '../../data/CVRP/dataset/Vrp-Set-M/M-n121-sol', '../../data/CVRP/dataset/Vrp-Set-M/M-n151', '../../data/CVRP/dataset/Vrp-Set-M/M-n151-sol', '../../data/CVRP/dataset/Vrp-Set-M/M-n200', '../../data/CVRP/dataset/Vrp-Set-M/M-n200-sol'], ['../../data/CVRP/dataset/Vrp-Set-P/P-n101', '../../data/CVRP/dataset/Vrp-Set-P/P-n101-sol', '../../data/CVRP/dataset/Vrp-Set-P/P-n16', '../../data/CVRP/dataset/Vrp-Set-P/P-n16-sol', '../../data/CVRP/dataset/Vrp-Set-P/P-n19', '../../data/CVRP/dataset/Vrp-Set-P/P-n19-sol', '../../data/CVRP/dataset/Vrp-Set-P/P-n20', '../../data/CVRP/dataset/Vrp-Set-P/P-n20-sol', '../../data/CVRP/dataset/Vrp-Set-P/P-n21', '../../data/CVRP/dataset/Vrp-Set-P/P-n21-sol', '../../data/CVRP/dataset/Vrp-Set-P/P-n22', '../../data/CVRP/dataset/Vrp-Set-P/P-n22-sol', '../../data/CVRP/dataset/Vrp-Set-P/P-n23', '../../data/CVRP/dataset/Vrp-Set-P/P-n23-sol', '../../data/CVRP/dataset/Vrp-Set-P/P-n40', '../../data/CVRP/dataset/Vrp-Set-P/P-n40-sol', '../../data/CVRP/dataset/Vrp-Set-P/P-n45', '../../data/CVRP/dataset/Vrp-Set-P/P-n45-sol', '../../data/CVRP/dataset/Vrp-Set-P/P-n50', '../../data/CVRP/dataset/Vrp-Set-P/P-n50-sol', '../../data/CVRP/dataset/Vrp-Set-P/P-n51', '../../data/CVRP/dataset/Vrp-Set-P/P-n51-sol', '../../data/CVRP/dataset/Vrp-Set-P/P-n55', '../../data/CVRP/dataset/Vrp-Set-P/P-n55-sol', '../../data/CVRP/dataset/Vrp-Set-P/P-n60', '../../data/CVRP/dataset/Vrp-Set-P/P-n60-sol', '../../data/CVRP/dataset/Vrp-Set-P/P-n65', '../../data/CVRP/dataset/Vrp-Set-P/P-n65-sol', '../../data/CVRP/dataset/Vrp-Set-P/P-n70', '../../data/CVRP/dataset/Vrp-Set-P/P-n70-sol', '../../data/CVRP/dataset/Vrp-Set-P/P-n76', '../../data/CVRP/dataset/Vrp-Set-P/P-n76-sol'], ['../../data/CVRP/dataset/Vrp-Set-X/X-n1001', '../../data/CVRP/dataset/Vrp-Set-X/X-n1001-sol', '../../data/CVRP/dataset/Vrp-Set-X/X-n101', '../../data/CVRP/dataset/Vrp-Set-X/X-n101-sol', '../../data/CVRP/dataset/Vrp-Set-X/X-n106', '../../data/CVRP/dataset/Vrp-Set-X/X-n106-sol', '../../data/CVRP/dataset/Vrp-Set-X/X-n110', '../../data/CVRP/dataset/Vrp-Set-X/X-n110-sol', '../../data/CVRP/dataset/Vrp-Set-X/X-n115', '../../data/CVRP/dataset/Vrp-Set-X/X-n115-sol', '../../data/CVRP/dataset/Vrp-Set-X/X-n120', '../../data/CVRP/dataset/Vrp-Set-X/X-n120-sol', '../../data/CVRP/dataset/Vrp-Set-X/X-n125', '../../data/CVRP/dataset/Vrp-Set-X/X-n125-sol', '../../data/CVRP/dataset/Vrp-Set-X/X-n129', '../../data/CVRP/dataset/Vrp-Set-X/X-n129-sol', '../../data/CVRP/dataset/Vrp-Set-X/X-n134', '../../data/CVRP/dataset/Vrp-Set-X/X-n134-sol', '../../data/CVRP/dataset/Vrp-Set-X/X-n139', '../../data/CVRP/dataset/Vrp-Set-X/X-n139-sol', '../../data/CVRP/dataset/Vrp-Set-X/X-n143', '../../data/CVRP/dataset/Vrp-Set-X/X-n143-sol', '../../data/CVRP/dataset/Vrp-Set-X/X-n148', '../../data/CVRP/dataset/Vrp-Set-X/X-n148-sol', '../../data/CVRP/dataset/Vrp-Set-X/X-n153', '../../data/CVRP/dataset/Vrp-Set-X/X-n153-sol', '../../data/CVRP/dataset/Vrp-Set-X/X-n157', '../../data/CVRP/dataset/Vrp-Set-X/X-n157-sol', '../../data/CVRP/dataset/Vrp-Set-X/X-n162', '../../data/CVRP/dataset/Vrp-Set-X/X-n162-sol', '../../data/CVRP/dataset/Vrp-Set-X/X-n167', '../../data/CVRP/dataset/Vrp-Set-X/X-n167-sol', '../../data/CVRP/dataset/Vrp-Set-X/X-n172', '../../data/CVRP/dataset/Vrp-Set-X/X-n172-sol', '../../data/CVRP/dataset/Vrp-Set-X/X-n176', '../../data/CVRP/dataset/Vrp-Set-X/X-n176-sol', '../../data/CVRP/dataset/Vrp-Set-X/X-n181', '../../data/CVRP/dataset/Vrp-Set-X/X-n181-sol', '../../data/CVRP/dataset/Vrp-Set-X/X-n186', '../../data/CVRP/dataset/Vrp-Set-X/X-n186-sol', '../../data/CVRP/dataset/Vrp-Set-X/X-n190', '../../data/CVRP/dataset/Vrp-Set-X/X-n190-sol', '../../data/CVRP/dataset/Vrp-Set-X/X-n195', '../../data/CVRP/dataset/Vrp-Set-X/X-n195-sol', '../../data/CVRP/dataset/Vrp-Set-X/X-n200', '../../data/CVRP/dataset/Vrp-Set-X/X-n200-sol', '../../data/CVRP/dataset/Vrp-Set-X/X-n204', '../../data/CVRP/dataset/Vrp-Set-X/X-n204-sol', '../../data/CVRP/dataset/Vrp-Set-X/X-n209', '../../data/CVRP/dataset/Vrp-Set-X/X-n209-sol', '../../data/CVRP/dataset/Vrp-Set-X/X-n214', '../../data/CVRP/dataset/Vrp-Set-X/X-n214-sol', '../../data/CVRP/dataset/Vrp-Set-X/X-n219', '../../data/CVRP/dataset/Vrp-Set-X/X-n219-sol', '../../data/CVRP/dataset/Vrp-Set-X/X-n223', '../../data/CVRP/dataset/Vrp-Set-X/X-n223-sol', '../../data/CVRP/dataset/Vrp-Set-X/X-n228', '../../data/CVRP/dataset/Vrp-Set-X/X-n228-sol', '../../data/CVRP/dataset/Vrp-Set-X/X-n233', '../../data/CVRP/dataset/Vrp-Set-X/X-n233-sol', '../../data/CVRP/dataset/Vrp-Set-X/X-n237', '../../data/CVRP/dataset/Vrp-Set-X/X-n237-sol', '../../data/CVRP/dataset/Vrp-Set-X/X-n242', '../../data/CVRP/dataset/Vrp-Set-X/X-n242-sol', '../../data/CVRP/dataset/Vrp-Set-X/X-n247', '../../data/CVRP/dataset/Vrp-Set-X/X-n247-sol', '../../data/CVRP/dataset/Vrp-Set-X/X-n251', '../../data/CVRP/dataset/Vrp-Set-X/X-n251-sol', '../../data/CVRP/dataset/Vrp-Set-X/X-n256', '../../data/CVRP/dataset/Vrp-Set-X/X-n256-sol', '../../data/CVRP/dataset/Vrp-Set-X/X-n261', '../../data/CVRP/dataset/Vrp-Set-X/X-n261-sol', '../../data/CVRP/dataset/Vrp-Set-X/X-n266', '../../data/CVRP/dataset/Vrp-Set-X/X-n266-sol', '../../data/CVRP/dataset/Vrp-Set-X/X-n270', '../../data/CVRP/dataset/Vrp-Set-X/X-n270-sol', '../../data/CVRP/dataset/Vrp-Set-X/X-n275', '../../data/CVRP/dataset/Vrp-Set-X/X-n275-sol', '../../data/CVRP/dataset/Vrp-Set-X/X-n280', '../../data/CVRP/dataset/Vrp-Set-X/X-n280-sol', '../../data/CVRP/dataset/Vrp-Set-X/X-n284', '../../data/CVRP/dataset/Vrp-Set-X/X-n284-sol', '../../data/CVRP/dataset/Vrp-Set-X/X-n289', '../../data/CVRP/dataset/Vrp-Set-X/X-n289-sol', '../../data/CVRP/dataset/Vrp-Set-X/X-n294', '../../data/CVRP/dataset/Vrp-Set-X/X-n294-sol', '../../data/CVRP/dataset/Vrp-Set-X/X-n298', '../../data/CVRP/dataset/Vrp-Set-X/X-n298-sol', '../../data/CVRP/dataset/Vrp-Set-X/X-n303', '../../data/CVRP/dataset/Vrp-Set-X/X-n303-sol', '../../data/CVRP/dataset/Vrp-Set-X/X-n308', '../../data/CVRP/dataset/Vrp-Set-X/X-n308-sol', '../../data/CVRP/dataset/Vrp-Set-X/X-n313', '../../data/CVRP/dataset/Vrp-Set-X/X-n313-sol', '../../data/CVRP/dataset/Vrp-Set-X/X-n317', '../../data/CVRP/dataset/Vrp-Set-X/X-n317-sol', '../../data/CVRP/dataset/Vrp-Set-X/X-n322', '../../data/CVRP/dataset/Vrp-Set-X/X-n322-sol', '../../data/CVRP/dataset/Vrp-Set-X/X-n327', '../../data/CVRP/dataset/Vrp-Set-X/X-n327-sol', '../../data/CVRP/dataset/Vrp-Set-X/X-n331', '../../data/CVRP/dataset/Vrp-Set-X/X-n331-sol', '../../data/CVRP/dataset/Vrp-Set-X/X-n336', '../../data/CVRP/dataset/Vrp-Set-X/X-n336-sol', '../../data/CVRP/dataset/Vrp-Set-X/X-n344', '../../data/CVRP/dataset/Vrp-Set-X/X-n344-sol', '../../data/CVRP/dataset/Vrp-Set-X/X-n351', '../../data/CVRP/dataset/Vrp-Set-X/X-n351-sol', '../../data/CVRP/dataset/Vrp-Set-X/X-n359', '../../data/CVRP/dataset/Vrp-Set-X/X-n359-sol', '../../data/CVRP/dataset/Vrp-Set-X/X-n367', '../../data/CVRP/dataset/Vrp-Set-X/X-n367-sol', '../../data/CVRP/dataset/Vrp-Set-X/X-n376', '../../data/CVRP/dataset/Vrp-Set-X/X-n376-sol', '../../data/CVRP/dataset/Vrp-Set-X/X-n384', '../../data/CVRP/dataset/Vrp-Set-X/X-n384-sol', '../../data/CVRP/dataset/Vrp-Set-X/X-n393', '../../data/CVRP/dataset/Vrp-Set-X/X-n393-sol', '../../data/CVRP/dataset/Vrp-Set-X/X-n401', '../../data/CVRP/dataset/Vrp-Set-X/X-n401-sol', '../../data/CVRP/dataset/Vrp-Set-X/X-n411', '../../data/CVRP/dataset/Vrp-Set-X/X-n411-sol', '../../data/CVRP/dataset/Vrp-Set-X/X-n420', '../../data/CVRP/dataset/Vrp-Set-X/X-n420-sol', '../../data/CVRP/dataset/Vrp-Set-X/X-n429', '../../data/CVRP/dataset/Vrp-Set-X/X-n429-sol', '../../data/CVRP/dataset/Vrp-Set-X/X-n439', '../../data/CVRP/dataset/Vrp-Set-X/X-n439-sol', '../../data/CVRP/dataset/Vrp-Set-X/X-n449', '../../data/CVRP/dataset/Vrp-Set-X/X-n449-sol', '../../data/CVRP/dataset/Vrp-Set-X/X-n459', '../../data/CVRP/dataset/Vrp-Set-X/X-n459-sol', '../../data/CVRP/dataset/Vrp-Set-X/X-n469', '../../data/CVRP/dataset/Vrp-Set-X/X-n469-sol', '../../data/CVRP/dataset/Vrp-Set-X/X-n480', '../../data/CVRP/dataset/Vrp-Set-X/X-n480-sol', '../../data/CVRP/dataset/Vrp-Set-X/X-n491', '../../data/CVRP/dataset/Vrp-Set-X/X-n491-sol', '../../data/CVRP/dataset/Vrp-Set-X/X-n502', '../../data/CVRP/dataset/Vrp-Set-X/X-n502-sol', '../../data/CVRP/dataset/Vrp-Set-X/X-n513', '../../data/CVRP/dataset/Vrp-Set-X/X-n513-sol', '../../data/CVRP/dataset/Vrp-Set-X/X-n524', '../../data/CVRP/dataset/Vrp-Set-X/X-n524-sol', '../../data/CVRP/dataset/Vrp-Set-X/X-n536', '../../data/CVRP/dataset/Vrp-Set-X/X-n536-sol', '../../data/CVRP/dataset/Vrp-Set-X/X-n548', '../../data/CVRP/dataset/Vrp-Set-X/X-n548-sol', '../../data/CVRP/dataset/Vrp-Set-X/X-n561', '../../data/CVRP/dataset/Vrp-Set-X/X-n561-sol', '../../data/CVRP/dataset/Vrp-Set-X/X-n573', '../../data/CVRP/dataset/Vrp-Set-X/X-n573-sol', '../../data/CVRP/dataset/Vrp-Set-X/X-n586', '../../data/CVRP/dataset/Vrp-Set-X/X-n586-sol', '../../data/CVRP/dataset/Vrp-Set-X/X-n599', '../../data/CVRP/dataset/Vrp-Set-X/X-n599-sol', '../../data/CVRP/dataset/Vrp-Set-X/X-n613', '../../data/CVRP/dataset/Vrp-Set-X/X-n613-sol', '../../data/CVRP/dataset/Vrp-Set-X/X-n627', '../../data/CVRP/dataset/Vrp-Set-X/X-n627-sol', '../../data/CVRP/dataset/Vrp-Set-X/X-n641', '../../data/CVRP/dataset/Vrp-Set-X/X-n641-sol', '../../data/CVRP/dataset/Vrp-Set-X/X-n655', '../../data/CVRP/dataset/Vrp-Set-X/X-n655-sol', '../../data/CVRP/dataset/Vrp-Set-X/X-n670', '../../data/CVRP/dataset/Vrp-Set-X/X-n670-sol', '../../data/CVRP/dataset/Vrp-Set-X/X-n685', '../../data/CVRP/dataset/Vrp-Set-X/X-n685-sol', '../../data/CVRP/dataset/Vrp-Set-X/X-n701', '../../data/CVRP/dataset/Vrp-Set-X/X-n701-sol', '../../data/CVRP/dataset/Vrp-Set-X/X-n716', '../../data/CVRP/dataset/Vrp-Set-X/X-n716-sol', '../../data/CVRP/dataset/Vrp-Set-X/X-n733', '../../data/CVRP/dataset/Vrp-Set-X/X-n733-sol', '../../data/CVRP/dataset/Vrp-Set-X/X-n749', '../../data/CVRP/dataset/Vrp-Set-X/X-n749-sol', '../../data/CVRP/dataset/Vrp-Set-X/X-n766', '../../data/CVRP/dataset/Vrp-Set-X/X-n766-sol', '../../data/CVRP/dataset/Vrp-Set-X/X-n783', '../../data/CVRP/dataset/Vrp-Set-X/X-n783-sol', '../../data/CVRP/dataset/Vrp-Set-X/X-n801', '../../data/CVRP/dataset/Vrp-Set-X/X-n801-sol', '../../data/CVRP/dataset/Vrp-Set-X/X-n819', '../../data/CVRP/dataset/Vrp-Set-X/X-n819-sol', '../../data/CVRP/dataset/Vrp-Set-X/X-n837', '../../data/CVRP/dataset/Vrp-Set-X/X-n837-sol', '../../data/CVRP/dataset/Vrp-Set-X/X-n856', '../../data/CVRP/dataset/Vrp-Set-X/X-n856-sol', '../../data/CVRP/dataset/Vrp-Set-X/X-n876', '../../data/CVRP/dataset/Vrp-Set-X/X-n876-sol', '../../data/CVRP/dataset/Vrp-Set-X/X-n895', '../../data/CVRP/dataset/Vrp-Set-X/X-n895-sol', '../../data/CVRP/dataset/Vrp-Set-X/X-n916', '../../data/CVRP/dataset/Vrp-Set-X/X-n916-sol', '../../data/CVRP/dataset/Vrp-Set-X/X-n936', '../../data/CVRP/dataset/Vrp-Set-X/X-n936-sol', '../../data/CVRP/dataset/Vrp-Set-X/X-n957', '../../data/CVRP/dataset/Vrp-Set-X/X-n957-sol', '../../data/CVRP/dataset/Vrp-Set-X/X-n979', '../../data/CVRP/dataset/Vrp-Set-X/X-n979-sol'], ['../../data/CVRP/dataset/Vrp-Set-XXL/XXL-n10001', '../../data/CVRP/dataset/Vrp-Set-XXL/XXL-n11001', '../../data/CVRP/dataset/Vrp-Set-XXL/XXL-n15001', '../../data/CVRP/dataset/Vrp-Set-XXL/XXL-n16001', '../../data/CVRP/dataset/Vrp-Set-XXL/XXL-n20001', '../../data/CVRP/dataset/Vrp-Set-XXL/XXL-n30001', '../../data/CVRP/dataset/Vrp-Set-XXL/XXL-n3001', '../../data/CVRP/dataset/Vrp-Set-XXL/XXL-n4001', '../../data/CVRP/dataset/Vrp-Set-XXL/XXL-n6001', '../../data/CVRP/dataset/Vrp-Set-XXL/XXL-n7001'], ['../../data/CVRP/dataset/Vrp-Set-tai/tai-n101', '../../data/CVRP/dataset/Vrp-Set-tai/tai-n101-sol', '../../data/CVRP/dataset/Vrp-Set-tai/tai-n151', '../../data/CVRP/dataset/Vrp-Set-tai/tai-n151-sol', '../../data/CVRP/dataset/Vrp-Set-tai/tai-n386', '../../data/CVRP/dataset/Vrp-Set-tai/tai-n386-sol', '../../data/CVRP/dataset/Vrp-Set-tai/tai-n76', '../../data/CVRP/dataset/Vrp-Set-tai/tai-n76-sol'], ['../../data/CVRP/dataset/scale-1/Vrp-Set-A-n32.pkl', '../../data/CVRP/dataset/scale-1/Vrp-Set-A-n33.pkl', '../../data/CVRP/dataset/scale-1/Vrp-Set-A-n34.pkl', '../../data/CVRP/dataset/scale-1/Vrp-Set-A-n36.pkl', '../../data/CVRP/dataset/scale-1/Vrp-Set-A-n37.pkl', '../../data/CVRP/dataset/scale-1/Vrp-Set-A-n38.pkl', '../../data/CVRP/dataset/scale-1/Vrp-Set-A-n39.pkl', '../../data/CVRP/dataset/scale-1/Vrp-Set-A-n44.pkl', '../../data/CVRP/dataset/scale-1/Vrp-Set-A-n45.pkl', '../../data/CVRP/dataset/scale-1/Vrp-Set-A-n46.pkl', '../../data/CVRP/dataset/scale-1/Vrp-Set-A-n48.pkl', '../../data/CVRP/dataset/scale-1/Vrp-Set-A-n53.pkl', '../../data/CVRP/dataset/scale-1/Vrp-Set-A-n54.pkl', '../../data/CVRP/dataset/scale-1/Vrp-Set-A-n55.pkl', '../../data/CVRP/dataset/scale-1/Vrp-Set-A-n60.pkl', '../../data/CVRP/dataset/scale-1/Vrp-Set-A-n61.pkl', '../../data/CVRP/dataset/scale-1/Vrp-Set-A-n62.pkl', '../../data/CVRP/dataset/scale-1/Vrp-Set-A-n63.pkl', '../../data/CVRP/dataset/scale-1/Vrp-Set-A-n64.pkl', '../../data/CVRP/dataset/scale-1/Vrp-Set-A-n65.pkl', '../../data/CVRP/dataset/scale-1/Vrp-Set-A-n69.pkl', '../../data/CVRP/dataset/scale-1/Vrp-Set-A-n80.pkl', '../../data/CVRP/dataset/scale-1/Vrp-Set-B-n31.pkl', '../../data/CVRP/dataset/scale-1/Vrp-Set-B-n34.pkl', '../../data/CVRP/dataset/scale-1/Vrp-Set-B-n35.pkl', '../../data/CVRP/dataset/scale-1/Vrp-Set-B-n38.pkl', '../../data/CVRP/dataset/scale-1/Vrp-Set-B-n39.pkl', '../../data/CVRP/dataset/scale-1/Vrp-Set-B-n41.pkl', '../../data/CVRP/dataset/scale-1/Vrp-Set-B-n43.pkl', '../../data/CVRP/dataset/scale-1/Vrp-Set-B-n44.pkl', '../../data/CVRP/dataset/scale-1/Vrp-Set-B-n45.pkl', '../../data/CVRP/dataset/scale-1/Vrp-Set-B-n50.pkl', '../../data/CVRP/dataset/scale-1/Vrp-Set-B-n51.pkl', '../../data/CVRP/dataset/scale-1/Vrp-Set-B-n52.pkl', '../../data/CVRP/dataset/scale-1/Vrp-Set-B-n56.pkl', '../../data/CVRP/dataset/scale-1/Vrp-Set-B-n57.pkl', '../../data/CVRP/dataset/scale-1/Vrp-Set-B-n63.pkl', '../../data/CVRP/dataset/scale-1/Vrp-Set-B-n64.pkl', '../../data/CVRP/dataset/scale-1/Vrp-Set-B-n66.pkl', '../../data/CVRP/dataset/scale-1/Vrp-Set-B-n67.pkl', '../../data/CVRP/dataset/scale-1/Vrp-Set-B-n68.pkl', '../../data/CVRP/dataset/scale-1/Vrp-Set-B-n78.pkl', '../../data/CVRP/dataset/scale-1/Vrp-Set-CMT-n101.pkl', '../../data/CVRP/dataset/scale-1/Vrp-Set-CMT-n121.pkl', '../../data/CVRP/dataset/scale-1/Vrp-Set-CMT-n151.pkl', '../../data/CVRP/dataset/scale-1/Vrp-Set-CMT-n200.pkl', '../../data/CVRP/dataset/scale-1/Vrp-Set-CMT-n51.pkl', '../../data/CVRP/dataset/scale-1/Vrp-Set-CMT-n76.pkl', '../../data/CVRP/dataset/scale-1/Vrp-Set-D-n1001.pkl', '../../data/CVRP/dataset/scale-1/Vrp-Set-D-n242.pkl', '../../data/CVRP/dataset/scale-1/Vrp-Set-D-n323.pkl', '../../data/CVRP/dataset/scale-1/Vrp-Set-D-n401.pkl', '../../data/CVRP/dataset/scale-1/Vrp-Set-D-n405.pkl', '../../data/CVRP/dataset/scale-1/Vrp-Set-D-n455.pkl', '../../data/CVRP/dataset/scale-1/Vrp-Set-D-n501.pkl', '../../data/CVRP/dataset/scale-1/Vrp-Set-D-n510.pkl', '../../data/CVRP/dataset/scale-1/Vrp-Set-D-n601.pkl', '../../data/CVRP/dataset/scale-1/Vrp-Set-D-n701.pkl', '../../data/CVRP/dataset/scale-1/Vrp-Set-D-n901.pkl', '../../data/CVRP/dataset/scale-1/Vrp-Set-E-n101.pkl', '../../data/CVRP/dataset/scale-1/Vrp-Set-E-n22.pkl', '../../data/CVRP/dataset/scale-1/Vrp-Set-E-n23.pkl', '../../data/CVRP/dataset/scale-1/Vrp-Set-E-n30.pkl', '../../data/CVRP/dataset/scale-1/Vrp-Set-E-n33.pkl', '../../data/CVRP/dataset/scale-1/Vrp-Set-E-n51.pkl', '../../data/CVRP/dataset/scale-1/Vrp-Set-E-n76.pkl', '../../data/CVRP/dataset/scale-1/Vrp-Set-F-n135.pkl', '../../data/CVRP/dataset/scale-1/Vrp-Set-F-n45.pkl', '../../data/CVRP/dataset/scale-1/Vrp-Set-F-n72.pkl', '../../data/CVRP/dataset/scale-1/Vrp-Set-Golden-n201.pkl', '../../data/CVRP/dataset/scale-1/Vrp-Set-Golden-n241.pkl', '../../data/CVRP/dataset/scale-1/Vrp-Set-Golden-n253.pkl', '../../data/CVRP/dataset/scale-1/Vrp-Set-Golden-n256.pkl', '../../data/CVRP/dataset/scale-1/Vrp-Set-Golden-n281.pkl', '../../data/CVRP/dataset/scale-1/Vrp-Set-Golden-n301.pkl', '../../data/CVRP/dataset/scale-1/Vrp-Set-Golden-n321.pkl', '../../data/CVRP/dataset/scale-1/Vrp-Set-Golden-n324.pkl', '../../data/CVRP/dataset/scale-1/Vrp-Set-Golden-n361.pkl', '../../data/CVRP/dataset/scale-1/Vrp-Set-Golden-n397.pkl', '../../data/CVRP/dataset/scale-1/Vrp-Set-Golden-n400.pkl', '../../data/CVRP/dataset/scale-1/Vrp-Set-Golden-n401.pkl', '../../data/CVRP/dataset/scale-1/Vrp-Set-Golden-n421.pkl', '../../data/CVRP/dataset/scale-1/Vrp-Set-Golden-n441.pkl', '../../data/CVRP/dataset/scale-1/Vrp-Set-Golden-n481.pkl', '../../data/CVRP/dataset/scale-1/Vrp-Set-Golden-n484.pkl', '../../data/CVRP/dataset/scale-1/Vrp-Set-Li-n1041.pkl', '../../data/CVRP/dataset/scale-1/Vrp-Set-Li-n1121.pkl', '../../data/CVRP/dataset/scale-1/Vrp-Set-Li-n1201.pkl', '../../data/CVRP/dataset/scale-1/Vrp-Set-Li-n561.pkl', '../../data/CVRP/dataset/scale-1/Vrp-Set-Li-n601.pkl', '../../data/CVRP/dataset/scale-1/Vrp-Set-Li-n641.pkl', '../../data/CVRP/dataset/scale-1/Vrp-Set-Li-n721.pkl', '../../data/CVRP/dataset/scale-1/Vrp-Set-Li-n761.pkl', '../../data/CVRP/dataset/scale-1/Vrp-Set-Li-n801.pkl', '../../data/CVRP/dataset/scale-1/Vrp-Set-Li-n841.pkl', '../../data/CVRP/dataset/scale-1/Vrp-Set-Li-n881.pkl', '../../data/CVRP/dataset/scale-1/Vrp-Set-Li-n961.pkl', '../../data/CVRP/dataset/scale-1/Vrp-Set-M-n101.pkl', '../../data/CVRP/dataset/scale-1/Vrp-Set-M-n121.pkl', '../../data/CVRP/dataset/scale-1/Vrp-Set-M-n151.pkl', '../../data/CVRP/dataset/scale-1/Vrp-Set-M-n200.pkl', '../../data/CVRP/dataset/scale-1/Vrp-Set-P-n101.pkl', '../../data/CVRP/dataset/scale-1/Vrp-Set-P-n16.pkl', '../../data/CVRP/dataset/scale-1/Vrp-Set-P-n19.pkl', '../../data/CVRP/dataset/scale-1/Vrp-Set-P-n20.pkl', '../../data/CVRP/dataset/scale-1/Vrp-Set-P-n21.pkl', '../../data/CVRP/dataset/scale-1/Vrp-Set-P-n22.pkl', '../../data/CVRP/dataset/scale-1/Vrp-Set-P-n23.pkl', '../../data/CVRP/dataset/scale-1/Vrp-Set-P-n40.pkl', '../../data/CVRP/dataset/scale-1/Vrp-Set-P-n45.pkl', '../../data/CVRP/dataset/scale-1/Vrp-Set-P-n50.pkl', '../../data/CVRP/dataset/scale-1/Vrp-Set-P-n51.pkl', '../../data/CVRP/dataset/scale-1/Vrp-Set-P-n55.pkl', '../../data/CVRP/dataset/scale-1/Vrp-Set-P-n60.pkl', '../../data/CVRP/dataset/scale-1/Vrp-Set-P-n65.pkl', '../../data/CVRP/dataset/scale-1/Vrp-Set-P-n70.pkl', '../../data/CVRP/dataset/scale-1/Vrp-Set-P-n76.pkl', '../../data/CVRP/dataset/scale-1/Vrp-Set-X-n1001.pkl', '../../data/CVRP/dataset/scale-1/Vrp-Set-X-n101.pkl', '../../data/CVRP/dataset/scale-1/Vrp-Set-X-n106.pkl', '../../data/CVRP/dataset/scale-1/Vrp-Set-X-n110.pkl', '../../data/CVRP/dataset/scale-1/Vrp-Set-X-n115.pkl', '../../data/CVRP/dataset/scale-1/Vrp-Set-X-n120.pkl', '../../data/CVRP/dataset/scale-1/Vrp-Set-X-n125.pkl', '../../data/CVRP/dataset/scale-1/Vrp-Set-X-n129.pkl', '../../data/CVRP/dataset/scale-1/Vrp-Set-X-n134.pkl', '../../data/CVRP/dataset/scale-1/Vrp-Set-X-n139.pkl', '../../data/CVRP/dataset/scale-1/Vrp-Set-X-n143.pkl', '../../data/CVRP/dataset/scale-1/Vrp-Set-X-n148.pkl', '../../data/CVRP/dataset/scale-1/Vrp-Set-X-n153.pkl', '../../data/CVRP/dataset/scale-1/Vrp-Set-X-n157.pkl', '../../data/CVRP/dataset/scale-1/Vrp-Set-X-n162.pkl', '../../data/CVRP/dataset/scale-1/Vrp-Set-X-n167.pkl', '../../data/CVRP/dataset/scale-1/Vrp-Set-X-n172.pkl', '../../data/CVRP/dataset/scale-1/Vrp-Set-X-n176.pkl', '../../data/CVRP/dataset/scale-1/Vrp-Set-X-n181.pkl', '../../data/CVRP/dataset/scale-1/Vrp-Set-X-n186.pkl', '../../data/CVRP/dataset/scale-1/Vrp-Set-X-n190.pkl', '../../data/CVRP/dataset/scale-1/Vrp-Set-X-n195.pkl', '../../data/CVRP/dataset/scale-1/Vrp-Set-X-n200.pkl', '../../data/CVRP/dataset/scale-1/Vrp-Set-X-n204.pkl', '../../data/CVRP/dataset/scale-1/Vrp-Set-X-n209.pkl', '../../data/CVRP/dataset/scale-1/Vrp-Set-X-n214.pkl', '../../data/CVRP/dataset/scale-1/Vrp-Set-X-n219.pkl', '../../data/CVRP/dataset/scale-1/Vrp-Set-X-n223.pkl', '../../data/CVRP/dataset/scale-1/Vrp-Set-X-n228.pkl', '../../data/CVRP/dataset/scale-1/Vrp-Set-X-n233.pkl', '../../data/CVRP/dataset/scale-1/Vrp-Set-X-n237.pkl', '../../data/CVRP/dataset/scale-1/Vrp-Set-X-n242.pkl', '../../data/CVRP/dataset/scale-1/Vrp-Set-X-n247.pkl', '../../data/CVRP/dataset/scale-1/Vrp-Set-X-n251.pkl', '../../data/CVRP/dataset/scale-1/Vrp-Set-X-n256.pkl', '../../data/CVRP/dataset/scale-1/Vrp-Set-X-n261.pkl', '../../data/CVRP/dataset/scale-1/Vrp-Set-X-n266.pkl', '../../data/CVRP/dataset/scale-1/Vrp-Set-X-n270.pkl', '../../data/CVRP/dataset/scale-1/Vrp-Set-X-n275.pkl', '../../data/CVRP/dataset/scale-1/Vrp-Set-X-n280.pkl', '../../data/CVRP/dataset/scale-1/Vrp-Set-X-n284.pkl', '../../data/CVRP/dataset/scale-1/Vrp-Set-X-n289.pkl', '../../data/CVRP/dataset/scale-1/Vrp-Set-X-n294.pkl', '../../data/CVRP/dataset/scale-1/Vrp-Set-X-n298.pkl', '../../data/CVRP/dataset/scale-1/Vrp-Set-X-n303.pkl', '../../data/CVRP/dataset/scale-1/Vrp-Set-X-n308.pkl', '../../data/CVRP/dataset/scale-1/Vrp-Set-X-n313.pkl', '../../data/CVRP/dataset/scale-1/Vrp-Set-X-n317.pkl', '../../data/CVRP/dataset/scale-1/Vrp-Set-X-n322.pkl', '../../data/CVRP/dataset/scale-1/Vrp-Set-X-n327.pkl', '../../data/CVRP/dataset/scale-1/Vrp-Set-X-n331.pkl', '../../data/CVRP/dataset/scale-1/Vrp-Set-X-n336.pkl', '../../data/CVRP/dataset/scale-1/Vrp-Set-X-n344.pkl', '../../data/CVRP/dataset/scale-1/Vrp-Set-X-n351.pkl', '../../data/CVRP/dataset/scale-1/Vrp-Set-X-n359.pkl', '../../data/CVRP/dataset/scale-1/Vrp-Set-X-n367.pkl', '../../data/CVRP/dataset/scale-1/Vrp-Set-X-n376.pkl', '../../data/CVRP/dataset/scale-1/Vrp-Set-X-n384.pkl', '../../data/CVRP/dataset/scale-1/Vrp-Set-X-n393.pkl', '../../data/CVRP/dataset/scale-1/Vrp-Set-X-n401.pkl', '../../data/CVRP/dataset/scale-1/Vrp-Set-X-n411.pkl', '../../data/CVRP/dataset/scale-1/Vrp-Set-X-n420.pkl', '../../data/CVRP/dataset/scale-1/Vrp-Set-X-n429.pkl', '../../data/CVRP/dataset/scale-1/Vrp-Set-X-n439.pkl', '../../data/CVRP/dataset/scale-1/Vrp-Set-X-n449.pkl', '../../data/CVRP/dataset/scale-1/Vrp-Set-X-n459.pkl', '../../data/CVRP/dataset/scale-1/Vrp-Set-X-n469.pkl', '../../data/CVRP/dataset/scale-1/Vrp-Set-X-n480.pkl', '../../data/CVRP/dataset/scale-1/Vrp-Set-X-n491.pkl', '../../data/CVRP/dataset/scale-1/Vrp-Set-X-n502.pkl', '../../data/CVRP/dataset/scale-1/Vrp-Set-X-n513.pkl', '../../data/CVRP/dataset/scale-1/Vrp-Set-X-n524.pkl', '../../data/CVRP/dataset/scale-1/Vrp-Set-X-n536.pkl', '../../data/CVRP/dataset/scale-1/Vrp-Set-X-n548.pkl', '../../data/CVRP/dataset/scale-1/Vrp-Set-X-n561.pkl', '../../data/CVRP/dataset/scale-1/Vrp-Set-X-n573.pkl', '../../data/CVRP/dataset/scale-1/Vrp-Set-X-n586.pkl', '../../data/CVRP/dataset/scale-1/Vrp-Set-X-n599.pkl', '../../data/CVRP/dataset/scale-1/Vrp-Set-X-n613.pkl', '../../data/CVRP/dataset/scale-1/Vrp-Set-X-n627.pkl', '../../data/CVRP/dataset/scale-1/Vrp-Set-X-n641.pkl', '../../data/CVRP/dataset/scale-1/Vrp-Set-X-n655.pkl', '../../data/CVRP/dataset/scale-1/Vrp-Set-X-n670.pkl', '../../data/CVRP/dataset/scale-1/Vrp-Set-X-n685.pkl', '../../data/CVRP/dataset/scale-1/Vrp-Set-X-n701.pkl', '../../data/CVRP/dataset/scale-1/Vrp-Set-X-n716.pkl', '../../data/CVRP/dataset/scale-1/Vrp-Set-X-n733.pkl', '../../data/CVRP/dataset/scale-1/Vrp-Set-X-n749.pkl', '../../data/CVRP/dataset/scale-1/Vrp-Set-X-n766.pkl', '../../data/CVRP/dataset/scale-1/Vrp-Set-X-n783.pkl', '../../data/CVRP/dataset/scale-1/Vrp-Set-X-n801.pkl', '../../data/CVRP/dataset/scale-1/Vrp-Set-X-n819.pkl', '../../data/CVRP/dataset/scale-1/Vrp-Set-X-n837.pkl', '../../data/CVRP/dataset/scale-1/Vrp-Set-X-n856.pkl', '../../data/CVRP/dataset/scale-1/Vrp-Set-X-n876.pkl', '../../data/CVRP/dataset/scale-1/Vrp-Set-X-n895.pkl', '../../data/CVRP/dataset/scale-1/Vrp-Set-X-n916.pkl', '../../data/CVRP/dataset/scale-1/Vrp-Set-X-n936.pkl', '../../data/CVRP/dataset/scale-1/Vrp-Set-X-n957.pkl', '../../data/CVRP/dataset/scale-1/Vrp-Set-X-n979.pkl', '../../data/CVRP/dataset/scale-1/Vrp-Set-XXL-n10001.pkl', '../../data/CVRP/dataset/scale-1/Vrp-Set-XXL-n11001.pkl', '../../data/CVRP/dataset/scale-1/Vrp-Set-XXL-n15001.pkl', '../../data/CVRP/dataset/scale-1/Vrp-Set-XXL-n16001.pkl', '../../data/CVRP/dataset/scale-1/Vrp-Set-XXL-n20001.pkl', '../../data/CVRP/dataset/scale-1/Vrp-Set-XXL-n30001.pkl', '../../data/CVRP/dataset/scale-1/Vrp-Set-XXL-n3001.pkl', '../../data/CVRP/dataset/scale-1/Vrp-Set-XXL-n4001.pkl', '../../data/CVRP/dataset/scale-1/Vrp-Set-XXL-n6001.pkl', '../../data/CVRP/dataset/scale-1/Vrp-Set-XXL-n7001.pkl', '../../data/CVRP/dataset/scale-1/Vrp-Set-tai-n101.pkl', '../../data/CVRP/dataset/scale-1/Vrp-Set-tai-n151.pkl', '../../data/CVRP/dataset/scale-1/Vrp-Set-tai-n386.pkl', '../../data/CVRP/dataset/scale-1/Vrp-Set-tai-n76.pkl'], ['../../data/CVRP/dataset/scale-1000/Vrp-Set-A-n32.pkl', '../../data/CVRP/dataset/scale-1000/Vrp-Set-A-n33.pkl', '../../data/CVRP/dataset/scale-1000/Vrp-Set-A-n34.pkl', '../../data/CVRP/dataset/scale-1000/Vrp-Set-A-n36.pkl', '../../data/CVRP/dataset/scale-1000/Vrp-Set-A-n37.pkl', '../../data/CVRP/dataset/scale-1000/Vrp-Set-A-n38.pkl', '../../data/CVRP/dataset/scale-1000/Vrp-Set-A-n39.pkl', '../../data/CVRP/dataset/scale-1000/Vrp-Set-A-n44.pkl', '../../data/CVRP/dataset/scale-1000/Vrp-Set-A-n45.pkl', '../../data/CVRP/dataset/scale-1000/Vrp-Set-A-n46.pkl', '../../data/CVRP/dataset/scale-1000/Vrp-Set-A-n48.pkl', '../../data/CVRP/dataset/scale-1000/Vrp-Set-A-n53.pkl', '../../data/CVRP/dataset/scale-1000/Vrp-Set-A-n54.pkl', '../../data/CVRP/dataset/scale-1000/Vrp-Set-A-n55.pkl', '../../data/CVRP/dataset/scale-1000/Vrp-Set-A-n60.pkl', '../../data/CVRP/dataset/scale-1000/Vrp-Set-A-n61.pkl', '../../data/CVRP/dataset/scale-1000/Vrp-Set-A-n62.pkl', '../../data/CVRP/dataset/scale-1000/Vrp-Set-A-n63.pkl', '../../data/CVRP/dataset/scale-1000/Vrp-Set-A-n64.pkl', '../../data/CVRP/dataset/scale-1000/Vrp-Set-A-n65.pkl', '../../data/CVRP/dataset/scale-1000/Vrp-Set-A-n69.pkl', '../../data/CVRP/dataset/scale-1000/Vrp-Set-A-n80.pkl', '../../data/CVRP/dataset/scale-1000/Vrp-Set-B-n31.pkl', '../../data/CVRP/dataset/scale-1000/Vrp-Set-B-n34.pkl', '../../data/CVRP/dataset/scale-1000/Vrp-Set-B-n35.pkl', '../../data/CVRP/dataset/scale-1000/Vrp-Set-B-n38.pkl', '../../data/CVRP/dataset/scale-1000/Vrp-Set-B-n39.pkl', '../../data/CVRP/dataset/scale-1000/Vrp-Set-B-n41.pkl', '../../data/CVRP/dataset/scale-1000/Vrp-Set-B-n43.pkl', '../../data/CVRP/dataset/scale-1000/Vrp-Set-B-n44.pkl', '../../data/CVRP/dataset/scale-1000/Vrp-Set-B-n45.pkl', '../../data/CVRP/dataset/scale-1000/Vrp-Set-B-n50.pkl', '../../data/CVRP/dataset/scale-1000/Vrp-Set-B-n51.pkl', '../../data/CVRP/dataset/scale-1000/Vrp-Set-B-n52.pkl', '../../data/CVRP/dataset/scale-1000/Vrp-Set-B-n56.pkl', '../../data/CVRP/dataset/scale-1000/Vrp-Set-B-n57.pkl', '../../data/CVRP/dataset/scale-1000/Vrp-Set-B-n63.pkl', '../../data/CVRP/dataset/scale-1000/Vrp-Set-B-n64.pkl', '../../data/CVRP/dataset/scale-1000/Vrp-Set-B-n66.pkl', '../../data/CVRP/dataset/scale-1000/Vrp-Set-B-n67.pkl', '../../data/CVRP/dataset/scale-1000/Vrp-Set-B-n68.pkl', '../../data/CVRP/dataset/scale-1000/Vrp-Set-B-n78.pkl', '../../data/CVRP/dataset/scale-1000/Vrp-Set-CMT-n101.pkl', '../../data/CVRP/dataset/scale-1000/Vrp-Set-CMT-n121.pkl', '../../data/CVRP/dataset/scale-1000/Vrp-Set-CMT-n151.pkl', '../../data/CVRP/dataset/scale-1000/Vrp-Set-CMT-n200.pkl', '../../data/CVRP/dataset/scale-1000/Vrp-Set-CMT-n51.pkl', '../../data/CVRP/dataset/scale-1000/Vrp-Set-CMT-n76.pkl', '../../data/CVRP/dataset/scale-1000/Vrp-Set-D-n1001.pkl', '../../data/CVRP/dataset/scale-1000/Vrp-Set-D-n242.pkl', '../../data/CVRP/dataset/scale-1000/Vrp-Set-D-n323.pkl', '../../data/CVRP/dataset/scale-1000/Vrp-Set-D-n401.pkl', '../../data/CVRP/dataset/scale-1000/Vrp-Set-D-n405.pkl', '../../data/CVRP/dataset/scale-1000/Vrp-Set-D-n455.pkl', '../../data/CVRP/dataset/scale-1000/Vrp-Set-D-n501.pkl', '../../data/CVRP/dataset/scale-1000/Vrp-Set-D-n510.pkl', '../../data/CVRP/dataset/scale-1000/Vrp-Set-D-n601.pkl', '../../data/CVRP/dataset/scale-1000/Vrp-Set-D-n701.pkl', '../../data/CVRP/dataset/scale-1000/Vrp-Set-D-n901.pkl', '../../data/CVRP/dataset/scale-1000/Vrp-Set-E-n101.pkl', '../../data/CVRP/dataset/scale-1000/Vrp-Set-E-n22.pkl', '../../data/CVRP/dataset/scale-1000/Vrp-Set-E-n23.pkl', '../../data/CVRP/dataset/scale-1000/Vrp-Set-E-n30.pkl', '../../data/CVRP/dataset/scale-1000/Vrp-Set-E-n33.pkl', '../../data/CVRP/dataset/scale-1000/Vrp-Set-E-n51.pkl', '../../data/CVRP/dataset/scale-1000/Vrp-Set-E-n76.pkl', '../../data/CVRP/dataset/scale-1000/Vrp-Set-F-n135.pkl', '../../data/CVRP/dataset/scale-1000/Vrp-Set-F-n45.pkl', '../../data/CVRP/dataset/scale-1000/Vrp-Set-F-n72.pkl', '../../data/CVRP/dataset/scale-1000/Vrp-Set-Golden-n201.pkl', '../../data/CVRP/dataset/scale-1000/Vrp-Set-Golden-n241.pkl', '../../data/CVRP/dataset/scale-1000/Vrp-Set-Golden-n253.pkl', '../../data/CVRP/dataset/scale-1000/Vrp-Set-Golden-n256.pkl', '../../data/CVRP/dataset/scale-1000/Vrp-Set-Golden-n281.pkl', '../../data/CVRP/dataset/scale-1000/Vrp-Set-Golden-n301.pkl', '../../data/CVRP/dataset/scale-1000/Vrp-Set-Golden-n321.pkl', '../../data/CVRP/dataset/scale-1000/Vrp-Set-Golden-n324.pkl', '../../data/CVRP/dataset/scale-1000/Vrp-Set-Golden-n361.pkl', '../../data/CVRP/dataset/scale-1000/Vrp-Set-Golden-n397.pkl', '../../data/CVRP/dataset/scale-1000/Vrp-Set-Golden-n400.pkl', '../../data/CVRP/dataset/scale-1000/Vrp-Set-Golden-n401.pkl', '../../data/CVRP/dataset/scale-1000/Vrp-Set-Golden-n421.pkl', '../../data/CVRP/dataset/scale-1000/Vrp-Set-Golden-n441.pkl', '../../data/CVRP/dataset/scale-1000/Vrp-Set-Golden-n481.pkl', '../../data/CVRP/dataset/scale-1000/Vrp-Set-Golden-n484.pkl', '../../data/CVRP/dataset/scale-1000/Vrp-Set-Li-n1041.pkl', '../../data/CVRP/dataset/scale-1000/Vrp-Set-Li-n1121.pkl', '../../data/CVRP/dataset/scale-1000/Vrp-Set-Li-n1201.pkl', '../../data/CVRP/dataset/scale-1000/Vrp-Set-Li-n561.pkl', '../../data/CVRP/dataset/scale-1000/Vrp-Set-Li-n601.pkl', '../../data/CVRP/dataset/scale-1000/Vrp-Set-Li-n641.pkl', '../../data/CVRP/dataset/scale-1000/Vrp-Set-Li-n721.pkl', '../../data/CVRP/dataset/scale-1000/Vrp-Set-Li-n761.pkl', '../../data/CVRP/dataset/scale-1000/Vrp-Set-Li-n801.pkl', '../../data/CVRP/dataset/scale-1000/Vrp-Set-Li-n841.pkl', '../../data/CVRP/dataset/scale-1000/Vrp-Set-Li-n881.pkl', '../../data/CVRP/dataset/scale-1000/Vrp-Set-Li-n961.pkl', '../../data/CVRP/dataset/scale-1000/Vrp-Set-M-n101.pkl', '../../data/CVRP/dataset/scale-1000/Vrp-Set-M-n121.pkl', '../../data/CVRP/dataset/scale-1000/Vrp-Set-M-n151.pkl', '../../data/CVRP/dataset/scale-1000/Vrp-Set-M-n200.pkl', '../../data/CVRP/dataset/scale-1000/Vrp-Set-P-n101.pkl', '../../data/CVRP/dataset/scale-1000/Vrp-Set-P-n16.pkl', '../../data/CVRP/dataset/scale-1000/Vrp-Set-P-n19.pkl', '../../data/CVRP/dataset/scale-1000/Vrp-Set-P-n20.pkl', '../../data/CVRP/dataset/scale-1000/Vrp-Set-P-n21.pkl', '../../data/CVRP/dataset/scale-1000/Vrp-Set-P-n22.pkl', '../../data/CVRP/dataset/scale-1000/Vrp-Set-P-n23.pkl', '../../data/CVRP/dataset/scale-1000/Vrp-Set-P-n40.pkl', '../../data/CVRP/dataset/scale-1000/Vrp-Set-P-n45.pkl', '../../data/CVRP/dataset/scale-1000/Vrp-Set-P-n50.pkl', '../../data/CVRP/dataset/scale-1000/Vrp-Set-P-n51.pkl', '../../data/CVRP/dataset/scale-1000/Vrp-Set-P-n55.pkl', '../../data/CVRP/dataset/scale-1000/Vrp-Set-P-n60.pkl', '../../data/CVRP/dataset/scale-1000/Vrp-Set-P-n65.pkl', '../../data/CVRP/dataset/scale-1000/Vrp-Set-P-n70.pkl', '../../data/CVRP/dataset/scale-1000/Vrp-Set-P-n76.pkl', '../../data/CVRP/dataset/scale-1000/Vrp-Set-X-n1001.pkl', '../../data/CVRP/dataset/scale-1000/Vrp-Set-X-n101.pkl', '../../data/CVRP/dataset/scale-1000/Vrp-Set-X-n106.pkl', '../../data/CVRP/dataset/scale-1000/Vrp-Set-X-n110.pkl', '../../data/CVRP/dataset/scale-1000/Vrp-Set-X-n115.pkl', '../../data/CVRP/dataset/scale-1000/Vrp-Set-X-n120.pkl', '../../data/CVRP/dataset/scale-1000/Vrp-Set-X-n125.pkl', '../../data/CVRP/dataset/scale-1000/Vrp-Set-X-n129.pkl', '../../data/CVRP/dataset/scale-1000/Vrp-Set-X-n134.pkl', '../../data/CVRP/dataset/scale-1000/Vrp-Set-X-n139.pkl', '../../data/CVRP/dataset/scale-1000/Vrp-Set-X-n143.pkl', '../../data/CVRP/dataset/scale-1000/Vrp-Set-X-n148.pkl', '../../data/CVRP/dataset/scale-1000/Vrp-Set-X-n153.pkl', '../../data/CVRP/dataset/scale-1000/Vrp-Set-X-n157.pkl', '../../data/CVRP/dataset/scale-1000/Vrp-Set-X-n162.pkl', '../../data/CVRP/dataset/scale-1000/Vrp-Set-X-n167.pkl', '../../data/CVRP/dataset/scale-1000/Vrp-Set-X-n172.pkl', '../../data/CVRP/dataset/scale-1000/Vrp-Set-X-n176.pkl', '../../data/CVRP/dataset/scale-1000/Vrp-Set-X-n181.pkl', '../../data/CVRP/dataset/scale-1000/Vrp-Set-X-n186.pkl', '../../data/CVRP/dataset/scale-1000/Vrp-Set-X-n190.pkl', '../../data/CVRP/dataset/scale-1000/Vrp-Set-X-n195.pkl', '../../data/CVRP/dataset/scale-1000/Vrp-Set-X-n200.pkl', '../../data/CVRP/dataset/scale-1000/Vrp-Set-X-n204.pkl', '../../data/CVRP/dataset/scale-1000/Vrp-Set-X-n209.pkl', '../../data/CVRP/dataset/scale-1000/Vrp-Set-X-n214.pkl', '../../data/CVRP/dataset/scale-1000/Vrp-Set-X-n219.pkl', '../../data/CVRP/dataset/scale-1000/Vrp-Set-X-n223.pkl', '../../data/CVRP/dataset/scale-1000/Vrp-Set-X-n228.pkl', '../../data/CVRP/dataset/scale-1000/Vrp-Set-X-n233.pkl', '../../data/CVRP/dataset/scale-1000/Vrp-Set-X-n237.pkl', '../../data/CVRP/dataset/scale-1000/Vrp-Set-X-n242.pkl', '../../data/CVRP/dataset/scale-1000/Vrp-Set-X-n247.pkl', '../../data/CVRP/dataset/scale-1000/Vrp-Set-X-n251.pkl', '../../data/CVRP/dataset/scale-1000/Vrp-Set-X-n256.pkl', '../../data/CVRP/dataset/scale-1000/Vrp-Set-X-n261.pkl', '../../data/CVRP/dataset/scale-1000/Vrp-Set-X-n266.pkl', '../../data/CVRP/dataset/scale-1000/Vrp-Set-X-n270.pkl', '../../data/CVRP/dataset/scale-1000/Vrp-Set-X-n275.pkl', '../../data/CVRP/dataset/scale-1000/Vrp-Set-X-n280.pkl', '../../data/CVRP/dataset/scale-1000/Vrp-Set-X-n284.pkl', '../../data/CVRP/dataset/scale-1000/Vrp-Set-X-n289.pkl', '../../data/CVRP/dataset/scale-1000/Vrp-Set-X-n294.pkl', '../../data/CVRP/dataset/scale-1000/Vrp-Set-X-n298.pkl', '../../data/CVRP/dataset/scale-1000/Vrp-Set-X-n303.pkl', '../../data/CVRP/dataset/scale-1000/Vrp-Set-X-n308.pkl', '../../data/CVRP/dataset/scale-1000/Vrp-Set-X-n313.pkl', '../../data/CVRP/dataset/scale-1000/Vrp-Set-X-n317.pkl', '../../data/CVRP/dataset/scale-1000/Vrp-Set-X-n322.pkl', '../../data/CVRP/dataset/scale-1000/Vrp-Set-X-n327.pkl', '../../data/CVRP/dataset/scale-1000/Vrp-Set-X-n331.pkl', '../../data/CVRP/dataset/scale-1000/Vrp-Set-X-n336.pkl', '../../data/CVRP/dataset/scale-1000/Vrp-Set-X-n344.pkl', '../../data/CVRP/dataset/scale-1000/Vrp-Set-X-n351.pkl', '../../data/CVRP/dataset/scale-1000/Vrp-Set-X-n359.pkl', '../../data/CVRP/dataset/scale-1000/Vrp-Set-X-n367.pkl', '../../data/CVRP/dataset/scale-1000/Vrp-Set-X-n376.pkl', '../../data/CVRP/dataset/scale-1000/Vrp-Set-X-n384.pkl', '../../data/CVRP/dataset/scale-1000/Vrp-Set-X-n393.pkl', '../../data/CVRP/dataset/scale-1000/Vrp-Set-X-n401.pkl', '../../data/CVRP/dataset/scale-1000/Vrp-Set-X-n411.pkl', '../../data/CVRP/dataset/scale-1000/Vrp-Set-X-n420.pkl', '../../data/CVRP/dataset/scale-1000/Vrp-Set-X-n429.pkl', '../../data/CVRP/dataset/scale-1000/Vrp-Set-X-n439.pkl', '../../data/CVRP/dataset/scale-1000/Vrp-Set-X-n449.pkl', '../../data/CVRP/dataset/scale-1000/Vrp-Set-X-n459.pkl', '../../data/CVRP/dataset/scale-1000/Vrp-Set-X-n469.pkl', '../../data/CVRP/dataset/scale-1000/Vrp-Set-X-n480.pkl', '../../data/CVRP/dataset/scale-1000/Vrp-Set-X-n491.pkl', '../../data/CVRP/dataset/scale-1000/Vrp-Set-X-n502.pkl', '../../data/CVRP/dataset/scale-1000/Vrp-Set-X-n513.pkl', '../../data/CVRP/dataset/scale-1000/Vrp-Set-X-n524.pkl', '../../data/CVRP/dataset/scale-1000/Vrp-Set-X-n536.pkl', '../../data/CVRP/dataset/scale-1000/Vrp-Set-X-n548.pkl', '../../data/CVRP/dataset/scale-1000/Vrp-Set-X-n561.pkl', '../../data/CVRP/dataset/scale-1000/Vrp-Set-X-n573.pkl', '../../data/CVRP/dataset/scale-1000/Vrp-Set-X-n586.pkl', '../../data/CVRP/dataset/scale-1000/Vrp-Set-X-n599.pkl', '../../data/CVRP/dataset/scale-1000/Vrp-Set-X-n613.pkl', '../../data/CVRP/dataset/scale-1000/Vrp-Set-X-n627.pkl', '../../data/CVRP/dataset/scale-1000/Vrp-Set-X-n641.pkl', '../../data/CVRP/dataset/scale-1000/Vrp-Set-X-n655.pkl', '../../data/CVRP/dataset/scale-1000/Vrp-Set-X-n670.pkl', '../../data/CVRP/dataset/scale-1000/Vrp-Set-X-n685.pkl', '../../data/CVRP/dataset/scale-1000/Vrp-Set-X-n701.pkl', '../../data/CVRP/dataset/scale-1000/Vrp-Set-X-n716.pkl', '../../data/CVRP/dataset/scale-1000/Vrp-Set-X-n733.pkl', '../../data/CVRP/dataset/scale-1000/Vrp-Set-X-n749.pkl', '../../data/CVRP/dataset/scale-1000/Vrp-Set-X-n766.pkl', '../../data/CVRP/dataset/scale-1000/Vrp-Set-X-n783.pkl', '../../data/CVRP/dataset/scale-1000/Vrp-Set-X-n801.pkl', '../../data/CVRP/dataset/scale-1000/Vrp-Set-X-n819.pkl', '../../data/CVRP/dataset/scale-1000/Vrp-Set-X-n837.pkl', '../../data/CVRP/dataset/scale-1000/Vrp-Set-X-n856.pkl', '../../data/CVRP/dataset/scale-1000/Vrp-Set-X-n876.pkl', '../../data/CVRP/dataset/scale-1000/Vrp-Set-X-n895.pkl', '../../data/CVRP/dataset/scale-1000/Vrp-Set-X-n916.pkl', '../../data/CVRP/dataset/scale-1000/Vrp-Set-X-n936.pkl', '../../data/CVRP/dataset/scale-1000/Vrp-Set-X-n957.pkl', '../../data/CVRP/dataset/scale-1000/Vrp-Set-X-n979.pkl', '../../data/CVRP/dataset/scale-1000/Vrp-Set-XXL-n10001.pkl', '../../data/CVRP/dataset/scale-1000/Vrp-Set-XXL-n11001.pkl', '../../data/CVRP/dataset/scale-1000/Vrp-Set-XXL-n15001.pkl', '../../data/CVRP/dataset/scale-1000/Vrp-Set-XXL-n16001.pkl', '../../data/CVRP/dataset/scale-1000/Vrp-Set-XXL-n20001.pkl', '../../data/CVRP/dataset/scale-1000/Vrp-Set-XXL-n30001.pkl', '../../data/CVRP/dataset/scale-1000/Vrp-Set-XXL-n3001.pkl', '../../data/CVRP/dataset/scale-1000/Vrp-Set-XXL-n4001.pkl', '../../data/CVRP/dataset/scale-1000/Vrp-Set-XXL-n6001.pkl', '../../data/CVRP/dataset/scale-1000/Vrp-Set-XXL-n7001.pkl', '../../data/CVRP/dataset/scale-1000/Vrp-Set-tai-n101.pkl', '../../data/CVRP/dataset/scale-1000/Vrp-Set-tai-n151.pkl', '../../data/CVRP/dataset/scale-1000/Vrp-Set-tai-n386.pkl', '../../data/CVRP/dataset/scale-1000/Vrp-Set-tai-n76.pkl'], ['../../data/CVRP/dataset/tool-omni.ipynb']]\n"
     ]
    }
   ],
   "source": [
    "import os\n",
    "import shutil\n",
    "import vrplib\n",
    "import pickle\n",
    "\n",
    "# batch run LKH and HGS\n",
    "root_dir='../../data/CVRP/dataset'\n",
    "src_dir=root_dir\n",
    "\n",
    "path_list=[]\n",
    "\n",
    "for dir in sorted(os.listdir(src_dir)):\n",
    "    dir=os.path.join(src_dir,dir)\n",
    "    #print(dir)\n",
    "    list=[os.path.join(dir, f) for f in sorted(os.listdir(dir))] \\\n",
    "        if os.path.isdir(dir) else [dir]\n",
    "    path_list.append(list)\n",
    "\n",
    "print(path_list)"
   ]
  },
  {
   "cell_type": "code",
   "execution_count": 2,
   "metadata": {},
   "outputs": [
    {
     "name": "stdout",
     "output_type": "stream",
     "text": [
      "[2024-04-01 10:59:10] test.py(106) : DEBUG_MODE: False\n",
      "[2024-04-01 10:59:10] test.py(107) : USE_CUDA: True, CUDA_DEVICE_NUM: 0\n",
      "[2024-04-01 10:59:10] test.py(108) : env_params{'problem_size': 200, 'pomo_size': 200}\n",
      "[2024-04-01 10:59:10] test.py(108) : model_params{'embedding_dim': 128, 'sqrt_embedding_dim': 11.313708498984761, 'encoder_layer_num': 6, 'qkv_dim': 16, 'head_num': 8, 'logit_clipping': 10, 'ff_hidden_dim': 512, 'eval_type': 'argmax', 'norm': 'batch_no_track'}\n",
      "[2024-04-01 10:59:10] test.py(108) : tester_params{'use_cuda': True, 'cuda_device_num': 0, 'seed': 2024, 'model_load': {'path': 'result/maml_250000checkpts', 'epoch': 250000}, 'test_episodes': 1, 'test_batch_size': 1, 'augmentation_enable': True, 'test_robustness': False, 'aug_factor': 8, 'aug_batch_size': 1, 'test_set_path': '../../data/CVRP/dataset/Vrp-Set-A/A-n32', 'test_set_opt_sol_path': '../../data/CVRP/dataset/Vrp-Set-A/A-n32-sol', 'test_set_name': 'A-n33'}\n",
      "[2024-04-01 10:59:10] test.py(108) : fine_tune_params{'enable': False, 'fine_tune_episodes': 1000, 'k': 10, 'fine_tune_batch_size': 10, 'augmentation_enable': True, 'optimizer': {'lr': 1e-05, 'weight_decay': 1e-06}}\n",
      "[2024-04-01 10:59:10] test.py(108) : logger_params{'log_file': {'desc': 'test_cvrp', 'filename': 'log.txt', 'filepath': './result/20240401_105910_test_cvrp'}}\n"
     ]
    },
    {
     "name": "stderr",
     "output_type": "stream",
     "text": [
      "/home/xunj/miniconda3/lib/python3.11/site-packages/torch/__init__.py:614: UserWarning: torch.set_default_tensor_type() is deprecated as of PyTorch 2.1, please use torch.set_default_dtype() and torch.set_default_device() as alternatives. (Triggered internally at /opt/conda/conda-bld/pytorch_1699449183005/work/torch/csrc/tensor/python_tensor.cpp:451.)\n",
      "  _C._set_default_tensor_type(t)\n"
     ]
    },
    {
     "name": "stdout",
     "output_type": "stream",
     "text": [
      "['../../data/CVRP/dataset/Vrp-Set-A/A-n32/A-n32-k5.vrp']\n",
      "[2024-04-01 10:59:16] CVRPTester.py(84) : >> Model loaded from result/maml_250000checkpts/checkpoint-250000.pt\n",
      "[2024-04-01 10:59:18] CVRPTester.py(225) : episode   1/  1, Elapsed[0.02m], Remain[0.00m], sol:0.784, score:1.038, aug_score:0.930\n",
      "[2024-04-01 10:59:18] CVRPTester.py(231) :  *** Test Done *** \n",
      "[2024-04-01 10:59:18] CVRPTester.py(232) :  NO-AUG SCORE: 1.0378, Gap: 32.3686 \n",
      "[2024-04-01 10:59:18] CVRPTester.py(233) :  AUGMENTATION SCORE: 0.9297, Gap: 18.5817 \n",
      "1.038 (32.369%)\n",
      "0.930 (18.582%)\n",
      ">> Evaluation on ../../data/CVRP/dataset/Vrp-Set-A/A-n32 finished within 1.49s\n",
      ">> Save final results to res/A-n32\n",
      "Test on \" ../../data/CVRP/dataset/Vrp-Set-A/A-n32 \" Success\n",
      "-----------------------------------------------------------------------------------------------------------------\n",
      "[2024-04-01 10:59:21] test.py(106) : DEBUG_MODE: False\n",
      "[2024-04-01 10:59:21] test.py(107) : USE_CUDA: True, CUDA_DEVICE_NUM: 0\n",
      "[2024-04-01 10:59:21] test.py(108) : env_params{'problem_size': 200, 'pomo_size': 200}\n",
      "[2024-04-01 10:59:21] test.py(108) : model_params{'embedding_dim': 128, 'sqrt_embedding_dim': 11.313708498984761, 'encoder_layer_num': 6, 'qkv_dim': 16, 'head_num': 8, 'logit_clipping': 10, 'ff_hidden_dim': 512, 'eval_type': 'argmax', 'norm': 'batch_no_track'}\n",
      "[2024-04-01 10:59:21] test.py(108) : tester_params{'use_cuda': True, 'cuda_device_num': 0, 'seed': 2024, 'model_load': {'path': 'result/maml_250000checkpts', 'epoch': 250000}, 'test_episodes': 2, 'test_batch_size': 1, 'augmentation_enable': True, 'test_robustness': False, 'aug_factor': 8, 'aug_batch_size': 1, 'test_set_path': '../../data/CVRP/dataset/Vrp-Set-A/A-n33', 'test_set_opt_sol_path': '../../data/CVRP/dataset/Vrp-Set-A/A-n33-sol', 'test_set_name': 'A-n33'}\n",
      "[2024-04-01 10:59:21] test.py(108) : fine_tune_params{'enable': False, 'fine_tune_episodes': 1000, 'k': 10, 'fine_tune_batch_size': 10, 'augmentation_enable': True, 'optimizer': {'lr': 1e-05, 'weight_decay': 1e-06}}\n",
      "[2024-04-01 10:59:21] test.py(108) : logger_params{'log_file': {'desc': 'test_cvrp', 'filename': 'log.txt', 'filepath': './result/20240401_105921_test_cvrp'}}\n"
     ]
    },
    {
     "name": "stderr",
     "output_type": "stream",
     "text": [
      "/home/xunj/miniconda3/lib/python3.11/site-packages/torch/__init__.py:614: UserWarning: torch.set_default_tensor_type() is deprecated as of PyTorch 2.1, please use torch.set_default_dtype() and torch.set_default_device() as alternatives. (Triggered internally at /opt/conda/conda-bld/pytorch_1699449183005/work/torch/csrc/tensor/python_tensor.cpp:451.)\n",
      "  _C._set_default_tensor_type(t)\n"
     ]
    },
    {
     "name": "stdout",
     "output_type": "stream",
     "text": [
      "['../../data/CVRP/dataset/Vrp-Set-A/A-n33/A-n33-k5.vrp', '../../data/CVRP/dataset/Vrp-Set-A/A-n33/A-n33-k6.vrp']\n",
      "[2024-04-01 10:59:28] CVRPTester.py(84) : >> Model loaded from result/maml_250000checkpts/checkpoint-250000.pt\n",
      "[2024-04-01 10:59:29] CVRPTester.py(225) : episode   1/  2, Elapsed[0.03m], Remain[0.03m], sol:0.661, score:0.800, aug_score:0.779\n",
      "[2024-04-01 10:59:29] CVRPTester.py(225) : episode   2/  2, Elapsed[0.03m], Remain[0.00m], sol:0.742, score:0.828, aug_score:0.827\n",
      "[2024-04-01 10:59:29] CVRPTester.py(231) :  *** Test Done *** \n",
      "[2024-04-01 10:59:29] CVRPTester.py(232) :  NO-AUG SCORE: 0.8140, Gap: 16.3057 \n",
      "[2024-04-01 10:59:29] CVRPTester.py(233) :  AUGMENTATION SCORE: 0.8030, Gap: 14.6535 \n",
      "0.814 (16.306%)\n",
      "0.803 (14.653%)\n",
      ">> Evaluation on ../../data/CVRP/dataset/Vrp-Set-A/A-n33 finished within 1.58s\n",
      ">> Save final results to res/A-n33\n",
      "Test on \" ../../data/CVRP/dataset/Vrp-Set-A/A-n33 \" Success\n",
      "-----------------------------------------------------------------------------------------------------------------\n",
      "[2024-04-01 10:59:33] test.py(106) : DEBUG_MODE: False\n",
      "[2024-04-01 10:59:33] test.py(107) : USE_CUDA: True, CUDA_DEVICE_NUM: 0\n",
      "[2024-04-01 10:59:33] test.py(108) : env_params{'problem_size': 200, 'pomo_size': 200}\n",
      "[2024-04-01 10:59:33] test.py(108) : model_params{'embedding_dim': 128, 'sqrt_embedding_dim': 11.313708498984761, 'encoder_layer_num': 6, 'qkv_dim': 16, 'head_num': 8, 'logit_clipping': 10, 'ff_hidden_dim': 512, 'eval_type': 'argmax', 'norm': 'batch_no_track'}\n",
      "[2024-04-01 10:59:33] test.py(108) : tester_params{'use_cuda': True, 'cuda_device_num': 0, 'seed': 2024, 'model_load': {'path': 'result/maml_250000checkpts', 'epoch': 250000}, 'test_episodes': 1, 'test_batch_size': 1, 'augmentation_enable': True, 'test_robustness': False, 'aug_factor': 8, 'aug_batch_size': 1, 'test_set_path': '../../data/CVRP/dataset/Vrp-Set-A/A-n34', 'test_set_opt_sol_path': '../../data/CVRP/dataset/Vrp-Set-A/A-n34-sol', 'test_set_name': 'A-n33'}\n",
      "[2024-04-01 10:59:33] test.py(108) : fine_tune_params{'enable': False, 'fine_tune_episodes': 1000, 'k': 10, 'fine_tune_batch_size': 10, 'augmentation_enable': True, 'optimizer': {'lr': 1e-05, 'weight_decay': 1e-06}}\n",
      "[2024-04-01 10:59:33] test.py(108) : logger_params{'log_file': {'desc': 'test_cvrp', 'filename': 'log.txt', 'filepath': './result/20240401_105932_test_cvrp'}}\n"
     ]
    },
    {
     "name": "stderr",
     "output_type": "stream",
     "text": [
      "/home/xunj/miniconda3/lib/python3.11/site-packages/torch/__init__.py:614: UserWarning: torch.set_default_tensor_type() is deprecated as of PyTorch 2.1, please use torch.set_default_dtype() and torch.set_default_device() as alternatives. (Triggered internally at /opt/conda/conda-bld/pytorch_1699449183005/work/torch/csrc/tensor/python_tensor.cpp:451.)\n",
      "  _C._set_default_tensor_type(t)\n"
     ]
    },
    {
     "name": "stdout",
     "output_type": "stream",
     "text": [
      "['../../data/CVRP/dataset/Vrp-Set-A/A-n34/A-n34-k5.vrp']\n",
      "[2024-04-01 10:59:39] CVRPTester.py(84) : >> Model loaded from result/maml_250000checkpts/checkpoint-250000.pt\n",
      "[2024-04-01 10:59:40] CVRPTester.py(225) : episode   1/  1, Elapsed[0.03m], Remain[0.00m], sol:0.778, score:0.942, aug_score:0.920\n",
      "[2024-04-01 10:59:40] CVRPTester.py(231) :  *** Test Done *** \n",
      "[2024-04-01 10:59:40] CVRPTester.py(232) :  NO-AUG SCORE: 0.9420, Gap: 21.0781 \n",
      "[2024-04-01 10:59:40] CVRPTester.py(233) :  AUGMENTATION SCORE: 0.9199, Gap: 18.2337 \n",
      "0.942 (21.078%)\n",
      "0.920 (18.234%)\n",
      ">> Evaluation on ../../data/CVRP/dataset/Vrp-Set-A/A-n34 finished within 1.54s\n",
      ">> Save final results to res/A-n34\n",
      "Test on \" ../../data/CVRP/dataset/Vrp-Set-A/A-n34 \" Success\n",
      "-----------------------------------------------------------------------------------------------------------------\n",
      "[2024-04-01 10:59:44] test.py(106) : DEBUG_MODE: False\n",
      "[2024-04-01 10:59:44] test.py(107) : USE_CUDA: True, CUDA_DEVICE_NUM: 0\n",
      "[2024-04-01 10:59:44] test.py(108) : env_params{'problem_size': 200, 'pomo_size': 200}\n",
      "[2024-04-01 10:59:44] test.py(108) : model_params{'embedding_dim': 128, 'sqrt_embedding_dim': 11.313708498984761, 'encoder_layer_num': 6, 'qkv_dim': 16, 'head_num': 8, 'logit_clipping': 10, 'ff_hidden_dim': 512, 'eval_type': 'argmax', 'norm': 'batch_no_track'}\n",
      "[2024-04-01 10:59:44] test.py(108) : tester_params{'use_cuda': True, 'cuda_device_num': 0, 'seed': 2024, 'model_load': {'path': 'result/maml_250000checkpts', 'epoch': 250000}, 'test_episodes': 1, 'test_batch_size': 1, 'augmentation_enable': True, 'test_robustness': False, 'aug_factor': 8, 'aug_batch_size': 1, 'test_set_path': '../../data/CVRP/dataset/Vrp-Set-A/A-n36', 'test_set_opt_sol_path': '../../data/CVRP/dataset/Vrp-Set-A/A-n36-sol', 'test_set_name': 'A-n33'}\n",
      "[2024-04-01 10:59:44] test.py(108) : fine_tune_params{'enable': False, 'fine_tune_episodes': 1000, 'k': 10, 'fine_tune_batch_size': 10, 'augmentation_enable': True, 'optimizer': {'lr': 1e-05, 'weight_decay': 1e-06}}\n",
      "[2024-04-01 10:59:44] test.py(108) : logger_params{'log_file': {'desc': 'test_cvrp', 'filename': 'log.txt', 'filepath': './result/20240401_105943_test_cvrp'}}\n"
     ]
    },
    {
     "name": "stderr",
     "output_type": "stream",
     "text": [
      "/home/xunj/miniconda3/lib/python3.11/site-packages/torch/__init__.py:614: UserWarning: torch.set_default_tensor_type() is deprecated as of PyTorch 2.1, please use torch.set_default_dtype() and torch.set_default_device() as alternatives. (Triggered internally at /opt/conda/conda-bld/pytorch_1699449183005/work/torch/csrc/tensor/python_tensor.cpp:451.)\n",
      "  _C._set_default_tensor_type(t)\n"
     ]
    },
    {
     "name": "stdout",
     "output_type": "stream",
     "text": [
      "['../../data/CVRP/dataset/Vrp-Set-A/A-n36/A-n36-k5.vrp']\n",
      "[2024-04-01 10:59:50] CVRPTester.py(84) : >> Model loaded from result/maml_250000checkpts/checkpoint-250000.pt\n",
      "[2024-04-01 10:59:52] CVRPTester.py(225) : episode   1/  1, Elapsed[0.03m], Remain[0.00m], sol:0.799, score:0.850, aug_score:0.850\n",
      "[2024-04-01 10:59:52] CVRPTester.py(231) :  *** Test Done *** \n",
      "[2024-04-01 10:59:52] CVRPTester.py(232) :  NO-AUG SCORE: 0.8497, Gap: 6.3499 \n",
      "[2024-04-01 10:59:52] CVRPTester.py(233) :  AUGMENTATION SCORE: 0.8497, Gap: 6.3499 \n",
      "0.850 (6.350%)\n",
      "0.850 (6.350%)\n",
      ">> Evaluation on ../../data/CVRP/dataset/Vrp-Set-A/A-n36 finished within 1.71s\n",
      ">> Save final results to res/A-n36\n",
      "Test on \" ../../data/CVRP/dataset/Vrp-Set-A/A-n36 \" Success\n",
      "-----------------------------------------------------------------------------------------------------------------\n",
      "[2024-04-01 10:59:55] test.py(106) : DEBUG_MODE: False\n",
      "[2024-04-01 10:59:55] test.py(107) : USE_CUDA: True, CUDA_DEVICE_NUM: 0\n",
      "[2024-04-01 10:59:55] test.py(108) : env_params{'problem_size': 200, 'pomo_size': 200}\n",
      "[2024-04-01 10:59:55] test.py(108) : model_params{'embedding_dim': 128, 'sqrt_embedding_dim': 11.313708498984761, 'encoder_layer_num': 6, 'qkv_dim': 16, 'head_num': 8, 'logit_clipping': 10, 'ff_hidden_dim': 512, 'eval_type': 'argmax', 'norm': 'batch_no_track'}\n",
      "[2024-04-01 10:59:55] test.py(108) : tester_params{'use_cuda': True, 'cuda_device_num': 0, 'seed': 2024, 'model_load': {'path': 'result/maml_250000checkpts', 'epoch': 250000}, 'test_episodes': 2, 'test_batch_size': 1, 'augmentation_enable': True, 'test_robustness': False, 'aug_factor': 8, 'aug_batch_size': 1, 'test_set_path': '../../data/CVRP/dataset/Vrp-Set-A/A-n37', 'test_set_opt_sol_path': '../../data/CVRP/dataset/Vrp-Set-A/A-n37-sol', 'test_set_name': 'A-n33'}\n",
      "[2024-04-01 10:59:55] test.py(108) : fine_tune_params{'enable': False, 'fine_tune_episodes': 1000, 'k': 10, 'fine_tune_batch_size': 10, 'augmentation_enable': True, 'optimizer': {'lr': 1e-05, 'weight_decay': 1e-06}}\n",
      "[2024-04-01 10:59:55] test.py(108) : logger_params{'log_file': {'desc': 'test_cvrp', 'filename': 'log.txt', 'filepath': './result/20240401_105954_test_cvrp'}}\n"
     ]
    },
    {
     "name": "stderr",
     "output_type": "stream",
     "text": [
      "/home/xunj/miniconda3/lib/python3.11/site-packages/torch/__init__.py:614: UserWarning: torch.set_default_tensor_type() is deprecated as of PyTorch 2.1, please use torch.set_default_dtype() and torch.set_default_device() as alternatives. (Triggered internally at /opt/conda/conda-bld/pytorch_1699449183005/work/torch/csrc/tensor/python_tensor.cpp:451.)\n",
      "  _C._set_default_tensor_type(t)\n"
     ]
    },
    {
     "name": "stdout",
     "output_type": "stream",
     "text": [
      "['../../data/CVRP/dataset/Vrp-Set-A/A-n37/A-n37-k5.vrp', '../../data/CVRP/dataset/Vrp-Set-A/A-n37/A-n37-k6.vrp']\n",
      "[2024-04-01 11:00:01] CVRPTester.py(84) : >> Model loaded from result/maml_250000checkpts/checkpoint-250000.pt\n",
      "[2024-04-01 11:00:03] CVRPTester.py(225) : episode   1/  2, Elapsed[0.03m], Remain[0.03m], sol:0.669, score:0.819, aug_score:0.784\n",
      "[2024-04-01 11:00:03] CVRPTester.py(225) : episode   2/  2, Elapsed[0.03m], Remain[0.00m], sol:0.949, score:1.129, aug_score:1.079\n",
      "[2024-04-01 11:00:03] CVRPTester.py(231) :  *** Test Done *** \n",
      "[2024-04-01 11:00:03] CVRPTester.py(232) :  NO-AUG SCORE: 0.9741, Gap: 20.7089 \n",
      "[2024-04-01 11:00:03] CVRPTester.py(233) :  AUGMENTATION SCORE: 0.9318, Gap: 15.4847 \n",
      "0.974 (20.709%)\n",
      "0.932 (15.485%)\n",
      ">> Evaluation on ../../data/CVRP/dataset/Vrp-Set-A/A-n37 finished within 1.79s\n",
      ">> Save final results to res/A-n37\n",
      "Test on \" ../../data/CVRP/dataset/Vrp-Set-A/A-n37 \" Success\n",
      "-----------------------------------------------------------------------------------------------------------------\n",
      "[2024-04-01 11:00:06] test.py(106) : DEBUG_MODE: False\n",
      "[2024-04-01 11:00:06] test.py(107) : USE_CUDA: True, CUDA_DEVICE_NUM: 0\n",
      "[2024-04-01 11:00:06] test.py(108) : env_params{'problem_size': 200, 'pomo_size': 200}\n",
      "[2024-04-01 11:00:06] test.py(108) : model_params{'embedding_dim': 128, 'sqrt_embedding_dim': 11.313708498984761, 'encoder_layer_num': 6, 'qkv_dim': 16, 'head_num': 8, 'logit_clipping': 10, 'ff_hidden_dim': 512, 'eval_type': 'argmax', 'norm': 'batch_no_track'}\n",
      "[2024-04-01 11:00:06] test.py(108) : tester_params{'use_cuda': True, 'cuda_device_num': 0, 'seed': 2024, 'model_load': {'path': 'result/maml_250000checkpts', 'epoch': 250000}, 'test_episodes': 1, 'test_batch_size': 1, 'augmentation_enable': True, 'test_robustness': False, 'aug_factor': 8, 'aug_batch_size': 1, 'test_set_path': '../../data/CVRP/dataset/Vrp-Set-A/A-n38', 'test_set_opt_sol_path': '../../data/CVRP/dataset/Vrp-Set-A/A-n38-sol', 'test_set_name': 'A-n33'}\n",
      "[2024-04-01 11:00:06] test.py(108) : fine_tune_params{'enable': False, 'fine_tune_episodes': 1000, 'k': 10, 'fine_tune_batch_size': 10, 'augmentation_enable': True, 'optimizer': {'lr': 1e-05, 'weight_decay': 1e-06}}\n",
      "[2024-04-01 11:00:06] test.py(108) : logger_params{'log_file': {'desc': 'test_cvrp', 'filename': 'log.txt', 'filepath': './result/20240401_110006_test_cvrp'}}\n"
     ]
    },
    {
     "name": "stderr",
     "output_type": "stream",
     "text": [
      "/home/xunj/miniconda3/lib/python3.11/site-packages/torch/__init__.py:614: UserWarning: torch.set_default_tensor_type() is deprecated as of PyTorch 2.1, please use torch.set_default_dtype() and torch.set_default_device() as alternatives. (Triggered internally at /opt/conda/conda-bld/pytorch_1699449183005/work/torch/csrc/tensor/python_tensor.cpp:451.)\n",
      "  _C._set_default_tensor_type(t)\n"
     ]
    },
    {
     "name": "stdout",
     "output_type": "stream",
     "text": [
      "['../../data/CVRP/dataset/Vrp-Set-A/A-n38/A-n38-k5.vrp']\n",
      "[2024-04-01 11:00:12] CVRPTester.py(84) : >> Model loaded from result/maml_250000checkpts/checkpoint-250000.pt\n",
      "[2024-04-01 11:00:14] CVRPTester.py(225) : episode   1/  1, Elapsed[0.03m], Remain[0.00m], sol:0.730, score:0.847, aug_score:0.847\n",
      "[2024-04-01 11:00:14] CVRPTester.py(231) :  *** Test Done *** \n",
      "[2024-04-01 11:00:14] CVRPTester.py(232) :  NO-AUG SCORE: 0.8469, Gap: 16.0100 \n",
      "[2024-04-01 11:00:14] CVRPTester.py(233) :  AUGMENTATION SCORE: 0.8466, Gap: 15.9659 \n",
      "0.847 (16.010%)\n",
      "0.847 (15.966%)\n",
      ">> Evaluation on ../../data/CVRP/dataset/Vrp-Set-A/A-n38 finished within 1.57s\n",
      ">> Save final results to res/A-n38\n",
      "Test on \" ../../data/CVRP/dataset/Vrp-Set-A/A-n38 \" Success\n",
      "-----------------------------------------------------------------------------------------------------------------\n",
      "[2024-04-01 11:00:17] test.py(106) : DEBUG_MODE: False\n",
      "[2024-04-01 11:00:17] test.py(107) : USE_CUDA: True, CUDA_DEVICE_NUM: 0\n",
      "[2024-04-01 11:00:17] test.py(108) : env_params{'problem_size': 200, 'pomo_size': 200}\n",
      "[2024-04-01 11:00:17] test.py(108) : model_params{'embedding_dim': 128, 'sqrt_embedding_dim': 11.313708498984761, 'encoder_layer_num': 6, 'qkv_dim': 16, 'head_num': 8, 'logit_clipping': 10, 'ff_hidden_dim': 512, 'eval_type': 'argmax', 'norm': 'batch_no_track'}\n",
      "[2024-04-01 11:00:17] test.py(108) : tester_params{'use_cuda': True, 'cuda_device_num': 0, 'seed': 2024, 'model_load': {'path': 'result/maml_250000checkpts', 'epoch': 250000}, 'test_episodes': 2, 'test_batch_size': 1, 'augmentation_enable': True, 'test_robustness': False, 'aug_factor': 8, 'aug_batch_size': 1, 'test_set_path': '../../data/CVRP/dataset/Vrp-Set-A/A-n39', 'test_set_opt_sol_path': '../../data/CVRP/dataset/Vrp-Set-A/A-n39-sol', 'test_set_name': 'A-n33'}\n",
      "[2024-04-01 11:00:17] test.py(108) : fine_tune_params{'enable': False, 'fine_tune_episodes': 1000, 'k': 10, 'fine_tune_batch_size': 10, 'augmentation_enable': True, 'optimizer': {'lr': 1e-05, 'weight_decay': 1e-06}}\n",
      "[2024-04-01 11:00:17] test.py(108) : logger_params{'log_file': {'desc': 'test_cvrp', 'filename': 'log.txt', 'filepath': './result/20240401_110017_test_cvrp'}}\n"
     ]
    },
    {
     "name": "stderr",
     "output_type": "stream",
     "text": [
      "/home/xunj/miniconda3/lib/python3.11/site-packages/torch/__init__.py:614: UserWarning: torch.set_default_tensor_type() is deprecated as of PyTorch 2.1, please use torch.set_default_dtype() and torch.set_default_device() as alternatives. (Triggered internally at /opt/conda/conda-bld/pytorch_1699449183005/work/torch/csrc/tensor/python_tensor.cpp:451.)\n",
      "  _C._set_default_tensor_type(t)\n"
     ]
    },
    {
     "name": "stdout",
     "output_type": "stream",
     "text": [
      "['../../data/CVRP/dataset/Vrp-Set-A/A-n39/A-n39-k5.vrp', '../../data/CVRP/dataset/Vrp-Set-A/A-n39/A-n39-k6.vrp']\n",
      "[2024-04-01 11:00:23] CVRPTester.py(84) : >> Model loaded from result/maml_250000checkpts/checkpoint-250000.pt\n",
      "[2024-04-01 11:00:25] CVRPTester.py(225) : episode   1/  2, Elapsed[0.03m], Remain[0.03m], sol:0.822, score:0.935, aug_score:0.925\n",
      "[2024-04-01 11:00:25] CVRPTester.py(225) : episode   2/  2, Elapsed[0.03m], Remain[0.00m], sol:0.831, score:0.992, aug_score:0.967\n",
      "[2024-04-01 11:00:25] CVRPTester.py(231) :  *** Test Done *** \n",
      "[2024-04-01 11:00:25] CVRPTester.py(232) :  NO-AUG SCORE: 0.9634, Gap: 16.5522 \n",
      "[2024-04-01 11:00:25] CVRPTester.py(233) :  AUGMENTATION SCORE: 0.9462, Gap: 14.4778 \n",
      "0.963 (16.552%)\n",
      "0.946 (14.478%)\n",
      ">> Evaluation on ../../data/CVRP/dataset/Vrp-Set-A/A-n39 finished within 1.61s\n",
      ">> Save final results to res/A-n39\n",
      "Test on \" ../../data/CVRP/dataset/Vrp-Set-A/A-n39 \" Success\n",
      "-----------------------------------------------------------------------------------------------------------------\n",
      "[2024-04-01 11:00:28] test.py(106) : DEBUG_MODE: False\n",
      "[2024-04-01 11:00:28] test.py(107) : USE_CUDA: True, CUDA_DEVICE_NUM: 0\n",
      "[2024-04-01 11:00:28] test.py(108) : env_params{'problem_size': 200, 'pomo_size': 200}\n",
      "[2024-04-01 11:00:28] test.py(108) : model_params{'embedding_dim': 128, 'sqrt_embedding_dim': 11.313708498984761, 'encoder_layer_num': 6, 'qkv_dim': 16, 'head_num': 8, 'logit_clipping': 10, 'ff_hidden_dim': 512, 'eval_type': 'argmax', 'norm': 'batch_no_track'}\n",
      "[2024-04-01 11:00:28] test.py(108) : tester_params{'use_cuda': True, 'cuda_device_num': 0, 'seed': 2024, 'model_load': {'path': 'result/maml_250000checkpts', 'epoch': 250000}, 'test_episodes': 1, 'test_batch_size': 1, 'augmentation_enable': True, 'test_robustness': False, 'aug_factor': 8, 'aug_batch_size': 1, 'test_set_path': '../../data/CVRP/dataset/Vrp-Set-A/A-n44', 'test_set_opt_sol_path': '../../data/CVRP/dataset/Vrp-Set-A/A-n44-sol', 'test_set_name': 'A-n33'}\n",
      "[2024-04-01 11:00:28] test.py(108) : fine_tune_params{'enable': False, 'fine_tune_episodes': 1000, 'k': 10, 'fine_tune_batch_size': 10, 'augmentation_enable': True, 'optimizer': {'lr': 1e-05, 'weight_decay': 1e-06}}\n",
      "[2024-04-01 11:00:28] test.py(108) : logger_params{'log_file': {'desc': 'test_cvrp', 'filename': 'log.txt', 'filepath': './result/20240401_110028_test_cvrp'}}\n"
     ]
    },
    {
     "name": "stderr",
     "output_type": "stream",
     "text": [
      "/home/xunj/miniconda3/lib/python3.11/site-packages/torch/__init__.py:614: UserWarning: torch.set_default_tensor_type() is deprecated as of PyTorch 2.1, please use torch.set_default_dtype() and torch.set_default_device() as alternatives. (Triggered internally at /opt/conda/conda-bld/pytorch_1699449183005/work/torch/csrc/tensor/python_tensor.cpp:451.)\n",
      "  _C._set_default_tensor_type(t)\n"
     ]
    },
    {
     "name": "stdout",
     "output_type": "stream",
     "text": [
      "['../../data/CVRP/dataset/Vrp-Set-A/A-n44/A-n44-k6.vrp']\n",
      "[2024-04-01 11:00:35] CVRPTester.py(84) : >> Model loaded from result/maml_250000checkpts/checkpoint-250000.pt\n",
      "[2024-04-01 11:00:36] CVRPTester.py(225) : episode   1/  1, Elapsed[0.03m], Remain[0.00m], sol:0.937, score:1.069, aug_score:1.069\n",
      "[2024-04-01 11:00:36] CVRPTester.py(231) :  *** Test Done *** \n",
      "[2024-04-01 11:00:36] CVRPTester.py(232) :  NO-AUG SCORE: 1.0686, Gap: 14.0494 \n",
      "[2024-04-01 11:00:36] CVRPTester.py(233) :  AUGMENTATION SCORE: 1.0686, Gap: 14.0494 \n",
      "1.069 (14.049%)\n",
      "1.069 (14.049%)\n",
      ">> Evaluation on ../../data/CVRP/dataset/Vrp-Set-A/A-n44 finished within 1.55s\n",
      ">> Save final results to res/A-n44\n",
      "Test on \" ../../data/CVRP/dataset/Vrp-Set-A/A-n44 \" Success\n",
      "-----------------------------------------------------------------------------------------------------------------\n",
      "[2024-04-01 11:00:40] test.py(106) : DEBUG_MODE: False\n",
      "[2024-04-01 11:00:40] test.py(107) : USE_CUDA: True, CUDA_DEVICE_NUM: 0\n",
      "[2024-04-01 11:00:40] test.py(108) : env_params{'problem_size': 200, 'pomo_size': 200}\n",
      "[2024-04-01 11:00:40] test.py(108) : model_params{'embedding_dim': 128, 'sqrt_embedding_dim': 11.313708498984761, 'encoder_layer_num': 6, 'qkv_dim': 16, 'head_num': 8, 'logit_clipping': 10, 'ff_hidden_dim': 512, 'eval_type': 'argmax', 'norm': 'batch_no_track'}\n",
      "[2024-04-01 11:00:40] test.py(108) : tester_params{'use_cuda': True, 'cuda_device_num': 0, 'seed': 2024, 'model_load': {'path': 'result/maml_250000checkpts', 'epoch': 250000}, 'test_episodes': 2, 'test_batch_size': 1, 'augmentation_enable': True, 'test_robustness': False, 'aug_factor': 8, 'aug_batch_size': 1, 'test_set_path': '../../data/CVRP/dataset/Vrp-Set-A/A-n45', 'test_set_opt_sol_path': '../../data/CVRP/dataset/Vrp-Set-A/A-n45-sol', 'test_set_name': 'A-n33'}\n",
      "[2024-04-01 11:00:40] test.py(108) : fine_tune_params{'enable': False, 'fine_tune_episodes': 1000, 'k': 10, 'fine_tune_batch_size': 10, 'augmentation_enable': True, 'optimizer': {'lr': 1e-05, 'weight_decay': 1e-06}}\n",
      "[2024-04-01 11:00:40] test.py(108) : logger_params{'log_file': {'desc': 'test_cvrp', 'filename': 'log.txt', 'filepath': './result/20240401_110039_test_cvrp'}}\n"
     ]
    },
    {
     "name": "stderr",
     "output_type": "stream",
     "text": [
      "/home/xunj/miniconda3/lib/python3.11/site-packages/torch/__init__.py:614: UserWarning: torch.set_default_tensor_type() is deprecated as of PyTorch 2.1, please use torch.set_default_dtype() and torch.set_default_device() as alternatives. (Triggered internally at /opt/conda/conda-bld/pytorch_1699449183005/work/torch/csrc/tensor/python_tensor.cpp:451.)\n",
      "  _C._set_default_tensor_type(t)\n"
     ]
    },
    {
     "name": "stdout",
     "output_type": "stream",
     "text": [
      "['../../data/CVRP/dataset/Vrp-Set-A/A-n45/A-n45-k6.vrp', '../../data/CVRP/dataset/Vrp-Set-A/A-n45/A-n45-k7.vrp']\n",
      "[2024-04-01 11:00:46] CVRPTester.py(84) : >> Model loaded from result/maml_250000checkpts/checkpoint-250000.pt\n",
      "[2024-04-01 11:00:48] CVRPTester.py(225) : episode   1/  2, Elapsed[0.03m], Remain[0.03m], sol:0.944, score:1.068, aug_score:1.068\n",
      "[2024-04-01 11:00:48] CVRPTester.py(225) : episode   2/  2, Elapsed[0.03m], Remain[0.00m], sol:1.146, score:1.404, aug_score:1.273\n",
      "[2024-04-01 11:00:48] CVRPTester.py(231) :  *** Test Done *** \n",
      "[2024-04-01 11:00:48] CVRPTester.py(232) :  NO-AUG SCORE: 1.2359, Gap: 17.8154 \n",
      "[2024-04-01 11:00:48] CVRPTester.py(233) :  AUGMENTATION SCORE: 1.1703, Gap: 12.0886 \n",
      "1.236 (17.815%)\n",
      "1.170 (12.089%)\n",
      ">> Evaluation on ../../data/CVRP/dataset/Vrp-Set-A/A-n45 finished within 1.77s\n",
      ">> Save final results to res/A-n45\n",
      "Test on \" ../../data/CVRP/dataset/Vrp-Set-A/A-n45 \" Success\n",
      "-----------------------------------------------------------------------------------------------------------------\n",
      "[2024-04-01 11:00:51] test.py(106) : DEBUG_MODE: False\n",
      "[2024-04-01 11:00:51] test.py(107) : USE_CUDA: True, CUDA_DEVICE_NUM: 0\n",
      "[2024-04-01 11:00:51] test.py(108) : env_params{'problem_size': 200, 'pomo_size': 200}\n",
      "[2024-04-01 11:00:51] test.py(108) : model_params{'embedding_dim': 128, 'sqrt_embedding_dim': 11.313708498984761, 'encoder_layer_num': 6, 'qkv_dim': 16, 'head_num': 8, 'logit_clipping': 10, 'ff_hidden_dim': 512, 'eval_type': 'argmax', 'norm': 'batch_no_track'}\n",
      "[2024-04-01 11:00:51] test.py(108) : tester_params{'use_cuda': True, 'cuda_device_num': 0, 'seed': 2024, 'model_load': {'path': 'result/maml_250000checkpts', 'epoch': 250000}, 'test_episodes': 1, 'test_batch_size': 1, 'augmentation_enable': True, 'test_robustness': False, 'aug_factor': 8, 'aug_batch_size': 1, 'test_set_path': '../../data/CVRP/dataset/Vrp-Set-A/A-n46', 'test_set_opt_sol_path': '../../data/CVRP/dataset/Vrp-Set-A/A-n46-sol', 'test_set_name': 'A-n33'}\n",
      "[2024-04-01 11:00:51] test.py(108) : fine_tune_params{'enable': False, 'fine_tune_episodes': 1000, 'k': 10, 'fine_tune_batch_size': 10, 'augmentation_enable': True, 'optimizer': {'lr': 1e-05, 'weight_decay': 1e-06}}\n",
      "[2024-04-01 11:00:51] test.py(108) : logger_params{'log_file': {'desc': 'test_cvrp', 'filename': 'log.txt', 'filepath': './result/20240401_110051_test_cvrp'}}\n"
     ]
    },
    {
     "name": "stderr",
     "output_type": "stream",
     "text": [
      "/home/xunj/miniconda3/lib/python3.11/site-packages/torch/__init__.py:614: UserWarning: torch.set_default_tensor_type() is deprecated as of PyTorch 2.1, please use torch.set_default_dtype() and torch.set_default_device() as alternatives. (Triggered internally at /opt/conda/conda-bld/pytorch_1699449183005/work/torch/csrc/tensor/python_tensor.cpp:451.)\n",
      "  _C._set_default_tensor_type(t)\n"
     ]
    },
    {
     "name": "stdout",
     "output_type": "stream",
     "text": [
      "['../../data/CVRP/dataset/Vrp-Set-A/A-n46/A-n46-k7.vrp']\n",
      "[2024-04-01 11:00:58] CVRPTester.py(84) : >> Model loaded from result/maml_250000checkpts/checkpoint-250000.pt\n",
      "[2024-04-01 11:01:00] CVRPTester.py(225) : episode   1/  1, Elapsed[0.03m], Remain[0.00m], sol:0.914, score:1.245, aug_score:1.107\n",
      "[2024-04-01 11:01:00] CVRPTester.py(231) :  *** Test Done *** \n",
      "[2024-04-01 11:01:00] CVRPTester.py(232) :  NO-AUG SCORE: 1.2454, Gap: 36.2622 \n",
      "[2024-04-01 11:01:00] CVRPTester.py(233) :  AUGMENTATION SCORE: 1.1070, Gap: 21.1120 \n",
      "1.245 (36.262%)\n",
      "1.107 (21.112%)\n",
      ">> Evaluation on ../../data/CVRP/dataset/Vrp-Set-A/A-n46 finished within 1.70s\n",
      ">> Save final results to res/A-n46\n",
      "Test on \" ../../data/CVRP/dataset/Vrp-Set-A/A-n46 \" Success\n",
      "-----------------------------------------------------------------------------------------------------------------\n",
      "[2024-04-01 11:01:03] test.py(106) : DEBUG_MODE: False\n",
      "[2024-04-01 11:01:03] test.py(107) : USE_CUDA: True, CUDA_DEVICE_NUM: 0\n",
      "[2024-04-01 11:01:03] test.py(108) : env_params{'problem_size': 200, 'pomo_size': 200}\n",
      "[2024-04-01 11:01:03] test.py(108) : model_params{'embedding_dim': 128, 'sqrt_embedding_dim': 11.313708498984761, 'encoder_layer_num': 6, 'qkv_dim': 16, 'head_num': 8, 'logit_clipping': 10, 'ff_hidden_dim': 512, 'eval_type': 'argmax', 'norm': 'batch_no_track'}\n",
      "[2024-04-01 11:01:03] test.py(108) : tester_params{'use_cuda': True, 'cuda_device_num': 0, 'seed': 2024, 'model_load': {'path': 'result/maml_250000checkpts', 'epoch': 250000}, 'test_episodes': 1, 'test_batch_size': 1, 'augmentation_enable': True, 'test_robustness': False, 'aug_factor': 8, 'aug_batch_size': 1, 'test_set_path': '../../data/CVRP/dataset/Vrp-Set-A/A-n48', 'test_set_opt_sol_path': '../../data/CVRP/dataset/Vrp-Set-A/A-n48-sol', 'test_set_name': 'A-n33'}\n",
      "[2024-04-01 11:01:03] test.py(108) : fine_tune_params{'enable': False, 'fine_tune_episodes': 1000, 'k': 10, 'fine_tune_batch_size': 10, 'augmentation_enable': True, 'optimizer': {'lr': 1e-05, 'weight_decay': 1e-06}}\n",
      "[2024-04-01 11:01:03] test.py(108) : logger_params{'log_file': {'desc': 'test_cvrp', 'filename': 'log.txt', 'filepath': './result/20240401_110102_test_cvrp'}}\n"
     ]
    },
    {
     "name": "stderr",
     "output_type": "stream",
     "text": [
      "/home/xunj/miniconda3/lib/python3.11/site-packages/torch/__init__.py:614: UserWarning: torch.set_default_tensor_type() is deprecated as of PyTorch 2.1, please use torch.set_default_dtype() and torch.set_default_device() as alternatives. (Triggered internally at /opt/conda/conda-bld/pytorch_1699449183005/work/torch/csrc/tensor/python_tensor.cpp:451.)\n",
      "  _C._set_default_tensor_type(t)\n"
     ]
    },
    {
     "name": "stdout",
     "output_type": "stream",
     "text": [
      "['../../data/CVRP/dataset/Vrp-Set-A/A-n48/A-n48-k7.vrp']\n",
      "[2024-04-01 11:01:10] CVRPTester.py(84) : >> Model loaded from result/maml_250000checkpts/checkpoint-250000.pt\n",
      "[2024-04-01 11:01:12] CVRPTester.py(225) : episode   1/  1, Elapsed[0.03m], Remain[0.00m], sol:1.073, score:1.188, aug_score:1.165\n",
      "[2024-04-01 11:01:12] CVRPTester.py(231) :  *** Test Done *** \n",
      "[2024-04-01 11:01:12] CVRPTester.py(232) :  NO-AUG SCORE: 1.1882, Gap: 10.7368 \n",
      "[2024-04-01 11:01:12] CVRPTester.py(233) :  AUGMENTATION SCORE: 1.1650, Gap: 8.5729 \n",
      "1.188 (10.737%)\n",
      "1.165 (8.573%)\n",
      ">> Evaluation on ../../data/CVRP/dataset/Vrp-Set-A/A-n48 finished within 1.89s\n",
      ">> Save final results to res/A-n48\n",
      "Test on \" ../../data/CVRP/dataset/Vrp-Set-A/A-n48 \" Success\n",
      "-----------------------------------------------------------------------------------------------------------------\n",
      "[2024-04-01 11:01:16] test.py(106) : DEBUG_MODE: False\n",
      "[2024-04-01 11:01:16] test.py(107) : USE_CUDA: True, CUDA_DEVICE_NUM: 0\n",
      "[2024-04-01 11:01:16] test.py(108) : env_params{'problem_size': 200, 'pomo_size': 200}\n",
      "[2024-04-01 11:01:16] test.py(108) : model_params{'embedding_dim': 128, 'sqrt_embedding_dim': 11.313708498984761, 'encoder_layer_num': 6, 'qkv_dim': 16, 'head_num': 8, 'logit_clipping': 10, 'ff_hidden_dim': 512, 'eval_type': 'argmax', 'norm': 'batch_no_track'}\n",
      "[2024-04-01 11:01:16] test.py(108) : tester_params{'use_cuda': True, 'cuda_device_num': 0, 'seed': 2024, 'model_load': {'path': 'result/maml_250000checkpts', 'epoch': 250000}, 'test_episodes': 1, 'test_batch_size': 1, 'augmentation_enable': True, 'test_robustness': False, 'aug_factor': 8, 'aug_batch_size': 1, 'test_set_path': '../../data/CVRP/dataset/Vrp-Set-A/A-n53', 'test_set_opt_sol_path': '../../data/CVRP/dataset/Vrp-Set-A/A-n53-sol', 'test_set_name': 'A-n33'}\n",
      "[2024-04-01 11:01:16] test.py(108) : fine_tune_params{'enable': False, 'fine_tune_episodes': 1000, 'k': 10, 'fine_tune_batch_size': 10, 'augmentation_enable': True, 'optimizer': {'lr': 1e-05, 'weight_decay': 1e-06}}\n",
      "[2024-04-01 11:01:16] test.py(108) : logger_params{'log_file': {'desc': 'test_cvrp', 'filename': 'log.txt', 'filepath': './result/20240401_110116_test_cvrp'}}\n"
     ]
    },
    {
     "name": "stderr",
     "output_type": "stream",
     "text": [
      "/home/xunj/miniconda3/lib/python3.11/site-packages/torch/__init__.py:614: UserWarning: torch.set_default_tensor_type() is deprecated as of PyTorch 2.1, please use torch.set_default_dtype() and torch.set_default_device() as alternatives. (Triggered internally at /opt/conda/conda-bld/pytorch_1699449183005/work/torch/csrc/tensor/python_tensor.cpp:451.)\n",
      "  _C._set_default_tensor_type(t)\n"
     ]
    },
    {
     "name": "stdout",
     "output_type": "stream",
     "text": [
      "['../../data/CVRP/dataset/Vrp-Set-A/A-n53/A-n53-k7.vrp']\n",
      "[2024-04-01 11:01:23] CVRPTester.py(84) : >> Model loaded from result/maml_250000checkpts/checkpoint-250000.pt\n",
      "[2024-04-01 11:01:24] CVRPTester.py(225) : episode   1/  1, Elapsed[0.03m], Remain[0.00m], sol:1.010, score:1.157, aug_score:1.157\n",
      "[2024-04-01 11:01:24] CVRPTester.py(231) :  *** Test Done *** \n",
      "[2024-04-01 11:01:24] CVRPTester.py(232) :  NO-AUG SCORE: 1.1573, Gap: 14.5859 \n",
      "[2024-04-01 11:01:24] CVRPTester.py(233) :  AUGMENTATION SCORE: 1.1573, Gap: 14.5859 \n",
      "1.157 (14.586%)\n",
      "1.157 (14.586%)\n",
      ">> Evaluation on ../../data/CVRP/dataset/Vrp-Set-A/A-n53 finished within 1.54s\n",
      ">> Save final results to res/A-n53\n",
      "Test on \" ../../data/CVRP/dataset/Vrp-Set-A/A-n53 \" Success\n",
      "-----------------------------------------------------------------------------------------------------------------\n",
      "[2024-04-01 11:01:28] test.py(106) : DEBUG_MODE: False\n",
      "[2024-04-01 11:01:28] test.py(107) : USE_CUDA: True, CUDA_DEVICE_NUM: 0\n",
      "[2024-04-01 11:01:28] test.py(108) : env_params{'problem_size': 200, 'pomo_size': 200}\n",
      "[2024-04-01 11:01:28] test.py(108) : model_params{'embedding_dim': 128, 'sqrt_embedding_dim': 11.313708498984761, 'encoder_layer_num': 6, 'qkv_dim': 16, 'head_num': 8, 'logit_clipping': 10, 'ff_hidden_dim': 512, 'eval_type': 'argmax', 'norm': 'batch_no_track'}\n",
      "[2024-04-01 11:01:28] test.py(108) : tester_params{'use_cuda': True, 'cuda_device_num': 0, 'seed': 2024, 'model_load': {'path': 'result/maml_250000checkpts', 'epoch': 250000}, 'test_episodes': 1, 'test_batch_size': 1, 'augmentation_enable': True, 'test_robustness': False, 'aug_factor': 8, 'aug_batch_size': 1, 'test_set_path': '../../data/CVRP/dataset/Vrp-Set-A/A-n54', 'test_set_opt_sol_path': '../../data/CVRP/dataset/Vrp-Set-A/A-n54-sol', 'test_set_name': 'A-n33'}\n",
      "[2024-04-01 11:01:28] test.py(108) : fine_tune_params{'enable': False, 'fine_tune_episodes': 1000, 'k': 10, 'fine_tune_batch_size': 10, 'augmentation_enable': True, 'optimizer': {'lr': 1e-05, 'weight_decay': 1e-06}}\n",
      "[2024-04-01 11:01:28] test.py(108) : logger_params{'log_file': {'desc': 'test_cvrp', 'filename': 'log.txt', 'filepath': './result/20240401_110128_test_cvrp'}}\n"
     ]
    },
    {
     "name": "stderr",
     "output_type": "stream",
     "text": [
      "/home/xunj/miniconda3/lib/python3.11/site-packages/torch/__init__.py:614: UserWarning: torch.set_default_tensor_type() is deprecated as of PyTorch 2.1, please use torch.set_default_dtype() and torch.set_default_device() as alternatives. (Triggered internally at /opt/conda/conda-bld/pytorch_1699449183005/work/torch/csrc/tensor/python_tensor.cpp:451.)\n",
      "  _C._set_default_tensor_type(t)\n"
     ]
    },
    {
     "name": "stdout",
     "output_type": "stream",
     "text": [
      "['../../data/CVRP/dataset/Vrp-Set-A/A-n54/A-n54-k7.vrp']\n",
      "[2024-04-01 11:01:35] CVRPTester.py(84) : >> Model loaded from result/maml_250000checkpts/checkpoint-250000.pt\n",
      "[2024-04-01 11:01:36] CVRPTester.py(225) : episode   1/  1, Elapsed[0.03m], Remain[0.00m], sol:1.167, score:1.325, aug_score:1.263\n",
      "[2024-04-01 11:01:36] CVRPTester.py(231) :  *** Test Done *** \n",
      "[2024-04-01 11:01:36] CVRPTester.py(232) :  NO-AUG SCORE: 1.3248, Gap: 13.5222 \n",
      "[2024-04-01 11:01:36] CVRPTester.py(233) :  AUGMENTATION SCORE: 1.2625, Gap: 8.1870 \n",
      "1.325 (13.522%)\n",
      "1.263 (8.187%)\n",
      ">> Evaluation on ../../data/CVRP/dataset/Vrp-Set-A/A-n54 finished within 1.65s\n",
      ">> Save final results to res/A-n54\n",
      "Test on \" ../../data/CVRP/dataset/Vrp-Set-A/A-n54 \" Success\n",
      "-----------------------------------------------------------------------------------------------------------------\n",
      "[2024-04-01 11:01:40] test.py(106) : DEBUG_MODE: False\n",
      "[2024-04-01 11:01:40] test.py(107) : USE_CUDA: True, CUDA_DEVICE_NUM: 0\n",
      "[2024-04-01 11:01:40] test.py(108) : env_params{'problem_size': 200, 'pomo_size': 200}\n",
      "[2024-04-01 11:01:40] test.py(108) : model_params{'embedding_dim': 128, 'sqrt_embedding_dim': 11.313708498984761, 'encoder_layer_num': 6, 'qkv_dim': 16, 'head_num': 8, 'logit_clipping': 10, 'ff_hidden_dim': 512, 'eval_type': 'argmax', 'norm': 'batch_no_track'}\n",
      "[2024-04-01 11:01:40] test.py(108) : tester_params{'use_cuda': True, 'cuda_device_num': 0, 'seed': 2024, 'model_load': {'path': 'result/maml_250000checkpts', 'epoch': 250000}, 'test_episodes': 1, 'test_batch_size': 1, 'augmentation_enable': True, 'test_robustness': False, 'aug_factor': 8, 'aug_batch_size': 1, 'test_set_path': '../../data/CVRP/dataset/Vrp-Set-A/A-n55', 'test_set_opt_sol_path': '../../data/CVRP/dataset/Vrp-Set-A/A-n55-sol', 'test_set_name': 'A-n33'}\n",
      "[2024-04-01 11:01:40] test.py(108) : fine_tune_params{'enable': False, 'fine_tune_episodes': 1000, 'k': 10, 'fine_tune_batch_size': 10, 'augmentation_enable': True, 'optimizer': {'lr': 1e-05, 'weight_decay': 1e-06}}\n",
      "[2024-04-01 11:01:40] test.py(108) : logger_params{'log_file': {'desc': 'test_cvrp', 'filename': 'log.txt', 'filepath': './result/20240401_110140_test_cvrp'}}\n"
     ]
    },
    {
     "name": "stderr",
     "output_type": "stream",
     "text": [
      "/home/xunj/miniconda3/lib/python3.11/site-packages/torch/__init__.py:614: UserWarning: torch.set_default_tensor_type() is deprecated as of PyTorch 2.1, please use torch.set_default_dtype() and torch.set_default_device() as alternatives. (Triggered internally at /opt/conda/conda-bld/pytorch_1699449183005/work/torch/csrc/tensor/python_tensor.cpp:451.)\n",
      "  _C._set_default_tensor_type(t)\n"
     ]
    },
    {
     "name": "stdout",
     "output_type": "stream",
     "text": [
      "['../../data/CVRP/dataset/Vrp-Set-A/A-n55/A-n55-k9.vrp']\n",
      "[2024-04-01 11:01:47] CVRPTester.py(84) : >> Model loaded from result/maml_250000checkpts/checkpoint-250000.pt\n",
      "[2024-04-01 11:01:48] CVRPTester.py(225) : episode   1/  1, Elapsed[0.03m], Remain[0.00m], sol:1.073, score:1.266, aug_score:1.216\n",
      "[2024-04-01 11:01:48] CVRPTester.py(231) :  *** Test Done *** \n",
      "[2024-04-01 11:01:48] CVRPTester.py(232) :  NO-AUG SCORE: 1.2657, Gap: 17.9618 \n",
      "[2024-04-01 11:01:48] CVRPTester.py(233) :  AUGMENTATION SCORE: 1.2161, Gap: 13.3350 \n",
      "1.266 (17.962%)\n",
      "1.216 (13.335%)\n",
      ">> Evaluation on ../../data/CVRP/dataset/Vrp-Set-A/A-n55 finished within 1.65s\n",
      ">> Save final results to res/A-n55\n",
      "Test on \" ../../data/CVRP/dataset/Vrp-Set-A/A-n55 \" Success\n",
      "-----------------------------------------------------------------------------------------------------------------\n",
      "[2024-04-01 11:01:52] test.py(106) : DEBUG_MODE: False\n",
      "[2024-04-01 11:01:52] test.py(107) : USE_CUDA: True, CUDA_DEVICE_NUM: 0\n",
      "[2024-04-01 11:01:52] test.py(108) : env_params{'problem_size': 200, 'pomo_size': 200}\n",
      "[2024-04-01 11:01:52] test.py(108) : model_params{'embedding_dim': 128, 'sqrt_embedding_dim': 11.313708498984761, 'encoder_layer_num': 6, 'qkv_dim': 16, 'head_num': 8, 'logit_clipping': 10, 'ff_hidden_dim': 512, 'eval_type': 'argmax', 'norm': 'batch_no_track'}\n",
      "[2024-04-01 11:01:52] test.py(108) : tester_params{'use_cuda': True, 'cuda_device_num': 0, 'seed': 2024, 'model_load': {'path': 'result/maml_250000checkpts', 'epoch': 250000}, 'test_episodes': 1, 'test_batch_size': 1, 'augmentation_enable': True, 'test_robustness': False, 'aug_factor': 8, 'aug_batch_size': 1, 'test_set_path': '../../data/CVRP/dataset/Vrp-Set-A/A-n60', 'test_set_opt_sol_path': '../../data/CVRP/dataset/Vrp-Set-A/A-n60-sol', 'test_set_name': 'A-n33'}\n",
      "[2024-04-01 11:01:52] test.py(108) : fine_tune_params{'enable': False, 'fine_tune_episodes': 1000, 'k': 10, 'fine_tune_batch_size': 10, 'augmentation_enable': True, 'optimizer': {'lr': 1e-05, 'weight_decay': 1e-06}}\n",
      "[2024-04-01 11:01:52] test.py(108) : logger_params{'log_file': {'desc': 'test_cvrp', 'filename': 'log.txt', 'filepath': './result/20240401_110151_test_cvrp'}}\n"
     ]
    },
    {
     "name": "stderr",
     "output_type": "stream",
     "text": [
      "/home/xunj/miniconda3/lib/python3.11/site-packages/torch/__init__.py:614: UserWarning: torch.set_default_tensor_type() is deprecated as of PyTorch 2.1, please use torch.set_default_dtype() and torch.set_default_device() as alternatives. (Triggered internally at /opt/conda/conda-bld/pytorch_1699449183005/work/torch/csrc/tensor/python_tensor.cpp:451.)\n",
      "  _C._set_default_tensor_type(t)\n"
     ]
    },
    {
     "name": "stdout",
     "output_type": "stream",
     "text": [
      "['../../data/CVRP/dataset/Vrp-Set-A/A-n60/A-n60-k9.vrp']\n",
      "[2024-04-01 11:01:58] CVRPTester.py(84) : >> Model loaded from result/maml_250000checkpts/checkpoint-250000.pt\n",
      "[2024-04-01 11:02:00] CVRPTester.py(225) : episode   1/  1, Elapsed[0.03m], Remain[0.00m], sol:1.354, score:1.515, aug_score:1.515\n",
      "[2024-04-01 11:02:00] CVRPTester.py(231) :  *** Test Done *** \n",
      "[2024-04-01 11:02:00] CVRPTester.py(232) :  NO-AUG SCORE: 1.5154, Gap: 11.9234 \n",
      "[2024-04-01 11:02:00] CVRPTester.py(233) :  AUGMENTATION SCORE: 1.5154, Gap: 11.9234 \n",
      "1.515 (11.923%)\n",
      "1.515 (11.923%)\n",
      ">> Evaluation on ../../data/CVRP/dataset/Vrp-Set-A/A-n60 finished within 1.75s\n",
      ">> Save final results to res/A-n60\n",
      "Test on \" ../../data/CVRP/dataset/Vrp-Set-A/A-n60 \" Success\n",
      "-----------------------------------------------------------------------------------------------------------------\n",
      "[2024-04-01 11:02:03] test.py(106) : DEBUG_MODE: False\n",
      "[2024-04-01 11:02:03] test.py(107) : USE_CUDA: True, CUDA_DEVICE_NUM: 0\n",
      "[2024-04-01 11:02:03] test.py(108) : env_params{'problem_size': 200, 'pomo_size': 200}\n",
      "[2024-04-01 11:02:03] test.py(108) : model_params{'embedding_dim': 128, 'sqrt_embedding_dim': 11.313708498984761, 'encoder_layer_num': 6, 'qkv_dim': 16, 'head_num': 8, 'logit_clipping': 10, 'ff_hidden_dim': 512, 'eval_type': 'argmax', 'norm': 'batch_no_track'}\n",
      "[2024-04-01 11:02:03] test.py(108) : tester_params{'use_cuda': True, 'cuda_device_num': 0, 'seed': 2024, 'model_load': {'path': 'result/maml_250000checkpts', 'epoch': 250000}, 'test_episodes': 1, 'test_batch_size': 1, 'augmentation_enable': True, 'test_robustness': False, 'aug_factor': 8, 'aug_batch_size': 1, 'test_set_path': '../../data/CVRP/dataset/Vrp-Set-A/A-n61', 'test_set_opt_sol_path': '../../data/CVRP/dataset/Vrp-Set-A/A-n61-sol', 'test_set_name': 'A-n33'}\n",
      "[2024-04-01 11:02:03] test.py(108) : fine_tune_params{'enable': False, 'fine_tune_episodes': 1000, 'k': 10, 'fine_tune_batch_size': 10, 'augmentation_enable': True, 'optimizer': {'lr': 1e-05, 'weight_decay': 1e-06}}\n",
      "[2024-04-01 11:02:03] test.py(108) : logger_params{'log_file': {'desc': 'test_cvrp', 'filename': 'log.txt', 'filepath': './result/20240401_110202_test_cvrp'}}\n"
     ]
    },
    {
     "name": "stderr",
     "output_type": "stream",
     "text": [
      "/home/xunj/miniconda3/lib/python3.11/site-packages/torch/__init__.py:614: UserWarning: torch.set_default_tensor_type() is deprecated as of PyTorch 2.1, please use torch.set_default_dtype() and torch.set_default_device() as alternatives. (Triggered internally at /opt/conda/conda-bld/pytorch_1699449183005/work/torch/csrc/tensor/python_tensor.cpp:451.)\n",
      "  _C._set_default_tensor_type(t)\n"
     ]
    },
    {
     "name": "stdout",
     "output_type": "stream",
     "text": [
      "['../../data/CVRP/dataset/Vrp-Set-A/A-n61/A-n61-k9.vrp']\n",
      "[2024-04-01 11:02:10] CVRPTester.py(84) : >> Model loaded from result/maml_250000checkpts/checkpoint-250000.pt\n",
      "[2024-04-01 11:02:11] CVRPTester.py(225) : episode   1/  1, Elapsed[0.03m], Remain[0.00m], sol:1.034, score:1.249, aug_score:1.192\n",
      "[2024-04-01 11:02:11] CVRPTester.py(231) :  *** Test Done *** \n",
      "[2024-04-01 11:02:11] CVRPTester.py(232) :  NO-AUG SCORE: 1.2489, Gap: 20.7879 \n",
      "[2024-04-01 11:02:11] CVRPTester.py(233) :  AUGMENTATION SCORE: 1.1921, Gap: 15.2894 \n",
      "1.249 (20.788%)\n",
      "1.192 (15.289%)\n",
      ">> Evaluation on ../../data/CVRP/dataset/Vrp-Set-A/A-n61 finished within 1.66s\n",
      ">> Save final results to res/A-n61\n",
      "Test on \" ../../data/CVRP/dataset/Vrp-Set-A/A-n61 \" Success\n",
      "-----------------------------------------------------------------------------------------------------------------\n",
      "[2024-04-01 11:02:15] test.py(106) : DEBUG_MODE: False\n",
      "[2024-04-01 11:02:15] test.py(107) : USE_CUDA: True, CUDA_DEVICE_NUM: 0\n",
      "[2024-04-01 11:02:15] test.py(108) : env_params{'problem_size': 200, 'pomo_size': 200}\n",
      "[2024-04-01 11:02:15] test.py(108) : model_params{'embedding_dim': 128, 'sqrt_embedding_dim': 11.313708498984761, 'encoder_layer_num': 6, 'qkv_dim': 16, 'head_num': 8, 'logit_clipping': 10, 'ff_hidden_dim': 512, 'eval_type': 'argmax', 'norm': 'batch_no_track'}\n",
      "[2024-04-01 11:02:15] test.py(108) : tester_params{'use_cuda': True, 'cuda_device_num': 0, 'seed': 2024, 'model_load': {'path': 'result/maml_250000checkpts', 'epoch': 250000}, 'test_episodes': 1, 'test_batch_size': 1, 'augmentation_enable': True, 'test_robustness': False, 'aug_factor': 8, 'aug_batch_size': 1, 'test_set_path': '../../data/CVRP/dataset/Vrp-Set-A/A-n62', 'test_set_opt_sol_path': '../../data/CVRP/dataset/Vrp-Set-A/A-n62-sol', 'test_set_name': 'A-n33'}\n",
      "[2024-04-01 11:02:15] test.py(108) : fine_tune_params{'enable': False, 'fine_tune_episodes': 1000, 'k': 10, 'fine_tune_batch_size': 10, 'augmentation_enable': True, 'optimizer': {'lr': 1e-05, 'weight_decay': 1e-06}}\n",
      "[2024-04-01 11:02:15] test.py(108) : logger_params{'log_file': {'desc': 'test_cvrp', 'filename': 'log.txt', 'filepath': './result/20240401_110214_test_cvrp'}}\n"
     ]
    },
    {
     "name": "stderr",
     "output_type": "stream",
     "text": [
      "/home/xunj/miniconda3/lib/python3.11/site-packages/torch/__init__.py:614: UserWarning: torch.set_default_tensor_type() is deprecated as of PyTorch 2.1, please use torch.set_default_dtype() and torch.set_default_device() as alternatives. (Triggered internally at /opt/conda/conda-bld/pytorch_1699449183005/work/torch/csrc/tensor/python_tensor.cpp:451.)\n",
      "  _C._set_default_tensor_type(t)\n"
     ]
    },
    {
     "name": "stdout",
     "output_type": "stream",
     "text": [
      "['../../data/CVRP/dataset/Vrp-Set-A/A-n62/A-n62-k8.vrp']\n",
      "[2024-04-01 11:02:21] CVRPTester.py(84) : >> Model loaded from result/maml_250000checkpts/checkpoint-250000.pt\n",
      "[2024-04-01 11:02:23] CVRPTester.py(225) : episode   1/  1, Elapsed[0.03m], Remain[0.00m], sol:1.288, score:1.431, aug_score:1.391\n",
      "[2024-04-01 11:02:23] CVRPTester.py(231) :  *** Test Done *** \n",
      "[2024-04-01 11:02:23] CVRPTester.py(232) :  NO-AUG SCORE: 1.4314, Gap: 11.1321 \n",
      "[2024-04-01 11:02:23] CVRPTester.py(233) :  AUGMENTATION SCORE: 1.3907, Gap: 7.9774 \n",
      "1.431 (11.132%)\n",
      "1.391 (7.977%)\n",
      ">> Evaluation on ../../data/CVRP/dataset/Vrp-Set-A/A-n62 finished within 1.68s\n",
      ">> Save final results to res/A-n62\n",
      "Test on \" ../../data/CVRP/dataset/Vrp-Set-A/A-n62 \" Success\n",
      "-----------------------------------------------------------------------------------------------------------------\n",
      "[2024-04-01 11:02:26] test.py(106) : DEBUG_MODE: False\n",
      "[2024-04-01 11:02:26] test.py(107) : USE_CUDA: True, CUDA_DEVICE_NUM: 0\n",
      "[2024-04-01 11:02:26] test.py(108) : env_params{'problem_size': 200, 'pomo_size': 200}\n",
      "[2024-04-01 11:02:26] test.py(108) : model_params{'embedding_dim': 128, 'sqrt_embedding_dim': 11.313708498984761, 'encoder_layer_num': 6, 'qkv_dim': 16, 'head_num': 8, 'logit_clipping': 10, 'ff_hidden_dim': 512, 'eval_type': 'argmax', 'norm': 'batch_no_track'}\n",
      "[2024-04-01 11:02:26] test.py(108) : tester_params{'use_cuda': True, 'cuda_device_num': 0, 'seed': 2024, 'model_load': {'path': 'result/maml_250000checkpts', 'epoch': 250000}, 'test_episodes': 2, 'test_batch_size': 1, 'augmentation_enable': True, 'test_robustness': False, 'aug_factor': 8, 'aug_batch_size': 1, 'test_set_path': '../../data/CVRP/dataset/Vrp-Set-A/A-n63', 'test_set_opt_sol_path': '../../data/CVRP/dataset/Vrp-Set-A/A-n63-sol', 'test_set_name': 'A-n33'}\n",
      "[2024-04-01 11:02:26] test.py(108) : fine_tune_params{'enable': False, 'fine_tune_episodes': 1000, 'k': 10, 'fine_tune_batch_size': 10, 'augmentation_enable': True, 'optimizer': {'lr': 1e-05, 'weight_decay': 1e-06}}\n",
      "[2024-04-01 11:02:26] test.py(108) : logger_params{'log_file': {'desc': 'test_cvrp', 'filename': 'log.txt', 'filepath': './result/20240401_110226_test_cvrp'}}\n"
     ]
    },
    {
     "name": "stderr",
     "output_type": "stream",
     "text": [
      "/home/xunj/miniconda3/lib/python3.11/site-packages/torch/__init__.py:614: UserWarning: torch.set_default_tensor_type() is deprecated as of PyTorch 2.1, please use torch.set_default_dtype() and torch.set_default_device() as alternatives. (Triggered internally at /opt/conda/conda-bld/pytorch_1699449183005/work/torch/csrc/tensor/python_tensor.cpp:451.)\n",
      "  _C._set_default_tensor_type(t)\n"
     ]
    },
    {
     "name": "stdout",
     "output_type": "stream",
     "text": [
      "['../../data/CVRP/dataset/Vrp-Set-A/A-n63/A-n63-k10.vrp', '../../data/CVRP/dataset/Vrp-Set-A/A-n63/A-n63-k9.vrp']\n",
      "[2024-04-01 11:02:32] CVRPTester.py(84) : >> Model loaded from result/maml_250000checkpts/checkpoint-250000.pt\n",
      "[2024-04-01 11:02:34] CVRPTester.py(225) : episode   1/  2, Elapsed[0.03m], Remain[0.03m], sol:1.314, score:1.753, aug_score:1.532\n",
      "[2024-04-01 11:02:34] CVRPTester.py(225) : episode   2/  2, Elapsed[0.03m], Remain[0.00m], sol:1.616, score:2.339, aug_score:1.924\n",
      "[2024-04-01 11:02:34] CVRPTester.py(231) :  *** Test Done *** \n",
      "[2024-04-01 11:02:34] CVRPTester.py(232) :  NO-AUG SCORE: 2.0462, Gap: 39.0892 \n",
      "[2024-04-01 11:02:34] CVRPTester.py(233) :  AUGMENTATION SCORE: 1.7282, Gap: 17.8403 \n",
      "2.046 (39.089%)\n",
      "1.728 (17.840%)\n",
      ">> Evaluation on ../../data/CVRP/dataset/Vrp-Set-A/A-n63 finished within 1.69s\n",
      ">> Save final results to res/A-n63\n",
      "Test on \" ../../data/CVRP/dataset/Vrp-Set-A/A-n63 \" Success\n",
      "-----------------------------------------------------------------------------------------------------------------\n",
      "[2024-04-01 11:02:37] test.py(106) : DEBUG_MODE: False\n",
      "[2024-04-01 11:02:37] test.py(107) : USE_CUDA: True, CUDA_DEVICE_NUM: 0\n",
      "[2024-04-01 11:02:37] test.py(108) : env_params{'problem_size': 200, 'pomo_size': 200}\n",
      "[2024-04-01 11:02:37] test.py(108) : model_params{'embedding_dim': 128, 'sqrt_embedding_dim': 11.313708498984761, 'encoder_layer_num': 6, 'qkv_dim': 16, 'head_num': 8, 'logit_clipping': 10, 'ff_hidden_dim': 512, 'eval_type': 'argmax', 'norm': 'batch_no_track'}\n",
      "[2024-04-01 11:02:37] test.py(108) : tester_params{'use_cuda': True, 'cuda_device_num': 0, 'seed': 2024, 'model_load': {'path': 'result/maml_250000checkpts', 'epoch': 250000}, 'test_episodes': 1, 'test_batch_size': 1, 'augmentation_enable': True, 'test_robustness': False, 'aug_factor': 8, 'aug_batch_size': 1, 'test_set_path': '../../data/CVRP/dataset/Vrp-Set-A/A-n64', 'test_set_opt_sol_path': '../../data/CVRP/dataset/Vrp-Set-A/A-n64-sol', 'test_set_name': 'A-n33'}\n",
      "[2024-04-01 11:02:37] test.py(108) : fine_tune_params{'enable': False, 'fine_tune_episodes': 1000, 'k': 10, 'fine_tune_batch_size': 10, 'augmentation_enable': True, 'optimizer': {'lr': 1e-05, 'weight_decay': 1e-06}}\n",
      "[2024-04-01 11:02:37] test.py(108) : logger_params{'log_file': {'desc': 'test_cvrp', 'filename': 'log.txt', 'filepath': './result/20240401_110237_test_cvrp'}}\n"
     ]
    },
    {
     "name": "stderr",
     "output_type": "stream",
     "text": [
      "/home/xunj/miniconda3/lib/python3.11/site-packages/torch/__init__.py:614: UserWarning: torch.set_default_tensor_type() is deprecated as of PyTorch 2.1, please use torch.set_default_dtype() and torch.set_default_device() as alternatives. (Triggered internally at /opt/conda/conda-bld/pytorch_1699449183005/work/torch/csrc/tensor/python_tensor.cpp:451.)\n",
      "  _C._set_default_tensor_type(t)\n"
     ]
    },
    {
     "name": "stdout",
     "output_type": "stream",
     "text": [
      "['../../data/CVRP/dataset/Vrp-Set-A/A-n64/A-n64-k9.vrp']\n",
      "[2024-04-01 11:02:43] CVRPTester.py(84) : >> Model loaded from result/maml_250000checkpts/checkpoint-250000.pt\n",
      "[2024-04-01 11:02:45] CVRPTester.py(225) : episode   1/  1, Elapsed[0.03m], Remain[0.00m], sol:1.401, score:1.626, aug_score:1.586\n",
      "[2024-04-01 11:02:45] CVRPTester.py(231) :  *** Test Done *** \n",
      "[2024-04-01 11:02:45] CVRPTester.py(232) :  NO-AUG SCORE: 1.6259, Gap: 16.0528 \n",
      "[2024-04-01 11:02:45] CVRPTester.py(233) :  AUGMENTATION SCORE: 1.5860, Gap: 13.2022 \n",
      "1.626 (16.053%)\n",
      "1.586 (13.202%)\n",
      ">> Evaluation on ../../data/CVRP/dataset/Vrp-Set-A/A-n64 finished within 1.56s\n",
      ">> Save final results to res/A-n64\n",
      "Test on \" ../../data/CVRP/dataset/Vrp-Set-A/A-n64 \" Success\n",
      "-----------------------------------------------------------------------------------------------------------------\n",
      "[2024-04-01 11:02:48] test.py(106) : DEBUG_MODE: False\n",
      "[2024-04-01 11:02:48] test.py(107) : USE_CUDA: True, CUDA_DEVICE_NUM: 0\n",
      "[2024-04-01 11:02:48] test.py(108) : env_params{'problem_size': 200, 'pomo_size': 200}\n",
      "[2024-04-01 11:02:48] test.py(108) : model_params{'embedding_dim': 128, 'sqrt_embedding_dim': 11.313708498984761, 'encoder_layer_num': 6, 'qkv_dim': 16, 'head_num': 8, 'logit_clipping': 10, 'ff_hidden_dim': 512, 'eval_type': 'argmax', 'norm': 'batch_no_track'}\n",
      "[2024-04-01 11:02:48] test.py(108) : tester_params{'use_cuda': True, 'cuda_device_num': 0, 'seed': 2024, 'model_load': {'path': 'result/maml_250000checkpts', 'epoch': 250000}, 'test_episodes': 1, 'test_batch_size': 1, 'augmentation_enable': True, 'test_robustness': False, 'aug_factor': 8, 'aug_batch_size': 1, 'test_set_path': '../../data/CVRP/dataset/Vrp-Set-A/A-n65', 'test_set_opt_sol_path': '../../data/CVRP/dataset/Vrp-Set-A/A-n65-sol', 'test_set_name': 'A-n33'}\n",
      "[2024-04-01 11:02:48] test.py(108) : fine_tune_params{'enable': False, 'fine_tune_episodes': 1000, 'k': 10, 'fine_tune_batch_size': 10, 'augmentation_enable': True, 'optimizer': {'lr': 1e-05, 'weight_decay': 1e-06}}\n",
      "[2024-04-01 11:02:48] test.py(108) : logger_params{'log_file': {'desc': 'test_cvrp', 'filename': 'log.txt', 'filepath': './result/20240401_110248_test_cvrp'}}\n"
     ]
    },
    {
     "name": "stderr",
     "output_type": "stream",
     "text": [
      "/home/xunj/miniconda3/lib/python3.11/site-packages/torch/__init__.py:614: UserWarning: torch.set_default_tensor_type() is deprecated as of PyTorch 2.1, please use torch.set_default_dtype() and torch.set_default_device() as alternatives. (Triggered internally at /opt/conda/conda-bld/pytorch_1699449183005/work/torch/csrc/tensor/python_tensor.cpp:451.)\n",
      "  _C._set_default_tensor_type(t)\n"
     ]
    },
    {
     "name": "stdout",
     "output_type": "stream",
     "text": [
      "['../../data/CVRP/dataset/Vrp-Set-A/A-n65/A-n65-k9.vrp']\n",
      "[2024-04-01 11:02:54] CVRPTester.py(84) : >> Model loaded from result/maml_250000checkpts/checkpoint-250000.pt\n",
      "[2024-04-01 11:02:56] CVRPTester.py(225) : episode   1/  1, Elapsed[0.03m], Remain[0.00m], sol:1.174, score:1.476, aug_score:1.328\n",
      "[2024-04-01 11:02:56] CVRPTester.py(231) :  *** Test Done *** \n",
      "[2024-04-01 11:02:56] CVRPTester.py(232) :  NO-AUG SCORE: 1.4765, Gap: 25.7661 \n",
      "[2024-04-01 11:02:56] CVRPTester.py(233) :  AUGMENTATION SCORE: 1.3285, Gap: 13.1577 \n",
      "1.476 (25.766%)\n",
      "1.328 (13.158%)\n",
      ">> Evaluation on ../../data/CVRP/dataset/Vrp-Set-A/A-n65 finished within 1.59s\n",
      ">> Save final results to res/A-n65\n",
      "Test on \" ../../data/CVRP/dataset/Vrp-Set-A/A-n65 \" Success\n",
      "-----------------------------------------------------------------------------------------------------------------\n",
      "[2024-04-01 11:02:59] test.py(106) : DEBUG_MODE: False\n",
      "[2024-04-01 11:02:59] test.py(107) : USE_CUDA: True, CUDA_DEVICE_NUM: 0\n",
      "[2024-04-01 11:02:59] test.py(108) : env_params{'problem_size': 200, 'pomo_size': 200}\n",
      "[2024-04-01 11:02:59] test.py(108) : model_params{'embedding_dim': 128, 'sqrt_embedding_dim': 11.313708498984761, 'encoder_layer_num': 6, 'qkv_dim': 16, 'head_num': 8, 'logit_clipping': 10, 'ff_hidden_dim': 512, 'eval_type': 'argmax', 'norm': 'batch_no_track'}\n",
      "[2024-04-01 11:02:59] test.py(108) : tester_params{'use_cuda': True, 'cuda_device_num': 0, 'seed': 2024, 'model_load': {'path': 'result/maml_250000checkpts', 'epoch': 250000}, 'test_episodes': 1, 'test_batch_size': 1, 'augmentation_enable': True, 'test_robustness': False, 'aug_factor': 8, 'aug_batch_size': 1, 'test_set_path': '../../data/CVRP/dataset/Vrp-Set-A/A-n69', 'test_set_opt_sol_path': '../../data/CVRP/dataset/Vrp-Set-A/A-n69-sol', 'test_set_name': 'A-n33'}\n",
      "[2024-04-01 11:02:59] test.py(108) : fine_tune_params{'enable': False, 'fine_tune_episodes': 1000, 'k': 10, 'fine_tune_batch_size': 10, 'augmentation_enable': True, 'optimizer': {'lr': 1e-05, 'weight_decay': 1e-06}}\n",
      "[2024-04-01 11:02:59] test.py(108) : logger_params{'log_file': {'desc': 'test_cvrp', 'filename': 'log.txt', 'filepath': './result/20240401_110259_test_cvrp'}}\n"
     ]
    },
    {
     "name": "stderr",
     "output_type": "stream",
     "text": [
      "/home/xunj/miniconda3/lib/python3.11/site-packages/torch/__init__.py:614: UserWarning: torch.set_default_tensor_type() is deprecated as of PyTorch 2.1, please use torch.set_default_dtype() and torch.set_default_device() as alternatives. (Triggered internally at /opt/conda/conda-bld/pytorch_1699449183005/work/torch/csrc/tensor/python_tensor.cpp:451.)\n",
      "  _C._set_default_tensor_type(t)\n"
     ]
    },
    {
     "name": "stdout",
     "output_type": "stream",
     "text": [
      "['../../data/CVRP/dataset/Vrp-Set-A/A-n69/A-n69-k9.vrp']\n",
      "[2024-04-01 11:03:05] CVRPTester.py(84) : >> Model loaded from result/maml_250000checkpts/checkpoint-250000.pt\n",
      "[2024-04-01 11:03:07] CVRPTester.py(225) : episode   1/  1, Elapsed[0.03m], Remain[0.00m], sol:1.159, score:1.576, aug_score:1.381\n",
      "[2024-04-01 11:03:07] CVRPTester.py(231) :  *** Test Done *** \n",
      "[2024-04-01 11:03:07] CVRPTester.py(232) :  NO-AUG SCORE: 1.5761, Gap: 35.9892 \n",
      "[2024-04-01 11:03:07] CVRPTester.py(233) :  AUGMENTATION SCORE: 1.3813, Gap: 19.1770 \n",
      "1.576 (35.989%)\n",
      "1.381 (19.177%)\n",
      ">> Evaluation on ../../data/CVRP/dataset/Vrp-Set-A/A-n69 finished within 1.59s\n",
      ">> Save final results to res/A-n69\n",
      "Test on \" ../../data/CVRP/dataset/Vrp-Set-A/A-n69 \" Success\n",
      "-----------------------------------------------------------------------------------------------------------------\n",
      "[2024-04-01 11:03:10] test.py(106) : DEBUG_MODE: False\n",
      "[2024-04-01 11:03:10] test.py(107) : USE_CUDA: True, CUDA_DEVICE_NUM: 0\n",
      "[2024-04-01 11:03:10] test.py(108) : env_params{'problem_size': 200, 'pomo_size': 200}\n",
      "[2024-04-01 11:03:10] test.py(108) : model_params{'embedding_dim': 128, 'sqrt_embedding_dim': 11.313708498984761, 'encoder_layer_num': 6, 'qkv_dim': 16, 'head_num': 8, 'logit_clipping': 10, 'ff_hidden_dim': 512, 'eval_type': 'argmax', 'norm': 'batch_no_track'}\n",
      "[2024-04-01 11:03:10] test.py(108) : tester_params{'use_cuda': True, 'cuda_device_num': 0, 'seed': 2024, 'model_load': {'path': 'result/maml_250000checkpts', 'epoch': 250000}, 'test_episodes': 1, 'test_batch_size': 1, 'augmentation_enable': True, 'test_robustness': False, 'aug_factor': 8, 'aug_batch_size': 1, 'test_set_path': '../../data/CVRP/dataset/Vrp-Set-A/A-n80', 'test_set_opt_sol_path': '../../data/CVRP/dataset/Vrp-Set-A/A-n80-sol', 'test_set_name': 'A-n33'}\n",
      "[2024-04-01 11:03:10] test.py(108) : fine_tune_params{'enable': False, 'fine_tune_episodes': 1000, 'k': 10, 'fine_tune_batch_size': 10, 'augmentation_enable': True, 'optimizer': {'lr': 1e-05, 'weight_decay': 1e-06}}\n",
      "[2024-04-01 11:03:10] test.py(108) : logger_params{'log_file': {'desc': 'test_cvrp', 'filename': 'log.txt', 'filepath': './result/20240401_110310_test_cvrp'}}\n"
     ]
    },
    {
     "name": "stderr",
     "output_type": "stream",
     "text": [
      "/home/xunj/miniconda3/lib/python3.11/site-packages/torch/__init__.py:614: UserWarning: torch.set_default_tensor_type() is deprecated as of PyTorch 2.1, please use torch.set_default_dtype() and torch.set_default_device() as alternatives. (Triggered internally at /opt/conda/conda-bld/pytorch_1699449183005/work/torch/csrc/tensor/python_tensor.cpp:451.)\n",
      "  _C._set_default_tensor_type(t)\n"
     ]
    },
    {
     "name": "stdout",
     "output_type": "stream",
     "text": [
      "['../../data/CVRP/dataset/Vrp-Set-A/A-n80/A-n80-k10.vrp']\n",
      "[2024-04-01 11:03:16] CVRPTester.py(84) : >> Model loaded from result/maml_250000checkpts/checkpoint-250000.pt\n",
      "[2024-04-01 11:03:18] CVRPTester.py(225) : episode   1/  1, Elapsed[0.03m], Remain[0.00m], sol:1.763, score:3.519, aug_score:2.196\n",
      "[2024-04-01 11:03:18] CVRPTester.py(231) :  *** Test Done *** \n",
      "[2024-04-01 11:03:18] CVRPTester.py(232) :  NO-AUG SCORE: 3.5191, Gap: 99.6085 \n",
      "[2024-04-01 11:03:18] CVRPTester.py(233) :  AUGMENTATION SCORE: 2.1964, Gap: 24.5837 \n",
      "3.519 (99.608%)\n",
      "2.196 (24.584%)\n",
      ">> Evaluation on ../../data/CVRP/dataset/Vrp-Set-A/A-n80 finished within 1.76s\n",
      ">> Save final results to res/A-n80\n",
      "Test on \" ../../data/CVRP/dataset/Vrp-Set-A/A-n80 \" Success\n",
      "-----------------------------------------------------------------------------------------------------------------\n",
      "[2024-04-01 11:03:21] test.py(106) : DEBUG_MODE: False\n",
      "[2024-04-01 11:03:21] test.py(107) : USE_CUDA: True, CUDA_DEVICE_NUM: 0\n",
      "[2024-04-01 11:03:21] test.py(108) : env_params{'problem_size': 200, 'pomo_size': 200}\n",
      "[2024-04-01 11:03:21] test.py(108) : model_params{'embedding_dim': 128, 'sqrt_embedding_dim': 11.313708498984761, 'encoder_layer_num': 6, 'qkv_dim': 16, 'head_num': 8, 'logit_clipping': 10, 'ff_hidden_dim': 512, 'eval_type': 'argmax', 'norm': 'batch_no_track'}\n",
      "[2024-04-01 11:03:21] test.py(108) : tester_params{'use_cuda': True, 'cuda_device_num': 0, 'seed': 2024, 'model_load': {'path': 'result/maml_250000checkpts', 'epoch': 250000}, 'test_episodes': 1, 'test_batch_size': 1, 'augmentation_enable': True, 'test_robustness': False, 'aug_factor': 8, 'aug_batch_size': 1, 'test_set_path': '../../data/CVRP/dataset/Vrp-Set-B/B-n31', 'test_set_opt_sol_path': '../../data/CVRP/dataset/Vrp-Set-B/B-n31-sol', 'test_set_name': 'A-n33'}\n",
      "[2024-04-01 11:03:21] test.py(108) : fine_tune_params{'enable': False, 'fine_tune_episodes': 1000, 'k': 10, 'fine_tune_batch_size': 10, 'augmentation_enable': True, 'optimizer': {'lr': 1e-05, 'weight_decay': 1e-06}}\n",
      "[2024-04-01 11:03:21] test.py(108) : logger_params{'log_file': {'desc': 'test_cvrp', 'filename': 'log.txt', 'filepath': './result/20240401_110321_test_cvrp'}}\n"
     ]
    },
    {
     "name": "stderr",
     "output_type": "stream",
     "text": [
      "/home/xunj/miniconda3/lib/python3.11/site-packages/torch/__init__.py:614: UserWarning: torch.set_default_tensor_type() is deprecated as of PyTorch 2.1, please use torch.set_default_dtype() and torch.set_default_device() as alternatives. (Triggered internally at /opt/conda/conda-bld/pytorch_1699449183005/work/torch/csrc/tensor/python_tensor.cpp:451.)\n",
      "  _C._set_default_tensor_type(t)\n"
     ]
    },
    {
     "name": "stdout",
     "output_type": "stream",
     "text": [
      "['../../data/CVRP/dataset/Vrp-Set-B/B-n31/B-n31-k5.vrp']\n",
      "[2024-04-01 11:03:28] CVRPTester.py(84) : >> Model loaded from result/maml_250000checkpts/checkpoint-250000.pt\n",
      "[2024-04-01 11:03:30] CVRPTester.py(225) : episode   1/  1, Elapsed[0.03m], Remain[0.00m], sol:0.672, score:1.066, aug_score:0.743\n",
      "[2024-04-01 11:03:30] CVRPTester.py(231) :  *** Test Done *** \n",
      "[2024-04-01 11:03:30] CVRPTester.py(232) :  NO-AUG SCORE: 1.0659, Gap: 58.6127 \n",
      "[2024-04-01 11:03:30] CVRPTester.py(233) :  AUGMENTATION SCORE: 0.7429, Gap: 10.5539 \n",
      "1.066 (58.613%)\n",
      "0.743 (10.554%)\n",
      ">> Evaluation on ../../data/CVRP/dataset/Vrp-Set-B/B-n31 finished within 1.74s\n",
      ">> Save final results to res/B-n31\n",
      "Test on \" ../../data/CVRP/dataset/Vrp-Set-B/B-n31 \" Success\n",
      "-----------------------------------------------------------------------------------------------------------------\n",
      "[2024-04-01 11:03:34] test.py(106) : DEBUG_MODE: False\n",
      "[2024-04-01 11:03:34] test.py(107) : USE_CUDA: True, CUDA_DEVICE_NUM: 0\n",
      "[2024-04-01 11:03:34] test.py(108) : env_params{'problem_size': 200, 'pomo_size': 200}\n",
      "[2024-04-01 11:03:34] test.py(108) : model_params{'embedding_dim': 128, 'sqrt_embedding_dim': 11.313708498984761, 'encoder_layer_num': 6, 'qkv_dim': 16, 'head_num': 8, 'logit_clipping': 10, 'ff_hidden_dim': 512, 'eval_type': 'argmax', 'norm': 'batch_no_track'}\n",
      "[2024-04-01 11:03:34] test.py(108) : tester_params{'use_cuda': True, 'cuda_device_num': 0, 'seed': 2024, 'model_load': {'path': 'result/maml_250000checkpts', 'epoch': 250000}, 'test_episodes': 1, 'test_batch_size': 1, 'augmentation_enable': True, 'test_robustness': False, 'aug_factor': 8, 'aug_batch_size': 1, 'test_set_path': '../../data/CVRP/dataset/Vrp-Set-B/B-n34', 'test_set_opt_sol_path': '../../data/CVRP/dataset/Vrp-Set-B/B-n34-sol', 'test_set_name': 'A-n33'}\n",
      "[2024-04-01 11:03:34] test.py(108) : fine_tune_params{'enable': False, 'fine_tune_episodes': 1000, 'k': 10, 'fine_tune_batch_size': 10, 'augmentation_enable': True, 'optimizer': {'lr': 1e-05, 'weight_decay': 1e-06}}\n",
      "[2024-04-01 11:03:34] test.py(108) : logger_params{'log_file': {'desc': 'test_cvrp', 'filename': 'log.txt', 'filepath': './result/20240401_110333_test_cvrp'}}\n"
     ]
    },
    {
     "name": "stderr",
     "output_type": "stream",
     "text": [
      "/home/xunj/miniconda3/lib/python3.11/site-packages/torch/__init__.py:614: UserWarning: torch.set_default_tensor_type() is deprecated as of PyTorch 2.1, please use torch.set_default_dtype() and torch.set_default_device() as alternatives. (Triggered internally at /opt/conda/conda-bld/pytorch_1699449183005/work/torch/csrc/tensor/python_tensor.cpp:451.)\n",
      "  _C._set_default_tensor_type(t)\n"
     ]
    },
    {
     "name": "stdout",
     "output_type": "stream",
     "text": [
      "['../../data/CVRP/dataset/Vrp-Set-B/B-n34/B-n34-k5.vrp']\n",
      "[2024-04-01 11:03:40] CVRPTester.py(84) : >> Model loaded from result/maml_250000checkpts/checkpoint-250000.pt\n",
      "[2024-04-01 11:03:42] CVRPTester.py(225) : episode   1/  1, Elapsed[0.03m], Remain[0.00m], sol:0.788, score:0.893, aug_score:0.863\n",
      "[2024-04-01 11:03:42] CVRPTester.py(231) :  *** Test Done *** \n",
      "[2024-04-01 11:03:42] CVRPTester.py(232) :  NO-AUG SCORE: 0.8931, Gap: 13.3319 \n",
      "[2024-04-01 11:03:42] CVRPTester.py(233) :  AUGMENTATION SCORE: 0.8629, Gap: 9.5020 \n",
      "0.893 (13.332%)\n",
      "0.863 (9.502%)\n",
      ">> Evaluation on ../../data/CVRP/dataset/Vrp-Set-B/B-n34 finished within 1.64s\n",
      ">> Save final results to res/B-n34\n",
      "Test on \" ../../data/CVRP/dataset/Vrp-Set-B/B-n34 \" Success\n",
      "-----------------------------------------------------------------------------------------------------------------\n",
      "[2024-04-01 11:03:45] test.py(106) : DEBUG_MODE: False\n",
      "[2024-04-01 11:03:45] test.py(107) : USE_CUDA: True, CUDA_DEVICE_NUM: 0\n",
      "[2024-04-01 11:03:45] test.py(108) : env_params{'problem_size': 200, 'pomo_size': 200}\n",
      "[2024-04-01 11:03:45] test.py(108) : model_params{'embedding_dim': 128, 'sqrt_embedding_dim': 11.313708498984761, 'encoder_layer_num': 6, 'qkv_dim': 16, 'head_num': 8, 'logit_clipping': 10, 'ff_hidden_dim': 512, 'eval_type': 'argmax', 'norm': 'batch_no_track'}\n",
      "[2024-04-01 11:03:45] test.py(108) : tester_params{'use_cuda': True, 'cuda_device_num': 0, 'seed': 2024, 'model_load': {'path': 'result/maml_250000checkpts', 'epoch': 250000}, 'test_episodes': 1, 'test_batch_size': 1, 'augmentation_enable': True, 'test_robustness': False, 'aug_factor': 8, 'aug_batch_size': 1, 'test_set_path': '../../data/CVRP/dataset/Vrp-Set-B/B-n35', 'test_set_opt_sol_path': '../../data/CVRP/dataset/Vrp-Set-B/B-n35-sol', 'test_set_name': 'A-n33'}\n",
      "[2024-04-01 11:03:45] test.py(108) : fine_tune_params{'enable': False, 'fine_tune_episodes': 1000, 'k': 10, 'fine_tune_batch_size': 10, 'augmentation_enable': True, 'optimizer': {'lr': 1e-05, 'weight_decay': 1e-06}}\n",
      "[2024-04-01 11:03:45] test.py(108) : logger_params{'log_file': {'desc': 'test_cvrp', 'filename': 'log.txt', 'filepath': './result/20240401_110344_test_cvrp'}}\n"
     ]
    },
    {
     "name": "stderr",
     "output_type": "stream",
     "text": [
      "/home/xunj/miniconda3/lib/python3.11/site-packages/torch/__init__.py:614: UserWarning: torch.set_default_tensor_type() is deprecated as of PyTorch 2.1, please use torch.set_default_dtype() and torch.set_default_device() as alternatives. (Triggered internally at /opt/conda/conda-bld/pytorch_1699449183005/work/torch/csrc/tensor/python_tensor.cpp:451.)\n",
      "  _C._set_default_tensor_type(t)\n"
     ]
    },
    {
     "name": "stdout",
     "output_type": "stream",
     "text": [
      "['../../data/CVRP/dataset/Vrp-Set-B/B-n35/B-n35-k5.vrp']\n",
      "[2024-04-01 11:03:51] CVRPTester.py(84) : >> Model loaded from result/maml_250000checkpts/checkpoint-250000.pt\n",
      "[2024-04-01 11:03:53] CVRPTester.py(225) : episode   1/  1, Elapsed[0.03m], Remain[0.00m], sol:0.955, score:1.169, aug_score:1.035\n",
      "[2024-04-01 11:03:53] CVRPTester.py(231) :  *** Test Done *** \n",
      "[2024-04-01 11:03:53] CVRPTester.py(232) :  NO-AUG SCORE: 1.1695, Gap: 22.4581 \n",
      "[2024-04-01 11:03:53] CVRPTester.py(233) :  AUGMENTATION SCORE: 1.0355, Gap: 8.4276 \n",
      "1.169 (22.458%)\n",
      "1.035 (8.428%)\n",
      ">> Evaluation on ../../data/CVRP/dataset/Vrp-Set-B/B-n35 finished within 1.52s\n",
      ">> Save final results to res/B-n35\n",
      "Test on \" ../../data/CVRP/dataset/Vrp-Set-B/B-n35 \" Success\n",
      "-----------------------------------------------------------------------------------------------------------------\n",
      "[2024-04-01 11:03:56] test.py(106) : DEBUG_MODE: False\n",
      "[2024-04-01 11:03:56] test.py(107) : USE_CUDA: True, CUDA_DEVICE_NUM: 0\n",
      "[2024-04-01 11:03:56] test.py(108) : env_params{'problem_size': 200, 'pomo_size': 200}\n",
      "[2024-04-01 11:03:56] test.py(108) : model_params{'embedding_dim': 128, 'sqrt_embedding_dim': 11.313708498984761, 'encoder_layer_num': 6, 'qkv_dim': 16, 'head_num': 8, 'logit_clipping': 10, 'ff_hidden_dim': 512, 'eval_type': 'argmax', 'norm': 'batch_no_track'}\n",
      "[2024-04-01 11:03:56] test.py(108) : tester_params{'use_cuda': True, 'cuda_device_num': 0, 'seed': 2024, 'model_load': {'path': 'result/maml_250000checkpts', 'epoch': 250000}, 'test_episodes': 1, 'test_batch_size': 1, 'augmentation_enable': True, 'test_robustness': False, 'aug_factor': 8, 'aug_batch_size': 1, 'test_set_path': '../../data/CVRP/dataset/Vrp-Set-B/B-n38', 'test_set_opt_sol_path': '../../data/CVRP/dataset/Vrp-Set-B/B-n38-sol', 'test_set_name': 'A-n33'}\n",
      "[2024-04-01 11:03:56] test.py(108) : fine_tune_params{'enable': False, 'fine_tune_episodes': 1000, 'k': 10, 'fine_tune_batch_size': 10, 'augmentation_enable': True, 'optimizer': {'lr': 1e-05, 'weight_decay': 1e-06}}\n",
      "[2024-04-01 11:03:56] test.py(108) : logger_params{'log_file': {'desc': 'test_cvrp', 'filename': 'log.txt', 'filepath': './result/20240401_110355_test_cvrp'}}\n"
     ]
    },
    {
     "name": "stderr",
     "output_type": "stream",
     "text": [
      "/home/xunj/miniconda3/lib/python3.11/site-packages/torch/__init__.py:614: UserWarning: torch.set_default_tensor_type() is deprecated as of PyTorch 2.1, please use torch.set_default_dtype() and torch.set_default_device() as alternatives. (Triggered internally at /opt/conda/conda-bld/pytorch_1699449183005/work/torch/csrc/tensor/python_tensor.cpp:451.)\n",
      "  _C._set_default_tensor_type(t)\n"
     ]
    },
    {
     "name": "stdout",
     "output_type": "stream",
     "text": [
      "['../../data/CVRP/dataset/Vrp-Set-B/B-n38/B-n38-k6.vrp']\n",
      "[2024-04-01 11:04:02] CVRPTester.py(84) : >> Model loaded from result/maml_250000checkpts/checkpoint-250000.pt\n",
      "[2024-04-01 11:04:03] CVRPTester.py(225) : episode   1/  1, Elapsed[0.03m], Remain[0.00m], sol:0.805, score:1.439, aug_score:0.861\n",
      "[2024-04-01 11:04:03] CVRPTester.py(231) :  *** Test Done *** \n",
      "[2024-04-01 11:04:03] CVRPTester.py(232) :  NO-AUG SCORE: 1.4390, Gap: 78.7528 \n",
      "[2024-04-01 11:04:03] CVRPTester.py(233) :  AUGMENTATION SCORE: 0.8614, Gap: 7.0010 \n",
      "1.439 (78.753%)\n",
      "0.861 (7.001%)\n",
      ">> Evaluation on ../../data/CVRP/dataset/Vrp-Set-B/B-n38 finished within 1.53s\n",
      ">> Save final results to res/B-n38\n",
      "Test on \" ../../data/CVRP/dataset/Vrp-Set-B/B-n38 \" Success\n",
      "-----------------------------------------------------------------------------------------------------------------\n",
      "[2024-04-01 11:04:07] test.py(106) : DEBUG_MODE: False\n",
      "[2024-04-01 11:04:07] test.py(107) : USE_CUDA: True, CUDA_DEVICE_NUM: 0\n",
      "[2024-04-01 11:04:07] test.py(108) : env_params{'problem_size': 200, 'pomo_size': 200}\n",
      "[2024-04-01 11:04:07] test.py(108) : model_params{'embedding_dim': 128, 'sqrt_embedding_dim': 11.313708498984761, 'encoder_layer_num': 6, 'qkv_dim': 16, 'head_num': 8, 'logit_clipping': 10, 'ff_hidden_dim': 512, 'eval_type': 'argmax', 'norm': 'batch_no_track'}\n",
      "[2024-04-01 11:04:07] test.py(108) : tester_params{'use_cuda': True, 'cuda_device_num': 0, 'seed': 2024, 'model_load': {'path': 'result/maml_250000checkpts', 'epoch': 250000}, 'test_episodes': 1, 'test_batch_size': 1, 'augmentation_enable': True, 'test_robustness': False, 'aug_factor': 8, 'aug_batch_size': 1, 'test_set_path': '../../data/CVRP/dataset/Vrp-Set-B/B-n39', 'test_set_opt_sol_path': '../../data/CVRP/dataset/Vrp-Set-B/B-n39-sol', 'test_set_name': 'A-n33'}\n",
      "[2024-04-01 11:04:07] test.py(108) : fine_tune_params{'enable': False, 'fine_tune_episodes': 1000, 'k': 10, 'fine_tune_batch_size': 10, 'augmentation_enable': True, 'optimizer': {'lr': 1e-05, 'weight_decay': 1e-06}}\n",
      "[2024-04-01 11:04:07] test.py(108) : logger_params{'log_file': {'desc': 'test_cvrp', 'filename': 'log.txt', 'filepath': './result/20240401_110406_test_cvrp'}}\n"
     ]
    },
    {
     "name": "stderr",
     "output_type": "stream",
     "text": [
      "/home/xunj/miniconda3/lib/python3.11/site-packages/torch/__init__.py:614: UserWarning: torch.set_default_tensor_type() is deprecated as of PyTorch 2.1, please use torch.set_default_dtype() and torch.set_default_device() as alternatives. (Triggered internally at /opt/conda/conda-bld/pytorch_1699449183005/work/torch/csrc/tensor/python_tensor.cpp:451.)\n",
      "  _C._set_default_tensor_type(t)\n"
     ]
    },
    {
     "name": "stdout",
     "output_type": "stream",
     "text": [
      "['../../data/CVRP/dataset/Vrp-Set-B/B-n39/B-n39-k5.vrp']\n",
      "[2024-04-01 11:04:13] CVRPTester.py(84) : >> Model loaded from result/maml_250000checkpts/checkpoint-250000.pt\n",
      "[2024-04-01 11:04:14] CVRPTester.py(225) : episode   1/  1, Elapsed[0.03m], Remain[0.00m], sol:0.549, score:0.658, aug_score:0.607\n",
      "[2024-04-01 11:04:14] CVRPTester.py(231) :  *** Test Done *** \n",
      "[2024-04-01 11:04:14] CVRPTester.py(232) :  NO-AUG SCORE: 0.6582, Gap: 19.8991 \n",
      "[2024-04-01 11:04:14] CVRPTester.py(233) :  AUGMENTATION SCORE: 0.6068, Gap: 10.5198 \n",
      "0.658 (19.899%)\n",
      "0.607 (10.520%)\n",
      ">> Evaluation on ../../data/CVRP/dataset/Vrp-Set-B/B-n39 finished within 1.53s\n",
      ">> Save final results to res/B-n39\n",
      "Test on \" ../../data/CVRP/dataset/Vrp-Set-B/B-n39 \" Success\n",
      "-----------------------------------------------------------------------------------------------------------------\n",
      "[2024-04-01 11:04:18] test.py(106) : DEBUG_MODE: False\n",
      "[2024-04-01 11:04:18] test.py(107) : USE_CUDA: True, CUDA_DEVICE_NUM: 0\n",
      "[2024-04-01 11:04:18] test.py(108) : env_params{'problem_size': 200, 'pomo_size': 200}\n",
      "[2024-04-01 11:04:18] test.py(108) : model_params{'embedding_dim': 128, 'sqrt_embedding_dim': 11.313708498984761, 'encoder_layer_num': 6, 'qkv_dim': 16, 'head_num': 8, 'logit_clipping': 10, 'ff_hidden_dim': 512, 'eval_type': 'argmax', 'norm': 'batch_no_track'}\n",
      "[2024-04-01 11:04:18] test.py(108) : tester_params{'use_cuda': True, 'cuda_device_num': 0, 'seed': 2024, 'model_load': {'path': 'result/maml_250000checkpts', 'epoch': 250000}, 'test_episodes': 1, 'test_batch_size': 1, 'augmentation_enable': True, 'test_robustness': False, 'aug_factor': 8, 'aug_batch_size': 1, 'test_set_path': '../../data/CVRP/dataset/Vrp-Set-B/B-n41', 'test_set_opt_sol_path': '../../data/CVRP/dataset/Vrp-Set-B/B-n41-sol', 'test_set_name': 'A-n33'}\n",
      "[2024-04-01 11:04:18] test.py(108) : fine_tune_params{'enable': False, 'fine_tune_episodes': 1000, 'k': 10, 'fine_tune_batch_size': 10, 'augmentation_enable': True, 'optimizer': {'lr': 1e-05, 'weight_decay': 1e-06}}\n",
      "[2024-04-01 11:04:18] test.py(108) : logger_params{'log_file': {'desc': 'test_cvrp', 'filename': 'log.txt', 'filepath': './result/20240401_110417_test_cvrp'}}\n"
     ]
    },
    {
     "name": "stderr",
     "output_type": "stream",
     "text": [
      "/home/xunj/miniconda3/lib/python3.11/site-packages/torch/__init__.py:614: UserWarning: torch.set_default_tensor_type() is deprecated as of PyTorch 2.1, please use torch.set_default_dtype() and torch.set_default_device() as alternatives. (Triggered internally at /opt/conda/conda-bld/pytorch_1699449183005/work/torch/csrc/tensor/python_tensor.cpp:451.)\n",
      "  _C._set_default_tensor_type(t)\n"
     ]
    },
    {
     "name": "stdout",
     "output_type": "stream",
     "text": [
      "['../../data/CVRP/dataset/Vrp-Set-B/B-n41/B-n41-k6.vrp']\n",
      "[2024-04-01 11:04:24] CVRPTester.py(84) : >> Model loaded from result/maml_250000checkpts/checkpoint-250000.pt\n",
      "[2024-04-01 11:04:25] CVRPTester.py(225) : episode   1/  1, Elapsed[0.03m], Remain[0.00m], sol:0.829, score:0.922, aug_score:0.892\n",
      "[2024-04-01 11:04:25] CVRPTester.py(231) :  *** Test Done *** \n",
      "[2024-04-01 11:04:25] CVRPTester.py(232) :  NO-AUG SCORE: 0.9216, Gap: 11.1718 \n",
      "[2024-04-01 11:04:25] CVRPTester.py(233) :  AUGMENTATION SCORE: 0.8916, Gap: 7.5483 \n",
      "0.922 (11.172%)\n",
      "0.892 (7.548%)\n",
      ">> Evaluation on ../../data/CVRP/dataset/Vrp-Set-B/B-n41 finished within 1.54s\n",
      ">> Save final results to res/B-n41\n",
      "Test on \" ../../data/CVRP/dataset/Vrp-Set-B/B-n41 \" Success\n",
      "-----------------------------------------------------------------------------------------------------------------\n",
      "[2024-04-01 11:04:29] test.py(106) : DEBUG_MODE: False\n",
      "[2024-04-01 11:04:29] test.py(107) : USE_CUDA: True, CUDA_DEVICE_NUM: 0\n",
      "[2024-04-01 11:04:29] test.py(108) : env_params{'problem_size': 200, 'pomo_size': 200}\n",
      "[2024-04-01 11:04:29] test.py(108) : model_params{'embedding_dim': 128, 'sqrt_embedding_dim': 11.313708498984761, 'encoder_layer_num': 6, 'qkv_dim': 16, 'head_num': 8, 'logit_clipping': 10, 'ff_hidden_dim': 512, 'eval_type': 'argmax', 'norm': 'batch_no_track'}\n",
      "[2024-04-01 11:04:29] test.py(108) : tester_params{'use_cuda': True, 'cuda_device_num': 0, 'seed': 2024, 'model_load': {'path': 'result/maml_250000checkpts', 'epoch': 250000}, 'test_episodes': 1, 'test_batch_size': 1, 'augmentation_enable': True, 'test_robustness': False, 'aug_factor': 8, 'aug_batch_size': 1, 'test_set_path': '../../data/CVRP/dataset/Vrp-Set-B/B-n43', 'test_set_opt_sol_path': '../../data/CVRP/dataset/Vrp-Set-B/B-n43-sol', 'test_set_name': 'A-n33'}\n",
      "[2024-04-01 11:04:29] test.py(108) : fine_tune_params{'enable': False, 'fine_tune_episodes': 1000, 'k': 10, 'fine_tune_batch_size': 10, 'augmentation_enable': True, 'optimizer': {'lr': 1e-05, 'weight_decay': 1e-06}}\n",
      "[2024-04-01 11:04:29] test.py(108) : logger_params{'log_file': {'desc': 'test_cvrp', 'filename': 'log.txt', 'filepath': './result/20240401_110428_test_cvrp'}}\n"
     ]
    },
    {
     "name": "stderr",
     "output_type": "stream",
     "text": [
      "/home/xunj/miniconda3/lib/python3.11/site-packages/torch/__init__.py:614: UserWarning: torch.set_default_tensor_type() is deprecated as of PyTorch 2.1, please use torch.set_default_dtype() and torch.set_default_device() as alternatives. (Triggered internally at /opt/conda/conda-bld/pytorch_1699449183005/work/torch/csrc/tensor/python_tensor.cpp:451.)\n",
      "  _C._set_default_tensor_type(t)\n"
     ]
    },
    {
     "name": "stdout",
     "output_type": "stream",
     "text": [
      "['../../data/CVRP/dataset/Vrp-Set-B/B-n43/B-n43-k6.vrp']\n",
      "[2024-04-01 11:04:35] CVRPTester.py(84) : >> Model loaded from result/maml_250000checkpts/checkpoint-250000.pt\n",
      "[2024-04-01 11:04:37] CVRPTester.py(225) : episode   1/  1, Elapsed[0.03m], Remain[0.00m], sol:0.742, score:0.899, aug_score:0.870\n",
      "[2024-04-01 11:04:37] CVRPTester.py(231) :  *** Test Done *** \n",
      "[2024-04-01 11:04:37] CVRPTester.py(232) :  NO-AUG SCORE: 0.8994, Gap: 21.2170 \n",
      "[2024-04-01 11:04:37] CVRPTester.py(233) :  AUGMENTATION SCORE: 0.8700, Gap: 17.2486 \n",
      "0.899 (21.217%)\n",
      "0.870 (17.249%)\n",
      ">> Evaluation on ../../data/CVRP/dataset/Vrp-Set-B/B-n43 finished within 1.70s\n",
      ">> Save final results to res/B-n43\n",
      "Test on \" ../../data/CVRP/dataset/Vrp-Set-B/B-n43 \" Success\n",
      "-----------------------------------------------------------------------------------------------------------------\n",
      "[2024-04-01 11:04:40] test.py(106) : DEBUG_MODE: False\n",
      "[2024-04-01 11:04:40] test.py(107) : USE_CUDA: True, CUDA_DEVICE_NUM: 0\n",
      "[2024-04-01 11:04:40] test.py(108) : env_params{'problem_size': 200, 'pomo_size': 200}\n",
      "[2024-04-01 11:04:40] test.py(108) : model_params{'embedding_dim': 128, 'sqrt_embedding_dim': 11.313708498984761, 'encoder_layer_num': 6, 'qkv_dim': 16, 'head_num': 8, 'logit_clipping': 10, 'ff_hidden_dim': 512, 'eval_type': 'argmax', 'norm': 'batch_no_track'}\n",
      "[2024-04-01 11:04:40] test.py(108) : tester_params{'use_cuda': True, 'cuda_device_num': 0, 'seed': 2024, 'model_load': {'path': 'result/maml_250000checkpts', 'epoch': 250000}, 'test_episodes': 1, 'test_batch_size': 1, 'augmentation_enable': True, 'test_robustness': False, 'aug_factor': 8, 'aug_batch_size': 1, 'test_set_path': '../../data/CVRP/dataset/Vrp-Set-B/B-n44', 'test_set_opt_sol_path': '../../data/CVRP/dataset/Vrp-Set-B/B-n44-sol', 'test_set_name': 'A-n33'}\n",
      "[2024-04-01 11:04:40] test.py(108) : fine_tune_params{'enable': False, 'fine_tune_episodes': 1000, 'k': 10, 'fine_tune_batch_size': 10, 'augmentation_enable': True, 'optimizer': {'lr': 1e-05, 'weight_decay': 1e-06}}\n",
      "[2024-04-01 11:04:40] test.py(108) : logger_params{'log_file': {'desc': 'test_cvrp', 'filename': 'log.txt', 'filepath': './result/20240401_110439_test_cvrp'}}\n"
     ]
    },
    {
     "name": "stderr",
     "output_type": "stream",
     "text": [
      "/home/xunj/miniconda3/lib/python3.11/site-packages/torch/__init__.py:614: UserWarning: torch.set_default_tensor_type() is deprecated as of PyTorch 2.1, please use torch.set_default_dtype() and torch.set_default_device() as alternatives. (Triggered internally at /opt/conda/conda-bld/pytorch_1699449183005/work/torch/csrc/tensor/python_tensor.cpp:451.)\n",
      "  _C._set_default_tensor_type(t)\n"
     ]
    },
    {
     "name": "stdout",
     "output_type": "stream",
     "text": [
      "['../../data/CVRP/dataset/Vrp-Set-B/B-n44/B-n44-k7.vrp']\n",
      "[2024-04-01 11:04:46] CVRPTester.py(84) : >> Model loaded from result/maml_250000checkpts/checkpoint-250000.pt\n",
      "[2024-04-01 11:04:48] CVRPTester.py(225) : episode   1/  1, Elapsed[0.03m], Remain[0.00m], sol:0.909, score:0.969, aug_score:0.963\n",
      "[2024-04-01 11:04:48] CVRPTester.py(231) :  *** Test Done *** \n",
      "[2024-04-01 11:04:48] CVRPTester.py(232) :  NO-AUG SCORE: 0.9688, Gap: 6.5784 \n",
      "[2024-04-01 11:04:48] CVRPTester.py(233) :  AUGMENTATION SCORE: 0.9629, Gap: 5.9252 \n",
      "0.969 (6.578%)\n",
      "0.963 (5.925%)\n",
      ">> Evaluation on ../../data/CVRP/dataset/Vrp-Set-B/B-n44 finished within 1.55s\n",
      ">> Save final results to res/B-n44\n",
      "Test on \" ../../data/CVRP/dataset/Vrp-Set-B/B-n44 \" Success\n",
      "-----------------------------------------------------------------------------------------------------------------\n",
      "[2024-04-01 11:04:51] test.py(106) : DEBUG_MODE: False\n",
      "[2024-04-01 11:04:51] test.py(107) : USE_CUDA: True, CUDA_DEVICE_NUM: 0\n",
      "[2024-04-01 11:04:51] test.py(108) : env_params{'problem_size': 200, 'pomo_size': 200}\n",
      "[2024-04-01 11:04:51] test.py(108) : model_params{'embedding_dim': 128, 'sqrt_embedding_dim': 11.313708498984761, 'encoder_layer_num': 6, 'qkv_dim': 16, 'head_num': 8, 'logit_clipping': 10, 'ff_hidden_dim': 512, 'eval_type': 'argmax', 'norm': 'batch_no_track'}\n",
      "[2024-04-01 11:04:51] test.py(108) : tester_params{'use_cuda': True, 'cuda_device_num': 0, 'seed': 2024, 'model_load': {'path': 'result/maml_250000checkpts', 'epoch': 250000}, 'test_episodes': 2, 'test_batch_size': 1, 'augmentation_enable': True, 'test_robustness': False, 'aug_factor': 8, 'aug_batch_size': 1, 'test_set_path': '../../data/CVRP/dataset/Vrp-Set-B/B-n45', 'test_set_opt_sol_path': '../../data/CVRP/dataset/Vrp-Set-B/B-n45-sol', 'test_set_name': 'A-n33'}\n",
      "[2024-04-01 11:04:51] test.py(108) : fine_tune_params{'enable': False, 'fine_tune_episodes': 1000, 'k': 10, 'fine_tune_batch_size': 10, 'augmentation_enable': True, 'optimizer': {'lr': 1e-05, 'weight_decay': 1e-06}}\n",
      "[2024-04-01 11:04:51] test.py(108) : logger_params{'log_file': {'desc': 'test_cvrp', 'filename': 'log.txt', 'filepath': './result/20240401_110450_test_cvrp'}}\n"
     ]
    },
    {
     "name": "stderr",
     "output_type": "stream",
     "text": [
      "/home/xunj/miniconda3/lib/python3.11/site-packages/torch/__init__.py:614: UserWarning: torch.set_default_tensor_type() is deprecated as of PyTorch 2.1, please use torch.set_default_dtype() and torch.set_default_device() as alternatives. (Triggered internally at /opt/conda/conda-bld/pytorch_1699449183005/work/torch/csrc/tensor/python_tensor.cpp:451.)\n",
      "  _C._set_default_tensor_type(t)\n"
     ]
    },
    {
     "name": "stdout",
     "output_type": "stream",
     "text": [
      "['../../data/CVRP/dataset/Vrp-Set-B/B-n45/B-n45-k5.vrp', '../../data/CVRP/dataset/Vrp-Set-B/B-n45/B-n45-k6.vrp']\n",
      "[2024-04-01 11:04:57] CVRPTester.py(84) : >> Model loaded from result/maml_250000checkpts/checkpoint-250000.pt\n",
      "[2024-04-01 11:04:58] CVRPTester.py(225) : episode   1/  2, Elapsed[0.03m], Remain[0.03m], sol:0.751, score:0.876, aug_score:0.818\n",
      "[2024-04-01 11:04:58] CVRPTester.py(225) : episode   2/  2, Elapsed[0.03m], Remain[0.00m], sol:0.678, score:0.741, aug_score:0.741\n",
      "[2024-04-01 11:04:58] CVRPTester.py(231) :  *** Test Done *** \n",
      "[2024-04-01 11:04:58] CVRPTester.py(232) :  NO-AUG SCORE: 0.8087, Gap: 12.9975 \n",
      "[2024-04-01 11:04:58] CVRPTester.py(233) :  AUGMENTATION SCORE: 0.7794, Gap: 9.0960 \n",
      "0.809 (12.998%)\n",
      "0.779 (9.096%)\n",
      ">> Evaluation on ../../data/CVRP/dataset/Vrp-Set-B/B-n45 finished within 1.61s\n",
      ">> Save final results to res/B-n45\n",
      "Test on \" ../../data/CVRP/dataset/Vrp-Set-B/B-n45 \" Success\n",
      "-----------------------------------------------------------------------------------------------------------------\n",
      "[2024-04-01 11:05:02] test.py(106) : DEBUG_MODE: False\n",
      "[2024-04-01 11:05:02] test.py(107) : USE_CUDA: True, CUDA_DEVICE_NUM: 0\n",
      "[2024-04-01 11:05:02] test.py(108) : env_params{'problem_size': 200, 'pomo_size': 200}\n",
      "[2024-04-01 11:05:02] test.py(108) : model_params{'embedding_dim': 128, 'sqrt_embedding_dim': 11.313708498984761, 'encoder_layer_num': 6, 'qkv_dim': 16, 'head_num': 8, 'logit_clipping': 10, 'ff_hidden_dim': 512, 'eval_type': 'argmax', 'norm': 'batch_no_track'}\n",
      "[2024-04-01 11:05:02] test.py(108) : tester_params{'use_cuda': True, 'cuda_device_num': 0, 'seed': 2024, 'model_load': {'path': 'result/maml_250000checkpts', 'epoch': 250000}, 'test_episodes': 2, 'test_batch_size': 1, 'augmentation_enable': True, 'test_robustness': False, 'aug_factor': 8, 'aug_batch_size': 1, 'test_set_path': '../../data/CVRP/dataset/Vrp-Set-B/B-n50', 'test_set_opt_sol_path': '../../data/CVRP/dataset/Vrp-Set-B/B-n50-sol', 'test_set_name': 'A-n33'}\n",
      "[2024-04-01 11:05:02] test.py(108) : fine_tune_params{'enable': False, 'fine_tune_episodes': 1000, 'k': 10, 'fine_tune_batch_size': 10, 'augmentation_enable': True, 'optimizer': {'lr': 1e-05, 'weight_decay': 1e-06}}\n",
      "[2024-04-01 11:05:02] test.py(108) : logger_params{'log_file': {'desc': 'test_cvrp', 'filename': 'log.txt', 'filepath': './result/20240401_110501_test_cvrp'}}\n"
     ]
    },
    {
     "name": "stderr",
     "output_type": "stream",
     "text": [
      "/home/xunj/miniconda3/lib/python3.11/site-packages/torch/__init__.py:614: UserWarning: torch.set_default_tensor_type() is deprecated as of PyTorch 2.1, please use torch.set_default_dtype() and torch.set_default_device() as alternatives. (Triggered internally at /opt/conda/conda-bld/pytorch_1699449183005/work/torch/csrc/tensor/python_tensor.cpp:451.)\n",
      "  _C._set_default_tensor_type(t)\n"
     ]
    },
    {
     "name": "stdout",
     "output_type": "stream",
     "text": [
      "['../../data/CVRP/dataset/Vrp-Set-B/B-n50/B-n50-k7.vrp', '../../data/CVRP/dataset/Vrp-Set-B/B-n50/B-n50-k8.vrp']\n",
      "[2024-04-01 11:05:08] CVRPTester.py(84) : >> Model loaded from result/maml_250000checkpts/checkpoint-250000.pt\n",
      "[2024-04-01 11:05:09] CVRPTester.py(225) : episode   1/  2, Elapsed[0.03m], Remain[0.03m], sol:0.741, score:0.934, aug_score:0.825\n",
      "[2024-04-01 11:05:10] CVRPTester.py(225) : episode   2/  2, Elapsed[0.03m], Remain[0.00m], sol:1.312, score:1.373, aug_score:1.358\n",
      "[2024-04-01 11:05:10] CVRPTester.py(231) :  *** Test Done *** \n",
      "[2024-04-01 11:05:10] CVRPTester.py(232) :  NO-AUG SCORE: 1.1535, Gap: 15.3379 \n",
      "[2024-04-01 11:05:10] CVRPTester.py(233) :  AUGMENTATION SCORE: 1.0914, Gap: 7.4097 \n",
      "1.153 (15.338%)\n",
      "1.091 (7.410%)\n",
      ">> Evaluation on ../../data/CVRP/dataset/Vrp-Set-B/B-n50 finished within 1.67s\n",
      ">> Save final results to res/B-n50\n",
      "Test on \" ../../data/CVRP/dataset/Vrp-Set-B/B-n50 \" Success\n",
      "-----------------------------------------------------------------------------------------------------------------\n",
      "[2024-04-01 11:05:13] test.py(106) : DEBUG_MODE: False\n",
      "[2024-04-01 11:05:13] test.py(107) : USE_CUDA: True, CUDA_DEVICE_NUM: 0\n",
      "[2024-04-01 11:05:13] test.py(108) : env_params{'problem_size': 200, 'pomo_size': 200}\n",
      "[2024-04-01 11:05:13] test.py(108) : model_params{'embedding_dim': 128, 'sqrt_embedding_dim': 11.313708498984761, 'encoder_layer_num': 6, 'qkv_dim': 16, 'head_num': 8, 'logit_clipping': 10, 'ff_hidden_dim': 512, 'eval_type': 'argmax', 'norm': 'batch_no_track'}\n",
      "[2024-04-01 11:05:13] test.py(108) : tester_params{'use_cuda': True, 'cuda_device_num': 0, 'seed': 2024, 'model_load': {'path': 'result/maml_250000checkpts', 'epoch': 250000}, 'test_episodes': 1, 'test_batch_size': 1, 'augmentation_enable': True, 'test_robustness': False, 'aug_factor': 8, 'aug_batch_size': 1, 'test_set_path': '../../data/CVRP/dataset/Vrp-Set-B/B-n51', 'test_set_opt_sol_path': '../../data/CVRP/dataset/Vrp-Set-B/B-n51-sol', 'test_set_name': 'A-n33'}\n",
      "[2024-04-01 11:05:13] test.py(108) : fine_tune_params{'enable': False, 'fine_tune_episodes': 1000, 'k': 10, 'fine_tune_batch_size': 10, 'augmentation_enable': True, 'optimizer': {'lr': 1e-05, 'weight_decay': 1e-06}}\n",
      "[2024-04-01 11:05:13] test.py(108) : logger_params{'log_file': {'desc': 'test_cvrp', 'filename': 'log.txt', 'filepath': './result/20240401_110512_test_cvrp'}}\n"
     ]
    },
    {
     "name": "stderr",
     "output_type": "stream",
     "text": [
      "/home/xunj/miniconda3/lib/python3.11/site-packages/torch/__init__.py:614: UserWarning: torch.set_default_tensor_type() is deprecated as of PyTorch 2.1, please use torch.set_default_dtype() and torch.set_default_device() as alternatives. (Triggered internally at /opt/conda/conda-bld/pytorch_1699449183005/work/torch/csrc/tensor/python_tensor.cpp:451.)\n",
      "  _C._set_default_tensor_type(t)\n"
     ]
    },
    {
     "name": "stdout",
     "output_type": "stream",
     "text": [
      "['../../data/CVRP/dataset/Vrp-Set-B/B-n51/B-n51-k7.vrp']\n",
      "[2024-04-01 11:05:19] CVRPTester.py(84) : >> Model loaded from result/maml_250000checkpts/checkpoint-250000.pt\n",
      "[2024-04-01 11:05:21] CVRPTester.py(225) : episode   1/  1, Elapsed[0.03m], Remain[0.00m], sol:1.032, score:1.130, aug_score:1.078\n",
      "[2024-04-01 11:05:21] CVRPTester.py(231) :  *** Test Done *** \n",
      "[2024-04-01 11:05:21] CVRPTester.py(232) :  NO-AUG SCORE: 1.1300, Gap: 9.5003 \n",
      "[2024-04-01 11:05:21] CVRPTester.py(233) :  AUGMENTATION SCORE: 1.0782, Gap: 4.4774 \n",
      "1.130 (9.500%)\n",
      "1.078 (4.477%)\n",
      ">> Evaluation on ../../data/CVRP/dataset/Vrp-Set-B/B-n51 finished within 1.54s\n",
      ">> Save final results to res/B-n51\n",
      "Test on \" ../../data/CVRP/dataset/Vrp-Set-B/B-n51 \" Success\n",
      "-----------------------------------------------------------------------------------------------------------------\n",
      "[2024-04-01 11:05:24] test.py(106) : DEBUG_MODE: False\n",
      "[2024-04-01 11:05:24] test.py(107) : USE_CUDA: True, CUDA_DEVICE_NUM: 0\n",
      "[2024-04-01 11:05:24] test.py(108) : env_params{'problem_size': 200, 'pomo_size': 200}\n",
      "[2024-04-01 11:05:24] test.py(108) : model_params{'embedding_dim': 128, 'sqrt_embedding_dim': 11.313708498984761, 'encoder_layer_num': 6, 'qkv_dim': 16, 'head_num': 8, 'logit_clipping': 10, 'ff_hidden_dim': 512, 'eval_type': 'argmax', 'norm': 'batch_no_track'}\n",
      "[2024-04-01 11:05:24] test.py(108) : tester_params{'use_cuda': True, 'cuda_device_num': 0, 'seed': 2024, 'model_load': {'path': 'result/maml_250000checkpts', 'epoch': 250000}, 'test_episodes': 1, 'test_batch_size': 1, 'augmentation_enable': True, 'test_robustness': False, 'aug_factor': 8, 'aug_batch_size': 1, 'test_set_path': '../../data/CVRP/dataset/Vrp-Set-B/B-n52', 'test_set_opt_sol_path': '../../data/CVRP/dataset/Vrp-Set-B/B-n52-sol', 'test_set_name': 'A-n33'}\n",
      "[2024-04-01 11:05:24] test.py(108) : fine_tune_params{'enable': False, 'fine_tune_episodes': 1000, 'k': 10, 'fine_tune_batch_size': 10, 'augmentation_enable': True, 'optimizer': {'lr': 1e-05, 'weight_decay': 1e-06}}\n",
      "[2024-04-01 11:05:24] test.py(108) : logger_params{'log_file': {'desc': 'test_cvrp', 'filename': 'log.txt', 'filepath': './result/20240401_110524_test_cvrp'}}\n"
     ]
    },
    {
     "name": "stderr",
     "output_type": "stream",
     "text": [
      "/home/xunj/miniconda3/lib/python3.11/site-packages/torch/__init__.py:614: UserWarning: torch.set_default_tensor_type() is deprecated as of PyTorch 2.1, please use torch.set_default_dtype() and torch.set_default_device() as alternatives. (Triggered internally at /opt/conda/conda-bld/pytorch_1699449183005/work/torch/csrc/tensor/python_tensor.cpp:451.)\n",
      "  _C._set_default_tensor_type(t)\n"
     ]
    },
    {
     "name": "stdout",
     "output_type": "stream",
     "text": [
      "['../../data/CVRP/dataset/Vrp-Set-B/B-n52/B-n52-k7.vrp']\n",
      "[2024-04-01 11:05:30] CVRPTester.py(84) : >> Model loaded from result/maml_250000checkpts/checkpoint-250000.pt\n",
      "[2024-04-01 11:05:32] CVRPTester.py(225) : episode   1/  1, Elapsed[0.03m], Remain[0.00m], sol:0.747, score:0.861, aug_score:0.855\n",
      "[2024-04-01 11:05:32] CVRPTester.py(231) :  *** Test Done *** \n",
      "[2024-04-01 11:05:32] CVRPTester.py(232) :  NO-AUG SCORE: 0.8612, Gap: 15.2908 \n",
      "[2024-04-01 11:05:32] CVRPTester.py(233) :  AUGMENTATION SCORE: 0.8548, Gap: 14.4340 \n",
      "0.861 (15.291%)\n",
      "0.855 (14.434%)\n",
      ">> Evaluation on ../../data/CVRP/dataset/Vrp-Set-B/B-n52 finished within 1.66s\n",
      ">> Save final results to res/B-n52\n",
      "Test on \" ../../data/CVRP/dataset/Vrp-Set-B/B-n52 \" Success\n",
      "-----------------------------------------------------------------------------------------------------------------\n",
      "[2024-04-01 11:05:35] test.py(106) : DEBUG_MODE: False\n",
      "[2024-04-01 11:05:35] test.py(107) : USE_CUDA: True, CUDA_DEVICE_NUM: 0\n",
      "[2024-04-01 11:05:35] test.py(108) : env_params{'problem_size': 200, 'pomo_size': 200}\n",
      "[2024-04-01 11:05:35] test.py(108) : model_params{'embedding_dim': 128, 'sqrt_embedding_dim': 11.313708498984761, 'encoder_layer_num': 6, 'qkv_dim': 16, 'head_num': 8, 'logit_clipping': 10, 'ff_hidden_dim': 512, 'eval_type': 'argmax', 'norm': 'batch_no_track'}\n",
      "[2024-04-01 11:05:35] test.py(108) : tester_params{'use_cuda': True, 'cuda_device_num': 0, 'seed': 2024, 'model_load': {'path': 'result/maml_250000checkpts', 'epoch': 250000}, 'test_episodes': 1, 'test_batch_size': 1, 'augmentation_enable': True, 'test_robustness': False, 'aug_factor': 8, 'aug_batch_size': 1, 'test_set_path': '../../data/CVRP/dataset/Vrp-Set-B/B-n56', 'test_set_opt_sol_path': '../../data/CVRP/dataset/Vrp-Set-B/B-n56-sol', 'test_set_name': 'A-n33'}\n",
      "[2024-04-01 11:05:35] test.py(108) : fine_tune_params{'enable': False, 'fine_tune_episodes': 1000, 'k': 10, 'fine_tune_batch_size': 10, 'augmentation_enable': True, 'optimizer': {'lr': 1e-05, 'weight_decay': 1e-06}}\n",
      "[2024-04-01 11:05:35] test.py(108) : logger_params{'log_file': {'desc': 'test_cvrp', 'filename': 'log.txt', 'filepath': './result/20240401_110535_test_cvrp'}}\n"
     ]
    },
    {
     "name": "stderr",
     "output_type": "stream",
     "text": [
      "/home/xunj/miniconda3/lib/python3.11/site-packages/torch/__init__.py:614: UserWarning: torch.set_default_tensor_type() is deprecated as of PyTorch 2.1, please use torch.set_default_dtype() and torch.set_default_device() as alternatives. (Triggered internally at /opt/conda/conda-bld/pytorch_1699449183005/work/torch/csrc/tensor/python_tensor.cpp:451.)\n",
      "  _C._set_default_tensor_type(t)\n"
     ]
    },
    {
     "name": "stdout",
     "output_type": "stream",
     "text": [
      "['../../data/CVRP/dataset/Vrp-Set-B/B-n56/B-n56-k7.vrp']\n",
      "[2024-04-01 11:05:41] CVRPTester.py(84) : >> Model loaded from result/maml_250000checkpts/checkpoint-250000.pt\n",
      "[2024-04-01 11:05:43] CVRPTester.py(225) : episode   1/  1, Elapsed[0.03m], Remain[0.00m], sol:0.707, score:0.834, aug_score:0.802\n",
      "[2024-04-01 11:05:43] CVRPTester.py(231) :  *** Test Done *** \n",
      "[2024-04-01 11:05:43] CVRPTester.py(232) :  NO-AUG SCORE: 0.8335, Gap: 17.8965 \n",
      "[2024-04-01 11:05:43] CVRPTester.py(233) :  AUGMENTATION SCORE: 0.8024, Gap: 13.4974 \n",
      "0.834 (17.896%)\n",
      "0.802 (13.497%)\n",
      ">> Evaluation on ../../data/CVRP/dataset/Vrp-Set-B/B-n56 finished within 1.66s\n",
      ">> Save final results to res/B-n56\n",
      "Test on \" ../../data/CVRP/dataset/Vrp-Set-B/B-n56 \" Success\n",
      "-----------------------------------------------------------------------------------------------------------------\n",
      "[2024-04-01 11:05:46] test.py(106) : DEBUG_MODE: False\n",
      "[2024-04-01 11:05:46] test.py(107) : USE_CUDA: True, CUDA_DEVICE_NUM: 0\n",
      "[2024-04-01 11:05:46] test.py(108) : env_params{'problem_size': 200, 'pomo_size': 200}\n",
      "[2024-04-01 11:05:46] test.py(108) : model_params{'embedding_dim': 128, 'sqrt_embedding_dim': 11.313708498984761, 'encoder_layer_num': 6, 'qkv_dim': 16, 'head_num': 8, 'logit_clipping': 10, 'ff_hidden_dim': 512, 'eval_type': 'argmax', 'norm': 'batch_no_track'}\n",
      "[2024-04-01 11:05:46] test.py(108) : tester_params{'use_cuda': True, 'cuda_device_num': 0, 'seed': 2024, 'model_load': {'path': 'result/maml_250000checkpts', 'epoch': 250000}, 'test_episodes': 2, 'test_batch_size': 1, 'augmentation_enable': True, 'test_robustness': False, 'aug_factor': 8, 'aug_batch_size': 1, 'test_set_path': '../../data/CVRP/dataset/Vrp-Set-B/B-n57', 'test_set_opt_sol_path': '../../data/CVRP/dataset/Vrp-Set-B/B-n57-sol', 'test_set_name': 'A-n33'}\n",
      "[2024-04-01 11:05:46] test.py(108) : fine_tune_params{'enable': False, 'fine_tune_episodes': 1000, 'k': 10, 'fine_tune_batch_size': 10, 'augmentation_enable': True, 'optimizer': {'lr': 1e-05, 'weight_decay': 1e-06}}\n",
      "[2024-04-01 11:05:46] test.py(108) : logger_params{'log_file': {'desc': 'test_cvrp', 'filename': 'log.txt', 'filepath': './result/20240401_110546_test_cvrp'}}\n"
     ]
    },
    {
     "name": "stderr",
     "output_type": "stream",
     "text": [
      "/home/xunj/miniconda3/lib/python3.11/site-packages/torch/__init__.py:614: UserWarning: torch.set_default_tensor_type() is deprecated as of PyTorch 2.1, please use torch.set_default_dtype() and torch.set_default_device() as alternatives. (Triggered internally at /opt/conda/conda-bld/pytorch_1699449183005/work/torch/csrc/tensor/python_tensor.cpp:451.)\n",
      "  _C._set_default_tensor_type(t)\n"
     ]
    },
    {
     "name": "stdout",
     "output_type": "stream",
     "text": [
      "['../../data/CVRP/dataset/Vrp-Set-B/B-n57/B-n57-k7.vrp', '../../data/CVRP/dataset/Vrp-Set-B/B-n57/B-n57-k9.vrp']\n",
      "[2024-04-01 11:05:52] CVRPTester.py(84) : >> Model loaded from result/maml_250000checkpts/checkpoint-250000.pt\n",
      "[2024-04-01 11:05:54] CVRPTester.py(225) : episode   1/  2, Elapsed[0.03m], Remain[0.03m], sol:1.153, score:1.329, aug_score:1.256\n",
      "[2024-04-01 11:05:54] CVRPTester.py(225) : episode   2/  2, Elapsed[0.03m], Remain[0.00m], sol:1.598, score:1.717, aug_score:1.670\n",
      "[2024-04-01 11:05:54] CVRPTester.py(231) :  *** Test Done *** \n",
      "[2024-04-01 11:05:54] CVRPTester.py(232) :  NO-AUG SCORE: 1.5231, Gap: 11.3633 \n",
      "[2024-04-01 11:05:54] CVRPTester.py(233) :  AUGMENTATION SCORE: 1.4632, Gap: 6.7329 \n",
      "1.523 (11.363%)\n",
      "1.463 (6.733%)\n",
      ">> Evaluation on ../../data/CVRP/dataset/Vrp-Set-B/B-n57 finished within 1.85s\n",
      ">> Save final results to res/B-n57\n",
      "Test on \" ../../data/CVRP/dataset/Vrp-Set-B/B-n57 \" Success\n",
      "-----------------------------------------------------------------------------------------------------------------\n",
      "[2024-04-01 11:05:57] test.py(106) : DEBUG_MODE: False\n",
      "[2024-04-01 11:05:57] test.py(107) : USE_CUDA: True, CUDA_DEVICE_NUM: 0\n",
      "[2024-04-01 11:05:57] test.py(108) : env_params{'problem_size': 200, 'pomo_size': 200}\n",
      "[2024-04-01 11:05:57] test.py(108) : model_params{'embedding_dim': 128, 'sqrt_embedding_dim': 11.313708498984761, 'encoder_layer_num': 6, 'qkv_dim': 16, 'head_num': 8, 'logit_clipping': 10, 'ff_hidden_dim': 512, 'eval_type': 'argmax', 'norm': 'batch_no_track'}\n",
      "[2024-04-01 11:05:57] test.py(108) : tester_params{'use_cuda': True, 'cuda_device_num': 0, 'seed': 2024, 'model_load': {'path': 'result/maml_250000checkpts', 'epoch': 250000}, 'test_episodes': 1, 'test_batch_size': 1, 'augmentation_enable': True, 'test_robustness': False, 'aug_factor': 8, 'aug_batch_size': 1, 'test_set_path': '../../data/CVRP/dataset/Vrp-Set-B/B-n63', 'test_set_opt_sol_path': '../../data/CVRP/dataset/Vrp-Set-B/B-n63-sol', 'test_set_name': 'A-n33'}\n",
      "[2024-04-01 11:05:57] test.py(108) : fine_tune_params{'enable': False, 'fine_tune_episodes': 1000, 'k': 10, 'fine_tune_batch_size': 10, 'augmentation_enable': True, 'optimizer': {'lr': 1e-05, 'weight_decay': 1e-06}}\n",
      "[2024-04-01 11:05:57] test.py(108) : logger_params{'log_file': {'desc': 'test_cvrp', 'filename': 'log.txt', 'filepath': './result/20240401_110557_test_cvrp'}}\n"
     ]
    },
    {
     "name": "stderr",
     "output_type": "stream",
     "text": [
      "/home/xunj/miniconda3/lib/python3.11/site-packages/torch/__init__.py:614: UserWarning: torch.set_default_tensor_type() is deprecated as of PyTorch 2.1, please use torch.set_default_dtype() and torch.set_default_device() as alternatives. (Triggered internally at /opt/conda/conda-bld/pytorch_1699449183005/work/torch/csrc/tensor/python_tensor.cpp:451.)\n",
      "  _C._set_default_tensor_type(t)\n"
     ]
    },
    {
     "name": "stdout",
     "output_type": "stream",
     "text": [
      "['../../data/CVRP/dataset/Vrp-Set-B/B-n63/B-n63-k10.vrp']\n",
      "[2024-04-01 11:06:03] CVRPTester.py(84) : >> Model loaded from result/maml_250000checkpts/checkpoint-250000.pt\n",
      "[2024-04-01 11:06:05] CVRPTester.py(225) : episode   1/  1, Elapsed[0.03m], Remain[0.00m], sol:1.496, score:1.903, aug_score:1.697\n",
      "[2024-04-01 11:06:05] CVRPTester.py(231) :  *** Test Done *** \n",
      "[2024-04-01 11:06:05] CVRPTester.py(232) :  NO-AUG SCORE: 1.9032, Gap: 27.2174 \n",
      "[2024-04-01 11:06:05] CVRPTester.py(233) :  AUGMENTATION SCORE: 1.6970, Gap: 13.4345 \n",
      "1.903 (27.217%)\n",
      "1.697 (13.435%)\n",
      ">> Evaluation on ../../data/CVRP/dataset/Vrp-Set-B/B-n63 finished within 1.55s\n",
      ">> Save final results to res/B-n63\n",
      "Test on \" ../../data/CVRP/dataset/Vrp-Set-B/B-n63 \" Success\n",
      "-----------------------------------------------------------------------------------------------------------------\n",
      "[2024-04-01 11:06:08] test.py(106) : DEBUG_MODE: False\n",
      "[2024-04-01 11:06:08] test.py(107) : USE_CUDA: True, CUDA_DEVICE_NUM: 0\n",
      "[2024-04-01 11:06:08] test.py(108) : env_params{'problem_size': 200, 'pomo_size': 200}\n",
      "[2024-04-01 11:06:08] test.py(108) : model_params{'embedding_dim': 128, 'sqrt_embedding_dim': 11.313708498984761, 'encoder_layer_num': 6, 'qkv_dim': 16, 'head_num': 8, 'logit_clipping': 10, 'ff_hidden_dim': 512, 'eval_type': 'argmax', 'norm': 'batch_no_track'}\n",
      "[2024-04-01 11:06:08] test.py(108) : tester_params{'use_cuda': True, 'cuda_device_num': 0, 'seed': 2024, 'model_load': {'path': 'result/maml_250000checkpts', 'epoch': 250000}, 'test_episodes': 1, 'test_batch_size': 1, 'augmentation_enable': True, 'test_robustness': False, 'aug_factor': 8, 'aug_batch_size': 1, 'test_set_path': '../../data/CVRP/dataset/Vrp-Set-B/B-n64', 'test_set_opt_sol_path': '../../data/CVRP/dataset/Vrp-Set-B/B-n64-sol', 'test_set_name': 'A-n33'}\n",
      "[2024-04-01 11:06:08] test.py(108) : fine_tune_params{'enable': False, 'fine_tune_episodes': 1000, 'k': 10, 'fine_tune_batch_size': 10, 'augmentation_enable': True, 'optimizer': {'lr': 1e-05, 'weight_decay': 1e-06}}\n",
      "[2024-04-01 11:06:08] test.py(108) : logger_params{'log_file': {'desc': 'test_cvrp', 'filename': 'log.txt', 'filepath': './result/20240401_110608_test_cvrp'}}\n"
     ]
    },
    {
     "name": "stderr",
     "output_type": "stream",
     "text": [
      "/home/xunj/miniconda3/lib/python3.11/site-packages/torch/__init__.py:614: UserWarning: torch.set_default_tensor_type() is deprecated as of PyTorch 2.1, please use torch.set_default_dtype() and torch.set_default_device() as alternatives. (Triggered internally at /opt/conda/conda-bld/pytorch_1699449183005/work/torch/csrc/tensor/python_tensor.cpp:451.)\n",
      "  _C._set_default_tensor_type(t)\n"
     ]
    },
    {
     "name": "stdout",
     "output_type": "stream",
     "text": [
      "['../../data/CVRP/dataset/Vrp-Set-B/B-n64/B-n64-k9.vrp']\n",
      "[2024-04-01 11:06:14] CVRPTester.py(84) : >> Model loaded from result/maml_250000checkpts/checkpoint-250000.pt\n",
      "[2024-04-01 11:06:16] CVRPTester.py(225) : episode   1/  1, Elapsed[0.03m], Remain[0.00m], sol:0.861, score:0.996, aug_score:0.961\n",
      "[2024-04-01 11:06:16] CVRPTester.py(231) :  *** Test Done *** \n",
      "[2024-04-01 11:06:16] CVRPTester.py(232) :  NO-AUG SCORE: 0.9963, Gap: 15.7113 \n",
      "[2024-04-01 11:06:16] CVRPTester.py(233) :  AUGMENTATION SCORE: 0.9607, Gap: 11.5778 \n",
      "0.996 (15.711%)\n",
      "0.961 (11.578%)\n",
      ">> Evaluation on ../../data/CVRP/dataset/Vrp-Set-B/B-n64 finished within 1.58s\n",
      ">> Save final results to res/B-n64\n",
      "Test on \" ../../data/CVRP/dataset/Vrp-Set-B/B-n64 \" Success\n",
      "-----------------------------------------------------------------------------------------------------------------\n",
      "[2024-04-01 11:06:19] test.py(106) : DEBUG_MODE: False\n",
      "[2024-04-01 11:06:19] test.py(107) : USE_CUDA: True, CUDA_DEVICE_NUM: 0\n",
      "[2024-04-01 11:06:19] test.py(108) : env_params{'problem_size': 200, 'pomo_size': 200}\n",
      "[2024-04-01 11:06:19] test.py(108) : model_params{'embedding_dim': 128, 'sqrt_embedding_dim': 11.313708498984761, 'encoder_layer_num': 6, 'qkv_dim': 16, 'head_num': 8, 'logit_clipping': 10, 'ff_hidden_dim': 512, 'eval_type': 'argmax', 'norm': 'batch_no_track'}\n",
      "[2024-04-01 11:06:19] test.py(108) : tester_params{'use_cuda': True, 'cuda_device_num': 0, 'seed': 2024, 'model_load': {'path': 'result/maml_250000checkpts', 'epoch': 250000}, 'test_episodes': 1, 'test_batch_size': 1, 'augmentation_enable': True, 'test_robustness': False, 'aug_factor': 8, 'aug_batch_size': 1, 'test_set_path': '../../data/CVRP/dataset/Vrp-Set-B/B-n66', 'test_set_opt_sol_path': '../../data/CVRP/dataset/Vrp-Set-B/B-n66-sol', 'test_set_name': 'A-n33'}\n",
      "[2024-04-01 11:06:19] test.py(108) : fine_tune_params{'enable': False, 'fine_tune_episodes': 1000, 'k': 10, 'fine_tune_batch_size': 10, 'augmentation_enable': True, 'optimizer': {'lr': 1e-05, 'weight_decay': 1e-06}}\n",
      "[2024-04-01 11:06:19] test.py(108) : logger_params{'log_file': {'desc': 'test_cvrp', 'filename': 'log.txt', 'filepath': './result/20240401_110619_test_cvrp'}}\n"
     ]
    },
    {
     "name": "stderr",
     "output_type": "stream",
     "text": [
      "/home/xunj/miniconda3/lib/python3.11/site-packages/torch/__init__.py:614: UserWarning: torch.set_default_tensor_type() is deprecated as of PyTorch 2.1, please use torch.set_default_dtype() and torch.set_default_device() as alternatives. (Triggered internally at /opt/conda/conda-bld/pytorch_1699449183005/work/torch/csrc/tensor/python_tensor.cpp:451.)\n",
      "  _C._set_default_tensor_type(t)\n"
     ]
    },
    {
     "name": "stdout",
     "output_type": "stream",
     "text": [
      "['../../data/CVRP/dataset/Vrp-Set-B/B-n66/B-n66-k9.vrp']\n",
      "[2024-04-01 11:06:26] CVRPTester.py(84) : >> Model loaded from result/maml_250000checkpts/checkpoint-250000.pt\n",
      "[2024-04-01 11:06:28] CVRPTester.py(225) : episode   1/  1, Elapsed[0.03m], Remain[0.00m], sol:1.316, score:1.474, aug_score:1.457\n",
      "[2024-04-01 11:06:28] CVRPTester.py(231) :  *** Test Done *** \n",
      "[2024-04-01 11:06:28] CVRPTester.py(232) :  NO-AUG SCORE: 1.4736, Gap: 11.9746 \n",
      "[2024-04-01 11:06:28] CVRPTester.py(233) :  AUGMENTATION SCORE: 1.4573, Gap: 10.7341 \n",
      "1.474 (11.975%)\n",
      "1.457 (10.734%)\n",
      ">> Evaluation on ../../data/CVRP/dataset/Vrp-Set-B/B-n66 finished within 1.71s\n",
      ">> Save final results to res/B-n66\n",
      "Test on \" ../../data/CVRP/dataset/Vrp-Set-B/B-n66 \" Success\n",
      "-----------------------------------------------------------------------------------------------------------------\n",
      "[2024-04-01 11:06:31] test.py(106) : DEBUG_MODE: False\n",
      "[2024-04-01 11:06:31] test.py(107) : USE_CUDA: True, CUDA_DEVICE_NUM: 0\n",
      "[2024-04-01 11:06:31] test.py(108) : env_params{'problem_size': 200, 'pomo_size': 200}\n",
      "[2024-04-01 11:06:31] test.py(108) : model_params{'embedding_dim': 128, 'sqrt_embedding_dim': 11.313708498984761, 'encoder_layer_num': 6, 'qkv_dim': 16, 'head_num': 8, 'logit_clipping': 10, 'ff_hidden_dim': 512, 'eval_type': 'argmax', 'norm': 'batch_no_track'}\n",
      "[2024-04-01 11:06:31] test.py(108) : tester_params{'use_cuda': True, 'cuda_device_num': 0, 'seed': 2024, 'model_load': {'path': 'result/maml_250000checkpts', 'epoch': 250000}, 'test_episodes': 1, 'test_batch_size': 1, 'augmentation_enable': True, 'test_robustness': False, 'aug_factor': 8, 'aug_batch_size': 1, 'test_set_path': '../../data/CVRP/dataset/Vrp-Set-B/B-n67', 'test_set_opt_sol_path': '../../data/CVRP/dataset/Vrp-Set-B/B-n67-sol', 'test_set_name': 'A-n33'}\n",
      "[2024-04-01 11:06:31] test.py(108) : fine_tune_params{'enable': False, 'fine_tune_episodes': 1000, 'k': 10, 'fine_tune_batch_size': 10, 'augmentation_enable': True, 'optimizer': {'lr': 1e-05, 'weight_decay': 1e-06}}\n",
      "[2024-04-01 11:06:31] test.py(108) : logger_params{'log_file': {'desc': 'test_cvrp', 'filename': 'log.txt', 'filepath': './result/20240401_110631_test_cvrp'}}\n"
     ]
    },
    {
     "name": "stderr",
     "output_type": "stream",
     "text": [
      "/home/xunj/miniconda3/lib/python3.11/site-packages/torch/__init__.py:614: UserWarning: torch.set_default_tensor_type() is deprecated as of PyTorch 2.1, please use torch.set_default_dtype() and torch.set_default_device() as alternatives. (Triggered internally at /opt/conda/conda-bld/pytorch_1699449183005/work/torch/csrc/tensor/python_tensor.cpp:451.)\n",
      "  _C._set_default_tensor_type(t)\n"
     ]
    },
    {
     "name": "stdout",
     "output_type": "stream",
     "text": [
      "['../../data/CVRP/dataset/Vrp-Set-B/B-n67/B-n67-k10.vrp']\n",
      "[2024-04-01 11:06:37] CVRPTester.py(84) : >> Model loaded from result/maml_250000checkpts/checkpoint-250000.pt\n",
      "[2024-04-01 11:06:39] CVRPTester.py(225) : episode   1/  1, Elapsed[0.03m], Remain[0.00m], sol:1.032, score:1.351, aug_score:1.170\n",
      "[2024-04-01 11:06:39] CVRPTester.py(231) :  *** Test Done *** \n",
      "[2024-04-01 11:06:39] CVRPTester.py(232) :  NO-AUG SCORE: 1.3514, Gap: 30.9486 \n",
      "[2024-04-01 11:06:39] CVRPTester.py(233) :  AUGMENTATION SCORE: 1.1704, Gap: 13.4128 \n",
      "1.351 (30.949%)\n",
      "1.170 (13.413%)\n",
      ">> Evaluation on ../../data/CVRP/dataset/Vrp-Set-B/B-n67 finished within 1.77s\n",
      ">> Save final results to res/B-n67\n",
      "Test on \" ../../data/CVRP/dataset/Vrp-Set-B/B-n67 \" Success\n",
      "-----------------------------------------------------------------------------------------------------------------\n",
      "[2024-04-01 11:06:43] test.py(106) : DEBUG_MODE: False\n",
      "[2024-04-01 11:06:43] test.py(107) : USE_CUDA: True, CUDA_DEVICE_NUM: 0\n",
      "[2024-04-01 11:06:43] test.py(108) : env_params{'problem_size': 200, 'pomo_size': 200}\n",
      "[2024-04-01 11:06:43] test.py(108) : model_params{'embedding_dim': 128, 'sqrt_embedding_dim': 11.313708498984761, 'encoder_layer_num': 6, 'qkv_dim': 16, 'head_num': 8, 'logit_clipping': 10, 'ff_hidden_dim': 512, 'eval_type': 'argmax', 'norm': 'batch_no_track'}\n",
      "[2024-04-01 11:06:43] test.py(108) : tester_params{'use_cuda': True, 'cuda_device_num': 0, 'seed': 2024, 'model_load': {'path': 'result/maml_250000checkpts', 'epoch': 250000}, 'test_episodes': 1, 'test_batch_size': 1, 'augmentation_enable': True, 'test_robustness': False, 'aug_factor': 8, 'aug_batch_size': 1, 'test_set_path': '../../data/CVRP/dataset/Vrp-Set-B/B-n68', 'test_set_opt_sol_path': '../../data/CVRP/dataset/Vrp-Set-B/B-n68-sol', 'test_set_name': 'A-n33'}\n",
      "[2024-04-01 11:06:43] test.py(108) : fine_tune_params{'enable': False, 'fine_tune_episodes': 1000, 'k': 10, 'fine_tune_batch_size': 10, 'augmentation_enable': True, 'optimizer': {'lr': 1e-05, 'weight_decay': 1e-06}}\n",
      "[2024-04-01 11:06:43] test.py(108) : logger_params{'log_file': {'desc': 'test_cvrp', 'filename': 'log.txt', 'filepath': './result/20240401_110642_test_cvrp'}}\n"
     ]
    },
    {
     "name": "stderr",
     "output_type": "stream",
     "text": [
      "/home/xunj/miniconda3/lib/python3.11/site-packages/torch/__init__.py:614: UserWarning: torch.set_default_tensor_type() is deprecated as of PyTorch 2.1, please use torch.set_default_dtype() and torch.set_default_device() as alternatives. (Triggered internally at /opt/conda/conda-bld/pytorch_1699449183005/work/torch/csrc/tensor/python_tensor.cpp:451.)\n",
      "  _C._set_default_tensor_type(t)\n"
     ]
    },
    {
     "name": "stdout",
     "output_type": "stream",
     "text": [
      "['../../data/CVRP/dataset/Vrp-Set-B/B-n68/B-n68-k9.vrp']\n",
      "[2024-04-01 11:06:50] CVRPTester.py(84) : >> Model loaded from result/maml_250000checkpts/checkpoint-250000.pt\n",
      "[2024-04-01 11:06:52] CVRPTester.py(225) : episode   1/  1, Elapsed[0.03m], Remain[0.00m], sol:1.272, score:1.460, aug_score:1.378\n",
      "[2024-04-01 11:06:52] CVRPTester.py(231) :  *** Test Done *** \n",
      "[2024-04-01 11:06:52] CVRPTester.py(232) :  NO-AUG SCORE: 1.4598, Gap: 14.7609 \n",
      "[2024-04-01 11:06:52] CVRPTester.py(233) :  AUGMENTATION SCORE: 1.3782, Gap: 8.3462 \n",
      "1.460 (14.761%)\n",
      "1.378 (8.346%)\n",
      ">> Evaluation on ../../data/CVRP/dataset/Vrp-Set-B/B-n68 finished within 2.04s\n",
      ">> Save final results to res/B-n68\n",
      "Test on \" ../../data/CVRP/dataset/Vrp-Set-B/B-n68 \" Success\n",
      "-----------------------------------------------------------------------------------------------------------------\n",
      "[2024-04-01 11:06:56] test.py(106) : DEBUG_MODE: False\n",
      "[2024-04-01 11:06:56] test.py(107) : USE_CUDA: True, CUDA_DEVICE_NUM: 0\n",
      "[2024-04-01 11:06:56] test.py(108) : env_params{'problem_size': 200, 'pomo_size': 200}\n",
      "[2024-04-01 11:06:56] test.py(108) : model_params{'embedding_dim': 128, 'sqrt_embedding_dim': 11.313708498984761, 'encoder_layer_num': 6, 'qkv_dim': 16, 'head_num': 8, 'logit_clipping': 10, 'ff_hidden_dim': 512, 'eval_type': 'argmax', 'norm': 'batch_no_track'}\n",
      "[2024-04-01 11:06:56] test.py(108) : tester_params{'use_cuda': True, 'cuda_device_num': 0, 'seed': 2024, 'model_load': {'path': 'result/maml_250000checkpts', 'epoch': 250000}, 'test_episodes': 1, 'test_batch_size': 1, 'augmentation_enable': True, 'test_robustness': False, 'aug_factor': 8, 'aug_batch_size': 1, 'test_set_path': '../../data/CVRP/dataset/Vrp-Set-B/B-n78', 'test_set_opt_sol_path': '../../data/CVRP/dataset/Vrp-Set-B/B-n78-sol', 'test_set_name': 'A-n33'}\n",
      "[2024-04-01 11:06:56] test.py(108) : fine_tune_params{'enable': False, 'fine_tune_episodes': 1000, 'k': 10, 'fine_tune_batch_size': 10, 'augmentation_enable': True, 'optimizer': {'lr': 1e-05, 'weight_decay': 1e-06}}\n",
      "[2024-04-01 11:06:56] test.py(108) : logger_params{'log_file': {'desc': 'test_cvrp', 'filename': 'log.txt', 'filepath': './result/20240401_110655_test_cvrp'}}\n"
     ]
    },
    {
     "name": "stderr",
     "output_type": "stream",
     "text": [
      "/home/xunj/miniconda3/lib/python3.11/site-packages/torch/__init__.py:614: UserWarning: torch.set_default_tensor_type() is deprecated as of PyTorch 2.1, please use torch.set_default_dtype() and torch.set_default_device() as alternatives. (Triggered internally at /opt/conda/conda-bld/pytorch_1699449183005/work/torch/csrc/tensor/python_tensor.cpp:451.)\n",
      "  _C._set_default_tensor_type(t)\n"
     ]
    },
    {
     "name": "stdout",
     "output_type": "stream",
     "text": [
      "['../../data/CVRP/dataset/Vrp-Set-B/B-n78/B-n78-k10.vrp']\n",
      "[2024-04-01 11:07:02] CVRPTester.py(84) : >> Model loaded from result/maml_250000checkpts/checkpoint-250000.pt\n",
      "[2024-04-01 11:07:04] CVRPTester.py(225) : episode   1/  1, Elapsed[0.03m], Remain[0.00m], sol:1.221, score:1.440, aug_score:1.315\n",
      "[2024-04-01 11:07:04] CVRPTester.py(231) :  *** Test Done *** \n",
      "[2024-04-01 11:07:04] CVRPTester.py(232) :  NO-AUG SCORE: 1.4397, Gap: 17.9102 \n",
      "[2024-04-01 11:07:04] CVRPTester.py(233) :  AUGMENTATION SCORE: 1.3146, Gap: 7.6641 \n",
      "1.440 (17.910%)\n",
      "1.315 (7.664%)\n",
      ">> Evaluation on ../../data/CVRP/dataset/Vrp-Set-B/B-n78 finished within 1.70s\n",
      ">> Save final results to res/B-n78\n",
      "Test on \" ../../data/CVRP/dataset/Vrp-Set-B/B-n78 \" Success\n",
      "-----------------------------------------------------------------------------------------------------------------\n",
      "[2024-04-01 11:07:07] test.py(106) : DEBUG_MODE: False\n",
      "[2024-04-01 11:07:07] test.py(107) : USE_CUDA: True, CUDA_DEVICE_NUM: 0\n",
      "[2024-04-01 11:07:07] test.py(108) : env_params{'problem_size': 200, 'pomo_size': 200}\n",
      "[2024-04-01 11:07:07] test.py(108) : model_params{'embedding_dim': 128, 'sqrt_embedding_dim': 11.313708498984761, 'encoder_layer_num': 6, 'qkv_dim': 16, 'head_num': 8, 'logit_clipping': 10, 'ff_hidden_dim': 512, 'eval_type': 'argmax', 'norm': 'batch_no_track'}\n",
      "[2024-04-01 11:07:07] test.py(108) : tester_params{'use_cuda': True, 'cuda_device_num': 0, 'seed': 2024, 'model_load': {'path': 'result/maml_250000checkpts', 'epoch': 250000}, 'test_episodes': 4, 'test_batch_size': 1, 'augmentation_enable': True, 'test_robustness': False, 'aug_factor': 8, 'aug_batch_size': 1, 'test_set_path': '../../data/CVRP/dataset/Vrp-Set-CMT/CMT-n101', 'test_set_opt_sol_path': '../../data/CVRP/dataset/Vrp-Set-CMT/CMT-n101-sol', 'test_set_name': 'A-n33'}\n",
      "[2024-04-01 11:07:07] test.py(108) : fine_tune_params{'enable': False, 'fine_tune_episodes': 1000, 'k': 10, 'fine_tune_batch_size': 10, 'augmentation_enable': True, 'optimizer': {'lr': 1e-05, 'weight_decay': 1e-06}}\n",
      "[2024-04-01 11:07:07] test.py(108) : logger_params{'log_file': {'desc': 'test_cvrp', 'filename': 'log.txt', 'filepath': './result/20240401_110707_test_cvrp'}}\n"
     ]
    },
    {
     "name": "stderr",
     "output_type": "stream",
     "text": [
      "/home/xunj/miniconda3/lib/python3.11/site-packages/torch/__init__.py:614: UserWarning: torch.set_default_tensor_type() is deprecated as of PyTorch 2.1, please use torch.set_default_dtype() and torch.set_default_device() as alternatives. (Triggered internally at /opt/conda/conda-bld/pytorch_1699449183005/work/torch/csrc/tensor/python_tensor.cpp:451.)\n",
      "  _C._set_default_tensor_type(t)\n"
     ]
    },
    {
     "name": "stdout",
     "output_type": "stream",
     "text": [
      "['../../data/CVRP/dataset/Vrp-Set-CMT/CMT-n101/CMT12.vrp', '../../data/CVRP/dataset/Vrp-Set-CMT/CMT-n101/CMT14.vrp', '../../data/CVRP/dataset/Vrp-Set-CMT/CMT-n101/CMT3.vrp', '../../data/CVRP/dataset/Vrp-Set-CMT/CMT-n101/CMT8.vrp']\n",
      "[2024-04-01 11:07:13] CVRPTester.py(84) : >> Model loaded from result/maml_250000checkpts/checkpoint-250000.pt\n",
      "[2024-04-01 11:07:15] CVRPTester.py(225) : episode   1/  4, Elapsed[0.03m], Remain[0.08m], sol:0.820, score:1.009, aug_score:0.954\n",
      "[2024-04-01 11:07:15] CVRPTester.py(225) : episode   2/  4, Elapsed[0.03m], Remain[0.03m], sol:0.866, score:1.009, aug_score:0.954\n",
      "[2024-04-01 11:07:15] CVRPTester.py(225) : episode   3/  4, Elapsed[0.03m], Remain[0.01m], sol:0.826, score:1.252, aug_score:0.999\n",
      "[2024-04-01 11:07:15] CVRPTester.py(225) : episode   4/  4, Elapsed[0.03m], Remain[0.00m], sol:0.866, score:1.252, aug_score:0.999\n",
      "[2024-04-01 11:07:15] CVRPTester.py(231) :  *** Test Done *** \n",
      "[2024-04-01 11:07:15] CVRPTester.py(232) :  NO-AUG SCORE: 1.1304, Gap: 33.9141 \n",
      "[2024-04-01 11:07:15] CVRPTester.py(233) :  AUGMENTATION SCORE: 0.9765, Gap: 15.6964 \n",
      "1.130 (33.914%)\n",
      "0.976 (15.696%)\n",
      ">> Evaluation on ../../data/CVRP/dataset/Vrp-Set-CMT/CMT-n101 finished within 2.01s\n",
      ">> Save final results to res/CMT-n101\n",
      "Test on \" ../../data/CVRP/dataset/Vrp-Set-CMT/CMT-n101 \" Success\n",
      "-----------------------------------------------------------------------------------------------------------------\n",
      "[2024-04-01 11:07:18] test.py(106) : DEBUG_MODE: False\n",
      "[2024-04-01 11:07:18] test.py(107) : USE_CUDA: True, CUDA_DEVICE_NUM: 0\n",
      "[2024-04-01 11:07:18] test.py(108) : env_params{'problem_size': 200, 'pomo_size': 200}\n",
      "[2024-04-01 11:07:18] test.py(108) : model_params{'embedding_dim': 128, 'sqrt_embedding_dim': 11.313708498984761, 'encoder_layer_num': 6, 'qkv_dim': 16, 'head_num': 8, 'logit_clipping': 10, 'ff_hidden_dim': 512, 'eval_type': 'argmax', 'norm': 'batch_no_track'}\n",
      "[2024-04-01 11:07:18] test.py(108) : tester_params{'use_cuda': True, 'cuda_device_num': 0, 'seed': 2024, 'model_load': {'path': 'result/maml_250000checkpts', 'epoch': 250000}, 'test_episodes': 2, 'test_batch_size': 1, 'augmentation_enable': True, 'test_robustness': False, 'aug_factor': 8, 'aug_batch_size': 1, 'test_set_path': '../../data/CVRP/dataset/Vrp-Set-CMT/CMT-n121', 'test_set_opt_sol_path': '../../data/CVRP/dataset/Vrp-Set-CMT/CMT-n121-sol', 'test_set_name': 'A-n33'}\n",
      "[2024-04-01 11:07:18] test.py(108) : fine_tune_params{'enable': False, 'fine_tune_episodes': 1000, 'k': 10, 'fine_tune_batch_size': 10, 'augmentation_enable': True, 'optimizer': {'lr': 1e-05, 'weight_decay': 1e-06}}\n",
      "[2024-04-01 11:07:18] test.py(108) : logger_params{'log_file': {'desc': 'test_cvrp', 'filename': 'log.txt', 'filepath': './result/20240401_110718_test_cvrp'}}\n"
     ]
    },
    {
     "name": "stderr",
     "output_type": "stream",
     "text": [
      "/home/xunj/miniconda3/lib/python3.11/site-packages/torch/__init__.py:614: UserWarning: torch.set_default_tensor_type() is deprecated as of PyTorch 2.1, please use torch.set_default_dtype() and torch.set_default_device() as alternatives. (Triggered internally at /opt/conda/conda-bld/pytorch_1699449183005/work/torch/csrc/tensor/python_tensor.cpp:451.)\n",
      "  _C._set_default_tensor_type(t)\n"
     ]
    },
    {
     "name": "stdout",
     "output_type": "stream",
     "text": [
      "['../../data/CVRP/dataset/Vrp-Set-CMT/CMT-n121/CMT11.vrp', '../../data/CVRP/dataset/Vrp-Set-CMT/CMT-n121/CMT13.vrp']\n",
      "[2024-04-01 11:07:25] CVRPTester.py(84) : >> Model loaded from result/maml_250000checkpts/checkpoint-250000.pt\n",
      "[2024-04-01 11:07:26] CVRPTester.py(225) : episode   1/  2, Elapsed[0.03m], Remain[0.03m], sol:1.042, score:1.250, aug_score:1.150\n",
      "[2024-04-01 11:07:26] CVRPTester.py(225) : episode   2/  2, Elapsed[0.03m], Remain[0.00m], sol:1.541, score:1.250, aug_score:1.150\n",
      "[2024-04-01 11:07:26] CVRPTester.py(231) :  *** Test Done *** \n",
      "[2024-04-01 11:07:26] CVRPTester.py(232) :  NO-AUG SCORE: 1.2499, Gap: 0.5210 \n",
      "[2024-04-01 11:07:26] CVRPTester.py(233) :  AUGMENTATION SCORE: 1.1504, Gap: -7.4811 \n",
      "1.250 (0.521%)\n",
      "1.150 (-7.481%)\n",
      ">> Evaluation on ../../data/CVRP/dataset/Vrp-Set-CMT/CMT-n121 finished within 1.77s\n",
      ">> Save final results to res/CMT-n121\n",
      "Test on \" ../../data/CVRP/dataset/Vrp-Set-CMT/CMT-n121 \" Success\n",
      "-----------------------------------------------------------------------------------------------------------------\n",
      "[2024-04-01 11:07:30] test.py(106) : DEBUG_MODE: False\n",
      "[2024-04-01 11:07:30] test.py(107) : USE_CUDA: True, CUDA_DEVICE_NUM: 0\n",
      "[2024-04-01 11:07:30] test.py(108) : env_params{'problem_size': 200, 'pomo_size': 200}\n",
      "[2024-04-01 11:07:30] test.py(108) : model_params{'embedding_dim': 128, 'sqrt_embedding_dim': 11.313708498984761, 'encoder_layer_num': 6, 'qkv_dim': 16, 'head_num': 8, 'logit_clipping': 10, 'ff_hidden_dim': 512, 'eval_type': 'argmax', 'norm': 'batch_no_track'}\n",
      "[2024-04-01 11:07:30] test.py(108) : tester_params{'use_cuda': True, 'cuda_device_num': 0, 'seed': 2024, 'model_load': {'path': 'result/maml_250000checkpts', 'epoch': 250000}, 'test_episodes': 2, 'test_batch_size': 1, 'augmentation_enable': True, 'test_robustness': False, 'aug_factor': 8, 'aug_batch_size': 1, 'test_set_path': '../../data/CVRP/dataset/Vrp-Set-CMT/CMT-n151', 'test_set_opt_sol_path': '../../data/CVRP/dataset/Vrp-Set-CMT/CMT-n151-sol', 'test_set_name': 'A-n33'}\n",
      "[2024-04-01 11:07:30] test.py(108) : fine_tune_params{'enable': False, 'fine_tune_episodes': 1000, 'k': 10, 'fine_tune_batch_size': 10, 'augmentation_enable': True, 'optimizer': {'lr': 1e-05, 'weight_decay': 1e-06}}\n",
      "[2024-04-01 11:07:30] test.py(108) : logger_params{'log_file': {'desc': 'test_cvrp', 'filename': 'log.txt', 'filepath': './result/20240401_110729_test_cvrp'}}\n"
     ]
    },
    {
     "name": "stderr",
     "output_type": "stream",
     "text": [
      "/home/xunj/miniconda3/lib/python3.11/site-packages/torch/__init__.py:614: UserWarning: torch.set_default_tensor_type() is deprecated as of PyTorch 2.1, please use torch.set_default_dtype() and torch.set_default_device() as alternatives. (Triggered internally at /opt/conda/conda-bld/pytorch_1699449183005/work/torch/csrc/tensor/python_tensor.cpp:451.)\n",
      "  _C._set_default_tensor_type(t)\n"
     ]
    },
    {
     "name": "stdout",
     "output_type": "stream",
     "text": [
      "['../../data/CVRP/dataset/Vrp-Set-CMT/CMT-n151/CMT4.vrp', '../../data/CVRP/dataset/Vrp-Set-CMT/CMT-n151/CMT9.vrp']\n",
      "[2024-04-01 11:07:36] CVRPTester.py(84) : >> Model loaded from result/maml_250000checkpts/checkpoint-250000.pt\n",
      "[2024-04-01 11:07:38] CVRPTester.py(225) : episode   1/  2, Elapsed[0.03m], Remain[0.03m], sol:1.028, score:1.878, aug_score:1.441\n",
      "[2024-04-01 11:07:38] CVRPTester.py(225) : episode   2/  2, Elapsed[0.03m], Remain[0.00m], sol:1.163, score:1.878, aug_score:1.441\n",
      "[2024-04-01 11:07:38] CVRPTester.py(231) :  *** Test Done *** \n",
      "[2024-04-01 11:07:38] CVRPTester.py(232) :  NO-AUG SCORE: 1.8783, Gap: 72.1056 \n",
      "[2024-04-01 11:07:38] CVRPTester.py(233) :  AUGMENTATION SCORE: 1.4412, Gap: 32.0487 \n",
      "1.878 (72.106%)\n",
      "1.441 (32.049%)\n",
      ">> Evaluation on ../../data/CVRP/dataset/Vrp-Set-CMT/CMT-n151 finished within 1.98s\n",
      ">> Save final results to res/CMT-n151\n",
      "Test on \" ../../data/CVRP/dataset/Vrp-Set-CMT/CMT-n151 \" Success\n",
      "-----------------------------------------------------------------------------------------------------------------\n",
      "[2024-04-01 11:07:41] test.py(106) : DEBUG_MODE: False\n",
      "[2024-04-01 11:07:41] test.py(107) : USE_CUDA: True, CUDA_DEVICE_NUM: 0\n",
      "[2024-04-01 11:07:41] test.py(108) : env_params{'problem_size': 200, 'pomo_size': 200}\n",
      "[2024-04-01 11:07:41] test.py(108) : model_params{'embedding_dim': 128, 'sqrt_embedding_dim': 11.313708498984761, 'encoder_layer_num': 6, 'qkv_dim': 16, 'head_num': 8, 'logit_clipping': 10, 'ff_hidden_dim': 512, 'eval_type': 'argmax', 'norm': 'batch_no_track'}\n",
      "[2024-04-01 11:07:41] test.py(108) : tester_params{'use_cuda': True, 'cuda_device_num': 0, 'seed': 2024, 'model_load': {'path': 'result/maml_250000checkpts', 'epoch': 250000}, 'test_episodes': 2, 'test_batch_size': 1, 'augmentation_enable': True, 'test_robustness': False, 'aug_factor': 8, 'aug_batch_size': 1, 'test_set_path': '../../data/CVRP/dataset/Vrp-Set-CMT/CMT-n200', 'test_set_opt_sol_path': '../../data/CVRP/dataset/Vrp-Set-CMT/CMT-n200-sol', 'test_set_name': 'A-n33'}\n",
      "[2024-04-01 11:07:41] test.py(108) : fine_tune_params{'enable': False, 'fine_tune_episodes': 1000, 'k': 10, 'fine_tune_batch_size': 10, 'augmentation_enable': True, 'optimizer': {'lr': 1e-05, 'weight_decay': 1e-06}}\n",
      "[2024-04-01 11:07:41] test.py(108) : logger_params{'log_file': {'desc': 'test_cvrp', 'filename': 'log.txt', 'filepath': './result/20240401_110741_test_cvrp'}}\n"
     ]
    },
    {
     "name": "stderr",
     "output_type": "stream",
     "text": [
      "/home/xunj/miniconda3/lib/python3.11/site-packages/torch/__init__.py:614: UserWarning: torch.set_default_tensor_type() is deprecated as of PyTorch 2.1, please use torch.set_default_dtype() and torch.set_default_device() as alternatives. (Triggered internally at /opt/conda/conda-bld/pytorch_1699449183005/work/torch/csrc/tensor/python_tensor.cpp:451.)\n",
      "  _C._set_default_tensor_type(t)\n"
     ]
    },
    {
     "name": "stdout",
     "output_type": "stream",
     "text": [
      "['../../data/CVRP/dataset/Vrp-Set-CMT/CMT-n200/CMT10.vrp', '../../data/CVRP/dataset/Vrp-Set-CMT/CMT-n200/CMT5.vrp']\n",
      "[2024-04-01 11:07:47] CVRPTester.py(84) : >> Model loaded from result/maml_250000checkpts/checkpoint-250000.pt\n",
      "[2024-04-01 11:07:49] CVRPTester.py(225) : episode   1/  2, Elapsed[0.03m], Remain[0.03m], sol:1.396, score:3.105, aug_score:1.852\n",
      "[2024-04-01 11:07:49] CVRPTester.py(225) : episode   2/  2, Elapsed[0.03m], Remain[0.00m], sol:1.291, score:3.105, aug_score:1.852\n",
      "[2024-04-01 11:07:49] CVRPTester.py(231) :  *** Test Done *** \n",
      "[2024-04-01 11:07:49] CVRPTester.py(232) :  NO-AUG SCORE: 3.1051, Gap: 131.4561 \n",
      "[2024-04-01 11:07:49] CVRPTester.py(233) :  AUGMENTATION SCORE: 1.8516, Gap: 38.0177 \n",
      "3.105 (131.456%)\n",
      "1.852 (38.018%)\n",
      ">> Evaluation on ../../data/CVRP/dataset/Vrp-Set-CMT/CMT-n200 finished within 2.00s\n",
      ">> Save final results to res/CMT-n200\n",
      "Test on \" ../../data/CVRP/dataset/Vrp-Set-CMT/CMT-n200 \" Success\n",
      "-----------------------------------------------------------------------------------------------------------------\n",
      "[2024-04-01 11:07:52] test.py(106) : DEBUG_MODE: False\n",
      "[2024-04-01 11:07:52] test.py(107) : USE_CUDA: True, CUDA_DEVICE_NUM: 0\n",
      "[2024-04-01 11:07:52] test.py(108) : env_params{'problem_size': 200, 'pomo_size': 200}\n",
      "[2024-04-01 11:07:52] test.py(108) : model_params{'embedding_dim': 128, 'sqrt_embedding_dim': 11.313708498984761, 'encoder_layer_num': 6, 'qkv_dim': 16, 'head_num': 8, 'logit_clipping': 10, 'ff_hidden_dim': 512, 'eval_type': 'argmax', 'norm': 'batch_no_track'}\n",
      "[2024-04-01 11:07:52] test.py(108) : tester_params{'use_cuda': True, 'cuda_device_num': 0, 'seed': 2024, 'model_load': {'path': 'result/maml_250000checkpts', 'epoch': 250000}, 'test_episodes': 2, 'test_batch_size': 1, 'augmentation_enable': True, 'test_robustness': False, 'aug_factor': 8, 'aug_batch_size': 1, 'test_set_path': '../../data/CVRP/dataset/Vrp-Set-CMT/CMT-n51', 'test_set_opt_sol_path': '../../data/CVRP/dataset/Vrp-Set-CMT/CMT-n51-sol', 'test_set_name': 'A-n33'}\n",
      "[2024-04-01 11:07:52] test.py(108) : fine_tune_params{'enable': False, 'fine_tune_episodes': 1000, 'k': 10, 'fine_tune_batch_size': 10, 'augmentation_enable': True, 'optimizer': {'lr': 1e-05, 'weight_decay': 1e-06}}\n",
      "[2024-04-01 11:07:52] test.py(108) : logger_params{'log_file': {'desc': 'test_cvrp', 'filename': 'log.txt', 'filepath': './result/20240401_110752_test_cvrp'}}\n"
     ]
    },
    {
     "name": "stderr",
     "output_type": "stream",
     "text": [
      "/home/xunj/miniconda3/lib/python3.11/site-packages/torch/__init__.py:614: UserWarning: torch.set_default_tensor_type() is deprecated as of PyTorch 2.1, please use torch.set_default_dtype() and torch.set_default_device() as alternatives. (Triggered internally at /opt/conda/conda-bld/pytorch_1699449183005/work/torch/csrc/tensor/python_tensor.cpp:451.)\n",
      "  _C._set_default_tensor_type(t)\n"
     ]
    },
    {
     "name": "stdout",
     "output_type": "stream",
     "text": [
      "['../../data/CVRP/dataset/Vrp-Set-CMT/CMT-n51/CMT1.vrp', '../../data/CVRP/dataset/Vrp-Set-CMT/CMT-n51/CMT6.vrp']\n",
      "[2024-04-01 11:07:58] CVRPTester.py(84) : >> Model loaded from result/maml_250000checkpts/checkpoint-250000.pt\n",
      "[2024-04-01 11:08:00] CVRPTester.py(225) : episode   1/  2, Elapsed[0.03m], Remain[0.03m], sol:0.525, score:0.706, aug_score:0.705\n",
      "[2024-04-01 11:08:00] CVRPTester.py(225) : episode   2/  2, Elapsed[0.03m], Remain[0.00m], sol:0.555, score:0.706, aug_score:0.705\n",
      "[2024-04-01 11:08:00] CVRPTester.py(231) :  *** Test Done *** \n",
      "[2024-04-01 11:08:00] CVRPTester.py(232) :  NO-AUG SCORE: 0.7059, Gap: 30.8261 \n",
      "[2024-04-01 11:08:00] CVRPTester.py(233) :  AUGMENTATION SCORE: 0.7053, Gap: 30.7202 \n",
      "0.706 (30.826%)\n",
      "0.705 (30.720%)\n",
      ">> Evaluation on ../../data/CVRP/dataset/Vrp-Set-CMT/CMT-n51 finished within 1.62s\n",
      ">> Save final results to res/CMT-n51\n",
      "Test on \" ../../data/CVRP/dataset/Vrp-Set-CMT/CMT-n51 \" Success\n",
      "-----------------------------------------------------------------------------------------------------------------\n",
      "[2024-04-01 11:08:03] test.py(106) : DEBUG_MODE: False\n",
      "[2024-04-01 11:08:03] test.py(107) : USE_CUDA: True, CUDA_DEVICE_NUM: 0\n",
      "[2024-04-01 11:08:03] test.py(108) : env_params{'problem_size': 200, 'pomo_size': 200}\n",
      "[2024-04-01 11:08:03] test.py(108) : model_params{'embedding_dim': 128, 'sqrt_embedding_dim': 11.313708498984761, 'encoder_layer_num': 6, 'qkv_dim': 16, 'head_num': 8, 'logit_clipping': 10, 'ff_hidden_dim': 512, 'eval_type': 'argmax', 'norm': 'batch_no_track'}\n",
      "[2024-04-01 11:08:03] test.py(108) : tester_params{'use_cuda': True, 'cuda_device_num': 0, 'seed': 2024, 'model_load': {'path': 'result/maml_250000checkpts', 'epoch': 250000}, 'test_episodes': 2, 'test_batch_size': 1, 'augmentation_enable': True, 'test_robustness': False, 'aug_factor': 8, 'aug_batch_size': 1, 'test_set_path': '../../data/CVRP/dataset/Vrp-Set-CMT/CMT-n76', 'test_set_opt_sol_path': '../../data/CVRP/dataset/Vrp-Set-CMT/CMT-n76-sol', 'test_set_name': 'A-n33'}\n",
      "[2024-04-01 11:08:03] test.py(108) : fine_tune_params{'enable': False, 'fine_tune_episodes': 1000, 'k': 10, 'fine_tune_batch_size': 10, 'augmentation_enable': True, 'optimizer': {'lr': 1e-05, 'weight_decay': 1e-06}}\n",
      "[2024-04-01 11:08:03] test.py(108) : logger_params{'log_file': {'desc': 'test_cvrp', 'filename': 'log.txt', 'filepath': './result/20240401_110803_test_cvrp'}}\n"
     ]
    },
    {
     "name": "stderr",
     "output_type": "stream",
     "text": [
      "/home/xunj/miniconda3/lib/python3.11/site-packages/torch/__init__.py:614: UserWarning: torch.set_default_tensor_type() is deprecated as of PyTorch 2.1, please use torch.set_default_dtype() and torch.set_default_device() as alternatives. (Triggered internally at /opt/conda/conda-bld/pytorch_1699449183005/work/torch/csrc/tensor/python_tensor.cpp:451.)\n",
      "  _C._set_default_tensor_type(t)\n"
     ]
    },
    {
     "name": "stdout",
     "output_type": "stream",
     "text": [
      "['../../data/CVRP/dataset/Vrp-Set-CMT/CMT-n76/CMT2.vrp', '../../data/CVRP/dataset/Vrp-Set-CMT/CMT-n76/CMT7.vrp']\n",
      "[2024-04-01 11:08:10] CVRPTester.py(84) : >> Model loaded from result/maml_250000checkpts/checkpoint-250000.pt\n",
      "[2024-04-01 11:08:12] CVRPTester.py(225) : episode   1/  2, Elapsed[0.03m], Remain[0.03m], sol:0.835, score:1.167, aug_score:0.989\n",
      "[2024-04-01 11:08:12] CVRPTester.py(225) : episode   2/  2, Elapsed[0.03m], Remain[0.00m], sol:0.910, score:1.167, aug_score:0.989\n",
      "[2024-04-01 11:08:12] CVRPTester.py(231) :  *** Test Done *** \n",
      "[2024-04-01 11:08:12] CVRPTester.py(232) :  NO-AUG SCORE: 1.1671, Gap: 34.0098 \n",
      "[2024-04-01 11:08:12] CVRPTester.py(233) :  AUGMENTATION SCORE: 0.9890, Gap: 13.5633 \n",
      "1.167 (34.010%)\n",
      "0.989 (13.563%)\n",
      ">> Evaluation on ../../data/CVRP/dataset/Vrp-Set-CMT/CMT-n76 finished within 1.72s\n",
      ">> Save final results to res/CMT-n76\n",
      "Test on \" ../../data/CVRP/dataset/Vrp-Set-CMT/CMT-n76 \" Success\n",
      "-----------------------------------------------------------------------------------------------------------------\n",
      "[2024-04-01 11:08:16] test.py(106) : DEBUG_MODE: False\n",
      "[2024-04-01 11:08:16] test.py(107) : USE_CUDA: True, CUDA_DEVICE_NUM: 0\n",
      "[2024-04-01 11:08:16] test.py(108) : env_params{'problem_size': 200, 'pomo_size': 200}\n",
      "[2024-04-01 11:08:16] test.py(108) : model_params{'embedding_dim': 128, 'sqrt_embedding_dim': 11.313708498984761, 'encoder_layer_num': 6, 'qkv_dim': 16, 'head_num': 8, 'logit_clipping': 10, 'ff_hidden_dim': 512, 'eval_type': 'argmax', 'norm': 'batch_no_track'}\n",
      "[2024-04-01 11:08:16] test.py(108) : tester_params{'use_cuda': True, 'cuda_device_num': 0, 'seed': 2024, 'model_load': {'path': 'result/maml_250000checkpts', 'epoch': 250000}, 'test_episodes': 1, 'test_batch_size': 1, 'augmentation_enable': True, 'test_robustness': False, 'aug_factor': 8, 'aug_batch_size': 1, 'test_set_path': '../../data/CVRP/dataset/Vrp-Set-D/D-n1001', 'test_set_opt_sol_path': '../../data/CVRP/dataset/Vrp-Set-D/D-n1001-sol', 'test_set_name': 'A-n33'}\n",
      "[2024-04-01 11:08:16] test.py(108) : fine_tune_params{'enable': False, 'fine_tune_episodes': 1000, 'k': 10, 'fine_tune_batch_size': 10, 'augmentation_enable': True, 'optimizer': {'lr': 1e-05, 'weight_decay': 1e-06}}\n",
      "[2024-04-01 11:08:16] test.py(108) : logger_params{'log_file': {'desc': 'test_cvrp', 'filename': 'log.txt', 'filepath': './result/20240401_110815_test_cvrp'}}\n"
     ]
    },
    {
     "name": "stderr",
     "output_type": "stream",
     "text": [
      "/home/xunj/miniconda3/lib/python3.11/site-packages/torch/__init__.py:614: UserWarning: torch.set_default_tensor_type() is deprecated as of PyTorch 2.1, please use torch.set_default_dtype() and torch.set_default_device() as alternatives. (Triggered internally at /opt/conda/conda-bld/pytorch_1699449183005/work/torch/csrc/tensor/python_tensor.cpp:451.)\n",
      "  _C._set_default_tensor_type(t)\n"
     ]
    },
    {
     "name": "stdout",
     "output_type": "stream",
     "text": [
      "['../../data/CVRP/dataset/Vrp-Set-D/D-n1001/Loggi-n1001-k31.vrp']\n",
      "[2024-04-01 11:08:22] CVRPTester.py(84) : >> Model loaded from result/maml_250000checkpts/checkpoint-250000.pt\n",
      "[2024-04-01 11:08:29] CVRPTester.py(225) : episode   1/  1, Elapsed[0.11m], Remain[0.00m], sol:284.356, score:28.545, aug_score:27.856\n",
      "[2024-04-01 11:08:29] CVRPTester.py(231) :  *** Test Done *** \n",
      "[2024-04-01 11:08:29] CVRPTester.py(232) :  NO-AUG SCORE: 28.5448, Gap: -89.9616 \n",
      "[2024-04-01 11:08:29] CVRPTester.py(233) :  AUGMENTATION SCORE: 27.8564, Gap: -90.2037 \n",
      "28.545 (-89.962%)\n",
      "27.856 (-90.204%)\n",
      ">> Evaluation on ../../data/CVRP/dataset/Vrp-Set-D/D-n1001 finished within 6.77s\n",
      ">> Save final results to res/D-n1001\n",
      "Test on \" ../../data/CVRP/dataset/Vrp-Set-D/D-n1001 \" Success\n",
      "-----------------------------------------------------------------------------------------------------------------\n",
      "[2024-04-01 11:08:32] test.py(106) : DEBUG_MODE: False\n",
      "[2024-04-01 11:08:32] test.py(107) : USE_CUDA: True, CUDA_DEVICE_NUM: 0\n",
      "[2024-04-01 11:08:32] test.py(108) : env_params{'problem_size': 200, 'pomo_size': 200}\n",
      "[2024-04-01 11:08:32] test.py(108) : model_params{'embedding_dim': 128, 'sqrt_embedding_dim': 11.313708498984761, 'encoder_layer_num': 6, 'qkv_dim': 16, 'head_num': 8, 'logit_clipping': 10, 'ff_hidden_dim': 512, 'eval_type': 'argmax', 'norm': 'batch_no_track'}\n",
      "[2024-04-01 11:08:32] test.py(108) : tester_params{'use_cuda': True, 'cuda_device_num': 0, 'seed': 2024, 'model_load': {'path': 'result/maml_250000checkpts', 'epoch': 250000}, 'test_episodes': 1, 'test_batch_size': 1, 'augmentation_enable': True, 'test_robustness': False, 'aug_factor': 8, 'aug_batch_size': 1, 'test_set_path': '../../data/CVRP/dataset/Vrp-Set-D/D-n242', 'test_set_opt_sol_path': '../../data/CVRP/dataset/Vrp-Set-D/D-n242-sol', 'test_set_name': 'A-n33'}\n",
      "[2024-04-01 11:08:32] test.py(108) : fine_tune_params{'enable': False, 'fine_tune_episodes': 1000, 'k': 10, 'fine_tune_batch_size': 10, 'augmentation_enable': True, 'optimizer': {'lr': 1e-05, 'weight_decay': 1e-06}}\n",
      "[2024-04-01 11:08:32] test.py(108) : logger_params{'log_file': {'desc': 'test_cvrp', 'filename': 'log.txt', 'filepath': './result/20240401_110831_test_cvrp'}}\n"
     ]
    },
    {
     "name": "stderr",
     "output_type": "stream",
     "text": [
      "/home/xunj/miniconda3/lib/python3.11/site-packages/torch/__init__.py:614: UserWarning: torch.set_default_tensor_type() is deprecated as of PyTorch 2.1, please use torch.set_default_dtype() and torch.set_default_device() as alternatives. (Triggered internally at /opt/conda/conda-bld/pytorch_1699449183005/work/torch/csrc/tensor/python_tensor.cpp:451.)\n",
      "  _C._set_default_tensor_type(t)\n"
     ]
    },
    {
     "name": "stdout",
     "output_type": "stream",
     "text": [
      "['../../data/CVRP/dataset/Vrp-Set-D/D-n242/ORTEC-n242-k12.vrp']\n",
      "[2024-04-01 11:08:38] CVRPTester.py(84) : >> Model loaded from result/maml_250000checkpts/checkpoint-250000.pt\n",
      "[2024-04-01 11:08:40] CVRPTester.py(225) : episode   1/  1, Elapsed[0.03m], Remain[0.00m], sol:123.750, score:17.732, aug_score:17.413\n",
      "[2024-04-01 11:08:40] CVRPTester.py(231) :  *** Test Done *** \n",
      "[2024-04-01 11:08:40] CVRPTester.py(232) :  NO-AUG SCORE: 17.7324, Gap: -85.6708 \n",
      "[2024-04-01 11:08:40] CVRPTester.py(233) :  AUGMENTATION SCORE: 17.4132, Gap: -85.9287 \n",
      "17.732 (-85.671%)\n",
      "17.413 (-85.929%)\n",
      ">> Evaluation on ../../data/CVRP/dataset/Vrp-Set-D/D-n242 finished within 1.76s\n",
      ">> Save final results to res/D-n242\n",
      "Test on \" ../../data/CVRP/dataset/Vrp-Set-D/D-n242 \" Success\n",
      "-----------------------------------------------------------------------------------------------------------------\n",
      "[2024-04-01 11:08:43] test.py(106) : DEBUG_MODE: False\n",
      "[2024-04-01 11:08:43] test.py(107) : USE_CUDA: True, CUDA_DEVICE_NUM: 0\n",
      "[2024-04-01 11:08:43] test.py(108) : env_params{'problem_size': 200, 'pomo_size': 200}\n",
      "[2024-04-01 11:08:43] test.py(108) : model_params{'embedding_dim': 128, 'sqrt_embedding_dim': 11.313708498984761, 'encoder_layer_num': 6, 'qkv_dim': 16, 'head_num': 8, 'logit_clipping': 10, 'ff_hidden_dim': 512, 'eval_type': 'argmax', 'norm': 'batch_no_track'}\n",
      "[2024-04-01 11:08:43] test.py(108) : tester_params{'use_cuda': True, 'cuda_device_num': 0, 'seed': 2024, 'model_load': {'path': 'result/maml_250000checkpts', 'epoch': 250000}, 'test_episodes': 1, 'test_batch_size': 1, 'augmentation_enable': True, 'test_robustness': False, 'aug_factor': 8, 'aug_batch_size': 1, 'test_set_path': '../../data/CVRP/dataset/Vrp-Set-D/D-n323', 'test_set_opt_sol_path': '../../data/CVRP/dataset/Vrp-Set-D/D-n323-sol', 'test_set_name': 'A-n33'}\n",
      "[2024-04-01 11:08:43] test.py(108) : fine_tune_params{'enable': False, 'fine_tune_episodes': 1000, 'k': 10, 'fine_tune_batch_size': 10, 'augmentation_enable': True, 'optimizer': {'lr': 1e-05, 'weight_decay': 1e-06}}\n",
      "[2024-04-01 11:08:43] test.py(108) : logger_params{'log_file': {'desc': 'test_cvrp', 'filename': 'log.txt', 'filepath': './result/20240401_110843_test_cvrp'}}\n"
     ]
    },
    {
     "name": "stderr",
     "output_type": "stream",
     "text": [
      "/home/xunj/miniconda3/lib/python3.11/site-packages/torch/__init__.py:614: UserWarning: torch.set_default_tensor_type() is deprecated as of PyTorch 2.1, please use torch.set_default_dtype() and torch.set_default_device() as alternatives. (Triggered internally at /opt/conda/conda-bld/pytorch_1699449183005/work/torch/csrc/tensor/python_tensor.cpp:451.)\n",
      "  _C._set_default_tensor_type(t)\n"
     ]
    },
    {
     "name": "stdout",
     "output_type": "stream",
     "text": [
      "['../../data/CVRP/dataset/Vrp-Set-D/D-n323/ORTEC-n323-k21.vrp']\n",
      "[2024-04-01 11:08:49] CVRPTester.py(84) : >> Model loaded from result/maml_250000checkpts/checkpoint-250000.pt\n",
      "[2024-04-01 11:08:51] CVRPTester.py(225) : episode   1/  1, Elapsed[0.03m], Remain[0.00m], sol:214.071, score:23.179, aug_score:23.179\n",
      "[2024-04-01 11:08:51] CVRPTester.py(231) :  *** Test Done *** \n",
      "[2024-04-01 11:08:51] CVRPTester.py(232) :  NO-AUG SCORE: 23.1791, Gap: -89.1722 \n",
      "[2024-04-01 11:08:51] CVRPTester.py(233) :  AUGMENTATION SCORE: 23.1791, Gap: -89.1722 \n",
      "23.179 (-89.172%)\n",
      "23.179 (-89.172%)\n",
      ">> Evaluation on ../../data/CVRP/dataset/Vrp-Set-D/D-n323 finished within 1.87s\n",
      ">> Save final results to res/D-n323\n",
      "Test on \" ../../data/CVRP/dataset/Vrp-Set-D/D-n323 \" Success\n",
      "-----------------------------------------------------------------------------------------------------------------\n",
      "[2024-04-01 11:08:54] test.py(106) : DEBUG_MODE: False\n",
      "[2024-04-01 11:08:54] test.py(107) : USE_CUDA: True, CUDA_DEVICE_NUM: 0\n",
      "[2024-04-01 11:08:54] test.py(108) : env_params{'problem_size': 200, 'pomo_size': 200}\n",
      "[2024-04-01 11:08:54] test.py(108) : model_params{'embedding_dim': 128, 'sqrt_embedding_dim': 11.313708498984761, 'encoder_layer_num': 6, 'qkv_dim': 16, 'head_num': 8, 'logit_clipping': 10, 'ff_hidden_dim': 512, 'eval_type': 'argmax', 'norm': 'batch_no_track'}\n",
      "[2024-04-01 11:08:54] test.py(108) : tester_params{'use_cuda': True, 'cuda_device_num': 0, 'seed': 2024, 'model_load': {'path': 'result/maml_250000checkpts', 'epoch': 250000}, 'test_episodes': 1, 'test_batch_size': 1, 'augmentation_enable': True, 'test_robustness': False, 'aug_factor': 8, 'aug_batch_size': 1, 'test_set_path': '../../data/CVRP/dataset/Vrp-Set-D/D-n401', 'test_set_opt_sol_path': '../../data/CVRP/dataset/Vrp-Set-D/D-n401-sol', 'test_set_name': 'A-n33'}\n",
      "[2024-04-01 11:08:54] test.py(108) : fine_tune_params{'enable': False, 'fine_tune_episodes': 1000, 'k': 10, 'fine_tune_batch_size': 10, 'augmentation_enable': True, 'optimizer': {'lr': 1e-05, 'weight_decay': 1e-06}}\n",
      "[2024-04-01 11:08:54] test.py(108) : logger_params{'log_file': {'desc': 'test_cvrp', 'filename': 'log.txt', 'filepath': './result/20240401_110854_test_cvrp'}}\n"
     ]
    },
    {
     "name": "stderr",
     "output_type": "stream",
     "text": [
      "/home/xunj/miniconda3/lib/python3.11/site-packages/torch/__init__.py:614: UserWarning: torch.set_default_tensor_type() is deprecated as of PyTorch 2.1, please use torch.set_default_dtype() and torch.set_default_device() as alternatives. (Triggered internally at /opt/conda/conda-bld/pytorch_1699449183005/work/torch/csrc/tensor/python_tensor.cpp:451.)\n",
      "  _C._set_default_tensor_type(t)\n"
     ]
    },
    {
     "name": "stdout",
     "output_type": "stream",
     "text": [
      "['../../data/CVRP/dataset/Vrp-Set-D/D-n401/Loggi-n401-k23.vrp']\n",
      "[2024-04-01 11:09:00] CVRPTester.py(84) : >> Model loaded from result/maml_250000checkpts/checkpoint-250000.pt\n",
      "[2024-04-01 11:09:02] CVRPTester.py(225) : episode   1/  1, Elapsed[0.03m], Remain[0.00m], sol:336.903, score:39.971, aug_score:39.971\n",
      "[2024-04-01 11:09:02] CVRPTester.py(231) :  *** Test Done *** \n",
      "[2024-04-01 11:09:02] CVRPTester.py(232) :  NO-AUG SCORE: 39.9714, Gap: -88.1356 \n",
      "[2024-04-01 11:09:02] CVRPTester.py(233) :  AUGMENTATION SCORE: 39.9714, Gap: -88.1356 \n",
      "39.971 (-88.136%)\n",
      "39.971 (-88.136%)\n",
      ">> Evaluation on ../../data/CVRP/dataset/Vrp-Set-D/D-n401 finished within 2.07s\n",
      ">> Save final results to res/D-n401\n",
      "Test on \" ../../data/CVRP/dataset/Vrp-Set-D/D-n401 \" Success\n",
      "-----------------------------------------------------------------------------------------------------------------\n",
      "[2024-04-01 11:09:06] test.py(106) : DEBUG_MODE: False\n",
      "[2024-04-01 11:09:06] test.py(107) : USE_CUDA: True, CUDA_DEVICE_NUM: 0\n",
      "[2024-04-01 11:09:06] test.py(108) : env_params{'problem_size': 200, 'pomo_size': 200}\n",
      "[2024-04-01 11:09:06] test.py(108) : model_params{'embedding_dim': 128, 'sqrt_embedding_dim': 11.313708498984761, 'encoder_layer_num': 6, 'qkv_dim': 16, 'head_num': 8, 'logit_clipping': 10, 'ff_hidden_dim': 512, 'eval_type': 'argmax', 'norm': 'batch_no_track'}\n",
      "[2024-04-01 11:09:06] test.py(108) : tester_params{'use_cuda': True, 'cuda_device_num': 0, 'seed': 2024, 'model_load': {'path': 'result/maml_250000checkpts', 'epoch': 250000}, 'test_episodes': 1, 'test_batch_size': 1, 'augmentation_enable': True, 'test_robustness': False, 'aug_factor': 8, 'aug_batch_size': 1, 'test_set_path': '../../data/CVRP/dataset/Vrp-Set-D/D-n405', 'test_set_opt_sol_path': '../../data/CVRP/dataset/Vrp-Set-D/D-n405-sol', 'test_set_name': 'A-n33'}\n",
      "[2024-04-01 11:09:06] test.py(108) : fine_tune_params{'enable': False, 'fine_tune_episodes': 1000, 'k': 10, 'fine_tune_batch_size': 10, 'augmentation_enable': True, 'optimizer': {'lr': 1e-05, 'weight_decay': 1e-06}}\n",
      "[2024-04-01 11:09:06] test.py(108) : logger_params{'log_file': {'desc': 'test_cvrp', 'filename': 'log.txt', 'filepath': './result/20240401_110905_test_cvrp'}}\n"
     ]
    },
    {
     "name": "stderr",
     "output_type": "stream",
     "text": [
      "/home/xunj/miniconda3/lib/python3.11/site-packages/torch/__init__.py:614: UserWarning: torch.set_default_tensor_type() is deprecated as of PyTorch 2.1, please use torch.set_default_dtype() and torch.set_default_device() as alternatives. (Triggered internally at /opt/conda/conda-bld/pytorch_1699449183005/work/torch/csrc/tensor/python_tensor.cpp:451.)\n",
      "  _C._set_default_tensor_type(t)\n"
     ]
    },
    {
     "name": "stdout",
     "output_type": "stream",
     "text": [
      "['../../data/CVRP/dataset/Vrp-Set-D/D-n405/ORTEC-n405-k18.vrp']\n",
      "[2024-04-01 11:09:12] CVRPTester.py(84) : >> Model loaded from result/maml_250000checkpts/checkpoint-250000.pt\n",
      "[2024-04-01 11:09:14] CVRPTester.py(225) : episode   1/  1, Elapsed[0.04m], Remain[0.00m], sol:200.986, score:18.580, aug_score:18.580\n",
      "[2024-04-01 11:09:14] CVRPTester.py(231) :  *** Test Done *** \n",
      "[2024-04-01 11:09:14] CVRPTester.py(232) :  NO-AUG SCORE: 18.5796, Gap: -90.7558 \n",
      "[2024-04-01 11:09:14] CVRPTester.py(233) :  AUGMENTATION SCORE: 18.5796, Gap: -90.7558 \n",
      "18.580 (-90.756%)\n",
      "18.580 (-90.756%)\n",
      ">> Evaluation on ../../data/CVRP/dataset/Vrp-Set-D/D-n405 finished within 2.24s\n",
      ">> Save final results to res/D-n405\n",
      "Test on \" ../../data/CVRP/dataset/Vrp-Set-D/D-n405 \" Success\n",
      "-----------------------------------------------------------------------------------------------------------------\n",
      "[2024-04-01 11:09:17] test.py(106) : DEBUG_MODE: False\n",
      "[2024-04-01 11:09:17] test.py(107) : USE_CUDA: True, CUDA_DEVICE_NUM: 0\n",
      "[2024-04-01 11:09:17] test.py(108) : env_params{'problem_size': 200, 'pomo_size': 200}\n",
      "[2024-04-01 11:09:17] test.py(108) : model_params{'embedding_dim': 128, 'sqrt_embedding_dim': 11.313708498984761, 'encoder_layer_num': 6, 'qkv_dim': 16, 'head_num': 8, 'logit_clipping': 10, 'ff_hidden_dim': 512, 'eval_type': 'argmax', 'norm': 'batch_no_track'}\n",
      "[2024-04-01 11:09:17] test.py(108) : tester_params{'use_cuda': True, 'cuda_device_num': 0, 'seed': 2024, 'model_load': {'path': 'result/maml_250000checkpts', 'epoch': 250000}, 'test_episodes': 1, 'test_batch_size': 1, 'augmentation_enable': True, 'test_robustness': False, 'aug_factor': 8, 'aug_batch_size': 1, 'test_set_path': '../../data/CVRP/dataset/Vrp-Set-D/D-n455', 'test_set_opt_sol_path': '../../data/CVRP/dataset/Vrp-Set-D/D-n455-sol', 'test_set_name': 'A-n33'}\n",
      "[2024-04-01 11:09:17] test.py(108) : fine_tune_params{'enable': False, 'fine_tune_episodes': 1000, 'k': 10, 'fine_tune_batch_size': 10, 'augmentation_enable': True, 'optimizer': {'lr': 1e-05, 'weight_decay': 1e-06}}\n",
      "[2024-04-01 11:09:17] test.py(108) : logger_params{'log_file': {'desc': 'test_cvrp', 'filename': 'log.txt', 'filepath': './result/20240401_110917_test_cvrp'}}\n"
     ]
    },
    {
     "name": "stderr",
     "output_type": "stream",
     "text": [
      "/home/xunj/miniconda3/lib/python3.11/site-packages/torch/__init__.py:614: UserWarning: torch.set_default_tensor_type() is deprecated as of PyTorch 2.1, please use torch.set_default_dtype() and torch.set_default_device() as alternatives. (Triggered internally at /opt/conda/conda-bld/pytorch_1699449183005/work/torch/csrc/tensor/python_tensor.cpp:451.)\n",
      "  _C._set_default_tensor_type(t)\n"
     ]
    },
    {
     "name": "stdout",
     "output_type": "stream",
     "text": [
      "['../../data/CVRP/dataset/Vrp-Set-D/D-n455/ORTEC-n455-k41.vrp']\n",
      "[2024-04-01 11:09:23] CVRPTester.py(84) : >> Model loaded from result/maml_250000checkpts/checkpoint-250000.pt\n",
      "[2024-04-01 11:09:26] CVRPTester.py(225) : episode   1/  1, Elapsed[0.04m], Remain[0.00m], sol:292.485, score:22.002, aug_score:20.908\n",
      "[2024-04-01 11:09:26] CVRPTester.py(231) :  *** Test Done *** \n",
      "[2024-04-01 11:09:26] CVRPTester.py(232) :  NO-AUG SCORE: 22.0015, Gap: -92.4777 \n",
      "[2024-04-01 11:09:26] CVRPTester.py(233) :  AUGMENTATION SCORE: 20.9075, Gap: -92.8518 \n",
      "22.002 (-92.478%)\n",
      "20.908 (-92.852%)\n",
      ">> Evaluation on ../../data/CVRP/dataset/Vrp-Set-D/D-n455 finished within 2.33s\n",
      ">> Save final results to res/D-n455\n",
      "Test on \" ../../data/CVRP/dataset/Vrp-Set-D/D-n455 \" Success\n",
      "-----------------------------------------------------------------------------------------------------------------\n",
      "[2024-04-01 11:09:29] test.py(106) : DEBUG_MODE: False\n",
      "[2024-04-01 11:09:29] test.py(107) : USE_CUDA: True, CUDA_DEVICE_NUM: 0\n",
      "[2024-04-01 11:09:29] test.py(108) : env_params{'problem_size': 200, 'pomo_size': 200}\n",
      "[2024-04-01 11:09:29] test.py(108) : model_params{'embedding_dim': 128, 'sqrt_embedding_dim': 11.313708498984761, 'encoder_layer_num': 6, 'qkv_dim': 16, 'head_num': 8, 'logit_clipping': 10, 'ff_hidden_dim': 512, 'eval_type': 'argmax', 'norm': 'batch_no_track'}\n",
      "[2024-04-01 11:09:29] test.py(108) : tester_params{'use_cuda': True, 'cuda_device_num': 0, 'seed': 2024, 'model_load': {'path': 'result/maml_250000checkpts', 'epoch': 250000}, 'test_episodes': 1, 'test_batch_size': 1, 'augmentation_enable': True, 'test_robustness': False, 'aug_factor': 8, 'aug_batch_size': 1, 'test_set_path': '../../data/CVRP/dataset/Vrp-Set-D/D-n501', 'test_set_opt_sol_path': '../../data/CVRP/dataset/Vrp-Set-D/D-n501-sol', 'test_set_name': 'A-n33'}\n",
      "[2024-04-01 11:09:29] test.py(108) : fine_tune_params{'enable': False, 'fine_tune_episodes': 1000, 'k': 10, 'fine_tune_batch_size': 10, 'augmentation_enable': True, 'optimizer': {'lr': 1e-05, 'weight_decay': 1e-06}}\n",
      "[2024-04-01 11:09:29] test.py(108) : logger_params{'log_file': {'desc': 'test_cvrp', 'filename': 'log.txt', 'filepath': './result/20240401_110929_test_cvrp'}}\n"
     ]
    },
    {
     "name": "stderr",
     "output_type": "stream",
     "text": [
      "/home/xunj/miniconda3/lib/python3.11/site-packages/torch/__init__.py:614: UserWarning: torch.set_default_tensor_type() is deprecated as of PyTorch 2.1, please use torch.set_default_dtype() and torch.set_default_device() as alternatives. (Triggered internally at /opt/conda/conda-bld/pytorch_1699449183005/work/torch/csrc/tensor/python_tensor.cpp:451.)\n",
      "  _C._set_default_tensor_type(t)\n"
     ]
    },
    {
     "name": "stdout",
     "output_type": "stream",
     "text": [
      "['../../data/CVRP/dataset/Vrp-Set-D/D-n501/Loggi-n501-k24.vrp']\n",
      "[2024-04-01 11:09:35] CVRPTester.py(84) : >> Model loaded from result/maml_250000checkpts/checkpoint-250000.pt\n",
      "[2024-04-01 11:09:38] CVRPTester.py(225) : episode   1/  1, Elapsed[0.04m], Remain[0.00m], sol:177.176, score:18.418, aug_score:18.418\n",
      "[2024-04-01 11:09:38] CVRPTester.py(231) :  *** Test Done *** \n",
      "[2024-04-01 11:09:38] CVRPTester.py(232) :  NO-AUG SCORE: 18.4179, Gap: -89.6047 \n",
      "[2024-04-01 11:09:38] CVRPTester.py(233) :  AUGMENTATION SCORE: 18.4179, Gap: -89.6047 \n",
      "18.418 (-89.605%)\n",
      "18.418 (-89.605%)\n",
      ">> Evaluation on ../../data/CVRP/dataset/Vrp-Set-D/D-n501 finished within 2.44s\n",
      ">> Save final results to res/D-n501\n",
      "Test on \" ../../data/CVRP/dataset/Vrp-Set-D/D-n501 \" Success\n",
      "-----------------------------------------------------------------------------------------------------------------\n",
      "[2024-04-01 11:09:41] test.py(106) : DEBUG_MODE: False\n",
      "[2024-04-01 11:09:41] test.py(107) : USE_CUDA: True, CUDA_DEVICE_NUM: 0\n",
      "[2024-04-01 11:09:41] test.py(108) : env_params{'problem_size': 200, 'pomo_size': 200}\n",
      "[2024-04-01 11:09:41] test.py(108) : model_params{'embedding_dim': 128, 'sqrt_embedding_dim': 11.313708498984761, 'encoder_layer_num': 6, 'qkv_dim': 16, 'head_num': 8, 'logit_clipping': 10, 'ff_hidden_dim': 512, 'eval_type': 'argmax', 'norm': 'batch_no_track'}\n",
      "[2024-04-01 11:09:41] test.py(108) : tester_params{'use_cuda': True, 'cuda_device_num': 0, 'seed': 2024, 'model_load': {'path': 'result/maml_250000checkpts', 'epoch': 250000}, 'test_episodes': 1, 'test_batch_size': 1, 'augmentation_enable': True, 'test_robustness': False, 'aug_factor': 8, 'aug_batch_size': 1, 'test_set_path': '../../data/CVRP/dataset/Vrp-Set-D/D-n510', 'test_set_opt_sol_path': '../../data/CVRP/dataset/Vrp-Set-D/D-n510-sol', 'test_set_name': 'A-n33'}\n",
      "[2024-04-01 11:09:41] test.py(108) : fine_tune_params{'enable': False, 'fine_tune_episodes': 1000, 'k': 10, 'fine_tune_batch_size': 10, 'augmentation_enable': True, 'optimizer': {'lr': 1e-05, 'weight_decay': 1e-06}}\n",
      "[2024-04-01 11:09:41] test.py(108) : logger_params{'log_file': {'desc': 'test_cvrp', 'filename': 'log.txt', 'filepath': './result/20240401_110941_test_cvrp'}}\n"
     ]
    },
    {
     "name": "stderr",
     "output_type": "stream",
     "text": [
      "/home/xunj/miniconda3/lib/python3.11/site-packages/torch/__init__.py:614: UserWarning: torch.set_default_tensor_type() is deprecated as of PyTorch 2.1, please use torch.set_default_dtype() and torch.set_default_device() as alternatives. (Triggered internally at /opt/conda/conda-bld/pytorch_1699449183005/work/torch/csrc/tensor/python_tensor.cpp:451.)\n",
      "  _C._set_default_tensor_type(t)\n"
     ]
    },
    {
     "name": "stdout",
     "output_type": "stream",
     "text": [
      "['../../data/CVRP/dataset/Vrp-Set-D/D-n510/ORTEC-n510-k23.vrp']\n",
      "[2024-04-01 11:09:47] CVRPTester.py(84) : >> Model loaded from result/maml_250000checkpts/checkpoint-250000.pt\n",
      "[2024-04-01 11:09:50] CVRPTester.py(225) : episode   1/  1, Elapsed[0.04m], Remain[0.00m], sol:184.529, score:31.199, aug_score:30.936\n",
      "[2024-04-01 11:09:50] CVRPTester.py(231) :  *** Test Done *** \n",
      "[2024-04-01 11:09:50] CVRPTester.py(232) :  NO-AUG SCORE: 31.1988, Gap: -83.0927 \n",
      "[2024-04-01 11:09:50] CVRPTester.py(233) :  AUGMENTATION SCORE: 30.9360, Gap: -83.2352 \n",
      "31.199 (-83.093%)\n",
      "30.936 (-83.235%)\n",
      ">> Evaluation on ../../data/CVRP/dataset/Vrp-Set-D/D-n510 finished within 2.55s\n",
      ">> Save final results to res/D-n510\n",
      "Test on \" ../../data/CVRP/dataset/Vrp-Set-D/D-n510 \" Success\n",
      "-----------------------------------------------------------------------------------------------------------------\n",
      "[2024-04-01 11:09:53] test.py(106) : DEBUG_MODE: False\n",
      "[2024-04-01 11:09:53] test.py(107) : USE_CUDA: True, CUDA_DEVICE_NUM: 0\n",
      "[2024-04-01 11:09:53] test.py(108) : env_params{'problem_size': 200, 'pomo_size': 200}\n",
      "[2024-04-01 11:09:53] test.py(108) : model_params{'embedding_dim': 128, 'sqrt_embedding_dim': 11.313708498984761, 'encoder_layer_num': 6, 'qkv_dim': 16, 'head_num': 8, 'logit_clipping': 10, 'ff_hidden_dim': 512, 'eval_type': 'argmax', 'norm': 'batch_no_track'}\n",
      "[2024-04-01 11:09:53] test.py(108) : tester_params{'use_cuda': True, 'cuda_device_num': 0, 'seed': 2024, 'model_load': {'path': 'result/maml_250000checkpts', 'epoch': 250000}, 'test_episodes': 2, 'test_batch_size': 1, 'augmentation_enable': True, 'test_robustness': False, 'aug_factor': 8, 'aug_batch_size': 1, 'test_set_path': '../../data/CVRP/dataset/Vrp-Set-D/D-n601', 'test_set_opt_sol_path': '../../data/CVRP/dataset/Vrp-Set-D/D-n601-sol', 'test_set_name': 'A-n33'}\n",
      "[2024-04-01 11:09:53] test.py(108) : fine_tune_params{'enable': False, 'fine_tune_episodes': 1000, 'k': 10, 'fine_tune_batch_size': 10, 'augmentation_enable': True, 'optimizer': {'lr': 1e-05, 'weight_decay': 1e-06}}\n",
      "[2024-04-01 11:09:53] test.py(108) : logger_params{'log_file': {'desc': 'test_cvrp', 'filename': 'log.txt', 'filepath': './result/20240401_110953_test_cvrp'}}\n"
     ]
    },
    {
     "name": "stderr",
     "output_type": "stream",
     "text": [
      "/home/xunj/miniconda3/lib/python3.11/site-packages/torch/__init__.py:614: UserWarning: torch.set_default_tensor_type() is deprecated as of PyTorch 2.1, please use torch.set_default_dtype() and torch.set_default_device() as alternatives. (Triggered internally at /opt/conda/conda-bld/pytorch_1699449183005/work/torch/csrc/tensor/python_tensor.cpp:451.)\n",
      "  _C._set_default_tensor_type(t)\n"
     ]
    },
    {
     "name": "stdout",
     "output_type": "stream",
     "text": [
      "['../../data/CVRP/dataset/Vrp-Set-D/D-n601/Loggi-n601-k19.vrp', '../../data/CVRP/dataset/Vrp-Set-D/D-n601/Loggi-n601-k42.vrp']\n",
      "[2024-04-01 11:09:59] CVRPTester.py(84) : >> Model loaded from result/maml_250000checkpts/checkpoint-250000.pt\n",
      "[2024-04-01 11:10:02] CVRPTester.py(225) : episode   1/  2, Elapsed[0.05m], Remain[0.05m], sol:113.155, score:15.951, aug_score:14.172\n",
      "[2024-04-01 11:10:04] CVRPTester.py(225) : episode   2/  2, Elapsed[0.07m], Remain[0.00m], sol:347.059, score:34.875, aug_score:34.196\n",
      "[2024-04-01 11:10:04] CVRPTester.py(231) :  *** Test Done *** \n",
      "[2024-04-01 11:10:04] CVRPTester.py(232) :  NO-AUG SCORE: 25.4132, Gap: -87.9271 \n",
      "[2024-04-01 11:10:04] CVRPTester.py(233) :  AUGMENTATION SCORE: 24.1841, Gap: -88.8112 \n",
      "25.413 (-87.927%)\n",
      "24.184 (-88.811%)\n",
      ">> Evaluation on ../../data/CVRP/dataset/Vrp-Set-D/D-n601 finished within 4.42s\n",
      ">> Save final results to res/D-n601\n",
      "Test on \" ../../data/CVRP/dataset/Vrp-Set-D/D-n601 \" Success\n",
      "-----------------------------------------------------------------------------------------------------------------\n",
      "[2024-04-01 11:10:07] test.py(106) : DEBUG_MODE: False\n",
      "[2024-04-01 11:10:07] test.py(107) : USE_CUDA: True, CUDA_DEVICE_NUM: 0\n",
      "[2024-04-01 11:10:07] test.py(108) : env_params{'problem_size': 200, 'pomo_size': 200}\n",
      "[2024-04-01 11:10:07] test.py(108) : model_params{'embedding_dim': 128, 'sqrt_embedding_dim': 11.313708498984761, 'encoder_layer_num': 6, 'qkv_dim': 16, 'head_num': 8, 'logit_clipping': 10, 'ff_hidden_dim': 512, 'eval_type': 'argmax', 'norm': 'batch_no_track'}\n",
      "[2024-04-01 11:10:07] test.py(108) : tester_params{'use_cuda': True, 'cuda_device_num': 0, 'seed': 2024, 'model_load': {'path': 'result/maml_250000checkpts', 'epoch': 250000}, 'test_episodes': 1, 'test_batch_size': 1, 'augmentation_enable': True, 'test_robustness': False, 'aug_factor': 8, 'aug_batch_size': 1, 'test_set_path': '../../data/CVRP/dataset/Vrp-Set-D/D-n701', 'test_set_opt_sol_path': '../../data/CVRP/dataset/Vrp-Set-D/D-n701-sol', 'test_set_name': 'A-n33'}\n",
      "[2024-04-01 11:10:07] test.py(108) : fine_tune_params{'enable': False, 'fine_tune_episodes': 1000, 'k': 10, 'fine_tune_batch_size': 10, 'augmentation_enable': True, 'optimizer': {'lr': 1e-05, 'weight_decay': 1e-06}}\n",
      "[2024-04-01 11:10:07] test.py(108) : logger_params{'log_file': {'desc': 'test_cvrp', 'filename': 'log.txt', 'filepath': './result/20240401_111007_test_cvrp'}}\n"
     ]
    },
    {
     "name": "stderr",
     "output_type": "stream",
     "text": [
      "/home/xunj/miniconda3/lib/python3.11/site-packages/torch/__init__.py:614: UserWarning: torch.set_default_tensor_type() is deprecated as of PyTorch 2.1, please use torch.set_default_dtype() and torch.set_default_device() as alternatives. (Triggered internally at /opt/conda/conda-bld/pytorch_1699449183005/work/torch/csrc/tensor/python_tensor.cpp:451.)\n",
      "  _C._set_default_tensor_type(t)\n"
     ]
    },
    {
     "name": "stdout",
     "output_type": "stream",
     "text": [
      "['../../data/CVRP/dataset/Vrp-Set-D/D-n701/ORTEC-n701-k64.vrp']\n",
      "[2024-04-01 11:10:13] CVRPTester.py(84) : >> Model loaded from result/maml_250000checkpts/checkpoint-250000.pt\n",
      "[2024-04-01 11:10:17] CVRPTester.py(225) : episode   1/  1, Elapsed[0.06m], Remain[0.00m], sol:445.543, score:43.791, aug_score:42.759\n",
      "[2024-04-01 11:10:17] CVRPTester.py(231) :  *** Test Done *** \n",
      "[2024-04-01 11:10:17] CVRPTester.py(232) :  NO-AUG SCORE: 43.7907, Gap: -90.1714 \n",
      "[2024-04-01 11:10:17] CVRPTester.py(233) :  AUGMENTATION SCORE: 42.7586, Gap: -90.4030 \n",
      "43.791 (-90.171%)\n",
      "42.759 (-90.403%)\n",
      ">> Evaluation on ../../data/CVRP/dataset/Vrp-Set-D/D-n701 finished within 3.68s\n",
      ">> Save final results to res/D-n701\n",
      "Test on \" ../../data/CVRP/dataset/Vrp-Set-D/D-n701 \" Success\n",
      "-----------------------------------------------------------------------------------------------------------------\n",
      "[2024-04-01 11:10:20] test.py(106) : DEBUG_MODE: False\n",
      "[2024-04-01 11:10:20] test.py(107) : USE_CUDA: True, CUDA_DEVICE_NUM: 0\n",
      "[2024-04-01 11:10:20] test.py(108) : env_params{'problem_size': 200, 'pomo_size': 200}\n",
      "[2024-04-01 11:10:20] test.py(108) : model_params{'embedding_dim': 128, 'sqrt_embedding_dim': 11.313708498984761, 'encoder_layer_num': 6, 'qkv_dim': 16, 'head_num': 8, 'logit_clipping': 10, 'ff_hidden_dim': 512, 'eval_type': 'argmax', 'norm': 'batch_no_track'}\n",
      "[2024-04-01 11:10:20] test.py(108) : tester_params{'use_cuda': True, 'cuda_device_num': 0, 'seed': 2024, 'model_load': {'path': 'result/maml_250000checkpts', 'epoch': 250000}, 'test_episodes': 1, 'test_batch_size': 1, 'augmentation_enable': True, 'test_robustness': False, 'aug_factor': 8, 'aug_batch_size': 1, 'test_set_path': '../../data/CVRP/dataset/Vrp-Set-D/D-n901', 'test_set_opt_sol_path': '../../data/CVRP/dataset/Vrp-Set-D/D-n901-sol', 'test_set_name': 'A-n33'}\n",
      "[2024-04-01 11:10:20] test.py(108) : fine_tune_params{'enable': False, 'fine_tune_episodes': 1000, 'k': 10, 'fine_tune_batch_size': 10, 'augmentation_enable': True, 'optimizer': {'lr': 1e-05, 'weight_decay': 1e-06}}\n",
      "[2024-04-01 11:10:20] test.py(108) : logger_params{'log_file': {'desc': 'test_cvrp', 'filename': 'log.txt', 'filepath': './result/20240401_111020_test_cvrp'}}\n"
     ]
    },
    {
     "name": "stderr",
     "output_type": "stream",
     "text": [
      "/home/xunj/miniconda3/lib/python3.11/site-packages/torch/__init__.py:614: UserWarning: torch.set_default_tensor_type() is deprecated as of PyTorch 2.1, please use torch.set_default_dtype() and torch.set_default_device() as alternatives. (Triggered internally at /opt/conda/conda-bld/pytorch_1699449183005/work/torch/csrc/tensor/python_tensor.cpp:451.)\n",
      "  _C._set_default_tensor_type(t)\n"
     ]
    },
    {
     "name": "stdout",
     "output_type": "stream",
     "text": [
      "['../../data/CVRP/dataset/Vrp-Set-D/D-n901/Loggi-n901-k42.vrp']\n",
      "[2024-04-01 11:10:26] CVRPTester.py(84) : >> Model loaded from result/maml_250000checkpts/checkpoint-250000.pt\n",
      "[2024-04-01 11:10:32] CVRPTester.py(225) : episode   1/  1, Elapsed[0.10m], Remain[0.00m], sol:246.301, score:38.543, aug_score:29.207\n",
      "[2024-04-01 11:10:32] CVRPTester.py(231) :  *** Test Done *** \n",
      "[2024-04-01 11:10:32] CVRPTester.py(232) :  NO-AUG SCORE: 38.5432, Gap: -84.3512 \n",
      "[2024-04-01 11:10:32] CVRPTester.py(233) :  AUGMENTATION SCORE: 29.2070, Gap: -88.1418 \n",
      "38.543 (-84.351%)\n",
      "29.207 (-88.142%)\n",
      ">> Evaluation on ../../data/CVRP/dataset/Vrp-Set-D/D-n901 finished within 5.91s\n",
      ">> Save final results to res/D-n901\n",
      "Test on \" ../../data/CVRP/dataset/Vrp-Set-D/D-n901 \" Success\n",
      "-----------------------------------------------------------------------------------------------------------------\n",
      "[2024-04-01 11:10:36] test.py(106) : DEBUG_MODE: False\n",
      "[2024-04-01 11:10:36] test.py(107) : USE_CUDA: True, CUDA_DEVICE_NUM: 0\n",
      "[2024-04-01 11:10:36] test.py(108) : env_params{'problem_size': 200, 'pomo_size': 200}\n",
      "[2024-04-01 11:10:36] test.py(108) : model_params{'embedding_dim': 128, 'sqrt_embedding_dim': 11.313708498984761, 'encoder_layer_num': 6, 'qkv_dim': 16, 'head_num': 8, 'logit_clipping': 10, 'ff_hidden_dim': 512, 'eval_type': 'argmax', 'norm': 'batch_no_track'}\n",
      "[2024-04-01 11:10:36] test.py(108) : tester_params{'use_cuda': True, 'cuda_device_num': 0, 'seed': 2024, 'model_load': {'path': 'result/maml_250000checkpts', 'epoch': 250000}, 'test_episodes': 2, 'test_batch_size': 1, 'augmentation_enable': True, 'test_robustness': False, 'aug_factor': 8, 'aug_batch_size': 1, 'test_set_path': '../../data/CVRP/dataset/Vrp-Set-E/E-n10', 'test_set_opt_sol_path': '../../data/CVRP/dataset/Vrp-Set-E/E-n10-sol', 'test_set_name': 'A-n33'}\n",
      "[2024-04-01 11:10:36] test.py(108) : fine_tune_params{'enable': False, 'fine_tune_episodes': 1000, 'k': 10, 'fine_tune_batch_size': 10, 'augmentation_enable': True, 'optimizer': {'lr': 1e-05, 'weight_decay': 1e-06}}\n",
      "[2024-04-01 11:10:36] test.py(108) : logger_params{'log_file': {'desc': 'test_cvrp', 'filename': 'log.txt', 'filepath': './result/20240401_111035_test_cvrp'}}\n"
     ]
    },
    {
     "name": "stderr",
     "output_type": "stream",
     "text": [
      "/home/xunj/miniconda3/lib/python3.11/site-packages/torch/__init__.py:614: UserWarning: torch.set_default_tensor_type() is deprecated as of PyTorch 2.1, please use torch.set_default_dtype() and torch.set_default_device() as alternatives. (Triggered internally at /opt/conda/conda-bld/pytorch_1699449183005/work/torch/csrc/tensor/python_tensor.cpp:451.)\n",
      "  _C._set_default_tensor_type(t)\n"
     ]
    },
    {
     "name": "stdout",
     "output_type": "stream",
     "text": [
      "['../../data/CVRP/dataset/Vrp-Set-E/E-n10/E-n101-k14.vrp', '../../data/CVRP/dataset/Vrp-Set-E/E-n10/E-n101-k8.vrp']\n",
      "[2024-04-01 11:10:42] CVRPTester.py(84) : >> Model loaded from result/maml_250000checkpts/checkpoint-250000.pt\n",
      "[2024-04-01 11:10:44] CVRPTester.py(225) : episode   1/  2, Elapsed[0.03m], Remain[0.03m], sol:1.067, score:1.695, aug_score:1.303\n",
      "[2024-04-01 11:10:44] CVRPTester.py(225) : episode   2/  2, Elapsed[0.03m], Remain[0.00m], sol:0.815, score:1.252, aug_score:0.999\n",
      "[2024-04-01 11:10:44] CVRPTester.py(231) :  *** Test Done *** \n",
      "[2024-04-01 11:10:44] CVRPTester.py(232) :  NO-AUG SCORE: 1.4735, Gap: 56.2314 \n",
      "[2024-04-01 11:10:44] CVRPTester.py(233) :  AUGMENTATION SCORE: 1.1512, Gap: 22.3663 \n",
      "1.473 (56.231%)\n",
      "1.151 (22.366%)\n",
      ">> Evaluation on ../../data/CVRP/dataset/Vrp-Set-E/E-n10 finished within 1.85s\n",
      ">> Save final results to res/E-n10\n",
      "Test on \" ../../data/CVRP/dataset/Vrp-Set-E/E-n10 \" Success\n",
      "-----------------------------------------------------------------------------------------------------------------\n",
      "[2024-04-01 11:10:47] test.py(106) : DEBUG_MODE: False\n",
      "[2024-04-01 11:10:47] test.py(107) : USE_CUDA: True, CUDA_DEVICE_NUM: 0\n",
      "[2024-04-01 11:10:47] test.py(108) : env_params{'problem_size': 200, 'pomo_size': 200}\n",
      "[2024-04-01 11:10:47] test.py(108) : model_params{'embedding_dim': 128, 'sqrt_embedding_dim': 11.313708498984761, 'encoder_layer_num': 6, 'qkv_dim': 16, 'head_num': 8, 'logit_clipping': 10, 'ff_hidden_dim': 512, 'eval_type': 'argmax', 'norm': 'batch_no_track'}\n",
      "[2024-04-01 11:10:47] test.py(108) : tester_params{'use_cuda': True, 'cuda_device_num': 0, 'seed': 2024, 'model_load': {'path': 'result/maml_250000checkpts', 'epoch': 250000}, 'test_episodes': 1, 'test_batch_size': 1, 'augmentation_enable': True, 'test_robustness': False, 'aug_factor': 8, 'aug_batch_size': 1, 'test_set_path': '../../data/CVRP/dataset/Vrp-Set-E/E-n22', 'test_set_opt_sol_path': '../../data/CVRP/dataset/Vrp-Set-E/E-n22-sol', 'test_set_name': 'A-n33'}\n",
      "[2024-04-01 11:10:47] test.py(108) : fine_tune_params{'enable': False, 'fine_tune_episodes': 1000, 'k': 10, 'fine_tune_batch_size': 10, 'augmentation_enable': True, 'optimizer': {'lr': 1e-05, 'weight_decay': 1e-06}}\n",
      "[2024-04-01 11:10:47] test.py(108) : logger_params{'log_file': {'desc': 'test_cvrp', 'filename': 'log.txt', 'filepath': './result/20240401_111047_test_cvrp'}}\n"
     ]
    },
    {
     "name": "stderr",
     "output_type": "stream",
     "text": [
      "/home/xunj/miniconda3/lib/python3.11/site-packages/torch/__init__.py:614: UserWarning: torch.set_default_tensor_type() is deprecated as of PyTorch 2.1, please use torch.set_default_dtype() and torch.set_default_device() as alternatives. (Triggered internally at /opt/conda/conda-bld/pytorch_1699449183005/work/torch/csrc/tensor/python_tensor.cpp:451.)\n",
      "  _C._set_default_tensor_type(t)\n"
     ]
    },
    {
     "name": "stdout",
     "output_type": "stream",
     "text": [
      "['../../data/CVRP/dataset/Vrp-Set-E/E-n22/E-n22-k4.vrp']\n",
      "[2024-04-01 11:10:54] CVRPTester.py(84) : >> Model loaded from result/maml_250000checkpts/checkpoint-250000.pt\n",
      "[2024-04-01 11:10:55] CVRPTester.py(225) : episode   1/  1, Elapsed[0.03m], Remain[0.00m], sol:0.375, score:0.431, aug_score:0.430\n",
      "[2024-04-01 11:10:55] CVRPTester.py(231) :  *** Test Done *** \n",
      "[2024-04-01 11:10:55] CVRPTester.py(232) :  NO-AUG SCORE: 0.4306, Gap: 14.8329 \n",
      "[2024-04-01 11:10:55] CVRPTester.py(233) :  AUGMENTATION SCORE: 0.4295, Gap: 14.5405 \n",
      "0.431 (14.833%)\n",
      "0.430 (14.540%)\n",
      ">> Evaluation on ../../data/CVRP/dataset/Vrp-Set-E/E-n22 finished within 1.61s\n",
      ">> Save final results to res/E-n22\n",
      "Test on \" ../../data/CVRP/dataset/Vrp-Set-E/E-n22 \" Success\n",
      "-----------------------------------------------------------------------------------------------------------------\n",
      "[2024-04-01 11:10:59] test.py(106) : DEBUG_MODE: False\n",
      "[2024-04-01 11:10:59] test.py(107) : USE_CUDA: True, CUDA_DEVICE_NUM: 0\n",
      "[2024-04-01 11:10:59] test.py(108) : env_params{'problem_size': 200, 'pomo_size': 200}\n",
      "[2024-04-01 11:10:59] test.py(108) : model_params{'embedding_dim': 128, 'sqrt_embedding_dim': 11.313708498984761, 'encoder_layer_num': 6, 'qkv_dim': 16, 'head_num': 8, 'logit_clipping': 10, 'ff_hidden_dim': 512, 'eval_type': 'argmax', 'norm': 'batch_no_track'}\n",
      "[2024-04-01 11:10:59] test.py(108) : tester_params{'use_cuda': True, 'cuda_device_num': 0, 'seed': 2024, 'model_load': {'path': 'result/maml_250000checkpts', 'epoch': 250000}, 'test_episodes': 1, 'test_batch_size': 1, 'augmentation_enable': True, 'test_robustness': False, 'aug_factor': 8, 'aug_batch_size': 1, 'test_set_path': '../../data/CVRP/dataset/Vrp-Set-E/E-n23', 'test_set_opt_sol_path': '../../data/CVRP/dataset/Vrp-Set-E/E-n23-sol', 'test_set_name': 'A-n33'}\n",
      "[2024-04-01 11:10:59] test.py(108) : fine_tune_params{'enable': False, 'fine_tune_episodes': 1000, 'k': 10, 'fine_tune_batch_size': 10, 'augmentation_enable': True, 'optimizer': {'lr': 1e-05, 'weight_decay': 1e-06}}\n",
      "[2024-04-01 11:10:59] test.py(108) : logger_params{'log_file': {'desc': 'test_cvrp', 'filename': 'log.txt', 'filepath': './result/20240401_111058_test_cvrp'}}\n"
     ]
    },
    {
     "name": "stderr",
     "output_type": "stream",
     "text": [
      "/home/xunj/miniconda3/lib/python3.11/site-packages/torch/__init__.py:614: UserWarning: torch.set_default_tensor_type() is deprecated as of PyTorch 2.1, please use torch.set_default_dtype() and torch.set_default_device() as alternatives. (Triggered internally at /opt/conda/conda-bld/pytorch_1699449183005/work/torch/csrc/tensor/python_tensor.cpp:451.)\n",
      "  _C._set_default_tensor_type(t)\n"
     ]
    },
    {
     "name": "stdout",
     "output_type": "stream",
     "text": [
      "['../../data/CVRP/dataset/Vrp-Set-E/E-n23/E-n23-k3.vrp']\n",
      "[2024-04-01 11:11:05] CVRPTester.py(84) : >> Model loaded from result/maml_250000checkpts/checkpoint-250000.pt\n",
      "[2024-04-01 11:11:07] CVRPTester.py(225) : episode   1/  1, Elapsed[0.02m], Remain[0.00m], sol:0.569, score:0.645, aug_score:0.645\n",
      "[2024-04-01 11:11:07] CVRPTester.py(231) :  *** Test Done *** \n",
      "[2024-04-01 11:11:07] CVRPTester.py(232) :  NO-AUG SCORE: 0.6447, Gap: 13.2988 \n",
      "[2024-04-01 11:11:07] CVRPTester.py(233) :  AUGMENTATION SCORE: 0.6447, Gap: 13.2988 \n",
      "0.645 (13.299%)\n",
      "0.645 (13.299%)\n",
      ">> Evaluation on ../../data/CVRP/dataset/Vrp-Set-E/E-n23 finished within 1.49s\n",
      ">> Save final results to res/E-n23\n",
      "Test on \" ../../data/CVRP/dataset/Vrp-Set-E/E-n23 \" Success\n",
      "-----------------------------------------------------------------------------------------------------------------\n",
      "[2024-04-01 11:11:10] test.py(106) : DEBUG_MODE: False\n",
      "[2024-04-01 11:11:10] test.py(107) : USE_CUDA: True, CUDA_DEVICE_NUM: 0\n",
      "[2024-04-01 11:11:10] test.py(108) : env_params{'problem_size': 200, 'pomo_size': 200}\n",
      "[2024-04-01 11:11:10] test.py(108) : model_params{'embedding_dim': 128, 'sqrt_embedding_dim': 11.313708498984761, 'encoder_layer_num': 6, 'qkv_dim': 16, 'head_num': 8, 'logit_clipping': 10, 'ff_hidden_dim': 512, 'eval_type': 'argmax', 'norm': 'batch_no_track'}\n",
      "[2024-04-01 11:11:10] test.py(108) : tester_params{'use_cuda': True, 'cuda_device_num': 0, 'seed': 2024, 'model_load': {'path': 'result/maml_250000checkpts', 'epoch': 250000}, 'test_episodes': 1, 'test_batch_size': 1, 'augmentation_enable': True, 'test_robustness': False, 'aug_factor': 8, 'aug_batch_size': 1, 'test_set_path': '../../data/CVRP/dataset/Vrp-Set-E/E-n30', 'test_set_opt_sol_path': '../../data/CVRP/dataset/Vrp-Set-E/E-n30-sol', 'test_set_name': 'A-n33'}\n",
      "[2024-04-01 11:11:10] test.py(108) : fine_tune_params{'enable': False, 'fine_tune_episodes': 1000, 'k': 10, 'fine_tune_batch_size': 10, 'augmentation_enable': True, 'optimizer': {'lr': 1e-05, 'weight_decay': 1e-06}}\n",
      "[2024-04-01 11:11:10] test.py(108) : logger_params{'log_file': {'desc': 'test_cvrp', 'filename': 'log.txt', 'filepath': './result/20240401_111110_test_cvrp'}}\n"
     ]
    },
    {
     "name": "stderr",
     "output_type": "stream",
     "text": [
      "/home/xunj/miniconda3/lib/python3.11/site-packages/torch/__init__.py:614: UserWarning: torch.set_default_tensor_type() is deprecated as of PyTorch 2.1, please use torch.set_default_dtype() and torch.set_default_device() as alternatives. (Triggered internally at /opt/conda/conda-bld/pytorch_1699449183005/work/torch/csrc/tensor/python_tensor.cpp:451.)\n",
      "  _C._set_default_tensor_type(t)\n"
     ]
    },
    {
     "name": "stdout",
     "output_type": "stream",
     "text": [
      "['../../data/CVRP/dataset/Vrp-Set-E/E-n30/E-n30-k3.vrp']\n",
      "[2024-04-01 11:11:17] CVRPTester.py(84) : >> Model loaded from result/maml_250000checkpts/checkpoint-250000.pt\n",
      "[2024-04-01 11:11:18] CVRPTester.py(225) : episode   1/  1, Elapsed[0.02m], Remain[0.00m], sol:0.534, score:0.578, aug_score:0.550\n",
      "[2024-04-01 11:11:18] CVRPTester.py(231) :  *** Test Done *** \n",
      "[2024-04-01 11:11:18] CVRPTester.py(232) :  NO-AUG SCORE: 0.5783, Gap: 8.2904 \n",
      "[2024-04-01 11:11:18] CVRPTester.py(233) :  AUGMENTATION SCORE: 0.5502, Gap: 3.0386 \n",
      "0.578 (8.290%)\n",
      "0.550 (3.039%)\n",
      ">> Evaluation on ../../data/CVRP/dataset/Vrp-Set-E/E-n30 finished within 1.46s\n",
      ">> Save final results to res/E-n30\n",
      "Test on \" ../../data/CVRP/dataset/Vrp-Set-E/E-n30 \" Success\n",
      "-----------------------------------------------------------------------------------------------------------------\n",
      "[2024-04-01 11:11:22] test.py(106) : DEBUG_MODE: False\n",
      "[2024-04-01 11:11:22] test.py(107) : USE_CUDA: True, CUDA_DEVICE_NUM: 0\n",
      "[2024-04-01 11:11:22] test.py(108) : env_params{'problem_size': 200, 'pomo_size': 200}\n",
      "[2024-04-01 11:11:22] test.py(108) : model_params{'embedding_dim': 128, 'sqrt_embedding_dim': 11.313708498984761, 'encoder_layer_num': 6, 'qkv_dim': 16, 'head_num': 8, 'logit_clipping': 10, 'ff_hidden_dim': 512, 'eval_type': 'argmax', 'norm': 'batch_no_track'}\n",
      "[2024-04-01 11:11:22] test.py(108) : tester_params{'use_cuda': True, 'cuda_device_num': 0, 'seed': 2024, 'model_load': {'path': 'result/maml_250000checkpts', 'epoch': 250000}, 'test_episodes': 1, 'test_batch_size': 1, 'augmentation_enable': True, 'test_robustness': False, 'aug_factor': 8, 'aug_batch_size': 1, 'test_set_path': '../../data/CVRP/dataset/Vrp-Set-E/E-n33', 'test_set_opt_sol_path': '../../data/CVRP/dataset/Vrp-Set-E/E-n33-sol', 'test_set_name': 'A-n33'}\n",
      "[2024-04-01 11:11:22] test.py(108) : fine_tune_params{'enable': False, 'fine_tune_episodes': 1000, 'k': 10, 'fine_tune_batch_size': 10, 'augmentation_enable': True, 'optimizer': {'lr': 1e-05, 'weight_decay': 1e-06}}\n",
      "[2024-04-01 11:11:22] test.py(108) : logger_params{'log_file': {'desc': 'test_cvrp', 'filename': 'log.txt', 'filepath': './result/20240401_111121_test_cvrp'}}\n"
     ]
    },
    {
     "name": "stderr",
     "output_type": "stream",
     "text": [
      "/home/xunj/miniconda3/lib/python3.11/site-packages/torch/__init__.py:614: UserWarning: torch.set_default_tensor_type() is deprecated as of PyTorch 2.1, please use torch.set_default_dtype() and torch.set_default_device() as alternatives. (Triggered internally at /opt/conda/conda-bld/pytorch_1699449183005/work/torch/csrc/tensor/python_tensor.cpp:451.)\n",
      "  _C._set_default_tensor_type(t)\n"
     ]
    },
    {
     "name": "stdout",
     "output_type": "stream",
     "text": [
      "['../../data/CVRP/dataset/Vrp-Set-E/E-n33/E-n33-k4.vrp']\n",
      "[2024-04-01 11:11:28] CVRPTester.py(84) : >> Model loaded from result/maml_250000checkpts/checkpoint-250000.pt\n",
      "[2024-04-01 11:11:29] CVRPTester.py(225) : episode   1/  1, Elapsed[0.03m], Remain[0.00m], sol:0.835, score:0.857, aug_score:0.857\n",
      "[2024-04-01 11:11:29] CVRPTester.py(231) :  *** Test Done *** \n",
      "[2024-04-01 11:11:29] CVRPTester.py(232) :  NO-AUG SCORE: 0.8567, Gap: 2.6024 \n",
      "[2024-04-01 11:11:29] CVRPTester.py(233) :  AUGMENTATION SCORE: 0.8567, Gap: 2.6024 \n",
      "0.857 (2.602%)\n",
      "0.857 (2.602%)\n",
      ">> Evaluation on ../../data/CVRP/dataset/Vrp-Set-E/E-n33 finished within 1.62s\n",
      ">> Save final results to res/E-n33\n",
      "Test on \" ../../data/CVRP/dataset/Vrp-Set-E/E-n33 \" Success\n",
      "-----------------------------------------------------------------------------------------------------------------\n",
      "[2024-04-01 11:11:33] test.py(106) : DEBUG_MODE: False\n",
      "[2024-04-01 11:11:33] test.py(107) : USE_CUDA: True, CUDA_DEVICE_NUM: 0\n",
      "[2024-04-01 11:11:33] test.py(108) : env_params{'problem_size': 200, 'pomo_size': 200}\n",
      "[2024-04-01 11:11:33] test.py(108) : model_params{'embedding_dim': 128, 'sqrt_embedding_dim': 11.313708498984761, 'encoder_layer_num': 6, 'qkv_dim': 16, 'head_num': 8, 'logit_clipping': 10, 'ff_hidden_dim': 512, 'eval_type': 'argmax', 'norm': 'batch_no_track'}\n",
      "[2024-04-01 11:11:33] test.py(108) : tester_params{'use_cuda': True, 'cuda_device_num': 0, 'seed': 2024, 'model_load': {'path': 'result/maml_250000checkpts', 'epoch': 250000}, 'test_episodes': 1, 'test_batch_size': 1, 'augmentation_enable': True, 'test_robustness': False, 'aug_factor': 8, 'aug_batch_size': 1, 'test_set_path': '../../data/CVRP/dataset/Vrp-Set-E/E-n51', 'test_set_opt_sol_path': '../../data/CVRP/dataset/Vrp-Set-E/E-n51-sol', 'test_set_name': 'A-n33'}\n",
      "[2024-04-01 11:11:33] test.py(108) : fine_tune_params{'enable': False, 'fine_tune_episodes': 1000, 'k': 10, 'fine_tune_batch_size': 10, 'augmentation_enable': True, 'optimizer': {'lr': 1e-05, 'weight_decay': 1e-06}}\n",
      "[2024-04-01 11:11:33] test.py(108) : logger_params{'log_file': {'desc': 'test_cvrp', 'filename': 'log.txt', 'filepath': './result/20240401_111132_test_cvrp'}}\n"
     ]
    },
    {
     "name": "stderr",
     "output_type": "stream",
     "text": [
      "/home/xunj/miniconda3/lib/python3.11/site-packages/torch/__init__.py:614: UserWarning: torch.set_default_tensor_type() is deprecated as of PyTorch 2.1, please use torch.set_default_dtype() and torch.set_default_device() as alternatives. (Triggered internally at /opt/conda/conda-bld/pytorch_1699449183005/work/torch/csrc/tensor/python_tensor.cpp:451.)\n",
      "  _C._set_default_tensor_type(t)\n"
     ]
    },
    {
     "name": "stdout",
     "output_type": "stream",
     "text": [
      "['../../data/CVRP/dataset/Vrp-Set-E/E-n51/E-n51-k5.vrp']\n",
      "[2024-04-01 11:11:40] CVRPTester.py(84) : >> Model loaded from result/maml_250000checkpts/checkpoint-250000.pt\n",
      "[2024-04-01 11:11:41] CVRPTester.py(225) : episode   1/  1, Elapsed[0.03m], Remain[0.00m], sol:0.521, score:0.706, aug_score:0.705\n",
      "[2024-04-01 11:11:41] CVRPTester.py(231) :  *** Test Done *** \n",
      "[2024-04-01 11:11:41] CVRPTester.py(232) :  NO-AUG SCORE: 0.7059, Gap: 35.4918 \n",
      "[2024-04-01 11:11:41] CVRPTester.py(233) :  AUGMENTATION SCORE: 0.7053, Gap: 35.3821 \n",
      "0.706 (35.492%)\n",
      "0.705 (35.382%)\n",
      ">> Evaluation on ../../data/CVRP/dataset/Vrp-Set-E/E-n51 finished within 1.59s\n",
      ">> Save final results to res/E-n51\n",
      "Test on \" ../../data/CVRP/dataset/Vrp-Set-E/E-n51 \" Success\n",
      "-----------------------------------------------------------------------------------------------------------------\n",
      "[2024-04-01 11:11:45] test.py(106) : DEBUG_MODE: False\n",
      "[2024-04-01 11:11:45] test.py(107) : USE_CUDA: True, CUDA_DEVICE_NUM: 0\n",
      "[2024-04-01 11:11:45] test.py(108) : env_params{'problem_size': 200, 'pomo_size': 200}\n",
      "[2024-04-01 11:11:45] test.py(108) : model_params{'embedding_dim': 128, 'sqrt_embedding_dim': 11.313708498984761, 'encoder_layer_num': 6, 'qkv_dim': 16, 'head_num': 8, 'logit_clipping': 10, 'ff_hidden_dim': 512, 'eval_type': 'argmax', 'norm': 'batch_no_track'}\n",
      "[2024-04-01 11:11:45] test.py(108) : tester_params{'use_cuda': True, 'cuda_device_num': 0, 'seed': 2024, 'model_load': {'path': 'result/maml_250000checkpts', 'epoch': 250000}, 'test_episodes': 4, 'test_batch_size': 1, 'augmentation_enable': True, 'test_robustness': False, 'aug_factor': 8, 'aug_batch_size': 1, 'test_set_path': '../../data/CVRP/dataset/Vrp-Set-E/E-n76', 'test_set_opt_sol_path': '../../data/CVRP/dataset/Vrp-Set-E/E-n76-sol', 'test_set_name': 'A-n33'}\n",
      "[2024-04-01 11:11:45] test.py(108) : fine_tune_params{'enable': False, 'fine_tune_episodes': 1000, 'k': 10, 'fine_tune_batch_size': 10, 'augmentation_enable': True, 'optimizer': {'lr': 1e-05, 'weight_decay': 1e-06}}\n",
      "[2024-04-01 11:11:45] test.py(108) : logger_params{'log_file': {'desc': 'test_cvrp', 'filename': 'log.txt', 'filepath': './result/20240401_111144_test_cvrp'}}\n"
     ]
    },
    {
     "name": "stderr",
     "output_type": "stream",
     "text": [
      "/home/xunj/miniconda3/lib/python3.11/site-packages/torch/__init__.py:614: UserWarning: torch.set_default_tensor_type() is deprecated as of PyTorch 2.1, please use torch.set_default_dtype() and torch.set_default_device() as alternatives. (Triggered internally at /opt/conda/conda-bld/pytorch_1699449183005/work/torch/csrc/tensor/python_tensor.cpp:451.)\n",
      "  _C._set_default_tensor_type(t)\n"
     ]
    },
    {
     "name": "stdout",
     "output_type": "stream",
     "text": [
      "['../../data/CVRP/dataset/Vrp-Set-E/E-n76/E-n76-k10.vrp', '../../data/CVRP/dataset/Vrp-Set-E/E-n76/E-n76-k14.vrp', '../../data/CVRP/dataset/Vrp-Set-E/E-n76/E-n76-k7.vrp', '../../data/CVRP/dataset/Vrp-Set-E/E-n76/E-n76-k8.vrp']\n",
      "[2024-04-01 11:11:51] CVRPTester.py(84) : >> Model loaded from result/maml_250000checkpts/checkpoint-250000.pt\n",
      "[2024-04-01 11:11:53] CVRPTester.py(225) : episode   1/  4, Elapsed[0.03m], Remain[0.08m], sol:0.830, score:1.167, aug_score:0.989\n",
      "[2024-04-01 11:11:53] CVRPTester.py(225) : episode   2/  4, Elapsed[0.03m], Remain[0.03m], sol:1.021, score:1.375, aug_score:1.177\n",
      "[2024-04-01 11:11:53] CVRPTester.py(225) : episode   3/  4, Elapsed[0.03m], Remain[0.01m], sol:0.682, score:0.970, aug_score:0.837\n",
      "[2024-04-01 11:11:53] CVRPTester.py(225) : episode   4/  4, Elapsed[0.03m], Remain[0.00m], sol:0.735, score:1.059, aug_score:0.899\n",
      "[2024-04-01 11:11:53] CVRPTester.py(231) :  *** Test Done *** \n",
      "[2024-04-01 11:11:53] CVRPTester.py(232) :  NO-AUG SCORE: 1.1427, Gap: 40.3802 \n",
      "[2024-04-01 11:11:53] CVRPTester.py(233) :  AUGMENTATION SCORE: 0.9754, Gap: 19.8640 \n",
      "1.143 (40.380%)\n",
      "0.975 (19.864%)\n",
      ">> Evaluation on ../../data/CVRP/dataset/Vrp-Set-E/E-n76 finished within 1.88s\n",
      ">> Save final results to res/E-n76\n",
      "Test on \" ../../data/CVRP/dataset/Vrp-Set-E/E-n76 \" Success\n",
      "-----------------------------------------------------------------------------------------------------------------\n",
      "[2024-04-01 11:11:56] test.py(106) : DEBUG_MODE: False\n",
      "[2024-04-01 11:11:56] test.py(107) : USE_CUDA: True, CUDA_DEVICE_NUM: 0\n",
      "[2024-04-01 11:11:56] test.py(108) : env_params{'problem_size': 200, 'pomo_size': 200}\n",
      "[2024-04-01 11:11:56] test.py(108) : model_params{'embedding_dim': 128, 'sqrt_embedding_dim': 11.313708498984761, 'encoder_layer_num': 6, 'qkv_dim': 16, 'head_num': 8, 'logit_clipping': 10, 'ff_hidden_dim': 512, 'eval_type': 'argmax', 'norm': 'batch_no_track'}\n",
      "[2024-04-01 11:11:56] test.py(108) : tester_params{'use_cuda': True, 'cuda_device_num': 0, 'seed': 2024, 'model_load': {'path': 'result/maml_250000checkpts', 'epoch': 250000}, 'test_episodes': 1, 'test_batch_size': 1, 'augmentation_enable': True, 'test_robustness': False, 'aug_factor': 8, 'aug_batch_size': 1, 'test_set_path': '../../data/CVRP/dataset/Vrp-Set-F/F-n135', 'test_set_opt_sol_path': '../../data/CVRP/dataset/Vrp-Set-F/F-n135-sol', 'test_set_name': 'A-n33'}\n",
      "[2024-04-01 11:11:56] test.py(108) : fine_tune_params{'enable': False, 'fine_tune_episodes': 1000, 'k': 10, 'fine_tune_batch_size': 10, 'augmentation_enable': True, 'optimizer': {'lr': 1e-05, 'weight_decay': 1e-06}}\n",
      "[2024-04-01 11:11:56] test.py(108) : logger_params{'log_file': {'desc': 'test_cvrp', 'filename': 'log.txt', 'filepath': './result/20240401_111156_test_cvrp'}}\n"
     ]
    },
    {
     "name": "stderr",
     "output_type": "stream",
     "text": [
      "/home/xunj/miniconda3/lib/python3.11/site-packages/torch/__init__.py:614: UserWarning: torch.set_default_tensor_type() is deprecated as of PyTorch 2.1, please use torch.set_default_dtype() and torch.set_default_device() as alternatives. (Triggered internally at /opt/conda/conda-bld/pytorch_1699449183005/work/torch/csrc/tensor/python_tensor.cpp:451.)\n",
      "  _C._set_default_tensor_type(t)\n"
     ]
    },
    {
     "name": "stdout",
     "output_type": "stream",
     "text": [
      "['../../data/CVRP/dataset/Vrp-Set-F/F-n135/F-n135-k7.vrp']\n",
      "[2024-04-01 11:12:02] CVRPTester.py(84) : >> Model loaded from result/maml_250000checkpts/checkpoint-250000.pt\n",
      "[2024-04-01 11:12:04] CVRPTester.py(225) : episode   1/  1, Elapsed[0.03m], Remain[0.00m], sol:1.162, score:2.451, aug_score:1.484\n",
      "[2024-04-01 11:12:04] CVRPTester.py(231) :  *** Test Done *** \n",
      "[2024-04-01 11:12:04] CVRPTester.py(232) :  NO-AUG SCORE: 2.4506, Gap: 110.8965 \n",
      "[2024-04-01 11:12:04] CVRPTester.py(233) :  AUGMENTATION SCORE: 1.4839, Gap: 27.6985 \n",
      "2.451 (110.897%)\n",
      "1.484 (27.698%)\n",
      ">> Evaluation on ../../data/CVRP/dataset/Vrp-Set-F/F-n135 finished within 1.62s\n",
      ">> Save final results to res/F-n135\n",
      "Test on \" ../../data/CVRP/dataset/Vrp-Set-F/F-n135 \" Success\n",
      "-----------------------------------------------------------------------------------------------------------------\n",
      "[2024-04-01 11:12:07] test.py(106) : DEBUG_MODE: False\n",
      "[2024-04-01 11:12:07] test.py(107) : USE_CUDA: True, CUDA_DEVICE_NUM: 0\n",
      "[2024-04-01 11:12:07] test.py(108) : env_params{'problem_size': 200, 'pomo_size': 200}\n",
      "[2024-04-01 11:12:07] test.py(108) : model_params{'embedding_dim': 128, 'sqrt_embedding_dim': 11.313708498984761, 'encoder_layer_num': 6, 'qkv_dim': 16, 'head_num': 8, 'logit_clipping': 10, 'ff_hidden_dim': 512, 'eval_type': 'argmax', 'norm': 'batch_no_track'}\n",
      "[2024-04-01 11:12:07] test.py(108) : tester_params{'use_cuda': True, 'cuda_device_num': 0, 'seed': 2024, 'model_load': {'path': 'result/maml_250000checkpts', 'epoch': 250000}, 'test_episodes': 1, 'test_batch_size': 1, 'augmentation_enable': True, 'test_robustness': False, 'aug_factor': 8, 'aug_batch_size': 1, 'test_set_path': '../../data/CVRP/dataset/Vrp-Set-F/F-n45', 'test_set_opt_sol_path': '../../data/CVRP/dataset/Vrp-Set-F/F-n45-sol', 'test_set_name': 'A-n33'}\n",
      "[2024-04-01 11:12:07] test.py(108) : fine_tune_params{'enable': False, 'fine_tune_episodes': 1000, 'k': 10, 'fine_tune_batch_size': 10, 'augmentation_enable': True, 'optimizer': {'lr': 1e-05, 'weight_decay': 1e-06}}\n",
      "[2024-04-01 11:12:07] test.py(108) : logger_params{'log_file': {'desc': 'test_cvrp', 'filename': 'log.txt', 'filepath': './result/20240401_111207_test_cvrp'}}\n"
     ]
    },
    {
     "name": "stderr",
     "output_type": "stream",
     "text": [
      "/home/xunj/miniconda3/lib/python3.11/site-packages/torch/__init__.py:614: UserWarning: torch.set_default_tensor_type() is deprecated as of PyTorch 2.1, please use torch.set_default_dtype() and torch.set_default_device() as alternatives. (Triggered internally at /opt/conda/conda-bld/pytorch_1699449183005/work/torch/csrc/tensor/python_tensor.cpp:451.)\n",
      "  _C._set_default_tensor_type(t)\n"
     ]
    },
    {
     "name": "stdout",
     "output_type": "stream",
     "text": [
      "['../../data/CVRP/dataset/Vrp-Set-F/F-n45/F-n45-k4.vrp']\n",
      "[2024-04-01 11:12:13] CVRPTester.py(84) : >> Model loaded from result/maml_250000checkpts/checkpoint-250000.pt\n",
      "[2024-04-01 11:12:15] CVRPTester.py(225) : episode   1/  1, Elapsed[0.03m], Remain[0.00m], sol:0.724, score:0.879, aug_score:0.847\n",
      "[2024-04-01 11:12:15] CVRPTester.py(231) :  *** Test Done *** \n",
      "[2024-04-01 11:12:15] CVRPTester.py(232) :  NO-AUG SCORE: 0.8789, Gap: 21.3930 \n",
      "[2024-04-01 11:12:15] CVRPTester.py(233) :  AUGMENTATION SCORE: 0.8468, Gap: 16.9596 \n",
      "0.879 (21.393%)\n",
      "0.847 (16.960%)\n",
      ">> Evaluation on ../../data/CVRP/dataset/Vrp-Set-F/F-n45 finished within 1.51s\n",
      ">> Save final results to res/F-n45\n",
      "Test on \" ../../data/CVRP/dataset/Vrp-Set-F/F-n45 \" Success\n",
      "-----------------------------------------------------------------------------------------------------------------\n",
      "[2024-04-01 11:12:18] test.py(106) : DEBUG_MODE: False\n",
      "[2024-04-01 11:12:18] test.py(107) : USE_CUDA: True, CUDA_DEVICE_NUM: 0\n",
      "[2024-04-01 11:12:18] test.py(108) : env_params{'problem_size': 200, 'pomo_size': 200}\n",
      "[2024-04-01 11:12:18] test.py(108) : model_params{'embedding_dim': 128, 'sqrt_embedding_dim': 11.313708498984761, 'encoder_layer_num': 6, 'qkv_dim': 16, 'head_num': 8, 'logit_clipping': 10, 'ff_hidden_dim': 512, 'eval_type': 'argmax', 'norm': 'batch_no_track'}\n",
      "[2024-04-01 11:12:18] test.py(108) : tester_params{'use_cuda': True, 'cuda_device_num': 0, 'seed': 2024, 'model_load': {'path': 'result/maml_250000checkpts', 'epoch': 250000}, 'test_episodes': 1, 'test_batch_size': 1, 'augmentation_enable': True, 'test_robustness': False, 'aug_factor': 8, 'aug_batch_size': 1, 'test_set_path': '../../data/CVRP/dataset/Vrp-Set-F/F-n72', 'test_set_opt_sol_path': '../../data/CVRP/dataset/Vrp-Set-F/F-n72-sol', 'test_set_name': 'A-n33'}\n",
      "[2024-04-01 11:12:18] test.py(108) : fine_tune_params{'enable': False, 'fine_tune_episodes': 1000, 'k': 10, 'fine_tune_batch_size': 10, 'augmentation_enable': True, 'optimizer': {'lr': 1e-05, 'weight_decay': 1e-06}}\n",
      "[2024-04-01 11:12:18] test.py(108) : logger_params{'log_file': {'desc': 'test_cvrp', 'filename': 'log.txt', 'filepath': './result/20240401_111218_test_cvrp'}}\n"
     ]
    },
    {
     "name": "stderr",
     "output_type": "stream",
     "text": [
      "/home/xunj/miniconda3/lib/python3.11/site-packages/torch/__init__.py:614: UserWarning: torch.set_default_tensor_type() is deprecated as of PyTorch 2.1, please use torch.set_default_dtype() and torch.set_default_device() as alternatives. (Triggered internally at /opt/conda/conda-bld/pytorch_1699449183005/work/torch/csrc/tensor/python_tensor.cpp:451.)\n",
      "  _C._set_default_tensor_type(t)\n"
     ]
    },
    {
     "name": "stdout",
     "output_type": "stream",
     "text": [
      "['../../data/CVRP/dataset/Vrp-Set-F/F-n72/F-n72-k4.vrp']\n",
      "[2024-04-01 11:12:24] CVRPTester.py(84) : >> Model loaded from result/maml_250000checkpts/checkpoint-250000.pt\n",
      "[2024-04-01 11:12:26] CVRPTester.py(225) : episode   1/  1, Elapsed[0.03m], Remain[0.00m], sol:0.237, score:0.736, aug_score:0.387\n",
      "[2024-04-01 11:12:26] CVRPTester.py(231) :  *** Test Done *** \n",
      "[2024-04-01 11:12:26] CVRPTester.py(232) :  NO-AUG SCORE: 0.7356, Gap: 210.3671 \n",
      "[2024-04-01 11:12:26] CVRPTester.py(233) :  AUGMENTATION SCORE: 0.3869, Gap: 63.2637 \n",
      "0.736 (210.367%)\n",
      "0.387 (63.264%)\n",
      ">> Evaluation on ../../data/CVRP/dataset/Vrp-Set-F/F-n72 finished within 1.66s\n",
      ">> Save final results to res/F-n72\n",
      "Test on \" ../../data/CVRP/dataset/Vrp-Set-F/F-n72 \" Success\n",
      "-----------------------------------------------------------------------------------------------------------------\n",
      "[2024-04-01 11:12:29] test.py(106) : DEBUG_MODE: False\n",
      "[2024-04-01 11:12:29] test.py(107) : USE_CUDA: True, CUDA_DEVICE_NUM: 0\n",
      "[2024-04-01 11:12:29] test.py(108) : env_params{'problem_size': 200, 'pomo_size': 200}\n",
      "[2024-04-01 11:12:29] test.py(108) : model_params{'embedding_dim': 128, 'sqrt_embedding_dim': 11.313708498984761, 'encoder_layer_num': 6, 'qkv_dim': 16, 'head_num': 8, 'logit_clipping': 10, 'ff_hidden_dim': 512, 'eval_type': 'argmax', 'norm': 'batch_no_track'}\n",
      "[2024-04-01 11:12:29] test.py(108) : tester_params{'use_cuda': True, 'cuda_device_num': 0, 'seed': 2024, 'model_load': {'path': 'result/maml_250000checkpts', 'epoch': 250000}, 'test_episodes': 1, 'test_batch_size': 1, 'augmentation_enable': True, 'test_robustness': False, 'aug_factor': 8, 'aug_batch_size': 1, 'test_set_path': '../../data/CVRP/dataset/Vrp-Set-Golden/Golden-n201', 'test_set_opt_sol_path': '../../data/CVRP/dataset/Vrp-Set-Golden/Golden-n201-sol', 'test_set_name': 'A-n33'}\n",
      "[2024-04-01 11:12:29] test.py(108) : fine_tune_params{'enable': False, 'fine_tune_episodes': 1000, 'k': 10, 'fine_tune_batch_size': 10, 'augmentation_enable': True, 'optimizer': {'lr': 1e-05, 'weight_decay': 1e-06}}\n",
      "[2024-04-01 11:12:29] test.py(108) : logger_params{'log_file': {'desc': 'test_cvrp', 'filename': 'log.txt', 'filepath': './result/20240401_111229_test_cvrp'}}\n"
     ]
    },
    {
     "name": "stderr",
     "output_type": "stream",
     "text": [
      "/home/xunj/miniconda3/lib/python3.11/site-packages/torch/__init__.py:614: UserWarning: torch.set_default_tensor_type() is deprecated as of PyTorch 2.1, please use torch.set_default_dtype() and torch.set_default_device() as alternatives. (Triggered internally at /opt/conda/conda-bld/pytorch_1699449183005/work/torch/csrc/tensor/python_tensor.cpp:451.)\n",
      "  _C._set_default_tensor_type(t)\n"
     ]
    },
    {
     "name": "stdout",
     "output_type": "stream",
     "text": [
      "['../../data/CVRP/dataset/Vrp-Set-Golden/Golden-n201/Golden_5.vrp']\n",
      "[2024-04-01 11:12:35] CVRPTester.py(84) : >> Model loaded from result/maml_250000checkpts/checkpoint-250000.pt\n",
      "[2024-04-01 11:12:37] CVRPTester.py(225) : episode   1/  1, Elapsed[0.03m], Remain[0.00m], sol:6.461, score:7.834, aug_score:7.637\n",
      "[2024-04-01 11:12:37] CVRPTester.py(231) :  *** Test Done *** \n",
      "[2024-04-01 11:12:37] CVRPTester.py(232) :  NO-AUG SCORE: 7.8343, Gap: 21.2552 \n",
      "[2024-04-01 11:12:37] CVRPTester.py(233) :  AUGMENTATION SCORE: 7.6374, Gap: 18.2074 \n",
      "7.834 (21.255%)\n",
      "7.637 (18.207%)\n",
      ">> Evaluation on ../../data/CVRP/dataset/Vrp-Set-Golden/Golden-n201 finished within 1.68s\n",
      ">> Save final results to res/Golden-n201\n",
      "Test on \" ../../data/CVRP/dataset/Vrp-Set-Golden/Golden-n201 \" Success\n",
      "-----------------------------------------------------------------------------------------------------------------\n",
      "[2024-04-01 11:12:40] test.py(106) : DEBUG_MODE: False\n",
      "[2024-04-01 11:12:40] test.py(107) : USE_CUDA: True, CUDA_DEVICE_NUM: 0\n",
      "[2024-04-01 11:12:40] test.py(108) : env_params{'problem_size': 200, 'pomo_size': 200}\n",
      "[2024-04-01 11:12:40] test.py(108) : model_params{'embedding_dim': 128, 'sqrt_embedding_dim': 11.313708498984761, 'encoder_layer_num': 6, 'qkv_dim': 16, 'head_num': 8, 'logit_clipping': 10, 'ff_hidden_dim': 512, 'eval_type': 'argmax', 'norm': 'batch_no_track'}\n",
      "[2024-04-01 11:12:40] test.py(108) : tester_params{'use_cuda': True, 'cuda_device_num': 0, 'seed': 2024, 'model_load': {'path': 'result/maml_250000checkpts', 'epoch': 250000}, 'test_episodes': 2, 'test_batch_size': 1, 'augmentation_enable': True, 'test_robustness': False, 'aug_factor': 8, 'aug_batch_size': 1, 'test_set_path': '../../data/CVRP/dataset/Vrp-Set-Golden/Golden-n241', 'test_set_opt_sol_path': '../../data/CVRP/dataset/Vrp-Set-Golden/Golden-n241-sol', 'test_set_name': 'A-n33'}\n",
      "[2024-04-01 11:12:40] test.py(108) : fine_tune_params{'enable': False, 'fine_tune_episodes': 1000, 'k': 10, 'fine_tune_batch_size': 10, 'augmentation_enable': True, 'optimizer': {'lr': 1e-05, 'weight_decay': 1e-06}}\n",
      "[2024-04-01 11:12:40] test.py(108) : logger_params{'log_file': {'desc': 'test_cvrp', 'filename': 'log.txt', 'filepath': './result/20240401_111240_test_cvrp'}}\n"
     ]
    },
    {
     "name": "stderr",
     "output_type": "stream",
     "text": [
      "/home/xunj/miniconda3/lib/python3.11/site-packages/torch/__init__.py:614: UserWarning: torch.set_default_tensor_type() is deprecated as of PyTorch 2.1, please use torch.set_default_dtype() and torch.set_default_device() as alternatives. (Triggered internally at /opt/conda/conda-bld/pytorch_1699449183005/work/torch/csrc/tensor/python_tensor.cpp:451.)\n",
      "  _C._set_default_tensor_type(t)\n"
     ]
    },
    {
     "name": "stdout",
     "output_type": "stream",
     "text": [
      "['../../data/CVRP/dataset/Vrp-Set-Golden/Golden-n241/Golden_1.vrp', '../../data/CVRP/dataset/Vrp-Set-Golden/Golden-n241/Golden_17.vrp']\n",
      "[2024-04-01 11:12:46] CVRPTester.py(84) : >> Model loaded from result/maml_250000checkpts/checkpoint-250000.pt\n",
      "[2024-04-01 11:12:48] CVRPTester.py(225) : episode   1/  2, Elapsed[0.03m], Remain[0.03m], sol:5.623, score:5.771, aug_score:5.770\n",
      "[2024-04-01 11:12:48] CVRPTester.py(225) : episode   2/  2, Elapsed[0.04m], Remain[0.00m], sol:0.708, score:2.058, aug_score:1.313\n",
      "[2024-04-01 11:12:48] CVRPTester.py(231) :  *** Test Done *** \n",
      "[2024-04-01 11:12:48] CVRPTester.py(232) :  NO-AUG SCORE: 3.9144, Gap: 96.6685 \n",
      "[2024-04-01 11:12:48] CVRPTester.py(233) :  AUGMENTATION SCORE: 3.5415, Gap: 44.0774 \n",
      "3.914 (96.669%)\n",
      "3.542 (44.077%)\n",
      ">> Evaluation on ../../data/CVRP/dataset/Vrp-Set-Golden/Golden-n241 finished within 2.13s\n",
      ">> Save final results to res/Golden-n241\n",
      "Test on \" ../../data/CVRP/dataset/Vrp-Set-Golden/Golden-n241 \" Success\n",
      "-----------------------------------------------------------------------------------------------------------------\n",
      "[2024-04-01 11:12:52] test.py(106) : DEBUG_MODE: False\n",
      "[2024-04-01 11:12:52] test.py(107) : USE_CUDA: True, CUDA_DEVICE_NUM: 0\n",
      "[2024-04-01 11:12:52] test.py(108) : env_params{'problem_size': 200, 'pomo_size': 200}\n",
      "[2024-04-01 11:12:52] test.py(108) : model_params{'embedding_dim': 128, 'sqrt_embedding_dim': 11.313708498984761, 'encoder_layer_num': 6, 'qkv_dim': 16, 'head_num': 8, 'logit_clipping': 10, 'ff_hidden_dim': 512, 'eval_type': 'argmax', 'norm': 'batch_no_track'}\n",
      "[2024-04-01 11:12:52] test.py(108) : tester_params{'use_cuda': True, 'cuda_device_num': 0, 'seed': 2024, 'model_load': {'path': 'result/maml_250000checkpts', 'epoch': 250000}, 'test_episodes': 1, 'test_batch_size': 1, 'augmentation_enable': True, 'test_robustness': False, 'aug_factor': 8, 'aug_batch_size': 1, 'test_set_path': '../../data/CVRP/dataset/Vrp-Set-Golden/Golden-n253', 'test_set_opt_sol_path': '../../data/CVRP/dataset/Vrp-Set-Golden/Golden-n253-sol', 'test_set_name': 'A-n33'}\n",
      "[2024-04-01 11:12:52] test.py(108) : fine_tune_params{'enable': False, 'fine_tune_episodes': 1000, 'k': 10, 'fine_tune_batch_size': 10, 'augmentation_enable': True, 'optimizer': {'lr': 1e-05, 'weight_decay': 1e-06}}\n",
      "[2024-04-01 11:12:52] test.py(108) : logger_params{'log_file': {'desc': 'test_cvrp', 'filename': 'log.txt', 'filepath': './result/20240401_111251_test_cvrp'}}\n"
     ]
    },
    {
     "name": "stderr",
     "output_type": "stream",
     "text": [
      "/home/xunj/miniconda3/lib/python3.11/site-packages/torch/__init__.py:614: UserWarning: torch.set_default_tensor_type() is deprecated as of PyTorch 2.1, please use torch.set_default_dtype() and torch.set_default_device() as alternatives. (Triggered internally at /opt/conda/conda-bld/pytorch_1699449183005/work/torch/csrc/tensor/python_tensor.cpp:451.)\n",
      "  _C._set_default_tensor_type(t)\n"
     ]
    },
    {
     "name": "stdout",
     "output_type": "stream",
     "text": [
      "['../../data/CVRP/dataset/Vrp-Set-Golden/Golden-n253/Golden_13.vrp']\n",
      "[2024-04-01 11:12:58] CVRPTester.py(84) : >> Model loaded from result/maml_250000checkpts/checkpoint-250000.pt\n",
      "[2024-04-01 11:13:00] CVRPTester.py(225) : episode   1/  1, Elapsed[0.03m], Remain[0.00m], sol:0.857, score:2.680, aug_score:1.744\n",
      "[2024-04-01 11:13:00] CVRPTester.py(231) :  *** Test Done *** \n",
      "[2024-04-01 11:13:00] CVRPTester.py(232) :  NO-AUG SCORE: 2.6805, Gap: 212.7074 \n",
      "[2024-04-01 11:13:00] CVRPTester.py(233) :  AUGMENTATION SCORE: 1.7444, Gap: 103.4966 \n",
      "2.680 (212.707%)\n",
      "1.744 (103.497%)\n",
      ">> Evaluation on ../../data/CVRP/dataset/Vrp-Set-Golden/Golden-n253 finished within 1.84s\n",
      ">> Save final results to res/Golden-n253\n",
      "Test on \" ../../data/CVRP/dataset/Vrp-Set-Golden/Golden-n253 \" Success\n",
      "-----------------------------------------------------------------------------------------------------------------\n",
      "[2024-04-01 11:13:03] test.py(106) : DEBUG_MODE: False\n",
      "[2024-04-01 11:13:03] test.py(107) : USE_CUDA: True, CUDA_DEVICE_NUM: 0\n",
      "[2024-04-01 11:13:03] test.py(108) : env_params{'problem_size': 200, 'pomo_size': 200}\n",
      "[2024-04-01 11:13:03] test.py(108) : model_params{'embedding_dim': 128, 'sqrt_embedding_dim': 11.313708498984761, 'encoder_layer_num': 6, 'qkv_dim': 16, 'head_num': 8, 'logit_clipping': 10, 'ff_hidden_dim': 512, 'eval_type': 'argmax', 'norm': 'batch_no_track'}\n",
      "[2024-04-01 11:13:03] test.py(108) : tester_params{'use_cuda': True, 'cuda_device_num': 0, 'seed': 2024, 'model_load': {'path': 'result/maml_250000checkpts', 'epoch': 250000}, 'test_episodes': 1, 'test_batch_size': 1, 'augmentation_enable': True, 'test_robustness': False, 'aug_factor': 8, 'aug_batch_size': 1, 'test_set_path': '../../data/CVRP/dataset/Vrp-Set-Golden/Golden-n256', 'test_set_opt_sol_path': '../../data/CVRP/dataset/Vrp-Set-Golden/Golden-n256-sol', 'test_set_name': 'A-n33'}\n",
      "[2024-04-01 11:13:03] test.py(108) : fine_tune_params{'enable': False, 'fine_tune_episodes': 1000, 'k': 10, 'fine_tune_batch_size': 10, 'augmentation_enable': True, 'optimizer': {'lr': 1e-05, 'weight_decay': 1e-06}}\n",
      "[2024-04-01 11:13:03] test.py(108) : logger_params{'log_file': {'desc': 'test_cvrp', 'filename': 'log.txt', 'filepath': './result/20240401_111303_test_cvrp'}}\n"
     ]
    },
    {
     "name": "stderr",
     "output_type": "stream",
     "text": [
      "/home/xunj/miniconda3/lib/python3.11/site-packages/torch/__init__.py:614: UserWarning: torch.set_default_tensor_type() is deprecated as of PyTorch 2.1, please use torch.set_default_dtype() and torch.set_default_device() as alternatives. (Triggered internally at /opt/conda/conda-bld/pytorch_1699449183005/work/torch/csrc/tensor/python_tensor.cpp:451.)\n",
      "  _C._set_default_tensor_type(t)\n"
     ]
    },
    {
     "name": "stdout",
     "output_type": "stream",
     "text": [
      "['../../data/CVRP/dataset/Vrp-Set-Golden/Golden-n256/Golden_9.vrp']\n",
      "[2024-04-01 11:13:09] CVRPTester.py(84) : >> Model loaded from result/maml_250000checkpts/checkpoint-250000.pt\n",
      "[2024-04-01 11:13:11] CVRPTester.py(225) : episode   1/  1, Elapsed[0.03m], Remain[0.00m], sol:0.580, score:4.302, aug_score:1.546\n",
      "[2024-04-01 11:13:11] CVRPTester.py(231) :  *** Test Done *** \n",
      "[2024-04-01 11:13:11] CVRPTester.py(232) :  NO-AUG SCORE: 4.3023, Gap: 642.1525 \n",
      "[2024-04-01 11:13:11] CVRPTester.py(233) :  AUGMENTATION SCORE: 1.5456, Gap: 166.6249 \n",
      "4.302 (642.153%)\n",
      "1.546 (166.625%)\n",
      ">> Evaluation on ../../data/CVRP/dataset/Vrp-Set-Golden/Golden-n256 finished within 1.85s\n",
      ">> Save final results to res/Golden-n256\n",
      "Test on \" ../../data/CVRP/dataset/Vrp-Set-Golden/Golden-n256 \" Success\n",
      "-----------------------------------------------------------------------------------------------------------------\n",
      "[2024-04-01 11:13:14] test.py(106) : DEBUG_MODE: False\n",
      "[2024-04-01 11:13:14] test.py(107) : USE_CUDA: True, CUDA_DEVICE_NUM: 0\n",
      "[2024-04-01 11:13:14] test.py(108) : env_params{'problem_size': 200, 'pomo_size': 200}\n",
      "[2024-04-01 11:13:14] test.py(108) : model_params{'embedding_dim': 128, 'sqrt_embedding_dim': 11.313708498984761, 'encoder_layer_num': 6, 'qkv_dim': 16, 'head_num': 8, 'logit_clipping': 10, 'ff_hidden_dim': 512, 'eval_type': 'argmax', 'norm': 'batch_no_track'}\n",
      "[2024-04-01 11:13:14] test.py(108) : tester_params{'use_cuda': True, 'cuda_device_num': 0, 'seed': 2024, 'model_load': {'path': 'result/maml_250000checkpts', 'epoch': 250000}, 'test_episodes': 1, 'test_batch_size': 1, 'augmentation_enable': True, 'test_robustness': False, 'aug_factor': 8, 'aug_batch_size': 1, 'test_set_path': '../../data/CVRP/dataset/Vrp-Set-Golden/Golden-n281', 'test_set_opt_sol_path': '../../data/CVRP/dataset/Vrp-Set-Golden/Golden-n281-sol', 'test_set_name': 'A-n33'}\n",
      "[2024-04-01 11:13:14] test.py(108) : fine_tune_params{'enable': False, 'fine_tune_episodes': 1000, 'k': 10, 'fine_tune_batch_size': 10, 'augmentation_enable': True, 'optimizer': {'lr': 1e-05, 'weight_decay': 1e-06}}\n",
      "[2024-04-01 11:13:14] test.py(108) : logger_params{'log_file': {'desc': 'test_cvrp', 'filename': 'log.txt', 'filepath': './result/20240401_111314_test_cvrp'}}\n"
     ]
    },
    {
     "name": "stderr",
     "output_type": "stream",
     "text": [
      "/home/xunj/miniconda3/lib/python3.11/site-packages/torch/__init__.py:614: UserWarning: torch.set_default_tensor_type() is deprecated as of PyTorch 2.1, please use torch.set_default_dtype() and torch.set_default_device() as alternatives. (Triggered internally at /opt/conda/conda-bld/pytorch_1699449183005/work/torch/csrc/tensor/python_tensor.cpp:451.)\n",
      "  _C._set_default_tensor_type(t)\n"
     ]
    },
    {
     "name": "stdout",
     "output_type": "stream",
     "text": [
      "['../../data/CVRP/dataset/Vrp-Set-Golden/Golden-n281/Golden_6.vrp']\n",
      "[2024-04-01 11:13:20] CVRPTester.py(84) : >> Model loaded from result/maml_250000checkpts/checkpoint-250000.pt\n",
      "[2024-04-01 11:13:22] CVRPTester.py(225) : episode   1/  1, Elapsed[0.03m], Remain[0.00m], sol:8.400, score:9.942, aug_score:9.942\n",
      "[2024-04-01 11:13:22] CVRPTester.py(231) :  *** Test Done *** \n",
      "[2024-04-01 11:13:22] CVRPTester.py(232) :  NO-AUG SCORE: 9.9420, Gap: 18.3524 \n",
      "[2024-04-01 11:13:22] CVRPTester.py(233) :  AUGMENTATION SCORE: 9.9420, Gap: 18.3524 \n",
      "9.942 (18.352%)\n",
      "9.942 (18.352%)\n",
      ">> Evaluation on ../../data/CVRP/dataset/Vrp-Set-Golden/Golden-n281 finished within 1.80s\n",
      ">> Save final results to res/Golden-n281\n",
      "Test on \" ../../data/CVRP/dataset/Vrp-Set-Golden/Golden-n281 \" Success\n",
      "-----------------------------------------------------------------------------------------------------------------\n",
      "[2024-04-01 11:13:25] test.py(106) : DEBUG_MODE: False\n",
      "[2024-04-01 11:13:25] test.py(107) : USE_CUDA: True, CUDA_DEVICE_NUM: 0\n",
      "[2024-04-01 11:13:25] test.py(108) : env_params{'problem_size': 200, 'pomo_size': 200}\n",
      "[2024-04-01 11:13:25] test.py(108) : model_params{'embedding_dim': 128, 'sqrt_embedding_dim': 11.313708498984761, 'encoder_layer_num': 6, 'qkv_dim': 16, 'head_num': 8, 'logit_clipping': 10, 'ff_hidden_dim': 512, 'eval_type': 'argmax', 'norm': 'batch_no_track'}\n",
      "[2024-04-01 11:13:25] test.py(108) : tester_params{'use_cuda': True, 'cuda_device_num': 0, 'seed': 2024, 'model_load': {'path': 'result/maml_250000checkpts', 'epoch': 250000}, 'test_episodes': 1, 'test_batch_size': 1, 'augmentation_enable': True, 'test_robustness': False, 'aug_factor': 8, 'aug_batch_size': 1, 'test_set_path': '../../data/CVRP/dataset/Vrp-Set-Golden/Golden-n301', 'test_set_opt_sol_path': '../../data/CVRP/dataset/Vrp-Set-Golden/Golden-n301-sol', 'test_set_name': 'A-n33'}\n",
      "[2024-04-01 11:13:25] test.py(108) : fine_tune_params{'enable': False, 'fine_tune_episodes': 1000, 'k': 10, 'fine_tune_batch_size': 10, 'augmentation_enable': True, 'optimizer': {'lr': 1e-05, 'weight_decay': 1e-06}}\n",
      "[2024-04-01 11:13:25] test.py(108) : logger_params{'log_file': {'desc': 'test_cvrp', 'filename': 'log.txt', 'filepath': './result/20240401_111325_test_cvrp'}}\n"
     ]
    },
    {
     "name": "stderr",
     "output_type": "stream",
     "text": [
      "/home/xunj/miniconda3/lib/python3.11/site-packages/torch/__init__.py:614: UserWarning: torch.set_default_tensor_type() is deprecated as of PyTorch 2.1, please use torch.set_default_dtype() and torch.set_default_device() as alternatives. (Triggered internally at /opt/conda/conda-bld/pytorch_1699449183005/work/torch/csrc/tensor/python_tensor.cpp:451.)\n",
      "  _C._set_default_tensor_type(t)\n"
     ]
    },
    {
     "name": "stdout",
     "output_type": "stream",
     "text": [
      "['../../data/CVRP/dataset/Vrp-Set-Golden/Golden-n301/Golden_18.vrp']\n",
      "[2024-04-01 11:13:32] CVRPTester.py(84) : >> Model loaded from result/maml_250000checkpts/checkpoint-250000.pt\n",
      "[2024-04-01 11:13:34] CVRPTester.py(225) : episode   1/  1, Elapsed[0.03m], Remain[0.00m], sol:0.995, score:2.636, aug_score:2.588\n",
      "[2024-04-01 11:13:34] CVRPTester.py(231) :  *** Test Done *** \n",
      "[2024-04-01 11:13:34] CVRPTester.py(232) :  NO-AUG SCORE: 2.6358, Gap: 164.8701 \n",
      "[2024-04-01 11:13:34] CVRPTester.py(233) :  AUGMENTATION SCORE: 2.5876, Gap: 160.0261 \n",
      "2.636 (164.870%)\n",
      "2.588 (160.026%)\n",
      ">> Evaluation on ../../data/CVRP/dataset/Vrp-Set-Golden/Golden-n301 finished within 1.98s\n",
      ">> Save final results to res/Golden-n301\n",
      "Test on \" ../../data/CVRP/dataset/Vrp-Set-Golden/Golden-n301 \" Success\n",
      "-----------------------------------------------------------------------------------------------------------------\n",
      "[2024-04-01 11:13:37] test.py(106) : DEBUG_MODE: False\n",
      "[2024-04-01 11:13:37] test.py(107) : USE_CUDA: True, CUDA_DEVICE_NUM: 0\n",
      "[2024-04-01 11:13:37] test.py(108) : env_params{'problem_size': 200, 'pomo_size': 200}\n",
      "[2024-04-01 11:13:37] test.py(108) : model_params{'embedding_dim': 128, 'sqrt_embedding_dim': 11.313708498984761, 'encoder_layer_num': 6, 'qkv_dim': 16, 'head_num': 8, 'logit_clipping': 10, 'ff_hidden_dim': 512, 'eval_type': 'argmax', 'norm': 'batch_no_track'}\n",
      "[2024-04-01 11:13:37] test.py(108) : tester_params{'use_cuda': True, 'cuda_device_num': 0, 'seed': 2024, 'model_load': {'path': 'result/maml_250000checkpts', 'epoch': 250000}, 'test_episodes': 2, 'test_batch_size': 1, 'augmentation_enable': True, 'test_robustness': False, 'aug_factor': 8, 'aug_batch_size': 1, 'test_set_path': '../../data/CVRP/dataset/Vrp-Set-Golden/Golden-n321', 'test_set_opt_sol_path': '../../data/CVRP/dataset/Vrp-Set-Golden/Golden-n321-sol', 'test_set_name': 'A-n33'}\n",
      "[2024-04-01 11:13:37] test.py(108) : fine_tune_params{'enable': False, 'fine_tune_episodes': 1000, 'k': 10, 'fine_tune_batch_size': 10, 'augmentation_enable': True, 'optimizer': {'lr': 1e-05, 'weight_decay': 1e-06}}\n",
      "[2024-04-01 11:13:37] test.py(108) : logger_params{'log_file': {'desc': 'test_cvrp', 'filename': 'log.txt', 'filepath': './result/20240401_111337_test_cvrp'}}\n"
     ]
    },
    {
     "name": "stderr",
     "output_type": "stream",
     "text": [
      "/home/xunj/miniconda3/lib/python3.11/site-packages/torch/__init__.py:614: UserWarning: torch.set_default_tensor_type() is deprecated as of PyTorch 2.1, please use torch.set_default_dtype() and torch.set_default_device() as alternatives. (Triggered internally at /opt/conda/conda-bld/pytorch_1699449183005/work/torch/csrc/tensor/python_tensor.cpp:451.)\n",
      "  _C._set_default_tensor_type(t)\n"
     ]
    },
    {
     "name": "stdout",
     "output_type": "stream",
     "text": [
      "['../../data/CVRP/dataset/Vrp-Set-Golden/Golden-n321/Golden_14.vrp', '../../data/CVRP/dataset/Vrp-Set-Golden/Golden-n321/Golden_2.vrp']\n",
      "[2024-04-01 11:13:43] CVRPTester.py(84) : >> Model loaded from result/maml_250000checkpts/checkpoint-250000.pt\n",
      "[2024-04-01 11:13:46] CVRPTester.py(225) : episode   1/  2, Elapsed[0.04m], Remain[0.04m], sol:1.081, score:3.539, aug_score:2.727\n",
      "[2024-04-01 11:13:46] CVRPTester.py(225) : episode   2/  2, Elapsed[0.04m], Remain[0.00m], sol:8.405, score:8.874, aug_score:8.870\n",
      "[2024-04-01 11:13:46] CVRPTester.py(231) :  *** Test Done *** \n",
      "[2024-04-01 11:13:46] CVRPTester.py(232) :  NO-AUG SCORE: 6.2065, Gap: 116.5621 \n",
      "[2024-04-01 11:13:46] CVRPTester.py(233) :  AUGMENTATION SCORE: 5.7985, Gap: 78.9451 \n",
      "6.207 (116.562%)\n",
      "5.798 (78.945%)\n",
      ">> Evaluation on ../../data/CVRP/dataset/Vrp-Set-Golden/Golden-n321 finished within 2.57s\n",
      ">> Save final results to res/Golden-n321\n",
      "Test on \" ../../data/CVRP/dataset/Vrp-Set-Golden/Golden-n321 \" Success\n",
      "-----------------------------------------------------------------------------------------------------------------\n",
      "[2024-04-01 11:13:49] test.py(106) : DEBUG_MODE: False\n",
      "[2024-04-01 11:13:49] test.py(107) : USE_CUDA: True, CUDA_DEVICE_NUM: 0\n",
      "[2024-04-01 11:13:49] test.py(108) : env_params{'problem_size': 200, 'pomo_size': 200}\n",
      "[2024-04-01 11:13:49] test.py(108) : model_params{'embedding_dim': 128, 'sqrt_embedding_dim': 11.313708498984761, 'encoder_layer_num': 6, 'qkv_dim': 16, 'head_num': 8, 'logit_clipping': 10, 'ff_hidden_dim': 512, 'eval_type': 'argmax', 'norm': 'batch_no_track'}\n",
      "[2024-04-01 11:13:49] test.py(108) : tester_params{'use_cuda': True, 'cuda_device_num': 0, 'seed': 2024, 'model_load': {'path': 'result/maml_250000checkpts', 'epoch': 250000}, 'test_episodes': 1, 'test_batch_size': 1, 'augmentation_enable': True, 'test_robustness': False, 'aug_factor': 8, 'aug_batch_size': 1, 'test_set_path': '../../data/CVRP/dataset/Vrp-Set-Golden/Golden-n324', 'test_set_opt_sol_path': '../../data/CVRP/dataset/Vrp-Set-Golden/Golden-n324-sol', 'test_set_name': 'A-n33'}\n",
      "[2024-04-01 11:13:49] test.py(108) : fine_tune_params{'enable': False, 'fine_tune_episodes': 1000, 'k': 10, 'fine_tune_batch_size': 10, 'augmentation_enable': True, 'optimizer': {'lr': 1e-05, 'weight_decay': 1e-06}}\n",
      "[2024-04-01 11:13:49] test.py(108) : logger_params{'log_file': {'desc': 'test_cvrp', 'filename': 'log.txt', 'filepath': './result/20240401_111349_test_cvrp'}}\n"
     ]
    },
    {
     "name": "stderr",
     "output_type": "stream",
     "text": [
      "/home/xunj/miniconda3/lib/python3.11/site-packages/torch/__init__.py:614: UserWarning: torch.set_default_tensor_type() is deprecated as of PyTorch 2.1, please use torch.set_default_dtype() and torch.set_default_device() as alternatives. (Triggered internally at /opt/conda/conda-bld/pytorch_1699449183005/work/torch/csrc/tensor/python_tensor.cpp:451.)\n",
      "  _C._set_default_tensor_type(t)\n"
     ]
    },
    {
     "name": "stdout",
     "output_type": "stream",
     "text": [
      "['../../data/CVRP/dataset/Vrp-Set-Golden/Golden-n324/Golden_10.vrp']\n",
      "[2024-04-01 11:13:56] CVRPTester.py(84) : >> Model loaded from result/maml_250000checkpts/checkpoint-250000.pt\n",
      "[2024-04-01 11:13:58] CVRPTester.py(225) : episode   1/  1, Elapsed[0.04m], Remain[0.00m], sol:0.735, score:5.308, aug_score:2.098\n",
      "[2024-04-01 11:13:58] CVRPTester.py(231) :  *** Test Done *** \n",
      "[2024-04-01 11:13:58] CVRPTester.py(232) :  NO-AUG SCORE: 5.3076, Gap: 621.7012 \n",
      "[2024-04-01 11:13:58] CVRPTester.py(233) :  AUGMENTATION SCORE: 2.0979, Gap: 185.2659 \n",
      "5.308 (621.701%)\n",
      "2.098 (185.266%)\n",
      ">> Evaluation on ../../data/CVRP/dataset/Vrp-Set-Golden/Golden-n324 finished within 2.16s\n",
      ">> Save final results to res/Golden-n324\n",
      "Test on \" ../../data/CVRP/dataset/Vrp-Set-Golden/Golden-n324 \" Success\n",
      "-----------------------------------------------------------------------------------------------------------------\n",
      "[2024-04-01 11:14:01] test.py(106) : DEBUG_MODE: False\n",
      "[2024-04-01 11:14:01] test.py(107) : USE_CUDA: True, CUDA_DEVICE_NUM: 0\n",
      "[2024-04-01 11:14:01] test.py(108) : env_params{'problem_size': 200, 'pomo_size': 200}\n",
      "[2024-04-01 11:14:01] test.py(108) : model_params{'embedding_dim': 128, 'sqrt_embedding_dim': 11.313708498984761, 'encoder_layer_num': 6, 'qkv_dim': 16, 'head_num': 8, 'logit_clipping': 10, 'ff_hidden_dim': 512, 'eval_type': 'argmax', 'norm': 'batch_no_track'}\n",
      "[2024-04-01 11:14:01] test.py(108) : tester_params{'use_cuda': True, 'cuda_device_num': 0, 'seed': 2024, 'model_load': {'path': 'result/maml_250000checkpts', 'epoch': 250000}, 'test_episodes': 2, 'test_batch_size': 1, 'augmentation_enable': True, 'test_robustness': False, 'aug_factor': 8, 'aug_batch_size': 1, 'test_set_path': '../../data/CVRP/dataset/Vrp-Set-Golden/Golden-n361', 'test_set_opt_sol_path': '../../data/CVRP/dataset/Vrp-Set-Golden/Golden-n361-sol', 'test_set_name': 'A-n33'}\n",
      "[2024-04-01 11:14:01] test.py(108) : fine_tune_params{'enable': False, 'fine_tune_episodes': 1000, 'k': 10, 'fine_tune_batch_size': 10, 'augmentation_enable': True, 'optimizer': {'lr': 1e-05, 'weight_decay': 1e-06}}\n",
      "[2024-04-01 11:14:01] test.py(108) : logger_params{'log_file': {'desc': 'test_cvrp', 'filename': 'log.txt', 'filepath': './result/20240401_111401_test_cvrp'}}\n"
     ]
    },
    {
     "name": "stderr",
     "output_type": "stream",
     "text": [
      "/home/xunj/miniconda3/lib/python3.11/site-packages/torch/__init__.py:614: UserWarning: torch.set_default_tensor_type() is deprecated as of PyTorch 2.1, please use torch.set_default_dtype() and torch.set_default_device() as alternatives. (Triggered internally at /opt/conda/conda-bld/pytorch_1699449183005/work/torch/csrc/tensor/python_tensor.cpp:451.)\n",
      "  _C._set_default_tensor_type(t)\n"
     ]
    },
    {
     "name": "stdout",
     "output_type": "stream",
     "text": [
      "['../../data/CVRP/dataset/Vrp-Set-Golden/Golden-n361/Golden_19.vrp', '../../data/CVRP/dataset/Vrp-Set-Golden/Golden-n361/Golden_7.vrp']\n",
      "[2024-04-01 11:14:07] CVRPTester.py(84) : >> Model loaded from result/maml_250000checkpts/checkpoint-250000.pt\n",
      "[2024-04-01 11:14:10] CVRPTester.py(225) : episode   1/  2, Elapsed[0.04m], Remain[0.04m], sol:1.366, score:3.804, aug_score:3.744\n",
      "[2024-04-01 11:14:10] CVRPTester.py(225) : episode   2/  2, Elapsed[0.04m], Remain[0.00m], sol:10.103, score:11.754, aug_score:11.754\n",
      "[2024-04-01 11:14:10] CVRPTester.py(231) :  *** Test Done *** \n",
      "[2024-04-01 11:14:10] CVRPTester.py(232) :  NO-AUG SCORE: 7.7790, Gap: 97.4504 \n",
      "[2024-04-01 11:14:10] CVRPTester.py(233) :  AUGMENTATION SCORE: 7.7487, Gap: 95.2376 \n",
      "7.779 (97.450%)\n",
      "7.749 (95.238%)\n",
      ">> Evaluation on ../../data/CVRP/dataset/Vrp-Set-Golden/Golden-n361 finished within 2.63s\n",
      ">> Save final results to res/Golden-n361\n",
      "Test on \" ../../data/CVRP/dataset/Vrp-Set-Golden/Golden-n361 \" Success\n",
      "-----------------------------------------------------------------------------------------------------------------\n",
      "[2024-04-01 11:14:13] test.py(106) : DEBUG_MODE: False\n",
      "[2024-04-01 11:14:13] test.py(107) : USE_CUDA: True, CUDA_DEVICE_NUM: 0\n",
      "[2024-04-01 11:14:13] test.py(108) : env_params{'problem_size': 200, 'pomo_size': 200}\n",
      "[2024-04-01 11:14:13] test.py(108) : model_params{'embedding_dim': 128, 'sqrt_embedding_dim': 11.313708498984761, 'encoder_layer_num': 6, 'qkv_dim': 16, 'head_num': 8, 'logit_clipping': 10, 'ff_hidden_dim': 512, 'eval_type': 'argmax', 'norm': 'batch_no_track'}\n",
      "[2024-04-01 11:14:13] test.py(108) : tester_params{'use_cuda': True, 'cuda_device_num': 0, 'seed': 2024, 'model_load': {'path': 'result/maml_250000checkpts', 'epoch': 250000}, 'test_episodes': 1, 'test_batch_size': 1, 'augmentation_enable': True, 'test_robustness': False, 'aug_factor': 8, 'aug_batch_size': 1, 'test_set_path': '../../data/CVRP/dataset/Vrp-Set-Golden/Golden-n397', 'test_set_opt_sol_path': '../../data/CVRP/dataset/Vrp-Set-Golden/Golden-n397-sol', 'test_set_name': 'A-n33'}\n",
      "[2024-04-01 11:14:13] test.py(108) : fine_tune_params{'enable': False, 'fine_tune_episodes': 1000, 'k': 10, 'fine_tune_batch_size': 10, 'augmentation_enable': True, 'optimizer': {'lr': 1e-05, 'weight_decay': 1e-06}}\n",
      "[2024-04-01 11:14:13] test.py(108) : logger_params{'log_file': {'desc': 'test_cvrp', 'filename': 'log.txt', 'filepath': './result/20240401_111413_test_cvrp'}}\n"
     ]
    },
    {
     "name": "stderr",
     "output_type": "stream",
     "text": [
      "/home/xunj/miniconda3/lib/python3.11/site-packages/torch/__init__.py:614: UserWarning: torch.set_default_tensor_type() is deprecated as of PyTorch 2.1, please use torch.set_default_dtype() and torch.set_default_device() as alternatives. (Triggered internally at /opt/conda/conda-bld/pytorch_1699449183005/work/torch/csrc/tensor/python_tensor.cpp:451.)\n",
      "  _C._set_default_tensor_type(t)\n"
     ]
    },
    {
     "name": "stdout",
     "output_type": "stream",
     "text": [
      "['../../data/CVRP/dataset/Vrp-Set-Golden/Golden-n397/Golden_15.vrp']\n",
      "[2024-04-01 11:14:20] CVRPTester.py(84) : >> Model loaded from result/maml_250000checkpts/checkpoint-250000.pt\n",
      "[2024-04-01 11:14:23] CVRPTester.py(225) : episode   1/  1, Elapsed[0.04m], Remain[0.00m], sol:1.337, score:4.011, aug_score:4.007\n",
      "[2024-04-01 11:14:23] CVRPTester.py(231) :  *** Test Done *** \n",
      "[2024-04-01 11:14:23] CVRPTester.py(232) :  NO-AUG SCORE: 4.0108, Gap: 199.9219 \n",
      "[2024-04-01 11:14:23] CVRPTester.py(233) :  AUGMENTATION SCORE: 4.0069, Gap: 199.6321 \n",
      "4.011 (199.922%)\n",
      "4.007 (199.632%)\n",
      ">> Evaluation on ../../data/CVRP/dataset/Vrp-Set-Golden/Golden-n397 finished within 2.43s\n",
      ">> Save final results to res/Golden-n397\n",
      "Test on \" ../../data/CVRP/dataset/Vrp-Set-Golden/Golden-n397 \" Success\n",
      "-----------------------------------------------------------------------------------------------------------------\n",
      "[2024-04-01 11:14:26] test.py(106) : DEBUG_MODE: False\n",
      "[2024-04-01 11:14:26] test.py(107) : USE_CUDA: True, CUDA_DEVICE_NUM: 0\n",
      "[2024-04-01 11:14:26] test.py(108) : env_params{'problem_size': 200, 'pomo_size': 200}\n",
      "[2024-04-01 11:14:26] test.py(108) : model_params{'embedding_dim': 128, 'sqrt_embedding_dim': 11.313708498984761, 'encoder_layer_num': 6, 'qkv_dim': 16, 'head_num': 8, 'logit_clipping': 10, 'ff_hidden_dim': 512, 'eval_type': 'argmax', 'norm': 'batch_no_track'}\n",
      "[2024-04-01 11:14:26] test.py(108) : tester_params{'use_cuda': True, 'cuda_device_num': 0, 'seed': 2024, 'model_load': {'path': 'result/maml_250000checkpts', 'epoch': 250000}, 'test_episodes': 1, 'test_batch_size': 1, 'augmentation_enable': True, 'test_robustness': False, 'aug_factor': 8, 'aug_batch_size': 1, 'test_set_path': '../../data/CVRP/dataset/Vrp-Set-Golden/Golden-n400', 'test_set_opt_sol_path': '../../data/CVRP/dataset/Vrp-Set-Golden/Golden-n400-sol', 'test_set_name': 'A-n33'}\n",
      "[2024-04-01 11:14:26] test.py(108) : fine_tune_params{'enable': False, 'fine_tune_episodes': 1000, 'k': 10, 'fine_tune_batch_size': 10, 'augmentation_enable': True, 'optimizer': {'lr': 1e-05, 'weight_decay': 1e-06}}\n",
      "[2024-04-01 11:14:26] test.py(108) : logger_params{'log_file': {'desc': 'test_cvrp', 'filename': 'log.txt', 'filepath': './result/20240401_111426_test_cvrp'}}\n"
     ]
    },
    {
     "name": "stderr",
     "output_type": "stream",
     "text": [
      "/home/xunj/miniconda3/lib/python3.11/site-packages/torch/__init__.py:614: UserWarning: torch.set_default_tensor_type() is deprecated as of PyTorch 2.1, please use torch.set_default_dtype() and torch.set_default_device() as alternatives. (Triggered internally at /opt/conda/conda-bld/pytorch_1699449183005/work/torch/csrc/tensor/python_tensor.cpp:451.)\n",
      "  _C._set_default_tensor_type(t)\n"
     ]
    },
    {
     "name": "stdout",
     "output_type": "stream",
     "text": [
      "['../../data/CVRP/dataset/Vrp-Set-Golden/Golden-n400/Golden_11.vrp']\n",
      "[2024-04-01 11:14:32] CVRPTester.py(84) : >> Model loaded from result/maml_250000checkpts/checkpoint-250000.pt\n",
      "[2024-04-01 11:14:35] CVRPTester.py(225) : episode   1/  1, Elapsed[0.04m], Remain[0.00m], sol:0.912, score:8.835, aug_score:3.444\n",
      "[2024-04-01 11:14:35] CVRPTester.py(231) :  *** Test Done *** \n",
      "[2024-04-01 11:14:35] CVRPTester.py(232) :  NO-AUG SCORE: 8.8346, Gap: 868.7232 \n",
      "[2024-04-01 11:14:35] CVRPTester.py(233) :  AUGMENTATION SCORE: 3.4444, Gap: 277.6785 \n",
      "8.835 (868.723%)\n",
      "3.444 (277.679%)\n",
      ">> Evaluation on ../../data/CVRP/dataset/Vrp-Set-Golden/Golden-n400 finished within 2.41s\n",
      ">> Save final results to res/Golden-n400\n",
      "Test on \" ../../data/CVRP/dataset/Vrp-Set-Golden/Golden-n400 \" Success\n",
      "-----------------------------------------------------------------------------------------------------------------\n",
      "[2024-04-01 11:14:38] test.py(106) : DEBUG_MODE: False\n",
      "[2024-04-01 11:14:38] test.py(107) : USE_CUDA: True, CUDA_DEVICE_NUM: 0\n",
      "[2024-04-01 11:14:38] test.py(108) : env_params{'problem_size': 200, 'pomo_size': 200}\n",
      "[2024-04-01 11:14:38] test.py(108) : model_params{'embedding_dim': 128, 'sqrt_embedding_dim': 11.313708498984761, 'encoder_layer_num': 6, 'qkv_dim': 16, 'head_num': 8, 'logit_clipping': 10, 'ff_hidden_dim': 512, 'eval_type': 'argmax', 'norm': 'batch_no_track'}\n",
      "[2024-04-01 11:14:38] test.py(108) : tester_params{'use_cuda': True, 'cuda_device_num': 0, 'seed': 2024, 'model_load': {'path': 'result/maml_250000checkpts', 'epoch': 250000}, 'test_episodes': 1, 'test_batch_size': 1, 'augmentation_enable': True, 'test_robustness': False, 'aug_factor': 8, 'aug_batch_size': 1, 'test_set_path': '../../data/CVRP/dataset/Vrp-Set-Golden/Golden-n401', 'test_set_opt_sol_path': '../../data/CVRP/dataset/Vrp-Set-Golden/Golden-n401-sol', 'test_set_name': 'A-n33'}\n",
      "[2024-04-01 11:14:38] test.py(108) : fine_tune_params{'enable': False, 'fine_tune_episodes': 1000, 'k': 10, 'fine_tune_batch_size': 10, 'augmentation_enable': True, 'optimizer': {'lr': 1e-05, 'weight_decay': 1e-06}}\n",
      "[2024-04-01 11:14:38] test.py(108) : logger_params{'log_file': {'desc': 'test_cvrp', 'filename': 'log.txt', 'filepath': './result/20240401_111437_test_cvrp'}}\n"
     ]
    },
    {
     "name": "stderr",
     "output_type": "stream",
     "text": [
      "/home/xunj/miniconda3/lib/python3.11/site-packages/torch/__init__.py:614: UserWarning: torch.set_default_tensor_type() is deprecated as of PyTorch 2.1, please use torch.set_default_dtype() and torch.set_default_device() as alternatives. (Triggered internally at /opt/conda/conda-bld/pytorch_1699449183005/work/torch/csrc/tensor/python_tensor.cpp:451.)\n",
      "  _C._set_default_tensor_type(t)\n"
     ]
    },
    {
     "name": "stdout",
     "output_type": "stream",
     "text": [
      "['../../data/CVRP/dataset/Vrp-Set-Golden/Golden-n401/Golden_3.vrp']\n",
      "[2024-04-01 11:14:44] CVRPTester.py(84) : >> Model loaded from result/maml_250000checkpts/checkpoint-250000.pt\n",
      "[2024-04-01 11:14:46] CVRPTester.py(225) : episode   1/  1, Elapsed[0.04m], Remain[0.00m], sol:10.998, score:12.345, aug_score:12.345\n",
      "[2024-04-01 11:14:46] CVRPTester.py(231) :  *** Test Done *** \n",
      "[2024-04-01 11:14:46] CVRPTester.py(232) :  NO-AUG SCORE: 12.3451, Gap: 12.2507 \n",
      "[2024-04-01 11:14:46] CVRPTester.py(233) :  AUGMENTATION SCORE: 12.3451, Gap: 12.2507 \n",
      "12.345 (12.251%)\n",
      "12.345 (12.251%)\n",
      ">> Evaluation on ../../data/CVRP/dataset/Vrp-Set-Golden/Golden-n401 finished within 2.26s\n",
      ">> Save final results to res/Golden-n401\n",
      "Test on \" ../../data/CVRP/dataset/Vrp-Set-Golden/Golden-n401 \" Success\n",
      "-----------------------------------------------------------------------------------------------------------------\n",
      "[2024-04-01 11:14:50] test.py(106) : DEBUG_MODE: False\n",
      "[2024-04-01 11:14:50] test.py(107) : USE_CUDA: True, CUDA_DEVICE_NUM: 0\n",
      "[2024-04-01 11:14:50] test.py(108) : env_params{'problem_size': 200, 'pomo_size': 200}\n",
      "[2024-04-01 11:14:50] test.py(108) : model_params{'embedding_dim': 128, 'sqrt_embedding_dim': 11.313708498984761, 'encoder_layer_num': 6, 'qkv_dim': 16, 'head_num': 8, 'logit_clipping': 10, 'ff_hidden_dim': 512, 'eval_type': 'argmax', 'norm': 'batch_no_track'}\n",
      "[2024-04-01 11:14:50] test.py(108) : tester_params{'use_cuda': True, 'cuda_device_num': 0, 'seed': 2024, 'model_load': {'path': 'result/maml_250000checkpts', 'epoch': 250000}, 'test_episodes': 1, 'test_batch_size': 1, 'augmentation_enable': True, 'test_robustness': False, 'aug_factor': 8, 'aug_batch_size': 1, 'test_set_path': '../../data/CVRP/dataset/Vrp-Set-Golden/Golden-n421', 'test_set_opt_sol_path': '../../data/CVRP/dataset/Vrp-Set-Golden/Golden-n421-sol', 'test_set_name': 'A-n33'}\n",
      "[2024-04-01 11:14:50] test.py(108) : fine_tune_params{'enable': False, 'fine_tune_episodes': 1000, 'k': 10, 'fine_tune_batch_size': 10, 'augmentation_enable': True, 'optimizer': {'lr': 1e-05, 'weight_decay': 1e-06}}\n",
      "[2024-04-01 11:14:50] test.py(108) : logger_params{'log_file': {'desc': 'test_cvrp', 'filename': 'log.txt', 'filepath': './result/20240401_111449_test_cvrp'}}\n"
     ]
    },
    {
     "name": "stderr",
     "output_type": "stream",
     "text": [
      "/home/xunj/miniconda3/lib/python3.11/site-packages/torch/__init__.py:614: UserWarning: torch.set_default_tensor_type() is deprecated as of PyTorch 2.1, please use torch.set_default_dtype() and torch.set_default_device() as alternatives. (Triggered internally at /opt/conda/conda-bld/pytorch_1699449183005/work/torch/csrc/tensor/python_tensor.cpp:451.)\n",
      "  _C._set_default_tensor_type(t)\n"
     ]
    },
    {
     "name": "stdout",
     "output_type": "stream",
     "text": [
      "['../../data/CVRP/dataset/Vrp-Set-Golden/Golden-n421/Golden_20.vrp']\n",
      "[2024-04-01 11:14:56] CVRPTester.py(84) : >> Model loaded from result/maml_250000checkpts/checkpoint-250000.pt\n",
      "[2024-04-01 11:14:58] CVRPTester.py(225) : episode   1/  1, Elapsed[0.04m], Remain[0.00m], sol:1.818, score:3.878, aug_score:3.878\n",
      "[2024-04-01 11:14:58] CVRPTester.py(231) :  *** Test Done *** \n",
      "[2024-04-01 11:14:58] CVRPTester.py(232) :  NO-AUG SCORE: 3.8777, Gap: 113.3428 \n",
      "[2024-04-01 11:14:58] CVRPTester.py(233) :  AUGMENTATION SCORE: 3.8777, Gap: 113.3428 \n",
      "3.878 (113.343%)\n",
      "3.878 (113.343%)\n",
      ">> Evaluation on ../../data/CVRP/dataset/Vrp-Set-Golden/Golden-n421 finished within 2.41s\n",
      ">> Save final results to res/Golden-n421\n",
      "Test on \" ../../data/CVRP/dataset/Vrp-Set-Golden/Golden-n421 \" Success\n",
      "-----------------------------------------------------------------------------------------------------------------\n",
      "[2024-04-01 11:15:01] test.py(106) : DEBUG_MODE: False\n",
      "[2024-04-01 11:15:01] test.py(107) : USE_CUDA: True, CUDA_DEVICE_NUM: 0\n",
      "[2024-04-01 11:15:01] test.py(108) : env_params{'problem_size': 200, 'pomo_size': 200}\n",
      "[2024-04-01 11:15:01] test.py(108) : model_params{'embedding_dim': 128, 'sqrt_embedding_dim': 11.313708498984761, 'encoder_layer_num': 6, 'qkv_dim': 16, 'head_num': 8, 'logit_clipping': 10, 'ff_hidden_dim': 512, 'eval_type': 'argmax', 'norm': 'batch_no_track'}\n",
      "[2024-04-01 11:15:01] test.py(108) : tester_params{'use_cuda': True, 'cuda_device_num': 0, 'seed': 2024, 'model_load': {'path': 'result/maml_250000checkpts', 'epoch': 250000}, 'test_episodes': 1, 'test_batch_size': 1, 'augmentation_enable': True, 'test_robustness': False, 'aug_factor': 8, 'aug_batch_size': 1, 'test_set_path': '../../data/CVRP/dataset/Vrp-Set-Golden/Golden-n441', 'test_set_opt_sol_path': '../../data/CVRP/dataset/Vrp-Set-Golden/Golden-n441-sol', 'test_set_name': 'A-n33'}\n",
      "[2024-04-01 11:15:01] test.py(108) : fine_tune_params{'enable': False, 'fine_tune_episodes': 1000, 'k': 10, 'fine_tune_batch_size': 10, 'augmentation_enable': True, 'optimizer': {'lr': 1e-05, 'weight_decay': 1e-06}}\n",
      "[2024-04-01 11:15:01] test.py(108) : logger_params{'log_file': {'desc': 'test_cvrp', 'filename': 'log.txt', 'filepath': './result/20240401_111501_test_cvrp'}}\n"
     ]
    },
    {
     "name": "stderr",
     "output_type": "stream",
     "text": [
      "/home/xunj/miniconda3/lib/python3.11/site-packages/torch/__init__.py:614: UserWarning: torch.set_default_tensor_type() is deprecated as of PyTorch 2.1, please use torch.set_default_dtype() and torch.set_default_device() as alternatives. (Triggered internally at /opt/conda/conda-bld/pytorch_1699449183005/work/torch/csrc/tensor/python_tensor.cpp:451.)\n",
      "  _C._set_default_tensor_type(t)\n"
     ]
    },
    {
     "name": "stdout",
     "output_type": "stream",
     "text": [
      "['../../data/CVRP/dataset/Vrp-Set-Golden/Golden-n441/Golden_8.vrp']\n",
      "[2024-04-01 11:15:08] CVRPTester.py(84) : >> Model loaded from result/maml_250000checkpts/checkpoint-250000.pt\n",
      "[2024-04-01 11:15:11] CVRPTester.py(225) : episode   1/  1, Elapsed[0.04m], Remain[0.00m], sol:11.635, score:13.047, aug_score:13.047\n",
      "[2024-04-01 11:15:11] CVRPTester.py(231) :  *** Test Done *** \n",
      "[2024-04-01 11:15:11] CVRPTester.py(232) :  NO-AUG SCORE: 13.0469, Gap: 12.1320 \n",
      "[2024-04-01 11:15:11] CVRPTester.py(233) :  AUGMENTATION SCORE: 13.0469, Gap: 12.1320 \n",
      "13.047 (12.132%)\n",
      "13.047 (12.132%)\n",
      ">> Evaluation on ../../data/CVRP/dataset/Vrp-Set-Golden/Golden-n441 finished within 2.27s\n",
      ">> Save final results to res/Golden-n441\n",
      "Test on \" ../../data/CVRP/dataset/Vrp-Set-Golden/Golden-n441 \" Success\n",
      "-----------------------------------------------------------------------------------------------------------------\n",
      "[2024-04-01 11:15:14] test.py(106) : DEBUG_MODE: False\n",
      "[2024-04-01 11:15:14] test.py(107) : USE_CUDA: True, CUDA_DEVICE_NUM: 0\n",
      "[2024-04-01 11:15:14] test.py(108) : env_params{'problem_size': 200, 'pomo_size': 200}\n",
      "[2024-04-01 11:15:14] test.py(108) : model_params{'embedding_dim': 128, 'sqrt_embedding_dim': 11.313708498984761, 'encoder_layer_num': 6, 'qkv_dim': 16, 'head_num': 8, 'logit_clipping': 10, 'ff_hidden_dim': 512, 'eval_type': 'argmax', 'norm': 'batch_no_track'}\n",
      "[2024-04-01 11:15:14] test.py(108) : tester_params{'use_cuda': True, 'cuda_device_num': 0, 'seed': 2024, 'model_load': {'path': 'result/maml_250000checkpts', 'epoch': 250000}, 'test_episodes': 2, 'test_batch_size': 1, 'augmentation_enable': True, 'test_robustness': False, 'aug_factor': 8, 'aug_batch_size': 1, 'test_set_path': '../../data/CVRP/dataset/Vrp-Set-Golden/Golden-n481', 'test_set_opt_sol_path': '../../data/CVRP/dataset/Vrp-Set-Golden/Golden-n481-sol', 'test_set_name': 'A-n33'}\n",
      "[2024-04-01 11:15:14] test.py(108) : fine_tune_params{'enable': False, 'fine_tune_episodes': 1000, 'k': 10, 'fine_tune_batch_size': 10, 'augmentation_enable': True, 'optimizer': {'lr': 1e-05, 'weight_decay': 1e-06}}\n",
      "[2024-04-01 11:15:14] test.py(108) : logger_params{'log_file': {'desc': 'test_cvrp', 'filename': 'log.txt', 'filepath': './result/20240401_111514_test_cvrp'}}\n"
     ]
    },
    {
     "name": "stderr",
     "output_type": "stream",
     "text": [
      "/home/xunj/miniconda3/lib/python3.11/site-packages/torch/__init__.py:614: UserWarning: torch.set_default_tensor_type() is deprecated as of PyTorch 2.1, please use torch.set_default_dtype() and torch.set_default_device() as alternatives. (Triggered internally at /opt/conda/conda-bld/pytorch_1699449183005/work/torch/csrc/tensor/python_tensor.cpp:451.)\n",
      "  _C._set_default_tensor_type(t)\n"
     ]
    },
    {
     "name": "stdout",
     "output_type": "stream",
     "text": [
      "['../../data/CVRP/dataset/Vrp-Set-Golden/Golden-n481/Golden_16.vrp', '../../data/CVRP/dataset/Vrp-Set-Golden/Golden-n481/Golden_4.vrp']\n",
      "[2024-04-01 11:15:20] CVRPTester.py(84) : >> Model loaded from result/maml_250000checkpts/checkpoint-250000.pt\n",
      "[2024-04-01 11:15:23] CVRPTester.py(225) : episode   1/  2, Elapsed[0.05m], Remain[0.05m], sol:1.611, score:5.592, aug_score:5.370\n",
      "[2024-04-01 11:15:24] CVRPTester.py(225) : episode   2/  2, Elapsed[0.06m], Remain[0.00m], sol:13.589, score:16.064, aug_score:16.064\n",
      "[2024-04-01 11:15:24] CVRPTester.py(231) :  *** Test Done *** \n",
      "[2024-04-01 11:15:24] CVRPTester.py(232) :  NO-AUG SCORE: 10.8279, Gap: 132.6378 \n",
      "[2024-04-01 11:15:24] CVRPTester.py(233) :  AUGMENTATION SCORE: 10.7169, Gap: 125.7517 \n",
      "10.828 (132.638%)\n",
      "10.717 (125.752%)\n",
      ">> Evaluation on ../../data/CVRP/dataset/Vrp-Set-Golden/Golden-n481 finished within 3.61s\n",
      ">> Save final results to res/Golden-n481\n",
      "Test on \" ../../data/CVRP/dataset/Vrp-Set-Golden/Golden-n481 \" Success\n",
      "-----------------------------------------------------------------------------------------------------------------\n",
      "[2024-04-01 11:15:27] test.py(106) : DEBUG_MODE: False\n",
      "[2024-04-01 11:15:27] test.py(107) : USE_CUDA: True, CUDA_DEVICE_NUM: 0\n",
      "[2024-04-01 11:15:27] test.py(108) : env_params{'problem_size': 200, 'pomo_size': 200}\n",
      "[2024-04-01 11:15:27] test.py(108) : model_params{'embedding_dim': 128, 'sqrt_embedding_dim': 11.313708498984761, 'encoder_layer_num': 6, 'qkv_dim': 16, 'head_num': 8, 'logit_clipping': 10, 'ff_hidden_dim': 512, 'eval_type': 'argmax', 'norm': 'batch_no_track'}\n",
      "[2024-04-01 11:15:27] test.py(108) : tester_params{'use_cuda': True, 'cuda_device_num': 0, 'seed': 2024, 'model_load': {'path': 'result/maml_250000checkpts', 'epoch': 250000}, 'test_episodes': 1, 'test_batch_size': 1, 'augmentation_enable': True, 'test_robustness': False, 'aug_factor': 8, 'aug_batch_size': 1, 'test_set_path': '../../data/CVRP/dataset/Vrp-Set-Golden/Golden-n484', 'test_set_opt_sol_path': '../../data/CVRP/dataset/Vrp-Set-Golden/Golden-n484-sol', 'test_set_name': 'A-n33'}\n",
      "[2024-04-01 11:15:27] test.py(108) : fine_tune_params{'enable': False, 'fine_tune_episodes': 1000, 'k': 10, 'fine_tune_batch_size': 10, 'augmentation_enable': True, 'optimizer': {'lr': 1e-05, 'weight_decay': 1e-06}}\n",
      "[2024-04-01 11:15:27] test.py(108) : logger_params{'log_file': {'desc': 'test_cvrp', 'filename': 'log.txt', 'filepath': './result/20240401_111527_test_cvrp'}}\n"
     ]
    },
    {
     "name": "stderr",
     "output_type": "stream",
     "text": [
      "/home/xunj/miniconda3/lib/python3.11/site-packages/torch/__init__.py:614: UserWarning: torch.set_default_tensor_type() is deprecated as of PyTorch 2.1, please use torch.set_default_dtype() and torch.set_default_device() as alternatives. (Triggered internally at /opt/conda/conda-bld/pytorch_1699449183005/work/torch/csrc/tensor/python_tensor.cpp:451.)\n",
      "  _C._set_default_tensor_type(t)\n"
     ]
    },
    {
     "name": "stdout",
     "output_type": "stream",
     "text": [
      "['../../data/CVRP/dataset/Vrp-Set-Golden/Golden-n484/Golden_12.vrp']\n",
      "[2024-04-01 11:15:33] CVRPTester.py(84) : >> Model loaded from result/maml_250000checkpts/checkpoint-250000.pt\n",
      "[2024-04-01 11:15:36] CVRPTester.py(225) : episode   1/  1, Elapsed[0.04m], Remain[0.00m], sol:1.101, score:7.840, aug_score:2.917\n",
      "[2024-04-01 11:15:36] CVRPTester.py(231) :  *** Test Done *** \n",
      "[2024-04-01 11:15:36] CVRPTester.py(232) :  NO-AUG SCORE: 7.8401, Gap: 612.3044 \n",
      "[2024-04-01 11:15:36] CVRPTester.py(233) :  AUGMENTATION SCORE: 2.9166, Gap: 164.9870 \n",
      "7.840 (612.304%)\n",
      "2.917 (164.987%)\n",
      ">> Evaluation on ../../data/CVRP/dataset/Vrp-Set-Golden/Golden-n484 finished within 2.67s\n",
      ">> Save final results to res/Golden-n484\n",
      "Test on \" ../../data/CVRP/dataset/Vrp-Set-Golden/Golden-n484 \" Success\n",
      "-----------------------------------------------------------------------------------------------------------------\n",
      "[2024-04-01 11:15:39] test.py(106) : DEBUG_MODE: False\n",
      "[2024-04-01 11:15:39] test.py(107) : USE_CUDA: True, CUDA_DEVICE_NUM: 0\n",
      "[2024-04-01 11:15:39] test.py(108) : env_params{'problem_size': 200, 'pomo_size': 200}\n",
      "[2024-04-01 11:15:39] test.py(108) : model_params{'embedding_dim': 128, 'sqrt_embedding_dim': 11.313708498984761, 'encoder_layer_num': 6, 'qkv_dim': 16, 'head_num': 8, 'logit_clipping': 10, 'ff_hidden_dim': 512, 'eval_type': 'argmax', 'norm': 'batch_no_track'}\n",
      "[2024-04-01 11:15:39] test.py(108) : tester_params{'use_cuda': True, 'cuda_device_num': 0, 'seed': 2024, 'model_load': {'path': 'result/maml_250000checkpts', 'epoch': 250000}, 'test_episodes': 1, 'test_batch_size': 1, 'augmentation_enable': True, 'test_robustness': False, 'aug_factor': 8, 'aug_batch_size': 1, 'test_set_path': '../../data/CVRP/dataset/Vrp-Set-Li/Li-n1041', 'test_set_opt_sol_path': '../../data/CVRP/dataset/Vrp-Set-Li/Li-n1041-sol', 'test_set_name': 'A-n33'}\n",
      "[2024-04-01 11:15:39] test.py(108) : fine_tune_params{'enable': False, 'fine_tune_episodes': 1000, 'k': 10, 'fine_tune_batch_size': 10, 'augmentation_enable': True, 'optimizer': {'lr': 1e-05, 'weight_decay': 1e-06}}\n",
      "[2024-04-01 11:15:39] test.py(108) : logger_params{'log_file': {'desc': 'test_cvrp', 'filename': 'log.txt', 'filepath': './result/20240401_111539_test_cvrp'}}\n"
     ]
    },
    {
     "name": "stderr",
     "output_type": "stream",
     "text": [
      "/home/xunj/miniconda3/lib/python3.11/site-packages/torch/__init__.py:614: UserWarning: torch.set_default_tensor_type() is deprecated as of PyTorch 2.1, please use torch.set_default_dtype() and torch.set_default_device() as alternatives. (Triggered internally at /opt/conda/conda-bld/pytorch_1699449183005/work/torch/csrc/tensor/python_tensor.cpp:451.)\n",
      "  _C._set_default_tensor_type(t)\n"
     ]
    },
    {
     "name": "stdout",
     "output_type": "stream",
     "text": [
      "['../../data/CVRP/dataset/Vrp-Set-Li/Li-n1041/Li_30.vrp']\n",
      "[2024-04-01 11:15:46] CVRPTester.py(84) : >> Model loaded from result/maml_250000checkpts/checkpoint-250000.pt\n",
      "[2024-04-01 11:15:54] CVRPTester.py(225) : episode   1/  1, Elapsed[0.14m], Remain[0.00m], sol:31.743, score:43.900, aug_score:42.705\n",
      "[2024-04-01 11:15:54] CVRPTester.py(231) :  *** Test Done *** \n",
      "[2024-04-01 11:15:54] CVRPTester.py(232) :  NO-AUG SCORE: 43.8996, Gap: 38.2984 \n",
      "[2024-04-01 11:15:54] CVRPTester.py(233) :  AUGMENTATION SCORE: 42.7049, Gap: 34.5350 \n",
      "43.900 (38.298%)\n",
      "42.705 (34.535%)\n",
      ">> Evaluation on ../../data/CVRP/dataset/Vrp-Set-Li/Li-n1041 finished within 8.27s\n",
      ">> Save final results to res/Li-n1041\n",
      "Test on \" ../../data/CVRP/dataset/Vrp-Set-Li/Li-n1041 \" Success\n",
      "-----------------------------------------------------------------------------------------------------------------\n",
      "[2024-04-01 11:15:57] test.py(106) : DEBUG_MODE: False\n",
      "[2024-04-01 11:15:57] test.py(107) : USE_CUDA: True, CUDA_DEVICE_NUM: 0\n",
      "[2024-04-01 11:15:57] test.py(108) : env_params{'problem_size': 200, 'pomo_size': 200}\n",
      "[2024-04-01 11:15:57] test.py(108) : model_params{'embedding_dim': 128, 'sqrt_embedding_dim': 11.313708498984761, 'encoder_layer_num': 6, 'qkv_dim': 16, 'head_num': 8, 'logit_clipping': 10, 'ff_hidden_dim': 512, 'eval_type': 'argmax', 'norm': 'batch_no_track'}\n",
      "[2024-04-01 11:15:57] test.py(108) : tester_params{'use_cuda': True, 'cuda_device_num': 0, 'seed': 2024, 'model_load': {'path': 'result/maml_250000checkpts', 'epoch': 250000}, 'test_episodes': 1, 'test_batch_size': 1, 'augmentation_enable': True, 'test_robustness': False, 'aug_factor': 8, 'aug_batch_size': 1, 'test_set_path': '../../data/CVRP/dataset/Vrp-Set-Li/Li-n1121', 'test_set_opt_sol_path': '../../data/CVRP/dataset/Vrp-Set-Li/Li-n1121-sol', 'test_set_name': 'A-n33'}\n",
      "[2024-04-01 11:15:57] test.py(108) : fine_tune_params{'enable': False, 'fine_tune_episodes': 1000, 'k': 10, 'fine_tune_batch_size': 10, 'augmentation_enable': True, 'optimizer': {'lr': 1e-05, 'weight_decay': 1e-06}}\n",
      "[2024-04-01 11:15:57] test.py(108) : logger_params{'log_file': {'desc': 'test_cvrp', 'filename': 'log.txt', 'filepath': './result/20240401_111557_test_cvrp'}}\n"
     ]
    },
    {
     "name": "stderr",
     "output_type": "stream",
     "text": [
      "/home/xunj/miniconda3/lib/python3.11/site-packages/torch/__init__.py:614: UserWarning: torch.set_default_tensor_type() is deprecated as of PyTorch 2.1, please use torch.set_default_dtype() and torch.set_default_device() as alternatives. (Triggered internally at /opt/conda/conda-bld/pytorch_1699449183005/work/torch/csrc/tensor/python_tensor.cpp:451.)\n",
      "  _C._set_default_tensor_type(t)\n"
     ]
    },
    {
     "name": "stdout",
     "output_type": "stream",
     "text": [
      "['../../data/CVRP/dataset/Vrp-Set-Li/Li-n1121/Li_31.vrp']\n",
      "[2024-04-01 11:16:03] CVRPTester.py(84) : >> Model loaded from result/maml_250000checkpts/checkpoint-250000.pt\n",
      "[2024-04-01 11:16:13] CVRPTester.py(225) : episode   1/  1, Elapsed[0.16m], Remain[0.00m], sol:34.331, score:55.327, aug_score:46.322\n",
      "[2024-04-01 11:16:13] CVRPTester.py(231) :  *** Test Done *** \n",
      "[2024-04-01 11:16:13] CVRPTester.py(232) :  NO-AUG SCORE: 55.3268, Gap: 61.1571 \n",
      "[2024-04-01 11:16:13] CVRPTester.py(233) :  AUGMENTATION SCORE: 46.3216, Gap: 34.9267 \n",
      "55.327 (61.157%)\n",
      "46.322 (34.927%)\n",
      ">> Evaluation on ../../data/CVRP/dataset/Vrp-Set-Li/Li-n1121 finished within 9.54s\n",
      ">> Save final results to res/Li-n1121\n",
      "Test on \" ../../data/CVRP/dataset/Vrp-Set-Li/Li-n1121 \" Success\n",
      "-----------------------------------------------------------------------------------------------------------------\n",
      "[2024-04-01 11:16:16] test.py(106) : DEBUG_MODE: False\n",
      "[2024-04-01 11:16:16] test.py(107) : USE_CUDA: True, CUDA_DEVICE_NUM: 0\n",
      "[2024-04-01 11:16:16] test.py(108) : env_params{'problem_size': 200, 'pomo_size': 200}\n",
      "[2024-04-01 11:16:16] test.py(108) : model_params{'embedding_dim': 128, 'sqrt_embedding_dim': 11.313708498984761, 'encoder_layer_num': 6, 'qkv_dim': 16, 'head_num': 8, 'logit_clipping': 10, 'ff_hidden_dim': 512, 'eval_type': 'argmax', 'norm': 'batch_no_track'}\n",
      "[2024-04-01 11:16:16] test.py(108) : tester_params{'use_cuda': True, 'cuda_device_num': 0, 'seed': 2024, 'model_load': {'path': 'result/maml_250000checkpts', 'epoch': 250000}, 'test_episodes': 1, 'test_batch_size': 1, 'augmentation_enable': True, 'test_robustness': False, 'aug_factor': 8, 'aug_batch_size': 1, 'test_set_path': '../../data/CVRP/dataset/Vrp-Set-Li/Li-n1201', 'test_set_opt_sol_path': '../../data/CVRP/dataset/Vrp-Set-Li/Li-n1201-sol', 'test_set_name': 'A-n33'}\n",
      "[2024-04-01 11:16:16] test.py(108) : fine_tune_params{'enable': False, 'fine_tune_episodes': 1000, 'k': 10, 'fine_tune_batch_size': 10, 'augmentation_enable': True, 'optimizer': {'lr': 1e-05, 'weight_decay': 1e-06}}\n",
      "[2024-04-01 11:16:16] test.py(108) : logger_params{'log_file': {'desc': 'test_cvrp', 'filename': 'log.txt', 'filepath': './result/20240401_111616_test_cvrp'}}\n"
     ]
    },
    {
     "name": "stderr",
     "output_type": "stream",
     "text": [
      "/home/xunj/miniconda3/lib/python3.11/site-packages/torch/__init__.py:614: UserWarning: torch.set_default_tensor_type() is deprecated as of PyTorch 2.1, please use torch.set_default_dtype() and torch.set_default_device() as alternatives. (Triggered internally at /opt/conda/conda-bld/pytorch_1699449183005/work/torch/csrc/tensor/python_tensor.cpp:451.)\n",
      "  _C._set_default_tensor_type(t)\n"
     ]
    },
    {
     "name": "stdout",
     "output_type": "stream",
     "text": [
      "['../../data/CVRP/dataset/Vrp-Set-Li/Li-n1201/Li_32.vrp']\n",
      "[2024-04-01 11:16:22] CVRPTester.py(84) : >> Model loaded from result/maml_250000checkpts/checkpoint-250000.pt\n",
      "[2024-04-01 11:16:34] CVRPTester.py(225) : episode   1/  1, Elapsed[0.19m], Remain[0.00m], sol:37.159, score:79.959, aug_score:51.005\n",
      "[2024-04-01 11:16:34] CVRPTester.py(231) :  *** Test Done *** \n",
      "[2024-04-01 11:16:34] CVRPTester.py(232) :  NO-AUG SCORE: 79.9593, Gap: 115.1792 \n",
      "[2024-04-01 11:16:34] CVRPTester.py(233) :  AUGMENTATION SCORE: 51.0046, Gap: 37.2590 \n",
      "79.959 (115.179%)\n",
      "51.005 (37.259%)\n",
      ">> Evaluation on ../../data/CVRP/dataset/Vrp-Set-Li/Li-n1201 finished within 11.55s\n",
      ">> Save final results to res/Li-n1201\n",
      "Test on \" ../../data/CVRP/dataset/Vrp-Set-Li/Li-n1201 \" Success\n",
      "-----------------------------------------------------------------------------------------------------------------\n",
      "[2024-04-01 11:16:37] test.py(106) : DEBUG_MODE: False\n",
      "[2024-04-01 11:16:37] test.py(107) : USE_CUDA: True, CUDA_DEVICE_NUM: 0\n",
      "[2024-04-01 11:16:37] test.py(108) : env_params{'problem_size': 200, 'pomo_size': 200}\n",
      "[2024-04-01 11:16:37] test.py(108) : model_params{'embedding_dim': 128, 'sqrt_embedding_dim': 11.313708498984761, 'encoder_layer_num': 6, 'qkv_dim': 16, 'head_num': 8, 'logit_clipping': 10, 'ff_hidden_dim': 512, 'eval_type': 'argmax', 'norm': 'batch_no_track'}\n",
      "[2024-04-01 11:16:37] test.py(108) : tester_params{'use_cuda': True, 'cuda_device_num': 0, 'seed': 2024, 'model_load': {'path': 'result/maml_250000checkpts', 'epoch': 250000}, 'test_episodes': 1, 'test_batch_size': 1, 'augmentation_enable': True, 'test_robustness': False, 'aug_factor': 8, 'aug_batch_size': 1, 'test_set_path': '../../data/CVRP/dataset/Vrp-Set-Li/Li-n561', 'test_set_opt_sol_path': '../../data/CVRP/dataset/Vrp-Set-Li/Li-n561-sol', 'test_set_name': 'A-n33'}\n",
      "[2024-04-01 11:16:37] test.py(108) : fine_tune_params{'enable': False, 'fine_tune_episodes': 1000, 'k': 10, 'fine_tune_batch_size': 10, 'augmentation_enable': True, 'optimizer': {'lr': 1e-05, 'weight_decay': 1e-06}}\n",
      "[2024-04-01 11:16:37] test.py(108) : logger_params{'log_file': {'desc': 'test_cvrp', 'filename': 'log.txt', 'filepath': './result/20240401_111637_test_cvrp'}}\n"
     ]
    },
    {
     "name": "stderr",
     "output_type": "stream",
     "text": [
      "/home/xunj/miniconda3/lib/python3.11/site-packages/torch/__init__.py:614: UserWarning: torch.set_default_tensor_type() is deprecated as of PyTorch 2.1, please use torch.set_default_dtype() and torch.set_default_device() as alternatives. (Triggered internally at /opt/conda/conda-bld/pytorch_1699449183005/work/torch/csrc/tensor/python_tensor.cpp:451.)\n",
      "  _C._set_default_tensor_type(t)\n"
     ]
    },
    {
     "name": "stdout",
     "output_type": "stream",
     "text": [
      "['../../data/CVRP/dataset/Vrp-Set-Li/Li-n561/Li_21.vrp']\n",
      "[2024-04-01 11:16:43] CVRPTester.py(84) : >> Model loaded from result/maml_250000checkpts/checkpoint-250000.pt\n",
      "[2024-04-01 11:16:46] CVRPTester.py(225) : episode   1/  1, Elapsed[0.04m], Remain[0.00m], sol:16.213, score:18.996, aug_score:18.996\n",
      "[2024-04-01 11:16:46] CVRPTester.py(231) :  *** Test Done *** \n",
      "[2024-04-01 11:16:46] CVRPTester.py(232) :  NO-AUG SCORE: 18.9956, Gap: 17.1640 \n",
      "[2024-04-01 11:16:46] CVRPTester.py(233) :  AUGMENTATION SCORE: 18.9956, Gap: 17.1640 \n",
      "18.996 (17.164%)\n",
      "18.996 (17.164%)\n",
      ">> Evaluation on ../../data/CVRP/dataset/Vrp-Set-Li/Li-n561 finished within 2.60s\n",
      ">> Save final results to res/Li-n561\n",
      "Test on \" ../../data/CVRP/dataset/Vrp-Set-Li/Li-n561 \" Success\n",
      "-----------------------------------------------------------------------------------------------------------------\n",
      "[2024-04-01 11:16:49] test.py(106) : DEBUG_MODE: False\n",
      "[2024-04-01 11:16:49] test.py(107) : USE_CUDA: True, CUDA_DEVICE_NUM: 0\n",
      "[2024-04-01 11:16:49] test.py(108) : env_params{'problem_size': 200, 'pomo_size': 200}\n",
      "[2024-04-01 11:16:49] test.py(108) : model_params{'embedding_dim': 128, 'sqrt_embedding_dim': 11.313708498984761, 'encoder_layer_num': 6, 'qkv_dim': 16, 'head_num': 8, 'logit_clipping': 10, 'ff_hidden_dim': 512, 'eval_type': 'argmax', 'norm': 'batch_no_track'}\n",
      "[2024-04-01 11:16:49] test.py(108) : tester_params{'use_cuda': True, 'cuda_device_num': 0, 'seed': 2024, 'model_load': {'path': 'result/maml_250000checkpts', 'epoch': 250000}, 'test_episodes': 1, 'test_batch_size': 1, 'augmentation_enable': True, 'test_robustness': False, 'aug_factor': 8, 'aug_batch_size': 1, 'test_set_path': '../../data/CVRP/dataset/Vrp-Set-Li/Li-n601', 'test_set_opt_sol_path': '../../data/CVRP/dataset/Vrp-Set-Li/Li-n601-sol', 'test_set_name': 'A-n33'}\n",
      "[2024-04-01 11:16:49] test.py(108) : fine_tune_params{'enable': False, 'fine_tune_episodes': 1000, 'k': 10, 'fine_tune_batch_size': 10, 'augmentation_enable': True, 'optimizer': {'lr': 1e-05, 'weight_decay': 1e-06}}\n",
      "[2024-04-01 11:16:49] test.py(108) : logger_params{'log_file': {'desc': 'test_cvrp', 'filename': 'log.txt', 'filepath': './result/20240401_111649_test_cvrp'}}\n"
     ]
    },
    {
     "name": "stderr",
     "output_type": "stream",
     "text": [
      "/home/xunj/miniconda3/lib/python3.11/site-packages/torch/__init__.py:614: UserWarning: torch.set_default_tensor_type() is deprecated as of PyTorch 2.1, please use torch.set_default_dtype() and torch.set_default_device() as alternatives. (Triggered internally at /opt/conda/conda-bld/pytorch_1699449183005/work/torch/csrc/tensor/python_tensor.cpp:451.)\n",
      "  _C._set_default_tensor_type(t)\n"
     ]
    },
    {
     "name": "stdout",
     "output_type": "stream",
     "text": [
      "['../../data/CVRP/dataset/Vrp-Set-Li/Li-n601/Li_22.vrp']\n",
      "[2024-04-01 11:16:55] CVRPTester.py(84) : >> Model loaded from result/maml_250000checkpts/checkpoint-250000.pt\n",
      "[2024-04-01 11:16:58] CVRPTester.py(225) : episode   1/  1, Elapsed[0.05m], Remain[0.00m], sol:14.499, score:14.834, aug_score:14.834\n",
      "[2024-04-01 11:16:58] CVRPTester.py(231) :  *** Test Done *** \n",
      "[2024-04-01 11:16:58] CVRPTester.py(232) :  NO-AUG SCORE: 14.8337, Gap: 2.3083 \n",
      "[2024-04-01 11:16:58] CVRPTester.py(233) :  AUGMENTATION SCORE: 14.8337, Gap: 2.3083 \n",
      "14.834 (2.308%)\n",
      "14.834 (2.308%)\n",
      ">> Evaluation on ../../data/CVRP/dataset/Vrp-Set-Li/Li-n601 finished within 2.84s\n",
      ">> Save final results to res/Li-n601\n",
      "Test on \" ../../data/CVRP/dataset/Vrp-Set-Li/Li-n601 \" Success\n",
      "-----------------------------------------------------------------------------------------------------------------\n",
      "[2024-04-01 11:17:01] test.py(106) : DEBUG_MODE: False\n",
      "[2024-04-01 11:17:01] test.py(107) : USE_CUDA: True, CUDA_DEVICE_NUM: 0\n",
      "[2024-04-01 11:17:01] test.py(108) : env_params{'problem_size': 200, 'pomo_size': 200}\n",
      "[2024-04-01 11:17:01] test.py(108) : model_params{'embedding_dim': 128, 'sqrt_embedding_dim': 11.313708498984761, 'encoder_layer_num': 6, 'qkv_dim': 16, 'head_num': 8, 'logit_clipping': 10, 'ff_hidden_dim': 512, 'eval_type': 'argmax', 'norm': 'batch_no_track'}\n",
      "[2024-04-01 11:17:01] test.py(108) : tester_params{'use_cuda': True, 'cuda_device_num': 0, 'seed': 2024, 'model_load': {'path': 'result/maml_250000checkpts', 'epoch': 250000}, 'test_episodes': 1, 'test_batch_size': 1, 'augmentation_enable': True, 'test_robustness': False, 'aug_factor': 8, 'aug_batch_size': 1, 'test_set_path': '../../data/CVRP/dataset/Vrp-Set-Li/Li-n641', 'test_set_opt_sol_path': '../../data/CVRP/dataset/Vrp-Set-Li/Li-n641-sol', 'test_set_name': 'A-n33'}\n",
      "[2024-04-01 11:17:01] test.py(108) : fine_tune_params{'enable': False, 'fine_tune_episodes': 1000, 'k': 10, 'fine_tune_batch_size': 10, 'augmentation_enable': True, 'optimizer': {'lr': 1e-05, 'weight_decay': 1e-06}}\n",
      "[2024-04-01 11:17:01] test.py(108) : logger_params{'log_file': {'desc': 'test_cvrp', 'filename': 'log.txt', 'filepath': './result/20240401_111701_test_cvrp'}}\n"
     ]
    },
    {
     "name": "stderr",
     "output_type": "stream",
     "text": [
      "/home/xunj/miniconda3/lib/python3.11/site-packages/torch/__init__.py:614: UserWarning: torch.set_default_tensor_type() is deprecated as of PyTorch 2.1, please use torch.set_default_dtype() and torch.set_default_device() as alternatives. (Triggered internally at /opt/conda/conda-bld/pytorch_1699449183005/work/torch/csrc/tensor/python_tensor.cpp:451.)\n",
      "  _C._set_default_tensor_type(t)\n"
     ]
    },
    {
     "name": "stdout",
     "output_type": "stream",
     "text": [
      "['../../data/CVRP/dataset/Vrp-Set-Li/Li-n641/Li_23.vrp']\n",
      "[2024-04-01 11:17:07] CVRPTester.py(84) : >> Model loaded from result/maml_250000checkpts/checkpoint-250000.pt\n",
      "[2024-04-01 11:17:11] CVRPTester.py(225) : episode   1/  1, Elapsed[0.05m], Remain[0.00m], sol:18.801, score:22.550, aug_score:22.540\n",
      "[2024-04-01 11:17:11] CVRPTester.py(231) :  *** Test Done *** \n",
      "[2024-04-01 11:17:11] CVRPTester.py(232) :  NO-AUG SCORE: 22.5498, Gap: 19.9384 \n",
      "[2024-04-01 11:17:11] CVRPTester.py(233) :  AUGMENTATION SCORE: 22.5396, Gap: 19.8844 \n",
      "22.550 (19.938%)\n",
      "22.540 (19.884%)\n",
      ">> Evaluation on ../../data/CVRP/dataset/Vrp-Set-Li/Li-n641 finished within 2.98s\n",
      ">> Save final results to res/Li-n641\n",
      "Test on \" ../../data/CVRP/dataset/Vrp-Set-Li/Li-n641 \" Success\n",
      "-----------------------------------------------------------------------------------------------------------------\n",
      "[2024-04-01 11:17:14] test.py(106) : DEBUG_MODE: False\n",
      "[2024-04-01 11:17:14] test.py(107) : USE_CUDA: True, CUDA_DEVICE_NUM: 0\n",
      "[2024-04-01 11:17:14] test.py(108) : env_params{'problem_size': 200, 'pomo_size': 200}\n",
      "[2024-04-01 11:17:14] test.py(108) : model_params{'embedding_dim': 128, 'sqrt_embedding_dim': 11.313708498984761, 'encoder_layer_num': 6, 'qkv_dim': 16, 'head_num': 8, 'logit_clipping': 10, 'ff_hidden_dim': 512, 'eval_type': 'argmax', 'norm': 'batch_no_track'}\n",
      "[2024-04-01 11:17:14] test.py(108) : tester_params{'use_cuda': True, 'cuda_device_num': 0, 'seed': 2024, 'model_load': {'path': 'result/maml_250000checkpts', 'epoch': 250000}, 'test_episodes': 1, 'test_batch_size': 1, 'augmentation_enable': True, 'test_robustness': False, 'aug_factor': 8, 'aug_batch_size': 1, 'test_set_path': '../../data/CVRP/dataset/Vrp-Set-Li/Li-n721', 'test_set_opt_sol_path': '../../data/CVRP/dataset/Vrp-Set-Li/Li-n721-sol', 'test_set_name': 'A-n33'}\n",
      "[2024-04-01 11:17:14] test.py(108) : fine_tune_params{'enable': False, 'fine_tune_episodes': 1000, 'k': 10, 'fine_tune_batch_size': 10, 'augmentation_enable': True, 'optimizer': {'lr': 1e-05, 'weight_decay': 1e-06}}\n",
      "[2024-04-01 11:17:14] test.py(108) : logger_params{'log_file': {'desc': 'test_cvrp', 'filename': 'log.txt', 'filepath': './result/20240401_111713_test_cvrp'}}\n"
     ]
    },
    {
     "name": "stderr",
     "output_type": "stream",
     "text": [
      "/home/xunj/miniconda3/lib/python3.11/site-packages/torch/__init__.py:614: UserWarning: torch.set_default_tensor_type() is deprecated as of PyTorch 2.1, please use torch.set_default_dtype() and torch.set_default_device() as alternatives. (Triggered internally at /opt/conda/conda-bld/pytorch_1699449183005/work/torch/csrc/tensor/python_tensor.cpp:451.)\n",
      "  _C._set_default_tensor_type(t)\n"
     ]
    },
    {
     "name": "stdout",
     "output_type": "stream",
     "text": [
      "['../../data/CVRP/dataset/Vrp-Set-Li/Li-n721/Li_24.vrp']\n",
      "[2024-04-01 11:17:20] CVRPTester.py(84) : >> Model loaded from result/maml_250000checkpts/checkpoint-250000.pt\n",
      "[2024-04-01 11:17:23] CVRPTester.py(225) : episode   1/  1, Elapsed[0.06m], Remain[0.00m], sol:21.389, score:26.763, aug_score:26.763\n",
      "[2024-04-01 11:17:23] CVRPTester.py(231) :  *** Test Done *** \n",
      "[2024-04-01 11:17:23] CVRPTester.py(232) :  NO-AUG SCORE: 26.7630, Gap: 25.1225 \n",
      "[2024-04-01 11:17:23] CVRPTester.py(233) :  AUGMENTATION SCORE: 26.7630, Gap: 25.1225 \n",
      "26.763 (25.123%)\n",
      "26.763 (25.123%)\n",
      ">> Evaluation on ../../data/CVRP/dataset/Vrp-Set-Li/Li-n721 finished within 3.58s\n",
      ">> Save final results to res/Li-n721\n",
      "Test on \" ../../data/CVRP/dataset/Vrp-Set-Li/Li-n721 \" Success\n",
      "-----------------------------------------------------------------------------------------------------------------\n",
      "[2024-04-01 11:17:27] test.py(106) : DEBUG_MODE: False\n",
      "[2024-04-01 11:17:27] test.py(107) : USE_CUDA: True, CUDA_DEVICE_NUM: 0\n",
      "[2024-04-01 11:17:27] test.py(108) : env_params{'problem_size': 200, 'pomo_size': 200}\n",
      "[2024-04-01 11:17:27] test.py(108) : model_params{'embedding_dim': 128, 'sqrt_embedding_dim': 11.313708498984761, 'encoder_layer_num': 6, 'qkv_dim': 16, 'head_num': 8, 'logit_clipping': 10, 'ff_hidden_dim': 512, 'eval_type': 'argmax', 'norm': 'batch_no_track'}\n",
      "[2024-04-01 11:17:27] test.py(108) : tester_params{'use_cuda': True, 'cuda_device_num': 0, 'seed': 2024, 'model_load': {'path': 'result/maml_250000checkpts', 'epoch': 250000}, 'test_episodes': 1, 'test_batch_size': 1, 'augmentation_enable': True, 'test_robustness': False, 'aug_factor': 8, 'aug_batch_size': 1, 'test_set_path': '../../data/CVRP/dataset/Vrp-Set-Li/Li-n761', 'test_set_opt_sol_path': '../../data/CVRP/dataset/Vrp-Set-Li/Li-n761-sol', 'test_set_name': 'A-n33'}\n",
      "[2024-04-01 11:17:27] test.py(108) : fine_tune_params{'enable': False, 'fine_tune_episodes': 1000, 'k': 10, 'fine_tune_batch_size': 10, 'augmentation_enable': True, 'optimizer': {'lr': 1e-05, 'weight_decay': 1e-06}}\n",
      "[2024-04-01 11:17:27] test.py(108) : logger_params{'log_file': {'desc': 'test_cvrp', 'filename': 'log.txt', 'filepath': './result/20240401_111726_test_cvrp'}}\n"
     ]
    },
    {
     "name": "stderr",
     "output_type": "stream",
     "text": [
      "/home/xunj/miniconda3/lib/python3.11/site-packages/torch/__init__.py:614: UserWarning: torch.set_default_tensor_type() is deprecated as of PyTorch 2.1, please use torch.set_default_dtype() and torch.set_default_device() as alternatives. (Triggered internally at /opt/conda/conda-bld/pytorch_1699449183005/work/torch/csrc/tensor/python_tensor.cpp:451.)\n",
      "  _C._set_default_tensor_type(t)\n"
     ]
    },
    {
     "name": "stdout",
     "output_type": "stream",
     "text": [
      "['../../data/CVRP/dataset/Vrp-Set-Li/Li-n761/Li_25.vrp']\n",
      "[2024-04-01 11:17:33] CVRPTester.py(84) : >> Model loaded from result/maml_250000checkpts/checkpoint-250000.pt\n",
      "[2024-04-01 11:17:37] CVRPTester.py(225) : episode   1/  1, Elapsed[0.06m], Remain[0.00m], sol:16.666, score:16.531, aug_score:16.531\n",
      "[2024-04-01 11:17:37] CVRPTester.py(231) :  *** Test Done *** \n",
      "[2024-04-01 11:17:37] CVRPTester.py(232) :  NO-AUG SCORE: 16.5309, Gap: -0.8088 \n",
      "[2024-04-01 11:17:37] CVRPTester.py(233) :  AUGMENTATION SCORE: 16.5309, Gap: -0.8088 \n",
      "16.531 (-0.809%)\n",
      "16.531 (-0.809%)\n",
      ">> Evaluation on ../../data/CVRP/dataset/Vrp-Set-Li/Li-n761 finished within 3.83s\n",
      ">> Save final results to res/Li-n761\n",
      "Test on \" ../../data/CVRP/dataset/Vrp-Set-Li/Li-n761 \" Success\n",
      "-----------------------------------------------------------------------------------------------------------------\n",
      "[2024-04-01 11:17:40] test.py(106) : DEBUG_MODE: False\n",
      "[2024-04-01 11:17:40] test.py(107) : USE_CUDA: True, CUDA_DEVICE_NUM: 0\n",
      "[2024-04-01 11:17:40] test.py(108) : env_params{'problem_size': 200, 'pomo_size': 200}\n",
      "[2024-04-01 11:17:40] test.py(108) : model_params{'embedding_dim': 128, 'sqrt_embedding_dim': 11.313708498984761, 'encoder_layer_num': 6, 'qkv_dim': 16, 'head_num': 8, 'logit_clipping': 10, 'ff_hidden_dim': 512, 'eval_type': 'argmax', 'norm': 'batch_no_track'}\n",
      "[2024-04-01 11:17:40] test.py(108) : tester_params{'use_cuda': True, 'cuda_device_num': 0, 'seed': 2024, 'model_load': {'path': 'result/maml_250000checkpts', 'epoch': 250000}, 'test_episodes': 1, 'test_batch_size': 1, 'augmentation_enable': True, 'test_robustness': False, 'aug_factor': 8, 'aug_batch_size': 1, 'test_set_path': '../../data/CVRP/dataset/Vrp-Set-Li/Li-n801', 'test_set_opt_sol_path': '../../data/CVRP/dataset/Vrp-Set-Li/Li-n801-sol', 'test_set_name': 'A-n33'}\n",
      "[2024-04-01 11:17:40] test.py(108) : fine_tune_params{'enable': False, 'fine_tune_episodes': 1000, 'k': 10, 'fine_tune_batch_size': 10, 'augmentation_enable': True, 'optimizer': {'lr': 1e-05, 'weight_decay': 1e-06}}\n",
      "[2024-04-01 11:17:40] test.py(108) : logger_params{'log_file': {'desc': 'test_cvrp', 'filename': 'log.txt', 'filepath': './result/20240401_111740_test_cvrp'}}\n"
     ]
    },
    {
     "name": "stderr",
     "output_type": "stream",
     "text": [
      "/home/xunj/miniconda3/lib/python3.11/site-packages/torch/__init__.py:614: UserWarning: torch.set_default_tensor_type() is deprecated as of PyTorch 2.1, please use torch.set_default_dtype() and torch.set_default_device() as alternatives. (Triggered internally at /opt/conda/conda-bld/pytorch_1699449183005/work/torch/csrc/tensor/python_tensor.cpp:451.)\n",
      "  _C._set_default_tensor_type(t)\n"
     ]
    },
    {
     "name": "stdout",
     "output_type": "stream",
     "text": [
      "['../../data/CVRP/dataset/Vrp-Set-Li/Li-n801/Li_26.vrp']\n",
      "[2024-04-01 11:17:46] CVRPTester.py(84) : >> Model loaded from result/maml_250000checkpts/checkpoint-250000.pt\n",
      "[2024-04-01 11:17:50] CVRPTester.py(225) : episode   1/  1, Elapsed[0.07m], Remain[0.00m], sol:23.978, score:31.588, aug_score:30.484\n",
      "[2024-04-01 11:17:50] CVRPTester.py(231) :  *** Test Done *** \n",
      "[2024-04-01 11:17:50] CVRPTester.py(232) :  NO-AUG SCORE: 31.5879, Gap: 31.7384 \n",
      "[2024-04-01 11:17:50] CVRPTester.py(233) :  AUGMENTATION SCORE: 30.4837, Gap: 27.1334 \n",
      "31.588 (31.738%)\n",
      "30.484 (27.133%)\n",
      ">> Evaluation on ../../data/CVRP/dataset/Vrp-Set-Li/Li-n801 finished within 4.40s\n",
      ">> Save final results to res/Li-n801\n",
      "Test on \" ../../data/CVRP/dataset/Vrp-Set-Li/Li-n801 \" Success\n",
      "-----------------------------------------------------------------------------------------------------------------\n",
      "[2024-04-01 11:17:54] test.py(106) : DEBUG_MODE: False\n",
      "[2024-04-01 11:17:54] test.py(107) : USE_CUDA: True, CUDA_DEVICE_NUM: 0\n",
      "[2024-04-01 11:17:54] test.py(108) : env_params{'problem_size': 200, 'pomo_size': 200}\n",
      "[2024-04-01 11:17:54] test.py(108) : model_params{'embedding_dim': 128, 'sqrt_embedding_dim': 11.313708498984761, 'encoder_layer_num': 6, 'qkv_dim': 16, 'head_num': 8, 'logit_clipping': 10, 'ff_hidden_dim': 512, 'eval_type': 'argmax', 'norm': 'batch_no_track'}\n",
      "[2024-04-01 11:17:54] test.py(108) : tester_params{'use_cuda': True, 'cuda_device_num': 0, 'seed': 2024, 'model_load': {'path': 'result/maml_250000checkpts', 'epoch': 250000}, 'test_episodes': 1, 'test_batch_size': 1, 'augmentation_enable': True, 'test_robustness': False, 'aug_factor': 8, 'aug_batch_size': 1, 'test_set_path': '../../data/CVRP/dataset/Vrp-Set-Li/Li-n841', 'test_set_opt_sol_path': '../../data/CVRP/dataset/Vrp-Set-Li/Li-n841-sol', 'test_set_name': 'A-n33'}\n",
      "[2024-04-01 11:17:54] test.py(108) : fine_tune_params{'enable': False, 'fine_tune_episodes': 1000, 'k': 10, 'fine_tune_batch_size': 10, 'augmentation_enable': True, 'optimizer': {'lr': 1e-05, 'weight_decay': 1e-06}}\n",
      "[2024-04-01 11:17:54] test.py(108) : logger_params{'log_file': {'desc': 'test_cvrp', 'filename': 'log.txt', 'filepath': './result/20240401_111753_test_cvrp'}}\n"
     ]
    },
    {
     "name": "stderr",
     "output_type": "stream",
     "text": [
      "/home/xunj/miniconda3/lib/python3.11/site-packages/torch/__init__.py:614: UserWarning: torch.set_default_tensor_type() is deprecated as of PyTorch 2.1, please use torch.set_default_dtype() and torch.set_default_device() as alternatives. (Triggered internally at /opt/conda/conda-bld/pytorch_1699449183005/work/torch/csrc/tensor/python_tensor.cpp:451.)\n",
      "  _C._set_default_tensor_type(t)\n"
     ]
    },
    {
     "name": "stdout",
     "output_type": "stream",
     "text": [
      "['../../data/CVRP/dataset/Vrp-Set-Li/Li-n841/Li_27.vrp']\n",
      "[2024-04-01 11:18:00] CVRPTester.py(84) : >> Model loaded from result/maml_250000checkpts/checkpoint-250000.pt\n",
      "[2024-04-01 11:18:05] CVRPTester.py(225) : episode   1/  1, Elapsed[0.08m], Remain[0.00m], sol:17.320, score:17.682, aug_score:17.460\n",
      "[2024-04-01 11:18:05] CVRPTester.py(231) :  *** Test Done *** \n",
      "[2024-04-01 11:18:05] CVRPTester.py(232) :  NO-AUG SCORE: 17.6820, Gap: 2.0898 \n",
      "[2024-04-01 11:18:05] CVRPTester.py(233) :  AUGMENTATION SCORE: 17.4596, Gap: 0.8059 \n",
      "17.682 (2.090%)\n",
      "17.460 (0.806%)\n",
      ">> Evaluation on ../../data/CVRP/dataset/Vrp-Set-Li/Li-n841 finished within 4.89s\n",
      ">> Save final results to res/Li-n841\n",
      "Test on \" ../../data/CVRP/dataset/Vrp-Set-Li/Li-n841 \" Success\n",
      "-----------------------------------------------------------------------------------------------------------------\n",
      "[2024-04-01 11:18:08] test.py(106) : DEBUG_MODE: False\n",
      "[2024-04-01 11:18:08] test.py(107) : USE_CUDA: True, CUDA_DEVICE_NUM: 0\n",
      "[2024-04-01 11:18:08] test.py(108) : env_params{'problem_size': 200, 'pomo_size': 200}\n",
      "[2024-04-01 11:18:08] test.py(108) : model_params{'embedding_dim': 128, 'sqrt_embedding_dim': 11.313708498984761, 'encoder_layer_num': 6, 'qkv_dim': 16, 'head_num': 8, 'logit_clipping': 10, 'ff_hidden_dim': 512, 'eval_type': 'argmax', 'norm': 'batch_no_track'}\n",
      "[2024-04-01 11:18:08] test.py(108) : tester_params{'use_cuda': True, 'cuda_device_num': 0, 'seed': 2024, 'model_load': {'path': 'result/maml_250000checkpts', 'epoch': 250000}, 'test_episodes': 1, 'test_batch_size': 1, 'augmentation_enable': True, 'test_robustness': False, 'aug_factor': 8, 'aug_batch_size': 1, 'test_set_path': '../../data/CVRP/dataset/Vrp-Set-Li/Li-n881', 'test_set_opt_sol_path': '../../data/CVRP/dataset/Vrp-Set-Li/Li-n881-sol', 'test_set_name': 'A-n33'}\n",
      "[2024-04-01 11:18:08] test.py(108) : fine_tune_params{'enable': False, 'fine_tune_episodes': 1000, 'k': 10, 'fine_tune_batch_size': 10, 'augmentation_enable': True, 'optimizer': {'lr': 1e-05, 'weight_decay': 1e-06}}\n",
      "[2024-04-01 11:18:08] test.py(108) : logger_params{'log_file': {'desc': 'test_cvrp', 'filename': 'log.txt', 'filepath': './result/20240401_111808_test_cvrp'}}\n"
     ]
    },
    {
     "name": "stderr",
     "output_type": "stream",
     "text": [
      "/home/xunj/miniconda3/lib/python3.11/site-packages/torch/__init__.py:614: UserWarning: torch.set_default_tensor_type() is deprecated as of PyTorch 2.1, please use torch.set_default_dtype() and torch.set_default_device() as alternatives. (Triggered internally at /opt/conda/conda-bld/pytorch_1699449183005/work/torch/csrc/tensor/python_tensor.cpp:451.)\n",
      "  _C._set_default_tensor_type(t)\n"
     ]
    },
    {
     "name": "stdout",
     "output_type": "stream",
     "text": [
      "['../../data/CVRP/dataset/Vrp-Set-Li/Li-n881/Li_28.vrp']\n",
      "[2024-04-01 11:18:14] CVRPTester.py(84) : >> Model loaded from result/maml_250000checkpts/checkpoint-250000.pt\n",
      "[2024-04-01 11:18:19] CVRPTester.py(225) : episode   1/  1, Elapsed[0.09m], Remain[0.00m], sol:26.566, score:34.814, aug_score:34.814\n",
      "[2024-04-01 11:18:19] CVRPTester.py(231) :  *** Test Done *** \n",
      "[2024-04-01 11:18:19] CVRPTester.py(232) :  NO-AUG SCORE: 34.8144, Gap: 31.0487 \n",
      "[2024-04-01 11:18:19] CVRPTester.py(233) :  AUGMENTATION SCORE: 34.8144, Gap: 31.0487 \n",
      "34.814 (31.049%)\n",
      "34.814 (31.049%)\n",
      ">> Evaluation on ../../data/CVRP/dataset/Vrp-Set-Li/Li-n881 finished within 5.16s\n",
      ">> Save final results to res/Li-n881\n",
      "Test on \" ../../data/CVRP/dataset/Vrp-Set-Li/Li-n881 \" Success\n",
      "-----------------------------------------------------------------------------------------------------------------\n",
      "[2024-04-01 11:18:23] test.py(106) : DEBUG_MODE: False\n",
      "[2024-04-01 11:18:23] test.py(107) : USE_CUDA: True, CUDA_DEVICE_NUM: 0\n",
      "[2024-04-01 11:18:23] test.py(108) : env_params{'problem_size': 200, 'pomo_size': 200}\n",
      "[2024-04-01 11:18:23] test.py(108) : model_params{'embedding_dim': 128, 'sqrt_embedding_dim': 11.313708498984761, 'encoder_layer_num': 6, 'qkv_dim': 16, 'head_num': 8, 'logit_clipping': 10, 'ff_hidden_dim': 512, 'eval_type': 'argmax', 'norm': 'batch_no_track'}\n",
      "[2024-04-01 11:18:23] test.py(108) : tester_params{'use_cuda': True, 'cuda_device_num': 0, 'seed': 2024, 'model_load': {'path': 'result/maml_250000checkpts', 'epoch': 250000}, 'test_episodes': 1, 'test_batch_size': 1, 'augmentation_enable': True, 'test_robustness': False, 'aug_factor': 8, 'aug_batch_size': 1, 'test_set_path': '../../data/CVRP/dataset/Vrp-Set-Li/Li-n961', 'test_set_opt_sol_path': '../../data/CVRP/dataset/Vrp-Set-Li/Li-n961-sol', 'test_set_name': 'A-n33'}\n",
      "[2024-04-01 11:18:23] test.py(108) : fine_tune_params{'enable': False, 'fine_tune_episodes': 1000, 'k': 10, 'fine_tune_batch_size': 10, 'augmentation_enable': True, 'optimizer': {'lr': 1e-05, 'weight_decay': 1e-06}}\n",
      "[2024-04-01 11:18:23] test.py(108) : logger_params{'log_file': {'desc': 'test_cvrp', 'filename': 'log.txt', 'filepath': './result/20240401_111822_test_cvrp'}}\n"
     ]
    },
    {
     "name": "stderr",
     "output_type": "stream",
     "text": [
      "/home/xunj/miniconda3/lib/python3.11/site-packages/torch/__init__.py:614: UserWarning: torch.set_default_tensor_type() is deprecated as of PyTorch 2.1, please use torch.set_default_dtype() and torch.set_default_device() as alternatives. (Triggered internally at /opt/conda/conda-bld/pytorch_1699449183005/work/torch/csrc/tensor/python_tensor.cpp:451.)\n",
      "  _C._set_default_tensor_type(t)\n"
     ]
    },
    {
     "name": "stdout",
     "output_type": "stream",
     "text": [
      "['../../data/CVRP/dataset/Vrp-Set-Li/Li-n961/Li_29.vrp']\n",
      "[2024-04-01 11:18:29] CVRPTester.py(84) : >> Model loaded from result/maml_250000checkpts/checkpoint-250000.pt\n",
      "[2024-04-01 11:18:36] CVRPTester.py(225) : episode   1/  1, Elapsed[0.11m], Remain[0.00m], sol:29.154, score:41.918, aug_score:38.869\n",
      "[2024-04-01 11:18:36] CVRPTester.py(231) :  *** Test Done *** \n",
      "[2024-04-01 11:18:36] CVRPTester.py(232) :  NO-AUG SCORE: 41.9181, Gap: 43.7798 \n",
      "[2024-04-01 11:18:36] CVRPTester.py(233) :  AUGMENTATION SCORE: 38.8689, Gap: 33.3210 \n",
      "41.918 (43.780%)\n",
      "38.869 (33.321%)\n",
      ">> Evaluation on ../../data/CVRP/dataset/Vrp-Set-Li/Li-n961 finished within 6.49s\n",
      ">> Save final results to res/Li-n961\n",
      "Test on \" ../../data/CVRP/dataset/Vrp-Set-Li/Li-n961 \" Success\n",
      "-----------------------------------------------------------------------------------------------------------------\n",
      "[2024-04-01 11:18:39] test.py(106) : DEBUG_MODE: False\n",
      "[2024-04-01 11:18:39] test.py(107) : USE_CUDA: True, CUDA_DEVICE_NUM: 0\n",
      "[2024-04-01 11:18:39] test.py(108) : env_params{'problem_size': 200, 'pomo_size': 200}\n",
      "[2024-04-01 11:18:39] test.py(108) : model_params{'embedding_dim': 128, 'sqrt_embedding_dim': 11.313708498984761, 'encoder_layer_num': 6, 'qkv_dim': 16, 'head_num': 8, 'logit_clipping': 10, 'ff_hidden_dim': 512, 'eval_type': 'argmax', 'norm': 'batch_no_track'}\n",
      "[2024-04-01 11:18:39] test.py(108) : tester_params{'use_cuda': True, 'cuda_device_num': 0, 'seed': 2024, 'model_load': {'path': 'result/maml_250000checkpts', 'epoch': 250000}, 'test_episodes': 1, 'test_batch_size': 1, 'augmentation_enable': True, 'test_robustness': False, 'aug_factor': 8, 'aug_batch_size': 1, 'test_set_path': '../../data/CVRP/dataset/Vrp-Set-M/M-n101', 'test_set_opt_sol_path': '../../data/CVRP/dataset/Vrp-Set-M/M-n101-sol', 'test_set_name': 'A-n33'}\n",
      "[2024-04-01 11:18:39] test.py(108) : fine_tune_params{'enable': False, 'fine_tune_episodes': 1000, 'k': 10, 'fine_tune_batch_size': 10, 'augmentation_enable': True, 'optimizer': {'lr': 1e-05, 'weight_decay': 1e-06}}\n",
      "[2024-04-01 11:18:39] test.py(108) : logger_params{'log_file': {'desc': 'test_cvrp', 'filename': 'log.txt', 'filepath': './result/20240401_111839_test_cvrp'}}\n"
     ]
    },
    {
     "name": "stderr",
     "output_type": "stream",
     "text": [
      "/home/xunj/miniconda3/lib/python3.11/site-packages/torch/__init__.py:614: UserWarning: torch.set_default_tensor_type() is deprecated as of PyTorch 2.1, please use torch.set_default_dtype() and torch.set_default_device() as alternatives. (Triggered internally at /opt/conda/conda-bld/pytorch_1699449183005/work/torch/csrc/tensor/python_tensor.cpp:451.)\n",
      "  _C._set_default_tensor_type(t)\n"
     ]
    },
    {
     "name": "stdout",
     "output_type": "stream",
     "text": [
      "['../../data/CVRP/dataset/Vrp-Set-M/M-n101/M-n101-k10.vrp']\n",
      "[2024-04-01 11:18:46] CVRPTester.py(84) : >> Model loaded from result/maml_250000checkpts/checkpoint-250000.pt\n",
      "[2024-04-01 11:18:47] CVRPTester.py(225) : episode   1/  1, Elapsed[0.03m], Remain[0.00m], sol:0.820, score:1.009, aug_score:0.954\n",
      "[2024-04-01 11:18:47] CVRPTester.py(231) :  *** Test Done *** \n",
      "[2024-04-01 11:18:47] CVRPTester.py(232) :  NO-AUG SCORE: 1.0092, Gap: 23.0698 \n",
      "[2024-04-01 11:18:47] CVRPTester.py(233) :  AUGMENTATION SCORE: 0.9536, Gap: 16.2943 \n",
      "1.009 (23.070%)\n",
      "0.954 (16.294%)\n",
      ">> Evaluation on ../../data/CVRP/dataset/Vrp-Set-M/M-n101 finished within 1.57s\n",
      ">> Save final results to res/M-n101\n",
      "Test on \" ../../data/CVRP/dataset/Vrp-Set-M/M-n101 \" Success\n",
      "-----------------------------------------------------------------------------------------------------------------\n",
      "[2024-04-01 11:18:51] test.py(106) : DEBUG_MODE: False\n",
      "[2024-04-01 11:18:51] test.py(107) : USE_CUDA: True, CUDA_DEVICE_NUM: 0\n",
      "[2024-04-01 11:18:51] test.py(108) : env_params{'problem_size': 200, 'pomo_size': 200}\n",
      "[2024-04-01 11:18:51] test.py(108) : model_params{'embedding_dim': 128, 'sqrt_embedding_dim': 11.313708498984761, 'encoder_layer_num': 6, 'qkv_dim': 16, 'head_num': 8, 'logit_clipping': 10, 'ff_hidden_dim': 512, 'eval_type': 'argmax', 'norm': 'batch_no_track'}\n",
      "[2024-04-01 11:18:51] test.py(108) : tester_params{'use_cuda': True, 'cuda_device_num': 0, 'seed': 2024, 'model_load': {'path': 'result/maml_250000checkpts', 'epoch': 250000}, 'test_episodes': 1, 'test_batch_size': 1, 'augmentation_enable': True, 'test_robustness': False, 'aug_factor': 8, 'aug_batch_size': 1, 'test_set_path': '../../data/CVRP/dataset/Vrp-Set-M/M-n121', 'test_set_opt_sol_path': '../../data/CVRP/dataset/Vrp-Set-M/M-n121-sol', 'test_set_name': 'A-n33'}\n",
      "[2024-04-01 11:18:51] test.py(108) : fine_tune_params{'enable': False, 'fine_tune_episodes': 1000, 'k': 10, 'fine_tune_batch_size': 10, 'augmentation_enable': True, 'optimizer': {'lr': 1e-05, 'weight_decay': 1e-06}}\n",
      "[2024-04-01 11:18:51] test.py(108) : logger_params{'log_file': {'desc': 'test_cvrp', 'filename': 'log.txt', 'filepath': './result/20240401_111850_test_cvrp'}}\n"
     ]
    },
    {
     "name": "stderr",
     "output_type": "stream",
     "text": [
      "/home/xunj/miniconda3/lib/python3.11/site-packages/torch/__init__.py:614: UserWarning: torch.set_default_tensor_type() is deprecated as of PyTorch 2.1, please use torch.set_default_dtype() and torch.set_default_device() as alternatives. (Triggered internally at /opt/conda/conda-bld/pytorch_1699449183005/work/torch/csrc/tensor/python_tensor.cpp:451.)\n",
      "  _C._set_default_tensor_type(t)\n"
     ]
    },
    {
     "name": "stdout",
     "output_type": "stream",
     "text": [
      "['../../data/CVRP/dataset/Vrp-Set-M/M-n121/M-n121-k7.vrp']\n",
      "[2024-04-01 11:18:57] CVRPTester.py(84) : >> Model loaded from result/maml_250000checkpts/checkpoint-250000.pt\n",
      "[2024-04-01 11:18:59] CVRPTester.py(225) : episode   1/  1, Elapsed[0.03m], Remain[0.00m], sol:1.034, score:1.250, aug_score:1.150\n",
      "[2024-04-01 11:18:59] CVRPTester.py(231) :  *** Test Done *** \n",
      "[2024-04-01 11:18:59] CVRPTester.py(232) :  NO-AUG SCORE: 1.2499, Gap: 20.8810 \n",
      "[2024-04-01 11:18:59] CVRPTester.py(233) :  AUGMENTATION SCORE: 1.1504, Gap: 11.2581 \n",
      "1.250 (20.881%)\n",
      "1.150 (11.258%)\n",
      ">> Evaluation on ../../data/CVRP/dataset/Vrp-Set-M/M-n121 finished within 1.72s\n",
      ">> Save final results to res/M-n121\n",
      "Test on \" ../../data/CVRP/dataset/Vrp-Set-M/M-n121 \" Success\n",
      "-----------------------------------------------------------------------------------------------------------------\n",
      "[2024-04-01 11:19:02] test.py(106) : DEBUG_MODE: False\n",
      "[2024-04-01 11:19:02] test.py(107) : USE_CUDA: True, CUDA_DEVICE_NUM: 0\n",
      "[2024-04-01 11:19:02] test.py(108) : env_params{'problem_size': 200, 'pomo_size': 200}\n",
      "[2024-04-01 11:19:02] test.py(108) : model_params{'embedding_dim': 128, 'sqrt_embedding_dim': 11.313708498984761, 'encoder_layer_num': 6, 'qkv_dim': 16, 'head_num': 8, 'logit_clipping': 10, 'ff_hidden_dim': 512, 'eval_type': 'argmax', 'norm': 'batch_no_track'}\n",
      "[2024-04-01 11:19:02] test.py(108) : tester_params{'use_cuda': True, 'cuda_device_num': 0, 'seed': 2024, 'model_load': {'path': 'result/maml_250000checkpts', 'epoch': 250000}, 'test_episodes': 1, 'test_batch_size': 1, 'augmentation_enable': True, 'test_robustness': False, 'aug_factor': 8, 'aug_batch_size': 1, 'test_set_path': '../../data/CVRP/dataset/Vrp-Set-M/M-n151', 'test_set_opt_sol_path': '../../data/CVRP/dataset/Vrp-Set-M/M-n151-sol', 'test_set_name': 'A-n33'}\n",
      "[2024-04-01 11:19:02] test.py(108) : fine_tune_params{'enable': False, 'fine_tune_episodes': 1000, 'k': 10, 'fine_tune_batch_size': 10, 'augmentation_enable': True, 'optimizer': {'lr': 1e-05, 'weight_decay': 1e-06}}\n",
      "[2024-04-01 11:19:02] test.py(108) : logger_params{'log_file': {'desc': 'test_cvrp', 'filename': 'log.txt', 'filepath': './result/20240401_111901_test_cvrp'}}\n"
     ]
    },
    {
     "name": "stderr",
     "output_type": "stream",
     "text": [
      "/home/xunj/miniconda3/lib/python3.11/site-packages/torch/__init__.py:614: UserWarning: torch.set_default_tensor_type() is deprecated as of PyTorch 2.1, please use torch.set_default_dtype() and torch.set_default_device() as alternatives. (Triggered internally at /opt/conda/conda-bld/pytorch_1699449183005/work/torch/csrc/tensor/python_tensor.cpp:451.)\n",
      "  _C._set_default_tensor_type(t)\n"
     ]
    },
    {
     "name": "stdout",
     "output_type": "stream",
     "text": [
      "['../../data/CVRP/dataset/Vrp-Set-M/M-n151/M-n151-k12.vrp']\n",
      "[2024-04-01 11:19:08] CVRPTester.py(84) : >> Model loaded from result/maml_250000checkpts/checkpoint-250000.pt\n",
      "[2024-04-01 11:19:10] CVRPTester.py(225) : episode   1/  1, Elapsed[0.03m], Remain[0.00m], sol:1.015, score:1.878, aug_score:1.441\n",
      "[2024-04-01 11:19:10] CVRPTester.py(231) :  *** Test Done *** \n",
      "[2024-04-01 11:19:10] CVRPTester.py(232) :  NO-AUG SCORE: 1.8783, Gap: 85.0567 \n",
      "[2024-04-01 11:19:10] CVRPTester.py(233) :  AUGMENTATION SCORE: 1.4412, Gap: 41.9854 \n",
      "1.878 (85.057%)\n",
      "1.441 (41.985%)\n",
      ">> Evaluation on ../../data/CVRP/dataset/Vrp-Set-M/M-n151 finished within 1.79s\n",
      ">> Save final results to res/M-n151\n",
      "Test on \" ../../data/CVRP/dataset/Vrp-Set-M/M-n151 \" Success\n",
      "-----------------------------------------------------------------------------------------------------------------\n",
      "[2024-04-01 11:19:13] test.py(106) : DEBUG_MODE: False\n",
      "[2024-04-01 11:19:13] test.py(107) : USE_CUDA: True, CUDA_DEVICE_NUM: 0\n",
      "[2024-04-01 11:19:13] test.py(108) : env_params{'problem_size': 200, 'pomo_size': 200}\n",
      "[2024-04-01 11:19:13] test.py(108) : model_params{'embedding_dim': 128, 'sqrt_embedding_dim': 11.313708498984761, 'encoder_layer_num': 6, 'qkv_dim': 16, 'head_num': 8, 'logit_clipping': 10, 'ff_hidden_dim': 512, 'eval_type': 'argmax', 'norm': 'batch_no_track'}\n",
      "[2024-04-01 11:19:13] test.py(108) : tester_params{'use_cuda': True, 'cuda_device_num': 0, 'seed': 2024, 'model_load': {'path': 'result/maml_250000checkpts', 'epoch': 250000}, 'test_episodes': 2, 'test_batch_size': 1, 'augmentation_enable': True, 'test_robustness': False, 'aug_factor': 8, 'aug_batch_size': 1, 'test_set_path': '../../data/CVRP/dataset/Vrp-Set-M/M-n200', 'test_set_opt_sol_path': '../../data/CVRP/dataset/Vrp-Set-M/M-n200-sol', 'test_set_name': 'A-n33'}\n",
      "[2024-04-01 11:19:13] test.py(108) : fine_tune_params{'enable': False, 'fine_tune_episodes': 1000, 'k': 10, 'fine_tune_batch_size': 10, 'augmentation_enable': True, 'optimizer': {'lr': 1e-05, 'weight_decay': 1e-06}}\n",
      "[2024-04-01 11:19:13] test.py(108) : logger_params{'log_file': {'desc': 'test_cvrp', 'filename': 'log.txt', 'filepath': './result/20240401_111912_test_cvrp'}}\n"
     ]
    },
    {
     "name": "stderr",
     "output_type": "stream",
     "text": [
      "/home/xunj/miniconda3/lib/python3.11/site-packages/torch/__init__.py:614: UserWarning: torch.set_default_tensor_type() is deprecated as of PyTorch 2.1, please use torch.set_default_dtype() and torch.set_default_device() as alternatives. (Triggered internally at /opt/conda/conda-bld/pytorch_1699449183005/work/torch/csrc/tensor/python_tensor.cpp:451.)\n",
      "  _C._set_default_tensor_type(t)\n"
     ]
    },
    {
     "name": "stdout",
     "output_type": "stream",
     "text": [
      "['../../data/CVRP/dataset/Vrp-Set-M/M-n200/M-n200-k16.vrp', '../../data/CVRP/dataset/Vrp-Set-M/M-n200/M-n200-k17.vrp']\n",
      "[2024-04-01 11:19:20] CVRPTester.py(84) : >> Model loaded from result/maml_250000checkpts/checkpoint-250000.pt\n",
      "[2024-04-01 11:19:22] CVRPTester.py(225) : episode   1/  2, Elapsed[0.03m], Remain[0.03m], sol:1.274, score:3.105, aug_score:1.852\n",
      "[2024-04-01 11:19:22] CVRPTester.py(225) : episode   2/  2, Elapsed[0.04m], Remain[0.00m], sol:1.275, score:3.105, aug_score:1.852\n",
      "[2024-04-01 11:19:22] CVRPTester.py(231) :  *** Test Done *** \n",
      "[2024-04-01 11:19:22] CVRPTester.py(232) :  NO-AUG SCORE: 3.1051, Gap: 143.6302 \n",
      "[2024-04-01 11:19:22] CVRPTester.py(233) :  AUGMENTATION SCORE: 1.8516, Gap: 45.2771 \n",
      "3.105 (143.630%)\n",
      "1.852 (45.277%)\n",
      ">> Evaluation on ../../data/CVRP/dataset/Vrp-Set-M/M-n200 finished within 2.26s\n",
      ">> Save final results to res/M-n200\n",
      "Test on \" ../../data/CVRP/dataset/Vrp-Set-M/M-n200 \" Success\n",
      "-----------------------------------------------------------------------------------------------------------------\n",
      "[2024-04-01 11:19:26] test.py(106) : DEBUG_MODE: False\n",
      "[2024-04-01 11:19:26] test.py(107) : USE_CUDA: True, CUDA_DEVICE_NUM: 0\n",
      "[2024-04-01 11:19:26] test.py(108) : env_params{'problem_size': 200, 'pomo_size': 200}\n",
      "[2024-04-01 11:19:26] test.py(108) : model_params{'embedding_dim': 128, 'sqrt_embedding_dim': 11.313708498984761, 'encoder_layer_num': 6, 'qkv_dim': 16, 'head_num': 8, 'logit_clipping': 10, 'ff_hidden_dim': 512, 'eval_type': 'argmax', 'norm': 'batch_no_track'}\n",
      "[2024-04-01 11:19:26] test.py(108) : tester_params{'use_cuda': True, 'cuda_device_num': 0, 'seed': 2024, 'model_load': {'path': 'result/maml_250000checkpts', 'epoch': 250000}, 'test_episodes': 1, 'test_batch_size': 1, 'augmentation_enable': True, 'test_robustness': False, 'aug_factor': 8, 'aug_batch_size': 1, 'test_set_path': '../../data/CVRP/dataset/Vrp-Set-P/P-n101', 'test_set_opt_sol_path': '../../data/CVRP/dataset/Vrp-Set-P/P-n101-sol', 'test_set_name': 'A-n33'}\n",
      "[2024-04-01 11:19:26] test.py(108) : fine_tune_params{'enable': False, 'fine_tune_episodes': 1000, 'k': 10, 'fine_tune_batch_size': 10, 'augmentation_enable': True, 'optimizer': {'lr': 1e-05, 'weight_decay': 1e-06}}\n",
      "[2024-04-01 11:19:26] test.py(108) : logger_params{'log_file': {'desc': 'test_cvrp', 'filename': 'log.txt', 'filepath': './result/20240401_111925_test_cvrp'}}\n"
     ]
    },
    {
     "name": "stderr",
     "output_type": "stream",
     "text": [
      "/home/xunj/miniconda3/lib/python3.11/site-packages/torch/__init__.py:614: UserWarning: torch.set_default_tensor_type() is deprecated as of PyTorch 2.1, please use torch.set_default_dtype() and torch.set_default_device() as alternatives. (Triggered internally at /opt/conda/conda-bld/pytorch_1699449183005/work/torch/csrc/tensor/python_tensor.cpp:451.)\n",
      "  _C._set_default_tensor_type(t)\n"
     ]
    },
    {
     "name": "stdout",
     "output_type": "stream",
     "text": [
      "['../../data/CVRP/dataset/Vrp-Set-P/P-n101/P-n101-k4.vrp']\n",
      "[2024-04-01 11:19:32] CVRPTester.py(84) : >> Model loaded from result/maml_250000checkpts/checkpoint-250000.pt\n",
      "[2024-04-01 11:19:34] CVRPTester.py(225) : episode   1/  1, Elapsed[0.03m], Remain[0.00m], sol:0.681, score:1.041, aug_score:0.879\n",
      "[2024-04-01 11:19:34] CVRPTester.py(231) :  *** Test Done *** \n",
      "[2024-04-01 11:19:34] CVRPTester.py(232) :  NO-AUG SCORE: 1.0412, Gap: 52.8938 \n",
      "[2024-04-01 11:19:34] CVRPTester.py(233) :  AUGMENTATION SCORE: 0.8787, Gap: 29.0306 \n",
      "1.041 (52.894%)\n",
      "0.879 (29.031%)\n",
      ">> Evaluation on ../../data/CVRP/dataset/Vrp-Set-P/P-n101 finished within 1.91s\n",
      ">> Save final results to res/P-n101\n",
      "Test on \" ../../data/CVRP/dataset/Vrp-Set-P/P-n101 \" Success\n",
      "-----------------------------------------------------------------------------------------------------------------\n",
      "[2024-04-01 11:19:37] test.py(106) : DEBUG_MODE: False\n",
      "[2024-04-01 11:19:37] test.py(107) : USE_CUDA: True, CUDA_DEVICE_NUM: 0\n",
      "[2024-04-01 11:19:37] test.py(108) : env_params{'problem_size': 200, 'pomo_size': 200}\n",
      "[2024-04-01 11:19:37] test.py(108) : model_params{'embedding_dim': 128, 'sqrt_embedding_dim': 11.313708498984761, 'encoder_layer_num': 6, 'qkv_dim': 16, 'head_num': 8, 'logit_clipping': 10, 'ff_hidden_dim': 512, 'eval_type': 'argmax', 'norm': 'batch_no_track'}\n",
      "[2024-04-01 11:19:37] test.py(108) : tester_params{'use_cuda': True, 'cuda_device_num': 0, 'seed': 2024, 'model_load': {'path': 'result/maml_250000checkpts', 'epoch': 250000}, 'test_episodes': 1, 'test_batch_size': 1, 'augmentation_enable': True, 'test_robustness': False, 'aug_factor': 8, 'aug_batch_size': 1, 'test_set_path': '../../data/CVRP/dataset/Vrp-Set-P/P-n16', 'test_set_opt_sol_path': '../../data/CVRP/dataset/Vrp-Set-P/P-n16-sol', 'test_set_name': 'A-n33'}\n",
      "[2024-04-01 11:19:37] test.py(108) : fine_tune_params{'enable': False, 'fine_tune_episodes': 1000, 'k': 10, 'fine_tune_batch_size': 10, 'augmentation_enable': True, 'optimizer': {'lr': 1e-05, 'weight_decay': 1e-06}}\n",
      "[2024-04-01 11:19:37] test.py(108) : logger_params{'log_file': {'desc': 'test_cvrp', 'filename': 'log.txt', 'filepath': './result/20240401_111937_test_cvrp'}}\n"
     ]
    },
    {
     "name": "stderr",
     "output_type": "stream",
     "text": [
      "/home/xunj/miniconda3/lib/python3.11/site-packages/torch/__init__.py:614: UserWarning: torch.set_default_tensor_type() is deprecated as of PyTorch 2.1, please use torch.set_default_dtype() and torch.set_default_device() as alternatives. (Triggered internally at /opt/conda/conda-bld/pytorch_1699449183005/work/torch/csrc/tensor/python_tensor.cpp:451.)\n",
      "  _C._set_default_tensor_type(t)\n"
     ]
    },
    {
     "name": "stdout",
     "output_type": "stream",
     "text": [
      "['../../data/CVRP/dataset/Vrp-Set-P/P-n16/P-n16-k8.vrp']\n",
      "[2024-04-01 11:19:43] CVRPTester.py(84) : >> Model loaded from result/maml_250000checkpts/checkpoint-250000.pt\n",
      "[2024-04-01 11:19:45] CVRPTester.py(225) : episode   1/  1, Elapsed[0.03m], Remain[0.00m], sol:0.450, score:0.490, aug_score:0.464\n",
      "[2024-04-01 11:19:45] CVRPTester.py(231) :  *** Test Done *** \n",
      "[2024-04-01 11:19:45] CVRPTester.py(232) :  NO-AUG SCORE: 0.4898, Gap: 8.8413 \n",
      "[2024-04-01 11:19:45] CVRPTester.py(233) :  AUGMENTATION SCORE: 0.4641, Gap: 3.1265 \n",
      "0.490 (8.841%)\n",
      "0.464 (3.126%)\n",
      ">> Evaluation on ../../data/CVRP/dataset/Vrp-Set-P/P-n16 finished within 1.50s\n",
      ">> Save final results to res/P-n16\n",
      "Test on \" ../../data/CVRP/dataset/Vrp-Set-P/P-n16 \" Success\n",
      "-----------------------------------------------------------------------------------------------------------------\n",
      "[2024-04-01 11:19:48] test.py(106) : DEBUG_MODE: False\n",
      "[2024-04-01 11:19:48] test.py(107) : USE_CUDA: True, CUDA_DEVICE_NUM: 0\n",
      "[2024-04-01 11:19:48] test.py(108) : env_params{'problem_size': 200, 'pomo_size': 200}\n",
      "[2024-04-01 11:19:48] test.py(108) : model_params{'embedding_dim': 128, 'sqrt_embedding_dim': 11.313708498984761, 'encoder_layer_num': 6, 'qkv_dim': 16, 'head_num': 8, 'logit_clipping': 10, 'ff_hidden_dim': 512, 'eval_type': 'argmax', 'norm': 'batch_no_track'}\n",
      "[2024-04-01 11:19:48] test.py(108) : tester_params{'use_cuda': True, 'cuda_device_num': 0, 'seed': 2024, 'model_load': {'path': 'result/maml_250000checkpts', 'epoch': 250000}, 'test_episodes': 1, 'test_batch_size': 1, 'augmentation_enable': True, 'test_robustness': False, 'aug_factor': 8, 'aug_batch_size': 1, 'test_set_path': '../../data/CVRP/dataset/Vrp-Set-P/P-n19', 'test_set_opt_sol_path': '../../data/CVRP/dataset/Vrp-Set-P/P-n19-sol', 'test_set_name': 'A-n33'}\n",
      "[2024-04-01 11:19:48] test.py(108) : fine_tune_params{'enable': False, 'fine_tune_episodes': 1000, 'k': 10, 'fine_tune_batch_size': 10, 'augmentation_enable': True, 'optimizer': {'lr': 1e-05, 'weight_decay': 1e-06}}\n",
      "[2024-04-01 11:19:48] test.py(108) : logger_params{'log_file': {'desc': 'test_cvrp', 'filename': 'log.txt', 'filepath': './result/20240401_111948_test_cvrp'}}\n"
     ]
    },
    {
     "name": "stderr",
     "output_type": "stream",
     "text": [
      "/home/xunj/miniconda3/lib/python3.11/site-packages/torch/__init__.py:614: UserWarning: torch.set_default_tensor_type() is deprecated as of PyTorch 2.1, please use torch.set_default_dtype() and torch.set_default_device() as alternatives. (Triggered internally at /opt/conda/conda-bld/pytorch_1699449183005/work/torch/csrc/tensor/python_tensor.cpp:451.)\n",
      "  _C._set_default_tensor_type(t)\n"
     ]
    },
    {
     "name": "stdout",
     "output_type": "stream",
     "text": [
      "['../../data/CVRP/dataset/Vrp-Set-P/P-n19/P-n19-k2.vrp']\n",
      "[2024-04-01 11:19:54] CVRPTester.py(84) : >> Model loaded from result/maml_250000checkpts/checkpoint-250000.pt\n",
      "[2024-04-01 11:19:56] CVRPTester.py(225) : episode   1/  1, Elapsed[0.02m], Remain[0.00m], sol:0.212, score:0.230, aug_score:0.230\n",
      "[2024-04-01 11:19:56] CVRPTester.py(231) :  *** Test Done *** \n",
      "[2024-04-01 11:19:56] CVRPTester.py(232) :  NO-AUG SCORE: 0.2305, Gap: 8.7119 \n",
      "[2024-04-01 11:19:56] CVRPTester.py(233) :  AUGMENTATION SCORE: 0.2305, Gap: 8.7119 \n",
      "0.230 (8.712%)\n",
      "0.230 (8.712%)\n",
      ">> Evaluation on ../../data/CVRP/dataset/Vrp-Set-P/P-n19 finished within 1.49s\n",
      ">> Save final results to res/P-n19\n",
      "Test on \" ../../data/CVRP/dataset/Vrp-Set-P/P-n19 \" Success\n",
      "-----------------------------------------------------------------------------------------------------------------\n",
      "[2024-04-01 11:19:59] test.py(106) : DEBUG_MODE: False\n",
      "[2024-04-01 11:19:59] test.py(107) : USE_CUDA: True, CUDA_DEVICE_NUM: 0\n",
      "[2024-04-01 11:19:59] test.py(108) : env_params{'problem_size': 200, 'pomo_size': 200}\n",
      "[2024-04-01 11:19:59] test.py(108) : model_params{'embedding_dim': 128, 'sqrt_embedding_dim': 11.313708498984761, 'encoder_layer_num': 6, 'qkv_dim': 16, 'head_num': 8, 'logit_clipping': 10, 'ff_hidden_dim': 512, 'eval_type': 'argmax', 'norm': 'batch_no_track'}\n",
      "[2024-04-01 11:19:59] test.py(108) : tester_params{'use_cuda': True, 'cuda_device_num': 0, 'seed': 2024, 'model_load': {'path': 'result/maml_250000checkpts', 'epoch': 250000}, 'test_episodes': 1, 'test_batch_size': 1, 'augmentation_enable': True, 'test_robustness': False, 'aug_factor': 8, 'aug_batch_size': 1, 'test_set_path': '../../data/CVRP/dataset/Vrp-Set-P/P-n20', 'test_set_opt_sol_path': '../../data/CVRP/dataset/Vrp-Set-P/P-n20-sol', 'test_set_name': 'A-n33'}\n",
      "[2024-04-01 11:19:59] test.py(108) : fine_tune_params{'enable': False, 'fine_tune_episodes': 1000, 'k': 10, 'fine_tune_batch_size': 10, 'augmentation_enable': True, 'optimizer': {'lr': 1e-05, 'weight_decay': 1e-06}}\n",
      "[2024-04-01 11:19:59] test.py(108) : logger_params{'log_file': {'desc': 'test_cvrp', 'filename': 'log.txt', 'filepath': './result/20240401_111959_test_cvrp'}}\n"
     ]
    },
    {
     "name": "stderr",
     "output_type": "stream",
     "text": [
      "/home/xunj/miniconda3/lib/python3.11/site-packages/torch/__init__.py:614: UserWarning: torch.set_default_tensor_type() is deprecated as of PyTorch 2.1, please use torch.set_default_dtype() and torch.set_default_device() as alternatives. (Triggered internally at /opt/conda/conda-bld/pytorch_1699449183005/work/torch/csrc/tensor/python_tensor.cpp:451.)\n",
      "  _C._set_default_tensor_type(t)\n"
     ]
    },
    {
     "name": "stdout",
     "output_type": "stream",
     "text": [
      "['../../data/CVRP/dataset/Vrp-Set-P/P-n20/P-n20-k2.vrp']\n",
      "[2024-04-01 11:20:05] CVRPTester.py(84) : >> Model loaded from result/maml_250000checkpts/checkpoint-250000.pt\n",
      "[2024-04-01 11:20:07] CVRPTester.py(225) : episode   1/  1, Elapsed[0.02m], Remain[0.00m], sol:0.216, score:0.238, aug_score:0.238\n",
      "[2024-04-01 11:20:07] CVRPTester.py(231) :  *** Test Done *** \n",
      "[2024-04-01 11:20:07] CVRPTester.py(232) :  NO-AUG SCORE: 0.2381, Gap: 10.2508 \n",
      "[2024-04-01 11:20:07] CVRPTester.py(233) :  AUGMENTATION SCORE: 0.2381, Gap: 10.2508 \n",
      "0.238 (10.251%)\n",
      "0.238 (10.251%)\n",
      ">> Evaluation on ../../data/CVRP/dataset/Vrp-Set-P/P-n20 finished within 1.48s\n",
      ">> Save final results to res/P-n20\n",
      "Test on \" ../../data/CVRP/dataset/Vrp-Set-P/P-n20 \" Success\n",
      "-----------------------------------------------------------------------------------------------------------------\n",
      "[2024-04-01 11:20:10] test.py(106) : DEBUG_MODE: False\n",
      "[2024-04-01 11:20:10] test.py(107) : USE_CUDA: True, CUDA_DEVICE_NUM: 0\n",
      "[2024-04-01 11:20:10] test.py(108) : env_params{'problem_size': 200, 'pomo_size': 200}\n",
      "[2024-04-01 11:20:10] test.py(108) : model_params{'embedding_dim': 128, 'sqrt_embedding_dim': 11.313708498984761, 'encoder_layer_num': 6, 'qkv_dim': 16, 'head_num': 8, 'logit_clipping': 10, 'ff_hidden_dim': 512, 'eval_type': 'argmax', 'norm': 'batch_no_track'}\n",
      "[2024-04-01 11:20:10] test.py(108) : tester_params{'use_cuda': True, 'cuda_device_num': 0, 'seed': 2024, 'model_load': {'path': 'result/maml_250000checkpts', 'epoch': 250000}, 'test_episodes': 1, 'test_batch_size': 1, 'augmentation_enable': True, 'test_robustness': False, 'aug_factor': 8, 'aug_batch_size': 1, 'test_set_path': '../../data/CVRP/dataset/Vrp-Set-P/P-n21', 'test_set_opt_sol_path': '../../data/CVRP/dataset/Vrp-Set-P/P-n21-sol', 'test_set_name': 'A-n33'}\n",
      "[2024-04-01 11:20:10] test.py(108) : fine_tune_params{'enable': False, 'fine_tune_episodes': 1000, 'k': 10, 'fine_tune_batch_size': 10, 'augmentation_enable': True, 'optimizer': {'lr': 1e-05, 'weight_decay': 1e-06}}\n",
      "[2024-04-01 11:20:10] test.py(108) : logger_params{'log_file': {'desc': 'test_cvrp', 'filename': 'log.txt', 'filepath': './result/20240401_112009_test_cvrp'}}\n"
     ]
    },
    {
     "name": "stderr",
     "output_type": "stream",
     "text": [
      "/home/xunj/miniconda3/lib/python3.11/site-packages/torch/__init__.py:614: UserWarning: torch.set_default_tensor_type() is deprecated as of PyTorch 2.1, please use torch.set_default_dtype() and torch.set_default_device() as alternatives. (Triggered internally at /opt/conda/conda-bld/pytorch_1699449183005/work/torch/csrc/tensor/python_tensor.cpp:451.)\n",
      "  _C._set_default_tensor_type(t)\n"
     ]
    },
    {
     "name": "stdout",
     "output_type": "stream",
     "text": [
      "['../../data/CVRP/dataset/Vrp-Set-P/P-n21/P-n21-k2.vrp']\n",
      "[2024-04-01 11:20:16] CVRPTester.py(84) : >> Model loaded from result/maml_250000checkpts/checkpoint-250000.pt\n",
      "[2024-04-01 11:20:18] CVRPTester.py(225) : episode   1/  1, Elapsed[0.03m], Remain[0.00m], sol:0.211, score:0.236, aug_score:0.231\n",
      "[2024-04-01 11:20:18] CVRPTester.py(231) :  *** Test Done *** \n",
      "[2024-04-01 11:20:18] CVRPTester.py(232) :  NO-AUG SCORE: 0.2361, Gap: 11.9087 \n",
      "[2024-04-01 11:20:18] CVRPTester.py(233) :  AUGMENTATION SCORE: 0.2309, Gap: 9.4516 \n",
      "0.236 (11.909%)\n",
      "0.231 (9.452%)\n",
      ">> Evaluation on ../../data/CVRP/dataset/Vrp-Set-P/P-n21 finished within 1.58s\n",
      ">> Save final results to res/P-n21\n",
      "Test on \" ../../data/CVRP/dataset/Vrp-Set-P/P-n21 \" Success\n",
      "-----------------------------------------------------------------------------------------------------------------\n",
      "[2024-04-01 11:20:21] test.py(106) : DEBUG_MODE: False\n",
      "[2024-04-01 11:20:21] test.py(107) : USE_CUDA: True, CUDA_DEVICE_NUM: 0\n",
      "[2024-04-01 11:20:21] test.py(108) : env_params{'problem_size': 200, 'pomo_size': 200}\n",
      "[2024-04-01 11:20:21] test.py(108) : model_params{'embedding_dim': 128, 'sqrt_embedding_dim': 11.313708498984761, 'encoder_layer_num': 6, 'qkv_dim': 16, 'head_num': 8, 'logit_clipping': 10, 'ff_hidden_dim': 512, 'eval_type': 'argmax', 'norm': 'batch_no_track'}\n",
      "[2024-04-01 11:20:21] test.py(108) : tester_params{'use_cuda': True, 'cuda_device_num': 0, 'seed': 2024, 'model_load': {'path': 'result/maml_250000checkpts', 'epoch': 250000}, 'test_episodes': 2, 'test_batch_size': 1, 'augmentation_enable': True, 'test_robustness': False, 'aug_factor': 8, 'aug_batch_size': 1, 'test_set_path': '../../data/CVRP/dataset/Vrp-Set-P/P-n22', 'test_set_opt_sol_path': '../../data/CVRP/dataset/Vrp-Set-P/P-n22-sol', 'test_set_name': 'A-n33'}\n",
      "[2024-04-01 11:20:21] test.py(108) : fine_tune_params{'enable': False, 'fine_tune_episodes': 1000, 'k': 10, 'fine_tune_batch_size': 10, 'augmentation_enable': True, 'optimizer': {'lr': 1e-05, 'weight_decay': 1e-06}}\n",
      "[2024-04-01 11:20:21] test.py(108) : logger_params{'log_file': {'desc': 'test_cvrp', 'filename': 'log.txt', 'filepath': './result/20240401_112021_test_cvrp'}}\n"
     ]
    },
    {
     "name": "stderr",
     "output_type": "stream",
     "text": [
      "/home/xunj/miniconda3/lib/python3.11/site-packages/torch/__init__.py:614: UserWarning: torch.set_default_tensor_type() is deprecated as of PyTorch 2.1, please use torch.set_default_dtype() and torch.set_default_device() as alternatives. (Triggered internally at /opt/conda/conda-bld/pytorch_1699449183005/work/torch/csrc/tensor/python_tensor.cpp:451.)\n",
      "  _C._set_default_tensor_type(t)\n"
     ]
    },
    {
     "name": "stdout",
     "output_type": "stream",
     "text": [
      "['../../data/CVRP/dataset/Vrp-Set-P/P-n22/P-n22-k2.vrp', '../../data/CVRP/dataset/Vrp-Set-P/P-n22/P-n22-k8.vrp']\n",
      "[2024-04-01 11:20:27] CVRPTester.py(84) : >> Model loaded from result/maml_250000checkpts/checkpoint-250000.pt\n",
      "[2024-04-01 11:20:29] CVRPTester.py(225) : episode   1/  2, Elapsed[0.02m], Remain[0.02m], sol:0.216, score:0.254, aug_score:0.231\n",
      "[2024-04-01 11:20:29] CVRPTester.py(225) : episode   2/  2, Elapsed[0.03m], Remain[0.00m], sol:0.603, score:0.612, aug_score:0.611\n",
      "[2024-04-01 11:20:29] CVRPTester.py(231) :  *** Test Done *** \n",
      "[2024-04-01 11:20:29] CVRPTester.py(232) :  NO-AUG SCORE: 0.4330, Gap: 9.4669 \n",
      "[2024-04-01 11:20:29] CVRPTester.py(233) :  AUGMENTATION SCORE: 0.4208, Gap: 4.0995 \n",
      "0.433 (9.467%)\n",
      "0.421 (4.100%)\n",
      ">> Evaluation on ../../data/CVRP/dataset/Vrp-Set-P/P-n22 finished within 1.76s\n",
      ">> Save final results to res/P-n22\n",
      "Test on \" ../../data/CVRP/dataset/Vrp-Set-P/P-n22 \" Success\n",
      "-----------------------------------------------------------------------------------------------------------------\n",
      "[2024-04-01 11:20:32] test.py(106) : DEBUG_MODE: False\n",
      "[2024-04-01 11:20:32] test.py(107) : USE_CUDA: True, CUDA_DEVICE_NUM: 0\n",
      "[2024-04-01 11:20:32] test.py(108) : env_params{'problem_size': 200, 'pomo_size': 200}\n",
      "[2024-04-01 11:20:32] test.py(108) : model_params{'embedding_dim': 128, 'sqrt_embedding_dim': 11.313708498984761, 'encoder_layer_num': 6, 'qkv_dim': 16, 'head_num': 8, 'logit_clipping': 10, 'ff_hidden_dim': 512, 'eval_type': 'argmax', 'norm': 'batch_no_track'}\n",
      "[2024-04-01 11:20:32] test.py(108) : tester_params{'use_cuda': True, 'cuda_device_num': 0, 'seed': 2024, 'model_load': {'path': 'result/maml_250000checkpts', 'epoch': 250000}, 'test_episodes': 1, 'test_batch_size': 1, 'augmentation_enable': True, 'test_robustness': False, 'aug_factor': 8, 'aug_batch_size': 1, 'test_set_path': '../../data/CVRP/dataset/Vrp-Set-P/P-n23', 'test_set_opt_sol_path': '../../data/CVRP/dataset/Vrp-Set-P/P-n23-sol', 'test_set_name': 'A-n33'}\n",
      "[2024-04-01 11:20:32] test.py(108) : fine_tune_params{'enable': False, 'fine_tune_episodes': 1000, 'k': 10, 'fine_tune_batch_size': 10, 'augmentation_enable': True, 'optimizer': {'lr': 1e-05, 'weight_decay': 1e-06}}\n",
      "[2024-04-01 11:20:32] test.py(108) : logger_params{'log_file': {'desc': 'test_cvrp', 'filename': 'log.txt', 'filepath': './result/20240401_112032_test_cvrp'}}\n"
     ]
    },
    {
     "name": "stderr",
     "output_type": "stream",
     "text": [
      "/home/xunj/miniconda3/lib/python3.11/site-packages/torch/__init__.py:614: UserWarning: torch.set_default_tensor_type() is deprecated as of PyTorch 2.1, please use torch.set_default_dtype() and torch.set_default_device() as alternatives. (Triggered internally at /opt/conda/conda-bld/pytorch_1699449183005/work/torch/csrc/tensor/python_tensor.cpp:451.)\n",
      "  _C._set_default_tensor_type(t)\n"
     ]
    },
    {
     "name": "stdout",
     "output_type": "stream",
     "text": [
      "['../../data/CVRP/dataset/Vrp-Set-P/P-n23/P-n23-k8.vrp']\n",
      "[2024-04-01 11:20:38] CVRPTester.py(84) : >> Model loaded from result/maml_250000checkpts/checkpoint-250000.pt\n",
      "[2024-04-01 11:20:40] CVRPTester.py(225) : episode   1/  1, Elapsed[0.03m], Remain[0.00m], sol:0.529, score:0.568, aug_score:0.543\n",
      "[2024-04-01 11:20:40] CVRPTester.py(231) :  *** Test Done *** \n",
      "[2024-04-01 11:20:40] CVRPTester.py(232) :  NO-AUG SCORE: 0.5679, Gap: 7.3545 \n",
      "[2024-04-01 11:20:40] CVRPTester.py(233) :  AUGMENTATION SCORE: 0.5425, Gap: 2.5614 \n",
      "0.568 (7.355%)\n",
      "0.543 (2.561%)\n",
      ">> Evaluation on ../../data/CVRP/dataset/Vrp-Set-P/P-n23 finished within 1.54s\n",
      ">> Save final results to res/P-n23\n",
      "Test on \" ../../data/CVRP/dataset/Vrp-Set-P/P-n23 \" Success\n",
      "-----------------------------------------------------------------------------------------------------------------\n",
      "[2024-04-01 11:20:43] test.py(106) : DEBUG_MODE: False\n",
      "[2024-04-01 11:20:43] test.py(107) : USE_CUDA: True, CUDA_DEVICE_NUM: 0\n",
      "[2024-04-01 11:20:43] test.py(108) : env_params{'problem_size': 200, 'pomo_size': 200}\n",
      "[2024-04-01 11:20:43] test.py(108) : model_params{'embedding_dim': 128, 'sqrt_embedding_dim': 11.313708498984761, 'encoder_layer_num': 6, 'qkv_dim': 16, 'head_num': 8, 'logit_clipping': 10, 'ff_hidden_dim': 512, 'eval_type': 'argmax', 'norm': 'batch_no_track'}\n",
      "[2024-04-01 11:20:43] test.py(108) : tester_params{'use_cuda': True, 'cuda_device_num': 0, 'seed': 2024, 'model_load': {'path': 'result/maml_250000checkpts', 'epoch': 250000}, 'test_episodes': 1, 'test_batch_size': 1, 'augmentation_enable': True, 'test_robustness': False, 'aug_factor': 8, 'aug_batch_size': 1, 'test_set_path': '../../data/CVRP/dataset/Vrp-Set-P/P-n40', 'test_set_opt_sol_path': '../../data/CVRP/dataset/Vrp-Set-P/P-n40-sol', 'test_set_name': 'A-n33'}\n",
      "[2024-04-01 11:20:43] test.py(108) : fine_tune_params{'enable': False, 'fine_tune_episodes': 1000, 'k': 10, 'fine_tune_batch_size': 10, 'augmentation_enable': True, 'optimizer': {'lr': 1e-05, 'weight_decay': 1e-06}}\n",
      "[2024-04-01 11:20:43] test.py(108) : logger_params{'log_file': {'desc': 'test_cvrp', 'filename': 'log.txt', 'filepath': './result/20240401_112043_test_cvrp'}}\n"
     ]
    },
    {
     "name": "stderr",
     "output_type": "stream",
     "text": [
      "/home/xunj/miniconda3/lib/python3.11/site-packages/torch/__init__.py:614: UserWarning: torch.set_default_tensor_type() is deprecated as of PyTorch 2.1, please use torch.set_default_dtype() and torch.set_default_device() as alternatives. (Triggered internally at /opt/conda/conda-bld/pytorch_1699449183005/work/torch/csrc/tensor/python_tensor.cpp:451.)\n",
      "  _C._set_default_tensor_type(t)\n"
     ]
    },
    {
     "name": "stdout",
     "output_type": "stream",
     "text": [
      "['../../data/CVRP/dataset/Vrp-Set-P/P-n40/P-n40-k5.vrp']\n",
      "[2024-04-01 11:20:49] CVRPTester.py(84) : >> Model loaded from result/maml_250000checkpts/checkpoint-250000.pt\n",
      "[2024-04-01 11:20:51] CVRPTester.py(225) : episode   1/  1, Elapsed[0.03m], Remain[0.00m], sol:0.458, score:0.586, aug_score:0.586\n",
      "[2024-04-01 11:20:51] CVRPTester.py(231) :  *** Test Done *** \n",
      "[2024-04-01 11:20:51] CVRPTester.py(232) :  NO-AUG SCORE: 0.5861, Gap: 27.9635 \n",
      "[2024-04-01 11:20:51] CVRPTester.py(233) :  AUGMENTATION SCORE: 0.5861, Gap: 27.9635 \n",
      "0.586 (27.963%)\n",
      "0.586 (27.963%)\n",
      ">> Evaluation on ../../data/CVRP/dataset/Vrp-Set-P/P-n40 finished within 1.52s\n",
      ">> Save final results to res/P-n40\n",
      "Test on \" ../../data/CVRP/dataset/Vrp-Set-P/P-n40 \" Success\n",
      "-----------------------------------------------------------------------------------------------------------------\n",
      "[2024-04-01 11:20:54] test.py(106) : DEBUG_MODE: False\n",
      "[2024-04-01 11:20:54] test.py(107) : USE_CUDA: True, CUDA_DEVICE_NUM: 0\n",
      "[2024-04-01 11:20:54] test.py(108) : env_params{'problem_size': 200, 'pomo_size': 200}\n",
      "[2024-04-01 11:20:54] test.py(108) : model_params{'embedding_dim': 128, 'sqrt_embedding_dim': 11.313708498984761, 'encoder_layer_num': 6, 'qkv_dim': 16, 'head_num': 8, 'logit_clipping': 10, 'ff_hidden_dim': 512, 'eval_type': 'argmax', 'norm': 'batch_no_track'}\n",
      "[2024-04-01 11:20:54] test.py(108) : tester_params{'use_cuda': True, 'cuda_device_num': 0, 'seed': 2024, 'model_load': {'path': 'result/maml_250000checkpts', 'epoch': 250000}, 'test_episodes': 1, 'test_batch_size': 1, 'augmentation_enable': True, 'test_robustness': False, 'aug_factor': 8, 'aug_batch_size': 1, 'test_set_path': '../../data/CVRP/dataset/Vrp-Set-P/P-n45', 'test_set_opt_sol_path': '../../data/CVRP/dataset/Vrp-Set-P/P-n45-sol', 'test_set_name': 'A-n33'}\n",
      "[2024-04-01 11:20:54] test.py(108) : fine_tune_params{'enable': False, 'fine_tune_episodes': 1000, 'k': 10, 'fine_tune_batch_size': 10, 'augmentation_enable': True, 'optimizer': {'lr': 1e-05, 'weight_decay': 1e-06}}\n",
      "[2024-04-01 11:20:54] test.py(108) : logger_params{'log_file': {'desc': 'test_cvrp', 'filename': 'log.txt', 'filepath': './result/20240401_112054_test_cvrp'}}\n"
     ]
    },
    {
     "name": "stderr",
     "output_type": "stream",
     "text": [
      "/home/xunj/miniconda3/lib/python3.11/site-packages/torch/__init__.py:614: UserWarning: torch.set_default_tensor_type() is deprecated as of PyTorch 2.1, please use torch.set_default_dtype() and torch.set_default_device() as alternatives. (Triggered internally at /opt/conda/conda-bld/pytorch_1699449183005/work/torch/csrc/tensor/python_tensor.cpp:451.)\n",
      "  _C._set_default_tensor_type(t)\n"
     ]
    },
    {
     "name": "stdout",
     "output_type": "stream",
     "text": [
      "['../../data/CVRP/dataset/Vrp-Set-P/P-n45/P-n45-k5.vrp']\n",
      "[2024-04-01 11:21:00] CVRPTester.py(84) : >> Model loaded from result/maml_250000checkpts/checkpoint-250000.pt\n",
      "[2024-04-01 11:21:02] CVRPTester.py(225) : episode   1/  1, Elapsed[0.03m], Remain[0.00m], sol:0.510, score:0.694, aug_score:0.652\n",
      "[2024-04-01 11:21:02] CVRPTester.py(231) :  *** Test Done *** \n",
      "[2024-04-01 11:21:02] CVRPTester.py(232) :  NO-AUG SCORE: 0.6938, Gap: 36.0416 \n",
      "[2024-04-01 11:21:02] CVRPTester.py(233) :  AUGMENTATION SCORE: 0.6517, Gap: 27.7883 \n",
      "0.694 (36.042%)\n",
      "0.652 (27.788%)\n",
      ">> Evaluation on ../../data/CVRP/dataset/Vrp-Set-P/P-n45 finished within 1.53s\n",
      ">> Save final results to res/P-n45\n",
      "Test on \" ../../data/CVRP/dataset/Vrp-Set-P/P-n45 \" Success\n",
      "-----------------------------------------------------------------------------------------------------------------\n",
      "[2024-04-01 11:21:05] test.py(106) : DEBUG_MODE: False\n",
      "[2024-04-01 11:21:05] test.py(107) : USE_CUDA: True, CUDA_DEVICE_NUM: 0\n",
      "[2024-04-01 11:21:05] test.py(108) : env_params{'problem_size': 200, 'pomo_size': 200}\n",
      "[2024-04-01 11:21:05] test.py(108) : model_params{'embedding_dim': 128, 'sqrt_embedding_dim': 11.313708498984761, 'encoder_layer_num': 6, 'qkv_dim': 16, 'head_num': 8, 'logit_clipping': 10, 'ff_hidden_dim': 512, 'eval_type': 'argmax', 'norm': 'batch_no_track'}\n",
      "[2024-04-01 11:21:05] test.py(108) : tester_params{'use_cuda': True, 'cuda_device_num': 0, 'seed': 2024, 'model_load': {'path': 'result/maml_250000checkpts', 'epoch': 250000}, 'test_episodes': 3, 'test_batch_size': 1, 'augmentation_enable': True, 'test_robustness': False, 'aug_factor': 8, 'aug_batch_size': 1, 'test_set_path': '../../data/CVRP/dataset/Vrp-Set-P/P-n50', 'test_set_opt_sol_path': '../../data/CVRP/dataset/Vrp-Set-P/P-n50-sol', 'test_set_name': 'A-n33'}\n",
      "[2024-04-01 11:21:05] test.py(108) : fine_tune_params{'enable': False, 'fine_tune_episodes': 1000, 'k': 10, 'fine_tune_batch_size': 10, 'augmentation_enable': True, 'optimizer': {'lr': 1e-05, 'weight_decay': 1e-06}}\n",
      "[2024-04-01 11:21:05] test.py(108) : logger_params{'log_file': {'desc': 'test_cvrp', 'filename': 'log.txt', 'filepath': './result/20240401_112105_test_cvrp'}}\n"
     ]
    },
    {
     "name": "stderr",
     "output_type": "stream",
     "text": [
      "/home/xunj/miniconda3/lib/python3.11/site-packages/torch/__init__.py:614: UserWarning: torch.set_default_tensor_type() is deprecated as of PyTorch 2.1, please use torch.set_default_dtype() and torch.set_default_device() as alternatives. (Triggered internally at /opt/conda/conda-bld/pytorch_1699449183005/work/torch/csrc/tensor/python_tensor.cpp:451.)\n",
      "  _C._set_default_tensor_type(t)\n"
     ]
    },
    {
     "name": "stdout",
     "output_type": "stream",
     "text": [
      "['../../data/CVRP/dataset/Vrp-Set-P/P-n50/P-n50-k10.vrp', '../../data/CVRP/dataset/Vrp-Set-P/P-n50/P-n50-k7.vrp', '../../data/CVRP/dataset/Vrp-Set-P/P-n50/P-n50-k8.vrp']\n",
      "[2024-04-01 11:21:11] CVRPTester.py(84) : >> Model loaded from result/maml_250000checkpts/checkpoint-250000.pt\n",
      "[2024-04-01 11:21:13] CVRPTester.py(225) : episode   1/  3, Elapsed[0.03m], Remain[0.06m], sol:0.696, score:0.904, aug_score:0.839\n",
      "[2024-04-01 11:21:13] CVRPTester.py(225) : episode   2/  3, Elapsed[0.03m], Remain[0.01m], sol:0.554, score:0.765, aug_score:0.728\n",
      "[2024-04-01 11:21:13] CVRPTester.py(225) : episode   3/  3, Elapsed[0.03m], Remain[0.00m], sol:0.631, score:0.844, aug_score:0.794\n",
      "[2024-04-01 11:21:13] CVRPTester.py(231) :  *** Test Done *** \n",
      "[2024-04-01 11:21:13] CVRPTester.py(232) :  NO-AUG SCORE: 0.8375, Gap: 33.8733 \n",
      "[2024-04-01 11:21:13] CVRPTester.py(233) :  AUGMENTATION SCORE: 0.7870, Gap: 25.9168 \n",
      "0.837 (33.873%)\n",
      "0.787 (25.917%)\n",
      ">> Evaluation on ../../data/CVRP/dataset/Vrp-Set-P/P-n50 finished within 1.85s\n",
      ">> Save final results to res/P-n50\n",
      "Test on \" ../../data/CVRP/dataset/Vrp-Set-P/P-n50 \" Success\n",
      "-----------------------------------------------------------------------------------------------------------------\n",
      "[2024-04-01 11:21:16] test.py(106) : DEBUG_MODE: False\n",
      "[2024-04-01 11:21:16] test.py(107) : USE_CUDA: True, CUDA_DEVICE_NUM: 0\n",
      "[2024-04-01 11:21:16] test.py(108) : env_params{'problem_size': 200, 'pomo_size': 200}\n",
      "[2024-04-01 11:21:16] test.py(108) : model_params{'embedding_dim': 128, 'sqrt_embedding_dim': 11.313708498984761, 'encoder_layer_num': 6, 'qkv_dim': 16, 'head_num': 8, 'logit_clipping': 10, 'ff_hidden_dim': 512, 'eval_type': 'argmax', 'norm': 'batch_no_track'}\n",
      "[2024-04-01 11:21:16] test.py(108) : tester_params{'use_cuda': True, 'cuda_device_num': 0, 'seed': 2024, 'model_load': {'path': 'result/maml_250000checkpts', 'epoch': 250000}, 'test_episodes': 1, 'test_batch_size': 1, 'augmentation_enable': True, 'test_robustness': False, 'aug_factor': 8, 'aug_batch_size': 1, 'test_set_path': '../../data/CVRP/dataset/Vrp-Set-P/P-n51', 'test_set_opt_sol_path': '../../data/CVRP/dataset/Vrp-Set-P/P-n51-sol', 'test_set_name': 'A-n33'}\n",
      "[2024-04-01 11:21:16] test.py(108) : fine_tune_params{'enable': False, 'fine_tune_episodes': 1000, 'k': 10, 'fine_tune_batch_size': 10, 'augmentation_enable': True, 'optimizer': {'lr': 1e-05, 'weight_decay': 1e-06}}\n",
      "[2024-04-01 11:21:16] test.py(108) : logger_params{'log_file': {'desc': 'test_cvrp', 'filename': 'log.txt', 'filepath': './result/20240401_112116_test_cvrp'}}\n"
     ]
    },
    {
     "name": "stderr",
     "output_type": "stream",
     "text": [
      "/home/xunj/miniconda3/lib/python3.11/site-packages/torch/__init__.py:614: UserWarning: torch.set_default_tensor_type() is deprecated as of PyTorch 2.1, please use torch.set_default_dtype() and torch.set_default_device() as alternatives. (Triggered internally at /opt/conda/conda-bld/pytorch_1699449183005/work/torch/csrc/tensor/python_tensor.cpp:451.)\n",
      "  _C._set_default_tensor_type(t)\n"
     ]
    },
    {
     "name": "stdout",
     "output_type": "stream",
     "text": [
      "['../../data/CVRP/dataset/Vrp-Set-P/P-n51/P-n51-k10.vrp']\n",
      "[2024-04-01 11:21:22] CVRPTester.py(84) : >> Model loaded from result/maml_250000checkpts/checkpoint-250000.pt\n",
      "[2024-04-01 11:21:24] CVRPTester.py(225) : episode   1/  1, Elapsed[0.03m], Remain[0.00m], sol:0.741, score:0.934, aug_score:0.869\n",
      "[2024-04-01 11:21:24] CVRPTester.py(231) :  *** Test Done *** \n",
      "[2024-04-01 11:21:24] CVRPTester.py(232) :  NO-AUG SCORE: 0.9337, Gap: 26.0117 \n",
      "[2024-04-01 11:21:24] CVRPTester.py(233) :  AUGMENTATION SCORE: 0.8693, Gap: 17.3138 \n",
      "0.934 (26.012%)\n",
      "0.869 (17.314%)\n",
      ">> Evaluation on ../../data/CVRP/dataset/Vrp-Set-P/P-n51 finished within 1.70s\n",
      ">> Save final results to res/P-n51\n",
      "Test on \" ../../data/CVRP/dataset/Vrp-Set-P/P-n51 \" Success\n",
      "-----------------------------------------------------------------------------------------------------------------\n",
      "[2024-04-01 11:21:27] test.py(106) : DEBUG_MODE: False\n",
      "[2024-04-01 11:21:27] test.py(107) : USE_CUDA: True, CUDA_DEVICE_NUM: 0\n",
      "[2024-04-01 11:21:27] test.py(108) : env_params{'problem_size': 200, 'pomo_size': 200}\n",
      "[2024-04-01 11:21:27] test.py(108) : model_params{'embedding_dim': 128, 'sqrt_embedding_dim': 11.313708498984761, 'encoder_layer_num': 6, 'qkv_dim': 16, 'head_num': 8, 'logit_clipping': 10, 'ff_hidden_dim': 512, 'eval_type': 'argmax', 'norm': 'batch_no_track'}\n",
      "[2024-04-01 11:21:27] test.py(108) : tester_params{'use_cuda': True, 'cuda_device_num': 0, 'seed': 2024, 'model_load': {'path': 'result/maml_250000checkpts', 'epoch': 250000}, 'test_episodes': 4, 'test_batch_size': 1, 'augmentation_enable': True, 'test_robustness': False, 'aug_factor': 8, 'aug_batch_size': 1, 'test_set_path': '../../data/CVRP/dataset/Vrp-Set-P/P-n55', 'test_set_opt_sol_path': '../../data/CVRP/dataset/Vrp-Set-P/P-n55-sol', 'test_set_name': 'A-n33'}\n",
      "[2024-04-01 11:21:27] test.py(108) : fine_tune_params{'enable': False, 'fine_tune_episodes': 1000, 'k': 10, 'fine_tune_batch_size': 10, 'augmentation_enable': True, 'optimizer': {'lr': 1e-05, 'weight_decay': 1e-06}}\n",
      "[2024-04-01 11:21:27] test.py(108) : logger_params{'log_file': {'desc': 'test_cvrp', 'filename': 'log.txt', 'filepath': './result/20240401_112127_test_cvrp'}}\n"
     ]
    },
    {
     "name": "stderr",
     "output_type": "stream",
     "text": [
      "/home/xunj/miniconda3/lib/python3.11/site-packages/torch/__init__.py:614: UserWarning: torch.set_default_tensor_type() is deprecated as of PyTorch 2.1, please use torch.set_default_dtype() and torch.set_default_device() as alternatives. (Triggered internally at /opt/conda/conda-bld/pytorch_1699449183005/work/torch/csrc/tensor/python_tensor.cpp:451.)\n",
      "  _C._set_default_tensor_type(t)\n"
     ]
    },
    {
     "name": "stdout",
     "output_type": "stream",
     "text": [
      "['../../data/CVRP/dataset/Vrp-Set-P/P-n55/P-n55-k10.vrp', '../../data/CVRP/dataset/Vrp-Set-P/P-n55/P-n55-k15.vrp', '../../data/CVRP/dataset/Vrp-Set-P/P-n55/P-n55-k7.vrp', '../../data/CVRP/dataset/Vrp-Set-P/P-n55/P-n55-k8.vrp']\n",
      "[2024-04-01 11:21:33] CVRPTester.py(84) : >> Model loaded from result/maml_250000checkpts/checkpoint-250000.pt\n",
      "[2024-04-01 11:21:35] CVRPTester.py(225) : episode   1/  4, Elapsed[0.03m], Remain[0.08m], sol:0.694, score:0.906, aug_score:0.844\n",
      "[2024-04-01 11:21:35] CVRPTester.py(225) : episode   2/  4, Elapsed[0.03m], Remain[0.03m], sol:0.989, score:1.200, aug_score:1.055\n",
      "[2024-04-01 11:21:35] CVRPTester.py(225) : episode   3/  4, Elapsed[0.03m], Remain[0.01m], sol:0.568, score:0.792, aug_score:0.701\n",
      "[2024-04-01 11:21:35] CVRPTester.py(225) : episode   4/  4, Elapsed[0.03m], Remain[0.00m], sol:0.588, score:0.780, aug_score:0.762\n",
      "[2024-04-01 11:21:35] CVRPTester.py(231) :  *** Test Done *** \n",
      "[2024-04-01 11:21:35] CVRPTester.py(232) :  NO-AUG SCORE: 0.9191, Gap: 30.9376 \n",
      "[2024-04-01 11:21:35] CVRPTester.py(233) :  AUGMENTATION SCORE: 0.8405, Gap: 20.3162 \n",
      "0.919 (30.938%)\n",
      "0.840 (20.316%)\n",
      ">> Evaluation on ../../data/CVRP/dataset/Vrp-Set-P/P-n55 finished within 1.80s\n",
      ">> Save final results to res/P-n55\n",
      "Test on \" ../../data/CVRP/dataset/Vrp-Set-P/P-n55 \" Success\n",
      "-----------------------------------------------------------------------------------------------------------------\n",
      "[2024-04-01 11:21:39] test.py(106) : DEBUG_MODE: False\n",
      "[2024-04-01 11:21:39] test.py(107) : USE_CUDA: True, CUDA_DEVICE_NUM: 0\n",
      "[2024-04-01 11:21:39] test.py(108) : env_params{'problem_size': 200, 'pomo_size': 200}\n",
      "[2024-04-01 11:21:39] test.py(108) : model_params{'embedding_dim': 128, 'sqrt_embedding_dim': 11.313708498984761, 'encoder_layer_num': 6, 'qkv_dim': 16, 'head_num': 8, 'logit_clipping': 10, 'ff_hidden_dim': 512, 'eval_type': 'argmax', 'norm': 'batch_no_track'}\n",
      "[2024-04-01 11:21:39] test.py(108) : tester_params{'use_cuda': True, 'cuda_device_num': 0, 'seed': 2024, 'model_load': {'path': 'result/maml_250000checkpts', 'epoch': 250000}, 'test_episodes': 2, 'test_batch_size': 1, 'augmentation_enable': True, 'test_robustness': False, 'aug_factor': 8, 'aug_batch_size': 1, 'test_set_path': '../../data/CVRP/dataset/Vrp-Set-P/P-n60', 'test_set_opt_sol_path': '../../data/CVRP/dataset/Vrp-Set-P/P-n60-sol', 'test_set_name': 'A-n33'}\n",
      "[2024-04-01 11:21:39] test.py(108) : fine_tune_params{'enable': False, 'fine_tune_episodes': 1000, 'k': 10, 'fine_tune_batch_size': 10, 'augmentation_enable': True, 'optimizer': {'lr': 1e-05, 'weight_decay': 1e-06}}\n",
      "[2024-04-01 11:21:39] test.py(108) : logger_params{'log_file': {'desc': 'test_cvrp', 'filename': 'log.txt', 'filepath': './result/20240401_112138_test_cvrp'}}\n"
     ]
    },
    {
     "name": "stderr",
     "output_type": "stream",
     "text": [
      "/home/xunj/miniconda3/lib/python3.11/site-packages/torch/__init__.py:614: UserWarning: torch.set_default_tensor_type() is deprecated as of PyTorch 2.1, please use torch.set_default_dtype() and torch.set_default_device() as alternatives. (Triggered internally at /opt/conda/conda-bld/pytorch_1699449183005/work/torch/csrc/tensor/python_tensor.cpp:451.)\n",
      "  _C._set_default_tensor_type(t)\n"
     ]
    },
    {
     "name": "stdout",
     "output_type": "stream",
     "text": [
      "['../../data/CVRP/dataset/Vrp-Set-P/P-n60/P-n60-k10.vrp', '../../data/CVRP/dataset/Vrp-Set-P/P-n60/P-n60-k15.vrp']\n",
      "[2024-04-01 11:21:45] CVRPTester.py(84) : >> Model loaded from result/maml_250000checkpts/checkpoint-250000.pt\n",
      "[2024-04-01 11:21:46] CVRPTester.py(225) : episode   1/  2, Elapsed[0.03m], Remain[0.03m], sol:0.744, score:0.996, aug_score:0.892\n",
      "[2024-04-01 11:21:46] CVRPTester.py(225) : episode   2/  2, Elapsed[0.03m], Remain[0.00m], sol:0.968, score:1.206, aug_score:1.084\n",
      "[2024-04-01 11:21:46] CVRPTester.py(231) :  *** Test Done *** \n",
      "[2024-04-01 11:21:46] CVRPTester.py(232) :  NO-AUG SCORE: 1.1009, Gap: 29.2256 \n",
      "[2024-04-01 11:21:46] CVRPTester.py(233) :  AUGMENTATION SCORE: 0.9883, Gap: 15.9747 \n",
      "1.101 (29.226%)\n",
      "0.988 (15.975%)\n",
      ">> Evaluation on ../../data/CVRP/dataset/Vrp-Set-P/P-n60 finished within 1.68s\n",
      ">> Save final results to res/P-n60\n",
      "Test on \" ../../data/CVRP/dataset/Vrp-Set-P/P-n60 \" Success\n",
      "-----------------------------------------------------------------------------------------------------------------\n",
      "[2024-04-01 11:21:50] test.py(106) : DEBUG_MODE: False\n",
      "[2024-04-01 11:21:50] test.py(107) : USE_CUDA: True, CUDA_DEVICE_NUM: 0\n",
      "[2024-04-01 11:21:50] test.py(108) : env_params{'problem_size': 200, 'pomo_size': 200}\n",
      "[2024-04-01 11:21:50] test.py(108) : model_params{'embedding_dim': 128, 'sqrt_embedding_dim': 11.313708498984761, 'encoder_layer_num': 6, 'qkv_dim': 16, 'head_num': 8, 'logit_clipping': 10, 'ff_hidden_dim': 512, 'eval_type': 'argmax', 'norm': 'batch_no_track'}\n",
      "[2024-04-01 11:21:50] test.py(108) : tester_params{'use_cuda': True, 'cuda_device_num': 0, 'seed': 2024, 'model_load': {'path': 'result/maml_250000checkpts', 'epoch': 250000}, 'test_episodes': 1, 'test_batch_size': 1, 'augmentation_enable': True, 'test_robustness': False, 'aug_factor': 8, 'aug_batch_size': 1, 'test_set_path': '../../data/CVRP/dataset/Vrp-Set-P/P-n65', 'test_set_opt_sol_path': '../../data/CVRP/dataset/Vrp-Set-P/P-n65-sol', 'test_set_name': 'A-n33'}\n",
      "[2024-04-01 11:21:50] test.py(108) : fine_tune_params{'enable': False, 'fine_tune_episodes': 1000, 'k': 10, 'fine_tune_batch_size': 10, 'augmentation_enable': True, 'optimizer': {'lr': 1e-05, 'weight_decay': 1e-06}}\n",
      "[2024-04-01 11:21:50] test.py(108) : logger_params{'log_file': {'desc': 'test_cvrp', 'filename': 'log.txt', 'filepath': './result/20240401_112149_test_cvrp'}}\n"
     ]
    },
    {
     "name": "stderr",
     "output_type": "stream",
     "text": [
      "/home/xunj/miniconda3/lib/python3.11/site-packages/torch/__init__.py:614: UserWarning: torch.set_default_tensor_type() is deprecated as of PyTorch 2.1, please use torch.set_default_dtype() and torch.set_default_device() as alternatives. (Triggered internally at /opt/conda/conda-bld/pytorch_1699449183005/work/torch/csrc/tensor/python_tensor.cpp:451.)\n",
      "  _C._set_default_tensor_type(t)\n"
     ]
    },
    {
     "name": "stdout",
     "output_type": "stream",
     "text": [
      "['../../data/CVRP/dataset/Vrp-Set-P/P-n65/P-n65-k10.vrp']\n",
      "[2024-04-01 11:21:56] CVRPTester.py(84) : >> Model loaded from result/maml_250000checkpts/checkpoint-250000.pt\n",
      "[2024-04-01 11:21:58] CVRPTester.py(225) : episode   1/  1, Elapsed[0.03m], Remain[0.00m], sol:0.792, score:1.056, aug_score:0.919\n",
      "[2024-04-01 11:21:58] CVRPTester.py(231) :  *** Test Done *** \n",
      "[2024-04-01 11:21:58] CVRPTester.py(232) :  NO-AUG SCORE: 1.0563, Gap: 33.3669 \n",
      "[2024-04-01 11:21:58] CVRPTester.py(233) :  AUGMENTATION SCORE: 0.9192, Gap: 16.0549 \n",
      "1.056 (33.367%)\n",
      "0.919 (16.055%)\n",
      ">> Evaluation on ../../data/CVRP/dataset/Vrp-Set-P/P-n65 finished within 1.63s\n",
      ">> Save final results to res/P-n65\n",
      "Test on \" ../../data/CVRP/dataset/Vrp-Set-P/P-n65 \" Success\n",
      "-----------------------------------------------------------------------------------------------------------------\n",
      "[2024-04-01 11:22:02] test.py(106) : DEBUG_MODE: False\n",
      "[2024-04-01 11:22:02] test.py(107) : USE_CUDA: True, CUDA_DEVICE_NUM: 0\n",
      "[2024-04-01 11:22:02] test.py(108) : env_params{'problem_size': 200, 'pomo_size': 200}\n",
      "[2024-04-01 11:22:02] test.py(108) : model_params{'embedding_dim': 128, 'sqrt_embedding_dim': 11.313708498984761, 'encoder_layer_num': 6, 'qkv_dim': 16, 'head_num': 8, 'logit_clipping': 10, 'ff_hidden_dim': 512, 'eval_type': 'argmax', 'norm': 'batch_no_track'}\n",
      "[2024-04-01 11:22:02] test.py(108) : tester_params{'use_cuda': True, 'cuda_device_num': 0, 'seed': 2024, 'model_load': {'path': 'result/maml_250000checkpts', 'epoch': 250000}, 'test_episodes': 1, 'test_batch_size': 1, 'augmentation_enable': True, 'test_robustness': False, 'aug_factor': 8, 'aug_batch_size': 1, 'test_set_path': '../../data/CVRP/dataset/Vrp-Set-P/P-n70', 'test_set_opt_sol_path': '../../data/CVRP/dataset/Vrp-Set-P/P-n70-sol', 'test_set_name': 'A-n33'}\n",
      "[2024-04-01 11:22:02] test.py(108) : fine_tune_params{'enable': False, 'fine_tune_episodes': 1000, 'k': 10, 'fine_tune_batch_size': 10, 'augmentation_enable': True, 'optimizer': {'lr': 1e-05, 'weight_decay': 1e-06}}\n",
      "[2024-04-01 11:22:02] test.py(108) : logger_params{'log_file': {'desc': 'test_cvrp', 'filename': 'log.txt', 'filepath': './result/20240401_112201_test_cvrp'}}\n"
     ]
    },
    {
     "name": "stderr",
     "output_type": "stream",
     "text": [
      "/home/xunj/miniconda3/lib/python3.11/site-packages/torch/__init__.py:614: UserWarning: torch.set_default_tensor_type() is deprecated as of PyTorch 2.1, please use torch.set_default_dtype() and torch.set_default_device() as alternatives. (Triggered internally at /opt/conda/conda-bld/pytorch_1699449183005/work/torch/csrc/tensor/python_tensor.cpp:451.)\n",
      "  _C._set_default_tensor_type(t)\n"
     ]
    },
    {
     "name": "stdout",
     "output_type": "stream",
     "text": [
      "['../../data/CVRP/dataset/Vrp-Set-P/P-n70/P-n70-k10.vrp']\n",
      "[2024-04-01 11:22:08] CVRPTester.py(84) : >> Model loaded from result/maml_250000checkpts/checkpoint-250000.pt\n",
      "[2024-04-01 11:22:10] CVRPTester.py(225) : episode   1/  1, Elapsed[0.03m], Remain[0.00m], sol:0.827, score:1.139, aug_score:0.971\n",
      "[2024-04-01 11:22:10] CVRPTester.py(231) :  *** Test Done *** \n",
      "[2024-04-01 11:22:10] CVRPTester.py(232) :  NO-AUG SCORE: 1.1392, Gap: 37.7508 \n",
      "[2024-04-01 11:22:10] CVRPTester.py(233) :  AUGMENTATION SCORE: 0.9708, Gap: 17.3920 \n",
      "1.139 (37.751%)\n",
      "0.971 (17.392%)\n",
      ">> Evaluation on ../../data/CVRP/dataset/Vrp-Set-P/P-n70 finished within 1.73s\n",
      ">> Save final results to res/P-n70\n",
      "Test on \" ../../data/CVRP/dataset/Vrp-Set-P/P-n70 \" Success\n",
      "-----------------------------------------------------------------------------------------------------------------\n",
      "[2024-04-01 11:22:14] test.py(106) : DEBUG_MODE: False\n",
      "[2024-04-01 11:22:14] test.py(107) : USE_CUDA: True, CUDA_DEVICE_NUM: 0\n",
      "[2024-04-01 11:22:14] test.py(108) : env_params{'problem_size': 200, 'pomo_size': 200}\n",
      "[2024-04-01 11:22:14] test.py(108) : model_params{'embedding_dim': 128, 'sqrt_embedding_dim': 11.313708498984761, 'encoder_layer_num': 6, 'qkv_dim': 16, 'head_num': 8, 'logit_clipping': 10, 'ff_hidden_dim': 512, 'eval_type': 'argmax', 'norm': 'batch_no_track'}\n",
      "[2024-04-01 11:22:14] test.py(108) : tester_params{'use_cuda': True, 'cuda_device_num': 0, 'seed': 2024, 'model_load': {'path': 'result/maml_250000checkpts', 'epoch': 250000}, 'test_episodes': 2, 'test_batch_size': 1, 'augmentation_enable': True, 'test_robustness': False, 'aug_factor': 8, 'aug_batch_size': 1, 'test_set_path': '../../data/CVRP/dataset/Vrp-Set-P/P-n76', 'test_set_opt_sol_path': '../../data/CVRP/dataset/Vrp-Set-P/P-n76-sol', 'test_set_name': 'A-n33'}\n",
      "[2024-04-01 11:22:14] test.py(108) : fine_tune_params{'enable': False, 'fine_tune_episodes': 1000, 'k': 10, 'fine_tune_batch_size': 10, 'augmentation_enable': True, 'optimizer': {'lr': 1e-05, 'weight_decay': 1e-06}}\n",
      "[2024-04-01 11:22:14] test.py(108) : logger_params{'log_file': {'desc': 'test_cvrp', 'filename': 'log.txt', 'filepath': './result/20240401_112213_test_cvrp'}}\n"
     ]
    },
    {
     "name": "stderr",
     "output_type": "stream",
     "text": [
      "/home/xunj/miniconda3/lib/python3.11/site-packages/torch/__init__.py:614: UserWarning: torch.set_default_tensor_type() is deprecated as of PyTorch 2.1, please use torch.set_default_dtype() and torch.set_default_device() as alternatives. (Triggered internally at /opt/conda/conda-bld/pytorch_1699449183005/work/torch/csrc/tensor/python_tensor.cpp:451.)\n",
      "  _C._set_default_tensor_type(t)\n"
     ]
    },
    {
     "name": "stdout",
     "output_type": "stream",
     "text": [
      "['../../data/CVRP/dataset/Vrp-Set-P/P-n76/P-n76-k4.vrp', '../../data/CVRP/dataset/Vrp-Set-P/P-n76/P-n76-k5.vrp']\n",
      "[2024-04-01 11:22:20] CVRPTester.py(84) : >> Model loaded from result/maml_250000checkpts/checkpoint-250000.pt\n",
      "[2024-04-01 11:22:21] CVRPTester.py(225) : episode   1/  2, Elapsed[0.03m], Remain[0.03m], sol:0.593, score:0.826, aug_score:0.758\n",
      "[2024-04-01 11:22:21] CVRPTester.py(225) : episode   2/  2, Elapsed[0.03m], Remain[0.00m], sol:0.627, score:0.941, aug_score:0.784\n",
      "[2024-04-01 11:22:21] CVRPTester.py(231) :  *** Test Done *** \n",
      "[2024-04-01 11:22:21] CVRPTester.py(232) :  NO-AUG SCORE: 0.8833, Gap: 44.6519 \n",
      "[2024-04-01 11:22:21] CVRPTester.py(233) :  AUGMENTATION SCORE: 0.7712, Gap: 26.4667 \n",
      "0.883 (44.652%)\n",
      "0.771 (26.467%)\n",
      ">> Evaluation on ../../data/CVRP/dataset/Vrp-Set-P/P-n76 finished within 1.79s\n",
      ">> Save final results to res/P-n76\n",
      "Test on \" ../../data/CVRP/dataset/Vrp-Set-P/P-n76 \" Success\n",
      "-----------------------------------------------------------------------------------------------------------------\n",
      "[2024-04-01 11:22:25] test.py(106) : DEBUG_MODE: False\n",
      "[2024-04-01 11:22:25] test.py(107) : USE_CUDA: True, CUDA_DEVICE_NUM: 0\n",
      "[2024-04-01 11:22:25] test.py(108) : env_params{'problem_size': 200, 'pomo_size': 200}\n",
      "[2024-04-01 11:22:25] test.py(108) : model_params{'embedding_dim': 128, 'sqrt_embedding_dim': 11.313708498984761, 'encoder_layer_num': 6, 'qkv_dim': 16, 'head_num': 8, 'logit_clipping': 10, 'ff_hidden_dim': 512, 'eval_type': 'argmax', 'norm': 'batch_no_track'}\n",
      "[2024-04-01 11:22:25] test.py(108) : tester_params{'use_cuda': True, 'cuda_device_num': 0, 'seed': 2024, 'model_load': {'path': 'result/maml_250000checkpts', 'epoch': 250000}, 'test_episodes': 1, 'test_batch_size': 1, 'augmentation_enable': True, 'test_robustness': False, 'aug_factor': 8, 'aug_batch_size': 1, 'test_set_path': '../../data/CVRP/dataset/Vrp-Set-X/X-n1001', 'test_set_opt_sol_path': '../../data/CVRP/dataset/Vrp-Set-X/X-n1001-sol', 'test_set_name': 'A-n33'}\n",
      "[2024-04-01 11:22:25] test.py(108) : fine_tune_params{'enable': False, 'fine_tune_episodes': 1000, 'k': 10, 'fine_tune_batch_size': 10, 'augmentation_enable': True, 'optimizer': {'lr': 1e-05, 'weight_decay': 1e-06}}\n",
      "[2024-04-01 11:22:25] test.py(108) : logger_params{'log_file': {'desc': 'test_cvrp', 'filename': 'log.txt', 'filepath': './result/20240401_112224_test_cvrp'}}\n"
     ]
    },
    {
     "name": "stderr",
     "output_type": "stream",
     "text": [
      "/home/xunj/miniconda3/lib/python3.11/site-packages/torch/__init__.py:614: UserWarning: torch.set_default_tensor_type() is deprecated as of PyTorch 2.1, please use torch.set_default_dtype() and torch.set_default_device() as alternatives. (Triggered internally at /opt/conda/conda-bld/pytorch_1699449183005/work/torch/csrc/tensor/python_tensor.cpp:451.)\n",
      "  _C._set_default_tensor_type(t)\n"
     ]
    },
    {
     "name": "stdout",
     "output_type": "stream",
     "text": [
      "['../../data/CVRP/dataset/Vrp-Set-X/X-n1001/X-n1001-k43.vrp']\n",
      "[2024-04-01 11:22:31] CVRPTester.py(84) : >> Model loaded from result/maml_250000checkpts/checkpoint-250000.pt\n",
      "[2024-04-01 11:22:38] CVRPTester.py(225) : episode   1/  1, Elapsed[0.11m], Remain[0.00m], sol:72.355, score:79.764, aug_score:79.762\n",
      "[2024-04-01 11:22:38] CVRPTester.py(231) :  *** Test Done *** \n",
      "[2024-04-01 11:22:38] CVRPTester.py(232) :  NO-AUG SCORE: 79.7641, Gap: 10.2399 \n",
      "[2024-04-01 11:22:38] CVRPTester.py(233) :  AUGMENTATION SCORE: 79.7622, Gap: 10.2373 \n",
      "79.764 (10.240%)\n",
      "79.762 (10.237%)\n",
      ">> Evaluation on ../../data/CVRP/dataset/Vrp-Set-X/X-n1001 finished within 6.86s\n",
      ">> Save final results to res/X-n1001\n",
      "Test on \" ../../data/CVRP/dataset/Vrp-Set-X/X-n1001 \" Success\n",
      "-----------------------------------------------------------------------------------------------------------------\n",
      "[2024-04-01 11:22:41] test.py(106) : DEBUG_MODE: False\n",
      "[2024-04-01 11:22:41] test.py(107) : USE_CUDA: True, CUDA_DEVICE_NUM: 0\n",
      "[2024-04-01 11:22:41] test.py(108) : env_params{'problem_size': 200, 'pomo_size': 200}\n",
      "[2024-04-01 11:22:41] test.py(108) : model_params{'embedding_dim': 128, 'sqrt_embedding_dim': 11.313708498984761, 'encoder_layer_num': 6, 'qkv_dim': 16, 'head_num': 8, 'logit_clipping': 10, 'ff_hidden_dim': 512, 'eval_type': 'argmax', 'norm': 'batch_no_track'}\n",
      "[2024-04-01 11:22:41] test.py(108) : tester_params{'use_cuda': True, 'cuda_device_num': 0, 'seed': 2024, 'model_load': {'path': 'result/maml_250000checkpts', 'epoch': 250000}, 'test_episodes': 1, 'test_batch_size': 1, 'augmentation_enable': True, 'test_robustness': False, 'aug_factor': 8, 'aug_batch_size': 1, 'test_set_path': '../../data/CVRP/dataset/Vrp-Set-X/X-n101', 'test_set_opt_sol_path': '../../data/CVRP/dataset/Vrp-Set-X/X-n101-sol', 'test_set_name': 'A-n33'}\n",
      "[2024-04-01 11:22:41] test.py(108) : fine_tune_params{'enable': False, 'fine_tune_episodes': 1000, 'k': 10, 'fine_tune_batch_size': 10, 'augmentation_enable': True, 'optimizer': {'lr': 1e-05, 'weight_decay': 1e-06}}\n",
      "[2024-04-01 11:22:41] test.py(108) : logger_params{'log_file': {'desc': 'test_cvrp', 'filename': 'log.txt', 'filepath': './result/20240401_112241_test_cvrp'}}\n"
     ]
    },
    {
     "name": "stderr",
     "output_type": "stream",
     "text": [
      "/home/xunj/miniconda3/lib/python3.11/site-packages/torch/__init__.py:614: UserWarning: torch.set_default_tensor_type() is deprecated as of PyTorch 2.1, please use torch.set_default_dtype() and torch.set_default_device() as alternatives. (Triggered internally at /opt/conda/conda-bld/pytorch_1699449183005/work/torch/csrc/tensor/python_tensor.cpp:451.)\n",
      "  _C._set_default_tensor_type(t)\n"
     ]
    },
    {
     "name": "stdout",
     "output_type": "stream",
     "text": [
      "['../../data/CVRP/dataset/Vrp-Set-X/X-n101/X-n101-k25.vrp']\n",
      "[2024-04-01 11:22:47] CVRPTester.py(84) : >> Model loaded from result/maml_250000checkpts/checkpoint-250000.pt\n",
      "[2024-04-01 11:22:49] CVRPTester.py(225) : episode   1/  1, Elapsed[0.03m], Remain[0.00m], sol:27.591, score:29.558, aug_score:29.419\n",
      "[2024-04-01 11:22:49] CVRPTester.py(231) :  *** Test Done *** \n",
      "[2024-04-01 11:22:49] CVRPTester.py(232) :  NO-AUG SCORE: 29.5582, Gap: 7.1300 \n",
      "[2024-04-01 11:22:49] CVRPTester.py(233) :  AUGMENTATION SCORE: 29.4187, Gap: 6.6241 \n",
      "29.558 (7.130%)\n",
      "29.419 (6.624%)\n",
      ">> Evaluation on ../../data/CVRP/dataset/Vrp-Set-X/X-n101 finished within 1.65s\n",
      ">> Save final results to res/X-n101\n",
      "Test on \" ../../data/CVRP/dataset/Vrp-Set-X/X-n101 \" Success\n",
      "-----------------------------------------------------------------------------------------------------------------\n",
      "[2024-04-01 11:22:52] test.py(106) : DEBUG_MODE: False\n",
      "[2024-04-01 11:22:52] test.py(107) : USE_CUDA: True, CUDA_DEVICE_NUM: 0\n",
      "[2024-04-01 11:22:52] test.py(108) : env_params{'problem_size': 200, 'pomo_size': 200}\n",
      "[2024-04-01 11:22:52] test.py(108) : model_params{'embedding_dim': 128, 'sqrt_embedding_dim': 11.313708498984761, 'encoder_layer_num': 6, 'qkv_dim': 16, 'head_num': 8, 'logit_clipping': 10, 'ff_hidden_dim': 512, 'eval_type': 'argmax', 'norm': 'batch_no_track'}\n",
      "[2024-04-01 11:22:52] test.py(108) : tester_params{'use_cuda': True, 'cuda_device_num': 0, 'seed': 2024, 'model_load': {'path': 'result/maml_250000checkpts', 'epoch': 250000}, 'test_episodes': 1, 'test_batch_size': 1, 'augmentation_enable': True, 'test_robustness': False, 'aug_factor': 8, 'aug_batch_size': 1, 'test_set_path': '../../data/CVRP/dataset/Vrp-Set-X/X-n106', 'test_set_opt_sol_path': '../../data/CVRP/dataset/Vrp-Set-X/X-n106-sol', 'test_set_name': 'A-n33'}\n",
      "[2024-04-01 11:22:52] test.py(108) : fine_tune_params{'enable': False, 'fine_tune_episodes': 1000, 'k': 10, 'fine_tune_batch_size': 10, 'augmentation_enable': True, 'optimizer': {'lr': 1e-05, 'weight_decay': 1e-06}}\n",
      "[2024-04-01 11:22:52] test.py(108) : logger_params{'log_file': {'desc': 'test_cvrp', 'filename': 'log.txt', 'filepath': './result/20240401_112252_test_cvrp'}}\n"
     ]
    },
    {
     "name": "stderr",
     "output_type": "stream",
     "text": [
      "/home/xunj/miniconda3/lib/python3.11/site-packages/torch/__init__.py:614: UserWarning: torch.set_default_tensor_type() is deprecated as of PyTorch 2.1, please use torch.set_default_dtype() and torch.set_default_device() as alternatives. (Triggered internally at /opt/conda/conda-bld/pytorch_1699449183005/work/torch/csrc/tensor/python_tensor.cpp:451.)\n",
      "  _C._set_default_tensor_type(t)\n"
     ]
    },
    {
     "name": "stdout",
     "output_type": "stream",
     "text": [
      "['../../data/CVRP/dataset/Vrp-Set-X/X-n106/X-n106-k14.vrp']\n",
      "[2024-04-01 11:22:59] CVRPTester.py(84) : >> Model loaded from result/maml_250000checkpts/checkpoint-250000.pt\n",
      "[2024-04-01 11:23:01] CVRPTester.py(225) : episode   1/  1, Elapsed[0.03m], Remain[0.00m], sol:26.362, score:27.225, aug_score:26.950\n",
      "[2024-04-01 11:23:01] CVRPTester.py(231) :  *** Test Done *** \n",
      "[2024-04-01 11:23:01] CVRPTester.py(232) :  NO-AUG SCORE: 27.2248, Gap: 3.2727 \n",
      "[2024-04-01 11:23:01] CVRPTester.py(233) :  AUGMENTATION SCORE: 26.9503, Gap: 2.2315 \n",
      "27.225 (3.273%)\n",
      "26.950 (2.232%)\n",
      ">> Evaluation on ../../data/CVRP/dataset/Vrp-Set-X/X-n106 finished within 1.69s\n",
      ">> Save final results to res/X-n106\n",
      "Test on \" ../../data/CVRP/dataset/Vrp-Set-X/X-n106 \" Success\n",
      "-----------------------------------------------------------------------------------------------------------------\n",
      "[2024-04-01 11:23:04] test.py(106) : DEBUG_MODE: False\n",
      "[2024-04-01 11:23:04] test.py(107) : USE_CUDA: True, CUDA_DEVICE_NUM: 0\n",
      "[2024-04-01 11:23:04] test.py(108) : env_params{'problem_size': 200, 'pomo_size': 200}\n",
      "[2024-04-01 11:23:04] test.py(108) : model_params{'embedding_dim': 128, 'sqrt_embedding_dim': 11.313708498984761, 'encoder_layer_num': 6, 'qkv_dim': 16, 'head_num': 8, 'logit_clipping': 10, 'ff_hidden_dim': 512, 'eval_type': 'argmax', 'norm': 'batch_no_track'}\n",
      "[2024-04-01 11:23:04] test.py(108) : tester_params{'use_cuda': True, 'cuda_device_num': 0, 'seed': 2024, 'model_load': {'path': 'result/maml_250000checkpts', 'epoch': 250000}, 'test_episodes': 1, 'test_batch_size': 1, 'augmentation_enable': True, 'test_robustness': False, 'aug_factor': 8, 'aug_batch_size': 1, 'test_set_path': '../../data/CVRP/dataset/Vrp-Set-X/X-n110', 'test_set_opt_sol_path': '../../data/CVRP/dataset/Vrp-Set-X/X-n110-sol', 'test_set_name': 'A-n33'}\n",
      "[2024-04-01 11:23:04] test.py(108) : fine_tune_params{'enable': False, 'fine_tune_episodes': 1000, 'k': 10, 'fine_tune_batch_size': 10, 'augmentation_enable': True, 'optimizer': {'lr': 1e-05, 'weight_decay': 1e-06}}\n",
      "[2024-04-01 11:23:04] test.py(108) : logger_params{'log_file': {'desc': 'test_cvrp', 'filename': 'log.txt', 'filepath': './result/20240401_112304_test_cvrp'}}\n"
     ]
    },
    {
     "name": "stderr",
     "output_type": "stream",
     "text": [
      "/home/xunj/miniconda3/lib/python3.11/site-packages/torch/__init__.py:614: UserWarning: torch.set_default_tensor_type() is deprecated as of PyTorch 2.1, please use torch.set_default_dtype() and torch.set_default_device() as alternatives. (Triggered internally at /opt/conda/conda-bld/pytorch_1699449183005/work/torch/csrc/tensor/python_tensor.cpp:451.)\n",
      "  _C._set_default_tensor_type(t)\n"
     ]
    },
    {
     "name": "stdout",
     "output_type": "stream",
     "text": [
      "['../../data/CVRP/dataset/Vrp-Set-X/X-n110/X-n110-k13.vrp']\n",
      "[2024-04-01 11:23:10] CVRPTester.py(84) : >> Model loaded from result/maml_250000checkpts/checkpoint-250000.pt\n",
      "[2024-04-01 11:23:12] CVRPTester.py(225) : episode   1/  1, Elapsed[0.03m], Remain[0.00m], sol:14.971, score:15.414, aug_score:15.328\n",
      "[2024-04-01 11:23:12] CVRPTester.py(231) :  *** Test Done *** \n",
      "[2024-04-01 11:23:12] CVRPTester.py(232) :  NO-AUG SCORE: 15.4142, Gap: 2.9603 \n",
      "[2024-04-01 11:23:12] CVRPTester.py(233) :  AUGMENTATION SCORE: 15.3280, Gap: 2.3844 \n",
      "15.414 (2.960%)\n",
      "15.328 (2.384%)\n",
      ">> Evaluation on ../../data/CVRP/dataset/Vrp-Set-X/X-n110 finished within 1.71s\n",
      ">> Save final results to res/X-n110\n",
      "Test on \" ../../data/CVRP/dataset/Vrp-Set-X/X-n110 \" Success\n",
      "-----------------------------------------------------------------------------------------------------------------\n",
      "[2024-04-01 11:23:15] test.py(106) : DEBUG_MODE: False\n",
      "[2024-04-01 11:23:15] test.py(107) : USE_CUDA: True, CUDA_DEVICE_NUM: 0\n",
      "[2024-04-01 11:23:15] test.py(108) : env_params{'problem_size': 200, 'pomo_size': 200}\n",
      "[2024-04-01 11:23:15] test.py(108) : model_params{'embedding_dim': 128, 'sqrt_embedding_dim': 11.313708498984761, 'encoder_layer_num': 6, 'qkv_dim': 16, 'head_num': 8, 'logit_clipping': 10, 'ff_hidden_dim': 512, 'eval_type': 'argmax', 'norm': 'batch_no_track'}\n",
      "[2024-04-01 11:23:15] test.py(108) : tester_params{'use_cuda': True, 'cuda_device_num': 0, 'seed': 2024, 'model_load': {'path': 'result/maml_250000checkpts', 'epoch': 250000}, 'test_episodes': 1, 'test_batch_size': 1, 'augmentation_enable': True, 'test_robustness': False, 'aug_factor': 8, 'aug_batch_size': 1, 'test_set_path': '../../data/CVRP/dataset/Vrp-Set-X/X-n115', 'test_set_opt_sol_path': '../../data/CVRP/dataset/Vrp-Set-X/X-n115-sol', 'test_set_name': 'A-n33'}\n",
      "[2024-04-01 11:23:15] test.py(108) : fine_tune_params{'enable': False, 'fine_tune_episodes': 1000, 'k': 10, 'fine_tune_batch_size': 10, 'augmentation_enable': True, 'optimizer': {'lr': 1e-05, 'weight_decay': 1e-06}}\n",
      "[2024-04-01 11:23:15] test.py(108) : logger_params{'log_file': {'desc': 'test_cvrp', 'filename': 'log.txt', 'filepath': './result/20240401_112315_test_cvrp'}}\n"
     ]
    },
    {
     "name": "stderr",
     "output_type": "stream",
     "text": [
      "/home/xunj/miniconda3/lib/python3.11/site-packages/torch/__init__.py:614: UserWarning: torch.set_default_tensor_type() is deprecated as of PyTorch 2.1, please use torch.set_default_dtype() and torch.set_default_device() as alternatives. (Triggered internally at /opt/conda/conda-bld/pytorch_1699449183005/work/torch/csrc/tensor/python_tensor.cpp:451.)\n",
      "  _C._set_default_tensor_type(t)\n"
     ]
    },
    {
     "name": "stdout",
     "output_type": "stream",
     "text": [
      "['../../data/CVRP/dataset/Vrp-Set-X/X-n115/X-n115-k10.vrp']\n",
      "[2024-04-01 11:23:21] CVRPTester.py(84) : >> Model loaded from result/maml_250000checkpts/checkpoint-250000.pt\n",
      "[2024-04-01 11:23:23] CVRPTester.py(225) : episode   1/  1, Elapsed[0.03m], Remain[0.00m], sol:12.747, score:13.910, aug_score:13.867\n",
      "[2024-04-01 11:23:23] CVRPTester.py(231) :  *** Test Done *** \n",
      "[2024-04-01 11:23:23] CVRPTester.py(232) :  NO-AUG SCORE: 13.9103, Gap: 9.1258 \n",
      "[2024-04-01 11:23:23] CVRPTester.py(233) :  AUGMENTATION SCORE: 13.8665, Gap: 8.7826 \n",
      "13.910 (9.126%)\n",
      "13.867 (8.783%)\n",
      ">> Evaluation on ../../data/CVRP/dataset/Vrp-Set-X/X-n115 finished within 1.67s\n",
      ">> Save final results to res/X-n115\n",
      "Test on \" ../../data/CVRP/dataset/Vrp-Set-X/X-n115 \" Success\n",
      "-----------------------------------------------------------------------------------------------------------------\n",
      "[2024-04-01 11:23:26] test.py(106) : DEBUG_MODE: False\n",
      "[2024-04-01 11:23:26] test.py(107) : USE_CUDA: True, CUDA_DEVICE_NUM: 0\n",
      "[2024-04-01 11:23:26] test.py(108) : env_params{'problem_size': 200, 'pomo_size': 200}\n",
      "[2024-04-01 11:23:26] test.py(108) : model_params{'embedding_dim': 128, 'sqrt_embedding_dim': 11.313708498984761, 'encoder_layer_num': 6, 'qkv_dim': 16, 'head_num': 8, 'logit_clipping': 10, 'ff_hidden_dim': 512, 'eval_type': 'argmax', 'norm': 'batch_no_track'}\n",
      "[2024-04-01 11:23:26] test.py(108) : tester_params{'use_cuda': True, 'cuda_device_num': 0, 'seed': 2024, 'model_load': {'path': 'result/maml_250000checkpts', 'epoch': 250000}, 'test_episodes': 1, 'test_batch_size': 1, 'augmentation_enable': True, 'test_robustness': False, 'aug_factor': 8, 'aug_batch_size': 1, 'test_set_path': '../../data/CVRP/dataset/Vrp-Set-X/X-n120', 'test_set_opt_sol_path': '../../data/CVRP/dataset/Vrp-Set-X/X-n120-sol', 'test_set_name': 'A-n33'}\n",
      "[2024-04-01 11:23:26] test.py(108) : fine_tune_params{'enable': False, 'fine_tune_episodes': 1000, 'k': 10, 'fine_tune_batch_size': 10, 'augmentation_enable': True, 'optimizer': {'lr': 1e-05, 'weight_decay': 1e-06}}\n",
      "[2024-04-01 11:23:26] test.py(108) : logger_params{'log_file': {'desc': 'test_cvrp', 'filename': 'log.txt', 'filepath': './result/20240401_112326_test_cvrp'}}\n"
     ]
    },
    {
     "name": "stderr",
     "output_type": "stream",
     "text": [
      "/home/xunj/miniconda3/lib/python3.11/site-packages/torch/__init__.py:614: UserWarning: torch.set_default_tensor_type() is deprecated as of PyTorch 2.1, please use torch.set_default_dtype() and torch.set_default_device() as alternatives. (Triggered internally at /opt/conda/conda-bld/pytorch_1699449183005/work/torch/csrc/tensor/python_tensor.cpp:451.)\n",
      "  _C._set_default_tensor_type(t)\n"
     ]
    },
    {
     "name": "stdout",
     "output_type": "stream",
     "text": [
      "['../../data/CVRP/dataset/Vrp-Set-X/X-n120/X-n120-k6.vrp']\n",
      "[2024-04-01 11:23:32] CVRPTester.py(84) : >> Model loaded from result/maml_250000checkpts/checkpoint-250000.pt\n",
      "[2024-04-01 11:23:34] CVRPTester.py(225) : episode   1/  1, Elapsed[0.03m], Remain[0.00m], sol:13.332, score:14.670, aug_score:13.845\n",
      "[2024-04-01 11:23:34] CVRPTester.py(231) :  *** Test Done *** \n",
      "[2024-04-01 11:23:34] CVRPTester.py(232) :  NO-AUG SCORE: 14.6697, Gap: 10.0336 \n",
      "[2024-04-01 11:23:34] CVRPTester.py(233) :  AUGMENTATION SCORE: 13.8452, Gap: 3.8495 \n",
      "14.670 (10.034%)\n",
      "13.845 (3.850%)\n",
      ">> Evaluation on ../../data/CVRP/dataset/Vrp-Set-X/X-n120 finished within 1.62s\n",
      ">> Save final results to res/X-n120\n",
      "Test on \" ../../data/CVRP/dataset/Vrp-Set-X/X-n120 \" Success\n",
      "-----------------------------------------------------------------------------------------------------------------\n",
      "[2024-04-01 11:23:37] test.py(106) : DEBUG_MODE: False\n",
      "[2024-04-01 11:23:37] test.py(107) : USE_CUDA: True, CUDA_DEVICE_NUM: 0\n",
      "[2024-04-01 11:23:37] test.py(108) : env_params{'problem_size': 200, 'pomo_size': 200}\n",
      "[2024-04-01 11:23:37] test.py(108) : model_params{'embedding_dim': 128, 'sqrt_embedding_dim': 11.313708498984761, 'encoder_layer_num': 6, 'qkv_dim': 16, 'head_num': 8, 'logit_clipping': 10, 'ff_hidden_dim': 512, 'eval_type': 'argmax', 'norm': 'batch_no_track'}\n",
      "[2024-04-01 11:23:37] test.py(108) : tester_params{'use_cuda': True, 'cuda_device_num': 0, 'seed': 2024, 'model_load': {'path': 'result/maml_250000checkpts', 'epoch': 250000}, 'test_episodes': 1, 'test_batch_size': 1, 'augmentation_enable': True, 'test_robustness': False, 'aug_factor': 8, 'aug_batch_size': 1, 'test_set_path': '../../data/CVRP/dataset/Vrp-Set-X/X-n125', 'test_set_opt_sol_path': '../../data/CVRP/dataset/Vrp-Set-X/X-n125-sol', 'test_set_name': 'A-n33'}\n",
      "[2024-04-01 11:23:37] test.py(108) : fine_tune_params{'enable': False, 'fine_tune_episodes': 1000, 'k': 10, 'fine_tune_batch_size': 10, 'augmentation_enable': True, 'optimizer': {'lr': 1e-05, 'weight_decay': 1e-06}}\n",
      "[2024-04-01 11:23:37] test.py(108) : logger_params{'log_file': {'desc': 'test_cvrp', 'filename': 'log.txt', 'filepath': './result/20240401_112337_test_cvrp'}}\n"
     ]
    },
    {
     "name": "stderr",
     "output_type": "stream",
     "text": [
      "/home/xunj/miniconda3/lib/python3.11/site-packages/torch/__init__.py:614: UserWarning: torch.set_default_tensor_type() is deprecated as of PyTorch 2.1, please use torch.set_default_dtype() and torch.set_default_device() as alternatives. (Triggered internally at /opt/conda/conda-bld/pytorch_1699449183005/work/torch/csrc/tensor/python_tensor.cpp:451.)\n",
      "  _C._set_default_tensor_type(t)\n"
     ]
    },
    {
     "name": "stdout",
     "output_type": "stream",
     "text": [
      "['../../data/CVRP/dataset/Vrp-Set-X/X-n125/X-n125-k30.vrp']\n",
      "[2024-04-01 11:23:43] CVRPTester.py(84) : >> Model loaded from result/maml_250000checkpts/checkpoint-250000.pt\n",
      "[2024-04-01 11:23:45] CVRPTester.py(225) : episode   1/  1, Elapsed[0.03m], Remain[0.00m], sol:55.539, score:59.663, aug_score:58.938\n",
      "[2024-04-01 11:23:45] CVRPTester.py(231) :  *** Test Done *** \n",
      "[2024-04-01 11:23:45] CVRPTester.py(232) :  NO-AUG SCORE: 59.6629, Gap: 7.4253 \n",
      "[2024-04-01 11:23:45] CVRPTester.py(233) :  AUGMENTATION SCORE: 58.9376, Gap: 6.1194 \n",
      "59.663 (7.425%)\n",
      "58.938 (6.119%)\n",
      ">> Evaluation on ../../data/CVRP/dataset/Vrp-Set-X/X-n125 finished within 1.65s\n",
      ">> Save final results to res/X-n125\n",
      "Test on \" ../../data/CVRP/dataset/Vrp-Set-X/X-n125 \" Success\n",
      "-----------------------------------------------------------------------------------------------------------------\n",
      "[2024-04-01 11:23:48] test.py(106) : DEBUG_MODE: False\n",
      "[2024-04-01 11:23:48] test.py(107) : USE_CUDA: True, CUDA_DEVICE_NUM: 0\n",
      "[2024-04-01 11:23:48] test.py(108) : env_params{'problem_size': 200, 'pomo_size': 200}\n",
      "[2024-04-01 11:23:48] test.py(108) : model_params{'embedding_dim': 128, 'sqrt_embedding_dim': 11.313708498984761, 'encoder_layer_num': 6, 'qkv_dim': 16, 'head_num': 8, 'logit_clipping': 10, 'ff_hidden_dim': 512, 'eval_type': 'argmax', 'norm': 'batch_no_track'}\n",
      "[2024-04-01 11:23:48] test.py(108) : tester_params{'use_cuda': True, 'cuda_device_num': 0, 'seed': 2024, 'model_load': {'path': 'result/maml_250000checkpts', 'epoch': 250000}, 'test_episodes': 1, 'test_batch_size': 1, 'augmentation_enable': True, 'test_robustness': False, 'aug_factor': 8, 'aug_batch_size': 1, 'test_set_path': '../../data/CVRP/dataset/Vrp-Set-X/X-n129', 'test_set_opt_sol_path': '../../data/CVRP/dataset/Vrp-Set-X/X-n129-sol', 'test_set_name': 'A-n33'}\n",
      "[2024-04-01 11:23:48] test.py(108) : fine_tune_params{'enable': False, 'fine_tune_episodes': 1000, 'k': 10, 'fine_tune_batch_size': 10, 'augmentation_enable': True, 'optimizer': {'lr': 1e-05, 'weight_decay': 1e-06}}\n",
      "[2024-04-01 11:23:48] test.py(108) : logger_params{'log_file': {'desc': 'test_cvrp', 'filename': 'log.txt', 'filepath': './result/20240401_112348_test_cvrp'}}\n"
     ]
    },
    {
     "name": "stderr",
     "output_type": "stream",
     "text": [
      "/home/xunj/miniconda3/lib/python3.11/site-packages/torch/__init__.py:614: UserWarning: torch.set_default_tensor_type() is deprecated as of PyTorch 2.1, please use torch.set_default_dtype() and torch.set_default_device() as alternatives. (Triggered internally at /opt/conda/conda-bld/pytorch_1699449183005/work/torch/csrc/tensor/python_tensor.cpp:451.)\n",
      "  _C._set_default_tensor_type(t)\n"
     ]
    },
    {
     "name": "stdout",
     "output_type": "stream",
     "text": [
      "['../../data/CVRP/dataset/Vrp-Set-X/X-n129/X-n129-k18.vrp']\n",
      "[2024-04-01 11:23:55] CVRPTester.py(84) : >> Model loaded from result/maml_250000checkpts/checkpoint-250000.pt\n",
      "[2024-04-01 11:23:56] CVRPTester.py(225) : episode   1/  1, Elapsed[0.03m], Remain[0.00m], sol:28.940, score:29.757, aug_score:29.757\n",
      "[2024-04-01 11:23:56] CVRPTester.py(231) :  *** Test Done *** \n",
      "[2024-04-01 11:23:56] CVRPTester.py(232) :  NO-AUG SCORE: 29.7568, Gap: 2.8225 \n",
      "[2024-04-01 11:23:56] CVRPTester.py(233) :  AUGMENTATION SCORE: 29.7568, Gap: 2.8225 \n",
      "29.757 (2.823%)\n",
      "29.757 (2.823%)\n",
      ">> Evaluation on ../../data/CVRP/dataset/Vrp-Set-X/X-n129 finished within 1.64s\n",
      ">> Save final results to res/X-n129\n",
      "Test on \" ../../data/CVRP/dataset/Vrp-Set-X/X-n129 \" Success\n",
      "-----------------------------------------------------------------------------------------------------------------\n",
      "[2024-04-01 11:24:00] test.py(106) : DEBUG_MODE: False\n",
      "[2024-04-01 11:24:00] test.py(107) : USE_CUDA: True, CUDA_DEVICE_NUM: 0\n",
      "[2024-04-01 11:24:00] test.py(108) : env_params{'problem_size': 200, 'pomo_size': 200}\n",
      "[2024-04-01 11:24:00] test.py(108) : model_params{'embedding_dim': 128, 'sqrt_embedding_dim': 11.313708498984761, 'encoder_layer_num': 6, 'qkv_dim': 16, 'head_num': 8, 'logit_clipping': 10, 'ff_hidden_dim': 512, 'eval_type': 'argmax', 'norm': 'batch_no_track'}\n",
      "[2024-04-01 11:24:00] test.py(108) : tester_params{'use_cuda': True, 'cuda_device_num': 0, 'seed': 2024, 'model_load': {'path': 'result/maml_250000checkpts', 'epoch': 250000}, 'test_episodes': 1, 'test_batch_size': 1, 'augmentation_enable': True, 'test_robustness': False, 'aug_factor': 8, 'aug_batch_size': 1, 'test_set_path': '../../data/CVRP/dataset/Vrp-Set-X/X-n134', 'test_set_opt_sol_path': '../../data/CVRP/dataset/Vrp-Set-X/X-n134-sol', 'test_set_name': 'A-n33'}\n",
      "[2024-04-01 11:24:00] test.py(108) : fine_tune_params{'enable': False, 'fine_tune_episodes': 1000, 'k': 10, 'fine_tune_batch_size': 10, 'augmentation_enable': True, 'optimizer': {'lr': 1e-05, 'weight_decay': 1e-06}}\n",
      "[2024-04-01 11:24:00] test.py(108) : logger_params{'log_file': {'desc': 'test_cvrp', 'filename': 'log.txt', 'filepath': './result/20240401_112359_test_cvrp'}}\n"
     ]
    },
    {
     "name": "stderr",
     "output_type": "stream",
     "text": [
      "/home/xunj/miniconda3/lib/python3.11/site-packages/torch/__init__.py:614: UserWarning: torch.set_default_tensor_type() is deprecated as of PyTorch 2.1, please use torch.set_default_dtype() and torch.set_default_device() as alternatives. (Triggered internally at /opt/conda/conda-bld/pytorch_1699449183005/work/torch/csrc/tensor/python_tensor.cpp:451.)\n",
      "  _C._set_default_tensor_type(t)\n"
     ]
    },
    {
     "name": "stdout",
     "output_type": "stream",
     "text": [
      "['../../data/CVRP/dataset/Vrp-Set-X/X-n134/X-n134-k13.vrp']\n",
      "[2024-04-01 11:24:06] CVRPTester.py(84) : >> Model loaded from result/maml_250000checkpts/checkpoint-250000.pt\n",
      "[2024-04-01 11:24:07] CVRPTester.py(225) : episode   1/  1, Elapsed[0.03m], Remain[0.00m], sol:10.916, score:11.564, aug_score:11.318\n",
      "[2024-04-01 11:24:07] CVRPTester.py(231) :  *** Test Done *** \n",
      "[2024-04-01 11:24:07] CVRPTester.py(232) :  NO-AUG SCORE: 11.5641, Gap: 5.9367 \n",
      "[2024-04-01 11:24:07] CVRPTester.py(233) :  AUGMENTATION SCORE: 11.3176, Gap: 3.6786 \n",
      "11.564 (5.937%)\n",
      "11.318 (3.679%)\n",
      ">> Evaluation on ../../data/CVRP/dataset/Vrp-Set-X/X-n134 finished within 1.64s\n",
      ">> Save final results to res/X-n134\n",
      "Test on \" ../../data/CVRP/dataset/Vrp-Set-X/X-n134 \" Success\n",
      "-----------------------------------------------------------------------------------------------------------------\n",
      "[2024-04-01 11:24:11] test.py(106) : DEBUG_MODE: False\n",
      "[2024-04-01 11:24:11] test.py(107) : USE_CUDA: True, CUDA_DEVICE_NUM: 0\n",
      "[2024-04-01 11:24:11] test.py(108) : env_params{'problem_size': 200, 'pomo_size': 200}\n",
      "[2024-04-01 11:24:11] test.py(108) : model_params{'embedding_dim': 128, 'sqrt_embedding_dim': 11.313708498984761, 'encoder_layer_num': 6, 'qkv_dim': 16, 'head_num': 8, 'logit_clipping': 10, 'ff_hidden_dim': 512, 'eval_type': 'argmax', 'norm': 'batch_no_track'}\n",
      "[2024-04-01 11:24:11] test.py(108) : tester_params{'use_cuda': True, 'cuda_device_num': 0, 'seed': 2024, 'model_load': {'path': 'result/maml_250000checkpts', 'epoch': 250000}, 'test_episodes': 1, 'test_batch_size': 1, 'augmentation_enable': True, 'test_robustness': False, 'aug_factor': 8, 'aug_batch_size': 1, 'test_set_path': '../../data/CVRP/dataset/Vrp-Set-X/X-n139', 'test_set_opt_sol_path': '../../data/CVRP/dataset/Vrp-Set-X/X-n139-sol', 'test_set_name': 'A-n33'}\n",
      "[2024-04-01 11:24:11] test.py(108) : fine_tune_params{'enable': False, 'fine_tune_episodes': 1000, 'k': 10, 'fine_tune_batch_size': 10, 'augmentation_enable': True, 'optimizer': {'lr': 1e-05, 'weight_decay': 1e-06}}\n",
      "[2024-04-01 11:24:11] test.py(108) : logger_params{'log_file': {'desc': 'test_cvrp', 'filename': 'log.txt', 'filepath': './result/20240401_112410_test_cvrp'}}\n"
     ]
    },
    {
     "name": "stderr",
     "output_type": "stream",
     "text": [
      "/home/xunj/miniconda3/lib/python3.11/site-packages/torch/__init__.py:614: UserWarning: torch.set_default_tensor_type() is deprecated as of PyTorch 2.1, please use torch.set_default_dtype() and torch.set_default_device() as alternatives. (Triggered internally at /opt/conda/conda-bld/pytorch_1699449183005/work/torch/csrc/tensor/python_tensor.cpp:451.)\n",
      "  _C._set_default_tensor_type(t)\n"
     ]
    },
    {
     "name": "stdout",
     "output_type": "stream",
     "text": [
      "['../../data/CVRP/dataset/Vrp-Set-X/X-n139/X-n139-k10.vrp']\n",
      "[2024-04-01 11:24:17] CVRPTester.py(84) : >> Model loaded from result/maml_250000checkpts/checkpoint-250000.pt\n",
      "[2024-04-01 11:24:18] CVRPTester.py(225) : episode   1/  1, Elapsed[0.03m], Remain[0.00m], sol:13.590, score:14.129, aug_score:14.031\n",
      "[2024-04-01 11:24:18] CVRPTester.py(231) :  *** Test Done *** \n",
      "[2024-04-01 11:24:18] CVRPTester.py(232) :  NO-AUG SCORE: 14.1287, Gap: 3.9640 \n",
      "[2024-04-01 11:24:18] CVRPTester.py(233) :  AUGMENTATION SCORE: 14.0311, Gap: 3.2459 \n",
      "14.129 (3.964%)\n",
      "14.031 (3.246%)\n",
      ">> Evaluation on ../../data/CVRP/dataset/Vrp-Set-X/X-n139 finished within 1.71s\n",
      ">> Save final results to res/X-n139\n",
      "Test on \" ../../data/CVRP/dataset/Vrp-Set-X/X-n139 \" Success\n",
      "-----------------------------------------------------------------------------------------------------------------\n",
      "[2024-04-01 11:24:22] test.py(106) : DEBUG_MODE: False\n",
      "[2024-04-01 11:24:22] test.py(107) : USE_CUDA: True, CUDA_DEVICE_NUM: 0\n",
      "[2024-04-01 11:24:22] test.py(108) : env_params{'problem_size': 200, 'pomo_size': 200}\n",
      "[2024-04-01 11:24:22] test.py(108) : model_params{'embedding_dim': 128, 'sqrt_embedding_dim': 11.313708498984761, 'encoder_layer_num': 6, 'qkv_dim': 16, 'head_num': 8, 'logit_clipping': 10, 'ff_hidden_dim': 512, 'eval_type': 'argmax', 'norm': 'batch_no_track'}\n",
      "[2024-04-01 11:24:22] test.py(108) : tester_params{'use_cuda': True, 'cuda_device_num': 0, 'seed': 2024, 'model_load': {'path': 'result/maml_250000checkpts', 'epoch': 250000}, 'test_episodes': 1, 'test_batch_size': 1, 'augmentation_enable': True, 'test_robustness': False, 'aug_factor': 8, 'aug_batch_size': 1, 'test_set_path': '../../data/CVRP/dataset/Vrp-Set-X/X-n143', 'test_set_opt_sol_path': '../../data/CVRP/dataset/Vrp-Set-X/X-n143-sol', 'test_set_name': 'A-n33'}\n",
      "[2024-04-01 11:24:22] test.py(108) : fine_tune_params{'enable': False, 'fine_tune_episodes': 1000, 'k': 10, 'fine_tune_batch_size': 10, 'augmentation_enable': True, 'optimizer': {'lr': 1e-05, 'weight_decay': 1e-06}}\n",
      "[2024-04-01 11:24:22] test.py(108) : logger_params{'log_file': {'desc': 'test_cvrp', 'filename': 'log.txt', 'filepath': './result/20240401_112421_test_cvrp'}}\n"
     ]
    },
    {
     "name": "stderr",
     "output_type": "stream",
     "text": [
      "/home/xunj/miniconda3/lib/python3.11/site-packages/torch/__init__.py:614: UserWarning: torch.set_default_tensor_type() is deprecated as of PyTorch 2.1, please use torch.set_default_dtype() and torch.set_default_device() as alternatives. (Triggered internally at /opt/conda/conda-bld/pytorch_1699449183005/work/torch/csrc/tensor/python_tensor.cpp:451.)\n",
      "  _C._set_default_tensor_type(t)\n"
     ]
    },
    {
     "name": "stdout",
     "output_type": "stream",
     "text": [
      "['../../data/CVRP/dataset/Vrp-Set-X/X-n143/X-n143-k7.vrp']\n",
      "[2024-04-01 11:24:28] CVRPTester.py(84) : >> Model loaded from result/maml_250000checkpts/checkpoint-250000.pt\n",
      "[2024-04-01 11:24:30] CVRPTester.py(225) : episode   1/  1, Elapsed[0.03m], Remain[0.00m], sol:15.700, score:16.612, aug_score:16.612\n",
      "[2024-04-01 11:24:30] CVRPTester.py(231) :  *** Test Done *** \n",
      "[2024-04-01 11:24:30] CVRPTester.py(232) :  NO-AUG SCORE: 16.6115, Gap: 5.8060 \n",
      "[2024-04-01 11:24:30] CVRPTester.py(233) :  AUGMENTATION SCORE: 16.6115, Gap: 5.8060 \n",
      "16.612 (5.806%)\n",
      "16.612 (5.806%)\n",
      ">> Evaluation on ../../data/CVRP/dataset/Vrp-Set-X/X-n143 finished within 1.73s\n",
      ">> Save final results to res/X-n143\n",
      "Test on \" ../../data/CVRP/dataset/Vrp-Set-X/X-n143 \" Success\n",
      "-----------------------------------------------------------------------------------------------------------------\n",
      "[2024-04-01 11:24:33] test.py(106) : DEBUG_MODE: False\n",
      "[2024-04-01 11:24:33] test.py(107) : USE_CUDA: True, CUDA_DEVICE_NUM: 0\n",
      "[2024-04-01 11:24:33] test.py(108) : env_params{'problem_size': 200, 'pomo_size': 200}\n",
      "[2024-04-01 11:24:33] test.py(108) : model_params{'embedding_dim': 128, 'sqrt_embedding_dim': 11.313708498984761, 'encoder_layer_num': 6, 'qkv_dim': 16, 'head_num': 8, 'logit_clipping': 10, 'ff_hidden_dim': 512, 'eval_type': 'argmax', 'norm': 'batch_no_track'}\n",
      "[2024-04-01 11:24:33] test.py(108) : tester_params{'use_cuda': True, 'cuda_device_num': 0, 'seed': 2024, 'model_load': {'path': 'result/maml_250000checkpts', 'epoch': 250000}, 'test_episodes': 1, 'test_batch_size': 1, 'augmentation_enable': True, 'test_robustness': False, 'aug_factor': 8, 'aug_batch_size': 1, 'test_set_path': '../../data/CVRP/dataset/Vrp-Set-X/X-n148', 'test_set_opt_sol_path': '../../data/CVRP/dataset/Vrp-Set-X/X-n148-sol', 'test_set_name': 'A-n33'}\n",
      "[2024-04-01 11:24:33] test.py(108) : fine_tune_params{'enable': False, 'fine_tune_episodes': 1000, 'k': 10, 'fine_tune_batch_size': 10, 'augmentation_enable': True, 'optimizer': {'lr': 1e-05, 'weight_decay': 1e-06}}\n",
      "[2024-04-01 11:24:33] test.py(108) : logger_params{'log_file': {'desc': 'test_cvrp', 'filename': 'log.txt', 'filepath': './result/20240401_112433_test_cvrp'}}\n"
     ]
    },
    {
     "name": "stderr",
     "output_type": "stream",
     "text": [
      "/home/xunj/miniconda3/lib/python3.11/site-packages/torch/__init__.py:614: UserWarning: torch.set_default_tensor_type() is deprecated as of PyTorch 2.1, please use torch.set_default_dtype() and torch.set_default_device() as alternatives. (Triggered internally at /opt/conda/conda-bld/pytorch_1699449183005/work/torch/csrc/tensor/python_tensor.cpp:451.)\n",
      "  _C._set_default_tensor_type(t)\n"
     ]
    },
    {
     "name": "stdout",
     "output_type": "stream",
     "text": [
      "['../../data/CVRP/dataset/Vrp-Set-X/X-n148/X-n148-k46.vrp']\n",
      "[2024-04-01 11:24:39] CVRPTester.py(84) : >> Model loaded from result/maml_250000checkpts/checkpoint-250000.pt\n",
      "[2024-04-01 11:24:41] CVRPTester.py(225) : episode   1/  1, Elapsed[0.03m], Remain[0.00m], sol:43.448, score:46.901, aug_score:46.866\n",
      "[2024-04-01 11:24:41] CVRPTester.py(231) :  *** Test Done *** \n",
      "[2024-04-01 11:24:41] CVRPTester.py(232) :  NO-AUG SCORE: 46.9008, Gap: 7.9471 \n",
      "[2024-04-01 11:24:41] CVRPTester.py(233) :  AUGMENTATION SCORE: 46.8664, Gap: 7.8677 \n",
      "46.901 (7.947%)\n",
      "46.866 (7.868%)\n",
      ">> Evaluation on ../../data/CVRP/dataset/Vrp-Set-X/X-n148 finished within 1.72s\n",
      ">> Save final results to res/X-n148\n",
      "Test on \" ../../data/CVRP/dataset/Vrp-Set-X/X-n148 \" Success\n",
      "-----------------------------------------------------------------------------------------------------------------\n",
      "[2024-04-01 11:24:44] test.py(106) : DEBUG_MODE: False\n",
      "[2024-04-01 11:24:44] test.py(107) : USE_CUDA: True, CUDA_DEVICE_NUM: 0\n",
      "[2024-04-01 11:24:44] test.py(108) : env_params{'problem_size': 200, 'pomo_size': 200}\n",
      "[2024-04-01 11:24:44] test.py(108) : model_params{'embedding_dim': 128, 'sqrt_embedding_dim': 11.313708498984761, 'encoder_layer_num': 6, 'qkv_dim': 16, 'head_num': 8, 'logit_clipping': 10, 'ff_hidden_dim': 512, 'eval_type': 'argmax', 'norm': 'batch_no_track'}\n",
      "[2024-04-01 11:24:44] test.py(108) : tester_params{'use_cuda': True, 'cuda_device_num': 0, 'seed': 2024, 'model_load': {'path': 'result/maml_250000checkpts', 'epoch': 250000}, 'test_episodes': 1, 'test_batch_size': 1, 'augmentation_enable': True, 'test_robustness': False, 'aug_factor': 8, 'aug_batch_size': 1, 'test_set_path': '../../data/CVRP/dataset/Vrp-Set-X/X-n153', 'test_set_opt_sol_path': '../../data/CVRP/dataset/Vrp-Set-X/X-n153-sol', 'test_set_name': 'A-n33'}\n",
      "[2024-04-01 11:24:44] test.py(108) : fine_tune_params{'enable': False, 'fine_tune_episodes': 1000, 'k': 10, 'fine_tune_batch_size': 10, 'augmentation_enable': True, 'optimizer': {'lr': 1e-05, 'weight_decay': 1e-06}}\n",
      "[2024-04-01 11:24:44] test.py(108) : logger_params{'log_file': {'desc': 'test_cvrp', 'filename': 'log.txt', 'filepath': './result/20240401_112444_test_cvrp'}}\n"
     ]
    },
    {
     "name": "stderr",
     "output_type": "stream",
     "text": [
      "/home/xunj/miniconda3/lib/python3.11/site-packages/torch/__init__.py:614: UserWarning: torch.set_default_tensor_type() is deprecated as of PyTorch 2.1, please use torch.set_default_dtype() and torch.set_default_device() as alternatives. (Triggered internally at /opt/conda/conda-bld/pytorch_1699449183005/work/torch/csrc/tensor/python_tensor.cpp:451.)\n",
      "  _C._set_default_tensor_type(t)\n"
     ]
    },
    {
     "name": "stdout",
     "output_type": "stream",
     "text": [
      "['../../data/CVRP/dataset/Vrp-Set-X/X-n153/X-n153-k22.vrp']\n",
      "[2024-04-01 11:24:50] CVRPTester.py(84) : >> Model loaded from result/maml_250000checkpts/checkpoint-250000.pt\n",
      "[2024-04-01 11:24:52] CVRPTester.py(225) : episode   1/  1, Elapsed[0.03m], Remain[0.00m], sol:21.220, score:23.811, aug_score:23.254\n",
      "[2024-04-01 11:24:52] CVRPTester.py(231) :  *** Test Done *** \n",
      "[2024-04-01 11:24:52] CVRPTester.py(232) :  NO-AUG SCORE: 23.8108, Gap: 12.2090 \n",
      "[2024-04-01 11:24:52] CVRPTester.py(233) :  AUGMENTATION SCORE: 23.2540, Gap: 9.5852 \n",
      "23.811 (12.209%)\n",
      "23.254 (9.585%)\n",
      ">> Evaluation on ../../data/CVRP/dataset/Vrp-Set-X/X-n153 finished within 1.67s\n",
      ">> Save final results to res/X-n153\n",
      "Test on \" ../../data/CVRP/dataset/Vrp-Set-X/X-n153 \" Success\n",
      "-----------------------------------------------------------------------------------------------------------------\n",
      "[2024-04-01 11:24:55] test.py(106) : DEBUG_MODE: False\n",
      "[2024-04-01 11:24:55] test.py(107) : USE_CUDA: True, CUDA_DEVICE_NUM: 0\n",
      "[2024-04-01 11:24:55] test.py(108) : env_params{'problem_size': 200, 'pomo_size': 200}\n",
      "[2024-04-01 11:24:55] test.py(108) : model_params{'embedding_dim': 128, 'sqrt_embedding_dim': 11.313708498984761, 'encoder_layer_num': 6, 'qkv_dim': 16, 'head_num': 8, 'logit_clipping': 10, 'ff_hidden_dim': 512, 'eval_type': 'argmax', 'norm': 'batch_no_track'}\n",
      "[2024-04-01 11:24:55] test.py(108) : tester_params{'use_cuda': True, 'cuda_device_num': 0, 'seed': 2024, 'model_load': {'path': 'result/maml_250000checkpts', 'epoch': 250000}, 'test_episodes': 1, 'test_batch_size': 1, 'augmentation_enable': True, 'test_robustness': False, 'aug_factor': 8, 'aug_batch_size': 1, 'test_set_path': '../../data/CVRP/dataset/Vrp-Set-X/X-n157', 'test_set_opt_sol_path': '../../data/CVRP/dataset/Vrp-Set-X/X-n157-sol', 'test_set_name': 'A-n33'}\n",
      "[2024-04-01 11:24:55] test.py(108) : fine_tune_params{'enable': False, 'fine_tune_episodes': 1000, 'k': 10, 'fine_tune_batch_size': 10, 'augmentation_enable': True, 'optimizer': {'lr': 1e-05, 'weight_decay': 1e-06}}\n",
      "[2024-04-01 11:24:55] test.py(108) : logger_params{'log_file': {'desc': 'test_cvrp', 'filename': 'log.txt', 'filepath': './result/20240401_112455_test_cvrp'}}\n"
     ]
    },
    {
     "name": "stderr",
     "output_type": "stream",
     "text": [
      "/home/xunj/miniconda3/lib/python3.11/site-packages/torch/__init__.py:614: UserWarning: torch.set_default_tensor_type() is deprecated as of PyTorch 2.1, please use torch.set_default_dtype() and torch.set_default_device() as alternatives. (Triggered internally at /opt/conda/conda-bld/pytorch_1699449183005/work/torch/csrc/tensor/python_tensor.cpp:451.)\n",
      "  _C._set_default_tensor_type(t)\n"
     ]
    },
    {
     "name": "stdout",
     "output_type": "stream",
     "text": [
      "['../../data/CVRP/dataset/Vrp-Set-X/X-n157/X-n157-k13.vrp']\n",
      "[2024-04-01 11:25:01] CVRPTester.py(84) : >> Model loaded from result/maml_250000checkpts/checkpoint-250000.pt\n",
      "[2024-04-01 11:25:03] CVRPTester.py(225) : episode   1/  1, Elapsed[0.03m], Remain[0.00m], sol:16.876, score:17.336, aug_score:17.127\n",
      "[2024-04-01 11:25:03] CVRPTester.py(231) :  *** Test Done *** \n",
      "[2024-04-01 11:25:03] CVRPTester.py(232) :  NO-AUG SCORE: 17.3357, Gap: 2.7238 \n",
      "[2024-04-01 11:25:03] CVRPTester.py(233) :  AUGMENTATION SCORE: 17.1272, Gap: 1.4883 \n",
      "17.336 (2.724%)\n",
      "17.127 (1.488%)\n",
      ">> Evaluation on ../../data/CVRP/dataset/Vrp-Set-X/X-n157 finished within 1.69s\n",
      ">> Save final results to res/X-n157\n",
      "Test on \" ../../data/CVRP/dataset/Vrp-Set-X/X-n157 \" Success\n",
      "-----------------------------------------------------------------------------------------------------------------\n",
      "[2024-04-01 11:25:06] test.py(106) : DEBUG_MODE: False\n",
      "[2024-04-01 11:25:06] test.py(107) : USE_CUDA: True, CUDA_DEVICE_NUM: 0\n",
      "[2024-04-01 11:25:06] test.py(108) : env_params{'problem_size': 200, 'pomo_size': 200}\n",
      "[2024-04-01 11:25:06] test.py(108) : model_params{'embedding_dim': 128, 'sqrt_embedding_dim': 11.313708498984761, 'encoder_layer_num': 6, 'qkv_dim': 16, 'head_num': 8, 'logit_clipping': 10, 'ff_hidden_dim': 512, 'eval_type': 'argmax', 'norm': 'batch_no_track'}\n",
      "[2024-04-01 11:25:06] test.py(108) : tester_params{'use_cuda': True, 'cuda_device_num': 0, 'seed': 2024, 'model_load': {'path': 'result/maml_250000checkpts', 'epoch': 250000}, 'test_episodes': 1, 'test_batch_size': 1, 'augmentation_enable': True, 'test_robustness': False, 'aug_factor': 8, 'aug_batch_size': 1, 'test_set_path': '../../data/CVRP/dataset/Vrp-Set-X/X-n162', 'test_set_opt_sol_path': '../../data/CVRP/dataset/Vrp-Set-X/X-n162-sol', 'test_set_name': 'A-n33'}\n",
      "[2024-04-01 11:25:06] test.py(108) : fine_tune_params{'enable': False, 'fine_tune_episodes': 1000, 'k': 10, 'fine_tune_batch_size': 10, 'augmentation_enable': True, 'optimizer': {'lr': 1e-05, 'weight_decay': 1e-06}}\n",
      "[2024-04-01 11:25:06] test.py(108) : logger_params{'log_file': {'desc': 'test_cvrp', 'filename': 'log.txt', 'filepath': './result/20240401_112506_test_cvrp'}}\n"
     ]
    },
    {
     "name": "stderr",
     "output_type": "stream",
     "text": [
      "/home/xunj/miniconda3/lib/python3.11/site-packages/torch/__init__.py:614: UserWarning: torch.set_default_tensor_type() is deprecated as of PyTorch 2.1, please use torch.set_default_dtype() and torch.set_default_device() as alternatives. (Triggered internally at /opt/conda/conda-bld/pytorch_1699449183005/work/torch/csrc/tensor/python_tensor.cpp:451.)\n",
      "  _C._set_default_tensor_type(t)\n"
     ]
    },
    {
     "name": "stdout",
     "output_type": "stream",
     "text": [
      "['../../data/CVRP/dataset/Vrp-Set-X/X-n162/X-n162-k11.vrp']\n",
      "[2024-04-01 11:25:12] CVRPTester.py(84) : >> Model loaded from result/maml_250000checkpts/checkpoint-250000.pt\n",
      "[2024-04-01 11:25:14] CVRPTester.py(225) : episode   1/  1, Elapsed[0.03m], Remain[0.00m], sol:14.138, score:15.094, aug_score:14.676\n",
      "[2024-04-01 11:25:14] CVRPTester.py(231) :  *** Test Done *** \n",
      "[2024-04-01 11:25:14] CVRPTester.py(232) :  NO-AUG SCORE: 15.0943, Gap: 6.7642 \n",
      "[2024-04-01 11:25:14] CVRPTester.py(233) :  AUGMENTATION SCORE: 14.6764, Gap: 3.8079 \n",
      "15.094 (6.764%)\n",
      "14.676 (3.808%)\n",
      ">> Evaluation on ../../data/CVRP/dataset/Vrp-Set-X/X-n162 finished within 1.63s\n",
      ">> Save final results to res/X-n162\n",
      "Test on \" ../../data/CVRP/dataset/Vrp-Set-X/X-n162 \" Success\n",
      "-----------------------------------------------------------------------------------------------------------------\n",
      "[2024-04-01 11:25:17] test.py(106) : DEBUG_MODE: False\n",
      "[2024-04-01 11:25:17] test.py(107) : USE_CUDA: True, CUDA_DEVICE_NUM: 0\n",
      "[2024-04-01 11:25:17] test.py(108) : env_params{'problem_size': 200, 'pomo_size': 200}\n",
      "[2024-04-01 11:25:17] test.py(108) : model_params{'embedding_dim': 128, 'sqrt_embedding_dim': 11.313708498984761, 'encoder_layer_num': 6, 'qkv_dim': 16, 'head_num': 8, 'logit_clipping': 10, 'ff_hidden_dim': 512, 'eval_type': 'argmax', 'norm': 'batch_no_track'}\n",
      "[2024-04-01 11:25:17] test.py(108) : tester_params{'use_cuda': True, 'cuda_device_num': 0, 'seed': 2024, 'model_load': {'path': 'result/maml_250000checkpts', 'epoch': 250000}, 'test_episodes': 1, 'test_batch_size': 1, 'augmentation_enable': True, 'test_robustness': False, 'aug_factor': 8, 'aug_batch_size': 1, 'test_set_path': '../../data/CVRP/dataset/Vrp-Set-X/X-n167', 'test_set_opt_sol_path': '../../data/CVRP/dataset/Vrp-Set-X/X-n167-sol', 'test_set_name': 'A-n33'}\n",
      "[2024-04-01 11:25:17] test.py(108) : fine_tune_params{'enable': False, 'fine_tune_episodes': 1000, 'k': 10, 'fine_tune_batch_size': 10, 'augmentation_enable': True, 'optimizer': {'lr': 1e-05, 'weight_decay': 1e-06}}\n",
      "[2024-04-01 11:25:17] test.py(108) : logger_params{'log_file': {'desc': 'test_cvrp', 'filename': 'log.txt', 'filepath': './result/20240401_112517_test_cvrp'}}\n"
     ]
    },
    {
     "name": "stderr",
     "output_type": "stream",
     "text": [
      "/home/xunj/miniconda3/lib/python3.11/site-packages/torch/__init__.py:614: UserWarning: torch.set_default_tensor_type() is deprecated as of PyTorch 2.1, please use torch.set_default_dtype() and torch.set_default_device() as alternatives. (Triggered internally at /opt/conda/conda-bld/pytorch_1699449183005/work/torch/csrc/tensor/python_tensor.cpp:451.)\n",
      "  _C._set_default_tensor_type(t)\n"
     ]
    },
    {
     "name": "stdout",
     "output_type": "stream",
     "text": [
      "['../../data/CVRP/dataset/Vrp-Set-X/X-n167/X-n167-k10.vrp']\n",
      "[2024-04-01 11:25:24] CVRPTester.py(84) : >> Model loaded from result/maml_250000checkpts/checkpoint-250000.pt\n",
      "[2024-04-01 11:25:26] CVRPTester.py(225) : episode   1/  1, Elapsed[0.03m], Remain[0.00m], sol:20.557, score:21.390, aug_score:21.199\n",
      "[2024-04-01 11:25:26] CVRPTester.py(231) :  *** Test Done *** \n",
      "[2024-04-01 11:25:26] CVRPTester.py(232) :  NO-AUG SCORE: 21.3901, Gap: 4.0527 \n",
      "[2024-04-01 11:25:26] CVRPTester.py(233) :  AUGMENTATION SCORE: 21.1989, Gap: 3.1225 \n",
      "21.390 (4.053%)\n",
      "21.199 (3.123%)\n",
      ">> Evaluation on ../../data/CVRP/dataset/Vrp-Set-X/X-n167 finished within 1.76s\n",
      ">> Save final results to res/X-n167\n",
      "Test on \" ../../data/CVRP/dataset/Vrp-Set-X/X-n167 \" Success\n",
      "-----------------------------------------------------------------------------------------------------------------\n",
      "[2024-04-01 11:25:29] test.py(106) : DEBUG_MODE: False\n",
      "[2024-04-01 11:25:29] test.py(107) : USE_CUDA: True, CUDA_DEVICE_NUM: 0\n",
      "[2024-04-01 11:25:29] test.py(108) : env_params{'problem_size': 200, 'pomo_size': 200}\n",
      "[2024-04-01 11:25:29] test.py(108) : model_params{'embedding_dim': 128, 'sqrt_embedding_dim': 11.313708498984761, 'encoder_layer_num': 6, 'qkv_dim': 16, 'head_num': 8, 'logit_clipping': 10, 'ff_hidden_dim': 512, 'eval_type': 'argmax', 'norm': 'batch_no_track'}\n",
      "[2024-04-01 11:25:29] test.py(108) : tester_params{'use_cuda': True, 'cuda_device_num': 0, 'seed': 2024, 'model_load': {'path': 'result/maml_250000checkpts', 'epoch': 250000}, 'test_episodes': 1, 'test_batch_size': 1, 'augmentation_enable': True, 'test_robustness': False, 'aug_factor': 8, 'aug_batch_size': 1, 'test_set_path': '../../data/CVRP/dataset/Vrp-Set-X/X-n172', 'test_set_opt_sol_path': '../../data/CVRP/dataset/Vrp-Set-X/X-n172-sol', 'test_set_name': 'A-n33'}\n",
      "[2024-04-01 11:25:29] test.py(108) : fine_tune_params{'enable': False, 'fine_tune_episodes': 1000, 'k': 10, 'fine_tune_batch_size': 10, 'augmentation_enable': True, 'optimizer': {'lr': 1e-05, 'weight_decay': 1e-06}}\n",
      "[2024-04-01 11:25:29] test.py(108) : logger_params{'log_file': {'desc': 'test_cvrp', 'filename': 'log.txt', 'filepath': './result/20240401_112529_test_cvrp'}}\n"
     ]
    },
    {
     "name": "stderr",
     "output_type": "stream",
     "text": [
      "/home/xunj/miniconda3/lib/python3.11/site-packages/torch/__init__.py:614: UserWarning: torch.set_default_tensor_type() is deprecated as of PyTorch 2.1, please use torch.set_default_dtype() and torch.set_default_device() as alternatives. (Triggered internally at /opt/conda/conda-bld/pytorch_1699449183005/work/torch/csrc/tensor/python_tensor.cpp:451.)\n",
      "  _C._set_default_tensor_type(t)\n"
     ]
    },
    {
     "name": "stdout",
     "output_type": "stream",
     "text": [
      "['../../data/CVRP/dataset/Vrp-Set-X/X-n172/X-n172-k51.vrp']\n",
      "[2024-04-01 11:25:35] CVRPTester.py(84) : >> Model loaded from result/maml_250000checkpts/checkpoint-250000.pt\n",
      "[2024-04-01 11:25:37] CVRPTester.py(225) : episode   1/  1, Elapsed[0.03m], Remain[0.00m], sol:45.607, score:48.973, aug_score:48.666\n",
      "[2024-04-01 11:25:37] CVRPTester.py(231) :  *** Test Done *** \n",
      "[2024-04-01 11:25:37] CVRPTester.py(232) :  NO-AUG SCORE: 48.9731, Gap: 7.3806 \n",
      "[2024-04-01 11:25:37] CVRPTester.py(233) :  AUGMENTATION SCORE: 48.6658, Gap: 6.7068 \n",
      "48.973 (7.381%)\n",
      "48.666 (6.707%)\n",
      ">> Evaluation on ../../data/CVRP/dataset/Vrp-Set-X/X-n172 finished within 1.82s\n",
      ">> Save final results to res/X-n172\n",
      "Test on \" ../../data/CVRP/dataset/Vrp-Set-X/X-n172 \" Success\n",
      "-----------------------------------------------------------------------------------------------------------------\n",
      "[2024-04-01 11:25:40] test.py(106) : DEBUG_MODE: False\n",
      "[2024-04-01 11:25:40] test.py(107) : USE_CUDA: True, CUDA_DEVICE_NUM: 0\n",
      "[2024-04-01 11:25:40] test.py(108) : env_params{'problem_size': 200, 'pomo_size': 200}\n",
      "[2024-04-01 11:25:40] test.py(108) : model_params{'embedding_dim': 128, 'sqrt_embedding_dim': 11.313708498984761, 'encoder_layer_num': 6, 'qkv_dim': 16, 'head_num': 8, 'logit_clipping': 10, 'ff_hidden_dim': 512, 'eval_type': 'argmax', 'norm': 'batch_no_track'}\n",
      "[2024-04-01 11:25:40] test.py(108) : tester_params{'use_cuda': True, 'cuda_device_num': 0, 'seed': 2024, 'model_load': {'path': 'result/maml_250000checkpts', 'epoch': 250000}, 'test_episodes': 1, 'test_batch_size': 1, 'augmentation_enable': True, 'test_robustness': False, 'aug_factor': 8, 'aug_batch_size': 1, 'test_set_path': '../../data/CVRP/dataset/Vrp-Set-X/X-n176', 'test_set_opt_sol_path': '../../data/CVRP/dataset/Vrp-Set-X/X-n176-sol', 'test_set_name': 'A-n33'}\n",
      "[2024-04-01 11:25:40] test.py(108) : fine_tune_params{'enable': False, 'fine_tune_episodes': 1000, 'k': 10, 'fine_tune_batch_size': 10, 'augmentation_enable': True, 'optimizer': {'lr': 1e-05, 'weight_decay': 1e-06}}\n",
      "[2024-04-01 11:25:40] test.py(108) : logger_params{'log_file': {'desc': 'test_cvrp', 'filename': 'log.txt', 'filepath': './result/20240401_112540_test_cvrp'}}\n"
     ]
    },
    {
     "name": "stderr",
     "output_type": "stream",
     "text": [
      "/home/xunj/miniconda3/lib/python3.11/site-packages/torch/__init__.py:614: UserWarning: torch.set_default_tensor_type() is deprecated as of PyTorch 2.1, please use torch.set_default_dtype() and torch.set_default_device() as alternatives. (Triggered internally at /opt/conda/conda-bld/pytorch_1699449183005/work/torch/csrc/tensor/python_tensor.cpp:451.)\n",
      "  _C._set_default_tensor_type(t)\n"
     ]
    },
    {
     "name": "stdout",
     "output_type": "stream",
     "text": [
      "['../../data/CVRP/dataset/Vrp-Set-X/X-n176/X-n176-k26.vrp']\n",
      "[2024-04-01 11:25:46] CVRPTester.py(84) : >> Model loaded from result/maml_250000checkpts/checkpoint-250000.pt\n",
      "[2024-04-01 11:25:48] CVRPTester.py(225) : episode   1/  1, Elapsed[0.03m], Remain[0.00m], sol:47.812, score:52.195, aug_score:51.853\n",
      "[2024-04-01 11:25:48] CVRPTester.py(231) :  *** Test Done *** \n",
      "[2024-04-01 11:25:48] CVRPTester.py(232) :  NO-AUG SCORE: 52.1949, Gap: 9.1669 \n",
      "[2024-04-01 11:25:48] CVRPTester.py(233) :  AUGMENTATION SCORE: 51.8529, Gap: 8.4516 \n",
      "52.195 (9.167%)\n",
      "51.853 (8.452%)\n",
      ">> Evaluation on ../../data/CVRP/dataset/Vrp-Set-X/X-n176 finished within 1.72s\n",
      ">> Save final results to res/X-n176\n",
      "Test on \" ../../data/CVRP/dataset/Vrp-Set-X/X-n176 \" Success\n",
      "-----------------------------------------------------------------------------------------------------------------\n",
      "[2024-04-01 11:25:51] test.py(106) : DEBUG_MODE: False\n",
      "[2024-04-01 11:25:51] test.py(107) : USE_CUDA: True, CUDA_DEVICE_NUM: 0\n",
      "[2024-04-01 11:25:51] test.py(108) : env_params{'problem_size': 200, 'pomo_size': 200}\n",
      "[2024-04-01 11:25:51] test.py(108) : model_params{'embedding_dim': 128, 'sqrt_embedding_dim': 11.313708498984761, 'encoder_layer_num': 6, 'qkv_dim': 16, 'head_num': 8, 'logit_clipping': 10, 'ff_hidden_dim': 512, 'eval_type': 'argmax', 'norm': 'batch_no_track'}\n",
      "[2024-04-01 11:25:51] test.py(108) : tester_params{'use_cuda': True, 'cuda_device_num': 0, 'seed': 2024, 'model_load': {'path': 'result/maml_250000checkpts', 'epoch': 250000}, 'test_episodes': 1, 'test_batch_size': 1, 'augmentation_enable': True, 'test_robustness': False, 'aug_factor': 8, 'aug_batch_size': 1, 'test_set_path': '../../data/CVRP/dataset/Vrp-Set-X/X-n181', 'test_set_opt_sol_path': '../../data/CVRP/dataset/Vrp-Set-X/X-n181-sol', 'test_set_name': 'A-n33'}\n",
      "[2024-04-01 11:25:51] test.py(108) : fine_tune_params{'enable': False, 'fine_tune_episodes': 1000, 'k': 10, 'fine_tune_batch_size': 10, 'augmentation_enable': True, 'optimizer': {'lr': 1e-05, 'weight_decay': 1e-06}}\n",
      "[2024-04-01 11:25:51] test.py(108) : logger_params{'log_file': {'desc': 'test_cvrp', 'filename': 'log.txt', 'filepath': './result/20240401_112551_test_cvrp'}}\n"
     ]
    },
    {
     "name": "stderr",
     "output_type": "stream",
     "text": [
      "/home/xunj/miniconda3/lib/python3.11/site-packages/torch/__init__.py:614: UserWarning: torch.set_default_tensor_type() is deprecated as of PyTorch 2.1, please use torch.set_default_dtype() and torch.set_default_device() as alternatives. (Triggered internally at /opt/conda/conda-bld/pytorch_1699449183005/work/torch/csrc/tensor/python_tensor.cpp:451.)\n",
      "  _C._set_default_tensor_type(t)\n"
     ]
    },
    {
     "name": "stdout",
     "output_type": "stream",
     "text": [
      "['../../data/CVRP/dataset/Vrp-Set-X/X-n181/X-n181-k23.vrp']\n",
      "[2024-04-01 11:25:58] CVRPTester.py(84) : >> Model loaded from result/maml_250000checkpts/checkpoint-250000.pt\n",
      "[2024-04-01 11:25:59] CVRPTester.py(225) : episode   1/  1, Elapsed[0.03m], Remain[0.00m], sol:25.569, score:26.218, aug_score:26.139\n",
      "[2024-04-01 11:25:59] CVRPTester.py(231) :  *** Test Done *** \n",
      "[2024-04-01 11:25:59] CVRPTester.py(232) :  NO-AUG SCORE: 26.2178, Gap: 2.5375 \n",
      "[2024-04-01 11:25:59] CVRPTester.py(233) :  AUGMENTATION SCORE: 26.1390, Gap: 2.2294 \n",
      "26.218 (2.538%)\n",
      "26.139 (2.229%)\n",
      ">> Evaluation on ../../data/CVRP/dataset/Vrp-Set-X/X-n181 finished within 1.73s\n",
      ">> Save final results to res/X-n181\n",
      "Test on \" ../../data/CVRP/dataset/Vrp-Set-X/X-n181 \" Success\n",
      "-----------------------------------------------------------------------------------------------------------------\n",
      "[2024-04-01 11:26:03] test.py(106) : DEBUG_MODE: False\n",
      "[2024-04-01 11:26:03] test.py(107) : USE_CUDA: True, CUDA_DEVICE_NUM: 0\n",
      "[2024-04-01 11:26:03] test.py(108) : env_params{'problem_size': 200, 'pomo_size': 200}\n",
      "[2024-04-01 11:26:03] test.py(108) : model_params{'embedding_dim': 128, 'sqrt_embedding_dim': 11.313708498984761, 'encoder_layer_num': 6, 'qkv_dim': 16, 'head_num': 8, 'logit_clipping': 10, 'ff_hidden_dim': 512, 'eval_type': 'argmax', 'norm': 'batch_no_track'}\n",
      "[2024-04-01 11:26:03] test.py(108) : tester_params{'use_cuda': True, 'cuda_device_num': 0, 'seed': 2024, 'model_load': {'path': 'result/maml_250000checkpts', 'epoch': 250000}, 'test_episodes': 1, 'test_batch_size': 1, 'augmentation_enable': True, 'test_robustness': False, 'aug_factor': 8, 'aug_batch_size': 1, 'test_set_path': '../../data/CVRP/dataset/Vrp-Set-X/X-n186', 'test_set_opt_sol_path': '../../data/CVRP/dataset/Vrp-Set-X/X-n186-sol', 'test_set_name': 'A-n33'}\n",
      "[2024-04-01 11:26:03] test.py(108) : fine_tune_params{'enable': False, 'fine_tune_episodes': 1000, 'k': 10, 'fine_tune_batch_size': 10, 'augmentation_enable': True, 'optimizer': {'lr': 1e-05, 'weight_decay': 1e-06}}\n",
      "[2024-04-01 11:26:03] test.py(108) : logger_params{'log_file': {'desc': 'test_cvrp', 'filename': 'log.txt', 'filepath': './result/20240401_112602_test_cvrp'}}\n"
     ]
    },
    {
     "name": "stderr",
     "output_type": "stream",
     "text": [
      "/home/xunj/miniconda3/lib/python3.11/site-packages/torch/__init__.py:614: UserWarning: torch.set_default_tensor_type() is deprecated as of PyTorch 2.1, please use torch.set_default_dtype() and torch.set_default_device() as alternatives. (Triggered internally at /opt/conda/conda-bld/pytorch_1699449183005/work/torch/csrc/tensor/python_tensor.cpp:451.)\n",
      "  _C._set_default_tensor_type(t)\n"
     ]
    },
    {
     "name": "stdout",
     "output_type": "stream",
     "text": [
      "['../../data/CVRP/dataset/Vrp-Set-X/X-n186/X-n186-k15.vrp']\n",
      "[2024-04-01 11:26:09] CVRPTester.py(84) : >> Model loaded from result/maml_250000checkpts/checkpoint-250000.pt\n",
      "[2024-04-01 11:26:10] CVRPTester.py(225) : episode   1/  1, Elapsed[0.03m], Remain[0.00m], sol:24.145, score:24.973, aug_score:24.923\n",
      "[2024-04-01 11:26:10] CVRPTester.py(231) :  *** Test Done *** \n",
      "[2024-04-01 11:26:10] CVRPTester.py(232) :  NO-AUG SCORE: 24.9729, Gap: 3.4287 \n",
      "[2024-04-01 11:26:10] CVRPTester.py(233) :  AUGMENTATION SCORE: 24.9235, Gap: 3.2242 \n",
      "24.973 (3.429%)\n",
      "24.923 (3.224%)\n",
      ">> Evaluation on ../../data/CVRP/dataset/Vrp-Set-X/X-n186 finished within 1.66s\n",
      ">> Save final results to res/X-n186\n",
      "Test on \" ../../data/CVRP/dataset/Vrp-Set-X/X-n186 \" Success\n",
      "-----------------------------------------------------------------------------------------------------------------\n",
      "[2024-04-01 11:26:14] test.py(106) : DEBUG_MODE: False\n",
      "[2024-04-01 11:26:14] test.py(107) : USE_CUDA: True, CUDA_DEVICE_NUM: 0\n",
      "[2024-04-01 11:26:14] test.py(108) : env_params{'problem_size': 200, 'pomo_size': 200}\n",
      "[2024-04-01 11:26:14] test.py(108) : model_params{'embedding_dim': 128, 'sqrt_embedding_dim': 11.313708498984761, 'encoder_layer_num': 6, 'qkv_dim': 16, 'head_num': 8, 'logit_clipping': 10, 'ff_hidden_dim': 512, 'eval_type': 'argmax', 'norm': 'batch_no_track'}\n",
      "[2024-04-01 11:26:14] test.py(108) : tester_params{'use_cuda': True, 'cuda_device_num': 0, 'seed': 2024, 'model_load': {'path': 'result/maml_250000checkpts', 'epoch': 250000}, 'test_episodes': 1, 'test_batch_size': 1, 'augmentation_enable': True, 'test_robustness': False, 'aug_factor': 8, 'aug_batch_size': 1, 'test_set_path': '../../data/CVRP/dataset/Vrp-Set-X/X-n190', 'test_set_opt_sol_path': '../../data/CVRP/dataset/Vrp-Set-X/X-n190-sol', 'test_set_name': 'A-n33'}\n",
      "[2024-04-01 11:26:14] test.py(108) : fine_tune_params{'enable': False, 'fine_tune_episodes': 1000, 'k': 10, 'fine_tune_batch_size': 10, 'augmentation_enable': True, 'optimizer': {'lr': 1e-05, 'weight_decay': 1e-06}}\n",
      "[2024-04-01 11:26:14] test.py(108) : logger_params{'log_file': {'desc': 'test_cvrp', 'filename': 'log.txt', 'filepath': './result/20240401_112613_test_cvrp'}}\n"
     ]
    },
    {
     "name": "stderr",
     "output_type": "stream",
     "text": [
      "/home/xunj/miniconda3/lib/python3.11/site-packages/torch/__init__.py:614: UserWarning: torch.set_default_tensor_type() is deprecated as of PyTorch 2.1, please use torch.set_default_dtype() and torch.set_default_device() as alternatives. (Triggered internally at /opt/conda/conda-bld/pytorch_1699449183005/work/torch/csrc/tensor/python_tensor.cpp:451.)\n",
      "  _C._set_default_tensor_type(t)\n"
     ]
    },
    {
     "name": "stdout",
     "output_type": "stream",
     "text": [
      "['../../data/CVRP/dataset/Vrp-Set-X/X-n190/X-n190-k8.vrp']\n",
      "[2024-04-01 11:26:21] CVRPTester.py(84) : >> Model loaded from result/maml_250000checkpts/checkpoint-250000.pt\n",
      "[2024-04-01 11:26:23] CVRPTester.py(225) : episode   1/  1, Elapsed[0.03m], Remain[0.00m], sol:16.980, score:17.759, aug_score:17.687\n",
      "[2024-04-01 11:26:23] CVRPTester.py(231) :  *** Test Done *** \n",
      "[2024-04-01 11:26:23] CVRPTester.py(232) :  NO-AUG SCORE: 17.7592, Gap: 4.5890 \n",
      "[2024-04-01 11:26:23] CVRPTester.py(233) :  AUGMENTATION SCORE: 17.6866, Gap: 4.1611 \n",
      "17.759 (4.589%)\n",
      "17.687 (4.161%)\n",
      ">> Evaluation on ../../data/CVRP/dataset/Vrp-Set-X/X-n190 finished within 1.67s\n",
      ">> Save final results to res/X-n190\n",
      "Test on \" ../../data/CVRP/dataset/Vrp-Set-X/X-n190 \" Success\n",
      "-----------------------------------------------------------------------------------------------------------------\n",
      "[2024-04-01 11:26:26] test.py(106) : DEBUG_MODE: False\n",
      "[2024-04-01 11:26:26] test.py(107) : USE_CUDA: True, CUDA_DEVICE_NUM: 0\n",
      "[2024-04-01 11:26:26] test.py(108) : env_params{'problem_size': 200, 'pomo_size': 200}\n",
      "[2024-04-01 11:26:26] test.py(108) : model_params{'embedding_dim': 128, 'sqrt_embedding_dim': 11.313708498984761, 'encoder_layer_num': 6, 'qkv_dim': 16, 'head_num': 8, 'logit_clipping': 10, 'ff_hidden_dim': 512, 'eval_type': 'argmax', 'norm': 'batch_no_track'}\n",
      "[2024-04-01 11:26:26] test.py(108) : tester_params{'use_cuda': True, 'cuda_device_num': 0, 'seed': 2024, 'model_load': {'path': 'result/maml_250000checkpts', 'epoch': 250000}, 'test_episodes': 1, 'test_batch_size': 1, 'augmentation_enable': True, 'test_robustness': False, 'aug_factor': 8, 'aug_batch_size': 1, 'test_set_path': '../../data/CVRP/dataset/Vrp-Set-X/X-n195', 'test_set_opt_sol_path': '../../data/CVRP/dataset/Vrp-Set-X/X-n195-sol', 'test_set_name': 'A-n33'}\n",
      "[2024-04-01 11:26:26] test.py(108) : fine_tune_params{'enable': False, 'fine_tune_episodes': 1000, 'k': 10, 'fine_tune_batch_size': 10, 'augmentation_enable': True, 'optimizer': {'lr': 1e-05, 'weight_decay': 1e-06}}\n",
      "[2024-04-01 11:26:26] test.py(108) : logger_params{'log_file': {'desc': 'test_cvrp', 'filename': 'log.txt', 'filepath': './result/20240401_112626_test_cvrp'}}\n"
     ]
    },
    {
     "name": "stderr",
     "output_type": "stream",
     "text": [
      "/home/xunj/miniconda3/lib/python3.11/site-packages/torch/__init__.py:614: UserWarning: torch.set_default_tensor_type() is deprecated as of PyTorch 2.1, please use torch.set_default_dtype() and torch.set_default_device() as alternatives. (Triggered internally at /opt/conda/conda-bld/pytorch_1699449183005/work/torch/csrc/tensor/python_tensor.cpp:451.)\n",
      "  _C._set_default_tensor_type(t)\n"
     ]
    },
    {
     "name": "stdout",
     "output_type": "stream",
     "text": [
      "['../../data/CVRP/dataset/Vrp-Set-X/X-n195/X-n195-k51.vrp']\n",
      "[2024-04-01 11:26:32] CVRPTester.py(84) : >> Model loaded from result/maml_250000checkpts/checkpoint-250000.pt\n",
      "[2024-04-01 11:26:34] CVRPTester.py(225) : episode   1/  1, Elapsed[0.03m], Remain[0.00m], sol:44.225, score:47.954, aug_score:47.172\n",
      "[2024-04-01 11:26:34] CVRPTester.py(231) :  *** Test Done *** \n",
      "[2024-04-01 11:26:34] CVRPTester.py(232) :  NO-AUG SCORE: 47.9544, Gap: 8.4328 \n",
      "[2024-04-01 11:26:34] CVRPTester.py(233) :  AUGMENTATION SCORE: 47.1716, Gap: 6.6628 \n",
      "47.954 (8.433%)\n",
      "47.172 (6.663%)\n",
      ">> Evaluation on ../../data/CVRP/dataset/Vrp-Set-X/X-n195 finished within 1.79s\n",
      ">> Save final results to res/X-n195\n",
      "Test on \" ../../data/CVRP/dataset/Vrp-Set-X/X-n195 \" Success\n",
      "-----------------------------------------------------------------------------------------------------------------\n",
      "[2024-04-01 11:26:37] test.py(106) : DEBUG_MODE: False\n",
      "[2024-04-01 11:26:37] test.py(107) : USE_CUDA: True, CUDA_DEVICE_NUM: 0\n",
      "[2024-04-01 11:26:37] test.py(108) : env_params{'problem_size': 200, 'pomo_size': 200}\n",
      "[2024-04-01 11:26:37] test.py(108) : model_params{'embedding_dim': 128, 'sqrt_embedding_dim': 11.313708498984761, 'encoder_layer_num': 6, 'qkv_dim': 16, 'head_num': 8, 'logit_clipping': 10, 'ff_hidden_dim': 512, 'eval_type': 'argmax', 'norm': 'batch_no_track'}\n",
      "[2024-04-01 11:26:37] test.py(108) : tester_params{'use_cuda': True, 'cuda_device_num': 0, 'seed': 2024, 'model_load': {'path': 'result/maml_250000checkpts', 'epoch': 250000}, 'test_episodes': 1, 'test_batch_size': 1, 'augmentation_enable': True, 'test_robustness': False, 'aug_factor': 8, 'aug_batch_size': 1, 'test_set_path': '../../data/CVRP/dataset/Vrp-Set-X/X-n200', 'test_set_opt_sol_path': '../../data/CVRP/dataset/Vrp-Set-X/X-n200-sol', 'test_set_name': 'A-n33'}\n",
      "[2024-04-01 11:26:37] test.py(108) : fine_tune_params{'enable': False, 'fine_tune_episodes': 1000, 'k': 10, 'fine_tune_batch_size': 10, 'augmentation_enable': True, 'optimizer': {'lr': 1e-05, 'weight_decay': 1e-06}}\n",
      "[2024-04-01 11:26:37] test.py(108) : logger_params{'log_file': {'desc': 'test_cvrp', 'filename': 'log.txt', 'filepath': './result/20240401_112637_test_cvrp'}}\n"
     ]
    },
    {
     "name": "stderr",
     "output_type": "stream",
     "text": [
      "/home/xunj/miniconda3/lib/python3.11/site-packages/torch/__init__.py:614: UserWarning: torch.set_default_tensor_type() is deprecated as of PyTorch 2.1, please use torch.set_default_dtype() and torch.set_default_device() as alternatives. (Triggered internally at /opt/conda/conda-bld/pytorch_1699449183005/work/torch/csrc/tensor/python_tensor.cpp:451.)\n",
      "  _C._set_default_tensor_type(t)\n"
     ]
    },
    {
     "name": "stdout",
     "output_type": "stream",
     "text": [
      "['../../data/CVRP/dataset/Vrp-Set-X/X-n200/X-n200-k36.vrp']\n",
      "[2024-04-01 11:26:43] CVRPTester.py(84) : >> Model loaded from result/maml_250000checkpts/checkpoint-250000.pt\n",
      "[2024-04-01 11:26:45] CVRPTester.py(225) : episode   1/  1, Elapsed[0.03m], Remain[0.00m], sol:58.578, score:61.494, aug_score:61.334\n",
      "[2024-04-01 11:26:45] CVRPTester.py(231) :  *** Test Done *** \n",
      "[2024-04-01 11:26:45] CVRPTester.py(232) :  NO-AUG SCORE: 61.4938, Gap: 4.9776 \n",
      "[2024-04-01 11:26:45] CVRPTester.py(233) :  AUGMENTATION SCORE: 61.3338, Gap: 4.7045 \n",
      "61.494 (4.978%)\n",
      "61.334 (4.704%)\n",
      ">> Evaluation on ../../data/CVRP/dataset/Vrp-Set-X/X-n200 finished within 1.88s\n",
      ">> Save final results to res/X-n200\n",
      "Test on \" ../../data/CVRP/dataset/Vrp-Set-X/X-n200 \" Success\n",
      "-----------------------------------------------------------------------------------------------------------------\n",
      "[2024-04-01 11:26:49] test.py(106) : DEBUG_MODE: False\n",
      "[2024-04-01 11:26:49] test.py(107) : USE_CUDA: True, CUDA_DEVICE_NUM: 0\n",
      "[2024-04-01 11:26:49] test.py(108) : env_params{'problem_size': 200, 'pomo_size': 200}\n",
      "[2024-04-01 11:26:49] test.py(108) : model_params{'embedding_dim': 128, 'sqrt_embedding_dim': 11.313708498984761, 'encoder_layer_num': 6, 'qkv_dim': 16, 'head_num': 8, 'logit_clipping': 10, 'ff_hidden_dim': 512, 'eval_type': 'argmax', 'norm': 'batch_no_track'}\n",
      "[2024-04-01 11:26:49] test.py(108) : tester_params{'use_cuda': True, 'cuda_device_num': 0, 'seed': 2024, 'model_load': {'path': 'result/maml_250000checkpts', 'epoch': 250000}, 'test_episodes': 1, 'test_batch_size': 1, 'augmentation_enable': True, 'test_robustness': False, 'aug_factor': 8, 'aug_batch_size': 1, 'test_set_path': '../../data/CVRP/dataset/Vrp-Set-X/X-n204', 'test_set_opt_sol_path': '../../data/CVRP/dataset/Vrp-Set-X/X-n204-sol', 'test_set_name': 'A-n33'}\n",
      "[2024-04-01 11:26:49] test.py(108) : fine_tune_params{'enable': False, 'fine_tune_episodes': 1000, 'k': 10, 'fine_tune_batch_size': 10, 'augmentation_enable': True, 'optimizer': {'lr': 1e-05, 'weight_decay': 1e-06}}\n",
      "[2024-04-01 11:26:49] test.py(108) : logger_params{'log_file': {'desc': 'test_cvrp', 'filename': 'log.txt', 'filepath': './result/20240401_112648_test_cvrp'}}\n"
     ]
    },
    {
     "name": "stderr",
     "output_type": "stream",
     "text": [
      "/home/xunj/miniconda3/lib/python3.11/site-packages/torch/__init__.py:614: UserWarning: torch.set_default_tensor_type() is deprecated as of PyTorch 2.1, please use torch.set_default_dtype() and torch.set_default_device() as alternatives. (Triggered internally at /opt/conda/conda-bld/pytorch_1699449183005/work/torch/csrc/tensor/python_tensor.cpp:451.)\n",
      "  _C._set_default_tensor_type(t)\n"
     ]
    },
    {
     "name": "stdout",
     "output_type": "stream",
     "text": [
      "['../../data/CVRP/dataset/Vrp-Set-X/X-n204/X-n204-k19.vrp']\n",
      "[2024-04-01 11:26:55] CVRPTester.py(84) : >> Model loaded from result/maml_250000checkpts/checkpoint-250000.pt\n",
      "[2024-04-01 11:26:57] CVRPTester.py(225) : episode   1/  1, Elapsed[0.03m], Remain[0.00m], sol:19.565, score:20.920, aug_score:20.317\n",
      "[2024-04-01 11:26:57] CVRPTester.py(231) :  *** Test Done *** \n",
      "[2024-04-01 11:26:57] CVRPTester.py(232) :  NO-AUG SCORE: 20.9195, Gap: 6.9232 \n",
      "[2024-04-01 11:26:57] CVRPTester.py(233) :  AUGMENTATION SCORE: 20.3174, Gap: 3.8459 \n",
      "20.920 (6.923%)\n",
      "20.317 (3.846%)\n",
      ">> Evaluation on ../../data/CVRP/dataset/Vrp-Set-X/X-n204 finished within 1.93s\n",
      ">> Save final results to res/X-n204\n",
      "Test on \" ../../data/CVRP/dataset/Vrp-Set-X/X-n204 \" Success\n",
      "-----------------------------------------------------------------------------------------------------------------\n",
      "[2024-04-01 11:27:00] test.py(106) : DEBUG_MODE: False\n",
      "[2024-04-01 11:27:00] test.py(107) : USE_CUDA: True, CUDA_DEVICE_NUM: 0\n",
      "[2024-04-01 11:27:00] test.py(108) : env_params{'problem_size': 200, 'pomo_size': 200}\n",
      "[2024-04-01 11:27:00] test.py(108) : model_params{'embedding_dim': 128, 'sqrt_embedding_dim': 11.313708498984761, 'encoder_layer_num': 6, 'qkv_dim': 16, 'head_num': 8, 'logit_clipping': 10, 'ff_hidden_dim': 512, 'eval_type': 'argmax', 'norm': 'batch_no_track'}\n",
      "[2024-04-01 11:27:00] test.py(108) : tester_params{'use_cuda': True, 'cuda_device_num': 0, 'seed': 2024, 'model_load': {'path': 'result/maml_250000checkpts', 'epoch': 250000}, 'test_episodes': 1, 'test_batch_size': 1, 'augmentation_enable': True, 'test_robustness': False, 'aug_factor': 8, 'aug_batch_size': 1, 'test_set_path': '../../data/CVRP/dataset/Vrp-Set-X/X-n209', 'test_set_opt_sol_path': '../../data/CVRP/dataset/Vrp-Set-X/X-n209-sol', 'test_set_name': 'A-n33'}\n",
      "[2024-04-01 11:27:00] test.py(108) : fine_tune_params{'enable': False, 'fine_tune_episodes': 1000, 'k': 10, 'fine_tune_batch_size': 10, 'augmentation_enable': True, 'optimizer': {'lr': 1e-05, 'weight_decay': 1e-06}}\n",
      "[2024-04-01 11:27:00] test.py(108) : logger_params{'log_file': {'desc': 'test_cvrp', 'filename': 'log.txt', 'filepath': './result/20240401_112700_test_cvrp'}}\n"
     ]
    },
    {
     "name": "stderr",
     "output_type": "stream",
     "text": [
      "/home/xunj/miniconda3/lib/python3.11/site-packages/torch/__init__.py:614: UserWarning: torch.set_default_tensor_type() is deprecated as of PyTorch 2.1, please use torch.set_default_dtype() and torch.set_default_device() as alternatives. (Triggered internally at /opt/conda/conda-bld/pytorch_1699449183005/work/torch/csrc/tensor/python_tensor.cpp:451.)\n",
      "  _C._set_default_tensor_type(t)\n"
     ]
    },
    {
     "name": "stdout",
     "output_type": "stream",
     "text": [
      "['../../data/CVRP/dataset/Vrp-Set-X/X-n209/X-n209-k16.vrp']\n",
      "[2024-04-01 11:27:06] CVRPTester.py(84) : >> Model loaded from result/maml_250000checkpts/checkpoint-250000.pt\n",
      "[2024-04-01 11:27:08] CVRPTester.py(225) : episode   1/  1, Elapsed[0.03m], Remain[0.00m], sol:30.656, score:31.773, aug_score:31.729\n",
      "[2024-04-01 11:27:08] CVRPTester.py(231) :  *** Test Done *** \n",
      "[2024-04-01 11:27:08] CVRPTester.py(232) :  NO-AUG SCORE: 31.7730, Gap: 3.6437 \n",
      "[2024-04-01 11:27:08] CVRPTester.py(233) :  AUGMENTATION SCORE: 31.7294, Gap: 3.5014 \n",
      "31.773 (3.644%)\n",
      "31.729 (3.501%)\n",
      ">> Evaluation on ../../data/CVRP/dataset/Vrp-Set-X/X-n209 finished within 1.73s\n",
      ">> Save final results to res/X-n209\n",
      "Test on \" ../../data/CVRP/dataset/Vrp-Set-X/X-n209 \" Success\n",
      "-----------------------------------------------------------------------------------------------------------------\n",
      "[2024-04-01 11:27:11] test.py(106) : DEBUG_MODE: False\n",
      "[2024-04-01 11:27:11] test.py(107) : USE_CUDA: True, CUDA_DEVICE_NUM: 0\n",
      "[2024-04-01 11:27:11] test.py(108) : env_params{'problem_size': 200, 'pomo_size': 200}\n",
      "[2024-04-01 11:27:11] test.py(108) : model_params{'embedding_dim': 128, 'sqrt_embedding_dim': 11.313708498984761, 'encoder_layer_num': 6, 'qkv_dim': 16, 'head_num': 8, 'logit_clipping': 10, 'ff_hidden_dim': 512, 'eval_type': 'argmax', 'norm': 'batch_no_track'}\n",
      "[2024-04-01 11:27:11] test.py(108) : tester_params{'use_cuda': True, 'cuda_device_num': 0, 'seed': 2024, 'model_load': {'path': 'result/maml_250000checkpts', 'epoch': 250000}, 'test_episodes': 1, 'test_batch_size': 1, 'augmentation_enable': True, 'test_robustness': False, 'aug_factor': 8, 'aug_batch_size': 1, 'test_set_path': '../../data/CVRP/dataset/Vrp-Set-X/X-n214', 'test_set_opt_sol_path': '../../data/CVRP/dataset/Vrp-Set-X/X-n214-sol', 'test_set_name': 'A-n33'}\n",
      "[2024-04-01 11:27:11] test.py(108) : fine_tune_params{'enable': False, 'fine_tune_episodes': 1000, 'k': 10, 'fine_tune_batch_size': 10, 'augmentation_enable': True, 'optimizer': {'lr': 1e-05, 'weight_decay': 1e-06}}\n",
      "[2024-04-01 11:27:11] test.py(108) : logger_params{'log_file': {'desc': 'test_cvrp', 'filename': 'log.txt', 'filepath': './result/20240401_112711_test_cvrp'}}\n"
     ]
    },
    {
     "name": "stderr",
     "output_type": "stream",
     "text": [
      "/home/xunj/miniconda3/lib/python3.11/site-packages/torch/__init__.py:614: UserWarning: torch.set_default_tensor_type() is deprecated as of PyTorch 2.1, please use torch.set_default_dtype() and torch.set_default_device() as alternatives. (Triggered internally at /opt/conda/conda-bld/pytorch_1699449183005/work/torch/csrc/tensor/python_tensor.cpp:451.)\n",
      "  _C._set_default_tensor_type(t)\n"
     ]
    },
    {
     "name": "stdout",
     "output_type": "stream",
     "text": [
      "['../../data/CVRP/dataset/Vrp-Set-X/X-n214/X-n214-k11.vrp']\n",
      "[2024-04-01 11:27:18] CVRPTester.py(84) : >> Model loaded from result/maml_250000checkpts/checkpoint-250000.pt\n",
      "[2024-04-01 11:27:20] CVRPTester.py(225) : episode   1/  1, Elapsed[0.03m], Remain[0.00m], sol:10.856, score:11.481, aug_score:11.407\n",
      "[2024-04-01 11:27:20] CVRPTester.py(231) :  *** Test Done *** \n",
      "[2024-04-01 11:27:20] CVRPTester.py(232) :  NO-AUG SCORE: 11.4808, Gap: 5.7557 \n",
      "[2024-04-01 11:27:20] CVRPTester.py(233) :  AUGMENTATION SCORE: 11.4071, Gap: 5.0767 \n",
      "11.481 (5.756%)\n",
      "11.407 (5.077%)\n",
      ">> Evaluation on ../../data/CVRP/dataset/Vrp-Set-X/X-n214 finished within 1.84s\n",
      ">> Save final results to res/X-n214\n",
      "Test on \" ../../data/CVRP/dataset/Vrp-Set-X/X-n214 \" Success\n",
      "-----------------------------------------------------------------------------------------------------------------\n",
      "[2024-04-01 11:27:24] test.py(106) : DEBUG_MODE: False\n",
      "[2024-04-01 11:27:24] test.py(107) : USE_CUDA: True, CUDA_DEVICE_NUM: 0\n",
      "[2024-04-01 11:27:24] test.py(108) : env_params{'problem_size': 200, 'pomo_size': 200}\n",
      "[2024-04-01 11:27:24] test.py(108) : model_params{'embedding_dim': 128, 'sqrt_embedding_dim': 11.313708498984761, 'encoder_layer_num': 6, 'qkv_dim': 16, 'head_num': 8, 'logit_clipping': 10, 'ff_hidden_dim': 512, 'eval_type': 'argmax', 'norm': 'batch_no_track'}\n",
      "[2024-04-01 11:27:24] test.py(108) : tester_params{'use_cuda': True, 'cuda_device_num': 0, 'seed': 2024, 'model_load': {'path': 'result/maml_250000checkpts', 'epoch': 250000}, 'test_episodes': 1, 'test_batch_size': 1, 'augmentation_enable': True, 'test_robustness': False, 'aug_factor': 8, 'aug_batch_size': 1, 'test_set_path': '../../data/CVRP/dataset/Vrp-Set-X/X-n219', 'test_set_opt_sol_path': '../../data/CVRP/dataset/Vrp-Set-X/X-n219-sol', 'test_set_name': 'A-n33'}\n",
      "[2024-04-01 11:27:24] test.py(108) : fine_tune_params{'enable': False, 'fine_tune_episodes': 1000, 'k': 10, 'fine_tune_batch_size': 10, 'augmentation_enable': True, 'optimizer': {'lr': 1e-05, 'weight_decay': 1e-06}}\n",
      "[2024-04-01 11:27:24] test.py(108) : logger_params{'log_file': {'desc': 'test_cvrp', 'filename': 'log.txt', 'filepath': './result/20240401_112723_test_cvrp'}}\n"
     ]
    },
    {
     "name": "stderr",
     "output_type": "stream",
     "text": [
      "/home/xunj/miniconda3/lib/python3.11/site-packages/torch/__init__.py:614: UserWarning: torch.set_default_tensor_type() is deprecated as of PyTorch 2.1, please use torch.set_default_dtype() and torch.set_default_device() as alternatives. (Triggered internally at /opt/conda/conda-bld/pytorch_1699449183005/work/torch/csrc/tensor/python_tensor.cpp:451.)\n",
      "  _C._set_default_tensor_type(t)\n"
     ]
    },
    {
     "name": "stdout",
     "output_type": "stream",
     "text": [
      "['../../data/CVRP/dataset/Vrp-Set-X/X-n219/X-n219-k73.vrp']\n",
      "[2024-04-01 11:27:30] CVRPTester.py(84) : >> Model loaded from result/maml_250000checkpts/checkpoint-250000.pt\n",
      "[2024-04-01 11:27:32] CVRPTester.py(225) : episode   1/  1, Elapsed[0.03m], Remain[0.00m], sol:117.595, score:119.955, aug_score:119.613\n",
      "[2024-04-01 11:27:32] CVRPTester.py(231) :  *** Test Done *** \n",
      "[2024-04-01 11:27:32] CVRPTester.py(232) :  NO-AUG SCORE: 119.9554, Gap: 2.0072 \n",
      "[2024-04-01 11:27:32] CVRPTester.py(233) :  AUGMENTATION SCORE: 119.6135, Gap: 1.7164 \n",
      "119.955 (2.007%)\n",
      "119.613 (1.716%)\n",
      ">> Evaluation on ../../data/CVRP/dataset/Vrp-Set-X/X-n219 finished within 2.04s\n",
      ">> Save final results to res/X-n219\n",
      "Test on \" ../../data/CVRP/dataset/Vrp-Set-X/X-n219 \" Success\n",
      "-----------------------------------------------------------------------------------------------------------------\n",
      "[2024-04-01 11:27:35] test.py(106) : DEBUG_MODE: False\n",
      "[2024-04-01 11:27:35] test.py(107) : USE_CUDA: True, CUDA_DEVICE_NUM: 0\n",
      "[2024-04-01 11:27:35] test.py(108) : env_params{'problem_size': 200, 'pomo_size': 200}\n",
      "[2024-04-01 11:27:35] test.py(108) : model_params{'embedding_dim': 128, 'sqrt_embedding_dim': 11.313708498984761, 'encoder_layer_num': 6, 'qkv_dim': 16, 'head_num': 8, 'logit_clipping': 10, 'ff_hidden_dim': 512, 'eval_type': 'argmax', 'norm': 'batch_no_track'}\n",
      "[2024-04-01 11:27:35] test.py(108) : tester_params{'use_cuda': True, 'cuda_device_num': 0, 'seed': 2024, 'model_load': {'path': 'result/maml_250000checkpts', 'epoch': 250000}, 'test_episodes': 1, 'test_batch_size': 1, 'augmentation_enable': True, 'test_robustness': False, 'aug_factor': 8, 'aug_batch_size': 1, 'test_set_path': '../../data/CVRP/dataset/Vrp-Set-X/X-n223', 'test_set_opt_sol_path': '../../data/CVRP/dataset/Vrp-Set-X/X-n223-sol', 'test_set_name': 'A-n33'}\n",
      "[2024-04-01 11:27:35] test.py(108) : fine_tune_params{'enable': False, 'fine_tune_episodes': 1000, 'k': 10, 'fine_tune_batch_size': 10, 'augmentation_enable': True, 'optimizer': {'lr': 1e-05, 'weight_decay': 1e-06}}\n",
      "[2024-04-01 11:27:35] test.py(108) : logger_params{'log_file': {'desc': 'test_cvrp', 'filename': 'log.txt', 'filepath': './result/20240401_112735_test_cvrp'}}\n"
     ]
    },
    {
     "name": "stderr",
     "output_type": "stream",
     "text": [
      "/home/xunj/miniconda3/lib/python3.11/site-packages/torch/__init__.py:614: UserWarning: torch.set_default_tensor_type() is deprecated as of PyTorch 2.1, please use torch.set_default_dtype() and torch.set_default_device() as alternatives. (Triggered internally at /opt/conda/conda-bld/pytorch_1699449183005/work/torch/csrc/tensor/python_tensor.cpp:451.)\n",
      "  _C._set_default_tensor_type(t)\n"
     ]
    },
    {
     "name": "stdout",
     "output_type": "stream",
     "text": [
      "['../../data/CVRP/dataset/Vrp-Set-X/X-n223/X-n223-k34.vrp']\n",
      "[2024-04-01 11:27:41] CVRPTester.py(84) : >> Model loaded from result/maml_250000checkpts/checkpoint-250000.pt\n",
      "[2024-04-01 11:27:43] CVRPTester.py(225) : episode   1/  1, Elapsed[0.03m], Remain[0.00m], sol:40.437, score:43.106, aug_score:42.668\n",
      "[2024-04-01 11:27:43] CVRPTester.py(231) :  *** Test Done *** \n",
      "[2024-04-01 11:27:43] CVRPTester.py(232) :  NO-AUG SCORE: 43.1063, Gap: 6.6011 \n",
      "[2024-04-01 11:27:43] CVRPTester.py(233) :  AUGMENTATION SCORE: 42.6677, Gap: 5.5166 \n",
      "43.106 (6.601%)\n",
      "42.668 (5.517%)\n",
      ">> Evaluation on ../../data/CVRP/dataset/Vrp-Set-X/X-n223 finished within 1.77s\n",
      ">> Save final results to res/X-n223\n",
      "Test on \" ../../data/CVRP/dataset/Vrp-Set-X/X-n223 \" Success\n",
      "-----------------------------------------------------------------------------------------------------------------\n",
      "[2024-04-01 11:27:46] test.py(106) : DEBUG_MODE: False\n",
      "[2024-04-01 11:27:46] test.py(107) : USE_CUDA: True, CUDA_DEVICE_NUM: 0\n",
      "[2024-04-01 11:27:46] test.py(108) : env_params{'problem_size': 200, 'pomo_size': 200}\n",
      "[2024-04-01 11:27:46] test.py(108) : model_params{'embedding_dim': 128, 'sqrt_embedding_dim': 11.313708498984761, 'encoder_layer_num': 6, 'qkv_dim': 16, 'head_num': 8, 'logit_clipping': 10, 'ff_hidden_dim': 512, 'eval_type': 'argmax', 'norm': 'batch_no_track'}\n",
      "[2024-04-01 11:27:46] test.py(108) : tester_params{'use_cuda': True, 'cuda_device_num': 0, 'seed': 2024, 'model_load': {'path': 'result/maml_250000checkpts', 'epoch': 250000}, 'test_episodes': 1, 'test_batch_size': 1, 'augmentation_enable': True, 'test_robustness': False, 'aug_factor': 8, 'aug_batch_size': 1, 'test_set_path': '../../data/CVRP/dataset/Vrp-Set-X/X-n228', 'test_set_opt_sol_path': '../../data/CVRP/dataset/Vrp-Set-X/X-n228-sol', 'test_set_name': 'A-n33'}\n",
      "[2024-04-01 11:27:46] test.py(108) : fine_tune_params{'enable': False, 'fine_tune_episodes': 1000, 'k': 10, 'fine_tune_batch_size': 10, 'augmentation_enable': True, 'optimizer': {'lr': 1e-05, 'weight_decay': 1e-06}}\n",
      "[2024-04-01 11:27:46] test.py(108) : logger_params{'log_file': {'desc': 'test_cvrp', 'filename': 'log.txt', 'filepath': './result/20240401_112746_test_cvrp'}}\n"
     ]
    },
    {
     "name": "stderr",
     "output_type": "stream",
     "text": [
      "/home/xunj/miniconda3/lib/python3.11/site-packages/torch/__init__.py:614: UserWarning: torch.set_default_tensor_type() is deprecated as of PyTorch 2.1, please use torch.set_default_dtype() and torch.set_default_device() as alternatives. (Triggered internally at /opt/conda/conda-bld/pytorch_1699449183005/work/torch/csrc/tensor/python_tensor.cpp:451.)\n",
      "  _C._set_default_tensor_type(t)\n"
     ]
    },
    {
     "name": "stdout",
     "output_type": "stream",
     "text": [
      "['../../data/CVRP/dataset/Vrp-Set-X/X-n228/X-n228-k23.vrp']\n",
      "[2024-04-01 11:27:52] CVRPTester.py(84) : >> Model loaded from result/maml_250000checkpts/checkpoint-250000.pt\n",
      "[2024-04-01 11:27:54] CVRPTester.py(225) : episode   1/  1, Elapsed[0.03m], Remain[0.00m], sol:25.742, score:28.229, aug_score:27.492\n",
      "[2024-04-01 11:27:54] CVRPTester.py(231) :  *** Test Done *** \n",
      "[2024-04-01 11:27:54] CVRPTester.py(232) :  NO-AUG SCORE: 28.2294, Gap: 9.6629 \n",
      "[2024-04-01 11:27:54] CVRPTester.py(233) :  AUGMENTATION SCORE: 27.4919, Gap: 6.7977 \n",
      "28.229 (9.663%)\n",
      "27.492 (6.798%)\n",
      ">> Evaluation on ../../data/CVRP/dataset/Vrp-Set-X/X-n228 finished within 1.79s\n",
      ">> Save final results to res/X-n228\n",
      "Test on \" ../../data/CVRP/dataset/Vrp-Set-X/X-n228 \" Success\n",
      "-----------------------------------------------------------------------------------------------------------------\n",
      "[2024-04-01 11:27:58] test.py(106) : DEBUG_MODE: False\n",
      "[2024-04-01 11:27:58] test.py(107) : USE_CUDA: True, CUDA_DEVICE_NUM: 0\n",
      "[2024-04-01 11:27:58] test.py(108) : env_params{'problem_size': 200, 'pomo_size': 200}\n",
      "[2024-04-01 11:27:58] test.py(108) : model_params{'embedding_dim': 128, 'sqrt_embedding_dim': 11.313708498984761, 'encoder_layer_num': 6, 'qkv_dim': 16, 'head_num': 8, 'logit_clipping': 10, 'ff_hidden_dim': 512, 'eval_type': 'argmax', 'norm': 'batch_no_track'}\n",
      "[2024-04-01 11:27:58] test.py(108) : tester_params{'use_cuda': True, 'cuda_device_num': 0, 'seed': 2024, 'model_load': {'path': 'result/maml_250000checkpts', 'epoch': 250000}, 'test_episodes': 1, 'test_batch_size': 1, 'augmentation_enable': True, 'test_robustness': False, 'aug_factor': 8, 'aug_batch_size': 1, 'test_set_path': '../../data/CVRP/dataset/Vrp-Set-X/X-n233', 'test_set_opt_sol_path': '../../data/CVRP/dataset/Vrp-Set-X/X-n233-sol', 'test_set_name': 'A-n33'}\n",
      "[2024-04-01 11:27:58] test.py(108) : fine_tune_params{'enable': False, 'fine_tune_episodes': 1000, 'k': 10, 'fine_tune_batch_size': 10, 'augmentation_enable': True, 'optimizer': {'lr': 1e-05, 'weight_decay': 1e-06}}\n",
      "[2024-04-01 11:27:58] test.py(108) : logger_params{'log_file': {'desc': 'test_cvrp', 'filename': 'log.txt', 'filepath': './result/20240401_112757_test_cvrp'}}\n"
     ]
    },
    {
     "name": "stderr",
     "output_type": "stream",
     "text": [
      "/home/xunj/miniconda3/lib/python3.11/site-packages/torch/__init__.py:614: UserWarning: torch.set_default_tensor_type() is deprecated as of PyTorch 2.1, please use torch.set_default_dtype() and torch.set_default_device() as alternatives. (Triggered internally at /opt/conda/conda-bld/pytorch_1699449183005/work/torch/csrc/tensor/python_tensor.cpp:451.)\n",
      "  _C._set_default_tensor_type(t)\n"
     ]
    },
    {
     "name": "stdout",
     "output_type": "stream",
     "text": [
      "['../../data/CVRP/dataset/Vrp-Set-X/X-n233/X-n233-k16.vrp']\n",
      "[2024-04-01 11:28:04] CVRPTester.py(84) : >> Model loaded from result/maml_250000checkpts/checkpoint-250000.pt\n",
      "[2024-04-01 11:28:05] CVRPTester.py(225) : episode   1/  1, Elapsed[0.03m], Remain[0.00m], sol:19.230, score:20.603, aug_score:20.360\n",
      "[2024-04-01 11:28:05] CVRPTester.py(231) :  *** Test Done *** \n",
      "[2024-04-01 11:28:05] CVRPTester.py(232) :  NO-AUG SCORE: 20.6034, Gap: 7.1419 \n",
      "[2024-04-01 11:28:05] CVRPTester.py(233) :  AUGMENTATION SCORE: 20.3601, Gap: 5.8769 \n",
      "20.603 (7.142%)\n",
      "20.360 (5.877%)\n",
      ">> Evaluation on ../../data/CVRP/dataset/Vrp-Set-X/X-n233 finished within 1.75s\n",
      ">> Save final results to res/X-n233\n",
      "Test on \" ../../data/CVRP/dataset/Vrp-Set-X/X-n233 \" Success\n",
      "-----------------------------------------------------------------------------------------------------------------\n",
      "[2024-04-01 11:28:09] test.py(106) : DEBUG_MODE: False\n",
      "[2024-04-01 11:28:09] test.py(107) : USE_CUDA: True, CUDA_DEVICE_NUM: 0\n",
      "[2024-04-01 11:28:09] test.py(108) : env_params{'problem_size': 200, 'pomo_size': 200}\n",
      "[2024-04-01 11:28:09] test.py(108) : model_params{'embedding_dim': 128, 'sqrt_embedding_dim': 11.313708498984761, 'encoder_layer_num': 6, 'qkv_dim': 16, 'head_num': 8, 'logit_clipping': 10, 'ff_hidden_dim': 512, 'eval_type': 'argmax', 'norm': 'batch_no_track'}\n",
      "[2024-04-01 11:28:09] test.py(108) : tester_params{'use_cuda': True, 'cuda_device_num': 0, 'seed': 2024, 'model_load': {'path': 'result/maml_250000checkpts', 'epoch': 250000}, 'test_episodes': 1, 'test_batch_size': 1, 'augmentation_enable': True, 'test_robustness': False, 'aug_factor': 8, 'aug_batch_size': 1, 'test_set_path': '../../data/CVRP/dataset/Vrp-Set-X/X-n237', 'test_set_opt_sol_path': '../../data/CVRP/dataset/Vrp-Set-X/X-n237-sol', 'test_set_name': 'A-n33'}\n",
      "[2024-04-01 11:28:09] test.py(108) : fine_tune_params{'enable': False, 'fine_tune_episodes': 1000, 'k': 10, 'fine_tune_batch_size': 10, 'augmentation_enable': True, 'optimizer': {'lr': 1e-05, 'weight_decay': 1e-06}}\n",
      "[2024-04-01 11:28:09] test.py(108) : logger_params{'log_file': {'desc': 'test_cvrp', 'filename': 'log.txt', 'filepath': './result/20240401_112808_test_cvrp'}}\n"
     ]
    },
    {
     "name": "stderr",
     "output_type": "stream",
     "text": [
      "/home/xunj/miniconda3/lib/python3.11/site-packages/torch/__init__.py:614: UserWarning: torch.set_default_tensor_type() is deprecated as of PyTorch 2.1, please use torch.set_default_dtype() and torch.set_default_device() as alternatives. (Triggered internally at /opt/conda/conda-bld/pytorch_1699449183005/work/torch/csrc/tensor/python_tensor.cpp:451.)\n",
      "  _C._set_default_tensor_type(t)\n"
     ]
    },
    {
     "name": "stdout",
     "output_type": "stream",
     "text": [
      "['../../data/CVRP/dataset/Vrp-Set-X/X-n237/X-n237-k14.vrp']\n",
      "[2024-04-01 11:28:15] CVRPTester.py(84) : >> Model loaded from result/maml_250000checkpts/checkpoint-250000.pt\n",
      "[2024-04-01 11:28:16] CVRPTester.py(225) : episode   1/  1, Elapsed[0.03m], Remain[0.00m], sol:27.042, score:28.093, aug_score:28.014\n",
      "[2024-04-01 11:28:16] CVRPTester.py(231) :  *** Test Done *** \n",
      "[2024-04-01 11:28:16] CVRPTester.py(232) :  NO-AUG SCORE: 28.0931, Gap: 3.8868 \n",
      "[2024-04-01 11:28:16] CVRPTester.py(233) :  AUGMENTATION SCORE: 28.0144, Gap: 3.5957 \n",
      "28.093 (3.887%)\n",
      "28.014 (3.596%)\n",
      ">> Evaluation on ../../data/CVRP/dataset/Vrp-Set-X/X-n237 finished within 1.76s\n",
      ">> Save final results to res/X-n237\n",
      "Test on \" ../../data/CVRP/dataset/Vrp-Set-X/X-n237 \" Success\n",
      "-----------------------------------------------------------------------------------------------------------------\n",
      "[2024-04-01 11:28:20] test.py(106) : DEBUG_MODE: False\n",
      "[2024-04-01 11:28:20] test.py(107) : USE_CUDA: True, CUDA_DEVICE_NUM: 0\n",
      "[2024-04-01 11:28:20] test.py(108) : env_params{'problem_size': 200, 'pomo_size': 200}\n",
      "[2024-04-01 11:28:20] test.py(108) : model_params{'embedding_dim': 128, 'sqrt_embedding_dim': 11.313708498984761, 'encoder_layer_num': 6, 'qkv_dim': 16, 'head_num': 8, 'logit_clipping': 10, 'ff_hidden_dim': 512, 'eval_type': 'argmax', 'norm': 'batch_no_track'}\n",
      "[2024-04-01 11:28:20] test.py(108) : tester_params{'use_cuda': True, 'cuda_device_num': 0, 'seed': 2024, 'model_load': {'path': 'result/maml_250000checkpts', 'epoch': 250000}, 'test_episodes': 1, 'test_batch_size': 1, 'augmentation_enable': True, 'test_robustness': False, 'aug_factor': 8, 'aug_batch_size': 1, 'test_set_path': '../../data/CVRP/dataset/Vrp-Set-X/X-n242', 'test_set_opt_sol_path': '../../data/CVRP/dataset/Vrp-Set-X/X-n242-sol', 'test_set_name': 'A-n33'}\n",
      "[2024-04-01 11:28:20] test.py(108) : fine_tune_params{'enable': False, 'fine_tune_episodes': 1000, 'k': 10, 'fine_tune_batch_size': 10, 'augmentation_enable': True, 'optimizer': {'lr': 1e-05, 'weight_decay': 1e-06}}\n",
      "[2024-04-01 11:28:20] test.py(108) : logger_params{'log_file': {'desc': 'test_cvrp', 'filename': 'log.txt', 'filepath': './result/20240401_112819_test_cvrp'}}\n"
     ]
    },
    {
     "name": "stderr",
     "output_type": "stream",
     "text": [
      "/home/xunj/miniconda3/lib/python3.11/site-packages/torch/__init__.py:614: UserWarning: torch.set_default_tensor_type() is deprecated as of PyTorch 2.1, please use torch.set_default_dtype() and torch.set_default_device() as alternatives. (Triggered internally at /opt/conda/conda-bld/pytorch_1699449183005/work/torch/csrc/tensor/python_tensor.cpp:451.)\n",
      "  _C._set_default_tensor_type(t)\n"
     ]
    },
    {
     "name": "stdout",
     "output_type": "stream",
     "text": [
      "['../../data/CVRP/dataset/Vrp-Set-X/X-n242/X-n242-k48.vrp']\n",
      "[2024-04-01 11:28:26] CVRPTester.py(84) : >> Model loaded from result/maml_250000checkpts/checkpoint-250000.pt\n",
      "[2024-04-01 11:28:28] CVRPTester.py(225) : episode   1/  1, Elapsed[0.03m], Remain[0.00m], sol:82.751, score:86.643, aug_score:86.643\n",
      "[2024-04-01 11:28:28] CVRPTester.py(231) :  *** Test Done *** \n",
      "[2024-04-01 11:28:28] CVRPTester.py(232) :  NO-AUG SCORE: 86.6432, Gap: 4.7035 \n",
      "[2024-04-01 11:28:28] CVRPTester.py(233) :  AUGMENTATION SCORE: 86.6432, Gap: 4.7035 \n",
      "86.643 (4.703%)\n",
      "86.643 (4.703%)\n",
      ">> Evaluation on ../../data/CVRP/dataset/Vrp-Set-X/X-n242 finished within 2.00s\n",
      ">> Save final results to res/X-n242\n",
      "Test on \" ../../data/CVRP/dataset/Vrp-Set-X/X-n242 \" Success\n",
      "-----------------------------------------------------------------------------------------------------------------\n",
      "[2024-04-01 11:28:31] test.py(106) : DEBUG_MODE: False\n",
      "[2024-04-01 11:28:31] test.py(107) : USE_CUDA: True, CUDA_DEVICE_NUM: 0\n",
      "[2024-04-01 11:28:31] test.py(108) : env_params{'problem_size': 200, 'pomo_size': 200}\n",
      "[2024-04-01 11:28:31] test.py(108) : model_params{'embedding_dim': 128, 'sqrt_embedding_dim': 11.313708498984761, 'encoder_layer_num': 6, 'qkv_dim': 16, 'head_num': 8, 'logit_clipping': 10, 'ff_hidden_dim': 512, 'eval_type': 'argmax', 'norm': 'batch_no_track'}\n",
      "[2024-04-01 11:28:31] test.py(108) : tester_params{'use_cuda': True, 'cuda_device_num': 0, 'seed': 2024, 'model_load': {'path': 'result/maml_250000checkpts', 'epoch': 250000}, 'test_episodes': 1, 'test_batch_size': 1, 'augmentation_enable': True, 'test_robustness': False, 'aug_factor': 8, 'aug_batch_size': 1, 'test_set_path': '../../data/CVRP/dataset/Vrp-Set-X/X-n247', 'test_set_opt_sol_path': '../../data/CVRP/dataset/Vrp-Set-X/X-n247-sol', 'test_set_name': 'A-n33'}\n",
      "[2024-04-01 11:28:31] test.py(108) : fine_tune_params{'enable': False, 'fine_tune_episodes': 1000, 'k': 10, 'fine_tune_batch_size': 10, 'augmentation_enable': True, 'optimizer': {'lr': 1e-05, 'weight_decay': 1e-06}}\n",
      "[2024-04-01 11:28:31] test.py(108) : logger_params{'log_file': {'desc': 'test_cvrp', 'filename': 'log.txt', 'filepath': './result/20240401_112831_test_cvrp'}}\n"
     ]
    },
    {
     "name": "stderr",
     "output_type": "stream",
     "text": [
      "/home/xunj/miniconda3/lib/python3.11/site-packages/torch/__init__.py:614: UserWarning: torch.set_default_tensor_type() is deprecated as of PyTorch 2.1, please use torch.set_default_dtype() and torch.set_default_device() as alternatives. (Triggered internally at /opt/conda/conda-bld/pytorch_1699449183005/work/torch/csrc/tensor/python_tensor.cpp:451.)\n",
      "  _C._set_default_tensor_type(t)\n"
     ]
    },
    {
     "name": "stdout",
     "output_type": "stream",
     "text": [
      "['../../data/CVRP/dataset/Vrp-Set-X/X-n247/X-n247-k50.vrp']\n",
      "[2024-04-01 11:28:37] CVRPTester.py(84) : >> Model loaded from result/maml_250000checkpts/checkpoint-250000.pt\n",
      "[2024-04-01 11:28:39] CVRPTester.py(225) : episode   1/  1, Elapsed[0.03m], Remain[0.00m], sol:37.274, score:41.156, aug_score:40.691\n",
      "[2024-04-01 11:28:39] CVRPTester.py(231) :  *** Test Done *** \n",
      "[2024-04-01 11:28:39] CVRPTester.py(232) :  NO-AUG SCORE: 41.1560, Gap: 10.4149 \n",
      "[2024-04-01 11:28:39] CVRPTester.py(233) :  AUGMENTATION SCORE: 40.6909, Gap: 9.1671 \n",
      "41.156 (10.415%)\n",
      "40.691 (9.167%)\n",
      ">> Evaluation on ../../data/CVRP/dataset/Vrp-Set-X/X-n247 finished within 1.86s\n",
      ">> Save final results to res/X-n247\n",
      "Test on \" ../../data/CVRP/dataset/Vrp-Set-X/X-n247 \" Success\n",
      "-----------------------------------------------------------------------------------------------------------------\n",
      "[2024-04-01 11:28:42] test.py(106) : DEBUG_MODE: False\n",
      "[2024-04-01 11:28:42] test.py(107) : USE_CUDA: True, CUDA_DEVICE_NUM: 0\n",
      "[2024-04-01 11:28:42] test.py(108) : env_params{'problem_size': 200, 'pomo_size': 200}\n",
      "[2024-04-01 11:28:42] test.py(108) : model_params{'embedding_dim': 128, 'sqrt_embedding_dim': 11.313708498984761, 'encoder_layer_num': 6, 'qkv_dim': 16, 'head_num': 8, 'logit_clipping': 10, 'ff_hidden_dim': 512, 'eval_type': 'argmax', 'norm': 'batch_no_track'}\n",
      "[2024-04-01 11:28:42] test.py(108) : tester_params{'use_cuda': True, 'cuda_device_num': 0, 'seed': 2024, 'model_load': {'path': 'result/maml_250000checkpts', 'epoch': 250000}, 'test_episodes': 1, 'test_batch_size': 1, 'augmentation_enable': True, 'test_robustness': False, 'aug_factor': 8, 'aug_batch_size': 1, 'test_set_path': '../../data/CVRP/dataset/Vrp-Set-X/X-n251', 'test_set_opt_sol_path': '../../data/CVRP/dataset/Vrp-Set-X/X-n251-sol', 'test_set_name': 'A-n33'}\n",
      "[2024-04-01 11:28:42] test.py(108) : fine_tune_params{'enable': False, 'fine_tune_episodes': 1000, 'k': 10, 'fine_tune_batch_size': 10, 'augmentation_enable': True, 'optimizer': {'lr': 1e-05, 'weight_decay': 1e-06}}\n",
      "[2024-04-01 11:28:42] test.py(108) : logger_params{'log_file': {'desc': 'test_cvrp', 'filename': 'log.txt', 'filepath': './result/20240401_112842_test_cvrp'}}\n"
     ]
    },
    {
     "name": "stderr",
     "output_type": "stream",
     "text": [
      "/home/xunj/miniconda3/lib/python3.11/site-packages/torch/__init__.py:614: UserWarning: torch.set_default_tensor_type() is deprecated as of PyTorch 2.1, please use torch.set_default_dtype() and torch.set_default_device() as alternatives. (Triggered internally at /opt/conda/conda-bld/pytorch_1699449183005/work/torch/csrc/tensor/python_tensor.cpp:451.)\n",
      "  _C._set_default_tensor_type(t)\n"
     ]
    },
    {
     "name": "stdout",
     "output_type": "stream",
     "text": [
      "['../../data/CVRP/dataset/Vrp-Set-X/X-n251/X-n251-k28.vrp']\n",
      "[2024-04-01 11:28:48] CVRPTester.py(84) : >> Model loaded from result/maml_250000checkpts/checkpoint-250000.pt\n",
      "[2024-04-01 11:28:50] CVRPTester.py(225) : episode   1/  1, Elapsed[0.03m], Remain[0.00m], sol:38.684, score:40.253, aug_score:40.069\n",
      "[2024-04-01 11:28:50] CVRPTester.py(231) :  *** Test Done *** \n",
      "[2024-04-01 11:28:50] CVRPTester.py(232) :  NO-AUG SCORE: 40.2529, Gap: 4.0556 \n",
      "[2024-04-01 11:28:50] CVRPTester.py(233) :  AUGMENTATION SCORE: 40.0694, Gap: 3.5813 \n",
      "40.253 (4.056%)\n",
      "40.069 (3.581%)\n",
      ">> Evaluation on ../../data/CVRP/dataset/Vrp-Set-X/X-n251 finished within 1.91s\n",
      ">> Save final results to res/X-n251\n",
      "Test on \" ../../data/CVRP/dataset/Vrp-Set-X/X-n251 \" Success\n",
      "-----------------------------------------------------------------------------------------------------------------\n",
      "[2024-04-01 11:28:54] test.py(106) : DEBUG_MODE: False\n",
      "[2024-04-01 11:28:54] test.py(107) : USE_CUDA: True, CUDA_DEVICE_NUM: 0\n",
      "[2024-04-01 11:28:54] test.py(108) : env_params{'problem_size': 200, 'pomo_size': 200}\n",
      "[2024-04-01 11:28:54] test.py(108) : model_params{'embedding_dim': 128, 'sqrt_embedding_dim': 11.313708498984761, 'encoder_layer_num': 6, 'qkv_dim': 16, 'head_num': 8, 'logit_clipping': 10, 'ff_hidden_dim': 512, 'eval_type': 'argmax', 'norm': 'batch_no_track'}\n",
      "[2024-04-01 11:28:54] test.py(108) : tester_params{'use_cuda': True, 'cuda_device_num': 0, 'seed': 2024, 'model_load': {'path': 'result/maml_250000checkpts', 'epoch': 250000}, 'test_episodes': 1, 'test_batch_size': 1, 'augmentation_enable': True, 'test_robustness': False, 'aug_factor': 8, 'aug_batch_size': 1, 'test_set_path': '../../data/CVRP/dataset/Vrp-Set-X/X-n256', 'test_set_opt_sol_path': '../../data/CVRP/dataset/Vrp-Set-X/X-n256-sol', 'test_set_name': 'A-n33'}\n",
      "[2024-04-01 11:28:54] test.py(108) : fine_tune_params{'enable': False, 'fine_tune_episodes': 1000, 'k': 10, 'fine_tune_batch_size': 10, 'augmentation_enable': True, 'optimizer': {'lr': 1e-05, 'weight_decay': 1e-06}}\n",
      "[2024-04-01 11:28:54] test.py(108) : logger_params{'log_file': {'desc': 'test_cvrp', 'filename': 'log.txt', 'filepath': './result/20240401_112853_test_cvrp'}}\n"
     ]
    },
    {
     "name": "stderr",
     "output_type": "stream",
     "text": [
      "/home/xunj/miniconda3/lib/python3.11/site-packages/torch/__init__.py:614: UserWarning: torch.set_default_tensor_type() is deprecated as of PyTorch 2.1, please use torch.set_default_dtype() and torch.set_default_device() as alternatives. (Triggered internally at /opt/conda/conda-bld/pytorch_1699449183005/work/torch/csrc/tensor/python_tensor.cpp:451.)\n",
      "  _C._set_default_tensor_type(t)\n"
     ]
    },
    {
     "name": "stdout",
     "output_type": "stream",
     "text": [
      "['../../data/CVRP/dataset/Vrp-Set-X/X-n256/X-n256-k16.vrp']\n",
      "[2024-04-01 11:29:00] CVRPTester.py(84) : >> Model loaded from result/maml_250000checkpts/checkpoint-250000.pt\n",
      "[2024-04-01 11:29:02] CVRPTester.py(225) : episode   1/  1, Elapsed[0.03m], Remain[0.00m], sol:18.839, score:20.398, aug_score:20.000\n",
      "[2024-04-01 11:29:02] CVRPTester.py(231) :  *** Test Done *** \n",
      "[2024-04-01 11:29:02] CVRPTester.py(232) :  NO-AUG SCORE: 20.3981, Gap: 8.2759 \n",
      "[2024-04-01 11:29:02] CVRPTester.py(233) :  AUGMENTATION SCORE: 20.0000, Gap: 6.1630 \n",
      "20.398 (8.276%)\n",
      "20.000 (6.163%)\n",
      ">> Evaluation on ../../data/CVRP/dataset/Vrp-Set-X/X-n256 finished within 1.80s\n",
      ">> Save final results to res/X-n256\n",
      "Test on \" ../../data/CVRP/dataset/Vrp-Set-X/X-n256 \" Success\n",
      "-----------------------------------------------------------------------------------------------------------------\n",
      "[2024-04-01 11:29:05] test.py(106) : DEBUG_MODE: False\n",
      "[2024-04-01 11:29:05] test.py(107) : USE_CUDA: True, CUDA_DEVICE_NUM: 0\n",
      "[2024-04-01 11:29:05] test.py(108) : env_params{'problem_size': 200, 'pomo_size': 200}\n",
      "[2024-04-01 11:29:05] test.py(108) : model_params{'embedding_dim': 128, 'sqrt_embedding_dim': 11.313708498984761, 'encoder_layer_num': 6, 'qkv_dim': 16, 'head_num': 8, 'logit_clipping': 10, 'ff_hidden_dim': 512, 'eval_type': 'argmax', 'norm': 'batch_no_track'}\n",
      "[2024-04-01 11:29:05] test.py(108) : tester_params{'use_cuda': True, 'cuda_device_num': 0, 'seed': 2024, 'model_load': {'path': 'result/maml_250000checkpts', 'epoch': 250000}, 'test_episodes': 1, 'test_batch_size': 1, 'augmentation_enable': True, 'test_robustness': False, 'aug_factor': 8, 'aug_batch_size': 1, 'test_set_path': '../../data/CVRP/dataset/Vrp-Set-X/X-n261', 'test_set_opt_sol_path': '../../data/CVRP/dataset/Vrp-Set-X/X-n261-sol', 'test_set_name': 'A-n33'}\n",
      "[2024-04-01 11:29:05] test.py(108) : fine_tune_params{'enable': False, 'fine_tune_episodes': 1000, 'k': 10, 'fine_tune_batch_size': 10, 'augmentation_enable': True, 'optimizer': {'lr': 1e-05, 'weight_decay': 1e-06}}\n",
      "[2024-04-01 11:29:05] test.py(108) : logger_params{'log_file': {'desc': 'test_cvrp', 'filename': 'log.txt', 'filepath': './result/20240401_112905_test_cvrp'}}\n"
     ]
    },
    {
     "name": "stderr",
     "output_type": "stream",
     "text": [
      "/home/xunj/miniconda3/lib/python3.11/site-packages/torch/__init__.py:614: UserWarning: torch.set_default_tensor_type() is deprecated as of PyTorch 2.1, please use torch.set_default_dtype() and torch.set_default_device() as alternatives. (Triggered internally at /opt/conda/conda-bld/pytorch_1699449183005/work/torch/csrc/tensor/python_tensor.cpp:451.)\n",
      "  _C._set_default_tensor_type(t)\n"
     ]
    },
    {
     "name": "stdout",
     "output_type": "stream",
     "text": [
      "['../../data/CVRP/dataset/Vrp-Set-X/X-n261/X-n261-k13.vrp']\n",
      "[2024-04-01 11:29:11] CVRPTester.py(84) : >> Model loaded from result/maml_250000checkpts/checkpoint-250000.pt\n",
      "[2024-04-01 11:29:13] CVRPTester.py(225) : episode   1/  1, Elapsed[0.03m], Remain[0.00m], sol:26.558, score:27.926, aug_score:27.886\n",
      "[2024-04-01 11:29:13] CVRPTester.py(231) :  *** Test Done *** \n",
      "[2024-04-01 11:29:13] CVRPTester.py(232) :  NO-AUG SCORE: 27.9258, Gap: 5.1504 \n",
      "[2024-04-01 11:29:13] CVRPTester.py(233) :  AUGMENTATION SCORE: 27.8864, Gap: 5.0018 \n",
      "27.926 (5.150%)\n",
      "27.886 (5.002%)\n",
      ">> Evaluation on ../../data/CVRP/dataset/Vrp-Set-X/X-n261 finished within 1.75s\n",
      ">> Save final results to res/X-n261\n",
      "Test on \" ../../data/CVRP/dataset/Vrp-Set-X/X-n261 \" Success\n",
      "-----------------------------------------------------------------------------------------------------------------\n",
      "[2024-04-01 11:29:16] test.py(106) : DEBUG_MODE: False\n",
      "[2024-04-01 11:29:16] test.py(107) : USE_CUDA: True, CUDA_DEVICE_NUM: 0\n",
      "[2024-04-01 11:29:16] test.py(108) : env_params{'problem_size': 200, 'pomo_size': 200}\n",
      "[2024-04-01 11:29:16] test.py(108) : model_params{'embedding_dim': 128, 'sqrt_embedding_dim': 11.313708498984761, 'encoder_layer_num': 6, 'qkv_dim': 16, 'head_num': 8, 'logit_clipping': 10, 'ff_hidden_dim': 512, 'eval_type': 'argmax', 'norm': 'batch_no_track'}\n",
      "[2024-04-01 11:29:16] test.py(108) : tester_params{'use_cuda': True, 'cuda_device_num': 0, 'seed': 2024, 'model_load': {'path': 'result/maml_250000checkpts', 'epoch': 250000}, 'test_episodes': 1, 'test_batch_size': 1, 'augmentation_enable': True, 'test_robustness': False, 'aug_factor': 8, 'aug_batch_size': 1, 'test_set_path': '../../data/CVRP/dataset/Vrp-Set-X/X-n266', 'test_set_opt_sol_path': '../../data/CVRP/dataset/Vrp-Set-X/X-n266-sol', 'test_set_name': 'A-n33'}\n",
      "[2024-04-01 11:29:16] test.py(108) : fine_tune_params{'enable': False, 'fine_tune_episodes': 1000, 'k': 10, 'fine_tune_batch_size': 10, 'augmentation_enable': True, 'optimizer': {'lr': 1e-05, 'weight_decay': 1e-06}}\n",
      "[2024-04-01 11:29:16] test.py(108) : logger_params{'log_file': {'desc': 'test_cvrp', 'filename': 'log.txt', 'filepath': './result/20240401_112916_test_cvrp'}}\n"
     ]
    },
    {
     "name": "stderr",
     "output_type": "stream",
     "text": [
      "/home/xunj/miniconda3/lib/python3.11/site-packages/torch/__init__.py:614: UserWarning: torch.set_default_tensor_type() is deprecated as of PyTorch 2.1, please use torch.set_default_dtype() and torch.set_default_device() as alternatives. (Triggered internally at /opt/conda/conda-bld/pytorch_1699449183005/work/torch/csrc/tensor/python_tensor.cpp:451.)\n",
      "  _C._set_default_tensor_type(t)\n"
     ]
    },
    {
     "name": "stdout",
     "output_type": "stream",
     "text": [
      "['../../data/CVRP/dataset/Vrp-Set-X/X-n266/X-n266-k58.vrp']\n",
      "[2024-04-01 11:29:22] CVRPTester.py(84) : >> Model loaded from result/maml_250000checkpts/checkpoint-250000.pt\n",
      "[2024-04-01 11:29:24] CVRPTester.py(225) : episode   1/  1, Elapsed[0.03m], Remain[0.00m], sol:75.478, score:80.652, aug_score:80.252\n",
      "[2024-04-01 11:29:24] CVRPTester.py(231) :  *** Test Done *** \n",
      "[2024-04-01 11:29:24] CVRPTester.py(232) :  NO-AUG SCORE: 80.6518, Gap: 6.8547 \n",
      "[2024-04-01 11:29:24] CVRPTester.py(233) :  AUGMENTATION SCORE: 80.2521, Gap: 6.3251 \n",
      "80.652 (6.855%)\n",
      "80.252 (6.325%)\n",
      ">> Evaluation on ../../data/CVRP/dataset/Vrp-Set-X/X-n266 finished within 1.88s\n",
      ">> Save final results to res/X-n266\n",
      "Test on \" ../../data/CVRP/dataset/Vrp-Set-X/X-n266 \" Success\n",
      "-----------------------------------------------------------------------------------------------------------------\n",
      "[2024-04-01 11:29:27] test.py(106) : DEBUG_MODE: False\n",
      "[2024-04-01 11:29:27] test.py(107) : USE_CUDA: True, CUDA_DEVICE_NUM: 0\n",
      "[2024-04-01 11:29:27] test.py(108) : env_params{'problem_size': 200, 'pomo_size': 200}\n",
      "[2024-04-01 11:29:27] test.py(108) : model_params{'embedding_dim': 128, 'sqrt_embedding_dim': 11.313708498984761, 'encoder_layer_num': 6, 'qkv_dim': 16, 'head_num': 8, 'logit_clipping': 10, 'ff_hidden_dim': 512, 'eval_type': 'argmax', 'norm': 'batch_no_track'}\n",
      "[2024-04-01 11:29:27] test.py(108) : tester_params{'use_cuda': True, 'cuda_device_num': 0, 'seed': 2024, 'model_load': {'path': 'result/maml_250000checkpts', 'epoch': 250000}, 'test_episodes': 1, 'test_batch_size': 1, 'augmentation_enable': True, 'test_robustness': False, 'aug_factor': 8, 'aug_batch_size': 1, 'test_set_path': '../../data/CVRP/dataset/Vrp-Set-X/X-n270', 'test_set_opt_sol_path': '../../data/CVRP/dataset/Vrp-Set-X/X-n270-sol', 'test_set_name': 'A-n33'}\n",
      "[2024-04-01 11:29:27] test.py(108) : fine_tune_params{'enable': False, 'fine_tune_episodes': 1000, 'k': 10, 'fine_tune_batch_size': 10, 'augmentation_enable': True, 'optimizer': {'lr': 1e-05, 'weight_decay': 1e-06}}\n",
      "[2024-04-01 11:29:27] test.py(108) : logger_params{'log_file': {'desc': 'test_cvrp', 'filename': 'log.txt', 'filepath': './result/20240401_112927_test_cvrp'}}\n"
     ]
    },
    {
     "name": "stderr",
     "output_type": "stream",
     "text": [
      "/home/xunj/miniconda3/lib/python3.11/site-packages/torch/__init__.py:614: UserWarning: torch.set_default_tensor_type() is deprecated as of PyTorch 2.1, please use torch.set_default_dtype() and torch.set_default_device() as alternatives. (Triggered internally at /opt/conda/conda-bld/pytorch_1699449183005/work/torch/csrc/tensor/python_tensor.cpp:451.)\n",
      "  _C._set_default_tensor_type(t)\n"
     ]
    },
    {
     "name": "stdout",
     "output_type": "stream",
     "text": [
      "['../../data/CVRP/dataset/Vrp-Set-X/X-n270/X-n270-k35.vrp']\n",
      "[2024-04-01 11:29:33] CVRPTester.py(84) : >> Model loaded from result/maml_250000checkpts/checkpoint-250000.pt\n",
      "[2024-04-01 11:29:35] CVRPTester.py(225) : episode   1/  1, Elapsed[0.03m], Remain[0.00m], sol:35.291, score:38.009, aug_score:37.677\n",
      "[2024-04-01 11:29:35] CVRPTester.py(231) :  *** Test Done *** \n",
      "[2024-04-01 11:29:35] CVRPTester.py(232) :  NO-AUG SCORE: 38.0086, Gap: 7.7007 \n",
      "[2024-04-01 11:29:35] CVRPTester.py(233) :  AUGMENTATION SCORE: 37.6769, Gap: 6.7608 \n",
      "38.009 (7.701%)\n",
      "37.677 (6.761%)\n",
      ">> Evaluation on ../../data/CVRP/dataset/Vrp-Set-X/X-n270 finished within 1.85s\n",
      ">> Save final results to res/X-n270\n",
      "Test on \" ../../data/CVRP/dataset/Vrp-Set-X/X-n270 \" Success\n",
      "-----------------------------------------------------------------------------------------------------------------\n",
      "[2024-04-01 11:29:39] test.py(106) : DEBUG_MODE: False\n",
      "[2024-04-01 11:29:39] test.py(107) : USE_CUDA: True, CUDA_DEVICE_NUM: 0\n",
      "[2024-04-01 11:29:39] test.py(108) : env_params{'problem_size': 200, 'pomo_size': 200}\n",
      "[2024-04-01 11:29:39] test.py(108) : model_params{'embedding_dim': 128, 'sqrt_embedding_dim': 11.313708498984761, 'encoder_layer_num': 6, 'qkv_dim': 16, 'head_num': 8, 'logit_clipping': 10, 'ff_hidden_dim': 512, 'eval_type': 'argmax', 'norm': 'batch_no_track'}\n",
      "[2024-04-01 11:29:39] test.py(108) : tester_params{'use_cuda': True, 'cuda_device_num': 0, 'seed': 2024, 'model_load': {'path': 'result/maml_250000checkpts', 'epoch': 250000}, 'test_episodes': 1, 'test_batch_size': 1, 'augmentation_enable': True, 'test_robustness': False, 'aug_factor': 8, 'aug_batch_size': 1, 'test_set_path': '../../data/CVRP/dataset/Vrp-Set-X/X-n275', 'test_set_opt_sol_path': '../../data/CVRP/dataset/Vrp-Set-X/X-n275-sol', 'test_set_name': 'A-n33'}\n",
      "[2024-04-01 11:29:39] test.py(108) : fine_tune_params{'enable': False, 'fine_tune_episodes': 1000, 'k': 10, 'fine_tune_batch_size': 10, 'augmentation_enable': True, 'optimizer': {'lr': 1e-05, 'weight_decay': 1e-06}}\n",
      "[2024-04-01 11:29:39] test.py(108) : logger_params{'log_file': {'desc': 'test_cvrp', 'filename': 'log.txt', 'filepath': './result/20240401_112938_test_cvrp'}}\n"
     ]
    },
    {
     "name": "stderr",
     "output_type": "stream",
     "text": [
      "/home/xunj/miniconda3/lib/python3.11/site-packages/torch/__init__.py:614: UserWarning: torch.set_default_tensor_type() is deprecated as of PyTorch 2.1, please use torch.set_default_dtype() and torch.set_default_device() as alternatives. (Triggered internally at /opt/conda/conda-bld/pytorch_1699449183005/work/torch/csrc/tensor/python_tensor.cpp:451.)\n",
      "  _C._set_default_tensor_type(t)\n"
     ]
    },
    {
     "name": "stdout",
     "output_type": "stream",
     "text": [
      "['../../data/CVRP/dataset/Vrp-Set-X/X-n275/X-n275-k28.vrp']\n",
      "[2024-04-01 11:29:45] CVRPTester.py(84) : >> Model loaded from result/maml_250000checkpts/checkpoint-250000.pt\n",
      "[2024-04-01 11:29:47] CVRPTester.py(225) : episode   1/  1, Elapsed[0.03m], Remain[0.00m], sol:21.245, score:22.417, aug_score:22.276\n",
      "[2024-04-01 11:29:47] CVRPTester.py(231) :  *** Test Done *** \n",
      "[2024-04-01 11:29:47] CVRPTester.py(232) :  NO-AUG SCORE: 22.4171, Gap: 5.5172 \n",
      "[2024-04-01 11:29:47] CVRPTester.py(233) :  AUGMENTATION SCORE: 22.2762, Gap: 4.8541 \n",
      "22.417 (5.517%)\n",
      "22.276 (4.854%)\n",
      ">> Evaluation on ../../data/CVRP/dataset/Vrp-Set-X/X-n275 finished within 2.04s\n",
      ">> Save final results to res/X-n275\n",
      "Test on \" ../../data/CVRP/dataset/Vrp-Set-X/X-n275 \" Success\n",
      "-----------------------------------------------------------------------------------------------------------------\n",
      "[2024-04-01 11:29:50] test.py(106) : DEBUG_MODE: False\n",
      "[2024-04-01 11:29:50] test.py(107) : USE_CUDA: True, CUDA_DEVICE_NUM: 0\n",
      "[2024-04-01 11:29:50] test.py(108) : env_params{'problem_size': 200, 'pomo_size': 200}\n",
      "[2024-04-01 11:29:50] test.py(108) : model_params{'embedding_dim': 128, 'sqrt_embedding_dim': 11.313708498984761, 'encoder_layer_num': 6, 'qkv_dim': 16, 'head_num': 8, 'logit_clipping': 10, 'ff_hidden_dim': 512, 'eval_type': 'argmax', 'norm': 'batch_no_track'}\n",
      "[2024-04-01 11:29:50] test.py(108) : tester_params{'use_cuda': True, 'cuda_device_num': 0, 'seed': 2024, 'model_load': {'path': 'result/maml_250000checkpts', 'epoch': 250000}, 'test_episodes': 1, 'test_batch_size': 1, 'augmentation_enable': True, 'test_robustness': False, 'aug_factor': 8, 'aug_batch_size': 1, 'test_set_path': '../../data/CVRP/dataset/Vrp-Set-X/X-n280', 'test_set_opt_sol_path': '../../data/CVRP/dataset/Vrp-Set-X/X-n280-sol', 'test_set_name': 'A-n33'}\n",
      "[2024-04-01 11:29:50] test.py(108) : fine_tune_params{'enable': False, 'fine_tune_episodes': 1000, 'k': 10, 'fine_tune_batch_size': 10, 'augmentation_enable': True, 'optimizer': {'lr': 1e-05, 'weight_decay': 1e-06}}\n",
      "[2024-04-01 11:29:50] test.py(108) : logger_params{'log_file': {'desc': 'test_cvrp', 'filename': 'log.txt', 'filepath': './result/20240401_112950_test_cvrp'}}\n"
     ]
    },
    {
     "name": "stderr",
     "output_type": "stream",
     "text": [
      "/home/xunj/miniconda3/lib/python3.11/site-packages/torch/__init__.py:614: UserWarning: torch.set_default_tensor_type() is deprecated as of PyTorch 2.1, please use torch.set_default_dtype() and torch.set_default_device() as alternatives. (Triggered internally at /opt/conda/conda-bld/pytorch_1699449183005/work/torch/csrc/tensor/python_tensor.cpp:451.)\n",
      "  _C._set_default_tensor_type(t)\n"
     ]
    },
    {
     "name": "stdout",
     "output_type": "stream",
     "text": [
      "['../../data/CVRP/dataset/Vrp-Set-X/X-n280/X-n280-k17.vrp']\n",
      "[2024-04-01 11:29:56] CVRPTester.py(84) : >> Model loaded from result/maml_250000checkpts/checkpoint-250000.pt\n",
      "[2024-04-01 11:29:58] CVRPTester.py(225) : episode   1/  1, Elapsed[0.03m], Remain[0.00m], sol:33.503, score:34.862, aug_score:34.862\n",
      "[2024-04-01 11:29:58] CVRPTester.py(231) :  *** Test Done *** \n",
      "[2024-04-01 11:29:58] CVRPTester.py(232) :  NO-AUG SCORE: 34.8621, Gap: 4.0565 \n",
      "[2024-04-01 11:29:58] CVRPTester.py(233) :  AUGMENTATION SCORE: 34.8621, Gap: 4.0565 \n",
      "34.862 (4.057%)\n",
      "34.862 (4.057%)\n",
      ">> Evaluation on ../../data/CVRP/dataset/Vrp-Set-X/X-n280 finished within 1.90s\n",
      ">> Save final results to res/X-n280\n",
      "Test on \" ../../data/CVRP/dataset/Vrp-Set-X/X-n280 \" Success\n",
      "-----------------------------------------------------------------------------------------------------------------\n",
      "[2024-04-01 11:30:01] test.py(106) : DEBUG_MODE: False\n",
      "[2024-04-01 11:30:01] test.py(107) : USE_CUDA: True, CUDA_DEVICE_NUM: 0\n",
      "[2024-04-01 11:30:01] test.py(108) : env_params{'problem_size': 200, 'pomo_size': 200}\n",
      "[2024-04-01 11:30:01] test.py(108) : model_params{'embedding_dim': 128, 'sqrt_embedding_dim': 11.313708498984761, 'encoder_layer_num': 6, 'qkv_dim': 16, 'head_num': 8, 'logit_clipping': 10, 'ff_hidden_dim': 512, 'eval_type': 'argmax', 'norm': 'batch_no_track'}\n",
      "[2024-04-01 11:30:01] test.py(108) : tester_params{'use_cuda': True, 'cuda_device_num': 0, 'seed': 2024, 'model_load': {'path': 'result/maml_250000checkpts', 'epoch': 250000}, 'test_episodes': 1, 'test_batch_size': 1, 'augmentation_enable': True, 'test_robustness': False, 'aug_factor': 8, 'aug_batch_size': 1, 'test_set_path': '../../data/CVRP/dataset/Vrp-Set-X/X-n284', 'test_set_opt_sol_path': '../../data/CVRP/dataset/Vrp-Set-X/X-n284-sol', 'test_set_name': 'A-n33'}\n",
      "[2024-04-01 11:30:01] test.py(108) : fine_tune_params{'enable': False, 'fine_tune_episodes': 1000, 'k': 10, 'fine_tune_batch_size': 10, 'augmentation_enable': True, 'optimizer': {'lr': 1e-05, 'weight_decay': 1e-06}}\n",
      "[2024-04-01 11:30:01] test.py(108) : logger_params{'log_file': {'desc': 'test_cvrp', 'filename': 'log.txt', 'filepath': './result/20240401_113001_test_cvrp'}}\n"
     ]
    },
    {
     "name": "stderr",
     "output_type": "stream",
     "text": [
      "/home/xunj/miniconda3/lib/python3.11/site-packages/torch/__init__.py:614: UserWarning: torch.set_default_tensor_type() is deprecated as of PyTorch 2.1, please use torch.set_default_dtype() and torch.set_default_device() as alternatives. (Triggered internally at /opt/conda/conda-bld/pytorch_1699449183005/work/torch/csrc/tensor/python_tensor.cpp:451.)\n",
      "  _C._set_default_tensor_type(t)\n"
     ]
    },
    {
     "name": "stdout",
     "output_type": "stream",
     "text": [
      "['../../data/CVRP/dataset/Vrp-Set-X/X-n284/X-n284-k15.vrp']\n",
      "[2024-04-01 11:30:07] CVRPTester.py(84) : >> Model loaded from result/maml_250000checkpts/checkpoint-250000.pt\n",
      "[2024-04-01 11:30:10] CVRPTester.py(225) : episode   1/  1, Elapsed[0.03m], Remain[0.00m], sol:20.226, score:21.020, aug_score:21.020\n",
      "[2024-04-01 11:30:10] CVRPTester.py(231) :  *** Test Done *** \n",
      "[2024-04-01 11:30:10] CVRPTester.py(232) :  NO-AUG SCORE: 21.0203, Gap: 3.9271 \n",
      "[2024-04-01 11:30:10] CVRPTester.py(233) :  AUGMENTATION SCORE: 21.0203, Gap: 3.9271 \n",
      "21.020 (3.927%)\n",
      "21.020 (3.927%)\n",
      ">> Evaluation on ../../data/CVRP/dataset/Vrp-Set-X/X-n284 finished within 1.98s\n",
      ">> Save final results to res/X-n284\n",
      "Test on \" ../../data/CVRP/dataset/Vrp-Set-X/X-n284 \" Success\n",
      "-----------------------------------------------------------------------------------------------------------------\n",
      "[2024-04-01 11:30:13] test.py(106) : DEBUG_MODE: False\n",
      "[2024-04-01 11:30:13] test.py(107) : USE_CUDA: True, CUDA_DEVICE_NUM: 0\n",
      "[2024-04-01 11:30:13] test.py(108) : env_params{'problem_size': 200, 'pomo_size': 200}\n",
      "[2024-04-01 11:30:13] test.py(108) : model_params{'embedding_dim': 128, 'sqrt_embedding_dim': 11.313708498984761, 'encoder_layer_num': 6, 'qkv_dim': 16, 'head_num': 8, 'logit_clipping': 10, 'ff_hidden_dim': 512, 'eval_type': 'argmax', 'norm': 'batch_no_track'}\n",
      "[2024-04-01 11:30:13] test.py(108) : tester_params{'use_cuda': True, 'cuda_device_num': 0, 'seed': 2024, 'model_load': {'path': 'result/maml_250000checkpts', 'epoch': 250000}, 'test_episodes': 1, 'test_batch_size': 1, 'augmentation_enable': True, 'test_robustness': False, 'aug_factor': 8, 'aug_batch_size': 1, 'test_set_path': '../../data/CVRP/dataset/Vrp-Set-X/X-n289', 'test_set_opt_sol_path': '../../data/CVRP/dataset/Vrp-Set-X/X-n289-sol', 'test_set_name': 'A-n33'}\n",
      "[2024-04-01 11:30:13] test.py(108) : fine_tune_params{'enable': False, 'fine_tune_episodes': 1000, 'k': 10, 'fine_tune_batch_size': 10, 'augmentation_enable': True, 'optimizer': {'lr': 1e-05, 'weight_decay': 1e-06}}\n",
      "[2024-04-01 11:30:13] test.py(108) : logger_params{'log_file': {'desc': 'test_cvrp', 'filename': 'log.txt', 'filepath': './result/20240401_113012_test_cvrp'}}\n"
     ]
    },
    {
     "name": "stderr",
     "output_type": "stream",
     "text": [
      "/home/xunj/miniconda3/lib/python3.11/site-packages/torch/__init__.py:614: UserWarning: torch.set_default_tensor_type() is deprecated as of PyTorch 2.1, please use torch.set_default_dtype() and torch.set_default_device() as alternatives. (Triggered internally at /opt/conda/conda-bld/pytorch_1699449183005/work/torch/csrc/tensor/python_tensor.cpp:451.)\n",
      "  _C._set_default_tensor_type(t)\n"
     ]
    },
    {
     "name": "stdout",
     "output_type": "stream",
     "text": [
      "['../../data/CVRP/dataset/Vrp-Set-X/X-n289/X-n289-k60.vrp']\n",
      "[2024-04-01 11:30:19] CVRPTester.py(84) : >> Model loaded from result/maml_250000checkpts/checkpoint-250000.pt\n",
      "[2024-04-01 11:30:21] CVRPTester.py(225) : episode   1/  1, Elapsed[0.03m], Remain[0.00m], sol:95.151, score:101.759, aug_score:101.147\n",
      "[2024-04-01 11:30:21] CVRPTester.py(231) :  *** Test Done *** \n",
      "[2024-04-01 11:30:21] CVRPTester.py(232) :  NO-AUG SCORE: 101.7588, Gap: 6.9445 \n",
      "[2024-04-01 11:30:21] CVRPTester.py(233) :  AUGMENTATION SCORE: 101.1472, Gap: 6.3017 \n",
      "101.759 (6.945%)\n",
      "101.147 (6.302%)\n",
      ">> Evaluation on ../../data/CVRP/dataset/Vrp-Set-X/X-n289 finished within 1.87s\n",
      ">> Save final results to res/X-n289\n",
      "Test on \" ../../data/CVRP/dataset/Vrp-Set-X/X-n289 \" Success\n",
      "-----------------------------------------------------------------------------------------------------------------\n",
      "[2024-04-01 11:30:24] test.py(106) : DEBUG_MODE: False\n",
      "[2024-04-01 11:30:24] test.py(107) : USE_CUDA: True, CUDA_DEVICE_NUM: 0\n",
      "[2024-04-01 11:30:24] test.py(108) : env_params{'problem_size': 200, 'pomo_size': 200}\n",
      "[2024-04-01 11:30:24] test.py(108) : model_params{'embedding_dim': 128, 'sqrt_embedding_dim': 11.313708498984761, 'encoder_layer_num': 6, 'qkv_dim': 16, 'head_num': 8, 'logit_clipping': 10, 'ff_hidden_dim': 512, 'eval_type': 'argmax', 'norm': 'batch_no_track'}\n",
      "[2024-04-01 11:30:24] test.py(108) : tester_params{'use_cuda': True, 'cuda_device_num': 0, 'seed': 2024, 'model_load': {'path': 'result/maml_250000checkpts', 'epoch': 250000}, 'test_episodes': 1, 'test_batch_size': 1, 'augmentation_enable': True, 'test_robustness': False, 'aug_factor': 8, 'aug_batch_size': 1, 'test_set_path': '../../data/CVRP/dataset/Vrp-Set-X/X-n294', 'test_set_opt_sol_path': '../../data/CVRP/dataset/Vrp-Set-X/X-n294-sol', 'test_set_name': 'A-n33'}\n",
      "[2024-04-01 11:30:24] test.py(108) : fine_tune_params{'enable': False, 'fine_tune_episodes': 1000, 'k': 10, 'fine_tune_batch_size': 10, 'augmentation_enable': True, 'optimizer': {'lr': 1e-05, 'weight_decay': 1e-06}}\n",
      "[2024-04-01 11:30:24] test.py(108) : logger_params{'log_file': {'desc': 'test_cvrp', 'filename': 'log.txt', 'filepath': './result/20240401_113024_test_cvrp'}}\n"
     ]
    },
    {
     "name": "stderr",
     "output_type": "stream",
     "text": [
      "/home/xunj/miniconda3/lib/python3.11/site-packages/torch/__init__.py:614: UserWarning: torch.set_default_tensor_type() is deprecated as of PyTorch 2.1, please use torch.set_default_dtype() and torch.set_default_device() as alternatives. (Triggered internally at /opt/conda/conda-bld/pytorch_1699449183005/work/torch/csrc/tensor/python_tensor.cpp:451.)\n",
      "  _C._set_default_tensor_type(t)\n"
     ]
    },
    {
     "name": "stdout",
     "output_type": "stream",
     "text": [
      "['../../data/CVRP/dataset/Vrp-Set-X/X-n294/X-n294-k50.vrp']\n",
      "[2024-04-01 11:30:30] CVRPTester.py(84) : >> Model loaded from result/maml_250000checkpts/checkpoint-250000.pt\n",
      "[2024-04-01 11:30:32] CVRPTester.py(225) : episode   1/  1, Elapsed[0.03m], Remain[0.00m], sol:47.161, score:52.086, aug_score:51.055\n",
      "[2024-04-01 11:30:32] CVRPTester.py(231) :  *** Test Done *** \n",
      "[2024-04-01 11:30:32] CVRPTester.py(232) :  NO-AUG SCORE: 52.0860, Gap: 10.4430 \n",
      "[2024-04-01 11:30:32] CVRPTester.py(233) :  AUGMENTATION SCORE: 51.0552, Gap: 8.2571 \n",
      "52.086 (10.443%)\n",
      "51.055 (8.257%)\n",
      ">> Evaluation on ../../data/CVRP/dataset/Vrp-Set-X/X-n294 finished within 1.87s\n",
      ">> Save final results to res/X-n294\n",
      "Test on \" ../../data/CVRP/dataset/Vrp-Set-X/X-n294 \" Success\n",
      "-----------------------------------------------------------------------------------------------------------------\n",
      "[2024-04-01 11:30:35] test.py(106) : DEBUG_MODE: False\n",
      "[2024-04-01 11:30:35] test.py(107) : USE_CUDA: True, CUDA_DEVICE_NUM: 0\n",
      "[2024-04-01 11:30:35] test.py(108) : env_params{'problem_size': 200, 'pomo_size': 200}\n",
      "[2024-04-01 11:30:35] test.py(108) : model_params{'embedding_dim': 128, 'sqrt_embedding_dim': 11.313708498984761, 'encoder_layer_num': 6, 'qkv_dim': 16, 'head_num': 8, 'logit_clipping': 10, 'ff_hidden_dim': 512, 'eval_type': 'argmax', 'norm': 'batch_no_track'}\n",
      "[2024-04-01 11:30:35] test.py(108) : tester_params{'use_cuda': True, 'cuda_device_num': 0, 'seed': 2024, 'model_load': {'path': 'result/maml_250000checkpts', 'epoch': 250000}, 'test_episodes': 1, 'test_batch_size': 1, 'augmentation_enable': True, 'test_robustness': False, 'aug_factor': 8, 'aug_batch_size': 1, 'test_set_path': '../../data/CVRP/dataset/Vrp-Set-X/X-n298', 'test_set_opt_sol_path': '../../data/CVRP/dataset/Vrp-Set-X/X-n298-sol', 'test_set_name': 'A-n33'}\n",
      "[2024-04-01 11:30:35] test.py(108) : fine_tune_params{'enable': False, 'fine_tune_episodes': 1000, 'k': 10, 'fine_tune_batch_size': 10, 'augmentation_enable': True, 'optimizer': {'lr': 1e-05, 'weight_decay': 1e-06}}\n",
      "[2024-04-01 11:30:35] test.py(108) : logger_params{'log_file': {'desc': 'test_cvrp', 'filename': 'log.txt', 'filepath': './result/20240401_113035_test_cvrp'}}\n"
     ]
    },
    {
     "name": "stderr",
     "output_type": "stream",
     "text": [
      "/home/xunj/miniconda3/lib/python3.11/site-packages/torch/__init__.py:614: UserWarning: torch.set_default_tensor_type() is deprecated as of PyTorch 2.1, please use torch.set_default_dtype() and torch.set_default_device() as alternatives. (Triggered internally at /opt/conda/conda-bld/pytorch_1699449183005/work/torch/csrc/tensor/python_tensor.cpp:451.)\n",
      "  _C._set_default_tensor_type(t)\n"
     ]
    },
    {
     "name": "stdout",
     "output_type": "stream",
     "text": [
      "['../../data/CVRP/dataset/Vrp-Set-X/X-n298/X-n298-k31.vrp']\n",
      "[2024-04-01 11:30:41] CVRPTester.py(84) : >> Model loaded from result/maml_250000checkpts/checkpoint-250000.pt\n",
      "[2024-04-01 11:30:43] CVRPTester.py(225) : episode   1/  1, Elapsed[0.03m], Remain[0.00m], sol:34.231, score:36.624, aug_score:36.458\n",
      "[2024-04-01 11:30:43] CVRPTester.py(231) :  *** Test Done *** \n",
      "[2024-04-01 11:30:43] CVRPTester.py(232) :  NO-AUG SCORE: 36.6241, Gap: 6.9910 \n",
      "[2024-04-01 11:30:43] CVRPTester.py(233) :  AUGMENTATION SCORE: 36.4577, Gap: 6.5048 \n",
      "36.624 (6.991%)\n",
      "36.458 (6.505%)\n",
      ">> Evaluation on ../../data/CVRP/dataset/Vrp-Set-X/X-n298 finished within 1.85s\n",
      ">> Save final results to res/X-n298\n",
      "Test on \" ../../data/CVRP/dataset/Vrp-Set-X/X-n298 \" Success\n",
      "-----------------------------------------------------------------------------------------------------------------\n",
      "[2024-04-01 11:30:47] test.py(106) : DEBUG_MODE: False\n",
      "[2024-04-01 11:30:47] test.py(107) : USE_CUDA: True, CUDA_DEVICE_NUM: 0\n",
      "[2024-04-01 11:30:47] test.py(108) : env_params{'problem_size': 200, 'pomo_size': 200}\n",
      "[2024-04-01 11:30:47] test.py(108) : model_params{'embedding_dim': 128, 'sqrt_embedding_dim': 11.313708498984761, 'encoder_layer_num': 6, 'qkv_dim': 16, 'head_num': 8, 'logit_clipping': 10, 'ff_hidden_dim': 512, 'eval_type': 'argmax', 'norm': 'batch_no_track'}\n",
      "[2024-04-01 11:30:47] test.py(108) : tester_params{'use_cuda': True, 'cuda_device_num': 0, 'seed': 2024, 'model_load': {'path': 'result/maml_250000checkpts', 'epoch': 250000}, 'test_episodes': 1, 'test_batch_size': 1, 'augmentation_enable': True, 'test_robustness': False, 'aug_factor': 8, 'aug_batch_size': 1, 'test_set_path': '../../data/CVRP/dataset/Vrp-Set-X/X-n303', 'test_set_opt_sol_path': '../../data/CVRP/dataset/Vrp-Set-X/X-n303-sol', 'test_set_name': 'A-n33'}\n",
      "[2024-04-01 11:30:47] test.py(108) : fine_tune_params{'enable': False, 'fine_tune_episodes': 1000, 'k': 10, 'fine_tune_batch_size': 10, 'augmentation_enable': True, 'optimizer': {'lr': 1e-05, 'weight_decay': 1e-06}}\n",
      "[2024-04-01 11:30:47] test.py(108) : logger_params{'log_file': {'desc': 'test_cvrp', 'filename': 'log.txt', 'filepath': './result/20240401_113046_test_cvrp'}}\n"
     ]
    },
    {
     "name": "stderr",
     "output_type": "stream",
     "text": [
      "/home/xunj/miniconda3/lib/python3.11/site-packages/torch/__init__.py:614: UserWarning: torch.set_default_tensor_type() is deprecated as of PyTorch 2.1, please use torch.set_default_dtype() and torch.set_default_device() as alternatives. (Triggered internally at /opt/conda/conda-bld/pytorch_1699449183005/work/torch/csrc/tensor/python_tensor.cpp:451.)\n",
      "  _C._set_default_tensor_type(t)\n"
     ]
    },
    {
     "name": "stdout",
     "output_type": "stream",
     "text": [
      "['../../data/CVRP/dataset/Vrp-Set-X/X-n303/X-n303-k21.vrp']\n",
      "[2024-04-01 11:30:53] CVRPTester.py(84) : >> Model loaded from result/maml_250000checkpts/checkpoint-250000.pt\n",
      "[2024-04-01 11:30:55] CVRPTester.py(225) : episode   1/  1, Elapsed[0.03m], Remain[0.00m], sol:21.736, score:22.835, aug_score:22.681\n",
      "[2024-04-01 11:30:55] CVRPTester.py(231) :  *** Test Done *** \n",
      "[2024-04-01 11:30:55] CVRPTester.py(232) :  NO-AUG SCORE: 22.8345, Gap: 5.0539 \n",
      "[2024-04-01 11:30:55] CVRPTester.py(233) :  AUGMENTATION SCORE: 22.6814, Gap: 4.3495 \n",
      "22.835 (5.054%)\n",
      "22.681 (4.350%)\n",
      ">> Evaluation on ../../data/CVRP/dataset/Vrp-Set-X/X-n303 finished within 1.83s\n",
      ">> Save final results to res/X-n303\n",
      "Test on \" ../../data/CVRP/dataset/Vrp-Set-X/X-n303 \" Success\n",
      "-----------------------------------------------------------------------------------------------------------------\n",
      "[2024-04-01 11:30:58] test.py(106) : DEBUG_MODE: False\n",
      "[2024-04-01 11:30:58] test.py(107) : USE_CUDA: True, CUDA_DEVICE_NUM: 0\n",
      "[2024-04-01 11:30:58] test.py(108) : env_params{'problem_size': 200, 'pomo_size': 200}\n",
      "[2024-04-01 11:30:58] test.py(108) : model_params{'embedding_dim': 128, 'sqrt_embedding_dim': 11.313708498984761, 'encoder_layer_num': 6, 'qkv_dim': 16, 'head_num': 8, 'logit_clipping': 10, 'ff_hidden_dim': 512, 'eval_type': 'argmax', 'norm': 'batch_no_track'}\n",
      "[2024-04-01 11:30:58] test.py(108) : tester_params{'use_cuda': True, 'cuda_device_num': 0, 'seed': 2024, 'model_load': {'path': 'result/maml_250000checkpts', 'epoch': 250000}, 'test_episodes': 1, 'test_batch_size': 1, 'augmentation_enable': True, 'test_robustness': False, 'aug_factor': 8, 'aug_batch_size': 1, 'test_set_path': '../../data/CVRP/dataset/Vrp-Set-X/X-n308', 'test_set_opt_sol_path': '../../data/CVRP/dataset/Vrp-Set-X/X-n308-sol', 'test_set_name': 'A-n33'}\n",
      "[2024-04-01 11:30:58] test.py(108) : fine_tune_params{'enable': False, 'fine_tune_episodes': 1000, 'k': 10, 'fine_tune_batch_size': 10, 'augmentation_enable': True, 'optimizer': {'lr': 1e-05, 'weight_decay': 1e-06}}\n",
      "[2024-04-01 11:30:58] test.py(108) : logger_params{'log_file': {'desc': 'test_cvrp', 'filename': 'log.txt', 'filepath': './result/20240401_113057_test_cvrp'}}\n"
     ]
    },
    {
     "name": "stderr",
     "output_type": "stream",
     "text": [
      "/home/xunj/miniconda3/lib/python3.11/site-packages/torch/__init__.py:614: UserWarning: torch.set_default_tensor_type() is deprecated as of PyTorch 2.1, please use torch.set_default_dtype() and torch.set_default_device() as alternatives. (Triggered internally at /opt/conda/conda-bld/pytorch_1699449183005/work/torch/csrc/tensor/python_tensor.cpp:451.)\n",
      "  _C._set_default_tensor_type(t)\n"
     ]
    },
    {
     "name": "stdout",
     "output_type": "stream",
     "text": [
      "['../../data/CVRP/dataset/Vrp-Set-X/X-n308/X-n308-k13.vrp']\n",
      "[2024-04-01 11:31:04] CVRPTester.py(84) : >> Model loaded from result/maml_250000checkpts/checkpoint-250000.pt\n",
      "[2024-04-01 11:31:06] CVRPTester.py(225) : episode   1/  1, Elapsed[0.03m], Remain[0.00m], sol:25.859, score:27.756, aug_score:27.389\n",
      "[2024-04-01 11:31:06] CVRPTester.py(231) :  *** Test Done *** \n",
      "[2024-04-01 11:31:06] CVRPTester.py(232) :  NO-AUG SCORE: 27.7564, Gap: 7.3375 \n",
      "[2024-04-01 11:31:06] CVRPTester.py(233) :  AUGMENTATION SCORE: 27.3892, Gap: 5.9176 \n",
      "27.756 (7.338%)\n",
      "27.389 (5.918%)\n",
      ">> Evaluation on ../../data/CVRP/dataset/Vrp-Set-X/X-n308 finished within 1.83s\n",
      ">> Save final results to res/X-n308\n",
      "Test on \" ../../data/CVRP/dataset/Vrp-Set-X/X-n308 \" Success\n",
      "-----------------------------------------------------------------------------------------------------------------\n",
      "[2024-04-01 11:31:09] test.py(106) : DEBUG_MODE: False\n",
      "[2024-04-01 11:31:09] test.py(107) : USE_CUDA: True, CUDA_DEVICE_NUM: 0\n",
      "[2024-04-01 11:31:09] test.py(108) : env_params{'problem_size': 200, 'pomo_size': 200}\n",
      "[2024-04-01 11:31:09] test.py(108) : model_params{'embedding_dim': 128, 'sqrt_embedding_dim': 11.313708498984761, 'encoder_layer_num': 6, 'qkv_dim': 16, 'head_num': 8, 'logit_clipping': 10, 'ff_hidden_dim': 512, 'eval_type': 'argmax', 'norm': 'batch_no_track'}\n",
      "[2024-04-01 11:31:09] test.py(108) : tester_params{'use_cuda': True, 'cuda_device_num': 0, 'seed': 2024, 'model_load': {'path': 'result/maml_250000checkpts', 'epoch': 250000}, 'test_episodes': 1, 'test_batch_size': 1, 'augmentation_enable': True, 'test_robustness': False, 'aug_factor': 8, 'aug_batch_size': 1, 'test_set_path': '../../data/CVRP/dataset/Vrp-Set-X/X-n313', 'test_set_opt_sol_path': '../../data/CVRP/dataset/Vrp-Set-X/X-n313-sol', 'test_set_name': 'A-n33'}\n",
      "[2024-04-01 11:31:09] test.py(108) : fine_tune_params{'enable': False, 'fine_tune_episodes': 1000, 'k': 10, 'fine_tune_batch_size': 10, 'augmentation_enable': True, 'optimizer': {'lr': 1e-05, 'weight_decay': 1e-06}}\n",
      "[2024-04-01 11:31:09] test.py(108) : logger_params{'log_file': {'desc': 'test_cvrp', 'filename': 'log.txt', 'filepath': './result/20240401_113109_test_cvrp'}}\n"
     ]
    },
    {
     "name": "stderr",
     "output_type": "stream",
     "text": [
      "/home/xunj/miniconda3/lib/python3.11/site-packages/torch/__init__.py:614: UserWarning: torch.set_default_tensor_type() is deprecated as of PyTorch 2.1, please use torch.set_default_dtype() and torch.set_default_device() as alternatives. (Triggered internally at /opt/conda/conda-bld/pytorch_1699449183005/work/torch/csrc/tensor/python_tensor.cpp:451.)\n",
      "  _C._set_default_tensor_type(t)\n"
     ]
    },
    {
     "name": "stdout",
     "output_type": "stream",
     "text": [
      "['../../data/CVRP/dataset/Vrp-Set-X/X-n313/X-n313-k71.vrp']\n",
      "[2024-04-01 11:31:16] CVRPTester.py(84) : >> Model loaded from result/maml_250000checkpts/checkpoint-250000.pt\n",
      "[2024-04-01 11:31:18] CVRPTester.py(225) : episode   1/  1, Elapsed[0.04m], Remain[0.00m], sol:94.043, score:100.942, aug_score:99.753\n",
      "[2024-04-01 11:31:18] CVRPTester.py(231) :  *** Test Done *** \n",
      "[2024-04-01 11:31:18] CVRPTester.py(232) :  NO-AUG SCORE: 100.9424, Gap: 7.3364 \n",
      "[2024-04-01 11:31:18] CVRPTester.py(233) :  AUGMENTATION SCORE: 99.7534, Gap: 6.0721 \n",
      "100.942 (7.336%)\n",
      "99.753 (6.072%)\n",
      ">> Evaluation on ../../data/CVRP/dataset/Vrp-Set-X/X-n313 finished within 2.19s\n",
      ">> Save final results to res/X-n313\n",
      "Test on \" ../../data/CVRP/dataset/Vrp-Set-X/X-n313 \" Success\n",
      "-----------------------------------------------------------------------------------------------------------------\n",
      "[2024-04-01 11:31:21] test.py(106) : DEBUG_MODE: False\n",
      "[2024-04-01 11:31:21] test.py(107) : USE_CUDA: True, CUDA_DEVICE_NUM: 0\n",
      "[2024-04-01 11:31:21] test.py(108) : env_params{'problem_size': 200, 'pomo_size': 200}\n",
      "[2024-04-01 11:31:21] test.py(108) : model_params{'embedding_dim': 128, 'sqrt_embedding_dim': 11.313708498984761, 'encoder_layer_num': 6, 'qkv_dim': 16, 'head_num': 8, 'logit_clipping': 10, 'ff_hidden_dim': 512, 'eval_type': 'argmax', 'norm': 'batch_no_track'}\n",
      "[2024-04-01 11:31:21] test.py(108) : tester_params{'use_cuda': True, 'cuda_device_num': 0, 'seed': 2024, 'model_load': {'path': 'result/maml_250000checkpts', 'epoch': 250000}, 'test_episodes': 1, 'test_batch_size': 1, 'augmentation_enable': True, 'test_robustness': False, 'aug_factor': 8, 'aug_batch_size': 1, 'test_set_path': '../../data/CVRP/dataset/Vrp-Set-X/X-n317', 'test_set_opt_sol_path': '../../data/CVRP/dataset/Vrp-Set-X/X-n317-sol', 'test_set_name': 'A-n33'}\n",
      "[2024-04-01 11:31:21] test.py(108) : fine_tune_params{'enable': False, 'fine_tune_episodes': 1000, 'k': 10, 'fine_tune_batch_size': 10, 'augmentation_enable': True, 'optimizer': {'lr': 1e-05, 'weight_decay': 1e-06}}\n",
      "[2024-04-01 11:31:21] test.py(108) : logger_params{'log_file': {'desc': 'test_cvrp', 'filename': 'log.txt', 'filepath': './result/20240401_113121_test_cvrp'}}\n"
     ]
    },
    {
     "name": "stderr",
     "output_type": "stream",
     "text": [
      "/home/xunj/miniconda3/lib/python3.11/site-packages/torch/__init__.py:614: UserWarning: torch.set_default_tensor_type() is deprecated as of PyTorch 2.1, please use torch.set_default_dtype() and torch.set_default_device() as alternatives. (Triggered internally at /opt/conda/conda-bld/pytorch_1699449183005/work/torch/csrc/tensor/python_tensor.cpp:451.)\n",
      "  _C._set_default_tensor_type(t)\n"
     ]
    },
    {
     "name": "stdout",
     "output_type": "stream",
     "text": [
      "['../../data/CVRP/dataset/Vrp-Set-X/X-n317/X-n317-k53.vrp']\n",
      "[2024-04-01 11:31:27] CVRPTester.py(84) : >> Model loaded from result/maml_250000checkpts/checkpoint-250000.pt\n",
      "[2024-04-01 11:31:30] CVRPTester.py(225) : episode   1/  1, Elapsed[0.04m], Remain[0.00m], sol:78.355, score:80.419, aug_score:80.419\n",
      "[2024-04-01 11:31:30] CVRPTester.py(231) :  *** Test Done *** \n",
      "[2024-04-01 11:31:30] CVRPTester.py(232) :  NO-AUG SCORE: 80.4191, Gap: 2.6343 \n",
      "[2024-04-01 11:31:30] CVRPTester.py(233) :  AUGMENTATION SCORE: 80.4191, Gap: 2.6343 \n",
      "80.419 (2.634%)\n",
      "80.419 (2.634%)\n",
      ">> Evaluation on ../../data/CVRP/dataset/Vrp-Set-X/X-n317 finished within 2.15s\n",
      ">> Save final results to res/X-n317\n",
      "Test on \" ../../data/CVRP/dataset/Vrp-Set-X/X-n317 \" Success\n",
      "-----------------------------------------------------------------------------------------------------------------\n",
      "[2024-04-01 11:31:33] test.py(106) : DEBUG_MODE: False\n",
      "[2024-04-01 11:31:33] test.py(107) : USE_CUDA: True, CUDA_DEVICE_NUM: 0\n",
      "[2024-04-01 11:31:33] test.py(108) : env_params{'problem_size': 200, 'pomo_size': 200}\n",
      "[2024-04-01 11:31:33] test.py(108) : model_params{'embedding_dim': 128, 'sqrt_embedding_dim': 11.313708498984761, 'encoder_layer_num': 6, 'qkv_dim': 16, 'head_num': 8, 'logit_clipping': 10, 'ff_hidden_dim': 512, 'eval_type': 'argmax', 'norm': 'batch_no_track'}\n",
      "[2024-04-01 11:31:33] test.py(108) : tester_params{'use_cuda': True, 'cuda_device_num': 0, 'seed': 2024, 'model_load': {'path': 'result/maml_250000checkpts', 'epoch': 250000}, 'test_episodes': 1, 'test_batch_size': 1, 'augmentation_enable': True, 'test_robustness': False, 'aug_factor': 8, 'aug_batch_size': 1, 'test_set_path': '../../data/CVRP/dataset/Vrp-Set-X/X-n322', 'test_set_opt_sol_path': '../../data/CVRP/dataset/Vrp-Set-X/X-n322-sol', 'test_set_name': 'A-n33'}\n",
      "[2024-04-01 11:31:33] test.py(108) : fine_tune_params{'enable': False, 'fine_tune_episodes': 1000, 'k': 10, 'fine_tune_batch_size': 10, 'augmentation_enable': True, 'optimizer': {'lr': 1e-05, 'weight_decay': 1e-06}}\n",
      "[2024-04-01 11:31:33] test.py(108) : logger_params{'log_file': {'desc': 'test_cvrp', 'filename': 'log.txt', 'filepath': './result/20240401_113132_test_cvrp'}}\n"
     ]
    },
    {
     "name": "stderr",
     "output_type": "stream",
     "text": [
      "/home/xunj/miniconda3/lib/python3.11/site-packages/torch/__init__.py:614: UserWarning: torch.set_default_tensor_type() is deprecated as of PyTorch 2.1, please use torch.set_default_dtype() and torch.set_default_device() as alternatives. (Triggered internally at /opt/conda/conda-bld/pytorch_1699449183005/work/torch/csrc/tensor/python_tensor.cpp:451.)\n",
      "  _C._set_default_tensor_type(t)\n"
     ]
    },
    {
     "name": "stdout",
     "output_type": "stream",
     "text": [
      "['../../data/CVRP/dataset/Vrp-Set-X/X-n322/X-n322-k28.vrp']\n",
      "[2024-04-01 11:31:39] CVRPTester.py(84) : >> Model loaded from result/maml_250000checkpts/checkpoint-250000.pt\n",
      "[2024-04-01 11:31:41] CVRPTester.py(225) : episode   1/  1, Elapsed[0.03m], Remain[0.00m], sol:29.834, score:32.509, aug_score:31.707\n",
      "[2024-04-01 11:31:41] CVRPTester.py(231) :  *** Test Done *** \n",
      "[2024-04-01 11:31:41] CVRPTester.py(232) :  NO-AUG SCORE: 32.5089, Gap: 8.9659 \n",
      "[2024-04-01 11:31:41] CVRPTester.py(233) :  AUGMENTATION SCORE: 31.7067, Gap: 6.2769 \n",
      "32.509 (8.966%)\n",
      "31.707 (6.277%)\n",
      ">> Evaluation on ../../data/CVRP/dataset/Vrp-Set-X/X-n322 finished within 2.00s\n",
      ">> Save final results to res/X-n322\n",
      "Test on \" ../../data/CVRP/dataset/Vrp-Set-X/X-n322 \" Success\n",
      "-----------------------------------------------------------------------------------------------------------------\n",
      "[2024-04-01 11:31:44] test.py(106) : DEBUG_MODE: False\n",
      "[2024-04-01 11:31:44] test.py(107) : USE_CUDA: True, CUDA_DEVICE_NUM: 0\n",
      "[2024-04-01 11:31:44] test.py(108) : env_params{'problem_size': 200, 'pomo_size': 200}\n",
      "[2024-04-01 11:31:44] test.py(108) : model_params{'embedding_dim': 128, 'sqrt_embedding_dim': 11.313708498984761, 'encoder_layer_num': 6, 'qkv_dim': 16, 'head_num': 8, 'logit_clipping': 10, 'ff_hidden_dim': 512, 'eval_type': 'argmax', 'norm': 'batch_no_track'}\n",
      "[2024-04-01 11:31:44] test.py(108) : tester_params{'use_cuda': True, 'cuda_device_num': 0, 'seed': 2024, 'model_load': {'path': 'result/maml_250000checkpts', 'epoch': 250000}, 'test_episodes': 1, 'test_batch_size': 1, 'augmentation_enable': True, 'test_robustness': False, 'aug_factor': 8, 'aug_batch_size': 1, 'test_set_path': '../../data/CVRP/dataset/Vrp-Set-X/X-n327', 'test_set_opt_sol_path': '../../data/CVRP/dataset/Vrp-Set-X/X-n327-sol', 'test_set_name': 'A-n33'}\n",
      "[2024-04-01 11:31:44] test.py(108) : fine_tune_params{'enable': False, 'fine_tune_episodes': 1000, 'k': 10, 'fine_tune_batch_size': 10, 'augmentation_enable': True, 'optimizer': {'lr': 1e-05, 'weight_decay': 1e-06}}\n",
      "[2024-04-01 11:31:44] test.py(108) : logger_params{'log_file': {'desc': 'test_cvrp', 'filename': 'log.txt', 'filepath': './result/20240401_113144_test_cvrp'}}\n"
     ]
    },
    {
     "name": "stderr",
     "output_type": "stream",
     "text": [
      "/home/xunj/miniconda3/lib/python3.11/site-packages/torch/__init__.py:614: UserWarning: torch.set_default_tensor_type() is deprecated as of PyTorch 2.1, please use torch.set_default_dtype() and torch.set_default_device() as alternatives. (Triggered internally at /opt/conda/conda-bld/pytorch_1699449183005/work/torch/csrc/tensor/python_tensor.cpp:451.)\n",
      "  _C._set_default_tensor_type(t)\n"
     ]
    },
    {
     "name": "stdout",
     "output_type": "stream",
     "text": [
      "['../../data/CVRP/dataset/Vrp-Set-X/X-n327/X-n327-k20.vrp']\n",
      "[2024-04-01 11:31:51] CVRPTester.py(84) : >> Model loaded from result/maml_250000checkpts/checkpoint-250000.pt\n",
      "[2024-04-01 11:31:53] CVRPTester.py(225) : episode   1/  1, Elapsed[0.03m], Remain[0.00m], sol:27.532, score:28.997, aug_score:28.793\n",
      "[2024-04-01 11:31:53] CVRPTester.py(231) :  *** Test Done *** \n",
      "[2024-04-01 11:31:53] CVRPTester.py(232) :  NO-AUG SCORE: 28.9966, Gap: 5.3196 \n",
      "[2024-04-01 11:31:53] CVRPTester.py(233) :  AUGMENTATION SCORE: 28.7926, Gap: 4.5786 \n",
      "28.997 (5.320%)\n",
      "28.793 (4.579%)\n",
      ">> Evaluation on ../../data/CVRP/dataset/Vrp-Set-X/X-n327 finished within 2.09s\n",
      ">> Save final results to res/X-n327\n",
      "Test on \" ../../data/CVRP/dataset/Vrp-Set-X/X-n327 \" Success\n",
      "-----------------------------------------------------------------------------------------------------------------\n",
      "[2024-04-01 11:31:57] test.py(106) : DEBUG_MODE: False\n",
      "[2024-04-01 11:31:57] test.py(107) : USE_CUDA: True, CUDA_DEVICE_NUM: 0\n",
      "[2024-04-01 11:31:57] test.py(108) : env_params{'problem_size': 200, 'pomo_size': 200}\n",
      "[2024-04-01 11:31:57] test.py(108) : model_params{'embedding_dim': 128, 'sqrt_embedding_dim': 11.313708498984761, 'encoder_layer_num': 6, 'qkv_dim': 16, 'head_num': 8, 'logit_clipping': 10, 'ff_hidden_dim': 512, 'eval_type': 'argmax', 'norm': 'batch_no_track'}\n",
      "[2024-04-01 11:31:57] test.py(108) : tester_params{'use_cuda': True, 'cuda_device_num': 0, 'seed': 2024, 'model_load': {'path': 'result/maml_250000checkpts', 'epoch': 250000}, 'test_episodes': 1, 'test_batch_size': 1, 'augmentation_enable': True, 'test_robustness': False, 'aug_factor': 8, 'aug_batch_size': 1, 'test_set_path': '../../data/CVRP/dataset/Vrp-Set-X/X-n331', 'test_set_opt_sol_path': '../../data/CVRP/dataset/Vrp-Set-X/X-n331-sol', 'test_set_name': 'A-n33'}\n",
      "[2024-04-01 11:31:57] test.py(108) : fine_tune_params{'enable': False, 'fine_tune_episodes': 1000, 'k': 10, 'fine_tune_batch_size': 10, 'augmentation_enable': True, 'optimizer': {'lr': 1e-05, 'weight_decay': 1e-06}}\n",
      "[2024-04-01 11:31:57] test.py(108) : logger_params{'log_file': {'desc': 'test_cvrp', 'filename': 'log.txt', 'filepath': './result/20240401_113156_test_cvrp'}}\n"
     ]
    },
    {
     "name": "stderr",
     "output_type": "stream",
     "text": [
      "/home/xunj/miniconda3/lib/python3.11/site-packages/torch/__init__.py:614: UserWarning: torch.set_default_tensor_type() is deprecated as of PyTorch 2.1, please use torch.set_default_dtype() and torch.set_default_device() as alternatives. (Triggered internally at /opt/conda/conda-bld/pytorch_1699449183005/work/torch/csrc/tensor/python_tensor.cpp:451.)\n",
      "  _C._set_default_tensor_type(t)\n"
     ]
    },
    {
     "name": "stdout",
     "output_type": "stream",
     "text": [
      "['../../data/CVRP/dataset/Vrp-Set-X/X-n331/X-n331-k15.vrp']\n",
      "[2024-04-01 11:32:04] CVRPTester.py(84) : >> Model loaded from result/maml_250000checkpts/checkpoint-250000.pt\n",
      "[2024-04-01 11:32:06] CVRPTester.py(225) : episode   1/  1, Elapsed[0.03m], Remain[0.00m], sol:31.102, score:32.873, aug_score:32.460\n",
      "[2024-04-01 11:32:06] CVRPTester.py(231) :  *** Test Done *** \n",
      "[2024-04-01 11:32:06] CVRPTester.py(232) :  NO-AUG SCORE: 32.8727, Gap: 5.6933 \n",
      "[2024-04-01 11:32:06] CVRPTester.py(233) :  AUGMENTATION SCORE: 32.4605, Gap: 4.3678 \n",
      "32.873 (5.693%)\n",
      "32.460 (4.368%)\n",
      ">> Evaluation on ../../data/CVRP/dataset/Vrp-Set-X/X-n331 finished within 1.98s\n",
      ">> Save final results to res/X-n331\n",
      "Test on \" ../../data/CVRP/dataset/Vrp-Set-X/X-n331 \" Success\n",
      "-----------------------------------------------------------------------------------------------------------------\n",
      "[2024-04-01 11:32:09] test.py(106) : DEBUG_MODE: False\n",
      "[2024-04-01 11:32:09] test.py(107) : USE_CUDA: True, CUDA_DEVICE_NUM: 0\n",
      "[2024-04-01 11:32:09] test.py(108) : env_params{'problem_size': 200, 'pomo_size': 200}\n",
      "[2024-04-01 11:32:09] test.py(108) : model_params{'embedding_dim': 128, 'sqrt_embedding_dim': 11.313708498984761, 'encoder_layer_num': 6, 'qkv_dim': 16, 'head_num': 8, 'logit_clipping': 10, 'ff_hidden_dim': 512, 'eval_type': 'argmax', 'norm': 'batch_no_track'}\n",
      "[2024-04-01 11:32:09] test.py(108) : tester_params{'use_cuda': True, 'cuda_device_num': 0, 'seed': 2024, 'model_load': {'path': 'result/maml_250000checkpts', 'epoch': 250000}, 'test_episodes': 1, 'test_batch_size': 1, 'augmentation_enable': True, 'test_robustness': False, 'aug_factor': 8, 'aug_batch_size': 1, 'test_set_path': '../../data/CVRP/dataset/Vrp-Set-X/X-n336', 'test_set_opt_sol_path': '../../data/CVRP/dataset/Vrp-Set-X/X-n336-sol', 'test_set_name': 'A-n33'}\n",
      "[2024-04-01 11:32:09] test.py(108) : fine_tune_params{'enable': False, 'fine_tune_episodes': 1000, 'k': 10, 'fine_tune_batch_size': 10, 'augmentation_enable': True, 'optimizer': {'lr': 1e-05, 'weight_decay': 1e-06}}\n",
      "[2024-04-01 11:32:09] test.py(108) : logger_params{'log_file': {'desc': 'test_cvrp', 'filename': 'log.txt', 'filepath': './result/20240401_113209_test_cvrp'}}\n"
     ]
    },
    {
     "name": "stderr",
     "output_type": "stream",
     "text": [
      "/home/xunj/miniconda3/lib/python3.11/site-packages/torch/__init__.py:614: UserWarning: torch.set_default_tensor_type() is deprecated as of PyTorch 2.1, please use torch.set_default_dtype() and torch.set_default_device() as alternatives. (Triggered internally at /opt/conda/conda-bld/pytorch_1699449183005/work/torch/csrc/tensor/python_tensor.cpp:451.)\n",
      "  _C._set_default_tensor_type(t)\n"
     ]
    },
    {
     "name": "stdout",
     "output_type": "stream",
     "text": [
      "['../../data/CVRP/dataset/Vrp-Set-X/X-n336/X-n336-k84.vrp']\n",
      "[2024-04-01 11:32:15] CVRPTester.py(84) : >> Model loaded from result/maml_250000checkpts/checkpoint-250000.pt\n",
      "[2024-04-01 11:32:18] CVRPTester.py(225) : episode   1/  1, Elapsed[0.04m], Remain[0.00m], sol:139.111, score:149.720, aug_score:149.255\n",
      "[2024-04-01 11:32:18] CVRPTester.py(231) :  *** Test Done *** \n",
      "[2024-04-01 11:32:18] CVRPTester.py(232) :  NO-AUG SCORE: 149.7197, Gap: 7.6261 \n",
      "[2024-04-01 11:32:18] CVRPTester.py(233) :  AUGMENTATION SCORE: 149.2549, Gap: 7.2920 \n",
      "149.720 (7.626%)\n",
      "149.255 (7.292%)\n",
      ">> Evaluation on ../../data/CVRP/dataset/Vrp-Set-X/X-n336 finished within 2.16s\n",
      ">> Save final results to res/X-n336\n",
      "Test on \" ../../data/CVRP/dataset/Vrp-Set-X/X-n336 \" Success\n",
      "-----------------------------------------------------------------------------------------------------------------\n",
      "[2024-04-01 11:32:21] test.py(106) : DEBUG_MODE: False\n",
      "[2024-04-01 11:32:21] test.py(107) : USE_CUDA: True, CUDA_DEVICE_NUM: 0\n",
      "[2024-04-01 11:32:21] test.py(108) : env_params{'problem_size': 200, 'pomo_size': 200}\n",
      "[2024-04-01 11:32:21] test.py(108) : model_params{'embedding_dim': 128, 'sqrt_embedding_dim': 11.313708498984761, 'encoder_layer_num': 6, 'qkv_dim': 16, 'head_num': 8, 'logit_clipping': 10, 'ff_hidden_dim': 512, 'eval_type': 'argmax', 'norm': 'batch_no_track'}\n",
      "[2024-04-01 11:32:21] test.py(108) : tester_params{'use_cuda': True, 'cuda_device_num': 0, 'seed': 2024, 'model_load': {'path': 'result/maml_250000checkpts', 'epoch': 250000}, 'test_episodes': 1, 'test_batch_size': 1, 'augmentation_enable': True, 'test_robustness': False, 'aug_factor': 8, 'aug_batch_size': 1, 'test_set_path': '../../data/CVRP/dataset/Vrp-Set-X/X-n344', 'test_set_opt_sol_path': '../../data/CVRP/dataset/Vrp-Set-X/X-n344-sol', 'test_set_name': 'A-n33'}\n",
      "[2024-04-01 11:32:21] test.py(108) : fine_tune_params{'enable': False, 'fine_tune_episodes': 1000, 'k': 10, 'fine_tune_batch_size': 10, 'augmentation_enable': True, 'optimizer': {'lr': 1e-05, 'weight_decay': 1e-06}}\n",
      "[2024-04-01 11:32:21] test.py(108) : logger_params{'log_file': {'desc': 'test_cvrp', 'filename': 'log.txt', 'filepath': './result/20240401_113220_test_cvrp'}}\n"
     ]
    },
    {
     "name": "stderr",
     "output_type": "stream",
     "text": [
      "/home/xunj/miniconda3/lib/python3.11/site-packages/torch/__init__.py:614: UserWarning: torch.set_default_tensor_type() is deprecated as of PyTorch 2.1, please use torch.set_default_dtype() and torch.set_default_device() as alternatives. (Triggered internally at /opt/conda/conda-bld/pytorch_1699449183005/work/torch/csrc/tensor/python_tensor.cpp:451.)\n",
      "  _C._set_default_tensor_type(t)\n"
     ]
    },
    {
     "name": "stdout",
     "output_type": "stream",
     "text": [
      "['../../data/CVRP/dataset/Vrp-Set-X/X-n344/X-n344-k43.vrp']\n",
      "[2024-04-01 11:32:28] CVRPTester.py(84) : >> Model loaded from result/maml_250000checkpts/checkpoint-250000.pt\n",
      "[2024-04-01 11:32:30] CVRPTester.py(225) : episode   1/  1, Elapsed[0.03m], Remain[0.00m], sol:42.050, score:45.848, aug_score:45.252\n",
      "[2024-04-01 11:32:30] CVRPTester.py(231) :  *** Test Done *** \n",
      "[2024-04-01 11:32:30] CVRPTester.py(232) :  NO-AUG SCORE: 45.8475, Gap: 9.0310 \n",
      "[2024-04-01 11:32:30] CVRPTester.py(233) :  AUGMENTATION SCORE: 45.2520, Gap: 7.6149 \n",
      "45.848 (9.031%)\n",
      "45.252 (7.615%)\n",
      ">> Evaluation on ../../data/CVRP/dataset/Vrp-Set-X/X-n344 finished within 1.99s\n",
      ">> Save final results to res/X-n344\n",
      "Test on \" ../../data/CVRP/dataset/Vrp-Set-X/X-n344 \" Success\n",
      "-----------------------------------------------------------------------------------------------------------------\n",
      "[2024-04-01 11:32:33] test.py(106) : DEBUG_MODE: False\n",
      "[2024-04-01 11:32:33] test.py(107) : USE_CUDA: True, CUDA_DEVICE_NUM: 0\n",
      "[2024-04-01 11:32:33] test.py(108) : env_params{'problem_size': 200, 'pomo_size': 200}\n",
      "[2024-04-01 11:32:33] test.py(108) : model_params{'embedding_dim': 128, 'sqrt_embedding_dim': 11.313708498984761, 'encoder_layer_num': 6, 'qkv_dim': 16, 'head_num': 8, 'logit_clipping': 10, 'ff_hidden_dim': 512, 'eval_type': 'argmax', 'norm': 'batch_no_track'}\n",
      "[2024-04-01 11:32:33] test.py(108) : tester_params{'use_cuda': True, 'cuda_device_num': 0, 'seed': 2024, 'model_load': {'path': 'result/maml_250000checkpts', 'epoch': 250000}, 'test_episodes': 1, 'test_batch_size': 1, 'augmentation_enable': True, 'test_robustness': False, 'aug_factor': 8, 'aug_batch_size': 1, 'test_set_path': '../../data/CVRP/dataset/Vrp-Set-X/X-n351', 'test_set_opt_sol_path': '../../data/CVRP/dataset/Vrp-Set-X/X-n351-sol', 'test_set_name': 'A-n33'}\n",
      "[2024-04-01 11:32:33] test.py(108) : fine_tune_params{'enable': False, 'fine_tune_episodes': 1000, 'k': 10, 'fine_tune_batch_size': 10, 'augmentation_enable': True, 'optimizer': {'lr': 1e-05, 'weight_decay': 1e-06}}\n",
      "[2024-04-01 11:32:33] test.py(108) : logger_params{'log_file': {'desc': 'test_cvrp', 'filename': 'log.txt', 'filepath': './result/20240401_113233_test_cvrp'}}\n"
     ]
    },
    {
     "name": "stderr",
     "output_type": "stream",
     "text": [
      "/home/xunj/miniconda3/lib/python3.11/site-packages/torch/__init__.py:614: UserWarning: torch.set_default_tensor_type() is deprecated as of PyTorch 2.1, please use torch.set_default_dtype() and torch.set_default_device() as alternatives. (Triggered internally at /opt/conda/conda-bld/pytorch_1699449183005/work/torch/csrc/tensor/python_tensor.cpp:451.)\n",
      "  _C._set_default_tensor_type(t)\n"
     ]
    },
    {
     "name": "stdout",
     "output_type": "stream",
     "text": [
      "['../../data/CVRP/dataset/Vrp-Set-X/X-n351/X-n351-k40.vrp']\n",
      "[2024-04-01 11:32:40] CVRPTester.py(84) : >> Model loaded from result/maml_250000checkpts/checkpoint-250000.pt\n",
      "[2024-04-01 11:32:42] CVRPTester.py(225) : episode   1/  1, Elapsed[0.03m], Remain[0.00m], sol:25.896, score:28.010, aug_score:27.827\n",
      "[2024-04-01 11:32:42] CVRPTester.py(231) :  *** Test Done *** \n",
      "[2024-04-01 11:32:42] CVRPTester.py(232) :  NO-AUG SCORE: 28.0104, Gap: 8.1651 \n",
      "[2024-04-01 11:32:42] CVRPTester.py(233) :  AUGMENTATION SCORE: 27.8271, Gap: 7.4571 \n",
      "28.010 (8.165%)\n",
      "27.827 (7.457%)\n",
      ">> Evaluation on ../../data/CVRP/dataset/Vrp-Set-X/X-n351 finished within 1.91s\n",
      ">> Save final results to res/X-n351\n",
      "Test on \" ../../data/CVRP/dataset/Vrp-Set-X/X-n351 \" Success\n",
      "-----------------------------------------------------------------------------------------------------------------\n",
      "[2024-04-01 11:32:45] test.py(106) : DEBUG_MODE: False\n",
      "[2024-04-01 11:32:45] test.py(107) : USE_CUDA: True, CUDA_DEVICE_NUM: 0\n",
      "[2024-04-01 11:32:45] test.py(108) : env_params{'problem_size': 200, 'pomo_size': 200}\n",
      "[2024-04-01 11:32:45] test.py(108) : model_params{'embedding_dim': 128, 'sqrt_embedding_dim': 11.313708498984761, 'encoder_layer_num': 6, 'qkv_dim': 16, 'head_num': 8, 'logit_clipping': 10, 'ff_hidden_dim': 512, 'eval_type': 'argmax', 'norm': 'batch_no_track'}\n",
      "[2024-04-01 11:32:45] test.py(108) : tester_params{'use_cuda': True, 'cuda_device_num': 0, 'seed': 2024, 'model_load': {'path': 'result/maml_250000checkpts', 'epoch': 250000}, 'test_episodes': 1, 'test_batch_size': 1, 'augmentation_enable': True, 'test_robustness': False, 'aug_factor': 8, 'aug_batch_size': 1, 'test_set_path': '../../data/CVRP/dataset/Vrp-Set-X/X-n359', 'test_set_opt_sol_path': '../../data/CVRP/dataset/Vrp-Set-X/X-n359-sol', 'test_set_name': 'A-n33'}\n",
      "[2024-04-01 11:32:45] test.py(108) : fine_tune_params{'enable': False, 'fine_tune_episodes': 1000, 'k': 10, 'fine_tune_batch_size': 10, 'augmentation_enable': True, 'optimizer': {'lr': 1e-05, 'weight_decay': 1e-06}}\n",
      "[2024-04-01 11:32:45] test.py(108) : logger_params{'log_file': {'desc': 'test_cvrp', 'filename': 'log.txt', 'filepath': './result/20240401_113245_test_cvrp'}}\n"
     ]
    },
    {
     "name": "stderr",
     "output_type": "stream",
     "text": [
      "/home/xunj/miniconda3/lib/python3.11/site-packages/torch/__init__.py:614: UserWarning: torch.set_default_tensor_type() is deprecated as of PyTorch 2.1, please use torch.set_default_dtype() and torch.set_default_device() as alternatives. (Triggered internally at /opt/conda/conda-bld/pytorch_1699449183005/work/torch/csrc/tensor/python_tensor.cpp:451.)\n",
      "  _C._set_default_tensor_type(t)\n"
     ]
    },
    {
     "name": "stdout",
     "output_type": "stream",
     "text": [
      "['../../data/CVRP/dataset/Vrp-Set-X/X-n359/X-n359-k29.vrp']\n",
      "[2024-04-01 11:32:51] CVRPTester.py(84) : >> Model loaded from result/maml_250000checkpts/checkpoint-250000.pt\n",
      "[2024-04-01 11:32:54] CVRPTester.py(225) : episode   1/  1, Elapsed[0.03m], Remain[0.00m], sol:51.505, score:53.454, aug_score:53.454\n",
      "[2024-04-01 11:32:54] CVRPTester.py(231) :  *** Test Done *** \n",
      "[2024-04-01 11:32:54] CVRPTester.py(232) :  NO-AUG SCORE: 53.4544, Gap: 3.7850 \n",
      "[2024-04-01 11:32:54] CVRPTester.py(233) :  AUGMENTATION SCORE: 53.4544, Gap: 3.7850 \n",
      "53.454 (3.785%)\n",
      "53.454 (3.785%)\n",
      ">> Evaluation on ../../data/CVRP/dataset/Vrp-Set-X/X-n359 finished within 1.94s\n",
      ">> Save final results to res/X-n359\n",
      "Test on \" ../../data/CVRP/dataset/Vrp-Set-X/X-n359 \" Success\n",
      "-----------------------------------------------------------------------------------------------------------------\n",
      "[2024-04-01 11:32:57] test.py(106) : DEBUG_MODE: False\n",
      "[2024-04-01 11:32:57] test.py(107) : USE_CUDA: True, CUDA_DEVICE_NUM: 0\n",
      "[2024-04-01 11:32:57] test.py(108) : env_params{'problem_size': 200, 'pomo_size': 200}\n",
      "[2024-04-01 11:32:57] test.py(108) : model_params{'embedding_dim': 128, 'sqrt_embedding_dim': 11.313708498984761, 'encoder_layer_num': 6, 'qkv_dim': 16, 'head_num': 8, 'logit_clipping': 10, 'ff_hidden_dim': 512, 'eval_type': 'argmax', 'norm': 'batch_no_track'}\n",
      "[2024-04-01 11:32:57] test.py(108) : tester_params{'use_cuda': True, 'cuda_device_num': 0, 'seed': 2024, 'model_load': {'path': 'result/maml_250000checkpts', 'epoch': 250000}, 'test_episodes': 1, 'test_batch_size': 1, 'augmentation_enable': True, 'test_robustness': False, 'aug_factor': 8, 'aug_batch_size': 1, 'test_set_path': '../../data/CVRP/dataset/Vrp-Set-X/X-n367', 'test_set_opt_sol_path': '../../data/CVRP/dataset/Vrp-Set-X/X-n367-sol', 'test_set_name': 'A-n33'}\n",
      "[2024-04-01 11:32:57] test.py(108) : fine_tune_params{'enable': False, 'fine_tune_episodes': 1000, 'k': 10, 'fine_tune_batch_size': 10, 'augmentation_enable': True, 'optimizer': {'lr': 1e-05, 'weight_decay': 1e-06}}\n",
      "[2024-04-01 11:32:57] test.py(108) : logger_params{'log_file': {'desc': 'test_cvrp', 'filename': 'log.txt', 'filepath': './result/20240401_113256_test_cvrp'}}\n"
     ]
    },
    {
     "name": "stderr",
     "output_type": "stream",
     "text": [
      "/home/xunj/miniconda3/lib/python3.11/site-packages/torch/__init__.py:614: UserWarning: torch.set_default_tensor_type() is deprecated as of PyTorch 2.1, please use torch.set_default_dtype() and torch.set_default_device() as alternatives. (Triggered internally at /opt/conda/conda-bld/pytorch_1699449183005/work/torch/csrc/tensor/python_tensor.cpp:451.)\n",
      "  _C._set_default_tensor_type(t)\n"
     ]
    },
    {
     "name": "stdout",
     "output_type": "stream",
     "text": [
      "['../../data/CVRP/dataset/Vrp-Set-X/X-n367/X-n367-k17.vrp']\n",
      "[2024-04-01 11:33:03] CVRPTester.py(84) : >> Model loaded from result/maml_250000checkpts/checkpoint-250000.pt\n",
      "[2024-04-01 11:33:05] CVRPTester.py(225) : episode   1/  1, Elapsed[0.03m], Remain[0.00m], sol:22.814, score:24.615, aug_score:24.331\n",
      "[2024-04-01 11:33:05] CVRPTester.py(231) :  *** Test Done *** \n",
      "[2024-04-01 11:33:05] CVRPTester.py(232) :  NO-AUG SCORE: 24.6147, Gap: 7.8928 \n",
      "[2024-04-01 11:33:05] CVRPTester.py(233) :  AUGMENTATION SCORE: 24.3312, Gap: 6.6504 \n",
      "24.615 (7.893%)\n",
      "24.331 (6.650%)\n",
      ">> Evaluation on ../../data/CVRP/dataset/Vrp-Set-X/X-n367 finished within 1.97s\n",
      ">> Save final results to res/X-n367\n",
      "Test on \" ../../data/CVRP/dataset/Vrp-Set-X/X-n367 \" Success\n",
      "-----------------------------------------------------------------------------------------------------------------\n",
      "[2024-04-01 11:33:08] test.py(106) : DEBUG_MODE: False\n",
      "[2024-04-01 11:33:08] test.py(107) : USE_CUDA: True, CUDA_DEVICE_NUM: 0\n",
      "[2024-04-01 11:33:08] test.py(108) : env_params{'problem_size': 200, 'pomo_size': 200}\n",
      "[2024-04-01 11:33:08] test.py(108) : model_params{'embedding_dim': 128, 'sqrt_embedding_dim': 11.313708498984761, 'encoder_layer_num': 6, 'qkv_dim': 16, 'head_num': 8, 'logit_clipping': 10, 'ff_hidden_dim': 512, 'eval_type': 'argmax', 'norm': 'batch_no_track'}\n",
      "[2024-04-01 11:33:08] test.py(108) : tester_params{'use_cuda': True, 'cuda_device_num': 0, 'seed': 2024, 'model_load': {'path': 'result/maml_250000checkpts', 'epoch': 250000}, 'test_episodes': 1, 'test_batch_size': 1, 'augmentation_enable': True, 'test_robustness': False, 'aug_factor': 8, 'aug_batch_size': 1, 'test_set_path': '../../data/CVRP/dataset/Vrp-Set-X/X-n376', 'test_set_opt_sol_path': '../../data/CVRP/dataset/Vrp-Set-X/X-n376-sol', 'test_set_name': 'A-n33'}\n",
      "[2024-04-01 11:33:08] test.py(108) : fine_tune_params{'enable': False, 'fine_tune_episodes': 1000, 'k': 10, 'fine_tune_batch_size': 10, 'augmentation_enable': True, 'optimizer': {'lr': 1e-05, 'weight_decay': 1e-06}}\n",
      "[2024-04-01 11:33:08] test.py(108) : logger_params{'log_file': {'desc': 'test_cvrp', 'filename': 'log.txt', 'filepath': './result/20240401_113308_test_cvrp'}}\n"
     ]
    },
    {
     "name": "stderr",
     "output_type": "stream",
     "text": [
      "/home/xunj/miniconda3/lib/python3.11/site-packages/torch/__init__.py:614: UserWarning: torch.set_default_tensor_type() is deprecated as of PyTorch 2.1, please use torch.set_default_dtype() and torch.set_default_device() as alternatives. (Triggered internally at /opt/conda/conda-bld/pytorch_1699449183005/work/torch/csrc/tensor/python_tensor.cpp:451.)\n",
      "  _C._set_default_tensor_type(t)\n"
     ]
    },
    {
     "name": "stdout",
     "output_type": "stream",
     "text": [
      "['../../data/CVRP/dataset/Vrp-Set-X/X-n376/X-n376-k94.vrp']\n",
      "[2024-04-01 11:33:14] CVRPTester.py(84) : >> Model loaded from result/maml_250000checkpts/checkpoint-250000.pt\n",
      "[2024-04-01 11:33:17] CVRPTester.py(225) : episode   1/  1, Elapsed[0.04m], Remain[0.00m], sol:147.713, score:151.325, aug_score:151.325\n",
      "[2024-04-01 11:33:17] CVRPTester.py(231) :  *** Test Done *** \n",
      "[2024-04-01 11:33:17] CVRPTester.py(232) :  NO-AUG SCORE: 151.3247, Gap: 2.4451 \n",
      "[2024-04-01 11:33:17] CVRPTester.py(233) :  AUGMENTATION SCORE: 151.3247, Gap: 2.4451 \n",
      "151.325 (2.445%)\n",
      "151.325 (2.445%)\n",
      ">> Evaluation on ../../data/CVRP/dataset/Vrp-Set-X/X-n376 finished within 2.23s\n",
      ">> Save final results to res/X-n376\n",
      "Test on \" ../../data/CVRP/dataset/Vrp-Set-X/X-n376 \" Success\n",
      "-----------------------------------------------------------------------------------------------------------------\n",
      "[2024-04-01 11:33:20] test.py(106) : DEBUG_MODE: False\n",
      "[2024-04-01 11:33:20] test.py(107) : USE_CUDA: True, CUDA_DEVICE_NUM: 0\n",
      "[2024-04-01 11:33:20] test.py(108) : env_params{'problem_size': 200, 'pomo_size': 200}\n",
      "[2024-04-01 11:33:20] test.py(108) : model_params{'embedding_dim': 128, 'sqrt_embedding_dim': 11.313708498984761, 'encoder_layer_num': 6, 'qkv_dim': 16, 'head_num': 8, 'logit_clipping': 10, 'ff_hidden_dim': 512, 'eval_type': 'argmax', 'norm': 'batch_no_track'}\n",
      "[2024-04-01 11:33:20] test.py(108) : tester_params{'use_cuda': True, 'cuda_device_num': 0, 'seed': 2024, 'model_load': {'path': 'result/maml_250000checkpts', 'epoch': 250000}, 'test_episodes': 1, 'test_batch_size': 1, 'augmentation_enable': True, 'test_robustness': False, 'aug_factor': 8, 'aug_batch_size': 1, 'test_set_path': '../../data/CVRP/dataset/Vrp-Set-X/X-n384', 'test_set_opt_sol_path': '../../data/CVRP/dataset/Vrp-Set-X/X-n384-sol', 'test_set_name': 'A-n33'}\n",
      "[2024-04-01 11:33:20] test.py(108) : fine_tune_params{'enable': False, 'fine_tune_episodes': 1000, 'k': 10, 'fine_tune_batch_size': 10, 'augmentation_enable': True, 'optimizer': {'lr': 1e-05, 'weight_decay': 1e-06}}\n",
      "[2024-04-01 11:33:20] test.py(108) : logger_params{'log_file': {'desc': 'test_cvrp', 'filename': 'log.txt', 'filepath': './result/20240401_113320_test_cvrp'}}\n"
     ]
    },
    {
     "name": "stderr",
     "output_type": "stream",
     "text": [
      "/home/xunj/miniconda3/lib/python3.11/site-packages/torch/__init__.py:614: UserWarning: torch.set_default_tensor_type() is deprecated as of PyTorch 2.1, please use torch.set_default_dtype() and torch.set_default_device() as alternatives. (Triggered internally at /opt/conda/conda-bld/pytorch_1699449183005/work/torch/csrc/tensor/python_tensor.cpp:451.)\n",
      "  _C._set_default_tensor_type(t)\n"
     ]
    },
    {
     "name": "stdout",
     "output_type": "stream",
     "text": [
      "['../../data/CVRP/dataset/Vrp-Set-X/X-n384/X-n384-k52.vrp']\n",
      "[2024-04-01 11:33:26] CVRPTester.py(84) : >> Model loaded from result/maml_250000checkpts/checkpoint-250000.pt\n",
      "[2024-04-01 11:33:28] CVRPTester.py(225) : episode   1/  1, Elapsed[0.03m], Remain[0.00m], sol:65.940, score:71.006, aug_score:70.346\n",
      "[2024-04-01 11:33:28] CVRPTester.py(231) :  *** Test Done *** \n",
      "[2024-04-01 11:33:28] CVRPTester.py(232) :  NO-AUG SCORE: 71.0059, Gap: 7.6826 \n",
      "[2024-04-01 11:33:28] CVRPTester.py(233) :  AUGMENTATION SCORE: 70.3460, Gap: 6.6819 \n",
      "71.006 (7.683%)\n",
      "70.346 (6.682%)\n",
      ">> Evaluation on ../../data/CVRP/dataset/Vrp-Set-X/X-n384 finished within 2.04s\n",
      ">> Save final results to res/X-n384\n",
      "Test on \" ../../data/CVRP/dataset/Vrp-Set-X/X-n384 \" Success\n",
      "-----------------------------------------------------------------------------------------------------------------\n",
      "[2024-04-01 11:33:31] test.py(106) : DEBUG_MODE: False\n",
      "[2024-04-01 11:33:31] test.py(107) : USE_CUDA: True, CUDA_DEVICE_NUM: 0\n",
      "[2024-04-01 11:33:31] test.py(108) : env_params{'problem_size': 200, 'pomo_size': 200}\n",
      "[2024-04-01 11:33:31] test.py(108) : model_params{'embedding_dim': 128, 'sqrt_embedding_dim': 11.313708498984761, 'encoder_layer_num': 6, 'qkv_dim': 16, 'head_num': 8, 'logit_clipping': 10, 'ff_hidden_dim': 512, 'eval_type': 'argmax', 'norm': 'batch_no_track'}\n",
      "[2024-04-01 11:33:31] test.py(108) : tester_params{'use_cuda': True, 'cuda_device_num': 0, 'seed': 2024, 'model_load': {'path': 'result/maml_250000checkpts', 'epoch': 250000}, 'test_episodes': 1, 'test_batch_size': 1, 'augmentation_enable': True, 'test_robustness': False, 'aug_factor': 8, 'aug_batch_size': 1, 'test_set_path': '../../data/CVRP/dataset/Vrp-Set-X/X-n393', 'test_set_opt_sol_path': '../../data/CVRP/dataset/Vrp-Set-X/X-n393-sol', 'test_set_name': 'A-n33'}\n",
      "[2024-04-01 11:33:31] test.py(108) : fine_tune_params{'enable': False, 'fine_tune_episodes': 1000, 'k': 10, 'fine_tune_batch_size': 10, 'augmentation_enable': True, 'optimizer': {'lr': 1e-05, 'weight_decay': 1e-06}}\n",
      "[2024-04-01 11:33:31] test.py(108) : logger_params{'log_file': {'desc': 'test_cvrp', 'filename': 'log.txt', 'filepath': './result/20240401_113331_test_cvrp'}}\n"
     ]
    },
    {
     "name": "stderr",
     "output_type": "stream",
     "text": [
      "/home/xunj/miniconda3/lib/python3.11/site-packages/torch/__init__.py:614: UserWarning: torch.set_default_tensor_type() is deprecated as of PyTorch 2.1, please use torch.set_default_dtype() and torch.set_default_device() as alternatives. (Triggered internally at /opt/conda/conda-bld/pytorch_1699449183005/work/torch/csrc/tensor/python_tensor.cpp:451.)\n",
      "  _C._set_default_tensor_type(t)\n"
     ]
    },
    {
     "name": "stdout",
     "output_type": "stream",
     "text": [
      "['../../data/CVRP/dataset/Vrp-Set-X/X-n393/X-n393-k38.vrp']\n",
      "[2024-04-01 11:33:38] CVRPTester.py(84) : >> Model loaded from result/maml_250000checkpts/checkpoint-250000.pt\n",
      "[2024-04-01 11:33:40] CVRPTester.py(225) : episode   1/  1, Elapsed[0.04m], Remain[0.00m], sol:38.260, score:41.529, aug_score:40.924\n",
      "[2024-04-01 11:33:40] CVRPTester.py(231) :  *** Test Done *** \n",
      "[2024-04-01 11:33:40] CVRPTester.py(232) :  NO-AUG SCORE: 41.5294, Gap: 8.5452 \n",
      "[2024-04-01 11:33:40] CVRPTester.py(233) :  AUGMENTATION SCORE: 40.9236, Gap: 6.9617 \n",
      "41.529 (8.545%)\n",
      "40.924 (6.962%)\n",
      ">> Evaluation on ../../data/CVRP/dataset/Vrp-Set-X/X-n393 finished within 2.22s\n",
      ">> Save final results to res/X-n393\n",
      "Test on \" ../../data/CVRP/dataset/Vrp-Set-X/X-n393 \" Success\n",
      "-----------------------------------------------------------------------------------------------------------------\n",
      "[2024-04-01 11:33:43] test.py(106) : DEBUG_MODE: False\n",
      "[2024-04-01 11:33:43] test.py(107) : USE_CUDA: True, CUDA_DEVICE_NUM: 0\n",
      "[2024-04-01 11:33:43] test.py(108) : env_params{'problem_size': 200, 'pomo_size': 200}\n",
      "[2024-04-01 11:33:43] test.py(108) : model_params{'embedding_dim': 128, 'sqrt_embedding_dim': 11.313708498984761, 'encoder_layer_num': 6, 'qkv_dim': 16, 'head_num': 8, 'logit_clipping': 10, 'ff_hidden_dim': 512, 'eval_type': 'argmax', 'norm': 'batch_no_track'}\n",
      "[2024-04-01 11:33:43] test.py(108) : tester_params{'use_cuda': True, 'cuda_device_num': 0, 'seed': 2024, 'model_load': {'path': 'result/maml_250000checkpts', 'epoch': 250000}, 'test_episodes': 1, 'test_batch_size': 1, 'augmentation_enable': True, 'test_robustness': False, 'aug_factor': 8, 'aug_batch_size': 1, 'test_set_path': '../../data/CVRP/dataset/Vrp-Set-X/X-n401', 'test_set_opt_sol_path': '../../data/CVRP/dataset/Vrp-Set-X/X-n401-sol', 'test_set_name': 'A-n33'}\n",
      "[2024-04-01 11:33:43] test.py(108) : fine_tune_params{'enable': False, 'fine_tune_episodes': 1000, 'k': 10, 'fine_tune_batch_size': 10, 'augmentation_enable': True, 'optimizer': {'lr': 1e-05, 'weight_decay': 1e-06}}\n",
      "[2024-04-01 11:33:43] test.py(108) : logger_params{'log_file': {'desc': 'test_cvrp', 'filename': 'log.txt', 'filepath': './result/20240401_113343_test_cvrp'}}\n"
     ]
    },
    {
     "name": "stderr",
     "output_type": "stream",
     "text": [
      "/home/xunj/miniconda3/lib/python3.11/site-packages/torch/__init__.py:614: UserWarning: torch.set_default_tensor_type() is deprecated as of PyTorch 2.1, please use torch.set_default_dtype() and torch.set_default_device() as alternatives. (Triggered internally at /opt/conda/conda-bld/pytorch_1699449183005/work/torch/csrc/tensor/python_tensor.cpp:451.)\n",
      "  _C._set_default_tensor_type(t)\n"
     ]
    },
    {
     "name": "stdout",
     "output_type": "stream",
     "text": [
      "['../../data/CVRP/dataset/Vrp-Set-X/X-n401/X-n401-k29.vrp']\n",
      "[2024-04-01 11:33:49] CVRPTester.py(84) : >> Model loaded from result/maml_250000checkpts/checkpoint-250000.pt\n",
      "[2024-04-01 11:33:52] CVRPTester.py(225) : episode   1/  1, Elapsed[0.04m], Remain[0.00m], sol:66.154, score:68.084, aug_score:68.084\n",
      "[2024-04-01 11:33:52] CVRPTester.py(231) :  *** Test Done *** \n",
      "[2024-04-01 11:33:52] CVRPTester.py(232) :  NO-AUG SCORE: 68.0835, Gap: 2.9167 \n",
      "[2024-04-01 11:33:52] CVRPTester.py(233) :  AUGMENTATION SCORE: 68.0835, Gap: 2.9167 \n",
      "68.084 (2.917%)\n",
      "68.084 (2.917%)\n",
      ">> Evaluation on ../../data/CVRP/dataset/Vrp-Set-X/X-n401 finished within 2.18s\n",
      ">> Save final results to res/X-n401\n",
      "Test on \" ../../data/CVRP/dataset/Vrp-Set-X/X-n401 \" Success\n",
      "-----------------------------------------------------------------------------------------------------------------\n",
      "[2024-04-01 11:33:55] test.py(106) : DEBUG_MODE: False\n",
      "[2024-04-01 11:33:55] test.py(107) : USE_CUDA: True, CUDA_DEVICE_NUM: 0\n",
      "[2024-04-01 11:33:55] test.py(108) : env_params{'problem_size': 200, 'pomo_size': 200}\n",
      "[2024-04-01 11:33:55] test.py(108) : model_params{'embedding_dim': 128, 'sqrt_embedding_dim': 11.313708498984761, 'encoder_layer_num': 6, 'qkv_dim': 16, 'head_num': 8, 'logit_clipping': 10, 'ff_hidden_dim': 512, 'eval_type': 'argmax', 'norm': 'batch_no_track'}\n",
      "[2024-04-01 11:33:55] test.py(108) : tester_params{'use_cuda': True, 'cuda_device_num': 0, 'seed': 2024, 'model_load': {'path': 'result/maml_250000checkpts', 'epoch': 250000}, 'test_episodes': 1, 'test_batch_size': 1, 'augmentation_enable': True, 'test_robustness': False, 'aug_factor': 8, 'aug_batch_size': 1, 'test_set_path': '../../data/CVRP/dataset/Vrp-Set-X/X-n411', 'test_set_opt_sol_path': '../../data/CVRP/dataset/Vrp-Set-X/X-n411-sol', 'test_set_name': 'A-n33'}\n",
      "[2024-04-01 11:33:55] test.py(108) : fine_tune_params{'enable': False, 'fine_tune_episodes': 1000, 'k': 10, 'fine_tune_batch_size': 10, 'augmentation_enable': True, 'optimizer': {'lr': 1e-05, 'weight_decay': 1e-06}}\n",
      "[2024-04-01 11:33:55] test.py(108) : logger_params{'log_file': {'desc': 'test_cvrp', 'filename': 'log.txt', 'filepath': './result/20240401_113354_test_cvrp'}}\n"
     ]
    },
    {
     "name": "stderr",
     "output_type": "stream",
     "text": [
      "/home/xunj/miniconda3/lib/python3.11/site-packages/torch/__init__.py:614: UserWarning: torch.set_default_tensor_type() is deprecated as of PyTorch 2.1, please use torch.set_default_dtype() and torch.set_default_device() as alternatives. (Triggered internally at /opt/conda/conda-bld/pytorch_1699449183005/work/torch/csrc/tensor/python_tensor.cpp:451.)\n",
      "  _C._set_default_tensor_type(t)\n"
     ]
    },
    {
     "name": "stdout",
     "output_type": "stream",
     "text": [
      "['../../data/CVRP/dataset/Vrp-Set-X/X-n411/X-n411-k19.vrp']\n",
      "[2024-04-01 11:34:01] CVRPTester.py(84) : >> Model loaded from result/maml_250000checkpts/checkpoint-250000.pt\n",
      "[2024-04-01 11:34:03] CVRPTester.py(225) : episode   1/  1, Elapsed[0.04m], Remain[0.00m], sol:19.712, score:21.478, aug_score:21.319\n",
      "[2024-04-01 11:34:03] CVRPTester.py(231) :  *** Test Done *** \n",
      "[2024-04-01 11:34:03] CVRPTester.py(232) :  NO-AUG SCORE: 21.4776, Gap: 8.9569 \n",
      "[2024-04-01 11:34:03] CVRPTester.py(233) :  AUGMENTATION SCORE: 21.3189, Gap: 8.1518 \n",
      "21.478 (8.957%)\n",
      "21.319 (8.152%)\n",
      ">> Evaluation on ../../data/CVRP/dataset/Vrp-Set-X/X-n411 finished within 2.20s\n",
      ">> Save final results to res/X-n411\n",
      "Test on \" ../../data/CVRP/dataset/Vrp-Set-X/X-n411 \" Success\n",
      "-----------------------------------------------------------------------------------------------------------------\n",
      "[2024-04-01 11:34:07] test.py(106) : DEBUG_MODE: False\n",
      "[2024-04-01 11:34:07] test.py(107) : USE_CUDA: True, CUDA_DEVICE_NUM: 0\n",
      "[2024-04-01 11:34:07] test.py(108) : env_params{'problem_size': 200, 'pomo_size': 200}\n",
      "[2024-04-01 11:34:07] test.py(108) : model_params{'embedding_dim': 128, 'sqrt_embedding_dim': 11.313708498984761, 'encoder_layer_num': 6, 'qkv_dim': 16, 'head_num': 8, 'logit_clipping': 10, 'ff_hidden_dim': 512, 'eval_type': 'argmax', 'norm': 'batch_no_track'}\n",
      "[2024-04-01 11:34:07] test.py(108) : tester_params{'use_cuda': True, 'cuda_device_num': 0, 'seed': 2024, 'model_load': {'path': 'result/maml_250000checkpts', 'epoch': 250000}, 'test_episodes': 1, 'test_batch_size': 1, 'augmentation_enable': True, 'test_robustness': False, 'aug_factor': 8, 'aug_batch_size': 1, 'test_set_path': '../../data/CVRP/dataset/Vrp-Set-X/X-n420', 'test_set_opt_sol_path': '../../data/CVRP/dataset/Vrp-Set-X/X-n420-sol', 'test_set_name': 'A-n33'}\n",
      "[2024-04-01 11:34:07] test.py(108) : fine_tune_params{'enable': False, 'fine_tune_episodes': 1000, 'k': 10, 'fine_tune_batch_size': 10, 'augmentation_enable': True, 'optimizer': {'lr': 1e-05, 'weight_decay': 1e-06}}\n",
      "[2024-04-01 11:34:07] test.py(108) : logger_params{'log_file': {'desc': 'test_cvrp', 'filename': 'log.txt', 'filepath': './result/20240401_113406_test_cvrp'}}\n"
     ]
    },
    {
     "name": "stderr",
     "output_type": "stream",
     "text": [
      "/home/xunj/miniconda3/lib/python3.11/site-packages/torch/__init__.py:614: UserWarning: torch.set_default_tensor_type() is deprecated as of PyTorch 2.1, please use torch.set_default_dtype() and torch.set_default_device() as alternatives. (Triggered internally at /opt/conda/conda-bld/pytorch_1699449183005/work/torch/csrc/tensor/python_tensor.cpp:451.)\n",
      "  _C._set_default_tensor_type(t)\n"
     ]
    },
    {
     "name": "stdout",
     "output_type": "stream",
     "text": [
      "['../../data/CVRP/dataset/Vrp-Set-X/X-n420/X-n420-k130.vrp']\n",
      "[2024-04-01 11:34:13] CVRPTester.py(84) : >> Model loaded from result/maml_250000checkpts/checkpoint-250000.pt\n",
      "[2024-04-01 11:34:16] CVRPTester.py(225) : episode   1/  1, Elapsed[0.04m], Remain[0.00m], sol:107.798, score:116.762, aug_score:116.589\n",
      "[2024-04-01 11:34:16] CVRPTester.py(231) :  *** Test Done *** \n",
      "[2024-04-01 11:34:16] CVRPTester.py(232) :  NO-AUG SCORE: 116.7616, Gap: 8.3152 \n",
      "[2024-04-01 11:34:16] CVRPTester.py(233) :  AUGMENTATION SCORE: 116.5886, Gap: 8.1547 \n",
      "116.762 (8.315%)\n",
      "116.589 (8.155%)\n",
      ">> Evaluation on ../../data/CVRP/dataset/Vrp-Set-X/X-n420 finished within 2.51s\n",
      ">> Save final results to res/X-n420\n",
      "Test on \" ../../data/CVRP/dataset/Vrp-Set-X/X-n420 \" Success\n",
      "-----------------------------------------------------------------------------------------------------------------\n",
      "[2024-04-01 11:34:19] test.py(106) : DEBUG_MODE: False\n",
      "[2024-04-01 11:34:19] test.py(107) : USE_CUDA: True, CUDA_DEVICE_NUM: 0\n",
      "[2024-04-01 11:34:19] test.py(108) : env_params{'problem_size': 200, 'pomo_size': 200}\n",
      "[2024-04-01 11:34:19] test.py(108) : model_params{'embedding_dim': 128, 'sqrt_embedding_dim': 11.313708498984761, 'encoder_layer_num': 6, 'qkv_dim': 16, 'head_num': 8, 'logit_clipping': 10, 'ff_hidden_dim': 512, 'eval_type': 'argmax', 'norm': 'batch_no_track'}\n",
      "[2024-04-01 11:34:19] test.py(108) : tester_params{'use_cuda': True, 'cuda_device_num': 0, 'seed': 2024, 'model_load': {'path': 'result/maml_250000checkpts', 'epoch': 250000}, 'test_episodes': 1, 'test_batch_size': 1, 'augmentation_enable': True, 'test_robustness': False, 'aug_factor': 8, 'aug_batch_size': 1, 'test_set_path': '../../data/CVRP/dataset/Vrp-Set-X/X-n429', 'test_set_opt_sol_path': '../../data/CVRP/dataset/Vrp-Set-X/X-n429-sol', 'test_set_name': 'A-n33'}\n",
      "[2024-04-01 11:34:19] test.py(108) : fine_tune_params{'enable': False, 'fine_tune_episodes': 1000, 'k': 10, 'fine_tune_batch_size': 10, 'augmentation_enable': True, 'optimizer': {'lr': 1e-05, 'weight_decay': 1e-06}}\n",
      "[2024-04-01 11:34:19] test.py(108) : logger_params{'log_file': {'desc': 'test_cvrp', 'filename': 'log.txt', 'filepath': './result/20240401_113418_test_cvrp'}}\n"
     ]
    },
    {
     "name": "stderr",
     "output_type": "stream",
     "text": [
      "/home/xunj/miniconda3/lib/python3.11/site-packages/torch/__init__.py:614: UserWarning: torch.set_default_tensor_type() is deprecated as of PyTorch 2.1, please use torch.set_default_dtype() and torch.set_default_device() as alternatives. (Triggered internally at /opt/conda/conda-bld/pytorch_1699449183005/work/torch/csrc/tensor/python_tensor.cpp:451.)\n",
      "  _C._set_default_tensor_type(t)\n"
     ]
    },
    {
     "name": "stdout",
     "output_type": "stream",
     "text": [
      "['../../data/CVRP/dataset/Vrp-Set-X/X-n429/X-n429-k61.vrp']\n",
      "[2024-04-01 11:34:25] CVRPTester.py(84) : >> Model loaded from result/maml_250000checkpts/checkpoint-250000.pt\n",
      "[2024-04-01 11:34:27] CVRPTester.py(225) : episode   1/  1, Elapsed[0.04m], Remain[0.00m], sol:65.449, score:70.657, aug_score:70.465\n",
      "[2024-04-01 11:34:27] CVRPTester.py(231) :  *** Test Done *** \n",
      "[2024-04-01 11:34:27] CVRPTester.py(232) :  NO-AUG SCORE: 70.6573, Gap: 7.9579 \n",
      "[2024-04-01 11:34:27] CVRPTester.py(233) :  AUGMENTATION SCORE: 70.4652, Gap: 7.6643 \n",
      "70.657 (7.958%)\n",
      "70.465 (7.664%)\n",
      ">> Evaluation on ../../data/CVRP/dataset/Vrp-Set-X/X-n429 finished within 2.49s\n",
      ">> Save final results to res/X-n429\n",
      "Test on \" ../../data/CVRP/dataset/Vrp-Set-X/X-n429 \" Success\n",
      "-----------------------------------------------------------------------------------------------------------------\n",
      "[2024-04-01 11:34:31] test.py(106) : DEBUG_MODE: False\n",
      "[2024-04-01 11:34:31] test.py(107) : USE_CUDA: True, CUDA_DEVICE_NUM: 0\n",
      "[2024-04-01 11:34:31] test.py(108) : env_params{'problem_size': 200, 'pomo_size': 200}\n",
      "[2024-04-01 11:34:31] test.py(108) : model_params{'embedding_dim': 128, 'sqrt_embedding_dim': 11.313708498984761, 'encoder_layer_num': 6, 'qkv_dim': 16, 'head_num': 8, 'logit_clipping': 10, 'ff_hidden_dim': 512, 'eval_type': 'argmax', 'norm': 'batch_no_track'}\n",
      "[2024-04-01 11:34:31] test.py(108) : tester_params{'use_cuda': True, 'cuda_device_num': 0, 'seed': 2024, 'model_load': {'path': 'result/maml_250000checkpts', 'epoch': 250000}, 'test_episodes': 1, 'test_batch_size': 1, 'augmentation_enable': True, 'test_robustness': False, 'aug_factor': 8, 'aug_batch_size': 1, 'test_set_path': '../../data/CVRP/dataset/Vrp-Set-X/X-n439', 'test_set_opt_sol_path': '../../data/CVRP/dataset/Vrp-Set-X/X-n439-sol', 'test_set_name': 'A-n33'}\n",
      "[2024-04-01 11:34:31] test.py(108) : fine_tune_params{'enable': False, 'fine_tune_episodes': 1000, 'k': 10, 'fine_tune_batch_size': 10, 'augmentation_enable': True, 'optimizer': {'lr': 1e-05, 'weight_decay': 1e-06}}\n",
      "[2024-04-01 11:34:31] test.py(108) : logger_params{'log_file': {'desc': 'test_cvrp', 'filename': 'log.txt', 'filepath': './result/20240401_113430_test_cvrp'}}\n"
     ]
    },
    {
     "name": "stderr",
     "output_type": "stream",
     "text": [
      "/home/xunj/miniconda3/lib/python3.11/site-packages/torch/__init__.py:614: UserWarning: torch.set_default_tensor_type() is deprecated as of PyTorch 2.1, please use torch.set_default_dtype() and torch.set_default_device() as alternatives. (Triggered internally at /opt/conda/conda-bld/pytorch_1699449183005/work/torch/csrc/tensor/python_tensor.cpp:451.)\n",
      "  _C._set_default_tensor_type(t)\n"
     ]
    },
    {
     "name": "stdout",
     "output_type": "stream",
     "text": [
      "['../../data/CVRP/dataset/Vrp-Set-X/X-n439/X-n439-k37.vrp']\n",
      "[2024-04-01 11:34:37] CVRPTester.py(84) : >> Model loaded from result/maml_250000checkpts/checkpoint-250000.pt\n",
      "[2024-04-01 11:34:39] CVRPTester.py(225) : episode   1/  1, Elapsed[0.04m], Remain[0.00m], sol:36.391, score:39.058, aug_score:39.058\n",
      "[2024-04-01 11:34:39] CVRPTester.py(231) :  *** Test Done *** \n",
      "[2024-04-01 11:34:39] CVRPTester.py(232) :  NO-AUG SCORE: 39.0577, Gap: 7.3279 \n",
      "[2024-04-01 11:34:39] CVRPTester.py(233) :  AUGMENTATION SCORE: 39.0577, Gap: 7.3279 \n",
      "39.058 (7.328%)\n",
      "39.058 (7.328%)\n",
      ">> Evaluation on ../../data/CVRP/dataset/Vrp-Set-X/X-n439 finished within 2.19s\n",
      ">> Save final results to res/X-n439\n",
      "Test on \" ../../data/CVRP/dataset/Vrp-Set-X/X-n439 \" Success\n",
      "-----------------------------------------------------------------------------------------------------------------\n",
      "[2024-04-01 11:34:42] test.py(106) : DEBUG_MODE: False\n",
      "[2024-04-01 11:34:42] test.py(107) : USE_CUDA: True, CUDA_DEVICE_NUM: 0\n",
      "[2024-04-01 11:34:42] test.py(108) : env_params{'problem_size': 200, 'pomo_size': 200}\n",
      "[2024-04-01 11:34:42] test.py(108) : model_params{'embedding_dim': 128, 'sqrt_embedding_dim': 11.313708498984761, 'encoder_layer_num': 6, 'qkv_dim': 16, 'head_num': 8, 'logit_clipping': 10, 'ff_hidden_dim': 512, 'eval_type': 'argmax', 'norm': 'batch_no_track'}\n",
      "[2024-04-01 11:34:42] test.py(108) : tester_params{'use_cuda': True, 'cuda_device_num': 0, 'seed': 2024, 'model_load': {'path': 'result/maml_250000checkpts', 'epoch': 250000}, 'test_episodes': 1, 'test_batch_size': 1, 'augmentation_enable': True, 'test_robustness': False, 'aug_factor': 8, 'aug_batch_size': 1, 'test_set_path': '../../data/CVRP/dataset/Vrp-Set-X/X-n449', 'test_set_opt_sol_path': '../../data/CVRP/dataset/Vrp-Set-X/X-n449-sol', 'test_set_name': 'A-n33'}\n",
      "[2024-04-01 11:34:42] test.py(108) : fine_tune_params{'enable': False, 'fine_tune_episodes': 1000, 'k': 10, 'fine_tune_batch_size': 10, 'augmentation_enable': True, 'optimizer': {'lr': 1e-05, 'weight_decay': 1e-06}}\n",
      "[2024-04-01 11:34:42] test.py(108) : logger_params{'log_file': {'desc': 'test_cvrp', 'filename': 'log.txt', 'filepath': './result/20240401_113442_test_cvrp'}}\n"
     ]
    },
    {
     "name": "stderr",
     "output_type": "stream",
     "text": [
      "/home/xunj/miniconda3/lib/python3.11/site-packages/torch/__init__.py:614: UserWarning: torch.set_default_tensor_type() is deprecated as of PyTorch 2.1, please use torch.set_default_dtype() and torch.set_default_device() as alternatives. (Triggered internally at /opt/conda/conda-bld/pytorch_1699449183005/work/torch/csrc/tensor/python_tensor.cpp:451.)\n",
      "  _C._set_default_tensor_type(t)\n"
     ]
    },
    {
     "name": "stdout",
     "output_type": "stream",
     "text": [
      "['../../data/CVRP/dataset/Vrp-Set-X/X-n449/X-n449-k29.vrp']\n",
      "[2024-04-01 11:34:49] CVRPTester.py(84) : >> Model loaded from result/maml_250000checkpts/checkpoint-250000.pt\n",
      "[2024-04-01 11:34:51] CVRPTester.py(225) : episode   1/  1, Elapsed[0.04m], Remain[0.00m], sol:55.233, score:58.192, aug_score:58.145\n",
      "[2024-04-01 11:34:51] CVRPTester.py(231) :  *** Test Done *** \n",
      "[2024-04-01 11:34:51] CVRPTester.py(232) :  NO-AUG SCORE: 58.1917, Gap: 5.3568 \n",
      "[2024-04-01 11:34:51] CVRPTester.py(233) :  AUGMENTATION SCORE: 58.1451, Gap: 5.2724 \n",
      "58.192 (5.357%)\n",
      "58.145 (5.272%)\n",
      ">> Evaluation on ../../data/CVRP/dataset/Vrp-Set-X/X-n449 finished within 2.22s\n",
      ">> Save final results to res/X-n449\n",
      "Test on \" ../../data/CVRP/dataset/Vrp-Set-X/X-n449 \" Success\n",
      "-----------------------------------------------------------------------------------------------------------------\n",
      "[2024-04-01 11:34:54] test.py(106) : DEBUG_MODE: False\n",
      "[2024-04-01 11:34:54] test.py(107) : USE_CUDA: True, CUDA_DEVICE_NUM: 0\n",
      "[2024-04-01 11:34:54] test.py(108) : env_params{'problem_size': 200, 'pomo_size': 200}\n",
      "[2024-04-01 11:34:54] test.py(108) : model_params{'embedding_dim': 128, 'sqrt_embedding_dim': 11.313708498984761, 'encoder_layer_num': 6, 'qkv_dim': 16, 'head_num': 8, 'logit_clipping': 10, 'ff_hidden_dim': 512, 'eval_type': 'argmax', 'norm': 'batch_no_track'}\n",
      "[2024-04-01 11:34:54] test.py(108) : tester_params{'use_cuda': True, 'cuda_device_num': 0, 'seed': 2024, 'model_load': {'path': 'result/maml_250000checkpts', 'epoch': 250000}, 'test_episodes': 1, 'test_batch_size': 1, 'augmentation_enable': True, 'test_robustness': False, 'aug_factor': 8, 'aug_batch_size': 1, 'test_set_path': '../../data/CVRP/dataset/Vrp-Set-X/X-n459', 'test_set_opt_sol_path': '../../data/CVRP/dataset/Vrp-Set-X/X-n459-sol', 'test_set_name': 'A-n33'}\n",
      "[2024-04-01 11:34:54] test.py(108) : fine_tune_params{'enable': False, 'fine_tune_episodes': 1000, 'k': 10, 'fine_tune_batch_size': 10, 'augmentation_enable': True, 'optimizer': {'lr': 1e-05, 'weight_decay': 1e-06}}\n",
      "[2024-04-01 11:34:54] test.py(108) : logger_params{'log_file': {'desc': 'test_cvrp', 'filename': 'log.txt', 'filepath': './result/20240401_113454_test_cvrp'}}\n"
     ]
    },
    {
     "name": "stderr",
     "output_type": "stream",
     "text": [
      "/home/xunj/miniconda3/lib/python3.11/site-packages/torch/__init__.py:614: UserWarning: torch.set_default_tensor_type() is deprecated as of PyTorch 2.1, please use torch.set_default_dtype() and torch.set_default_device() as alternatives. (Triggered internally at /opt/conda/conda-bld/pytorch_1699449183005/work/torch/csrc/tensor/python_tensor.cpp:451.)\n",
      "  _C._set_default_tensor_type(t)\n"
     ]
    },
    {
     "name": "stdout",
     "output_type": "stream",
     "text": [
      "['../../data/CVRP/dataset/Vrp-Set-X/X-n459/X-n459-k26.vrp']\n",
      "[2024-04-01 11:35:00] CVRPTester.py(84) : >> Model loaded from result/maml_250000checkpts/checkpoint-250000.pt\n",
      "[2024-04-01 11:35:02] CVRPTester.py(225) : episode   1/  1, Elapsed[0.04m], Remain[0.00m], sol:24.139, score:25.926, aug_score:25.597\n",
      "[2024-04-01 11:35:02] CVRPTester.py(231) :  *** Test Done *** \n",
      "[2024-04-01 11:35:02] CVRPTester.py(232) :  NO-AUG SCORE: 25.9262, Gap: 7.4038 \n",
      "[2024-04-01 11:35:02] CVRPTester.py(233) :  AUGMENTATION SCORE: 25.5965, Gap: 6.0380 \n",
      "25.926 (7.404%)\n",
      "25.597 (6.038%)\n",
      ">> Evaluation on ../../data/CVRP/dataset/Vrp-Set-X/X-n459 finished within 2.22s\n",
      ">> Save final results to res/X-n459\n",
      "Test on \" ../../data/CVRP/dataset/Vrp-Set-X/X-n459 \" Success\n",
      "-----------------------------------------------------------------------------------------------------------------\n",
      "[2024-04-01 11:35:06] test.py(106) : DEBUG_MODE: False\n",
      "[2024-04-01 11:35:06] test.py(107) : USE_CUDA: True, CUDA_DEVICE_NUM: 0\n",
      "[2024-04-01 11:35:06] test.py(108) : env_params{'problem_size': 200, 'pomo_size': 200}\n",
      "[2024-04-01 11:35:06] test.py(108) : model_params{'embedding_dim': 128, 'sqrt_embedding_dim': 11.313708498984761, 'encoder_layer_num': 6, 'qkv_dim': 16, 'head_num': 8, 'logit_clipping': 10, 'ff_hidden_dim': 512, 'eval_type': 'argmax', 'norm': 'batch_no_track'}\n",
      "[2024-04-01 11:35:06] test.py(108) : tester_params{'use_cuda': True, 'cuda_device_num': 0, 'seed': 2024, 'model_load': {'path': 'result/maml_250000checkpts', 'epoch': 250000}, 'test_episodes': 1, 'test_batch_size': 1, 'augmentation_enable': True, 'test_robustness': False, 'aug_factor': 8, 'aug_batch_size': 1, 'test_set_path': '../../data/CVRP/dataset/Vrp-Set-X/X-n469', 'test_set_opt_sol_path': '../../data/CVRP/dataset/Vrp-Set-X/X-n469-sol', 'test_set_name': 'A-n33'}\n",
      "[2024-04-01 11:35:06] test.py(108) : fine_tune_params{'enable': False, 'fine_tune_episodes': 1000, 'k': 10, 'fine_tune_batch_size': 10, 'augmentation_enable': True, 'optimizer': {'lr': 1e-05, 'weight_decay': 1e-06}}\n",
      "[2024-04-01 11:35:06] test.py(108) : logger_params{'log_file': {'desc': 'test_cvrp', 'filename': 'log.txt', 'filepath': './result/20240401_113505_test_cvrp'}}\n"
     ]
    },
    {
     "name": "stderr",
     "output_type": "stream",
     "text": [
      "/home/xunj/miniconda3/lib/python3.11/site-packages/torch/__init__.py:614: UserWarning: torch.set_default_tensor_type() is deprecated as of PyTorch 2.1, please use torch.set_default_dtype() and torch.set_default_device() as alternatives. (Triggered internally at /opt/conda/conda-bld/pytorch_1699449183005/work/torch/csrc/tensor/python_tensor.cpp:451.)\n",
      "  _C._set_default_tensor_type(t)\n"
     ]
    },
    {
     "name": "stdout",
     "output_type": "stream",
     "text": [
      "['../../data/CVRP/dataset/Vrp-Set-X/X-n469/X-n469-k138.vrp']\n",
      "[2024-04-01 11:35:12] CVRPTester.py(84) : >> Model loaded from result/maml_250000checkpts/checkpoint-250000.pt\n",
      "[2024-04-01 11:35:14] CVRPTester.py(225) : episode   1/  1, Elapsed[0.04m], Remain[0.00m], sol:221.824, score:238.504, aug_score:236.852\n",
      "[2024-04-01 11:35:14] CVRPTester.py(231) :  *** Test Done *** \n",
      "[2024-04-01 11:35:14] CVRPTester.py(232) :  NO-AUG SCORE: 238.5044, Gap: 7.5197 \n",
      "[2024-04-01 11:35:14] CVRPTester.py(233) :  AUGMENTATION SCORE: 236.8524, Gap: 6.7749 \n",
      "238.504 (7.520%)\n",
      "236.852 (6.775%)\n",
      ">> Evaluation on ../../data/CVRP/dataset/Vrp-Set-X/X-n469 finished within 2.45s\n",
      ">> Save final results to res/X-n469\n",
      "Test on \" ../../data/CVRP/dataset/Vrp-Set-X/X-n469 \" Success\n",
      "-----------------------------------------------------------------------------------------------------------------\n",
      "[2024-04-01 11:35:18] test.py(106) : DEBUG_MODE: False\n",
      "[2024-04-01 11:35:18] test.py(107) : USE_CUDA: True, CUDA_DEVICE_NUM: 0\n",
      "[2024-04-01 11:35:18] test.py(108) : env_params{'problem_size': 200, 'pomo_size': 200}\n",
      "[2024-04-01 11:35:18] test.py(108) : model_params{'embedding_dim': 128, 'sqrt_embedding_dim': 11.313708498984761, 'encoder_layer_num': 6, 'qkv_dim': 16, 'head_num': 8, 'logit_clipping': 10, 'ff_hidden_dim': 512, 'eval_type': 'argmax', 'norm': 'batch_no_track'}\n",
      "[2024-04-01 11:35:18] test.py(108) : tester_params{'use_cuda': True, 'cuda_device_num': 0, 'seed': 2024, 'model_load': {'path': 'result/maml_250000checkpts', 'epoch': 250000}, 'test_episodes': 1, 'test_batch_size': 1, 'augmentation_enable': True, 'test_robustness': False, 'aug_factor': 8, 'aug_batch_size': 1, 'test_set_path': '../../data/CVRP/dataset/Vrp-Set-X/X-n480', 'test_set_opt_sol_path': '../../data/CVRP/dataset/Vrp-Set-X/X-n480-sol', 'test_set_name': 'A-n33'}\n",
      "[2024-04-01 11:35:18] test.py(108) : fine_tune_params{'enable': False, 'fine_tune_episodes': 1000, 'k': 10, 'fine_tune_batch_size': 10, 'augmentation_enable': True, 'optimizer': {'lr': 1e-05, 'weight_decay': 1e-06}}\n",
      "[2024-04-01 11:35:18] test.py(108) : logger_params{'log_file': {'desc': 'test_cvrp', 'filename': 'log.txt', 'filepath': './result/20240401_113517_test_cvrp'}}\n"
     ]
    },
    {
     "name": "stderr",
     "output_type": "stream",
     "text": [
      "/home/xunj/miniconda3/lib/python3.11/site-packages/torch/__init__.py:614: UserWarning: torch.set_default_tensor_type() is deprecated as of PyTorch 2.1, please use torch.set_default_dtype() and torch.set_default_device() as alternatives. (Triggered internally at /opt/conda/conda-bld/pytorch_1699449183005/work/torch/csrc/tensor/python_tensor.cpp:451.)\n",
      "  _C._set_default_tensor_type(t)\n"
     ]
    },
    {
     "name": "stdout",
     "output_type": "stream",
     "text": [
      "['../../data/CVRP/dataset/Vrp-Set-X/X-n480/X-n480-k70.vrp']\n",
      "[2024-04-01 11:35:24] CVRPTester.py(84) : >> Model loaded from result/maml_250000checkpts/checkpoint-250000.pt\n",
      "[2024-04-01 11:35:26] CVRPTester.py(225) : episode   1/  1, Elapsed[0.04m], Remain[0.00m], sol:89.449, score:95.284, aug_score:94.899\n",
      "[2024-04-01 11:35:26] CVRPTester.py(231) :  *** Test Done *** \n",
      "[2024-04-01 11:35:26] CVRPTester.py(232) :  NO-AUG SCORE: 95.2839, Gap: 6.5232 \n",
      "[2024-04-01 11:35:26] CVRPTester.py(233) :  AUGMENTATION SCORE: 94.8985, Gap: 6.0923 \n",
      "95.284 (6.523%)\n",
      "94.899 (6.092%)\n",
      ">> Evaluation on ../../data/CVRP/dataset/Vrp-Set-X/X-n480 finished within 2.34s\n",
      ">> Save final results to res/X-n480\n",
      "Test on \" ../../data/CVRP/dataset/Vrp-Set-X/X-n480 \" Success\n",
      "-----------------------------------------------------------------------------------------------------------------\n",
      "[2024-04-01 11:35:29] test.py(106) : DEBUG_MODE: False\n",
      "[2024-04-01 11:35:29] test.py(107) : USE_CUDA: True, CUDA_DEVICE_NUM: 0\n",
      "[2024-04-01 11:35:29] test.py(108) : env_params{'problem_size': 200, 'pomo_size': 200}\n",
      "[2024-04-01 11:35:29] test.py(108) : model_params{'embedding_dim': 128, 'sqrt_embedding_dim': 11.313708498984761, 'encoder_layer_num': 6, 'qkv_dim': 16, 'head_num': 8, 'logit_clipping': 10, 'ff_hidden_dim': 512, 'eval_type': 'argmax', 'norm': 'batch_no_track'}\n",
      "[2024-04-01 11:35:29] test.py(108) : tester_params{'use_cuda': True, 'cuda_device_num': 0, 'seed': 2024, 'model_load': {'path': 'result/maml_250000checkpts', 'epoch': 250000}, 'test_episodes': 1, 'test_batch_size': 1, 'augmentation_enable': True, 'test_robustness': False, 'aug_factor': 8, 'aug_batch_size': 1, 'test_set_path': '../../data/CVRP/dataset/Vrp-Set-X/X-n491', 'test_set_opt_sol_path': '../../data/CVRP/dataset/Vrp-Set-X/X-n491-sol', 'test_set_name': 'A-n33'}\n",
      "[2024-04-01 11:35:29] test.py(108) : fine_tune_params{'enable': False, 'fine_tune_episodes': 1000, 'k': 10, 'fine_tune_batch_size': 10, 'augmentation_enable': True, 'optimizer': {'lr': 1e-05, 'weight_decay': 1e-06}}\n",
      "[2024-04-01 11:35:29] test.py(108) : logger_params{'log_file': {'desc': 'test_cvrp', 'filename': 'log.txt', 'filepath': './result/20240401_113529_test_cvrp'}}\n"
     ]
    },
    {
     "name": "stderr",
     "output_type": "stream",
     "text": [
      "/home/xunj/miniconda3/lib/python3.11/site-packages/torch/__init__.py:614: UserWarning: torch.set_default_tensor_type() is deprecated as of PyTorch 2.1, please use torch.set_default_dtype() and torch.set_default_device() as alternatives. (Triggered internally at /opt/conda/conda-bld/pytorch_1699449183005/work/torch/csrc/tensor/python_tensor.cpp:451.)\n",
      "  _C._set_default_tensor_type(t)\n"
     ]
    },
    {
     "name": "stdout",
     "output_type": "stream",
     "text": [
      "['../../data/CVRP/dataset/Vrp-Set-X/X-n491/X-n491-k59.vrp']\n",
      "[2024-04-01 11:35:36] CVRPTester.py(84) : >> Model loaded from result/maml_250000checkpts/checkpoint-250000.pt\n",
      "[2024-04-01 11:35:38] CVRPTester.py(225) : episode   1/  1, Elapsed[0.04m], Remain[0.00m], sol:66.483, score:71.516, aug_score:71.516\n",
      "[2024-04-01 11:35:38] CVRPTester.py(231) :  *** Test Done *** \n",
      "[2024-04-01 11:35:38] CVRPTester.py(232) :  NO-AUG SCORE: 71.5165, Gap: 7.5711 \n",
      "[2024-04-01 11:35:38] CVRPTester.py(233) :  AUGMENTATION SCORE: 71.5165, Gap: 7.5711 \n",
      "71.516 (7.571%)\n",
      "71.516 (7.571%)\n",
      ">> Evaluation on ../../data/CVRP/dataset/Vrp-Set-X/X-n491 finished within 2.50s\n",
      ">> Save final results to res/X-n491\n",
      "Test on \" ../../data/CVRP/dataset/Vrp-Set-X/X-n491 \" Success\n",
      "-----------------------------------------------------------------------------------------------------------------\n",
      "[2024-04-01 11:35:41] test.py(106) : DEBUG_MODE: False\n",
      "[2024-04-01 11:35:41] test.py(107) : USE_CUDA: True, CUDA_DEVICE_NUM: 0\n",
      "[2024-04-01 11:35:42] test.py(108) : env_params{'problem_size': 200, 'pomo_size': 200}\n",
      "[2024-04-01 11:35:42] test.py(108) : model_params{'embedding_dim': 128, 'sqrt_embedding_dim': 11.313708498984761, 'encoder_layer_num': 6, 'qkv_dim': 16, 'head_num': 8, 'logit_clipping': 10, 'ff_hidden_dim': 512, 'eval_type': 'argmax', 'norm': 'batch_no_track'}\n",
      "[2024-04-01 11:35:42] test.py(108) : tester_params{'use_cuda': True, 'cuda_device_num': 0, 'seed': 2024, 'model_load': {'path': 'result/maml_250000checkpts', 'epoch': 250000}, 'test_episodes': 1, 'test_batch_size': 1, 'augmentation_enable': True, 'test_robustness': False, 'aug_factor': 8, 'aug_batch_size': 1, 'test_set_path': '../../data/CVRP/dataset/Vrp-Set-X/X-n502', 'test_set_opt_sol_path': '../../data/CVRP/dataset/Vrp-Set-X/X-n502-sol', 'test_set_name': 'A-n33'}\n",
      "[2024-04-01 11:35:42] test.py(108) : fine_tune_params{'enable': False, 'fine_tune_episodes': 1000, 'k': 10, 'fine_tune_batch_size': 10, 'augmentation_enable': True, 'optimizer': {'lr': 1e-05, 'weight_decay': 1e-06}}\n",
      "[2024-04-01 11:35:42] test.py(108) : logger_params{'log_file': {'desc': 'test_cvrp', 'filename': 'log.txt', 'filepath': './result/20240401_113541_test_cvrp'}}\n"
     ]
    },
    {
     "name": "stderr",
     "output_type": "stream",
     "text": [
      "/home/xunj/miniconda3/lib/python3.11/site-packages/torch/__init__.py:614: UserWarning: torch.set_default_tensor_type() is deprecated as of PyTorch 2.1, please use torch.set_default_dtype() and torch.set_default_device() as alternatives. (Triggered internally at /opt/conda/conda-bld/pytorch_1699449183005/work/torch/csrc/tensor/python_tensor.cpp:451.)\n",
      "  _C._set_default_tensor_type(t)\n"
     ]
    },
    {
     "name": "stdout",
     "output_type": "stream",
     "text": [
      "['../../data/CVRP/dataset/Vrp-Set-X/X-n502/X-n502-k39.vrp']\n",
      "[2024-04-01 11:35:48] CVRPTester.py(84) : >> Model loaded from result/maml_250000checkpts/checkpoint-250000.pt\n",
      "[2024-04-01 11:35:50] CVRPTester.py(225) : episode   1/  1, Elapsed[0.04m], Remain[0.00m], sol:69.226, score:71.877, aug_score:71.019\n",
      "[2024-04-01 11:35:50] CVRPTester.py(231) :  *** Test Done *** \n",
      "[2024-04-01 11:35:50] CVRPTester.py(232) :  NO-AUG SCORE: 71.8775, Gap: 3.8302 \n",
      "[2024-04-01 11:35:50] CVRPTester.py(233) :  AUGMENTATION SCORE: 71.0192, Gap: 2.5903 \n",
      "71.877 (3.830%)\n",
      "71.019 (2.590%)\n",
      ">> Evaluation on ../../data/CVRP/dataset/Vrp-Set-X/X-n502 finished within 2.41s\n",
      ">> Save final results to res/X-n502\n",
      "Test on \" ../../data/CVRP/dataset/Vrp-Set-X/X-n502 \" Success\n",
      "-----------------------------------------------------------------------------------------------------------------\n",
      "[2024-04-01 11:35:53] test.py(106) : DEBUG_MODE: False\n",
      "[2024-04-01 11:35:53] test.py(107) : USE_CUDA: True, CUDA_DEVICE_NUM: 0\n",
      "[2024-04-01 11:35:53] test.py(108) : env_params{'problem_size': 200, 'pomo_size': 200}\n",
      "[2024-04-01 11:35:53] test.py(108) : model_params{'embedding_dim': 128, 'sqrt_embedding_dim': 11.313708498984761, 'encoder_layer_num': 6, 'qkv_dim': 16, 'head_num': 8, 'logit_clipping': 10, 'ff_hidden_dim': 512, 'eval_type': 'argmax', 'norm': 'batch_no_track'}\n",
      "[2024-04-01 11:35:53] test.py(108) : tester_params{'use_cuda': True, 'cuda_device_num': 0, 'seed': 2024, 'model_load': {'path': 'result/maml_250000checkpts', 'epoch': 250000}, 'test_episodes': 1, 'test_batch_size': 1, 'augmentation_enable': True, 'test_robustness': False, 'aug_factor': 8, 'aug_batch_size': 1, 'test_set_path': '../../data/CVRP/dataset/Vrp-Set-X/X-n513', 'test_set_opt_sol_path': '../../data/CVRP/dataset/Vrp-Set-X/X-n513-sol', 'test_set_name': 'A-n33'}\n",
      "[2024-04-01 11:35:53] test.py(108) : fine_tune_params{'enable': False, 'fine_tune_episodes': 1000, 'k': 10, 'fine_tune_batch_size': 10, 'augmentation_enable': True, 'optimizer': {'lr': 1e-05, 'weight_decay': 1e-06}}\n",
      "[2024-04-01 11:35:53] test.py(108) : logger_params{'log_file': {'desc': 'test_cvrp', 'filename': 'log.txt', 'filepath': './result/20240401_113553_test_cvrp'}}\n"
     ]
    },
    {
     "name": "stderr",
     "output_type": "stream",
     "text": [
      "/home/xunj/miniconda3/lib/python3.11/site-packages/torch/__init__.py:614: UserWarning: torch.set_default_tensor_type() is deprecated as of PyTorch 2.1, please use torch.set_default_dtype() and torch.set_default_device() as alternatives. (Triggered internally at /opt/conda/conda-bld/pytorch_1699449183005/work/torch/csrc/tensor/python_tensor.cpp:451.)\n",
      "  _C._set_default_tensor_type(t)\n"
     ]
    },
    {
     "name": "stdout",
     "output_type": "stream",
     "text": [
      "['../../data/CVRP/dataset/Vrp-Set-X/X-n513/X-n513-k21.vrp']\n",
      "[2024-04-01 11:35:59] CVRPTester.py(84) : >> Model loaded from result/maml_250000checkpts/checkpoint-250000.pt\n",
      "[2024-04-01 11:36:02] CVRPTester.py(225) : episode   1/  1, Elapsed[0.04m], Remain[0.00m], sol:24.201, score:26.780, aug_score:26.362\n",
      "[2024-04-01 11:36:02] CVRPTester.py(231) :  *** Test Done *** \n",
      "[2024-04-01 11:36:02] CVRPTester.py(232) :  NO-AUG SCORE: 26.7799, Gap: 10.6560 \n",
      "[2024-04-01 11:36:02] CVRPTester.py(233) :  AUGMENTATION SCORE: 26.3622, Gap: 8.9303 \n",
      "26.780 (10.656%)\n",
      "26.362 (8.930%)\n",
      ">> Evaluation on ../../data/CVRP/dataset/Vrp-Set-X/X-n513 finished within 2.58s\n",
      ">> Save final results to res/X-n513\n",
      "Test on \" ../../data/CVRP/dataset/Vrp-Set-X/X-n513 \" Success\n",
      "-----------------------------------------------------------------------------------------------------------------\n",
      "[2024-04-01 11:36:05] test.py(106) : DEBUG_MODE: False\n",
      "[2024-04-01 11:36:05] test.py(107) : USE_CUDA: True, CUDA_DEVICE_NUM: 0\n",
      "[2024-04-01 11:36:05] test.py(108) : env_params{'problem_size': 200, 'pomo_size': 200}\n",
      "[2024-04-01 11:36:05] test.py(108) : model_params{'embedding_dim': 128, 'sqrt_embedding_dim': 11.313708498984761, 'encoder_layer_num': 6, 'qkv_dim': 16, 'head_num': 8, 'logit_clipping': 10, 'ff_hidden_dim': 512, 'eval_type': 'argmax', 'norm': 'batch_no_track'}\n",
      "[2024-04-01 11:36:05] test.py(108) : tester_params{'use_cuda': True, 'cuda_device_num': 0, 'seed': 2024, 'model_load': {'path': 'result/maml_250000checkpts', 'epoch': 250000}, 'test_episodes': 1, 'test_batch_size': 1, 'augmentation_enable': True, 'test_robustness': False, 'aug_factor': 8, 'aug_batch_size': 1, 'test_set_path': '../../data/CVRP/dataset/Vrp-Set-X/X-n524', 'test_set_opt_sol_path': '../../data/CVRP/dataset/Vrp-Set-X/X-n524-sol', 'test_set_name': 'A-n33'}\n",
      "[2024-04-01 11:36:05] test.py(108) : fine_tune_params{'enable': False, 'fine_tune_episodes': 1000, 'k': 10, 'fine_tune_batch_size': 10, 'augmentation_enable': True, 'optimizer': {'lr': 1e-05, 'weight_decay': 1e-06}}\n",
      "[2024-04-01 11:36:05] test.py(108) : logger_params{'log_file': {'desc': 'test_cvrp', 'filename': 'log.txt', 'filepath': './result/20240401_113605_test_cvrp'}}\n"
     ]
    },
    {
     "name": "stderr",
     "output_type": "stream",
     "text": [
      "/home/xunj/miniconda3/lib/python3.11/site-packages/torch/__init__.py:614: UserWarning: torch.set_default_tensor_type() is deprecated as of PyTorch 2.1, please use torch.set_default_dtype() and torch.set_default_device() as alternatives. (Triggered internally at /opt/conda/conda-bld/pytorch_1699449183005/work/torch/csrc/tensor/python_tensor.cpp:451.)\n",
      "  _C._set_default_tensor_type(t)\n"
     ]
    },
    {
     "name": "stdout",
     "output_type": "stream",
     "text": [
      "['../../data/CVRP/dataset/Vrp-Set-X/X-n524/X-n524-k153.vrp']\n",
      "[2024-04-01 11:36:11] CVRPTester.py(84) : >> Model loaded from result/maml_250000checkpts/checkpoint-250000.pt\n",
      "[2024-04-01 11:36:14] CVRPTester.py(225) : episode   1/  1, Elapsed[0.05m], Remain[0.00m], sol:154.593, score:176.634, aug_score:175.075\n",
      "[2024-04-01 11:36:14] CVRPTester.py(231) :  *** Test Done *** \n",
      "[2024-04-01 11:36:14] CVRPTester.py(232) :  NO-AUG SCORE: 176.6336, Gap: 14.2572 \n",
      "[2024-04-01 11:36:14] CVRPTester.py(233) :  AUGMENTATION SCORE: 175.0753, Gap: 13.2492 \n",
      "176.634 (14.257%)\n",
      "175.075 (13.249%)\n",
      ">> Evaluation on ../../data/CVRP/dataset/Vrp-Set-X/X-n524 finished within 2.82s\n",
      ">> Save final results to res/X-n524\n",
      "Test on \" ../../data/CVRP/dataset/Vrp-Set-X/X-n524 \" Success\n",
      "-----------------------------------------------------------------------------------------------------------------\n",
      "[2024-04-01 11:36:18] test.py(106) : DEBUG_MODE: False\n",
      "[2024-04-01 11:36:18] test.py(107) : USE_CUDA: True, CUDA_DEVICE_NUM: 0\n",
      "[2024-04-01 11:36:18] test.py(108) : env_params{'problem_size': 200, 'pomo_size': 200}\n",
      "[2024-04-01 11:36:18] test.py(108) : model_params{'embedding_dim': 128, 'sqrt_embedding_dim': 11.313708498984761, 'encoder_layer_num': 6, 'qkv_dim': 16, 'head_num': 8, 'logit_clipping': 10, 'ff_hidden_dim': 512, 'eval_type': 'argmax', 'norm': 'batch_no_track'}\n",
      "[2024-04-01 11:36:18] test.py(108) : tester_params{'use_cuda': True, 'cuda_device_num': 0, 'seed': 2024, 'model_load': {'path': 'result/maml_250000checkpts', 'epoch': 250000}, 'test_episodes': 1, 'test_batch_size': 1, 'augmentation_enable': True, 'test_robustness': False, 'aug_factor': 8, 'aug_batch_size': 1, 'test_set_path': '../../data/CVRP/dataset/Vrp-Set-X/X-n536', 'test_set_opt_sol_path': '../../data/CVRP/dataset/Vrp-Set-X/X-n536-sol', 'test_set_name': 'A-n33'}\n",
      "[2024-04-01 11:36:18] test.py(108) : fine_tune_params{'enable': False, 'fine_tune_episodes': 1000, 'k': 10, 'fine_tune_batch_size': 10, 'augmentation_enable': True, 'optimizer': {'lr': 1e-05, 'weight_decay': 1e-06}}\n",
      "[2024-04-01 11:36:18] test.py(108) : logger_params{'log_file': {'desc': 'test_cvrp', 'filename': 'log.txt', 'filepath': './result/20240401_113617_test_cvrp'}}\n"
     ]
    },
    {
     "name": "stderr",
     "output_type": "stream",
     "text": [
      "/home/xunj/miniconda3/lib/python3.11/site-packages/torch/__init__.py:614: UserWarning: torch.set_default_tensor_type() is deprecated as of PyTorch 2.1, please use torch.set_default_dtype() and torch.set_default_device() as alternatives. (Triggered internally at /opt/conda/conda-bld/pytorch_1699449183005/work/torch/csrc/tensor/python_tensor.cpp:451.)\n",
      "  _C._set_default_tensor_type(t)\n"
     ]
    },
    {
     "name": "stdout",
     "output_type": "stream",
     "text": [
      "['../../data/CVRP/dataset/Vrp-Set-X/X-n536/X-n536-k96.vrp']\n",
      "[2024-04-01 11:36:24] CVRPTester.py(84) : >> Model loaded from result/maml_250000checkpts/checkpoint-250000.pt\n",
      "[2024-04-01 11:36:27] CVRPTester.py(225) : episode   1/  1, Elapsed[0.05m], Remain[0.00m], sol:94.846, score:102.275, aug_score:102.275\n",
      "[2024-04-01 11:36:27] CVRPTester.py(231) :  *** Test Done *** \n",
      "[2024-04-01 11:36:27] CVRPTester.py(232) :  NO-AUG SCORE: 102.2754, Gap: 7.8331 \n",
      "[2024-04-01 11:36:27] CVRPTester.py(233) :  AUGMENTATION SCORE: 102.2754, Gap: 7.8331 \n",
      "102.275 (7.833%)\n",
      "102.275 (7.833%)\n",
      ">> Evaluation on ../../data/CVRP/dataset/Vrp-Set-X/X-n536 finished within 2.70s\n",
      ">> Save final results to res/X-n536\n",
      "Test on \" ../../data/CVRP/dataset/Vrp-Set-X/X-n536 \" Success\n",
      "-----------------------------------------------------------------------------------------------------------------\n",
      "[2024-04-01 11:36:30] test.py(106) : DEBUG_MODE: False\n",
      "[2024-04-01 11:36:30] test.py(107) : USE_CUDA: True, CUDA_DEVICE_NUM: 0\n",
      "[2024-04-01 11:36:30] test.py(108) : env_params{'problem_size': 200, 'pomo_size': 200}\n",
      "[2024-04-01 11:36:30] test.py(108) : model_params{'embedding_dim': 128, 'sqrt_embedding_dim': 11.313708498984761, 'encoder_layer_num': 6, 'qkv_dim': 16, 'head_num': 8, 'logit_clipping': 10, 'ff_hidden_dim': 512, 'eval_type': 'argmax', 'norm': 'batch_no_track'}\n",
      "[2024-04-01 11:36:30] test.py(108) : tester_params{'use_cuda': True, 'cuda_device_num': 0, 'seed': 2024, 'model_load': {'path': 'result/maml_250000checkpts', 'epoch': 250000}, 'test_episodes': 1, 'test_batch_size': 1, 'augmentation_enable': True, 'test_robustness': False, 'aug_factor': 8, 'aug_batch_size': 1, 'test_set_path': '../../data/CVRP/dataset/Vrp-Set-X/X-n548', 'test_set_opt_sol_path': '../../data/CVRP/dataset/Vrp-Set-X/X-n548-sol', 'test_set_name': 'A-n33'}\n",
      "[2024-04-01 11:36:30] test.py(108) : fine_tune_params{'enable': False, 'fine_tune_episodes': 1000, 'k': 10, 'fine_tune_batch_size': 10, 'augmentation_enable': True, 'optimizer': {'lr': 1e-05, 'weight_decay': 1e-06}}\n",
      "[2024-04-01 11:36:30] test.py(108) : logger_params{'log_file': {'desc': 'test_cvrp', 'filename': 'log.txt', 'filepath': './result/20240401_113629_test_cvrp'}}\n"
     ]
    },
    {
     "name": "stderr",
     "output_type": "stream",
     "text": [
      "/home/xunj/miniconda3/lib/python3.11/site-packages/torch/__init__.py:614: UserWarning: torch.set_default_tensor_type() is deprecated as of PyTorch 2.1, please use torch.set_default_dtype() and torch.set_default_device() as alternatives. (Triggered internally at /opt/conda/conda-bld/pytorch_1699449183005/work/torch/csrc/tensor/python_tensor.cpp:451.)\n",
      "  _C._set_default_tensor_type(t)\n"
     ]
    },
    {
     "name": "stdout",
     "output_type": "stream",
     "text": [
      "['../../data/CVRP/dataset/Vrp-Set-X/X-n548/X-n548-k50.vrp']\n",
      "[2024-04-01 11:36:36] CVRPTester.py(84) : >> Model loaded from result/maml_250000checkpts/checkpoint-250000.pt\n",
      "[2024-04-01 11:36:39] CVRPTester.py(225) : episode   1/  1, Elapsed[0.05m], Remain[0.00m], sol:86.700, score:91.087, aug_score:90.715\n",
      "[2024-04-01 11:36:39] CVRPTester.py(231) :  *** Test Done *** \n",
      "[2024-04-01 11:36:39] CVRPTester.py(232) :  NO-AUG SCORE: 91.0874, Gap: 5.0605 \n",
      "[2024-04-01 11:36:39] CVRPTester.py(233) :  AUGMENTATION SCORE: 90.7154, Gap: 4.6313 \n",
      "91.087 (5.060%)\n",
      "90.715 (4.631%)\n",
      ">> Evaluation on ../../data/CVRP/dataset/Vrp-Set-X/X-n548 finished within 2.70s\n",
      ">> Save final results to res/X-n548\n",
      "Test on \" ../../data/CVRP/dataset/Vrp-Set-X/X-n548 \" Success\n",
      "-----------------------------------------------------------------------------------------------------------------\n",
      "[2024-04-01 11:36:42] test.py(106) : DEBUG_MODE: False\n",
      "[2024-04-01 11:36:42] test.py(107) : USE_CUDA: True, CUDA_DEVICE_NUM: 0\n",
      "[2024-04-01 11:36:42] test.py(108) : env_params{'problem_size': 200, 'pomo_size': 200}\n",
      "[2024-04-01 11:36:42] test.py(108) : model_params{'embedding_dim': 128, 'sqrt_embedding_dim': 11.313708498984761, 'encoder_layer_num': 6, 'qkv_dim': 16, 'head_num': 8, 'logit_clipping': 10, 'ff_hidden_dim': 512, 'eval_type': 'argmax', 'norm': 'batch_no_track'}\n",
      "[2024-04-01 11:36:42] test.py(108) : tester_params{'use_cuda': True, 'cuda_device_num': 0, 'seed': 2024, 'model_load': {'path': 'result/maml_250000checkpts', 'epoch': 250000}, 'test_episodes': 1, 'test_batch_size': 1, 'augmentation_enable': True, 'test_robustness': False, 'aug_factor': 8, 'aug_batch_size': 1, 'test_set_path': '../../data/CVRP/dataset/Vrp-Set-X/X-n561', 'test_set_opt_sol_path': '../../data/CVRP/dataset/Vrp-Set-X/X-n561-sol', 'test_set_name': 'A-n33'}\n",
      "[2024-04-01 11:36:42] test.py(108) : fine_tune_params{'enable': False, 'fine_tune_episodes': 1000, 'k': 10, 'fine_tune_batch_size': 10, 'augmentation_enable': True, 'optimizer': {'lr': 1e-05, 'weight_decay': 1e-06}}\n",
      "[2024-04-01 11:36:42] test.py(108) : logger_params{'log_file': {'desc': 'test_cvrp', 'filename': 'log.txt', 'filepath': './result/20240401_113642_test_cvrp'}}\n"
     ]
    },
    {
     "name": "stderr",
     "output_type": "stream",
     "text": [
      "/home/xunj/miniconda3/lib/python3.11/site-packages/torch/__init__.py:614: UserWarning: torch.set_default_tensor_type() is deprecated as of PyTorch 2.1, please use torch.set_default_dtype() and torch.set_default_device() as alternatives. (Triggered internally at /opt/conda/conda-bld/pytorch_1699449183005/work/torch/csrc/tensor/python_tensor.cpp:451.)\n",
      "  _C._set_default_tensor_type(t)\n"
     ]
    },
    {
     "name": "stdout",
     "output_type": "stream",
     "text": [
      "['../../data/CVRP/dataset/Vrp-Set-X/X-n561/X-n561-k42.vrp']\n",
      "[2024-04-01 11:36:49] CVRPTester.py(84) : >> Model loaded from result/maml_250000checkpts/checkpoint-250000.pt\n",
      "[2024-04-01 11:36:52] CVRPTester.py(225) : episode   1/  1, Elapsed[0.05m], Remain[0.00m], sol:42.717, score:46.652, aug_score:46.066\n",
      "[2024-04-01 11:36:52] CVRPTester.py(231) :  *** Test Done *** \n",
      "[2024-04-01 11:36:52] CVRPTester.py(232) :  NO-AUG SCORE: 46.6520, Gap: 9.2117 \n",
      "[2024-04-01 11:36:52] CVRPTester.py(233) :  AUGMENTATION SCORE: 46.0662, Gap: 7.8403 \n",
      "46.652 (9.212%)\n",
      "46.066 (7.840%)\n",
      ">> Evaluation on ../../data/CVRP/dataset/Vrp-Set-X/X-n561 finished within 2.78s\n",
      ">> Save final results to res/X-n561\n",
      "Test on \" ../../data/CVRP/dataset/Vrp-Set-X/X-n561 \" Success\n",
      "-----------------------------------------------------------------------------------------------------------------\n",
      "[2024-04-01 11:36:55] test.py(106) : DEBUG_MODE: False\n",
      "[2024-04-01 11:36:55] test.py(107) : USE_CUDA: True, CUDA_DEVICE_NUM: 0\n",
      "[2024-04-01 11:36:55] test.py(108) : env_params{'problem_size': 200, 'pomo_size': 200}\n",
      "[2024-04-01 11:36:55] test.py(108) : model_params{'embedding_dim': 128, 'sqrt_embedding_dim': 11.313708498984761, 'encoder_layer_num': 6, 'qkv_dim': 16, 'head_num': 8, 'logit_clipping': 10, 'ff_hidden_dim': 512, 'eval_type': 'argmax', 'norm': 'batch_no_track'}\n",
      "[2024-04-01 11:36:55] test.py(108) : tester_params{'use_cuda': True, 'cuda_device_num': 0, 'seed': 2024, 'model_load': {'path': 'result/maml_250000checkpts', 'epoch': 250000}, 'test_episodes': 1, 'test_batch_size': 1, 'augmentation_enable': True, 'test_robustness': False, 'aug_factor': 8, 'aug_batch_size': 1, 'test_set_path': '../../data/CVRP/dataset/Vrp-Set-X/X-n573', 'test_set_opt_sol_path': '../../data/CVRP/dataset/Vrp-Set-X/X-n573-sol', 'test_set_name': 'A-n33'}\n",
      "[2024-04-01 11:36:55] test.py(108) : fine_tune_params{'enable': False, 'fine_tune_episodes': 1000, 'k': 10, 'fine_tune_batch_size': 10, 'augmentation_enable': True, 'optimizer': {'lr': 1e-05, 'weight_decay': 1e-06}}\n",
      "[2024-04-01 11:36:55] test.py(108) : logger_params{'log_file': {'desc': 'test_cvrp', 'filename': 'log.txt', 'filepath': './result/20240401_113655_test_cvrp'}}\n"
     ]
    },
    {
     "name": "stderr",
     "output_type": "stream",
     "text": [
      "/home/xunj/miniconda3/lib/python3.11/site-packages/torch/__init__.py:614: UserWarning: torch.set_default_tensor_type() is deprecated as of PyTorch 2.1, please use torch.set_default_dtype() and torch.set_default_device() as alternatives. (Triggered internally at /opt/conda/conda-bld/pytorch_1699449183005/work/torch/csrc/tensor/python_tensor.cpp:451.)\n",
      "  _C._set_default_tensor_type(t)\n"
     ]
    },
    {
     "name": "stdout",
     "output_type": "stream",
     "text": [
      "['../../data/CVRP/dataset/Vrp-Set-X/X-n573/X-n573-k30.vrp']\n",
      "[2024-04-01 11:37:02] CVRPTester.py(84) : >> Model loaded from result/maml_250000checkpts/checkpoint-250000.pt\n",
      "[2024-04-01 11:37:05] CVRPTester.py(225) : episode   1/  1, Elapsed[0.05m], Remain[0.00m], sol:50.673, score:53.240, aug_score:52.887\n",
      "[2024-04-01 11:37:05] CVRPTester.py(231) :  *** Test Done *** \n",
      "[2024-04-01 11:37:05] CVRPTester.py(232) :  NO-AUG SCORE: 53.2400, Gap: 5.0659 \n",
      "[2024-04-01 11:37:05] CVRPTester.py(233) :  AUGMENTATION SCORE: 52.8869, Gap: 4.3691 \n",
      "53.240 (5.066%)\n",
      "52.887 (4.369%)\n",
      ">> Evaluation on ../../data/CVRP/dataset/Vrp-Set-X/X-n573 finished within 3.09s\n",
      ">> Save final results to res/X-n573\n",
      "Test on \" ../../data/CVRP/dataset/Vrp-Set-X/X-n573 \" Success\n",
      "-----------------------------------------------------------------------------------------------------------------\n",
      "[2024-04-01 11:37:09] test.py(106) : DEBUG_MODE: False\n",
      "[2024-04-01 11:37:09] test.py(107) : USE_CUDA: True, CUDA_DEVICE_NUM: 0\n",
      "[2024-04-01 11:37:09] test.py(108) : env_params{'problem_size': 200, 'pomo_size': 200}\n",
      "[2024-04-01 11:37:09] test.py(108) : model_params{'embedding_dim': 128, 'sqrt_embedding_dim': 11.313708498984761, 'encoder_layer_num': 6, 'qkv_dim': 16, 'head_num': 8, 'logit_clipping': 10, 'ff_hidden_dim': 512, 'eval_type': 'argmax', 'norm': 'batch_no_track'}\n",
      "[2024-04-01 11:37:09] test.py(108) : tester_params{'use_cuda': True, 'cuda_device_num': 0, 'seed': 2024, 'model_load': {'path': 'result/maml_250000checkpts', 'epoch': 250000}, 'test_episodes': 1, 'test_batch_size': 1, 'augmentation_enable': True, 'test_robustness': False, 'aug_factor': 8, 'aug_batch_size': 1, 'test_set_path': '../../data/CVRP/dataset/Vrp-Set-X/X-n586', 'test_set_opt_sol_path': '../../data/CVRP/dataset/Vrp-Set-X/X-n586-sol', 'test_set_name': 'A-n33'}\n",
      "[2024-04-01 11:37:09] test.py(108) : fine_tune_params{'enable': False, 'fine_tune_episodes': 1000, 'k': 10, 'fine_tune_batch_size': 10, 'augmentation_enable': True, 'optimizer': {'lr': 1e-05, 'weight_decay': 1e-06}}\n",
      "[2024-04-01 11:37:09] test.py(108) : logger_params{'log_file': {'desc': 'test_cvrp', 'filename': 'log.txt', 'filepath': './result/20240401_113708_test_cvrp'}}\n"
     ]
    },
    {
     "name": "stderr",
     "output_type": "stream",
     "text": [
      "/home/xunj/miniconda3/lib/python3.11/site-packages/torch/__init__.py:614: UserWarning: torch.set_default_tensor_type() is deprecated as of PyTorch 2.1, please use torch.set_default_dtype() and torch.set_default_device() as alternatives. (Triggered internally at /opt/conda/conda-bld/pytorch_1699449183005/work/torch/csrc/tensor/python_tensor.cpp:451.)\n",
      "  _C._set_default_tensor_type(t)\n"
     ]
    },
    {
     "name": "stdout",
     "output_type": "stream",
     "text": [
      "['../../data/CVRP/dataset/Vrp-Set-X/X-n586/X-n586-k159.vrp']\n",
      "[2024-04-01 11:37:15] CVRPTester.py(84) : >> Model loaded from result/maml_250000checkpts/checkpoint-250000.pt\n",
      "[2024-04-01 11:37:18] CVRPTester.py(225) : episode   1/  1, Elapsed[0.05m], Remain[0.00m], sol:190.316, score:205.016, aug_score:204.780\n",
      "[2024-04-01 11:37:18] CVRPTester.py(231) :  *** Test Done *** \n",
      "[2024-04-01 11:37:18] CVRPTester.py(232) :  NO-AUG SCORE: 205.0165, Gap: 7.7242 \n",
      "[2024-04-01 11:37:18] CVRPTester.py(233) :  AUGMENTATION SCORE: 204.7796, Gap: 7.5998 \n",
      "205.016 (7.724%)\n",
      "204.780 (7.600%)\n",
      ">> Evaluation on ../../data/CVRP/dataset/Vrp-Set-X/X-n586 finished within 3.00s\n",
      ">> Save final results to res/X-n586\n",
      "Test on \" ../../data/CVRP/dataset/Vrp-Set-X/X-n586 \" Success\n",
      "-----------------------------------------------------------------------------------------------------------------\n",
      "[2024-04-01 11:37:21] test.py(106) : DEBUG_MODE: False\n",
      "[2024-04-01 11:37:21] test.py(107) : USE_CUDA: True, CUDA_DEVICE_NUM: 0\n",
      "[2024-04-01 11:37:21] test.py(108) : env_params{'problem_size': 200, 'pomo_size': 200}\n",
      "[2024-04-01 11:37:21] test.py(108) : model_params{'embedding_dim': 128, 'sqrt_embedding_dim': 11.313708498984761, 'encoder_layer_num': 6, 'qkv_dim': 16, 'head_num': 8, 'logit_clipping': 10, 'ff_hidden_dim': 512, 'eval_type': 'argmax', 'norm': 'batch_no_track'}\n",
      "[2024-04-01 11:37:21] test.py(108) : tester_params{'use_cuda': True, 'cuda_device_num': 0, 'seed': 2024, 'model_load': {'path': 'result/maml_250000checkpts', 'epoch': 250000}, 'test_episodes': 1, 'test_batch_size': 1, 'augmentation_enable': True, 'test_robustness': False, 'aug_factor': 8, 'aug_batch_size': 1, 'test_set_path': '../../data/CVRP/dataset/Vrp-Set-X/X-n599', 'test_set_opt_sol_path': '../../data/CVRP/dataset/Vrp-Set-X/X-n599-sol', 'test_set_name': 'A-n33'}\n",
      "[2024-04-01 11:37:21] test.py(108) : fine_tune_params{'enable': False, 'fine_tune_episodes': 1000, 'k': 10, 'fine_tune_batch_size': 10, 'augmentation_enable': True, 'optimizer': {'lr': 1e-05, 'weight_decay': 1e-06}}\n",
      "[2024-04-01 11:37:21] test.py(108) : logger_params{'log_file': {'desc': 'test_cvrp', 'filename': 'log.txt', 'filepath': './result/20240401_113721_test_cvrp'}}\n"
     ]
    },
    {
     "name": "stderr",
     "output_type": "stream",
     "text": [
      "/home/xunj/miniconda3/lib/python3.11/site-packages/torch/__init__.py:614: UserWarning: torch.set_default_tensor_type() is deprecated as of PyTorch 2.1, please use torch.set_default_dtype() and torch.set_default_device() as alternatives. (Triggered internally at /opt/conda/conda-bld/pytorch_1699449183005/work/torch/csrc/tensor/python_tensor.cpp:451.)\n",
      "  _C._set_default_tensor_type(t)\n"
     ]
    },
    {
     "name": "stdout",
     "output_type": "stream",
     "text": [
      "['../../data/CVRP/dataset/Vrp-Set-X/X-n599/X-n599-k92.vrp']\n",
      "[2024-04-01 11:37:27] CVRPTester.py(84) : >> Model loaded from result/maml_250000checkpts/checkpoint-250000.pt\n",
      "[2024-04-01 11:37:30] CVRPTester.py(225) : episode   1/  1, Elapsed[0.05m], Remain[0.00m], sol:108.451, score:117.094, aug_score:116.514\n",
      "[2024-04-01 11:37:30] CVRPTester.py(231) :  *** Test Done *** \n",
      "[2024-04-01 11:37:30] CVRPTester.py(232) :  NO-AUG SCORE: 117.0936, Gap: 7.9692 \n",
      "[2024-04-01 11:37:30] CVRPTester.py(233) :  AUGMENTATION SCORE: 116.5135, Gap: 7.4343 \n",
      "117.094 (7.969%)\n",
      "116.514 (7.434%)\n",
      ">> Evaluation on ../../data/CVRP/dataset/Vrp-Set-X/X-n599 finished within 2.94s\n",
      ">> Save final results to res/X-n599\n",
      "Test on \" ../../data/CVRP/dataset/Vrp-Set-X/X-n599 \" Success\n",
      "-----------------------------------------------------------------------------------------------------------------\n",
      "[2024-04-01 11:37:34] test.py(106) : DEBUG_MODE: False\n",
      "[2024-04-01 11:37:34] test.py(107) : USE_CUDA: True, CUDA_DEVICE_NUM: 0\n",
      "[2024-04-01 11:37:34] test.py(108) : env_params{'problem_size': 200, 'pomo_size': 200}\n",
      "[2024-04-01 11:37:34] test.py(108) : model_params{'embedding_dim': 128, 'sqrt_embedding_dim': 11.313708498984761, 'encoder_layer_num': 6, 'qkv_dim': 16, 'head_num': 8, 'logit_clipping': 10, 'ff_hidden_dim': 512, 'eval_type': 'argmax', 'norm': 'batch_no_track'}\n",
      "[2024-04-01 11:37:34] test.py(108) : tester_params{'use_cuda': True, 'cuda_device_num': 0, 'seed': 2024, 'model_load': {'path': 'result/maml_250000checkpts', 'epoch': 250000}, 'test_episodes': 1, 'test_batch_size': 1, 'augmentation_enable': True, 'test_robustness': False, 'aug_factor': 8, 'aug_batch_size': 1, 'test_set_path': '../../data/CVRP/dataset/Vrp-Set-X/X-n613', 'test_set_opt_sol_path': '../../data/CVRP/dataset/Vrp-Set-X/X-n613-sol', 'test_set_name': 'A-n33'}\n",
      "[2024-04-01 11:37:34] test.py(108) : fine_tune_params{'enable': False, 'fine_tune_episodes': 1000, 'k': 10, 'fine_tune_batch_size': 10, 'augmentation_enable': True, 'optimizer': {'lr': 1e-05, 'weight_decay': 1e-06}}\n",
      "[2024-04-01 11:37:34] test.py(108) : logger_params{'log_file': {'desc': 'test_cvrp', 'filename': 'log.txt', 'filepath': './result/20240401_113733_test_cvrp'}}\n"
     ]
    },
    {
     "name": "stderr",
     "output_type": "stream",
     "text": [
      "/home/xunj/miniconda3/lib/python3.11/site-packages/torch/__init__.py:614: UserWarning: torch.set_default_tensor_type() is deprecated as of PyTorch 2.1, please use torch.set_default_dtype() and torch.set_default_device() as alternatives. (Triggered internally at /opt/conda/conda-bld/pytorch_1699449183005/work/torch/csrc/tensor/python_tensor.cpp:451.)\n",
      "  _C._set_default_tensor_type(t)\n"
     ]
    },
    {
     "name": "stdout",
     "output_type": "stream",
     "text": [
      "['../../data/CVRP/dataset/Vrp-Set-X/X-n613/X-n613-k62.vrp']\n",
      "[2024-04-01 11:37:40] CVRPTester.py(84) : >> Model loaded from result/maml_250000checkpts/checkpoint-250000.pt\n",
      "[2024-04-01 11:37:43] CVRPTester.py(225) : episode   1/  1, Elapsed[0.05m], Remain[0.00m], sol:59.535, score:65.796, aug_score:65.644\n",
      "[2024-04-01 11:37:43] CVRPTester.py(231) :  *** Test Done *** \n",
      "[2024-04-01 11:37:43] CVRPTester.py(232) :  NO-AUG SCORE: 65.7957, Gap: 10.5161 \n",
      "[2024-04-01 11:37:43] CVRPTester.py(233) :  AUGMENTATION SCORE: 65.6439, Gap: 10.2610 \n",
      "65.796 (10.516%)\n",
      "65.644 (10.261%)\n",
      ">> Evaluation on ../../data/CVRP/dataset/Vrp-Set-X/X-n613 finished within 3.09s\n",
      ">> Save final results to res/X-n613\n",
      "Test on \" ../../data/CVRP/dataset/Vrp-Set-X/X-n613 \" Success\n",
      "-----------------------------------------------------------------------------------------------------------------\n",
      "[2024-04-01 11:37:47] test.py(106) : DEBUG_MODE: False\n",
      "[2024-04-01 11:37:47] test.py(107) : USE_CUDA: True, CUDA_DEVICE_NUM: 0\n",
      "[2024-04-01 11:37:47] test.py(108) : env_params{'problem_size': 200, 'pomo_size': 200}\n",
      "[2024-04-01 11:37:47] test.py(108) : model_params{'embedding_dim': 128, 'sqrt_embedding_dim': 11.313708498984761, 'encoder_layer_num': 6, 'qkv_dim': 16, 'head_num': 8, 'logit_clipping': 10, 'ff_hidden_dim': 512, 'eval_type': 'argmax', 'norm': 'batch_no_track'}\n",
      "[2024-04-01 11:37:47] test.py(108) : tester_params{'use_cuda': True, 'cuda_device_num': 0, 'seed': 2024, 'model_load': {'path': 'result/maml_250000checkpts', 'epoch': 250000}, 'test_episodes': 1, 'test_batch_size': 1, 'augmentation_enable': True, 'test_robustness': False, 'aug_factor': 8, 'aug_batch_size': 1, 'test_set_path': '../../data/CVRP/dataset/Vrp-Set-X/X-n627', 'test_set_opt_sol_path': '../../data/CVRP/dataset/Vrp-Set-X/X-n627-sol', 'test_set_name': 'A-n33'}\n",
      "[2024-04-01 11:37:47] test.py(108) : fine_tune_params{'enable': False, 'fine_tune_episodes': 1000, 'k': 10, 'fine_tune_batch_size': 10, 'augmentation_enable': True, 'optimizer': {'lr': 1e-05, 'weight_decay': 1e-06}}\n",
      "[2024-04-01 11:37:47] test.py(108) : logger_params{'log_file': {'desc': 'test_cvrp', 'filename': 'log.txt', 'filepath': './result/20240401_113746_test_cvrp'}}\n"
     ]
    },
    {
     "name": "stderr",
     "output_type": "stream",
     "text": [
      "/home/xunj/miniconda3/lib/python3.11/site-packages/torch/__init__.py:614: UserWarning: torch.set_default_tensor_type() is deprecated as of PyTorch 2.1, please use torch.set_default_dtype() and torch.set_default_device() as alternatives. (Triggered internally at /opt/conda/conda-bld/pytorch_1699449183005/work/torch/csrc/tensor/python_tensor.cpp:451.)\n",
      "  _C._set_default_tensor_type(t)\n"
     ]
    },
    {
     "name": "stdout",
     "output_type": "stream",
     "text": [
      "['../../data/CVRP/dataset/Vrp-Set-X/X-n627/X-n627-k43.vrp']\n",
      "[2024-04-01 11:37:53] CVRPTester.py(84) : >> Model loaded from result/maml_250000checkpts/checkpoint-250000.pt\n",
      "[2024-04-01 11:37:56] CVRPTester.py(225) : episode   1/  1, Elapsed[0.05m], Remain[0.00m], sol:62.164, score:66.184, aug_score:65.910\n",
      "[2024-04-01 11:37:56] CVRPTester.py(231) :  *** Test Done *** \n",
      "[2024-04-01 11:37:56] CVRPTester.py(232) :  NO-AUG SCORE: 66.1840, Gap: 6.4668 \n",
      "[2024-04-01 11:37:56] CVRPTester.py(233) :  AUGMENTATION SCORE: 65.9101, Gap: 6.0261 \n",
      "66.184 (6.467%)\n",
      "65.910 (6.026%)\n",
      ">> Evaluation on ../../data/CVRP/dataset/Vrp-Set-X/X-n627 finished within 3.12s\n",
      ">> Save final results to res/X-n627\n",
      "Test on \" ../../data/CVRP/dataset/Vrp-Set-X/X-n627 \" Success\n",
      "-----------------------------------------------------------------------------------------------------------------\n",
      "[2024-04-01 11:37:59] test.py(106) : DEBUG_MODE: False\n",
      "[2024-04-01 11:37:59] test.py(107) : USE_CUDA: True, CUDA_DEVICE_NUM: 0\n",
      "[2024-04-01 11:37:59] test.py(108) : env_params{'problem_size': 200, 'pomo_size': 200}\n",
      "[2024-04-01 11:37:59] test.py(108) : model_params{'embedding_dim': 128, 'sqrt_embedding_dim': 11.313708498984761, 'encoder_layer_num': 6, 'qkv_dim': 16, 'head_num': 8, 'logit_clipping': 10, 'ff_hidden_dim': 512, 'eval_type': 'argmax', 'norm': 'batch_no_track'}\n",
      "[2024-04-01 11:37:59] test.py(108) : tester_params{'use_cuda': True, 'cuda_device_num': 0, 'seed': 2024, 'model_load': {'path': 'result/maml_250000checkpts', 'epoch': 250000}, 'test_episodes': 1, 'test_batch_size': 1, 'augmentation_enable': True, 'test_robustness': False, 'aug_factor': 8, 'aug_batch_size': 1, 'test_set_path': '../../data/CVRP/dataset/Vrp-Set-X/X-n641', 'test_set_opt_sol_path': '../../data/CVRP/dataset/Vrp-Set-X/X-n641-sol', 'test_set_name': 'A-n33'}\n",
      "[2024-04-01 11:37:59] test.py(108) : fine_tune_params{'enable': False, 'fine_tune_episodes': 1000, 'k': 10, 'fine_tune_batch_size': 10, 'augmentation_enable': True, 'optimizer': {'lr': 1e-05, 'weight_decay': 1e-06}}\n",
      "[2024-04-01 11:37:59] test.py(108) : logger_params{'log_file': {'desc': 'test_cvrp', 'filename': 'log.txt', 'filepath': './result/20240401_113759_test_cvrp'}}\n"
     ]
    },
    {
     "name": "stderr",
     "output_type": "stream",
     "text": [
      "/home/xunj/miniconda3/lib/python3.11/site-packages/torch/__init__.py:614: UserWarning: torch.set_default_tensor_type() is deprecated as of PyTorch 2.1, please use torch.set_default_dtype() and torch.set_default_device() as alternatives. (Triggered internally at /opt/conda/conda-bld/pytorch_1699449183005/work/torch/csrc/tensor/python_tensor.cpp:451.)\n",
      "  _C._set_default_tensor_type(t)\n"
     ]
    },
    {
     "name": "stdout",
     "output_type": "stream",
     "text": [
      "['../../data/CVRP/dataset/Vrp-Set-X/X-n641/X-n641-k35.vrp']\n",
      "[2024-04-01 11:38:05] CVRPTester.py(84) : >> Model loaded from result/maml_250000checkpts/checkpoint-250000.pt\n",
      "[2024-04-01 11:38:08] CVRPTester.py(225) : episode   1/  1, Elapsed[0.05m], Remain[0.00m], sol:63.684, score:68.150, aug_score:67.978\n",
      "[2024-04-01 11:38:08] CVRPTester.py(231) :  *** Test Done *** \n",
      "[2024-04-01 11:38:08] CVRPTester.py(232) :  NO-AUG SCORE: 68.1503, Gap: 7.0133 \n",
      "[2024-04-01 11:38:08] CVRPTester.py(233) :  AUGMENTATION SCORE: 67.9784, Gap: 6.7433 \n",
      "68.150 (7.013%)\n",
      "67.978 (6.743%)\n",
      ">> Evaluation on ../../data/CVRP/dataset/Vrp-Set-X/X-n641 finished within 3.03s\n",
      ">> Save final results to res/X-n641\n",
      "Test on \" ../../data/CVRP/dataset/Vrp-Set-X/X-n641 \" Success\n",
      "-----------------------------------------------------------------------------------------------------------------\n",
      "[2024-04-01 11:38:12] test.py(106) : DEBUG_MODE: False\n",
      "[2024-04-01 11:38:12] test.py(107) : USE_CUDA: True, CUDA_DEVICE_NUM: 0\n",
      "[2024-04-01 11:38:12] test.py(108) : env_params{'problem_size': 200, 'pomo_size': 200}\n",
      "[2024-04-01 11:38:12] test.py(108) : model_params{'embedding_dim': 128, 'sqrt_embedding_dim': 11.313708498984761, 'encoder_layer_num': 6, 'qkv_dim': 16, 'head_num': 8, 'logit_clipping': 10, 'ff_hidden_dim': 512, 'eval_type': 'argmax', 'norm': 'batch_no_track'}\n",
      "[2024-04-01 11:38:12] test.py(108) : tester_params{'use_cuda': True, 'cuda_device_num': 0, 'seed': 2024, 'model_load': {'path': 'result/maml_250000checkpts', 'epoch': 250000}, 'test_episodes': 1, 'test_batch_size': 1, 'augmentation_enable': True, 'test_robustness': False, 'aug_factor': 8, 'aug_batch_size': 1, 'test_set_path': '../../data/CVRP/dataset/Vrp-Set-X/X-n655', 'test_set_opt_sol_path': '../../data/CVRP/dataset/Vrp-Set-X/X-n655-sol', 'test_set_name': 'A-n33'}\n",
      "[2024-04-01 11:38:12] test.py(108) : fine_tune_params{'enable': False, 'fine_tune_episodes': 1000, 'k': 10, 'fine_tune_batch_size': 10, 'augmentation_enable': True, 'optimizer': {'lr': 1e-05, 'weight_decay': 1e-06}}\n",
      "[2024-04-01 11:38:12] test.py(108) : logger_params{'log_file': {'desc': 'test_cvrp', 'filename': 'log.txt', 'filepath': './result/20240401_113811_test_cvrp'}}\n"
     ]
    },
    {
     "name": "stderr",
     "output_type": "stream",
     "text": [
      "/home/xunj/miniconda3/lib/python3.11/site-packages/torch/__init__.py:614: UserWarning: torch.set_default_tensor_type() is deprecated as of PyTorch 2.1, please use torch.set_default_dtype() and torch.set_default_device() as alternatives. (Triggered internally at /opt/conda/conda-bld/pytorch_1699449183005/work/torch/csrc/tensor/python_tensor.cpp:451.)\n",
      "  _C._set_default_tensor_type(t)\n"
     ]
    },
    {
     "name": "stdout",
     "output_type": "stream",
     "text": [
      "['../../data/CVRP/dataset/Vrp-Set-X/X-n655/X-n655-k131.vrp']\n",
      "[2024-04-01 11:38:18] CVRPTester.py(84) : >> Model loaded from result/maml_250000checkpts/checkpoint-250000.pt\n",
      "[2024-04-01 11:38:21] CVRPTester.py(225) : episode   1/  1, Elapsed[0.06m], Remain[0.00m], sol:106.780, score:109.794, aug_score:109.794\n",
      "[2024-04-01 11:38:21] CVRPTester.py(231) :  *** Test Done *** \n",
      "[2024-04-01 11:38:21] CVRPTester.py(232) :  NO-AUG SCORE: 109.7939, Gap: 2.8225 \n",
      "[2024-04-01 11:38:21] CVRPTester.py(233) :  AUGMENTATION SCORE: 109.7939, Gap: 2.8225 \n",
      "109.794 (2.823%)\n",
      "109.794 (2.823%)\n",
      ">> Evaluation on ../../data/CVRP/dataset/Vrp-Set-X/X-n655 finished within 3.39s\n",
      ">> Save final results to res/X-n655\n",
      "Test on \" ../../data/CVRP/dataset/Vrp-Set-X/X-n655 \" Success\n",
      "-----------------------------------------------------------------------------------------------------------------\n",
      "[2024-04-01 11:38:24] test.py(106) : DEBUG_MODE: False\n",
      "[2024-04-01 11:38:24] test.py(107) : USE_CUDA: True, CUDA_DEVICE_NUM: 0\n",
      "[2024-04-01 11:38:24] test.py(108) : env_params{'problem_size': 200, 'pomo_size': 200}\n",
      "[2024-04-01 11:38:24] test.py(108) : model_params{'embedding_dim': 128, 'sqrt_embedding_dim': 11.313708498984761, 'encoder_layer_num': 6, 'qkv_dim': 16, 'head_num': 8, 'logit_clipping': 10, 'ff_hidden_dim': 512, 'eval_type': 'argmax', 'norm': 'batch_no_track'}\n",
      "[2024-04-01 11:38:24] test.py(108) : tester_params{'use_cuda': True, 'cuda_device_num': 0, 'seed': 2024, 'model_load': {'path': 'result/maml_250000checkpts', 'epoch': 250000}, 'test_episodes': 1, 'test_batch_size': 1, 'augmentation_enable': True, 'test_robustness': False, 'aug_factor': 8, 'aug_batch_size': 1, 'test_set_path': '../../data/CVRP/dataset/Vrp-Set-X/X-n670', 'test_set_opt_sol_path': '../../data/CVRP/dataset/Vrp-Set-X/X-n670-sol', 'test_set_name': 'A-n33'}\n",
      "[2024-04-01 11:38:24] test.py(108) : fine_tune_params{'enable': False, 'fine_tune_episodes': 1000, 'k': 10, 'fine_tune_batch_size': 10, 'augmentation_enable': True, 'optimizer': {'lr': 1e-05, 'weight_decay': 1e-06}}\n",
      "[2024-04-01 11:38:24] test.py(108) : logger_params{'log_file': {'desc': 'test_cvrp', 'filename': 'log.txt', 'filepath': './result/20240401_113824_test_cvrp'}}\n"
     ]
    },
    {
     "name": "stderr",
     "output_type": "stream",
     "text": [
      "/home/xunj/miniconda3/lib/python3.11/site-packages/torch/__init__.py:614: UserWarning: torch.set_default_tensor_type() is deprecated as of PyTorch 2.1, please use torch.set_default_dtype() and torch.set_default_device() as alternatives. (Triggered internally at /opt/conda/conda-bld/pytorch_1699449183005/work/torch/csrc/tensor/python_tensor.cpp:451.)\n",
      "  _C._set_default_tensor_type(t)\n"
     ]
    },
    {
     "name": "stdout",
     "output_type": "stream",
     "text": [
      "['../../data/CVRP/dataset/Vrp-Set-X/X-n670/X-n670-k130.vrp']\n",
      "[2024-04-01 11:38:31] CVRPTester.py(84) : >> Model loaded from result/maml_250000checkpts/checkpoint-250000.pt\n",
      "[2024-04-01 11:38:35] CVRPTester.py(225) : episode   1/  1, Elapsed[0.06m], Remain[0.00m], sol:146.332, score:166.181, aug_score:166.181\n",
      "[2024-04-01 11:38:35] CVRPTester.py(231) :  *** Test Done *** \n",
      "[2024-04-01 11:38:35] CVRPTester.py(232) :  NO-AUG SCORE: 166.1809, Gap: 13.5643 \n",
      "[2024-04-01 11:38:35] CVRPTester.py(233) :  AUGMENTATION SCORE: 166.1809, Gap: 13.5643 \n",
      "166.181 (13.564%)\n",
      "166.181 (13.564%)\n",
      ">> Evaluation on ../../data/CVRP/dataset/Vrp-Set-X/X-n670 finished within 3.66s\n",
      ">> Save final results to res/X-n670\n",
      "Test on \" ../../data/CVRP/dataset/Vrp-Set-X/X-n670 \" Success\n",
      "-----------------------------------------------------------------------------------------------------------------\n",
      "[2024-04-01 11:38:38] test.py(106) : DEBUG_MODE: False\n",
      "[2024-04-01 11:38:38] test.py(107) : USE_CUDA: True, CUDA_DEVICE_NUM: 0\n",
      "[2024-04-01 11:38:38] test.py(108) : env_params{'problem_size': 200, 'pomo_size': 200}\n",
      "[2024-04-01 11:38:38] test.py(108) : model_params{'embedding_dim': 128, 'sqrt_embedding_dim': 11.313708498984761, 'encoder_layer_num': 6, 'qkv_dim': 16, 'head_num': 8, 'logit_clipping': 10, 'ff_hidden_dim': 512, 'eval_type': 'argmax', 'norm': 'batch_no_track'}\n",
      "[2024-04-01 11:38:38] test.py(108) : tester_params{'use_cuda': True, 'cuda_device_num': 0, 'seed': 2024, 'model_load': {'path': 'result/maml_250000checkpts', 'epoch': 250000}, 'test_episodes': 1, 'test_batch_size': 1, 'augmentation_enable': True, 'test_robustness': False, 'aug_factor': 8, 'aug_batch_size': 1, 'test_set_path': '../../data/CVRP/dataset/Vrp-Set-X/X-n685', 'test_set_opt_sol_path': '../../data/CVRP/dataset/Vrp-Set-X/X-n685-sol', 'test_set_name': 'A-n33'}\n",
      "[2024-04-01 11:38:38] test.py(108) : fine_tune_params{'enable': False, 'fine_tune_episodes': 1000, 'k': 10, 'fine_tune_batch_size': 10, 'augmentation_enable': True, 'optimizer': {'lr': 1e-05, 'weight_decay': 1e-06}}\n",
      "[2024-04-01 11:38:38] test.py(108) : logger_params{'log_file': {'desc': 'test_cvrp', 'filename': 'log.txt', 'filepath': './result/20240401_113838_test_cvrp'}}\n"
     ]
    },
    {
     "name": "stderr",
     "output_type": "stream",
     "text": [
      "/home/xunj/miniconda3/lib/python3.11/site-packages/torch/__init__.py:614: UserWarning: torch.set_default_tensor_type() is deprecated as of PyTorch 2.1, please use torch.set_default_dtype() and torch.set_default_device() as alternatives. (Triggered internally at /opt/conda/conda-bld/pytorch_1699449183005/work/torch/csrc/tensor/python_tensor.cpp:451.)\n",
      "  _C._set_default_tensor_type(t)\n"
     ]
    },
    {
     "name": "stdout",
     "output_type": "stream",
     "text": [
      "['../../data/CVRP/dataset/Vrp-Set-X/X-n685/X-n685-k75.vrp']\n",
      "[2024-04-01 11:38:44] CVRPTester.py(84) : >> Model loaded from result/maml_250000checkpts/checkpoint-250000.pt\n",
      "[2024-04-01 11:38:48] CVRPTester.py(225) : episode   1/  1, Elapsed[0.06m], Remain[0.00m], sol:68.205, score:76.148, aug_score:75.554\n",
      "[2024-04-01 11:38:48] CVRPTester.py(231) :  *** Test Done *** \n",
      "[2024-04-01 11:38:48] CVRPTester.py(232) :  NO-AUG SCORE: 76.1481, Gap: 11.6459 \n",
      "[2024-04-01 11:38:48] CVRPTester.py(233) :  AUGMENTATION SCORE: 75.5536, Gap: 10.7742 \n",
      "76.148 (11.646%)\n",
      "75.554 (10.774%)\n",
      ">> Evaluation on ../../data/CVRP/dataset/Vrp-Set-X/X-n685 finished within 3.47s\n",
      ">> Save final results to res/X-n685\n",
      "Test on \" ../../data/CVRP/dataset/Vrp-Set-X/X-n685 \" Success\n",
      "-----------------------------------------------------------------------------------------------------------------\n",
      "[2024-04-01 11:38:51] test.py(106) : DEBUG_MODE: False\n",
      "[2024-04-01 11:38:51] test.py(107) : USE_CUDA: True, CUDA_DEVICE_NUM: 0\n",
      "[2024-04-01 11:38:51] test.py(108) : env_params{'problem_size': 200, 'pomo_size': 200}\n",
      "[2024-04-01 11:38:51] test.py(108) : model_params{'embedding_dim': 128, 'sqrt_embedding_dim': 11.313708498984761, 'encoder_layer_num': 6, 'qkv_dim': 16, 'head_num': 8, 'logit_clipping': 10, 'ff_hidden_dim': 512, 'eval_type': 'argmax', 'norm': 'batch_no_track'}\n",
      "[2024-04-01 11:38:51] test.py(108) : tester_params{'use_cuda': True, 'cuda_device_num': 0, 'seed': 2024, 'model_load': {'path': 'result/maml_250000checkpts', 'epoch': 250000}, 'test_episodes': 1, 'test_batch_size': 1, 'augmentation_enable': True, 'test_robustness': False, 'aug_factor': 8, 'aug_batch_size': 1, 'test_set_path': '../../data/CVRP/dataset/Vrp-Set-X/X-n701', 'test_set_opt_sol_path': '../../data/CVRP/dataset/Vrp-Set-X/X-n701-sol', 'test_set_name': 'A-n33'}\n",
      "[2024-04-01 11:38:51] test.py(108) : fine_tune_params{'enable': False, 'fine_tune_episodes': 1000, 'k': 10, 'fine_tune_batch_size': 10, 'augmentation_enable': True, 'optimizer': {'lr': 1e-05, 'weight_decay': 1e-06}}\n",
      "[2024-04-01 11:38:51] test.py(108) : logger_params{'log_file': {'desc': 'test_cvrp', 'filename': 'log.txt', 'filepath': './result/20240401_113851_test_cvrp'}}\n"
     ]
    },
    {
     "name": "stderr",
     "output_type": "stream",
     "text": [
      "/home/xunj/miniconda3/lib/python3.11/site-packages/torch/__init__.py:614: UserWarning: torch.set_default_tensor_type() is deprecated as of PyTorch 2.1, please use torch.set_default_dtype() and torch.set_default_device() as alternatives. (Triggered internally at /opt/conda/conda-bld/pytorch_1699449183005/work/torch/csrc/tensor/python_tensor.cpp:451.)\n",
      "  _C._set_default_tensor_type(t)\n"
     ]
    },
    {
     "name": "stdout",
     "output_type": "stream",
     "text": [
      "['../../data/CVRP/dataset/Vrp-Set-X/X-n701/X-n701-k44.vrp']\n",
      "[2024-04-01 11:38:57] CVRPTester.py(84) : >> Model loaded from result/maml_250000checkpts/checkpoint-250000.pt\n",
      "[2024-04-01 11:39:01] CVRPTester.py(225) : episode   1/  1, Elapsed[0.06m], Remain[0.00m], sol:81.923, score:86.276, aug_score:86.100\n",
      "[2024-04-01 11:39:01] CVRPTester.py(231) :  *** Test Done *** \n",
      "[2024-04-01 11:39:01] CVRPTester.py(232) :  NO-AUG SCORE: 86.2756, Gap: 5.3131 \n",
      "[2024-04-01 11:39:01] CVRPTester.py(233) :  AUGMENTATION SCORE: 86.1000, Gap: 5.0987 \n",
      "86.276 (5.313%)\n",
      "86.100 (5.099%)\n",
      ">> Evaluation on ../../data/CVRP/dataset/Vrp-Set-X/X-n701 finished within 3.47s\n",
      ">> Save final results to res/X-n701\n",
      "Test on \" ../../data/CVRP/dataset/Vrp-Set-X/X-n701 \" Success\n",
      "-----------------------------------------------------------------------------------------------------------------\n",
      "[2024-04-01 11:39:04] test.py(106) : DEBUG_MODE: False\n",
      "[2024-04-01 11:39:04] test.py(107) : USE_CUDA: True, CUDA_DEVICE_NUM: 0\n",
      "[2024-04-01 11:39:04] test.py(108) : env_params{'problem_size': 200, 'pomo_size': 200}\n",
      "[2024-04-01 11:39:04] test.py(108) : model_params{'embedding_dim': 128, 'sqrt_embedding_dim': 11.313708498984761, 'encoder_layer_num': 6, 'qkv_dim': 16, 'head_num': 8, 'logit_clipping': 10, 'ff_hidden_dim': 512, 'eval_type': 'argmax', 'norm': 'batch_no_track'}\n",
      "[2024-04-01 11:39:04] test.py(108) : tester_params{'use_cuda': True, 'cuda_device_num': 0, 'seed': 2024, 'model_load': {'path': 'result/maml_250000checkpts', 'epoch': 250000}, 'test_episodes': 1, 'test_batch_size': 1, 'augmentation_enable': True, 'test_robustness': False, 'aug_factor': 8, 'aug_batch_size': 1, 'test_set_path': '../../data/CVRP/dataset/Vrp-Set-X/X-n716', 'test_set_opt_sol_path': '../../data/CVRP/dataset/Vrp-Set-X/X-n716-sol', 'test_set_name': 'A-n33'}\n",
      "[2024-04-01 11:39:04] test.py(108) : fine_tune_params{'enable': False, 'fine_tune_episodes': 1000, 'k': 10, 'fine_tune_batch_size': 10, 'augmentation_enable': True, 'optimizer': {'lr': 1e-05, 'weight_decay': 1e-06}}\n",
      "[2024-04-01 11:39:04] test.py(108) : logger_params{'log_file': {'desc': 'test_cvrp', 'filename': 'log.txt', 'filepath': './result/20240401_113904_test_cvrp'}}\n"
     ]
    },
    {
     "name": "stderr",
     "output_type": "stream",
     "text": [
      "/home/xunj/miniconda3/lib/python3.11/site-packages/torch/__init__.py:614: UserWarning: torch.set_default_tensor_type() is deprecated as of PyTorch 2.1, please use torch.set_default_dtype() and torch.set_default_device() as alternatives. (Triggered internally at /opt/conda/conda-bld/pytorch_1699449183005/work/torch/csrc/tensor/python_tensor.cpp:451.)\n",
      "  _C._set_default_tensor_type(t)\n"
     ]
    },
    {
     "name": "stdout",
     "output_type": "stream",
     "text": [
      "['../../data/CVRP/dataset/Vrp-Set-X/X-n716/X-n716-k35.vrp']\n",
      "[2024-04-01 11:39:10] CVRPTester.py(84) : >> Model loaded from result/maml_250000checkpts/checkpoint-250000.pt\n",
      "[2024-04-01 11:39:14] CVRPTester.py(225) : episode   1/  1, Elapsed[0.06m], Remain[0.00m], sol:43.373, score:45.869, aug_score:45.869\n",
      "[2024-04-01 11:39:14] CVRPTester.py(231) :  *** Test Done *** \n",
      "[2024-04-01 11:39:14] CVRPTester.py(232) :  NO-AUG SCORE: 45.8688, Gap: 5.7542 \n",
      "[2024-04-01 11:39:14] CVRPTester.py(233) :  AUGMENTATION SCORE: 45.8688, Gap: 5.7542 \n",
      "45.869 (5.754%)\n",
      "45.869 (5.754%)\n",
      ">> Evaluation on ../../data/CVRP/dataset/Vrp-Set-X/X-n716 finished within 3.57s\n",
      ">> Save final results to res/X-n716\n",
      "Test on \" ../../data/CVRP/dataset/Vrp-Set-X/X-n716 \" Success\n",
      "-----------------------------------------------------------------------------------------------------------------\n",
      "[2024-04-01 11:39:17] test.py(106) : DEBUG_MODE: False\n",
      "[2024-04-01 11:39:17] test.py(107) : USE_CUDA: True, CUDA_DEVICE_NUM: 0\n",
      "[2024-04-01 11:39:17] test.py(108) : env_params{'problem_size': 200, 'pomo_size': 200}\n",
      "[2024-04-01 11:39:17] test.py(108) : model_params{'embedding_dim': 128, 'sqrt_embedding_dim': 11.313708498984761, 'encoder_layer_num': 6, 'qkv_dim': 16, 'head_num': 8, 'logit_clipping': 10, 'ff_hidden_dim': 512, 'eval_type': 'argmax', 'norm': 'batch_no_track'}\n",
      "[2024-04-01 11:39:17] test.py(108) : tester_params{'use_cuda': True, 'cuda_device_num': 0, 'seed': 2024, 'model_load': {'path': 'result/maml_250000checkpts', 'epoch': 250000}, 'test_episodes': 1, 'test_batch_size': 1, 'augmentation_enable': True, 'test_robustness': False, 'aug_factor': 8, 'aug_batch_size': 1, 'test_set_path': '../../data/CVRP/dataset/Vrp-Set-X/X-n733', 'test_set_opt_sol_path': '../../data/CVRP/dataset/Vrp-Set-X/X-n733-sol', 'test_set_name': 'A-n33'}\n",
      "[2024-04-01 11:39:17] test.py(108) : fine_tune_params{'enable': False, 'fine_tune_episodes': 1000, 'k': 10, 'fine_tune_batch_size': 10, 'augmentation_enable': True, 'optimizer': {'lr': 1e-05, 'weight_decay': 1e-06}}\n",
      "[2024-04-01 11:39:17] test.py(108) : logger_params{'log_file': {'desc': 'test_cvrp', 'filename': 'log.txt', 'filepath': './result/20240401_113917_test_cvrp'}}\n"
     ]
    },
    {
     "name": "stderr",
     "output_type": "stream",
     "text": [
      "/home/xunj/miniconda3/lib/python3.11/site-packages/torch/__init__.py:614: UserWarning: torch.set_default_tensor_type() is deprecated as of PyTorch 2.1, please use torch.set_default_dtype() and torch.set_default_device() as alternatives. (Triggered internally at /opt/conda/conda-bld/pytorch_1699449183005/work/torch/csrc/tensor/python_tensor.cpp:451.)\n",
      "  _C._set_default_tensor_type(t)\n"
     ]
    },
    {
     "name": "stdout",
     "output_type": "stream",
     "text": [
      "['../../data/CVRP/dataset/Vrp-Set-X/X-n733/X-n733-k159.vrp']\n",
      "[2024-04-01 11:39:23] CVRPTester.py(84) : >> Model loaded from result/maml_250000checkpts/checkpoint-250000.pt\n",
      "[2024-04-01 11:39:28] CVRPTester.py(225) : episode   1/  1, Elapsed[0.07m], Remain[0.00m], sol:136.187, score:148.516, aug_score:147.728\n",
      "[2024-04-01 11:39:28] CVRPTester.py(231) :  *** Test Done *** \n",
      "[2024-04-01 11:39:28] CVRPTester.py(232) :  NO-AUG SCORE: 148.5157, Gap: 9.0528 \n",
      "[2024-04-01 11:39:28] CVRPTester.py(233) :  AUGMENTATION SCORE: 147.7277, Gap: 8.4742 \n",
      "148.516 (9.053%)\n",
      "147.728 (8.474%)\n",
      ">> Evaluation on ../../data/CVRP/dataset/Vrp-Set-X/X-n733 finished within 4.38s\n",
      ">> Save final results to res/X-n733\n",
      "Test on \" ../../data/CVRP/dataset/Vrp-Set-X/X-n733 \" Success\n",
      "-----------------------------------------------------------------------------------------------------------------\n",
      "[2024-04-01 11:39:31] test.py(106) : DEBUG_MODE: False\n",
      "[2024-04-01 11:39:31] test.py(107) : USE_CUDA: True, CUDA_DEVICE_NUM: 0\n",
      "[2024-04-01 11:39:31] test.py(108) : env_params{'problem_size': 200, 'pomo_size': 200}\n",
      "[2024-04-01 11:39:31] test.py(108) : model_params{'embedding_dim': 128, 'sqrt_embedding_dim': 11.313708498984761, 'encoder_layer_num': 6, 'qkv_dim': 16, 'head_num': 8, 'logit_clipping': 10, 'ff_hidden_dim': 512, 'eval_type': 'argmax', 'norm': 'batch_no_track'}\n",
      "[2024-04-01 11:39:31] test.py(108) : tester_params{'use_cuda': True, 'cuda_device_num': 0, 'seed': 2024, 'model_load': {'path': 'result/maml_250000checkpts', 'epoch': 250000}, 'test_episodes': 1, 'test_batch_size': 1, 'augmentation_enable': True, 'test_robustness': False, 'aug_factor': 8, 'aug_batch_size': 1, 'test_set_path': '../../data/CVRP/dataset/Vrp-Set-X/X-n749', 'test_set_opt_sol_path': '../../data/CVRP/dataset/Vrp-Set-X/X-n749-sol', 'test_set_name': 'A-n33'}\n",
      "[2024-04-01 11:39:31] test.py(108) : fine_tune_params{'enable': False, 'fine_tune_episodes': 1000, 'k': 10, 'fine_tune_batch_size': 10, 'augmentation_enable': True, 'optimizer': {'lr': 1e-05, 'weight_decay': 1e-06}}\n",
      "[2024-04-01 11:39:31] test.py(108) : logger_params{'log_file': {'desc': 'test_cvrp', 'filename': 'log.txt', 'filepath': './result/20240401_113930_test_cvrp'}}\n"
     ]
    },
    {
     "name": "stderr",
     "output_type": "stream",
     "text": [
      "/home/xunj/miniconda3/lib/python3.11/site-packages/torch/__init__.py:614: UserWarning: torch.set_default_tensor_type() is deprecated as of PyTorch 2.1, please use torch.set_default_dtype() and torch.set_default_device() as alternatives. (Triggered internally at /opt/conda/conda-bld/pytorch_1699449183005/work/torch/csrc/tensor/python_tensor.cpp:451.)\n",
      "  _C._set_default_tensor_type(t)\n"
     ]
    },
    {
     "name": "stdout",
     "output_type": "stream",
     "text": [
      "['../../data/CVRP/dataset/Vrp-Set-X/X-n749/X-n749-k98.vrp']\n",
      "[2024-04-01 11:39:37] CVRPTester.py(84) : >> Model loaded from result/maml_250000checkpts/checkpoint-250000.pt\n",
      "[2024-04-01 11:39:41] CVRPTester.py(225) : episode   1/  1, Elapsed[0.07m], Remain[0.00m], sol:77.269, score:85.138, aug_score:84.294\n",
      "[2024-04-01 11:39:41] CVRPTester.py(231) :  *** Test Done *** \n",
      "[2024-04-01 11:39:41] CVRPTester.py(232) :  NO-AUG SCORE: 85.1377, Gap: 10.1835 \n",
      "[2024-04-01 11:39:41] CVRPTester.py(233) :  AUGMENTATION SCORE: 84.2940, Gap: 9.0916 \n",
      "85.138 (10.183%)\n",
      "84.294 (9.092%)\n",
      ">> Evaluation on ../../data/CVRP/dataset/Vrp-Set-X/X-n749 finished within 4.25s\n",
      ">> Save final results to res/X-n749\n",
      "Test on \" ../../data/CVRP/dataset/Vrp-Set-X/X-n749 \" Success\n",
      "-----------------------------------------------------------------------------------------------------------------\n",
      "[2024-04-01 11:39:45] test.py(106) : DEBUG_MODE: False\n",
      "[2024-04-01 11:39:45] test.py(107) : USE_CUDA: True, CUDA_DEVICE_NUM: 0\n",
      "[2024-04-01 11:39:45] test.py(108) : env_params{'problem_size': 200, 'pomo_size': 200}\n",
      "[2024-04-01 11:39:45] test.py(108) : model_params{'embedding_dim': 128, 'sqrt_embedding_dim': 11.313708498984761, 'encoder_layer_num': 6, 'qkv_dim': 16, 'head_num': 8, 'logit_clipping': 10, 'ff_hidden_dim': 512, 'eval_type': 'argmax', 'norm': 'batch_no_track'}\n",
      "[2024-04-01 11:39:45] test.py(108) : tester_params{'use_cuda': True, 'cuda_device_num': 0, 'seed': 2024, 'model_load': {'path': 'result/maml_250000checkpts', 'epoch': 250000}, 'test_episodes': 1, 'test_batch_size': 1, 'augmentation_enable': True, 'test_robustness': False, 'aug_factor': 8, 'aug_batch_size': 1, 'test_set_path': '../../data/CVRP/dataset/Vrp-Set-X/X-n766', 'test_set_opt_sol_path': '../../data/CVRP/dataset/Vrp-Set-X/X-n766-sol', 'test_set_name': 'A-n33'}\n",
      "[2024-04-01 11:39:45] test.py(108) : fine_tune_params{'enable': False, 'fine_tune_episodes': 1000, 'k': 10, 'fine_tune_batch_size': 10, 'augmentation_enable': True, 'optimizer': {'lr': 1e-05, 'weight_decay': 1e-06}}\n",
      "[2024-04-01 11:39:45] test.py(108) : logger_params{'log_file': {'desc': 'test_cvrp', 'filename': 'log.txt', 'filepath': './result/20240401_113944_test_cvrp'}}\n"
     ]
    },
    {
     "name": "stderr",
     "output_type": "stream",
     "text": [
      "/home/xunj/miniconda3/lib/python3.11/site-packages/torch/__init__.py:614: UserWarning: torch.set_default_tensor_type() is deprecated as of PyTorch 2.1, please use torch.set_default_dtype() and torch.set_default_device() as alternatives. (Triggered internally at /opt/conda/conda-bld/pytorch_1699449183005/work/torch/csrc/tensor/python_tensor.cpp:451.)\n",
      "  _C._set_default_tensor_type(t)\n"
     ]
    },
    {
     "name": "stdout",
     "output_type": "stream",
     "text": [
      "['../../data/CVRP/dataset/Vrp-Set-X/X-n766/X-n766-k71.vrp']\n",
      "[2024-04-01 11:39:51] CVRPTester.py(84) : >> Model loaded from result/maml_250000checkpts/checkpoint-250000.pt\n",
      "[2024-04-01 11:39:55] CVRPTester.py(225) : episode   1/  1, Elapsed[0.07m], Remain[0.00m], sol:114.417, score:124.629, aug_score:124.629\n",
      "[2024-04-01 11:39:55] CVRPTester.py(231) :  *** Test Done *** \n",
      "[2024-04-01 11:39:55] CVRPTester.py(232) :  NO-AUG SCORE: 124.6293, Gap: 8.9255 \n",
      "[2024-04-01 11:39:55] CVRPTester.py(233) :  AUGMENTATION SCORE: 124.6293, Gap: 8.9255 \n",
      "124.629 (8.925%)\n",
      "124.629 (8.925%)\n",
      ">> Evaluation on ../../data/CVRP/dataset/Vrp-Set-X/X-n766 finished within 4.17s\n",
      ">> Save final results to res/X-n766\n",
      "Test on \" ../../data/CVRP/dataset/Vrp-Set-X/X-n766 \" Success\n",
      "-----------------------------------------------------------------------------------------------------------------\n",
      "[2024-04-01 11:39:58] test.py(106) : DEBUG_MODE: False\n",
      "[2024-04-01 11:39:58] test.py(107) : USE_CUDA: True, CUDA_DEVICE_NUM: 0\n",
      "[2024-04-01 11:39:58] test.py(108) : env_params{'problem_size': 200, 'pomo_size': 200}\n",
      "[2024-04-01 11:39:58] test.py(108) : model_params{'embedding_dim': 128, 'sqrt_embedding_dim': 11.313708498984761, 'encoder_layer_num': 6, 'qkv_dim': 16, 'head_num': 8, 'logit_clipping': 10, 'ff_hidden_dim': 512, 'eval_type': 'argmax', 'norm': 'batch_no_track'}\n",
      "[2024-04-01 11:39:58] test.py(108) : tester_params{'use_cuda': True, 'cuda_device_num': 0, 'seed': 2024, 'model_load': {'path': 'result/maml_250000checkpts', 'epoch': 250000}, 'test_episodes': 1, 'test_batch_size': 1, 'augmentation_enable': True, 'test_robustness': False, 'aug_factor': 8, 'aug_batch_size': 1, 'test_set_path': '../../data/CVRP/dataset/Vrp-Set-X/X-n783', 'test_set_opt_sol_path': '../../data/CVRP/dataset/Vrp-Set-X/X-n783-sol', 'test_set_name': 'A-n33'}\n",
      "[2024-04-01 11:39:58] test.py(108) : fine_tune_params{'enable': False, 'fine_tune_episodes': 1000, 'k': 10, 'fine_tune_batch_size': 10, 'augmentation_enable': True, 'optimizer': {'lr': 1e-05, 'weight_decay': 1e-06}}\n",
      "[2024-04-01 11:39:58] test.py(108) : logger_params{'log_file': {'desc': 'test_cvrp', 'filename': 'log.txt', 'filepath': './result/20240401_113958_test_cvrp'}}\n"
     ]
    },
    {
     "name": "stderr",
     "output_type": "stream",
     "text": [
      "/home/xunj/miniconda3/lib/python3.11/site-packages/torch/__init__.py:614: UserWarning: torch.set_default_tensor_type() is deprecated as of PyTorch 2.1, please use torch.set_default_dtype() and torch.set_default_device() as alternatives. (Triggered internally at /opt/conda/conda-bld/pytorch_1699449183005/work/torch/csrc/tensor/python_tensor.cpp:451.)\n",
      "  _C._set_default_tensor_type(t)\n"
     ]
    },
    {
     "name": "stdout",
     "output_type": "stream",
     "text": [
      "['../../data/CVRP/dataset/Vrp-Set-X/X-n783/X-n783-k48.vrp']\n",
      "[2024-04-01 11:40:04] CVRPTester.py(84) : >> Model loaded from result/maml_250000checkpts/checkpoint-250000.pt\n",
      "[2024-04-01 11:40:09] CVRPTester.py(225) : episode   1/  1, Elapsed[0.07m], Remain[0.00m], sol:72.386, score:78.688, aug_score:78.484\n",
      "[2024-04-01 11:40:09] CVRPTester.py(231) :  *** Test Done *** \n",
      "[2024-04-01 11:40:09] CVRPTester.py(232) :  NO-AUG SCORE: 78.6878, Gap: 8.7059 \n",
      "[2024-04-01 11:40:09] CVRPTester.py(233) :  AUGMENTATION SCORE: 78.4838, Gap: 8.4241 \n",
      "78.688 (8.706%)\n",
      "78.484 (8.424%)\n",
      ">> Evaluation on ../../data/CVRP/dataset/Vrp-Set-X/X-n783 finished within 4.20s\n",
      ">> Save final results to res/X-n783\n",
      "Test on \" ../../data/CVRP/dataset/Vrp-Set-X/X-n783 \" Success\n",
      "-----------------------------------------------------------------------------------------------------------------\n",
      "[2024-04-01 11:40:12] test.py(106) : DEBUG_MODE: False\n",
      "[2024-04-01 11:40:12] test.py(107) : USE_CUDA: True, CUDA_DEVICE_NUM: 0\n",
      "[2024-04-01 11:40:12] test.py(108) : env_params{'problem_size': 200, 'pomo_size': 200}\n",
      "[2024-04-01 11:40:12] test.py(108) : model_params{'embedding_dim': 128, 'sqrt_embedding_dim': 11.313708498984761, 'encoder_layer_num': 6, 'qkv_dim': 16, 'head_num': 8, 'logit_clipping': 10, 'ff_hidden_dim': 512, 'eval_type': 'argmax', 'norm': 'batch_no_track'}\n",
      "[2024-04-01 11:40:12] test.py(108) : tester_params{'use_cuda': True, 'cuda_device_num': 0, 'seed': 2024, 'model_load': {'path': 'result/maml_250000checkpts', 'epoch': 250000}, 'test_episodes': 1, 'test_batch_size': 1, 'augmentation_enable': True, 'test_robustness': False, 'aug_factor': 8, 'aug_batch_size': 1, 'test_set_path': '../../data/CVRP/dataset/Vrp-Set-X/X-n801', 'test_set_opt_sol_path': '../../data/CVRP/dataset/Vrp-Set-X/X-n801-sol', 'test_set_name': 'A-n33'}\n",
      "[2024-04-01 11:40:12] test.py(108) : fine_tune_params{'enable': False, 'fine_tune_episodes': 1000, 'k': 10, 'fine_tune_batch_size': 10, 'augmentation_enable': True, 'optimizer': {'lr': 1e-05, 'weight_decay': 1e-06}}\n",
      "[2024-04-01 11:40:12] test.py(108) : logger_params{'log_file': {'desc': 'test_cvrp', 'filename': 'log.txt', 'filepath': './result/20240401_114012_test_cvrp'}}\n"
     ]
    },
    {
     "name": "stderr",
     "output_type": "stream",
     "text": [
      "/home/xunj/miniconda3/lib/python3.11/site-packages/torch/__init__.py:614: UserWarning: torch.set_default_tensor_type() is deprecated as of PyTorch 2.1, please use torch.set_default_dtype() and torch.set_default_device() as alternatives. (Triggered internally at /opt/conda/conda-bld/pytorch_1699449183005/work/torch/csrc/tensor/python_tensor.cpp:451.)\n",
      "  _C._set_default_tensor_type(t)\n"
     ]
    },
    {
     "name": "stdout",
     "output_type": "stream",
     "text": [
      "['../../data/CVRP/dataset/Vrp-Set-X/X-n801/X-n801-k40.vrp']\n",
      "[2024-04-01 11:40:18] CVRPTester.py(84) : >> Model loaded from result/maml_250000checkpts/checkpoint-250000.pt\n",
      "[2024-04-01 11:40:23] CVRPTester.py(225) : episode   1/  1, Elapsed[0.07m], Remain[0.00m], sol:73.311, score:80.093, aug_score:79.053\n",
      "[2024-04-01 11:40:23] CVRPTester.py(231) :  *** Test Done *** \n",
      "[2024-04-01 11:40:23] CVRPTester.py(232) :  NO-AUG SCORE: 80.0932, Gap: 9.2513 \n",
      "[2024-04-01 11:40:23] CVRPTester.py(233) :  AUGMENTATION SCORE: 79.0527, Gap: 7.8320 \n",
      "80.093 (9.251%)\n",
      "79.053 (7.832%)\n",
      ">> Evaluation on ../../data/CVRP/dataset/Vrp-Set-X/X-n801 finished within 4.43s\n",
      ">> Save final results to res/X-n801\n",
      "Test on \" ../../data/CVRP/dataset/Vrp-Set-X/X-n801 \" Success\n",
      "-----------------------------------------------------------------------------------------------------------------\n",
      "[2024-04-01 11:40:26] test.py(106) : DEBUG_MODE: False\n",
      "[2024-04-01 11:40:26] test.py(107) : USE_CUDA: True, CUDA_DEVICE_NUM: 0\n",
      "[2024-04-01 11:40:26] test.py(108) : env_params{'problem_size': 200, 'pomo_size': 200}\n",
      "[2024-04-01 11:40:26] test.py(108) : model_params{'embedding_dim': 128, 'sqrt_embedding_dim': 11.313708498984761, 'encoder_layer_num': 6, 'qkv_dim': 16, 'head_num': 8, 'logit_clipping': 10, 'ff_hidden_dim': 512, 'eval_type': 'argmax', 'norm': 'batch_no_track'}\n",
      "[2024-04-01 11:40:26] test.py(108) : tester_params{'use_cuda': True, 'cuda_device_num': 0, 'seed': 2024, 'model_load': {'path': 'result/maml_250000checkpts', 'epoch': 250000}, 'test_episodes': 1, 'test_batch_size': 1, 'augmentation_enable': True, 'test_robustness': False, 'aug_factor': 8, 'aug_batch_size': 1, 'test_set_path': '../../data/CVRP/dataset/Vrp-Set-X/X-n819', 'test_set_opt_sol_path': '../../data/CVRP/dataset/Vrp-Set-X/X-n819-sol', 'test_set_name': 'A-n33'}\n",
      "[2024-04-01 11:40:26] test.py(108) : fine_tune_params{'enable': False, 'fine_tune_episodes': 1000, 'k': 10, 'fine_tune_batch_size': 10, 'augmentation_enable': True, 'optimizer': {'lr': 1e-05, 'weight_decay': 1e-06}}\n",
      "[2024-04-01 11:40:26] test.py(108) : logger_params{'log_file': {'desc': 'test_cvrp', 'filename': 'log.txt', 'filepath': './result/20240401_114025_test_cvrp'}}\n"
     ]
    },
    {
     "name": "stderr",
     "output_type": "stream",
     "text": [
      "/home/xunj/miniconda3/lib/python3.11/site-packages/torch/__init__.py:614: UserWarning: torch.set_default_tensor_type() is deprecated as of PyTorch 2.1, please use torch.set_default_dtype() and torch.set_default_device() as alternatives. (Triggered internally at /opt/conda/conda-bld/pytorch_1699449183005/work/torch/csrc/tensor/python_tensor.cpp:451.)\n",
      "  _C._set_default_tensor_type(t)\n"
     ]
    },
    {
     "name": "stdout",
     "output_type": "stream",
     "text": [
      "['../../data/CVRP/dataset/Vrp-Set-X/X-n819/X-n819-k171.vrp']\n",
      "[2024-04-01 11:40:32] CVRPTester.py(84) : >> Model loaded from result/maml_250000checkpts/checkpoint-250000.pt\n",
      "[2024-04-01 11:40:37] CVRPTester.py(225) : episode   1/  1, Elapsed[0.09m], Remain[0.00m], sol:158.121, score:173.817, aug_score:171.657\n",
      "[2024-04-01 11:40:37] CVRPTester.py(231) :  *** Test Done *** \n",
      "[2024-04-01 11:40:37] CVRPTester.py(232) :  NO-AUG SCORE: 173.8173, Gap: 9.9267 \n",
      "[2024-04-01 11:40:37] CVRPTester.py(233) :  AUGMENTATION SCORE: 171.6569, Gap: 8.5605 \n",
      "173.817 (9.927%)\n",
      "171.657 (8.560%)\n",
      ">> Evaluation on ../../data/CVRP/dataset/Vrp-Set-X/X-n819 finished within 5.22s\n",
      ">> Save final results to res/X-n819\n",
      "Test on \" ../../data/CVRP/dataset/Vrp-Set-X/X-n819 \" Success\n",
      "-----------------------------------------------------------------------------------------------------------------\n",
      "[2024-04-01 11:40:40] test.py(106) : DEBUG_MODE: False\n",
      "[2024-04-01 11:40:40] test.py(107) : USE_CUDA: True, CUDA_DEVICE_NUM: 0\n",
      "[2024-04-01 11:40:40] test.py(108) : env_params{'problem_size': 200, 'pomo_size': 200}\n",
      "[2024-04-01 11:40:40] test.py(108) : model_params{'embedding_dim': 128, 'sqrt_embedding_dim': 11.313708498984761, 'encoder_layer_num': 6, 'qkv_dim': 16, 'head_num': 8, 'logit_clipping': 10, 'ff_hidden_dim': 512, 'eval_type': 'argmax', 'norm': 'batch_no_track'}\n",
      "[2024-04-01 11:40:40] test.py(108) : tester_params{'use_cuda': True, 'cuda_device_num': 0, 'seed': 2024, 'model_load': {'path': 'result/maml_250000checkpts', 'epoch': 250000}, 'test_episodes': 1, 'test_batch_size': 1, 'augmentation_enable': True, 'test_robustness': False, 'aug_factor': 8, 'aug_batch_size': 1, 'test_set_path': '../../data/CVRP/dataset/Vrp-Set-X/X-n837', 'test_set_opt_sol_path': '../../data/CVRP/dataset/Vrp-Set-X/X-n837-sol', 'test_set_name': 'A-n33'}\n",
      "[2024-04-01 11:40:40] test.py(108) : fine_tune_params{'enable': False, 'fine_tune_episodes': 1000, 'k': 10, 'fine_tune_batch_size': 10, 'augmentation_enable': True, 'optimizer': {'lr': 1e-05, 'weight_decay': 1e-06}}\n",
      "[2024-04-01 11:40:40] test.py(108) : logger_params{'log_file': {'desc': 'test_cvrp', 'filename': 'log.txt', 'filepath': './result/20240401_114040_test_cvrp'}}\n"
     ]
    },
    {
     "name": "stderr",
     "output_type": "stream",
     "text": [
      "/home/xunj/miniconda3/lib/python3.11/site-packages/torch/__init__.py:614: UserWarning: torch.set_default_tensor_type() is deprecated as of PyTorch 2.1, please use torch.set_default_dtype() and torch.set_default_device() as alternatives. (Triggered internally at /opt/conda/conda-bld/pytorch_1699449183005/work/torch/csrc/tensor/python_tensor.cpp:451.)\n",
      "  _C._set_default_tensor_type(t)\n"
     ]
    },
    {
     "name": "stdout",
     "output_type": "stream",
     "text": [
      "['../../data/CVRP/dataset/Vrp-Set-X/X-n837/X-n837-k142.vrp']\n",
      "[2024-04-01 11:40:46] CVRPTester.py(84) : >> Model loaded from result/maml_250000checkpts/checkpoint-250000.pt\n",
      "[2024-04-01 11:40:52] CVRPTester.py(225) : episode   1/  1, Elapsed[0.09m], Remain[0.00m], sol:193.737, score:215.279, aug_score:207.925\n",
      "[2024-04-01 11:40:52] CVRPTester.py(231) :  *** Test Done *** \n",
      "[2024-04-01 11:40:52] CVRPTester.py(232) :  NO-AUG SCORE: 215.2791, Gap: 11.1193 \n",
      "[2024-04-01 11:40:52] CVRPTester.py(233) :  AUGMENTATION SCORE: 207.9251, Gap: 7.3234 \n",
      "215.279 (11.119%)\n",
      "207.925 (7.323%)\n",
      ">> Evaluation on ../../data/CVRP/dataset/Vrp-Set-X/X-n837 finished within 5.29s\n",
      ">> Save final results to res/X-n837\n",
      "Test on \" ../../data/CVRP/dataset/Vrp-Set-X/X-n837 \" Success\n",
      "-----------------------------------------------------------------------------------------------------------------\n",
      "[2024-04-01 11:40:55] test.py(106) : DEBUG_MODE: False\n",
      "[2024-04-01 11:40:55] test.py(107) : USE_CUDA: True, CUDA_DEVICE_NUM: 0\n",
      "[2024-04-01 11:40:55] test.py(108) : env_params{'problem_size': 200, 'pomo_size': 200}\n",
      "[2024-04-01 11:40:55] test.py(108) : model_params{'embedding_dim': 128, 'sqrt_embedding_dim': 11.313708498984761, 'encoder_layer_num': 6, 'qkv_dim': 16, 'head_num': 8, 'logit_clipping': 10, 'ff_hidden_dim': 512, 'eval_type': 'argmax', 'norm': 'batch_no_track'}\n",
      "[2024-04-01 11:40:55] test.py(108) : tester_params{'use_cuda': True, 'cuda_device_num': 0, 'seed': 2024, 'model_load': {'path': 'result/maml_250000checkpts', 'epoch': 250000}, 'test_episodes': 1, 'test_batch_size': 1, 'augmentation_enable': True, 'test_robustness': False, 'aug_factor': 8, 'aug_batch_size': 1, 'test_set_path': '../../data/CVRP/dataset/Vrp-Set-X/X-n856', 'test_set_opt_sol_path': '../../data/CVRP/dataset/Vrp-Set-X/X-n856-sol', 'test_set_name': 'A-n33'}\n",
      "[2024-04-01 11:40:55] test.py(108) : fine_tune_params{'enable': False, 'fine_tune_episodes': 1000, 'k': 10, 'fine_tune_batch_size': 10, 'augmentation_enable': True, 'optimizer': {'lr': 1e-05, 'weight_decay': 1e-06}}\n",
      "[2024-04-01 11:40:55] test.py(108) : logger_params{'log_file': {'desc': 'test_cvrp', 'filename': 'log.txt', 'filepath': './result/20240401_114055_test_cvrp'}}\n"
     ]
    },
    {
     "name": "stderr",
     "output_type": "stream",
     "text": [
      "/home/xunj/miniconda3/lib/python3.11/site-packages/torch/__init__.py:614: UserWarning: torch.set_default_tensor_type() is deprecated as of PyTorch 2.1, please use torch.set_default_dtype() and torch.set_default_device() as alternatives. (Triggered internally at /opt/conda/conda-bld/pytorch_1699449183005/work/torch/csrc/tensor/python_tensor.cpp:451.)\n",
      "  _C._set_default_tensor_type(t)\n"
     ]
    },
    {
     "name": "stdout",
     "output_type": "stream",
     "text": [
      "['../../data/CVRP/dataset/Vrp-Set-X/X-n856/X-n856-k95.vrp']\n",
      "[2024-04-01 11:41:01] CVRPTester.py(84) : >> Model loaded from result/maml_250000checkpts/checkpoint-250000.pt\n",
      "[2024-04-01 11:41:07] CVRPTester.py(225) : episode   1/  1, Elapsed[0.09m], Remain[0.00m], sol:88.965, score:97.336, aug_score:96.155\n",
      "[2024-04-01 11:41:07] CVRPTester.py(231) :  *** Test Done *** \n",
      "[2024-04-01 11:41:07] CVRPTester.py(232) :  NO-AUG SCORE: 97.3358, Gap: 9.4091 \n",
      "[2024-04-01 11:41:07] CVRPTester.py(233) :  AUGMENTATION SCORE: 96.1550, Gap: 8.0818 \n",
      "97.336 (9.409%)\n",
      "96.155 (8.082%)\n",
      ">> Evaluation on ../../data/CVRP/dataset/Vrp-Set-X/X-n856 finished within 5.26s\n",
      ">> Save final results to res/X-n856\n",
      "Test on \" ../../data/CVRP/dataset/Vrp-Set-X/X-n856 \" Success\n",
      "-----------------------------------------------------------------------------------------------------------------\n",
      "[2024-04-01 11:41:10] test.py(106) : DEBUG_MODE: False\n",
      "[2024-04-01 11:41:10] test.py(107) : USE_CUDA: True, CUDA_DEVICE_NUM: 0\n",
      "[2024-04-01 11:41:10] test.py(108) : env_params{'problem_size': 200, 'pomo_size': 200}\n",
      "[2024-04-01 11:41:10] test.py(108) : model_params{'embedding_dim': 128, 'sqrt_embedding_dim': 11.313708498984761, 'encoder_layer_num': 6, 'qkv_dim': 16, 'head_num': 8, 'logit_clipping': 10, 'ff_hidden_dim': 512, 'eval_type': 'argmax', 'norm': 'batch_no_track'}\n",
      "[2024-04-01 11:41:10] test.py(108) : tester_params{'use_cuda': True, 'cuda_device_num': 0, 'seed': 2024, 'model_load': {'path': 'result/maml_250000checkpts', 'epoch': 250000}, 'test_episodes': 1, 'test_batch_size': 1, 'augmentation_enable': True, 'test_robustness': False, 'aug_factor': 8, 'aug_batch_size': 1, 'test_set_path': '../../data/CVRP/dataset/Vrp-Set-X/X-n876', 'test_set_opt_sol_path': '../../data/CVRP/dataset/Vrp-Set-X/X-n876-sol', 'test_set_name': 'A-n33'}\n",
      "[2024-04-01 11:41:10] test.py(108) : fine_tune_params{'enable': False, 'fine_tune_episodes': 1000, 'k': 10, 'fine_tune_batch_size': 10, 'augmentation_enable': True, 'optimizer': {'lr': 1e-05, 'weight_decay': 1e-06}}\n",
      "[2024-04-01 11:41:10] test.py(108) : logger_params{'log_file': {'desc': 'test_cvrp', 'filename': 'log.txt', 'filepath': './result/20240401_114109_test_cvrp'}}\n"
     ]
    },
    {
     "name": "stderr",
     "output_type": "stream",
     "text": [
      "/home/xunj/miniconda3/lib/python3.11/site-packages/torch/__init__.py:614: UserWarning: torch.set_default_tensor_type() is deprecated as of PyTorch 2.1, please use torch.set_default_dtype() and torch.set_default_device() as alternatives. (Triggered internally at /opt/conda/conda-bld/pytorch_1699449183005/work/torch/csrc/tensor/python_tensor.cpp:451.)\n",
      "  _C._set_default_tensor_type(t)\n"
     ]
    },
    {
     "name": "stdout",
     "output_type": "stream",
     "text": [
      "['../../data/CVRP/dataset/Vrp-Set-X/X-n876/X-n876-k59.vrp']\n",
      "[2024-04-01 11:41:17] CVRPTester.py(84) : >> Model loaded from result/maml_250000checkpts/checkpoint-250000.pt\n",
      "[2024-04-01 11:41:22] CVRPTester.py(225) : episode   1/  1, Elapsed[0.09m], Remain[0.00m], sol:99.299, score:104.607, aug_score:104.287\n",
      "[2024-04-01 11:41:22] CVRPTester.py(231) :  *** Test Done *** \n",
      "[2024-04-01 11:41:22] CVRPTester.py(232) :  NO-AUG SCORE: 104.6074, Gap: 5.3459 \n",
      "[2024-04-01 11:41:22] CVRPTester.py(233) :  AUGMENTATION SCORE: 104.2871, Gap: 5.0233 \n",
      "104.607 (5.346%)\n",
      "104.287 (5.023%)\n",
      ">> Evaluation on ../../data/CVRP/dataset/Vrp-Set-X/X-n876 finished within 5.40s\n",
      ">> Save final results to res/X-n876\n",
      "Test on \" ../../data/CVRP/dataset/Vrp-Set-X/X-n876 \" Success\n",
      "-----------------------------------------------------------------------------------------------------------------\n",
      "[2024-04-01 11:41:26] test.py(106) : DEBUG_MODE: False\n",
      "[2024-04-01 11:41:26] test.py(107) : USE_CUDA: True, CUDA_DEVICE_NUM: 0\n",
      "[2024-04-01 11:41:26] test.py(108) : env_params{'problem_size': 200, 'pomo_size': 200}\n",
      "[2024-04-01 11:41:26] test.py(108) : model_params{'embedding_dim': 128, 'sqrt_embedding_dim': 11.313708498984761, 'encoder_layer_num': 6, 'qkv_dim': 16, 'head_num': 8, 'logit_clipping': 10, 'ff_hidden_dim': 512, 'eval_type': 'argmax', 'norm': 'batch_no_track'}\n",
      "[2024-04-01 11:41:26] test.py(108) : tester_params{'use_cuda': True, 'cuda_device_num': 0, 'seed': 2024, 'model_load': {'path': 'result/maml_250000checkpts', 'epoch': 250000}, 'test_episodes': 1, 'test_batch_size': 1, 'augmentation_enable': True, 'test_robustness': False, 'aug_factor': 8, 'aug_batch_size': 1, 'test_set_path': '../../data/CVRP/dataset/Vrp-Set-X/X-n895', 'test_set_opt_sol_path': '../../data/CVRP/dataset/Vrp-Set-X/X-n895-sol', 'test_set_name': 'A-n33'}\n",
      "[2024-04-01 11:41:26] test.py(108) : fine_tune_params{'enable': False, 'fine_tune_episodes': 1000, 'k': 10, 'fine_tune_batch_size': 10, 'augmentation_enable': True, 'optimizer': {'lr': 1e-05, 'weight_decay': 1e-06}}\n",
      "[2024-04-01 11:41:26] test.py(108) : logger_params{'log_file': {'desc': 'test_cvrp', 'filename': 'log.txt', 'filepath': './result/20240401_114125_test_cvrp'}}\n"
     ]
    },
    {
     "name": "stderr",
     "output_type": "stream",
     "text": [
      "/home/xunj/miniconda3/lib/python3.11/site-packages/torch/__init__.py:614: UserWarning: torch.set_default_tensor_type() is deprecated as of PyTorch 2.1, please use torch.set_default_dtype() and torch.set_default_device() as alternatives. (Triggered internally at /opt/conda/conda-bld/pytorch_1699449183005/work/torch/csrc/tensor/python_tensor.cpp:451.)\n",
      "  _C._set_default_tensor_type(t)\n"
     ]
    },
    {
     "name": "stdout",
     "output_type": "stream",
     "text": [
      "['../../data/CVRP/dataset/Vrp-Set-X/X-n895/X-n895-k37.vrp']\n",
      "[2024-04-01 11:41:32] CVRPTester.py(84) : >> Model loaded from result/maml_250000checkpts/checkpoint-250000.pt\n",
      "[2024-04-01 11:41:38] CVRPTester.py(225) : episode   1/  1, Elapsed[0.09m], Remain[0.00m], sol:53.860, score:60.330, aug_score:60.064\n",
      "[2024-04-01 11:41:38] CVRPTester.py(231) :  *** Test Done *** \n",
      "[2024-04-01 11:41:38] CVRPTester.py(232) :  NO-AUG SCORE: 60.3299, Gap: 12.0124 \n",
      "[2024-04-01 11:41:38] CVRPTester.py(233) :  AUGMENTATION SCORE: 60.0644, Gap: 11.5194 \n",
      "60.330 (12.012%)\n",
      "60.064 (11.519%)\n",
      ">> Evaluation on ../../data/CVRP/dataset/Vrp-Set-X/X-n895 finished within 5.45s\n",
      ">> Save final results to res/X-n895\n",
      "Test on \" ../../data/CVRP/dataset/Vrp-Set-X/X-n895 \" Success\n",
      "-----------------------------------------------------------------------------------------------------------------\n",
      "[2024-04-01 11:41:41] test.py(106) : DEBUG_MODE: False\n",
      "[2024-04-01 11:41:41] test.py(107) : USE_CUDA: True, CUDA_DEVICE_NUM: 0\n",
      "[2024-04-01 11:41:41] test.py(108) : env_params{'problem_size': 200, 'pomo_size': 200}\n",
      "[2024-04-01 11:41:41] test.py(108) : model_params{'embedding_dim': 128, 'sqrt_embedding_dim': 11.313708498984761, 'encoder_layer_num': 6, 'qkv_dim': 16, 'head_num': 8, 'logit_clipping': 10, 'ff_hidden_dim': 512, 'eval_type': 'argmax', 'norm': 'batch_no_track'}\n",
      "[2024-04-01 11:41:41] test.py(108) : tester_params{'use_cuda': True, 'cuda_device_num': 0, 'seed': 2024, 'model_load': {'path': 'result/maml_250000checkpts', 'epoch': 250000}, 'test_episodes': 1, 'test_batch_size': 1, 'augmentation_enable': True, 'test_robustness': False, 'aug_factor': 8, 'aug_batch_size': 1, 'test_set_path': '../../data/CVRP/dataset/Vrp-Set-X/X-n916', 'test_set_opt_sol_path': '../../data/CVRP/dataset/Vrp-Set-X/X-n916-sol', 'test_set_name': 'A-n33'}\n",
      "[2024-04-01 11:41:41] test.py(108) : fine_tune_params{'enable': False, 'fine_tune_episodes': 1000, 'k': 10, 'fine_tune_batch_size': 10, 'augmentation_enable': True, 'optimizer': {'lr': 1e-05, 'weight_decay': 1e-06}}\n",
      "[2024-04-01 11:41:41] test.py(108) : logger_params{'log_file': {'desc': 'test_cvrp', 'filename': 'log.txt', 'filepath': './result/20240401_114141_test_cvrp'}}\n"
     ]
    },
    {
     "name": "stderr",
     "output_type": "stream",
     "text": [
      "/home/xunj/miniconda3/lib/python3.11/site-packages/torch/__init__.py:614: UserWarning: torch.set_default_tensor_type() is deprecated as of PyTorch 2.1, please use torch.set_default_dtype() and torch.set_default_device() as alternatives. (Triggered internally at /opt/conda/conda-bld/pytorch_1699449183005/work/torch/csrc/tensor/python_tensor.cpp:451.)\n",
      "  _C._set_default_tensor_type(t)\n"
     ]
    },
    {
     "name": "stdout",
     "output_type": "stream",
     "text": [
      "['../../data/CVRP/dataset/Vrp-Set-X/X-n916/X-n916-k207.vrp']\n",
      "[2024-04-01 11:41:47] CVRPTester.py(84) : >> Model loaded from result/maml_250000checkpts/checkpoint-250000.pt\n",
      "[2024-04-01 11:41:54] CVRPTester.py(225) : episode   1/  1, Elapsed[0.11m], Remain[0.00m], sol:329.179, score:358.707, aug_score:355.039\n",
      "[2024-04-01 11:41:54] CVRPTester.py(231) :  *** Test Done *** \n",
      "[2024-04-01 11:41:54] CVRPTester.py(232) :  NO-AUG SCORE: 358.7074, Gap: 8.9703 \n",
      "[2024-04-01 11:41:54] CVRPTester.py(233) :  AUGMENTATION SCORE: 355.0385, Gap: 7.8558 \n",
      "358.707 (8.970%)\n",
      "355.039 (7.856%)\n",
      ">> Evaluation on ../../data/CVRP/dataset/Vrp-Set-X/X-n916 finished within 6.85s\n",
      ">> Save final results to res/X-n916\n",
      "Test on \" ../../data/CVRP/dataset/Vrp-Set-X/X-n916 \" Success\n",
      "-----------------------------------------------------------------------------------------------------------------\n",
      "[2024-04-01 11:41:58] test.py(106) : DEBUG_MODE: False\n",
      "[2024-04-01 11:41:58] test.py(107) : USE_CUDA: True, CUDA_DEVICE_NUM: 0\n",
      "[2024-04-01 11:41:58] test.py(108) : env_params{'problem_size': 200, 'pomo_size': 200}\n",
      "[2024-04-01 11:41:58] test.py(108) : model_params{'embedding_dim': 128, 'sqrt_embedding_dim': 11.313708498984761, 'encoder_layer_num': 6, 'qkv_dim': 16, 'head_num': 8, 'logit_clipping': 10, 'ff_hidden_dim': 512, 'eval_type': 'argmax', 'norm': 'batch_no_track'}\n",
      "[2024-04-01 11:41:58] test.py(108) : tester_params{'use_cuda': True, 'cuda_device_num': 0, 'seed': 2024, 'model_load': {'path': 'result/maml_250000checkpts', 'epoch': 250000}, 'test_episodes': 1, 'test_batch_size': 1, 'augmentation_enable': True, 'test_robustness': False, 'aug_factor': 8, 'aug_batch_size': 1, 'test_set_path': '../../data/CVRP/dataset/Vrp-Set-X/X-n936', 'test_set_opt_sol_path': '../../data/CVRP/dataset/Vrp-Set-X/X-n936-sol', 'test_set_name': 'A-n33'}\n",
      "[2024-04-01 11:41:58] test.py(108) : fine_tune_params{'enable': False, 'fine_tune_episodes': 1000, 'k': 10, 'fine_tune_batch_size': 10, 'augmentation_enable': True, 'optimizer': {'lr': 1e-05, 'weight_decay': 1e-06}}\n",
      "[2024-04-01 11:41:58] test.py(108) : logger_params{'log_file': {'desc': 'test_cvrp', 'filename': 'log.txt', 'filepath': './result/20240401_114158_test_cvrp'}}\n"
     ]
    },
    {
     "name": "stderr",
     "output_type": "stream",
     "text": [
      "/home/xunj/miniconda3/lib/python3.11/site-packages/torch/__init__.py:614: UserWarning: torch.set_default_tensor_type() is deprecated as of PyTorch 2.1, please use torch.set_default_dtype() and torch.set_default_device() as alternatives. (Triggered internally at /opt/conda/conda-bld/pytorch_1699449183005/work/torch/csrc/tensor/python_tensor.cpp:451.)\n",
      "  _C._set_default_tensor_type(t)\n"
     ]
    },
    {
     "name": "stdout",
     "output_type": "stream",
     "text": [
      "['../../data/CVRP/dataset/Vrp-Set-X/X-n936/X-n936-k151.vrp']\n",
      "[2024-04-01 11:42:05] CVRPTester.py(84) : >> Model loaded from result/maml_250000checkpts/checkpoint-250000.pt\n",
      "[2024-04-01 11:42:11] CVRPTester.py(225) : episode   1/  1, Elapsed[0.11m], Remain[0.00m], sol:132.715, score:158.819, aug_score:158.819\n",
      "[2024-04-01 11:42:11] CVRPTester.py(231) :  *** Test Done *** \n",
      "[2024-04-01 11:42:11] CVRPTester.py(232) :  NO-AUG SCORE: 158.8192, Gap: 19.6694 \n",
      "[2024-04-01 11:42:11] CVRPTester.py(233) :  AUGMENTATION SCORE: 158.8192, Gap: 19.6694 \n",
      "158.819 (19.669%)\n",
      "158.819 (19.669%)\n",
      ">> Evaluation on ../../data/CVRP/dataset/Vrp-Set-X/X-n936 finished within 6.33s\n",
      ">> Save final results to res/X-n936\n",
      "Test on \" ../../data/CVRP/dataset/Vrp-Set-X/X-n936 \" Success\n",
      "-----------------------------------------------------------------------------------------------------------------\n",
      "[2024-04-01 11:42:15] test.py(106) : DEBUG_MODE: False\n",
      "[2024-04-01 11:42:15] test.py(107) : USE_CUDA: True, CUDA_DEVICE_NUM: 0\n",
      "[2024-04-01 11:42:15] test.py(108) : env_params{'problem_size': 200, 'pomo_size': 200}\n",
      "[2024-04-01 11:42:15] test.py(108) : model_params{'embedding_dim': 128, 'sqrt_embedding_dim': 11.313708498984761, 'encoder_layer_num': 6, 'qkv_dim': 16, 'head_num': 8, 'logit_clipping': 10, 'ff_hidden_dim': 512, 'eval_type': 'argmax', 'norm': 'batch_no_track'}\n",
      "[2024-04-01 11:42:15] test.py(108) : tester_params{'use_cuda': True, 'cuda_device_num': 0, 'seed': 2024, 'model_load': {'path': 'result/maml_250000checkpts', 'epoch': 250000}, 'test_episodes': 1, 'test_batch_size': 1, 'augmentation_enable': True, 'test_robustness': False, 'aug_factor': 8, 'aug_batch_size': 1, 'test_set_path': '../../data/CVRP/dataset/Vrp-Set-X/X-n957', 'test_set_opt_sol_path': '../../data/CVRP/dataset/Vrp-Set-X/X-n957-sol', 'test_set_name': 'A-n33'}\n",
      "[2024-04-01 11:42:15] test.py(108) : fine_tune_params{'enable': False, 'fine_tune_episodes': 1000, 'k': 10, 'fine_tune_batch_size': 10, 'augmentation_enable': True, 'optimizer': {'lr': 1e-05, 'weight_decay': 1e-06}}\n",
      "[2024-04-01 11:42:15] test.py(108) : logger_params{'log_file': {'desc': 'test_cvrp', 'filename': 'log.txt', 'filepath': './result/20240401_114214_test_cvrp'}}\n"
     ]
    },
    {
     "name": "stderr",
     "output_type": "stream",
     "text": [
      "/home/xunj/miniconda3/lib/python3.11/site-packages/torch/__init__.py:614: UserWarning: torch.set_default_tensor_type() is deprecated as of PyTorch 2.1, please use torch.set_default_dtype() and torch.set_default_device() as alternatives. (Triggered internally at /opt/conda/conda-bld/pytorch_1699449183005/work/torch/csrc/tensor/python_tensor.cpp:451.)\n",
      "  _C._set_default_tensor_type(t)\n"
     ]
    },
    {
     "name": "stdout",
     "output_type": "stream",
     "text": [
      "['../../data/CVRP/dataset/Vrp-Set-X/X-n957/X-n957-k87.vrp']\n",
      "[2024-04-01 11:42:21] CVRPTester.py(84) : >> Model loaded from result/maml_250000checkpts/checkpoint-250000.pt\n",
      "[2024-04-01 11:42:28] CVRPTester.py(225) : episode   1/  1, Elapsed[0.12m], Remain[0.00m], sol:85.465, score:99.392, aug_score:93.166\n",
      "[2024-04-01 11:42:28] CVRPTester.py(231) :  *** Test Done *** \n",
      "[2024-04-01 11:42:28] CVRPTester.py(232) :  NO-AUG SCORE: 99.3923, Gap: 16.2959 \n",
      "[2024-04-01 11:42:28] CVRPTester.py(233) :  AUGMENTATION SCORE: 93.1662, Gap: 9.0110 \n",
      "99.392 (16.296%)\n",
      "93.166 (9.011%)\n",
      ">> Evaluation on ../../data/CVRP/dataset/Vrp-Set-X/X-n957 finished within 6.91s\n",
      ">> Save final results to res/X-n957\n",
      "Test on \" ../../data/CVRP/dataset/Vrp-Set-X/X-n957 \" Success\n",
      "-----------------------------------------------------------------------------------------------------------------\n",
      "[2024-04-01 11:42:32] test.py(106) : DEBUG_MODE: False\n",
      "[2024-04-01 11:42:32] test.py(107) : USE_CUDA: True, CUDA_DEVICE_NUM: 0\n",
      "[2024-04-01 11:42:32] test.py(108) : env_params{'problem_size': 200, 'pomo_size': 200}\n",
      "[2024-04-01 11:42:32] test.py(108) : model_params{'embedding_dim': 128, 'sqrt_embedding_dim': 11.313708498984761, 'encoder_layer_num': 6, 'qkv_dim': 16, 'head_num': 8, 'logit_clipping': 10, 'ff_hidden_dim': 512, 'eval_type': 'argmax', 'norm': 'batch_no_track'}\n",
      "[2024-04-01 11:42:32] test.py(108) : tester_params{'use_cuda': True, 'cuda_device_num': 0, 'seed': 2024, 'model_load': {'path': 'result/maml_250000checkpts', 'epoch': 250000}, 'test_episodes': 1, 'test_batch_size': 1, 'augmentation_enable': True, 'test_robustness': False, 'aug_factor': 8, 'aug_batch_size': 1, 'test_set_path': '../../data/CVRP/dataset/Vrp-Set-X/X-n979', 'test_set_opt_sol_path': '../../data/CVRP/dataset/Vrp-Set-X/X-n979-sol', 'test_set_name': 'A-n33'}\n",
      "[2024-04-01 11:42:32] test.py(108) : fine_tune_params{'enable': False, 'fine_tune_episodes': 1000, 'k': 10, 'fine_tune_batch_size': 10, 'augmentation_enable': True, 'optimizer': {'lr': 1e-05, 'weight_decay': 1e-06}}\n",
      "[2024-04-01 11:42:32] test.py(108) : logger_params{'log_file': {'desc': 'test_cvrp', 'filename': 'log.txt', 'filepath': './result/20240401_114231_test_cvrp'}}\n"
     ]
    },
    {
     "name": "stderr",
     "output_type": "stream",
     "text": [
      "/home/xunj/miniconda3/lib/python3.11/site-packages/torch/__init__.py:614: UserWarning: torch.set_default_tensor_type() is deprecated as of PyTorch 2.1, please use torch.set_default_dtype() and torch.set_default_device() as alternatives. (Triggered internally at /opt/conda/conda-bld/pytorch_1699449183005/work/torch/csrc/tensor/python_tensor.cpp:451.)\n",
      "  _C._set_default_tensor_type(t)\n"
     ]
    },
    {
     "name": "stdout",
     "output_type": "stream",
     "text": [
      "['../../data/CVRP/dataset/Vrp-Set-X/X-n979/X-n979-k58.vrp']\n",
      "[2024-04-01 11:42:38] CVRPTester.py(84) : >> Model loaded from result/maml_250000checkpts/checkpoint-250000.pt\n",
      "[2024-04-01 11:42:46] CVRPTester.py(225) : episode   1/  1, Elapsed[0.13m], Remain[0.00m], sol:118.976, score:125.936, aug_score:125.248\n",
      "[2024-04-01 11:42:46] CVRPTester.py(231) :  *** Test Done *** \n",
      "[2024-04-01 11:42:46] CVRPTester.py(232) :  NO-AUG SCORE: 125.9363, Gap: 5.8502 \n",
      "[2024-04-01 11:42:46] CVRPTester.py(233) :  AUGMENTATION SCORE: 125.2480, Gap: 5.2716 \n",
      "125.936 (5.850%)\n",
      "125.248 (5.272%)\n",
      ">> Evaluation on ../../data/CVRP/dataset/Vrp-Set-X/X-n979 finished within 7.77s\n",
      ">> Save final results to res/X-n979\n",
      "Test on \" ../../data/CVRP/dataset/Vrp-Set-X/X-n979 \" Success\n",
      "-----------------------------------------------------------------------------------------------------------------\n",
      "[2024-04-01 11:42:50] test.py(106) : DEBUG_MODE: False\n",
      "[2024-04-01 11:42:50] test.py(107) : USE_CUDA: True, CUDA_DEVICE_NUM: 0\n",
      "[2024-04-01 11:42:50] test.py(108) : env_params{'problem_size': 200, 'pomo_size': 200}\n",
      "[2024-04-01 11:42:50] test.py(108) : model_params{'embedding_dim': 128, 'sqrt_embedding_dim': 11.313708498984761, 'encoder_layer_num': 6, 'qkv_dim': 16, 'head_num': 8, 'logit_clipping': 10, 'ff_hidden_dim': 512, 'eval_type': 'argmax', 'norm': 'batch_no_track'}\n",
      "[2024-04-01 11:42:50] test.py(108) : tester_params{'use_cuda': True, 'cuda_device_num': 0, 'seed': 2024, 'model_load': {'path': 'result/maml_250000checkpts', 'epoch': 250000}, 'test_episodes': 1, 'test_batch_size': 1, 'augmentation_enable': True, 'test_robustness': False, 'aug_factor': 8, 'aug_batch_size': 1, 'test_set_path': '../../data/CVRP/dataset/Vrp-Set-XXL/XXL-n10001', 'test_set_opt_sol_path': '../../data/CVRP/dataset/Vrp-Set-XXL/XXL-n10001-sol', 'test_set_name': 'A-n33'}\n",
      "[2024-04-01 11:42:50] test.py(108) : fine_tune_params{'enable': False, 'fine_tune_episodes': 1000, 'k': 10, 'fine_tune_batch_size': 10, 'augmentation_enable': True, 'optimizer': {'lr': 1e-05, 'weight_decay': 1e-06}}\n",
      "[2024-04-01 11:42:50] test.py(108) : logger_params{'log_file': {'desc': 'test_cvrp', 'filename': 'log.txt', 'filepath': './result/20240401_114249_test_cvrp'}}\n"
     ]
    },
    {
     "name": "stderr",
     "output_type": "stream",
     "text": [
      "/home/xunj/miniconda3/lib/python3.11/site-packages/torch/__init__.py:614: UserWarning: torch.set_default_tensor_type() is deprecated as of PyTorch 2.1, please use torch.set_default_dtype() and torch.set_default_device() as alternatives. (Triggered internally at /opt/conda/conda-bld/pytorch_1699449183005/work/torch/csrc/tensor/python_tensor.cpp:451.)\n",
      "  _C._set_default_tensor_type(t)\n"
     ]
    },
    {
     "name": "stdout",
     "output_type": "stream",
     "text": [
      "['../../data/CVRP/dataset/Vrp-Set-XXL/XXL-n10001/Ghent1.vrp']\n"
     ]
    },
    {
     "name": "stderr",
     "output_type": "stream",
     "text": [
      "Traceback (most recent call last):\n",
      "  File \"/home/xunj/GradWork/Omni-VRP-main/POMO/CVRP/test.py\", line 141, in <module>\n",
      "    main()\n",
      "  File \"/home/xunj/GradWork/Omni-VRP-main/POMO/CVRP/test.py\", line 89, in main\n",
      "    tester = Tester(env_params=env_params,\n",
      "             ^^^^^^^^^^^^^^^^^^^^^^^^^^^^^\n",
      "  File \"/home/xunj/GradWork/Omni-VRP-main/POMO/CVRP/CVRPTester.py\", line 71, in __init__\n",
      "    assert self.sol_path_list[-1].endswith(\".sol\")\n",
      "AssertionError\n"
     ]
    },
    {
     "name": "stdout",
     "output_type": "stream",
     "text": [
      "Check out issue on set:  ../../data/CVRP/dataset/Vrp-Set-XXL/XXL-n10001\n",
      "[2024-04-01 11:42:55] test.py(106) : DEBUG_MODE: False\n",
      "[2024-04-01 11:42:55] test.py(107) : USE_CUDA: True, CUDA_DEVICE_NUM: 0\n",
      "[2024-04-01 11:42:55] test.py(108) : env_params{'problem_size': 200, 'pomo_size': 200}\n",
      "[2024-04-01 11:42:55] test.py(108) : model_params{'embedding_dim': 128, 'sqrt_embedding_dim': 11.313708498984761, 'encoder_layer_num': 6, 'qkv_dim': 16, 'head_num': 8, 'logit_clipping': 10, 'ff_hidden_dim': 512, 'eval_type': 'argmax', 'norm': 'batch_no_track'}\n",
      "[2024-04-01 11:42:55] test.py(108) : tester_params{'use_cuda': True, 'cuda_device_num': 0, 'seed': 2024, 'model_load': {'path': 'result/maml_250000checkpts', 'epoch': 250000}, 'test_episodes': 1, 'test_batch_size': 1, 'augmentation_enable': True, 'test_robustness': False, 'aug_factor': 8, 'aug_batch_size': 1, 'test_set_path': '../../data/CVRP/dataset/Vrp-Set-XXL/XXL-n11001', 'test_set_opt_sol_path': '../../data/CVRP/dataset/Vrp-Set-XXL/XXL-n11001-sol', 'test_set_name': 'A-n33'}\n",
      "[2024-04-01 11:42:55] test.py(108) : fine_tune_params{'enable': False, 'fine_tune_episodes': 1000, 'k': 10, 'fine_tune_batch_size': 10, 'augmentation_enable': True, 'optimizer': {'lr': 1e-05, 'weight_decay': 1e-06}}\n",
      "[2024-04-01 11:42:55] test.py(108) : logger_params{'log_file': {'desc': 'test_cvrp', 'filename': 'log.txt', 'filepath': './result/20240401_114255_test_cvrp'}}\n"
     ]
    },
    {
     "name": "stderr",
     "output_type": "stream",
     "text": [
      "/home/xunj/miniconda3/lib/python3.11/site-packages/torch/__init__.py:614: UserWarning: torch.set_default_tensor_type() is deprecated as of PyTorch 2.1, please use torch.set_default_dtype() and torch.set_default_device() as alternatives. (Triggered internally at /opt/conda/conda-bld/pytorch_1699449183005/work/torch/csrc/tensor/python_tensor.cpp:451.)\n",
      "  _C._set_default_tensor_type(t)\n"
     ]
    },
    {
     "name": "stdout",
     "output_type": "stream",
     "text": [
      "['../../data/CVRP/dataset/Vrp-Set-XXL/XXL-n11001/Ghent2.vrp']\n"
     ]
    },
    {
     "name": "stderr",
     "output_type": "stream",
     "text": [
      "Traceback (most recent call last):\n",
      "  File \"/home/xunj/GradWork/Omni-VRP-main/POMO/CVRP/test.py\", line 141, in <module>\n",
      "    main()\n",
      "  File \"/home/xunj/GradWork/Omni-VRP-main/POMO/CVRP/test.py\", line 89, in main\n",
      "    tester = Tester(env_params=env_params,\n",
      "             ^^^^^^^^^^^^^^^^^^^^^^^^^^^^^\n",
      "  File \"/home/xunj/GradWork/Omni-VRP-main/POMO/CVRP/CVRPTester.py\", line 71, in __init__\n",
      "    assert self.sol_path_list[-1].endswith(\".sol\")\n",
      "AssertionError\n"
     ]
    },
    {
     "name": "stdout",
     "output_type": "stream",
     "text": [
      "Check out issue on set:  ../../data/CVRP/dataset/Vrp-Set-XXL/XXL-n11001\n",
      "[2024-04-01 11:43:01] test.py(106) : DEBUG_MODE: False\n",
      "[2024-04-01 11:43:01] test.py(107) : USE_CUDA: True, CUDA_DEVICE_NUM: 0\n",
      "[2024-04-01 11:43:01] test.py(108) : env_params{'problem_size': 200, 'pomo_size': 200}\n",
      "[2024-04-01 11:43:01] test.py(108) : model_params{'embedding_dim': 128, 'sqrt_embedding_dim': 11.313708498984761, 'encoder_layer_num': 6, 'qkv_dim': 16, 'head_num': 8, 'logit_clipping': 10, 'ff_hidden_dim': 512, 'eval_type': 'argmax', 'norm': 'batch_no_track'}\n",
      "[2024-04-01 11:43:01] test.py(108) : tester_params{'use_cuda': True, 'cuda_device_num': 0, 'seed': 2024, 'model_load': {'path': 'result/maml_250000checkpts', 'epoch': 250000}, 'test_episodes': 1, 'test_batch_size': 1, 'augmentation_enable': True, 'test_robustness': False, 'aug_factor': 8, 'aug_batch_size': 1, 'test_set_path': '../../data/CVRP/dataset/Vrp-Set-XXL/XXL-n15001', 'test_set_opt_sol_path': '../../data/CVRP/dataset/Vrp-Set-XXL/XXL-n15001-sol', 'test_set_name': 'A-n33'}\n",
      "[2024-04-01 11:43:01] test.py(108) : fine_tune_params{'enable': False, 'fine_tune_episodes': 1000, 'k': 10, 'fine_tune_batch_size': 10, 'augmentation_enable': True, 'optimizer': {'lr': 1e-05, 'weight_decay': 1e-06}}\n",
      "[2024-04-01 11:43:01] test.py(108) : logger_params{'log_file': {'desc': 'test_cvrp', 'filename': 'log.txt', 'filepath': './result/20240401_114301_test_cvrp'}}\n"
     ]
    },
    {
     "name": "stderr",
     "output_type": "stream",
     "text": [
      "/home/xunj/miniconda3/lib/python3.11/site-packages/torch/__init__.py:614: UserWarning: torch.set_default_tensor_type() is deprecated as of PyTorch 2.1, please use torch.set_default_dtype() and torch.set_default_device() as alternatives. (Triggered internally at /opt/conda/conda-bld/pytorch_1699449183005/work/torch/csrc/tensor/python_tensor.cpp:451.)\n",
      "  _C._set_default_tensor_type(t)\n"
     ]
    },
    {
     "name": "stdout",
     "output_type": "stream",
     "text": [
      "['../../data/CVRP/dataset/Vrp-Set-XXL/XXL-n15001/Brussels1.vrp']\n"
     ]
    },
    {
     "name": "stderr",
     "output_type": "stream",
     "text": [
      "Traceback (most recent call last):\n",
      "  File \"/home/xunj/GradWork/Omni-VRP-main/POMO/CVRP/test.py\", line 141, in <module>\n",
      "    main()\n",
      "  File \"/home/xunj/GradWork/Omni-VRP-main/POMO/CVRP/test.py\", line 89, in main\n",
      "    tester = Tester(env_params=env_params,\n",
      "             ^^^^^^^^^^^^^^^^^^^^^^^^^^^^^\n",
      "  File \"/home/xunj/GradWork/Omni-VRP-main/POMO/CVRP/CVRPTester.py\", line 71, in __init__\n",
      "    assert self.sol_path_list[-1].endswith(\".sol\")\n",
      "AssertionError\n"
     ]
    },
    {
     "name": "stdout",
     "output_type": "stream",
     "text": [
      "Check out issue on set:  ../../data/CVRP/dataset/Vrp-Set-XXL/XXL-n15001\n",
      "[2024-04-01 11:43:07] test.py(106) : DEBUG_MODE: False\n",
      "[2024-04-01 11:43:07] test.py(107) : USE_CUDA: True, CUDA_DEVICE_NUM: 0\n",
      "[2024-04-01 11:43:07] test.py(108) : env_params{'problem_size': 200, 'pomo_size': 200}\n",
      "[2024-04-01 11:43:07] test.py(108) : model_params{'embedding_dim': 128, 'sqrt_embedding_dim': 11.313708498984761, 'encoder_layer_num': 6, 'qkv_dim': 16, 'head_num': 8, 'logit_clipping': 10, 'ff_hidden_dim': 512, 'eval_type': 'argmax', 'norm': 'batch_no_track'}\n",
      "[2024-04-01 11:43:07] test.py(108) : tester_params{'use_cuda': True, 'cuda_device_num': 0, 'seed': 2024, 'model_load': {'path': 'result/maml_250000checkpts', 'epoch': 250000}, 'test_episodes': 1, 'test_batch_size': 1, 'augmentation_enable': True, 'test_robustness': False, 'aug_factor': 8, 'aug_batch_size': 1, 'test_set_path': '../../data/CVRP/dataset/Vrp-Set-XXL/XXL-n16001', 'test_set_opt_sol_path': '../../data/CVRP/dataset/Vrp-Set-XXL/XXL-n16001-sol', 'test_set_name': 'A-n33'}\n",
      "[2024-04-01 11:43:07] test.py(108) : fine_tune_params{'enable': False, 'fine_tune_episodes': 1000, 'k': 10, 'fine_tune_batch_size': 10, 'augmentation_enable': True, 'optimizer': {'lr': 1e-05, 'weight_decay': 1e-06}}\n",
      "[2024-04-01 11:43:07] test.py(108) : logger_params{'log_file': {'desc': 'test_cvrp', 'filename': 'log.txt', 'filepath': './result/20240401_114307_test_cvrp'}}\n"
     ]
    },
    {
     "name": "stderr",
     "output_type": "stream",
     "text": [
      "/home/xunj/miniconda3/lib/python3.11/site-packages/torch/__init__.py:614: UserWarning: torch.set_default_tensor_type() is deprecated as of PyTorch 2.1, please use torch.set_default_dtype() and torch.set_default_device() as alternatives. (Triggered internally at /opt/conda/conda-bld/pytorch_1699449183005/work/torch/csrc/tensor/python_tensor.cpp:451.)\n",
      "  _C._set_default_tensor_type(t)\n"
     ]
    },
    {
     "name": "stdout",
     "output_type": "stream",
     "text": [
      "['../../data/CVRP/dataset/Vrp-Set-XXL/XXL-n16001/Brussels2.vrp']\n"
     ]
    },
    {
     "name": "stderr",
     "output_type": "stream",
     "text": [
      "Traceback (most recent call last):\n",
      "  File \"/home/xunj/GradWork/Omni-VRP-main/POMO/CVRP/test.py\", line 141, in <module>\n",
      "    main()\n",
      "  File \"/home/xunj/GradWork/Omni-VRP-main/POMO/CVRP/test.py\", line 89, in main\n",
      "    tester = Tester(env_params=env_params,\n",
      "             ^^^^^^^^^^^^^^^^^^^^^^^^^^^^^\n",
      "  File \"/home/xunj/GradWork/Omni-VRP-main/POMO/CVRP/CVRPTester.py\", line 71, in __init__\n",
      "    assert self.sol_path_list[-1].endswith(\".sol\")\n",
      "AssertionError\n"
     ]
    },
    {
     "name": "stdout",
     "output_type": "stream",
     "text": [
      "Check out issue on set:  ../../data/CVRP/dataset/Vrp-Set-XXL/XXL-n16001\n",
      "[2024-04-01 11:43:13] test.py(106) : DEBUG_MODE: False\n",
      "[2024-04-01 11:43:13] test.py(107) : USE_CUDA: True, CUDA_DEVICE_NUM: 0\n",
      "[2024-04-01 11:43:13] test.py(108) : env_params{'problem_size': 200, 'pomo_size': 200}\n",
      "[2024-04-01 11:43:13] test.py(108) : model_params{'embedding_dim': 128, 'sqrt_embedding_dim': 11.313708498984761, 'encoder_layer_num': 6, 'qkv_dim': 16, 'head_num': 8, 'logit_clipping': 10, 'ff_hidden_dim': 512, 'eval_type': 'argmax', 'norm': 'batch_no_track'}\n",
      "[2024-04-01 11:43:13] test.py(108) : tester_params{'use_cuda': True, 'cuda_device_num': 0, 'seed': 2024, 'model_load': {'path': 'result/maml_250000checkpts', 'epoch': 250000}, 'test_episodes': 1, 'test_batch_size': 1, 'augmentation_enable': True, 'test_robustness': False, 'aug_factor': 8, 'aug_batch_size': 1, 'test_set_path': '../../data/CVRP/dataset/Vrp-Set-XXL/XXL-n20001', 'test_set_opt_sol_path': '../../data/CVRP/dataset/Vrp-Set-XXL/XXL-n20001-sol', 'test_set_name': 'A-n33'}\n",
      "[2024-04-01 11:43:13] test.py(108) : fine_tune_params{'enable': False, 'fine_tune_episodes': 1000, 'k': 10, 'fine_tune_batch_size': 10, 'augmentation_enable': True, 'optimizer': {'lr': 1e-05, 'weight_decay': 1e-06}}\n",
      "[2024-04-01 11:43:13] test.py(108) : logger_params{'log_file': {'desc': 'test_cvrp', 'filename': 'log.txt', 'filepath': './result/20240401_114313_test_cvrp'}}\n"
     ]
    },
    {
     "name": "stderr",
     "output_type": "stream",
     "text": [
      "/home/xunj/miniconda3/lib/python3.11/site-packages/torch/__init__.py:614: UserWarning: torch.set_default_tensor_type() is deprecated as of PyTorch 2.1, please use torch.set_default_dtype() and torch.set_default_device() as alternatives. (Triggered internally at /opt/conda/conda-bld/pytorch_1699449183005/work/torch/csrc/tensor/python_tensor.cpp:451.)\n",
      "  _C._set_default_tensor_type(t)\n"
     ]
    },
    {
     "name": "stdout",
     "output_type": "stream",
     "text": [
      "['../../data/CVRP/dataset/Vrp-Set-XXL/XXL-n20001/Flanders1.vrp']\n"
     ]
    },
    {
     "name": "stderr",
     "output_type": "stream",
     "text": [
      "Traceback (most recent call last):\n",
      "  File \"/home/xunj/GradWork/Omni-VRP-main/POMO/CVRP/test.py\", line 141, in <module>\n",
      "    main()\n",
      "  File \"/home/xunj/GradWork/Omni-VRP-main/POMO/CVRP/test.py\", line 89, in main\n",
      "    tester = Tester(env_params=env_params,\n",
      "             ^^^^^^^^^^^^^^^^^^^^^^^^^^^^^\n",
      "  File \"/home/xunj/GradWork/Omni-VRP-main/POMO/CVRP/CVRPTester.py\", line 71, in __init__\n",
      "    assert self.sol_path_list[-1].endswith(\".sol\")\n",
      "AssertionError\n"
     ]
    },
    {
     "name": "stdout",
     "output_type": "stream",
     "text": [
      "Check out issue on set:  ../../data/CVRP/dataset/Vrp-Set-XXL/XXL-n20001\n",
      "[2024-04-01 11:43:19] test.py(106) : DEBUG_MODE: False\n",
      "[2024-04-01 11:43:19] test.py(107) : USE_CUDA: True, CUDA_DEVICE_NUM: 0\n",
      "[2024-04-01 11:43:19] test.py(108) : env_params{'problem_size': 200, 'pomo_size': 200}\n",
      "[2024-04-01 11:43:19] test.py(108) : model_params{'embedding_dim': 128, 'sqrt_embedding_dim': 11.313708498984761, 'encoder_layer_num': 6, 'qkv_dim': 16, 'head_num': 8, 'logit_clipping': 10, 'ff_hidden_dim': 512, 'eval_type': 'argmax', 'norm': 'batch_no_track'}\n",
      "[2024-04-01 11:43:19] test.py(108) : tester_params{'use_cuda': True, 'cuda_device_num': 0, 'seed': 2024, 'model_load': {'path': 'result/maml_250000checkpts', 'epoch': 250000}, 'test_episodes': 1, 'test_batch_size': 1, 'augmentation_enable': True, 'test_robustness': False, 'aug_factor': 8, 'aug_batch_size': 1, 'test_set_path': '../../data/CVRP/dataset/Vrp-Set-XXL/XXL-n30001', 'test_set_opt_sol_path': '../../data/CVRP/dataset/Vrp-Set-XXL/XXL-n30001-sol', 'test_set_name': 'A-n33'}\n",
      "[2024-04-01 11:43:19] test.py(108) : fine_tune_params{'enable': False, 'fine_tune_episodes': 1000, 'k': 10, 'fine_tune_batch_size': 10, 'augmentation_enable': True, 'optimizer': {'lr': 1e-05, 'weight_decay': 1e-06}}\n",
      "[2024-04-01 11:43:19] test.py(108) : logger_params{'log_file': {'desc': 'test_cvrp', 'filename': 'log.txt', 'filepath': './result/20240401_114318_test_cvrp'}}\n"
     ]
    },
    {
     "name": "stderr",
     "output_type": "stream",
     "text": [
      "/home/xunj/miniconda3/lib/python3.11/site-packages/torch/__init__.py:614: UserWarning: torch.set_default_tensor_type() is deprecated as of PyTorch 2.1, please use torch.set_default_dtype() and torch.set_default_device() as alternatives. (Triggered internally at /opt/conda/conda-bld/pytorch_1699449183005/work/torch/csrc/tensor/python_tensor.cpp:451.)\n",
      "  _C._set_default_tensor_type(t)\n"
     ]
    },
    {
     "name": "stdout",
     "output_type": "stream",
     "text": [
      "['../../data/CVRP/dataset/Vrp-Set-XXL/XXL-n30001/Flanders2.vrp']\n"
     ]
    },
    {
     "name": "stderr",
     "output_type": "stream",
     "text": [
      "Traceback (most recent call last):\n",
      "  File \"/home/xunj/GradWork/Omni-VRP-main/POMO/CVRP/test.py\", line 141, in <module>\n",
      "    main()\n",
      "  File \"/home/xunj/GradWork/Omni-VRP-main/POMO/CVRP/test.py\", line 89, in main\n",
      "    tester = Tester(env_params=env_params,\n",
      "             ^^^^^^^^^^^^^^^^^^^^^^^^^^^^^\n",
      "  File \"/home/xunj/GradWork/Omni-VRP-main/POMO/CVRP/CVRPTester.py\", line 71, in __init__\n",
      "    assert self.sol_path_list[-1].endswith(\".sol\")\n",
      "AssertionError\n"
     ]
    },
    {
     "name": "stdout",
     "output_type": "stream",
     "text": [
      "Check out issue on set:  ../../data/CVRP/dataset/Vrp-Set-XXL/XXL-n30001\n",
      "[2024-04-01 11:43:24] test.py(106) : DEBUG_MODE: False\n",
      "[2024-04-01 11:43:24] test.py(107) : USE_CUDA: True, CUDA_DEVICE_NUM: 0\n",
      "[2024-04-01 11:43:24] test.py(108) : env_params{'problem_size': 200, 'pomo_size': 200}\n",
      "[2024-04-01 11:43:24] test.py(108) : model_params{'embedding_dim': 128, 'sqrt_embedding_dim': 11.313708498984761, 'encoder_layer_num': 6, 'qkv_dim': 16, 'head_num': 8, 'logit_clipping': 10, 'ff_hidden_dim': 512, 'eval_type': 'argmax', 'norm': 'batch_no_track'}\n",
      "[2024-04-01 11:43:24] test.py(108) : tester_params{'use_cuda': True, 'cuda_device_num': 0, 'seed': 2024, 'model_load': {'path': 'result/maml_250000checkpts', 'epoch': 250000}, 'test_episodes': 1, 'test_batch_size': 1, 'augmentation_enable': True, 'test_robustness': False, 'aug_factor': 8, 'aug_batch_size': 1, 'test_set_path': '../../data/CVRP/dataset/Vrp-Set-XXL/XXL-n3001', 'test_set_opt_sol_path': '../../data/CVRP/dataset/Vrp-Set-XXL/XXL-n3001-sol', 'test_set_name': 'A-n33'}\n",
      "[2024-04-01 11:43:24] test.py(108) : fine_tune_params{'enable': False, 'fine_tune_episodes': 1000, 'k': 10, 'fine_tune_batch_size': 10, 'augmentation_enable': True, 'optimizer': {'lr': 1e-05, 'weight_decay': 1e-06}}\n",
      "[2024-04-01 11:43:24] test.py(108) : logger_params{'log_file': {'desc': 'test_cvrp', 'filename': 'log.txt', 'filepath': './result/20240401_114324_test_cvrp'}}\n"
     ]
    },
    {
     "name": "stderr",
     "output_type": "stream",
     "text": [
      "/home/xunj/miniconda3/lib/python3.11/site-packages/torch/__init__.py:614: UserWarning: torch.set_default_tensor_type() is deprecated as of PyTorch 2.1, please use torch.set_default_dtype() and torch.set_default_device() as alternatives. (Triggered internally at /opt/conda/conda-bld/pytorch_1699449183005/work/torch/csrc/tensor/python_tensor.cpp:451.)\n",
      "  _C._set_default_tensor_type(t)\n"
     ]
    },
    {
     "name": "stdout",
     "output_type": "stream",
     "text": [
      "['../../data/CVRP/dataset/Vrp-Set-XXL/XXL-n3001/Leuven1.vrp']\n"
     ]
    },
    {
     "name": "stderr",
     "output_type": "stream",
     "text": [
      "Traceback (most recent call last):\n",
      "  File \"/home/xunj/GradWork/Omni-VRP-main/POMO/CVRP/test.py\", line 141, in <module>\n",
      "    main()\n",
      "  File \"/home/xunj/GradWork/Omni-VRP-main/POMO/CVRP/test.py\", line 89, in main\n",
      "    tester = Tester(env_params=env_params,\n",
      "             ^^^^^^^^^^^^^^^^^^^^^^^^^^^^^\n",
      "  File \"/home/xunj/GradWork/Omni-VRP-main/POMO/CVRP/CVRPTester.py\", line 71, in __init__\n",
      "    assert self.sol_path_list[-1].endswith(\".sol\")\n",
      "AssertionError\n"
     ]
    },
    {
     "name": "stdout",
     "output_type": "stream",
     "text": [
      "Check out issue on set:  ../../data/CVRP/dataset/Vrp-Set-XXL/XXL-n3001\n",
      "[2024-04-01 11:43:30] test.py(106) : DEBUG_MODE: False\n",
      "[2024-04-01 11:43:30] test.py(107) : USE_CUDA: True, CUDA_DEVICE_NUM: 0\n",
      "[2024-04-01 11:43:30] test.py(108) : env_params{'problem_size': 200, 'pomo_size': 200}\n",
      "[2024-04-01 11:43:30] test.py(108) : model_params{'embedding_dim': 128, 'sqrt_embedding_dim': 11.313708498984761, 'encoder_layer_num': 6, 'qkv_dim': 16, 'head_num': 8, 'logit_clipping': 10, 'ff_hidden_dim': 512, 'eval_type': 'argmax', 'norm': 'batch_no_track'}\n",
      "[2024-04-01 11:43:30] test.py(108) : tester_params{'use_cuda': True, 'cuda_device_num': 0, 'seed': 2024, 'model_load': {'path': 'result/maml_250000checkpts', 'epoch': 250000}, 'test_episodes': 1, 'test_batch_size': 1, 'augmentation_enable': True, 'test_robustness': False, 'aug_factor': 8, 'aug_batch_size': 1, 'test_set_path': '../../data/CVRP/dataset/Vrp-Set-XXL/XXL-n4001', 'test_set_opt_sol_path': '../../data/CVRP/dataset/Vrp-Set-XXL/XXL-n4001-sol', 'test_set_name': 'A-n33'}\n",
      "[2024-04-01 11:43:30] test.py(108) : fine_tune_params{'enable': False, 'fine_tune_episodes': 1000, 'k': 10, 'fine_tune_batch_size': 10, 'augmentation_enable': True, 'optimizer': {'lr': 1e-05, 'weight_decay': 1e-06}}\n",
      "[2024-04-01 11:43:30] test.py(108) : logger_params{'log_file': {'desc': 'test_cvrp', 'filename': 'log.txt', 'filepath': './result/20240401_114329_test_cvrp'}}\n"
     ]
    },
    {
     "name": "stderr",
     "output_type": "stream",
     "text": [
      "/home/xunj/miniconda3/lib/python3.11/site-packages/torch/__init__.py:614: UserWarning: torch.set_default_tensor_type() is deprecated as of PyTorch 2.1, please use torch.set_default_dtype() and torch.set_default_device() as alternatives. (Triggered internally at /opt/conda/conda-bld/pytorch_1699449183005/work/torch/csrc/tensor/python_tensor.cpp:451.)\n",
      "  _C._set_default_tensor_type(t)\n"
     ]
    },
    {
     "name": "stdout",
     "output_type": "stream",
     "text": [
      "['../../data/CVRP/dataset/Vrp-Set-XXL/XXL-n4001/Leuven2.vrp']\n"
     ]
    },
    {
     "name": "stderr",
     "output_type": "stream",
     "text": [
      "Traceback (most recent call last):\n",
      "  File \"/home/xunj/GradWork/Omni-VRP-main/POMO/CVRP/test.py\", line 141, in <module>\n",
      "    main()\n",
      "  File \"/home/xunj/GradWork/Omni-VRP-main/POMO/CVRP/test.py\", line 89, in main\n",
      "    tester = Tester(env_params=env_params,\n",
      "             ^^^^^^^^^^^^^^^^^^^^^^^^^^^^^\n",
      "  File \"/home/xunj/GradWork/Omni-VRP-main/POMO/CVRP/CVRPTester.py\", line 71, in __init__\n",
      "    assert self.sol_path_list[-1].endswith(\".sol\")\n",
      "AssertionError\n"
     ]
    },
    {
     "name": "stdout",
     "output_type": "stream",
     "text": [
      "Check out issue on set:  ../../data/CVRP/dataset/Vrp-Set-XXL/XXL-n4001\n",
      "[2024-04-01 11:43:35] test.py(106) : DEBUG_MODE: False\n",
      "[2024-04-01 11:43:35] test.py(107) : USE_CUDA: True, CUDA_DEVICE_NUM: 0\n",
      "[2024-04-01 11:43:35] test.py(108) : env_params{'problem_size': 200, 'pomo_size': 200}\n",
      "[2024-04-01 11:43:35] test.py(108) : model_params{'embedding_dim': 128, 'sqrt_embedding_dim': 11.313708498984761, 'encoder_layer_num': 6, 'qkv_dim': 16, 'head_num': 8, 'logit_clipping': 10, 'ff_hidden_dim': 512, 'eval_type': 'argmax', 'norm': 'batch_no_track'}\n",
      "[2024-04-01 11:43:35] test.py(108) : tester_params{'use_cuda': True, 'cuda_device_num': 0, 'seed': 2024, 'model_load': {'path': 'result/maml_250000checkpts', 'epoch': 250000}, 'test_episodes': 1, 'test_batch_size': 1, 'augmentation_enable': True, 'test_robustness': False, 'aug_factor': 8, 'aug_batch_size': 1, 'test_set_path': '../../data/CVRP/dataset/Vrp-Set-XXL/XXL-n6001', 'test_set_opt_sol_path': '../../data/CVRP/dataset/Vrp-Set-XXL/XXL-n6001-sol', 'test_set_name': 'A-n33'}\n",
      "[2024-04-01 11:43:35] test.py(108) : fine_tune_params{'enable': False, 'fine_tune_episodes': 1000, 'k': 10, 'fine_tune_batch_size': 10, 'augmentation_enable': True, 'optimizer': {'lr': 1e-05, 'weight_decay': 1e-06}}\n",
      "[2024-04-01 11:43:35] test.py(108) : logger_params{'log_file': {'desc': 'test_cvrp', 'filename': 'log.txt', 'filepath': './result/20240401_114335_test_cvrp'}}\n"
     ]
    },
    {
     "name": "stderr",
     "output_type": "stream",
     "text": [
      "/home/xunj/miniconda3/lib/python3.11/site-packages/torch/__init__.py:614: UserWarning: torch.set_default_tensor_type() is deprecated as of PyTorch 2.1, please use torch.set_default_dtype() and torch.set_default_device() as alternatives. (Triggered internally at /opt/conda/conda-bld/pytorch_1699449183005/work/torch/csrc/tensor/python_tensor.cpp:451.)\n",
      "  _C._set_default_tensor_type(t)\n"
     ]
    },
    {
     "name": "stdout",
     "output_type": "stream",
     "text": [
      "['../../data/CVRP/dataset/Vrp-Set-XXL/XXL-n6001/Antwerp1.vrp']\n"
     ]
    },
    {
     "name": "stderr",
     "output_type": "stream",
     "text": [
      "Traceback (most recent call last):\n",
      "  File \"/home/xunj/GradWork/Omni-VRP-main/POMO/CVRP/test.py\", line 141, in <module>\n",
      "    main()\n",
      "  File \"/home/xunj/GradWork/Omni-VRP-main/POMO/CVRP/test.py\", line 89, in main\n",
      "    tester = Tester(env_params=env_params,\n",
      "             ^^^^^^^^^^^^^^^^^^^^^^^^^^^^^\n",
      "  File \"/home/xunj/GradWork/Omni-VRP-main/POMO/CVRP/CVRPTester.py\", line 71, in __init__\n",
      "    assert self.sol_path_list[-1].endswith(\".sol\")\n",
      "AssertionError\n"
     ]
    },
    {
     "name": "stdout",
     "output_type": "stream",
     "text": [
      "Check out issue on set:  ../../data/CVRP/dataset/Vrp-Set-XXL/XXL-n6001\n",
      "[2024-04-01 11:43:41] test.py(106) : DEBUG_MODE: False\n",
      "[2024-04-01 11:43:41] test.py(107) : USE_CUDA: True, CUDA_DEVICE_NUM: 0\n",
      "[2024-04-01 11:43:41] test.py(108) : env_params{'problem_size': 200, 'pomo_size': 200}\n",
      "[2024-04-01 11:43:41] test.py(108) : model_params{'embedding_dim': 128, 'sqrt_embedding_dim': 11.313708498984761, 'encoder_layer_num': 6, 'qkv_dim': 16, 'head_num': 8, 'logit_clipping': 10, 'ff_hidden_dim': 512, 'eval_type': 'argmax', 'norm': 'batch_no_track'}\n",
      "[2024-04-01 11:43:41] test.py(108) : tester_params{'use_cuda': True, 'cuda_device_num': 0, 'seed': 2024, 'model_load': {'path': 'result/maml_250000checkpts', 'epoch': 250000}, 'test_episodes': 1, 'test_batch_size': 1, 'augmentation_enable': True, 'test_robustness': False, 'aug_factor': 8, 'aug_batch_size': 1, 'test_set_path': '../../data/CVRP/dataset/Vrp-Set-XXL/XXL-n7001', 'test_set_opt_sol_path': '../../data/CVRP/dataset/Vrp-Set-XXL/XXL-n7001-sol', 'test_set_name': 'A-n33'}\n",
      "[2024-04-01 11:43:41] test.py(108) : fine_tune_params{'enable': False, 'fine_tune_episodes': 1000, 'k': 10, 'fine_tune_batch_size': 10, 'augmentation_enable': True, 'optimizer': {'lr': 1e-05, 'weight_decay': 1e-06}}\n",
      "[2024-04-01 11:43:41] test.py(108) : logger_params{'log_file': {'desc': 'test_cvrp', 'filename': 'log.txt', 'filepath': './result/20240401_114340_test_cvrp'}}\n"
     ]
    },
    {
     "name": "stderr",
     "output_type": "stream",
     "text": [
      "/home/xunj/miniconda3/lib/python3.11/site-packages/torch/__init__.py:614: UserWarning: torch.set_default_tensor_type() is deprecated as of PyTorch 2.1, please use torch.set_default_dtype() and torch.set_default_device() as alternatives. (Triggered internally at /opt/conda/conda-bld/pytorch_1699449183005/work/torch/csrc/tensor/python_tensor.cpp:451.)\n",
      "  _C._set_default_tensor_type(t)\n"
     ]
    },
    {
     "name": "stdout",
     "output_type": "stream",
     "text": [
      "['../../data/CVRP/dataset/Vrp-Set-XXL/XXL-n7001/Antwerp2.vrp']\n"
     ]
    },
    {
     "name": "stderr",
     "output_type": "stream",
     "text": [
      "Traceback (most recent call last):\n",
      "  File \"/home/xunj/GradWork/Omni-VRP-main/POMO/CVRP/test.py\", line 141, in <module>\n",
      "    main()\n",
      "  File \"/home/xunj/GradWork/Omni-VRP-main/POMO/CVRP/test.py\", line 89, in main\n",
      "    tester = Tester(env_params=env_params,\n",
      "             ^^^^^^^^^^^^^^^^^^^^^^^^^^^^^\n",
      "  File \"/home/xunj/GradWork/Omni-VRP-main/POMO/CVRP/CVRPTester.py\", line 71, in __init__\n",
      "    assert self.sol_path_list[-1].endswith(\".sol\")\n",
      "AssertionError\n"
     ]
    },
    {
     "name": "stdout",
     "output_type": "stream",
     "text": [
      "Check out issue on set:  ../../data/CVRP/dataset/Vrp-Set-XXL/XXL-n7001\n",
      "[2024-04-01 11:43:46] test.py(106) : DEBUG_MODE: False\n",
      "[2024-04-01 11:43:46] test.py(107) : USE_CUDA: True, CUDA_DEVICE_NUM: 0\n",
      "[2024-04-01 11:43:46] test.py(108) : env_params{'problem_size': 200, 'pomo_size': 200}\n",
      "[2024-04-01 11:43:46] test.py(108) : model_params{'embedding_dim': 128, 'sqrt_embedding_dim': 11.313708498984761, 'encoder_layer_num': 6, 'qkv_dim': 16, 'head_num': 8, 'logit_clipping': 10, 'ff_hidden_dim': 512, 'eval_type': 'argmax', 'norm': 'batch_no_track'}\n",
      "[2024-04-01 11:43:46] test.py(108) : tester_params{'use_cuda': True, 'cuda_device_num': 0, 'seed': 2024, 'model_load': {'path': 'result/maml_250000checkpts', 'epoch': 250000}, 'test_episodes': 4, 'test_batch_size': 1, 'augmentation_enable': True, 'test_robustness': False, 'aug_factor': 8, 'aug_batch_size': 1, 'test_set_path': '../../data/CVRP/dataset/Vrp-Set-tai/tai-n101', 'test_set_opt_sol_path': '../../data/CVRP/dataset/Vrp-Set-tai/tai-n101-sol', 'test_set_name': 'A-n33'}\n",
      "[2024-04-01 11:43:46] test.py(108) : fine_tune_params{'enable': False, 'fine_tune_episodes': 1000, 'k': 10, 'fine_tune_batch_size': 10, 'augmentation_enable': True, 'optimizer': {'lr': 1e-05, 'weight_decay': 1e-06}}\n",
      "[2024-04-01 11:43:46] test.py(108) : logger_params{'log_file': {'desc': 'test_cvrp', 'filename': 'log.txt', 'filepath': './result/20240401_114346_test_cvrp'}}\n"
     ]
    },
    {
     "name": "stderr",
     "output_type": "stream",
     "text": [
      "/home/xunj/miniconda3/lib/python3.11/site-packages/torch/__init__.py:614: UserWarning: torch.set_default_tensor_type() is deprecated as of PyTorch 2.1, please use torch.set_default_dtype() and torch.set_default_device() as alternatives. (Triggered internally at /opt/conda/conda-bld/pytorch_1699449183005/work/torch/csrc/tensor/python_tensor.cpp:451.)\n",
      "  _C._set_default_tensor_type(t)\n"
     ]
    },
    {
     "name": "stdout",
     "output_type": "stream",
     "text": [
      "['../../data/CVRP/dataset/Vrp-Set-tai/tai-n101/tai100a.vrp', '../../data/CVRP/dataset/Vrp-Set-tai/tai-n101/tai100b.vrp', '../../data/CVRP/dataset/Vrp-Set-tai/tai-n101/tai100c.vrp', '../../data/CVRP/dataset/Vrp-Set-tai/tai-n101/tai100d.vrp']\n",
      "[2024-04-01 11:43:52] CVRPTester.py(84) : >> Model loaded from result/maml_250000checkpts/checkpoint-250000.pt\n",
      "[2024-04-01 11:43:54] CVRPTester.py(225) : episode   1/  4, Elapsed[0.03m], Remain[0.08m], sol:2.041, score:2.484, aug_score:2.241\n",
      "[2024-04-01 11:43:54] CVRPTester.py(225) : episode   2/  4, Elapsed[0.03m], Remain[0.03m], sol:1.940, score:2.512, aug_score:2.371\n",
      "[2024-04-01 11:43:54] CVRPTester.py(225) : episode   3/  4, Elapsed[0.03m], Remain[0.01m], sol:1.406, score:1.962, aug_score:1.725\n",
      "[2024-04-01 11:43:54] CVRPTester.py(225) : episode   4/  4, Elapsed[0.03m], Remain[0.00m], sol:1.580, score:2.016, aug_score:1.862\n",
      "[2024-04-01 11:43:54] CVRPTester.py(231) :  *** Test Done *** \n",
      "[2024-04-01 11:43:54] CVRPTester.py(232) :  NO-AUG SCORE: 2.2436, Gap: 29.5716 \n",
      "[2024-04-01 11:43:54] CVRPTester.py(233) :  AUGMENTATION SCORE: 2.0501, Gap: 18.1443 \n",
      "2.244 (29.572%)\n",
      "2.050 (18.144%)\n",
      ">> Evaluation on ../../data/CVRP/dataset/Vrp-Set-tai/tai-n101 finished within 1.99s\n",
      ">> Save final results to res/tai-n101\n",
      "Test on \" ../../data/CVRP/dataset/Vrp-Set-tai/tai-n101 \" Success\n",
      "-----------------------------------------------------------------------------------------------------------------\n",
      "[2024-04-01 11:43:58] test.py(106) : DEBUG_MODE: False\n",
      "[2024-04-01 11:43:58] test.py(107) : USE_CUDA: True, CUDA_DEVICE_NUM: 0\n",
      "[2024-04-01 11:43:58] test.py(108) : env_params{'problem_size': 200, 'pomo_size': 200}\n",
      "[2024-04-01 11:43:58] test.py(108) : model_params{'embedding_dim': 128, 'sqrt_embedding_dim': 11.313708498984761, 'encoder_layer_num': 6, 'qkv_dim': 16, 'head_num': 8, 'logit_clipping': 10, 'ff_hidden_dim': 512, 'eval_type': 'argmax', 'norm': 'batch_no_track'}\n",
      "[2024-04-01 11:43:58] test.py(108) : tester_params{'use_cuda': True, 'cuda_device_num': 0, 'seed': 2024, 'model_load': {'path': 'result/maml_250000checkpts', 'epoch': 250000}, 'test_episodes': 4, 'test_batch_size': 1, 'augmentation_enable': True, 'test_robustness': False, 'aug_factor': 8, 'aug_batch_size': 1, 'test_set_path': '../../data/CVRP/dataset/Vrp-Set-tai/tai-n151', 'test_set_opt_sol_path': '../../data/CVRP/dataset/Vrp-Set-tai/tai-n151-sol', 'test_set_name': 'A-n33'}\n",
      "[2024-04-01 11:43:58] test.py(108) : fine_tune_params{'enable': False, 'fine_tune_episodes': 1000, 'k': 10, 'fine_tune_batch_size': 10, 'augmentation_enable': True, 'optimizer': {'lr': 1e-05, 'weight_decay': 1e-06}}\n",
      "[2024-04-01 11:43:58] test.py(108) : logger_params{'log_file': {'desc': 'test_cvrp', 'filename': 'log.txt', 'filepath': './result/20240401_114357_test_cvrp'}}\n"
     ]
    },
    {
     "name": "stderr",
     "output_type": "stream",
     "text": [
      "/home/xunj/miniconda3/lib/python3.11/site-packages/torch/__init__.py:614: UserWarning: torch.set_default_tensor_type() is deprecated as of PyTorch 2.1, please use torch.set_default_dtype() and torch.set_default_device() as alternatives. (Triggered internally at /opt/conda/conda-bld/pytorch_1699449183005/work/torch/csrc/tensor/python_tensor.cpp:451.)\n",
      "  _C._set_default_tensor_type(t)\n"
     ]
    },
    {
     "name": "stdout",
     "output_type": "stream",
     "text": [
      "['../../data/CVRP/dataset/Vrp-Set-tai/tai-n151/tai150a.vrp', '../../data/CVRP/dataset/Vrp-Set-tai/tai-n151/tai150b.vrp', '../../data/CVRP/dataset/Vrp-Set-tai/tai-n151/tai150c.vrp', '../../data/CVRP/dataset/Vrp-Set-tai/tai-n151/tai150d.vrp']\n",
      "[2024-04-01 11:44:04] CVRPTester.py(84) : >> Model loaded from result/maml_250000checkpts/checkpoint-250000.pt\n",
      "[2024-04-01 11:44:05] CVRPTester.py(225) : episode   1/  4, Elapsed[0.03m], Remain[0.08m], sol:3.055, score:3.580, aug_score:3.448\n",
      "[2024-04-01 11:44:06] CVRPTester.py(225) : episode   2/  4, Elapsed[0.03m], Remain[0.03m], sol:2.727, score:3.174, aug_score:3.174\n",
      "[2024-04-01 11:44:06] CVRPTester.py(225) : episode   3/  4, Elapsed[0.03m], Remain[0.01m], sol:2.359, score:2.905, aug_score:2.762\n",
      "[2024-04-01 11:44:06] CVRPTester.py(225) : episode   4/  4, Elapsed[0.04m], Remain[0.00m], sol:2.645, score:3.227, aug_score:3.098\n",
      "[2024-04-01 11:44:06] CVRPTester.py(231) :  *** Test Done *** \n",
      "[2024-04-01 11:44:06] CVRPTester.py(232) :  NO-AUG SCORE: 3.2213, Gap: 19.6717 \n",
      "[2024-04-01 11:44:06] CVRPTester.py(233) :  AUGMENTATION SCORE: 3.1203, Gap: 15.8579 \n",
      "3.221 (19.672%)\n",
      "3.120 (15.858%)\n",
      ">> Evaluation on ../../data/CVRP/dataset/Vrp-Set-tai/tai-n151 finished within 2.26s\n",
      ">> Save final results to res/tai-n151\n",
      "Test on \" ../../data/CVRP/dataset/Vrp-Set-tai/tai-n151 \" Success\n",
      "-----------------------------------------------------------------------------------------------------------------\n",
      "[2024-04-01 11:44:09] test.py(106) : DEBUG_MODE: False\n",
      "[2024-04-01 11:44:09] test.py(107) : USE_CUDA: True, CUDA_DEVICE_NUM: 0\n",
      "[2024-04-01 11:44:09] test.py(108) : env_params{'problem_size': 200, 'pomo_size': 200}\n",
      "[2024-04-01 11:44:09] test.py(108) : model_params{'embedding_dim': 128, 'sqrt_embedding_dim': 11.313708498984761, 'encoder_layer_num': 6, 'qkv_dim': 16, 'head_num': 8, 'logit_clipping': 10, 'ff_hidden_dim': 512, 'eval_type': 'argmax', 'norm': 'batch_no_track'}\n",
      "[2024-04-01 11:44:09] test.py(108) : tester_params{'use_cuda': True, 'cuda_device_num': 0, 'seed': 2024, 'model_load': {'path': 'result/maml_250000checkpts', 'epoch': 250000}, 'test_episodes': 1, 'test_batch_size': 1, 'augmentation_enable': True, 'test_robustness': False, 'aug_factor': 8, 'aug_batch_size': 1, 'test_set_path': '../../data/CVRP/dataset/Vrp-Set-tai/tai-n386', 'test_set_opt_sol_path': '../../data/CVRP/dataset/Vrp-Set-tai/tai-n386-sol', 'test_set_name': 'A-n33'}\n",
      "[2024-04-01 11:44:09] test.py(108) : fine_tune_params{'enable': False, 'fine_tune_episodes': 1000, 'k': 10, 'fine_tune_batch_size': 10, 'augmentation_enable': True, 'optimizer': {'lr': 1e-05, 'weight_decay': 1e-06}}\n",
      "[2024-04-01 11:44:09] test.py(108) : logger_params{'log_file': {'desc': 'test_cvrp', 'filename': 'log.txt', 'filepath': './result/20240401_114409_test_cvrp'}}\n"
     ]
    },
    {
     "name": "stderr",
     "output_type": "stream",
     "text": [
      "/home/xunj/miniconda3/lib/python3.11/site-packages/torch/__init__.py:614: UserWarning: torch.set_default_tensor_type() is deprecated as of PyTorch 2.1, please use torch.set_default_dtype() and torch.set_default_device() as alternatives. (Triggered internally at /opt/conda/conda-bld/pytorch_1699449183005/work/torch/csrc/tensor/python_tensor.cpp:451.)\n",
      "  _C._set_default_tensor_type(t)\n"
     ]
    },
    {
     "name": "stdout",
     "output_type": "stream",
     "text": [
      "['../../data/CVRP/dataset/Vrp-Set-tai/tai-n386/tai385.vrp']\n",
      "[2024-04-01 11:44:16] CVRPTester.py(84) : >> Model loaded from result/maml_250000checkpts/checkpoint-250000.pt\n",
      "[2024-04-01 11:44:18] CVRPTester.py(225) : episode   1/  1, Elapsed[0.04m], Remain[0.00m], sol:24.366, score:55.937, aug_score:47.009\n",
      "[2024-04-01 11:44:18] CVRPTester.py(231) :  *** Test Done *** \n",
      "[2024-04-01 11:44:18] CVRPTester.py(232) :  NO-AUG SCORE: 55.9367, Gap: 129.5649 \n",
      "[2024-04-01 11:44:18] CVRPTester.py(233) :  AUGMENTATION SCORE: 47.0086, Gap: 92.9237 \n",
      "55.937 (129.565%)\n",
      "47.009 (92.924%)\n",
      ">> Evaluation on ../../data/CVRP/dataset/Vrp-Set-tai/tai-n386 finished within 2.44s\n",
      ">> Save final results to res/tai-n386\n",
      "Test on \" ../../data/CVRP/dataset/Vrp-Set-tai/tai-n386 \" Success\n",
      "-----------------------------------------------------------------------------------------------------------------\n",
      "[2024-04-01 11:44:21] test.py(106) : DEBUG_MODE: False\n",
      "[2024-04-01 11:44:21] test.py(107) : USE_CUDA: True, CUDA_DEVICE_NUM: 0\n",
      "[2024-04-01 11:44:21] test.py(108) : env_params{'problem_size': 200, 'pomo_size': 200}\n",
      "[2024-04-01 11:44:21] test.py(108) : model_params{'embedding_dim': 128, 'sqrt_embedding_dim': 11.313708498984761, 'encoder_layer_num': 6, 'qkv_dim': 16, 'head_num': 8, 'logit_clipping': 10, 'ff_hidden_dim': 512, 'eval_type': 'argmax', 'norm': 'batch_no_track'}\n",
      "[2024-04-01 11:44:21] test.py(108) : tester_params{'use_cuda': True, 'cuda_device_num': 0, 'seed': 2024, 'model_load': {'path': 'result/maml_250000checkpts', 'epoch': 250000}, 'test_episodes': 4, 'test_batch_size': 1, 'augmentation_enable': True, 'test_robustness': False, 'aug_factor': 8, 'aug_batch_size': 1, 'test_set_path': '../../data/CVRP/dataset/Vrp-Set-tai/tai-n76', 'test_set_opt_sol_path': '../../data/CVRP/dataset/Vrp-Set-tai/tai-n76-sol', 'test_set_name': 'A-n33'}\n",
      "[2024-04-01 11:44:21] test.py(108) : fine_tune_params{'enable': False, 'fine_tune_episodes': 1000, 'k': 10, 'fine_tune_batch_size': 10, 'augmentation_enable': True, 'optimizer': {'lr': 1e-05, 'weight_decay': 1e-06}}\n",
      "[2024-04-01 11:44:21] test.py(108) : logger_params{'log_file': {'desc': 'test_cvrp', 'filename': 'log.txt', 'filepath': './result/20240401_114421_test_cvrp'}}\n"
     ]
    },
    {
     "name": "stderr",
     "output_type": "stream",
     "text": [
      "/home/xunj/miniconda3/lib/python3.11/site-packages/torch/__init__.py:614: UserWarning: torch.set_default_tensor_type() is deprecated as of PyTorch 2.1, please use torch.set_default_dtype() and torch.set_default_device() as alternatives. (Triggered internally at /opt/conda/conda-bld/pytorch_1699449183005/work/torch/csrc/tensor/python_tensor.cpp:451.)\n",
      "  _C._set_default_tensor_type(t)\n"
     ]
    },
    {
     "name": "stdout",
     "output_type": "stream",
     "text": [
      "['../../data/CVRP/dataset/Vrp-Set-tai/tai-n76/tai75a.vrp', '../../data/CVRP/dataset/Vrp-Set-tai/tai-n76/tai75b.vrp', '../../data/CVRP/dataset/Vrp-Set-tai/tai-n76/tai75c.vrp', '../../data/CVRP/dataset/Vrp-Set-tai/tai-n76/tai75d.vrp']\n",
      "[2024-04-01 11:44:27] CVRPTester.py(84) : >> Model loaded from result/maml_250000checkpts/checkpoint-250000.pt\n",
      "[2024-04-01 11:44:29] CVRPTester.py(225) : episode   1/  4, Elapsed[0.03m], Remain[0.08m], sol:1.618, score:2.349, aug_score:2.080\n",
      "[2024-04-01 11:44:29] CVRPTester.py(225) : episode   2/  4, Elapsed[0.03m], Remain[0.03m], sol:1.345, score:1.746, aug_score:1.617\n",
      "[2024-04-01 11:44:29] CVRPTester.py(225) : episode   3/  4, Elapsed[0.03m], Remain[0.01m], sol:1.291, score:1.629, aug_score:1.570\n",
      "[2024-04-01 11:44:29] CVRPTester.py(225) : episode   4/  4, Elapsed[0.03m], Remain[0.00m], sol:1.365, score:1.655, aug_score:1.546\n",
      "[2024-04-01 11:44:29] CVRPTester.py(231) :  *** Test Done *** \n",
      "[2024-04-01 11:44:29] CVRPTester.py(232) :  NO-AUG SCORE: 1.8446, Gap: 30.5874 \n",
      "[2024-04-01 11:44:29] CVRPTester.py(233) :  AUGMENTATION SCORE: 1.7032, Gap: 20.8971 \n",
      "1.845 (30.587%)\n",
      "1.703 (20.897%)\n",
      ">> Evaluation on ../../data/CVRP/dataset/Vrp-Set-tai/tai-n76 finished within 1.86s\n",
      ">> Save final results to res/tai-n76\n",
      "Test on \" ../../data/CVRP/dataset/Vrp-Set-tai/tai-n76 \" Success\n",
      "-----------------------------------------------------------------------------------------------------------------\n"
     ]
    }
   ],
   "source": [
    "for sub_list in path_list:\n",
    "    res=0\n",
    "    for path in sub_list:\n",
    "        if not path.endswith('sol') and not path.endswith('.pkl') and not path.endswith('.ipynb'):\n",
    "            ep=len(os.listdir(path))\n",
    "            batch_size=1\n",
    "            #print('python -u test.py --episode '+str(ep)+' --testpaths '+path+' --solpaths '+path+'-sol')\n",
    "            res=os.system('python -u test.py --episode '+str(ep)+' --testpaths '+path+' --solpaths '+path+'-sol')\n",
    "            if res==0:\n",
    "                print('Test on \"',path,'\" Success')\n",
    "                print('-----------------------------------------------------------------------------------------------------------------')\n",
    "                del path\n",
    "            else: \n",
    "                print('Check out issue on set: ',path)\n",
    "        #break\n",
    "    #break"
   ]
  }
 ],
 "metadata": {
  "kernelspec": {
   "display_name": "base",
   "language": "python",
   "name": "python3"
  },
  "language_info": {
   "codemirror_mode": {
    "name": "ipython",
    "version": 3
   },
   "file_extension": ".py",
   "mimetype": "text/x-python",
   "name": "python",
   "nbconvert_exporter": "python",
   "pygments_lexer": "ipython3",
   "version": "3.11.5"
  }
 },
 "nbformat": 4,
 "nbformat_minor": 2
}
