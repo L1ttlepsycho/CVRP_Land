{
 "cells": [
  {
   "cell_type": "code",
   "execution_count": 1,
   "metadata": {},
   "outputs": [
    {
     "name": "stdout",
     "output_type": "stream",
     "text": [
      "[['../../../../VRP-Omni-modified/Vrp-Set-A/A-n32', '../../../../VRP-Omni-modified/Vrp-Set-A/A-n32-sol', '../../../../VRP-Omni-modified/Vrp-Set-A/A-n33', '../../../../VRP-Omni-modified/Vrp-Set-A/A-n33-sol', '../../../../VRP-Omni-modified/Vrp-Set-A/A-n34', '../../../../VRP-Omni-modified/Vrp-Set-A/A-n34-sol', '../../../../VRP-Omni-modified/Vrp-Set-A/A-n36', '../../../../VRP-Omni-modified/Vrp-Set-A/A-n36-sol', '../../../../VRP-Omni-modified/Vrp-Set-A/A-n37', '../../../../VRP-Omni-modified/Vrp-Set-A/A-n37-sol', '../../../../VRP-Omni-modified/Vrp-Set-A/A-n38', '../../../../VRP-Omni-modified/Vrp-Set-A/A-n38-sol', '../../../../VRP-Omni-modified/Vrp-Set-A/A-n39', '../../../../VRP-Omni-modified/Vrp-Set-A/A-n39-sol', '../../../../VRP-Omni-modified/Vrp-Set-A/A-n44', '../../../../VRP-Omni-modified/Vrp-Set-A/A-n44-sol', '../../../../VRP-Omni-modified/Vrp-Set-A/A-n45', '../../../../VRP-Omni-modified/Vrp-Set-A/A-n45-sol', '../../../../VRP-Omni-modified/Vrp-Set-A/A-n46', '../../../../VRP-Omni-modified/Vrp-Set-A/A-n46-sol', '../../../../VRP-Omni-modified/Vrp-Set-A/A-n48', '../../../../VRP-Omni-modified/Vrp-Set-A/A-n48-sol', '../../../../VRP-Omni-modified/Vrp-Set-A/A-n53', '../../../../VRP-Omni-modified/Vrp-Set-A/A-n53-sol', '../../../../VRP-Omni-modified/Vrp-Set-A/A-n54', '../../../../VRP-Omni-modified/Vrp-Set-A/A-n54-sol', '../../../../VRP-Omni-modified/Vrp-Set-A/A-n55', '../../../../VRP-Omni-modified/Vrp-Set-A/A-n55-sol', '../../../../VRP-Omni-modified/Vrp-Set-A/A-n60', '../../../../VRP-Omni-modified/Vrp-Set-A/A-n60-sol', '../../../../VRP-Omni-modified/Vrp-Set-A/A-n61', '../../../../VRP-Omni-modified/Vrp-Set-A/A-n61-sol', '../../../../VRP-Omni-modified/Vrp-Set-A/A-n62', '../../../../VRP-Omni-modified/Vrp-Set-A/A-n62-sol', '../../../../VRP-Omni-modified/Vrp-Set-A/A-n63', '../../../../VRP-Omni-modified/Vrp-Set-A/A-n63-sol', '../../../../VRP-Omni-modified/Vrp-Set-A/A-n64', '../../../../VRP-Omni-modified/Vrp-Set-A/A-n64-sol', '../../../../VRP-Omni-modified/Vrp-Set-A/A-n65', '../../../../VRP-Omni-modified/Vrp-Set-A/A-n65-sol', '../../../../VRP-Omni-modified/Vrp-Set-A/A-n69', '../../../../VRP-Omni-modified/Vrp-Set-A/A-n69-sol', '../../../../VRP-Omni-modified/Vrp-Set-A/A-n80', '../../../../VRP-Omni-modified/Vrp-Set-A/A-n80-sol'], ['../../../../VRP-Omni-modified/Vrp-Set-B/B-n31', '../../../../VRP-Omni-modified/Vrp-Set-B/B-n31-sol', '../../../../VRP-Omni-modified/Vrp-Set-B/B-n34', '../../../../VRP-Omni-modified/Vrp-Set-B/B-n34-sol', '../../../../VRP-Omni-modified/Vrp-Set-B/B-n35', '../../../../VRP-Omni-modified/Vrp-Set-B/B-n35-sol', '../../../../VRP-Omni-modified/Vrp-Set-B/B-n38', '../../../../VRP-Omni-modified/Vrp-Set-B/B-n38-sol', '../../../../VRP-Omni-modified/Vrp-Set-B/B-n39', '../../../../VRP-Omni-modified/Vrp-Set-B/B-n39-sol', '../../../../VRP-Omni-modified/Vrp-Set-B/B-n41', '../../../../VRP-Omni-modified/Vrp-Set-B/B-n41-sol', '../../../../VRP-Omni-modified/Vrp-Set-B/B-n43', '../../../../VRP-Omni-modified/Vrp-Set-B/B-n43-sol', '../../../../VRP-Omni-modified/Vrp-Set-B/B-n44', '../../../../VRP-Omni-modified/Vrp-Set-B/B-n44-sol', '../../../../VRP-Omni-modified/Vrp-Set-B/B-n45', '../../../../VRP-Omni-modified/Vrp-Set-B/B-n45-sol', '../../../../VRP-Omni-modified/Vrp-Set-B/B-n50', '../../../../VRP-Omni-modified/Vrp-Set-B/B-n50-sol', '../../../../VRP-Omni-modified/Vrp-Set-B/B-n51', '../../../../VRP-Omni-modified/Vrp-Set-B/B-n51-sol', '../../../../VRP-Omni-modified/Vrp-Set-B/B-n52', '../../../../VRP-Omni-modified/Vrp-Set-B/B-n52-sol', '../../../../VRP-Omni-modified/Vrp-Set-B/B-n56', '../../../../VRP-Omni-modified/Vrp-Set-B/B-n56-sol', '../../../../VRP-Omni-modified/Vrp-Set-B/B-n57', '../../../../VRP-Omni-modified/Vrp-Set-B/B-n57-sol', '../../../../VRP-Omni-modified/Vrp-Set-B/B-n63', '../../../../VRP-Omni-modified/Vrp-Set-B/B-n63-sol', '../../../../VRP-Omni-modified/Vrp-Set-B/B-n64', '../../../../VRP-Omni-modified/Vrp-Set-B/B-n64-sol', '../../../../VRP-Omni-modified/Vrp-Set-B/B-n66', '../../../../VRP-Omni-modified/Vrp-Set-B/B-n66-sol', '../../../../VRP-Omni-modified/Vrp-Set-B/B-n67', '../../../../VRP-Omni-modified/Vrp-Set-B/B-n67-sol', '../../../../VRP-Omni-modified/Vrp-Set-B/B-n68', '../../../../VRP-Omni-modified/Vrp-Set-B/B-n68-sol', '../../../../VRP-Omni-modified/Vrp-Set-B/B-n78', '../../../../VRP-Omni-modified/Vrp-Set-B/B-n78-sol'], ['../../../../VRP-Omni-modified/Vrp-Set-CMT/CMT-n101', '../../../../VRP-Omni-modified/Vrp-Set-CMT/CMT-n101-sol', '../../../../VRP-Omni-modified/Vrp-Set-CMT/CMT-n121', '../../../../VRP-Omni-modified/Vrp-Set-CMT/CMT-n121-sol', '../../../../VRP-Omni-modified/Vrp-Set-CMT/CMT-n151', '../../../../VRP-Omni-modified/Vrp-Set-CMT/CMT-n151-sol', '../../../../VRP-Omni-modified/Vrp-Set-CMT/CMT-n200', '../../../../VRP-Omni-modified/Vrp-Set-CMT/CMT-n200-sol', '../../../../VRP-Omni-modified/Vrp-Set-CMT/CMT-n51', '../../../../VRP-Omni-modified/Vrp-Set-CMT/CMT-n51-sol', '../../../../VRP-Omni-modified/Vrp-Set-CMT/CMT-n76', '../../../../VRP-Omni-modified/Vrp-Set-CMT/CMT-n76-sol'], ['../../../../VRP-Omni-modified/Vrp-Set-D/D-n1001', '../../../../VRP-Omni-modified/Vrp-Set-D/D-n1001-sol', '../../../../VRP-Omni-modified/Vrp-Set-D/D-n242', '../../../../VRP-Omni-modified/Vrp-Set-D/D-n242-sol', '../../../../VRP-Omni-modified/Vrp-Set-D/D-n323', '../../../../VRP-Omni-modified/Vrp-Set-D/D-n323-sol', '../../../../VRP-Omni-modified/Vrp-Set-D/D-n401', '../../../../VRP-Omni-modified/Vrp-Set-D/D-n401-sol', '../../../../VRP-Omni-modified/Vrp-Set-D/D-n405', '../../../../VRP-Omni-modified/Vrp-Set-D/D-n405-sol', '../../../../VRP-Omni-modified/Vrp-Set-D/D-n455', '../../../../VRP-Omni-modified/Vrp-Set-D/D-n455-sol', '../../../../VRP-Omni-modified/Vrp-Set-D/D-n501', '../../../../VRP-Omni-modified/Vrp-Set-D/D-n501-sol', '../../../../VRP-Omni-modified/Vrp-Set-D/D-n510', '../../../../VRP-Omni-modified/Vrp-Set-D/D-n510-sol', '../../../../VRP-Omni-modified/Vrp-Set-D/D-n601', '../../../../VRP-Omni-modified/Vrp-Set-D/D-n601-sol', '../../../../VRP-Omni-modified/Vrp-Set-D/D-n701', '../../../../VRP-Omni-modified/Vrp-Set-D/D-n701-sol', '../../../../VRP-Omni-modified/Vrp-Set-D/D-n901', '../../../../VRP-Omni-modified/Vrp-Set-D/D-n901-sol'], ['../../../../VRP-Omni-modified/Vrp-Set-E/E-n10', '../../../../VRP-Omni-modified/Vrp-Set-E/E-n10-sol', '../../../../VRP-Omni-modified/Vrp-Set-E/E-n13', '../../../../VRP-Omni-modified/Vrp-Set-E/E-n13-sol', '../../../../VRP-Omni-modified/Vrp-Set-E/E-n22', '../../../../VRP-Omni-modified/Vrp-Set-E/E-n22-sol', '../../../../VRP-Omni-modified/Vrp-Set-E/E-n23', '../../../../VRP-Omni-modified/Vrp-Set-E/E-n23-sol', '../../../../VRP-Omni-modified/Vrp-Set-E/E-n30', '../../../../VRP-Omni-modified/Vrp-Set-E/E-n30-sol', '../../../../VRP-Omni-modified/Vrp-Set-E/E-n31', '../../../../VRP-Omni-modified/Vrp-Set-E/E-n31-sol', '../../../../VRP-Omni-modified/Vrp-Set-E/E-n33', '../../../../VRP-Omni-modified/Vrp-Set-E/E-n33-sol', '../../../../VRP-Omni-modified/Vrp-Set-E/E-n51', '../../../../VRP-Omni-modified/Vrp-Set-E/E-n51-sol', '../../../../VRP-Omni-modified/Vrp-Set-E/E-n76', '../../../../VRP-Omni-modified/Vrp-Set-E/E-n76-sol'], ['../../../../VRP-Omni-modified/Vrp-Set-F/F-n135', '../../../../VRP-Omni-modified/Vrp-Set-F/F-n135-sol', '../../../../VRP-Omni-modified/Vrp-Set-F/F-n45', '../../../../VRP-Omni-modified/Vrp-Set-F/F-n45-sol', '../../../../VRP-Omni-modified/Vrp-Set-F/F-n72', '../../../../VRP-Omni-modified/Vrp-Set-F/F-n72-sol'], ['../../../../VRP-Omni-modified/Vrp-Set-Golden/Golden-n201', '../../../../VRP-Omni-modified/Vrp-Set-Golden/Golden-n201-sol', '../../../../VRP-Omni-modified/Vrp-Set-Golden/Golden-n241', '../../../../VRP-Omni-modified/Vrp-Set-Golden/Golden-n241-sol', '../../../../VRP-Omni-modified/Vrp-Set-Golden/Golden-n253', '../../../../VRP-Omni-modified/Vrp-Set-Golden/Golden-n253-sol', '../../../../VRP-Omni-modified/Vrp-Set-Golden/Golden-n256', '../../../../VRP-Omni-modified/Vrp-Set-Golden/Golden-n256-sol', '../../../../VRP-Omni-modified/Vrp-Set-Golden/Golden-n281', '../../../../VRP-Omni-modified/Vrp-Set-Golden/Golden-n281-sol', '../../../../VRP-Omni-modified/Vrp-Set-Golden/Golden-n301', '../../../../VRP-Omni-modified/Vrp-Set-Golden/Golden-n301-sol', '../../../../VRP-Omni-modified/Vrp-Set-Golden/Golden-n321', '../../../../VRP-Omni-modified/Vrp-Set-Golden/Golden-n321-sol', '../../../../VRP-Omni-modified/Vrp-Set-Golden/Golden-n324', '../../../../VRP-Omni-modified/Vrp-Set-Golden/Golden-n324-sol', '../../../../VRP-Omni-modified/Vrp-Set-Golden/Golden-n361', '../../../../VRP-Omni-modified/Vrp-Set-Golden/Golden-n361-sol', '../../../../VRP-Omni-modified/Vrp-Set-Golden/Golden-n397', '../../../../VRP-Omni-modified/Vrp-Set-Golden/Golden-n397-sol', '../../../../VRP-Omni-modified/Vrp-Set-Golden/Golden-n400', '../../../../VRP-Omni-modified/Vrp-Set-Golden/Golden-n400-sol', '../../../../VRP-Omni-modified/Vrp-Set-Golden/Golden-n401', '../../../../VRP-Omni-modified/Vrp-Set-Golden/Golden-n401-sol', '../../../../VRP-Omni-modified/Vrp-Set-Golden/Golden-n421', '../../../../VRP-Omni-modified/Vrp-Set-Golden/Golden-n421-sol', '../../../../VRP-Omni-modified/Vrp-Set-Golden/Golden-n441', '../../../../VRP-Omni-modified/Vrp-Set-Golden/Golden-n441-sol', '../../../../VRP-Omni-modified/Vrp-Set-Golden/Golden-n481', '../../../../VRP-Omni-modified/Vrp-Set-Golden/Golden-n481-sol', '../../../../VRP-Omni-modified/Vrp-Set-Golden/Golden-n484', '../../../../VRP-Omni-modified/Vrp-Set-Golden/Golden-n484-sol'], ['../../../../VRP-Omni-modified/Vrp-Set-Li/Li-n1041', '../../../../VRP-Omni-modified/Vrp-Set-Li/Li-n1041-sol', '../../../../VRP-Omni-modified/Vrp-Set-Li/Li-n1121', '../../../../VRP-Omni-modified/Vrp-Set-Li/Li-n1121-sol', '../../../../VRP-Omni-modified/Vrp-Set-Li/Li-n1201', '../../../../VRP-Omni-modified/Vrp-Set-Li/Li-n1201-sol', '../../../../VRP-Omni-modified/Vrp-Set-Li/Li-n561', '../../../../VRP-Omni-modified/Vrp-Set-Li/Li-n561-sol', '../../../../VRP-Omni-modified/Vrp-Set-Li/Li-n601', '../../../../VRP-Omni-modified/Vrp-Set-Li/Li-n601-sol', '../../../../VRP-Omni-modified/Vrp-Set-Li/Li-n641', '../../../../VRP-Omni-modified/Vrp-Set-Li/Li-n641-sol', '../../../../VRP-Omni-modified/Vrp-Set-Li/Li-n721', '../../../../VRP-Omni-modified/Vrp-Set-Li/Li-n721-sol', '../../../../VRP-Omni-modified/Vrp-Set-Li/Li-n761', '../../../../VRP-Omni-modified/Vrp-Set-Li/Li-n761-sol', '../../../../VRP-Omni-modified/Vrp-Set-Li/Li-n801', '../../../../VRP-Omni-modified/Vrp-Set-Li/Li-n801-sol', '../../../../VRP-Omni-modified/Vrp-Set-Li/Li-n841', '../../../../VRP-Omni-modified/Vrp-Set-Li/Li-n841-sol', '../../../../VRP-Omni-modified/Vrp-Set-Li/Li-n881', '../../../../VRP-Omni-modified/Vrp-Set-Li/Li-n881-sol', '../../../../VRP-Omni-modified/Vrp-Set-Li/Li-n961', '../../../../VRP-Omni-modified/Vrp-Set-Li/Li-n961-sol'], ['../../../../VRP-Omni-modified/Vrp-Set-M/M-n101', '../../../../VRP-Omni-modified/Vrp-Set-M/M-n101-sol', '../../../../VRP-Omni-modified/Vrp-Set-M/M-n121', '../../../../VRP-Omni-modified/Vrp-Set-M/M-n121-sol', '../../../../VRP-Omni-modified/Vrp-Set-M/M-n151', '../../../../VRP-Omni-modified/Vrp-Set-M/M-n151-sol', '../../../../VRP-Omni-modified/Vrp-Set-M/M-n200', '../../../../VRP-Omni-modified/Vrp-Set-M/M-n200-sol'], ['../../../../VRP-Omni-modified/Vrp-Set-P/P-n101', '../../../../VRP-Omni-modified/Vrp-Set-P/P-n101-sol', '../../../../VRP-Omni-modified/Vrp-Set-P/P-n16', '../../../../VRP-Omni-modified/Vrp-Set-P/P-n16-sol', '../../../../VRP-Omni-modified/Vrp-Set-P/P-n19', '../../../../VRP-Omni-modified/Vrp-Set-P/P-n19-sol', '../../../../VRP-Omni-modified/Vrp-Set-P/P-n20', '../../../../VRP-Omni-modified/Vrp-Set-P/P-n20-sol', '../../../../VRP-Omni-modified/Vrp-Set-P/P-n21', '../../../../VRP-Omni-modified/Vrp-Set-P/P-n21-sol', '../../../../VRP-Omni-modified/Vrp-Set-P/P-n22', '../../../../VRP-Omni-modified/Vrp-Set-P/P-n22-sol', '../../../../VRP-Omni-modified/Vrp-Set-P/P-n23', '../../../../VRP-Omni-modified/Vrp-Set-P/P-n23-sol', '../../../../VRP-Omni-modified/Vrp-Set-P/P-n40', '../../../../VRP-Omni-modified/Vrp-Set-P/P-n40-sol', '../../../../VRP-Omni-modified/Vrp-Set-P/P-n45', '../../../../VRP-Omni-modified/Vrp-Set-P/P-n45-sol', '../../../../VRP-Omni-modified/Vrp-Set-P/P-n50', '../../../../VRP-Omni-modified/Vrp-Set-P/P-n50-sol', '../../../../VRP-Omni-modified/Vrp-Set-P/P-n51', '../../../../VRP-Omni-modified/Vrp-Set-P/P-n51-sol', '../../../../VRP-Omni-modified/Vrp-Set-P/P-n55', '../../../../VRP-Omni-modified/Vrp-Set-P/P-n55-sol', '../../../../VRP-Omni-modified/Vrp-Set-P/P-n60', '../../../../VRP-Omni-modified/Vrp-Set-P/P-n60-sol', '../../../../VRP-Omni-modified/Vrp-Set-P/P-n65', '../../../../VRP-Omni-modified/Vrp-Set-P/P-n65-sol', '../../../../VRP-Omni-modified/Vrp-Set-P/P-n70', '../../../../VRP-Omni-modified/Vrp-Set-P/P-n70-sol', '../../../../VRP-Omni-modified/Vrp-Set-P/P-n76', '../../../../VRP-Omni-modified/Vrp-Set-P/P-n76-sol'], ['../../../../VRP-Omni-modified/Vrp-Set-X/X-n1001', '../../../../VRP-Omni-modified/Vrp-Set-X/X-n1001-sol', '../../../../VRP-Omni-modified/Vrp-Set-X/X-n101', '../../../../VRP-Omni-modified/Vrp-Set-X/X-n101-sol', '../../../../VRP-Omni-modified/Vrp-Set-X/X-n106', '../../../../VRP-Omni-modified/Vrp-Set-X/X-n106-sol', '../../../../VRP-Omni-modified/Vrp-Set-X/X-n110', '../../../../VRP-Omni-modified/Vrp-Set-X/X-n110-sol', '../../../../VRP-Omni-modified/Vrp-Set-X/X-n115', '../../../../VRP-Omni-modified/Vrp-Set-X/X-n115-sol', '../../../../VRP-Omni-modified/Vrp-Set-X/X-n120', '../../../../VRP-Omni-modified/Vrp-Set-X/X-n120-sol', '../../../../VRP-Omni-modified/Vrp-Set-X/X-n125', '../../../../VRP-Omni-modified/Vrp-Set-X/X-n125-sol', '../../../../VRP-Omni-modified/Vrp-Set-X/X-n129', '../../../../VRP-Omni-modified/Vrp-Set-X/X-n129-sol', '../../../../VRP-Omni-modified/Vrp-Set-X/X-n134', '../../../../VRP-Omni-modified/Vrp-Set-X/X-n134-sol', '../../../../VRP-Omni-modified/Vrp-Set-X/X-n139', '../../../../VRP-Omni-modified/Vrp-Set-X/X-n139-sol', '../../../../VRP-Omni-modified/Vrp-Set-X/X-n143', '../../../../VRP-Omni-modified/Vrp-Set-X/X-n143-sol', '../../../../VRP-Omni-modified/Vrp-Set-X/X-n148', '../../../../VRP-Omni-modified/Vrp-Set-X/X-n148-sol', '../../../../VRP-Omni-modified/Vrp-Set-X/X-n153', '../../../../VRP-Omni-modified/Vrp-Set-X/X-n153-sol', '../../../../VRP-Omni-modified/Vrp-Set-X/X-n157', '../../../../VRP-Omni-modified/Vrp-Set-X/X-n157-sol', '../../../../VRP-Omni-modified/Vrp-Set-X/X-n162', '../../../../VRP-Omni-modified/Vrp-Set-X/X-n162-sol', '../../../../VRP-Omni-modified/Vrp-Set-X/X-n167', '../../../../VRP-Omni-modified/Vrp-Set-X/X-n167-sol', '../../../../VRP-Omni-modified/Vrp-Set-X/X-n172', '../../../../VRP-Omni-modified/Vrp-Set-X/X-n172-sol', '../../../../VRP-Omni-modified/Vrp-Set-X/X-n176', '../../../../VRP-Omni-modified/Vrp-Set-X/X-n176-sol', '../../../../VRP-Omni-modified/Vrp-Set-X/X-n181', '../../../../VRP-Omni-modified/Vrp-Set-X/X-n181-sol', '../../../../VRP-Omni-modified/Vrp-Set-X/X-n186', '../../../../VRP-Omni-modified/Vrp-Set-X/X-n186-sol', '../../../../VRP-Omni-modified/Vrp-Set-X/X-n190', '../../../../VRP-Omni-modified/Vrp-Set-X/X-n190-sol', '../../../../VRP-Omni-modified/Vrp-Set-X/X-n195', '../../../../VRP-Omni-modified/Vrp-Set-X/X-n195-sol', '../../../../VRP-Omni-modified/Vrp-Set-X/X-n200', '../../../../VRP-Omni-modified/Vrp-Set-X/X-n200-sol', '../../../../VRP-Omni-modified/Vrp-Set-X/X-n204', '../../../../VRP-Omni-modified/Vrp-Set-X/X-n204-sol', '../../../../VRP-Omni-modified/Vrp-Set-X/X-n209', '../../../../VRP-Omni-modified/Vrp-Set-X/X-n209-sol', '../../../../VRP-Omni-modified/Vrp-Set-X/X-n214', '../../../../VRP-Omni-modified/Vrp-Set-X/X-n214-sol', '../../../../VRP-Omni-modified/Vrp-Set-X/X-n219', '../../../../VRP-Omni-modified/Vrp-Set-X/X-n219-sol', '../../../../VRP-Omni-modified/Vrp-Set-X/X-n223', '../../../../VRP-Omni-modified/Vrp-Set-X/X-n223-sol', '../../../../VRP-Omni-modified/Vrp-Set-X/X-n228', '../../../../VRP-Omni-modified/Vrp-Set-X/X-n228-sol', '../../../../VRP-Omni-modified/Vrp-Set-X/X-n233', '../../../../VRP-Omni-modified/Vrp-Set-X/X-n233-sol', '../../../../VRP-Omni-modified/Vrp-Set-X/X-n237', '../../../../VRP-Omni-modified/Vrp-Set-X/X-n237-sol', '../../../../VRP-Omni-modified/Vrp-Set-X/X-n242', '../../../../VRP-Omni-modified/Vrp-Set-X/X-n242-sol', '../../../../VRP-Omni-modified/Vrp-Set-X/X-n247', '../../../../VRP-Omni-modified/Vrp-Set-X/X-n247-sol', '../../../../VRP-Omni-modified/Vrp-Set-X/X-n251', '../../../../VRP-Omni-modified/Vrp-Set-X/X-n251-sol', '../../../../VRP-Omni-modified/Vrp-Set-X/X-n256', '../../../../VRP-Omni-modified/Vrp-Set-X/X-n256-sol', '../../../../VRP-Omni-modified/Vrp-Set-X/X-n261', '../../../../VRP-Omni-modified/Vrp-Set-X/X-n261-sol', '../../../../VRP-Omni-modified/Vrp-Set-X/X-n266', '../../../../VRP-Omni-modified/Vrp-Set-X/X-n266-sol', '../../../../VRP-Omni-modified/Vrp-Set-X/X-n270', '../../../../VRP-Omni-modified/Vrp-Set-X/X-n270-sol', '../../../../VRP-Omni-modified/Vrp-Set-X/X-n275', '../../../../VRP-Omni-modified/Vrp-Set-X/X-n275-sol', '../../../../VRP-Omni-modified/Vrp-Set-X/X-n280', '../../../../VRP-Omni-modified/Vrp-Set-X/X-n280-sol', '../../../../VRP-Omni-modified/Vrp-Set-X/X-n284', '../../../../VRP-Omni-modified/Vrp-Set-X/X-n284-sol', '../../../../VRP-Omni-modified/Vrp-Set-X/X-n289', '../../../../VRP-Omni-modified/Vrp-Set-X/X-n289-sol', '../../../../VRP-Omni-modified/Vrp-Set-X/X-n294', '../../../../VRP-Omni-modified/Vrp-Set-X/X-n294-sol', '../../../../VRP-Omni-modified/Vrp-Set-X/X-n298', '../../../../VRP-Omni-modified/Vrp-Set-X/X-n298-sol', '../../../../VRP-Omni-modified/Vrp-Set-X/X-n303', '../../../../VRP-Omni-modified/Vrp-Set-X/X-n303-sol', '../../../../VRP-Omni-modified/Vrp-Set-X/X-n308', '../../../../VRP-Omni-modified/Vrp-Set-X/X-n308-sol', '../../../../VRP-Omni-modified/Vrp-Set-X/X-n313', '../../../../VRP-Omni-modified/Vrp-Set-X/X-n313-sol', '../../../../VRP-Omni-modified/Vrp-Set-X/X-n317', '../../../../VRP-Omni-modified/Vrp-Set-X/X-n317-sol', '../../../../VRP-Omni-modified/Vrp-Set-X/X-n322', '../../../../VRP-Omni-modified/Vrp-Set-X/X-n322-sol', '../../../../VRP-Omni-modified/Vrp-Set-X/X-n327', '../../../../VRP-Omni-modified/Vrp-Set-X/X-n327-sol', '../../../../VRP-Omni-modified/Vrp-Set-X/X-n331', '../../../../VRP-Omni-modified/Vrp-Set-X/X-n331-sol', '../../../../VRP-Omni-modified/Vrp-Set-X/X-n336', '../../../../VRP-Omni-modified/Vrp-Set-X/X-n336-sol', '../../../../VRP-Omni-modified/Vrp-Set-X/X-n344', '../../../../VRP-Omni-modified/Vrp-Set-X/X-n344-sol', '../../../../VRP-Omni-modified/Vrp-Set-X/X-n351', '../../../../VRP-Omni-modified/Vrp-Set-X/X-n351-sol', '../../../../VRP-Omni-modified/Vrp-Set-X/X-n359', '../../../../VRP-Omni-modified/Vrp-Set-X/X-n359-sol', '../../../../VRP-Omni-modified/Vrp-Set-X/X-n367', '../../../../VRP-Omni-modified/Vrp-Set-X/X-n367-sol', '../../../../VRP-Omni-modified/Vrp-Set-X/X-n376', '../../../../VRP-Omni-modified/Vrp-Set-X/X-n376-sol', '../../../../VRP-Omni-modified/Vrp-Set-X/X-n384', '../../../../VRP-Omni-modified/Vrp-Set-X/X-n384-sol', '../../../../VRP-Omni-modified/Vrp-Set-X/X-n393', '../../../../VRP-Omni-modified/Vrp-Set-X/X-n393-sol', '../../../../VRP-Omni-modified/Vrp-Set-X/X-n401', '../../../../VRP-Omni-modified/Vrp-Set-X/X-n401-sol', '../../../../VRP-Omni-modified/Vrp-Set-X/X-n411', '../../../../VRP-Omni-modified/Vrp-Set-X/X-n411-sol', '../../../../VRP-Omni-modified/Vrp-Set-X/X-n420', '../../../../VRP-Omni-modified/Vrp-Set-X/X-n420-sol', '../../../../VRP-Omni-modified/Vrp-Set-X/X-n429', '../../../../VRP-Omni-modified/Vrp-Set-X/X-n429-sol', '../../../../VRP-Omni-modified/Vrp-Set-X/X-n439', '../../../../VRP-Omni-modified/Vrp-Set-X/X-n439-sol', '../../../../VRP-Omni-modified/Vrp-Set-X/X-n449', '../../../../VRP-Omni-modified/Vrp-Set-X/X-n449-sol', '../../../../VRP-Omni-modified/Vrp-Set-X/X-n459', '../../../../VRP-Omni-modified/Vrp-Set-X/X-n459-sol', '../../../../VRP-Omni-modified/Vrp-Set-X/X-n469', '../../../../VRP-Omni-modified/Vrp-Set-X/X-n469-sol', '../../../../VRP-Omni-modified/Vrp-Set-X/X-n480', '../../../../VRP-Omni-modified/Vrp-Set-X/X-n480-sol', '../../../../VRP-Omni-modified/Vrp-Set-X/X-n491', '../../../../VRP-Omni-modified/Vrp-Set-X/X-n491-sol', '../../../../VRP-Omni-modified/Vrp-Set-X/X-n502', '../../../../VRP-Omni-modified/Vrp-Set-X/X-n502-sol', '../../../../VRP-Omni-modified/Vrp-Set-X/X-n513', '../../../../VRP-Omni-modified/Vrp-Set-X/X-n513-sol', '../../../../VRP-Omni-modified/Vrp-Set-X/X-n524', '../../../../VRP-Omni-modified/Vrp-Set-X/X-n524-sol', '../../../../VRP-Omni-modified/Vrp-Set-X/X-n536', '../../../../VRP-Omni-modified/Vrp-Set-X/X-n536-sol', '../../../../VRP-Omni-modified/Vrp-Set-X/X-n548', '../../../../VRP-Omni-modified/Vrp-Set-X/X-n548-sol', '../../../../VRP-Omni-modified/Vrp-Set-X/X-n561', '../../../../VRP-Omni-modified/Vrp-Set-X/X-n561-sol', '../../../../VRP-Omni-modified/Vrp-Set-X/X-n573', '../../../../VRP-Omni-modified/Vrp-Set-X/X-n573-sol', '../../../../VRP-Omni-modified/Vrp-Set-X/X-n586', '../../../../VRP-Omni-modified/Vrp-Set-X/X-n586-sol', '../../../../VRP-Omni-modified/Vrp-Set-X/X-n599', '../../../../VRP-Omni-modified/Vrp-Set-X/X-n599-sol', '../../../../VRP-Omni-modified/Vrp-Set-X/X-n613', '../../../../VRP-Omni-modified/Vrp-Set-X/X-n613-sol', '../../../../VRP-Omni-modified/Vrp-Set-X/X-n627', '../../../../VRP-Omni-modified/Vrp-Set-X/X-n627-sol', '../../../../VRP-Omni-modified/Vrp-Set-X/X-n641', '../../../../VRP-Omni-modified/Vrp-Set-X/X-n641-sol', '../../../../VRP-Omni-modified/Vrp-Set-X/X-n655', '../../../../VRP-Omni-modified/Vrp-Set-X/X-n655-sol', '../../../../VRP-Omni-modified/Vrp-Set-X/X-n670', '../../../../VRP-Omni-modified/Vrp-Set-X/X-n670-sol', '../../../../VRP-Omni-modified/Vrp-Set-X/X-n685', '../../../../VRP-Omni-modified/Vrp-Set-X/X-n685-sol', '../../../../VRP-Omni-modified/Vrp-Set-X/X-n701', '../../../../VRP-Omni-modified/Vrp-Set-X/X-n701-sol', '../../../../VRP-Omni-modified/Vrp-Set-X/X-n716', '../../../../VRP-Omni-modified/Vrp-Set-X/X-n716-sol', '../../../../VRP-Omni-modified/Vrp-Set-X/X-n733', '../../../../VRP-Omni-modified/Vrp-Set-X/X-n733-sol', '../../../../VRP-Omni-modified/Vrp-Set-X/X-n749', '../../../../VRP-Omni-modified/Vrp-Set-X/X-n749-sol', '../../../../VRP-Omni-modified/Vrp-Set-X/X-n766', '../../../../VRP-Omni-modified/Vrp-Set-X/X-n766-sol', '../../../../VRP-Omni-modified/Vrp-Set-X/X-n783', '../../../../VRP-Omni-modified/Vrp-Set-X/X-n783-sol', '../../../../VRP-Omni-modified/Vrp-Set-X/X-n801', '../../../../VRP-Omni-modified/Vrp-Set-X/X-n801-sol', '../../../../VRP-Omni-modified/Vrp-Set-X/X-n819', '../../../../VRP-Omni-modified/Vrp-Set-X/X-n819-sol', '../../../../VRP-Omni-modified/Vrp-Set-X/X-n837', '../../../../VRP-Omni-modified/Vrp-Set-X/X-n837-sol', '../../../../VRP-Omni-modified/Vrp-Set-X/X-n856', '../../../../VRP-Omni-modified/Vrp-Set-X/X-n856-sol', '../../../../VRP-Omni-modified/Vrp-Set-X/X-n876', '../../../../VRP-Omni-modified/Vrp-Set-X/X-n876-sol', '../../../../VRP-Omni-modified/Vrp-Set-X/X-n895', '../../../../VRP-Omni-modified/Vrp-Set-X/X-n895-sol', '../../../../VRP-Omni-modified/Vrp-Set-X/X-n916', '../../../../VRP-Omni-modified/Vrp-Set-X/X-n916-sol', '../../../../VRP-Omni-modified/Vrp-Set-X/X-n936', '../../../../VRP-Omni-modified/Vrp-Set-X/X-n936-sol', '../../../../VRP-Omni-modified/Vrp-Set-X/X-n957', '../../../../VRP-Omni-modified/Vrp-Set-X/X-n957-sol', '../../../../VRP-Omni-modified/Vrp-Set-X/X-n979', '../../../../VRP-Omni-modified/Vrp-Set-X/X-n979-sol'], ['../../../../VRP-Omni-modified/Vrp-Set-XML100/Vrp-Set-XML100'], ['../../../../VRP-Omni-modified/Vrp-Set-XXL/XXL', '../../../../VRP-Omni-modified/Vrp-Set-XXL/XXL-n15001', '../../../../VRP-Omni-modified/Vrp-Set-XXL/XXL-n16001', '../../../../VRP-Omni-modified/Vrp-Set-XXL/XXL-n20001', '../../../../VRP-Omni-modified/Vrp-Set-XXL/XXL-n30001', '../../../../VRP-Omni-modified/Vrp-Set-XXL/XXL-n6001', '../../../../VRP-Omni-modified/Vrp-Set-XXL/XXL-n7001'], ['../../../../VRP-Omni-modified/Vrp-Set-tai/tai-n101', '../../../../VRP-Omni-modified/Vrp-Set-tai/tai-n101-sol', '../../../../VRP-Omni-modified/Vrp-Set-tai/tai-n151', '../../../../VRP-Omni-modified/Vrp-Set-tai/tai-n151-sol', '../../../../VRP-Omni-modified/Vrp-Set-tai/tai-n386', '../../../../VRP-Omni-modified/Vrp-Set-tai/tai-n386-sol', '../../../../VRP-Omni-modified/Vrp-Set-tai/tai-n76', '../../../../VRP-Omni-modified/Vrp-Set-tai/tai-n76-sol']]\n"
     ]
    }
   ],
   "source": [
    "import os\n",
    "import shutil\n",
    "import vrplib\n",
    "import pickle\n",
    "\n",
    "# batch run pomo\n",
    "root_dir='../../../../VRP-Omni-modified'\n",
    "src_dir=root_dir\n",
    "\n",
    "path_list=[]\n",
    "\n",
    "for dir in sorted(os.listdir(src_dir)):\n",
    "    dir=os.path.join(src_dir,dir)\n",
    "    #print(dir)\n",
    "    list=[os.path.join(dir, f) for f in sorted(os.listdir(dir))] \\\n",
    "        if os.path.isdir(dir) else [dir]\n",
    "    path_list.append(list)\n",
    "\n",
    "print(path_list)"
   ]
  },
  {
   "cell_type": "code",
   "execution_count": 3,
   "metadata": {},
   "outputs": [
    {
     "name": "stdout",
     "output_type": "stream",
     "text": [
      "[2024-04-02 15:46:58] test.py(107) : DEBUG_MODE: False\n",
      "[2024-04-02 15:46:58] test.py(108) : USE_CUDA: True, CUDA_DEVICE_NUM: 0\n",
      "[2024-04-02 15:46:58] test.py(109) : env_params{'problem_size': 100, 'pomo_size': 100}\n",
      "[2024-04-02 15:46:58] test.py(109) : model_params{'embedding_dim': 128, 'sqrt_embedding_dim': 11.313708498984761, 'encoder_layer_num': 6, 'qkv_dim': 16, 'head_num': 8, 'logit_clipping': 10, 'ff_hidden_dim': 512, 'eval_type': 'argmax'}\n",
      "[2024-04-02 15:46:58] test.py(109) : tester_params{'use_cuda': True, 'cuda_device_num': 0, 'model_load': {'path': './result/saved_CVRP100_model', 'epoch': 30500}, 'test_episodes': 1000, 'test_batch_size': 1, 'augmentation_enable': True, 'aug_factor': 8, 'aug_batch_size': 1, 'test_data_load': {'enable': False, 'filename': '../vrp100_test_seed1234.pt'}, 'test_set_path': '../../../../VRP-Omni-modified/Vrp-Set-A/A-n32', 'test_set_opt_sol_path': '../../../../VRP-Omni-modified/Vrp-Set-A/A-n33-sol', 'test_set_name': 'A-n33'}\n",
      "[2024-04-02 15:46:58] test.py(109) : logger_params{'log_file': {'desc': 'test_cvrp100', 'filename': 'log.txt', 'filepath': './result/20240402_164657_test_cvrp100'}}\n",
      "['../../../../VRP-Omni-modified/Vrp-Set-A/A-n32/A-n32-k5.vrp']\n"
     ]
    },
    {
     "name": "stderr",
     "output_type": "stream",
     "text": [
      "/home/xunj/miniconda3/lib/python3.11/site-packages/torch/__init__.py:614: UserWarning: torch.set_default_tensor_type() is deprecated as of PyTorch 2.1, please use torch.set_default_dtype() and torch.set_default_device() as alternatives. (Triggered internally at /opt/conda/conda-bld/pytorch_1699449183005/work/torch/csrc/tensor/python_tensor.cpp:451.)\n",
      "  _C._set_default_tensor_type(t)\n"
     ]
    },
    {
     "name": "stdout",
     "output_type": "stream",
     "text": [
      "[2024-04-02 15:46:59] CVRPTester.py(130) : episode   1/  1, Elapsed[0.01m], Remain[0.00m], score:1.602, aug_score:1.314\n",
      "[2024-04-02 15:46:59] CVRPTester.py(136) :  *** Test Done *** \n",
      "[2024-04-02 15:46:59] CVRPTester.py(137) :  NO-AUG SCORE: 1.6016 \n",
      "[2024-04-02 15:46:59] CVRPTester.py(138) :  AUGMENTATION SCORE: 1.3141 \n",
      ">> Evaluation on ../../../../VRP-Omni-modified/Vrp-Set-A/A-n32 finished within 0.54s\n",
      ">> Save final results to res/A-n32\n",
      "Test on \" ../../../../VRP-Omni-modified/Vrp-Set-A/A-n32 \" Success\n",
      "-----------------------------------------------------------------------------------------------------------------\n",
      "[2024-04-02 15:47:02] test.py(107) : DEBUG_MODE: False\n",
      "[2024-04-02 15:47:02] test.py(108) : USE_CUDA: True, CUDA_DEVICE_NUM: 0\n",
      "[2024-04-02 15:47:02] test.py(109) : env_params{'problem_size': 100, 'pomo_size': 100}\n",
      "[2024-04-02 15:47:02] test.py(109) : model_params{'embedding_dim': 128, 'sqrt_embedding_dim': 11.313708498984761, 'encoder_layer_num': 6, 'qkv_dim': 16, 'head_num': 8, 'logit_clipping': 10, 'ff_hidden_dim': 512, 'eval_type': 'argmax'}\n",
      "[2024-04-02 15:47:02] test.py(109) : tester_params{'use_cuda': True, 'cuda_device_num': 0, 'model_load': {'path': './result/saved_CVRP100_model', 'epoch': 30500}, 'test_episodes': 1000, 'test_batch_size': 1, 'augmentation_enable': True, 'aug_factor': 8, 'aug_batch_size': 1, 'test_data_load': {'enable': False, 'filename': '../vrp100_test_seed1234.pt'}, 'test_set_path': '../../../../VRP-Omni-modified/Vrp-Set-A/A-n33', 'test_set_opt_sol_path': '../../../../VRP-Omni-modified/Vrp-Set-A/A-n33-sol', 'test_set_name': 'A-n33'}\n",
      "[2024-04-02 15:47:02] test.py(109) : logger_params{'log_file': {'desc': 'test_cvrp100', 'filename': 'log.txt', 'filepath': './result/20240402_164701_test_cvrp100'}}\n",
      "['../../../../VRP-Omni-modified/Vrp-Set-A/A-n33/A-n33-k5.vrp', '../../../../VRP-Omni-modified/Vrp-Set-A/A-n33/A-n33-k6.vrp']\n"
     ]
    },
    {
     "name": "stderr",
     "output_type": "stream",
     "text": [
      "/home/xunj/miniconda3/lib/python3.11/site-packages/torch/__init__.py:614: UserWarning: torch.set_default_tensor_type() is deprecated as of PyTorch 2.1, please use torch.set_default_dtype() and torch.set_default_device() as alternatives. (Triggered internally at /opt/conda/conda-bld/pytorch_1699449183005/work/torch/csrc/tensor/python_tensor.cpp:451.)\n",
      "  _C._set_default_tensor_type(t)\n"
     ]
    },
    {
     "name": "stdout",
     "output_type": "stream",
     "text": [
      "[2024-04-02 15:47:03] CVRPTester.py(130) : episode   1/  2, Elapsed[0.01m], Remain[0.01m], score:1.303, aug_score:0.982\n",
      "[2024-04-02 15:47:03] CVRPTester.py(130) : episode   2/  2, Elapsed[0.01m], Remain[0.00m], score:1.171, aug_score:0.897\n",
      "[2024-04-02 15:47:03] CVRPTester.py(136) :  *** Test Done *** \n",
      "[2024-04-02 15:47:03] CVRPTester.py(137) :  NO-AUG SCORE: 1.2371 \n",
      "[2024-04-02 15:47:03] CVRPTester.py(138) :  AUGMENTATION SCORE: 0.9395 \n",
      ">> Evaluation on ../../../../VRP-Omni-modified/Vrp-Set-A/A-n33 finished within 0.05s\n",
      ">> Save final results to res/A-n33\n",
      "Test on \" ../../../../VRP-Omni-modified/Vrp-Set-A/A-n33 \" Success\n",
      "-----------------------------------------------------------------------------------------------------------------\n",
      "[2024-04-02 15:47:05] test.py(107) : DEBUG_MODE: False\n",
      "[2024-04-02 15:47:05] test.py(108) : USE_CUDA: True, CUDA_DEVICE_NUM: 0\n",
      "[2024-04-02 15:47:05] test.py(109) : env_params{'problem_size': 100, 'pomo_size': 100}\n",
      "[2024-04-02 15:47:05] test.py(109) : model_params{'embedding_dim': 128, 'sqrt_embedding_dim': 11.313708498984761, 'encoder_layer_num': 6, 'qkv_dim': 16, 'head_num': 8, 'logit_clipping': 10, 'ff_hidden_dim': 512, 'eval_type': 'argmax'}\n",
      "[2024-04-02 15:47:05] test.py(109) : tester_params{'use_cuda': True, 'cuda_device_num': 0, 'model_load': {'path': './result/saved_CVRP100_model', 'epoch': 30500}, 'test_episodes': 1000, 'test_batch_size': 1, 'augmentation_enable': True, 'aug_factor': 8, 'aug_batch_size': 1, 'test_data_load': {'enable': False, 'filename': '../vrp100_test_seed1234.pt'}, 'test_set_path': '../../../../VRP-Omni-modified/Vrp-Set-A/A-n34', 'test_set_opt_sol_path': '../../../../VRP-Omni-modified/Vrp-Set-A/A-n33-sol', 'test_set_name': 'A-n33'}\n",
      "[2024-04-02 15:47:05] test.py(109) : logger_params{'log_file': {'desc': 'test_cvrp100', 'filename': 'log.txt', 'filepath': './result/20240402_164704_test_cvrp100'}}\n",
      "['../../../../VRP-Omni-modified/Vrp-Set-A/A-n34/A-n34-k5.vrp']\n"
     ]
    },
    {
     "name": "stderr",
     "output_type": "stream",
     "text": [
      "/home/xunj/miniconda3/lib/python3.11/site-packages/torch/__init__.py:614: UserWarning: torch.set_default_tensor_type() is deprecated as of PyTorch 2.1, please use torch.set_default_dtype() and torch.set_default_device() as alternatives. (Triggered internally at /opt/conda/conda-bld/pytorch_1699449183005/work/torch/csrc/tensor/python_tensor.cpp:451.)\n",
      "  _C._set_default_tensor_type(t)\n"
     ]
    },
    {
     "name": "stdout",
     "output_type": "stream",
     "text": [
      "[2024-04-02 15:47:06] CVRPTester.py(130) : episode   1/  1, Elapsed[0.01m], Remain[0.00m], score:1.292, aug_score:1.105\n",
      "[2024-04-02 15:47:06] CVRPTester.py(136) :  *** Test Done *** \n",
      "[2024-04-02 15:47:06] CVRPTester.py(137) :  NO-AUG SCORE: 1.2918 \n",
      "[2024-04-02 15:47:06] CVRPTester.py(138) :  AUGMENTATION SCORE: 1.1054 \n",
      ">> Evaluation on ../../../../VRP-Omni-modified/Vrp-Set-A/A-n34 finished within 0.31s\n",
      ">> Save final results to res/A-n34\n",
      "Test on \" ../../../../VRP-Omni-modified/Vrp-Set-A/A-n34 \" Success\n",
      "-----------------------------------------------------------------------------------------------------------------\n",
      "[2024-04-02 15:47:09] test.py(107) : DEBUG_MODE: False\n",
      "[2024-04-02 15:47:09] test.py(108) : USE_CUDA: True, CUDA_DEVICE_NUM: 0\n",
      "[2024-04-02 15:47:09] test.py(109) : env_params{'problem_size': 100, 'pomo_size': 100}\n",
      "[2024-04-02 15:47:09] test.py(109) : model_params{'embedding_dim': 128, 'sqrt_embedding_dim': 11.313708498984761, 'encoder_layer_num': 6, 'qkv_dim': 16, 'head_num': 8, 'logit_clipping': 10, 'ff_hidden_dim': 512, 'eval_type': 'argmax'}\n",
      "[2024-04-02 15:47:09] test.py(109) : tester_params{'use_cuda': True, 'cuda_device_num': 0, 'model_load': {'path': './result/saved_CVRP100_model', 'epoch': 30500}, 'test_episodes': 1000, 'test_batch_size': 1, 'augmentation_enable': True, 'aug_factor': 8, 'aug_batch_size': 1, 'test_data_load': {'enable': False, 'filename': '../vrp100_test_seed1234.pt'}, 'test_set_path': '../../../../VRP-Omni-modified/Vrp-Set-A/A-n36', 'test_set_opt_sol_path': '../../../../VRP-Omni-modified/Vrp-Set-A/A-n33-sol', 'test_set_name': 'A-n33'}\n",
      "[2024-04-02 15:47:09] test.py(109) : logger_params{'log_file': {'desc': 'test_cvrp100', 'filename': 'log.txt', 'filepath': './result/20240402_164707_test_cvrp100'}}\n",
      "['../../../../VRP-Omni-modified/Vrp-Set-A/A-n36/A-n36-k5.vrp']\n"
     ]
    },
    {
     "name": "stderr",
     "output_type": "stream",
     "text": [
      "/home/xunj/miniconda3/lib/python3.11/site-packages/torch/__init__.py:614: UserWarning: torch.set_default_tensor_type() is deprecated as of PyTorch 2.1, please use torch.set_default_dtype() and torch.set_default_device() as alternatives. (Triggered internally at /opt/conda/conda-bld/pytorch_1699449183005/work/torch/csrc/tensor/python_tensor.cpp:451.)\n",
      "  _C._set_default_tensor_type(t)\n"
     ]
    },
    {
     "name": "stdout",
     "output_type": "stream",
     "text": [
      "[2024-04-02 15:47:09] CVRPTester.py(130) : episode   1/  1, Elapsed[0.01m], Remain[0.00m], score:1.307, aug_score:0.977\n",
      "[2024-04-02 15:47:09] CVRPTester.py(136) :  *** Test Done *** \n",
      "[2024-04-02 15:47:09] CVRPTester.py(137) :  NO-AUG SCORE: 1.3065 \n",
      "[2024-04-02 15:47:09] CVRPTester.py(138) :  AUGMENTATION SCORE: 0.9769 \n",
      ">> Evaluation on ../../../../VRP-Omni-modified/Vrp-Set-A/A-n36 finished within 0.32s\n",
      ">> Save final results to res/A-n36\n",
      "Test on \" ../../../../VRP-Omni-modified/Vrp-Set-A/A-n36 \" Success\n",
      "-----------------------------------------------------------------------------------------------------------------\n",
      "[2024-04-02 15:47:12] test.py(107) : DEBUG_MODE: False\n",
      "[2024-04-02 15:47:12] test.py(108) : USE_CUDA: True, CUDA_DEVICE_NUM: 0\n",
      "[2024-04-02 15:47:12] test.py(109) : env_params{'problem_size': 100, 'pomo_size': 100}\n",
      "[2024-04-02 15:47:12] test.py(109) : model_params{'embedding_dim': 128, 'sqrt_embedding_dim': 11.313708498984761, 'encoder_layer_num': 6, 'qkv_dim': 16, 'head_num': 8, 'logit_clipping': 10, 'ff_hidden_dim': 512, 'eval_type': 'argmax'}\n",
      "[2024-04-02 15:47:12] test.py(109) : tester_params{'use_cuda': True, 'cuda_device_num': 0, 'model_load': {'path': './result/saved_CVRP100_model', 'epoch': 30500}, 'test_episodes': 1000, 'test_batch_size': 1, 'augmentation_enable': True, 'aug_factor': 8, 'aug_batch_size': 1, 'test_data_load': {'enable': False, 'filename': '../vrp100_test_seed1234.pt'}, 'test_set_path': '../../../../VRP-Omni-modified/Vrp-Set-A/A-n37', 'test_set_opt_sol_path': '../../../../VRP-Omni-modified/Vrp-Set-A/A-n33-sol', 'test_set_name': 'A-n33'}\n",
      "[2024-04-02 15:47:12] test.py(109) : logger_params{'log_file': {'desc': 'test_cvrp100', 'filename': 'log.txt', 'filepath': './result/20240402_164710_test_cvrp100'}}\n",
      "['../../../../VRP-Omni-modified/Vrp-Set-A/A-n37/A-n37-k5.vrp', '../../../../VRP-Omni-modified/Vrp-Set-A/A-n37/A-n37-k6.vrp']\n"
     ]
    },
    {
     "name": "stderr",
     "output_type": "stream",
     "text": [
      "/home/xunj/miniconda3/lib/python3.11/site-packages/torch/__init__.py:614: UserWarning: torch.set_default_tensor_type() is deprecated as of PyTorch 2.1, please use torch.set_default_dtype() and torch.set_default_device() as alternatives. (Triggered internally at /opt/conda/conda-bld/pytorch_1699449183005/work/torch/csrc/tensor/python_tensor.cpp:451.)\n",
      "  _C._set_default_tensor_type(t)\n"
     ]
    },
    {
     "name": "stdout",
     "output_type": "stream",
     "text": [
      "[2024-04-02 15:47:13] CVRPTester.py(130) : episode   1/  2, Elapsed[0.01m], Remain[0.01m], score:1.338, aug_score:0.993\n",
      "[2024-04-02 15:47:13] CVRPTester.py(130) : episode   2/  2, Elapsed[0.01m], Remain[0.00m], score:1.668, aug_score:1.379\n",
      "[2024-04-02 15:47:13] CVRPTester.py(136) :  *** Test Done *** \n",
      "[2024-04-02 15:47:13] CVRPTester.py(137) :  NO-AUG SCORE: 1.5028 \n",
      "[2024-04-02 15:47:13] CVRPTester.py(138) :  AUGMENTATION SCORE: 1.1864 \n",
      ">> Evaluation on ../../../../VRP-Omni-modified/Vrp-Set-A/A-n37 finished within 0.06s\n",
      ">> Save final results to res/A-n37\n",
      "Test on \" ../../../../VRP-Omni-modified/Vrp-Set-A/A-n37 \" Success\n",
      "-----------------------------------------------------------------------------------------------------------------\n",
      "[2024-04-02 15:47:15] test.py(107) : DEBUG_MODE: False\n",
      "[2024-04-02 15:47:15] test.py(108) : USE_CUDA: True, CUDA_DEVICE_NUM: 0\n",
      "[2024-04-02 15:47:15] test.py(109) : env_params{'problem_size': 100, 'pomo_size': 100}\n",
      "[2024-04-02 15:47:15] test.py(109) : model_params{'embedding_dim': 128, 'sqrt_embedding_dim': 11.313708498984761, 'encoder_layer_num': 6, 'qkv_dim': 16, 'head_num': 8, 'logit_clipping': 10, 'ff_hidden_dim': 512, 'eval_type': 'argmax'}\n",
      "[2024-04-02 15:47:15] test.py(109) : tester_params{'use_cuda': True, 'cuda_device_num': 0, 'model_load': {'path': './result/saved_CVRP100_model', 'epoch': 30500}, 'test_episodes': 1000, 'test_batch_size': 1, 'augmentation_enable': True, 'aug_factor': 8, 'aug_batch_size': 1, 'test_data_load': {'enable': False, 'filename': '../vrp100_test_seed1234.pt'}, 'test_set_path': '../../../../VRP-Omni-modified/Vrp-Set-A/A-n38', 'test_set_opt_sol_path': '../../../../VRP-Omni-modified/Vrp-Set-A/A-n33-sol', 'test_set_name': 'A-n33'}\n",
      "[2024-04-02 15:47:15] test.py(109) : logger_params{'log_file': {'desc': 'test_cvrp100', 'filename': 'log.txt', 'filepath': './result/20240402_164714_test_cvrp100'}}\n",
      "['../../../../VRP-Omni-modified/Vrp-Set-A/A-n38/A-n38-k5.vrp']\n"
     ]
    },
    {
     "name": "stderr",
     "output_type": "stream",
     "text": [
      "/home/xunj/miniconda3/lib/python3.11/site-packages/torch/__init__.py:614: UserWarning: torch.set_default_tensor_type() is deprecated as of PyTorch 2.1, please use torch.set_default_dtype() and torch.set_default_device() as alternatives. (Triggered internally at /opt/conda/conda-bld/pytorch_1699449183005/work/torch/csrc/tensor/python_tensor.cpp:451.)\n",
      "  _C._set_default_tensor_type(t)\n"
     ]
    },
    {
     "name": "stdout",
     "output_type": "stream",
     "text": [
      "[2024-04-02 15:47:16] CVRPTester.py(130) : episode   1/  1, Elapsed[0.01m], Remain[0.00m], score:1.641, aug_score:1.154\n",
      "[2024-04-02 15:47:16] CVRPTester.py(136) :  *** Test Done *** \n",
      "[2024-04-02 15:47:16] CVRPTester.py(137) :  NO-AUG SCORE: 1.6411 \n",
      "[2024-04-02 15:47:16] CVRPTester.py(138) :  AUGMENTATION SCORE: 1.1545 \n",
      ">> Evaluation on ../../../../VRP-Omni-modified/Vrp-Set-A/A-n38 finished within 0.32s\n",
      ">> Save final results to res/A-n38\n",
      "Test on \" ../../../../VRP-Omni-modified/Vrp-Set-A/A-n38 \" Success\n",
      "-----------------------------------------------------------------------------------------------------------------\n",
      "[2024-04-02 15:47:18] test.py(107) : DEBUG_MODE: False\n",
      "[2024-04-02 15:47:18] test.py(108) : USE_CUDA: True, CUDA_DEVICE_NUM: 0\n",
      "[2024-04-02 15:47:18] test.py(109) : env_params{'problem_size': 100, 'pomo_size': 100}\n",
      "[2024-04-02 15:47:18] test.py(109) : model_params{'embedding_dim': 128, 'sqrt_embedding_dim': 11.313708498984761, 'encoder_layer_num': 6, 'qkv_dim': 16, 'head_num': 8, 'logit_clipping': 10, 'ff_hidden_dim': 512, 'eval_type': 'argmax'}\n",
      "[2024-04-02 15:47:18] test.py(109) : tester_params{'use_cuda': True, 'cuda_device_num': 0, 'model_load': {'path': './result/saved_CVRP100_model', 'epoch': 30500}, 'test_episodes': 1000, 'test_batch_size': 1, 'augmentation_enable': True, 'aug_factor': 8, 'aug_batch_size': 1, 'test_data_load': {'enable': False, 'filename': '../vrp100_test_seed1234.pt'}, 'test_set_path': '../../../../VRP-Omni-modified/Vrp-Set-A/A-n39', 'test_set_opt_sol_path': '../../../../VRP-Omni-modified/Vrp-Set-A/A-n33-sol', 'test_set_name': 'A-n33'}\n",
      "[2024-04-02 15:47:18] test.py(109) : logger_params{'log_file': {'desc': 'test_cvrp100', 'filename': 'log.txt', 'filepath': './result/20240402_164717_test_cvrp100'}}\n",
      "['../../../../VRP-Omni-modified/Vrp-Set-A/A-n39/A-n39-k5.vrp', '../../../../VRP-Omni-modified/Vrp-Set-A/A-n39/A-n39-k6.vrp']\n"
     ]
    },
    {
     "name": "stderr",
     "output_type": "stream",
     "text": [
      "/home/xunj/miniconda3/lib/python3.11/site-packages/torch/__init__.py:614: UserWarning: torch.set_default_tensor_type() is deprecated as of PyTorch 2.1, please use torch.set_default_dtype() and torch.set_default_device() as alternatives. (Triggered internally at /opt/conda/conda-bld/pytorch_1699449183005/work/torch/csrc/tensor/python_tensor.cpp:451.)\n",
      "  _C._set_default_tensor_type(t)\n"
     ]
    },
    {
     "name": "stdout",
     "output_type": "stream",
     "text": [
      "[2024-04-02 15:47:19] CVRPTester.py(130) : episode   1/  2, Elapsed[0.01m], Remain[0.01m], score:1.573, aug_score:1.058\n",
      "[2024-04-02 15:47:19] CVRPTester.py(130) : episode   2/  2, Elapsed[0.01m], Remain[0.00m], score:1.193, aug_score:1.193\n",
      "[2024-04-02 15:47:19] CVRPTester.py(136) :  *** Test Done *** \n",
      "[2024-04-02 15:47:19] CVRPTester.py(137) :  NO-AUG SCORE: 1.3827 \n",
      "[2024-04-02 15:47:19] CVRPTester.py(138) :  AUGMENTATION SCORE: 1.1256 \n",
      ">> Evaluation on ../../../../VRP-Omni-modified/Vrp-Set-A/A-n39 finished within 0.06s\n",
      ">> Save final results to res/A-n39\n",
      "Test on \" ../../../../VRP-Omni-modified/Vrp-Set-A/A-n39 \" Success\n",
      "-----------------------------------------------------------------------------------------------------------------\n",
      "[2024-04-02 15:47:22] test.py(107) : DEBUG_MODE: False\n",
      "[2024-04-02 15:47:22] test.py(108) : USE_CUDA: True, CUDA_DEVICE_NUM: 0\n",
      "[2024-04-02 15:47:22] test.py(109) : env_params{'problem_size': 100, 'pomo_size': 100}\n",
      "[2024-04-02 15:47:22] test.py(109) : model_params{'embedding_dim': 128, 'sqrt_embedding_dim': 11.313708498984761, 'encoder_layer_num': 6, 'qkv_dim': 16, 'head_num': 8, 'logit_clipping': 10, 'ff_hidden_dim': 512, 'eval_type': 'argmax'}\n",
      "[2024-04-02 15:47:22] test.py(109) : tester_params{'use_cuda': True, 'cuda_device_num': 0, 'model_load': {'path': './result/saved_CVRP100_model', 'epoch': 30500}, 'test_episodes': 1000, 'test_batch_size': 1, 'augmentation_enable': True, 'aug_factor': 8, 'aug_batch_size': 1, 'test_data_load': {'enable': False, 'filename': '../vrp100_test_seed1234.pt'}, 'test_set_path': '../../../../VRP-Omni-modified/Vrp-Set-A/A-n44', 'test_set_opt_sol_path': '../../../../VRP-Omni-modified/Vrp-Set-A/A-n33-sol', 'test_set_name': 'A-n33'}\n",
      "[2024-04-02 15:47:22] test.py(109) : logger_params{'log_file': {'desc': 'test_cvrp100', 'filename': 'log.txt', 'filepath': './result/20240402_164720_test_cvrp100'}}\n",
      "['../../../../VRP-Omni-modified/Vrp-Set-A/A-n44/A-n44-k6.vrp']\n"
     ]
    },
    {
     "name": "stderr",
     "output_type": "stream",
     "text": [
      "/home/xunj/miniconda3/lib/python3.11/site-packages/torch/__init__.py:614: UserWarning: torch.set_default_tensor_type() is deprecated as of PyTorch 2.1, please use torch.set_default_dtype() and torch.set_default_device() as alternatives. (Triggered internally at /opt/conda/conda-bld/pytorch_1699449183005/work/torch/csrc/tensor/python_tensor.cpp:451.)\n",
      "  _C._set_default_tensor_type(t)\n"
     ]
    },
    {
     "name": "stdout",
     "output_type": "stream",
     "text": [
      "[2024-04-02 15:47:22] CVRPTester.py(130) : episode   1/  1, Elapsed[0.01m], Remain[0.00m], score:1.381, aug_score:1.159\n",
      "[2024-04-02 15:47:22] CVRPTester.py(136) :  *** Test Done *** \n",
      "[2024-04-02 15:47:22] CVRPTester.py(137) :  NO-AUG SCORE: 1.3807 \n",
      "[2024-04-02 15:47:22] CVRPTester.py(138) :  AUGMENTATION SCORE: 1.1591 \n",
      ">> Evaluation on ../../../../VRP-Omni-modified/Vrp-Set-A/A-n44 finished within 0.33s\n",
      ">> Save final results to res/A-n44\n",
      "Test on \" ../../../../VRP-Omni-modified/Vrp-Set-A/A-n44 \" Success\n",
      "-----------------------------------------------------------------------------------------------------------------\n",
      "[2024-04-02 15:47:25] test.py(107) : DEBUG_MODE: False\n",
      "[2024-04-02 15:47:25] test.py(108) : USE_CUDA: True, CUDA_DEVICE_NUM: 0\n",
      "[2024-04-02 15:47:25] test.py(109) : env_params{'problem_size': 100, 'pomo_size': 100}\n",
      "[2024-04-02 15:47:25] test.py(109) : model_params{'embedding_dim': 128, 'sqrt_embedding_dim': 11.313708498984761, 'encoder_layer_num': 6, 'qkv_dim': 16, 'head_num': 8, 'logit_clipping': 10, 'ff_hidden_dim': 512, 'eval_type': 'argmax'}\n",
      "[2024-04-02 15:47:25] test.py(109) : tester_params{'use_cuda': True, 'cuda_device_num': 0, 'model_load': {'path': './result/saved_CVRP100_model', 'epoch': 30500}, 'test_episodes': 1000, 'test_batch_size': 1, 'augmentation_enable': True, 'aug_factor': 8, 'aug_batch_size': 1, 'test_data_load': {'enable': False, 'filename': '../vrp100_test_seed1234.pt'}, 'test_set_path': '../../../../VRP-Omni-modified/Vrp-Set-A/A-n45', 'test_set_opt_sol_path': '../../../../VRP-Omni-modified/Vrp-Set-A/A-n33-sol', 'test_set_name': 'A-n33'}\n",
      "[2024-04-02 15:47:25] test.py(109) : logger_params{'log_file': {'desc': 'test_cvrp100', 'filename': 'log.txt', 'filepath': './result/20240402_164723_test_cvrp100'}}\n",
      "['../../../../VRP-Omni-modified/Vrp-Set-A/A-n45/A-n45-k6.vrp', '../../../../VRP-Omni-modified/Vrp-Set-A/A-n45/A-n45-k7.vrp']\n"
     ]
    },
    {
     "name": "stderr",
     "output_type": "stream",
     "text": [
      "/home/xunj/miniconda3/lib/python3.11/site-packages/torch/__init__.py:614: UserWarning: torch.set_default_tensor_type() is deprecated as of PyTorch 2.1, please use torch.set_default_dtype() and torch.set_default_device() as alternatives. (Triggered internally at /opt/conda/conda-bld/pytorch_1699449183005/work/torch/csrc/tensor/python_tensor.cpp:451.)\n",
      "  _C._set_default_tensor_type(t)\n"
     ]
    },
    {
     "name": "stdout",
     "output_type": "stream",
     "text": [
      "[2024-04-02 15:47:25] CVRPTester.py(130) : episode   1/  2, Elapsed[0.01m], Remain[0.01m], score:1.755, aug_score:1.157\n",
      "[2024-04-02 15:47:25] CVRPTester.py(130) : episode   2/  2, Elapsed[0.01m], Remain[0.00m], score:1.812, aug_score:1.531\n",
      "[2024-04-02 15:47:25] CVRPTester.py(136) :  *** Test Done *** \n",
      "[2024-04-02 15:47:25] CVRPTester.py(137) :  NO-AUG SCORE: 1.7835 \n",
      "[2024-04-02 15:47:25] CVRPTester.py(138) :  AUGMENTATION SCORE: 1.3439 \n",
      ">> Evaluation on ../../../../VRP-Omni-modified/Vrp-Set-A/A-n45 finished within 0.07s\n",
      ">> Save final results to res/A-n45\n",
      "Test on \" ../../../../VRP-Omni-modified/Vrp-Set-A/A-n45 \" Success\n",
      "-----------------------------------------------------------------------------------------------------------------\n",
      "[2024-04-02 15:47:28] test.py(107) : DEBUG_MODE: False\n",
      "[2024-04-02 15:47:28] test.py(108) : USE_CUDA: True, CUDA_DEVICE_NUM: 0\n",
      "[2024-04-02 15:47:28] test.py(109) : env_params{'problem_size': 100, 'pomo_size': 100}\n",
      "[2024-04-02 15:47:28] test.py(109) : model_params{'embedding_dim': 128, 'sqrt_embedding_dim': 11.313708498984761, 'encoder_layer_num': 6, 'qkv_dim': 16, 'head_num': 8, 'logit_clipping': 10, 'ff_hidden_dim': 512, 'eval_type': 'argmax'}\n",
      "[2024-04-02 15:47:28] test.py(109) : tester_params{'use_cuda': True, 'cuda_device_num': 0, 'model_load': {'path': './result/saved_CVRP100_model', 'epoch': 30500}, 'test_episodes': 1000, 'test_batch_size': 1, 'augmentation_enable': True, 'aug_factor': 8, 'aug_batch_size': 1, 'test_data_load': {'enable': False, 'filename': '../vrp100_test_seed1234.pt'}, 'test_set_path': '../../../../VRP-Omni-modified/Vrp-Set-A/A-n46', 'test_set_opt_sol_path': '../../../../VRP-Omni-modified/Vrp-Set-A/A-n33-sol', 'test_set_name': 'A-n33'}\n",
      "[2024-04-02 15:47:28] test.py(109) : logger_params{'log_file': {'desc': 'test_cvrp100', 'filename': 'log.txt', 'filepath': './result/20240402_164727_test_cvrp100'}}\n",
      "['../../../../VRP-Omni-modified/Vrp-Set-A/A-n46/A-n46-k7.vrp']\n"
     ]
    },
    {
     "name": "stderr",
     "output_type": "stream",
     "text": [
      "/home/xunj/miniconda3/lib/python3.11/site-packages/torch/__init__.py:614: UserWarning: torch.set_default_tensor_type() is deprecated as of PyTorch 2.1, please use torch.set_default_dtype() and torch.set_default_device() as alternatives. (Triggered internally at /opt/conda/conda-bld/pytorch_1699449183005/work/torch/csrc/tensor/python_tensor.cpp:451.)\n",
      "  _C._set_default_tensor_type(t)\n"
     ]
    },
    {
     "name": "stdout",
     "output_type": "stream",
     "text": [
      "[2024-04-02 15:47:29] CVRPTester.py(130) : episode   1/  1, Elapsed[0.01m], Remain[0.00m], score:1.675, aug_score:1.241\n",
      "[2024-04-02 15:47:29] CVRPTester.py(136) :  *** Test Done *** \n",
      "[2024-04-02 15:47:29] CVRPTester.py(137) :  NO-AUG SCORE: 1.6746 \n",
      "[2024-04-02 15:47:29] CVRPTester.py(138) :  AUGMENTATION SCORE: 1.2410 \n",
      ">> Evaluation on ../../../../VRP-Omni-modified/Vrp-Set-A/A-n46 finished within 0.34s\n",
      ">> Save final results to res/A-n46\n",
      "Test on \" ../../../../VRP-Omni-modified/Vrp-Set-A/A-n46 \" Success\n",
      "-----------------------------------------------------------------------------------------------------------------\n",
      "[2024-04-02 15:47:31] test.py(107) : DEBUG_MODE: False\n",
      "[2024-04-02 15:47:31] test.py(108) : USE_CUDA: True, CUDA_DEVICE_NUM: 0\n",
      "[2024-04-02 15:47:31] test.py(109) : env_params{'problem_size': 100, 'pomo_size': 100}\n",
      "[2024-04-02 15:47:31] test.py(109) : model_params{'embedding_dim': 128, 'sqrt_embedding_dim': 11.313708498984761, 'encoder_layer_num': 6, 'qkv_dim': 16, 'head_num': 8, 'logit_clipping': 10, 'ff_hidden_dim': 512, 'eval_type': 'argmax'}\n",
      "[2024-04-02 15:47:31] test.py(109) : tester_params{'use_cuda': True, 'cuda_device_num': 0, 'model_load': {'path': './result/saved_CVRP100_model', 'epoch': 30500}, 'test_episodes': 1000, 'test_batch_size': 1, 'augmentation_enable': True, 'aug_factor': 8, 'aug_batch_size': 1, 'test_data_load': {'enable': False, 'filename': '../vrp100_test_seed1234.pt'}, 'test_set_path': '../../../../VRP-Omni-modified/Vrp-Set-A/A-n48', 'test_set_opt_sol_path': '../../../../VRP-Omni-modified/Vrp-Set-A/A-n33-sol', 'test_set_name': 'A-n33'}\n",
      "[2024-04-02 15:47:31] test.py(109) : logger_params{'log_file': {'desc': 'test_cvrp100', 'filename': 'log.txt', 'filepath': './result/20240402_164730_test_cvrp100'}}\n",
      "['../../../../VRP-Omni-modified/Vrp-Set-A/A-n48/A-n48-k7.vrp']\n"
     ]
    },
    {
     "name": "stderr",
     "output_type": "stream",
     "text": [
      "/home/xunj/miniconda3/lib/python3.11/site-packages/torch/__init__.py:614: UserWarning: torch.set_default_tensor_type() is deprecated as of PyTorch 2.1, please use torch.set_default_dtype() and torch.set_default_device() as alternatives. (Triggered internally at /opt/conda/conda-bld/pytorch_1699449183005/work/torch/csrc/tensor/python_tensor.cpp:451.)\n",
      "  _C._set_default_tensor_type(t)\n"
     ]
    },
    {
     "name": "stdout",
     "output_type": "stream",
     "text": [
      "[2024-04-02 15:47:32] CVRPTester.py(130) : episode   1/  1, Elapsed[0.01m], Remain[0.00m], score:1.462, aug_score:1.316\n",
      "[2024-04-02 15:47:32] CVRPTester.py(136) :  *** Test Done *** \n",
      "[2024-04-02 15:47:32] CVRPTester.py(137) :  NO-AUG SCORE: 1.4617 \n",
      "[2024-04-02 15:47:32] CVRPTester.py(138) :  AUGMENTATION SCORE: 1.3160 \n",
      ">> Evaluation on ../../../../VRP-Omni-modified/Vrp-Set-A/A-n48 finished within 0.33s\n",
      ">> Save final results to res/A-n48\n",
      "Test on \" ../../../../VRP-Omni-modified/Vrp-Set-A/A-n48 \" Success\n",
      "-----------------------------------------------------------------------------------------------------------------\n",
      "[2024-04-02 15:47:34] test.py(107) : DEBUG_MODE: False\n",
      "[2024-04-02 15:47:34] test.py(108) : USE_CUDA: True, CUDA_DEVICE_NUM: 0\n",
      "[2024-04-02 15:47:34] test.py(109) : env_params{'problem_size': 100, 'pomo_size': 100}\n",
      "[2024-04-02 15:47:34] test.py(109) : model_params{'embedding_dim': 128, 'sqrt_embedding_dim': 11.313708498984761, 'encoder_layer_num': 6, 'qkv_dim': 16, 'head_num': 8, 'logit_clipping': 10, 'ff_hidden_dim': 512, 'eval_type': 'argmax'}\n",
      "[2024-04-02 15:47:34] test.py(109) : tester_params{'use_cuda': True, 'cuda_device_num': 0, 'model_load': {'path': './result/saved_CVRP100_model', 'epoch': 30500}, 'test_episodes': 1000, 'test_batch_size': 1, 'augmentation_enable': True, 'aug_factor': 8, 'aug_batch_size': 1, 'test_data_load': {'enable': False, 'filename': '../vrp100_test_seed1234.pt'}, 'test_set_path': '../../../../VRP-Omni-modified/Vrp-Set-A/A-n53', 'test_set_opt_sol_path': '../../../../VRP-Omni-modified/Vrp-Set-A/A-n33-sol', 'test_set_name': 'A-n33'}\n",
      "[2024-04-02 15:47:34] test.py(109) : logger_params{'log_file': {'desc': 'test_cvrp100', 'filename': 'log.txt', 'filepath': './result/20240402_164733_test_cvrp100'}}\n",
      "['../../../../VRP-Omni-modified/Vrp-Set-A/A-n53/A-n53-k7.vrp']\n"
     ]
    },
    {
     "name": "stderr",
     "output_type": "stream",
     "text": [
      "/home/xunj/miniconda3/lib/python3.11/site-packages/torch/__init__.py:614: UserWarning: torch.set_default_tensor_type() is deprecated as of PyTorch 2.1, please use torch.set_default_dtype() and torch.set_default_device() as alternatives. (Triggered internally at /opt/conda/conda-bld/pytorch_1699449183005/work/torch/csrc/tensor/python_tensor.cpp:451.)\n",
      "  _C._set_default_tensor_type(t)\n"
     ]
    },
    {
     "name": "stdout",
     "output_type": "stream",
     "text": [
      "[2024-04-02 15:47:35] CVRPTester.py(130) : episode   1/  1, Elapsed[0.01m], Remain[0.00m], score:1.573, aug_score:1.318\n",
      "[2024-04-02 15:47:35] CVRPTester.py(136) :  *** Test Done *** \n",
      "[2024-04-02 15:47:35] CVRPTester.py(137) :  NO-AUG SCORE: 1.5728 \n",
      "[2024-04-02 15:47:35] CVRPTester.py(138) :  AUGMENTATION SCORE: 1.3182 \n",
      ">> Evaluation on ../../../../VRP-Omni-modified/Vrp-Set-A/A-n53 finished within 0.32s\n",
      ">> Save final results to res/A-n53\n",
      "Test on \" ../../../../VRP-Omni-modified/Vrp-Set-A/A-n53 \" Success\n",
      "-----------------------------------------------------------------------------------------------------------------\n",
      "[2024-04-02 15:47:37] test.py(107) : DEBUG_MODE: False\n",
      "[2024-04-02 15:47:37] test.py(108) : USE_CUDA: True, CUDA_DEVICE_NUM: 0\n",
      "[2024-04-02 15:47:37] test.py(109) : env_params{'problem_size': 100, 'pomo_size': 100}\n",
      "[2024-04-02 15:47:37] test.py(109) : model_params{'embedding_dim': 128, 'sqrt_embedding_dim': 11.313708498984761, 'encoder_layer_num': 6, 'qkv_dim': 16, 'head_num': 8, 'logit_clipping': 10, 'ff_hidden_dim': 512, 'eval_type': 'argmax'}\n",
      "[2024-04-02 15:47:37] test.py(109) : tester_params{'use_cuda': True, 'cuda_device_num': 0, 'model_load': {'path': './result/saved_CVRP100_model', 'epoch': 30500}, 'test_episodes': 1000, 'test_batch_size': 1, 'augmentation_enable': True, 'aug_factor': 8, 'aug_batch_size': 1, 'test_data_load': {'enable': False, 'filename': '../vrp100_test_seed1234.pt'}, 'test_set_path': '../../../../VRP-Omni-modified/Vrp-Set-A/A-n54', 'test_set_opt_sol_path': '../../../../VRP-Omni-modified/Vrp-Set-A/A-n33-sol', 'test_set_name': 'A-n33'}\n",
      "[2024-04-02 15:47:37] test.py(109) : logger_params{'log_file': {'desc': 'test_cvrp100', 'filename': 'log.txt', 'filepath': './result/20240402_164736_test_cvrp100'}}\n",
      "['../../../../VRP-Omni-modified/Vrp-Set-A/A-n54/A-n54-k7.vrp']\n"
     ]
    },
    {
     "name": "stderr",
     "output_type": "stream",
     "text": [
      "/home/xunj/miniconda3/lib/python3.11/site-packages/torch/__init__.py:614: UserWarning: torch.set_default_tensor_type() is deprecated as of PyTorch 2.1, please use torch.set_default_dtype() and torch.set_default_device() as alternatives. (Triggered internally at /opt/conda/conda-bld/pytorch_1699449183005/work/torch/csrc/tensor/python_tensor.cpp:451.)\n",
      "  _C._set_default_tensor_type(t)\n"
     ]
    },
    {
     "name": "stdout",
     "output_type": "stream",
     "text": [
      "[2024-04-02 15:47:38] CVRPTester.py(130) : episode   1/  1, Elapsed[0.01m], Remain[0.00m], score:1.694, aug_score:1.398\n",
      "[2024-04-02 15:47:38] CVRPTester.py(136) :  *** Test Done *** \n",
      "[2024-04-02 15:47:38] CVRPTester.py(137) :  NO-AUG SCORE: 1.6945 \n",
      "[2024-04-02 15:47:38] CVRPTester.py(138) :  AUGMENTATION SCORE: 1.3980 \n",
      ">> Evaluation on ../../../../VRP-Omni-modified/Vrp-Set-A/A-n54 finished within 0.33s\n",
      ">> Save final results to res/A-n54\n",
      "Test on \" ../../../../VRP-Omni-modified/Vrp-Set-A/A-n54 \" Success\n",
      "-----------------------------------------------------------------------------------------------------------------\n",
      "[2024-04-02 15:47:41] test.py(107) : DEBUG_MODE: False\n",
      "[2024-04-02 15:47:41] test.py(108) : USE_CUDA: True, CUDA_DEVICE_NUM: 0\n",
      "[2024-04-02 15:47:41] test.py(109) : env_params{'problem_size': 100, 'pomo_size': 100}\n",
      "[2024-04-02 15:47:41] test.py(109) : model_params{'embedding_dim': 128, 'sqrt_embedding_dim': 11.313708498984761, 'encoder_layer_num': 6, 'qkv_dim': 16, 'head_num': 8, 'logit_clipping': 10, 'ff_hidden_dim': 512, 'eval_type': 'argmax'}\n",
      "[2024-04-02 15:47:41] test.py(109) : tester_params{'use_cuda': True, 'cuda_device_num': 0, 'model_load': {'path': './result/saved_CVRP100_model', 'epoch': 30500}, 'test_episodes': 1000, 'test_batch_size': 1, 'augmentation_enable': True, 'aug_factor': 8, 'aug_batch_size': 1, 'test_data_load': {'enable': False, 'filename': '../vrp100_test_seed1234.pt'}, 'test_set_path': '../../../../VRP-Omni-modified/Vrp-Set-A/A-n55', 'test_set_opt_sol_path': '../../../../VRP-Omni-modified/Vrp-Set-A/A-n33-sol', 'test_set_name': 'A-n33'}\n",
      "[2024-04-02 15:47:41] test.py(109) : logger_params{'log_file': {'desc': 'test_cvrp100', 'filename': 'log.txt', 'filepath': './result/20240402_164739_test_cvrp100'}}\n",
      "['../../../../VRP-Omni-modified/Vrp-Set-A/A-n55/A-n55-k9.vrp']\n"
     ]
    },
    {
     "name": "stderr",
     "output_type": "stream",
     "text": [
      "/home/xunj/miniconda3/lib/python3.11/site-packages/torch/__init__.py:614: UserWarning: torch.set_default_tensor_type() is deprecated as of PyTorch 2.1, please use torch.set_default_dtype() and torch.set_default_device() as alternatives. (Triggered internally at /opt/conda/conda-bld/pytorch_1699449183005/work/torch/csrc/tensor/python_tensor.cpp:451.)\n",
      "  _C._set_default_tensor_type(t)\n"
     ]
    },
    {
     "name": "stdout",
     "output_type": "stream",
     "text": [
      "[2024-04-02 15:47:41] CVRPTester.py(130) : episode   1/  1, Elapsed[0.01m], Remain[0.00m], score:1.735, aug_score:1.513\n",
      "[2024-04-02 15:47:41] CVRPTester.py(136) :  *** Test Done *** \n",
      "[2024-04-02 15:47:41] CVRPTester.py(137) :  NO-AUG SCORE: 1.7350 \n",
      "[2024-04-02 15:47:41] CVRPTester.py(138) :  AUGMENTATION SCORE: 1.5127 \n",
      ">> Evaluation on ../../../../VRP-Omni-modified/Vrp-Set-A/A-n55 finished within 0.34s\n",
      ">> Save final results to res/A-n55\n",
      "Test on \" ../../../../VRP-Omni-modified/Vrp-Set-A/A-n55 \" Success\n",
      "-----------------------------------------------------------------------------------------------------------------\n",
      "[2024-04-02 15:47:44] test.py(107) : DEBUG_MODE: False\n",
      "[2024-04-02 15:47:44] test.py(108) : USE_CUDA: True, CUDA_DEVICE_NUM: 0\n",
      "[2024-04-02 15:47:44] test.py(109) : env_params{'problem_size': 100, 'pomo_size': 100}\n",
      "[2024-04-02 15:47:44] test.py(109) : model_params{'embedding_dim': 128, 'sqrt_embedding_dim': 11.313708498984761, 'encoder_layer_num': 6, 'qkv_dim': 16, 'head_num': 8, 'logit_clipping': 10, 'ff_hidden_dim': 512, 'eval_type': 'argmax'}\n",
      "[2024-04-02 15:47:44] test.py(109) : tester_params{'use_cuda': True, 'cuda_device_num': 0, 'model_load': {'path': './result/saved_CVRP100_model', 'epoch': 30500}, 'test_episodes': 1000, 'test_batch_size': 1, 'augmentation_enable': True, 'aug_factor': 8, 'aug_batch_size': 1, 'test_data_load': {'enable': False, 'filename': '../vrp100_test_seed1234.pt'}, 'test_set_path': '../../../../VRP-Omni-modified/Vrp-Set-A/A-n60', 'test_set_opt_sol_path': '../../../../VRP-Omni-modified/Vrp-Set-A/A-n33-sol', 'test_set_name': 'A-n33'}\n",
      "[2024-04-02 15:47:44] test.py(109) : logger_params{'log_file': {'desc': 'test_cvrp100', 'filename': 'log.txt', 'filepath': './result/20240402_164742_test_cvrp100'}}\n",
      "['../../../../VRP-Omni-modified/Vrp-Set-A/A-n60/A-n60-k9.vrp']\n"
     ]
    },
    {
     "name": "stderr",
     "output_type": "stream",
     "text": [
      "/home/xunj/miniconda3/lib/python3.11/site-packages/torch/__init__.py:614: UserWarning: torch.set_default_tensor_type() is deprecated as of PyTorch 2.1, please use torch.set_default_dtype() and torch.set_default_device() as alternatives. (Triggered internally at /opt/conda/conda-bld/pytorch_1699449183005/work/torch/csrc/tensor/python_tensor.cpp:451.)\n",
      "  _C._set_default_tensor_type(t)\n"
     ]
    },
    {
     "name": "stdout",
     "output_type": "stream",
     "text": [
      "[2024-04-02 15:47:45] CVRPTester.py(130) : episode   1/  1, Elapsed[0.01m], Remain[0.00m], score:1.907, aug_score:1.739\n",
      "[2024-04-02 15:47:45] CVRPTester.py(136) :  *** Test Done *** \n",
      "[2024-04-02 15:47:45] CVRPTester.py(137) :  NO-AUG SCORE: 1.9067 \n",
      "[2024-04-02 15:47:45] CVRPTester.py(138) :  AUGMENTATION SCORE: 1.7394 \n",
      ">> Evaluation on ../../../../VRP-Omni-modified/Vrp-Set-A/A-n60 finished within 0.35s\n",
      ">> Save final results to res/A-n60\n",
      "Test on \" ../../../../VRP-Omni-modified/Vrp-Set-A/A-n60 \" Success\n",
      "-----------------------------------------------------------------------------------------------------------------\n",
      "[2024-04-02 15:47:47] test.py(107) : DEBUG_MODE: False\n",
      "[2024-04-02 15:47:47] test.py(108) : USE_CUDA: True, CUDA_DEVICE_NUM: 0\n",
      "[2024-04-02 15:47:47] test.py(109) : env_params{'problem_size': 100, 'pomo_size': 100}\n",
      "[2024-04-02 15:47:47] test.py(109) : model_params{'embedding_dim': 128, 'sqrt_embedding_dim': 11.313708498984761, 'encoder_layer_num': 6, 'qkv_dim': 16, 'head_num': 8, 'logit_clipping': 10, 'ff_hidden_dim': 512, 'eval_type': 'argmax'}\n",
      "[2024-04-02 15:47:47] test.py(109) : tester_params{'use_cuda': True, 'cuda_device_num': 0, 'model_load': {'path': './result/saved_CVRP100_model', 'epoch': 30500}, 'test_episodes': 1000, 'test_batch_size': 1, 'augmentation_enable': True, 'aug_factor': 8, 'aug_batch_size': 1, 'test_data_load': {'enable': False, 'filename': '../vrp100_test_seed1234.pt'}, 'test_set_path': '../../../../VRP-Omni-modified/Vrp-Set-A/A-n61', 'test_set_opt_sol_path': '../../../../VRP-Omni-modified/Vrp-Set-A/A-n33-sol', 'test_set_name': 'A-n33'}\n",
      "[2024-04-02 15:47:47] test.py(109) : logger_params{'log_file': {'desc': 'test_cvrp100', 'filename': 'log.txt', 'filepath': './result/20240402_164746_test_cvrp100'}}\n",
      "['../../../../VRP-Omni-modified/Vrp-Set-A/A-n61/A-n61-k9.vrp']\n"
     ]
    },
    {
     "name": "stderr",
     "output_type": "stream",
     "text": [
      "/home/xunj/miniconda3/lib/python3.11/site-packages/torch/__init__.py:614: UserWarning: torch.set_default_tensor_type() is deprecated as of PyTorch 2.1, please use torch.set_default_dtype() and torch.set_default_device() as alternatives. (Triggered internally at /opt/conda/conda-bld/pytorch_1699449183005/work/torch/csrc/tensor/python_tensor.cpp:451.)\n",
      "  _C._set_default_tensor_type(t)\n"
     ]
    },
    {
     "name": "stdout",
     "output_type": "stream",
     "text": [
      "[2024-04-02 15:47:48] CVRPTester.py(130) : episode   1/  1, Elapsed[0.01m], Remain[0.00m], score:1.564, aug_score:1.473\n",
      "[2024-04-02 15:47:48] CVRPTester.py(136) :  *** Test Done *** \n",
      "[2024-04-02 15:47:48] CVRPTester.py(137) :  NO-AUG SCORE: 1.5645 \n",
      "[2024-04-02 15:47:48] CVRPTester.py(138) :  AUGMENTATION SCORE: 1.4731 \n",
      ">> Evaluation on ../../../../VRP-Omni-modified/Vrp-Set-A/A-n61 finished within 0.36s\n",
      ">> Save final results to res/A-n61\n",
      "Test on \" ../../../../VRP-Omni-modified/Vrp-Set-A/A-n61 \" Success\n",
      "-----------------------------------------------------------------------------------------------------------------\n",
      "[2024-04-02 15:47:50] test.py(107) : DEBUG_MODE: False\n",
      "[2024-04-02 15:47:50] test.py(108) : USE_CUDA: True, CUDA_DEVICE_NUM: 0\n",
      "[2024-04-02 15:47:50] test.py(109) : env_params{'problem_size': 100, 'pomo_size': 100}\n",
      "[2024-04-02 15:47:50] test.py(109) : model_params{'embedding_dim': 128, 'sqrt_embedding_dim': 11.313708498984761, 'encoder_layer_num': 6, 'qkv_dim': 16, 'head_num': 8, 'logit_clipping': 10, 'ff_hidden_dim': 512, 'eval_type': 'argmax'}\n",
      "[2024-04-02 15:47:50] test.py(109) : tester_params{'use_cuda': True, 'cuda_device_num': 0, 'model_load': {'path': './result/saved_CVRP100_model', 'epoch': 30500}, 'test_episodes': 1000, 'test_batch_size': 1, 'augmentation_enable': True, 'aug_factor': 8, 'aug_batch_size': 1, 'test_data_load': {'enable': False, 'filename': '../vrp100_test_seed1234.pt'}, 'test_set_path': '../../../../VRP-Omni-modified/Vrp-Set-A/A-n62', 'test_set_opt_sol_path': '../../../../VRP-Omni-modified/Vrp-Set-A/A-n33-sol', 'test_set_name': 'A-n33'}\n",
      "[2024-04-02 15:47:50] test.py(109) : logger_params{'log_file': {'desc': 'test_cvrp100', 'filename': 'log.txt', 'filepath': './result/20240402_164749_test_cvrp100'}}\n",
      "['../../../../VRP-Omni-modified/Vrp-Set-A/A-n62/A-n62-k8.vrp']\n"
     ]
    },
    {
     "name": "stderr",
     "output_type": "stream",
     "text": [
      "/home/xunj/miniconda3/lib/python3.11/site-packages/torch/__init__.py:614: UserWarning: torch.set_default_tensor_type() is deprecated as of PyTorch 2.1, please use torch.set_default_dtype() and torch.set_default_device() as alternatives. (Triggered internally at /opt/conda/conda-bld/pytorch_1699449183005/work/torch/csrc/tensor/python_tensor.cpp:451.)\n",
      "  _C._set_default_tensor_type(t)\n"
     ]
    },
    {
     "name": "stdout",
     "output_type": "stream",
     "text": [
      "[2024-04-02 15:47:51] CVRPTester.py(130) : episode   1/  1, Elapsed[0.01m], Remain[0.00m], score:1.573, aug_score:1.464\n",
      "[2024-04-02 15:47:51] CVRPTester.py(136) :  *** Test Done *** \n",
      "[2024-04-02 15:47:51] CVRPTester.py(137) :  NO-AUG SCORE: 1.5725 \n",
      "[2024-04-02 15:47:51] CVRPTester.py(138) :  AUGMENTATION SCORE: 1.4643 \n",
      ">> Evaluation on ../../../../VRP-Omni-modified/Vrp-Set-A/A-n62 finished within 0.38s\n",
      ">> Save final results to res/A-n62\n",
      "Test on \" ../../../../VRP-Omni-modified/Vrp-Set-A/A-n62 \" Success\n",
      "-----------------------------------------------------------------------------------------------------------------\n",
      "[2024-04-02 15:47:53] test.py(107) : DEBUG_MODE: False\n",
      "[2024-04-02 15:47:53] test.py(108) : USE_CUDA: True, CUDA_DEVICE_NUM: 0\n",
      "[2024-04-02 15:47:53] test.py(109) : env_params{'problem_size': 100, 'pomo_size': 100}\n",
      "[2024-04-02 15:47:53] test.py(109) : model_params{'embedding_dim': 128, 'sqrt_embedding_dim': 11.313708498984761, 'encoder_layer_num': 6, 'qkv_dim': 16, 'head_num': 8, 'logit_clipping': 10, 'ff_hidden_dim': 512, 'eval_type': 'argmax'}\n",
      "[2024-04-02 15:47:53] test.py(109) : tester_params{'use_cuda': True, 'cuda_device_num': 0, 'model_load': {'path': './result/saved_CVRP100_model', 'epoch': 30500}, 'test_episodes': 1000, 'test_batch_size': 1, 'augmentation_enable': True, 'aug_factor': 8, 'aug_batch_size': 1, 'test_data_load': {'enable': False, 'filename': '../vrp100_test_seed1234.pt'}, 'test_set_path': '../../../../VRP-Omni-modified/Vrp-Set-A/A-n63', 'test_set_opt_sol_path': '../../../../VRP-Omni-modified/Vrp-Set-A/A-n33-sol', 'test_set_name': 'A-n33'}\n",
      "[2024-04-02 15:47:53] test.py(109) : logger_params{'log_file': {'desc': 'test_cvrp100', 'filename': 'log.txt', 'filepath': './result/20240402_164752_test_cvrp100'}}\n",
      "['../../../../VRP-Omni-modified/Vrp-Set-A/A-n63/A-n63-k10.vrp', '../../../../VRP-Omni-modified/Vrp-Set-A/A-n63/A-n63-k9.vrp']\n"
     ]
    },
    {
     "name": "stderr",
     "output_type": "stream",
     "text": [
      "/home/xunj/miniconda3/lib/python3.11/site-packages/torch/__init__.py:614: UserWarning: torch.set_default_tensor_type() is deprecated as of PyTorch 2.1, please use torch.set_default_dtype() and torch.set_default_device() as alternatives. (Triggered internally at /opt/conda/conda-bld/pytorch_1699449183005/work/torch/csrc/tensor/python_tensor.cpp:451.)\n",
      "  _C._set_default_tensor_type(t)\n"
     ]
    },
    {
     "name": "stdout",
     "output_type": "stream",
     "text": [
      "[2024-04-02 15:47:54] CVRPTester.py(130) : episode   1/  2, Elapsed[0.01m], Remain[0.01m], score:2.356, aug_score:2.149\n",
      "[2024-04-02 15:47:54] CVRPTester.py(130) : episode   2/  2, Elapsed[0.01m], Remain[0.00m], score:2.226, aug_score:2.200\n",
      "[2024-04-02 15:47:54] CVRPTester.py(136) :  *** Test Done *** \n",
      "[2024-04-02 15:47:54] CVRPTester.py(137) :  NO-AUG SCORE: 2.2910 \n",
      "[2024-04-02 15:47:54] CVRPTester.py(138) :  AUGMENTATION SCORE: 2.1741 \n",
      ">> Evaluation on ../../../../VRP-Omni-modified/Vrp-Set-A/A-n63 finished within 0.09s\n",
      ">> Save final results to res/A-n63\n",
      "Test on \" ../../../../VRP-Omni-modified/Vrp-Set-A/A-n63 \" Success\n",
      "-----------------------------------------------------------------------------------------------------------------\n",
      "[2024-04-02 15:47:57] test.py(107) : DEBUG_MODE: False\n",
      "[2024-04-02 15:47:57] test.py(108) : USE_CUDA: True, CUDA_DEVICE_NUM: 0\n",
      "[2024-04-02 15:47:57] test.py(109) : env_params{'problem_size': 100, 'pomo_size': 100}\n",
      "[2024-04-02 15:47:57] test.py(109) : model_params{'embedding_dim': 128, 'sqrt_embedding_dim': 11.313708498984761, 'encoder_layer_num': 6, 'qkv_dim': 16, 'head_num': 8, 'logit_clipping': 10, 'ff_hidden_dim': 512, 'eval_type': 'argmax'}\n",
      "[2024-04-02 15:47:57] test.py(109) : tester_params{'use_cuda': True, 'cuda_device_num': 0, 'model_load': {'path': './result/saved_CVRP100_model', 'epoch': 30500}, 'test_episodes': 1000, 'test_batch_size': 1, 'augmentation_enable': True, 'aug_factor': 8, 'aug_batch_size': 1, 'test_data_load': {'enable': False, 'filename': '../vrp100_test_seed1234.pt'}, 'test_set_path': '../../../../VRP-Omni-modified/Vrp-Set-A/A-n64', 'test_set_opt_sol_path': '../../../../VRP-Omni-modified/Vrp-Set-A/A-n33-sol', 'test_set_name': 'A-n33'}\n",
      "[2024-04-02 15:47:57] test.py(109) : logger_params{'log_file': {'desc': 'test_cvrp100', 'filename': 'log.txt', 'filepath': './result/20240402_164755_test_cvrp100'}}\n",
      "['../../../../VRP-Omni-modified/Vrp-Set-A/A-n64/A-n64-k9.vrp']\n"
     ]
    },
    {
     "name": "stderr",
     "output_type": "stream",
     "text": [
      "/home/xunj/miniconda3/lib/python3.11/site-packages/torch/__init__.py:614: UserWarning: torch.set_default_tensor_type() is deprecated as of PyTorch 2.1, please use torch.set_default_dtype() and torch.set_default_device() as alternatives. (Triggered internally at /opt/conda/conda-bld/pytorch_1699449183005/work/torch/csrc/tensor/python_tensor.cpp:451.)\n",
      "  _C._set_default_tensor_type(t)\n"
     ]
    },
    {
     "name": "stdout",
     "output_type": "stream",
     "text": [
      "[2024-04-02 15:47:57] CVRPTester.py(130) : episode   1/  1, Elapsed[0.01m], Remain[0.00m], score:2.299, aug_score:2.110\n",
      "[2024-04-02 15:47:57] CVRPTester.py(136) :  *** Test Done *** \n",
      "[2024-04-02 15:47:57] CVRPTester.py(137) :  NO-AUG SCORE: 2.2994 \n",
      "[2024-04-02 15:47:57] CVRPTester.py(138) :  AUGMENTATION SCORE: 2.1103 \n",
      ">> Evaluation on ../../../../VRP-Omni-modified/Vrp-Set-A/A-n64 finished within 0.35s\n",
      ">> Save final results to res/A-n64\n",
      "Test on \" ../../../../VRP-Omni-modified/Vrp-Set-A/A-n64 \" Success\n",
      "-----------------------------------------------------------------------------------------------------------------\n",
      "[2024-04-02 15:48:00] test.py(107) : DEBUG_MODE: False\n",
      "[2024-04-02 15:48:00] test.py(108) : USE_CUDA: True, CUDA_DEVICE_NUM: 0\n",
      "[2024-04-02 15:48:00] test.py(109) : env_params{'problem_size': 100, 'pomo_size': 100}\n",
      "[2024-04-02 15:48:00] test.py(109) : model_params{'embedding_dim': 128, 'sqrt_embedding_dim': 11.313708498984761, 'encoder_layer_num': 6, 'qkv_dim': 16, 'head_num': 8, 'logit_clipping': 10, 'ff_hidden_dim': 512, 'eval_type': 'argmax'}\n",
      "[2024-04-02 15:48:00] test.py(109) : tester_params{'use_cuda': True, 'cuda_device_num': 0, 'model_load': {'path': './result/saved_CVRP100_model', 'epoch': 30500}, 'test_episodes': 1000, 'test_batch_size': 1, 'augmentation_enable': True, 'aug_factor': 8, 'aug_batch_size': 1, 'test_data_load': {'enable': False, 'filename': '../vrp100_test_seed1234.pt'}, 'test_set_path': '../../../../VRP-Omni-modified/Vrp-Set-A/A-n65', 'test_set_opt_sol_path': '../../../../VRP-Omni-modified/Vrp-Set-A/A-n33-sol', 'test_set_name': 'A-n33'}\n",
      "[2024-04-02 15:48:00] test.py(109) : logger_params{'log_file': {'desc': 'test_cvrp100', 'filename': 'log.txt', 'filepath': './result/20240402_164758_test_cvrp100'}}\n",
      "['../../../../VRP-Omni-modified/Vrp-Set-A/A-n65/A-n65-k9.vrp']\n"
     ]
    },
    {
     "name": "stderr",
     "output_type": "stream",
     "text": [
      "/home/xunj/miniconda3/lib/python3.11/site-packages/torch/__init__.py:614: UserWarning: torch.set_default_tensor_type() is deprecated as of PyTorch 2.1, please use torch.set_default_dtype() and torch.set_default_device() as alternatives. (Triggered internally at /opt/conda/conda-bld/pytorch_1699449183005/work/torch/csrc/tensor/python_tensor.cpp:451.)\n",
      "  _C._set_default_tensor_type(t)\n"
     ]
    },
    {
     "name": "stdout",
     "output_type": "stream",
     "text": [
      "[2024-04-02 15:48:01] CVRPTester.py(130) : episode   1/  1, Elapsed[0.01m], Remain[0.00m], score:1.634, aug_score:1.539\n",
      "[2024-04-02 15:48:01] CVRPTester.py(136) :  *** Test Done *** \n",
      "[2024-04-02 15:48:01] CVRPTester.py(137) :  NO-AUG SCORE: 1.6335 \n",
      "[2024-04-02 15:48:01] CVRPTester.py(138) :  AUGMENTATION SCORE: 1.5386 \n",
      ">> Evaluation on ../../../../VRP-Omni-modified/Vrp-Set-A/A-n65 finished within 0.35s\n",
      ">> Save final results to res/A-n65\n",
      "Test on \" ../../../../VRP-Omni-modified/Vrp-Set-A/A-n65 \" Success\n",
      "-----------------------------------------------------------------------------------------------------------------\n",
      "[2024-04-02 15:48:03] test.py(107) : DEBUG_MODE: False\n",
      "[2024-04-02 15:48:03] test.py(108) : USE_CUDA: True, CUDA_DEVICE_NUM: 0\n",
      "[2024-04-02 15:48:03] test.py(109) : env_params{'problem_size': 100, 'pomo_size': 100}\n",
      "[2024-04-02 15:48:03] test.py(109) : model_params{'embedding_dim': 128, 'sqrt_embedding_dim': 11.313708498984761, 'encoder_layer_num': 6, 'qkv_dim': 16, 'head_num': 8, 'logit_clipping': 10, 'ff_hidden_dim': 512, 'eval_type': 'argmax'}\n",
      "[2024-04-02 15:48:03] test.py(109) : tester_params{'use_cuda': True, 'cuda_device_num': 0, 'model_load': {'path': './result/saved_CVRP100_model', 'epoch': 30500}, 'test_episodes': 1000, 'test_batch_size': 1, 'augmentation_enable': True, 'aug_factor': 8, 'aug_batch_size': 1, 'test_data_load': {'enable': False, 'filename': '../vrp100_test_seed1234.pt'}, 'test_set_path': '../../../../VRP-Omni-modified/Vrp-Set-A/A-n69', 'test_set_opt_sol_path': '../../../../VRP-Omni-modified/Vrp-Set-A/A-n33-sol', 'test_set_name': 'A-n33'}\n",
      "[2024-04-02 15:48:03] test.py(109) : logger_params{'log_file': {'desc': 'test_cvrp100', 'filename': 'log.txt', 'filepath': './result/20240402_164802_test_cvrp100'}}\n",
      "['../../../../VRP-Omni-modified/Vrp-Set-A/A-n69/A-n69-k9.vrp']\n"
     ]
    },
    {
     "name": "stderr",
     "output_type": "stream",
     "text": [
      "/home/xunj/miniconda3/lib/python3.11/site-packages/torch/__init__.py:614: UserWarning: torch.set_default_tensor_type() is deprecated as of PyTorch 2.1, please use torch.set_default_dtype() and torch.set_default_device() as alternatives. (Triggered internally at /opt/conda/conda-bld/pytorch_1699449183005/work/torch/csrc/tensor/python_tensor.cpp:451.)\n",
      "  _C._set_default_tensor_type(t)\n"
     ]
    },
    {
     "name": "stdout",
     "output_type": "stream",
     "text": [
      "[2024-04-02 15:48:04] CVRPTester.py(130) : episode   1/  1, Elapsed[0.01m], Remain[0.00m], score:2.264, aug_score:1.529\n",
      "[2024-04-02 15:48:04] CVRPTester.py(136) :  *** Test Done *** \n",
      "[2024-04-02 15:48:04] CVRPTester.py(137) :  NO-AUG SCORE: 2.2640 \n",
      "[2024-04-02 15:48:04] CVRPTester.py(138) :  AUGMENTATION SCORE: 1.5289 \n",
      ">> Evaluation on ../../../../VRP-Omni-modified/Vrp-Set-A/A-n69 finished within 0.36s\n",
      ">> Save final results to res/A-n69\n",
      "Test on \" ../../../../VRP-Omni-modified/Vrp-Set-A/A-n69 \" Success\n",
      "-----------------------------------------------------------------------------------------------------------------\n",
      "[2024-04-02 15:48:06] test.py(107) : DEBUG_MODE: False\n",
      "[2024-04-02 15:48:06] test.py(108) : USE_CUDA: True, CUDA_DEVICE_NUM: 0\n",
      "[2024-04-02 15:48:06] test.py(109) : env_params{'problem_size': 100, 'pomo_size': 100}\n",
      "[2024-04-02 15:48:06] test.py(109) : model_params{'embedding_dim': 128, 'sqrt_embedding_dim': 11.313708498984761, 'encoder_layer_num': 6, 'qkv_dim': 16, 'head_num': 8, 'logit_clipping': 10, 'ff_hidden_dim': 512, 'eval_type': 'argmax'}\n",
      "[2024-04-02 15:48:06] test.py(109) : tester_params{'use_cuda': True, 'cuda_device_num': 0, 'model_load': {'path': './result/saved_CVRP100_model', 'epoch': 30500}, 'test_episodes': 1000, 'test_batch_size': 1, 'augmentation_enable': True, 'aug_factor': 8, 'aug_batch_size': 1, 'test_data_load': {'enable': False, 'filename': '../vrp100_test_seed1234.pt'}, 'test_set_path': '../../../../VRP-Omni-modified/Vrp-Set-A/A-n80', 'test_set_opt_sol_path': '../../../../VRP-Omni-modified/Vrp-Set-A/A-n33-sol', 'test_set_name': 'A-n33'}\n",
      "[2024-04-02 15:48:06] test.py(109) : logger_params{'log_file': {'desc': 'test_cvrp100', 'filename': 'log.txt', 'filepath': './result/20240402_164805_test_cvrp100'}}\n",
      "['../../../../VRP-Omni-modified/Vrp-Set-A/A-n80/A-n80-k10.vrp']\n"
     ]
    },
    {
     "name": "stderr",
     "output_type": "stream",
     "text": [
      "/home/xunj/miniconda3/lib/python3.11/site-packages/torch/__init__.py:614: UserWarning: torch.set_default_tensor_type() is deprecated as of PyTorch 2.1, please use torch.set_default_dtype() and torch.set_default_device() as alternatives. (Triggered internally at /opt/conda/conda-bld/pytorch_1699449183005/work/torch/csrc/tensor/python_tensor.cpp:451.)\n",
      "  _C._set_default_tensor_type(t)\n"
     ]
    },
    {
     "name": "stdout",
     "output_type": "stream",
     "text": [
      "[2024-04-02 15:48:07] CVRPTester.py(130) : episode   1/  1, Elapsed[0.01m], Remain[0.00m], score:3.088, aug_score:2.740\n",
      "[2024-04-02 15:48:07] CVRPTester.py(136) :  *** Test Done *** \n",
      "[2024-04-02 15:48:07] CVRPTester.py(137) :  NO-AUG SCORE: 3.0880 \n",
      "[2024-04-02 15:48:07] CVRPTester.py(138) :  AUGMENTATION SCORE: 2.7403 \n",
      ">> Evaluation on ../../../../VRP-Omni-modified/Vrp-Set-A/A-n80 finished within 0.38s\n",
      ">> Save final results to res/A-n80\n",
      "Test on \" ../../../../VRP-Omni-modified/Vrp-Set-A/A-n80 \" Success\n",
      "-----------------------------------------------------------------------------------------------------------------\n",
      "[2024-04-02 15:48:09] test.py(107) : DEBUG_MODE: False\n",
      "[2024-04-02 15:48:09] test.py(108) : USE_CUDA: True, CUDA_DEVICE_NUM: 0\n",
      "[2024-04-02 15:48:09] test.py(109) : env_params{'problem_size': 100, 'pomo_size': 100}\n",
      "[2024-04-02 15:48:09] test.py(109) : model_params{'embedding_dim': 128, 'sqrt_embedding_dim': 11.313708498984761, 'encoder_layer_num': 6, 'qkv_dim': 16, 'head_num': 8, 'logit_clipping': 10, 'ff_hidden_dim': 512, 'eval_type': 'argmax'}\n",
      "[2024-04-02 15:48:09] test.py(109) : tester_params{'use_cuda': True, 'cuda_device_num': 0, 'model_load': {'path': './result/saved_CVRP100_model', 'epoch': 30500}, 'test_episodes': 1000, 'test_batch_size': 1, 'augmentation_enable': True, 'aug_factor': 8, 'aug_batch_size': 1, 'test_data_load': {'enable': False, 'filename': '../vrp100_test_seed1234.pt'}, 'test_set_path': '../../../../VRP-Omni-modified/Vrp-Set-B/B-n31', 'test_set_opt_sol_path': '../../../../VRP-Omni-modified/Vrp-Set-A/A-n33-sol', 'test_set_name': 'A-n33'}\n",
      "[2024-04-02 15:48:09] test.py(109) : logger_params{'log_file': {'desc': 'test_cvrp100', 'filename': 'log.txt', 'filepath': './result/20240402_164808_test_cvrp100'}}\n",
      "['../../../../VRP-Omni-modified/Vrp-Set-B/B-n31/B-n31-k5.vrp']\n"
     ]
    },
    {
     "name": "stderr",
     "output_type": "stream",
     "text": [
      "/home/xunj/miniconda3/lib/python3.11/site-packages/torch/__init__.py:614: UserWarning: torch.set_default_tensor_type() is deprecated as of PyTorch 2.1, please use torch.set_default_dtype() and torch.set_default_device() as alternatives. (Triggered internally at /opt/conda/conda-bld/pytorch_1699449183005/work/torch/csrc/tensor/python_tensor.cpp:451.)\n",
      "  _C._set_default_tensor_type(t)\n"
     ]
    },
    {
     "name": "stdout",
     "output_type": "stream",
     "text": [
      "[2024-04-02 15:48:10] CVRPTester.py(130) : episode   1/  1, Elapsed[0.01m], Remain[0.00m], score:1.026, aug_score:0.966\n",
      "[2024-04-02 15:48:10] CVRPTester.py(136) :  *** Test Done *** \n",
      "[2024-04-02 15:48:10] CVRPTester.py(137) :  NO-AUG SCORE: 1.0258 \n",
      "[2024-04-02 15:48:10] CVRPTester.py(138) :  AUGMENTATION SCORE: 0.9657 \n",
      ">> Evaluation on ../../../../VRP-Omni-modified/Vrp-Set-B/B-n31 finished within 0.31s\n",
      ">> Save final results to res/B-n31\n",
      "Test on \" ../../../../VRP-Omni-modified/Vrp-Set-B/B-n31 \" Success\n",
      "-----------------------------------------------------------------------------------------------------------------\n",
      "[2024-04-02 15:48:12] test.py(107) : DEBUG_MODE: False\n",
      "[2024-04-02 15:48:12] test.py(108) : USE_CUDA: True, CUDA_DEVICE_NUM: 0\n",
      "[2024-04-02 15:48:12] test.py(109) : env_params{'problem_size': 100, 'pomo_size': 100}\n",
      "[2024-04-02 15:48:12] test.py(109) : model_params{'embedding_dim': 128, 'sqrt_embedding_dim': 11.313708498984761, 'encoder_layer_num': 6, 'qkv_dim': 16, 'head_num': 8, 'logit_clipping': 10, 'ff_hidden_dim': 512, 'eval_type': 'argmax'}\n",
      "[2024-04-02 15:48:12] test.py(109) : tester_params{'use_cuda': True, 'cuda_device_num': 0, 'model_load': {'path': './result/saved_CVRP100_model', 'epoch': 30500}, 'test_episodes': 1000, 'test_batch_size': 1, 'augmentation_enable': True, 'aug_factor': 8, 'aug_batch_size': 1, 'test_data_load': {'enable': False, 'filename': '../vrp100_test_seed1234.pt'}, 'test_set_path': '../../../../VRP-Omni-modified/Vrp-Set-B/B-n34', 'test_set_opt_sol_path': '../../../../VRP-Omni-modified/Vrp-Set-A/A-n33-sol', 'test_set_name': 'A-n33'}\n",
      "[2024-04-02 15:48:12] test.py(109) : logger_params{'log_file': {'desc': 'test_cvrp100', 'filename': 'log.txt', 'filepath': './result/20240402_164811_test_cvrp100'}}\n",
      "['../../../../VRP-Omni-modified/Vrp-Set-B/B-n34/B-n34-k5.vrp']\n"
     ]
    },
    {
     "name": "stderr",
     "output_type": "stream",
     "text": [
      "/home/xunj/miniconda3/lib/python3.11/site-packages/torch/__init__.py:614: UserWarning: torch.set_default_tensor_type() is deprecated as of PyTorch 2.1, please use torch.set_default_dtype() and torch.set_default_device() as alternatives. (Triggered internally at /opt/conda/conda-bld/pytorch_1699449183005/work/torch/csrc/tensor/python_tensor.cpp:451.)\n",
      "  _C._set_default_tensor_type(t)\n"
     ]
    },
    {
     "name": "stdout",
     "output_type": "stream",
     "text": [
      "[2024-04-02 15:48:13] CVRPTester.py(130) : episode   1/  1, Elapsed[0.01m], Remain[0.00m], score:1.175, aug_score:0.986\n",
      "[2024-04-02 15:48:13] CVRPTester.py(136) :  *** Test Done *** \n",
      "[2024-04-02 15:48:13] CVRPTester.py(137) :  NO-AUG SCORE: 1.1752 \n",
      "[2024-04-02 15:48:13] CVRPTester.py(138) :  AUGMENTATION SCORE: 0.9857 \n",
      ">> Evaluation on ../../../../VRP-Omni-modified/Vrp-Set-B/B-n34 finished within 0.32s\n",
      ">> Save final results to res/B-n34\n",
      "Test on \" ../../../../VRP-Omni-modified/Vrp-Set-B/B-n34 \" Success\n",
      "-----------------------------------------------------------------------------------------------------------------\n",
      "[2024-04-02 15:48:16] test.py(107) : DEBUG_MODE: False\n",
      "[2024-04-02 15:48:16] test.py(108) : USE_CUDA: True, CUDA_DEVICE_NUM: 0\n",
      "[2024-04-02 15:48:16] test.py(109) : env_params{'problem_size': 100, 'pomo_size': 100}\n",
      "[2024-04-02 15:48:16] test.py(109) : model_params{'embedding_dim': 128, 'sqrt_embedding_dim': 11.313708498984761, 'encoder_layer_num': 6, 'qkv_dim': 16, 'head_num': 8, 'logit_clipping': 10, 'ff_hidden_dim': 512, 'eval_type': 'argmax'}\n",
      "[2024-04-02 15:48:16] test.py(109) : tester_params{'use_cuda': True, 'cuda_device_num': 0, 'model_load': {'path': './result/saved_CVRP100_model', 'epoch': 30500}, 'test_episodes': 1000, 'test_batch_size': 1, 'augmentation_enable': True, 'aug_factor': 8, 'aug_batch_size': 1, 'test_data_load': {'enable': False, 'filename': '../vrp100_test_seed1234.pt'}, 'test_set_path': '../../../../VRP-Omni-modified/Vrp-Set-B/B-n35', 'test_set_opt_sol_path': '../../../../VRP-Omni-modified/Vrp-Set-A/A-n33-sol', 'test_set_name': 'A-n33'}\n",
      "[2024-04-02 15:48:16] test.py(109) : logger_params{'log_file': {'desc': 'test_cvrp100', 'filename': 'log.txt', 'filepath': './result/20240402_164814_test_cvrp100'}}\n",
      "['../../../../VRP-Omni-modified/Vrp-Set-B/B-n35/B-n35-k5.vrp']\n"
     ]
    },
    {
     "name": "stderr",
     "output_type": "stream",
     "text": [
      "/home/xunj/miniconda3/lib/python3.11/site-packages/torch/__init__.py:614: UserWarning: torch.set_default_tensor_type() is deprecated as of PyTorch 2.1, please use torch.set_default_dtype() and torch.set_default_device() as alternatives. (Triggered internally at /opt/conda/conda-bld/pytorch_1699449183005/work/torch/csrc/tensor/python_tensor.cpp:451.)\n",
      "  _C._set_default_tensor_type(t)\n"
     ]
    },
    {
     "name": "stdout",
     "output_type": "stream",
     "text": [
      "[2024-04-02 15:48:16] CVRPTester.py(130) : episode   1/  1, Elapsed[0.01m], Remain[0.00m], score:1.864, aug_score:1.311\n",
      "[2024-04-02 15:48:16] CVRPTester.py(136) :  *** Test Done *** \n",
      "[2024-04-02 15:48:16] CVRPTester.py(137) :  NO-AUG SCORE: 1.8644 \n",
      "[2024-04-02 15:48:16] CVRPTester.py(138) :  AUGMENTATION SCORE: 1.3113 \n",
      ">> Evaluation on ../../../../VRP-Omni-modified/Vrp-Set-B/B-n35 finished within 0.32s\n",
      ">> Save final results to res/B-n35\n",
      "Test on \" ../../../../VRP-Omni-modified/Vrp-Set-B/B-n35 \" Success\n",
      "-----------------------------------------------------------------------------------------------------------------\n",
      "[2024-04-02 15:48:19] test.py(107) : DEBUG_MODE: False\n",
      "[2024-04-02 15:48:19] test.py(108) : USE_CUDA: True, CUDA_DEVICE_NUM: 0\n",
      "[2024-04-02 15:48:19] test.py(109) : env_params{'problem_size': 100, 'pomo_size': 100}\n",
      "[2024-04-02 15:48:19] test.py(109) : model_params{'embedding_dim': 128, 'sqrt_embedding_dim': 11.313708498984761, 'encoder_layer_num': 6, 'qkv_dim': 16, 'head_num': 8, 'logit_clipping': 10, 'ff_hidden_dim': 512, 'eval_type': 'argmax'}\n",
      "[2024-04-02 15:48:19] test.py(109) : tester_params{'use_cuda': True, 'cuda_device_num': 0, 'model_load': {'path': './result/saved_CVRP100_model', 'epoch': 30500}, 'test_episodes': 1000, 'test_batch_size': 1, 'augmentation_enable': True, 'aug_factor': 8, 'aug_batch_size': 1, 'test_data_load': {'enable': False, 'filename': '../vrp100_test_seed1234.pt'}, 'test_set_path': '../../../../VRP-Omni-modified/Vrp-Set-B/B-n38', 'test_set_opt_sol_path': '../../../../VRP-Omni-modified/Vrp-Set-A/A-n33-sol', 'test_set_name': 'A-n33'}\n",
      "[2024-04-02 15:48:19] test.py(109) : logger_params{'log_file': {'desc': 'test_cvrp100', 'filename': 'log.txt', 'filepath': './result/20240402_164817_test_cvrp100'}}\n",
      "['../../../../VRP-Omni-modified/Vrp-Set-B/B-n38/B-n38-k6.vrp']\n"
     ]
    },
    {
     "name": "stderr",
     "output_type": "stream",
     "text": [
      "/home/xunj/miniconda3/lib/python3.11/site-packages/torch/__init__.py:614: UserWarning: torch.set_default_tensor_type() is deprecated as of PyTorch 2.1, please use torch.set_default_dtype() and torch.set_default_device() as alternatives. (Triggered internally at /opt/conda/conda-bld/pytorch_1699449183005/work/torch/csrc/tensor/python_tensor.cpp:451.)\n",
      "  _C._set_default_tensor_type(t)\n"
     ]
    },
    {
     "name": "stdout",
     "output_type": "stream",
     "text": [
      "[2024-04-02 15:48:19] CVRPTester.py(130) : episode   1/  1, Elapsed[0.01m], Remain[0.00m], score:1.389, aug_score:1.033\n",
      "[2024-04-02 15:48:19] CVRPTester.py(136) :  *** Test Done *** \n",
      "[2024-04-02 15:48:19] CVRPTester.py(137) :  NO-AUG SCORE: 1.3894 \n",
      "[2024-04-02 15:48:19] CVRPTester.py(138) :  AUGMENTATION SCORE: 1.0333 \n",
      ">> Evaluation on ../../../../VRP-Omni-modified/Vrp-Set-B/B-n38 finished within 0.32s\n",
      ">> Save final results to res/B-n38\n",
      "Test on \" ../../../../VRP-Omni-modified/Vrp-Set-B/B-n38 \" Success\n",
      "-----------------------------------------------------------------------------------------------------------------\n",
      "[2024-04-02 15:48:22] test.py(107) : DEBUG_MODE: False\n",
      "[2024-04-02 15:48:22] test.py(108) : USE_CUDA: True, CUDA_DEVICE_NUM: 0\n",
      "[2024-04-02 15:48:22] test.py(109) : env_params{'problem_size': 100, 'pomo_size': 100}\n",
      "[2024-04-02 15:48:22] test.py(109) : model_params{'embedding_dim': 128, 'sqrt_embedding_dim': 11.313708498984761, 'encoder_layer_num': 6, 'qkv_dim': 16, 'head_num': 8, 'logit_clipping': 10, 'ff_hidden_dim': 512, 'eval_type': 'argmax'}\n",
      "[2024-04-02 15:48:22] test.py(109) : tester_params{'use_cuda': True, 'cuda_device_num': 0, 'model_load': {'path': './result/saved_CVRP100_model', 'epoch': 30500}, 'test_episodes': 1000, 'test_batch_size': 1, 'augmentation_enable': True, 'aug_factor': 8, 'aug_batch_size': 1, 'test_data_load': {'enable': False, 'filename': '../vrp100_test_seed1234.pt'}, 'test_set_path': '../../../../VRP-Omni-modified/Vrp-Set-B/B-n39', 'test_set_opt_sol_path': '../../../../VRP-Omni-modified/Vrp-Set-A/A-n33-sol', 'test_set_name': 'A-n33'}\n",
      "[2024-04-02 15:48:22] test.py(109) : logger_params{'log_file': {'desc': 'test_cvrp100', 'filename': 'log.txt', 'filepath': './result/20240402_164820_test_cvrp100'}}\n",
      "['../../../../VRP-Omni-modified/Vrp-Set-B/B-n39/B-n39-k5.vrp']\n"
     ]
    },
    {
     "name": "stderr",
     "output_type": "stream",
     "text": [
      "/home/xunj/miniconda3/lib/python3.11/site-packages/torch/__init__.py:614: UserWarning: torch.set_default_tensor_type() is deprecated as of PyTorch 2.1, please use torch.set_default_dtype() and torch.set_default_device() as alternatives. (Triggered internally at /opt/conda/conda-bld/pytorch_1699449183005/work/torch/csrc/tensor/python_tensor.cpp:451.)\n",
      "  _C._set_default_tensor_type(t)\n"
     ]
    },
    {
     "name": "stdout",
     "output_type": "stream",
     "text": [
      "[2024-04-02 15:48:23] CVRPTester.py(130) : episode   1/  1, Elapsed[0.01m], Remain[0.00m], score:1.178, aug_score:0.710\n",
      "[2024-04-02 15:48:23] CVRPTester.py(136) :  *** Test Done *** \n",
      "[2024-04-02 15:48:23] CVRPTester.py(137) :  NO-AUG SCORE: 1.1778 \n",
      "[2024-04-02 15:48:23] CVRPTester.py(138) :  AUGMENTATION SCORE: 0.7102 \n",
      ">> Evaluation on ../../../../VRP-Omni-modified/Vrp-Set-B/B-n39 finished within 0.33s\n",
      ">> Save final results to res/B-n39\n",
      "Test on \" ../../../../VRP-Omni-modified/Vrp-Set-B/B-n39 \" Success\n",
      "-----------------------------------------------------------------------------------------------------------------\n",
      "[2024-04-02 15:48:25] test.py(107) : DEBUG_MODE: False\n",
      "[2024-04-02 15:48:25] test.py(108) : USE_CUDA: True, CUDA_DEVICE_NUM: 0\n",
      "[2024-04-02 15:48:25] test.py(109) : env_params{'problem_size': 100, 'pomo_size': 100}\n",
      "[2024-04-02 15:48:25] test.py(109) : model_params{'embedding_dim': 128, 'sqrt_embedding_dim': 11.313708498984761, 'encoder_layer_num': 6, 'qkv_dim': 16, 'head_num': 8, 'logit_clipping': 10, 'ff_hidden_dim': 512, 'eval_type': 'argmax'}\n",
      "[2024-04-02 15:48:25] test.py(109) : tester_params{'use_cuda': True, 'cuda_device_num': 0, 'model_load': {'path': './result/saved_CVRP100_model', 'epoch': 30500}, 'test_episodes': 1000, 'test_batch_size': 1, 'augmentation_enable': True, 'aug_factor': 8, 'aug_batch_size': 1, 'test_data_load': {'enable': False, 'filename': '../vrp100_test_seed1234.pt'}, 'test_set_path': '../../../../VRP-Omni-modified/Vrp-Set-B/B-n41', 'test_set_opt_sol_path': '../../../../VRP-Omni-modified/Vrp-Set-A/A-n33-sol', 'test_set_name': 'A-n33'}\n",
      "[2024-04-02 15:48:25] test.py(109) : logger_params{'log_file': {'desc': 'test_cvrp100', 'filename': 'log.txt', 'filepath': './result/20240402_164824_test_cvrp100'}}\n",
      "['../../../../VRP-Omni-modified/Vrp-Set-B/B-n41/B-n41-k6.vrp']\n"
     ]
    },
    {
     "name": "stderr",
     "output_type": "stream",
     "text": [
      "/home/xunj/miniconda3/lib/python3.11/site-packages/torch/__init__.py:614: UserWarning: torch.set_default_tensor_type() is deprecated as of PyTorch 2.1, please use torch.set_default_dtype() and torch.set_default_device() as alternatives. (Triggered internally at /opt/conda/conda-bld/pytorch_1699449183005/work/torch/csrc/tensor/python_tensor.cpp:451.)\n",
      "  _C._set_default_tensor_type(t)\n"
     ]
    },
    {
     "name": "stdout",
     "output_type": "stream",
     "text": [
      "[2024-04-02 15:48:26] CVRPTester.py(130) : episode   1/  1, Elapsed[0.01m], Remain[0.00m], score:1.248, aug_score:1.005\n",
      "[2024-04-02 15:48:26] CVRPTester.py(136) :  *** Test Done *** \n",
      "[2024-04-02 15:48:26] CVRPTester.py(137) :  NO-AUG SCORE: 1.2477 \n",
      "[2024-04-02 15:48:26] CVRPTester.py(138) :  AUGMENTATION SCORE: 1.0053 \n",
      ">> Evaluation on ../../../../VRP-Omni-modified/Vrp-Set-B/B-n41 finished within 0.32s\n",
      ">> Save final results to res/B-n41\n",
      "Test on \" ../../../../VRP-Omni-modified/Vrp-Set-B/B-n41 \" Success\n",
      "-----------------------------------------------------------------------------------------------------------------\n",
      "[2024-04-02 15:48:28] test.py(107) : DEBUG_MODE: False\n",
      "[2024-04-02 15:48:28] test.py(108) : USE_CUDA: True, CUDA_DEVICE_NUM: 0\n",
      "[2024-04-02 15:48:28] test.py(109) : env_params{'problem_size': 100, 'pomo_size': 100}\n",
      "[2024-04-02 15:48:28] test.py(109) : model_params{'embedding_dim': 128, 'sqrt_embedding_dim': 11.313708498984761, 'encoder_layer_num': 6, 'qkv_dim': 16, 'head_num': 8, 'logit_clipping': 10, 'ff_hidden_dim': 512, 'eval_type': 'argmax'}\n",
      "[2024-04-02 15:48:28] test.py(109) : tester_params{'use_cuda': True, 'cuda_device_num': 0, 'model_load': {'path': './result/saved_CVRP100_model', 'epoch': 30500}, 'test_episodes': 1000, 'test_batch_size': 1, 'augmentation_enable': True, 'aug_factor': 8, 'aug_batch_size': 1, 'test_data_load': {'enable': False, 'filename': '../vrp100_test_seed1234.pt'}, 'test_set_path': '../../../../VRP-Omni-modified/Vrp-Set-B/B-n43', 'test_set_opt_sol_path': '../../../../VRP-Omni-modified/Vrp-Set-A/A-n33-sol', 'test_set_name': 'A-n33'}\n",
      "[2024-04-02 15:48:28] test.py(109) : logger_params{'log_file': {'desc': 'test_cvrp100', 'filename': 'log.txt', 'filepath': './result/20240402_164827_test_cvrp100'}}\n",
      "['../../../../VRP-Omni-modified/Vrp-Set-B/B-n43/B-n43-k6.vrp']\n"
     ]
    },
    {
     "name": "stderr",
     "output_type": "stream",
     "text": [
      "/home/xunj/miniconda3/lib/python3.11/site-packages/torch/__init__.py:614: UserWarning: torch.set_default_tensor_type() is deprecated as of PyTorch 2.1, please use torch.set_default_dtype() and torch.set_default_device() as alternatives. (Triggered internally at /opt/conda/conda-bld/pytorch_1699449183005/work/torch/csrc/tensor/python_tensor.cpp:451.)\n",
      "  _C._set_default_tensor_type(t)\n"
     ]
    },
    {
     "name": "stdout",
     "output_type": "stream",
     "text": [
      "[2024-04-02 15:48:29] CVRPTester.py(130) : episode   1/  1, Elapsed[0.01m], Remain[0.00m], score:1.195, aug_score:0.987\n",
      "[2024-04-02 15:48:29] CVRPTester.py(136) :  *** Test Done *** \n",
      "[2024-04-02 15:48:29] CVRPTester.py(137) :  NO-AUG SCORE: 1.1946 \n",
      "[2024-04-02 15:48:29] CVRPTester.py(138) :  AUGMENTATION SCORE: 0.9868 \n",
      ">> Evaluation on ../../../../VRP-Omni-modified/Vrp-Set-B/B-n43 finished within 0.33s\n",
      ">> Save final results to res/B-n43\n",
      "Test on \" ../../../../VRP-Omni-modified/Vrp-Set-B/B-n43 \" Success\n",
      "-----------------------------------------------------------------------------------------------------------------\n",
      "[2024-04-02 15:48:31] test.py(107) : DEBUG_MODE: False\n",
      "[2024-04-02 15:48:31] test.py(108) : USE_CUDA: True, CUDA_DEVICE_NUM: 0\n",
      "[2024-04-02 15:48:31] test.py(109) : env_params{'problem_size': 100, 'pomo_size': 100}\n",
      "[2024-04-02 15:48:31] test.py(109) : model_params{'embedding_dim': 128, 'sqrt_embedding_dim': 11.313708498984761, 'encoder_layer_num': 6, 'qkv_dim': 16, 'head_num': 8, 'logit_clipping': 10, 'ff_hidden_dim': 512, 'eval_type': 'argmax'}\n",
      "[2024-04-02 15:48:31] test.py(109) : tester_params{'use_cuda': True, 'cuda_device_num': 0, 'model_load': {'path': './result/saved_CVRP100_model', 'epoch': 30500}, 'test_episodes': 1000, 'test_batch_size': 1, 'augmentation_enable': True, 'aug_factor': 8, 'aug_batch_size': 1, 'test_data_load': {'enable': False, 'filename': '../vrp100_test_seed1234.pt'}, 'test_set_path': '../../../../VRP-Omni-modified/Vrp-Set-B/B-n44', 'test_set_opt_sol_path': '../../../../VRP-Omni-modified/Vrp-Set-A/A-n33-sol', 'test_set_name': 'A-n33'}\n",
      "[2024-04-02 15:48:31] test.py(109) : logger_params{'log_file': {'desc': 'test_cvrp100', 'filename': 'log.txt', 'filepath': './result/20240402_164830_test_cvrp100'}}\n",
      "['../../../../VRP-Omni-modified/Vrp-Set-B/B-n44/B-n44-k7.vrp']\n"
     ]
    },
    {
     "name": "stderr",
     "output_type": "stream",
     "text": [
      "/home/xunj/miniconda3/lib/python3.11/site-packages/torch/__init__.py:614: UserWarning: torch.set_default_tensor_type() is deprecated as of PyTorch 2.1, please use torch.set_default_dtype() and torch.set_default_device() as alternatives. (Triggered internally at /opt/conda/conda-bld/pytorch_1699449183005/work/torch/csrc/tensor/python_tensor.cpp:451.)\n",
      "  _C._set_default_tensor_type(t)\n"
     ]
    },
    {
     "name": "stdout",
     "output_type": "stream",
     "text": [
      "[2024-04-02 15:48:32] CVRPTester.py(130) : episode   1/  1, Elapsed[0.01m], Remain[0.00m], score:1.342, aug_score:1.182\n",
      "[2024-04-02 15:48:32] CVRPTester.py(136) :  *** Test Done *** \n",
      "[2024-04-02 15:48:32] CVRPTester.py(137) :  NO-AUG SCORE: 1.3417 \n",
      "[2024-04-02 15:48:32] CVRPTester.py(138) :  AUGMENTATION SCORE: 1.1823 \n",
      ">> Evaluation on ../../../../VRP-Omni-modified/Vrp-Set-B/B-n44 finished within 0.35s\n",
      ">> Save final results to res/B-n44\n",
      "Test on \" ../../../../VRP-Omni-modified/Vrp-Set-B/B-n44 \" Success\n",
      "-----------------------------------------------------------------------------------------------------------------\n",
      "[2024-04-02 15:48:34] test.py(107) : DEBUG_MODE: False\n",
      "[2024-04-02 15:48:34] test.py(108) : USE_CUDA: True, CUDA_DEVICE_NUM: 0\n",
      "[2024-04-02 15:48:34] test.py(109) : env_params{'problem_size': 100, 'pomo_size': 100}\n",
      "[2024-04-02 15:48:34] test.py(109) : model_params{'embedding_dim': 128, 'sqrt_embedding_dim': 11.313708498984761, 'encoder_layer_num': 6, 'qkv_dim': 16, 'head_num': 8, 'logit_clipping': 10, 'ff_hidden_dim': 512, 'eval_type': 'argmax'}\n",
      "[2024-04-02 15:48:34] test.py(109) : tester_params{'use_cuda': True, 'cuda_device_num': 0, 'model_load': {'path': './result/saved_CVRP100_model', 'epoch': 30500}, 'test_episodes': 1000, 'test_batch_size': 1, 'augmentation_enable': True, 'aug_factor': 8, 'aug_batch_size': 1, 'test_data_load': {'enable': False, 'filename': '../vrp100_test_seed1234.pt'}, 'test_set_path': '../../../../VRP-Omni-modified/Vrp-Set-B/B-n45', 'test_set_opt_sol_path': '../../../../VRP-Omni-modified/Vrp-Set-A/A-n33-sol', 'test_set_name': 'A-n33'}\n",
      "[2024-04-02 15:48:34] test.py(109) : logger_params{'log_file': {'desc': 'test_cvrp100', 'filename': 'log.txt', 'filepath': './result/20240402_164833_test_cvrp100'}}\n",
      "['../../../../VRP-Omni-modified/Vrp-Set-B/B-n45/B-n45-k5.vrp', '../../../../VRP-Omni-modified/Vrp-Set-B/B-n45/B-n45-k6.vrp']\n"
     ]
    },
    {
     "name": "stderr",
     "output_type": "stream",
     "text": [
      "/home/xunj/miniconda3/lib/python3.11/site-packages/torch/__init__.py:614: UserWarning: torch.set_default_tensor_type() is deprecated as of PyTorch 2.1, please use torch.set_default_dtype() and torch.set_default_device() as alternatives. (Triggered internally at /opt/conda/conda-bld/pytorch_1699449183005/work/torch/csrc/tensor/python_tensor.cpp:451.)\n",
      "  _C._set_default_tensor_type(t)\n"
     ]
    },
    {
     "name": "stdout",
     "output_type": "stream",
     "text": [
      "[2024-04-02 15:48:35] CVRPTester.py(130) : episode   1/  2, Elapsed[0.01m], Remain[0.01m], score:1.540, aug_score:0.958\n",
      "[2024-04-02 15:48:35] CVRPTester.py(130) : episode   2/  2, Elapsed[0.01m], Remain[0.00m], score:1.114, aug_score:0.828\n",
      "[2024-04-02 15:48:35] CVRPTester.py(136) :  *** Test Done *** \n",
      "[2024-04-02 15:48:35] CVRPTester.py(137) :  NO-AUG SCORE: 1.3269 \n",
      "[2024-04-02 15:48:35] CVRPTester.py(138) :  AUGMENTATION SCORE: 0.8930 \n",
      ">> Evaluation on ../../../../VRP-Omni-modified/Vrp-Set-B/B-n45 finished within 0.07s\n",
      ">> Save final results to res/B-n45\n",
      "Test on \" ../../../../VRP-Omni-modified/Vrp-Set-B/B-n45 \" Success\n",
      "-----------------------------------------------------------------------------------------------------------------\n",
      "[2024-04-02 15:48:38] test.py(107) : DEBUG_MODE: False\n",
      "[2024-04-02 15:48:38] test.py(108) : USE_CUDA: True, CUDA_DEVICE_NUM: 0\n",
      "[2024-04-02 15:48:38] test.py(109) : env_params{'problem_size': 100, 'pomo_size': 100}\n",
      "[2024-04-02 15:48:38] test.py(109) : model_params{'embedding_dim': 128, 'sqrt_embedding_dim': 11.313708498984761, 'encoder_layer_num': 6, 'qkv_dim': 16, 'head_num': 8, 'logit_clipping': 10, 'ff_hidden_dim': 512, 'eval_type': 'argmax'}\n",
      "[2024-04-02 15:48:38] test.py(109) : tester_params{'use_cuda': True, 'cuda_device_num': 0, 'model_load': {'path': './result/saved_CVRP100_model', 'epoch': 30500}, 'test_episodes': 1000, 'test_batch_size': 1, 'augmentation_enable': True, 'aug_factor': 8, 'aug_batch_size': 1, 'test_data_load': {'enable': False, 'filename': '../vrp100_test_seed1234.pt'}, 'test_set_path': '../../../../VRP-Omni-modified/Vrp-Set-B/B-n50', 'test_set_opt_sol_path': '../../../../VRP-Omni-modified/Vrp-Set-A/A-n33-sol', 'test_set_name': 'A-n33'}\n",
      "[2024-04-02 15:48:38] test.py(109) : logger_params{'log_file': {'desc': 'test_cvrp100', 'filename': 'log.txt', 'filepath': './result/20240402_164836_test_cvrp100'}}\n",
      "['../../../../VRP-Omni-modified/Vrp-Set-B/B-n50/B-n50-k7.vrp', '../../../../VRP-Omni-modified/Vrp-Set-B/B-n50/B-n50-k8.vrp']\n"
     ]
    },
    {
     "name": "stderr",
     "output_type": "stream",
     "text": [
      "/home/xunj/miniconda3/lib/python3.11/site-packages/torch/__init__.py:614: UserWarning: torch.set_default_tensor_type() is deprecated as of PyTorch 2.1, please use torch.set_default_dtype() and torch.set_default_device() as alternatives. (Triggered internally at /opt/conda/conda-bld/pytorch_1699449183005/work/torch/csrc/tensor/python_tensor.cpp:451.)\n",
      "  _C._set_default_tensor_type(t)\n"
     ]
    },
    {
     "name": "stdout",
     "output_type": "stream",
     "text": [
      "[2024-04-02 15:48:38] CVRPTester.py(130) : episode   1/  2, Elapsed[0.01m], Remain[0.01m], score:1.466, aug_score:1.119\n",
      "[2024-04-02 15:48:38] CVRPTester.py(130) : episode   2/  2, Elapsed[0.01m], Remain[0.00m], score:1.685, aug_score:1.514\n",
      "[2024-04-02 15:48:38] CVRPTester.py(136) :  *** Test Done *** \n",
      "[2024-04-02 15:48:38] CVRPTester.py(137) :  NO-AUG SCORE: 1.5754 \n",
      "[2024-04-02 15:48:38] CVRPTester.py(138) :  AUGMENTATION SCORE: 1.3167 \n",
      ">> Evaluation on ../../../../VRP-Omni-modified/Vrp-Set-B/B-n50 finished within 0.08s\n",
      ">> Save final results to res/B-n50\n",
      "Test on \" ../../../../VRP-Omni-modified/Vrp-Set-B/B-n50 \" Success\n",
      "-----------------------------------------------------------------------------------------------------------------\n",
      "[2024-04-02 15:48:41] test.py(107) : DEBUG_MODE: False\n",
      "[2024-04-02 15:48:41] test.py(108) : USE_CUDA: True, CUDA_DEVICE_NUM: 0\n",
      "[2024-04-02 15:48:41] test.py(109) : env_params{'problem_size': 100, 'pomo_size': 100}\n",
      "[2024-04-02 15:48:41] test.py(109) : model_params{'embedding_dim': 128, 'sqrt_embedding_dim': 11.313708498984761, 'encoder_layer_num': 6, 'qkv_dim': 16, 'head_num': 8, 'logit_clipping': 10, 'ff_hidden_dim': 512, 'eval_type': 'argmax'}\n",
      "[2024-04-02 15:48:41] test.py(109) : tester_params{'use_cuda': True, 'cuda_device_num': 0, 'model_load': {'path': './result/saved_CVRP100_model', 'epoch': 30500}, 'test_episodes': 1000, 'test_batch_size': 1, 'augmentation_enable': True, 'aug_factor': 8, 'aug_batch_size': 1, 'test_data_load': {'enable': False, 'filename': '../vrp100_test_seed1234.pt'}, 'test_set_path': '../../../../VRP-Omni-modified/Vrp-Set-B/B-n51', 'test_set_opt_sol_path': '../../../../VRP-Omni-modified/Vrp-Set-A/A-n33-sol', 'test_set_name': 'A-n33'}\n",
      "[2024-04-02 15:48:41] test.py(109) : logger_params{'log_file': {'desc': 'test_cvrp100', 'filename': 'log.txt', 'filepath': './result/20240402_164839_test_cvrp100'}}\n",
      "['../../../../VRP-Omni-modified/Vrp-Set-B/B-n51/B-n51-k7.vrp']\n"
     ]
    },
    {
     "name": "stderr",
     "output_type": "stream",
     "text": [
      "/home/xunj/miniconda3/lib/python3.11/site-packages/torch/__init__.py:614: UserWarning: torch.set_default_tensor_type() is deprecated as of PyTorch 2.1, please use torch.set_default_dtype() and torch.set_default_device() as alternatives. (Triggered internally at /opt/conda/conda-bld/pytorch_1699449183005/work/torch/csrc/tensor/python_tensor.cpp:451.)\n",
      "  _C._set_default_tensor_type(t)\n"
     ]
    },
    {
     "name": "stdout",
     "output_type": "stream",
     "text": [
      "[2024-04-02 15:48:42] CVRPTester.py(130) : episode   1/  1, Elapsed[0.01m], Remain[0.00m], score:2.313, aug_score:1.343\n",
      "[2024-04-02 15:48:42] CVRPTester.py(136) :  *** Test Done *** \n",
      "[2024-04-02 15:48:42] CVRPTester.py(137) :  NO-AUG SCORE: 2.3135 \n",
      "[2024-04-02 15:48:42] CVRPTester.py(138) :  AUGMENTATION SCORE: 1.3428 \n",
      ">> Evaluation on ../../../../VRP-Omni-modified/Vrp-Set-B/B-n51 finished within 0.34s\n",
      ">> Save final results to res/B-n51\n",
      "Test on \" ../../../../VRP-Omni-modified/Vrp-Set-B/B-n51 \" Success\n",
      "-----------------------------------------------------------------------------------------------------------------\n",
      "[2024-04-02 15:48:44] test.py(107) : DEBUG_MODE: False\n",
      "[2024-04-02 15:48:44] test.py(108) : USE_CUDA: True, CUDA_DEVICE_NUM: 0\n",
      "[2024-04-02 15:48:44] test.py(109) : env_params{'problem_size': 100, 'pomo_size': 100}\n",
      "[2024-04-02 15:48:44] test.py(109) : model_params{'embedding_dim': 128, 'sqrt_embedding_dim': 11.313708498984761, 'encoder_layer_num': 6, 'qkv_dim': 16, 'head_num': 8, 'logit_clipping': 10, 'ff_hidden_dim': 512, 'eval_type': 'argmax'}\n",
      "[2024-04-02 15:48:44] test.py(109) : tester_params{'use_cuda': True, 'cuda_device_num': 0, 'model_load': {'path': './result/saved_CVRP100_model', 'epoch': 30500}, 'test_episodes': 1000, 'test_batch_size': 1, 'augmentation_enable': True, 'aug_factor': 8, 'aug_batch_size': 1, 'test_data_load': {'enable': False, 'filename': '../vrp100_test_seed1234.pt'}, 'test_set_path': '../../../../VRP-Omni-modified/Vrp-Set-B/B-n52', 'test_set_opt_sol_path': '../../../../VRP-Omni-modified/Vrp-Set-A/A-n33-sol', 'test_set_name': 'A-n33'}\n",
      "[2024-04-02 15:48:44] test.py(109) : logger_params{'log_file': {'desc': 'test_cvrp100', 'filename': 'log.txt', 'filepath': './result/20240402_164843_test_cvrp100'}}\n",
      "['../../../../VRP-Omni-modified/Vrp-Set-B/B-n52/B-n52-k7.vrp']\n"
     ]
    },
    {
     "name": "stderr",
     "output_type": "stream",
     "text": [
      "/home/xunj/miniconda3/lib/python3.11/site-packages/torch/__init__.py:614: UserWarning: torch.set_default_tensor_type() is deprecated as of PyTorch 2.1, please use torch.set_default_dtype() and torch.set_default_device() as alternatives. (Triggered internally at /opt/conda/conda-bld/pytorch_1699449183005/work/torch/csrc/tensor/python_tensor.cpp:451.)\n",
      "  _C._set_default_tensor_type(t)\n"
     ]
    },
    {
     "name": "stdout",
     "output_type": "stream",
     "text": [
      "[2024-04-02 15:48:45] CVRPTester.py(130) : episode   1/  1, Elapsed[0.01m], Remain[0.00m], score:1.493, aug_score:0.883\n",
      "[2024-04-02 15:48:45] CVRPTester.py(136) :  *** Test Done *** \n",
      "[2024-04-02 15:48:45] CVRPTester.py(137) :  NO-AUG SCORE: 1.4929 \n",
      "[2024-04-02 15:48:45] CVRPTester.py(138) :  AUGMENTATION SCORE: 0.8827 \n",
      ">> Evaluation on ../../../../VRP-Omni-modified/Vrp-Set-B/B-n52 finished within 0.34s\n",
      ">> Save final results to res/B-n52\n",
      "Test on \" ../../../../VRP-Omni-modified/Vrp-Set-B/B-n52 \" Success\n",
      "-----------------------------------------------------------------------------------------------------------------\n",
      "[2024-04-02 15:48:47] test.py(107) : DEBUG_MODE: False\n",
      "[2024-04-02 15:48:47] test.py(108) : USE_CUDA: True, CUDA_DEVICE_NUM: 0\n",
      "[2024-04-02 15:48:47] test.py(109) : env_params{'problem_size': 100, 'pomo_size': 100}\n",
      "[2024-04-02 15:48:47] test.py(109) : model_params{'embedding_dim': 128, 'sqrt_embedding_dim': 11.313708498984761, 'encoder_layer_num': 6, 'qkv_dim': 16, 'head_num': 8, 'logit_clipping': 10, 'ff_hidden_dim': 512, 'eval_type': 'argmax'}\n",
      "[2024-04-02 15:48:47] test.py(109) : tester_params{'use_cuda': True, 'cuda_device_num': 0, 'model_load': {'path': './result/saved_CVRP100_model', 'epoch': 30500}, 'test_episodes': 1000, 'test_batch_size': 1, 'augmentation_enable': True, 'aug_factor': 8, 'aug_batch_size': 1, 'test_data_load': {'enable': False, 'filename': '../vrp100_test_seed1234.pt'}, 'test_set_path': '../../../../VRP-Omni-modified/Vrp-Set-B/B-n56', 'test_set_opt_sol_path': '../../../../VRP-Omni-modified/Vrp-Set-A/A-n33-sol', 'test_set_name': 'A-n33'}\n",
      "[2024-04-02 15:48:47] test.py(109) : logger_params{'log_file': {'desc': 'test_cvrp100', 'filename': 'log.txt', 'filepath': './result/20240402_164846_test_cvrp100'}}\n",
      "['../../../../VRP-Omni-modified/Vrp-Set-B/B-n56/B-n56-k7.vrp']\n"
     ]
    },
    {
     "name": "stderr",
     "output_type": "stream",
     "text": [
      "/home/xunj/miniconda3/lib/python3.11/site-packages/torch/__init__.py:614: UserWarning: torch.set_default_tensor_type() is deprecated as of PyTorch 2.1, please use torch.set_default_dtype() and torch.set_default_device() as alternatives. (Triggered internally at /opt/conda/conda-bld/pytorch_1699449183005/work/torch/csrc/tensor/python_tensor.cpp:451.)\n",
      "  _C._set_default_tensor_type(t)\n"
     ]
    },
    {
     "name": "stdout",
     "output_type": "stream",
     "text": [
      "[2024-04-02 15:48:48] CVRPTester.py(130) : episode   1/  1, Elapsed[0.01m], Remain[0.00m], score:1.188, aug_score:1.111\n",
      "[2024-04-02 15:48:48] CVRPTester.py(136) :  *** Test Done *** \n",
      "[2024-04-02 15:48:48] CVRPTester.py(137) :  NO-AUG SCORE: 1.1884 \n",
      "[2024-04-02 15:48:48] CVRPTester.py(138) :  AUGMENTATION SCORE: 1.1110 \n",
      ">> Evaluation on ../../../../VRP-Omni-modified/Vrp-Set-B/B-n56 finished within 0.34s\n",
      ">> Save final results to res/B-n56\n",
      "Test on \" ../../../../VRP-Omni-modified/Vrp-Set-B/B-n56 \" Success\n",
      "-----------------------------------------------------------------------------------------------------------------\n",
      "[2024-04-02 15:48:50] test.py(107) : DEBUG_MODE: False\n",
      "[2024-04-02 15:48:50] test.py(108) : USE_CUDA: True, CUDA_DEVICE_NUM: 0\n",
      "[2024-04-02 15:48:50] test.py(109) : env_params{'problem_size': 100, 'pomo_size': 100}\n",
      "[2024-04-02 15:48:50] test.py(109) : model_params{'embedding_dim': 128, 'sqrt_embedding_dim': 11.313708498984761, 'encoder_layer_num': 6, 'qkv_dim': 16, 'head_num': 8, 'logit_clipping': 10, 'ff_hidden_dim': 512, 'eval_type': 'argmax'}\n",
      "[2024-04-02 15:48:50] test.py(109) : tester_params{'use_cuda': True, 'cuda_device_num': 0, 'model_load': {'path': './result/saved_CVRP100_model', 'epoch': 30500}, 'test_episodes': 1000, 'test_batch_size': 1, 'augmentation_enable': True, 'aug_factor': 8, 'aug_batch_size': 1, 'test_data_load': {'enable': False, 'filename': '../vrp100_test_seed1234.pt'}, 'test_set_path': '../../../../VRP-Omni-modified/Vrp-Set-B/B-n57', 'test_set_opt_sol_path': '../../../../VRP-Omni-modified/Vrp-Set-A/A-n33-sol', 'test_set_name': 'A-n33'}\n",
      "[2024-04-02 15:48:50] test.py(109) : logger_params{'log_file': {'desc': 'test_cvrp100', 'filename': 'log.txt', 'filepath': './result/20240402_164849_test_cvrp100'}}\n",
      "['../../../../VRP-Omni-modified/Vrp-Set-B/B-n57/B-n57-k7.vrp', '../../../../VRP-Omni-modified/Vrp-Set-B/B-n57/B-n57-k9.vrp']\n"
     ]
    },
    {
     "name": "stderr",
     "output_type": "stream",
     "text": [
      "/home/xunj/miniconda3/lib/python3.11/site-packages/torch/__init__.py:614: UserWarning: torch.set_default_tensor_type() is deprecated as of PyTorch 2.1, please use torch.set_default_dtype() and torch.set_default_device() as alternatives. (Triggered internally at /opt/conda/conda-bld/pytorch_1699449183005/work/torch/csrc/tensor/python_tensor.cpp:451.)\n",
      "  _C._set_default_tensor_type(t)\n"
     ]
    },
    {
     "name": "stdout",
     "output_type": "stream",
     "text": [
      "[2024-04-02 15:48:51] CVRPTester.py(130) : episode   1/  2, Elapsed[0.01m], Remain[0.01m], score:1.877, aug_score:1.544\n",
      "[2024-04-02 15:48:51] CVRPTester.py(130) : episode   2/  2, Elapsed[0.01m], Remain[0.00m], score:1.782, aug_score:1.782\n",
      "[2024-04-02 15:48:51] CVRPTester.py(136) :  *** Test Done *** \n",
      "[2024-04-02 15:48:51] CVRPTester.py(137) :  NO-AUG SCORE: 1.8295 \n",
      "[2024-04-02 15:48:51] CVRPTester.py(138) :  AUGMENTATION SCORE: 1.6628 \n",
      ">> Evaluation on ../../../../VRP-Omni-modified/Vrp-Set-B/B-n57 finished within 0.07s\n",
      ">> Save final results to res/B-n57\n",
      "Test on \" ../../../../VRP-Omni-modified/Vrp-Set-B/B-n57 \" Success\n",
      "-----------------------------------------------------------------------------------------------------------------\n",
      "[2024-04-02 15:48:54] test.py(107) : DEBUG_MODE: False\n",
      "[2024-04-02 15:48:54] test.py(108) : USE_CUDA: True, CUDA_DEVICE_NUM: 0\n",
      "[2024-04-02 15:48:54] test.py(109) : env_params{'problem_size': 100, 'pomo_size': 100}\n",
      "[2024-04-02 15:48:54] test.py(109) : model_params{'embedding_dim': 128, 'sqrt_embedding_dim': 11.313708498984761, 'encoder_layer_num': 6, 'qkv_dim': 16, 'head_num': 8, 'logit_clipping': 10, 'ff_hidden_dim': 512, 'eval_type': 'argmax'}\n",
      "[2024-04-02 15:48:54] test.py(109) : tester_params{'use_cuda': True, 'cuda_device_num': 0, 'model_load': {'path': './result/saved_CVRP100_model', 'epoch': 30500}, 'test_episodes': 1000, 'test_batch_size': 1, 'augmentation_enable': True, 'aug_factor': 8, 'aug_batch_size': 1, 'test_data_load': {'enable': False, 'filename': '../vrp100_test_seed1234.pt'}, 'test_set_path': '../../../../VRP-Omni-modified/Vrp-Set-B/B-n63', 'test_set_opt_sol_path': '../../../../VRP-Omni-modified/Vrp-Set-A/A-n33-sol', 'test_set_name': 'A-n33'}\n",
      "[2024-04-02 15:48:54] test.py(109) : logger_params{'log_file': {'desc': 'test_cvrp100', 'filename': 'log.txt', 'filepath': './result/20240402_164852_test_cvrp100'}}\n",
      "['../../../../VRP-Omni-modified/Vrp-Set-B/B-n63/B-n63-k10.vrp']\n"
     ]
    },
    {
     "name": "stderr",
     "output_type": "stream",
     "text": [
      "/home/xunj/miniconda3/lib/python3.11/site-packages/torch/__init__.py:614: UserWarning: torch.set_default_tensor_type() is deprecated as of PyTorch 2.1, please use torch.set_default_dtype() and torch.set_default_device() as alternatives. (Triggered internally at /opt/conda/conda-bld/pytorch_1699449183005/work/torch/csrc/tensor/python_tensor.cpp:451.)\n",
      "  _C._set_default_tensor_type(t)\n"
     ]
    },
    {
     "name": "stdout",
     "output_type": "stream",
     "text": [
      "[2024-04-02 15:48:54] CVRPTester.py(130) : episode   1/  1, Elapsed[0.01m], Remain[0.00m], score:2.381, aug_score:1.897\n",
      "[2024-04-02 15:48:54] CVRPTester.py(136) :  *** Test Done *** \n",
      "[2024-04-02 15:48:54] CVRPTester.py(137) :  NO-AUG SCORE: 2.3805 \n",
      "[2024-04-02 15:48:54] CVRPTester.py(138) :  AUGMENTATION SCORE: 1.8966 \n",
      ">> Evaluation on ../../../../VRP-Omni-modified/Vrp-Set-B/B-n63 finished within 0.34s\n",
      ">> Save final results to res/B-n63\n",
      "Test on \" ../../../../VRP-Omni-modified/Vrp-Set-B/B-n63 \" Success\n",
      "-----------------------------------------------------------------------------------------------------------------\n",
      "[2024-04-02 15:48:57] test.py(107) : DEBUG_MODE: False\n",
      "[2024-04-02 15:48:57] test.py(108) : USE_CUDA: True, CUDA_DEVICE_NUM: 0\n",
      "[2024-04-02 15:48:57] test.py(109) : env_params{'problem_size': 100, 'pomo_size': 100}\n",
      "[2024-04-02 15:48:57] test.py(109) : model_params{'embedding_dim': 128, 'sqrt_embedding_dim': 11.313708498984761, 'encoder_layer_num': 6, 'qkv_dim': 16, 'head_num': 8, 'logit_clipping': 10, 'ff_hidden_dim': 512, 'eval_type': 'argmax'}\n",
      "[2024-04-02 15:48:57] test.py(109) : tester_params{'use_cuda': True, 'cuda_device_num': 0, 'model_load': {'path': './result/saved_CVRP100_model', 'epoch': 30500}, 'test_episodes': 1000, 'test_batch_size': 1, 'augmentation_enable': True, 'aug_factor': 8, 'aug_batch_size': 1, 'test_data_load': {'enable': False, 'filename': '../vrp100_test_seed1234.pt'}, 'test_set_path': '../../../../VRP-Omni-modified/Vrp-Set-B/B-n64', 'test_set_opt_sol_path': '../../../../VRP-Omni-modified/Vrp-Set-A/A-n33-sol', 'test_set_name': 'A-n33'}\n",
      "[2024-04-02 15:48:57] test.py(109) : logger_params{'log_file': {'desc': 'test_cvrp100', 'filename': 'log.txt', 'filepath': './result/20240402_164855_test_cvrp100'}}\n",
      "['../../../../VRP-Omni-modified/Vrp-Set-B/B-n64/B-n64-k9.vrp']\n"
     ]
    },
    {
     "name": "stderr",
     "output_type": "stream",
     "text": [
      "/home/xunj/miniconda3/lib/python3.11/site-packages/torch/__init__.py:614: UserWarning: torch.set_default_tensor_type() is deprecated as of PyTorch 2.1, please use torch.set_default_dtype() and torch.set_default_device() as alternatives. (Triggered internally at /opt/conda/conda-bld/pytorch_1699449183005/work/torch/csrc/tensor/python_tensor.cpp:451.)\n",
      "  _C._set_default_tensor_type(t)\n"
     ]
    },
    {
     "name": "stdout",
     "output_type": "stream",
     "text": [
      "[2024-04-02 15:48:58] CVRPTester.py(130) : episode   1/  1, Elapsed[0.01m], Remain[0.00m], score:1.652, aug_score:1.258\n",
      "[2024-04-02 15:48:58] CVRPTester.py(136) :  *** Test Done *** \n",
      "[2024-04-02 15:48:58] CVRPTester.py(137) :  NO-AUG SCORE: 1.6517 \n",
      "[2024-04-02 15:48:58] CVRPTester.py(138) :  AUGMENTATION SCORE: 1.2584 \n",
      ">> Evaluation on ../../../../VRP-Omni-modified/Vrp-Set-B/B-n64 finished within 0.35s\n",
      ">> Save final results to res/B-n64\n",
      "Test on \" ../../../../VRP-Omni-modified/Vrp-Set-B/B-n64 \" Success\n",
      "-----------------------------------------------------------------------------------------------------------------\n",
      "[2024-04-02 15:49:00] test.py(107) : DEBUG_MODE: False\n",
      "[2024-04-02 15:49:00] test.py(108) : USE_CUDA: True, CUDA_DEVICE_NUM: 0\n",
      "[2024-04-02 15:49:00] test.py(109) : env_params{'problem_size': 100, 'pomo_size': 100}\n",
      "[2024-04-02 15:49:00] test.py(109) : model_params{'embedding_dim': 128, 'sqrt_embedding_dim': 11.313708498984761, 'encoder_layer_num': 6, 'qkv_dim': 16, 'head_num': 8, 'logit_clipping': 10, 'ff_hidden_dim': 512, 'eval_type': 'argmax'}\n",
      "[2024-04-02 15:49:00] test.py(109) : tester_params{'use_cuda': True, 'cuda_device_num': 0, 'model_load': {'path': './result/saved_CVRP100_model', 'epoch': 30500}, 'test_episodes': 1000, 'test_batch_size': 1, 'augmentation_enable': True, 'aug_factor': 8, 'aug_batch_size': 1, 'test_data_load': {'enable': False, 'filename': '../vrp100_test_seed1234.pt'}, 'test_set_path': '../../../../VRP-Omni-modified/Vrp-Set-B/B-n66', 'test_set_opt_sol_path': '../../../../VRP-Omni-modified/Vrp-Set-A/A-n33-sol', 'test_set_name': 'A-n33'}\n",
      "[2024-04-02 15:49:00] test.py(109) : logger_params{'log_file': {'desc': 'test_cvrp100', 'filename': 'log.txt', 'filepath': './result/20240402_164859_test_cvrp100'}}\n",
      "['../../../../VRP-Omni-modified/Vrp-Set-B/B-n66/B-n66-k9.vrp']\n"
     ]
    },
    {
     "name": "stderr",
     "output_type": "stream",
     "text": [
      "/home/xunj/miniconda3/lib/python3.11/site-packages/torch/__init__.py:614: UserWarning: torch.set_default_tensor_type() is deprecated as of PyTorch 2.1, please use torch.set_default_dtype() and torch.set_default_device() as alternatives. (Triggered internally at /opt/conda/conda-bld/pytorch_1699449183005/work/torch/csrc/tensor/python_tensor.cpp:451.)\n",
      "  _C._set_default_tensor_type(t)\n"
     ]
    },
    {
     "name": "stdout",
     "output_type": "stream",
     "text": [
      "[2024-04-02 15:49:01] CVRPTester.py(130) : episode   1/  1, Elapsed[0.01m], Remain[0.00m], score:1.611, aug_score:1.611\n",
      "[2024-04-02 15:49:01] CVRPTester.py(136) :  *** Test Done *** \n",
      "[2024-04-02 15:49:01] CVRPTester.py(137) :  NO-AUG SCORE: 1.6109 \n",
      "[2024-04-02 15:49:01] CVRPTester.py(138) :  AUGMENTATION SCORE: 1.6109 \n",
      ">> Evaluation on ../../../../VRP-Omni-modified/Vrp-Set-B/B-n66 finished within 0.35s\n",
      ">> Save final results to res/B-n66\n",
      "Test on \" ../../../../VRP-Omni-modified/Vrp-Set-B/B-n66 \" Success\n",
      "-----------------------------------------------------------------------------------------------------------------\n",
      "[2024-04-02 15:49:03] test.py(107) : DEBUG_MODE: False\n",
      "[2024-04-02 15:49:03] test.py(108) : USE_CUDA: True, CUDA_DEVICE_NUM: 0\n",
      "[2024-04-02 15:49:03] test.py(109) : env_params{'problem_size': 100, 'pomo_size': 100}\n",
      "[2024-04-02 15:49:03] test.py(109) : model_params{'embedding_dim': 128, 'sqrt_embedding_dim': 11.313708498984761, 'encoder_layer_num': 6, 'qkv_dim': 16, 'head_num': 8, 'logit_clipping': 10, 'ff_hidden_dim': 512, 'eval_type': 'argmax'}\n",
      "[2024-04-02 15:49:03] test.py(109) : tester_params{'use_cuda': True, 'cuda_device_num': 0, 'model_load': {'path': './result/saved_CVRP100_model', 'epoch': 30500}, 'test_episodes': 1000, 'test_batch_size': 1, 'augmentation_enable': True, 'aug_factor': 8, 'aug_batch_size': 1, 'test_data_load': {'enable': False, 'filename': '../vrp100_test_seed1234.pt'}, 'test_set_path': '../../../../VRP-Omni-modified/Vrp-Set-B/B-n67', 'test_set_opt_sol_path': '../../../../VRP-Omni-modified/Vrp-Set-A/A-n33-sol', 'test_set_name': 'A-n33'}\n",
      "[2024-04-02 15:49:03] test.py(109) : logger_params{'log_file': {'desc': 'test_cvrp100', 'filename': 'log.txt', 'filepath': './result/20240402_164902_test_cvrp100'}}\n",
      "['../../../../VRP-Omni-modified/Vrp-Set-B/B-n67/B-n67-k10.vrp']\n"
     ]
    },
    {
     "name": "stderr",
     "output_type": "stream",
     "text": [
      "/home/xunj/miniconda3/lib/python3.11/site-packages/torch/__init__.py:614: UserWarning: torch.set_default_tensor_type() is deprecated as of PyTorch 2.1, please use torch.set_default_dtype() and torch.set_default_device() as alternatives. (Triggered internally at /opt/conda/conda-bld/pytorch_1699449183005/work/torch/csrc/tensor/python_tensor.cpp:451.)\n",
      "  _C._set_default_tensor_type(t)\n"
     ]
    },
    {
     "name": "stdout",
     "output_type": "stream",
     "text": [
      "[2024-04-02 15:49:04] CVRPTester.py(130) : episode   1/  1, Elapsed[0.01m], Remain[0.00m], score:2.380, aug_score:1.487\n",
      "[2024-04-02 15:49:04] CVRPTester.py(136) :  *** Test Done *** \n",
      "[2024-04-02 15:49:04] CVRPTester.py(137) :  NO-AUG SCORE: 2.3804 \n",
      "[2024-04-02 15:49:04] CVRPTester.py(138) :  AUGMENTATION SCORE: 1.4870 \n",
      ">> Evaluation on ../../../../VRP-Omni-modified/Vrp-Set-B/B-n67 finished within 0.35s\n",
      ">> Save final results to res/B-n67\n",
      "Test on \" ../../../../VRP-Omni-modified/Vrp-Set-B/B-n67 \" Success\n",
      "-----------------------------------------------------------------------------------------------------------------\n",
      "[2024-04-02 15:49:07] test.py(107) : DEBUG_MODE: False\n",
      "[2024-04-02 15:49:07] test.py(108) : USE_CUDA: True, CUDA_DEVICE_NUM: 0\n",
      "[2024-04-02 15:49:07] test.py(109) : env_params{'problem_size': 100, 'pomo_size': 100}\n",
      "[2024-04-02 15:49:07] test.py(109) : model_params{'embedding_dim': 128, 'sqrt_embedding_dim': 11.313708498984761, 'encoder_layer_num': 6, 'qkv_dim': 16, 'head_num': 8, 'logit_clipping': 10, 'ff_hidden_dim': 512, 'eval_type': 'argmax'}\n",
      "[2024-04-02 15:49:07] test.py(109) : tester_params{'use_cuda': True, 'cuda_device_num': 0, 'model_load': {'path': './result/saved_CVRP100_model', 'epoch': 30500}, 'test_episodes': 1000, 'test_batch_size': 1, 'augmentation_enable': True, 'aug_factor': 8, 'aug_batch_size': 1, 'test_data_load': {'enable': False, 'filename': '../vrp100_test_seed1234.pt'}, 'test_set_path': '../../../../VRP-Omni-modified/Vrp-Set-B/B-n68', 'test_set_opt_sol_path': '../../../../VRP-Omni-modified/Vrp-Set-A/A-n33-sol', 'test_set_name': 'A-n33'}\n",
      "[2024-04-02 15:49:07] test.py(109) : logger_params{'log_file': {'desc': 'test_cvrp100', 'filename': 'log.txt', 'filepath': './result/20240402_164905_test_cvrp100'}}\n",
      "['../../../../VRP-Omni-modified/Vrp-Set-B/B-n68/B-n68-k9.vrp']\n"
     ]
    },
    {
     "name": "stderr",
     "output_type": "stream",
     "text": [
      "/home/xunj/miniconda3/lib/python3.11/site-packages/torch/__init__.py:614: UserWarning: torch.set_default_tensor_type() is deprecated as of PyTorch 2.1, please use torch.set_default_dtype() and torch.set_default_device() as alternatives. (Triggered internally at /opt/conda/conda-bld/pytorch_1699449183005/work/torch/csrc/tensor/python_tensor.cpp:451.)\n",
      "  _C._set_default_tensor_type(t)\n"
     ]
    },
    {
     "name": "stdout",
     "output_type": "stream",
     "text": [
      "[2024-04-02 15:49:07] CVRPTester.py(130) : episode   1/  1, Elapsed[0.01m], Remain[0.00m], score:2.215, aug_score:1.696\n",
      "[2024-04-02 15:49:07] CVRPTester.py(136) :  *** Test Done *** \n",
      "[2024-04-02 15:49:07] CVRPTester.py(137) :  NO-AUG SCORE: 2.2153 \n",
      "[2024-04-02 15:49:07] CVRPTester.py(138) :  AUGMENTATION SCORE: 1.6956 \n",
      ">> Evaluation on ../../../../VRP-Omni-modified/Vrp-Set-B/B-n68 finished within 0.35s\n",
      ">> Save final results to res/B-n68\n",
      "Test on \" ../../../../VRP-Omni-modified/Vrp-Set-B/B-n68 \" Success\n",
      "-----------------------------------------------------------------------------------------------------------------\n",
      "[2024-04-02 15:49:10] test.py(107) : DEBUG_MODE: False\n",
      "[2024-04-02 15:49:10] test.py(108) : USE_CUDA: True, CUDA_DEVICE_NUM: 0\n",
      "[2024-04-02 15:49:10] test.py(109) : env_params{'problem_size': 100, 'pomo_size': 100}\n",
      "[2024-04-02 15:49:10] test.py(109) : model_params{'embedding_dim': 128, 'sqrt_embedding_dim': 11.313708498984761, 'encoder_layer_num': 6, 'qkv_dim': 16, 'head_num': 8, 'logit_clipping': 10, 'ff_hidden_dim': 512, 'eval_type': 'argmax'}\n",
      "[2024-04-02 15:49:10] test.py(109) : tester_params{'use_cuda': True, 'cuda_device_num': 0, 'model_load': {'path': './result/saved_CVRP100_model', 'epoch': 30500}, 'test_episodes': 1000, 'test_batch_size': 1, 'augmentation_enable': True, 'aug_factor': 8, 'aug_batch_size': 1, 'test_data_load': {'enable': False, 'filename': '../vrp100_test_seed1234.pt'}, 'test_set_path': '../../../../VRP-Omni-modified/Vrp-Set-B/B-n78', 'test_set_opt_sol_path': '../../../../VRP-Omni-modified/Vrp-Set-A/A-n33-sol', 'test_set_name': 'A-n33'}\n",
      "[2024-04-02 15:49:10] test.py(109) : logger_params{'log_file': {'desc': 'test_cvrp100', 'filename': 'log.txt', 'filepath': './result/20240402_164908_test_cvrp100'}}\n",
      "['../../../../VRP-Omni-modified/Vrp-Set-B/B-n78/B-n78-k10.vrp']\n"
     ]
    },
    {
     "name": "stderr",
     "output_type": "stream",
     "text": [
      "/home/xunj/miniconda3/lib/python3.11/site-packages/torch/__init__.py:614: UserWarning: torch.set_default_tensor_type() is deprecated as of PyTorch 2.1, please use torch.set_default_dtype() and torch.set_default_device() as alternatives. (Triggered internally at /opt/conda/conda-bld/pytorch_1699449183005/work/torch/csrc/tensor/python_tensor.cpp:451.)\n",
      "  _C._set_default_tensor_type(t)\n"
     ]
    },
    {
     "name": "stdout",
     "output_type": "stream",
     "text": [
      "[2024-04-02 15:49:11] CVRPTester.py(130) : episode   1/  1, Elapsed[0.01m], Remain[0.00m], score:1.773, aug_score:1.333\n",
      "[2024-04-02 15:49:11] CVRPTester.py(136) :  *** Test Done *** \n",
      "[2024-04-02 15:49:11] CVRPTester.py(137) :  NO-AUG SCORE: 1.7728 \n",
      "[2024-04-02 15:49:11] CVRPTester.py(138) :  AUGMENTATION SCORE: 1.3328 \n",
      ">> Evaluation on ../../../../VRP-Omni-modified/Vrp-Set-B/B-n78 finished within 0.36s\n",
      ">> Save final results to res/B-n78\n",
      "Test on \" ../../../../VRP-Omni-modified/Vrp-Set-B/B-n78 \" Success\n",
      "-----------------------------------------------------------------------------------------------------------------\n",
      "[2024-04-02 15:49:13] test.py(107) : DEBUG_MODE: False\n",
      "[2024-04-02 15:49:13] test.py(108) : USE_CUDA: True, CUDA_DEVICE_NUM: 0\n",
      "[2024-04-02 15:49:13] test.py(109) : env_params{'problem_size': 100, 'pomo_size': 100}\n",
      "[2024-04-02 15:49:13] test.py(109) : model_params{'embedding_dim': 128, 'sqrt_embedding_dim': 11.313708498984761, 'encoder_layer_num': 6, 'qkv_dim': 16, 'head_num': 8, 'logit_clipping': 10, 'ff_hidden_dim': 512, 'eval_type': 'argmax'}\n",
      "[2024-04-02 15:49:13] test.py(109) : tester_params{'use_cuda': True, 'cuda_device_num': 0, 'model_load': {'path': './result/saved_CVRP100_model', 'epoch': 30500}, 'test_episodes': 1000, 'test_batch_size': 1, 'augmentation_enable': True, 'aug_factor': 8, 'aug_batch_size': 1, 'test_data_load': {'enable': False, 'filename': '../vrp100_test_seed1234.pt'}, 'test_set_path': '../../../../VRP-Omni-modified/Vrp-Set-CMT/CMT-n101', 'test_set_opt_sol_path': '../../../../VRP-Omni-modified/Vrp-Set-A/A-n33-sol', 'test_set_name': 'A-n33'}\n",
      "[2024-04-02 15:49:13] test.py(109) : logger_params{'log_file': {'desc': 'test_cvrp100', 'filename': 'log.txt', 'filepath': './result/20240402_164912_test_cvrp100'}}\n",
      "['../../../../VRP-Omni-modified/Vrp-Set-CMT/CMT-n101/CMT12.vrp', '../../../../VRP-Omni-modified/Vrp-Set-CMT/CMT-n101/CMT14.vrp', '../../../../VRP-Omni-modified/Vrp-Set-CMT/CMT-n101/CMT3.vrp', '../../../../VRP-Omni-modified/Vrp-Set-CMT/CMT-n101/CMT8.vrp']\n"
     ]
    },
    {
     "name": "stderr",
     "output_type": "stream",
     "text": [
      "/home/xunj/miniconda3/lib/python3.11/site-packages/torch/__init__.py:614: UserWarning: torch.set_default_tensor_type() is deprecated as of PyTorch 2.1, please use torch.set_default_dtype() and torch.set_default_device() as alternatives. (Triggered internally at /opt/conda/conda-bld/pytorch_1699449183005/work/torch/csrc/tensor/python_tensor.cpp:451.)\n",
      "  _C._set_default_tensor_type(t)\n"
     ]
    },
    {
     "name": "stdout",
     "output_type": "stream",
     "text": [
      "[2024-04-02 15:49:14] CVRPTester.py(130) : episode   1/  4, Elapsed[0.01m], Remain[0.02m], score:1.739, aug_score:1.073\n",
      "[2024-04-02 15:49:14] CVRPTester.py(130) : episode   2/  4, Elapsed[0.01m], Remain[0.01m], score:1.739, aug_score:1.073\n",
      "[2024-04-02 15:49:14] CVRPTester.py(130) : episode   3/  4, Elapsed[0.01m], Remain[0.00m], score:1.324, aug_score:1.092\n",
      "[2024-04-02 15:49:14] CVRPTester.py(130) : episode   4/  4, Elapsed[0.01m], Remain[0.00m], score:1.324, aug_score:1.092\n",
      "[2024-04-02 15:49:14] CVRPTester.py(136) :  *** Test Done *** \n",
      "[2024-04-02 15:49:14] CVRPTester.py(137) :  NO-AUG SCORE: 1.5317 \n",
      "[2024-04-02 15:49:14] CVRPTester.py(138) :  AUGMENTATION SCORE: 1.0822 \n",
      ">> Evaluation on ../../../../VRP-Omni-modified/Vrp-Set-CMT/CMT-n101 finished within 0.13s\n",
      ">> Save final results to res/CMT-n101\n",
      "Test on \" ../../../../VRP-Omni-modified/Vrp-Set-CMT/CMT-n101 \" Success\n",
      "-----------------------------------------------------------------------------------------------------------------\n",
      "[2024-04-02 15:49:17] test.py(107) : DEBUG_MODE: False\n",
      "[2024-04-02 15:49:17] test.py(108) : USE_CUDA: True, CUDA_DEVICE_NUM: 0\n",
      "[2024-04-02 15:49:17] test.py(109) : env_params{'problem_size': 100, 'pomo_size': 100}\n",
      "[2024-04-02 15:49:17] test.py(109) : model_params{'embedding_dim': 128, 'sqrt_embedding_dim': 11.313708498984761, 'encoder_layer_num': 6, 'qkv_dim': 16, 'head_num': 8, 'logit_clipping': 10, 'ff_hidden_dim': 512, 'eval_type': 'argmax'}\n",
      "[2024-04-02 15:49:17] test.py(109) : tester_params{'use_cuda': True, 'cuda_device_num': 0, 'model_load': {'path': './result/saved_CVRP100_model', 'epoch': 30500}, 'test_episodes': 1000, 'test_batch_size': 1, 'augmentation_enable': True, 'aug_factor': 8, 'aug_batch_size': 1, 'test_data_load': {'enable': False, 'filename': '../vrp100_test_seed1234.pt'}, 'test_set_path': '../../../../VRP-Omni-modified/Vrp-Set-CMT/CMT-n121', 'test_set_opt_sol_path': '../../../../VRP-Omni-modified/Vrp-Set-A/A-n33-sol', 'test_set_name': 'A-n33'}\n",
      "[2024-04-02 15:49:17] test.py(109) : logger_params{'log_file': {'desc': 'test_cvrp100', 'filename': 'log.txt', 'filepath': './result/20240402_164915_test_cvrp100'}}\n",
      "['../../../../VRP-Omni-modified/Vrp-Set-CMT/CMT-n121/CMT11.vrp', '../../../../VRP-Omni-modified/Vrp-Set-CMT/CMT-n121/CMT13.vrp']\n"
     ]
    },
    {
     "name": "stderr",
     "output_type": "stream",
     "text": [
      "/home/xunj/miniconda3/lib/python3.11/site-packages/torch/__init__.py:614: UserWarning: torch.set_default_tensor_type() is deprecated as of PyTorch 2.1, please use torch.set_default_dtype() and torch.set_default_device() as alternatives. (Triggered internally at /opt/conda/conda-bld/pytorch_1699449183005/work/torch/csrc/tensor/python_tensor.cpp:451.)\n",
      "  _C._set_default_tensor_type(t)\n"
     ]
    },
    {
     "name": "stdout",
     "output_type": "stream",
     "text": [
      "[2024-04-02 15:49:17] CVRPTester.py(130) : episode   1/  2, Elapsed[0.01m], Remain[0.01m], score:1.326, aug_score:1.196\n",
      "[2024-04-02 15:49:18] CVRPTester.py(130) : episode   2/  2, Elapsed[0.01m], Remain[0.00m], score:1.326, aug_score:1.196\n",
      "[2024-04-02 15:49:18] CVRPTester.py(136) :  *** Test Done *** \n",
      "[2024-04-02 15:49:18] CVRPTester.py(137) :  NO-AUG SCORE: 1.3257 \n",
      "[2024-04-02 15:49:18] CVRPTester.py(138) :  AUGMENTATION SCORE: 1.1961 \n",
      ">> Evaluation on ../../../../VRP-Omni-modified/Vrp-Set-CMT/CMT-n121 finished within 0.15s\n",
      ">> Save final results to res/CMT-n121\n",
      "Test on \" ../../../../VRP-Omni-modified/Vrp-Set-CMT/CMT-n121 \" Success\n",
      "-----------------------------------------------------------------------------------------------------------------\n",
      "[2024-04-02 15:49:20] test.py(107) : DEBUG_MODE: False\n",
      "[2024-04-02 15:49:20] test.py(108) : USE_CUDA: True, CUDA_DEVICE_NUM: 0\n",
      "[2024-04-02 15:49:20] test.py(109) : env_params{'problem_size': 100, 'pomo_size': 100}\n",
      "[2024-04-02 15:49:20] test.py(109) : model_params{'embedding_dim': 128, 'sqrt_embedding_dim': 11.313708498984761, 'encoder_layer_num': 6, 'qkv_dim': 16, 'head_num': 8, 'logit_clipping': 10, 'ff_hidden_dim': 512, 'eval_type': 'argmax'}\n",
      "[2024-04-02 15:49:20] test.py(109) : tester_params{'use_cuda': True, 'cuda_device_num': 0, 'model_load': {'path': './result/saved_CVRP100_model', 'epoch': 30500}, 'test_episodes': 1000, 'test_batch_size': 1, 'augmentation_enable': True, 'aug_factor': 8, 'aug_batch_size': 1, 'test_data_load': {'enable': False, 'filename': '../vrp100_test_seed1234.pt'}, 'test_set_path': '../../../../VRP-Omni-modified/Vrp-Set-CMT/CMT-n151', 'test_set_opt_sol_path': '../../../../VRP-Omni-modified/Vrp-Set-A/A-n33-sol', 'test_set_name': 'A-n33'}\n",
      "[2024-04-02 15:49:20] test.py(109) : logger_params{'log_file': {'desc': 'test_cvrp100', 'filename': 'log.txt', 'filepath': './result/20240402_164919_test_cvrp100'}}\n",
      "['../../../../VRP-Omni-modified/Vrp-Set-CMT/CMT-n151/CMT4.vrp', '../../../../VRP-Omni-modified/Vrp-Set-CMT/CMT-n151/CMT9.vrp']\n"
     ]
    },
    {
     "name": "stderr",
     "output_type": "stream",
     "text": [
      "/home/xunj/miniconda3/lib/python3.11/site-packages/torch/__init__.py:614: UserWarning: torch.set_default_tensor_type() is deprecated as of PyTorch 2.1, please use torch.set_default_dtype() and torch.set_default_device() as alternatives. (Triggered internally at /opt/conda/conda-bld/pytorch_1699449183005/work/torch/csrc/tensor/python_tensor.cpp:451.)\n",
      "  _C._set_default_tensor_type(t)\n"
     ]
    },
    {
     "name": "stdout",
     "output_type": "stream",
     "text": [
      "[2024-04-02 15:49:21] CVRPTester.py(130) : episode   1/  2, Elapsed[0.01m], Remain[0.01m], score:2.219, aug_score:1.445\n",
      "[2024-04-02 15:49:21] CVRPTester.py(130) : episode   2/  2, Elapsed[0.01m], Remain[0.00m], score:2.219, aug_score:1.445\n",
      "[2024-04-02 15:49:21] CVRPTester.py(136) :  *** Test Done *** \n",
      "[2024-04-02 15:49:21] CVRPTester.py(137) :  NO-AUG SCORE: 2.2190 \n",
      "[2024-04-02 15:49:21] CVRPTester.py(138) :  AUGMENTATION SCORE: 1.4446 \n",
      ">> Evaluation on ../../../../VRP-Omni-modified/Vrp-Set-CMT/CMT-n151 finished within 0.21s\n",
      ">> Save final results to res/CMT-n151\n",
      "Test on \" ../../../../VRP-Omni-modified/Vrp-Set-CMT/CMT-n151 \" Success\n",
      "-----------------------------------------------------------------------------------------------------------------\n",
      "[2024-04-02 15:49:24] test.py(107) : DEBUG_MODE: False\n",
      "[2024-04-02 15:49:24] test.py(108) : USE_CUDA: True, CUDA_DEVICE_NUM: 0\n",
      "[2024-04-02 15:49:24] test.py(109) : env_params{'problem_size': 100, 'pomo_size': 100}\n",
      "[2024-04-02 15:49:24] test.py(109) : model_params{'embedding_dim': 128, 'sqrt_embedding_dim': 11.313708498984761, 'encoder_layer_num': 6, 'qkv_dim': 16, 'head_num': 8, 'logit_clipping': 10, 'ff_hidden_dim': 512, 'eval_type': 'argmax'}\n",
      "[2024-04-02 15:49:24] test.py(109) : tester_params{'use_cuda': True, 'cuda_device_num': 0, 'model_load': {'path': './result/saved_CVRP100_model', 'epoch': 30500}, 'test_episodes': 1000, 'test_batch_size': 1, 'augmentation_enable': True, 'aug_factor': 8, 'aug_batch_size': 1, 'test_data_load': {'enable': False, 'filename': '../vrp100_test_seed1234.pt'}, 'test_set_path': '../../../../VRP-Omni-modified/Vrp-Set-CMT/CMT-n200', 'test_set_opt_sol_path': '../../../../VRP-Omni-modified/Vrp-Set-A/A-n33-sol', 'test_set_name': 'A-n33'}\n",
      "[2024-04-02 15:49:24] test.py(109) : logger_params{'log_file': {'desc': 'test_cvrp100', 'filename': 'log.txt', 'filepath': './result/20240402_164923_test_cvrp100'}}\n",
      "['../../../../VRP-Omni-modified/Vrp-Set-CMT/CMT-n200/CMT10.vrp', '../../../../VRP-Omni-modified/Vrp-Set-CMT/CMT-n200/CMT5.vrp']\n"
     ]
    },
    {
     "name": "stderr",
     "output_type": "stream",
     "text": [
      "/home/xunj/miniconda3/lib/python3.11/site-packages/torch/__init__.py:614: UserWarning: torch.set_default_tensor_type() is deprecated as of PyTorch 2.1, please use torch.set_default_dtype() and torch.set_default_device() as alternatives. (Triggered internally at /opt/conda/conda-bld/pytorch_1699449183005/work/torch/csrc/tensor/python_tensor.cpp:451.)\n",
      "  _C._set_default_tensor_type(t)\n"
     ]
    },
    {
     "name": "stdout",
     "output_type": "stream",
     "text": [
      "[2024-04-02 15:49:25] CVRPTester.py(130) : episode   1/  2, Elapsed[0.01m], Remain[0.01m], score:2.209, aug_score:1.912\n",
      "[2024-04-02 15:49:25] CVRPTester.py(130) : episode   2/  2, Elapsed[0.01m], Remain[0.00m], score:2.209, aug_score:1.912\n",
      "[2024-04-02 15:49:25] CVRPTester.py(136) :  *** Test Done *** \n",
      "[2024-04-02 15:49:25] CVRPTester.py(137) :  NO-AUG SCORE: 2.2090 \n",
      "[2024-04-02 15:49:25] CVRPTester.py(138) :  AUGMENTATION SCORE: 1.9119 \n",
      ">> Evaluation on ../../../../VRP-Omni-modified/Vrp-Set-CMT/CMT-n200 finished within 0.24s\n",
      ">> Save final results to res/CMT-n200\n",
      "Test on \" ../../../../VRP-Omni-modified/Vrp-Set-CMT/CMT-n200 \" Success\n",
      "-----------------------------------------------------------------------------------------------------------------\n",
      "[2024-04-02 15:49:28] test.py(107) : DEBUG_MODE: False\n",
      "[2024-04-02 15:49:28] test.py(108) : USE_CUDA: True, CUDA_DEVICE_NUM: 0\n",
      "[2024-04-02 15:49:28] test.py(109) : env_params{'problem_size': 100, 'pomo_size': 100}\n",
      "[2024-04-02 15:49:28] test.py(109) : model_params{'embedding_dim': 128, 'sqrt_embedding_dim': 11.313708498984761, 'encoder_layer_num': 6, 'qkv_dim': 16, 'head_num': 8, 'logit_clipping': 10, 'ff_hidden_dim': 512, 'eval_type': 'argmax'}\n",
      "[2024-04-02 15:49:28] test.py(109) : tester_params{'use_cuda': True, 'cuda_device_num': 0, 'model_load': {'path': './result/saved_CVRP100_model', 'epoch': 30500}, 'test_episodes': 1000, 'test_batch_size': 1, 'augmentation_enable': True, 'aug_factor': 8, 'aug_batch_size': 1, 'test_data_load': {'enable': False, 'filename': '../vrp100_test_seed1234.pt'}, 'test_set_path': '../../../../VRP-Omni-modified/Vrp-Set-CMT/CMT-n51', 'test_set_opt_sol_path': '../../../../VRP-Omni-modified/Vrp-Set-A/A-n33-sol', 'test_set_name': 'A-n33'}\n",
      "[2024-04-02 15:49:28] test.py(109) : logger_params{'log_file': {'desc': 'test_cvrp100', 'filename': 'log.txt', 'filepath': './result/20240402_164926_test_cvrp100'}}\n",
      "['../../../../VRP-Omni-modified/Vrp-Set-CMT/CMT-n51/CMT1.vrp', '../../../../VRP-Omni-modified/Vrp-Set-CMT/CMT-n51/CMT6.vrp']\n"
     ]
    },
    {
     "name": "stderr",
     "output_type": "stream",
     "text": [
      "/home/xunj/miniconda3/lib/python3.11/site-packages/torch/__init__.py:614: UserWarning: torch.set_default_tensor_type() is deprecated as of PyTorch 2.1, please use torch.set_default_dtype() and torch.set_default_device() as alternatives. (Triggered internally at /opt/conda/conda-bld/pytorch_1699449183005/work/torch/csrc/tensor/python_tensor.cpp:451.)\n",
      "  _C._set_default_tensor_type(t)\n"
     ]
    },
    {
     "name": "stdout",
     "output_type": "stream",
     "text": [
      "[2024-04-02 15:49:28] CVRPTester.py(130) : episode   1/  2, Elapsed[0.01m], Remain[0.01m], score:1.099, aug_score:0.838\n",
      "[2024-04-02 15:49:29] CVRPTester.py(130) : episode   2/  2, Elapsed[0.01m], Remain[0.00m], score:1.099, aug_score:0.838\n",
      "[2024-04-02 15:49:29] CVRPTester.py(136) :  *** Test Done *** \n",
      "[2024-04-02 15:49:29] CVRPTester.py(137) :  NO-AUG SCORE: 1.0994 \n",
      "[2024-04-02 15:49:29] CVRPTester.py(138) :  AUGMENTATION SCORE: 0.8382 \n",
      ">> Evaluation on ../../../../VRP-Omni-modified/Vrp-Set-CMT/CMT-n51 finished within 0.07s\n",
      ">> Save final results to res/CMT-n51\n",
      "Test on \" ../../../../VRP-Omni-modified/Vrp-Set-CMT/CMT-n51 \" Success\n",
      "-----------------------------------------------------------------------------------------------------------------\n",
      "[2024-04-02 15:49:31] test.py(107) : DEBUG_MODE: False\n",
      "[2024-04-02 15:49:31] test.py(108) : USE_CUDA: True, CUDA_DEVICE_NUM: 0\n",
      "[2024-04-02 15:49:31] test.py(109) : env_params{'problem_size': 100, 'pomo_size': 100}\n",
      "[2024-04-02 15:49:31] test.py(109) : model_params{'embedding_dim': 128, 'sqrt_embedding_dim': 11.313708498984761, 'encoder_layer_num': 6, 'qkv_dim': 16, 'head_num': 8, 'logit_clipping': 10, 'ff_hidden_dim': 512, 'eval_type': 'argmax'}\n",
      "[2024-04-02 15:49:31] test.py(109) : tester_params{'use_cuda': True, 'cuda_device_num': 0, 'model_load': {'path': './result/saved_CVRP100_model', 'epoch': 30500}, 'test_episodes': 1000, 'test_batch_size': 1, 'augmentation_enable': True, 'aug_factor': 8, 'aug_batch_size': 1, 'test_data_load': {'enable': False, 'filename': '../vrp100_test_seed1234.pt'}, 'test_set_path': '../../../../VRP-Omni-modified/Vrp-Set-CMT/CMT-n76', 'test_set_opt_sol_path': '../../../../VRP-Omni-modified/Vrp-Set-A/A-n33-sol', 'test_set_name': 'A-n33'}\n",
      "[2024-04-02 15:49:31] test.py(109) : logger_params{'log_file': {'desc': 'test_cvrp100', 'filename': 'log.txt', 'filepath': './result/20240402_164930_test_cvrp100'}}\n",
      "['../../../../VRP-Omni-modified/Vrp-Set-CMT/CMT-n76/CMT2.vrp', '../../../../VRP-Omni-modified/Vrp-Set-CMT/CMT-n76/CMT7.vrp']\n"
     ]
    },
    {
     "name": "stderr",
     "output_type": "stream",
     "text": [
      "/home/xunj/miniconda3/lib/python3.11/site-packages/torch/__init__.py:614: UserWarning: torch.set_default_tensor_type() is deprecated as of PyTorch 2.1, please use torch.set_default_dtype() and torch.set_default_device() as alternatives. (Triggered internally at /opt/conda/conda-bld/pytorch_1699449183005/work/torch/csrc/tensor/python_tensor.cpp:451.)\n",
      "  _C._set_default_tensor_type(t)\n"
     ]
    },
    {
     "name": "stdout",
     "output_type": "stream",
     "text": [
      "[2024-04-02 15:49:32] CVRPTester.py(130) : episode   1/  2, Elapsed[0.01m], Remain[0.01m], score:1.341, aug_score:1.273\n",
      "[2024-04-02 15:49:32] CVRPTester.py(130) : episode   2/  2, Elapsed[0.01m], Remain[0.00m], score:1.341, aug_score:1.273\n",
      "[2024-04-02 15:49:32] CVRPTester.py(136) :  *** Test Done *** \n",
      "[2024-04-02 15:49:32] CVRPTester.py(137) :  NO-AUG SCORE: 1.3408 \n",
      "[2024-04-02 15:49:32] CVRPTester.py(138) :  AUGMENTATION SCORE: 1.2731 \n",
      ">> Evaluation on ../../../../VRP-Omni-modified/Vrp-Set-CMT/CMT-n76 finished within 0.09s\n",
      ">> Save final results to res/CMT-n76\n",
      "Test on \" ../../../../VRP-Omni-modified/Vrp-Set-CMT/CMT-n76 \" Success\n",
      "-----------------------------------------------------------------------------------------------------------------\n",
      "[2024-04-02 15:49:34] test.py(107) : DEBUG_MODE: False\n",
      "[2024-04-02 15:49:34] test.py(108) : USE_CUDA: True, CUDA_DEVICE_NUM: 0\n",
      "[2024-04-02 15:49:34] test.py(109) : env_params{'problem_size': 100, 'pomo_size': 100}\n",
      "[2024-04-02 15:49:34] test.py(109) : model_params{'embedding_dim': 128, 'sqrt_embedding_dim': 11.313708498984761, 'encoder_layer_num': 6, 'qkv_dim': 16, 'head_num': 8, 'logit_clipping': 10, 'ff_hidden_dim': 512, 'eval_type': 'argmax'}\n",
      "[2024-04-02 15:49:34] test.py(109) : tester_params{'use_cuda': True, 'cuda_device_num': 0, 'model_load': {'path': './result/saved_CVRP100_model', 'epoch': 30500}, 'test_episodes': 1000, 'test_batch_size': 1, 'augmentation_enable': True, 'aug_factor': 8, 'aug_batch_size': 1, 'test_data_load': {'enable': False, 'filename': '../vrp100_test_seed1234.pt'}, 'test_set_path': '../../../../VRP-Omni-modified/Vrp-Set-D/D-n1001', 'test_set_opt_sol_path': '../../../../VRP-Omni-modified/Vrp-Set-A/A-n33-sol', 'test_set_name': 'A-n33'}\n",
      "[2024-04-02 15:49:34] test.py(109) : logger_params{'log_file': {'desc': 'test_cvrp100', 'filename': 'log.txt', 'filepath': './result/20240402_164933_test_cvrp100'}}\n",
      "['../../../../VRP-Omni-modified/Vrp-Set-D/D-n1001/Loggi-n1001-k31.vrp']\n"
     ]
    },
    {
     "name": "stderr",
     "output_type": "stream",
     "text": [
      "/home/xunj/miniconda3/lib/python3.11/site-packages/torch/__init__.py:614: UserWarning: torch.set_default_tensor_type() is deprecated as of PyTorch 2.1, please use torch.set_default_dtype() and torch.set_default_device() as alternatives. (Triggered internally at /opt/conda/conda-bld/pytorch_1699449183005/work/torch/csrc/tensor/python_tensor.cpp:451.)\n",
      "  _C._set_default_tensor_type(t)\n"
     ]
    },
    {
     "name": "stdout",
     "output_type": "stream",
     "text": [
      "[2024-04-02 15:49:40] CVRPTester.py(130) : episode   1/  1, Elapsed[0.09m], Remain[0.00m], score:118.721, aug_score:80.608\n",
      "[2024-04-02 15:49:40] CVRPTester.py(136) :  *** Test Done *** \n",
      "[2024-04-02 15:49:40] CVRPTester.py(137) :  NO-AUG SCORE: 118.7210 \n",
      "[2024-04-02 15:49:40] CVRPTester.py(138) :  AUGMENTATION SCORE: 80.6084 \n",
      ">> Evaluation on ../../../../VRP-Omni-modified/Vrp-Set-D/D-n1001 finished within 5.21s\n",
      ">> Save final results to res/D-n1001\n",
      "Test on \" ../../../../VRP-Omni-modified/Vrp-Set-D/D-n1001 \" Success\n",
      "-----------------------------------------------------------------------------------------------------------------\n",
      "[2024-04-02 15:49:42] test.py(107) : DEBUG_MODE: False\n",
      "[2024-04-02 15:49:42] test.py(108) : USE_CUDA: True, CUDA_DEVICE_NUM: 0\n",
      "[2024-04-02 15:49:42] test.py(109) : env_params{'problem_size': 100, 'pomo_size': 100}\n",
      "[2024-04-02 15:49:42] test.py(109) : model_params{'embedding_dim': 128, 'sqrt_embedding_dim': 11.313708498984761, 'encoder_layer_num': 6, 'qkv_dim': 16, 'head_num': 8, 'logit_clipping': 10, 'ff_hidden_dim': 512, 'eval_type': 'argmax'}\n",
      "[2024-04-02 15:49:42] test.py(109) : tester_params{'use_cuda': True, 'cuda_device_num': 0, 'model_load': {'path': './result/saved_CVRP100_model', 'epoch': 30500}, 'test_episodes': 1000, 'test_batch_size': 1, 'augmentation_enable': True, 'aug_factor': 8, 'aug_batch_size': 1, 'test_data_load': {'enable': False, 'filename': '../vrp100_test_seed1234.pt'}, 'test_set_path': '../../../../VRP-Omni-modified/Vrp-Set-D/D-n242', 'test_set_opt_sol_path': '../../../../VRP-Omni-modified/Vrp-Set-A/A-n33-sol', 'test_set_name': 'A-n33'}\n",
      "[2024-04-02 15:49:42] test.py(109) : logger_params{'log_file': {'desc': 'test_cvrp100', 'filename': 'log.txt', 'filepath': './result/20240402_164941_test_cvrp100'}}\n",
      "['../../../../VRP-Omni-modified/Vrp-Set-D/D-n242/ORTEC-n242-k12.vrp']\n"
     ]
    },
    {
     "name": "stderr",
     "output_type": "stream",
     "text": [
      "/home/xunj/miniconda3/lib/python3.11/site-packages/torch/__init__.py:614: UserWarning: torch.set_default_tensor_type() is deprecated as of PyTorch 2.1, please use torch.set_default_dtype() and torch.set_default_device() as alternatives. (Triggered internally at /opt/conda/conda-bld/pytorch_1699449183005/work/torch/csrc/tensor/python_tensor.cpp:451.)\n",
      "  _C._set_default_tensor_type(t)\n"
     ]
    },
    {
     "name": "stdout",
     "output_type": "stream",
     "text": [
      "[2024-04-02 15:49:43] CVRPTester.py(130) : episode   1/  1, Elapsed[0.01m], Remain[0.00m], score:19.067, aug_score:18.771\n",
      "[2024-04-02 15:49:43] CVRPTester.py(136) :  *** Test Done *** \n",
      "[2024-04-02 15:49:43] CVRPTester.py(137) :  NO-AUG SCORE: 19.0665 \n",
      "[2024-04-02 15:49:43] CVRPTester.py(138) :  AUGMENTATION SCORE: 18.7710 \n",
      ">> Evaluation on ../../../../VRP-Omni-modified/Vrp-Set-D/D-n242 finished within 0.52s\n",
      ">> Save final results to res/D-n242\n",
      "Test on \" ../../../../VRP-Omni-modified/Vrp-Set-D/D-n242 \" Success\n",
      "-----------------------------------------------------------------------------------------------------------------\n",
      "[2024-04-02 15:49:46] test.py(107) : DEBUG_MODE: False\n",
      "[2024-04-02 15:49:46] test.py(108) : USE_CUDA: True, CUDA_DEVICE_NUM: 0\n",
      "[2024-04-02 15:49:46] test.py(109) : env_params{'problem_size': 100, 'pomo_size': 100}\n",
      "[2024-04-02 15:49:46] test.py(109) : model_params{'embedding_dim': 128, 'sqrt_embedding_dim': 11.313708498984761, 'encoder_layer_num': 6, 'qkv_dim': 16, 'head_num': 8, 'logit_clipping': 10, 'ff_hidden_dim': 512, 'eval_type': 'argmax'}\n",
      "[2024-04-02 15:49:46] test.py(109) : tester_params{'use_cuda': True, 'cuda_device_num': 0, 'model_load': {'path': './result/saved_CVRP100_model', 'epoch': 30500}, 'test_episodes': 1000, 'test_batch_size': 1, 'augmentation_enable': True, 'aug_factor': 8, 'aug_batch_size': 1, 'test_data_load': {'enable': False, 'filename': '../vrp100_test_seed1234.pt'}, 'test_set_path': '../../../../VRP-Omni-modified/Vrp-Set-D/D-n323', 'test_set_opt_sol_path': '../../../../VRP-Omni-modified/Vrp-Set-A/A-n33-sol', 'test_set_name': 'A-n33'}\n",
      "[2024-04-02 15:49:46] test.py(109) : logger_params{'log_file': {'desc': 'test_cvrp100', 'filename': 'log.txt', 'filepath': './result/20240402_164944_test_cvrp100'}}\n",
      "['../../../../VRP-Omni-modified/Vrp-Set-D/D-n323/ORTEC-n323-k21.vrp']\n"
     ]
    },
    {
     "name": "stderr",
     "output_type": "stream",
     "text": [
      "/home/xunj/miniconda3/lib/python3.11/site-packages/torch/__init__.py:614: UserWarning: torch.set_default_tensor_type() is deprecated as of PyTorch 2.1, please use torch.set_default_dtype() and torch.set_default_device() as alternatives. (Triggered internally at /opt/conda/conda-bld/pytorch_1699449183005/work/torch/csrc/tensor/python_tensor.cpp:451.)\n",
      "  _C._set_default_tensor_type(t)\n"
     ]
    },
    {
     "name": "stdout",
     "output_type": "stream",
     "text": [
      "[2024-04-02 15:49:47] CVRPTester.py(130) : episode   1/  1, Elapsed[0.01m], Remain[0.00m], score:25.654, aug_score:25.552\n",
      "[2024-04-02 15:49:47] CVRPTester.py(136) :  *** Test Done *** \n",
      "[2024-04-02 15:49:47] CVRPTester.py(137) :  NO-AUG SCORE: 25.6535 \n",
      "[2024-04-02 15:49:47] CVRPTester.py(138) :  AUGMENTATION SCORE: 25.5523 \n",
      ">> Evaluation on ../../../../VRP-Omni-modified/Vrp-Set-D/D-n323 finished within 0.61s\n",
      ">> Save final results to res/D-n323\n",
      "Test on \" ../../../../VRP-Omni-modified/Vrp-Set-D/D-n323 \" Success\n",
      "-----------------------------------------------------------------------------------------------------------------\n",
      "[2024-04-02 15:49:49] test.py(107) : DEBUG_MODE: False\n",
      "[2024-04-02 15:49:49] test.py(108) : USE_CUDA: True, CUDA_DEVICE_NUM: 0\n",
      "[2024-04-02 15:49:49] test.py(109) : env_params{'problem_size': 100, 'pomo_size': 100}\n",
      "[2024-04-02 15:49:49] test.py(109) : model_params{'embedding_dim': 128, 'sqrt_embedding_dim': 11.313708498984761, 'encoder_layer_num': 6, 'qkv_dim': 16, 'head_num': 8, 'logit_clipping': 10, 'ff_hidden_dim': 512, 'eval_type': 'argmax'}\n",
      "[2024-04-02 15:49:49] test.py(109) : tester_params{'use_cuda': True, 'cuda_device_num': 0, 'model_load': {'path': './result/saved_CVRP100_model', 'epoch': 30500}, 'test_episodes': 1000, 'test_batch_size': 1, 'augmentation_enable': True, 'aug_factor': 8, 'aug_batch_size': 1, 'test_data_load': {'enable': False, 'filename': '../vrp100_test_seed1234.pt'}, 'test_set_path': '../../../../VRP-Omni-modified/Vrp-Set-D/D-n401', 'test_set_opt_sol_path': '../../../../VRP-Omni-modified/Vrp-Set-A/A-n33-sol', 'test_set_name': 'A-n33'}\n",
      "[2024-04-02 15:49:49] test.py(109) : logger_params{'log_file': {'desc': 'test_cvrp100', 'filename': 'log.txt', 'filepath': './result/20240402_164948_test_cvrp100'}}\n",
      "['../../../../VRP-Omni-modified/Vrp-Set-D/D-n401/Loggi-n401-k23.vrp']\n"
     ]
    },
    {
     "name": "stderr",
     "output_type": "stream",
     "text": [
      "/home/xunj/miniconda3/lib/python3.11/site-packages/torch/__init__.py:614: UserWarning: torch.set_default_tensor_type() is deprecated as of PyTorch 2.1, please use torch.set_default_dtype() and torch.set_default_device() as alternatives. (Triggered internally at /opt/conda/conda-bld/pytorch_1699449183005/work/torch/csrc/tensor/python_tensor.cpp:451.)\n",
      "  _C._set_default_tensor_type(t)\n"
     ]
    },
    {
     "name": "stdout",
     "output_type": "stream",
     "text": [
      "[2024-04-02 15:49:50] CVRPTester.py(130) : episode   1/  1, Elapsed[0.01m], Remain[0.00m], score:44.062, aug_score:42.560\n",
      "[2024-04-02 15:49:50] CVRPTester.py(136) :  *** Test Done *** \n",
      "[2024-04-02 15:49:50] CVRPTester.py(137) :  NO-AUG SCORE: 44.0616 \n",
      "[2024-04-02 15:49:50] CVRPTester.py(138) :  AUGMENTATION SCORE: 42.5598 \n",
      ">> Evaluation on ../../../../VRP-Omni-modified/Vrp-Set-D/D-n401 finished within 0.79s\n",
      ">> Save final results to res/D-n401\n",
      "Test on \" ../../../../VRP-Omni-modified/Vrp-Set-D/D-n401 \" Success\n",
      "-----------------------------------------------------------------------------------------------------------------\n",
      "[2024-04-02 15:49:53] test.py(107) : DEBUG_MODE: False\n",
      "[2024-04-02 15:49:53] test.py(108) : USE_CUDA: True, CUDA_DEVICE_NUM: 0\n",
      "[2024-04-02 15:49:53] test.py(109) : env_params{'problem_size': 100, 'pomo_size': 100}\n",
      "[2024-04-02 15:49:53] test.py(109) : model_params{'embedding_dim': 128, 'sqrt_embedding_dim': 11.313708498984761, 'encoder_layer_num': 6, 'qkv_dim': 16, 'head_num': 8, 'logit_clipping': 10, 'ff_hidden_dim': 512, 'eval_type': 'argmax'}\n",
      "[2024-04-02 15:49:53] test.py(109) : tester_params{'use_cuda': True, 'cuda_device_num': 0, 'model_load': {'path': './result/saved_CVRP100_model', 'epoch': 30500}, 'test_episodes': 1000, 'test_batch_size': 1, 'augmentation_enable': True, 'aug_factor': 8, 'aug_batch_size': 1, 'test_data_load': {'enable': False, 'filename': '../vrp100_test_seed1234.pt'}, 'test_set_path': '../../../../VRP-Omni-modified/Vrp-Set-D/D-n405', 'test_set_opt_sol_path': '../../../../VRP-Omni-modified/Vrp-Set-A/A-n33-sol', 'test_set_name': 'A-n33'}\n",
      "[2024-04-02 15:49:53] test.py(109) : logger_params{'log_file': {'desc': 'test_cvrp100', 'filename': 'log.txt', 'filepath': './result/20240402_164951_test_cvrp100'}}\n",
      "['../../../../VRP-Omni-modified/Vrp-Set-D/D-n405/ORTEC-n405-k18.vrp']\n"
     ]
    },
    {
     "name": "stderr",
     "output_type": "stream",
     "text": [
      "/home/xunj/miniconda3/lib/python3.11/site-packages/torch/__init__.py:614: UserWarning: torch.set_default_tensor_type() is deprecated as of PyTorch 2.1, please use torch.set_default_dtype() and torch.set_default_device() as alternatives. (Triggered internally at /opt/conda/conda-bld/pytorch_1699449183005/work/torch/csrc/tensor/python_tensor.cpp:451.)\n",
      "  _C._set_default_tensor_type(t)\n"
     ]
    },
    {
     "name": "stdout",
     "output_type": "stream",
     "text": [
      "[2024-04-02 15:49:54] CVRPTester.py(130) : episode   1/  1, Elapsed[0.01m], Remain[0.00m], score:25.116, aug_score:22.900\n",
      "[2024-04-02 15:49:54] CVRPTester.py(136) :  *** Test Done *** \n",
      "[2024-04-02 15:49:54] CVRPTester.py(137) :  NO-AUG SCORE: 25.1164 \n",
      "[2024-04-02 15:49:54] CVRPTester.py(138) :  AUGMENTATION SCORE: 22.9002 \n",
      ">> Evaluation on ../../../../VRP-Omni-modified/Vrp-Set-D/D-n405 finished within 0.77s\n",
      ">> Save final results to res/D-n405\n",
      "Test on \" ../../../../VRP-Omni-modified/Vrp-Set-D/D-n405 \" Success\n",
      "-----------------------------------------------------------------------------------------------------------------\n",
      "[2024-04-02 15:49:56] test.py(107) : DEBUG_MODE: False\n",
      "[2024-04-02 15:49:56] test.py(108) : USE_CUDA: True, CUDA_DEVICE_NUM: 0\n",
      "[2024-04-02 15:49:56] test.py(109) : env_params{'problem_size': 100, 'pomo_size': 100}\n",
      "[2024-04-02 15:49:56] test.py(109) : model_params{'embedding_dim': 128, 'sqrt_embedding_dim': 11.313708498984761, 'encoder_layer_num': 6, 'qkv_dim': 16, 'head_num': 8, 'logit_clipping': 10, 'ff_hidden_dim': 512, 'eval_type': 'argmax'}\n",
      "[2024-04-02 15:49:56] test.py(109) : tester_params{'use_cuda': True, 'cuda_device_num': 0, 'model_load': {'path': './result/saved_CVRP100_model', 'epoch': 30500}, 'test_episodes': 1000, 'test_batch_size': 1, 'augmentation_enable': True, 'aug_factor': 8, 'aug_batch_size': 1, 'test_data_load': {'enable': False, 'filename': '../vrp100_test_seed1234.pt'}, 'test_set_path': '../../../../VRP-Omni-modified/Vrp-Set-D/D-n455', 'test_set_opt_sol_path': '../../../../VRP-Omni-modified/Vrp-Set-A/A-n33-sol', 'test_set_name': 'A-n33'}\n",
      "[2024-04-02 15:49:56] test.py(109) : logger_params{'log_file': {'desc': 'test_cvrp100', 'filename': 'log.txt', 'filepath': './result/20240402_164955_test_cvrp100'}}\n",
      "['../../../../VRP-Omni-modified/Vrp-Set-D/D-n455/ORTEC-n455-k41.vrp']\n"
     ]
    },
    {
     "name": "stderr",
     "output_type": "stream",
     "text": [
      "/home/xunj/miniconda3/lib/python3.11/site-packages/torch/__init__.py:614: UserWarning: torch.set_default_tensor_type() is deprecated as of PyTorch 2.1, please use torch.set_default_dtype() and torch.set_default_device() as alternatives. (Triggered internally at /opt/conda/conda-bld/pytorch_1699449183005/work/torch/csrc/tensor/python_tensor.cpp:451.)\n",
      "  _C._set_default_tensor_type(t)\n"
     ]
    },
    {
     "name": "stdout",
     "output_type": "stream",
     "text": [
      "[2024-04-02 15:49:58] CVRPTester.py(130) : episode   1/  1, Elapsed[0.02m], Remain[0.00m], score:27.312, aug_score:27.296\n",
      "[2024-04-02 15:49:58] CVRPTester.py(136) :  *** Test Done *** \n",
      "[2024-04-02 15:49:58] CVRPTester.py(137) :  NO-AUG SCORE: 27.3121 \n",
      "[2024-04-02 15:49:58] CVRPTester.py(138) :  AUGMENTATION SCORE: 27.2964 \n",
      ">> Evaluation on ../../../../VRP-Omni-modified/Vrp-Set-D/D-n455 finished within 0.95s\n",
      ">> Save final results to res/D-n455\n",
      "Test on \" ../../../../VRP-Omni-modified/Vrp-Set-D/D-n455 \" Success\n",
      "-----------------------------------------------------------------------------------------------------------------\n",
      "[2024-04-02 15:50:00] test.py(107) : DEBUG_MODE: False\n",
      "[2024-04-02 15:50:00] test.py(108) : USE_CUDA: True, CUDA_DEVICE_NUM: 0\n",
      "[2024-04-02 15:50:00] test.py(109) : env_params{'problem_size': 100, 'pomo_size': 100}\n",
      "[2024-04-02 15:50:00] test.py(109) : model_params{'embedding_dim': 128, 'sqrt_embedding_dim': 11.313708498984761, 'encoder_layer_num': 6, 'qkv_dim': 16, 'head_num': 8, 'logit_clipping': 10, 'ff_hidden_dim': 512, 'eval_type': 'argmax'}\n",
      "[2024-04-02 15:50:00] test.py(109) : tester_params{'use_cuda': True, 'cuda_device_num': 0, 'model_load': {'path': './result/saved_CVRP100_model', 'epoch': 30500}, 'test_episodes': 1000, 'test_batch_size': 1, 'augmentation_enable': True, 'aug_factor': 8, 'aug_batch_size': 1, 'test_data_load': {'enable': False, 'filename': '../vrp100_test_seed1234.pt'}, 'test_set_path': '../../../../VRP-Omni-modified/Vrp-Set-D/D-n501', 'test_set_opt_sol_path': '../../../../VRP-Omni-modified/Vrp-Set-A/A-n33-sol', 'test_set_name': 'A-n33'}\n",
      "[2024-04-02 15:50:00] test.py(109) : logger_params{'log_file': {'desc': 'test_cvrp100', 'filename': 'log.txt', 'filepath': './result/20240402_164959_test_cvrp100'}}\n",
      "['../../../../VRP-Omni-modified/Vrp-Set-D/D-n501/Loggi-n501-k24.vrp']\n"
     ]
    },
    {
     "name": "stderr",
     "output_type": "stream",
     "text": [
      "/home/xunj/miniconda3/lib/python3.11/site-packages/torch/__init__.py:614: UserWarning: torch.set_default_tensor_type() is deprecated as of PyTorch 2.1, please use torch.set_default_dtype() and torch.set_default_device() as alternatives. (Triggered internally at /opt/conda/conda-bld/pytorch_1699449183005/work/torch/csrc/tensor/python_tensor.cpp:451.)\n",
      "  _C._set_default_tensor_type(t)\n"
     ]
    },
    {
     "name": "stdout",
     "output_type": "stream",
     "text": [
      "[2024-04-02 15:50:02] CVRPTester.py(130) : episode   1/  1, Elapsed[0.02m], Remain[0.00m], score:28.358, aug_score:25.903\n",
      "[2024-04-02 15:50:02] CVRPTester.py(136) :  *** Test Done *** \n",
      "[2024-04-02 15:50:02] CVRPTester.py(137) :  NO-AUG SCORE: 28.3579 \n",
      "[2024-04-02 15:50:02] CVRPTester.py(138) :  AUGMENTATION SCORE: 25.9032 \n",
      ">> Evaluation on ../../../../VRP-Omni-modified/Vrp-Set-D/D-n501 finished within 1.07s\n",
      ">> Save final results to res/D-n501\n",
      "Test on \" ../../../../VRP-Omni-modified/Vrp-Set-D/D-n501 \" Success\n",
      "-----------------------------------------------------------------------------------------------------------------\n",
      "[2024-04-02 15:50:04] test.py(107) : DEBUG_MODE: False\n",
      "[2024-04-02 15:50:04] test.py(108) : USE_CUDA: True, CUDA_DEVICE_NUM: 0\n",
      "[2024-04-02 15:50:04] test.py(109) : env_params{'problem_size': 100, 'pomo_size': 100}\n",
      "[2024-04-02 15:50:04] test.py(109) : model_params{'embedding_dim': 128, 'sqrt_embedding_dim': 11.313708498984761, 'encoder_layer_num': 6, 'qkv_dim': 16, 'head_num': 8, 'logit_clipping': 10, 'ff_hidden_dim': 512, 'eval_type': 'argmax'}\n",
      "[2024-04-02 15:50:04] test.py(109) : tester_params{'use_cuda': True, 'cuda_device_num': 0, 'model_load': {'path': './result/saved_CVRP100_model', 'epoch': 30500}, 'test_episodes': 1000, 'test_batch_size': 1, 'augmentation_enable': True, 'aug_factor': 8, 'aug_batch_size': 1, 'test_data_load': {'enable': False, 'filename': '../vrp100_test_seed1234.pt'}, 'test_set_path': '../../../../VRP-Omni-modified/Vrp-Set-D/D-n510', 'test_set_opt_sol_path': '../../../../VRP-Omni-modified/Vrp-Set-A/A-n33-sol', 'test_set_name': 'A-n33'}\n",
      "[2024-04-02 15:50:04] test.py(109) : logger_params{'log_file': {'desc': 'test_cvrp100', 'filename': 'log.txt', 'filepath': './result/20240402_165003_test_cvrp100'}}\n",
      "['../../../../VRP-Omni-modified/Vrp-Set-D/D-n510/ORTEC-n510-k23.vrp']\n"
     ]
    },
    {
     "name": "stderr",
     "output_type": "stream",
     "text": [
      "/home/xunj/miniconda3/lib/python3.11/site-packages/torch/__init__.py:614: UserWarning: torch.set_default_tensor_type() is deprecated as of PyTorch 2.1, please use torch.set_default_dtype() and torch.set_default_device() as alternatives. (Triggered internally at /opt/conda/conda-bld/pytorch_1699449183005/work/torch/csrc/tensor/python_tensor.cpp:451.)\n",
      "  _C._set_default_tensor_type(t)\n"
     ]
    },
    {
     "name": "stdout",
     "output_type": "stream",
     "text": [
      "[2024-04-02 15:50:06] CVRPTester.py(130) : episode   1/  1, Elapsed[0.02m], Remain[0.00m], score:42.510, aug_score:40.661\n",
      "[2024-04-02 15:50:06] CVRPTester.py(136) :  *** Test Done *** \n",
      "[2024-04-02 15:50:06] CVRPTester.py(137) :  NO-AUG SCORE: 42.5105 \n",
      "[2024-04-02 15:50:06] CVRPTester.py(138) :  AUGMENTATION SCORE: 40.6607 \n",
      ">> Evaluation on ../../../../VRP-Omni-modified/Vrp-Set-D/D-n510 finished within 1.10s\n",
      ">> Save final results to res/D-n510\n",
      "Test on \" ../../../../VRP-Omni-modified/Vrp-Set-D/D-n510 \" Success\n",
      "-----------------------------------------------------------------------------------------------------------------\n",
      "[2024-04-02 15:50:08] test.py(107) : DEBUG_MODE: False\n",
      "[2024-04-02 15:50:08] test.py(108) : USE_CUDA: True, CUDA_DEVICE_NUM: 0\n",
      "[2024-04-02 15:50:08] test.py(109) : env_params{'problem_size': 100, 'pomo_size': 100}\n",
      "[2024-04-02 15:50:08] test.py(109) : model_params{'embedding_dim': 128, 'sqrt_embedding_dim': 11.313708498984761, 'encoder_layer_num': 6, 'qkv_dim': 16, 'head_num': 8, 'logit_clipping': 10, 'ff_hidden_dim': 512, 'eval_type': 'argmax'}\n",
      "[2024-04-02 15:50:08] test.py(109) : tester_params{'use_cuda': True, 'cuda_device_num': 0, 'model_load': {'path': './result/saved_CVRP100_model', 'epoch': 30500}, 'test_episodes': 1000, 'test_batch_size': 1, 'augmentation_enable': True, 'aug_factor': 8, 'aug_batch_size': 1, 'test_data_load': {'enable': False, 'filename': '../vrp100_test_seed1234.pt'}, 'test_set_path': '../../../../VRP-Omni-modified/Vrp-Set-D/D-n601', 'test_set_opt_sol_path': '../../../../VRP-Omni-modified/Vrp-Set-A/A-n33-sol', 'test_set_name': 'A-n33'}\n",
      "[2024-04-02 15:50:08] test.py(109) : logger_params{'log_file': {'desc': 'test_cvrp100', 'filename': 'log.txt', 'filepath': './result/20240402_165007_test_cvrp100'}}\n",
      "['../../../../VRP-Omni-modified/Vrp-Set-D/D-n601/Loggi-n601-k19.vrp', '../../../../VRP-Omni-modified/Vrp-Set-D/D-n601/Loggi-n601-k42.vrp']\n"
     ]
    },
    {
     "name": "stderr",
     "output_type": "stream",
     "text": [
      "/home/xunj/miniconda3/lib/python3.11/site-packages/torch/__init__.py:614: UserWarning: torch.set_default_tensor_type() is deprecated as of PyTorch 2.1, please use torch.set_default_dtype() and torch.set_default_device() as alternatives. (Triggered internally at /opt/conda/conda-bld/pytorch_1699449183005/work/torch/csrc/tensor/python_tensor.cpp:451.)\n",
      "  _C._set_default_tensor_type(t)\n"
     ]
    },
    {
     "name": "stdout",
     "output_type": "stream",
     "text": [
      "[2024-04-02 15:50:10] CVRPTester.py(130) : episode   1/  2, Elapsed[0.03m], Remain[0.03m], score:59.418, aug_score:29.218\n",
      "[2024-04-02 15:50:11] CVRPTester.py(130) : episode   2/  2, Elapsed[0.05m], Remain[0.00m], score:57.852, aug_score:52.271\n",
      "[2024-04-02 15:50:11] CVRPTester.py(136) :  *** Test Done *** \n",
      "[2024-04-02 15:50:11] CVRPTester.py(137) :  NO-AUG SCORE: 58.6352 \n",
      "[2024-04-02 15:50:11] CVRPTester.py(138) :  AUGMENTATION SCORE: 40.7446 \n",
      ">> Evaluation on ../../../../VRP-Omni-modified/Vrp-Set-D/D-n601 finished within 1.24s\n",
      ">> Save final results to res/D-n601\n",
      "Test on \" ../../../../VRP-Omni-modified/Vrp-Set-D/D-n601 \" Success\n",
      "-----------------------------------------------------------------------------------------------------------------\n",
      "[2024-04-02 15:50:14] test.py(107) : DEBUG_MODE: False\n",
      "[2024-04-02 15:50:14] test.py(108) : USE_CUDA: True, CUDA_DEVICE_NUM: 0\n",
      "[2024-04-02 15:50:14] test.py(109) : env_params{'problem_size': 100, 'pomo_size': 100}\n",
      "[2024-04-02 15:50:14] test.py(109) : model_params{'embedding_dim': 128, 'sqrt_embedding_dim': 11.313708498984761, 'encoder_layer_num': 6, 'qkv_dim': 16, 'head_num': 8, 'logit_clipping': 10, 'ff_hidden_dim': 512, 'eval_type': 'argmax'}\n",
      "[2024-04-02 15:50:14] test.py(109) : tester_params{'use_cuda': True, 'cuda_device_num': 0, 'model_load': {'path': './result/saved_CVRP100_model', 'epoch': 30500}, 'test_episodes': 1000, 'test_batch_size': 1, 'augmentation_enable': True, 'aug_factor': 8, 'aug_batch_size': 1, 'test_data_load': {'enable': False, 'filename': '../vrp100_test_seed1234.pt'}, 'test_set_path': '../../../../VRP-Omni-modified/Vrp-Set-D/D-n701', 'test_set_opt_sol_path': '../../../../VRP-Omni-modified/Vrp-Set-A/A-n33-sol', 'test_set_name': 'A-n33'}\n",
      "[2024-04-02 15:50:14] test.py(109) : logger_params{'log_file': {'desc': 'test_cvrp100', 'filename': 'log.txt', 'filepath': './result/20240402_165012_test_cvrp100'}}\n",
      "['../../../../VRP-Omni-modified/Vrp-Set-D/D-n701/ORTEC-n701-k64.vrp']\n"
     ]
    },
    {
     "name": "stderr",
     "output_type": "stream",
     "text": [
      "/home/xunj/miniconda3/lib/python3.11/site-packages/torch/__init__.py:614: UserWarning: torch.set_default_tensor_type() is deprecated as of PyTorch 2.1, please use torch.set_default_dtype() and torch.set_default_device() as alternatives. (Triggered internally at /opt/conda/conda-bld/pytorch_1699449183005/work/torch/csrc/tensor/python_tensor.cpp:451.)\n",
      "  _C._set_default_tensor_type(t)\n"
     ]
    },
    {
     "name": "stdout",
     "output_type": "stream",
     "text": [
      "[2024-04-02 15:50:16] CVRPTester.py(130) : episode   1/  1, Elapsed[0.04m], Remain[0.00m], score:81.894, aug_score:62.353\n",
      "[2024-04-02 15:50:16] CVRPTester.py(136) :  *** Test Done *** \n",
      "[2024-04-02 15:50:16] CVRPTester.py(137) :  NO-AUG SCORE: 81.8938 \n",
      "[2024-04-02 15:50:16] CVRPTester.py(138) :  AUGMENTATION SCORE: 62.3535 \n",
      ">> Evaluation on ../../../../VRP-Omni-modified/Vrp-Set-D/D-n701 finished within 2.22s\n",
      ">> Save final results to res/D-n701\n",
      "Test on \" ../../../../VRP-Omni-modified/Vrp-Set-D/D-n701 \" Success\n",
      "-----------------------------------------------------------------------------------------------------------------\n",
      "[2024-04-02 15:50:19] test.py(107) : DEBUG_MODE: False\n",
      "[2024-04-02 15:50:19] test.py(108) : USE_CUDA: True, CUDA_DEVICE_NUM: 0\n",
      "[2024-04-02 15:50:19] test.py(109) : env_params{'problem_size': 100, 'pomo_size': 100}\n",
      "[2024-04-02 15:50:19] test.py(109) : model_params{'embedding_dim': 128, 'sqrt_embedding_dim': 11.313708498984761, 'encoder_layer_num': 6, 'qkv_dim': 16, 'head_num': 8, 'logit_clipping': 10, 'ff_hidden_dim': 512, 'eval_type': 'argmax'}\n",
      "[2024-04-02 15:50:19] test.py(109) : tester_params{'use_cuda': True, 'cuda_device_num': 0, 'model_load': {'path': './result/saved_CVRP100_model', 'epoch': 30500}, 'test_episodes': 1000, 'test_batch_size': 1, 'augmentation_enable': True, 'aug_factor': 8, 'aug_batch_size': 1, 'test_data_load': {'enable': False, 'filename': '../vrp100_test_seed1234.pt'}, 'test_set_path': '../../../../VRP-Omni-modified/Vrp-Set-D/D-n901', 'test_set_opt_sol_path': '../../../../VRP-Omni-modified/Vrp-Set-A/A-n33-sol', 'test_set_name': 'A-n33'}\n",
      "[2024-04-02 15:50:19] test.py(109) : logger_params{'log_file': {'desc': 'test_cvrp100', 'filename': 'log.txt', 'filepath': './result/20240402_165017_test_cvrp100'}}\n",
      "['../../../../VRP-Omni-modified/Vrp-Set-D/D-n901/Loggi-n901-k42.vrp']\n"
     ]
    },
    {
     "name": "stderr",
     "output_type": "stream",
     "text": [
      "/home/xunj/miniconda3/lib/python3.11/site-packages/torch/__init__.py:614: UserWarning: torch.set_default_tensor_type() is deprecated as of PyTorch 2.1, please use torch.set_default_dtype() and torch.set_default_device() as alternatives. (Triggered internally at /opt/conda/conda-bld/pytorch_1699449183005/work/torch/csrc/tensor/python_tensor.cpp:451.)\n",
      "  _C._set_default_tensor_type(t)\n"
     ]
    },
    {
     "name": "stdout",
     "output_type": "stream",
     "text": [
      "[2024-04-02 15:50:23] CVRPTester.py(130) : episode   1/  1, Elapsed[0.07m], Remain[0.00m], score:108.859, aug_score:84.190\n",
      "[2024-04-02 15:50:23] CVRPTester.py(136) :  *** Test Done *** \n",
      "[2024-04-02 15:50:23] CVRPTester.py(137) :  NO-AUG SCORE: 108.8593 \n",
      "[2024-04-02 15:50:23] CVRPTester.py(138) :  AUGMENTATION SCORE: 84.1898 \n",
      ">> Evaluation on ../../../../VRP-Omni-modified/Vrp-Set-D/D-n901 finished within 4.02s\n",
      ">> Save final results to res/D-n901\n",
      "Test on \" ../../../../VRP-Omni-modified/Vrp-Set-D/D-n901 \" Success\n",
      "-----------------------------------------------------------------------------------------------------------------\n",
      "[2024-04-02 15:50:26] test.py(107) : DEBUG_MODE: False\n",
      "[2024-04-02 15:50:26] test.py(108) : USE_CUDA: True, CUDA_DEVICE_NUM: 0\n",
      "[2024-04-02 15:50:26] test.py(109) : env_params{'problem_size': 100, 'pomo_size': 100}\n",
      "[2024-04-02 15:50:26] test.py(109) : model_params{'embedding_dim': 128, 'sqrt_embedding_dim': 11.313708498984761, 'encoder_layer_num': 6, 'qkv_dim': 16, 'head_num': 8, 'logit_clipping': 10, 'ff_hidden_dim': 512, 'eval_type': 'argmax'}\n",
      "[2024-04-02 15:50:26] test.py(109) : tester_params{'use_cuda': True, 'cuda_device_num': 0, 'model_load': {'path': './result/saved_CVRP100_model', 'epoch': 30500}, 'test_episodes': 1000, 'test_batch_size': 1, 'augmentation_enable': True, 'aug_factor': 8, 'aug_batch_size': 1, 'test_data_load': {'enable': False, 'filename': '../vrp100_test_seed1234.pt'}, 'test_set_path': '../../../../VRP-Omni-modified/Vrp-Set-E/E-n10', 'test_set_opt_sol_path': '../../../../VRP-Omni-modified/Vrp-Set-A/A-n33-sol', 'test_set_name': 'A-n33'}\n",
      "[2024-04-02 15:50:26] test.py(109) : logger_params{'log_file': {'desc': 'test_cvrp100', 'filename': 'log.txt', 'filepath': './result/20240402_165024_test_cvrp100'}}\n",
      "['../../../../VRP-Omni-modified/Vrp-Set-E/E-n10/E-n101-k14.vrp', '../../../../VRP-Omni-modified/Vrp-Set-E/E-n10/E-n101-k8.vrp']\n"
     ]
    },
    {
     "name": "stderr",
     "output_type": "stream",
     "text": [
      "/home/xunj/miniconda3/lib/python3.11/site-packages/torch/__init__.py:614: UserWarning: torch.set_default_tensor_type() is deprecated as of PyTorch 2.1, please use torch.set_default_dtype() and torch.set_default_device() as alternatives. (Triggered internally at /opt/conda/conda-bld/pytorch_1699449183005/work/torch/csrc/tensor/python_tensor.cpp:451.)\n",
      "  _C._set_default_tensor_type(t)\n"
     ]
    },
    {
     "name": "stdout",
     "output_type": "stream",
     "text": [
      "[2024-04-02 15:50:27] CVRPTester.py(130) : episode   1/  2, Elapsed[0.01m], Remain[0.01m], score:1.994, aug_score:1.701\n",
      "[2024-04-02 15:50:27] CVRPTester.py(130) : episode   2/  2, Elapsed[0.01m], Remain[0.00m], score:1.324, aug_score:1.092\n",
      "[2024-04-02 15:50:27] CVRPTester.py(136) :  *** Test Done *** \n",
      "[2024-04-02 15:50:27] CVRPTester.py(137) :  NO-AUG SCORE: 1.6592 \n",
      "[2024-04-02 15:50:27] CVRPTester.py(138) :  AUGMENTATION SCORE: 1.3967 \n",
      ">> Evaluation on ../../../../VRP-Omni-modified/Vrp-Set-E/E-n10 finished within 0.12s\n",
      ">> Save final results to res/E-n10\n",
      "Test on \" ../../../../VRP-Omni-modified/Vrp-Set-E/E-n10 \" Success\n",
      "-----------------------------------------------------------------------------------------------------------------\n",
      "[2024-04-02 15:50:29] test.py(107) : DEBUG_MODE: False\n",
      "[2024-04-02 15:50:29] test.py(108) : USE_CUDA: True, CUDA_DEVICE_NUM: 0\n",
      "[2024-04-02 15:50:29] test.py(109) : env_params{'problem_size': 100, 'pomo_size': 100}\n",
      "[2024-04-02 15:50:29] test.py(109) : model_params{'embedding_dim': 128, 'sqrt_embedding_dim': 11.313708498984761, 'encoder_layer_num': 6, 'qkv_dim': 16, 'head_num': 8, 'logit_clipping': 10, 'ff_hidden_dim': 512, 'eval_type': 'argmax'}\n",
      "[2024-04-02 15:50:29] test.py(109) : tester_params{'use_cuda': True, 'cuda_device_num': 0, 'model_load': {'path': './result/saved_CVRP100_model', 'epoch': 30500}, 'test_episodes': 1000, 'test_batch_size': 1, 'augmentation_enable': True, 'aug_factor': 8, 'aug_batch_size': 1, 'test_data_load': {'enable': False, 'filename': '../vrp100_test_seed1234.pt'}, 'test_set_path': '../../../../VRP-Omni-modified/Vrp-Set-E/E-n13', 'test_set_opt_sol_path': '../../../../VRP-Omni-modified/Vrp-Set-A/A-n33-sol', 'test_set_name': 'A-n33'}\n",
      "[2024-04-02 15:50:29] test.py(109) : logger_params{'log_file': {'desc': 'test_cvrp100', 'filename': 'log.txt', 'filepath': './result/20240402_165028_test_cvrp100'}}\n",
      "['../../../../VRP-Omni-modified/Vrp-Set-E/E-n13/E-n13-k4.vrp']\n"
     ]
    },
    {
     "name": "stderr",
     "output_type": "stream",
     "text": [
      "/home/xunj/miniconda3/lib/python3.11/site-packages/torch/__init__.py:614: UserWarning: torch.set_default_tensor_type() is deprecated as of PyTorch 2.1, please use torch.set_default_dtype() and torch.set_default_device() as alternatives. (Triggered internally at /opt/conda/conda-bld/pytorch_1699449183005/work/torch/csrc/tensor/python_tensor.cpp:451.)\n",
      "  _C._set_default_tensor_type(t)\n",
      "Traceback (most recent call last):\n",
      "  File \"/home/xunj/GradWork/POMO-master/NEW_py_ver/CVRP/POMO/test.py\", line 132, in <module>\n",
      "    main()\n",
      "  File \"/home/xunj/GradWork/POMO-master/NEW_py_ver/CVRP/POMO/test.py\", line 91, in main\n",
      "    tester = Tester(env_params=env_params,\n",
      "             ^^^^^^^^^^^^^^^^^^^^^^^^^^^^^\n",
      "  File \"/home/xunj/GradWork/POMO-master/NEW_py_ver/CVRP/POMO/CVRPTester.py\", line 65, in __init__\n",
      "    self.test_data = self.pack_cvrplib(self.path_list)[: self.tester_params['test_episodes']]\n",
      "                     ^^^^^^^^^^^^^^^^^^^^^^^^^^^^^^^^^\n",
      "  File \"/home/xunj/GradWork/POMO-master/NEW_py_ver/CVRP/POMO/CVRPTester.py\", line 213, in pack_cvrplib\n",
      "    original_locations = locations[:, 1:]\n",
      "                         ^^^^^^^^^\n",
      "UnboundLocalError: cannot access local variable 'locations' where it is not associated with a value\n"
     ]
    },
    {
     "name": "stdout",
     "output_type": "stream",
     "text": [
      "Check out issue on set:  ../../../../VRP-Omni-modified/Vrp-Set-E/E-n13\n",
      "[2024-04-02 15:50:32] test.py(107) : DEBUG_MODE: False\n",
      "[2024-04-02 15:50:32] test.py(108) : USE_CUDA: True, CUDA_DEVICE_NUM: 0\n",
      "[2024-04-02 15:50:32] test.py(109) : env_params{'problem_size': 100, 'pomo_size': 100}\n",
      "[2024-04-02 15:50:32] test.py(109) : model_params{'embedding_dim': 128, 'sqrt_embedding_dim': 11.313708498984761, 'encoder_layer_num': 6, 'qkv_dim': 16, 'head_num': 8, 'logit_clipping': 10, 'ff_hidden_dim': 512, 'eval_type': 'argmax'}\n",
      "[2024-04-02 15:50:32] test.py(109) : tester_params{'use_cuda': True, 'cuda_device_num': 0, 'model_load': {'path': './result/saved_CVRP100_model', 'epoch': 30500}, 'test_episodes': 1000, 'test_batch_size': 1, 'augmentation_enable': True, 'aug_factor': 8, 'aug_batch_size': 1, 'test_data_load': {'enable': False, 'filename': '../vrp100_test_seed1234.pt'}, 'test_set_path': '../../../../VRP-Omni-modified/Vrp-Set-E/E-n22', 'test_set_opt_sol_path': '../../../../VRP-Omni-modified/Vrp-Set-A/A-n33-sol', 'test_set_name': 'A-n33'}\n",
      "[2024-04-02 15:50:32] test.py(109) : logger_params{'log_file': {'desc': 'test_cvrp100', 'filename': 'log.txt', 'filepath': './result/20240402_165030_test_cvrp100'}}\n",
      "['../../../../VRP-Omni-modified/Vrp-Set-E/E-n22/E-n22-k4.vrp']\n"
     ]
    },
    {
     "name": "stderr",
     "output_type": "stream",
     "text": [
      "/home/xunj/miniconda3/lib/python3.11/site-packages/torch/__init__.py:614: UserWarning: torch.set_default_tensor_type() is deprecated as of PyTorch 2.1, please use torch.set_default_dtype() and torch.set_default_device() as alternatives. (Triggered internally at /opt/conda/conda-bld/pytorch_1699449183005/work/torch/csrc/tensor/python_tensor.cpp:451.)\n",
      "  _C._set_default_tensor_type(t)\n"
     ]
    },
    {
     "name": "stdout",
     "output_type": "stream",
     "text": [
      "[2024-04-02 15:50:32] CVRPTester.py(130) : episode   1/  1, Elapsed[0.01m], Remain[0.00m], score:0.657, aug_score:0.591\n",
      "[2024-04-02 15:50:32] CVRPTester.py(136) :  *** Test Done *** \n",
      "[2024-04-02 15:50:32] CVRPTester.py(137) :  NO-AUG SCORE: 0.6570 \n",
      "[2024-04-02 15:50:32] CVRPTester.py(138) :  AUGMENTATION SCORE: 0.5909 \n",
      ">> Evaluation on ../../../../VRP-Omni-modified/Vrp-Set-E/E-n22 finished within 0.33s\n",
      ">> Save final results to res/E-n22\n",
      "Test on \" ../../../../VRP-Omni-modified/Vrp-Set-E/E-n22 \" Success\n",
      "-----------------------------------------------------------------------------------------------------------------\n",
      "[2024-04-02 15:50:35] test.py(107) : DEBUG_MODE: False\n",
      "[2024-04-02 15:50:35] test.py(108) : USE_CUDA: True, CUDA_DEVICE_NUM: 0\n",
      "[2024-04-02 15:50:35] test.py(109) : env_params{'problem_size': 100, 'pomo_size': 100}\n",
      "[2024-04-02 15:50:35] test.py(109) : model_params{'embedding_dim': 128, 'sqrt_embedding_dim': 11.313708498984761, 'encoder_layer_num': 6, 'qkv_dim': 16, 'head_num': 8, 'logit_clipping': 10, 'ff_hidden_dim': 512, 'eval_type': 'argmax'}\n",
      "[2024-04-02 15:50:35] test.py(109) : tester_params{'use_cuda': True, 'cuda_device_num': 0, 'model_load': {'path': './result/saved_CVRP100_model', 'epoch': 30500}, 'test_episodes': 1000, 'test_batch_size': 1, 'augmentation_enable': True, 'aug_factor': 8, 'aug_batch_size': 1, 'test_data_load': {'enable': False, 'filename': '../vrp100_test_seed1234.pt'}, 'test_set_path': '../../../../VRP-Omni-modified/Vrp-Set-E/E-n23', 'test_set_opt_sol_path': '../../../../VRP-Omni-modified/Vrp-Set-A/A-n33-sol', 'test_set_name': 'A-n33'}\n",
      "[2024-04-02 15:50:35] test.py(109) : logger_params{'log_file': {'desc': 'test_cvrp100', 'filename': 'log.txt', 'filepath': './result/20240402_165033_test_cvrp100'}}\n",
      "['../../../../VRP-Omni-modified/Vrp-Set-E/E-n23/E-n23-k3.vrp']\n"
     ]
    },
    {
     "name": "stderr",
     "output_type": "stream",
     "text": [
      "/home/xunj/miniconda3/lib/python3.11/site-packages/torch/__init__.py:614: UserWarning: torch.set_default_tensor_type() is deprecated as of PyTorch 2.1, please use torch.set_default_dtype() and torch.set_default_device() as alternatives. (Triggered internally at /opt/conda/conda-bld/pytorch_1699449183005/work/torch/csrc/tensor/python_tensor.cpp:451.)\n",
      "  _C._set_default_tensor_type(t)\n"
     ]
    },
    {
     "name": "stdout",
     "output_type": "stream",
     "text": [
      "[2024-04-02 15:50:35] CVRPTester.py(130) : episode   1/  1, Elapsed[0.01m], Remain[0.00m], score:0.993, aug_score:0.854\n",
      "[2024-04-02 15:50:35] CVRPTester.py(136) :  *** Test Done *** \n",
      "[2024-04-02 15:50:35] CVRPTester.py(137) :  NO-AUG SCORE: 0.9931 \n",
      "[2024-04-02 15:50:35] CVRPTester.py(138) :  AUGMENTATION SCORE: 0.8539 \n",
      ">> Evaluation on ../../../../VRP-Omni-modified/Vrp-Set-E/E-n23 finished within 0.30s\n",
      ">> Save final results to res/E-n23\n",
      "Test on \" ../../../../VRP-Omni-modified/Vrp-Set-E/E-n23 \" Success\n",
      "-----------------------------------------------------------------------------------------------------------------\n",
      "[2024-04-02 15:50:38] test.py(107) : DEBUG_MODE: False\n",
      "[2024-04-02 15:50:38] test.py(108) : USE_CUDA: True, CUDA_DEVICE_NUM: 0\n",
      "[2024-04-02 15:50:38] test.py(109) : env_params{'problem_size': 100, 'pomo_size': 100}\n",
      "[2024-04-02 15:50:38] test.py(109) : model_params{'embedding_dim': 128, 'sqrt_embedding_dim': 11.313708498984761, 'encoder_layer_num': 6, 'qkv_dim': 16, 'head_num': 8, 'logit_clipping': 10, 'ff_hidden_dim': 512, 'eval_type': 'argmax'}\n",
      "[2024-04-02 15:50:38] test.py(109) : tester_params{'use_cuda': True, 'cuda_device_num': 0, 'model_load': {'path': './result/saved_CVRP100_model', 'epoch': 30500}, 'test_episodes': 1000, 'test_batch_size': 1, 'augmentation_enable': True, 'aug_factor': 8, 'aug_batch_size': 1, 'test_data_load': {'enable': False, 'filename': '../vrp100_test_seed1234.pt'}, 'test_set_path': '../../../../VRP-Omni-modified/Vrp-Set-E/E-n30', 'test_set_opt_sol_path': '../../../../VRP-Omni-modified/Vrp-Set-A/A-n33-sol', 'test_set_name': 'A-n33'}\n",
      "[2024-04-02 15:50:38] test.py(109) : logger_params{'log_file': {'desc': 'test_cvrp100', 'filename': 'log.txt', 'filepath': './result/20240402_165036_test_cvrp100'}}\n",
      "['../../../../VRP-Omni-modified/Vrp-Set-E/E-n30/E-n30-k3.vrp']\n"
     ]
    },
    {
     "name": "stderr",
     "output_type": "stream",
     "text": [
      "/home/xunj/miniconda3/lib/python3.11/site-packages/torch/__init__.py:614: UserWarning: torch.set_default_tensor_type() is deprecated as of PyTorch 2.1, please use torch.set_default_dtype() and torch.set_default_device() as alternatives. (Triggered internally at /opt/conda/conda-bld/pytorch_1699449183005/work/torch/csrc/tensor/python_tensor.cpp:451.)\n",
      "  _C._set_default_tensor_type(t)\n"
     ]
    },
    {
     "name": "stdout",
     "output_type": "stream",
     "text": [
      "[2024-04-02 15:50:38] CVRPTester.py(130) : episode   1/  1, Elapsed[0.01m], Remain[0.00m], score:1.035, aug_score:0.922\n",
      "[2024-04-02 15:50:38] CVRPTester.py(136) :  *** Test Done *** \n",
      "[2024-04-02 15:50:38] CVRPTester.py(137) :  NO-AUG SCORE: 1.0348 \n",
      "[2024-04-02 15:50:38] CVRPTester.py(138) :  AUGMENTATION SCORE: 0.9223 \n",
      ">> Evaluation on ../../../../VRP-Omni-modified/Vrp-Set-E/E-n30 finished within 0.31s\n",
      ">> Save final results to res/E-n30\n",
      "Test on \" ../../../../VRP-Omni-modified/Vrp-Set-E/E-n30 \" Success\n",
      "-----------------------------------------------------------------------------------------------------------------\n",
      "[2024-04-02 15:50:41] test.py(107) : DEBUG_MODE: False\n",
      "[2024-04-02 15:50:41] test.py(108) : USE_CUDA: True, CUDA_DEVICE_NUM: 0\n",
      "[2024-04-02 15:50:41] test.py(109) : env_params{'problem_size': 100, 'pomo_size': 100}\n",
      "[2024-04-02 15:50:41] test.py(109) : model_params{'embedding_dim': 128, 'sqrt_embedding_dim': 11.313708498984761, 'encoder_layer_num': 6, 'qkv_dim': 16, 'head_num': 8, 'logit_clipping': 10, 'ff_hidden_dim': 512, 'eval_type': 'argmax'}\n",
      "[2024-04-02 15:50:41] test.py(109) : tester_params{'use_cuda': True, 'cuda_device_num': 0, 'model_load': {'path': './result/saved_CVRP100_model', 'epoch': 30500}, 'test_episodes': 1000, 'test_batch_size': 1, 'augmentation_enable': True, 'aug_factor': 8, 'aug_batch_size': 1, 'test_data_load': {'enable': False, 'filename': '../vrp100_test_seed1234.pt'}, 'test_set_path': '../../../../VRP-Omni-modified/Vrp-Set-E/E-n31', 'test_set_opt_sol_path': '../../../../VRP-Omni-modified/Vrp-Set-A/A-n33-sol', 'test_set_name': 'A-n33'}\n",
      "[2024-04-02 15:50:41] test.py(109) : logger_params{'log_file': {'desc': 'test_cvrp100', 'filename': 'log.txt', 'filepath': './result/20240402_165039_test_cvrp100'}}\n",
      "['../../../../VRP-Omni-modified/Vrp-Set-E/E-n31/E-n31-k7.vrp']\n"
     ]
    },
    {
     "name": "stderr",
     "output_type": "stream",
     "text": [
      "/home/xunj/miniconda3/lib/python3.11/site-packages/torch/__init__.py:614: UserWarning: torch.set_default_tensor_type() is deprecated as of PyTorch 2.1, please use torch.set_default_dtype() and torch.set_default_device() as alternatives. (Triggered internally at /opt/conda/conda-bld/pytorch_1699449183005/work/torch/csrc/tensor/python_tensor.cpp:451.)\n",
      "  _C._set_default_tensor_type(t)\n",
      "Traceback (most recent call last):\n",
      "  File \"/home/xunj/GradWork/POMO-master/NEW_py_ver/CVRP/POMO/test.py\", line 132, in <module>\n",
      "    main()\n",
      "  File \"/home/xunj/GradWork/POMO-master/NEW_py_ver/CVRP/POMO/test.py\", line 91, in main\n",
      "    tester = Tester(env_params=env_params,\n",
      "             ^^^^^^^^^^^^^^^^^^^^^^^^^^^^^\n",
      "  File \"/home/xunj/GradWork/POMO-master/NEW_py_ver/CVRP/POMO/CVRPTester.py\", line 65, in __init__\n",
      "    self.test_data = self.pack_cvrplib(self.path_list)[: self.tester_params['test_episodes']]\n",
      "                     ^^^^^^^^^^^^^^^^^^^^^^^^^^^^^^^^^\n",
      "  File \"/home/xunj/GradWork/POMO-master/NEW_py_ver/CVRP/POMO/CVRPTester.py\", line 213, in pack_cvrplib\n",
      "    original_locations = locations[:, 1:]\n",
      "                         ^^^^^^^^^\n",
      "UnboundLocalError: cannot access local variable 'locations' where it is not associated with a value\n"
     ]
    },
    {
     "name": "stdout",
     "output_type": "stream",
     "text": [
      "Check out issue on set:  ../../../../VRP-Omni-modified/Vrp-Set-E/E-n31\n",
      "[2024-04-02 15:50:43] test.py(107) : DEBUG_MODE: False\n",
      "[2024-04-02 15:50:43] test.py(108) : USE_CUDA: True, CUDA_DEVICE_NUM: 0\n",
      "[2024-04-02 15:50:43] test.py(109) : env_params{'problem_size': 100, 'pomo_size': 100}\n",
      "[2024-04-02 15:50:43] test.py(109) : model_params{'embedding_dim': 128, 'sqrt_embedding_dim': 11.313708498984761, 'encoder_layer_num': 6, 'qkv_dim': 16, 'head_num': 8, 'logit_clipping': 10, 'ff_hidden_dim': 512, 'eval_type': 'argmax'}\n",
      "[2024-04-02 15:50:43] test.py(109) : tester_params{'use_cuda': True, 'cuda_device_num': 0, 'model_load': {'path': './result/saved_CVRP100_model', 'epoch': 30500}, 'test_episodes': 1000, 'test_batch_size': 1, 'augmentation_enable': True, 'aug_factor': 8, 'aug_batch_size': 1, 'test_data_load': {'enable': False, 'filename': '../vrp100_test_seed1234.pt'}, 'test_set_path': '../../../../VRP-Omni-modified/Vrp-Set-E/E-n33', 'test_set_opt_sol_path': '../../../../VRP-Omni-modified/Vrp-Set-A/A-n33-sol', 'test_set_name': 'A-n33'}\n",
      "[2024-04-02 15:50:43] test.py(109) : logger_params{'log_file': {'desc': 'test_cvrp100', 'filename': 'log.txt', 'filepath': './result/20240402_165042_test_cvrp100'}}\n",
      "['../../../../VRP-Omni-modified/Vrp-Set-E/E-n33/E-n33-k4.vrp']\n"
     ]
    },
    {
     "name": "stderr",
     "output_type": "stream",
     "text": [
      "/home/xunj/miniconda3/lib/python3.11/site-packages/torch/__init__.py:614: UserWarning: torch.set_default_tensor_type() is deprecated as of PyTorch 2.1, please use torch.set_default_dtype() and torch.set_default_device() as alternatives. (Triggered internally at /opt/conda/conda-bld/pytorch_1699449183005/work/torch/csrc/tensor/python_tensor.cpp:451.)\n",
      "  _C._set_default_tensor_type(t)\n"
     ]
    },
    {
     "name": "stdout",
     "output_type": "stream",
     "text": [
      "[2024-04-02 15:50:44] CVRPTester.py(130) : episode   1/  1, Elapsed[0.01m], Remain[0.00m], score:1.190, aug_score:1.059\n",
      "[2024-04-02 15:50:44] CVRPTester.py(136) :  *** Test Done *** \n",
      "[2024-04-02 15:50:44] CVRPTester.py(137) :  NO-AUG SCORE: 1.1898 \n",
      "[2024-04-02 15:50:44] CVRPTester.py(138) :  AUGMENTATION SCORE: 1.0593 \n",
      ">> Evaluation on ../../../../VRP-Omni-modified/Vrp-Set-E/E-n33 finished within 0.32s\n",
      ">> Save final results to res/E-n33\n",
      "Test on \" ../../../../VRP-Omni-modified/Vrp-Set-E/E-n33 \" Success\n",
      "-----------------------------------------------------------------------------------------------------------------\n",
      "[2024-04-02 15:50:47] test.py(107) : DEBUG_MODE: False\n",
      "[2024-04-02 15:50:47] test.py(108) : USE_CUDA: True, CUDA_DEVICE_NUM: 0\n",
      "[2024-04-02 15:50:47] test.py(109) : env_params{'problem_size': 100, 'pomo_size': 100}\n",
      "[2024-04-02 15:50:47] test.py(109) : model_params{'embedding_dim': 128, 'sqrt_embedding_dim': 11.313708498984761, 'encoder_layer_num': 6, 'qkv_dim': 16, 'head_num': 8, 'logit_clipping': 10, 'ff_hidden_dim': 512, 'eval_type': 'argmax'}\n",
      "[2024-04-02 15:50:47] test.py(109) : tester_params{'use_cuda': True, 'cuda_device_num': 0, 'model_load': {'path': './result/saved_CVRP100_model', 'epoch': 30500}, 'test_episodes': 1000, 'test_batch_size': 1, 'augmentation_enable': True, 'aug_factor': 8, 'aug_batch_size': 1, 'test_data_load': {'enable': False, 'filename': '../vrp100_test_seed1234.pt'}, 'test_set_path': '../../../../VRP-Omni-modified/Vrp-Set-E/E-n51', 'test_set_opt_sol_path': '../../../../VRP-Omni-modified/Vrp-Set-A/A-n33-sol', 'test_set_name': 'A-n33'}\n",
      "[2024-04-02 15:50:47] test.py(109) : logger_params{'log_file': {'desc': 'test_cvrp100', 'filename': 'log.txt', 'filepath': './result/20240402_165045_test_cvrp100'}}\n",
      "['../../../../VRP-Omni-modified/Vrp-Set-E/E-n51/E-n51-k5.vrp']\n"
     ]
    },
    {
     "name": "stderr",
     "output_type": "stream",
     "text": [
      "/home/xunj/miniconda3/lib/python3.11/site-packages/torch/__init__.py:614: UserWarning: torch.set_default_tensor_type() is deprecated as of PyTorch 2.1, please use torch.set_default_dtype() and torch.set_default_device() as alternatives. (Triggered internally at /opt/conda/conda-bld/pytorch_1699449183005/work/torch/csrc/tensor/python_tensor.cpp:451.)\n",
      "  _C._set_default_tensor_type(t)\n"
     ]
    },
    {
     "name": "stdout",
     "output_type": "stream",
     "text": [
      "[2024-04-02 15:50:47] CVRPTester.py(130) : episode   1/  1, Elapsed[0.01m], Remain[0.00m], score:1.099, aug_score:0.838\n",
      "[2024-04-02 15:50:47] CVRPTester.py(136) :  *** Test Done *** \n",
      "[2024-04-02 15:50:47] CVRPTester.py(137) :  NO-AUG SCORE: 1.0994 \n",
      "[2024-04-02 15:50:47] CVRPTester.py(138) :  AUGMENTATION SCORE: 0.8382 \n",
      ">> Evaluation on ../../../../VRP-Omni-modified/Vrp-Set-E/E-n51 finished within 0.34s\n",
      ">> Save final results to res/E-n51\n",
      "Test on \" ../../../../VRP-Omni-modified/Vrp-Set-E/E-n51 \" Success\n",
      "-----------------------------------------------------------------------------------------------------------------\n",
      "[2024-04-02 15:50:50] test.py(107) : DEBUG_MODE: False\n",
      "[2024-04-02 15:50:50] test.py(108) : USE_CUDA: True, CUDA_DEVICE_NUM: 0\n",
      "[2024-04-02 15:50:50] test.py(109) : env_params{'problem_size': 100, 'pomo_size': 100}\n",
      "[2024-04-02 15:50:50] test.py(109) : model_params{'embedding_dim': 128, 'sqrt_embedding_dim': 11.313708498984761, 'encoder_layer_num': 6, 'qkv_dim': 16, 'head_num': 8, 'logit_clipping': 10, 'ff_hidden_dim': 512, 'eval_type': 'argmax'}\n",
      "[2024-04-02 15:50:50] test.py(109) : tester_params{'use_cuda': True, 'cuda_device_num': 0, 'model_load': {'path': './result/saved_CVRP100_model', 'epoch': 30500}, 'test_episodes': 1000, 'test_batch_size': 1, 'augmentation_enable': True, 'aug_factor': 8, 'aug_batch_size': 1, 'test_data_load': {'enable': False, 'filename': '../vrp100_test_seed1234.pt'}, 'test_set_path': '../../../../VRP-Omni-modified/Vrp-Set-E/E-n76', 'test_set_opt_sol_path': '../../../../VRP-Omni-modified/Vrp-Set-A/A-n33-sol', 'test_set_name': 'A-n33'}\n",
      "[2024-04-02 15:50:50] test.py(109) : logger_params{'log_file': {'desc': 'test_cvrp100', 'filename': 'log.txt', 'filepath': './result/20240402_165048_test_cvrp100'}}\n",
      "['../../../../VRP-Omni-modified/Vrp-Set-E/E-n76/E-n76-k10.vrp', '../../../../VRP-Omni-modified/Vrp-Set-E/E-n76/E-n76-k14.vrp', '../../../../VRP-Omni-modified/Vrp-Set-E/E-n76/E-n76-k7.vrp', '../../../../VRP-Omni-modified/Vrp-Set-E/E-n76/E-n76-k8.vrp']\n"
     ]
    },
    {
     "name": "stderr",
     "output_type": "stream",
     "text": [
      "/home/xunj/miniconda3/lib/python3.11/site-packages/torch/__init__.py:614: UserWarning: torch.set_default_tensor_type() is deprecated as of PyTorch 2.1, please use torch.set_default_dtype() and torch.set_default_device() as alternatives. (Triggered internally at /opt/conda/conda-bld/pytorch_1699449183005/work/torch/csrc/tensor/python_tensor.cpp:451.)\n",
      "  _C._set_default_tensor_type(t)\n"
     ]
    },
    {
     "name": "stdout",
     "output_type": "stream",
     "text": [
      "[2024-04-02 15:50:51] CVRPTester.py(130) : episode   1/  4, Elapsed[0.01m], Remain[0.02m], score:1.341, aug_score:1.273\n",
      "[2024-04-02 15:50:51] CVRPTester.py(130) : episode   2/  4, Elapsed[0.01m], Remain[0.01m], score:1.623, aug_score:1.501\n",
      "[2024-04-02 15:50:51] CVRPTester.py(130) : episode   3/  4, Elapsed[0.01m], Remain[0.00m], score:1.138, aug_score:0.965\n",
      "[2024-04-02 15:50:51] CVRPTester.py(130) : episode   4/  4, Elapsed[0.01m], Remain[0.00m], score:1.278, aug_score:1.049\n",
      "[2024-04-02 15:50:51] CVRPTester.py(136) :  *** Test Done *** \n",
      "[2024-04-02 15:50:51] CVRPTester.py(137) :  NO-AUG SCORE: 1.3451 \n",
      "[2024-04-02 15:50:51] CVRPTester.py(138) :  AUGMENTATION SCORE: 1.1972 \n",
      ">> Evaluation on ../../../../VRP-Omni-modified/Vrp-Set-E/E-n76 finished within 0.09s\n",
      ">> Save final results to res/E-n76\n",
      "Test on \" ../../../../VRP-Omni-modified/Vrp-Set-E/E-n76 \" Success\n",
      "-----------------------------------------------------------------------------------------------------------------\n",
      "[2024-04-02 15:50:53] test.py(107) : DEBUG_MODE: False\n",
      "[2024-04-02 15:50:53] test.py(108) : USE_CUDA: True, CUDA_DEVICE_NUM: 0\n",
      "[2024-04-02 15:50:53] test.py(109) : env_params{'problem_size': 100, 'pomo_size': 100}\n",
      "[2024-04-02 15:50:53] test.py(109) : model_params{'embedding_dim': 128, 'sqrt_embedding_dim': 11.313708498984761, 'encoder_layer_num': 6, 'qkv_dim': 16, 'head_num': 8, 'logit_clipping': 10, 'ff_hidden_dim': 512, 'eval_type': 'argmax'}\n",
      "[2024-04-02 15:50:53] test.py(109) : tester_params{'use_cuda': True, 'cuda_device_num': 0, 'model_load': {'path': './result/saved_CVRP100_model', 'epoch': 30500}, 'test_episodes': 1000, 'test_batch_size': 1, 'augmentation_enable': True, 'aug_factor': 8, 'aug_batch_size': 1, 'test_data_load': {'enable': False, 'filename': '../vrp100_test_seed1234.pt'}, 'test_set_path': '../../../../VRP-Omni-modified/Vrp-Set-F/F-n135', 'test_set_opt_sol_path': '../../../../VRP-Omni-modified/Vrp-Set-A/A-n33-sol', 'test_set_name': 'A-n33'}\n",
      "[2024-04-02 15:50:53] test.py(109) : logger_params{'log_file': {'desc': 'test_cvrp100', 'filename': 'log.txt', 'filepath': './result/20240402_165052_test_cvrp100'}}\n",
      "['../../../../VRP-Omni-modified/Vrp-Set-F/F-n135/F-n135-k7.vrp']\n"
     ]
    },
    {
     "name": "stderr",
     "output_type": "stream",
     "text": [
      "/home/xunj/miniconda3/lib/python3.11/site-packages/torch/__init__.py:614: UserWarning: torch.set_default_tensor_type() is deprecated as of PyTorch 2.1, please use torch.set_default_dtype() and torch.set_default_device() as alternatives. (Triggered internally at /opt/conda/conda-bld/pytorch_1699449183005/work/torch/csrc/tensor/python_tensor.cpp:451.)\n",
      "  _C._set_default_tensor_type(t)\n"
     ]
    },
    {
     "name": "stdout",
     "output_type": "stream",
     "text": [
      "[2024-04-02 15:50:54] CVRPTester.py(130) : episode   1/  1, Elapsed[0.01m], Remain[0.00m], score:2.165, aug_score:1.701\n",
      "[2024-04-02 15:50:54] CVRPTester.py(136) :  *** Test Done *** \n",
      "[2024-04-02 15:50:54] CVRPTester.py(137) :  NO-AUG SCORE: 2.1648 \n",
      "[2024-04-02 15:50:54] CVRPTester.py(138) :  AUGMENTATION SCORE: 1.7014 \n",
      ">> Evaluation on ../../../../VRP-Omni-modified/Vrp-Set-F/F-n135 finished within 0.45s\n",
      ">> Save final results to res/F-n135\n",
      "Test on \" ../../../../VRP-Omni-modified/Vrp-Set-F/F-n135 \" Success\n",
      "-----------------------------------------------------------------------------------------------------------------\n",
      "[2024-04-02 15:50:57] test.py(107) : DEBUG_MODE: False\n",
      "[2024-04-02 15:50:57] test.py(108) : USE_CUDA: True, CUDA_DEVICE_NUM: 0\n",
      "[2024-04-02 15:50:57] test.py(109) : env_params{'problem_size': 100, 'pomo_size': 100}\n",
      "[2024-04-02 15:50:57] test.py(109) : model_params{'embedding_dim': 128, 'sqrt_embedding_dim': 11.313708498984761, 'encoder_layer_num': 6, 'qkv_dim': 16, 'head_num': 8, 'logit_clipping': 10, 'ff_hidden_dim': 512, 'eval_type': 'argmax'}\n",
      "[2024-04-02 15:50:57] test.py(109) : tester_params{'use_cuda': True, 'cuda_device_num': 0, 'model_load': {'path': './result/saved_CVRP100_model', 'epoch': 30500}, 'test_episodes': 1000, 'test_batch_size': 1, 'augmentation_enable': True, 'aug_factor': 8, 'aug_batch_size': 1, 'test_data_load': {'enable': False, 'filename': '../vrp100_test_seed1234.pt'}, 'test_set_path': '../../../../VRP-Omni-modified/Vrp-Set-F/F-n45', 'test_set_opt_sol_path': '../../../../VRP-Omni-modified/Vrp-Set-A/A-n33-sol', 'test_set_name': 'A-n33'}\n",
      "[2024-04-02 15:50:57] test.py(109) : logger_params{'log_file': {'desc': 'test_cvrp100', 'filename': 'log.txt', 'filepath': './result/20240402_165055_test_cvrp100'}}\n",
      "['../../../../VRP-Omni-modified/Vrp-Set-F/F-n45/F-n45-k4.vrp']\n"
     ]
    },
    {
     "name": "stderr",
     "output_type": "stream",
     "text": [
      "/home/xunj/miniconda3/lib/python3.11/site-packages/torch/__init__.py:614: UserWarning: torch.set_default_tensor_type() is deprecated as of PyTorch 2.1, please use torch.set_default_dtype() and torch.set_default_device() as alternatives. (Triggered internally at /opt/conda/conda-bld/pytorch_1699449183005/work/torch/csrc/tensor/python_tensor.cpp:451.)\n",
      "  _C._set_default_tensor_type(t)\n"
     ]
    },
    {
     "name": "stdout",
     "output_type": "stream",
     "text": [
      "[2024-04-02 15:50:57] CVRPTester.py(130) : episode   1/  1, Elapsed[0.01m], Remain[0.00m], score:1.382, aug_score:1.182\n",
      "[2024-04-02 15:50:57] CVRPTester.py(136) :  *** Test Done *** \n",
      "[2024-04-02 15:50:57] CVRPTester.py(137) :  NO-AUG SCORE: 1.3821 \n",
      "[2024-04-02 15:50:57] CVRPTester.py(138) :  AUGMENTATION SCORE: 1.1816 \n",
      ">> Evaluation on ../../../../VRP-Omni-modified/Vrp-Set-F/F-n45 finished within 0.34s\n",
      ">> Save final results to res/F-n45\n",
      "Test on \" ../../../../VRP-Omni-modified/Vrp-Set-F/F-n45 \" Success\n",
      "-----------------------------------------------------------------------------------------------------------------\n",
      "[2024-04-02 15:51:00] test.py(107) : DEBUG_MODE: False\n",
      "[2024-04-02 15:51:00] test.py(108) : USE_CUDA: True, CUDA_DEVICE_NUM: 0\n",
      "[2024-04-02 15:51:00] test.py(109) : env_params{'problem_size': 100, 'pomo_size': 100}\n",
      "[2024-04-02 15:51:00] test.py(109) : model_params{'embedding_dim': 128, 'sqrt_embedding_dim': 11.313708498984761, 'encoder_layer_num': 6, 'qkv_dim': 16, 'head_num': 8, 'logit_clipping': 10, 'ff_hidden_dim': 512, 'eval_type': 'argmax'}\n",
      "[2024-04-02 15:51:00] test.py(109) : tester_params{'use_cuda': True, 'cuda_device_num': 0, 'model_load': {'path': './result/saved_CVRP100_model', 'epoch': 30500}, 'test_episodes': 1000, 'test_batch_size': 1, 'augmentation_enable': True, 'aug_factor': 8, 'aug_batch_size': 1, 'test_data_load': {'enable': False, 'filename': '../vrp100_test_seed1234.pt'}, 'test_set_path': '../../../../VRP-Omni-modified/Vrp-Set-F/F-n72', 'test_set_opt_sol_path': '../../../../VRP-Omni-modified/Vrp-Set-A/A-n33-sol', 'test_set_name': 'A-n33'}\n",
      "[2024-04-02 15:51:00] test.py(109) : logger_params{'log_file': {'desc': 'test_cvrp100', 'filename': 'log.txt', 'filepath': './result/20240402_165058_test_cvrp100'}}\n",
      "['../../../../VRP-Omni-modified/Vrp-Set-F/F-n72/F-n72-k4.vrp']\n"
     ]
    },
    {
     "name": "stderr",
     "output_type": "stream",
     "text": [
      "/home/xunj/miniconda3/lib/python3.11/site-packages/torch/__init__.py:614: UserWarning: torch.set_default_tensor_type() is deprecated as of PyTorch 2.1, please use torch.set_default_dtype() and torch.set_default_device() as alternatives. (Triggered internally at /opt/conda/conda-bld/pytorch_1699449183005/work/torch/csrc/tensor/python_tensor.cpp:451.)\n",
      "  _C._set_default_tensor_type(t)\n"
     ]
    },
    {
     "name": "stdout",
     "output_type": "stream",
     "text": [
      "[2024-04-02 15:51:01] CVRPTester.py(130) : episode   1/  1, Elapsed[0.01m], Remain[0.00m], score:0.401, aug_score:0.387\n",
      "[2024-04-02 15:51:01] CVRPTester.py(136) :  *** Test Done *** \n",
      "[2024-04-02 15:51:01] CVRPTester.py(137) :  NO-AUG SCORE: 0.4005 \n",
      "[2024-04-02 15:51:01] CVRPTester.py(138) :  AUGMENTATION SCORE: 0.3872 \n",
      ">> Evaluation on ../../../../VRP-Omni-modified/Vrp-Set-F/F-n72 finished within 0.35s\n",
      ">> Save final results to res/F-n72\n",
      "Test on \" ../../../../VRP-Omni-modified/Vrp-Set-F/F-n72 \" Success\n",
      "-----------------------------------------------------------------------------------------------------------------\n",
      "[2024-04-02 15:51:03] test.py(107) : DEBUG_MODE: False\n",
      "[2024-04-02 15:51:03] test.py(108) : USE_CUDA: True, CUDA_DEVICE_NUM: 0\n",
      "[2024-04-02 15:51:03] test.py(109) : env_params{'problem_size': 100, 'pomo_size': 100}\n",
      "[2024-04-02 15:51:03] test.py(109) : model_params{'embedding_dim': 128, 'sqrt_embedding_dim': 11.313708498984761, 'encoder_layer_num': 6, 'qkv_dim': 16, 'head_num': 8, 'logit_clipping': 10, 'ff_hidden_dim': 512, 'eval_type': 'argmax'}\n",
      "[2024-04-02 15:51:03] test.py(109) : tester_params{'use_cuda': True, 'cuda_device_num': 0, 'model_load': {'path': './result/saved_CVRP100_model', 'epoch': 30500}, 'test_episodes': 1000, 'test_batch_size': 1, 'augmentation_enable': True, 'aug_factor': 8, 'aug_batch_size': 1, 'test_data_load': {'enable': False, 'filename': '../vrp100_test_seed1234.pt'}, 'test_set_path': '../../../../VRP-Omni-modified/Vrp-Set-Golden/Golden-n201', 'test_set_opt_sol_path': '../../../../VRP-Omni-modified/Vrp-Set-A/A-n33-sol', 'test_set_name': 'A-n33'}\n",
      "[2024-04-02 15:51:03] test.py(109) : logger_params{'log_file': {'desc': 'test_cvrp100', 'filename': 'log.txt', 'filepath': './result/20240402_165102_test_cvrp100'}}\n",
      "['../../../../VRP-Omni-modified/Vrp-Set-Golden/Golden-n201/Golden_5.vrp']\n"
     ]
    },
    {
     "name": "stderr",
     "output_type": "stream",
     "text": [
      "/home/xunj/miniconda3/lib/python3.11/site-packages/torch/__init__.py:614: UserWarning: torch.set_default_tensor_type() is deprecated as of PyTorch 2.1, please use torch.set_default_dtype() and torch.set_default_device() as alternatives. (Triggered internally at /opt/conda/conda-bld/pytorch_1699449183005/work/torch/csrc/tensor/python_tensor.cpp:451.)\n",
      "  _C._set_default_tensor_type(t)\n"
     ]
    },
    {
     "name": "stdout",
     "output_type": "stream",
     "text": [
      "[2024-04-02 15:51:04] CVRPTester.py(130) : episode   1/  1, Elapsed[0.01m], Remain[0.00m], score:8.817, aug_score:8.563\n",
      "[2024-04-02 15:51:04] CVRPTester.py(136) :  *** Test Done *** \n",
      "[2024-04-02 15:51:04] CVRPTester.py(137) :  NO-AUG SCORE: 8.8167 \n",
      "[2024-04-02 15:51:04] CVRPTester.py(138) :  AUGMENTATION SCORE: 8.5631 \n",
      ">> Evaluation on ../../../../VRP-Omni-modified/Vrp-Set-Golden/Golden-n201 finished within 0.48s\n",
      ">> Save final results to res/Golden-n201\n",
      "Test on \" ../../../../VRP-Omni-modified/Vrp-Set-Golden/Golden-n201 \" Success\n",
      "-----------------------------------------------------------------------------------------------------------------\n",
      "[2024-04-02 15:51:07] test.py(107) : DEBUG_MODE: False\n",
      "[2024-04-02 15:51:07] test.py(108) : USE_CUDA: True, CUDA_DEVICE_NUM: 0\n",
      "[2024-04-02 15:51:07] test.py(109) : env_params{'problem_size': 100, 'pomo_size': 100}\n",
      "[2024-04-02 15:51:07] test.py(109) : model_params{'embedding_dim': 128, 'sqrt_embedding_dim': 11.313708498984761, 'encoder_layer_num': 6, 'qkv_dim': 16, 'head_num': 8, 'logit_clipping': 10, 'ff_hidden_dim': 512, 'eval_type': 'argmax'}\n",
      "[2024-04-02 15:51:07] test.py(109) : tester_params{'use_cuda': True, 'cuda_device_num': 0, 'model_load': {'path': './result/saved_CVRP100_model', 'epoch': 30500}, 'test_episodes': 1000, 'test_batch_size': 1, 'augmentation_enable': True, 'aug_factor': 8, 'aug_batch_size': 1, 'test_data_load': {'enable': False, 'filename': '../vrp100_test_seed1234.pt'}, 'test_set_path': '../../../../VRP-Omni-modified/Vrp-Set-Golden/Golden-n241', 'test_set_opt_sol_path': '../../../../VRP-Omni-modified/Vrp-Set-A/A-n33-sol', 'test_set_name': 'A-n33'}\n",
      "[2024-04-02 15:51:07] test.py(109) : logger_params{'log_file': {'desc': 'test_cvrp100', 'filename': 'log.txt', 'filepath': './result/20240402_165105_test_cvrp100'}}\n",
      "['../../../../VRP-Omni-modified/Vrp-Set-Golden/Golden-n241/Golden_1.vrp', '../../../../VRP-Omni-modified/Vrp-Set-Golden/Golden-n241/Golden_17.vrp']\n"
     ]
    },
    {
     "name": "stderr",
     "output_type": "stream",
     "text": [
      "/home/xunj/miniconda3/lib/python3.11/site-packages/torch/__init__.py:614: UserWarning: torch.set_default_tensor_type() is deprecated as of PyTorch 2.1, please use torch.set_default_dtype() and torch.set_default_device() as alternatives. (Triggered internally at /opt/conda/conda-bld/pytorch_1699449183005/work/torch/csrc/tensor/python_tensor.cpp:451.)\n",
      "  _C._set_default_tensor_type(t)\n"
     ]
    },
    {
     "name": "stdout",
     "output_type": "stream",
     "text": [
      "[2024-04-02 15:51:08] CVRPTester.py(130) : episode   1/  2, Elapsed[0.01m], Remain[0.01m], score:6.743, aug_score:6.635\n",
      "[2024-04-02 15:51:08] CVRPTester.py(130) : episode   2/  2, Elapsed[0.01m], Remain[0.00m], score:1.761, aug_score:1.383\n",
      "[2024-04-02 15:51:08] CVRPTester.py(136) :  *** Test Done *** \n",
      "[2024-04-02 15:51:08] CVRPTester.py(137) :  NO-AUG SCORE: 4.2518 \n",
      "[2024-04-02 15:51:08] CVRPTester.py(138) :  AUGMENTATION SCORE: 4.0089 \n",
      ">> Evaluation on ../../../../VRP-Omni-modified/Vrp-Set-Golden/Golden-n241 finished within 0.29s\n",
      ">> Save final results to res/Golden-n241\n",
      "Test on \" ../../../../VRP-Omni-modified/Vrp-Set-Golden/Golden-n241 \" Success\n",
      "-----------------------------------------------------------------------------------------------------------------\n",
      "[2024-04-02 15:51:10] test.py(107) : DEBUG_MODE: False\n",
      "[2024-04-02 15:51:10] test.py(108) : USE_CUDA: True, CUDA_DEVICE_NUM: 0\n",
      "[2024-04-02 15:51:10] test.py(109) : env_params{'problem_size': 100, 'pomo_size': 100}\n",
      "[2024-04-02 15:51:10] test.py(109) : model_params{'embedding_dim': 128, 'sqrt_embedding_dim': 11.313708498984761, 'encoder_layer_num': 6, 'qkv_dim': 16, 'head_num': 8, 'logit_clipping': 10, 'ff_hidden_dim': 512, 'eval_type': 'argmax'}\n",
      "[2024-04-02 15:51:10] test.py(109) : tester_params{'use_cuda': True, 'cuda_device_num': 0, 'model_load': {'path': './result/saved_CVRP100_model', 'epoch': 30500}, 'test_episodes': 1000, 'test_batch_size': 1, 'augmentation_enable': True, 'aug_factor': 8, 'aug_batch_size': 1, 'test_data_load': {'enable': False, 'filename': '../vrp100_test_seed1234.pt'}, 'test_set_path': '../../../../VRP-Omni-modified/Vrp-Set-Golden/Golden-n253', 'test_set_opt_sol_path': '../../../../VRP-Omni-modified/Vrp-Set-A/A-n33-sol', 'test_set_name': 'A-n33'}\n",
      "[2024-04-02 15:51:10] test.py(109) : logger_params{'log_file': {'desc': 'test_cvrp100', 'filename': 'log.txt', 'filepath': './result/20240402_165109_test_cvrp100'}}\n",
      "['../../../../VRP-Omni-modified/Vrp-Set-Golden/Golden-n253/Golden_13.vrp']\n"
     ]
    },
    {
     "name": "stderr",
     "output_type": "stream",
     "text": [
      "/home/xunj/miniconda3/lib/python3.11/site-packages/torch/__init__.py:614: UserWarning: torch.set_default_tensor_type() is deprecated as of PyTorch 2.1, please use torch.set_default_dtype() and torch.set_default_device() as alternatives. (Triggered internally at /opt/conda/conda-bld/pytorch_1699449183005/work/torch/csrc/tensor/python_tensor.cpp:451.)\n",
      "  _C._set_default_tensor_type(t)\n"
     ]
    },
    {
     "name": "stdout",
     "output_type": "stream",
     "text": [
      "[2024-04-02 15:51:11] CVRPTester.py(130) : episode   1/  1, Elapsed[0.01m], Remain[0.00m], score:2.044, aug_score:1.654\n",
      "[2024-04-02 15:51:11] CVRPTester.py(136) :  *** Test Done *** \n",
      "[2024-04-02 15:51:11] CVRPTester.py(137) :  NO-AUG SCORE: 2.0437 \n",
      "[2024-04-02 15:51:11] CVRPTester.py(138) :  AUGMENTATION SCORE: 1.6542 \n",
      ">> Evaluation on ../../../../VRP-Omni-modified/Vrp-Set-Golden/Golden-n253 finished within 0.57s\n",
      ">> Save final results to res/Golden-n253\n",
      "Test on \" ../../../../VRP-Omni-modified/Vrp-Set-Golden/Golden-n253 \" Success\n",
      "-----------------------------------------------------------------------------------------------------------------\n",
      "[2024-04-02 15:51:14] test.py(107) : DEBUG_MODE: False\n",
      "[2024-04-02 15:51:14] test.py(108) : USE_CUDA: True, CUDA_DEVICE_NUM: 0\n",
      "[2024-04-02 15:51:14] test.py(109) : env_params{'problem_size': 100, 'pomo_size': 100}\n",
      "[2024-04-02 15:51:14] test.py(109) : model_params{'embedding_dim': 128, 'sqrt_embedding_dim': 11.313708498984761, 'encoder_layer_num': 6, 'qkv_dim': 16, 'head_num': 8, 'logit_clipping': 10, 'ff_hidden_dim': 512, 'eval_type': 'argmax'}\n",
      "[2024-04-02 15:51:14] test.py(109) : tester_params{'use_cuda': True, 'cuda_device_num': 0, 'model_load': {'path': './result/saved_CVRP100_model', 'epoch': 30500}, 'test_episodes': 1000, 'test_batch_size': 1, 'augmentation_enable': True, 'aug_factor': 8, 'aug_batch_size': 1, 'test_data_load': {'enable': False, 'filename': '../vrp100_test_seed1234.pt'}, 'test_set_path': '../../../../VRP-Omni-modified/Vrp-Set-Golden/Golden-n256', 'test_set_opt_sol_path': '../../../../VRP-Omni-modified/Vrp-Set-A/A-n33-sol', 'test_set_name': 'A-n33'}\n",
      "[2024-04-02 15:51:14] test.py(109) : logger_params{'log_file': {'desc': 'test_cvrp100', 'filename': 'log.txt', 'filepath': './result/20240402_165112_test_cvrp100'}}\n",
      "['../../../../VRP-Omni-modified/Vrp-Set-Golden/Golden-n256/Golden_9.vrp']\n"
     ]
    },
    {
     "name": "stderr",
     "output_type": "stream",
     "text": [
      "/home/xunj/miniconda3/lib/python3.11/site-packages/torch/__init__.py:614: UserWarning: torch.set_default_tensor_type() is deprecated as of PyTorch 2.1, please use torch.set_default_dtype() and torch.set_default_device() as alternatives. (Triggered internally at /opt/conda/conda-bld/pytorch_1699449183005/work/torch/csrc/tensor/python_tensor.cpp:451.)\n",
      "  _C._set_default_tensor_type(t)\n"
     ]
    },
    {
     "name": "stdout",
     "output_type": "stream",
     "text": [
      "[2024-04-02 15:51:15] CVRPTester.py(130) : episode   1/  1, Elapsed[0.01m], Remain[0.00m], score:1.305, aug_score:1.252\n",
      "[2024-04-02 15:51:15] CVRPTester.py(136) :  *** Test Done *** \n",
      "[2024-04-02 15:51:15] CVRPTester.py(137) :  NO-AUG SCORE: 1.3051 \n",
      "[2024-04-02 15:51:15] CVRPTester.py(138) :  AUGMENTATION SCORE: 1.2518 \n",
      ">> Evaluation on ../../../../VRP-Omni-modified/Vrp-Set-Golden/Golden-n256 finished within 0.60s\n",
      ">> Save final results to res/Golden-n256\n",
      "Test on \" ../../../../VRP-Omni-modified/Vrp-Set-Golden/Golden-n256 \" Success\n",
      "-----------------------------------------------------------------------------------------------------------------\n",
      "[2024-04-02 15:51:17] test.py(107) : DEBUG_MODE: False\n",
      "[2024-04-02 15:51:17] test.py(108) : USE_CUDA: True, CUDA_DEVICE_NUM: 0\n",
      "[2024-04-02 15:51:17] test.py(109) : env_params{'problem_size': 100, 'pomo_size': 100}\n",
      "[2024-04-02 15:51:17] test.py(109) : model_params{'embedding_dim': 128, 'sqrt_embedding_dim': 11.313708498984761, 'encoder_layer_num': 6, 'qkv_dim': 16, 'head_num': 8, 'logit_clipping': 10, 'ff_hidden_dim': 512, 'eval_type': 'argmax'}\n",
      "[2024-04-02 15:51:17] test.py(109) : tester_params{'use_cuda': True, 'cuda_device_num': 0, 'model_load': {'path': './result/saved_CVRP100_model', 'epoch': 30500}, 'test_episodes': 1000, 'test_batch_size': 1, 'augmentation_enable': True, 'aug_factor': 8, 'aug_batch_size': 1, 'test_data_load': {'enable': False, 'filename': '../vrp100_test_seed1234.pt'}, 'test_set_path': '../../../../VRP-Omni-modified/Vrp-Set-Golden/Golden-n281', 'test_set_opt_sol_path': '../../../../VRP-Omni-modified/Vrp-Set-A/A-n33-sol', 'test_set_name': 'A-n33'}\n",
      "[2024-04-02 15:51:17] test.py(109) : logger_params{'log_file': {'desc': 'test_cvrp100', 'filename': 'log.txt', 'filepath': './result/20240402_165116_test_cvrp100'}}\n",
      "['../../../../VRP-Omni-modified/Vrp-Set-Golden/Golden-n281/Golden_6.vrp']\n"
     ]
    },
    {
     "name": "stderr",
     "output_type": "stream",
     "text": [
      "/home/xunj/miniconda3/lib/python3.11/site-packages/torch/__init__.py:614: UserWarning: torch.set_default_tensor_type() is deprecated as of PyTorch 2.1, please use torch.set_default_dtype() and torch.set_default_device() as alternatives. (Triggered internally at /opt/conda/conda-bld/pytorch_1699449183005/work/torch/csrc/tensor/python_tensor.cpp:451.)\n",
      "  _C._set_default_tensor_type(t)\n"
     ]
    },
    {
     "name": "stdout",
     "output_type": "stream",
     "text": [
      "[2024-04-02 15:51:18] CVRPTester.py(130) : episode   1/  1, Elapsed[0.01m], Remain[0.00m], score:11.972, aug_score:11.972\n",
      "[2024-04-02 15:51:18] CVRPTester.py(136) :  *** Test Done *** \n",
      "[2024-04-02 15:51:18] CVRPTester.py(137) :  NO-AUG SCORE: 11.9716 \n",
      "[2024-04-02 15:51:18] CVRPTester.py(138) :  AUGMENTATION SCORE: 11.9716 \n",
      ">> Evaluation on ../../../../VRP-Omni-modified/Vrp-Set-Golden/Golden-n281 finished within 0.58s\n",
      ">> Save final results to res/Golden-n281\n",
      "Test on \" ../../../../VRP-Omni-modified/Vrp-Set-Golden/Golden-n281 \" Success\n",
      "-----------------------------------------------------------------------------------------------------------------\n",
      "[2024-04-02 15:51:21] test.py(107) : DEBUG_MODE: False\n",
      "[2024-04-02 15:51:21] test.py(108) : USE_CUDA: True, CUDA_DEVICE_NUM: 0\n",
      "[2024-04-02 15:51:21] test.py(109) : env_params{'problem_size': 100, 'pomo_size': 100}\n",
      "[2024-04-02 15:51:21] test.py(109) : model_params{'embedding_dim': 128, 'sqrt_embedding_dim': 11.313708498984761, 'encoder_layer_num': 6, 'qkv_dim': 16, 'head_num': 8, 'logit_clipping': 10, 'ff_hidden_dim': 512, 'eval_type': 'argmax'}\n",
      "[2024-04-02 15:51:21] test.py(109) : tester_params{'use_cuda': True, 'cuda_device_num': 0, 'model_load': {'path': './result/saved_CVRP100_model', 'epoch': 30500}, 'test_episodes': 1000, 'test_batch_size': 1, 'augmentation_enable': True, 'aug_factor': 8, 'aug_batch_size': 1, 'test_data_load': {'enable': False, 'filename': '../vrp100_test_seed1234.pt'}, 'test_set_path': '../../../../VRP-Omni-modified/Vrp-Set-Golden/Golden-n301', 'test_set_opt_sol_path': '../../../../VRP-Omni-modified/Vrp-Set-A/A-n33-sol', 'test_set_name': 'A-n33'}\n",
      "[2024-04-02 15:51:21] test.py(109) : logger_params{'log_file': {'desc': 'test_cvrp100', 'filename': 'log.txt', 'filepath': './result/20240402_165119_test_cvrp100'}}\n",
      "['../../../../VRP-Omni-modified/Vrp-Set-Golden/Golden-n301/Golden_18.vrp']\n"
     ]
    },
    {
     "name": "stderr",
     "output_type": "stream",
     "text": [
      "/home/xunj/miniconda3/lib/python3.11/site-packages/torch/__init__.py:614: UserWarning: torch.set_default_tensor_type() is deprecated as of PyTorch 2.1, please use torch.set_default_dtype() and torch.set_default_device() as alternatives. (Triggered internally at /opt/conda/conda-bld/pytorch_1699449183005/work/torch/csrc/tensor/python_tensor.cpp:451.)\n",
      "  _C._set_default_tensor_type(t)\n"
     ]
    },
    {
     "name": "stdout",
     "output_type": "stream",
     "text": [
      "[2024-04-02 15:51:22] CVRPTester.py(130) : episode   1/  1, Elapsed[0.01m], Remain[0.00m], score:2.429, aug_score:1.965\n",
      "[2024-04-02 15:51:22] CVRPTester.py(136) :  *** Test Done *** \n",
      "[2024-04-02 15:51:22] CVRPTester.py(137) :  NO-AUG SCORE: 2.4292 \n",
      "[2024-04-02 15:51:22] CVRPTester.py(138) :  AUGMENTATION SCORE: 1.9646 \n",
      ">> Evaluation on ../../../../VRP-Omni-modified/Vrp-Set-Golden/Golden-n301 finished within 0.65s\n",
      ">> Save final results to res/Golden-n301\n",
      "Test on \" ../../../../VRP-Omni-modified/Vrp-Set-Golden/Golden-n301 \" Success\n",
      "-----------------------------------------------------------------------------------------------------------------\n",
      "[2024-04-02 15:51:25] test.py(107) : DEBUG_MODE: False\n",
      "[2024-04-02 15:51:25] test.py(108) : USE_CUDA: True, CUDA_DEVICE_NUM: 0\n",
      "[2024-04-02 15:51:25] test.py(109) : env_params{'problem_size': 100, 'pomo_size': 100}\n",
      "[2024-04-02 15:51:25] test.py(109) : model_params{'embedding_dim': 128, 'sqrt_embedding_dim': 11.313708498984761, 'encoder_layer_num': 6, 'qkv_dim': 16, 'head_num': 8, 'logit_clipping': 10, 'ff_hidden_dim': 512, 'eval_type': 'argmax'}\n",
      "[2024-04-02 15:51:25] test.py(109) : tester_params{'use_cuda': True, 'cuda_device_num': 0, 'model_load': {'path': './result/saved_CVRP100_model', 'epoch': 30500}, 'test_episodes': 1000, 'test_batch_size': 1, 'augmentation_enable': True, 'aug_factor': 8, 'aug_batch_size': 1, 'test_data_load': {'enable': False, 'filename': '../vrp100_test_seed1234.pt'}, 'test_set_path': '../../../../VRP-Omni-modified/Vrp-Set-Golden/Golden-n321', 'test_set_opt_sol_path': '../../../../VRP-Omni-modified/Vrp-Set-A/A-n33-sol', 'test_set_name': 'A-n33'}\n",
      "[2024-04-02 15:51:25] test.py(109) : logger_params{'log_file': {'desc': 'test_cvrp100', 'filename': 'log.txt', 'filepath': './result/20240402_165123_test_cvrp100'}}\n",
      "['../../../../VRP-Omni-modified/Vrp-Set-Golden/Golden-n321/Golden_14.vrp', '../../../../VRP-Omni-modified/Vrp-Set-Golden/Golden-n321/Golden_2.vrp']\n"
     ]
    },
    {
     "name": "stderr",
     "output_type": "stream",
     "text": [
      "/home/xunj/miniconda3/lib/python3.11/site-packages/torch/__init__.py:614: UserWarning: torch.set_default_tensor_type() is deprecated as of PyTorch 2.1, please use torch.set_default_dtype() and torch.set_default_device() as alternatives. (Triggered internally at /opt/conda/conda-bld/pytorch_1699449183005/work/torch/csrc/tensor/python_tensor.cpp:451.)\n",
      "  _C._set_default_tensor_type(t)\n"
     ]
    },
    {
     "name": "stdout",
     "output_type": "stream",
     "text": [
      "[2024-04-02 15:51:26] CVRPTester.py(130) : episode   1/  2, Elapsed[0.01m], Remain[0.01m], score:2.860, aug_score:2.433\n",
      "[2024-04-02 15:51:26] CVRPTester.py(130) : episode   2/  2, Elapsed[0.02m], Remain[0.00m], score:11.230, aug_score:10.557\n",
      "[2024-04-02 15:51:26] CVRPTester.py(136) :  *** Test Done *** \n",
      "[2024-04-02 15:51:26] CVRPTester.py(137) :  NO-AUG SCORE: 7.0451 \n",
      "[2024-04-02 15:51:26] CVRPTester.py(138) :  AUGMENTATION SCORE: 6.4953 \n",
      ">> Evaluation on ../../../../VRP-Omni-modified/Vrp-Set-Golden/Golden-n321 finished within 0.35s\n",
      ">> Save final results to res/Golden-n321\n",
      "Test on \" ../../../../VRP-Omni-modified/Vrp-Set-Golden/Golden-n321 \" Success\n",
      "-----------------------------------------------------------------------------------------------------------------\n",
      "[2024-04-02 15:51:29] test.py(107) : DEBUG_MODE: False\n",
      "[2024-04-02 15:51:29] test.py(108) : USE_CUDA: True, CUDA_DEVICE_NUM: 0\n",
      "[2024-04-02 15:51:29] test.py(109) : env_params{'problem_size': 100, 'pomo_size': 100}\n",
      "[2024-04-02 15:51:29] test.py(109) : model_params{'embedding_dim': 128, 'sqrt_embedding_dim': 11.313708498984761, 'encoder_layer_num': 6, 'qkv_dim': 16, 'head_num': 8, 'logit_clipping': 10, 'ff_hidden_dim': 512, 'eval_type': 'argmax'}\n",
      "[2024-04-02 15:51:29] test.py(109) : tester_params{'use_cuda': True, 'cuda_device_num': 0, 'model_load': {'path': './result/saved_CVRP100_model', 'epoch': 30500}, 'test_episodes': 1000, 'test_batch_size': 1, 'augmentation_enable': True, 'aug_factor': 8, 'aug_batch_size': 1, 'test_data_load': {'enable': False, 'filename': '../vrp100_test_seed1234.pt'}, 'test_set_path': '../../../../VRP-Omni-modified/Vrp-Set-Golden/Golden-n324', 'test_set_opt_sol_path': '../../../../VRP-Omni-modified/Vrp-Set-A/A-n33-sol', 'test_set_name': 'A-n33'}\n",
      "[2024-04-02 15:51:29] test.py(109) : logger_params{'log_file': {'desc': 'test_cvrp100', 'filename': 'log.txt', 'filepath': './result/20240402_165127_test_cvrp100'}}\n",
      "['../../../../VRP-Omni-modified/Vrp-Set-Golden/Golden-n324/Golden_10.vrp']\n"
     ]
    },
    {
     "name": "stderr",
     "output_type": "stream",
     "text": [
      "/home/xunj/miniconda3/lib/python3.11/site-packages/torch/__init__.py:614: UserWarning: torch.set_default_tensor_type() is deprecated as of PyTorch 2.1, please use torch.set_default_dtype() and torch.set_default_device() as alternatives. (Triggered internally at /opt/conda/conda-bld/pytorch_1699449183005/work/torch/csrc/tensor/python_tensor.cpp:451.)\n",
      "  _C._set_default_tensor_type(t)\n"
     ]
    },
    {
     "name": "stdout",
     "output_type": "stream",
     "text": [
      "[2024-04-02 15:51:30] CVRPTester.py(130) : episode   1/  1, Elapsed[0.01m], Remain[0.00m], score:1.689, aug_score:1.477\n",
      "[2024-04-02 15:51:30] CVRPTester.py(136) :  *** Test Done *** \n",
      "[2024-04-02 15:51:30] CVRPTester.py(137) :  NO-AUG SCORE: 1.6894 \n",
      "[2024-04-02 15:51:30] CVRPTester.py(138) :  AUGMENTATION SCORE: 1.4770 \n",
      ">> Evaluation on ../../../../VRP-Omni-modified/Vrp-Set-Golden/Golden-n324 finished within 0.65s\n",
      ">> Save final results to res/Golden-n324\n",
      "Test on \" ../../../../VRP-Omni-modified/Vrp-Set-Golden/Golden-n324 \" Success\n",
      "-----------------------------------------------------------------------------------------------------------------\n",
      "[2024-04-02 15:51:32] test.py(107) : DEBUG_MODE: False\n",
      "[2024-04-02 15:51:32] test.py(108) : USE_CUDA: True, CUDA_DEVICE_NUM: 0\n",
      "[2024-04-02 15:51:32] test.py(109) : env_params{'problem_size': 100, 'pomo_size': 100}\n",
      "[2024-04-02 15:51:32] test.py(109) : model_params{'embedding_dim': 128, 'sqrt_embedding_dim': 11.313708498984761, 'encoder_layer_num': 6, 'qkv_dim': 16, 'head_num': 8, 'logit_clipping': 10, 'ff_hidden_dim': 512, 'eval_type': 'argmax'}\n",
      "[2024-04-02 15:51:32] test.py(109) : tester_params{'use_cuda': True, 'cuda_device_num': 0, 'model_load': {'path': './result/saved_CVRP100_model', 'epoch': 30500}, 'test_episodes': 1000, 'test_batch_size': 1, 'augmentation_enable': True, 'aug_factor': 8, 'aug_batch_size': 1, 'test_data_load': {'enable': False, 'filename': '../vrp100_test_seed1234.pt'}, 'test_set_path': '../../../../VRP-Omni-modified/Vrp-Set-Golden/Golden-n361', 'test_set_opt_sol_path': '../../../../VRP-Omni-modified/Vrp-Set-A/A-n33-sol', 'test_set_name': 'A-n33'}\n",
      "[2024-04-02 15:51:32] test.py(109) : logger_params{'log_file': {'desc': 'test_cvrp100', 'filename': 'log.txt', 'filepath': './result/20240402_165131_test_cvrp100'}}\n",
      "['../../../../VRP-Omni-modified/Vrp-Set-Golden/Golden-n361/Golden_19.vrp', '../../../../VRP-Omni-modified/Vrp-Set-Golden/Golden-n361/Golden_7.vrp']\n"
     ]
    },
    {
     "name": "stderr",
     "output_type": "stream",
     "text": [
      "/home/xunj/miniconda3/lib/python3.11/site-packages/torch/__init__.py:614: UserWarning: torch.set_default_tensor_type() is deprecated as of PyTorch 2.1, please use torch.set_default_dtype() and torch.set_default_device() as alternatives. (Triggered internally at /opt/conda/conda-bld/pytorch_1699449183005/work/torch/csrc/tensor/python_tensor.cpp:451.)\n",
      "  _C._set_default_tensor_type(t)\n"
     ]
    },
    {
     "name": "stdout",
     "output_type": "stream",
     "text": [
      "[2024-04-02 15:51:33] CVRPTester.py(130) : episode   1/  2, Elapsed[0.01m], Remain[0.01m], score:3.399, aug_score:2.912\n",
      "[2024-04-02 15:51:34] CVRPTester.py(130) : episode   2/  2, Elapsed[0.02m], Remain[0.00m], score:15.152, aug_score:14.271\n",
      "[2024-04-02 15:51:34] CVRPTester.py(136) :  *** Test Done *** \n",
      "[2024-04-02 15:51:34] CVRPTester.py(137) :  NO-AUG SCORE: 9.2755 \n",
      "[2024-04-02 15:51:34] CVRPTester.py(138) :  AUGMENTATION SCORE: 8.5916 \n",
      ">> Evaluation on ../../../../VRP-Omni-modified/Vrp-Set-Golden/Golden-n361 finished within 0.44s\n",
      ">> Save final results to res/Golden-n361\n",
      "Test on \" ../../../../VRP-Omni-modified/Vrp-Set-Golden/Golden-n361 \" Success\n",
      "-----------------------------------------------------------------------------------------------------------------\n",
      "[2024-04-02 15:51:37] test.py(107) : DEBUG_MODE: False\n",
      "[2024-04-02 15:51:37] test.py(108) : USE_CUDA: True, CUDA_DEVICE_NUM: 0\n",
      "[2024-04-02 15:51:37] test.py(109) : env_params{'problem_size': 100, 'pomo_size': 100}\n",
      "[2024-04-02 15:51:37] test.py(109) : model_params{'embedding_dim': 128, 'sqrt_embedding_dim': 11.313708498984761, 'encoder_layer_num': 6, 'qkv_dim': 16, 'head_num': 8, 'logit_clipping': 10, 'ff_hidden_dim': 512, 'eval_type': 'argmax'}\n",
      "[2024-04-02 15:51:37] test.py(109) : tester_params{'use_cuda': True, 'cuda_device_num': 0, 'model_load': {'path': './result/saved_CVRP100_model', 'epoch': 30500}, 'test_episodes': 1000, 'test_batch_size': 1, 'augmentation_enable': True, 'aug_factor': 8, 'aug_batch_size': 1, 'test_data_load': {'enable': False, 'filename': '../vrp100_test_seed1234.pt'}, 'test_set_path': '../../../../VRP-Omni-modified/Vrp-Set-Golden/Golden-n397', 'test_set_opt_sol_path': '../../../../VRP-Omni-modified/Vrp-Set-A/A-n33-sol', 'test_set_name': 'A-n33'}\n",
      "[2024-04-02 15:51:37] test.py(109) : logger_params{'log_file': {'desc': 'test_cvrp100', 'filename': 'log.txt', 'filepath': './result/20240402_165135_test_cvrp100'}}\n",
      "['../../../../VRP-Omni-modified/Vrp-Set-Golden/Golden-n397/Golden_15.vrp']\n"
     ]
    },
    {
     "name": "stderr",
     "output_type": "stream",
     "text": [
      "/home/xunj/miniconda3/lib/python3.11/site-packages/torch/__init__.py:614: UserWarning: torch.set_default_tensor_type() is deprecated as of PyTorch 2.1, please use torch.set_default_dtype() and torch.set_default_device() as alternatives. (Triggered internally at /opt/conda/conda-bld/pytorch_1699449183005/work/torch/csrc/tensor/python_tensor.cpp:451.)\n",
      "  _C._set_default_tensor_type(t)\n"
     ]
    },
    {
     "name": "stdout",
     "output_type": "stream",
     "text": [
      "[2024-04-02 15:51:38] CVRPTester.py(130) : episode   1/  1, Elapsed[0.01m], Remain[0.00m], score:3.830, aug_score:2.905\n",
      "[2024-04-02 15:51:38] CVRPTester.py(136) :  *** Test Done *** \n",
      "[2024-04-02 15:51:38] CVRPTester.py(137) :  NO-AUG SCORE: 3.8303 \n",
      "[2024-04-02 15:51:38] CVRPTester.py(138) :  AUGMENTATION SCORE: 2.9050 \n",
      ">> Evaluation on ../../../../VRP-Omni-modified/Vrp-Set-Golden/Golden-n397 finished within 0.85s\n",
      ">> Save final results to res/Golden-n397\n",
      "Test on \" ../../../../VRP-Omni-modified/Vrp-Set-Golden/Golden-n397 \" Success\n",
      "-----------------------------------------------------------------------------------------------------------------\n",
      "[2024-04-02 15:51:40] test.py(107) : DEBUG_MODE: False\n",
      "[2024-04-02 15:51:40] test.py(108) : USE_CUDA: True, CUDA_DEVICE_NUM: 0\n",
      "[2024-04-02 15:51:40] test.py(109) : env_params{'problem_size': 100, 'pomo_size': 100}\n",
      "[2024-04-02 15:51:40] test.py(109) : model_params{'embedding_dim': 128, 'sqrt_embedding_dim': 11.313708498984761, 'encoder_layer_num': 6, 'qkv_dim': 16, 'head_num': 8, 'logit_clipping': 10, 'ff_hidden_dim': 512, 'eval_type': 'argmax'}\n",
      "[2024-04-02 15:51:40] test.py(109) : tester_params{'use_cuda': True, 'cuda_device_num': 0, 'model_load': {'path': './result/saved_CVRP100_model', 'epoch': 30500}, 'test_episodes': 1000, 'test_batch_size': 1, 'augmentation_enable': True, 'aug_factor': 8, 'aug_batch_size': 1, 'test_data_load': {'enable': False, 'filename': '../vrp100_test_seed1234.pt'}, 'test_set_path': '../../../../VRP-Omni-modified/Vrp-Set-Golden/Golden-n400', 'test_set_opt_sol_path': '../../../../VRP-Omni-modified/Vrp-Set-A/A-n33-sol', 'test_set_name': 'A-n33'}\n",
      "[2024-04-02 15:51:40] test.py(109) : logger_params{'log_file': {'desc': 'test_cvrp100', 'filename': 'log.txt', 'filepath': './result/20240402_165139_test_cvrp100'}}\n",
      "['../../../../VRP-Omni-modified/Vrp-Set-Golden/Golden-n400/Golden_11.vrp']\n"
     ]
    },
    {
     "name": "stderr",
     "output_type": "stream",
     "text": [
      "/home/xunj/miniconda3/lib/python3.11/site-packages/torch/__init__.py:614: UserWarning: torch.set_default_tensor_type() is deprecated as of PyTorch 2.1, please use torch.set_default_dtype() and torch.set_default_device() as alternatives. (Triggered internally at /opt/conda/conda-bld/pytorch_1699449183005/work/torch/csrc/tensor/python_tensor.cpp:451.)\n",
      "  _C._set_default_tensor_type(t)\n"
     ]
    },
    {
     "name": "stdout",
     "output_type": "stream",
     "text": [
      "[2024-04-02 15:51:42] CVRPTester.py(130) : episode   1/  1, Elapsed[0.01m], Remain[0.00m], score:2.406, aug_score:2.187\n",
      "[2024-04-02 15:51:42] CVRPTester.py(136) :  *** Test Done *** \n",
      "[2024-04-02 15:51:42] CVRPTester.py(137) :  NO-AUG SCORE: 2.4060 \n",
      "[2024-04-02 15:51:42] CVRPTester.py(138) :  AUGMENTATION SCORE: 2.1870 \n",
      ">> Evaluation on ../../../../VRP-Omni-modified/Vrp-Set-Golden/Golden-n400 finished within 0.88s\n",
      ">> Save final results to res/Golden-n400\n",
      "Test on \" ../../../../VRP-Omni-modified/Vrp-Set-Golden/Golden-n400 \" Success\n",
      "-----------------------------------------------------------------------------------------------------------------\n",
      "[2024-04-02 15:51:44] test.py(107) : DEBUG_MODE: False\n",
      "[2024-04-02 15:51:44] test.py(108) : USE_CUDA: True, CUDA_DEVICE_NUM: 0\n",
      "[2024-04-02 15:51:44] test.py(109) : env_params{'problem_size': 100, 'pomo_size': 100}\n",
      "[2024-04-02 15:51:44] test.py(109) : model_params{'embedding_dim': 128, 'sqrt_embedding_dim': 11.313708498984761, 'encoder_layer_num': 6, 'qkv_dim': 16, 'head_num': 8, 'logit_clipping': 10, 'ff_hidden_dim': 512, 'eval_type': 'argmax'}\n",
      "[2024-04-02 15:51:44] test.py(109) : tester_params{'use_cuda': True, 'cuda_device_num': 0, 'model_load': {'path': './result/saved_CVRP100_model', 'epoch': 30500}, 'test_episodes': 1000, 'test_batch_size': 1, 'augmentation_enable': True, 'aug_factor': 8, 'aug_batch_size': 1, 'test_data_load': {'enable': False, 'filename': '../vrp100_test_seed1234.pt'}, 'test_set_path': '../../../../VRP-Omni-modified/Vrp-Set-Golden/Golden-n401', 'test_set_opt_sol_path': '../../../../VRP-Omni-modified/Vrp-Set-A/A-n33-sol', 'test_set_name': 'A-n33'}\n",
      "[2024-04-02 15:51:44] test.py(109) : logger_params{'log_file': {'desc': 'test_cvrp100', 'filename': 'log.txt', 'filepath': './result/20240402_165143_test_cvrp100'}}\n",
      "['../../../../VRP-Omni-modified/Vrp-Set-Golden/Golden-n401/Golden_3.vrp']\n"
     ]
    },
    {
     "name": "stderr",
     "output_type": "stream",
     "text": [
      "/home/xunj/miniconda3/lib/python3.11/site-packages/torch/__init__.py:614: UserWarning: torch.set_default_tensor_type() is deprecated as of PyTorch 2.1, please use torch.set_default_dtype() and torch.set_default_device() as alternatives. (Triggered internally at /opt/conda/conda-bld/pytorch_1699449183005/work/torch/csrc/tensor/python_tensor.cpp:451.)\n",
      "  _C._set_default_tensor_type(t)\n"
     ]
    },
    {
     "name": "stdout",
     "output_type": "stream",
     "text": [
      "[2024-04-02 15:51:45] CVRPTester.py(130) : episode   1/  1, Elapsed[0.01m], Remain[0.00m], score:16.604, aug_score:15.736\n",
      "[2024-04-02 15:51:45] CVRPTester.py(136) :  *** Test Done *** \n",
      "[2024-04-02 15:51:45] CVRPTester.py(137) :  NO-AUG SCORE: 16.6042 \n",
      "[2024-04-02 15:51:45] CVRPTester.py(138) :  AUGMENTATION SCORE: 15.7356 \n",
      ">> Evaluation on ../../../../VRP-Omni-modified/Vrp-Set-Golden/Golden-n401 finished within 0.78s\n",
      ">> Save final results to res/Golden-n401\n",
      "Test on \" ../../../../VRP-Omni-modified/Vrp-Set-Golden/Golden-n401 \" Success\n",
      "-----------------------------------------------------------------------------------------------------------------\n",
      "[2024-04-02 15:51:48] test.py(107) : DEBUG_MODE: False\n",
      "[2024-04-02 15:51:48] test.py(108) : USE_CUDA: True, CUDA_DEVICE_NUM: 0\n",
      "[2024-04-02 15:51:48] test.py(109) : env_params{'problem_size': 100, 'pomo_size': 100}\n",
      "[2024-04-02 15:51:48] test.py(109) : model_params{'embedding_dim': 128, 'sqrt_embedding_dim': 11.313708498984761, 'encoder_layer_num': 6, 'qkv_dim': 16, 'head_num': 8, 'logit_clipping': 10, 'ff_hidden_dim': 512, 'eval_type': 'argmax'}\n",
      "[2024-04-02 15:51:48] test.py(109) : tester_params{'use_cuda': True, 'cuda_device_num': 0, 'model_load': {'path': './result/saved_CVRP100_model', 'epoch': 30500}, 'test_episodes': 1000, 'test_batch_size': 1, 'augmentation_enable': True, 'aug_factor': 8, 'aug_batch_size': 1, 'test_data_load': {'enable': False, 'filename': '../vrp100_test_seed1234.pt'}, 'test_set_path': '../../../../VRP-Omni-modified/Vrp-Set-Golden/Golden-n421', 'test_set_opt_sol_path': '../../../../VRP-Omni-modified/Vrp-Set-A/A-n33-sol', 'test_set_name': 'A-n33'}\n",
      "[2024-04-02 15:51:48] test.py(109) : logger_params{'log_file': {'desc': 'test_cvrp100', 'filename': 'log.txt', 'filepath': './result/20240402_165146_test_cvrp100'}}\n",
      "['../../../../VRP-Omni-modified/Vrp-Set-Golden/Golden-n421/Golden_20.vrp']\n"
     ]
    },
    {
     "name": "stderr",
     "output_type": "stream",
     "text": [
      "/home/xunj/miniconda3/lib/python3.11/site-packages/torch/__init__.py:614: UserWarning: torch.set_default_tensor_type() is deprecated as of PyTorch 2.1, please use torch.set_default_dtype() and torch.set_default_device() as alternatives. (Triggered internally at /opt/conda/conda-bld/pytorch_1699449183005/work/torch/csrc/tensor/python_tensor.cpp:451.)\n",
      "  _C._set_default_tensor_type(t)\n"
     ]
    },
    {
     "name": "stdout",
     "output_type": "stream",
     "text": [
      "[2024-04-02 15:51:49] CVRPTester.py(130) : episode   1/  1, Elapsed[0.02m], Remain[0.00m], score:4.299, aug_score:3.993\n",
      "[2024-04-02 15:51:49] CVRPTester.py(136) :  *** Test Done *** \n",
      "[2024-04-02 15:51:49] CVRPTester.py(137) :  NO-AUG SCORE: 4.2986 \n",
      "[2024-04-02 15:51:49] CVRPTester.py(138) :  AUGMENTATION SCORE: 3.9929 \n",
      ">> Evaluation on ../../../../VRP-Omni-modified/Vrp-Set-Golden/Golden-n421 finished within 0.91s\n",
      ">> Save final results to res/Golden-n421\n",
      "Test on \" ../../../../VRP-Omni-modified/Vrp-Set-Golden/Golden-n421 \" Success\n",
      "-----------------------------------------------------------------------------------------------------------------\n",
      "[2024-04-02 15:51:51] test.py(107) : DEBUG_MODE: False\n",
      "[2024-04-02 15:51:51] test.py(108) : USE_CUDA: True, CUDA_DEVICE_NUM: 0\n",
      "[2024-04-02 15:51:51] test.py(109) : env_params{'problem_size': 100, 'pomo_size': 100}\n",
      "[2024-04-02 15:51:51] test.py(109) : model_params{'embedding_dim': 128, 'sqrt_embedding_dim': 11.313708498984761, 'encoder_layer_num': 6, 'qkv_dim': 16, 'head_num': 8, 'logit_clipping': 10, 'ff_hidden_dim': 512, 'eval_type': 'argmax'}\n",
      "[2024-04-02 15:51:51] test.py(109) : tester_params{'use_cuda': True, 'cuda_device_num': 0, 'model_load': {'path': './result/saved_CVRP100_model', 'epoch': 30500}, 'test_episodes': 1000, 'test_batch_size': 1, 'augmentation_enable': True, 'aug_factor': 8, 'aug_batch_size': 1, 'test_data_load': {'enable': False, 'filename': '../vrp100_test_seed1234.pt'}, 'test_set_path': '../../../../VRP-Omni-modified/Vrp-Set-Golden/Golden-n441', 'test_set_opt_sol_path': '../../../../VRP-Omni-modified/Vrp-Set-A/A-n33-sol', 'test_set_name': 'A-n33'}\n",
      "[2024-04-02 15:51:51] test.py(109) : logger_params{'log_file': {'desc': 'test_cvrp100', 'filename': 'log.txt', 'filepath': './result/20240402_165150_test_cvrp100'}}\n",
      "['../../../../VRP-Omni-modified/Vrp-Set-Golden/Golden-n441/Golden_8.vrp']\n"
     ]
    },
    {
     "name": "stderr",
     "output_type": "stream",
     "text": [
      "/home/xunj/miniconda3/lib/python3.11/site-packages/torch/__init__.py:614: UserWarning: torch.set_default_tensor_type() is deprecated as of PyTorch 2.1, please use torch.set_default_dtype() and torch.set_default_device() as alternatives. (Triggered internally at /opt/conda/conda-bld/pytorch_1699449183005/work/torch/csrc/tensor/python_tensor.cpp:451.)\n",
      "  _C._set_default_tensor_type(t)\n"
     ]
    },
    {
     "name": "stdout",
     "output_type": "stream",
     "text": [
      "[2024-04-02 15:51:53] CVRPTester.py(130) : episode   1/  1, Elapsed[0.01m], Remain[0.00m], score:18.090, aug_score:16.640\n",
      "[2024-04-02 15:51:53] CVRPTester.py(136) :  *** Test Done *** \n",
      "[2024-04-02 15:51:53] CVRPTester.py(137) :  NO-AUG SCORE: 18.0897 \n",
      "[2024-04-02 15:51:53] CVRPTester.py(138) :  AUGMENTATION SCORE: 16.6396 \n",
      ">> Evaluation on ../../../../VRP-Omni-modified/Vrp-Set-Golden/Golden-n441 finished within 0.87s\n",
      ">> Save final results to res/Golden-n441\n",
      "Test on \" ../../../../VRP-Omni-modified/Vrp-Set-Golden/Golden-n441 \" Success\n",
      "-----------------------------------------------------------------------------------------------------------------\n",
      "[2024-04-02 15:51:55] test.py(107) : DEBUG_MODE: False\n",
      "[2024-04-02 15:51:55] test.py(108) : USE_CUDA: True, CUDA_DEVICE_NUM: 0\n",
      "[2024-04-02 15:51:55] test.py(109) : env_params{'problem_size': 100, 'pomo_size': 100}\n",
      "[2024-04-02 15:51:55] test.py(109) : model_params{'embedding_dim': 128, 'sqrt_embedding_dim': 11.313708498984761, 'encoder_layer_num': 6, 'qkv_dim': 16, 'head_num': 8, 'logit_clipping': 10, 'ff_hidden_dim': 512, 'eval_type': 'argmax'}\n",
      "[2024-04-02 15:51:55] test.py(109) : tester_params{'use_cuda': True, 'cuda_device_num': 0, 'model_load': {'path': './result/saved_CVRP100_model', 'epoch': 30500}, 'test_episodes': 1000, 'test_batch_size': 1, 'augmentation_enable': True, 'aug_factor': 8, 'aug_batch_size': 1, 'test_data_load': {'enable': False, 'filename': '../vrp100_test_seed1234.pt'}, 'test_set_path': '../../../../VRP-Omni-modified/Vrp-Set-Golden/Golden-n481', 'test_set_opt_sol_path': '../../../../VRP-Omni-modified/Vrp-Set-A/A-n33-sol', 'test_set_name': 'A-n33'}\n",
      "[2024-04-02 15:51:55] test.py(109) : logger_params{'log_file': {'desc': 'test_cvrp100', 'filename': 'log.txt', 'filepath': './result/20240402_165154_test_cvrp100'}}\n",
      "['../../../../VRP-Omni-modified/Vrp-Set-Golden/Golden-n481/Golden_16.vrp', '../../../../VRP-Omni-modified/Vrp-Set-Golden/Golden-n481/Golden_4.vrp']\n"
     ]
    },
    {
     "name": "stderr",
     "output_type": "stream",
     "text": [
      "/home/xunj/miniconda3/lib/python3.11/site-packages/torch/__init__.py:614: UserWarning: torch.set_default_tensor_type() is deprecated as of PyTorch 2.1, please use torch.set_default_dtype() and torch.set_default_device() as alternatives. (Triggered internally at /opt/conda/conda-bld/pytorch_1699449183005/work/torch/csrc/tensor/python_tensor.cpp:451.)\n",
      "  _C._set_default_tensor_type(t)\n"
     ]
    },
    {
     "name": "stdout",
     "output_type": "stream",
     "text": [
      "[2024-04-02 15:51:57] CVRPTester.py(130) : episode   1/  2, Elapsed[0.02m], Remain[0.02m], score:4.370, aug_score:3.644\n",
      "[2024-04-02 15:51:58] CVRPTester.py(130) : episode   2/  2, Elapsed[0.03m], Remain[0.00m], score:22.519, aug_score:22.452\n",
      "[2024-04-02 15:51:58] CVRPTester.py(136) :  *** Test Done *** \n",
      "[2024-04-02 15:51:58] CVRPTester.py(137) :  NO-AUG SCORE: 13.4443 \n",
      "[2024-04-02 15:51:58] CVRPTester.py(138) :  AUGMENTATION SCORE: 13.0476 \n",
      ">> Evaluation on ../../../../VRP-Omni-modified/Vrp-Set-Golden/Golden-n481 finished within 0.73s\n",
      ">> Save final results to res/Golden-n481\n",
      "Test on \" ../../../../VRP-Omni-modified/Vrp-Set-Golden/Golden-n481 \" Success\n",
      "-----------------------------------------------------------------------------------------------------------------\n",
      "[2024-04-02 15:52:00] test.py(107) : DEBUG_MODE: False\n",
      "[2024-04-02 15:52:00] test.py(108) : USE_CUDA: True, CUDA_DEVICE_NUM: 0\n",
      "[2024-04-02 15:52:00] test.py(109) : env_params{'problem_size': 100, 'pomo_size': 100}\n",
      "[2024-04-02 15:52:00] test.py(109) : model_params{'embedding_dim': 128, 'sqrt_embedding_dim': 11.313708498984761, 'encoder_layer_num': 6, 'qkv_dim': 16, 'head_num': 8, 'logit_clipping': 10, 'ff_hidden_dim': 512, 'eval_type': 'argmax'}\n",
      "[2024-04-02 15:52:00] test.py(109) : tester_params{'use_cuda': True, 'cuda_device_num': 0, 'model_load': {'path': './result/saved_CVRP100_model', 'epoch': 30500}, 'test_episodes': 1000, 'test_batch_size': 1, 'augmentation_enable': True, 'aug_factor': 8, 'aug_batch_size': 1, 'test_data_load': {'enable': False, 'filename': '../vrp100_test_seed1234.pt'}, 'test_set_path': '../../../../VRP-Omni-modified/Vrp-Set-Golden/Golden-n484', 'test_set_opt_sol_path': '../../../../VRP-Omni-modified/Vrp-Set-A/A-n33-sol', 'test_set_name': 'A-n33'}\n",
      "[2024-04-02 15:52:00] test.py(109) : logger_params{'log_file': {'desc': 'test_cvrp100', 'filename': 'log.txt', 'filepath': './result/20240402_165159_test_cvrp100'}}\n",
      "['../../../../VRP-Omni-modified/Vrp-Set-Golden/Golden-n484/Golden_12.vrp']\n"
     ]
    },
    {
     "name": "stderr",
     "output_type": "stream",
     "text": [
      "/home/xunj/miniconda3/lib/python3.11/site-packages/torch/__init__.py:614: UserWarning: torch.set_default_tensor_type() is deprecated as of PyTorch 2.1, please use torch.set_default_dtype() and torch.set_default_device() as alternatives. (Triggered internally at /opt/conda/conda-bld/pytorch_1699449183005/work/torch/csrc/tensor/python_tensor.cpp:451.)\n",
      "  _C._set_default_tensor_type(t)\n"
     ]
    },
    {
     "name": "stdout",
     "output_type": "stream",
     "text": [
      "[2024-04-02 15:52:02] CVRPTester.py(130) : episode   1/  1, Elapsed[0.02m], Remain[0.00m], score:4.279, aug_score:2.452\n",
      "[2024-04-02 15:52:02] CVRPTester.py(136) :  *** Test Done *** \n",
      "[2024-04-02 15:52:02] CVRPTester.py(137) :  NO-AUG SCORE: 4.2795 \n",
      "[2024-04-02 15:52:02] CVRPTester.py(138) :  AUGMENTATION SCORE: 2.4522 \n",
      ">> Evaluation on ../../../../VRP-Omni-modified/Vrp-Set-Golden/Golden-n484 finished within 1.09s\n",
      ">> Save final results to res/Golden-n484\n",
      "Test on \" ../../../../VRP-Omni-modified/Vrp-Set-Golden/Golden-n484 \" Success\n",
      "-----------------------------------------------------------------------------------------------------------------\n",
      "[2024-04-02 15:52:04] test.py(107) : DEBUG_MODE: False\n",
      "[2024-04-02 15:52:04] test.py(108) : USE_CUDA: True, CUDA_DEVICE_NUM: 0\n",
      "[2024-04-02 15:52:04] test.py(109) : env_params{'problem_size': 100, 'pomo_size': 100}\n",
      "[2024-04-02 15:52:04] test.py(109) : model_params{'embedding_dim': 128, 'sqrt_embedding_dim': 11.313708498984761, 'encoder_layer_num': 6, 'qkv_dim': 16, 'head_num': 8, 'logit_clipping': 10, 'ff_hidden_dim': 512, 'eval_type': 'argmax'}\n",
      "[2024-04-02 15:52:04] test.py(109) : tester_params{'use_cuda': True, 'cuda_device_num': 0, 'model_load': {'path': './result/saved_CVRP100_model', 'epoch': 30500}, 'test_episodes': 1000, 'test_batch_size': 1, 'augmentation_enable': True, 'aug_factor': 8, 'aug_batch_size': 1, 'test_data_load': {'enable': False, 'filename': '../vrp100_test_seed1234.pt'}, 'test_set_path': '../../../../VRP-Omni-modified/Vrp-Set-Li/Li-n1041', 'test_set_opt_sol_path': '../../../../VRP-Omni-modified/Vrp-Set-A/A-n33-sol', 'test_set_name': 'A-n33'}\n",
      "[2024-04-02 15:52:04] test.py(109) : logger_params{'log_file': {'desc': 'test_cvrp100', 'filename': 'log.txt', 'filepath': './result/20240402_165203_test_cvrp100'}}\n",
      "['../../../../VRP-Omni-modified/Vrp-Set-Li/Li-n1041/Li_30.vrp']\n"
     ]
    },
    {
     "name": "stderr",
     "output_type": "stream",
     "text": [
      "/home/xunj/miniconda3/lib/python3.11/site-packages/torch/__init__.py:614: UserWarning: torch.set_default_tensor_type() is deprecated as of PyTorch 2.1, please use torch.set_default_dtype() and torch.set_default_device() as alternatives. (Triggered internally at /opt/conda/conda-bld/pytorch_1699449183005/work/torch/csrc/tensor/python_tensor.cpp:451.)\n",
      "  _C._set_default_tensor_type(t)\n"
     ]
    },
    {
     "name": "stdout",
     "output_type": "stream",
     "text": [
      "[2024-04-02 15:52:11] CVRPTester.py(130) : episode   1/  1, Elapsed[0.11m], Remain[0.00m], score:73.384, aug_score:73.384\n",
      "[2024-04-02 15:52:11] CVRPTester.py(136) :  *** Test Done *** \n",
      "[2024-04-02 15:52:11] CVRPTester.py(137) :  NO-AUG SCORE: 73.3844 \n",
      "[2024-04-02 15:52:11] CVRPTester.py(138) :  AUGMENTATION SCORE: 73.3844 \n",
      ">> Evaluation on ../../../../VRP-Omni-modified/Vrp-Set-Li/Li-n1041 finished within 6.33s\n",
      ">> Save final results to res/Li-n1041\n",
      "Test on \" ../../../../VRP-Omni-modified/Vrp-Set-Li/Li-n1041 \" Success\n",
      "-----------------------------------------------------------------------------------------------------------------\n",
      "[2024-04-02 15:52:13] test.py(107) : DEBUG_MODE: False\n",
      "[2024-04-02 15:52:13] test.py(108) : USE_CUDA: True, CUDA_DEVICE_NUM: 0\n",
      "[2024-04-02 15:52:13] test.py(109) : env_params{'problem_size': 100, 'pomo_size': 100}\n",
      "[2024-04-02 15:52:13] test.py(109) : model_params{'embedding_dim': 128, 'sqrt_embedding_dim': 11.313708498984761, 'encoder_layer_num': 6, 'qkv_dim': 16, 'head_num': 8, 'logit_clipping': 10, 'ff_hidden_dim': 512, 'eval_type': 'argmax'}\n",
      "[2024-04-02 15:52:13] test.py(109) : tester_params{'use_cuda': True, 'cuda_device_num': 0, 'model_load': {'path': './result/saved_CVRP100_model', 'epoch': 30500}, 'test_episodes': 1000, 'test_batch_size': 1, 'augmentation_enable': True, 'aug_factor': 8, 'aug_batch_size': 1, 'test_data_load': {'enable': False, 'filename': '../vrp100_test_seed1234.pt'}, 'test_set_path': '../../../../VRP-Omni-modified/Vrp-Set-Li/Li-n1121', 'test_set_opt_sol_path': '../../../../VRP-Omni-modified/Vrp-Set-A/A-n33-sol', 'test_set_name': 'A-n33'}\n",
      "[2024-04-02 15:52:13] test.py(109) : logger_params{'log_file': {'desc': 'test_cvrp100', 'filename': 'log.txt', 'filepath': './result/20240402_165212_test_cvrp100'}}\n",
      "['../../../../VRP-Omni-modified/Vrp-Set-Li/Li-n1121/Li_31.vrp']\n"
     ]
    },
    {
     "name": "stderr",
     "output_type": "stream",
     "text": [
      "/home/xunj/miniconda3/lib/python3.11/site-packages/torch/__init__.py:614: UserWarning: torch.set_default_tensor_type() is deprecated as of PyTorch 2.1, please use torch.set_default_dtype() and torch.set_default_device() as alternatives. (Triggered internally at /opt/conda/conda-bld/pytorch_1699449183005/work/torch/csrc/tensor/python_tensor.cpp:451.)\n",
      "  _C._set_default_tensor_type(t)\n"
     ]
    },
    {
     "name": "stdout",
     "output_type": "stream",
     "text": [
      "[2024-04-02 15:52:23] CVRPTester.py(130) : episode   1/  1, Elapsed[0.16m], Remain[0.00m], score:94.162, aug_score:94.162\n",
      "[2024-04-02 15:52:23] CVRPTester.py(136) :  *** Test Done *** \n",
      "[2024-04-02 15:52:23] CVRPTester.py(137) :  NO-AUG SCORE: 94.1625 \n",
      "[2024-04-02 15:52:23] CVRPTester.py(138) :  AUGMENTATION SCORE: 94.1625 \n",
      ">> Evaluation on ../../../../VRP-Omni-modified/Vrp-Set-Li/Li-n1121 finished within 9.55s\n",
      ">> Save final results to res/Li-n1121\n",
      "Test on \" ../../../../VRP-Omni-modified/Vrp-Set-Li/Li-n1121 \" Success\n",
      "-----------------------------------------------------------------------------------------------------------------\n",
      "[2024-04-02 15:52:26] test.py(107) : DEBUG_MODE: False\n",
      "[2024-04-02 15:52:26] test.py(108) : USE_CUDA: True, CUDA_DEVICE_NUM: 0\n",
      "[2024-04-02 15:52:26] test.py(109) : env_params{'problem_size': 100, 'pomo_size': 100}\n",
      "[2024-04-02 15:52:26] test.py(109) : model_params{'embedding_dim': 128, 'sqrt_embedding_dim': 11.313708498984761, 'encoder_layer_num': 6, 'qkv_dim': 16, 'head_num': 8, 'logit_clipping': 10, 'ff_hidden_dim': 512, 'eval_type': 'argmax'}\n",
      "[2024-04-02 15:52:26] test.py(109) : tester_params{'use_cuda': True, 'cuda_device_num': 0, 'model_load': {'path': './result/saved_CVRP100_model', 'epoch': 30500}, 'test_episodes': 1000, 'test_batch_size': 1, 'augmentation_enable': True, 'aug_factor': 8, 'aug_batch_size': 1, 'test_data_load': {'enable': False, 'filename': '../vrp100_test_seed1234.pt'}, 'test_set_path': '../../../../VRP-Omni-modified/Vrp-Set-Li/Li-n1201', 'test_set_opt_sol_path': '../../../../VRP-Omni-modified/Vrp-Set-A/A-n33-sol', 'test_set_name': 'A-n33'}\n",
      "[2024-04-02 15:52:26] test.py(109) : logger_params{'log_file': {'desc': 'test_cvrp100', 'filename': 'log.txt', 'filepath': './result/20240402_165224_test_cvrp100'}}\n",
      "['../../../../VRP-Omni-modified/Vrp-Set-Li/Li-n1201/Li_32.vrp']\n"
     ]
    },
    {
     "name": "stderr",
     "output_type": "stream",
     "text": [
      "/home/xunj/miniconda3/lib/python3.11/site-packages/torch/__init__.py:614: UserWarning: torch.set_default_tensor_type() is deprecated as of PyTorch 2.1, please use torch.set_default_dtype() and torch.set_default_device() as alternatives. (Triggered internally at /opt/conda/conda-bld/pytorch_1699449183005/work/torch/csrc/tensor/python_tensor.cpp:451.)\n",
      "  _C._set_default_tensor_type(t)\n"
     ]
    },
    {
     "name": "stdout",
     "output_type": "stream",
     "text": [
      "[2024-04-02 15:52:35] CVRPTester.py(130) : episode   1/  1, Elapsed[0.15m], Remain[0.00m], score:143.664, aug_score:141.029\n",
      "[2024-04-02 15:52:35] CVRPTester.py(136) :  *** Test Done *** \n",
      "[2024-04-02 15:52:35] CVRPTester.py(137) :  NO-AUG SCORE: 143.6636 \n",
      "[2024-04-02 15:52:35] CVRPTester.py(138) :  AUGMENTATION SCORE: 141.0292 \n",
      ">> Evaluation on ../../../../VRP-Omni-modified/Vrp-Set-Li/Li-n1201 finished within 8.95s\n",
      ">> Save final results to res/Li-n1201\n",
      "Test on \" ../../../../VRP-Omni-modified/Vrp-Set-Li/Li-n1201 \" Success\n",
      "-----------------------------------------------------------------------------------------------------------------\n",
      "[2024-04-02 15:52:37] test.py(107) : DEBUG_MODE: False\n",
      "[2024-04-02 15:52:37] test.py(108) : USE_CUDA: True, CUDA_DEVICE_NUM: 0\n",
      "[2024-04-02 15:52:37] test.py(109) : env_params{'problem_size': 100, 'pomo_size': 100}\n",
      "[2024-04-02 15:52:37] test.py(109) : model_params{'embedding_dim': 128, 'sqrt_embedding_dim': 11.313708498984761, 'encoder_layer_num': 6, 'qkv_dim': 16, 'head_num': 8, 'logit_clipping': 10, 'ff_hidden_dim': 512, 'eval_type': 'argmax'}\n",
      "[2024-04-02 15:52:37] test.py(109) : tester_params{'use_cuda': True, 'cuda_device_num': 0, 'model_load': {'path': './result/saved_CVRP100_model', 'epoch': 30500}, 'test_episodes': 1000, 'test_batch_size': 1, 'augmentation_enable': True, 'aug_factor': 8, 'aug_batch_size': 1, 'test_data_load': {'enable': False, 'filename': '../vrp100_test_seed1234.pt'}, 'test_set_path': '../../../../VRP-Omni-modified/Vrp-Set-Li/Li-n561', 'test_set_opt_sol_path': '../../../../VRP-Omni-modified/Vrp-Set-A/A-n33-sol', 'test_set_name': 'A-n33'}\n",
      "[2024-04-02 15:52:37] test.py(109) : logger_params{'log_file': {'desc': 'test_cvrp100', 'filename': 'log.txt', 'filepath': './result/20240402_165236_test_cvrp100'}}\n",
      "['../../../../VRP-Omni-modified/Vrp-Set-Li/Li-n561/Li_21.vrp']\n"
     ]
    },
    {
     "name": "stderr",
     "output_type": "stream",
     "text": [
      "/home/xunj/miniconda3/lib/python3.11/site-packages/torch/__init__.py:614: UserWarning: torch.set_default_tensor_type() is deprecated as of PyTorch 2.1, please use torch.set_default_dtype() and torch.set_default_device() as alternatives. (Triggered internally at /opt/conda/conda-bld/pytorch_1699449183005/work/torch/csrc/tensor/python_tensor.cpp:451.)\n",
      "  _C._set_default_tensor_type(t)\n"
     ]
    },
    {
     "name": "stdout",
     "output_type": "stream",
     "text": [
      "[2024-04-02 15:52:39] CVRPTester.py(130) : episode   1/  1, Elapsed[0.02m], Remain[0.00m], score:28.365, aug_score:28.041\n",
      "[2024-04-02 15:52:39] CVRPTester.py(136) :  *** Test Done *** \n",
      "[2024-04-02 15:52:39] CVRPTester.py(137) :  NO-AUG SCORE: 28.3650 \n",
      "[2024-04-02 15:52:39] CVRPTester.py(138) :  AUGMENTATION SCORE: 28.0413 \n",
      ">> Evaluation on ../../../../VRP-Omni-modified/Vrp-Set-Li/Li-n561 finished within 1.37s\n",
      ">> Save final results to res/Li-n561\n",
      "Test on \" ../../../../VRP-Omni-modified/Vrp-Set-Li/Li-n561 \" Success\n",
      "-----------------------------------------------------------------------------------------------------------------\n",
      "[2024-04-02 15:52:42] test.py(107) : DEBUG_MODE: False\n",
      "[2024-04-02 15:52:42] test.py(108) : USE_CUDA: True, CUDA_DEVICE_NUM: 0\n",
      "[2024-04-02 15:52:42] test.py(109) : env_params{'problem_size': 100, 'pomo_size': 100}\n",
      "[2024-04-02 15:52:42] test.py(109) : model_params{'embedding_dim': 128, 'sqrt_embedding_dim': 11.313708498984761, 'encoder_layer_num': 6, 'qkv_dim': 16, 'head_num': 8, 'logit_clipping': 10, 'ff_hidden_dim': 512, 'eval_type': 'argmax'}\n",
      "[2024-04-02 15:52:42] test.py(109) : tester_params{'use_cuda': True, 'cuda_device_num': 0, 'model_load': {'path': './result/saved_CVRP100_model', 'epoch': 30500}, 'test_episodes': 1000, 'test_batch_size': 1, 'augmentation_enable': True, 'aug_factor': 8, 'aug_batch_size': 1, 'test_data_load': {'enable': False, 'filename': '../vrp100_test_seed1234.pt'}, 'test_set_path': '../../../../VRP-Omni-modified/Vrp-Set-Li/Li-n601', 'test_set_opt_sol_path': '../../../../VRP-Omni-modified/Vrp-Set-A/A-n33-sol', 'test_set_name': 'A-n33'}\n",
      "[2024-04-02 15:52:42] test.py(109) : logger_params{'log_file': {'desc': 'test_cvrp100', 'filename': 'log.txt', 'filepath': './result/20240402_165240_test_cvrp100'}}\n",
      "['../../../../VRP-Omni-modified/Vrp-Set-Li/Li-n601/Li_22.vrp']\n"
     ]
    },
    {
     "name": "stderr",
     "output_type": "stream",
     "text": [
      "/home/xunj/miniconda3/lib/python3.11/site-packages/torch/__init__.py:614: UserWarning: torch.set_default_tensor_type() is deprecated as of PyTorch 2.1, please use torch.set_default_dtype() and torch.set_default_device() as alternatives. (Triggered internally at /opt/conda/conda-bld/pytorch_1699449183005/work/torch/csrc/tensor/python_tensor.cpp:451.)\n",
      "  _C._set_default_tensor_type(t)\n"
     ]
    },
    {
     "name": "stdout",
     "output_type": "stream",
     "text": [
      "[2024-04-02 15:52:44] CVRPTester.py(130) : episode   1/  1, Elapsed[0.03m], Remain[0.00m], score:23.638, aug_score:22.009\n",
      "[2024-04-02 15:52:44] CVRPTester.py(136) :  *** Test Done *** \n",
      "[2024-04-02 15:52:44] CVRPTester.py(137) :  NO-AUG SCORE: 23.6379 \n",
      "[2024-04-02 15:52:44] CVRPTester.py(138) :  AUGMENTATION SCORE: 22.0089 \n",
      ">> Evaluation on ../../../../VRP-Omni-modified/Vrp-Set-Li/Li-n601 finished within 1.61s\n",
      ">> Save final results to res/Li-n601\n",
      "Test on \" ../../../../VRP-Omni-modified/Vrp-Set-Li/Li-n601 \" Success\n",
      "-----------------------------------------------------------------------------------------------------------------\n",
      "[2024-04-02 15:52:46] test.py(107) : DEBUG_MODE: False\n",
      "[2024-04-02 15:52:46] test.py(108) : USE_CUDA: True, CUDA_DEVICE_NUM: 0\n",
      "[2024-04-02 15:52:46] test.py(109) : env_params{'problem_size': 100, 'pomo_size': 100}\n",
      "[2024-04-02 15:52:46] test.py(109) : model_params{'embedding_dim': 128, 'sqrt_embedding_dim': 11.313708498984761, 'encoder_layer_num': 6, 'qkv_dim': 16, 'head_num': 8, 'logit_clipping': 10, 'ff_hidden_dim': 512, 'eval_type': 'argmax'}\n",
      "[2024-04-02 15:52:46] test.py(109) : tester_params{'use_cuda': True, 'cuda_device_num': 0, 'model_load': {'path': './result/saved_CVRP100_model', 'epoch': 30500}, 'test_episodes': 1000, 'test_batch_size': 1, 'augmentation_enable': True, 'aug_factor': 8, 'aug_batch_size': 1, 'test_data_load': {'enable': False, 'filename': '../vrp100_test_seed1234.pt'}, 'test_set_path': '../../../../VRP-Omni-modified/Vrp-Set-Li/Li-n641', 'test_set_opt_sol_path': '../../../../VRP-Omni-modified/Vrp-Set-A/A-n33-sol', 'test_set_name': 'A-n33'}\n",
      "[2024-04-02 15:52:46] test.py(109) : logger_params{'log_file': {'desc': 'test_cvrp100', 'filename': 'log.txt', 'filepath': './result/20240402_165245_test_cvrp100'}}\n",
      "['../../../../VRP-Omni-modified/Vrp-Set-Li/Li-n641/Li_23.vrp']\n"
     ]
    },
    {
     "name": "stderr",
     "output_type": "stream",
     "text": [
      "/home/xunj/miniconda3/lib/python3.11/site-packages/torch/__init__.py:614: UserWarning: torch.set_default_tensor_type() is deprecated as of PyTorch 2.1, please use torch.set_default_dtype() and torch.set_default_device() as alternatives. (Triggered internally at /opt/conda/conda-bld/pytorch_1699449183005/work/torch/csrc/tensor/python_tensor.cpp:451.)\n",
      "  _C._set_default_tensor_type(t)\n"
     ]
    },
    {
     "name": "stdout",
     "output_type": "stream",
     "text": [
      "[2024-04-02 15:52:49] CVRPTester.py(130) : episode   1/  1, Elapsed[0.03m], Remain[0.00m], score:40.610, aug_score:33.939\n",
      "[2024-04-02 15:52:49] CVRPTester.py(136) :  *** Test Done *** \n",
      "[2024-04-02 15:52:49] CVRPTester.py(137) :  NO-AUG SCORE: 40.6096 \n",
      "[2024-04-02 15:52:49] CVRPTester.py(138) :  AUGMENTATION SCORE: 33.9391 \n",
      ">> Evaluation on ../../../../VRP-Omni-modified/Vrp-Set-Li/Li-n641 finished within 1.83s\n",
      ">> Save final results to res/Li-n641\n",
      "Test on \" ../../../../VRP-Omni-modified/Vrp-Set-Li/Li-n641 \" Success\n",
      "-----------------------------------------------------------------------------------------------------------------\n",
      "[2024-04-02 15:52:51] test.py(107) : DEBUG_MODE: False\n",
      "[2024-04-02 15:52:51] test.py(108) : USE_CUDA: True, CUDA_DEVICE_NUM: 0\n",
      "[2024-04-02 15:52:51] test.py(109) : env_params{'problem_size': 100, 'pomo_size': 100}\n",
      "[2024-04-02 15:52:51] test.py(109) : model_params{'embedding_dim': 128, 'sqrt_embedding_dim': 11.313708498984761, 'encoder_layer_num': 6, 'qkv_dim': 16, 'head_num': 8, 'logit_clipping': 10, 'ff_hidden_dim': 512, 'eval_type': 'argmax'}\n",
      "[2024-04-02 15:52:51] test.py(109) : tester_params{'use_cuda': True, 'cuda_device_num': 0, 'model_load': {'path': './result/saved_CVRP100_model', 'epoch': 30500}, 'test_episodes': 1000, 'test_batch_size': 1, 'augmentation_enable': True, 'aug_factor': 8, 'aug_batch_size': 1, 'test_data_load': {'enable': False, 'filename': '../vrp100_test_seed1234.pt'}, 'test_set_path': '../../../../VRP-Omni-modified/Vrp-Set-Li/Li-n721', 'test_set_opt_sol_path': '../../../../VRP-Omni-modified/Vrp-Set-A/A-n33-sol', 'test_set_name': 'A-n33'}\n",
      "[2024-04-02 15:52:51] test.py(109) : logger_params{'log_file': {'desc': 'test_cvrp100', 'filename': 'log.txt', 'filepath': './result/20240402_165250_test_cvrp100'}}\n",
      "['../../../../VRP-Omni-modified/Vrp-Set-Li/Li-n721/Li_24.vrp']\n"
     ]
    },
    {
     "name": "stderr",
     "output_type": "stream",
     "text": [
      "/home/xunj/miniconda3/lib/python3.11/site-packages/torch/__init__.py:614: UserWarning: torch.set_default_tensor_type() is deprecated as of PyTorch 2.1, please use torch.set_default_dtype() and torch.set_default_device() as alternatives. (Triggered internally at /opt/conda/conda-bld/pytorch_1699449183005/work/torch/csrc/tensor/python_tensor.cpp:451.)\n",
      "  _C._set_default_tensor_type(t)\n"
     ]
    },
    {
     "name": "stdout",
     "output_type": "stream",
     "text": [
      "[2024-04-02 15:52:54] CVRPTester.py(130) : episode   1/  1, Elapsed[0.04m], Remain[0.00m], score:58.050, aug_score:49.992\n",
      "[2024-04-02 15:52:54] CVRPTester.py(136) :  *** Test Done *** \n",
      "[2024-04-02 15:52:54] CVRPTester.py(137) :  NO-AUG SCORE: 58.0497 \n",
      "[2024-04-02 15:52:54] CVRPTester.py(138) :  AUGMENTATION SCORE: 49.9924 \n",
      ">> Evaluation on ../../../../VRP-Omni-modified/Vrp-Set-Li/Li-n721 finished within 2.29s\n",
      ">> Save final results to res/Li-n721\n",
      "Test on \" ../../../../VRP-Omni-modified/Vrp-Set-Li/Li-n721 \" Success\n",
      "-----------------------------------------------------------------------------------------------------------------\n",
      "[2024-04-02 15:52:56] test.py(107) : DEBUG_MODE: False\n",
      "[2024-04-02 15:52:56] test.py(108) : USE_CUDA: True, CUDA_DEVICE_NUM: 0\n",
      "[2024-04-02 15:52:56] test.py(109) : env_params{'problem_size': 100, 'pomo_size': 100}\n",
      "[2024-04-02 15:52:56] test.py(109) : model_params{'embedding_dim': 128, 'sqrt_embedding_dim': 11.313708498984761, 'encoder_layer_num': 6, 'qkv_dim': 16, 'head_num': 8, 'logit_clipping': 10, 'ff_hidden_dim': 512, 'eval_type': 'argmax'}\n",
      "[2024-04-02 15:52:56] test.py(109) : tester_params{'use_cuda': True, 'cuda_device_num': 0, 'model_load': {'path': './result/saved_CVRP100_model', 'epoch': 30500}, 'test_episodes': 1000, 'test_batch_size': 1, 'augmentation_enable': True, 'aug_factor': 8, 'aug_batch_size': 1, 'test_data_load': {'enable': False, 'filename': '../vrp100_test_seed1234.pt'}, 'test_set_path': '../../../../VRP-Omni-modified/Vrp-Set-Li/Li-n761', 'test_set_opt_sol_path': '../../../../VRP-Omni-modified/Vrp-Set-A/A-n33-sol', 'test_set_name': 'A-n33'}\n",
      "[2024-04-02 15:52:56] test.py(109) : logger_params{'log_file': {'desc': 'test_cvrp100', 'filename': 'log.txt', 'filepath': './result/20240402_165255_test_cvrp100'}}\n",
      "['../../../../VRP-Omni-modified/Vrp-Set-Li/Li-n761/Li_25.vrp']\n"
     ]
    },
    {
     "name": "stderr",
     "output_type": "stream",
     "text": [
      "/home/xunj/miniconda3/lib/python3.11/site-packages/torch/__init__.py:614: UserWarning: torch.set_default_tensor_type() is deprecated as of PyTorch 2.1, please use torch.set_default_dtype() and torch.set_default_device() as alternatives. (Triggered internally at /opt/conda/conda-bld/pytorch_1699449183005/work/torch/csrc/tensor/python_tensor.cpp:451.)\n",
      "  _C._set_default_tensor_type(t)\n"
     ]
    },
    {
     "name": "stdout",
     "output_type": "stream",
     "text": [
      "[2024-04-02 15:52:59] CVRPTester.py(130) : episode   1/  1, Elapsed[0.04m], Remain[0.00m], score:29.416, aug_score:27.632\n",
      "[2024-04-02 15:52:59] CVRPTester.py(136) :  *** Test Done *** \n",
      "[2024-04-02 15:52:59] CVRPTester.py(137) :  NO-AUG SCORE: 29.4156 \n",
      "[2024-04-02 15:52:59] CVRPTester.py(138) :  AUGMENTATION SCORE: 27.6324 \n",
      ">> Evaluation on ../../../../VRP-Omni-modified/Vrp-Set-Li/Li-n761 finished within 2.62s\n",
      ">> Save final results to res/Li-n761\n",
      "Test on \" ../../../../VRP-Omni-modified/Vrp-Set-Li/Li-n761 \" Success\n",
      "-----------------------------------------------------------------------------------------------------------------\n",
      "[2024-04-02 15:53:02] test.py(107) : DEBUG_MODE: False\n",
      "[2024-04-02 15:53:02] test.py(108) : USE_CUDA: True, CUDA_DEVICE_NUM: 0\n",
      "[2024-04-02 15:53:02] test.py(109) : env_params{'problem_size': 100, 'pomo_size': 100}\n",
      "[2024-04-02 15:53:02] test.py(109) : model_params{'embedding_dim': 128, 'sqrt_embedding_dim': 11.313708498984761, 'encoder_layer_num': 6, 'qkv_dim': 16, 'head_num': 8, 'logit_clipping': 10, 'ff_hidden_dim': 512, 'eval_type': 'argmax'}\n",
      "[2024-04-02 15:53:02] test.py(109) : tester_params{'use_cuda': True, 'cuda_device_num': 0, 'model_load': {'path': './result/saved_CVRP100_model', 'epoch': 30500}, 'test_episodes': 1000, 'test_batch_size': 1, 'augmentation_enable': True, 'aug_factor': 8, 'aug_batch_size': 1, 'test_data_load': {'enable': False, 'filename': '../vrp100_test_seed1234.pt'}, 'test_set_path': '../../../../VRP-Omni-modified/Vrp-Set-Li/Li-n801', 'test_set_opt_sol_path': '../../../../VRP-Omni-modified/Vrp-Set-A/A-n33-sol', 'test_set_name': 'A-n33'}\n",
      "[2024-04-02 15:53:02] test.py(109) : logger_params{'log_file': {'desc': 'test_cvrp100', 'filename': 'log.txt', 'filepath': './result/20240402_165300_test_cvrp100'}}\n",
      "['../../../../VRP-Omni-modified/Vrp-Set-Li/Li-n801/Li_26.vrp']\n"
     ]
    },
    {
     "name": "stderr",
     "output_type": "stream",
     "text": [
      "/home/xunj/miniconda3/lib/python3.11/site-packages/torch/__init__.py:614: UserWarning: torch.set_default_tensor_type() is deprecated as of PyTorch 2.1, please use torch.set_default_dtype() and torch.set_default_device() as alternatives. (Triggered internally at /opt/conda/conda-bld/pytorch_1699449183005/work/torch/csrc/tensor/python_tensor.cpp:451.)\n",
      "  _C._set_default_tensor_type(t)\n"
     ]
    },
    {
     "name": "stdout",
     "output_type": "stream",
     "text": [
      "[2024-04-02 15:53:05] CVRPTester.py(130) : episode   1/  1, Elapsed[0.05m], Remain[0.00m], score:68.548, aug_score:68.548\n",
      "[2024-04-02 15:53:05] CVRPTester.py(136) :  *** Test Done *** \n",
      "[2024-04-02 15:53:05] CVRPTester.py(137) :  NO-AUG SCORE: 68.5475 \n",
      "[2024-04-02 15:53:05] CVRPTester.py(138) :  AUGMENTATION SCORE: 68.5475 \n",
      ">> Evaluation on ../../../../VRP-Omni-modified/Vrp-Set-Li/Li-n801 finished within 3.01s\n",
      ">> Save final results to res/Li-n801\n",
      "Test on \" ../../../../VRP-Omni-modified/Vrp-Set-Li/Li-n801 \" Success\n",
      "-----------------------------------------------------------------------------------------------------------------\n",
      "[2024-04-02 15:53:08] test.py(107) : DEBUG_MODE: False\n",
      "[2024-04-02 15:53:08] test.py(108) : USE_CUDA: True, CUDA_DEVICE_NUM: 0\n",
      "[2024-04-02 15:53:08] test.py(109) : env_params{'problem_size': 100, 'pomo_size': 100}\n",
      "[2024-04-02 15:53:08] test.py(109) : model_params{'embedding_dim': 128, 'sqrt_embedding_dim': 11.313708498984761, 'encoder_layer_num': 6, 'qkv_dim': 16, 'head_num': 8, 'logit_clipping': 10, 'ff_hidden_dim': 512, 'eval_type': 'argmax'}\n",
      "[2024-04-02 15:53:08] test.py(109) : tester_params{'use_cuda': True, 'cuda_device_num': 0, 'model_load': {'path': './result/saved_CVRP100_model', 'epoch': 30500}, 'test_episodes': 1000, 'test_batch_size': 1, 'augmentation_enable': True, 'aug_factor': 8, 'aug_batch_size': 1, 'test_data_load': {'enable': False, 'filename': '../vrp100_test_seed1234.pt'}, 'test_set_path': '../../../../VRP-Omni-modified/Vrp-Set-Li/Li-n841', 'test_set_opt_sol_path': '../../../../VRP-Omni-modified/Vrp-Set-A/A-n33-sol', 'test_set_name': 'A-n33'}\n",
      "[2024-04-02 15:53:08] test.py(109) : logger_params{'log_file': {'desc': 'test_cvrp100', 'filename': 'log.txt', 'filepath': './result/20240402_165306_test_cvrp100'}}\n",
      "['../../../../VRP-Omni-modified/Vrp-Set-Li/Li-n841/Li_27.vrp']\n"
     ]
    },
    {
     "name": "stderr",
     "output_type": "stream",
     "text": [
      "/home/xunj/miniconda3/lib/python3.11/site-packages/torch/__init__.py:614: UserWarning: torch.set_default_tensor_type() is deprecated as of PyTorch 2.1, please use torch.set_default_dtype() and torch.set_default_device() as alternatives. (Triggered internally at /opt/conda/conda-bld/pytorch_1699449183005/work/torch/csrc/tensor/python_tensor.cpp:451.)\n",
      "  _C._set_default_tensor_type(t)\n"
     ]
    },
    {
     "name": "stdout",
     "output_type": "stream",
     "text": [
      "[2024-04-02 15:53:12] CVRPTester.py(130) : episode   1/  1, Elapsed[0.06m], Remain[0.00m], score:32.389, aug_score:31.730\n",
      "[2024-04-02 15:53:12] CVRPTester.py(136) :  *** Test Done *** \n",
      "[2024-04-02 15:53:12] CVRPTester.py(137) :  NO-AUG SCORE: 32.3886 \n",
      "[2024-04-02 15:53:12] CVRPTester.py(138) :  AUGMENTATION SCORE: 31.7304 \n",
      ">> Evaluation on ../../../../VRP-Omni-modified/Vrp-Set-Li/Li-n841 finished within 3.40s\n",
      ">> Save final results to res/Li-n841\n",
      "Test on \" ../../../../VRP-Omni-modified/Vrp-Set-Li/Li-n841 \" Success\n",
      "-----------------------------------------------------------------------------------------------------------------\n",
      "[2024-04-02 15:53:14] test.py(107) : DEBUG_MODE: False\n",
      "[2024-04-02 15:53:14] test.py(108) : USE_CUDA: True, CUDA_DEVICE_NUM: 0\n",
      "[2024-04-02 15:53:14] test.py(109) : env_params{'problem_size': 100, 'pomo_size': 100}\n",
      "[2024-04-02 15:53:14] test.py(109) : model_params{'embedding_dim': 128, 'sqrt_embedding_dim': 11.313708498984761, 'encoder_layer_num': 6, 'qkv_dim': 16, 'head_num': 8, 'logit_clipping': 10, 'ff_hidden_dim': 512, 'eval_type': 'argmax'}\n",
      "[2024-04-02 15:53:14] test.py(109) : tester_params{'use_cuda': True, 'cuda_device_num': 0, 'model_load': {'path': './result/saved_CVRP100_model', 'epoch': 30500}, 'test_episodes': 1000, 'test_batch_size': 1, 'augmentation_enable': True, 'aug_factor': 8, 'aug_batch_size': 1, 'test_data_load': {'enable': False, 'filename': '../vrp100_test_seed1234.pt'}, 'test_set_path': '../../../../VRP-Omni-modified/Vrp-Set-Li/Li-n881', 'test_set_opt_sol_path': '../../../../VRP-Omni-modified/Vrp-Set-A/A-n33-sol', 'test_set_name': 'A-n33'}\n",
      "[2024-04-02 15:53:14] test.py(109) : logger_params{'log_file': {'desc': 'test_cvrp100', 'filename': 'log.txt', 'filepath': './result/20240402_165313_test_cvrp100'}}\n",
      "['../../../../VRP-Omni-modified/Vrp-Set-Li/Li-n881/Li_28.vrp']\n"
     ]
    },
    {
     "name": "stderr",
     "output_type": "stream",
     "text": [
      "/home/xunj/miniconda3/lib/python3.11/site-packages/torch/__init__.py:614: UserWarning: torch.set_default_tensor_type() is deprecated as of PyTorch 2.1, please use torch.set_default_dtype() and torch.set_default_device() as alternatives. (Triggered internally at /opt/conda/conda-bld/pytorch_1699449183005/work/torch/csrc/tensor/python_tensor.cpp:451.)\n",
      "  _C._set_default_tensor_type(t)\n"
     ]
    },
    {
     "name": "stdout",
     "output_type": "stream",
     "text": [
      "[2024-04-02 15:53:18] CVRPTester.py(130) : episode   1/  1, Elapsed[0.07m], Remain[0.00m], score:73.206, aug_score:73.206\n",
      "[2024-04-02 15:53:18] CVRPTester.py(136) :  *** Test Done *** \n",
      "[2024-04-02 15:53:18] CVRPTester.py(137) :  NO-AUG SCORE: 73.2060 \n",
      "[2024-04-02 15:53:18] CVRPTester.py(138) :  AUGMENTATION SCORE: 73.2060 \n",
      ">> Evaluation on ../../../../VRP-Omni-modified/Vrp-Set-Li/Li-n881 finished within 4.00s\n",
      ">> Save final results to res/Li-n881\n",
      "Test on \" ../../../../VRP-Omni-modified/Vrp-Set-Li/Li-n881 \" Success\n",
      "-----------------------------------------------------------------------------------------------------------------\n",
      "[2024-04-02 15:53:21] test.py(107) : DEBUG_MODE: False\n",
      "[2024-04-02 15:53:21] test.py(108) : USE_CUDA: True, CUDA_DEVICE_NUM: 0\n",
      "[2024-04-02 15:53:21] test.py(109) : env_params{'problem_size': 100, 'pomo_size': 100}\n",
      "[2024-04-02 15:53:21] test.py(109) : model_params{'embedding_dim': 128, 'sqrt_embedding_dim': 11.313708498984761, 'encoder_layer_num': 6, 'qkv_dim': 16, 'head_num': 8, 'logit_clipping': 10, 'ff_hidden_dim': 512, 'eval_type': 'argmax'}\n",
      "[2024-04-02 15:53:21] test.py(109) : tester_params{'use_cuda': True, 'cuda_device_num': 0, 'model_load': {'path': './result/saved_CVRP100_model', 'epoch': 30500}, 'test_episodes': 1000, 'test_batch_size': 1, 'augmentation_enable': True, 'aug_factor': 8, 'aug_batch_size': 1, 'test_data_load': {'enable': False, 'filename': '../vrp100_test_seed1234.pt'}, 'test_set_path': '../../../../VRP-Omni-modified/Vrp-Set-Li/Li-n961', 'test_set_opt_sol_path': '../../../../VRP-Omni-modified/Vrp-Set-A/A-n33-sol', 'test_set_name': 'A-n33'}\n",
      "[2024-04-02 15:53:21] test.py(109) : logger_params{'log_file': {'desc': 'test_cvrp100', 'filename': 'log.txt', 'filepath': './result/20240402_165320_test_cvrp100'}}\n",
      "['../../../../VRP-Omni-modified/Vrp-Set-Li/Li-n961/Li_29.vrp']\n"
     ]
    },
    {
     "name": "stderr",
     "output_type": "stream",
     "text": [
      "/home/xunj/miniconda3/lib/python3.11/site-packages/torch/__init__.py:614: UserWarning: torch.set_default_tensor_type() is deprecated as of PyTorch 2.1, please use torch.set_default_dtype() and torch.set_default_device() as alternatives. (Triggered internally at /opt/conda/conda-bld/pytorch_1699449183005/work/torch/csrc/tensor/python_tensor.cpp:451.)\n",
      "  _C._set_default_tensor_type(t)\n"
     ]
    },
    {
     "name": "stdout",
     "output_type": "stream",
     "text": [
      "[2024-04-02 15:53:26] CVRPTester.py(130) : episode   1/  1, Elapsed[0.08m], Remain[0.00m], score:64.219, aug_score:64.219\n",
      "[2024-04-02 15:53:26] CVRPTester.py(136) :  *** Test Done *** \n",
      "[2024-04-02 15:53:26] CVRPTester.py(137) :  NO-AUG SCORE: 64.2186 \n",
      "[2024-04-02 15:53:26] CVRPTester.py(138) :  AUGMENTATION SCORE: 64.2186 \n",
      ">> Evaluation on ../../../../VRP-Omni-modified/Vrp-Set-Li/Li-n961 finished within 4.90s\n",
      ">> Save final results to res/Li-n961\n",
      "Test on \" ../../../../VRP-Omni-modified/Vrp-Set-Li/Li-n961 \" Success\n",
      "-----------------------------------------------------------------------------------------------------------------\n",
      "[2024-04-02 15:53:29] test.py(107) : DEBUG_MODE: False\n",
      "[2024-04-02 15:53:29] test.py(108) : USE_CUDA: True, CUDA_DEVICE_NUM: 0\n",
      "[2024-04-02 15:53:29] test.py(109) : env_params{'problem_size': 100, 'pomo_size': 100}\n",
      "[2024-04-02 15:53:29] test.py(109) : model_params{'embedding_dim': 128, 'sqrt_embedding_dim': 11.313708498984761, 'encoder_layer_num': 6, 'qkv_dim': 16, 'head_num': 8, 'logit_clipping': 10, 'ff_hidden_dim': 512, 'eval_type': 'argmax'}\n",
      "[2024-04-02 15:53:29] test.py(109) : tester_params{'use_cuda': True, 'cuda_device_num': 0, 'model_load': {'path': './result/saved_CVRP100_model', 'epoch': 30500}, 'test_episodes': 1000, 'test_batch_size': 1, 'augmentation_enable': True, 'aug_factor': 8, 'aug_batch_size': 1, 'test_data_load': {'enable': False, 'filename': '../vrp100_test_seed1234.pt'}, 'test_set_path': '../../../../VRP-Omni-modified/Vrp-Set-M/M-n101', 'test_set_opt_sol_path': '../../../../VRP-Omni-modified/Vrp-Set-A/A-n33-sol', 'test_set_name': 'A-n33'}\n",
      "[2024-04-02 15:53:29] test.py(109) : logger_params{'log_file': {'desc': 'test_cvrp100', 'filename': 'log.txt', 'filepath': './result/20240402_165327_test_cvrp100'}}\n",
      "['../../../../VRP-Omni-modified/Vrp-Set-M/M-n101/M-n101-k10.vrp']\n"
     ]
    },
    {
     "name": "stderr",
     "output_type": "stream",
     "text": [
      "/home/xunj/miniconda3/lib/python3.11/site-packages/torch/__init__.py:614: UserWarning: torch.set_default_tensor_type() is deprecated as of PyTorch 2.1, please use torch.set_default_dtype() and torch.set_default_device() as alternatives. (Triggered internally at /opt/conda/conda-bld/pytorch_1699449183005/work/torch/csrc/tensor/python_tensor.cpp:451.)\n",
      "  _C._set_default_tensor_type(t)\n"
     ]
    },
    {
     "name": "stdout",
     "output_type": "stream",
     "text": [
      "[2024-04-02 15:53:30] CVRPTester.py(130) : episode   1/  1, Elapsed[0.01m], Remain[0.00m], score:1.739, aug_score:1.073\n",
      "[2024-04-02 15:53:30] CVRPTester.py(136) :  *** Test Done *** \n",
      "[2024-04-02 15:53:30] CVRPTester.py(137) :  NO-AUG SCORE: 1.7391 \n",
      "[2024-04-02 15:53:30] CVRPTester.py(138) :  AUGMENTATION SCORE: 1.0725 \n",
      ">> Evaluation on ../../../../VRP-Omni-modified/Vrp-Set-M/M-n101 finished within 0.39s\n",
      ">> Save final results to res/M-n101\n",
      "Test on \" ../../../../VRP-Omni-modified/Vrp-Set-M/M-n101 \" Success\n",
      "-----------------------------------------------------------------------------------------------------------------\n",
      "[2024-04-02 15:53:32] test.py(107) : DEBUG_MODE: False\n",
      "[2024-04-02 15:53:32] test.py(108) : USE_CUDA: True, CUDA_DEVICE_NUM: 0\n",
      "[2024-04-02 15:53:32] test.py(109) : env_params{'problem_size': 100, 'pomo_size': 100}\n",
      "[2024-04-02 15:53:32] test.py(109) : model_params{'embedding_dim': 128, 'sqrt_embedding_dim': 11.313708498984761, 'encoder_layer_num': 6, 'qkv_dim': 16, 'head_num': 8, 'logit_clipping': 10, 'ff_hidden_dim': 512, 'eval_type': 'argmax'}\n",
      "[2024-04-02 15:53:32] test.py(109) : tester_params{'use_cuda': True, 'cuda_device_num': 0, 'model_load': {'path': './result/saved_CVRP100_model', 'epoch': 30500}, 'test_episodes': 1000, 'test_batch_size': 1, 'augmentation_enable': True, 'aug_factor': 8, 'aug_batch_size': 1, 'test_data_load': {'enable': False, 'filename': '../vrp100_test_seed1234.pt'}, 'test_set_path': '../../../../VRP-Omni-modified/Vrp-Set-M/M-n121', 'test_set_opt_sol_path': '../../../../VRP-Omni-modified/Vrp-Set-A/A-n33-sol', 'test_set_name': 'A-n33'}\n",
      "[2024-04-02 15:53:32] test.py(109) : logger_params{'log_file': {'desc': 'test_cvrp100', 'filename': 'log.txt', 'filepath': './result/20240402_165331_test_cvrp100'}}\n",
      "['../../../../VRP-Omni-modified/Vrp-Set-M/M-n121/M-n121-k7.vrp']\n"
     ]
    },
    {
     "name": "stderr",
     "output_type": "stream",
     "text": [
      "/home/xunj/miniconda3/lib/python3.11/site-packages/torch/__init__.py:614: UserWarning: torch.set_default_tensor_type() is deprecated as of PyTorch 2.1, please use torch.set_default_dtype() and torch.set_default_device() as alternatives. (Triggered internally at /opt/conda/conda-bld/pytorch_1699449183005/work/torch/csrc/tensor/python_tensor.cpp:451.)\n",
      "  _C._set_default_tensor_type(t)\n"
     ]
    },
    {
     "name": "stdout",
     "output_type": "stream",
     "text": [
      "[2024-04-02 15:53:33] CVRPTester.py(130) : episode   1/  1, Elapsed[0.01m], Remain[0.00m], score:1.326, aug_score:1.196\n",
      "[2024-04-02 15:53:33] CVRPTester.py(136) :  *** Test Done *** \n",
      "[2024-04-02 15:53:33] CVRPTester.py(137) :  NO-AUG SCORE: 1.3257 \n",
      "[2024-04-02 15:53:33] CVRPTester.py(138) :  AUGMENTATION SCORE: 1.1961 \n",
      ">> Evaluation on ../../../../VRP-Omni-modified/Vrp-Set-M/M-n121 finished within 0.42s\n",
      ">> Save final results to res/M-n121\n",
      "Test on \" ../../../../VRP-Omni-modified/Vrp-Set-M/M-n121 \" Success\n",
      "-----------------------------------------------------------------------------------------------------------------\n",
      "[2024-04-02 15:53:35] test.py(107) : DEBUG_MODE: False\n",
      "[2024-04-02 15:53:35] test.py(108) : USE_CUDA: True, CUDA_DEVICE_NUM: 0\n",
      "[2024-04-02 15:53:35] test.py(109) : env_params{'problem_size': 100, 'pomo_size': 100}\n",
      "[2024-04-02 15:53:35] test.py(109) : model_params{'embedding_dim': 128, 'sqrt_embedding_dim': 11.313708498984761, 'encoder_layer_num': 6, 'qkv_dim': 16, 'head_num': 8, 'logit_clipping': 10, 'ff_hidden_dim': 512, 'eval_type': 'argmax'}\n",
      "[2024-04-02 15:53:35] test.py(109) : tester_params{'use_cuda': True, 'cuda_device_num': 0, 'model_load': {'path': './result/saved_CVRP100_model', 'epoch': 30500}, 'test_episodes': 1000, 'test_batch_size': 1, 'augmentation_enable': True, 'aug_factor': 8, 'aug_batch_size': 1, 'test_data_load': {'enable': False, 'filename': '../vrp100_test_seed1234.pt'}, 'test_set_path': '../../../../VRP-Omni-modified/Vrp-Set-M/M-n151', 'test_set_opt_sol_path': '../../../../VRP-Omni-modified/Vrp-Set-A/A-n33-sol', 'test_set_name': 'A-n33'}\n",
      "[2024-04-02 15:53:35] test.py(109) : logger_params{'log_file': {'desc': 'test_cvrp100', 'filename': 'log.txt', 'filepath': './result/20240402_165334_test_cvrp100'}}\n",
      "['../../../../VRP-Omni-modified/Vrp-Set-M/M-n151/M-n151-k12.vrp']\n"
     ]
    },
    {
     "name": "stderr",
     "output_type": "stream",
     "text": [
      "/home/xunj/miniconda3/lib/python3.11/site-packages/torch/__init__.py:614: UserWarning: torch.set_default_tensor_type() is deprecated as of PyTorch 2.1, please use torch.set_default_dtype() and torch.set_default_device() as alternatives. (Triggered internally at /opt/conda/conda-bld/pytorch_1699449183005/work/torch/csrc/tensor/python_tensor.cpp:451.)\n",
      "  _C._set_default_tensor_type(t)\n"
     ]
    },
    {
     "name": "stdout",
     "output_type": "stream",
     "text": [
      "[2024-04-02 15:53:36] CVRPTester.py(130) : episode   1/  1, Elapsed[0.01m], Remain[0.00m], score:2.219, aug_score:1.445\n",
      "[2024-04-02 15:53:36] CVRPTester.py(136) :  *** Test Done *** \n",
      "[2024-04-02 15:53:36] CVRPTester.py(137) :  NO-AUG SCORE: 2.2190 \n",
      "[2024-04-02 15:53:36] CVRPTester.py(138) :  AUGMENTATION SCORE: 1.4446 \n",
      ">> Evaluation on ../../../../VRP-Omni-modified/Vrp-Set-M/M-n151 finished within 0.45s\n",
      ">> Save final results to res/M-n151\n",
      "Test on \" ../../../../VRP-Omni-modified/Vrp-Set-M/M-n151 \" Success\n",
      "-----------------------------------------------------------------------------------------------------------------\n",
      "[2024-04-02 15:53:38] test.py(107) : DEBUG_MODE: False\n",
      "[2024-04-02 15:53:38] test.py(108) : USE_CUDA: True, CUDA_DEVICE_NUM: 0\n",
      "[2024-04-02 15:53:38] test.py(109) : env_params{'problem_size': 100, 'pomo_size': 100}\n",
      "[2024-04-02 15:53:38] test.py(109) : model_params{'embedding_dim': 128, 'sqrt_embedding_dim': 11.313708498984761, 'encoder_layer_num': 6, 'qkv_dim': 16, 'head_num': 8, 'logit_clipping': 10, 'ff_hidden_dim': 512, 'eval_type': 'argmax'}\n",
      "[2024-04-02 15:53:38] test.py(109) : tester_params{'use_cuda': True, 'cuda_device_num': 0, 'model_load': {'path': './result/saved_CVRP100_model', 'epoch': 30500}, 'test_episodes': 1000, 'test_batch_size': 1, 'augmentation_enable': True, 'aug_factor': 8, 'aug_batch_size': 1, 'test_data_load': {'enable': False, 'filename': '../vrp100_test_seed1234.pt'}, 'test_set_path': '../../../../VRP-Omni-modified/Vrp-Set-M/M-n200', 'test_set_opt_sol_path': '../../../../VRP-Omni-modified/Vrp-Set-A/A-n33-sol', 'test_set_name': 'A-n33'}\n",
      "[2024-04-02 15:53:38] test.py(109) : logger_params{'log_file': {'desc': 'test_cvrp100', 'filename': 'log.txt', 'filepath': './result/20240402_165337_test_cvrp100'}}\n",
      "['../../../../VRP-Omni-modified/Vrp-Set-M/M-n200/M-n200-k16.vrp', '../../../../VRP-Omni-modified/Vrp-Set-M/M-n200/M-n200-k17.vrp']\n"
     ]
    },
    {
     "name": "stderr",
     "output_type": "stream",
     "text": [
      "/home/xunj/miniconda3/lib/python3.11/site-packages/torch/__init__.py:614: UserWarning: torch.set_default_tensor_type() is deprecated as of PyTorch 2.1, please use torch.set_default_dtype() and torch.set_default_device() as alternatives. (Triggered internally at /opt/conda/conda-bld/pytorch_1699449183005/work/torch/csrc/tensor/python_tensor.cpp:451.)\n",
      "  _C._set_default_tensor_type(t)\n"
     ]
    },
    {
     "name": "stdout",
     "output_type": "stream",
     "text": [
      "[2024-04-02 15:53:39] CVRPTester.py(130) : episode   1/  2, Elapsed[0.01m], Remain[0.01m], score:2.209, aug_score:1.912\n",
      "[2024-04-02 15:53:40] CVRPTester.py(130) : episode   2/  2, Elapsed[0.01m], Remain[0.00m], score:2.209, aug_score:1.912\n",
      "[2024-04-02 15:53:40] CVRPTester.py(136) :  *** Test Done *** \n",
      "[2024-04-02 15:53:40] CVRPTester.py(137) :  NO-AUG SCORE: 2.2090 \n",
      "[2024-04-02 15:53:40] CVRPTester.py(138) :  AUGMENTATION SCORE: 1.9119 \n",
      ">> Evaluation on ../../../../VRP-Omni-modified/Vrp-Set-M/M-n200 finished within 0.23s\n",
      ">> Save final results to res/M-n200\n",
      "Test on \" ../../../../VRP-Omni-modified/Vrp-Set-M/M-n200 \" Success\n",
      "-----------------------------------------------------------------------------------------------------------------\n",
      "[2024-04-02 15:53:42] test.py(107) : DEBUG_MODE: False\n",
      "[2024-04-02 15:53:42] test.py(108) : USE_CUDA: True, CUDA_DEVICE_NUM: 0\n",
      "[2024-04-02 15:53:42] test.py(109) : env_params{'problem_size': 100, 'pomo_size': 100}\n",
      "[2024-04-02 15:53:42] test.py(109) : model_params{'embedding_dim': 128, 'sqrt_embedding_dim': 11.313708498984761, 'encoder_layer_num': 6, 'qkv_dim': 16, 'head_num': 8, 'logit_clipping': 10, 'ff_hidden_dim': 512, 'eval_type': 'argmax'}\n",
      "[2024-04-02 15:53:42] test.py(109) : tester_params{'use_cuda': True, 'cuda_device_num': 0, 'model_load': {'path': './result/saved_CVRP100_model', 'epoch': 30500}, 'test_episodes': 1000, 'test_batch_size': 1, 'augmentation_enable': True, 'aug_factor': 8, 'aug_batch_size': 1, 'test_data_load': {'enable': False, 'filename': '../vrp100_test_seed1234.pt'}, 'test_set_path': '../../../../VRP-Omni-modified/Vrp-Set-P/P-n101', 'test_set_opt_sol_path': '../../../../VRP-Omni-modified/Vrp-Set-A/A-n33-sol', 'test_set_name': 'A-n33'}\n",
      "[2024-04-02 15:53:42] test.py(109) : logger_params{'log_file': {'desc': 'test_cvrp100', 'filename': 'log.txt', 'filepath': './result/20240402_165341_test_cvrp100'}}\n",
      "['../../../../VRP-Omni-modified/Vrp-Set-P/P-n101/P-n101-k4.vrp']\n"
     ]
    },
    {
     "name": "stderr",
     "output_type": "stream",
     "text": [
      "/home/xunj/miniconda3/lib/python3.11/site-packages/torch/__init__.py:614: UserWarning: torch.set_default_tensor_type() is deprecated as of PyTorch 2.1, please use torch.set_default_dtype() and torch.set_default_device() as alternatives. (Triggered internally at /opt/conda/conda-bld/pytorch_1699449183005/work/torch/csrc/tensor/python_tensor.cpp:451.)\n",
      "  _C._set_default_tensor_type(t)\n"
     ]
    },
    {
     "name": "stdout",
     "output_type": "stream",
     "text": [
      "[2024-04-02 15:53:43] CVRPTester.py(130) : episode   1/  1, Elapsed[0.01m], Remain[0.00m], score:1.146, aug_score:0.920\n",
      "[2024-04-02 15:53:43] CVRPTester.py(136) :  *** Test Done *** \n",
      "[2024-04-02 15:53:43] CVRPTester.py(137) :  NO-AUG SCORE: 1.1455 \n",
      "[2024-04-02 15:53:43] CVRPTester.py(138) :  AUGMENTATION SCORE: 0.9197 \n",
      ">> Evaluation on ../../../../VRP-Omni-modified/Vrp-Set-P/P-n101 finished within 0.39s\n",
      ">> Save final results to res/P-n101\n",
      "Test on \" ../../../../VRP-Omni-modified/Vrp-Set-P/P-n101 \" Success\n",
      "-----------------------------------------------------------------------------------------------------------------\n",
      "[2024-04-02 15:53:45] test.py(107) : DEBUG_MODE: False\n",
      "[2024-04-02 15:53:45] test.py(108) : USE_CUDA: True, CUDA_DEVICE_NUM: 0\n",
      "[2024-04-02 15:53:45] test.py(109) : env_params{'problem_size': 100, 'pomo_size': 100}\n",
      "[2024-04-02 15:53:45] test.py(109) : model_params{'embedding_dim': 128, 'sqrt_embedding_dim': 11.313708498984761, 'encoder_layer_num': 6, 'qkv_dim': 16, 'head_num': 8, 'logit_clipping': 10, 'ff_hidden_dim': 512, 'eval_type': 'argmax'}\n",
      "[2024-04-02 15:53:45] test.py(109) : tester_params{'use_cuda': True, 'cuda_device_num': 0, 'model_load': {'path': './result/saved_CVRP100_model', 'epoch': 30500}, 'test_episodes': 1000, 'test_batch_size': 1, 'augmentation_enable': True, 'aug_factor': 8, 'aug_batch_size': 1, 'test_data_load': {'enable': False, 'filename': '../vrp100_test_seed1234.pt'}, 'test_set_path': '../../../../VRP-Omni-modified/Vrp-Set-P/P-n16', 'test_set_opt_sol_path': '../../../../VRP-Omni-modified/Vrp-Set-A/A-n33-sol', 'test_set_name': 'A-n33'}\n",
      "[2024-04-02 15:53:45] test.py(109) : logger_params{'log_file': {'desc': 'test_cvrp100', 'filename': 'log.txt', 'filepath': './result/20240402_165344_test_cvrp100'}}\n",
      "['../../../../VRP-Omni-modified/Vrp-Set-P/P-n16/P-n16-k8.vrp']\n"
     ]
    },
    {
     "name": "stderr",
     "output_type": "stream",
     "text": [
      "/home/xunj/miniconda3/lib/python3.11/site-packages/torch/__init__.py:614: UserWarning: torch.set_default_tensor_type() is deprecated as of PyTorch 2.1, please use torch.set_default_dtype() and torch.set_default_device() as alternatives. (Triggered internally at /opt/conda/conda-bld/pytorch_1699449183005/work/torch/csrc/tensor/python_tensor.cpp:451.)\n",
      "  _C._set_default_tensor_type(t)\n"
     ]
    },
    {
     "name": "stdout",
     "output_type": "stream",
     "text": [
      "[2024-04-02 15:53:46] CVRPTester.py(130) : episode   1/  1, Elapsed[0.01m], Remain[0.00m], score:0.513, aug_score:0.460\n",
      "[2024-04-02 15:53:46] CVRPTester.py(136) :  *** Test Done *** \n",
      "[2024-04-02 15:53:46] CVRPTester.py(137) :  NO-AUG SCORE: 0.5134 \n",
      "[2024-04-02 15:53:46] CVRPTester.py(138) :  AUGMENTATION SCORE: 0.4604 \n",
      ">> Evaluation on ../../../../VRP-Omni-modified/Vrp-Set-P/P-n16 finished within 0.30s\n",
      ">> Save final results to res/P-n16\n",
      "Test on \" ../../../../VRP-Omni-modified/Vrp-Set-P/P-n16 \" Success\n",
      "-----------------------------------------------------------------------------------------------------------------\n",
      "[2024-04-02 15:53:48] test.py(107) : DEBUG_MODE: False\n",
      "[2024-04-02 15:53:48] test.py(108) : USE_CUDA: True, CUDA_DEVICE_NUM: 0\n",
      "[2024-04-02 15:53:48] test.py(109) : env_params{'problem_size': 100, 'pomo_size': 100}\n",
      "[2024-04-02 15:53:48] test.py(109) : model_params{'embedding_dim': 128, 'sqrt_embedding_dim': 11.313708498984761, 'encoder_layer_num': 6, 'qkv_dim': 16, 'head_num': 8, 'logit_clipping': 10, 'ff_hidden_dim': 512, 'eval_type': 'argmax'}\n",
      "[2024-04-02 15:53:48] test.py(109) : tester_params{'use_cuda': True, 'cuda_device_num': 0, 'model_load': {'path': './result/saved_CVRP100_model', 'epoch': 30500}, 'test_episodes': 1000, 'test_batch_size': 1, 'augmentation_enable': True, 'aug_factor': 8, 'aug_batch_size': 1, 'test_data_load': {'enable': False, 'filename': '../vrp100_test_seed1234.pt'}, 'test_set_path': '../../../../VRP-Omni-modified/Vrp-Set-P/P-n19', 'test_set_opt_sol_path': '../../../../VRP-Omni-modified/Vrp-Set-A/A-n33-sol', 'test_set_name': 'A-n33'}\n",
      "[2024-04-02 15:53:48] test.py(109) : logger_params{'log_file': {'desc': 'test_cvrp100', 'filename': 'log.txt', 'filepath': './result/20240402_165347_test_cvrp100'}}\n",
      "['../../../../VRP-Omni-modified/Vrp-Set-P/P-n19/P-n19-k2.vrp']\n"
     ]
    },
    {
     "name": "stderr",
     "output_type": "stream",
     "text": [
      "/home/xunj/miniconda3/lib/python3.11/site-packages/torch/__init__.py:614: UserWarning: torch.set_default_tensor_type() is deprecated as of PyTorch 2.1, please use torch.set_default_dtype() and torch.set_default_device() as alternatives. (Triggered internally at /opt/conda/conda-bld/pytorch_1699449183005/work/torch/csrc/tensor/python_tensor.cpp:451.)\n",
      "  _C._set_default_tensor_type(t)\n"
     ]
    },
    {
     "name": "stdout",
     "output_type": "stream",
     "text": [
      "[2024-04-02 15:53:49] CVRPTester.py(130) : episode   1/  1, Elapsed[0.00m], Remain[0.00m], score:0.403, aug_score:0.332\n",
      "[2024-04-02 15:53:49] CVRPTester.py(136) :  *** Test Done *** \n",
      "[2024-04-02 15:53:49] CVRPTester.py(137) :  NO-AUG SCORE: 0.4034 \n",
      "[2024-04-02 15:53:49] CVRPTester.py(138) :  AUGMENTATION SCORE: 0.3319 \n",
      ">> Evaluation on ../../../../VRP-Omni-modified/Vrp-Set-P/P-n19 finished within 0.29s\n",
      ">> Save final results to res/P-n19\n",
      "Test on \" ../../../../VRP-Omni-modified/Vrp-Set-P/P-n19 \" Success\n",
      "-----------------------------------------------------------------------------------------------------------------\n",
      "[2024-04-02 15:53:51] test.py(107) : DEBUG_MODE: False\n",
      "[2024-04-02 15:53:51] test.py(108) : USE_CUDA: True, CUDA_DEVICE_NUM: 0\n",
      "[2024-04-02 15:53:51] test.py(109) : env_params{'problem_size': 100, 'pomo_size': 100}\n",
      "[2024-04-02 15:53:51] test.py(109) : model_params{'embedding_dim': 128, 'sqrt_embedding_dim': 11.313708498984761, 'encoder_layer_num': 6, 'qkv_dim': 16, 'head_num': 8, 'logit_clipping': 10, 'ff_hidden_dim': 512, 'eval_type': 'argmax'}\n",
      "[2024-04-02 15:53:51] test.py(109) : tester_params{'use_cuda': True, 'cuda_device_num': 0, 'model_load': {'path': './result/saved_CVRP100_model', 'epoch': 30500}, 'test_episodes': 1000, 'test_batch_size': 1, 'augmentation_enable': True, 'aug_factor': 8, 'aug_batch_size': 1, 'test_data_load': {'enable': False, 'filename': '../vrp100_test_seed1234.pt'}, 'test_set_path': '../../../../VRP-Omni-modified/Vrp-Set-P/P-n20', 'test_set_opt_sol_path': '../../../../VRP-Omni-modified/Vrp-Set-A/A-n33-sol', 'test_set_name': 'A-n33'}\n",
      "[2024-04-02 15:53:51] test.py(109) : logger_params{'log_file': {'desc': 'test_cvrp100', 'filename': 'log.txt', 'filepath': './result/20240402_165350_test_cvrp100'}}\n",
      "['../../../../VRP-Omni-modified/Vrp-Set-P/P-n20/P-n20-k2.vrp']\n"
     ]
    },
    {
     "name": "stderr",
     "output_type": "stream",
     "text": [
      "/home/xunj/miniconda3/lib/python3.11/site-packages/torch/__init__.py:614: UserWarning: torch.set_default_tensor_type() is deprecated as of PyTorch 2.1, please use torch.set_default_dtype() and torch.set_default_device() as alternatives. (Triggered internally at /opt/conda/conda-bld/pytorch_1699449183005/work/torch/csrc/tensor/python_tensor.cpp:451.)\n",
      "  _C._set_default_tensor_type(t)\n"
     ]
    },
    {
     "name": "stdout",
     "output_type": "stream",
     "text": [
      "[2024-04-02 15:53:52] CVRPTester.py(130) : episode   1/  1, Elapsed[0.01m], Remain[0.00m], score:0.369, aug_score:0.360\n",
      "[2024-04-02 15:53:52] CVRPTester.py(136) :  *** Test Done *** \n",
      "[2024-04-02 15:53:52] CVRPTester.py(137) :  NO-AUG SCORE: 0.3689 \n",
      "[2024-04-02 15:53:52] CVRPTester.py(138) :  AUGMENTATION SCORE: 0.3601 \n",
      ">> Evaluation on ../../../../VRP-Omni-modified/Vrp-Set-P/P-n20 finished within 0.30s\n",
      ">> Save final results to res/P-n20\n",
      "Test on \" ../../../../VRP-Omni-modified/Vrp-Set-P/P-n20 \" Success\n",
      "-----------------------------------------------------------------------------------------------------------------\n",
      "[2024-04-02 15:53:54] test.py(107) : DEBUG_MODE: False\n",
      "[2024-04-02 15:53:54] test.py(108) : USE_CUDA: True, CUDA_DEVICE_NUM: 0\n",
      "[2024-04-02 15:53:54] test.py(109) : env_params{'problem_size': 100, 'pomo_size': 100}\n",
      "[2024-04-02 15:53:54] test.py(109) : model_params{'embedding_dim': 128, 'sqrt_embedding_dim': 11.313708498984761, 'encoder_layer_num': 6, 'qkv_dim': 16, 'head_num': 8, 'logit_clipping': 10, 'ff_hidden_dim': 512, 'eval_type': 'argmax'}\n",
      "[2024-04-02 15:53:54] test.py(109) : tester_params{'use_cuda': True, 'cuda_device_num': 0, 'model_load': {'path': './result/saved_CVRP100_model', 'epoch': 30500}, 'test_episodes': 1000, 'test_batch_size': 1, 'augmentation_enable': True, 'aug_factor': 8, 'aug_batch_size': 1, 'test_data_load': {'enable': False, 'filename': '../vrp100_test_seed1234.pt'}, 'test_set_path': '../../../../VRP-Omni-modified/Vrp-Set-P/P-n21', 'test_set_opt_sol_path': '../../../../VRP-Omni-modified/Vrp-Set-A/A-n33-sol', 'test_set_name': 'A-n33'}\n",
      "[2024-04-02 15:53:54] test.py(109) : logger_params{'log_file': {'desc': 'test_cvrp100', 'filename': 'log.txt', 'filepath': './result/20240402_165353_test_cvrp100'}}\n",
      "['../../../../VRP-Omni-modified/Vrp-Set-P/P-n21/P-n21-k2.vrp']\n"
     ]
    },
    {
     "name": "stderr",
     "output_type": "stream",
     "text": [
      "/home/xunj/miniconda3/lib/python3.11/site-packages/torch/__init__.py:614: UserWarning: torch.set_default_tensor_type() is deprecated as of PyTorch 2.1, please use torch.set_default_dtype() and torch.set_default_device() as alternatives. (Triggered internally at /opt/conda/conda-bld/pytorch_1699449183005/work/torch/csrc/tensor/python_tensor.cpp:451.)\n",
      "  _C._set_default_tensor_type(t)\n"
     ]
    },
    {
     "name": "stdout",
     "output_type": "stream",
     "text": [
      "[2024-04-02 15:53:55] CVRPTester.py(130) : episode   1/  1, Elapsed[0.01m], Remain[0.00m], score:0.318, aug_score:0.318\n",
      "[2024-04-02 15:53:55] CVRPTester.py(136) :  *** Test Done *** \n",
      "[2024-04-02 15:53:55] CVRPTester.py(137) :  NO-AUG SCORE: 0.3185 \n",
      "[2024-04-02 15:53:55] CVRPTester.py(138) :  AUGMENTATION SCORE: 0.3185 \n",
      ">> Evaluation on ../../../../VRP-Omni-modified/Vrp-Set-P/P-n21 finished within 0.30s\n",
      ">> Save final results to res/P-n21\n",
      "Test on \" ../../../../VRP-Omni-modified/Vrp-Set-P/P-n21 \" Success\n",
      "-----------------------------------------------------------------------------------------------------------------\n",
      "[2024-04-02 15:53:58] test.py(107) : DEBUG_MODE: False\n",
      "[2024-04-02 15:53:58] test.py(108) : USE_CUDA: True, CUDA_DEVICE_NUM: 0\n",
      "[2024-04-02 15:53:58] test.py(109) : env_params{'problem_size': 100, 'pomo_size': 100}\n",
      "[2024-04-02 15:53:58] test.py(109) : model_params{'embedding_dim': 128, 'sqrt_embedding_dim': 11.313708498984761, 'encoder_layer_num': 6, 'qkv_dim': 16, 'head_num': 8, 'logit_clipping': 10, 'ff_hidden_dim': 512, 'eval_type': 'argmax'}\n",
      "[2024-04-02 15:53:58] test.py(109) : tester_params{'use_cuda': True, 'cuda_device_num': 0, 'model_load': {'path': './result/saved_CVRP100_model', 'epoch': 30500}, 'test_episodes': 1000, 'test_batch_size': 1, 'augmentation_enable': True, 'aug_factor': 8, 'aug_batch_size': 1, 'test_data_load': {'enable': False, 'filename': '../vrp100_test_seed1234.pt'}, 'test_set_path': '../../../../VRP-Omni-modified/Vrp-Set-P/P-n22', 'test_set_opt_sol_path': '../../../../VRP-Omni-modified/Vrp-Set-A/A-n33-sol', 'test_set_name': 'A-n33'}\n",
      "[2024-04-02 15:53:58] test.py(109) : logger_params{'log_file': {'desc': 'test_cvrp100', 'filename': 'log.txt', 'filepath': './result/20240402_165356_test_cvrp100'}}\n",
      "['../../../../VRP-Omni-modified/Vrp-Set-P/P-n22/P-n22-k2.vrp', '../../../../VRP-Omni-modified/Vrp-Set-P/P-n22/P-n22-k8.vrp']\n"
     ]
    },
    {
     "name": "stderr",
     "output_type": "stream",
     "text": [
      "/home/xunj/miniconda3/lib/python3.11/site-packages/torch/__init__.py:614: UserWarning: torch.set_default_tensor_type() is deprecated as of PyTorch 2.1, please use torch.set_default_dtype() and torch.set_default_device() as alternatives. (Triggered internally at /opt/conda/conda-bld/pytorch_1699449183005/work/torch/csrc/tensor/python_tensor.cpp:451.)\n",
      "  _C._set_default_tensor_type(t)\n"
     ]
    },
    {
     "name": "stdout",
     "output_type": "stream",
     "text": [
      "[2024-04-02 15:53:58] CVRPTester.py(130) : episode   1/  2, Elapsed[0.01m], Remain[0.01m], score:0.339, aug_score:0.311\n",
      "[2024-04-02 15:53:58] CVRPTester.py(130) : episode   2/  2, Elapsed[0.01m], Remain[0.00m], score:0.834, aug_score:0.723\n",
      "[2024-04-02 15:53:58] CVRPTester.py(136) :  *** Test Done *** \n",
      "[2024-04-02 15:53:58] CVRPTester.py(137) :  NO-AUG SCORE: 0.5863 \n",
      "[2024-04-02 15:53:58] CVRPTester.py(138) :  AUGMENTATION SCORE: 0.5172 \n",
      ">> Evaluation on ../../../../VRP-Omni-modified/Vrp-Set-P/P-n22 finished within 0.04s\n",
      ">> Save final results to res/P-n22\n",
      "Test on \" ../../../../VRP-Omni-modified/Vrp-Set-P/P-n22 \" Success\n",
      "-----------------------------------------------------------------------------------------------------------------\n",
      "[2024-04-02 15:54:01] test.py(107) : DEBUG_MODE: False\n",
      "[2024-04-02 15:54:01] test.py(108) : USE_CUDA: True, CUDA_DEVICE_NUM: 0\n",
      "[2024-04-02 15:54:01] test.py(109) : env_params{'problem_size': 100, 'pomo_size': 100}\n",
      "[2024-04-02 15:54:01] test.py(109) : model_params{'embedding_dim': 128, 'sqrt_embedding_dim': 11.313708498984761, 'encoder_layer_num': 6, 'qkv_dim': 16, 'head_num': 8, 'logit_clipping': 10, 'ff_hidden_dim': 512, 'eval_type': 'argmax'}\n",
      "[2024-04-02 15:54:01] test.py(109) : tester_params{'use_cuda': True, 'cuda_device_num': 0, 'model_load': {'path': './result/saved_CVRP100_model', 'epoch': 30500}, 'test_episodes': 1000, 'test_batch_size': 1, 'augmentation_enable': True, 'aug_factor': 8, 'aug_batch_size': 1, 'test_data_load': {'enable': False, 'filename': '../vrp100_test_seed1234.pt'}, 'test_set_path': '../../../../VRP-Omni-modified/Vrp-Set-P/P-n23', 'test_set_opt_sol_path': '../../../../VRP-Omni-modified/Vrp-Set-A/A-n33-sol', 'test_set_name': 'A-n33'}\n",
      "[2024-04-02 15:54:01] test.py(109) : logger_params{'log_file': {'desc': 'test_cvrp100', 'filename': 'log.txt', 'filepath': './result/20240402_165359_test_cvrp100'}}\n",
      "['../../../../VRP-Omni-modified/Vrp-Set-P/P-n23/P-n23-k8.vrp']\n"
     ]
    },
    {
     "name": "stderr",
     "output_type": "stream",
     "text": [
      "/home/xunj/miniconda3/lib/python3.11/site-packages/torch/__init__.py:614: UserWarning: torch.set_default_tensor_type() is deprecated as of PyTorch 2.1, please use torch.set_default_dtype() and torch.set_default_device() as alternatives. (Triggered internally at /opt/conda/conda-bld/pytorch_1699449183005/work/torch/csrc/tensor/python_tensor.cpp:451.)\n",
      "  _C._set_default_tensor_type(t)\n"
     ]
    },
    {
     "name": "stdout",
     "output_type": "stream",
     "text": [
      "[2024-04-02 15:54:02] CVRPTester.py(130) : episode   1/  1, Elapsed[0.01m], Remain[0.00m], score:0.730, aug_score:0.636\n",
      "[2024-04-02 15:54:02] CVRPTester.py(136) :  *** Test Done *** \n",
      "[2024-04-02 15:54:02] CVRPTester.py(137) :  NO-AUG SCORE: 0.7298 \n",
      "[2024-04-02 15:54:02] CVRPTester.py(138) :  AUGMENTATION SCORE: 0.6361 \n",
      ">> Evaluation on ../../../../VRP-Omni-modified/Vrp-Set-P/P-n23 finished within 0.31s\n",
      ">> Save final results to res/P-n23\n",
      "Test on \" ../../../../VRP-Omni-modified/Vrp-Set-P/P-n23 \" Success\n",
      "-----------------------------------------------------------------------------------------------------------------\n",
      "[2024-04-02 15:54:04] test.py(107) : DEBUG_MODE: False\n",
      "[2024-04-02 15:54:04] test.py(108) : USE_CUDA: True, CUDA_DEVICE_NUM: 0\n",
      "[2024-04-02 15:54:04] test.py(109) : env_params{'problem_size': 100, 'pomo_size': 100}\n",
      "[2024-04-02 15:54:04] test.py(109) : model_params{'embedding_dim': 128, 'sqrt_embedding_dim': 11.313708498984761, 'encoder_layer_num': 6, 'qkv_dim': 16, 'head_num': 8, 'logit_clipping': 10, 'ff_hidden_dim': 512, 'eval_type': 'argmax'}\n",
      "[2024-04-02 15:54:04] test.py(109) : tester_params{'use_cuda': True, 'cuda_device_num': 0, 'model_load': {'path': './result/saved_CVRP100_model', 'epoch': 30500}, 'test_episodes': 1000, 'test_batch_size': 1, 'augmentation_enable': True, 'aug_factor': 8, 'aug_batch_size': 1, 'test_data_load': {'enable': False, 'filename': '../vrp100_test_seed1234.pt'}, 'test_set_path': '../../../../VRP-Omni-modified/Vrp-Set-P/P-n40', 'test_set_opt_sol_path': '../../../../VRP-Omni-modified/Vrp-Set-A/A-n33-sol', 'test_set_name': 'A-n33'}\n",
      "[2024-04-02 15:54:04] test.py(109) : logger_params{'log_file': {'desc': 'test_cvrp100', 'filename': 'log.txt', 'filepath': './result/20240402_165403_test_cvrp100'}}\n",
      "['../../../../VRP-Omni-modified/Vrp-Set-P/P-n40/P-n40-k5.vrp']\n"
     ]
    },
    {
     "name": "stderr",
     "output_type": "stream",
     "text": [
      "/home/xunj/miniconda3/lib/python3.11/site-packages/torch/__init__.py:614: UserWarning: torch.set_default_tensor_type() is deprecated as of PyTorch 2.1, please use torch.set_default_dtype() and torch.set_default_device() as alternatives. (Triggered internally at /opt/conda/conda-bld/pytorch_1699449183005/work/torch/csrc/tensor/python_tensor.cpp:451.)\n",
      "  _C._set_default_tensor_type(t)\n"
     ]
    },
    {
     "name": "stdout",
     "output_type": "stream",
     "text": [
      "[2024-04-02 15:54:05] CVRPTester.py(130) : episode   1/  1, Elapsed[0.01m], Remain[0.00m], score:0.900, aug_score:0.765\n",
      "[2024-04-02 15:54:05] CVRPTester.py(136) :  *** Test Done *** \n",
      "[2024-04-02 15:54:05] CVRPTester.py(137) :  NO-AUG SCORE: 0.9000 \n",
      "[2024-04-02 15:54:05] CVRPTester.py(138) :  AUGMENTATION SCORE: 0.7648 \n",
      ">> Evaluation on ../../../../VRP-Omni-modified/Vrp-Set-P/P-n40 finished within 0.32s\n",
      ">> Save final results to res/P-n40\n",
      "Test on \" ../../../../VRP-Omni-modified/Vrp-Set-P/P-n40 \" Success\n",
      "-----------------------------------------------------------------------------------------------------------------\n",
      "[2024-04-02 15:54:07] test.py(107) : DEBUG_MODE: False\n",
      "[2024-04-02 15:54:07] test.py(108) : USE_CUDA: True, CUDA_DEVICE_NUM: 0\n",
      "[2024-04-02 15:54:07] test.py(109) : env_params{'problem_size': 100, 'pomo_size': 100}\n",
      "[2024-04-02 15:54:07] test.py(109) : model_params{'embedding_dim': 128, 'sqrt_embedding_dim': 11.313708498984761, 'encoder_layer_num': 6, 'qkv_dim': 16, 'head_num': 8, 'logit_clipping': 10, 'ff_hidden_dim': 512, 'eval_type': 'argmax'}\n",
      "[2024-04-02 15:54:07] test.py(109) : tester_params{'use_cuda': True, 'cuda_device_num': 0, 'model_load': {'path': './result/saved_CVRP100_model', 'epoch': 30500}, 'test_episodes': 1000, 'test_batch_size': 1, 'augmentation_enable': True, 'aug_factor': 8, 'aug_batch_size': 1, 'test_data_load': {'enable': False, 'filename': '../vrp100_test_seed1234.pt'}, 'test_set_path': '../../../../VRP-Omni-modified/Vrp-Set-P/P-n45', 'test_set_opt_sol_path': '../../../../VRP-Omni-modified/Vrp-Set-A/A-n33-sol', 'test_set_name': 'A-n33'}\n",
      "[2024-04-02 15:54:07] test.py(109) : logger_params{'log_file': {'desc': 'test_cvrp100', 'filename': 'log.txt', 'filepath': './result/20240402_165406_test_cvrp100'}}\n",
      "['../../../../VRP-Omni-modified/Vrp-Set-P/P-n45/P-n45-k5.vrp']\n"
     ]
    },
    {
     "name": "stderr",
     "output_type": "stream",
     "text": [
      "/home/xunj/miniconda3/lib/python3.11/site-packages/torch/__init__.py:614: UserWarning: torch.set_default_tensor_type() is deprecated as of PyTorch 2.1, please use torch.set_default_dtype() and torch.set_default_device() as alternatives. (Triggered internally at /opt/conda/conda-bld/pytorch_1699449183005/work/torch/csrc/tensor/python_tensor.cpp:451.)\n",
      "  _C._set_default_tensor_type(t)\n"
     ]
    },
    {
     "name": "stdout",
     "output_type": "stream",
     "text": [
      "[2024-04-02 15:54:08] CVRPTester.py(130) : episode   1/  1, Elapsed[0.01m], Remain[0.00m], score:0.973, aug_score:0.833\n",
      "[2024-04-02 15:54:08] CVRPTester.py(136) :  *** Test Done *** \n",
      "[2024-04-02 15:54:08] CVRPTester.py(137) :  NO-AUG SCORE: 0.9733 \n",
      "[2024-04-02 15:54:08] CVRPTester.py(138) :  AUGMENTATION SCORE: 0.8329 \n",
      ">> Evaluation on ../../../../VRP-Omni-modified/Vrp-Set-P/P-n45 finished within 0.33s\n",
      ">> Save final results to res/P-n45\n",
      "Test on \" ../../../../VRP-Omni-modified/Vrp-Set-P/P-n45 \" Success\n",
      "-----------------------------------------------------------------------------------------------------------------\n",
      "[2024-04-02 15:54:10] test.py(107) : DEBUG_MODE: False\n",
      "[2024-04-02 15:54:10] test.py(108) : USE_CUDA: True, CUDA_DEVICE_NUM: 0\n",
      "[2024-04-02 15:54:10] test.py(109) : env_params{'problem_size': 100, 'pomo_size': 100}\n",
      "[2024-04-02 15:54:10] test.py(109) : model_params{'embedding_dim': 128, 'sqrt_embedding_dim': 11.313708498984761, 'encoder_layer_num': 6, 'qkv_dim': 16, 'head_num': 8, 'logit_clipping': 10, 'ff_hidden_dim': 512, 'eval_type': 'argmax'}\n",
      "[2024-04-02 15:54:10] test.py(109) : tester_params{'use_cuda': True, 'cuda_device_num': 0, 'model_load': {'path': './result/saved_CVRP100_model', 'epoch': 30500}, 'test_episodes': 1000, 'test_batch_size': 1, 'augmentation_enable': True, 'aug_factor': 8, 'aug_batch_size': 1, 'test_data_load': {'enable': False, 'filename': '../vrp100_test_seed1234.pt'}, 'test_set_path': '../../../../VRP-Omni-modified/Vrp-Set-P/P-n50', 'test_set_opt_sol_path': '../../../../VRP-Omni-modified/Vrp-Set-A/A-n33-sol', 'test_set_name': 'A-n33'}\n",
      "[2024-04-02 15:54:10] test.py(109) : logger_params{'log_file': {'desc': 'test_cvrp100', 'filename': 'log.txt', 'filepath': './result/20240402_165409_test_cvrp100'}}\n",
      "['../../../../VRP-Omni-modified/Vrp-Set-P/P-n50/P-n50-k10.vrp', '../../../../VRP-Omni-modified/Vrp-Set-P/P-n50/P-n50-k7.vrp', '../../../../VRP-Omni-modified/Vrp-Set-P/P-n50/P-n50-k8.vrp']\n"
     ]
    },
    {
     "name": "stderr",
     "output_type": "stream",
     "text": [
      "/home/xunj/miniconda3/lib/python3.11/site-packages/torch/__init__.py:614: UserWarning: torch.set_default_tensor_type() is deprecated as of PyTorch 2.1, please use torch.set_default_dtype() and torch.set_default_device() as alternatives. (Triggered internally at /opt/conda/conda-bld/pytorch_1699449183005/work/torch/csrc/tensor/python_tensor.cpp:451.)\n",
      "  _C._set_default_tensor_type(t)\n"
     ]
    },
    {
     "name": "stdout",
     "output_type": "stream",
     "text": [
      "[2024-04-02 15:54:11] CVRPTester.py(130) : episode   1/  3, Elapsed[0.01m], Remain[0.01m], score:1.085, aug_score:0.993\n",
      "[2024-04-02 15:54:11] CVRPTester.py(130) : episode   2/  3, Elapsed[0.01m], Remain[0.00m], score:0.942, aug_score:0.813\n",
      "[2024-04-02 15:54:11] CVRPTester.py(130) : episode   3/  3, Elapsed[0.01m], Remain[0.00m], score:0.977, aug_score:0.922\n",
      "[2024-04-02 15:54:11] CVRPTester.py(136) :  *** Test Done *** \n",
      "[2024-04-02 15:54:11] CVRPTester.py(137) :  NO-AUG SCORE: 1.0013 \n",
      "[2024-04-02 15:54:11] CVRPTester.py(138) :  AUGMENTATION SCORE: 0.9095 \n",
      ">> Evaluation on ../../../../VRP-Omni-modified/Vrp-Set-P/P-n50 finished within 0.07s\n",
      ">> Save final results to res/P-n50\n",
      "Test on \" ../../../../VRP-Omni-modified/Vrp-Set-P/P-n50 \" Success\n",
      "-----------------------------------------------------------------------------------------------------------------\n",
      "[2024-04-02 15:54:13] test.py(107) : DEBUG_MODE: False\n",
      "[2024-04-02 15:54:13] test.py(108) : USE_CUDA: True, CUDA_DEVICE_NUM: 0\n",
      "[2024-04-02 15:54:13] test.py(109) : env_params{'problem_size': 100, 'pomo_size': 100}\n",
      "[2024-04-02 15:54:13] test.py(109) : model_params{'embedding_dim': 128, 'sqrt_embedding_dim': 11.313708498984761, 'encoder_layer_num': 6, 'qkv_dim': 16, 'head_num': 8, 'logit_clipping': 10, 'ff_hidden_dim': 512, 'eval_type': 'argmax'}\n",
      "[2024-04-02 15:54:13] test.py(109) : tester_params{'use_cuda': True, 'cuda_device_num': 0, 'model_load': {'path': './result/saved_CVRP100_model', 'epoch': 30500}, 'test_episodes': 1000, 'test_batch_size': 1, 'augmentation_enable': True, 'aug_factor': 8, 'aug_batch_size': 1, 'test_data_load': {'enable': False, 'filename': '../vrp100_test_seed1234.pt'}, 'test_set_path': '../../../../VRP-Omni-modified/Vrp-Set-P/P-n51', 'test_set_opt_sol_path': '../../../../VRP-Omni-modified/Vrp-Set-A/A-n33-sol', 'test_set_name': 'A-n33'}\n",
      "[2024-04-02 15:54:13] test.py(109) : logger_params{'log_file': {'desc': 'test_cvrp100', 'filename': 'log.txt', 'filepath': './result/20240402_165412_test_cvrp100'}}\n",
      "['../../../../VRP-Omni-modified/Vrp-Set-P/P-n51/P-n51-k10.vrp']\n"
     ]
    },
    {
     "name": "stderr",
     "output_type": "stream",
     "text": [
      "/home/xunj/miniconda3/lib/python3.11/site-packages/torch/__init__.py:614: UserWarning: torch.set_default_tensor_type() is deprecated as of PyTorch 2.1, please use torch.set_default_dtype() and torch.set_default_device() as alternatives. (Triggered internally at /opt/conda/conda-bld/pytorch_1699449183005/work/torch/csrc/tensor/python_tensor.cpp:451.)\n",
      "  _C._set_default_tensor_type(t)\n"
     ]
    },
    {
     "name": "stdout",
     "output_type": "stream",
     "text": [
      "[2024-04-02 15:54:14] CVRPTester.py(130) : episode   1/  1, Elapsed[0.01m], Remain[0.00m], score:1.166, aug_score:1.069\n",
      "[2024-04-02 15:54:14] CVRPTester.py(136) :  *** Test Done *** \n",
      "[2024-04-02 15:54:14] CVRPTester.py(137) :  NO-AUG SCORE: 1.1658 \n",
      "[2024-04-02 15:54:14] CVRPTester.py(138) :  AUGMENTATION SCORE: 1.0686 \n",
      ">> Evaluation on ../../../../VRP-Omni-modified/Vrp-Set-P/P-n51 finished within 0.33s\n",
      ">> Save final results to res/P-n51\n",
      "Test on \" ../../../../VRP-Omni-modified/Vrp-Set-P/P-n51 \" Success\n",
      "-----------------------------------------------------------------------------------------------------------------\n",
      "[2024-04-02 15:54:17] test.py(107) : DEBUG_MODE: False\n",
      "[2024-04-02 15:54:17] test.py(108) : USE_CUDA: True, CUDA_DEVICE_NUM: 0\n",
      "[2024-04-02 15:54:17] test.py(109) : env_params{'problem_size': 100, 'pomo_size': 100}\n",
      "[2024-04-02 15:54:17] test.py(109) : model_params{'embedding_dim': 128, 'sqrt_embedding_dim': 11.313708498984761, 'encoder_layer_num': 6, 'qkv_dim': 16, 'head_num': 8, 'logit_clipping': 10, 'ff_hidden_dim': 512, 'eval_type': 'argmax'}\n",
      "[2024-04-02 15:54:17] test.py(109) : tester_params{'use_cuda': True, 'cuda_device_num': 0, 'model_load': {'path': './result/saved_CVRP100_model', 'epoch': 30500}, 'test_episodes': 1000, 'test_batch_size': 1, 'augmentation_enable': True, 'aug_factor': 8, 'aug_batch_size': 1, 'test_data_load': {'enable': False, 'filename': '../vrp100_test_seed1234.pt'}, 'test_set_path': '../../../../VRP-Omni-modified/Vrp-Set-P/P-n55', 'test_set_opt_sol_path': '../../../../VRP-Omni-modified/Vrp-Set-A/A-n33-sol', 'test_set_name': 'A-n33'}\n",
      "[2024-04-02 15:54:17] test.py(109) : logger_params{'log_file': {'desc': 'test_cvrp100', 'filename': 'log.txt', 'filepath': './result/20240402_165415_test_cvrp100'}}\n",
      "['../../../../VRP-Omni-modified/Vrp-Set-P/P-n55/P-n55-k10.vrp', '../../../../VRP-Omni-modified/Vrp-Set-P/P-n55/P-n55-k15.vrp', '../../../../VRP-Omni-modified/Vrp-Set-P/P-n55/P-n55-k7.vrp', '../../../../VRP-Omni-modified/Vrp-Set-P/P-n55/P-n55-k8.vrp']\n"
     ]
    },
    {
     "name": "stderr",
     "output_type": "stream",
     "text": [
      "/home/xunj/miniconda3/lib/python3.11/site-packages/torch/__init__.py:614: UserWarning: torch.set_default_tensor_type() is deprecated as of PyTorch 2.1, please use torch.set_default_dtype() and torch.set_default_device() as alternatives. (Triggered internally at /opt/conda/conda-bld/pytorch_1699449183005/work/torch/csrc/tensor/python_tensor.cpp:451.)\n",
      "  _C._set_default_tensor_type(t)\n"
     ]
    },
    {
     "name": "stdout",
     "output_type": "stream",
     "text": [
      "[2024-04-02 15:54:17] CVRPTester.py(130) : episode   1/  4, Elapsed[0.01m], Remain[0.02m], score:1.020, aug_score:0.981\n",
      "[2024-04-02 15:54:17] CVRPTester.py(130) : episode   2/  4, Elapsed[0.01m], Remain[0.01m], score:1.448, aug_score:1.286\n",
      "[2024-04-02 15:54:17] CVRPTester.py(130) : episode   3/  4, Elapsed[0.01m], Remain[0.00m], score:0.894, aug_score:0.875\n",
      "[2024-04-02 15:54:18] CVRPTester.py(130) : episode   4/  4, Elapsed[0.01m], Remain[0.00m], score:1.014, aug_score:0.807\n",
      "[2024-04-02 15:54:18] CVRPTester.py(136) :  *** Test Done *** \n",
      "[2024-04-02 15:54:18] CVRPTester.py(137) :  NO-AUG SCORE: 1.0943 \n",
      "[2024-04-02 15:54:18] CVRPTester.py(138) :  AUGMENTATION SCORE: 0.9872 \n",
      ">> Evaluation on ../../../../VRP-Omni-modified/Vrp-Set-P/P-n55 finished within 0.08s\n",
      ">> Save final results to res/P-n55\n",
      "Test on \" ../../../../VRP-Omni-modified/Vrp-Set-P/P-n55 \" Success\n",
      "-----------------------------------------------------------------------------------------------------------------\n",
      "[2024-04-02 15:54:20] test.py(107) : DEBUG_MODE: False\n",
      "[2024-04-02 15:54:20] test.py(108) : USE_CUDA: True, CUDA_DEVICE_NUM: 0\n",
      "[2024-04-02 15:54:20] test.py(109) : env_params{'problem_size': 100, 'pomo_size': 100}\n",
      "[2024-04-02 15:54:20] test.py(109) : model_params{'embedding_dim': 128, 'sqrt_embedding_dim': 11.313708498984761, 'encoder_layer_num': 6, 'qkv_dim': 16, 'head_num': 8, 'logit_clipping': 10, 'ff_hidden_dim': 512, 'eval_type': 'argmax'}\n",
      "[2024-04-02 15:54:20] test.py(109) : tester_params{'use_cuda': True, 'cuda_device_num': 0, 'model_load': {'path': './result/saved_CVRP100_model', 'epoch': 30500}, 'test_episodes': 1000, 'test_batch_size': 1, 'augmentation_enable': True, 'aug_factor': 8, 'aug_batch_size': 1, 'test_data_load': {'enable': False, 'filename': '../vrp100_test_seed1234.pt'}, 'test_set_path': '../../../../VRP-Omni-modified/Vrp-Set-P/P-n60', 'test_set_opt_sol_path': '../../../../VRP-Omni-modified/Vrp-Set-A/A-n33-sol', 'test_set_name': 'A-n33'}\n",
      "[2024-04-02 15:54:20] test.py(109) : logger_params{'log_file': {'desc': 'test_cvrp100', 'filename': 'log.txt', 'filepath': './result/20240402_165419_test_cvrp100'}}\n",
      "['../../../../VRP-Omni-modified/Vrp-Set-P/P-n60/P-n60-k10.vrp', '../../../../VRP-Omni-modified/Vrp-Set-P/P-n60/P-n60-k15.vrp']\n"
     ]
    },
    {
     "name": "stderr",
     "output_type": "stream",
     "text": [
      "/home/xunj/miniconda3/lib/python3.11/site-packages/torch/__init__.py:614: UserWarning: torch.set_default_tensor_type() is deprecated as of PyTorch 2.1, please use torch.set_default_dtype() and torch.set_default_device() as alternatives. (Triggered internally at /opt/conda/conda-bld/pytorch_1699449183005/work/torch/csrc/tensor/python_tensor.cpp:451.)\n",
      "  _C._set_default_tensor_type(t)\n"
     ]
    },
    {
     "name": "stdout",
     "output_type": "stream",
     "text": [
      "[2024-04-02 15:54:21] CVRPTester.py(130) : episode   1/  2, Elapsed[0.01m], Remain[0.01m], score:1.128, aug_score:0.942\n",
      "[2024-04-02 15:54:21] CVRPTester.py(130) : episode   2/  2, Elapsed[0.01m], Remain[0.00m], score:1.450, aug_score:1.310\n",
      "[2024-04-02 15:54:21] CVRPTester.py(136) :  *** Test Done *** \n",
      "[2024-04-02 15:54:21] CVRPTester.py(137) :  NO-AUG SCORE: 1.2889 \n",
      "[2024-04-02 15:54:21] CVRPTester.py(138) :  AUGMENTATION SCORE: 1.1263 \n",
      ">> Evaluation on ../../../../VRP-Omni-modified/Vrp-Set-P/P-n60 finished within 0.08s\n",
      ">> Save final results to res/P-n60\n",
      "Test on \" ../../../../VRP-Omni-modified/Vrp-Set-P/P-n60 \" Success\n",
      "-----------------------------------------------------------------------------------------------------------------\n",
      "[2024-04-02 15:54:23] test.py(107) : DEBUG_MODE: False\n",
      "[2024-04-02 15:54:23] test.py(108) : USE_CUDA: True, CUDA_DEVICE_NUM: 0\n",
      "[2024-04-02 15:54:23] test.py(109) : env_params{'problem_size': 100, 'pomo_size': 100}\n",
      "[2024-04-02 15:54:23] test.py(109) : model_params{'embedding_dim': 128, 'sqrt_embedding_dim': 11.313708498984761, 'encoder_layer_num': 6, 'qkv_dim': 16, 'head_num': 8, 'logit_clipping': 10, 'ff_hidden_dim': 512, 'eval_type': 'argmax'}\n",
      "[2024-04-02 15:54:23] test.py(109) : tester_params{'use_cuda': True, 'cuda_device_num': 0, 'model_load': {'path': './result/saved_CVRP100_model', 'epoch': 30500}, 'test_episodes': 1000, 'test_batch_size': 1, 'augmentation_enable': True, 'aug_factor': 8, 'aug_batch_size': 1, 'test_data_load': {'enable': False, 'filename': '../vrp100_test_seed1234.pt'}, 'test_set_path': '../../../../VRP-Omni-modified/Vrp-Set-P/P-n65', 'test_set_opt_sol_path': '../../../../VRP-Omni-modified/Vrp-Set-A/A-n33-sol', 'test_set_name': 'A-n33'}\n",
      "[2024-04-02 15:54:23] test.py(109) : logger_params{'log_file': {'desc': 'test_cvrp100', 'filename': 'log.txt', 'filepath': './result/20240402_165422_test_cvrp100'}}\n",
      "['../../../../VRP-Omni-modified/Vrp-Set-P/P-n65/P-n65-k10.vrp']\n"
     ]
    },
    {
     "name": "stderr",
     "output_type": "stream",
     "text": [
      "/home/xunj/miniconda3/lib/python3.11/site-packages/torch/__init__.py:614: UserWarning: torch.set_default_tensor_type() is deprecated as of PyTorch 2.1, please use torch.set_default_dtype() and torch.set_default_device() as alternatives. (Triggered internally at /opt/conda/conda-bld/pytorch_1699449183005/work/torch/csrc/tensor/python_tensor.cpp:451.)\n",
      "  _C._set_default_tensor_type(t)\n"
     ]
    },
    {
     "name": "stdout",
     "output_type": "stream",
     "text": [
      "[2024-04-02 15:54:24] CVRPTester.py(130) : episode   1/  1, Elapsed[0.01m], Remain[0.00m], score:1.182, aug_score:1.085\n",
      "[2024-04-02 15:54:24] CVRPTester.py(136) :  *** Test Done *** \n",
      "[2024-04-02 15:54:24] CVRPTester.py(137) :  NO-AUG SCORE: 1.1819 \n",
      "[2024-04-02 15:54:24] CVRPTester.py(138) :  AUGMENTATION SCORE: 1.0847 \n",
      ">> Evaluation on ../../../../VRP-Omni-modified/Vrp-Set-P/P-n65 finished within 0.34s\n",
      ">> Save final results to res/P-n65\n",
      "Test on \" ../../../../VRP-Omni-modified/Vrp-Set-P/P-n65 \" Success\n",
      "-----------------------------------------------------------------------------------------------------------------\n",
      "[2024-04-02 15:54:26] test.py(107) : DEBUG_MODE: False\n",
      "[2024-04-02 15:54:26] test.py(108) : USE_CUDA: True, CUDA_DEVICE_NUM: 0\n",
      "[2024-04-02 15:54:26] test.py(109) : env_params{'problem_size': 100, 'pomo_size': 100}\n",
      "[2024-04-02 15:54:26] test.py(109) : model_params{'embedding_dim': 128, 'sqrt_embedding_dim': 11.313708498984761, 'encoder_layer_num': 6, 'qkv_dim': 16, 'head_num': 8, 'logit_clipping': 10, 'ff_hidden_dim': 512, 'eval_type': 'argmax'}\n",
      "[2024-04-02 15:54:26] test.py(109) : tester_params{'use_cuda': True, 'cuda_device_num': 0, 'model_load': {'path': './result/saved_CVRP100_model', 'epoch': 30500}, 'test_episodes': 1000, 'test_batch_size': 1, 'augmentation_enable': True, 'aug_factor': 8, 'aug_batch_size': 1, 'test_data_load': {'enable': False, 'filename': '../vrp100_test_seed1234.pt'}, 'test_set_path': '../../../../VRP-Omni-modified/Vrp-Set-P/P-n70', 'test_set_opt_sol_path': '../../../../VRP-Omni-modified/Vrp-Set-A/A-n33-sol', 'test_set_name': 'A-n33'}\n",
      "[2024-04-02 15:54:26] test.py(109) : logger_params{'log_file': {'desc': 'test_cvrp100', 'filename': 'log.txt', 'filepath': './result/20240402_165425_test_cvrp100'}}\n",
      "['../../../../VRP-Omni-modified/Vrp-Set-P/P-n70/P-n70-k10.vrp']\n"
     ]
    },
    {
     "name": "stderr",
     "output_type": "stream",
     "text": [
      "/home/xunj/miniconda3/lib/python3.11/site-packages/torch/__init__.py:614: UserWarning: torch.set_default_tensor_type() is deprecated as of PyTorch 2.1, please use torch.set_default_dtype() and torch.set_default_device() as alternatives. (Triggered internally at /opt/conda/conda-bld/pytorch_1699449183005/work/torch/csrc/tensor/python_tensor.cpp:451.)\n",
      "  _C._set_default_tensor_type(t)\n"
     ]
    },
    {
     "name": "stdout",
     "output_type": "stream",
     "text": [
      "[2024-04-02 15:54:27] CVRPTester.py(130) : episode   1/  1, Elapsed[0.01m], Remain[0.00m], score:1.312, aug_score:1.198\n",
      "[2024-04-02 15:54:27] CVRPTester.py(136) :  *** Test Done *** \n",
      "[2024-04-02 15:54:27] CVRPTester.py(137) :  NO-AUG SCORE: 1.3120 \n",
      "[2024-04-02 15:54:27] CVRPTester.py(138) :  AUGMENTATION SCORE: 1.1977 \n",
      ">> Evaluation on ../../../../VRP-Omni-modified/Vrp-Set-P/P-n70 finished within 0.35s\n",
      ">> Save final results to res/P-n70\n",
      "Test on \" ../../../../VRP-Omni-modified/Vrp-Set-P/P-n70 \" Success\n",
      "-----------------------------------------------------------------------------------------------------------------\n",
      "[2024-04-02 15:54:30] test.py(107) : DEBUG_MODE: False\n",
      "[2024-04-02 15:54:30] test.py(108) : USE_CUDA: True, CUDA_DEVICE_NUM: 0\n",
      "[2024-04-02 15:54:30] test.py(109) : env_params{'problem_size': 100, 'pomo_size': 100}\n",
      "[2024-04-02 15:54:30] test.py(109) : model_params{'embedding_dim': 128, 'sqrt_embedding_dim': 11.313708498984761, 'encoder_layer_num': 6, 'qkv_dim': 16, 'head_num': 8, 'logit_clipping': 10, 'ff_hidden_dim': 512, 'eval_type': 'argmax'}\n",
      "[2024-04-02 15:54:30] test.py(109) : tester_params{'use_cuda': True, 'cuda_device_num': 0, 'model_load': {'path': './result/saved_CVRP100_model', 'epoch': 30500}, 'test_episodes': 1000, 'test_batch_size': 1, 'augmentation_enable': True, 'aug_factor': 8, 'aug_batch_size': 1, 'test_data_load': {'enable': False, 'filename': '../vrp100_test_seed1234.pt'}, 'test_set_path': '../../../../VRP-Omni-modified/Vrp-Set-P/P-n76', 'test_set_opt_sol_path': '../../../../VRP-Omni-modified/Vrp-Set-A/A-n33-sol', 'test_set_name': 'A-n33'}\n",
      "[2024-04-02 15:54:30] test.py(109) : logger_params{'log_file': {'desc': 'test_cvrp100', 'filename': 'log.txt', 'filepath': './result/20240402_165428_test_cvrp100'}}\n",
      "['../../../../VRP-Omni-modified/Vrp-Set-P/P-n76/P-n76-k4.vrp', '../../../../VRP-Omni-modified/Vrp-Set-P/P-n76/P-n76-k5.vrp']\n"
     ]
    },
    {
     "name": "stderr",
     "output_type": "stream",
     "text": [
      "/home/xunj/miniconda3/lib/python3.11/site-packages/torch/__init__.py:614: UserWarning: torch.set_default_tensor_type() is deprecated as of PyTorch 2.1, please use torch.set_default_dtype() and torch.set_default_device() as alternatives. (Triggered internally at /opt/conda/conda-bld/pytorch_1699449183005/work/torch/csrc/tensor/python_tensor.cpp:451.)\n",
      "  _C._set_default_tensor_type(t)\n"
     ]
    },
    {
     "name": "stdout",
     "output_type": "stream",
     "text": [
      "[2024-04-02 15:54:30] CVRPTester.py(130) : episode   1/  2, Elapsed[0.01m], Remain[0.01m], score:0.988, aug_score:0.803\n",
      "[2024-04-02 15:54:30] CVRPTester.py(130) : episode   2/  2, Elapsed[0.01m], Remain[0.00m], score:1.039, aug_score:0.825\n",
      "[2024-04-02 15:54:30] CVRPTester.py(136) :  *** Test Done *** \n",
      "[2024-04-02 15:54:30] CVRPTester.py(137) :  NO-AUG SCORE: 1.0134 \n",
      "[2024-04-02 15:54:30] CVRPTester.py(138) :  AUGMENTATION SCORE: 0.8141 \n",
      ">> Evaluation on ../../../../VRP-Omni-modified/Vrp-Set-P/P-n76 finished within 0.10s\n",
      ">> Save final results to res/P-n76\n",
      "Test on \" ../../../../VRP-Omni-modified/Vrp-Set-P/P-n76 \" Success\n",
      "-----------------------------------------------------------------------------------------------------------------\n",
      "[2024-04-02 15:54:33] test.py(107) : DEBUG_MODE: False\n",
      "[2024-04-02 15:54:33] test.py(108) : USE_CUDA: True, CUDA_DEVICE_NUM: 0\n",
      "[2024-04-02 15:54:33] test.py(109) : env_params{'problem_size': 100, 'pomo_size': 100}\n",
      "[2024-04-02 15:54:33] test.py(109) : model_params{'embedding_dim': 128, 'sqrt_embedding_dim': 11.313708498984761, 'encoder_layer_num': 6, 'qkv_dim': 16, 'head_num': 8, 'logit_clipping': 10, 'ff_hidden_dim': 512, 'eval_type': 'argmax'}\n",
      "[2024-04-02 15:54:33] test.py(109) : tester_params{'use_cuda': True, 'cuda_device_num': 0, 'model_load': {'path': './result/saved_CVRP100_model', 'epoch': 30500}, 'test_episodes': 1000, 'test_batch_size': 1, 'augmentation_enable': True, 'aug_factor': 8, 'aug_batch_size': 1, 'test_data_load': {'enable': False, 'filename': '../vrp100_test_seed1234.pt'}, 'test_set_path': '../../../../VRP-Omni-modified/Vrp-Set-X/X-n1001', 'test_set_opt_sol_path': '../../../../VRP-Omni-modified/Vrp-Set-A/A-n33-sol', 'test_set_name': 'A-n33'}\n",
      "[2024-04-02 15:54:33] test.py(109) : logger_params{'log_file': {'desc': 'test_cvrp100', 'filename': 'log.txt', 'filepath': './result/20240402_165431_test_cvrp100'}}\n",
      "['../../../../VRP-Omni-modified/Vrp-Set-X/X-n1001/X-n1001-k43.vrp']\n"
     ]
    },
    {
     "name": "stderr",
     "output_type": "stream",
     "text": [
      "/home/xunj/miniconda3/lib/python3.11/site-packages/torch/__init__.py:614: UserWarning: torch.set_default_tensor_type() is deprecated as of PyTorch 2.1, please use torch.set_default_dtype() and torch.set_default_device() as alternatives. (Triggered internally at /opt/conda/conda-bld/pytorch_1699449183005/work/torch/csrc/tensor/python_tensor.cpp:451.)\n",
      "  _C._set_default_tensor_type(t)\n"
     ]
    },
    {
     "name": "stdout",
     "output_type": "stream",
     "text": [
      "[2024-04-02 15:54:38] CVRPTester.py(130) : episode   1/  1, Elapsed[0.09m], Remain[0.00m], score:173.769, aug_score:90.317\n",
      "[2024-04-02 15:54:38] CVRPTester.py(136) :  *** Test Done *** \n",
      "[2024-04-02 15:54:38] CVRPTester.py(137) :  NO-AUG SCORE: 173.7695 \n",
      "[2024-04-02 15:54:38] CVRPTester.py(138) :  AUGMENTATION SCORE: 90.3174 \n",
      ">> Evaluation on ../../../../VRP-Omni-modified/Vrp-Set-X/X-n1001 finished within 5.16s\n",
      ">> Save final results to res/X-n1001\n",
      "Test on \" ../../../../VRP-Omni-modified/Vrp-Set-X/X-n1001 \" Success\n",
      "-----------------------------------------------------------------------------------------------------------------\n",
      "[2024-04-02 15:54:41] test.py(107) : DEBUG_MODE: False\n",
      "[2024-04-02 15:54:41] test.py(108) : USE_CUDA: True, CUDA_DEVICE_NUM: 0\n",
      "[2024-04-02 15:54:41] test.py(109) : env_params{'problem_size': 100, 'pomo_size': 100}\n",
      "[2024-04-02 15:54:41] test.py(109) : model_params{'embedding_dim': 128, 'sqrt_embedding_dim': 11.313708498984761, 'encoder_layer_num': 6, 'qkv_dim': 16, 'head_num': 8, 'logit_clipping': 10, 'ff_hidden_dim': 512, 'eval_type': 'argmax'}\n",
      "[2024-04-02 15:54:41] test.py(109) : tester_params{'use_cuda': True, 'cuda_device_num': 0, 'model_load': {'path': './result/saved_CVRP100_model', 'epoch': 30500}, 'test_episodes': 1000, 'test_batch_size': 1, 'augmentation_enable': True, 'aug_factor': 8, 'aug_batch_size': 1, 'test_data_load': {'enable': False, 'filename': '../vrp100_test_seed1234.pt'}, 'test_set_path': '../../../../VRP-Omni-modified/Vrp-Set-X/X-n101', 'test_set_opt_sol_path': '../../../../VRP-Omni-modified/Vrp-Set-A/A-n33-sol', 'test_set_name': 'A-n33'}\n",
      "[2024-04-02 15:54:41] test.py(109) : logger_params{'log_file': {'desc': 'test_cvrp100', 'filename': 'log.txt', 'filepath': './result/20240402_165439_test_cvrp100'}}\n",
      "['../../../../VRP-Omni-modified/Vrp-Set-X/X-n101/X-n101-k25.vrp']\n"
     ]
    },
    {
     "name": "stderr",
     "output_type": "stream",
     "text": [
      "/home/xunj/miniconda3/lib/python3.11/site-packages/torch/__init__.py:614: UserWarning: torch.set_default_tensor_type() is deprecated as of PyTorch 2.1, please use torch.set_default_dtype() and torch.set_default_device() as alternatives. (Triggered internally at /opt/conda/conda-bld/pytorch_1699449183005/work/torch/csrc/tensor/python_tensor.cpp:451.)\n",
      "  _C._set_default_tensor_type(t)\n"
     ]
    },
    {
     "name": "stdout",
     "output_type": "stream",
     "text": [
      "[2024-04-02 15:54:42] CVRPTester.py(130) : episode   1/  1, Elapsed[0.01m], Remain[0.00m], score:30.165, aug_score:29.288\n",
      "[2024-04-02 15:54:42] CVRPTester.py(136) :  *** Test Done *** \n",
      "[2024-04-02 15:54:42] CVRPTester.py(137) :  NO-AUG SCORE: 30.1653 \n",
      "[2024-04-02 15:54:42] CVRPTester.py(138) :  AUGMENTATION SCORE: 29.2877 \n",
      ">> Evaluation on ../../../../VRP-Omni-modified/Vrp-Set-X/X-n101 finished within 0.39s\n",
      ">> Save final results to res/X-n101\n",
      "Test on \" ../../../../VRP-Omni-modified/Vrp-Set-X/X-n101 \" Success\n",
      "-----------------------------------------------------------------------------------------------------------------\n",
      "[2024-04-02 15:54:44] test.py(107) : DEBUG_MODE: False\n",
      "[2024-04-02 15:54:44] test.py(108) : USE_CUDA: True, CUDA_DEVICE_NUM: 0\n",
      "[2024-04-02 15:54:44] test.py(109) : env_params{'problem_size': 100, 'pomo_size': 100}\n",
      "[2024-04-02 15:54:44] test.py(109) : model_params{'embedding_dim': 128, 'sqrt_embedding_dim': 11.313708498984761, 'encoder_layer_num': 6, 'qkv_dim': 16, 'head_num': 8, 'logit_clipping': 10, 'ff_hidden_dim': 512, 'eval_type': 'argmax'}\n",
      "[2024-04-02 15:54:44] test.py(109) : tester_params{'use_cuda': True, 'cuda_device_num': 0, 'model_load': {'path': './result/saved_CVRP100_model', 'epoch': 30500}, 'test_episodes': 1000, 'test_batch_size': 1, 'augmentation_enable': True, 'aug_factor': 8, 'aug_batch_size': 1, 'test_data_load': {'enable': False, 'filename': '../vrp100_test_seed1234.pt'}, 'test_set_path': '../../../../VRP-Omni-modified/Vrp-Set-X/X-n106', 'test_set_opt_sol_path': '../../../../VRP-Omni-modified/Vrp-Set-A/A-n33-sol', 'test_set_name': 'A-n33'}\n",
      "[2024-04-02 15:54:44] test.py(109) : logger_params{'log_file': {'desc': 'test_cvrp100', 'filename': 'log.txt', 'filepath': './result/20240402_165443_test_cvrp100'}}\n",
      "['../../../../VRP-Omni-modified/Vrp-Set-X/X-n106/X-n106-k14.vrp']\n"
     ]
    },
    {
     "name": "stderr",
     "output_type": "stream",
     "text": [
      "/home/xunj/miniconda3/lib/python3.11/site-packages/torch/__init__.py:614: UserWarning: torch.set_default_tensor_type() is deprecated as of PyTorch 2.1, please use torch.set_default_dtype() and torch.set_default_device() as alternatives. (Triggered internally at /opt/conda/conda-bld/pytorch_1699449183005/work/torch/csrc/tensor/python_tensor.cpp:451.)\n",
      "  _C._set_default_tensor_type(t)\n"
     ]
    },
    {
     "name": "stdout",
     "output_type": "stream",
     "text": [
      "[2024-04-02 15:54:45] CVRPTester.py(130) : episode   1/  1, Elapsed[0.01m], Remain[0.00m], score:27.584, aug_score:26.967\n",
      "[2024-04-02 15:54:45] CVRPTester.py(136) :  *** Test Done *** \n",
      "[2024-04-02 15:54:45] CVRPTester.py(137) :  NO-AUG SCORE: 27.5842 \n",
      "[2024-04-02 15:54:45] CVRPTester.py(138) :  AUGMENTATION SCORE: 26.9670 \n",
      ">> Evaluation on ../../../../VRP-Omni-modified/Vrp-Set-X/X-n106 finished within 0.38s\n",
      ">> Save final results to res/X-n106\n",
      "Test on \" ../../../../VRP-Omni-modified/Vrp-Set-X/X-n106 \" Success\n",
      "-----------------------------------------------------------------------------------------------------------------\n",
      "[2024-04-02 15:54:47] test.py(107) : DEBUG_MODE: False\n",
      "[2024-04-02 15:54:47] test.py(108) : USE_CUDA: True, CUDA_DEVICE_NUM: 0\n",
      "[2024-04-02 15:54:47] test.py(109) : env_params{'problem_size': 100, 'pomo_size': 100}\n",
      "[2024-04-02 15:54:47] test.py(109) : model_params{'embedding_dim': 128, 'sqrt_embedding_dim': 11.313708498984761, 'encoder_layer_num': 6, 'qkv_dim': 16, 'head_num': 8, 'logit_clipping': 10, 'ff_hidden_dim': 512, 'eval_type': 'argmax'}\n",
      "[2024-04-02 15:54:47] test.py(109) : tester_params{'use_cuda': True, 'cuda_device_num': 0, 'model_load': {'path': './result/saved_CVRP100_model', 'epoch': 30500}, 'test_episodes': 1000, 'test_batch_size': 1, 'augmentation_enable': True, 'aug_factor': 8, 'aug_batch_size': 1, 'test_data_load': {'enable': False, 'filename': '../vrp100_test_seed1234.pt'}, 'test_set_path': '../../../../VRP-Omni-modified/Vrp-Set-X/X-n110', 'test_set_opt_sol_path': '../../../../VRP-Omni-modified/Vrp-Set-A/A-n33-sol', 'test_set_name': 'A-n33'}\n",
      "[2024-04-02 15:54:47] test.py(109) : logger_params{'log_file': {'desc': 'test_cvrp100', 'filename': 'log.txt', 'filepath': './result/20240402_165446_test_cvrp100'}}\n",
      "['../../../../VRP-Omni-modified/Vrp-Set-X/X-n110/X-n110-k13.vrp']\n"
     ]
    },
    {
     "name": "stderr",
     "output_type": "stream",
     "text": [
      "/home/xunj/miniconda3/lib/python3.11/site-packages/torch/__init__.py:614: UserWarning: torch.set_default_tensor_type() is deprecated as of PyTorch 2.1, please use torch.set_default_dtype() and torch.set_default_device() as alternatives. (Triggered internally at /opt/conda/conda-bld/pytorch_1699449183005/work/torch/csrc/tensor/python_tensor.cpp:451.)\n",
      "  _C._set_default_tensor_type(t)\n"
     ]
    },
    {
     "name": "stdout",
     "output_type": "stream",
     "text": [
      "[2024-04-02 15:54:48] CVRPTester.py(130) : episode   1/  1, Elapsed[0.01m], Remain[0.00m], score:15.368, aug_score:15.160\n",
      "[2024-04-02 15:54:48] CVRPTester.py(136) :  *** Test Done *** \n",
      "[2024-04-02 15:54:48] CVRPTester.py(137) :  NO-AUG SCORE: 15.3678 \n",
      "[2024-04-02 15:54:48] CVRPTester.py(138) :  AUGMENTATION SCORE: 15.1605 \n",
      ">> Evaluation on ../../../../VRP-Omni-modified/Vrp-Set-X/X-n110 finished within 0.39s\n",
      ">> Save final results to res/X-n110\n",
      "Test on \" ../../../../VRP-Omni-modified/Vrp-Set-X/X-n110 \" Success\n",
      "-----------------------------------------------------------------------------------------------------------------\n",
      "[2024-04-02 15:54:50] test.py(107) : DEBUG_MODE: False\n",
      "[2024-04-02 15:54:50] test.py(108) : USE_CUDA: True, CUDA_DEVICE_NUM: 0\n",
      "[2024-04-02 15:54:50] test.py(109) : env_params{'problem_size': 100, 'pomo_size': 100}\n",
      "[2024-04-02 15:54:50] test.py(109) : model_params{'embedding_dim': 128, 'sqrt_embedding_dim': 11.313708498984761, 'encoder_layer_num': 6, 'qkv_dim': 16, 'head_num': 8, 'logit_clipping': 10, 'ff_hidden_dim': 512, 'eval_type': 'argmax'}\n",
      "[2024-04-02 15:54:50] test.py(109) : tester_params{'use_cuda': True, 'cuda_device_num': 0, 'model_load': {'path': './result/saved_CVRP100_model', 'epoch': 30500}, 'test_episodes': 1000, 'test_batch_size': 1, 'augmentation_enable': True, 'aug_factor': 8, 'aug_batch_size': 1, 'test_data_load': {'enable': False, 'filename': '../vrp100_test_seed1234.pt'}, 'test_set_path': '../../../../VRP-Omni-modified/Vrp-Set-X/X-n115', 'test_set_opt_sol_path': '../../../../VRP-Omni-modified/Vrp-Set-A/A-n33-sol', 'test_set_name': 'A-n33'}\n",
      "[2024-04-02 15:54:50] test.py(109) : logger_params{'log_file': {'desc': 'test_cvrp100', 'filename': 'log.txt', 'filepath': './result/20240402_165449_test_cvrp100'}}\n",
      "['../../../../VRP-Omni-modified/Vrp-Set-X/X-n115/X-n115-k10.vrp']\n"
     ]
    },
    {
     "name": "stderr",
     "output_type": "stream",
     "text": [
      "/home/xunj/miniconda3/lib/python3.11/site-packages/torch/__init__.py:614: UserWarning: torch.set_default_tensor_type() is deprecated as of PyTorch 2.1, please use torch.set_default_dtype() and torch.set_default_device() as alternatives. (Triggered internally at /opt/conda/conda-bld/pytorch_1699449183005/work/torch/csrc/tensor/python_tensor.cpp:451.)\n",
      "  _C._set_default_tensor_type(t)\n"
     ]
    },
    {
     "name": "stdout",
     "output_type": "stream",
     "text": [
      "[2024-04-02 15:54:51] CVRPTester.py(130) : episode   1/  1, Elapsed[0.01m], Remain[0.00m], score:14.421, aug_score:13.878\n",
      "[2024-04-02 15:54:51] CVRPTester.py(136) :  *** Test Done *** \n",
      "[2024-04-02 15:54:51] CVRPTester.py(137) :  NO-AUG SCORE: 14.4214 \n",
      "[2024-04-02 15:54:51] CVRPTester.py(138) :  AUGMENTATION SCORE: 13.8784 \n",
      ">> Evaluation on ../../../../VRP-Omni-modified/Vrp-Set-X/X-n115 finished within 0.38s\n",
      ">> Save final results to res/X-n115\n",
      "Test on \" ../../../../VRP-Omni-modified/Vrp-Set-X/X-n115 \" Success\n",
      "-----------------------------------------------------------------------------------------------------------------\n",
      "[2024-04-02 15:54:54] test.py(107) : DEBUG_MODE: False\n",
      "[2024-04-02 15:54:54] test.py(108) : USE_CUDA: True, CUDA_DEVICE_NUM: 0\n",
      "[2024-04-02 15:54:54] test.py(109) : env_params{'problem_size': 100, 'pomo_size': 100}\n",
      "[2024-04-02 15:54:54] test.py(109) : model_params{'embedding_dim': 128, 'sqrt_embedding_dim': 11.313708498984761, 'encoder_layer_num': 6, 'qkv_dim': 16, 'head_num': 8, 'logit_clipping': 10, 'ff_hidden_dim': 512, 'eval_type': 'argmax'}\n",
      "[2024-04-02 15:54:54] test.py(109) : tester_params{'use_cuda': True, 'cuda_device_num': 0, 'model_load': {'path': './result/saved_CVRP100_model', 'epoch': 30500}, 'test_episodes': 1000, 'test_batch_size': 1, 'augmentation_enable': True, 'aug_factor': 8, 'aug_batch_size': 1, 'test_data_load': {'enable': False, 'filename': '../vrp100_test_seed1234.pt'}, 'test_set_path': '../../../../VRP-Omni-modified/Vrp-Set-X/X-n120', 'test_set_opt_sol_path': '../../../../VRP-Omni-modified/Vrp-Set-A/A-n33-sol', 'test_set_name': 'A-n33'}\n",
      "[2024-04-02 15:54:54] test.py(109) : logger_params{'log_file': {'desc': 'test_cvrp100', 'filename': 'log.txt', 'filepath': './result/20240402_165452_test_cvrp100'}}\n",
      "['../../../../VRP-Omni-modified/Vrp-Set-X/X-n120/X-n120-k6.vrp']\n"
     ]
    },
    {
     "name": "stderr",
     "output_type": "stream",
     "text": [
      "/home/xunj/miniconda3/lib/python3.11/site-packages/torch/__init__.py:614: UserWarning: torch.set_default_tensor_type() is deprecated as of PyTorch 2.1, please use torch.set_default_dtype() and torch.set_default_device() as alternatives. (Triggered internally at /opt/conda/conda-bld/pytorch_1699449183005/work/torch/csrc/tensor/python_tensor.cpp:451.)\n",
      "  _C._set_default_tensor_type(t)\n"
     ]
    },
    {
     "name": "stdout",
     "output_type": "stream",
     "text": [
      "[2024-04-02 15:54:54] CVRPTester.py(130) : episode   1/  1, Elapsed[0.01m], Remain[0.00m], score:14.994, aug_score:14.570\n",
      "[2024-04-02 15:54:54] CVRPTester.py(136) :  *** Test Done *** \n",
      "[2024-04-02 15:54:54] CVRPTester.py(137) :  NO-AUG SCORE: 14.9936 \n",
      "[2024-04-02 15:54:54] CVRPTester.py(138) :  AUGMENTATION SCORE: 14.5696 \n",
      ">> Evaluation on ../../../../VRP-Omni-modified/Vrp-Set-X/X-n120 finished within 0.39s\n",
      ">> Save final results to res/X-n120\n",
      "Test on \" ../../../../VRP-Omni-modified/Vrp-Set-X/X-n120 \" Success\n",
      "-----------------------------------------------------------------------------------------------------------------\n",
      "[2024-04-02 15:54:57] test.py(107) : DEBUG_MODE: False\n",
      "[2024-04-02 15:54:57] test.py(108) : USE_CUDA: True, CUDA_DEVICE_NUM: 0\n",
      "[2024-04-02 15:54:57] test.py(109) : env_params{'problem_size': 100, 'pomo_size': 100}\n",
      "[2024-04-02 15:54:57] test.py(109) : model_params{'embedding_dim': 128, 'sqrt_embedding_dim': 11.313708498984761, 'encoder_layer_num': 6, 'qkv_dim': 16, 'head_num': 8, 'logit_clipping': 10, 'ff_hidden_dim': 512, 'eval_type': 'argmax'}\n",
      "[2024-04-02 15:54:57] test.py(109) : tester_params{'use_cuda': True, 'cuda_device_num': 0, 'model_load': {'path': './result/saved_CVRP100_model', 'epoch': 30500}, 'test_episodes': 1000, 'test_batch_size': 1, 'augmentation_enable': True, 'aug_factor': 8, 'aug_batch_size': 1, 'test_data_load': {'enable': False, 'filename': '../vrp100_test_seed1234.pt'}, 'test_set_path': '../../../../VRP-Omni-modified/Vrp-Set-X/X-n125', 'test_set_opt_sol_path': '../../../../VRP-Omni-modified/Vrp-Set-A/A-n33-sol', 'test_set_name': 'A-n33'}\n",
      "[2024-04-02 15:54:57] test.py(109) : logger_params{'log_file': {'desc': 'test_cvrp100', 'filename': 'log.txt', 'filepath': './result/20240402_165455_test_cvrp100'}}\n",
      "['../../../../VRP-Omni-modified/Vrp-Set-X/X-n125/X-n125-k30.vrp']\n"
     ]
    },
    {
     "name": "stderr",
     "output_type": "stream",
     "text": [
      "/home/xunj/miniconda3/lib/python3.11/site-packages/torch/__init__.py:614: UserWarning: torch.set_default_tensor_type() is deprecated as of PyTorch 2.1, please use torch.set_default_dtype() and torch.set_default_device() as alternatives. (Triggered internally at /opt/conda/conda-bld/pytorch_1699449183005/work/torch/csrc/tensor/python_tensor.cpp:451.)\n",
      "  _C._set_default_tensor_type(t)\n"
     ]
    },
    {
     "name": "stdout",
     "output_type": "stream",
     "text": [
      "[2024-04-02 15:54:58] CVRPTester.py(130) : episode   1/  1, Elapsed[0.01m], Remain[0.00m], score:58.708, aug_score:58.421\n",
      "[2024-04-02 15:54:58] CVRPTester.py(136) :  *** Test Done *** \n",
      "[2024-04-02 15:54:58] CVRPTester.py(137) :  NO-AUG SCORE: 58.7082 \n",
      "[2024-04-02 15:54:58] CVRPTester.py(138) :  AUGMENTATION SCORE: 58.4210 \n",
      ">> Evaluation on ../../../../VRP-Omni-modified/Vrp-Set-X/X-n125 finished within 0.42s\n",
      ">> Save final results to res/X-n125\n",
      "Test on \" ../../../../VRP-Omni-modified/Vrp-Set-X/X-n125 \" Success\n",
      "-----------------------------------------------------------------------------------------------------------------\n",
      "[2024-04-02 15:55:00] test.py(107) : DEBUG_MODE: False\n",
      "[2024-04-02 15:55:00] test.py(108) : USE_CUDA: True, CUDA_DEVICE_NUM: 0\n",
      "[2024-04-02 15:55:00] test.py(109) : env_params{'problem_size': 100, 'pomo_size': 100}\n",
      "[2024-04-02 15:55:00] test.py(109) : model_params{'embedding_dim': 128, 'sqrt_embedding_dim': 11.313708498984761, 'encoder_layer_num': 6, 'qkv_dim': 16, 'head_num': 8, 'logit_clipping': 10, 'ff_hidden_dim': 512, 'eval_type': 'argmax'}\n",
      "[2024-04-02 15:55:00] test.py(109) : tester_params{'use_cuda': True, 'cuda_device_num': 0, 'model_load': {'path': './result/saved_CVRP100_model', 'epoch': 30500}, 'test_episodes': 1000, 'test_batch_size': 1, 'augmentation_enable': True, 'aug_factor': 8, 'aug_batch_size': 1, 'test_data_load': {'enable': False, 'filename': '../vrp100_test_seed1234.pt'}, 'test_set_path': '../../../../VRP-Omni-modified/Vrp-Set-X/X-n129', 'test_set_opt_sol_path': '../../../../VRP-Omni-modified/Vrp-Set-A/A-n33-sol', 'test_set_name': 'A-n33'}\n",
      "[2024-04-02 15:55:00] test.py(109) : logger_params{'log_file': {'desc': 'test_cvrp100', 'filename': 'log.txt', 'filepath': './result/20240402_165459_test_cvrp100'}}\n",
      "['../../../../VRP-Omni-modified/Vrp-Set-X/X-n129/X-n129-k18.vrp']\n"
     ]
    },
    {
     "name": "stderr",
     "output_type": "stream",
     "text": [
      "/home/xunj/miniconda3/lib/python3.11/site-packages/torch/__init__.py:614: UserWarning: torch.set_default_tensor_type() is deprecated as of PyTorch 2.1, please use torch.set_default_dtype() and torch.set_default_device() as alternatives. (Triggered internally at /opt/conda/conda-bld/pytorch_1699449183005/work/torch/csrc/tensor/python_tensor.cpp:451.)\n",
      "  _C._set_default_tensor_type(t)\n"
     ]
    },
    {
     "name": "stdout",
     "output_type": "stream",
     "text": [
      "[2024-04-02 15:55:01] CVRPTester.py(130) : episode   1/  1, Elapsed[0.01m], Remain[0.00m], score:29.569, aug_score:29.569\n",
      "[2024-04-02 15:55:01] CVRPTester.py(136) :  *** Test Done *** \n",
      "[2024-04-02 15:55:01] CVRPTester.py(137) :  NO-AUG SCORE: 29.5690 \n",
      "[2024-04-02 15:55:01] CVRPTester.py(138) :  AUGMENTATION SCORE: 29.5690 \n",
      ">> Evaluation on ../../../../VRP-Omni-modified/Vrp-Set-X/X-n129 finished within 0.41s\n",
      ">> Save final results to res/X-n129\n",
      "Test on \" ../../../../VRP-Omni-modified/Vrp-Set-X/X-n129 \" Success\n",
      "-----------------------------------------------------------------------------------------------------------------\n",
      "[2024-04-02 15:55:03] test.py(107) : DEBUG_MODE: False\n",
      "[2024-04-02 15:55:03] test.py(108) : USE_CUDA: True, CUDA_DEVICE_NUM: 0\n",
      "[2024-04-02 15:55:03] test.py(109) : env_params{'problem_size': 100, 'pomo_size': 100}\n",
      "[2024-04-02 15:55:03] test.py(109) : model_params{'embedding_dim': 128, 'sqrt_embedding_dim': 11.313708498984761, 'encoder_layer_num': 6, 'qkv_dim': 16, 'head_num': 8, 'logit_clipping': 10, 'ff_hidden_dim': 512, 'eval_type': 'argmax'}\n",
      "[2024-04-02 15:55:03] test.py(109) : tester_params{'use_cuda': True, 'cuda_device_num': 0, 'model_load': {'path': './result/saved_CVRP100_model', 'epoch': 30500}, 'test_episodes': 1000, 'test_batch_size': 1, 'augmentation_enable': True, 'aug_factor': 8, 'aug_batch_size': 1, 'test_data_load': {'enable': False, 'filename': '../vrp100_test_seed1234.pt'}, 'test_set_path': '../../../../VRP-Omni-modified/Vrp-Set-X/X-n134', 'test_set_opt_sol_path': '../../../../VRP-Omni-modified/Vrp-Set-A/A-n33-sol', 'test_set_name': 'A-n33'}\n",
      "[2024-04-02 15:55:03] test.py(109) : logger_params{'log_file': {'desc': 'test_cvrp100', 'filename': 'log.txt', 'filepath': './result/20240402_165502_test_cvrp100'}}\n",
      "['../../../../VRP-Omni-modified/Vrp-Set-X/X-n134/X-n134-k13.vrp']\n"
     ]
    },
    {
     "name": "stderr",
     "output_type": "stream",
     "text": [
      "/home/xunj/miniconda3/lib/python3.11/site-packages/torch/__init__.py:614: UserWarning: torch.set_default_tensor_type() is deprecated as of PyTorch 2.1, please use torch.set_default_dtype() and torch.set_default_device() as alternatives. (Triggered internally at /opt/conda/conda-bld/pytorch_1699449183005/work/torch/csrc/tensor/python_tensor.cpp:451.)\n",
      "  _C._set_default_tensor_type(t)\n"
     ]
    },
    {
     "name": "stdout",
     "output_type": "stream",
     "text": [
      "[2024-04-02 15:55:04] CVRPTester.py(130) : episode   1/  1, Elapsed[0.01m], Remain[0.00m], score:11.445, aug_score:11.315\n",
      "[2024-04-02 15:55:04] CVRPTester.py(136) :  *** Test Done *** \n",
      "[2024-04-02 15:55:04] CVRPTester.py(137) :  NO-AUG SCORE: 11.4448 \n",
      "[2024-04-02 15:55:04] CVRPTester.py(138) :  AUGMENTATION SCORE: 11.3155 \n",
      ">> Evaluation on ../../../../VRP-Omni-modified/Vrp-Set-X/X-n134 finished within 0.40s\n",
      ">> Save final results to res/X-n134\n",
      "Test on \" ../../../../VRP-Omni-modified/Vrp-Set-X/X-n134 \" Success\n",
      "-----------------------------------------------------------------------------------------------------------------\n",
      "[2024-04-02 15:55:07] test.py(107) : DEBUG_MODE: False\n",
      "[2024-04-02 15:55:07] test.py(108) : USE_CUDA: True, CUDA_DEVICE_NUM: 0\n",
      "[2024-04-02 15:55:07] test.py(109) : env_params{'problem_size': 100, 'pomo_size': 100}\n",
      "[2024-04-02 15:55:07] test.py(109) : model_params{'embedding_dim': 128, 'sqrt_embedding_dim': 11.313708498984761, 'encoder_layer_num': 6, 'qkv_dim': 16, 'head_num': 8, 'logit_clipping': 10, 'ff_hidden_dim': 512, 'eval_type': 'argmax'}\n",
      "[2024-04-02 15:55:07] test.py(109) : tester_params{'use_cuda': True, 'cuda_device_num': 0, 'model_load': {'path': './result/saved_CVRP100_model', 'epoch': 30500}, 'test_episodes': 1000, 'test_batch_size': 1, 'augmentation_enable': True, 'aug_factor': 8, 'aug_batch_size': 1, 'test_data_load': {'enable': False, 'filename': '../vrp100_test_seed1234.pt'}, 'test_set_path': '../../../../VRP-Omni-modified/Vrp-Set-X/X-n139', 'test_set_opt_sol_path': '../../../../VRP-Omni-modified/Vrp-Set-A/A-n33-sol', 'test_set_name': 'A-n33'}\n",
      "[2024-04-02 15:55:07] test.py(109) : logger_params{'log_file': {'desc': 'test_cvrp100', 'filename': 'log.txt', 'filepath': './result/20240402_165505_test_cvrp100'}}\n",
      "['../../../../VRP-Omni-modified/Vrp-Set-X/X-n139/X-n139-k10.vrp']\n"
     ]
    },
    {
     "name": "stderr",
     "output_type": "stream",
     "text": [
      "/home/xunj/miniconda3/lib/python3.11/site-packages/torch/__init__.py:614: UserWarning: torch.set_default_tensor_type() is deprecated as of PyTorch 2.1, please use torch.set_default_dtype() and torch.set_default_device() as alternatives. (Triggered internally at /opt/conda/conda-bld/pytorch_1699449183005/work/torch/csrc/tensor/python_tensor.cpp:451.)\n",
      "  _C._set_default_tensor_type(t)\n"
     ]
    },
    {
     "name": "stdout",
     "output_type": "stream",
     "text": [
      "[2024-04-02 15:55:07] CVRPTester.py(130) : episode   1/  1, Elapsed[0.01m], Remain[0.00m], score:14.155, aug_score:14.080\n",
      "[2024-04-02 15:55:07] CVRPTester.py(136) :  *** Test Done *** \n",
      "[2024-04-02 15:55:07] CVRPTester.py(137) :  NO-AUG SCORE: 14.1547 \n",
      "[2024-04-02 15:55:07] CVRPTester.py(138) :  AUGMENTATION SCORE: 14.0804 \n",
      ">> Evaluation on ../../../../VRP-Omni-modified/Vrp-Set-X/X-n139 finished within 0.40s\n",
      ">> Save final results to res/X-n139\n",
      "Test on \" ../../../../VRP-Omni-modified/Vrp-Set-X/X-n139 \" Success\n",
      "-----------------------------------------------------------------------------------------------------------------\n",
      "[2024-04-02 15:55:10] test.py(107) : DEBUG_MODE: False\n",
      "[2024-04-02 15:55:10] test.py(108) : USE_CUDA: True, CUDA_DEVICE_NUM: 0\n",
      "[2024-04-02 15:55:10] test.py(109) : env_params{'problem_size': 100, 'pomo_size': 100}\n",
      "[2024-04-02 15:55:10] test.py(109) : model_params{'embedding_dim': 128, 'sqrt_embedding_dim': 11.313708498984761, 'encoder_layer_num': 6, 'qkv_dim': 16, 'head_num': 8, 'logit_clipping': 10, 'ff_hidden_dim': 512, 'eval_type': 'argmax'}\n",
      "[2024-04-02 15:55:10] test.py(109) : tester_params{'use_cuda': True, 'cuda_device_num': 0, 'model_load': {'path': './result/saved_CVRP100_model', 'epoch': 30500}, 'test_episodes': 1000, 'test_batch_size': 1, 'augmentation_enable': True, 'aug_factor': 8, 'aug_batch_size': 1, 'test_data_load': {'enable': False, 'filename': '../vrp100_test_seed1234.pt'}, 'test_set_path': '../../../../VRP-Omni-modified/Vrp-Set-X/X-n143', 'test_set_opt_sol_path': '../../../../VRP-Omni-modified/Vrp-Set-A/A-n33-sol', 'test_set_name': 'A-n33'}\n",
      "[2024-04-02 15:55:10] test.py(109) : logger_params{'log_file': {'desc': 'test_cvrp100', 'filename': 'log.txt', 'filepath': './result/20240402_165508_test_cvrp100'}}\n",
      "['../../../../VRP-Omni-modified/Vrp-Set-X/X-n143/X-n143-k7.vrp']\n"
     ]
    },
    {
     "name": "stderr",
     "output_type": "stream",
     "text": [
      "/home/xunj/miniconda3/lib/python3.11/site-packages/torch/__init__.py:614: UserWarning: torch.set_default_tensor_type() is deprecated as of PyTorch 2.1, please use torch.set_default_dtype() and torch.set_default_device() as alternatives. (Triggered internally at /opt/conda/conda-bld/pytorch_1699449183005/work/torch/csrc/tensor/python_tensor.cpp:451.)\n",
      "  _C._set_default_tensor_type(t)\n"
     ]
    },
    {
     "name": "stdout",
     "output_type": "stream",
     "text": [
      "[2024-04-02 15:55:11] CVRPTester.py(130) : episode   1/  1, Elapsed[0.01m], Remain[0.00m], score:16.395, aug_score:16.380\n",
      "[2024-04-02 15:55:11] CVRPTester.py(136) :  *** Test Done *** \n",
      "[2024-04-02 15:55:11] CVRPTester.py(137) :  NO-AUG SCORE: 16.3951 \n",
      "[2024-04-02 15:55:11] CVRPTester.py(138) :  AUGMENTATION SCORE: 16.3805 \n",
      ">> Evaluation on ../../../../VRP-Omni-modified/Vrp-Set-X/X-n143 finished within 0.40s\n",
      ">> Save final results to res/X-n143\n",
      "Test on \" ../../../../VRP-Omni-modified/Vrp-Set-X/X-n143 \" Success\n",
      "-----------------------------------------------------------------------------------------------------------------\n",
      "[2024-04-02 15:55:13] test.py(107) : DEBUG_MODE: False\n",
      "[2024-04-02 15:55:13] test.py(108) : USE_CUDA: True, CUDA_DEVICE_NUM: 0\n",
      "[2024-04-02 15:55:13] test.py(109) : env_params{'problem_size': 100, 'pomo_size': 100}\n",
      "[2024-04-02 15:55:13] test.py(109) : model_params{'embedding_dim': 128, 'sqrt_embedding_dim': 11.313708498984761, 'encoder_layer_num': 6, 'qkv_dim': 16, 'head_num': 8, 'logit_clipping': 10, 'ff_hidden_dim': 512, 'eval_type': 'argmax'}\n",
      "[2024-04-02 15:55:13] test.py(109) : tester_params{'use_cuda': True, 'cuda_device_num': 0, 'model_load': {'path': './result/saved_CVRP100_model', 'epoch': 30500}, 'test_episodes': 1000, 'test_batch_size': 1, 'augmentation_enable': True, 'aug_factor': 8, 'aug_batch_size': 1, 'test_data_load': {'enable': False, 'filename': '../vrp100_test_seed1234.pt'}, 'test_set_path': '../../../../VRP-Omni-modified/Vrp-Set-X/X-n148', 'test_set_opt_sol_path': '../../../../VRP-Omni-modified/Vrp-Set-A/A-n33-sol', 'test_set_name': 'A-n33'}\n",
      "[2024-04-02 15:55:13] test.py(109) : logger_params{'log_file': {'desc': 'test_cvrp100', 'filename': 'log.txt', 'filepath': './result/20240402_165512_test_cvrp100'}}\n",
      "['../../../../VRP-Omni-modified/Vrp-Set-X/X-n148/X-n148-k46.vrp']\n"
     ]
    },
    {
     "name": "stderr",
     "output_type": "stream",
     "text": [
      "/home/xunj/miniconda3/lib/python3.11/site-packages/torch/__init__.py:614: UserWarning: torch.set_default_tensor_type() is deprecated as of PyTorch 2.1, please use torch.set_default_dtype() and torch.set_default_device() as alternatives. (Triggered internally at /opt/conda/conda-bld/pytorch_1699449183005/work/torch/csrc/tensor/python_tensor.cpp:451.)\n",
      "  _C._set_default_tensor_type(t)\n"
     ]
    },
    {
     "name": "stdout",
     "output_type": "stream",
     "text": [
      "[2024-04-02 15:55:14] CVRPTester.py(130) : episode   1/  1, Elapsed[0.01m], Remain[0.00m], score:47.845, aug_score:47.621\n",
      "[2024-04-02 15:55:14] CVRPTester.py(136) :  *** Test Done *** \n",
      "[2024-04-02 15:55:14] CVRPTester.py(137) :  NO-AUG SCORE: 47.8453 \n",
      "[2024-04-02 15:55:14] CVRPTester.py(138) :  AUGMENTATION SCORE: 47.6207 \n",
      ">> Evaluation on ../../../../VRP-Omni-modified/Vrp-Set-X/X-n148 finished within 0.45s\n",
      ">> Save final results to res/X-n148\n",
      "Test on \" ../../../../VRP-Omni-modified/Vrp-Set-X/X-n148 \" Success\n",
      "-----------------------------------------------------------------------------------------------------------------\n",
      "[2024-04-02 15:55:16] test.py(107) : DEBUG_MODE: False\n",
      "[2024-04-02 15:55:16] test.py(108) : USE_CUDA: True, CUDA_DEVICE_NUM: 0\n",
      "[2024-04-02 15:55:16] test.py(109) : env_params{'problem_size': 100, 'pomo_size': 100}\n",
      "[2024-04-02 15:55:16] test.py(109) : model_params{'embedding_dim': 128, 'sqrt_embedding_dim': 11.313708498984761, 'encoder_layer_num': 6, 'qkv_dim': 16, 'head_num': 8, 'logit_clipping': 10, 'ff_hidden_dim': 512, 'eval_type': 'argmax'}\n",
      "[2024-04-02 15:55:16] test.py(109) : tester_params{'use_cuda': True, 'cuda_device_num': 0, 'model_load': {'path': './result/saved_CVRP100_model', 'epoch': 30500}, 'test_episodes': 1000, 'test_batch_size': 1, 'augmentation_enable': True, 'aug_factor': 8, 'aug_batch_size': 1, 'test_data_load': {'enable': False, 'filename': '../vrp100_test_seed1234.pt'}, 'test_set_path': '../../../../VRP-Omni-modified/Vrp-Set-X/X-n153', 'test_set_opt_sol_path': '../../../../VRP-Omni-modified/Vrp-Set-A/A-n33-sol', 'test_set_name': 'A-n33'}\n",
      "[2024-04-02 15:55:16] test.py(109) : logger_params{'log_file': {'desc': 'test_cvrp100', 'filename': 'log.txt', 'filepath': './result/20240402_165515_test_cvrp100'}}\n",
      "['../../../../VRP-Omni-modified/Vrp-Set-X/X-n153/X-n153-k22.vrp']\n"
     ]
    },
    {
     "name": "stderr",
     "output_type": "stream",
     "text": [
      "/home/xunj/miniconda3/lib/python3.11/site-packages/torch/__init__.py:614: UserWarning: torch.set_default_tensor_type() is deprecated as of PyTorch 2.1, please use torch.set_default_dtype() and torch.set_default_device() as alternatives. (Triggered internally at /opt/conda/conda-bld/pytorch_1699449183005/work/torch/csrc/tensor/python_tensor.cpp:451.)\n",
      "  _C._set_default_tensor_type(t)\n"
     ]
    },
    {
     "name": "stdout",
     "output_type": "stream",
     "text": [
      "[2024-04-02 15:55:17] CVRPTester.py(130) : episode   1/  1, Elapsed[0.01m], Remain[0.00m], score:26.009, aug_score:24.356\n",
      "[2024-04-02 15:55:17] CVRPTester.py(136) :  *** Test Done *** \n",
      "[2024-04-02 15:55:17] CVRPTester.py(137) :  NO-AUG SCORE: 26.0094 \n",
      "[2024-04-02 15:55:17] CVRPTester.py(138) :  AUGMENTATION SCORE: 24.3562 \n",
      ">> Evaluation on ../../../../VRP-Omni-modified/Vrp-Set-X/X-n153 finished within 0.45s\n",
      ">> Save final results to res/X-n153\n",
      "Test on \" ../../../../VRP-Omni-modified/Vrp-Set-X/X-n153 \" Success\n",
      "-----------------------------------------------------------------------------------------------------------------\n",
      "[2024-04-02 15:55:20] test.py(107) : DEBUG_MODE: False\n",
      "[2024-04-02 15:55:20] test.py(108) : USE_CUDA: True, CUDA_DEVICE_NUM: 0\n",
      "[2024-04-02 15:55:20] test.py(109) : env_params{'problem_size': 100, 'pomo_size': 100}\n",
      "[2024-04-02 15:55:20] test.py(109) : model_params{'embedding_dim': 128, 'sqrt_embedding_dim': 11.313708498984761, 'encoder_layer_num': 6, 'qkv_dim': 16, 'head_num': 8, 'logit_clipping': 10, 'ff_hidden_dim': 512, 'eval_type': 'argmax'}\n",
      "[2024-04-02 15:55:20] test.py(109) : tester_params{'use_cuda': True, 'cuda_device_num': 0, 'model_load': {'path': './result/saved_CVRP100_model', 'epoch': 30500}, 'test_episodes': 1000, 'test_batch_size': 1, 'augmentation_enable': True, 'aug_factor': 8, 'aug_batch_size': 1, 'test_data_load': {'enable': False, 'filename': '../vrp100_test_seed1234.pt'}, 'test_set_path': '../../../../VRP-Omni-modified/Vrp-Set-X/X-n157', 'test_set_opt_sol_path': '../../../../VRP-Omni-modified/Vrp-Set-A/A-n33-sol', 'test_set_name': 'A-n33'}\n",
      "[2024-04-02 15:55:20] test.py(109) : logger_params{'log_file': {'desc': 'test_cvrp100', 'filename': 'log.txt', 'filepath': './result/20240402_165518_test_cvrp100'}}\n",
      "['../../../../VRP-Omni-modified/Vrp-Set-X/X-n157/X-n157-k13.vrp']\n"
     ]
    },
    {
     "name": "stderr",
     "output_type": "stream",
     "text": [
      "/home/xunj/miniconda3/lib/python3.11/site-packages/torch/__init__.py:614: UserWarning: torch.set_default_tensor_type() is deprecated as of PyTorch 2.1, please use torch.set_default_dtype() and torch.set_default_device() as alternatives. (Triggered internally at /opt/conda/conda-bld/pytorch_1699449183005/work/torch/csrc/tensor/python_tensor.cpp:451.)\n",
      "  _C._set_default_tensor_type(t)\n"
     ]
    },
    {
     "name": "stdout",
     "output_type": "stream",
     "text": [
      "[2024-04-02 15:55:20] CVRPTester.py(130) : episode   1/  1, Elapsed[0.01m], Remain[0.00m], score:19.639, aug_score:18.302\n",
      "[2024-04-02 15:55:20] CVRPTester.py(136) :  *** Test Done *** \n",
      "[2024-04-02 15:55:20] CVRPTester.py(137) :  NO-AUG SCORE: 19.6393 \n",
      "[2024-04-02 15:55:20] CVRPTester.py(138) :  AUGMENTATION SCORE: 18.3024 \n",
      ">> Evaluation on ../../../../VRP-Omni-modified/Vrp-Set-X/X-n157 finished within 0.44s\n",
      ">> Save final results to res/X-n157\n",
      "Test on \" ../../../../VRP-Omni-modified/Vrp-Set-X/X-n157 \" Success\n",
      "-----------------------------------------------------------------------------------------------------------------\n",
      "[2024-04-02 15:55:23] test.py(107) : DEBUG_MODE: False\n",
      "[2024-04-02 15:55:23] test.py(108) : USE_CUDA: True, CUDA_DEVICE_NUM: 0\n",
      "[2024-04-02 15:55:23] test.py(109) : env_params{'problem_size': 100, 'pomo_size': 100}\n",
      "[2024-04-02 15:55:23] test.py(109) : model_params{'embedding_dim': 128, 'sqrt_embedding_dim': 11.313708498984761, 'encoder_layer_num': 6, 'qkv_dim': 16, 'head_num': 8, 'logit_clipping': 10, 'ff_hidden_dim': 512, 'eval_type': 'argmax'}\n",
      "[2024-04-02 15:55:23] test.py(109) : tester_params{'use_cuda': True, 'cuda_device_num': 0, 'model_load': {'path': './result/saved_CVRP100_model', 'epoch': 30500}, 'test_episodes': 1000, 'test_batch_size': 1, 'augmentation_enable': True, 'aug_factor': 8, 'aug_batch_size': 1, 'test_data_load': {'enable': False, 'filename': '../vrp100_test_seed1234.pt'}, 'test_set_path': '../../../../VRP-Omni-modified/Vrp-Set-X/X-n162', 'test_set_opt_sol_path': '../../../../VRP-Omni-modified/Vrp-Set-A/A-n33-sol', 'test_set_name': 'A-n33'}\n",
      "[2024-04-02 15:55:23] test.py(109) : logger_params{'log_file': {'desc': 'test_cvrp100', 'filename': 'log.txt', 'filepath': './result/20240402_165521_test_cvrp100'}}\n",
      "['../../../../VRP-Omni-modified/Vrp-Set-X/X-n162/X-n162-k11.vrp']\n"
     ]
    },
    {
     "name": "stderr",
     "output_type": "stream",
     "text": [
      "/home/xunj/miniconda3/lib/python3.11/site-packages/torch/__init__.py:614: UserWarning: torch.set_default_tensor_type() is deprecated as of PyTorch 2.1, please use torch.set_default_dtype() and torch.set_default_device() as alternatives. (Triggered internally at /opt/conda/conda-bld/pytorch_1699449183005/work/torch/csrc/tensor/python_tensor.cpp:451.)\n",
      "  _C._set_default_tensor_type(t)\n"
     ]
    },
    {
     "name": "stdout",
     "output_type": "stream",
     "text": [
      "[2024-04-02 15:55:24] CVRPTester.py(130) : episode   1/  1, Elapsed[0.01m], Remain[0.00m], score:15.095, aug_score:14.985\n",
      "[2024-04-02 15:55:24] CVRPTester.py(136) :  *** Test Done *** \n",
      "[2024-04-02 15:55:24] CVRPTester.py(137) :  NO-AUG SCORE: 15.0950 \n",
      "[2024-04-02 15:55:24] CVRPTester.py(138) :  AUGMENTATION SCORE: 14.9854 \n",
      ">> Evaluation on ../../../../VRP-Omni-modified/Vrp-Set-X/X-n162 finished within 0.45s\n",
      ">> Save final results to res/X-n162\n",
      "Test on \" ../../../../VRP-Omni-modified/Vrp-Set-X/X-n162 \" Success\n",
      "-----------------------------------------------------------------------------------------------------------------\n",
      "[2024-04-02 15:55:26] test.py(107) : DEBUG_MODE: False\n",
      "[2024-04-02 15:55:26] test.py(108) : USE_CUDA: True, CUDA_DEVICE_NUM: 0\n",
      "[2024-04-02 15:55:26] test.py(109) : env_params{'problem_size': 100, 'pomo_size': 100}\n",
      "[2024-04-02 15:55:26] test.py(109) : model_params{'embedding_dim': 128, 'sqrt_embedding_dim': 11.313708498984761, 'encoder_layer_num': 6, 'qkv_dim': 16, 'head_num': 8, 'logit_clipping': 10, 'ff_hidden_dim': 512, 'eval_type': 'argmax'}\n",
      "[2024-04-02 15:55:26] test.py(109) : tester_params{'use_cuda': True, 'cuda_device_num': 0, 'model_load': {'path': './result/saved_CVRP100_model', 'epoch': 30500}, 'test_episodes': 1000, 'test_batch_size': 1, 'augmentation_enable': True, 'aug_factor': 8, 'aug_batch_size': 1, 'test_data_load': {'enable': False, 'filename': '../vrp100_test_seed1234.pt'}, 'test_set_path': '../../../../VRP-Omni-modified/Vrp-Set-X/X-n167', 'test_set_opt_sol_path': '../../../../VRP-Omni-modified/Vrp-Set-A/A-n33-sol', 'test_set_name': 'A-n33'}\n",
      "[2024-04-02 15:55:26] test.py(109) : logger_params{'log_file': {'desc': 'test_cvrp100', 'filename': 'log.txt', 'filepath': './result/20240402_165525_test_cvrp100'}}\n",
      "['../../../../VRP-Omni-modified/Vrp-Set-X/X-n167/X-n167-k10.vrp']\n"
     ]
    },
    {
     "name": "stderr",
     "output_type": "stream",
     "text": [
      "/home/xunj/miniconda3/lib/python3.11/site-packages/torch/__init__.py:614: UserWarning: torch.set_default_tensor_type() is deprecated as of PyTorch 2.1, please use torch.set_default_dtype() and torch.set_default_device() as alternatives. (Triggered internally at /opt/conda/conda-bld/pytorch_1699449183005/work/torch/csrc/tensor/python_tensor.cpp:451.)\n",
      "  _C._set_default_tensor_type(t)\n"
     ]
    },
    {
     "name": "stdout",
     "output_type": "stream",
     "text": [
      "[2024-04-02 15:55:27] CVRPTester.py(130) : episode   1/  1, Elapsed[0.01m], Remain[0.00m], score:21.967, aug_score:21.297\n",
      "[2024-04-02 15:55:27] CVRPTester.py(136) :  *** Test Done *** \n",
      "[2024-04-02 15:55:27] CVRPTester.py(137) :  NO-AUG SCORE: 21.9674 \n",
      "[2024-04-02 15:55:27] CVRPTester.py(138) :  AUGMENTATION SCORE: 21.2973 \n",
      ">> Evaluation on ../../../../VRP-Omni-modified/Vrp-Set-X/X-n167 finished within 0.45s\n",
      ">> Save final results to res/X-n167\n",
      "Test on \" ../../../../VRP-Omni-modified/Vrp-Set-X/X-n167 \" Success\n",
      "-----------------------------------------------------------------------------------------------------------------\n",
      "[2024-04-02 15:55:29] test.py(107) : DEBUG_MODE: False\n",
      "[2024-04-02 15:55:29] test.py(108) : USE_CUDA: True, CUDA_DEVICE_NUM: 0\n",
      "[2024-04-02 15:55:29] test.py(109) : env_params{'problem_size': 100, 'pomo_size': 100}\n",
      "[2024-04-02 15:55:29] test.py(109) : model_params{'embedding_dim': 128, 'sqrt_embedding_dim': 11.313708498984761, 'encoder_layer_num': 6, 'qkv_dim': 16, 'head_num': 8, 'logit_clipping': 10, 'ff_hidden_dim': 512, 'eval_type': 'argmax'}\n",
      "[2024-04-02 15:55:29] test.py(109) : tester_params{'use_cuda': True, 'cuda_device_num': 0, 'model_load': {'path': './result/saved_CVRP100_model', 'epoch': 30500}, 'test_episodes': 1000, 'test_batch_size': 1, 'augmentation_enable': True, 'aug_factor': 8, 'aug_batch_size': 1, 'test_data_load': {'enable': False, 'filename': '../vrp100_test_seed1234.pt'}, 'test_set_path': '../../../../VRP-Omni-modified/Vrp-Set-X/X-n172', 'test_set_opt_sol_path': '../../../../VRP-Omni-modified/Vrp-Set-A/A-n33-sol', 'test_set_name': 'A-n33'}\n",
      "[2024-04-02 15:55:29] test.py(109) : logger_params{'log_file': {'desc': 'test_cvrp100', 'filename': 'log.txt', 'filepath': './result/20240402_165528_test_cvrp100'}}\n",
      "['../../../../VRP-Omni-modified/Vrp-Set-X/X-n172/X-n172-k51.vrp']\n"
     ]
    },
    {
     "name": "stderr",
     "output_type": "stream",
     "text": [
      "/home/xunj/miniconda3/lib/python3.11/site-packages/torch/__init__.py:614: UserWarning: torch.set_default_tensor_type() is deprecated as of PyTorch 2.1, please use torch.set_default_dtype() and torch.set_default_device() as alternatives. (Triggered internally at /opt/conda/conda-bld/pytorch_1699449183005/work/torch/csrc/tensor/python_tensor.cpp:451.)\n",
      "  _C._set_default_tensor_type(t)\n"
     ]
    },
    {
     "name": "stdout",
     "output_type": "stream",
     "text": [
      "[2024-04-02 15:55:30] CVRPTester.py(130) : episode   1/  1, Elapsed[0.01m], Remain[0.00m], score:52.230, aug_score:50.356\n",
      "[2024-04-02 15:55:30] CVRPTester.py(136) :  *** Test Done *** \n",
      "[2024-04-02 15:55:30] CVRPTester.py(137) :  NO-AUG SCORE: 52.2298 \n",
      "[2024-04-02 15:55:30] CVRPTester.py(138) :  AUGMENTATION SCORE: 50.3559 \n",
      ">> Evaluation on ../../../../VRP-Omni-modified/Vrp-Set-X/X-n172 finished within 0.54s\n",
      ">> Save final results to res/X-n172\n",
      "Test on \" ../../../../VRP-Omni-modified/Vrp-Set-X/X-n172 \" Success\n",
      "-----------------------------------------------------------------------------------------------------------------\n",
      "[2024-04-02 15:55:33] test.py(107) : DEBUG_MODE: False\n",
      "[2024-04-02 15:55:33] test.py(108) : USE_CUDA: True, CUDA_DEVICE_NUM: 0\n",
      "[2024-04-02 15:55:33] test.py(109) : env_params{'problem_size': 100, 'pomo_size': 100}\n",
      "[2024-04-02 15:55:33] test.py(109) : model_params{'embedding_dim': 128, 'sqrt_embedding_dim': 11.313708498984761, 'encoder_layer_num': 6, 'qkv_dim': 16, 'head_num': 8, 'logit_clipping': 10, 'ff_hidden_dim': 512, 'eval_type': 'argmax'}\n",
      "[2024-04-02 15:55:33] test.py(109) : tester_params{'use_cuda': True, 'cuda_device_num': 0, 'model_load': {'path': './result/saved_CVRP100_model', 'epoch': 30500}, 'test_episodes': 1000, 'test_batch_size': 1, 'augmentation_enable': True, 'aug_factor': 8, 'aug_batch_size': 1, 'test_data_load': {'enable': False, 'filename': '../vrp100_test_seed1234.pt'}, 'test_set_path': '../../../../VRP-Omni-modified/Vrp-Set-X/X-n176', 'test_set_opt_sol_path': '../../../../VRP-Omni-modified/Vrp-Set-A/A-n33-sol', 'test_set_name': 'A-n33'}\n",
      "[2024-04-02 15:55:33] test.py(109) : logger_params{'log_file': {'desc': 'test_cvrp100', 'filename': 'log.txt', 'filepath': './result/20240402_165532_test_cvrp100'}}\n",
      "['../../../../VRP-Omni-modified/Vrp-Set-X/X-n176/X-n176-k26.vrp']\n"
     ]
    },
    {
     "name": "stderr",
     "output_type": "stream",
     "text": [
      "/home/xunj/miniconda3/lib/python3.11/site-packages/torch/__init__.py:614: UserWarning: torch.set_default_tensor_type() is deprecated as of PyTorch 2.1, please use torch.set_default_dtype() and torch.set_default_device() as alternatives. (Triggered internally at /opt/conda/conda-bld/pytorch_1699449183005/work/torch/csrc/tensor/python_tensor.cpp:451.)\n",
      "  _C._set_default_tensor_type(t)\n"
     ]
    },
    {
     "name": "stdout",
     "output_type": "stream",
     "text": [
      "[2024-04-02 15:55:34] CVRPTester.py(130) : episode   1/  1, Elapsed[0.01m], Remain[0.00m], score:53.408, aug_score:52.883\n",
      "[2024-04-02 15:55:34] CVRPTester.py(136) :  *** Test Done *** \n",
      "[2024-04-02 15:55:34] CVRPTester.py(137) :  NO-AUG SCORE: 53.4083 \n",
      "[2024-04-02 15:55:34] CVRPTester.py(138) :  AUGMENTATION SCORE: 52.8827 \n",
      ">> Evaluation on ../../../../VRP-Omni-modified/Vrp-Set-X/X-n176 finished within 0.48s\n",
      ">> Save final results to res/X-n176\n",
      "Test on \" ../../../../VRP-Omni-modified/Vrp-Set-X/X-n176 \" Success\n",
      "-----------------------------------------------------------------------------------------------------------------\n",
      "[2024-04-02 15:55:36] test.py(107) : DEBUG_MODE: False\n",
      "[2024-04-02 15:55:36] test.py(108) : USE_CUDA: True, CUDA_DEVICE_NUM: 0\n",
      "[2024-04-02 15:55:36] test.py(109) : env_params{'problem_size': 100, 'pomo_size': 100}\n",
      "[2024-04-02 15:55:36] test.py(109) : model_params{'embedding_dim': 128, 'sqrt_embedding_dim': 11.313708498984761, 'encoder_layer_num': 6, 'qkv_dim': 16, 'head_num': 8, 'logit_clipping': 10, 'ff_hidden_dim': 512, 'eval_type': 'argmax'}\n",
      "[2024-04-02 15:55:36] test.py(109) : tester_params{'use_cuda': True, 'cuda_device_num': 0, 'model_load': {'path': './result/saved_CVRP100_model', 'epoch': 30500}, 'test_episodes': 1000, 'test_batch_size': 1, 'augmentation_enable': True, 'aug_factor': 8, 'aug_batch_size': 1, 'test_data_load': {'enable': False, 'filename': '../vrp100_test_seed1234.pt'}, 'test_set_path': '../../../../VRP-Omni-modified/Vrp-Set-X/X-n181', 'test_set_opt_sol_path': '../../../../VRP-Omni-modified/Vrp-Set-A/A-n33-sol', 'test_set_name': 'A-n33'}\n",
      "[2024-04-02 15:55:36] test.py(109) : logger_params{'log_file': {'desc': 'test_cvrp100', 'filename': 'log.txt', 'filepath': './result/20240402_165535_test_cvrp100'}}\n",
      "['../../../../VRP-Omni-modified/Vrp-Set-X/X-n181/X-n181-k23.vrp']\n"
     ]
    },
    {
     "name": "stderr",
     "output_type": "stream",
     "text": [
      "/home/xunj/miniconda3/lib/python3.11/site-packages/torch/__init__.py:614: UserWarning: torch.set_default_tensor_type() is deprecated as of PyTorch 2.1, please use torch.set_default_dtype() and torch.set_default_device() as alternatives. (Triggered internally at /opt/conda/conda-bld/pytorch_1699449183005/work/torch/csrc/tensor/python_tensor.cpp:451.)\n",
      "  _C._set_default_tensor_type(t)\n"
     ]
    },
    {
     "name": "stdout",
     "output_type": "stream",
     "text": [
      "[2024-04-02 15:55:37] CVRPTester.py(130) : episode   1/  1, Elapsed[0.01m], Remain[0.00m], score:30.533, aug_score:26.978\n",
      "[2024-04-02 15:55:37] CVRPTester.py(136) :  *** Test Done *** \n",
      "[2024-04-02 15:55:37] CVRPTester.py(137) :  NO-AUG SCORE: 30.5326 \n",
      "[2024-04-02 15:55:37] CVRPTester.py(138) :  AUGMENTATION SCORE: 26.9782 \n",
      ">> Evaluation on ../../../../VRP-Omni-modified/Vrp-Set-X/X-n181 finished within 0.51s\n",
      ">> Save final results to res/X-n181\n",
      "Test on \" ../../../../VRP-Omni-modified/Vrp-Set-X/X-n181 \" Success\n",
      "-----------------------------------------------------------------------------------------------------------------\n",
      "[2024-04-02 15:55:40] test.py(107) : DEBUG_MODE: False\n",
      "[2024-04-02 15:55:40] test.py(108) : USE_CUDA: True, CUDA_DEVICE_NUM: 0\n",
      "[2024-04-02 15:55:40] test.py(109) : env_params{'problem_size': 100, 'pomo_size': 100}\n",
      "[2024-04-02 15:55:40] test.py(109) : model_params{'embedding_dim': 128, 'sqrt_embedding_dim': 11.313708498984761, 'encoder_layer_num': 6, 'qkv_dim': 16, 'head_num': 8, 'logit_clipping': 10, 'ff_hidden_dim': 512, 'eval_type': 'argmax'}\n",
      "[2024-04-02 15:55:40] test.py(109) : tester_params{'use_cuda': True, 'cuda_device_num': 0, 'model_load': {'path': './result/saved_CVRP100_model', 'epoch': 30500}, 'test_episodes': 1000, 'test_batch_size': 1, 'augmentation_enable': True, 'aug_factor': 8, 'aug_batch_size': 1, 'test_data_load': {'enable': False, 'filename': '../vrp100_test_seed1234.pt'}, 'test_set_path': '../../../../VRP-Omni-modified/Vrp-Set-X/X-n186', 'test_set_opt_sol_path': '../../../../VRP-Omni-modified/Vrp-Set-A/A-n33-sol', 'test_set_name': 'A-n33'}\n",
      "[2024-04-02 15:55:40] test.py(109) : logger_params{'log_file': {'desc': 'test_cvrp100', 'filename': 'log.txt', 'filepath': './result/20240402_165538_test_cvrp100'}}\n",
      "['../../../../VRP-Omni-modified/Vrp-Set-X/X-n186/X-n186-k15.vrp']\n"
     ]
    },
    {
     "name": "stderr",
     "output_type": "stream",
     "text": [
      "/home/xunj/miniconda3/lib/python3.11/site-packages/torch/__init__.py:614: UserWarning: torch.set_default_tensor_type() is deprecated as of PyTorch 2.1, please use torch.set_default_dtype() and torch.set_default_device() as alternatives. (Triggered internally at /opt/conda/conda-bld/pytorch_1699449183005/work/torch/csrc/tensor/python_tensor.cpp:451.)\n",
      "  _C._set_default_tensor_type(t)\n"
     ]
    },
    {
     "name": "stdout",
     "output_type": "stream",
     "text": [
      "[2024-04-02 15:55:41] CVRPTester.py(130) : episode   1/  1, Elapsed[0.01m], Remain[0.00m], score:25.902, aug_score:25.742\n",
      "[2024-04-02 15:55:41] CVRPTester.py(136) :  *** Test Done *** \n",
      "[2024-04-02 15:55:41] CVRPTester.py(137) :  NO-AUG SCORE: 25.9023 \n",
      "[2024-04-02 15:55:41] CVRPTester.py(138) :  AUGMENTATION SCORE: 25.7425 \n",
      ">> Evaluation on ../../../../VRP-Omni-modified/Vrp-Set-X/X-n186 finished within 0.47s\n",
      ">> Save final results to res/X-n186\n",
      "Test on \" ../../../../VRP-Omni-modified/Vrp-Set-X/X-n186 \" Success\n",
      "-----------------------------------------------------------------------------------------------------------------\n",
      "[2024-04-02 15:55:43] test.py(107) : DEBUG_MODE: False\n",
      "[2024-04-02 15:55:43] test.py(108) : USE_CUDA: True, CUDA_DEVICE_NUM: 0\n",
      "[2024-04-02 15:55:43] test.py(109) : env_params{'problem_size': 100, 'pomo_size': 100}\n",
      "[2024-04-02 15:55:43] test.py(109) : model_params{'embedding_dim': 128, 'sqrt_embedding_dim': 11.313708498984761, 'encoder_layer_num': 6, 'qkv_dim': 16, 'head_num': 8, 'logit_clipping': 10, 'ff_hidden_dim': 512, 'eval_type': 'argmax'}\n",
      "[2024-04-02 15:55:43] test.py(109) : tester_params{'use_cuda': True, 'cuda_device_num': 0, 'model_load': {'path': './result/saved_CVRP100_model', 'epoch': 30500}, 'test_episodes': 1000, 'test_batch_size': 1, 'augmentation_enable': True, 'aug_factor': 8, 'aug_batch_size': 1, 'test_data_load': {'enable': False, 'filename': '../vrp100_test_seed1234.pt'}, 'test_set_path': '../../../../VRP-Omni-modified/Vrp-Set-X/X-n190', 'test_set_opt_sol_path': '../../../../VRP-Omni-modified/Vrp-Set-A/A-n33-sol', 'test_set_name': 'A-n33'}\n",
      "[2024-04-02 15:55:43] test.py(109) : logger_params{'log_file': {'desc': 'test_cvrp100', 'filename': 'log.txt', 'filepath': './result/20240402_165542_test_cvrp100'}}\n",
      "['../../../../VRP-Omni-modified/Vrp-Set-X/X-n190/X-n190-k8.vrp']\n"
     ]
    },
    {
     "name": "stderr",
     "output_type": "stream",
     "text": [
      "/home/xunj/miniconda3/lib/python3.11/site-packages/torch/__init__.py:614: UserWarning: torch.set_default_tensor_type() is deprecated as of PyTorch 2.1, please use torch.set_default_dtype() and torch.set_default_device() as alternatives. (Triggered internally at /opt/conda/conda-bld/pytorch_1699449183005/work/torch/csrc/tensor/python_tensor.cpp:451.)\n",
      "  _C._set_default_tensor_type(t)\n"
     ]
    },
    {
     "name": "stdout",
     "output_type": "stream",
     "text": [
      "[2024-04-02 15:55:44] CVRPTester.py(130) : episode   1/  1, Elapsed[0.01m], Remain[0.00m], score:18.179, aug_score:18.067\n",
      "[2024-04-02 15:55:44] CVRPTester.py(136) :  *** Test Done *** \n",
      "[2024-04-02 15:55:44] CVRPTester.py(137) :  NO-AUG SCORE: 18.1789 \n",
      "[2024-04-02 15:55:44] CVRPTester.py(138) :  AUGMENTATION SCORE: 18.0673 \n",
      ">> Evaluation on ../../../../VRP-Omni-modified/Vrp-Set-X/X-n190 finished within 0.47s\n",
      ">> Save final results to res/X-n190\n",
      "Test on \" ../../../../VRP-Omni-modified/Vrp-Set-X/X-n190 \" Success\n",
      "-----------------------------------------------------------------------------------------------------------------\n",
      "[2024-04-02 15:55:46] test.py(107) : DEBUG_MODE: False\n",
      "[2024-04-02 15:55:46] test.py(108) : USE_CUDA: True, CUDA_DEVICE_NUM: 0\n",
      "[2024-04-02 15:55:46] test.py(109) : env_params{'problem_size': 100, 'pomo_size': 100}\n",
      "[2024-04-02 15:55:46] test.py(109) : model_params{'embedding_dim': 128, 'sqrt_embedding_dim': 11.313708498984761, 'encoder_layer_num': 6, 'qkv_dim': 16, 'head_num': 8, 'logit_clipping': 10, 'ff_hidden_dim': 512, 'eval_type': 'argmax'}\n",
      "[2024-04-02 15:55:46] test.py(109) : tester_params{'use_cuda': True, 'cuda_device_num': 0, 'model_load': {'path': './result/saved_CVRP100_model', 'epoch': 30500}, 'test_episodes': 1000, 'test_batch_size': 1, 'augmentation_enable': True, 'aug_factor': 8, 'aug_batch_size': 1, 'test_data_load': {'enable': False, 'filename': '../vrp100_test_seed1234.pt'}, 'test_set_path': '../../../../VRP-Omni-modified/Vrp-Set-X/X-n195', 'test_set_opt_sol_path': '../../../../VRP-Omni-modified/Vrp-Set-A/A-n33-sol', 'test_set_name': 'A-n33'}\n",
      "[2024-04-02 15:55:46] test.py(109) : logger_params{'log_file': {'desc': 'test_cvrp100', 'filename': 'log.txt', 'filepath': './result/20240402_165545_test_cvrp100'}}\n",
      "['../../../../VRP-Omni-modified/Vrp-Set-X/X-n195/X-n195-k51.vrp']\n"
     ]
    },
    {
     "name": "stderr",
     "output_type": "stream",
     "text": [
      "/home/xunj/miniconda3/lib/python3.11/site-packages/torch/__init__.py:614: UserWarning: torch.set_default_tensor_type() is deprecated as of PyTorch 2.1, please use torch.set_default_dtype() and torch.set_default_device() as alternatives. (Triggered internally at /opt/conda/conda-bld/pytorch_1699449183005/work/torch/csrc/tensor/python_tensor.cpp:451.)\n",
      "  _C._set_default_tensor_type(t)\n"
     ]
    },
    {
     "name": "stdout",
     "output_type": "stream",
     "text": [
      "[2024-04-02 15:55:47] CVRPTester.py(130) : episode   1/  1, Elapsed[0.01m], Remain[0.00m], score:50.844, aug_score:50.303\n",
      "[2024-04-02 15:55:47] CVRPTester.py(136) :  *** Test Done *** \n",
      "[2024-04-02 15:55:47] CVRPTester.py(137) :  NO-AUG SCORE: 50.8440 \n",
      "[2024-04-02 15:55:47] CVRPTester.py(138) :  AUGMENTATION SCORE: 50.3030 \n",
      ">> Evaluation on ../../../../VRP-Omni-modified/Vrp-Set-X/X-n195 finished within 0.52s\n",
      ">> Save final results to res/X-n195\n",
      "Test on \" ../../../../VRP-Omni-modified/Vrp-Set-X/X-n195 \" Success\n",
      "-----------------------------------------------------------------------------------------------------------------\n",
      "[2024-04-02 15:55:50] test.py(107) : DEBUG_MODE: False\n",
      "[2024-04-02 15:55:50] test.py(108) : USE_CUDA: True, CUDA_DEVICE_NUM: 0\n",
      "[2024-04-02 15:55:50] test.py(109) : env_params{'problem_size': 100, 'pomo_size': 100}\n",
      "[2024-04-02 15:55:50] test.py(109) : model_params{'embedding_dim': 128, 'sqrt_embedding_dim': 11.313708498984761, 'encoder_layer_num': 6, 'qkv_dim': 16, 'head_num': 8, 'logit_clipping': 10, 'ff_hidden_dim': 512, 'eval_type': 'argmax'}\n",
      "[2024-04-02 15:55:50] test.py(109) : tester_params{'use_cuda': True, 'cuda_device_num': 0, 'model_load': {'path': './result/saved_CVRP100_model', 'epoch': 30500}, 'test_episodes': 1000, 'test_batch_size': 1, 'augmentation_enable': True, 'aug_factor': 8, 'aug_batch_size': 1, 'test_data_load': {'enable': False, 'filename': '../vrp100_test_seed1234.pt'}, 'test_set_path': '../../../../VRP-Omni-modified/Vrp-Set-X/X-n200', 'test_set_opt_sol_path': '../../../../VRP-Omni-modified/Vrp-Set-A/A-n33-sol', 'test_set_name': 'A-n33'}\n",
      "[2024-04-02 15:55:50] test.py(109) : logger_params{'log_file': {'desc': 'test_cvrp100', 'filename': 'log.txt', 'filepath': './result/20240402_165548_test_cvrp100'}}\n",
      "['../../../../VRP-Omni-modified/Vrp-Set-X/X-n200/X-n200-k36.vrp']\n"
     ]
    },
    {
     "name": "stderr",
     "output_type": "stream",
     "text": [
      "/home/xunj/miniconda3/lib/python3.11/site-packages/torch/__init__.py:614: UserWarning: torch.set_default_tensor_type() is deprecated as of PyTorch 2.1, please use torch.set_default_dtype() and torch.set_default_device() as alternatives. (Triggered internally at /opt/conda/conda-bld/pytorch_1699449183005/work/torch/csrc/tensor/python_tensor.cpp:451.)\n",
      "  _C._set_default_tensor_type(t)\n"
     ]
    },
    {
     "name": "stdout",
     "output_type": "stream",
     "text": [
      "[2024-04-02 15:55:51] CVRPTester.py(130) : episode   1/  1, Elapsed[0.01m], Remain[0.00m], score:63.982, aug_score:62.102\n",
      "[2024-04-02 15:55:51] CVRPTester.py(136) :  *** Test Done *** \n",
      "[2024-04-02 15:55:51] CVRPTester.py(137) :  NO-AUG SCORE: 63.9823 \n",
      "[2024-04-02 15:55:51] CVRPTester.py(138) :  AUGMENTATION SCORE: 62.1024 \n",
      ">> Evaluation on ../../../../VRP-Omni-modified/Vrp-Set-X/X-n200 finished within 0.50s\n",
      ">> Save final results to res/X-n200\n",
      "Test on \" ../../../../VRP-Omni-modified/Vrp-Set-X/X-n200 \" Success\n",
      "-----------------------------------------------------------------------------------------------------------------\n",
      "[2024-04-02 15:55:53] test.py(107) : DEBUG_MODE: False\n",
      "[2024-04-02 15:55:53] test.py(108) : USE_CUDA: True, CUDA_DEVICE_NUM: 0\n",
      "[2024-04-02 15:55:53] test.py(109) : env_params{'problem_size': 100, 'pomo_size': 100}\n",
      "[2024-04-02 15:55:53] test.py(109) : model_params{'embedding_dim': 128, 'sqrt_embedding_dim': 11.313708498984761, 'encoder_layer_num': 6, 'qkv_dim': 16, 'head_num': 8, 'logit_clipping': 10, 'ff_hidden_dim': 512, 'eval_type': 'argmax'}\n",
      "[2024-04-02 15:55:53] test.py(109) : tester_params{'use_cuda': True, 'cuda_device_num': 0, 'model_load': {'path': './result/saved_CVRP100_model', 'epoch': 30500}, 'test_episodes': 1000, 'test_batch_size': 1, 'augmentation_enable': True, 'aug_factor': 8, 'aug_batch_size': 1, 'test_data_load': {'enable': False, 'filename': '../vrp100_test_seed1234.pt'}, 'test_set_path': '../../../../VRP-Omni-modified/Vrp-Set-X/X-n204', 'test_set_opt_sol_path': '../../../../VRP-Omni-modified/Vrp-Set-A/A-n33-sol', 'test_set_name': 'A-n33'}\n",
      "[2024-04-02 15:55:53] test.py(109) : logger_params{'log_file': {'desc': 'test_cvrp100', 'filename': 'log.txt', 'filepath': './result/20240402_165552_test_cvrp100'}}\n",
      "['../../../../VRP-Omni-modified/Vrp-Set-X/X-n204/X-n204-k19.vrp']\n"
     ]
    },
    {
     "name": "stderr",
     "output_type": "stream",
     "text": [
      "/home/xunj/miniconda3/lib/python3.11/site-packages/torch/__init__.py:614: UserWarning: torch.set_default_tensor_type() is deprecated as of PyTorch 2.1, please use torch.set_default_dtype() and torch.set_default_device() as alternatives. (Triggered internally at /opt/conda/conda-bld/pytorch_1699449183005/work/torch/csrc/tensor/python_tensor.cpp:451.)\n",
      "  _C._set_default_tensor_type(t)\n"
     ]
    },
    {
     "name": "stdout",
     "output_type": "stream",
     "text": [
      "[2024-04-02 15:55:54] CVRPTester.py(130) : episode   1/  1, Elapsed[0.01m], Remain[0.00m], score:21.628, aug_score:20.976\n",
      "[2024-04-02 15:55:54] CVRPTester.py(136) :  *** Test Done *** \n",
      "[2024-04-02 15:55:54] CVRPTester.py(137) :  NO-AUG SCORE: 21.6281 \n",
      "[2024-04-02 15:55:54] CVRPTester.py(138) :  AUGMENTATION SCORE: 20.9756 \n",
      ">> Evaluation on ../../../../VRP-Omni-modified/Vrp-Set-X/X-n204 finished within 0.56s\n",
      ">> Save final results to res/X-n204\n",
      "Test on \" ../../../../VRP-Omni-modified/Vrp-Set-X/X-n204 \" Success\n",
      "-----------------------------------------------------------------------------------------------------------------\n",
      "[2024-04-02 15:55:57] test.py(107) : DEBUG_MODE: False\n",
      "[2024-04-02 15:55:57] test.py(108) : USE_CUDA: True, CUDA_DEVICE_NUM: 0\n",
      "[2024-04-02 15:55:57] test.py(109) : env_params{'problem_size': 100, 'pomo_size': 100}\n",
      "[2024-04-02 15:55:57] test.py(109) : model_params{'embedding_dim': 128, 'sqrt_embedding_dim': 11.313708498984761, 'encoder_layer_num': 6, 'qkv_dim': 16, 'head_num': 8, 'logit_clipping': 10, 'ff_hidden_dim': 512, 'eval_type': 'argmax'}\n",
      "[2024-04-02 15:55:57] test.py(109) : tester_params{'use_cuda': True, 'cuda_device_num': 0, 'model_load': {'path': './result/saved_CVRP100_model', 'epoch': 30500}, 'test_episodes': 1000, 'test_batch_size': 1, 'augmentation_enable': True, 'aug_factor': 8, 'aug_batch_size': 1, 'test_data_load': {'enable': False, 'filename': '../vrp100_test_seed1234.pt'}, 'test_set_path': '../../../../VRP-Omni-modified/Vrp-Set-X/X-n209', 'test_set_opt_sol_path': '../../../../VRP-Omni-modified/Vrp-Set-A/A-n33-sol', 'test_set_name': 'A-n33'}\n",
      "[2024-04-02 15:55:57] test.py(109) : logger_params{'log_file': {'desc': 'test_cvrp100', 'filename': 'log.txt', 'filepath': './result/20240402_165556_test_cvrp100'}}\n",
      "['../../../../VRP-Omni-modified/Vrp-Set-X/X-n209/X-n209-k16.vrp']\n"
     ]
    },
    {
     "name": "stderr",
     "output_type": "stream",
     "text": [
      "/home/xunj/miniconda3/lib/python3.11/site-packages/torch/__init__.py:614: UserWarning: torch.set_default_tensor_type() is deprecated as of PyTorch 2.1, please use torch.set_default_dtype() and torch.set_default_device() as alternatives. (Triggered internally at /opt/conda/conda-bld/pytorch_1699449183005/work/torch/csrc/tensor/python_tensor.cpp:451.)\n",
      "  _C._set_default_tensor_type(t)\n"
     ]
    },
    {
     "name": "stdout",
     "output_type": "stream",
     "text": [
      "[2024-04-02 15:55:58] CVRPTester.py(130) : episode   1/  1, Elapsed[0.01m], Remain[0.00m], score:33.165, aug_score:32.399\n",
      "[2024-04-02 15:55:58] CVRPTester.py(136) :  *** Test Done *** \n",
      "[2024-04-02 15:55:58] CVRPTester.py(137) :  NO-AUG SCORE: 33.1646 \n",
      "[2024-04-02 15:55:58] CVRPTester.py(138) :  AUGMENTATION SCORE: 32.3994 \n",
      ">> Evaluation on ../../../../VRP-Omni-modified/Vrp-Set-X/X-n209 finished within 0.50s\n",
      ">> Save final results to res/X-n209\n",
      "Test on \" ../../../../VRP-Omni-modified/Vrp-Set-X/X-n209 \" Success\n",
      "-----------------------------------------------------------------------------------------------------------------\n",
      "[2024-04-02 15:56:00] test.py(107) : DEBUG_MODE: False\n",
      "[2024-04-02 15:56:00] test.py(108) : USE_CUDA: True, CUDA_DEVICE_NUM: 0\n",
      "[2024-04-02 15:56:00] test.py(109) : env_params{'problem_size': 100, 'pomo_size': 100}\n",
      "[2024-04-02 15:56:00] test.py(109) : model_params{'embedding_dim': 128, 'sqrt_embedding_dim': 11.313708498984761, 'encoder_layer_num': 6, 'qkv_dim': 16, 'head_num': 8, 'logit_clipping': 10, 'ff_hidden_dim': 512, 'eval_type': 'argmax'}\n",
      "[2024-04-02 15:56:00] test.py(109) : tester_params{'use_cuda': True, 'cuda_device_num': 0, 'model_load': {'path': './result/saved_CVRP100_model', 'epoch': 30500}, 'test_episodes': 1000, 'test_batch_size': 1, 'augmentation_enable': True, 'aug_factor': 8, 'aug_batch_size': 1, 'test_data_load': {'enable': False, 'filename': '../vrp100_test_seed1234.pt'}, 'test_set_path': '../../../../VRP-Omni-modified/Vrp-Set-X/X-n214', 'test_set_opt_sol_path': '../../../../VRP-Omni-modified/Vrp-Set-A/A-n33-sol', 'test_set_name': 'A-n33'}\n",
      "[2024-04-02 15:56:00] test.py(109) : logger_params{'log_file': {'desc': 'test_cvrp100', 'filename': 'log.txt', 'filepath': './result/20240402_165559_test_cvrp100'}}\n",
      "['../../../../VRP-Omni-modified/Vrp-Set-X/X-n214/X-n214-k11.vrp']\n"
     ]
    },
    {
     "name": "stderr",
     "output_type": "stream",
     "text": [
      "/home/xunj/miniconda3/lib/python3.11/site-packages/torch/__init__.py:614: UserWarning: torch.set_default_tensor_type() is deprecated as of PyTorch 2.1, please use torch.set_default_dtype() and torch.set_default_device() as alternatives. (Triggered internally at /opt/conda/conda-bld/pytorch_1699449183005/work/torch/csrc/tensor/python_tensor.cpp:451.)\n",
      "  _C._set_default_tensor_type(t)\n"
     ]
    },
    {
     "name": "stdout",
     "output_type": "stream",
     "text": [
      "[2024-04-02 15:56:01] CVRPTester.py(130) : episode   1/  1, Elapsed[0.01m], Remain[0.00m], score:11.763, aug_score:11.763\n",
      "[2024-04-02 15:56:01] CVRPTester.py(136) :  *** Test Done *** \n",
      "[2024-04-02 15:56:01] CVRPTester.py(137) :  NO-AUG SCORE: 11.7635 \n",
      "[2024-04-02 15:56:01] CVRPTester.py(138) :  AUGMENTATION SCORE: 11.7635 \n",
      ">> Evaluation on ../../../../VRP-Omni-modified/Vrp-Set-X/X-n214 finished within 0.49s\n",
      ">> Save final results to res/X-n214\n",
      "Test on \" ../../../../VRP-Omni-modified/Vrp-Set-X/X-n214 \" Success\n",
      "-----------------------------------------------------------------------------------------------------------------\n",
      "[2024-04-02 15:56:04] test.py(107) : DEBUG_MODE: False\n",
      "[2024-04-02 15:56:04] test.py(108) : USE_CUDA: True, CUDA_DEVICE_NUM: 0\n",
      "[2024-04-02 15:56:04] test.py(109) : env_params{'problem_size': 100, 'pomo_size': 100}\n",
      "[2024-04-02 15:56:04] test.py(109) : model_params{'embedding_dim': 128, 'sqrt_embedding_dim': 11.313708498984761, 'encoder_layer_num': 6, 'qkv_dim': 16, 'head_num': 8, 'logit_clipping': 10, 'ff_hidden_dim': 512, 'eval_type': 'argmax'}\n",
      "[2024-04-02 15:56:04] test.py(109) : tester_params{'use_cuda': True, 'cuda_device_num': 0, 'model_load': {'path': './result/saved_CVRP100_model', 'epoch': 30500}, 'test_episodes': 1000, 'test_batch_size': 1, 'augmentation_enable': True, 'aug_factor': 8, 'aug_batch_size': 1, 'test_data_load': {'enable': False, 'filename': '../vrp100_test_seed1234.pt'}, 'test_set_path': '../../../../VRP-Omni-modified/Vrp-Set-X/X-n219', 'test_set_opt_sol_path': '../../../../VRP-Omni-modified/Vrp-Set-A/A-n33-sol', 'test_set_name': 'A-n33'}\n",
      "[2024-04-02 15:56:04] test.py(109) : logger_params{'log_file': {'desc': 'test_cvrp100', 'filename': 'log.txt', 'filepath': './result/20240402_165602_test_cvrp100'}}\n",
      "['../../../../VRP-Omni-modified/Vrp-Set-X/X-n219/X-n219-k73.vrp']\n"
     ]
    },
    {
     "name": "stderr",
     "output_type": "stream",
     "text": [
      "/home/xunj/miniconda3/lib/python3.11/site-packages/torch/__init__.py:614: UserWarning: torch.set_default_tensor_type() is deprecated as of PyTorch 2.1, please use torch.set_default_dtype() and torch.set_default_device() as alternatives. (Triggered internally at /opt/conda/conda-bld/pytorch_1699449183005/work/torch/csrc/tensor/python_tensor.cpp:451.)\n",
      "  _C._set_default_tensor_type(t)\n"
     ]
    },
    {
     "name": "stdout",
     "output_type": "stream",
     "text": [
      "[2024-04-02 15:56:05] CVRPTester.py(130) : episode   1/  1, Elapsed[0.01m], Remain[0.00m], score:122.208, aug_score:122.208\n",
      "[2024-04-02 15:56:05] CVRPTester.py(136) :  *** Test Done *** \n",
      "[2024-04-02 15:56:05] CVRPTester.py(137) :  NO-AUG SCORE: 122.2081 \n",
      "[2024-04-02 15:56:05] CVRPTester.py(138) :  AUGMENTATION SCORE: 122.2081 \n",
      ">> Evaluation on ../../../../VRP-Omni-modified/Vrp-Set-X/X-n219 finished within 0.56s\n",
      ">> Save final results to res/X-n219\n",
      "Test on \" ../../../../VRP-Omni-modified/Vrp-Set-X/X-n219 \" Success\n",
      "-----------------------------------------------------------------------------------------------------------------\n",
      "[2024-04-02 15:56:07] test.py(107) : DEBUG_MODE: False\n",
      "[2024-04-02 15:56:07] test.py(108) : USE_CUDA: True, CUDA_DEVICE_NUM: 0\n",
      "[2024-04-02 15:56:07] test.py(109) : env_params{'problem_size': 100, 'pomo_size': 100}\n",
      "[2024-04-02 15:56:07] test.py(109) : model_params{'embedding_dim': 128, 'sqrt_embedding_dim': 11.313708498984761, 'encoder_layer_num': 6, 'qkv_dim': 16, 'head_num': 8, 'logit_clipping': 10, 'ff_hidden_dim': 512, 'eval_type': 'argmax'}\n",
      "[2024-04-02 15:56:07] test.py(109) : tester_params{'use_cuda': True, 'cuda_device_num': 0, 'model_load': {'path': './result/saved_CVRP100_model', 'epoch': 30500}, 'test_episodes': 1000, 'test_batch_size': 1, 'augmentation_enable': True, 'aug_factor': 8, 'aug_batch_size': 1, 'test_data_load': {'enable': False, 'filename': '../vrp100_test_seed1234.pt'}, 'test_set_path': '../../../../VRP-Omni-modified/Vrp-Set-X/X-n223', 'test_set_opt_sol_path': '../../../../VRP-Omni-modified/Vrp-Set-A/A-n33-sol', 'test_set_name': 'A-n33'}\n",
      "[2024-04-02 15:56:07] test.py(109) : logger_params{'log_file': {'desc': 'test_cvrp100', 'filename': 'log.txt', 'filepath': './result/20240402_165606_test_cvrp100'}}\n",
      "['../../../../VRP-Omni-modified/Vrp-Set-X/X-n223/X-n223-k34.vrp']\n"
     ]
    },
    {
     "name": "stderr",
     "output_type": "stream",
     "text": [
      "/home/xunj/miniconda3/lib/python3.11/site-packages/torch/__init__.py:614: UserWarning: torch.set_default_tensor_type() is deprecated as of PyTorch 2.1, please use torch.set_default_dtype() and torch.set_default_device() as alternatives. (Triggered internally at /opt/conda/conda-bld/pytorch_1699449183005/work/torch/csrc/tensor/python_tensor.cpp:451.)\n",
      "  _C._set_default_tensor_type(t)\n"
     ]
    },
    {
     "name": "stdout",
     "output_type": "stream",
     "text": [
      "[2024-04-02 15:56:08] CVRPTester.py(130) : episode   1/  1, Elapsed[0.01m], Remain[0.00m], score:44.177, aug_score:43.804\n",
      "[2024-04-02 15:56:08] CVRPTester.py(136) :  *** Test Done *** \n",
      "[2024-04-02 15:56:08] CVRPTester.py(137) :  NO-AUG SCORE: 44.1774 \n",
      "[2024-04-02 15:56:08] CVRPTester.py(138) :  AUGMENTATION SCORE: 43.8037 \n",
      ">> Evaluation on ../../../../VRP-Omni-modified/Vrp-Set-X/X-n223 finished within 0.51s\n",
      ">> Save final results to res/X-n223\n",
      "Test on \" ../../../../VRP-Omni-modified/Vrp-Set-X/X-n223 \" Success\n",
      "-----------------------------------------------------------------------------------------------------------------\n",
      "[2024-04-02 15:56:11] test.py(107) : DEBUG_MODE: False\n",
      "[2024-04-02 15:56:11] test.py(108) : USE_CUDA: True, CUDA_DEVICE_NUM: 0\n",
      "[2024-04-02 15:56:11] test.py(109) : env_params{'problem_size': 100, 'pomo_size': 100}\n",
      "[2024-04-02 15:56:11] test.py(109) : model_params{'embedding_dim': 128, 'sqrt_embedding_dim': 11.313708498984761, 'encoder_layer_num': 6, 'qkv_dim': 16, 'head_num': 8, 'logit_clipping': 10, 'ff_hidden_dim': 512, 'eval_type': 'argmax'}\n",
      "[2024-04-02 15:56:11] test.py(109) : tester_params{'use_cuda': True, 'cuda_device_num': 0, 'model_load': {'path': './result/saved_CVRP100_model', 'epoch': 30500}, 'test_episodes': 1000, 'test_batch_size': 1, 'augmentation_enable': True, 'aug_factor': 8, 'aug_batch_size': 1, 'test_data_load': {'enable': False, 'filename': '../vrp100_test_seed1234.pt'}, 'test_set_path': '../../../../VRP-Omni-modified/Vrp-Set-X/X-n228', 'test_set_opt_sol_path': '../../../../VRP-Omni-modified/Vrp-Set-A/A-n33-sol', 'test_set_name': 'A-n33'}\n",
      "[2024-04-02 15:56:11] test.py(109) : logger_params{'log_file': {'desc': 'test_cvrp100', 'filename': 'log.txt', 'filepath': './result/20240402_165609_test_cvrp100'}}\n",
      "['../../../../VRP-Omni-modified/Vrp-Set-X/X-n228/X-n228-k23.vrp']\n"
     ]
    },
    {
     "name": "stderr",
     "output_type": "stream",
     "text": [
      "/home/xunj/miniconda3/lib/python3.11/site-packages/torch/__init__.py:614: UserWarning: torch.set_default_tensor_type() is deprecated as of PyTorch 2.1, please use torch.set_default_dtype() and torch.set_default_device() as alternatives. (Triggered internally at /opt/conda/conda-bld/pytorch_1699449183005/work/torch/csrc/tensor/python_tensor.cpp:451.)\n",
      "  _C._set_default_tensor_type(t)\n"
     ]
    },
    {
     "name": "stdout",
     "output_type": "stream",
     "text": [
      "[2024-04-02 15:56:12] CVRPTester.py(130) : episode   1/  1, Elapsed[0.01m], Remain[0.00m], score:30.586, aug_score:29.354\n",
      "[2024-04-02 15:56:12] CVRPTester.py(136) :  *** Test Done *** \n",
      "[2024-04-02 15:56:12] CVRPTester.py(137) :  NO-AUG SCORE: 30.5860 \n",
      "[2024-04-02 15:56:12] CVRPTester.py(138) :  AUGMENTATION SCORE: 29.3540 \n",
      ">> Evaluation on ../../../../VRP-Omni-modified/Vrp-Set-X/X-n228 finished within 0.51s\n",
      ">> Save final results to res/X-n228\n",
      "Test on \" ../../../../VRP-Omni-modified/Vrp-Set-X/X-n228 \" Success\n",
      "-----------------------------------------------------------------------------------------------------------------\n",
      "[2024-04-02 15:56:14] test.py(107) : DEBUG_MODE: False\n",
      "[2024-04-02 15:56:14] test.py(108) : USE_CUDA: True, CUDA_DEVICE_NUM: 0\n",
      "[2024-04-02 15:56:14] test.py(109) : env_params{'problem_size': 100, 'pomo_size': 100}\n",
      "[2024-04-02 15:56:14] test.py(109) : model_params{'embedding_dim': 128, 'sqrt_embedding_dim': 11.313708498984761, 'encoder_layer_num': 6, 'qkv_dim': 16, 'head_num': 8, 'logit_clipping': 10, 'ff_hidden_dim': 512, 'eval_type': 'argmax'}\n",
      "[2024-04-02 15:56:14] test.py(109) : tester_params{'use_cuda': True, 'cuda_device_num': 0, 'model_load': {'path': './result/saved_CVRP100_model', 'epoch': 30500}, 'test_episodes': 1000, 'test_batch_size': 1, 'augmentation_enable': True, 'aug_factor': 8, 'aug_batch_size': 1, 'test_data_load': {'enable': False, 'filename': '../vrp100_test_seed1234.pt'}, 'test_set_path': '../../../../VRP-Omni-modified/Vrp-Set-X/X-n233', 'test_set_opt_sol_path': '../../../../VRP-Omni-modified/Vrp-Set-A/A-n33-sol', 'test_set_name': 'A-n33'}\n",
      "[2024-04-02 15:56:14] test.py(109) : logger_params{'log_file': {'desc': 'test_cvrp100', 'filename': 'log.txt', 'filepath': './result/20240402_165613_test_cvrp100'}}\n",
      "['../../../../VRP-Omni-modified/Vrp-Set-X/X-n233/X-n233-k16.vrp']\n"
     ]
    },
    {
     "name": "stderr",
     "output_type": "stream",
     "text": [
      "/home/xunj/miniconda3/lib/python3.11/site-packages/torch/__init__.py:614: UserWarning: torch.set_default_tensor_type() is deprecated as of PyTorch 2.1, please use torch.set_default_dtype() and torch.set_default_device() as alternatives. (Triggered internally at /opt/conda/conda-bld/pytorch_1699449183005/work/torch/csrc/tensor/python_tensor.cpp:451.)\n",
      "  _C._set_default_tensor_type(t)\n"
     ]
    },
    {
     "name": "stdout",
     "output_type": "stream",
     "text": [
      "[2024-04-02 15:56:15] CVRPTester.py(130) : episode   1/  1, Elapsed[0.01m], Remain[0.00m], score:21.469, aug_score:21.119\n",
      "[2024-04-02 15:56:15] CVRPTester.py(136) :  *** Test Done *** \n",
      "[2024-04-02 15:56:15] CVRPTester.py(137) :  NO-AUG SCORE: 21.4688 \n",
      "[2024-04-02 15:56:15] CVRPTester.py(138) :  AUGMENTATION SCORE: 21.1192 \n",
      ">> Evaluation on ../../../../VRP-Omni-modified/Vrp-Set-X/X-n233 finished within 0.51s\n",
      ">> Save final results to res/X-n233\n",
      "Test on \" ../../../../VRP-Omni-modified/Vrp-Set-X/X-n233 \" Success\n",
      "-----------------------------------------------------------------------------------------------------------------\n",
      "[2024-04-02 15:56:17] test.py(107) : DEBUG_MODE: False\n",
      "[2024-04-02 15:56:17] test.py(108) : USE_CUDA: True, CUDA_DEVICE_NUM: 0\n",
      "[2024-04-02 15:56:17] test.py(109) : env_params{'problem_size': 100, 'pomo_size': 100}\n",
      "[2024-04-02 15:56:17] test.py(109) : model_params{'embedding_dim': 128, 'sqrt_embedding_dim': 11.313708498984761, 'encoder_layer_num': 6, 'qkv_dim': 16, 'head_num': 8, 'logit_clipping': 10, 'ff_hidden_dim': 512, 'eval_type': 'argmax'}\n",
      "[2024-04-02 15:56:17] test.py(109) : tester_params{'use_cuda': True, 'cuda_device_num': 0, 'model_load': {'path': './result/saved_CVRP100_model', 'epoch': 30500}, 'test_episodes': 1000, 'test_batch_size': 1, 'augmentation_enable': True, 'aug_factor': 8, 'aug_batch_size': 1, 'test_data_load': {'enable': False, 'filename': '../vrp100_test_seed1234.pt'}, 'test_set_path': '../../../../VRP-Omni-modified/Vrp-Set-X/X-n237', 'test_set_opt_sol_path': '../../../../VRP-Omni-modified/Vrp-Set-A/A-n33-sol', 'test_set_name': 'A-n33'}\n",
      "[2024-04-02 15:56:17] test.py(109) : logger_params{'log_file': {'desc': 'test_cvrp100', 'filename': 'log.txt', 'filepath': './result/20240402_165616_test_cvrp100'}}\n",
      "['../../../../VRP-Omni-modified/Vrp-Set-X/X-n237/X-n237-k14.vrp']\n"
     ]
    },
    {
     "name": "stderr",
     "output_type": "stream",
     "text": [
      "/home/xunj/miniconda3/lib/python3.11/site-packages/torch/__init__.py:614: UserWarning: torch.set_default_tensor_type() is deprecated as of PyTorch 2.1, please use torch.set_default_dtype() and torch.set_default_device() as alternatives. (Triggered internally at /opt/conda/conda-bld/pytorch_1699449183005/work/torch/csrc/tensor/python_tensor.cpp:451.)\n",
      "  _C._set_default_tensor_type(t)\n"
     ]
    },
    {
     "name": "stdout",
     "output_type": "stream",
     "text": [
      "[2024-04-02 15:56:18] CVRPTester.py(130) : episode   1/  1, Elapsed[0.01m], Remain[0.00m], score:33.735, aug_score:31.272\n",
      "[2024-04-02 15:56:18] CVRPTester.py(136) :  *** Test Done *** \n",
      "[2024-04-02 15:56:18] CVRPTester.py(137) :  NO-AUG SCORE: 33.7346 \n",
      "[2024-04-02 15:56:18] CVRPTester.py(138) :  AUGMENTATION SCORE: 31.2717 \n",
      ">> Evaluation on ../../../../VRP-Omni-modified/Vrp-Set-X/X-n237 finished within 0.52s\n",
      ">> Save final results to res/X-n237\n",
      "Test on \" ../../../../VRP-Omni-modified/Vrp-Set-X/X-n237 \" Success\n",
      "-----------------------------------------------------------------------------------------------------------------\n",
      "[2024-04-02 15:56:21] test.py(107) : DEBUG_MODE: False\n",
      "[2024-04-02 15:56:21] test.py(108) : USE_CUDA: True, CUDA_DEVICE_NUM: 0\n",
      "[2024-04-02 15:56:21] test.py(109) : env_params{'problem_size': 100, 'pomo_size': 100}\n",
      "[2024-04-02 15:56:21] test.py(109) : model_params{'embedding_dim': 128, 'sqrt_embedding_dim': 11.313708498984761, 'encoder_layer_num': 6, 'qkv_dim': 16, 'head_num': 8, 'logit_clipping': 10, 'ff_hidden_dim': 512, 'eval_type': 'argmax'}\n",
      "[2024-04-02 15:56:21] test.py(109) : tester_params{'use_cuda': True, 'cuda_device_num': 0, 'model_load': {'path': './result/saved_CVRP100_model', 'epoch': 30500}, 'test_episodes': 1000, 'test_batch_size': 1, 'augmentation_enable': True, 'aug_factor': 8, 'aug_batch_size': 1, 'test_data_load': {'enable': False, 'filename': '../vrp100_test_seed1234.pt'}, 'test_set_path': '../../../../VRP-Omni-modified/Vrp-Set-X/X-n242', 'test_set_opt_sol_path': '../../../../VRP-Omni-modified/Vrp-Set-A/A-n33-sol', 'test_set_name': 'A-n33'}\n",
      "[2024-04-02 15:56:21] test.py(109) : logger_params{'log_file': {'desc': 'test_cvrp100', 'filename': 'log.txt', 'filepath': './result/20240402_165619_test_cvrp100'}}\n",
      "['../../../../VRP-Omni-modified/Vrp-Set-X/X-n242/X-n242-k48.vrp']\n"
     ]
    },
    {
     "name": "stderr",
     "output_type": "stream",
     "text": [
      "/home/xunj/miniconda3/lib/python3.11/site-packages/torch/__init__.py:614: UserWarning: torch.set_default_tensor_type() is deprecated as of PyTorch 2.1, please use torch.set_default_dtype() and torch.set_default_device() as alternatives. (Triggered internally at /opt/conda/conda-bld/pytorch_1699449183005/work/torch/csrc/tensor/python_tensor.cpp:451.)\n",
      "  _C._set_default_tensor_type(t)\n"
     ]
    },
    {
     "name": "stdout",
     "output_type": "stream",
     "text": [
      "[2024-04-02 15:56:22] CVRPTester.py(130) : episode   1/  1, Elapsed[0.01m], Remain[0.00m], score:89.664, aug_score:89.185\n",
      "[2024-04-02 15:56:22] CVRPTester.py(136) :  *** Test Done *** \n",
      "[2024-04-02 15:56:22] CVRPTester.py(137) :  NO-AUG SCORE: 89.6644 \n",
      "[2024-04-02 15:56:22] CVRPTester.py(138) :  AUGMENTATION SCORE: 89.1854 \n",
      ">> Evaluation on ../../../../VRP-Omni-modified/Vrp-Set-X/X-n242 finished within 0.55s\n",
      ">> Save final results to res/X-n242\n",
      "Test on \" ../../../../VRP-Omni-modified/Vrp-Set-X/X-n242 \" Success\n",
      "-----------------------------------------------------------------------------------------------------------------\n",
      "[2024-04-02 15:56:24] test.py(107) : DEBUG_MODE: False\n",
      "[2024-04-02 15:56:24] test.py(108) : USE_CUDA: True, CUDA_DEVICE_NUM: 0\n",
      "[2024-04-02 15:56:24] test.py(109) : env_params{'problem_size': 100, 'pomo_size': 100}\n",
      "[2024-04-02 15:56:24] test.py(109) : model_params{'embedding_dim': 128, 'sqrt_embedding_dim': 11.313708498984761, 'encoder_layer_num': 6, 'qkv_dim': 16, 'head_num': 8, 'logit_clipping': 10, 'ff_hidden_dim': 512, 'eval_type': 'argmax'}\n",
      "[2024-04-02 15:56:24] test.py(109) : tester_params{'use_cuda': True, 'cuda_device_num': 0, 'model_load': {'path': './result/saved_CVRP100_model', 'epoch': 30500}, 'test_episodes': 1000, 'test_batch_size': 1, 'augmentation_enable': True, 'aug_factor': 8, 'aug_batch_size': 1, 'test_data_load': {'enable': False, 'filename': '../vrp100_test_seed1234.pt'}, 'test_set_path': '../../../../VRP-Omni-modified/Vrp-Set-X/X-n247', 'test_set_opt_sol_path': '../../../../VRP-Omni-modified/Vrp-Set-A/A-n33-sol', 'test_set_name': 'A-n33'}\n",
      "[2024-04-02 15:56:24] test.py(109) : logger_params{'log_file': {'desc': 'test_cvrp100', 'filename': 'log.txt', 'filepath': './result/20240402_165623_test_cvrp100'}}\n",
      "['../../../../VRP-Omni-modified/Vrp-Set-X/X-n247/X-n247-k50.vrp']\n"
     ]
    },
    {
     "name": "stderr",
     "output_type": "stream",
     "text": [
      "/home/xunj/miniconda3/lib/python3.11/site-packages/torch/__init__.py:614: UserWarning: torch.set_default_tensor_type() is deprecated as of PyTorch 2.1, please use torch.set_default_dtype() and torch.set_default_device() as alternatives. (Triggered internally at /opt/conda/conda-bld/pytorch_1699449183005/work/torch/csrc/tensor/python_tensor.cpp:451.)\n",
      "  _C._set_default_tensor_type(t)\n"
     ]
    },
    {
     "name": "stdout",
     "output_type": "stream",
     "text": [
      "[2024-04-02 15:56:25] CVRPTester.py(130) : episode   1/  1, Elapsed[0.01m], Remain[0.00m], score:44.121, aug_score:42.420\n",
      "[2024-04-02 15:56:25] CVRPTester.py(136) :  *** Test Done *** \n",
      "[2024-04-02 15:56:25] CVRPTester.py(137) :  NO-AUG SCORE: 44.1209 \n",
      "[2024-04-02 15:56:25] CVRPTester.py(138) :  AUGMENTATION SCORE: 42.4198 \n",
      ">> Evaluation on ../../../../VRP-Omni-modified/Vrp-Set-X/X-n247 finished within 0.56s\n",
      ">> Save final results to res/X-n247\n",
      "Test on \" ../../../../VRP-Omni-modified/Vrp-Set-X/X-n247 \" Success\n",
      "-----------------------------------------------------------------------------------------------------------------\n",
      "[2024-04-02 15:56:28] test.py(107) : DEBUG_MODE: False\n",
      "[2024-04-02 15:56:28] test.py(108) : USE_CUDA: True, CUDA_DEVICE_NUM: 0\n",
      "[2024-04-02 15:56:28] test.py(109) : env_params{'problem_size': 100, 'pomo_size': 100}\n",
      "[2024-04-02 15:56:28] test.py(109) : model_params{'embedding_dim': 128, 'sqrt_embedding_dim': 11.313708498984761, 'encoder_layer_num': 6, 'qkv_dim': 16, 'head_num': 8, 'logit_clipping': 10, 'ff_hidden_dim': 512, 'eval_type': 'argmax'}\n",
      "[2024-04-02 15:56:28] test.py(109) : tester_params{'use_cuda': True, 'cuda_device_num': 0, 'model_load': {'path': './result/saved_CVRP100_model', 'epoch': 30500}, 'test_episodes': 1000, 'test_batch_size': 1, 'augmentation_enable': True, 'aug_factor': 8, 'aug_batch_size': 1, 'test_data_load': {'enable': False, 'filename': '../vrp100_test_seed1234.pt'}, 'test_set_path': '../../../../VRP-Omni-modified/Vrp-Set-X/X-n251', 'test_set_opt_sol_path': '../../../../VRP-Omni-modified/Vrp-Set-A/A-n33-sol', 'test_set_name': 'A-n33'}\n",
      "[2024-04-02 15:56:28] test.py(109) : logger_params{'log_file': {'desc': 'test_cvrp100', 'filename': 'log.txt', 'filepath': './result/20240402_165626_test_cvrp100'}}\n",
      "['../../../../VRP-Omni-modified/Vrp-Set-X/X-n251/X-n251-k28.vrp']\n"
     ]
    },
    {
     "name": "stderr",
     "output_type": "stream",
     "text": [
      "/home/xunj/miniconda3/lib/python3.11/site-packages/torch/__init__.py:614: UserWarning: torch.set_default_tensor_type() is deprecated as of PyTorch 2.1, please use torch.set_default_dtype() and torch.set_default_device() as alternatives. (Triggered internally at /opt/conda/conda-bld/pytorch_1699449183005/work/torch/csrc/tensor/python_tensor.cpp:451.)\n",
      "  _C._set_default_tensor_type(t)\n"
     ]
    },
    {
     "name": "stdout",
     "output_type": "stream",
     "text": [
      "[2024-04-02 15:56:29] CVRPTester.py(130) : episode   1/  1, Elapsed[0.01m], Remain[0.00m], score:42.968, aug_score:41.360\n",
      "[2024-04-02 15:56:29] CVRPTester.py(136) :  *** Test Done *** \n",
      "[2024-04-02 15:56:29] CVRPTester.py(137) :  NO-AUG SCORE: 42.9684 \n",
      "[2024-04-02 15:56:29] CVRPTester.py(138) :  AUGMENTATION SCORE: 41.3599 \n",
      ">> Evaluation on ../../../../VRP-Omni-modified/Vrp-Set-X/X-n251 finished within 0.53s\n",
      ">> Save final results to res/X-n251\n",
      "Test on \" ../../../../VRP-Omni-modified/Vrp-Set-X/X-n251 \" Success\n",
      "-----------------------------------------------------------------------------------------------------------------\n",
      "[2024-04-02 15:56:31] test.py(107) : DEBUG_MODE: False\n",
      "[2024-04-02 15:56:31] test.py(108) : USE_CUDA: True, CUDA_DEVICE_NUM: 0\n",
      "[2024-04-02 15:56:31] test.py(109) : env_params{'problem_size': 100, 'pomo_size': 100}\n",
      "[2024-04-02 15:56:31] test.py(109) : model_params{'embedding_dim': 128, 'sqrt_embedding_dim': 11.313708498984761, 'encoder_layer_num': 6, 'qkv_dim': 16, 'head_num': 8, 'logit_clipping': 10, 'ff_hidden_dim': 512, 'eval_type': 'argmax'}\n",
      "[2024-04-02 15:56:31] test.py(109) : tester_params{'use_cuda': True, 'cuda_device_num': 0, 'model_load': {'path': './result/saved_CVRP100_model', 'epoch': 30500}, 'test_episodes': 1000, 'test_batch_size': 1, 'augmentation_enable': True, 'aug_factor': 8, 'aug_batch_size': 1, 'test_data_load': {'enable': False, 'filename': '../vrp100_test_seed1234.pt'}, 'test_set_path': '../../../../VRP-Omni-modified/Vrp-Set-X/X-n256', 'test_set_opt_sol_path': '../../../../VRP-Omni-modified/Vrp-Set-A/A-n33-sol', 'test_set_name': 'A-n33'}\n",
      "[2024-04-02 15:56:31] test.py(109) : logger_params{'log_file': {'desc': 'test_cvrp100', 'filename': 'log.txt', 'filepath': './result/20240402_165630_test_cvrp100'}}\n",
      "['../../../../VRP-Omni-modified/Vrp-Set-X/X-n256/X-n256-k16.vrp']\n"
     ]
    },
    {
     "name": "stderr",
     "output_type": "stream",
     "text": [
      "/home/xunj/miniconda3/lib/python3.11/site-packages/torch/__init__.py:614: UserWarning: torch.set_default_tensor_type() is deprecated as of PyTorch 2.1, please use torch.set_default_dtype() and torch.set_default_device() as alternatives. (Triggered internally at /opt/conda/conda-bld/pytorch_1699449183005/work/torch/csrc/tensor/python_tensor.cpp:451.)\n",
      "  _C._set_default_tensor_type(t)\n"
     ]
    },
    {
     "name": "stdout",
     "output_type": "stream",
     "text": [
      "[2024-04-02 15:56:32] CVRPTester.py(130) : episode   1/  1, Elapsed[0.01m], Remain[0.00m], score:22.440, aug_score:21.811\n",
      "[2024-04-02 15:56:32] CVRPTester.py(136) :  *** Test Done *** \n",
      "[2024-04-02 15:56:32] CVRPTester.py(137) :  NO-AUG SCORE: 22.4398 \n",
      "[2024-04-02 15:56:32] CVRPTester.py(138) :  AUGMENTATION SCORE: 21.8106 \n",
      ">> Evaluation on ../../../../VRP-Omni-modified/Vrp-Set-X/X-n256 finished within 0.53s\n",
      ">> Save final results to res/X-n256\n",
      "Test on \" ../../../../VRP-Omni-modified/Vrp-Set-X/X-n256 \" Success\n",
      "-----------------------------------------------------------------------------------------------------------------\n",
      "[2024-04-02 15:56:34] test.py(107) : DEBUG_MODE: False\n",
      "[2024-04-02 15:56:34] test.py(108) : USE_CUDA: True, CUDA_DEVICE_NUM: 0\n",
      "[2024-04-02 15:56:34] test.py(109) : env_params{'problem_size': 100, 'pomo_size': 100}\n",
      "[2024-04-02 15:56:34] test.py(109) : model_params{'embedding_dim': 128, 'sqrt_embedding_dim': 11.313708498984761, 'encoder_layer_num': 6, 'qkv_dim': 16, 'head_num': 8, 'logit_clipping': 10, 'ff_hidden_dim': 512, 'eval_type': 'argmax'}\n",
      "[2024-04-02 15:56:34] test.py(109) : tester_params{'use_cuda': True, 'cuda_device_num': 0, 'model_load': {'path': './result/saved_CVRP100_model', 'epoch': 30500}, 'test_episodes': 1000, 'test_batch_size': 1, 'augmentation_enable': True, 'aug_factor': 8, 'aug_batch_size': 1, 'test_data_load': {'enable': False, 'filename': '../vrp100_test_seed1234.pt'}, 'test_set_path': '../../../../VRP-Omni-modified/Vrp-Set-X/X-n261', 'test_set_opt_sol_path': '../../../../VRP-Omni-modified/Vrp-Set-A/A-n33-sol', 'test_set_name': 'A-n33'}\n",
      "[2024-04-02 15:56:34] test.py(109) : logger_params{'log_file': {'desc': 'test_cvrp100', 'filename': 'log.txt', 'filepath': './result/20240402_165633_test_cvrp100'}}\n",
      "['../../../../VRP-Omni-modified/Vrp-Set-X/X-n261/X-n261-k13.vrp']\n"
     ]
    },
    {
     "name": "stderr",
     "output_type": "stream",
     "text": [
      "/home/xunj/miniconda3/lib/python3.11/site-packages/torch/__init__.py:614: UserWarning: torch.set_default_tensor_type() is deprecated as of PyTorch 2.1, please use torch.set_default_dtype() and torch.set_default_device() as alternatives. (Triggered internally at /opt/conda/conda-bld/pytorch_1699449183005/work/torch/csrc/tensor/python_tensor.cpp:451.)\n",
      "  _C._set_default_tensor_type(t)\n"
     ]
    },
    {
     "name": "stdout",
     "output_type": "stream",
     "text": [
      "[2024-04-02 15:56:35] CVRPTester.py(130) : episode   1/  1, Elapsed[0.01m], Remain[0.00m], score:29.442, aug_score:28.779\n",
      "[2024-04-02 15:56:35] CVRPTester.py(136) :  *** Test Done *** \n",
      "[2024-04-02 15:56:35] CVRPTester.py(137) :  NO-AUG SCORE: 29.4420 \n",
      "[2024-04-02 15:56:35] CVRPTester.py(138) :  AUGMENTATION SCORE: 28.7786 \n",
      ">> Evaluation on ../../../../VRP-Omni-modified/Vrp-Set-X/X-n261 finished within 0.54s\n",
      ">> Save final results to res/X-n261\n",
      "Test on \" ../../../../VRP-Omni-modified/Vrp-Set-X/X-n261 \" Success\n",
      "-----------------------------------------------------------------------------------------------------------------\n",
      "[2024-04-02 15:56:38] test.py(107) : DEBUG_MODE: False\n",
      "[2024-04-02 15:56:38] test.py(108) : USE_CUDA: True, CUDA_DEVICE_NUM: 0\n",
      "[2024-04-02 15:56:38] test.py(109) : env_params{'problem_size': 100, 'pomo_size': 100}\n",
      "[2024-04-02 15:56:38] test.py(109) : model_params{'embedding_dim': 128, 'sqrt_embedding_dim': 11.313708498984761, 'encoder_layer_num': 6, 'qkv_dim': 16, 'head_num': 8, 'logit_clipping': 10, 'ff_hidden_dim': 512, 'eval_type': 'argmax'}\n",
      "[2024-04-02 15:56:38] test.py(109) : tester_params{'use_cuda': True, 'cuda_device_num': 0, 'model_load': {'path': './result/saved_CVRP100_model', 'epoch': 30500}, 'test_episodes': 1000, 'test_batch_size': 1, 'augmentation_enable': True, 'aug_factor': 8, 'aug_batch_size': 1, 'test_data_load': {'enable': False, 'filename': '../vrp100_test_seed1234.pt'}, 'test_set_path': '../../../../VRP-Omni-modified/Vrp-Set-X/X-n266', 'test_set_opt_sol_path': '../../../../VRP-Omni-modified/Vrp-Set-A/A-n33-sol', 'test_set_name': 'A-n33'}\n",
      "[2024-04-02 15:56:38] test.py(109) : logger_params{'log_file': {'desc': 'test_cvrp100', 'filename': 'log.txt', 'filepath': './result/20240402_165636_test_cvrp100'}}\n",
      "['../../../../VRP-Omni-modified/Vrp-Set-X/X-n266/X-n266-k58.vrp']\n"
     ]
    },
    {
     "name": "stderr",
     "output_type": "stream",
     "text": [
      "/home/xunj/miniconda3/lib/python3.11/site-packages/torch/__init__.py:614: UserWarning: torch.set_default_tensor_type() is deprecated as of PyTorch 2.1, please use torch.set_default_dtype() and torch.set_default_device() as alternatives. (Triggered internally at /opt/conda/conda-bld/pytorch_1699449183005/work/torch/csrc/tensor/python_tensor.cpp:451.)\n",
      "  _C._set_default_tensor_type(t)\n"
     ]
    },
    {
     "name": "stdout",
     "output_type": "stream",
     "text": [
      "[2024-04-02 15:56:39] CVRPTester.py(130) : episode   1/  1, Elapsed[0.01m], Remain[0.00m], score:85.179, aug_score:83.626\n",
      "[2024-04-02 15:56:39] CVRPTester.py(136) :  *** Test Done *** \n",
      "[2024-04-02 15:56:39] CVRPTester.py(137) :  NO-AUG SCORE: 85.1794 \n",
      "[2024-04-02 15:56:39] CVRPTester.py(138) :  AUGMENTATION SCORE: 83.6256 \n",
      ">> Evaluation on ../../../../VRP-Omni-modified/Vrp-Set-X/X-n266 finished within 0.59s\n",
      ">> Save final results to res/X-n266\n",
      "Test on \" ../../../../VRP-Omni-modified/Vrp-Set-X/X-n266 \" Success\n",
      "-----------------------------------------------------------------------------------------------------------------\n",
      "[2024-04-02 15:56:41] test.py(107) : DEBUG_MODE: False\n",
      "[2024-04-02 15:56:41] test.py(108) : USE_CUDA: True, CUDA_DEVICE_NUM: 0\n",
      "[2024-04-02 15:56:41] test.py(109) : env_params{'problem_size': 100, 'pomo_size': 100}\n",
      "[2024-04-02 15:56:41] test.py(109) : model_params{'embedding_dim': 128, 'sqrt_embedding_dim': 11.313708498984761, 'encoder_layer_num': 6, 'qkv_dim': 16, 'head_num': 8, 'logit_clipping': 10, 'ff_hidden_dim': 512, 'eval_type': 'argmax'}\n",
      "[2024-04-02 15:56:41] test.py(109) : tester_params{'use_cuda': True, 'cuda_device_num': 0, 'model_load': {'path': './result/saved_CVRP100_model', 'epoch': 30500}, 'test_episodes': 1000, 'test_batch_size': 1, 'augmentation_enable': True, 'aug_factor': 8, 'aug_batch_size': 1, 'test_data_load': {'enable': False, 'filename': '../vrp100_test_seed1234.pt'}, 'test_set_path': '../../../../VRP-Omni-modified/Vrp-Set-X/X-n270', 'test_set_opt_sol_path': '../../../../VRP-Omni-modified/Vrp-Set-A/A-n33-sol', 'test_set_name': 'A-n33'}\n",
      "[2024-04-02 15:56:41] test.py(109) : logger_params{'log_file': {'desc': 'test_cvrp100', 'filename': 'log.txt', 'filepath': './result/20240402_165640_test_cvrp100'}}\n",
      "['../../../../VRP-Omni-modified/Vrp-Set-X/X-n270/X-n270-k35.vrp']\n"
     ]
    },
    {
     "name": "stderr",
     "output_type": "stream",
     "text": [
      "/home/xunj/miniconda3/lib/python3.11/site-packages/torch/__init__.py:614: UserWarning: torch.set_default_tensor_type() is deprecated as of PyTorch 2.1, please use torch.set_default_dtype() and torch.set_default_device() as alternatives. (Triggered internally at /opt/conda/conda-bld/pytorch_1699449183005/work/torch/csrc/tensor/python_tensor.cpp:451.)\n",
      "  _C._set_default_tensor_type(t)\n"
     ]
    },
    {
     "name": "stdout",
     "output_type": "stream",
     "text": [
      "[2024-04-02 15:56:42] CVRPTester.py(130) : episode   1/  1, Elapsed[0.01m], Remain[0.00m], score:39.956, aug_score:39.956\n",
      "[2024-04-02 15:56:42] CVRPTester.py(136) :  *** Test Done *** \n",
      "[2024-04-02 15:56:42] CVRPTester.py(137) :  NO-AUG SCORE: 39.9559 \n",
      "[2024-04-02 15:56:42] CVRPTester.py(138) :  AUGMENTATION SCORE: 39.9559 \n",
      ">> Evaluation on ../../../../VRP-Omni-modified/Vrp-Set-X/X-n270 finished within 0.57s\n",
      ">> Save final results to res/X-n270\n",
      "Test on \" ../../../../VRP-Omni-modified/Vrp-Set-X/X-n270 \" Success\n",
      "-----------------------------------------------------------------------------------------------------------------\n",
      "[2024-04-02 15:56:45] test.py(107) : DEBUG_MODE: False\n",
      "[2024-04-02 15:56:45] test.py(108) : USE_CUDA: True, CUDA_DEVICE_NUM: 0\n",
      "[2024-04-02 15:56:45] test.py(109) : env_params{'problem_size': 100, 'pomo_size': 100}\n",
      "[2024-04-02 15:56:45] test.py(109) : model_params{'embedding_dim': 128, 'sqrt_embedding_dim': 11.313708498984761, 'encoder_layer_num': 6, 'qkv_dim': 16, 'head_num': 8, 'logit_clipping': 10, 'ff_hidden_dim': 512, 'eval_type': 'argmax'}\n",
      "[2024-04-02 15:56:45] test.py(109) : tester_params{'use_cuda': True, 'cuda_device_num': 0, 'model_load': {'path': './result/saved_CVRP100_model', 'epoch': 30500}, 'test_episodes': 1000, 'test_batch_size': 1, 'augmentation_enable': True, 'aug_factor': 8, 'aug_batch_size': 1, 'test_data_load': {'enable': False, 'filename': '../vrp100_test_seed1234.pt'}, 'test_set_path': '../../../../VRP-Omni-modified/Vrp-Set-X/X-n275', 'test_set_opt_sol_path': '../../../../VRP-Omni-modified/Vrp-Set-A/A-n33-sol', 'test_set_name': 'A-n33'}\n",
      "[2024-04-02 15:56:45] test.py(109) : logger_params{'log_file': {'desc': 'test_cvrp100', 'filename': 'log.txt', 'filepath': './result/20240402_165643_test_cvrp100'}}\n",
      "['../../../../VRP-Omni-modified/Vrp-Set-X/X-n275/X-n275-k28.vrp']\n"
     ]
    },
    {
     "name": "stderr",
     "output_type": "stream",
     "text": [
      "/home/xunj/miniconda3/lib/python3.11/site-packages/torch/__init__.py:614: UserWarning: torch.set_default_tensor_type() is deprecated as of PyTorch 2.1, please use torch.set_default_dtype() and torch.set_default_device() as alternatives. (Triggered internally at /opt/conda/conda-bld/pytorch_1699449183005/work/torch/csrc/tensor/python_tensor.cpp:451.)\n",
      "  _C._set_default_tensor_type(t)\n"
     ]
    },
    {
     "name": "stdout",
     "output_type": "stream",
     "text": [
      "[2024-04-02 15:56:46] CVRPTester.py(130) : episode   1/  1, Elapsed[0.01m], Remain[0.00m], score:25.296, aug_score:24.210\n",
      "[2024-04-02 15:56:46] CVRPTester.py(136) :  *** Test Done *** \n",
      "[2024-04-02 15:56:46] CVRPTester.py(137) :  NO-AUG SCORE: 25.2960 \n",
      "[2024-04-02 15:56:46] CVRPTester.py(138) :  AUGMENTATION SCORE: 24.2097 \n",
      ">> Evaluation on ../../../../VRP-Omni-modified/Vrp-Set-X/X-n275 finished within 0.56s\n",
      ">> Save final results to res/X-n275\n",
      "Test on \" ../../../../VRP-Omni-modified/Vrp-Set-X/X-n275 \" Success\n",
      "-----------------------------------------------------------------------------------------------------------------\n",
      "[2024-04-02 15:56:48] test.py(107) : DEBUG_MODE: False\n",
      "[2024-04-02 15:56:48] test.py(108) : USE_CUDA: True, CUDA_DEVICE_NUM: 0\n",
      "[2024-04-02 15:56:48] test.py(109) : env_params{'problem_size': 100, 'pomo_size': 100}\n",
      "[2024-04-02 15:56:48] test.py(109) : model_params{'embedding_dim': 128, 'sqrt_embedding_dim': 11.313708498984761, 'encoder_layer_num': 6, 'qkv_dim': 16, 'head_num': 8, 'logit_clipping': 10, 'ff_hidden_dim': 512, 'eval_type': 'argmax'}\n",
      "[2024-04-02 15:56:48] test.py(109) : tester_params{'use_cuda': True, 'cuda_device_num': 0, 'model_load': {'path': './result/saved_CVRP100_model', 'epoch': 30500}, 'test_episodes': 1000, 'test_batch_size': 1, 'augmentation_enable': True, 'aug_factor': 8, 'aug_batch_size': 1, 'test_data_load': {'enable': False, 'filename': '../vrp100_test_seed1234.pt'}, 'test_set_path': '../../../../VRP-Omni-modified/Vrp-Set-X/X-n280', 'test_set_opt_sol_path': '../../../../VRP-Omni-modified/Vrp-Set-A/A-n33-sol', 'test_set_name': 'A-n33'}\n",
      "[2024-04-02 15:56:48] test.py(109) : logger_params{'log_file': {'desc': 'test_cvrp100', 'filename': 'log.txt', 'filepath': './result/20240402_165647_test_cvrp100'}}\n",
      "['../../../../VRP-Omni-modified/Vrp-Set-X/X-n280/X-n280-k17.vrp']\n"
     ]
    },
    {
     "name": "stderr",
     "output_type": "stream",
     "text": [
      "/home/xunj/miniconda3/lib/python3.11/site-packages/torch/__init__.py:614: UserWarning: torch.set_default_tensor_type() is deprecated as of PyTorch 2.1, please use torch.set_default_dtype() and torch.set_default_device() as alternatives. (Triggered internally at /opt/conda/conda-bld/pytorch_1699449183005/work/torch/csrc/tensor/python_tensor.cpp:451.)\n",
      "  _C._set_default_tensor_type(t)\n"
     ]
    },
    {
     "name": "stdout",
     "output_type": "stream",
     "text": [
      "[2024-04-02 15:56:49] CVRPTester.py(130) : episode   1/  1, Elapsed[0.01m], Remain[0.00m], score:37.081, aug_score:37.081\n",
      "[2024-04-02 15:56:49] CVRPTester.py(136) :  *** Test Done *** \n",
      "[2024-04-02 15:56:49] CVRPTester.py(137) :  NO-AUG SCORE: 37.0813 \n",
      "[2024-04-02 15:56:49] CVRPTester.py(138) :  AUGMENTATION SCORE: 37.0813 \n",
      ">> Evaluation on ../../../../VRP-Omni-modified/Vrp-Set-X/X-n280 finished within 0.56s\n",
      ">> Save final results to res/X-n280\n",
      "Test on \" ../../../../VRP-Omni-modified/Vrp-Set-X/X-n280 \" Success\n",
      "-----------------------------------------------------------------------------------------------------------------\n",
      "[2024-04-02 15:56:52] test.py(107) : DEBUG_MODE: False\n",
      "[2024-04-02 15:56:52] test.py(108) : USE_CUDA: True, CUDA_DEVICE_NUM: 0\n",
      "[2024-04-02 15:56:52] test.py(109) : env_params{'problem_size': 100, 'pomo_size': 100}\n",
      "[2024-04-02 15:56:52] test.py(109) : model_params{'embedding_dim': 128, 'sqrt_embedding_dim': 11.313708498984761, 'encoder_layer_num': 6, 'qkv_dim': 16, 'head_num': 8, 'logit_clipping': 10, 'ff_hidden_dim': 512, 'eval_type': 'argmax'}\n",
      "[2024-04-02 15:56:52] test.py(109) : tester_params{'use_cuda': True, 'cuda_device_num': 0, 'model_load': {'path': './result/saved_CVRP100_model', 'epoch': 30500}, 'test_episodes': 1000, 'test_batch_size': 1, 'augmentation_enable': True, 'aug_factor': 8, 'aug_batch_size': 1, 'test_data_load': {'enable': False, 'filename': '../vrp100_test_seed1234.pt'}, 'test_set_path': '../../../../VRP-Omni-modified/Vrp-Set-X/X-n284', 'test_set_opt_sol_path': '../../../../VRP-Omni-modified/Vrp-Set-A/A-n33-sol', 'test_set_name': 'A-n33'}\n",
      "[2024-04-02 15:56:52] test.py(109) : logger_params{'log_file': {'desc': 'test_cvrp100', 'filename': 'log.txt', 'filepath': './result/20240402_165650_test_cvrp100'}}\n",
      "['../../../../VRP-Omni-modified/Vrp-Set-X/X-n284/X-n284-k15.vrp']\n"
     ]
    },
    {
     "name": "stderr",
     "output_type": "stream",
     "text": [
      "/home/xunj/miniconda3/lib/python3.11/site-packages/torch/__init__.py:614: UserWarning: torch.set_default_tensor_type() is deprecated as of PyTorch 2.1, please use torch.set_default_dtype() and torch.set_default_device() as alternatives. (Triggered internally at /opt/conda/conda-bld/pytorch_1699449183005/work/torch/csrc/tensor/python_tensor.cpp:451.)\n",
      "  _C._set_default_tensor_type(t)\n"
     ]
    },
    {
     "name": "stdout",
     "output_type": "stream",
     "text": [
      "[2024-04-02 15:56:53] CVRPTester.py(130) : episode   1/  1, Elapsed[0.01m], Remain[0.00m], score:22.988, aug_score:22.595\n",
      "[2024-04-02 15:56:53] CVRPTester.py(136) :  *** Test Done *** \n",
      "[2024-04-02 15:56:53] CVRPTester.py(137) :  NO-AUG SCORE: 22.9876 \n",
      "[2024-04-02 15:56:53] CVRPTester.py(138) :  AUGMENTATION SCORE: 22.5953 \n",
      ">> Evaluation on ../../../../VRP-Omni-modified/Vrp-Set-X/X-n284 finished within 0.56s\n",
      ">> Save final results to res/X-n284\n",
      "Test on \" ../../../../VRP-Omni-modified/Vrp-Set-X/X-n284 \" Success\n",
      "-----------------------------------------------------------------------------------------------------------------\n",
      "[2024-04-02 15:56:55] test.py(107) : DEBUG_MODE: False\n",
      "[2024-04-02 15:56:55] test.py(108) : USE_CUDA: True, CUDA_DEVICE_NUM: 0\n",
      "[2024-04-02 15:56:55] test.py(109) : env_params{'problem_size': 100, 'pomo_size': 100}\n",
      "[2024-04-02 15:56:55] test.py(109) : model_params{'embedding_dim': 128, 'sqrt_embedding_dim': 11.313708498984761, 'encoder_layer_num': 6, 'qkv_dim': 16, 'head_num': 8, 'logit_clipping': 10, 'ff_hidden_dim': 512, 'eval_type': 'argmax'}\n",
      "[2024-04-02 15:56:55] test.py(109) : tester_params{'use_cuda': True, 'cuda_device_num': 0, 'model_load': {'path': './result/saved_CVRP100_model', 'epoch': 30500}, 'test_episodes': 1000, 'test_batch_size': 1, 'augmentation_enable': True, 'aug_factor': 8, 'aug_batch_size': 1, 'test_data_load': {'enable': False, 'filename': '../vrp100_test_seed1234.pt'}, 'test_set_path': '../../../../VRP-Omni-modified/Vrp-Set-X/X-n289', 'test_set_opt_sol_path': '../../../../VRP-Omni-modified/Vrp-Set-A/A-n33-sol', 'test_set_name': 'A-n33'}\n",
      "[2024-04-02 15:56:55] test.py(109) : logger_params{'log_file': {'desc': 'test_cvrp100', 'filename': 'log.txt', 'filepath': './result/20240402_165654_test_cvrp100'}}\n",
      "['../../../../VRP-Omni-modified/Vrp-Set-X/X-n289/X-n289-k60.vrp']\n"
     ]
    },
    {
     "name": "stderr",
     "output_type": "stream",
     "text": [
      "/home/xunj/miniconda3/lib/python3.11/site-packages/torch/__init__.py:614: UserWarning: torch.set_default_tensor_type() is deprecated as of PyTorch 2.1, please use torch.set_default_dtype() and torch.set_default_device() as alternatives. (Triggered internally at /opt/conda/conda-bld/pytorch_1699449183005/work/torch/csrc/tensor/python_tensor.cpp:451.)\n",
      "  _C._set_default_tensor_type(t)\n"
     ]
    },
    {
     "name": "stdout",
     "output_type": "stream",
     "text": [
      "[2024-04-02 15:56:56] CVRPTester.py(130) : episode   1/  1, Elapsed[0.01m], Remain[0.00m], score:105.538, aug_score:105.351\n",
      "[2024-04-02 15:56:56] CVRPTester.py(136) :  *** Test Done *** \n",
      "[2024-04-02 15:56:56] CVRPTester.py(137) :  NO-AUG SCORE: 105.5382 \n",
      "[2024-04-02 15:56:56] CVRPTester.py(138) :  AUGMENTATION SCORE: 105.3510 \n",
      ">> Evaluation on ../../../../VRP-Omni-modified/Vrp-Set-X/X-n289 finished within 0.62s\n",
      ">> Save final results to res/X-n289\n",
      "Test on \" ../../../../VRP-Omni-modified/Vrp-Set-X/X-n289 \" Success\n",
      "-----------------------------------------------------------------------------------------------------------------\n",
      "[2024-04-02 15:56:59] test.py(107) : DEBUG_MODE: False\n",
      "[2024-04-02 15:56:59] test.py(108) : USE_CUDA: True, CUDA_DEVICE_NUM: 0\n",
      "[2024-04-02 15:56:59] test.py(109) : env_params{'problem_size': 100, 'pomo_size': 100}\n",
      "[2024-04-02 15:56:59] test.py(109) : model_params{'embedding_dim': 128, 'sqrt_embedding_dim': 11.313708498984761, 'encoder_layer_num': 6, 'qkv_dim': 16, 'head_num': 8, 'logit_clipping': 10, 'ff_hidden_dim': 512, 'eval_type': 'argmax'}\n",
      "[2024-04-02 15:56:59] test.py(109) : tester_params{'use_cuda': True, 'cuda_device_num': 0, 'model_load': {'path': './result/saved_CVRP100_model', 'epoch': 30500}, 'test_episodes': 1000, 'test_batch_size': 1, 'augmentation_enable': True, 'aug_factor': 8, 'aug_batch_size': 1, 'test_data_load': {'enable': False, 'filename': '../vrp100_test_seed1234.pt'}, 'test_set_path': '../../../../VRP-Omni-modified/Vrp-Set-X/X-n294', 'test_set_opt_sol_path': '../../../../VRP-Omni-modified/Vrp-Set-A/A-n33-sol', 'test_set_name': 'A-n33'}\n",
      "[2024-04-02 15:56:59] test.py(109) : logger_params{'log_file': {'desc': 'test_cvrp100', 'filename': 'log.txt', 'filepath': './result/20240402_165657_test_cvrp100'}}\n",
      "['../../../../VRP-Omni-modified/Vrp-Set-X/X-n294/X-n294-k50.vrp']\n"
     ]
    },
    {
     "name": "stderr",
     "output_type": "stream",
     "text": [
      "/home/xunj/miniconda3/lib/python3.11/site-packages/torch/__init__.py:614: UserWarning: torch.set_default_tensor_type() is deprecated as of PyTorch 2.1, please use torch.set_default_dtype() and torch.set_default_device() as alternatives. (Triggered internally at /opt/conda/conda-bld/pytorch_1699449183005/work/torch/csrc/tensor/python_tensor.cpp:451.)\n",
      "  _C._set_default_tensor_type(t)\n"
     ]
    },
    {
     "name": "stdout",
     "output_type": "stream",
     "text": [
      "[2024-04-02 15:57:00] CVRPTester.py(130) : episode   1/  1, Elapsed[0.01m], Remain[0.00m], score:55.597, aug_score:53.935\n",
      "[2024-04-02 15:57:00] CVRPTester.py(136) :  *** Test Done *** \n",
      "[2024-04-02 15:57:00] CVRPTester.py(137) :  NO-AUG SCORE: 55.5967 \n",
      "[2024-04-02 15:57:00] CVRPTester.py(138) :  AUGMENTATION SCORE: 53.9347 \n",
      ">> Evaluation on ../../../../VRP-Omni-modified/Vrp-Set-X/X-n294 finished within 0.60s\n",
      ">> Save final results to res/X-n294\n",
      "Test on \" ../../../../VRP-Omni-modified/Vrp-Set-X/X-n294 \" Success\n",
      "-----------------------------------------------------------------------------------------------------------------\n",
      "[2024-04-02 15:57:02] test.py(107) : DEBUG_MODE: False\n",
      "[2024-04-02 15:57:02] test.py(108) : USE_CUDA: True, CUDA_DEVICE_NUM: 0\n",
      "[2024-04-02 15:57:02] test.py(109) : env_params{'problem_size': 100, 'pomo_size': 100}\n",
      "[2024-04-02 15:57:02] test.py(109) : model_params{'embedding_dim': 128, 'sqrt_embedding_dim': 11.313708498984761, 'encoder_layer_num': 6, 'qkv_dim': 16, 'head_num': 8, 'logit_clipping': 10, 'ff_hidden_dim': 512, 'eval_type': 'argmax'}\n",
      "[2024-04-02 15:57:02] test.py(109) : tester_params{'use_cuda': True, 'cuda_device_num': 0, 'model_load': {'path': './result/saved_CVRP100_model', 'epoch': 30500}, 'test_episodes': 1000, 'test_batch_size': 1, 'augmentation_enable': True, 'aug_factor': 8, 'aug_batch_size': 1, 'test_data_load': {'enable': False, 'filename': '../vrp100_test_seed1234.pt'}, 'test_set_path': '../../../../VRP-Omni-modified/Vrp-Set-X/X-n298', 'test_set_opt_sol_path': '../../../../VRP-Omni-modified/Vrp-Set-A/A-n33-sol', 'test_set_name': 'A-n33'}\n",
      "[2024-04-02 15:57:02] test.py(109) : logger_params{'log_file': {'desc': 'test_cvrp100', 'filename': 'log.txt', 'filepath': './result/20240402_165701_test_cvrp100'}}\n",
      "['../../../../VRP-Omni-modified/Vrp-Set-X/X-n298/X-n298-k31.vrp']\n"
     ]
    },
    {
     "name": "stderr",
     "output_type": "stream",
     "text": [
      "/home/xunj/miniconda3/lib/python3.11/site-packages/torch/__init__.py:614: UserWarning: torch.set_default_tensor_type() is deprecated as of PyTorch 2.1, please use torch.set_default_dtype() and torch.set_default_device() as alternatives. (Triggered internally at /opt/conda/conda-bld/pytorch_1699449183005/work/torch/csrc/tensor/python_tensor.cpp:451.)\n",
      "  _C._set_default_tensor_type(t)\n"
     ]
    },
    {
     "name": "stdout",
     "output_type": "stream",
     "text": [
      "[2024-04-02 15:57:03] CVRPTester.py(130) : episode   1/  1, Elapsed[0.01m], Remain[0.00m], score:39.735, aug_score:38.611\n",
      "[2024-04-02 15:57:03] CVRPTester.py(136) :  *** Test Done *** \n",
      "[2024-04-02 15:57:03] CVRPTester.py(137) :  NO-AUG SCORE: 39.7349 \n",
      "[2024-04-02 15:57:03] CVRPTester.py(138) :  AUGMENTATION SCORE: 38.6109 \n",
      ">> Evaluation on ../../../../VRP-Omni-modified/Vrp-Set-X/X-n298 finished within 0.58s\n",
      ">> Save final results to res/X-n298\n",
      "Test on \" ../../../../VRP-Omni-modified/Vrp-Set-X/X-n298 \" Success\n",
      "-----------------------------------------------------------------------------------------------------------------\n",
      "[2024-04-02 15:57:06] test.py(107) : DEBUG_MODE: False\n",
      "[2024-04-02 15:57:06] test.py(108) : USE_CUDA: True, CUDA_DEVICE_NUM: 0\n",
      "[2024-04-02 15:57:06] test.py(109) : env_params{'problem_size': 100, 'pomo_size': 100}\n",
      "[2024-04-02 15:57:06] test.py(109) : model_params{'embedding_dim': 128, 'sqrt_embedding_dim': 11.313708498984761, 'encoder_layer_num': 6, 'qkv_dim': 16, 'head_num': 8, 'logit_clipping': 10, 'ff_hidden_dim': 512, 'eval_type': 'argmax'}\n",
      "[2024-04-02 15:57:06] test.py(109) : tester_params{'use_cuda': True, 'cuda_device_num': 0, 'model_load': {'path': './result/saved_CVRP100_model', 'epoch': 30500}, 'test_episodes': 1000, 'test_batch_size': 1, 'augmentation_enable': True, 'aug_factor': 8, 'aug_batch_size': 1, 'test_data_load': {'enable': False, 'filename': '../vrp100_test_seed1234.pt'}, 'test_set_path': '../../../../VRP-Omni-modified/Vrp-Set-X/X-n303', 'test_set_opt_sol_path': '../../../../VRP-Omni-modified/Vrp-Set-A/A-n33-sol', 'test_set_name': 'A-n33'}\n",
      "[2024-04-02 15:57:06] test.py(109) : logger_params{'log_file': {'desc': 'test_cvrp100', 'filename': 'log.txt', 'filepath': './result/20240402_165704_test_cvrp100'}}\n",
      "['../../../../VRP-Omni-modified/Vrp-Set-X/X-n303/X-n303-k21.vrp']\n"
     ]
    },
    {
     "name": "stderr",
     "output_type": "stream",
     "text": [
      "/home/xunj/miniconda3/lib/python3.11/site-packages/torch/__init__.py:614: UserWarning: torch.set_default_tensor_type() is deprecated as of PyTorch 2.1, please use torch.set_default_dtype() and torch.set_default_device() as alternatives. (Triggered internally at /opt/conda/conda-bld/pytorch_1699449183005/work/torch/csrc/tensor/python_tensor.cpp:451.)\n",
      "  _C._set_default_tensor_type(t)\n"
     ]
    },
    {
     "name": "stdout",
     "output_type": "stream",
     "text": [
      "[2024-04-02 15:57:07] CVRPTester.py(130) : episode   1/  1, Elapsed[0.01m], Remain[0.00m], score:25.491, aug_score:24.736\n",
      "[2024-04-02 15:57:07] CVRPTester.py(136) :  *** Test Done *** \n",
      "[2024-04-02 15:57:07] CVRPTester.py(137) :  NO-AUG SCORE: 25.4914 \n",
      "[2024-04-02 15:57:07] CVRPTester.py(138) :  AUGMENTATION SCORE: 24.7358 \n",
      ">> Evaluation on ../../../../VRP-Omni-modified/Vrp-Set-X/X-n303 finished within 0.59s\n",
      ">> Save final results to res/X-n303\n",
      "Test on \" ../../../../VRP-Omni-modified/Vrp-Set-X/X-n303 \" Success\n",
      "-----------------------------------------------------------------------------------------------------------------\n",
      "[2024-04-02 15:57:09] test.py(107) : DEBUG_MODE: False\n",
      "[2024-04-02 15:57:09] test.py(108) : USE_CUDA: True, CUDA_DEVICE_NUM: 0\n",
      "[2024-04-02 15:57:09] test.py(109) : env_params{'problem_size': 100, 'pomo_size': 100}\n",
      "[2024-04-02 15:57:09] test.py(109) : model_params{'embedding_dim': 128, 'sqrt_embedding_dim': 11.313708498984761, 'encoder_layer_num': 6, 'qkv_dim': 16, 'head_num': 8, 'logit_clipping': 10, 'ff_hidden_dim': 512, 'eval_type': 'argmax'}\n",
      "[2024-04-02 15:57:09] test.py(109) : tester_params{'use_cuda': True, 'cuda_device_num': 0, 'model_load': {'path': './result/saved_CVRP100_model', 'epoch': 30500}, 'test_episodes': 1000, 'test_batch_size': 1, 'augmentation_enable': True, 'aug_factor': 8, 'aug_batch_size': 1, 'test_data_load': {'enable': False, 'filename': '../vrp100_test_seed1234.pt'}, 'test_set_path': '../../../../VRP-Omni-modified/Vrp-Set-X/X-n308', 'test_set_opt_sol_path': '../../../../VRP-Omni-modified/Vrp-Set-A/A-n33-sol', 'test_set_name': 'A-n33'}\n",
      "[2024-04-02 15:57:09] test.py(109) : logger_params{'log_file': {'desc': 'test_cvrp100', 'filename': 'log.txt', 'filepath': './result/20240402_165708_test_cvrp100'}}\n",
      "['../../../../VRP-Omni-modified/Vrp-Set-X/X-n308/X-n308-k13.vrp']\n"
     ]
    },
    {
     "name": "stderr",
     "output_type": "stream",
     "text": [
      "/home/xunj/miniconda3/lib/python3.11/site-packages/torch/__init__.py:614: UserWarning: torch.set_default_tensor_type() is deprecated as of PyTorch 2.1, please use torch.set_default_dtype() and torch.set_default_device() as alternatives. (Triggered internally at /opt/conda/conda-bld/pytorch_1699449183005/work/torch/csrc/tensor/python_tensor.cpp:451.)\n",
      "  _C._set_default_tensor_type(t)\n"
     ]
    },
    {
     "name": "stdout",
     "output_type": "stream",
     "text": [
      "[2024-04-02 15:57:10] CVRPTester.py(130) : episode   1/  1, Elapsed[0.01m], Remain[0.00m], score:30.752, aug_score:29.868\n",
      "[2024-04-02 15:57:10] CVRPTester.py(136) :  *** Test Done *** \n",
      "[2024-04-02 15:57:10] CVRPTester.py(137) :  NO-AUG SCORE: 30.7519 \n",
      "[2024-04-02 15:57:10] CVRPTester.py(138) :  AUGMENTATION SCORE: 29.8681 \n",
      ">> Evaluation on ../../../../VRP-Omni-modified/Vrp-Set-X/X-n308 finished within 0.60s\n",
      ">> Save final results to res/X-n308\n",
      "Test on \" ../../../../VRP-Omni-modified/Vrp-Set-X/X-n308 \" Success\n",
      "-----------------------------------------------------------------------------------------------------------------\n",
      "[2024-04-02 15:57:13] test.py(107) : DEBUG_MODE: False\n",
      "[2024-04-02 15:57:13] test.py(108) : USE_CUDA: True, CUDA_DEVICE_NUM: 0\n",
      "[2024-04-02 15:57:13] test.py(109) : env_params{'problem_size': 100, 'pomo_size': 100}\n",
      "[2024-04-02 15:57:13] test.py(109) : model_params{'embedding_dim': 128, 'sqrt_embedding_dim': 11.313708498984761, 'encoder_layer_num': 6, 'qkv_dim': 16, 'head_num': 8, 'logit_clipping': 10, 'ff_hidden_dim': 512, 'eval_type': 'argmax'}\n",
      "[2024-04-02 15:57:13] test.py(109) : tester_params{'use_cuda': True, 'cuda_device_num': 0, 'model_load': {'path': './result/saved_CVRP100_model', 'epoch': 30500}, 'test_episodes': 1000, 'test_batch_size': 1, 'augmentation_enable': True, 'aug_factor': 8, 'aug_batch_size': 1, 'test_data_load': {'enable': False, 'filename': '../vrp100_test_seed1234.pt'}, 'test_set_path': '../../../../VRP-Omni-modified/Vrp-Set-X/X-n313', 'test_set_opt_sol_path': '../../../../VRP-Omni-modified/Vrp-Set-A/A-n33-sol', 'test_set_name': 'A-n33'}\n",
      "[2024-04-02 15:57:13] test.py(109) : logger_params{'log_file': {'desc': 'test_cvrp100', 'filename': 'log.txt', 'filepath': './result/20240402_165711_test_cvrp100'}}\n",
      "['../../../../VRP-Omni-modified/Vrp-Set-X/X-n313/X-n313-k71.vrp']\n"
     ]
    },
    {
     "name": "stderr",
     "output_type": "stream",
     "text": [
      "/home/xunj/miniconda3/lib/python3.11/site-packages/torch/__init__.py:614: UserWarning: torch.set_default_tensor_type() is deprecated as of PyTorch 2.1, please use torch.set_default_dtype() and torch.set_default_device() as alternatives. (Triggered internally at /opt/conda/conda-bld/pytorch_1699449183005/work/torch/csrc/tensor/python_tensor.cpp:451.)\n",
      "  _C._set_default_tensor_type(t)\n"
     ]
    },
    {
     "name": "stdout",
     "output_type": "stream",
     "text": [
      "[2024-04-02 15:57:14] CVRPTester.py(130) : episode   1/  1, Elapsed[0.01m], Remain[0.00m], score:106.267, aug_score:105.469\n",
      "[2024-04-02 15:57:14] CVRPTester.py(136) :  *** Test Done *** \n",
      "[2024-04-02 15:57:14] CVRPTester.py(137) :  NO-AUG SCORE: 106.2668 \n",
      "[2024-04-02 15:57:14] CVRPTester.py(138) :  AUGMENTATION SCORE: 105.4690 \n",
      ">> Evaluation on ../../../../VRP-Omni-modified/Vrp-Set-X/X-n313 finished within 0.65s\n",
      ">> Save final results to res/X-n313\n",
      "Test on \" ../../../../VRP-Omni-modified/Vrp-Set-X/X-n313 \" Success\n",
      "-----------------------------------------------------------------------------------------------------------------\n",
      "[2024-04-02 15:57:16] test.py(107) : DEBUG_MODE: False\n",
      "[2024-04-02 15:57:16] test.py(108) : USE_CUDA: True, CUDA_DEVICE_NUM: 0\n",
      "[2024-04-02 15:57:16] test.py(109) : env_params{'problem_size': 100, 'pomo_size': 100}\n",
      "[2024-04-02 15:57:16] test.py(109) : model_params{'embedding_dim': 128, 'sqrt_embedding_dim': 11.313708498984761, 'encoder_layer_num': 6, 'qkv_dim': 16, 'head_num': 8, 'logit_clipping': 10, 'ff_hidden_dim': 512, 'eval_type': 'argmax'}\n",
      "[2024-04-02 15:57:16] test.py(109) : tester_params{'use_cuda': True, 'cuda_device_num': 0, 'model_load': {'path': './result/saved_CVRP100_model', 'epoch': 30500}, 'test_episodes': 1000, 'test_batch_size': 1, 'augmentation_enable': True, 'aug_factor': 8, 'aug_batch_size': 1, 'test_data_load': {'enable': False, 'filename': '../vrp100_test_seed1234.pt'}, 'test_set_path': '../../../../VRP-Omni-modified/Vrp-Set-X/X-n317', 'test_set_opt_sol_path': '../../../../VRP-Omni-modified/Vrp-Set-A/A-n33-sol', 'test_set_name': 'A-n33'}\n",
      "[2024-04-02 15:57:16] test.py(109) : logger_params{'log_file': {'desc': 'test_cvrp100', 'filename': 'log.txt', 'filepath': './result/20240402_165715_test_cvrp100'}}\n",
      "['../../../../VRP-Omni-modified/Vrp-Set-X/X-n317/X-n317-k53.vrp']\n"
     ]
    },
    {
     "name": "stderr",
     "output_type": "stream",
     "text": [
      "/home/xunj/miniconda3/lib/python3.11/site-packages/torch/__init__.py:614: UserWarning: torch.set_default_tensor_type() is deprecated as of PyTorch 2.1, please use torch.set_default_dtype() and torch.set_default_device() as alternatives. (Triggered internally at /opt/conda/conda-bld/pytorch_1699449183005/work/torch/csrc/tensor/python_tensor.cpp:451.)\n",
      "  _C._set_default_tensor_type(t)\n"
     ]
    },
    {
     "name": "stdout",
     "output_type": "stream",
     "text": [
      "[2024-04-02 15:57:17] CVRPTester.py(130) : episode   1/  1, Elapsed[0.01m], Remain[0.00m], score:131.097, aug_score:89.403\n",
      "[2024-04-02 15:57:17] CVRPTester.py(136) :  *** Test Done *** \n",
      "[2024-04-02 15:57:17] CVRPTester.py(137) :  NO-AUG SCORE: 131.0967 \n",
      "[2024-04-02 15:57:17] CVRPTester.py(138) :  AUGMENTATION SCORE: 89.4026 \n",
      ">> Evaluation on ../../../../VRP-Omni-modified/Vrp-Set-X/X-n317 finished within 0.69s\n",
      ">> Save final results to res/X-n317\n",
      "Test on \" ../../../../VRP-Omni-modified/Vrp-Set-X/X-n317 \" Success\n",
      "-----------------------------------------------------------------------------------------------------------------\n",
      "[2024-04-02 15:57:20] test.py(107) : DEBUG_MODE: False\n",
      "[2024-04-02 15:57:20] test.py(108) : USE_CUDA: True, CUDA_DEVICE_NUM: 0\n",
      "[2024-04-02 15:57:20] test.py(109) : env_params{'problem_size': 100, 'pomo_size': 100}\n",
      "[2024-04-02 15:57:20] test.py(109) : model_params{'embedding_dim': 128, 'sqrt_embedding_dim': 11.313708498984761, 'encoder_layer_num': 6, 'qkv_dim': 16, 'head_num': 8, 'logit_clipping': 10, 'ff_hidden_dim': 512, 'eval_type': 'argmax'}\n",
      "[2024-04-02 15:57:20] test.py(109) : tester_params{'use_cuda': True, 'cuda_device_num': 0, 'model_load': {'path': './result/saved_CVRP100_model', 'epoch': 30500}, 'test_episodes': 1000, 'test_batch_size': 1, 'augmentation_enable': True, 'aug_factor': 8, 'aug_batch_size': 1, 'test_data_load': {'enable': False, 'filename': '../vrp100_test_seed1234.pt'}, 'test_set_path': '../../../../VRP-Omni-modified/Vrp-Set-X/X-n322', 'test_set_opt_sol_path': '../../../../VRP-Omni-modified/Vrp-Set-A/A-n33-sol', 'test_set_name': 'A-n33'}\n",
      "[2024-04-02 15:57:20] test.py(109) : logger_params{'log_file': {'desc': 'test_cvrp100', 'filename': 'log.txt', 'filepath': './result/20240402_165718_test_cvrp100'}}\n",
      "['../../../../VRP-Omni-modified/Vrp-Set-X/X-n322/X-n322-k28.vrp']\n"
     ]
    },
    {
     "name": "stderr",
     "output_type": "stream",
     "text": [
      "/home/xunj/miniconda3/lib/python3.11/site-packages/torch/__init__.py:614: UserWarning: torch.set_default_tensor_type() is deprecated as of PyTorch 2.1, please use torch.set_default_dtype() and torch.set_default_device() as alternatives. (Triggered internally at /opt/conda/conda-bld/pytorch_1699449183005/work/torch/csrc/tensor/python_tensor.cpp:451.)\n",
      "  _C._set_default_tensor_type(t)\n"
     ]
    },
    {
     "name": "stdout",
     "output_type": "stream",
     "text": [
      "[2024-04-02 15:57:21] CVRPTester.py(130) : episode   1/  1, Elapsed[0.01m], Remain[0.00m], score:35.488, aug_score:34.944\n",
      "[2024-04-02 15:57:21] CVRPTester.py(136) :  *** Test Done *** \n",
      "[2024-04-02 15:57:21] CVRPTester.py(137) :  NO-AUG SCORE: 35.4881 \n",
      "[2024-04-02 15:57:21] CVRPTester.py(138) :  AUGMENTATION SCORE: 34.9441 \n",
      ">> Evaluation on ../../../../VRP-Omni-modified/Vrp-Set-X/X-n322 finished within 0.61s\n",
      ">> Save final results to res/X-n322\n",
      "Test on \" ../../../../VRP-Omni-modified/Vrp-Set-X/X-n322 \" Success\n",
      "-----------------------------------------------------------------------------------------------------------------\n",
      "[2024-04-02 15:57:23] test.py(107) : DEBUG_MODE: False\n",
      "[2024-04-02 15:57:23] test.py(108) : USE_CUDA: True, CUDA_DEVICE_NUM: 0\n",
      "[2024-04-02 15:57:23] test.py(109) : env_params{'problem_size': 100, 'pomo_size': 100}\n",
      "[2024-04-02 15:57:23] test.py(109) : model_params{'embedding_dim': 128, 'sqrt_embedding_dim': 11.313708498984761, 'encoder_layer_num': 6, 'qkv_dim': 16, 'head_num': 8, 'logit_clipping': 10, 'ff_hidden_dim': 512, 'eval_type': 'argmax'}\n",
      "[2024-04-02 15:57:23] test.py(109) : tester_params{'use_cuda': True, 'cuda_device_num': 0, 'model_load': {'path': './result/saved_CVRP100_model', 'epoch': 30500}, 'test_episodes': 1000, 'test_batch_size': 1, 'augmentation_enable': True, 'aug_factor': 8, 'aug_batch_size': 1, 'test_data_load': {'enable': False, 'filename': '../vrp100_test_seed1234.pt'}, 'test_set_path': '../../../../VRP-Omni-modified/Vrp-Set-X/X-n327', 'test_set_opt_sol_path': '../../../../VRP-Omni-modified/Vrp-Set-A/A-n33-sol', 'test_set_name': 'A-n33'}\n",
      "[2024-04-02 15:57:23] test.py(109) : logger_params{'log_file': {'desc': 'test_cvrp100', 'filename': 'log.txt', 'filepath': './result/20240402_165722_test_cvrp100'}}\n",
      "['../../../../VRP-Omni-modified/Vrp-Set-X/X-n327/X-n327-k20.vrp']\n"
     ]
    },
    {
     "name": "stderr",
     "output_type": "stream",
     "text": [
      "/home/xunj/miniconda3/lib/python3.11/site-packages/torch/__init__.py:614: UserWarning: torch.set_default_tensor_type() is deprecated as of PyTorch 2.1, please use torch.set_default_dtype() and torch.set_default_device() as alternatives. (Triggered internally at /opt/conda/conda-bld/pytorch_1699449183005/work/torch/csrc/tensor/python_tensor.cpp:451.)\n",
      "  _C._set_default_tensor_type(t)\n"
     ]
    },
    {
     "name": "stdout",
     "output_type": "stream",
     "text": [
      "[2024-04-02 15:57:24] CVRPTester.py(130) : episode   1/  1, Elapsed[0.01m], Remain[0.00m], score:33.618, aug_score:32.593\n",
      "[2024-04-02 15:57:24] CVRPTester.py(136) :  *** Test Done *** \n",
      "[2024-04-02 15:57:24] CVRPTester.py(137) :  NO-AUG SCORE: 33.6178 \n",
      "[2024-04-02 15:57:24] CVRPTester.py(138) :  AUGMENTATION SCORE: 32.5932 \n",
      ">> Evaluation on ../../../../VRP-Omni-modified/Vrp-Set-X/X-n327 finished within 0.61s\n",
      ">> Save final results to res/X-n327\n",
      "Test on \" ../../../../VRP-Omni-modified/Vrp-Set-X/X-n327 \" Success\n",
      "-----------------------------------------------------------------------------------------------------------------\n",
      "[2024-04-02 15:57:26] test.py(107) : DEBUG_MODE: False\n",
      "[2024-04-02 15:57:26] test.py(108) : USE_CUDA: True, CUDA_DEVICE_NUM: 0\n",
      "[2024-04-02 15:57:26] test.py(109) : env_params{'problem_size': 100, 'pomo_size': 100}\n",
      "[2024-04-02 15:57:26] test.py(109) : model_params{'embedding_dim': 128, 'sqrt_embedding_dim': 11.313708498984761, 'encoder_layer_num': 6, 'qkv_dim': 16, 'head_num': 8, 'logit_clipping': 10, 'ff_hidden_dim': 512, 'eval_type': 'argmax'}\n",
      "[2024-04-02 15:57:26] test.py(109) : tester_params{'use_cuda': True, 'cuda_device_num': 0, 'model_load': {'path': './result/saved_CVRP100_model', 'epoch': 30500}, 'test_episodes': 1000, 'test_batch_size': 1, 'augmentation_enable': True, 'aug_factor': 8, 'aug_batch_size': 1, 'test_data_load': {'enable': False, 'filename': '../vrp100_test_seed1234.pt'}, 'test_set_path': '../../../../VRP-Omni-modified/Vrp-Set-X/X-n331', 'test_set_opt_sol_path': '../../../../VRP-Omni-modified/Vrp-Set-A/A-n33-sol', 'test_set_name': 'A-n33'}\n",
      "[2024-04-02 15:57:26] test.py(109) : logger_params{'log_file': {'desc': 'test_cvrp100', 'filename': 'log.txt', 'filepath': './result/20240402_165725_test_cvrp100'}}\n",
      "['../../../../VRP-Omni-modified/Vrp-Set-X/X-n331/X-n331-k15.vrp']\n"
     ]
    },
    {
     "name": "stderr",
     "output_type": "stream",
     "text": [
      "/home/xunj/miniconda3/lib/python3.11/site-packages/torch/__init__.py:614: UserWarning: torch.set_default_tensor_type() is deprecated as of PyTorch 2.1, please use torch.set_default_dtype() and torch.set_default_device() as alternatives. (Triggered internally at /opt/conda/conda-bld/pytorch_1699449183005/work/torch/csrc/tensor/python_tensor.cpp:451.)\n",
      "  _C._set_default_tensor_type(t)\n"
     ]
    },
    {
     "name": "stdout",
     "output_type": "stream",
     "text": [
      "[2024-04-02 15:57:28] CVRPTester.py(130) : episode   1/  1, Elapsed[0.01m], Remain[0.00m], score:49.616, aug_score:42.296\n",
      "[2024-04-02 15:57:28] CVRPTester.py(136) :  *** Test Done *** \n",
      "[2024-04-02 15:57:28] CVRPTester.py(137) :  NO-AUG SCORE: 49.6157 \n",
      "[2024-04-02 15:57:28] CVRPTester.py(138) :  AUGMENTATION SCORE: 42.2957 \n",
      ">> Evaluation on ../../../../VRP-Omni-modified/Vrp-Set-X/X-n331 finished within 0.66s\n",
      ">> Save final results to res/X-n331\n",
      "Test on \" ../../../../VRP-Omni-modified/Vrp-Set-X/X-n331 \" Success\n",
      "-----------------------------------------------------------------------------------------------------------------\n",
      "[2024-04-02 15:57:30] test.py(107) : DEBUG_MODE: False\n",
      "[2024-04-02 15:57:30] test.py(108) : USE_CUDA: True, CUDA_DEVICE_NUM: 0\n",
      "[2024-04-02 15:57:30] test.py(109) : env_params{'problem_size': 100, 'pomo_size': 100}\n",
      "[2024-04-02 15:57:30] test.py(109) : model_params{'embedding_dim': 128, 'sqrt_embedding_dim': 11.313708498984761, 'encoder_layer_num': 6, 'qkv_dim': 16, 'head_num': 8, 'logit_clipping': 10, 'ff_hidden_dim': 512, 'eval_type': 'argmax'}\n",
      "[2024-04-02 15:57:30] test.py(109) : tester_params{'use_cuda': True, 'cuda_device_num': 0, 'model_load': {'path': './result/saved_CVRP100_model', 'epoch': 30500}, 'test_episodes': 1000, 'test_batch_size': 1, 'augmentation_enable': True, 'aug_factor': 8, 'aug_batch_size': 1, 'test_data_load': {'enable': False, 'filename': '../vrp100_test_seed1234.pt'}, 'test_set_path': '../../../../VRP-Omni-modified/Vrp-Set-X/X-n336', 'test_set_opt_sol_path': '../../../../VRP-Omni-modified/Vrp-Set-A/A-n33-sol', 'test_set_name': 'A-n33'}\n",
      "[2024-04-02 15:57:30] test.py(109) : logger_params{'log_file': {'desc': 'test_cvrp100', 'filename': 'log.txt', 'filepath': './result/20240402_165729_test_cvrp100'}}\n",
      "['../../../../VRP-Omni-modified/Vrp-Set-X/X-n336/X-n336-k84.vrp']\n"
     ]
    },
    {
     "name": "stderr",
     "output_type": "stream",
     "text": [
      "/home/xunj/miniconda3/lib/python3.11/site-packages/torch/__init__.py:614: UserWarning: torch.set_default_tensor_type() is deprecated as of PyTorch 2.1, please use torch.set_default_dtype() and torch.set_default_device() as alternatives. (Triggered internally at /opt/conda/conda-bld/pytorch_1699449183005/work/torch/csrc/tensor/python_tensor.cpp:451.)\n",
      "  _C._set_default_tensor_type(t)\n"
     ]
    },
    {
     "name": "stdout",
     "output_type": "stream",
     "text": [
      "[2024-04-02 15:57:31] CVRPTester.py(130) : episode   1/  1, Elapsed[0.01m], Remain[0.00m], score:156.937, aug_score:154.942\n",
      "[2024-04-02 15:57:31] CVRPTester.py(136) :  *** Test Done *** \n",
      "[2024-04-02 15:57:31] CVRPTester.py(137) :  NO-AUG SCORE: 156.9372 \n",
      "[2024-04-02 15:57:31] CVRPTester.py(138) :  AUGMENTATION SCORE: 154.9416 \n",
      ">> Evaluation on ../../../../VRP-Omni-modified/Vrp-Set-X/X-n336 finished within 0.68s\n",
      ">> Save final results to res/X-n336\n",
      "Test on \" ../../../../VRP-Omni-modified/Vrp-Set-X/X-n336 \" Success\n",
      "-----------------------------------------------------------------------------------------------------------------\n",
      "[2024-04-02 15:57:34] test.py(107) : DEBUG_MODE: False\n",
      "[2024-04-02 15:57:34] test.py(108) : USE_CUDA: True, CUDA_DEVICE_NUM: 0\n",
      "[2024-04-02 15:57:34] test.py(109) : env_params{'problem_size': 100, 'pomo_size': 100}\n",
      "[2024-04-02 15:57:34] test.py(109) : model_params{'embedding_dim': 128, 'sqrt_embedding_dim': 11.313708498984761, 'encoder_layer_num': 6, 'qkv_dim': 16, 'head_num': 8, 'logit_clipping': 10, 'ff_hidden_dim': 512, 'eval_type': 'argmax'}\n",
      "[2024-04-02 15:57:34] test.py(109) : tester_params{'use_cuda': True, 'cuda_device_num': 0, 'model_load': {'path': './result/saved_CVRP100_model', 'epoch': 30500}, 'test_episodes': 1000, 'test_batch_size': 1, 'augmentation_enable': True, 'aug_factor': 8, 'aug_batch_size': 1, 'test_data_load': {'enable': False, 'filename': '../vrp100_test_seed1234.pt'}, 'test_set_path': '../../../../VRP-Omni-modified/Vrp-Set-X/X-n344', 'test_set_opt_sol_path': '../../../../VRP-Omni-modified/Vrp-Set-A/A-n33-sol', 'test_set_name': 'A-n33'}\n",
      "[2024-04-02 15:57:34] test.py(109) : logger_params{'log_file': {'desc': 'test_cvrp100', 'filename': 'log.txt', 'filepath': './result/20240402_165732_test_cvrp100'}}\n",
      "['../../../../VRP-Omni-modified/Vrp-Set-X/X-n344/X-n344-k43.vrp']\n"
     ]
    },
    {
     "name": "stderr",
     "output_type": "stream",
     "text": [
      "/home/xunj/miniconda3/lib/python3.11/site-packages/torch/__init__.py:614: UserWarning: torch.set_default_tensor_type() is deprecated as of PyTorch 2.1, please use torch.set_default_dtype() and torch.set_default_device() as alternatives. (Triggered internally at /opt/conda/conda-bld/pytorch_1699449183005/work/torch/csrc/tensor/python_tensor.cpp:451.)\n",
      "  _C._set_default_tensor_type(t)\n"
     ]
    },
    {
     "name": "stdout",
     "output_type": "stream",
     "text": [
      "[2024-04-02 15:57:35] CVRPTester.py(130) : episode   1/  1, Elapsed[0.01m], Remain[0.00m], score:50.492, aug_score:49.236\n",
      "[2024-04-02 15:57:35] CVRPTester.py(136) :  *** Test Done *** \n",
      "[2024-04-02 15:57:35] CVRPTester.py(137) :  NO-AUG SCORE: 50.4924 \n",
      "[2024-04-02 15:57:35] CVRPTester.py(138) :  AUGMENTATION SCORE: 49.2358 \n",
      ">> Evaluation on ../../../../VRP-Omni-modified/Vrp-Set-X/X-n344 finished within 0.66s\n",
      ">> Save final results to res/X-n344\n",
      "Test on \" ../../../../VRP-Omni-modified/Vrp-Set-X/X-n344 \" Success\n",
      "-----------------------------------------------------------------------------------------------------------------\n",
      "[2024-04-02 15:57:37] test.py(107) : DEBUG_MODE: False\n",
      "[2024-04-02 15:57:37] test.py(108) : USE_CUDA: True, CUDA_DEVICE_NUM: 0\n",
      "[2024-04-02 15:57:37] test.py(109) : env_params{'problem_size': 100, 'pomo_size': 100}\n",
      "[2024-04-02 15:57:37] test.py(109) : model_params{'embedding_dim': 128, 'sqrt_embedding_dim': 11.313708498984761, 'encoder_layer_num': 6, 'qkv_dim': 16, 'head_num': 8, 'logit_clipping': 10, 'ff_hidden_dim': 512, 'eval_type': 'argmax'}\n",
      "[2024-04-02 15:57:37] test.py(109) : tester_params{'use_cuda': True, 'cuda_device_num': 0, 'model_load': {'path': './result/saved_CVRP100_model', 'epoch': 30500}, 'test_episodes': 1000, 'test_batch_size': 1, 'augmentation_enable': True, 'aug_factor': 8, 'aug_batch_size': 1, 'test_data_load': {'enable': False, 'filename': '../vrp100_test_seed1234.pt'}, 'test_set_path': '../../../../VRP-Omni-modified/Vrp-Set-X/X-n351', 'test_set_opt_sol_path': '../../../../VRP-Omni-modified/Vrp-Set-A/A-n33-sol', 'test_set_name': 'A-n33'}\n",
      "[2024-04-02 15:57:37] test.py(109) : logger_params{'log_file': {'desc': 'test_cvrp100', 'filename': 'log.txt', 'filepath': './result/20240402_165736_test_cvrp100'}}\n",
      "['../../../../VRP-Omni-modified/Vrp-Set-X/X-n351/X-n351-k40.vrp']\n"
     ]
    },
    {
     "name": "stderr",
     "output_type": "stream",
     "text": [
      "/home/xunj/miniconda3/lib/python3.11/site-packages/torch/__init__.py:614: UserWarning: torch.set_default_tensor_type() is deprecated as of PyTorch 2.1, please use torch.set_default_dtype() and torch.set_default_device() as alternatives. (Triggered internally at /opt/conda/conda-bld/pytorch_1699449183005/work/torch/csrc/tensor/python_tensor.cpp:451.)\n",
      "  _C._set_default_tensor_type(t)\n"
     ]
    },
    {
     "name": "stdout",
     "output_type": "stream",
     "text": [
      "[2024-04-02 15:57:38] CVRPTester.py(130) : episode   1/  1, Elapsed[0.01m], Remain[0.00m], score:31.935, aug_score:31.343\n",
      "[2024-04-02 15:57:38] CVRPTester.py(136) :  *** Test Done *** \n",
      "[2024-04-02 15:57:38] CVRPTester.py(137) :  NO-AUG SCORE: 31.9347 \n",
      "[2024-04-02 15:57:38] CVRPTester.py(138) :  AUGMENTATION SCORE: 31.3428 \n",
      ">> Evaluation on ../../../../VRP-Omni-modified/Vrp-Set-X/X-n351 finished within 0.68s\n",
      ">> Save final results to res/X-n351\n",
      "Test on \" ../../../../VRP-Omni-modified/Vrp-Set-X/X-n351 \" Success\n",
      "-----------------------------------------------------------------------------------------------------------------\n",
      "[2024-04-02 15:57:41] test.py(107) : DEBUG_MODE: False\n",
      "[2024-04-02 15:57:41] test.py(108) : USE_CUDA: True, CUDA_DEVICE_NUM: 0\n",
      "[2024-04-02 15:57:41] test.py(109) : env_params{'problem_size': 100, 'pomo_size': 100}\n",
      "[2024-04-02 15:57:41] test.py(109) : model_params{'embedding_dim': 128, 'sqrt_embedding_dim': 11.313708498984761, 'encoder_layer_num': 6, 'qkv_dim': 16, 'head_num': 8, 'logit_clipping': 10, 'ff_hidden_dim': 512, 'eval_type': 'argmax'}\n",
      "[2024-04-02 15:57:41] test.py(109) : tester_params{'use_cuda': True, 'cuda_device_num': 0, 'model_load': {'path': './result/saved_CVRP100_model', 'epoch': 30500}, 'test_episodes': 1000, 'test_batch_size': 1, 'augmentation_enable': True, 'aug_factor': 8, 'aug_batch_size': 1, 'test_data_load': {'enable': False, 'filename': '../vrp100_test_seed1234.pt'}, 'test_set_path': '../../../../VRP-Omni-modified/Vrp-Set-X/X-n359', 'test_set_opt_sol_path': '../../../../VRP-Omni-modified/Vrp-Set-A/A-n33-sol', 'test_set_name': 'A-n33'}\n",
      "[2024-04-02 15:57:41] test.py(109) : logger_params{'log_file': {'desc': 'test_cvrp100', 'filename': 'log.txt', 'filepath': './result/20240402_165739_test_cvrp100'}}\n",
      "['../../../../VRP-Omni-modified/Vrp-Set-X/X-n359/X-n359-k29.vrp']\n"
     ]
    },
    {
     "name": "stderr",
     "output_type": "stream",
     "text": [
      "/home/xunj/miniconda3/lib/python3.11/site-packages/torch/__init__.py:614: UserWarning: torch.set_default_tensor_type() is deprecated as of PyTorch 2.1, please use torch.set_default_dtype() and torch.set_default_device() as alternatives. (Triggered internally at /opt/conda/conda-bld/pytorch_1699449183005/work/torch/csrc/tensor/python_tensor.cpp:451.)\n",
      "  _C._set_default_tensor_type(t)\n"
     ]
    },
    {
     "name": "stdout",
     "output_type": "stream",
     "text": [
      "[2024-04-02 15:57:42] CVRPTester.py(130) : episode   1/  1, Elapsed[0.01m], Remain[0.00m], score:56.485, aug_score:56.485\n",
      "[2024-04-02 15:57:42] CVRPTester.py(136) :  *** Test Done *** \n",
      "[2024-04-02 15:57:42] CVRPTester.py(137) :  NO-AUG SCORE: 56.4846 \n",
      "[2024-04-02 15:57:42] CVRPTester.py(138) :  AUGMENTATION SCORE: 56.4846 \n",
      ">> Evaluation on ../../../../VRP-Omni-modified/Vrp-Set-X/X-n359 finished within 0.69s\n",
      ">> Save final results to res/X-n359\n",
      "Test on \" ../../../../VRP-Omni-modified/Vrp-Set-X/X-n359 \" Success\n",
      "-----------------------------------------------------------------------------------------------------------------\n",
      "[2024-04-02 15:57:44] test.py(107) : DEBUG_MODE: False\n",
      "[2024-04-02 15:57:44] test.py(108) : USE_CUDA: True, CUDA_DEVICE_NUM: 0\n",
      "[2024-04-02 15:57:44] test.py(109) : env_params{'problem_size': 100, 'pomo_size': 100}\n",
      "[2024-04-02 15:57:44] test.py(109) : model_params{'embedding_dim': 128, 'sqrt_embedding_dim': 11.313708498984761, 'encoder_layer_num': 6, 'qkv_dim': 16, 'head_num': 8, 'logit_clipping': 10, 'ff_hidden_dim': 512, 'eval_type': 'argmax'}\n",
      "[2024-04-02 15:57:44] test.py(109) : tester_params{'use_cuda': True, 'cuda_device_num': 0, 'model_load': {'path': './result/saved_CVRP100_model', 'epoch': 30500}, 'test_episodes': 1000, 'test_batch_size': 1, 'augmentation_enable': True, 'aug_factor': 8, 'aug_batch_size': 1, 'test_data_load': {'enable': False, 'filename': '../vrp100_test_seed1234.pt'}, 'test_set_path': '../../../../VRP-Omni-modified/Vrp-Set-X/X-n367', 'test_set_opt_sol_path': '../../../../VRP-Omni-modified/Vrp-Set-A/A-n33-sol', 'test_set_name': 'A-n33'}\n",
      "[2024-04-02 15:57:44] test.py(109) : logger_params{'log_file': {'desc': 'test_cvrp100', 'filename': 'log.txt', 'filepath': './result/20240402_165743_test_cvrp100'}}\n",
      "['../../../../VRP-Omni-modified/Vrp-Set-X/X-n367/X-n367-k17.vrp']\n"
     ]
    },
    {
     "name": "stderr",
     "output_type": "stream",
     "text": [
      "/home/xunj/miniconda3/lib/python3.11/site-packages/torch/__init__.py:614: UserWarning: torch.set_default_tensor_type() is deprecated as of PyTorch 2.1, please use torch.set_default_dtype() and torch.set_default_device() as alternatives. (Triggered internally at /opt/conda/conda-bld/pytorch_1699449183005/work/torch/csrc/tensor/python_tensor.cpp:451.)\n",
      "  _C._set_default_tensor_type(t)\n"
     ]
    },
    {
     "name": "stdout",
     "output_type": "stream",
     "text": [
      "[2024-04-02 15:57:45] CVRPTester.py(130) : episode   1/  1, Elapsed[0.01m], Remain[0.00m], score:27.663, aug_score:27.242\n",
      "[2024-04-02 15:57:45] CVRPTester.py(136) :  *** Test Done *** \n",
      "[2024-04-02 15:57:45] CVRPTester.py(137) :  NO-AUG SCORE: 27.6634 \n",
      "[2024-04-02 15:57:45] CVRPTester.py(138) :  AUGMENTATION SCORE: 27.2423 \n",
      ">> Evaluation on ../../../../VRP-Omni-modified/Vrp-Set-X/X-n367 finished within 0.67s\n",
      ">> Save final results to res/X-n367\n",
      "Test on \" ../../../../VRP-Omni-modified/Vrp-Set-X/X-n367 \" Success\n",
      "-----------------------------------------------------------------------------------------------------------------\n",
      "[2024-04-02 15:57:48] test.py(107) : DEBUG_MODE: False\n",
      "[2024-04-02 15:57:48] test.py(108) : USE_CUDA: True, CUDA_DEVICE_NUM: 0\n",
      "[2024-04-02 15:57:48] test.py(109) : env_params{'problem_size': 100, 'pomo_size': 100}\n",
      "[2024-04-02 15:57:48] test.py(109) : model_params{'embedding_dim': 128, 'sqrt_embedding_dim': 11.313708498984761, 'encoder_layer_num': 6, 'qkv_dim': 16, 'head_num': 8, 'logit_clipping': 10, 'ff_hidden_dim': 512, 'eval_type': 'argmax'}\n",
      "[2024-04-02 15:57:48] test.py(109) : tester_params{'use_cuda': True, 'cuda_device_num': 0, 'model_load': {'path': './result/saved_CVRP100_model', 'epoch': 30500}, 'test_episodes': 1000, 'test_batch_size': 1, 'augmentation_enable': True, 'aug_factor': 8, 'aug_batch_size': 1, 'test_data_load': {'enable': False, 'filename': '../vrp100_test_seed1234.pt'}, 'test_set_path': '../../../../VRP-Omni-modified/Vrp-Set-X/X-n376', 'test_set_opt_sol_path': '../../../../VRP-Omni-modified/Vrp-Set-A/A-n33-sol', 'test_set_name': 'A-n33'}\n",
      "[2024-04-02 15:57:48] test.py(109) : logger_params{'log_file': {'desc': 'test_cvrp100', 'filename': 'log.txt', 'filepath': './result/20240402_165746_test_cvrp100'}}\n",
      "['../../../../VRP-Omni-modified/Vrp-Set-X/X-n376/X-n376-k94.vrp']\n"
     ]
    },
    {
     "name": "stderr",
     "output_type": "stream",
     "text": [
      "/home/xunj/miniconda3/lib/python3.11/site-packages/torch/__init__.py:614: UserWarning: torch.set_default_tensor_type() is deprecated as of PyTorch 2.1, please use torch.set_default_dtype() and torch.set_default_device() as alternatives. (Triggered internally at /opt/conda/conda-bld/pytorch_1699449183005/work/torch/csrc/tensor/python_tensor.cpp:451.)\n",
      "  _C._set_default_tensor_type(t)\n"
     ]
    },
    {
     "name": "stdout",
     "output_type": "stream",
     "text": [
      "[2024-04-02 15:57:49] CVRPTester.py(130) : episode   1/  1, Elapsed[0.01m], Remain[0.00m], score:174.727, aug_score:162.234\n",
      "[2024-04-02 15:57:49] CVRPTester.py(136) :  *** Test Done *** \n",
      "[2024-04-02 15:57:49] CVRPTester.py(137) :  NO-AUG SCORE: 174.7267 \n",
      "[2024-04-02 15:57:49] CVRPTester.py(138) :  AUGMENTATION SCORE: 162.2343 \n",
      ">> Evaluation on ../../../../VRP-Omni-modified/Vrp-Set-X/X-n376 finished within 0.79s\n",
      ">> Save final results to res/X-n376\n",
      "Test on \" ../../../../VRP-Omni-modified/Vrp-Set-X/X-n376 \" Success\n",
      "-----------------------------------------------------------------------------------------------------------------\n",
      "[2024-04-02 15:57:52] test.py(107) : DEBUG_MODE: False\n",
      "[2024-04-02 15:57:52] test.py(108) : USE_CUDA: True, CUDA_DEVICE_NUM: 0\n",
      "[2024-04-02 15:57:52] test.py(109) : env_params{'problem_size': 100, 'pomo_size': 100}\n",
      "[2024-04-02 15:57:52] test.py(109) : model_params{'embedding_dim': 128, 'sqrt_embedding_dim': 11.313708498984761, 'encoder_layer_num': 6, 'qkv_dim': 16, 'head_num': 8, 'logit_clipping': 10, 'ff_hidden_dim': 512, 'eval_type': 'argmax'}\n",
      "[2024-04-02 15:57:52] test.py(109) : tester_params{'use_cuda': True, 'cuda_device_num': 0, 'model_load': {'path': './result/saved_CVRP100_model', 'epoch': 30500}, 'test_episodes': 1000, 'test_batch_size': 1, 'augmentation_enable': True, 'aug_factor': 8, 'aug_batch_size': 1, 'test_data_load': {'enable': False, 'filename': '../vrp100_test_seed1234.pt'}, 'test_set_path': '../../../../VRP-Omni-modified/Vrp-Set-X/X-n384', 'test_set_opt_sol_path': '../../../../VRP-Omni-modified/Vrp-Set-A/A-n33-sol', 'test_set_name': 'A-n33'}\n",
      "[2024-04-02 15:57:52] test.py(109) : logger_params{'log_file': {'desc': 'test_cvrp100', 'filename': 'log.txt', 'filepath': './result/20240402_165750_test_cvrp100'}}\n",
      "['../../../../VRP-Omni-modified/Vrp-Set-X/X-n384/X-n384-k52.vrp']\n"
     ]
    },
    {
     "name": "stderr",
     "output_type": "stream",
     "text": [
      "/home/xunj/miniconda3/lib/python3.11/site-packages/torch/__init__.py:614: UserWarning: torch.set_default_tensor_type() is deprecated as of PyTorch 2.1, please use torch.set_default_dtype() and torch.set_default_device() as alternatives. (Triggered internally at /opt/conda/conda-bld/pytorch_1699449183005/work/torch/csrc/tensor/python_tensor.cpp:451.)\n",
      "  _C._set_default_tensor_type(t)\n"
     ]
    },
    {
     "name": "stdout",
     "output_type": "stream",
     "text": [
      "[2024-04-02 15:57:53] CVRPTester.py(130) : episode   1/  1, Elapsed[0.01m], Remain[0.00m], score:77.404, aug_score:76.140\n",
      "[2024-04-02 15:57:53] CVRPTester.py(136) :  *** Test Done *** \n",
      "[2024-04-02 15:57:53] CVRPTester.py(137) :  NO-AUG SCORE: 77.4037 \n",
      "[2024-04-02 15:57:53] CVRPTester.py(138) :  AUGMENTATION SCORE: 76.1396 \n",
      ">> Evaluation on ../../../../VRP-Omni-modified/Vrp-Set-X/X-n384 finished within 0.75s\n",
      ">> Save final results to res/X-n384\n",
      "Test on \" ../../../../VRP-Omni-modified/Vrp-Set-X/X-n384 \" Success\n",
      "-----------------------------------------------------------------------------------------------------------------\n",
      "[2024-04-02 15:57:55] test.py(107) : DEBUG_MODE: False\n",
      "[2024-04-02 15:57:55] test.py(108) : USE_CUDA: True, CUDA_DEVICE_NUM: 0\n",
      "[2024-04-02 15:57:55] test.py(109) : env_params{'problem_size': 100, 'pomo_size': 100}\n",
      "[2024-04-02 15:57:55] test.py(109) : model_params{'embedding_dim': 128, 'sqrt_embedding_dim': 11.313708498984761, 'encoder_layer_num': 6, 'qkv_dim': 16, 'head_num': 8, 'logit_clipping': 10, 'ff_hidden_dim': 512, 'eval_type': 'argmax'}\n",
      "[2024-04-02 15:57:55] test.py(109) : tester_params{'use_cuda': True, 'cuda_device_num': 0, 'model_load': {'path': './result/saved_CVRP100_model', 'epoch': 30500}, 'test_episodes': 1000, 'test_batch_size': 1, 'augmentation_enable': True, 'aug_factor': 8, 'aug_batch_size': 1, 'test_data_load': {'enable': False, 'filename': '../vrp100_test_seed1234.pt'}, 'test_set_path': '../../../../VRP-Omni-modified/Vrp-Set-X/X-n393', 'test_set_opt_sol_path': '../../../../VRP-Omni-modified/Vrp-Set-A/A-n33-sol', 'test_set_name': 'A-n33'}\n",
      "[2024-04-02 15:57:55] test.py(109) : logger_params{'log_file': {'desc': 'test_cvrp100', 'filename': 'log.txt', 'filepath': './result/20240402_165754_test_cvrp100'}}\n",
      "['../../../../VRP-Omni-modified/Vrp-Set-X/X-n393/X-n393-k38.vrp']\n"
     ]
    },
    {
     "name": "stderr",
     "output_type": "stream",
     "text": [
      "/home/xunj/miniconda3/lib/python3.11/site-packages/torch/__init__.py:614: UserWarning: torch.set_default_tensor_type() is deprecated as of PyTorch 2.1, please use torch.set_default_dtype() and torch.set_default_device() as alternatives. (Triggered internally at /opt/conda/conda-bld/pytorch_1699449183005/work/torch/csrc/tensor/python_tensor.cpp:451.)\n",
      "  _C._set_default_tensor_type(t)\n"
     ]
    },
    {
     "name": "stdout",
     "output_type": "stream",
     "text": [
      "[2024-04-02 15:57:56] CVRPTester.py(130) : episode   1/  1, Elapsed[0.01m], Remain[0.00m], score:47.547, aug_score:45.453\n",
      "[2024-04-02 15:57:56] CVRPTester.py(136) :  *** Test Done *** \n",
      "[2024-04-02 15:57:56] CVRPTester.py(137) :  NO-AUG SCORE: 47.5470 \n",
      "[2024-04-02 15:57:56] CVRPTester.py(138) :  AUGMENTATION SCORE: 45.4532 \n",
      ">> Evaluation on ../../../../VRP-Omni-modified/Vrp-Set-X/X-n393 finished within 0.79s\n",
      ">> Save final results to res/X-n393\n",
      "Test on \" ../../../../VRP-Omni-modified/Vrp-Set-X/X-n393 \" Success\n",
      "-----------------------------------------------------------------------------------------------------------------\n",
      "[2024-04-02 15:57:59] test.py(107) : DEBUG_MODE: False\n",
      "[2024-04-02 15:57:59] test.py(108) : USE_CUDA: True, CUDA_DEVICE_NUM: 0\n",
      "[2024-04-02 15:57:59] test.py(109) : env_params{'problem_size': 100, 'pomo_size': 100}\n",
      "[2024-04-02 15:57:59] test.py(109) : model_params{'embedding_dim': 128, 'sqrt_embedding_dim': 11.313708498984761, 'encoder_layer_num': 6, 'qkv_dim': 16, 'head_num': 8, 'logit_clipping': 10, 'ff_hidden_dim': 512, 'eval_type': 'argmax'}\n",
      "[2024-04-02 15:57:59] test.py(109) : tester_params{'use_cuda': True, 'cuda_device_num': 0, 'model_load': {'path': './result/saved_CVRP100_model', 'epoch': 30500}, 'test_episodes': 1000, 'test_batch_size': 1, 'augmentation_enable': True, 'aug_factor': 8, 'aug_batch_size': 1, 'test_data_load': {'enable': False, 'filename': '../vrp100_test_seed1234.pt'}, 'test_set_path': '../../../../VRP-Omni-modified/Vrp-Set-X/X-n401', 'test_set_opt_sol_path': '../../../../VRP-Omni-modified/Vrp-Set-A/A-n33-sol', 'test_set_name': 'A-n33'}\n",
      "[2024-04-02 15:57:59] test.py(109) : logger_params{'log_file': {'desc': 'test_cvrp100', 'filename': 'log.txt', 'filepath': './result/20240402_165757_test_cvrp100'}}\n",
      "['../../../../VRP-Omni-modified/Vrp-Set-X/X-n401/X-n401-k29.vrp']\n"
     ]
    },
    {
     "name": "stderr",
     "output_type": "stream",
     "text": [
      "/home/xunj/miniconda3/lib/python3.11/site-packages/torch/__init__.py:614: UserWarning: torch.set_default_tensor_type() is deprecated as of PyTorch 2.1, please use torch.set_default_dtype() and torch.set_default_device() as alternatives. (Triggered internally at /opt/conda/conda-bld/pytorch_1699449183005/work/torch/csrc/tensor/python_tensor.cpp:451.)\n",
      "  _C._set_default_tensor_type(t)\n"
     ]
    },
    {
     "name": "stdout",
     "output_type": "stream",
     "text": [
      "[2024-04-02 15:58:00] CVRPTester.py(130) : episode   1/  1, Elapsed[0.01m], Remain[0.00m], score:74.798, aug_score:73.173\n",
      "[2024-04-02 15:58:00] CVRPTester.py(136) :  *** Test Done *** \n",
      "[2024-04-02 15:58:00] CVRPTester.py(137) :  NO-AUG SCORE: 74.7976 \n",
      "[2024-04-02 15:58:00] CVRPTester.py(138) :  AUGMENTATION SCORE: 73.1732 \n",
      ">> Evaluation on ../../../../VRP-Omni-modified/Vrp-Set-X/X-n401 finished within 0.78s\n",
      ">> Save final results to res/X-n401\n",
      "Test on \" ../../../../VRP-Omni-modified/Vrp-Set-X/X-n401 \" Success\n",
      "-----------------------------------------------------------------------------------------------------------------\n",
      "[2024-04-02 15:58:03] test.py(107) : DEBUG_MODE: False\n",
      "[2024-04-02 15:58:03] test.py(108) : USE_CUDA: True, CUDA_DEVICE_NUM: 0\n",
      "[2024-04-02 15:58:03] test.py(109) : env_params{'problem_size': 100, 'pomo_size': 100}\n",
      "[2024-04-02 15:58:03] test.py(109) : model_params{'embedding_dim': 128, 'sqrt_embedding_dim': 11.313708498984761, 'encoder_layer_num': 6, 'qkv_dim': 16, 'head_num': 8, 'logit_clipping': 10, 'ff_hidden_dim': 512, 'eval_type': 'argmax'}\n",
      "[2024-04-02 15:58:03] test.py(109) : tester_params{'use_cuda': True, 'cuda_device_num': 0, 'model_load': {'path': './result/saved_CVRP100_model', 'epoch': 30500}, 'test_episodes': 1000, 'test_batch_size': 1, 'augmentation_enable': True, 'aug_factor': 8, 'aug_batch_size': 1, 'test_data_load': {'enable': False, 'filename': '../vrp100_test_seed1234.pt'}, 'test_set_path': '../../../../VRP-Omni-modified/Vrp-Set-X/X-n411', 'test_set_opt_sol_path': '../../../../VRP-Omni-modified/Vrp-Set-A/A-n33-sol', 'test_set_name': 'A-n33'}\n",
      "[2024-04-02 15:58:03] test.py(109) : logger_params{'log_file': {'desc': 'test_cvrp100', 'filename': 'log.txt', 'filepath': './result/20240402_165801_test_cvrp100'}}\n",
      "['../../../../VRP-Omni-modified/Vrp-Set-X/X-n411/X-n411-k19.vrp']\n"
     ]
    },
    {
     "name": "stderr",
     "output_type": "stream",
     "text": [
      "/home/xunj/miniconda3/lib/python3.11/site-packages/torch/__init__.py:614: UserWarning: torch.set_default_tensor_type() is deprecated as of PyTorch 2.1, please use torch.set_default_dtype() and torch.set_default_device() as alternatives. (Triggered internally at /opt/conda/conda-bld/pytorch_1699449183005/work/torch/csrc/tensor/python_tensor.cpp:451.)\n",
      "  _C._set_default_tensor_type(t)\n"
     ]
    },
    {
     "name": "stdout",
     "output_type": "stream",
     "text": [
      "[2024-04-02 15:58:04] CVRPTester.py(130) : episode   1/  1, Elapsed[0.01m], Remain[0.00m], score:26.914, aug_score:25.297\n",
      "[2024-04-02 15:58:04] CVRPTester.py(136) :  *** Test Done *** \n",
      "[2024-04-02 15:58:04] CVRPTester.py(137) :  NO-AUG SCORE: 26.9137 \n",
      "[2024-04-02 15:58:04] CVRPTester.py(138) :  AUGMENTATION SCORE: 25.2965 \n",
      ">> Evaluation on ../../../../VRP-Omni-modified/Vrp-Set-X/X-n411 finished within 0.79s\n",
      ">> Save final results to res/X-n411\n",
      "Test on \" ../../../../VRP-Omni-modified/Vrp-Set-X/X-n411 \" Success\n",
      "-----------------------------------------------------------------------------------------------------------------\n",
      "[2024-04-02 15:58:06] test.py(107) : DEBUG_MODE: False\n",
      "[2024-04-02 15:58:06] test.py(108) : USE_CUDA: True, CUDA_DEVICE_NUM: 0\n",
      "[2024-04-02 15:58:06] test.py(109) : env_params{'problem_size': 100, 'pomo_size': 100}\n",
      "[2024-04-02 15:58:06] test.py(109) : model_params{'embedding_dim': 128, 'sqrt_embedding_dim': 11.313708498984761, 'encoder_layer_num': 6, 'qkv_dim': 16, 'head_num': 8, 'logit_clipping': 10, 'ff_hidden_dim': 512, 'eval_type': 'argmax'}\n",
      "[2024-04-02 15:58:06] test.py(109) : tester_params{'use_cuda': True, 'cuda_device_num': 0, 'model_load': {'path': './result/saved_CVRP100_model', 'epoch': 30500}, 'test_episodes': 1000, 'test_batch_size': 1, 'augmentation_enable': True, 'aug_factor': 8, 'aug_batch_size': 1, 'test_data_load': {'enable': False, 'filename': '../vrp100_test_seed1234.pt'}, 'test_set_path': '../../../../VRP-Omni-modified/Vrp-Set-X/X-n420', 'test_set_opt_sol_path': '../../../../VRP-Omni-modified/Vrp-Set-A/A-n33-sol', 'test_set_name': 'A-n33'}\n",
      "[2024-04-02 15:58:06] test.py(109) : logger_params{'log_file': {'desc': 'test_cvrp100', 'filename': 'log.txt', 'filepath': './result/20240402_165805_test_cvrp100'}}\n",
      "['../../../../VRP-Omni-modified/Vrp-Set-X/X-n420/X-n420-k130.vrp']\n"
     ]
    },
    {
     "name": "stderr",
     "output_type": "stream",
     "text": [
      "/home/xunj/miniconda3/lib/python3.11/site-packages/torch/__init__.py:614: UserWarning: torch.set_default_tensor_type() is deprecated as of PyTorch 2.1, please use torch.set_default_dtype() and torch.set_default_device() as alternatives. (Triggered internally at /opt/conda/conda-bld/pytorch_1699449183005/work/torch/csrc/tensor/python_tensor.cpp:451.)\n",
      "  _C._set_default_tensor_type(t)\n"
     ]
    },
    {
     "name": "stdout",
     "output_type": "stream",
     "text": [
      "[2024-04-02 15:58:08] CVRPTester.py(130) : episode   1/  1, Elapsed[0.02m], Remain[0.00m], score:132.081, aug_score:127.483\n",
      "[2024-04-02 15:58:08] CVRPTester.py(136) :  *** Test Done *** \n",
      "[2024-04-02 15:58:08] CVRPTester.py(137) :  NO-AUG SCORE: 132.0812 \n",
      "[2024-04-02 15:58:08] CVRPTester.py(138) :  AUGMENTATION SCORE: 127.4827 \n",
      ">> Evaluation on ../../../../VRP-Omni-modified/Vrp-Set-X/X-n420 finished within 0.98s\n",
      ">> Save final results to res/X-n420\n",
      "Test on \" ../../../../VRP-Omni-modified/Vrp-Set-X/X-n420 \" Success\n",
      "-----------------------------------------------------------------------------------------------------------------\n",
      "[2024-04-02 15:58:10] test.py(107) : DEBUG_MODE: False\n",
      "[2024-04-02 15:58:10] test.py(108) : USE_CUDA: True, CUDA_DEVICE_NUM: 0\n",
      "[2024-04-02 15:58:10] test.py(109) : env_params{'problem_size': 100, 'pomo_size': 100}\n",
      "[2024-04-02 15:58:10] test.py(109) : model_params{'embedding_dim': 128, 'sqrt_embedding_dim': 11.313708498984761, 'encoder_layer_num': 6, 'qkv_dim': 16, 'head_num': 8, 'logit_clipping': 10, 'ff_hidden_dim': 512, 'eval_type': 'argmax'}\n",
      "[2024-04-02 15:58:10] test.py(109) : tester_params{'use_cuda': True, 'cuda_device_num': 0, 'model_load': {'path': './result/saved_CVRP100_model', 'epoch': 30500}, 'test_episodes': 1000, 'test_batch_size': 1, 'augmentation_enable': True, 'aug_factor': 8, 'aug_batch_size': 1, 'test_data_load': {'enable': False, 'filename': '../vrp100_test_seed1234.pt'}, 'test_set_path': '../../../../VRP-Omni-modified/Vrp-Set-X/X-n429', 'test_set_opt_sol_path': '../../../../VRP-Omni-modified/Vrp-Set-A/A-n33-sol', 'test_set_name': 'A-n33'}\n",
      "[2024-04-02 15:58:10] test.py(109) : logger_params{'log_file': {'desc': 'test_cvrp100', 'filename': 'log.txt', 'filepath': './result/20240402_165809_test_cvrp100'}}\n",
      "['../../../../VRP-Omni-modified/Vrp-Set-X/X-n429/X-n429-k61.vrp']\n"
     ]
    },
    {
     "name": "stderr",
     "output_type": "stream",
     "text": [
      "/home/xunj/miniconda3/lib/python3.11/site-packages/torch/__init__.py:614: UserWarning: torch.set_default_tensor_type() is deprecated as of PyTorch 2.1, please use torch.set_default_dtype() and torch.set_default_device() as alternatives. (Triggered internally at /opt/conda/conda-bld/pytorch_1699449183005/work/torch/csrc/tensor/python_tensor.cpp:451.)\n",
      "  _C._set_default_tensor_type(t)\n"
     ]
    },
    {
     "name": "stdout",
     "output_type": "stream",
     "text": [
      "[2024-04-02 15:58:11] CVRPTester.py(130) : episode   1/  1, Elapsed[0.02m], Remain[0.00m], score:85.249, aug_score:81.544\n",
      "[2024-04-02 15:58:11] CVRPTester.py(136) :  *** Test Done *** \n",
      "[2024-04-02 15:58:11] CVRPTester.py(137) :  NO-AUG SCORE: 85.2485 \n",
      "[2024-04-02 15:58:11] CVRPTester.py(138) :  AUGMENTATION SCORE: 81.5445 \n",
      ">> Evaluation on ../../../../VRP-Omni-modified/Vrp-Set-X/X-n429 finished within 0.94s\n",
      ">> Save final results to res/X-n429\n",
      "Test on \" ../../../../VRP-Omni-modified/Vrp-Set-X/X-n429 \" Success\n",
      "-----------------------------------------------------------------------------------------------------------------\n",
      "[2024-04-02 15:58:14] test.py(107) : DEBUG_MODE: False\n",
      "[2024-04-02 15:58:14] test.py(108) : USE_CUDA: True, CUDA_DEVICE_NUM: 0\n",
      "[2024-04-02 15:58:14] test.py(109) : env_params{'problem_size': 100, 'pomo_size': 100}\n",
      "[2024-04-02 15:58:14] test.py(109) : model_params{'embedding_dim': 128, 'sqrt_embedding_dim': 11.313708498984761, 'encoder_layer_num': 6, 'qkv_dim': 16, 'head_num': 8, 'logit_clipping': 10, 'ff_hidden_dim': 512, 'eval_type': 'argmax'}\n",
      "[2024-04-02 15:58:14] test.py(109) : tester_params{'use_cuda': True, 'cuda_device_num': 0, 'model_load': {'path': './result/saved_CVRP100_model', 'epoch': 30500}, 'test_episodes': 1000, 'test_batch_size': 1, 'augmentation_enable': True, 'aug_factor': 8, 'aug_batch_size': 1, 'test_data_load': {'enable': False, 'filename': '../vrp100_test_seed1234.pt'}, 'test_set_path': '../../../../VRP-Omni-modified/Vrp-Set-X/X-n439', 'test_set_opt_sol_path': '../../../../VRP-Omni-modified/Vrp-Set-A/A-n33-sol', 'test_set_name': 'A-n33'}\n",
      "[2024-04-02 15:58:14] test.py(109) : logger_params{'log_file': {'desc': 'test_cvrp100', 'filename': 'log.txt', 'filepath': './result/20240402_165812_test_cvrp100'}}\n",
      "['../../../../VRP-Omni-modified/Vrp-Set-X/X-n439/X-n439-k37.vrp']\n"
     ]
    },
    {
     "name": "stderr",
     "output_type": "stream",
     "text": [
      "/home/xunj/miniconda3/lib/python3.11/site-packages/torch/__init__.py:614: UserWarning: torch.set_default_tensor_type() is deprecated as of PyTorch 2.1, please use torch.set_default_dtype() and torch.set_default_device() as alternatives. (Triggered internally at /opt/conda/conda-bld/pytorch_1699449183005/work/torch/csrc/tensor/python_tensor.cpp:451.)\n",
      "  _C._set_default_tensor_type(t)\n"
     ]
    },
    {
     "name": "stdout",
     "output_type": "stream",
     "text": [
      "[2024-04-02 15:58:15] CVRPTester.py(130) : episode   1/  1, Elapsed[0.02m], Remain[0.00m], score:47.666, aug_score:46.095\n",
      "[2024-04-02 15:58:15] CVRPTester.py(136) :  *** Test Done *** \n",
      "[2024-04-02 15:58:15] CVRPTester.py(137) :  NO-AUG SCORE: 47.6655 \n",
      "[2024-04-02 15:58:15] CVRPTester.py(138) :  AUGMENTATION SCORE: 46.0952 \n",
      ">> Evaluation on ../../../../VRP-Omni-modified/Vrp-Set-X/X-n439 finished within 0.98s\n",
      ">> Save final results to res/X-n439\n",
      "Test on \" ../../../../VRP-Omni-modified/Vrp-Set-X/X-n439 \" Success\n",
      "-----------------------------------------------------------------------------------------------------------------\n",
      "[2024-04-02 15:58:18] test.py(107) : DEBUG_MODE: False\n",
      "[2024-04-02 15:58:18] test.py(108) : USE_CUDA: True, CUDA_DEVICE_NUM: 0\n",
      "[2024-04-02 15:58:18] test.py(109) : env_params{'problem_size': 100, 'pomo_size': 100}\n",
      "[2024-04-02 15:58:18] test.py(109) : model_params{'embedding_dim': 128, 'sqrt_embedding_dim': 11.313708498984761, 'encoder_layer_num': 6, 'qkv_dim': 16, 'head_num': 8, 'logit_clipping': 10, 'ff_hidden_dim': 512, 'eval_type': 'argmax'}\n",
      "[2024-04-02 15:58:18] test.py(109) : tester_params{'use_cuda': True, 'cuda_device_num': 0, 'model_load': {'path': './result/saved_CVRP100_model', 'epoch': 30500}, 'test_episodes': 1000, 'test_batch_size': 1, 'augmentation_enable': True, 'aug_factor': 8, 'aug_batch_size': 1, 'test_data_load': {'enable': False, 'filename': '../vrp100_test_seed1234.pt'}, 'test_set_path': '../../../../VRP-Omni-modified/Vrp-Set-X/X-n449', 'test_set_opt_sol_path': '../../../../VRP-Omni-modified/Vrp-Set-A/A-n33-sol', 'test_set_name': 'A-n33'}\n",
      "[2024-04-02 15:58:18] test.py(109) : logger_params{'log_file': {'desc': 'test_cvrp100', 'filename': 'log.txt', 'filepath': './result/20240402_165816_test_cvrp100'}}\n",
      "['../../../../VRP-Omni-modified/Vrp-Set-X/X-n449/X-n449-k29.vrp']\n"
     ]
    },
    {
     "name": "stderr",
     "output_type": "stream",
     "text": [
      "/home/xunj/miniconda3/lib/python3.11/site-packages/torch/__init__.py:614: UserWarning: torch.set_default_tensor_type() is deprecated as of PyTorch 2.1, please use torch.set_default_dtype() and torch.set_default_device() as alternatives. (Triggered internally at /opt/conda/conda-bld/pytorch_1699449183005/work/torch/csrc/tensor/python_tensor.cpp:451.)\n",
      "  _C._set_default_tensor_type(t)\n"
     ]
    },
    {
     "name": "stdout",
     "output_type": "stream",
     "text": [
      "[2024-04-02 15:58:19] CVRPTester.py(130) : episode   1/  1, Elapsed[0.02m], Remain[0.00m], score:68.645, aug_score:67.915\n",
      "[2024-04-02 15:58:19] CVRPTester.py(136) :  *** Test Done *** \n",
      "[2024-04-02 15:58:19] CVRPTester.py(137) :  NO-AUG SCORE: 68.6448 \n",
      "[2024-04-02 15:58:19] CVRPTester.py(138) :  AUGMENTATION SCORE: 67.9149 \n",
      ">> Evaluation on ../../../../VRP-Omni-modified/Vrp-Set-X/X-n449 finished within 0.90s\n",
      ">> Save final results to res/X-n449\n",
      "Test on \" ../../../../VRP-Omni-modified/Vrp-Set-X/X-n449 \" Success\n",
      "-----------------------------------------------------------------------------------------------------------------\n",
      "[2024-04-02 15:58:21] test.py(107) : DEBUG_MODE: False\n",
      "[2024-04-02 15:58:21] test.py(108) : USE_CUDA: True, CUDA_DEVICE_NUM: 0\n",
      "[2024-04-02 15:58:21] test.py(109) : env_params{'problem_size': 100, 'pomo_size': 100}\n",
      "[2024-04-02 15:58:21] test.py(109) : model_params{'embedding_dim': 128, 'sqrt_embedding_dim': 11.313708498984761, 'encoder_layer_num': 6, 'qkv_dim': 16, 'head_num': 8, 'logit_clipping': 10, 'ff_hidden_dim': 512, 'eval_type': 'argmax'}\n",
      "[2024-04-02 15:58:21] test.py(109) : tester_params{'use_cuda': True, 'cuda_device_num': 0, 'model_load': {'path': './result/saved_CVRP100_model', 'epoch': 30500}, 'test_episodes': 1000, 'test_batch_size': 1, 'augmentation_enable': True, 'aug_factor': 8, 'aug_batch_size': 1, 'test_data_load': {'enable': False, 'filename': '../vrp100_test_seed1234.pt'}, 'test_set_path': '../../../../VRP-Omni-modified/Vrp-Set-X/X-n459', 'test_set_opt_sol_path': '../../../../VRP-Omni-modified/Vrp-Set-A/A-n33-sol', 'test_set_name': 'A-n33'}\n",
      "[2024-04-02 15:58:21] test.py(109) : logger_params{'log_file': {'desc': 'test_cvrp100', 'filename': 'log.txt', 'filepath': './result/20240402_165820_test_cvrp100'}}\n",
      "['../../../../VRP-Omni-modified/Vrp-Set-X/X-n459/X-n459-k26.vrp']\n"
     ]
    },
    {
     "name": "stderr",
     "output_type": "stream",
     "text": [
      "/home/xunj/miniconda3/lib/python3.11/site-packages/torch/__init__.py:614: UserWarning: torch.set_default_tensor_type() is deprecated as of PyTorch 2.1, please use torch.set_default_dtype() and torch.set_default_device() as alternatives. (Triggered internally at /opt/conda/conda-bld/pytorch_1699449183005/work/torch/csrc/tensor/python_tensor.cpp:451.)\n",
      "  _C._set_default_tensor_type(t)\n"
     ]
    },
    {
     "name": "stdout",
     "output_type": "stream",
     "text": [
      "[2024-04-02 15:58:23] CVRPTester.py(130) : episode   1/  1, Elapsed[0.02m], Remain[0.00m], score:31.656, aug_score:31.656\n",
      "[2024-04-02 15:58:23] CVRPTester.py(136) :  *** Test Done *** \n",
      "[2024-04-02 15:58:23] CVRPTester.py(137) :  NO-AUG SCORE: 31.6556 \n",
      "[2024-04-02 15:58:23] CVRPTester.py(138) :  AUGMENTATION SCORE: 31.6556 \n",
      ">> Evaluation on ../../../../VRP-Omni-modified/Vrp-Set-X/X-n459 finished within 0.94s\n",
      ">> Save final results to res/X-n459\n",
      "Test on \" ../../../../VRP-Omni-modified/Vrp-Set-X/X-n459 \" Success\n",
      "-----------------------------------------------------------------------------------------------------------------\n",
      "[2024-04-02 15:58:25] test.py(107) : DEBUG_MODE: False\n",
      "[2024-04-02 15:58:25] test.py(108) : USE_CUDA: True, CUDA_DEVICE_NUM: 0\n",
      "[2024-04-02 15:58:25] test.py(109) : env_params{'problem_size': 100, 'pomo_size': 100}\n",
      "[2024-04-02 15:58:25] test.py(109) : model_params{'embedding_dim': 128, 'sqrt_embedding_dim': 11.313708498984761, 'encoder_layer_num': 6, 'qkv_dim': 16, 'head_num': 8, 'logit_clipping': 10, 'ff_hidden_dim': 512, 'eval_type': 'argmax'}\n",
      "[2024-04-02 15:58:25] test.py(109) : tester_params{'use_cuda': True, 'cuda_device_num': 0, 'model_load': {'path': './result/saved_CVRP100_model', 'epoch': 30500}, 'test_episodes': 1000, 'test_batch_size': 1, 'augmentation_enable': True, 'aug_factor': 8, 'aug_batch_size': 1, 'test_data_load': {'enable': False, 'filename': '../vrp100_test_seed1234.pt'}, 'test_set_path': '../../../../VRP-Omni-modified/Vrp-Set-X/X-n469', 'test_set_opt_sol_path': '../../../../VRP-Omni-modified/Vrp-Set-A/A-n33-sol', 'test_set_name': 'A-n33'}\n",
      "[2024-04-02 15:58:25] test.py(109) : logger_params{'log_file': {'desc': 'test_cvrp100', 'filename': 'log.txt', 'filepath': './result/20240402_165824_test_cvrp100'}}\n",
      "['../../../../VRP-Omni-modified/Vrp-Set-X/X-n469/X-n469-k138.vrp']\n"
     ]
    },
    {
     "name": "stderr",
     "output_type": "stream",
     "text": [
      "/home/xunj/miniconda3/lib/python3.11/site-packages/torch/__init__.py:614: UserWarning: torch.set_default_tensor_type() is deprecated as of PyTorch 2.1, please use torch.set_default_dtype() and torch.set_default_device() as alternatives. (Triggered internally at /opt/conda/conda-bld/pytorch_1699449183005/work/torch/csrc/tensor/python_tensor.cpp:451.)\n",
      "  _C._set_default_tensor_type(t)\n"
     ]
    },
    {
     "name": "stdout",
     "output_type": "stream",
     "text": [
      "[2024-04-02 15:58:27] CVRPTester.py(130) : episode   1/  1, Elapsed[0.02m], Remain[0.00m], score:252.284, aug_score:252.284\n",
      "[2024-04-02 15:58:27] CVRPTester.py(136) :  *** Test Done *** \n",
      "[2024-04-02 15:58:27] CVRPTester.py(137) :  NO-AUG SCORE: 252.2844 \n",
      "[2024-04-02 15:58:27] CVRPTester.py(138) :  AUGMENTATION SCORE: 252.2844 \n",
      ">> Evaluation on ../../../../VRP-Omni-modified/Vrp-Set-X/X-n469 finished within 1.15s\n",
      ">> Save final results to res/X-n469\n",
      "Test on \" ../../../../VRP-Omni-modified/Vrp-Set-X/X-n469 \" Success\n",
      "-----------------------------------------------------------------------------------------------------------------\n",
      "[2024-04-02 15:58:29] test.py(107) : DEBUG_MODE: False\n",
      "[2024-04-02 15:58:29] test.py(108) : USE_CUDA: True, CUDA_DEVICE_NUM: 0\n",
      "[2024-04-02 15:58:29] test.py(109) : env_params{'problem_size': 100, 'pomo_size': 100}\n",
      "[2024-04-02 15:58:29] test.py(109) : model_params{'embedding_dim': 128, 'sqrt_embedding_dim': 11.313708498984761, 'encoder_layer_num': 6, 'qkv_dim': 16, 'head_num': 8, 'logit_clipping': 10, 'ff_hidden_dim': 512, 'eval_type': 'argmax'}\n",
      "[2024-04-02 15:58:29] test.py(109) : tester_params{'use_cuda': True, 'cuda_device_num': 0, 'model_load': {'path': './result/saved_CVRP100_model', 'epoch': 30500}, 'test_episodes': 1000, 'test_batch_size': 1, 'augmentation_enable': True, 'aug_factor': 8, 'aug_batch_size': 1, 'test_data_load': {'enable': False, 'filename': '../vrp100_test_seed1234.pt'}, 'test_set_path': '../../../../VRP-Omni-modified/Vrp-Set-X/X-n480', 'test_set_opt_sol_path': '../../../../VRP-Omni-modified/Vrp-Set-A/A-n33-sol', 'test_set_name': 'A-n33'}\n",
      "[2024-04-02 15:58:29] test.py(109) : logger_params{'log_file': {'desc': 'test_cvrp100', 'filename': 'log.txt', 'filepath': './result/20240402_165828_test_cvrp100'}}\n",
      "['../../../../VRP-Omni-modified/Vrp-Set-X/X-n480/X-n480-k70.vrp']\n"
     ]
    },
    {
     "name": "stderr",
     "output_type": "stream",
     "text": [
      "/home/xunj/miniconda3/lib/python3.11/site-packages/torch/__init__.py:614: UserWarning: torch.set_default_tensor_type() is deprecated as of PyTorch 2.1, please use torch.set_default_dtype() and torch.set_default_device() as alternatives. (Triggered internally at /opt/conda/conda-bld/pytorch_1699449183005/work/torch/csrc/tensor/python_tensor.cpp:451.)\n",
      "  _C._set_default_tensor_type(t)\n"
     ]
    },
    {
     "name": "stdout",
     "output_type": "stream",
     "text": [
      "[2024-04-02 15:58:31] CVRPTester.py(130) : episode   1/  1, Elapsed[0.02m], Remain[0.00m], score:111.560, aug_score:104.290\n",
      "[2024-04-02 15:58:31] CVRPTester.py(136) :  *** Test Done *** \n",
      "[2024-04-02 15:58:31] CVRPTester.py(137) :  NO-AUG SCORE: 111.5600 \n",
      "[2024-04-02 15:58:31] CVRPTester.py(138) :  AUGMENTATION SCORE: 104.2902 \n",
      ">> Evaluation on ../../../../VRP-Omni-modified/Vrp-Set-X/X-n480 finished within 1.07s\n",
      ">> Save final results to res/X-n480\n",
      "Test on \" ../../../../VRP-Omni-modified/Vrp-Set-X/X-n480 \" Success\n",
      "-----------------------------------------------------------------------------------------------------------------\n",
      "[2024-04-02 15:58:33] test.py(107) : DEBUG_MODE: False\n",
      "[2024-04-02 15:58:33] test.py(108) : USE_CUDA: True, CUDA_DEVICE_NUM: 0\n",
      "[2024-04-02 15:58:33] test.py(109) : env_params{'problem_size': 100, 'pomo_size': 100}\n",
      "[2024-04-02 15:58:33] test.py(109) : model_params{'embedding_dim': 128, 'sqrt_embedding_dim': 11.313708498984761, 'encoder_layer_num': 6, 'qkv_dim': 16, 'head_num': 8, 'logit_clipping': 10, 'ff_hidden_dim': 512, 'eval_type': 'argmax'}\n",
      "[2024-04-02 15:58:33] test.py(109) : tester_params{'use_cuda': True, 'cuda_device_num': 0, 'model_load': {'path': './result/saved_CVRP100_model', 'epoch': 30500}, 'test_episodes': 1000, 'test_batch_size': 1, 'augmentation_enable': True, 'aug_factor': 8, 'aug_batch_size': 1, 'test_data_load': {'enable': False, 'filename': '../vrp100_test_seed1234.pt'}, 'test_set_path': '../../../../VRP-Omni-modified/Vrp-Set-X/X-n491', 'test_set_opt_sol_path': '../../../../VRP-Omni-modified/Vrp-Set-A/A-n33-sol', 'test_set_name': 'A-n33'}\n",
      "[2024-04-02 15:58:33] test.py(109) : logger_params{'log_file': {'desc': 'test_cvrp100', 'filename': 'log.txt', 'filepath': './result/20240402_165832_test_cvrp100'}}\n",
      "['../../../../VRP-Omni-modified/Vrp-Set-X/X-n491/X-n491-k59.vrp']\n"
     ]
    },
    {
     "name": "stderr",
     "output_type": "stream",
     "text": [
      "/home/xunj/miniconda3/lib/python3.11/site-packages/torch/__init__.py:614: UserWarning: torch.set_default_tensor_type() is deprecated as of PyTorch 2.1, please use torch.set_default_dtype() and torch.set_default_device() as alternatives. (Triggered internally at /opt/conda/conda-bld/pytorch_1699449183005/work/torch/csrc/tensor/python_tensor.cpp:451.)\n",
      "  _C._set_default_tensor_type(t)\n"
     ]
    },
    {
     "name": "stdout",
     "output_type": "stream",
     "text": [
      "[2024-04-02 15:58:34] CVRPTester.py(130) : episode   1/  1, Elapsed[0.02m], Remain[0.00m], score:84.354, aug_score:80.620\n",
      "[2024-04-02 15:58:34] CVRPTester.py(136) :  *** Test Done *** \n",
      "[2024-04-02 15:58:34] CVRPTester.py(137) :  NO-AUG SCORE: 84.3541 \n",
      "[2024-04-02 15:58:34] CVRPTester.py(138) :  AUGMENTATION SCORE: 80.6200 \n",
      ">> Evaluation on ../../../../VRP-Omni-modified/Vrp-Set-X/X-n491 finished within 1.07s\n",
      ">> Save final results to res/X-n491\n",
      "Test on \" ../../../../VRP-Omni-modified/Vrp-Set-X/X-n491 \" Success\n",
      "-----------------------------------------------------------------------------------------------------------------\n",
      "[2024-04-02 15:58:37] test.py(107) : DEBUG_MODE: False\n",
      "[2024-04-02 15:58:37] test.py(108) : USE_CUDA: True, CUDA_DEVICE_NUM: 0\n",
      "[2024-04-02 15:58:37] test.py(109) : env_params{'problem_size': 100, 'pomo_size': 100}\n",
      "[2024-04-02 15:58:37] test.py(109) : model_params{'embedding_dim': 128, 'sqrt_embedding_dim': 11.313708498984761, 'encoder_layer_num': 6, 'qkv_dim': 16, 'head_num': 8, 'logit_clipping': 10, 'ff_hidden_dim': 512, 'eval_type': 'argmax'}\n",
      "[2024-04-02 15:58:37] test.py(109) : tester_params{'use_cuda': True, 'cuda_device_num': 0, 'model_load': {'path': './result/saved_CVRP100_model', 'epoch': 30500}, 'test_episodes': 1000, 'test_batch_size': 1, 'augmentation_enable': True, 'aug_factor': 8, 'aug_batch_size': 1, 'test_data_load': {'enable': False, 'filename': '../vrp100_test_seed1234.pt'}, 'test_set_path': '../../../../VRP-Omni-modified/Vrp-Set-X/X-n502', 'test_set_opt_sol_path': '../../../../VRP-Omni-modified/Vrp-Set-A/A-n33-sol', 'test_set_name': 'A-n33'}\n",
      "[2024-04-02 15:58:37] test.py(109) : logger_params{'log_file': {'desc': 'test_cvrp100', 'filename': 'log.txt', 'filepath': './result/20240402_165835_test_cvrp100'}}\n",
      "['../../../../VRP-Omni-modified/Vrp-Set-X/X-n502/X-n502-k39.vrp']\n"
     ]
    },
    {
     "name": "stderr",
     "output_type": "stream",
     "text": [
      "/home/xunj/miniconda3/lib/python3.11/site-packages/torch/__init__.py:614: UserWarning: torch.set_default_tensor_type() is deprecated as of PyTorch 2.1, please use torch.set_default_dtype() and torch.set_default_device() as alternatives. (Triggered internally at /opt/conda/conda-bld/pytorch_1699449183005/work/torch/csrc/tensor/python_tensor.cpp:451.)\n",
      "  _C._set_default_tensor_type(t)\n"
     ]
    },
    {
     "name": "stdout",
     "output_type": "stream",
     "text": [
      "[2024-04-02 15:58:39] CVRPTester.py(130) : episode   1/  1, Elapsed[0.02m], Remain[0.00m], score:106.955, aug_score:85.701\n",
      "[2024-04-02 15:58:39] CVRPTester.py(136) :  *** Test Done *** \n",
      "[2024-04-02 15:58:39] CVRPTester.py(137) :  NO-AUG SCORE: 106.9550 \n",
      "[2024-04-02 15:58:39] CVRPTester.py(138) :  AUGMENTATION SCORE: 85.7012 \n",
      ">> Evaluation on ../../../../VRP-Omni-modified/Vrp-Set-X/X-n502 finished within 1.22s\n",
      ">> Save final results to res/X-n502\n",
      "Test on \" ../../../../VRP-Omni-modified/Vrp-Set-X/X-n502 \" Success\n",
      "-----------------------------------------------------------------------------------------------------------------\n",
      "[2024-04-02 15:58:41] test.py(107) : DEBUG_MODE: False\n",
      "[2024-04-02 15:58:41] test.py(108) : USE_CUDA: True, CUDA_DEVICE_NUM: 0\n",
      "[2024-04-02 15:58:41] test.py(109) : env_params{'problem_size': 100, 'pomo_size': 100}\n",
      "[2024-04-02 15:58:41] test.py(109) : model_params{'embedding_dim': 128, 'sqrt_embedding_dim': 11.313708498984761, 'encoder_layer_num': 6, 'qkv_dim': 16, 'head_num': 8, 'logit_clipping': 10, 'ff_hidden_dim': 512, 'eval_type': 'argmax'}\n",
      "[2024-04-02 15:58:41] test.py(109) : tester_params{'use_cuda': True, 'cuda_device_num': 0, 'model_load': {'path': './result/saved_CVRP100_model', 'epoch': 30500}, 'test_episodes': 1000, 'test_batch_size': 1, 'augmentation_enable': True, 'aug_factor': 8, 'aug_batch_size': 1, 'test_data_load': {'enable': False, 'filename': '../vrp100_test_seed1234.pt'}, 'test_set_path': '../../../../VRP-Omni-modified/Vrp-Set-X/X-n513', 'test_set_opt_sol_path': '../../../../VRP-Omni-modified/Vrp-Set-A/A-n33-sol', 'test_set_name': 'A-n33'}\n",
      "[2024-04-02 15:58:41] test.py(109) : logger_params{'log_file': {'desc': 'test_cvrp100', 'filename': 'log.txt', 'filepath': './result/20240402_165840_test_cvrp100'}}\n",
      "['../../../../VRP-Omni-modified/Vrp-Set-X/X-n513/X-n513-k21.vrp']\n"
     ]
    },
    {
     "name": "stderr",
     "output_type": "stream",
     "text": [
      "/home/xunj/miniconda3/lib/python3.11/site-packages/torch/__init__.py:614: UserWarning: torch.set_default_tensor_type() is deprecated as of PyTorch 2.1, please use torch.set_default_dtype() and torch.set_default_device() as alternatives. (Triggered internally at /opt/conda/conda-bld/pytorch_1699449183005/work/torch/csrc/tensor/python_tensor.cpp:451.)\n",
      "  _C._set_default_tensor_type(t)\n"
     ]
    },
    {
     "name": "stdout",
     "output_type": "stream",
     "text": [
      "[2024-04-02 15:58:43] CVRPTester.py(130) : episode   1/  1, Elapsed[0.02m], Remain[0.00m], score:38.105, aug_score:34.516\n",
      "[2024-04-02 15:58:43] CVRPTester.py(136) :  *** Test Done *** \n",
      "[2024-04-02 15:58:43] CVRPTester.py(137) :  NO-AUG SCORE: 38.1049 \n",
      "[2024-04-02 15:58:43] CVRPTester.py(138) :  AUGMENTATION SCORE: 34.5163 \n",
      ">> Evaluation on ../../../../VRP-Omni-modified/Vrp-Set-X/X-n513 finished within 1.11s\n",
      ">> Save final results to res/X-n513\n",
      "Test on \" ../../../../VRP-Omni-modified/Vrp-Set-X/X-n513 \" Success\n",
      "-----------------------------------------------------------------------------------------------------------------\n",
      "[2024-04-02 15:58:45] test.py(107) : DEBUG_MODE: False\n",
      "[2024-04-02 15:58:45] test.py(108) : USE_CUDA: True, CUDA_DEVICE_NUM: 0\n",
      "[2024-04-02 15:58:45] test.py(109) : env_params{'problem_size': 100, 'pomo_size': 100}\n",
      "[2024-04-02 15:58:45] test.py(109) : model_params{'embedding_dim': 128, 'sqrt_embedding_dim': 11.313708498984761, 'encoder_layer_num': 6, 'qkv_dim': 16, 'head_num': 8, 'logit_clipping': 10, 'ff_hidden_dim': 512, 'eval_type': 'argmax'}\n",
      "[2024-04-02 15:58:45] test.py(109) : tester_params{'use_cuda': True, 'cuda_device_num': 0, 'model_load': {'path': './result/saved_CVRP100_model', 'epoch': 30500}, 'test_episodes': 1000, 'test_batch_size': 1, 'augmentation_enable': True, 'aug_factor': 8, 'aug_batch_size': 1, 'test_data_load': {'enable': False, 'filename': '../vrp100_test_seed1234.pt'}, 'test_set_path': '../../../../VRP-Omni-modified/Vrp-Set-X/X-n524', 'test_set_opt_sol_path': '../../../../VRP-Omni-modified/Vrp-Set-A/A-n33-sol', 'test_set_name': 'A-n33'}\n",
      "[2024-04-02 15:58:45] test.py(109) : logger_params{'log_file': {'desc': 'test_cvrp100', 'filename': 'log.txt', 'filepath': './result/20240402_165844_test_cvrp100'}}\n",
      "['../../../../VRP-Omni-modified/Vrp-Set-X/X-n524/X-n524-k153.vrp']\n"
     ]
    },
    {
     "name": "stderr",
     "output_type": "stream",
     "text": [
      "/home/xunj/miniconda3/lib/python3.11/site-packages/torch/__init__.py:614: UserWarning: torch.set_default_tensor_type() is deprecated as of PyTorch 2.1, please use torch.set_default_dtype() and torch.set_default_device() as alternatives. (Triggered internally at /opt/conda/conda-bld/pytorch_1699449183005/work/torch/csrc/tensor/python_tensor.cpp:451.)\n",
      "  _C._set_default_tensor_type(t)\n"
     ]
    },
    {
     "name": "stdout",
     "output_type": "stream",
     "text": [
      "[2024-04-02 15:58:47] CVRPTester.py(130) : episode   1/  1, Elapsed[0.02m], Remain[0.00m], score:198.477, aug_score:182.406\n",
      "[2024-04-02 15:58:47] CVRPTester.py(136) :  *** Test Done *** \n",
      "[2024-04-02 15:58:47] CVRPTester.py(137) :  NO-AUG SCORE: 198.4771 \n",
      "[2024-04-02 15:58:47] CVRPTester.py(138) :  AUGMENTATION SCORE: 182.4064 \n",
      ">> Evaluation on ../../../../VRP-Omni-modified/Vrp-Set-X/X-n524 finished within 1.46s\n",
      ">> Save final results to res/X-n524\n",
      "Test on \" ../../../../VRP-Omni-modified/Vrp-Set-X/X-n524 \" Success\n",
      "-----------------------------------------------------------------------------------------------------------------\n",
      "[2024-04-02 15:58:49] test.py(107) : DEBUG_MODE: False\n",
      "[2024-04-02 15:58:49] test.py(108) : USE_CUDA: True, CUDA_DEVICE_NUM: 0\n",
      "[2024-04-02 15:58:49] test.py(109) : env_params{'problem_size': 100, 'pomo_size': 100}\n",
      "[2024-04-02 15:58:49] test.py(109) : model_params{'embedding_dim': 128, 'sqrt_embedding_dim': 11.313708498984761, 'encoder_layer_num': 6, 'qkv_dim': 16, 'head_num': 8, 'logit_clipping': 10, 'ff_hidden_dim': 512, 'eval_type': 'argmax'}\n",
      "[2024-04-02 15:58:49] test.py(109) : tester_params{'use_cuda': True, 'cuda_device_num': 0, 'model_load': {'path': './result/saved_CVRP100_model', 'epoch': 30500}, 'test_episodes': 1000, 'test_batch_size': 1, 'augmentation_enable': True, 'aug_factor': 8, 'aug_batch_size': 1, 'test_data_load': {'enable': False, 'filename': '../vrp100_test_seed1234.pt'}, 'test_set_path': '../../../../VRP-Omni-modified/Vrp-Set-X/X-n536', 'test_set_opt_sol_path': '../../../../VRP-Omni-modified/Vrp-Set-A/A-n33-sol', 'test_set_name': 'A-n33'}\n",
      "[2024-04-02 15:58:49] test.py(109) : logger_params{'log_file': {'desc': 'test_cvrp100', 'filename': 'log.txt', 'filepath': './result/20240402_165848_test_cvrp100'}}\n",
      "['../../../../VRP-Omni-modified/Vrp-Set-X/X-n536/X-n536-k96.vrp']\n"
     ]
    },
    {
     "name": "stderr",
     "output_type": "stream",
     "text": [
      "/home/xunj/miniconda3/lib/python3.11/site-packages/torch/__init__.py:614: UserWarning: torch.set_default_tensor_type() is deprecated as of PyTorch 2.1, please use torch.set_default_dtype() and torch.set_default_device() as alternatives. (Triggered internally at /opt/conda/conda-bld/pytorch_1699449183005/work/torch/csrc/tensor/python_tensor.cpp:451.)\n",
      "  _C._set_default_tensor_type(t)\n"
     ]
    },
    {
     "name": "stdout",
     "output_type": "stream",
     "text": [
      "[2024-04-02 15:58:51] CVRPTester.py(130) : episode   1/  1, Elapsed[0.02m], Remain[0.00m], score:120.972, aug_score:116.613\n",
      "[2024-04-02 15:58:51] CVRPTester.py(136) :  *** Test Done *** \n",
      "[2024-04-02 15:58:51] CVRPTester.py(137) :  NO-AUG SCORE: 120.9719 \n",
      "[2024-04-02 15:58:51] CVRPTester.py(138) :  AUGMENTATION SCORE: 116.6126 \n",
      ">> Evaluation on ../../../../VRP-Omni-modified/Vrp-Set-X/X-n536 finished within 1.34s\n",
      ">> Save final results to res/X-n536\n",
      "Test on \" ../../../../VRP-Omni-modified/Vrp-Set-X/X-n536 \" Success\n",
      "-----------------------------------------------------------------------------------------------------------------\n",
      "[2024-04-02 15:58:53] test.py(107) : DEBUG_MODE: False\n",
      "[2024-04-02 15:58:53] test.py(108) : USE_CUDA: True, CUDA_DEVICE_NUM: 0\n",
      "[2024-04-02 15:58:53] test.py(109) : env_params{'problem_size': 100, 'pomo_size': 100}\n",
      "[2024-04-02 15:58:53] test.py(109) : model_params{'embedding_dim': 128, 'sqrt_embedding_dim': 11.313708498984761, 'encoder_layer_num': 6, 'qkv_dim': 16, 'head_num': 8, 'logit_clipping': 10, 'ff_hidden_dim': 512, 'eval_type': 'argmax'}\n",
      "[2024-04-02 15:58:53] test.py(109) : tester_params{'use_cuda': True, 'cuda_device_num': 0, 'model_load': {'path': './result/saved_CVRP100_model', 'epoch': 30500}, 'test_episodes': 1000, 'test_batch_size': 1, 'augmentation_enable': True, 'aug_factor': 8, 'aug_batch_size': 1, 'test_data_load': {'enable': False, 'filename': '../vrp100_test_seed1234.pt'}, 'test_set_path': '../../../../VRP-Omni-modified/Vrp-Set-X/X-n548', 'test_set_opt_sol_path': '../../../../VRP-Omni-modified/Vrp-Set-A/A-n33-sol', 'test_set_name': 'A-n33'}\n",
      "[2024-04-02 15:58:53] test.py(109) : logger_params{'log_file': {'desc': 'test_cvrp100', 'filename': 'log.txt', 'filepath': './result/20240402_165852_test_cvrp100'}}\n",
      "['../../../../VRP-Omni-modified/Vrp-Set-X/X-n548/X-n548-k50.vrp']\n"
     ]
    },
    {
     "name": "stderr",
     "output_type": "stream",
     "text": [
      "/home/xunj/miniconda3/lib/python3.11/site-packages/torch/__init__.py:614: UserWarning: torch.set_default_tensor_type() is deprecated as of PyTorch 2.1, please use torch.set_default_dtype() and torch.set_default_device() as alternatives. (Triggered internally at /opt/conda/conda-bld/pytorch_1699449183005/work/torch/csrc/tensor/python_tensor.cpp:451.)\n",
      "  _C._set_default_tensor_type(t)\n"
     ]
    },
    {
     "name": "stdout",
     "output_type": "stream",
     "text": [
      "[2024-04-02 15:58:55] CVRPTester.py(130) : episode   1/  1, Elapsed[0.02m], Remain[0.00m], score:112.169, aug_score:95.153\n",
      "[2024-04-02 15:58:55] CVRPTester.py(136) :  *** Test Done *** \n",
      "[2024-04-02 15:58:55] CVRPTester.py(137) :  NO-AUG SCORE: 112.1686 \n",
      "[2024-04-02 15:58:55] CVRPTester.py(138) :  AUGMENTATION SCORE: 95.1527 \n",
      ">> Evaluation on ../../../../VRP-Omni-modified/Vrp-Set-X/X-n548 finished within 1.34s\n",
      ">> Save final results to res/X-n548\n",
      "Test on \" ../../../../VRP-Omni-modified/Vrp-Set-X/X-n548 \" Success\n",
      "-----------------------------------------------------------------------------------------------------------------\n",
      "[2024-04-02 15:58:58] test.py(107) : DEBUG_MODE: False\n",
      "[2024-04-02 15:58:58] test.py(108) : USE_CUDA: True, CUDA_DEVICE_NUM: 0\n",
      "[2024-04-02 15:58:58] test.py(109) : env_params{'problem_size': 100, 'pomo_size': 100}\n",
      "[2024-04-02 15:58:58] test.py(109) : model_params{'embedding_dim': 128, 'sqrt_embedding_dim': 11.313708498984761, 'encoder_layer_num': 6, 'qkv_dim': 16, 'head_num': 8, 'logit_clipping': 10, 'ff_hidden_dim': 512, 'eval_type': 'argmax'}\n",
      "[2024-04-02 15:58:58] test.py(109) : tester_params{'use_cuda': True, 'cuda_device_num': 0, 'model_load': {'path': './result/saved_CVRP100_model', 'epoch': 30500}, 'test_episodes': 1000, 'test_batch_size': 1, 'augmentation_enable': True, 'aug_factor': 8, 'aug_batch_size': 1, 'test_data_load': {'enable': False, 'filename': '../vrp100_test_seed1234.pt'}, 'test_set_path': '../../../../VRP-Omni-modified/Vrp-Set-X/X-n561', 'test_set_opt_sol_path': '../../../../VRP-Omni-modified/Vrp-Set-A/A-n33-sol', 'test_set_name': 'A-n33'}\n",
      "[2024-04-02 15:58:58] test.py(109) : logger_params{'log_file': {'desc': 'test_cvrp100', 'filename': 'log.txt', 'filepath': './result/20240402_165856_test_cvrp100'}}\n",
      "['../../../../VRP-Omni-modified/Vrp-Set-X/X-n561/X-n561-k42.vrp']\n"
     ]
    },
    {
     "name": "stderr",
     "output_type": "stream",
     "text": [
      "/home/xunj/miniconda3/lib/python3.11/site-packages/torch/__init__.py:614: UserWarning: torch.set_default_tensor_type() is deprecated as of PyTorch 2.1, please use torch.set_default_dtype() and torch.set_default_device() as alternatives. (Triggered internally at /opt/conda/conda-bld/pytorch_1699449183005/work/torch/csrc/tensor/python_tensor.cpp:451.)\n",
      "  _C._set_default_tensor_type(t)\n"
     ]
    },
    {
     "name": "stdout",
     "output_type": "stream",
     "text": [
      "[2024-04-02 15:58:59] CVRPTester.py(130) : episode   1/  1, Elapsed[0.02m], Remain[0.00m], score:71.459, aug_score:70.465\n",
      "[2024-04-02 15:58:59] CVRPTester.py(136) :  *** Test Done *** \n",
      "[2024-04-02 15:58:59] CVRPTester.py(137) :  NO-AUG SCORE: 71.4589 \n",
      "[2024-04-02 15:58:59] CVRPTester.py(138) :  AUGMENTATION SCORE: 70.4652 \n",
      ">> Evaluation on ../../../../VRP-Omni-modified/Vrp-Set-X/X-n561 finished within 1.33s\n",
      ">> Save final results to res/X-n561\n",
      "Test on \" ../../../../VRP-Omni-modified/Vrp-Set-X/X-n561 \" Success\n",
      "-----------------------------------------------------------------------------------------------------------------\n",
      "[2024-04-02 15:59:02] test.py(107) : DEBUG_MODE: False\n",
      "[2024-04-02 15:59:02] test.py(108) : USE_CUDA: True, CUDA_DEVICE_NUM: 0\n",
      "[2024-04-02 15:59:02] test.py(109) : env_params{'problem_size': 100, 'pomo_size': 100}\n",
      "[2024-04-02 15:59:02] test.py(109) : model_params{'embedding_dim': 128, 'sqrt_embedding_dim': 11.313708498984761, 'encoder_layer_num': 6, 'qkv_dim': 16, 'head_num': 8, 'logit_clipping': 10, 'ff_hidden_dim': 512, 'eval_type': 'argmax'}\n",
      "[2024-04-02 15:59:02] test.py(109) : tester_params{'use_cuda': True, 'cuda_device_num': 0, 'model_load': {'path': './result/saved_CVRP100_model', 'epoch': 30500}, 'test_episodes': 1000, 'test_batch_size': 1, 'augmentation_enable': True, 'aug_factor': 8, 'aug_batch_size': 1, 'test_data_load': {'enable': False, 'filename': '../vrp100_test_seed1234.pt'}, 'test_set_path': '../../../../VRP-Omni-modified/Vrp-Set-X/X-n573', 'test_set_opt_sol_path': '../../../../VRP-Omni-modified/Vrp-Set-A/A-n33-sol', 'test_set_name': 'A-n33'}\n",
      "[2024-04-02 15:59:02] test.py(109) : logger_params{'log_file': {'desc': 'test_cvrp100', 'filename': 'log.txt', 'filepath': './result/20240402_165900_test_cvrp100'}}\n",
      "['../../../../VRP-Omni-modified/Vrp-Set-X/X-n573/X-n573-k30.vrp']\n"
     ]
    },
    {
     "name": "stderr",
     "output_type": "stream",
     "text": [
      "/home/xunj/miniconda3/lib/python3.11/site-packages/torch/__init__.py:614: UserWarning: torch.set_default_tensor_type() is deprecated as of PyTorch 2.1, please use torch.set_default_dtype() and torch.set_default_device() as alternatives. (Triggered internally at /opt/conda/conda-bld/pytorch_1699449183005/work/torch/csrc/tensor/python_tensor.cpp:451.)\n",
      "  _C._set_default_tensor_type(t)\n"
     ]
    },
    {
     "name": "stdout",
     "output_type": "stream",
     "text": [
      "[2024-04-02 15:59:04] CVRPTester.py(130) : episode   1/  1, Elapsed[0.02m], Remain[0.00m], score:71.560, aug_score:61.860\n",
      "[2024-04-02 15:59:04] CVRPTester.py(136) :  *** Test Done *** \n",
      "[2024-04-02 15:59:04] CVRPTester.py(137) :  NO-AUG SCORE: 71.5595 \n",
      "[2024-04-02 15:59:04] CVRPTester.py(138) :  AUGMENTATION SCORE: 61.8597 \n",
      ">> Evaluation on ../../../../VRP-Omni-modified/Vrp-Set-X/X-n573 finished within 1.47s\n",
      ">> Save final results to res/X-n573\n",
      "Test on \" ../../../../VRP-Omni-modified/Vrp-Set-X/X-n573 \" Success\n",
      "-----------------------------------------------------------------------------------------------------------------\n",
      "[2024-04-02 15:59:06] test.py(107) : DEBUG_MODE: False\n",
      "[2024-04-02 15:59:06] test.py(108) : USE_CUDA: True, CUDA_DEVICE_NUM: 0\n",
      "[2024-04-02 15:59:06] test.py(109) : env_params{'problem_size': 100, 'pomo_size': 100}\n",
      "[2024-04-02 15:59:06] test.py(109) : model_params{'embedding_dim': 128, 'sqrt_embedding_dim': 11.313708498984761, 'encoder_layer_num': 6, 'qkv_dim': 16, 'head_num': 8, 'logit_clipping': 10, 'ff_hidden_dim': 512, 'eval_type': 'argmax'}\n",
      "[2024-04-02 15:59:06] test.py(109) : tester_params{'use_cuda': True, 'cuda_device_num': 0, 'model_load': {'path': './result/saved_CVRP100_model', 'epoch': 30500}, 'test_episodes': 1000, 'test_batch_size': 1, 'augmentation_enable': True, 'aug_factor': 8, 'aug_batch_size': 1, 'test_data_load': {'enable': False, 'filename': '../vrp100_test_seed1234.pt'}, 'test_set_path': '../../../../VRP-Omni-modified/Vrp-Set-X/X-n586', 'test_set_opt_sol_path': '../../../../VRP-Omni-modified/Vrp-Set-A/A-n33-sol', 'test_set_name': 'A-n33'}\n",
      "[2024-04-02 15:59:06] test.py(109) : logger_params{'log_file': {'desc': 'test_cvrp100', 'filename': 'log.txt', 'filepath': './result/20240402_165905_test_cvrp100'}}\n",
      "['../../../../VRP-Omni-modified/Vrp-Set-X/X-n586/X-n586-k159.vrp']\n"
     ]
    },
    {
     "name": "stderr",
     "output_type": "stream",
     "text": [
      "/home/xunj/miniconda3/lib/python3.11/site-packages/torch/__init__.py:614: UserWarning: torch.set_default_tensor_type() is deprecated as of PyTorch 2.1, please use torch.set_default_dtype() and torch.set_default_device() as alternatives. (Triggered internally at /opt/conda/conda-bld/pytorch_1699449183005/work/torch/csrc/tensor/python_tensor.cpp:451.)\n",
      "  _C._set_default_tensor_type(t)\n"
     ]
    },
    {
     "name": "stdout",
     "output_type": "stream",
     "text": [
      "[2024-04-02 15:59:08] CVRPTester.py(130) : episode   1/  1, Elapsed[0.03m], Remain[0.00m], score:238.790, aug_score:216.595\n",
      "[2024-04-02 15:59:08] CVRPTester.py(136) :  *** Test Done *** \n",
      "[2024-04-02 15:59:08] CVRPTester.py(137) :  NO-AUG SCORE: 238.7901 \n",
      "[2024-04-02 15:59:08] CVRPTester.py(138) :  AUGMENTATION SCORE: 216.5951 \n",
      ">> Evaluation on ../../../../VRP-Omni-modified/Vrp-Set-X/X-n586 finished within 1.69s\n",
      ">> Save final results to res/X-n586\n",
      "Test on \" ../../../../VRP-Omni-modified/Vrp-Set-X/X-n586 \" Success\n",
      "-----------------------------------------------------------------------------------------------------------------\n",
      "[2024-04-02 15:59:11] test.py(107) : DEBUG_MODE: False\n",
      "[2024-04-02 15:59:11] test.py(108) : USE_CUDA: True, CUDA_DEVICE_NUM: 0\n",
      "[2024-04-02 15:59:11] test.py(109) : env_params{'problem_size': 100, 'pomo_size': 100}\n",
      "[2024-04-02 15:59:11] test.py(109) : model_params{'embedding_dim': 128, 'sqrt_embedding_dim': 11.313708498984761, 'encoder_layer_num': 6, 'qkv_dim': 16, 'head_num': 8, 'logit_clipping': 10, 'ff_hidden_dim': 512, 'eval_type': 'argmax'}\n",
      "[2024-04-02 15:59:11] test.py(109) : tester_params{'use_cuda': True, 'cuda_device_num': 0, 'model_load': {'path': './result/saved_CVRP100_model', 'epoch': 30500}, 'test_episodes': 1000, 'test_batch_size': 1, 'augmentation_enable': True, 'aug_factor': 8, 'aug_batch_size': 1, 'test_data_load': {'enable': False, 'filename': '../vrp100_test_seed1234.pt'}, 'test_set_path': '../../../../VRP-Omni-modified/Vrp-Set-X/X-n599', 'test_set_opt_sol_path': '../../../../VRP-Omni-modified/Vrp-Set-A/A-n33-sol', 'test_set_name': 'A-n33'}\n",
      "[2024-04-02 15:59:11] test.py(109) : logger_params{'log_file': {'desc': 'test_cvrp100', 'filename': 'log.txt', 'filepath': './result/20240402_165909_test_cvrp100'}}\n",
      "['../../../../VRP-Omni-modified/Vrp-Set-X/X-n599/X-n599-k92.vrp']\n"
     ]
    },
    {
     "name": "stderr",
     "output_type": "stream",
     "text": [
      "/home/xunj/miniconda3/lib/python3.11/site-packages/torch/__init__.py:614: UserWarning: torch.set_default_tensor_type() is deprecated as of PyTorch 2.1, please use torch.set_default_dtype() and torch.set_default_device() as alternatives. (Triggered internally at /opt/conda/conda-bld/pytorch_1699449183005/work/torch/csrc/tensor/python_tensor.cpp:451.)\n",
      "  _C._set_default_tensor_type(t)\n"
     ]
    },
    {
     "name": "stdout",
     "output_type": "stream",
     "text": [
      "[2024-04-02 15:59:13] CVRPTester.py(130) : episode   1/  1, Elapsed[0.03m], Remain[0.00m], score:139.975, aug_score:139.975\n",
      "[2024-04-02 15:59:13] CVRPTester.py(136) :  *** Test Done *** \n",
      "[2024-04-02 15:59:13] CVRPTester.py(137) :  NO-AUG SCORE: 139.9749 \n",
      "[2024-04-02 15:59:13] CVRPTester.py(138) :  AUGMENTATION SCORE: 139.9749 \n",
      ">> Evaluation on ../../../../VRP-Omni-modified/Vrp-Set-X/X-n599 finished within 1.63s\n",
      ">> Save final results to res/X-n599\n",
      "Test on \" ../../../../VRP-Omni-modified/Vrp-Set-X/X-n599 \" Success\n",
      "-----------------------------------------------------------------------------------------------------------------\n",
      "[2024-04-02 15:59:15] test.py(107) : DEBUG_MODE: False\n",
      "[2024-04-02 15:59:15] test.py(108) : USE_CUDA: True, CUDA_DEVICE_NUM: 0\n",
      "[2024-04-02 15:59:15] test.py(109) : env_params{'problem_size': 100, 'pomo_size': 100}\n",
      "[2024-04-02 15:59:15] test.py(109) : model_params{'embedding_dim': 128, 'sqrt_embedding_dim': 11.313708498984761, 'encoder_layer_num': 6, 'qkv_dim': 16, 'head_num': 8, 'logit_clipping': 10, 'ff_hidden_dim': 512, 'eval_type': 'argmax'}\n",
      "[2024-04-02 15:59:15] test.py(109) : tester_params{'use_cuda': True, 'cuda_device_num': 0, 'model_load': {'path': './result/saved_CVRP100_model', 'epoch': 30500}, 'test_episodes': 1000, 'test_batch_size': 1, 'augmentation_enable': True, 'aug_factor': 8, 'aug_batch_size': 1, 'test_data_load': {'enable': False, 'filename': '../vrp100_test_seed1234.pt'}, 'test_set_path': '../../../../VRP-Omni-modified/Vrp-Set-X/X-n613', 'test_set_opt_sol_path': '../../../../VRP-Omni-modified/Vrp-Set-A/A-n33-sol', 'test_set_name': 'A-n33'}\n",
      "[2024-04-02 15:59:15] test.py(109) : logger_params{'log_file': {'desc': 'test_cvrp100', 'filename': 'log.txt', 'filepath': './result/20240402_165914_test_cvrp100'}}\n",
      "['../../../../VRP-Omni-modified/Vrp-Set-X/X-n613/X-n613-k62.vrp']\n"
     ]
    },
    {
     "name": "stderr",
     "output_type": "stream",
     "text": [
      "/home/xunj/miniconda3/lib/python3.11/site-packages/torch/__init__.py:614: UserWarning: torch.set_default_tensor_type() is deprecated as of PyTorch 2.1, please use torch.set_default_dtype() and torch.set_default_device() as alternatives. (Triggered internally at /opt/conda/conda-bld/pytorch_1699449183005/work/torch/csrc/tensor/python_tensor.cpp:451.)\n",
      "  _C._set_default_tensor_type(t)\n"
     ]
    },
    {
     "name": "stdout",
     "output_type": "stream",
     "text": [
      "[2024-04-02 15:59:17] CVRPTester.py(130) : episode   1/  1, Elapsed[0.03m], Remain[0.00m], score:112.173, aug_score:97.117\n",
      "[2024-04-02 15:59:17] CVRPTester.py(136) :  *** Test Done *** \n",
      "[2024-04-02 15:59:17] CVRPTester.py(137) :  NO-AUG SCORE: 112.1732 \n",
      "[2024-04-02 15:59:17] CVRPTester.py(138) :  AUGMENTATION SCORE: 97.1169 \n",
      ">> Evaluation on ../../../../VRP-Omni-modified/Vrp-Set-X/X-n613 finished within 1.60s\n",
      ">> Save final results to res/X-n613\n",
      "Test on \" ../../../../VRP-Omni-modified/Vrp-Set-X/X-n613 \" Success\n",
      "-----------------------------------------------------------------------------------------------------------------\n",
      "[2024-04-02 15:59:20] test.py(107) : DEBUG_MODE: False\n",
      "[2024-04-02 15:59:20] test.py(108) : USE_CUDA: True, CUDA_DEVICE_NUM: 0\n",
      "[2024-04-02 15:59:20] test.py(109) : env_params{'problem_size': 100, 'pomo_size': 100}\n",
      "[2024-04-02 15:59:20] test.py(109) : model_params{'embedding_dim': 128, 'sqrt_embedding_dim': 11.313708498984761, 'encoder_layer_num': 6, 'qkv_dim': 16, 'head_num': 8, 'logit_clipping': 10, 'ff_hidden_dim': 512, 'eval_type': 'argmax'}\n",
      "[2024-04-02 15:59:20] test.py(109) : tester_params{'use_cuda': True, 'cuda_device_num': 0, 'model_load': {'path': './result/saved_CVRP100_model', 'epoch': 30500}, 'test_episodes': 1000, 'test_batch_size': 1, 'augmentation_enable': True, 'aug_factor': 8, 'aug_batch_size': 1, 'test_data_load': {'enable': False, 'filename': '../vrp100_test_seed1234.pt'}, 'test_set_path': '../../../../VRP-Omni-modified/Vrp-Set-X/X-n627', 'test_set_opt_sol_path': '../../../../VRP-Omni-modified/Vrp-Set-A/A-n33-sol', 'test_set_name': 'A-n33'}\n",
      "[2024-04-02 15:59:20] test.py(109) : logger_params{'log_file': {'desc': 'test_cvrp100', 'filename': 'log.txt', 'filepath': './result/20240402_165918_test_cvrp100'}}\n",
      "['../../../../VRP-Omni-modified/Vrp-Set-X/X-n627/X-n627-k43.vrp']\n"
     ]
    },
    {
     "name": "stderr",
     "output_type": "stream",
     "text": [
      "/home/xunj/miniconda3/lib/python3.11/site-packages/torch/__init__.py:614: UserWarning: torch.set_default_tensor_type() is deprecated as of PyTorch 2.1, please use torch.set_default_dtype() and torch.set_default_device() as alternatives. (Triggered internally at /opt/conda/conda-bld/pytorch_1699449183005/work/torch/csrc/tensor/python_tensor.cpp:451.)\n",
      "  _C._set_default_tensor_type(t)\n"
     ]
    },
    {
     "name": "stdout",
     "output_type": "stream",
     "text": [
      "[2024-04-02 15:59:22] CVRPTester.py(130) : episode   1/  1, Elapsed[0.03m], Remain[0.00m], score:99.492, aug_score:78.502\n",
      "[2024-04-02 15:59:22] CVRPTester.py(136) :  *** Test Done *** \n",
      "[2024-04-02 15:59:22] CVRPTester.py(137) :  NO-AUG SCORE: 99.4921 \n",
      "[2024-04-02 15:59:22] CVRPTester.py(138) :  AUGMENTATION SCORE: 78.5022 \n",
      ">> Evaluation on ../../../../VRP-Omni-modified/Vrp-Set-X/X-n627 finished within 1.66s\n",
      ">> Save final results to res/X-n627\n",
      "Test on \" ../../../../VRP-Omni-modified/Vrp-Set-X/X-n627 \" Success\n",
      "-----------------------------------------------------------------------------------------------------------------\n",
      "[2024-04-02 15:59:24] test.py(107) : DEBUG_MODE: False\n",
      "[2024-04-02 15:59:24] test.py(108) : USE_CUDA: True, CUDA_DEVICE_NUM: 0\n",
      "[2024-04-02 15:59:24] test.py(109) : env_params{'problem_size': 100, 'pomo_size': 100}\n",
      "[2024-04-02 15:59:24] test.py(109) : model_params{'embedding_dim': 128, 'sqrt_embedding_dim': 11.313708498984761, 'encoder_layer_num': 6, 'qkv_dim': 16, 'head_num': 8, 'logit_clipping': 10, 'ff_hidden_dim': 512, 'eval_type': 'argmax'}\n",
      "[2024-04-02 15:59:24] test.py(109) : tester_params{'use_cuda': True, 'cuda_device_num': 0, 'model_load': {'path': './result/saved_CVRP100_model', 'epoch': 30500}, 'test_episodes': 1000, 'test_batch_size': 1, 'augmentation_enable': True, 'aug_factor': 8, 'aug_batch_size': 1, 'test_data_load': {'enable': False, 'filename': '../vrp100_test_seed1234.pt'}, 'test_set_path': '../../../../VRP-Omni-modified/Vrp-Set-X/X-n641', 'test_set_opt_sol_path': '../../../../VRP-Omni-modified/Vrp-Set-A/A-n33-sol', 'test_set_name': 'A-n33'}\n",
      "[2024-04-02 15:59:24] test.py(109) : logger_params{'log_file': {'desc': 'test_cvrp100', 'filename': 'log.txt', 'filepath': './result/20240402_165923_test_cvrp100'}}\n",
      "['../../../../VRP-Omni-modified/Vrp-Set-X/X-n641/X-n641-k35.vrp']\n"
     ]
    },
    {
     "name": "stderr",
     "output_type": "stream",
     "text": [
      "/home/xunj/miniconda3/lib/python3.11/site-packages/torch/__init__.py:614: UserWarning: torch.set_default_tensor_type() is deprecated as of PyTorch 2.1, please use torch.set_default_dtype() and torch.set_default_device() as alternatives. (Triggered internally at /opt/conda/conda-bld/pytorch_1699449183005/work/torch/csrc/tensor/python_tensor.cpp:451.)\n",
      "  _C._set_default_tensor_type(t)\n"
     ]
    },
    {
     "name": "stdout",
     "output_type": "stream",
     "text": [
      "[2024-04-02 15:59:26] CVRPTester.py(130) : episode   1/  1, Elapsed[0.03m], Remain[0.00m], score:77.297, aug_score:74.607\n",
      "[2024-04-02 15:59:26] CVRPTester.py(136) :  *** Test Done *** \n",
      "[2024-04-02 15:59:26] CVRPTester.py(137) :  NO-AUG SCORE: 77.2972 \n",
      "[2024-04-02 15:59:26] CVRPTester.py(138) :  AUGMENTATION SCORE: 74.6073 \n",
      ">> Evaluation on ../../../../VRP-Omni-modified/Vrp-Set-X/X-n641 finished within 1.71s\n",
      ">> Save final results to res/X-n641\n",
      "Test on \" ../../../../VRP-Omni-modified/Vrp-Set-X/X-n641 \" Success\n",
      "-----------------------------------------------------------------------------------------------------------------\n",
      "[2024-04-02 15:59:29] test.py(107) : DEBUG_MODE: False\n",
      "[2024-04-02 15:59:29] test.py(108) : USE_CUDA: True, CUDA_DEVICE_NUM: 0\n",
      "[2024-04-02 15:59:29] test.py(109) : env_params{'problem_size': 100, 'pomo_size': 100}\n",
      "[2024-04-02 15:59:29] test.py(109) : model_params{'embedding_dim': 128, 'sqrt_embedding_dim': 11.313708498984761, 'encoder_layer_num': 6, 'qkv_dim': 16, 'head_num': 8, 'logit_clipping': 10, 'ff_hidden_dim': 512, 'eval_type': 'argmax'}\n",
      "[2024-04-02 15:59:29] test.py(109) : tester_params{'use_cuda': True, 'cuda_device_num': 0, 'model_load': {'path': './result/saved_CVRP100_model', 'epoch': 30500}, 'test_episodes': 1000, 'test_batch_size': 1, 'augmentation_enable': True, 'aug_factor': 8, 'aug_batch_size': 1, 'test_data_load': {'enable': False, 'filename': '../vrp100_test_seed1234.pt'}, 'test_set_path': '../../../../VRP-Omni-modified/Vrp-Set-X/X-n655', 'test_set_opt_sol_path': '../../../../VRP-Omni-modified/Vrp-Set-A/A-n33-sol', 'test_set_name': 'A-n33'}\n",
      "[2024-04-02 15:59:29] test.py(109) : logger_params{'log_file': {'desc': 'test_cvrp100', 'filename': 'log.txt', 'filepath': './result/20240402_165927_test_cvrp100'}}\n",
      "['../../../../VRP-Omni-modified/Vrp-Set-X/X-n655/X-n655-k131.vrp']\n"
     ]
    },
    {
     "name": "stderr",
     "output_type": "stream",
     "text": [
      "/home/xunj/miniconda3/lib/python3.11/site-packages/torch/__init__.py:614: UserWarning: torch.set_default_tensor_type() is deprecated as of PyTorch 2.1, please use torch.set_default_dtype() and torch.set_default_device() as alternatives. (Triggered internally at /opt/conda/conda-bld/pytorch_1699449183005/work/torch/csrc/tensor/python_tensor.cpp:451.)\n",
      "  _C._set_default_tensor_type(t)\n"
     ]
    },
    {
     "name": "stdout",
     "output_type": "stream",
     "text": [
      "[2024-04-02 15:59:31] CVRPTester.py(130) : episode   1/  1, Elapsed[0.04m], Remain[0.00m], score:158.905, aug_score:141.608\n",
      "[2024-04-02 15:59:31] CVRPTester.py(136) :  *** Test Done *** \n",
      "[2024-04-02 15:59:31] CVRPTester.py(137) :  NO-AUG SCORE: 158.9053 \n",
      "[2024-04-02 15:59:31] CVRPTester.py(138) :  AUGMENTATION SCORE: 141.6082 \n",
      ">> Evaluation on ../../../../VRP-Omni-modified/Vrp-Set-X/X-n655 finished within 2.28s\n",
      ">> Save final results to res/X-n655\n",
      "Test on \" ../../../../VRP-Omni-modified/Vrp-Set-X/X-n655 \" Success\n",
      "-----------------------------------------------------------------------------------------------------------------\n",
      "[2024-04-02 15:59:34] test.py(107) : DEBUG_MODE: False\n",
      "[2024-04-02 15:59:34] test.py(108) : USE_CUDA: True, CUDA_DEVICE_NUM: 0\n",
      "[2024-04-02 15:59:34] test.py(109) : env_params{'problem_size': 100, 'pomo_size': 100}\n",
      "[2024-04-02 15:59:34] test.py(109) : model_params{'embedding_dim': 128, 'sqrt_embedding_dim': 11.313708498984761, 'encoder_layer_num': 6, 'qkv_dim': 16, 'head_num': 8, 'logit_clipping': 10, 'ff_hidden_dim': 512, 'eval_type': 'argmax'}\n",
      "[2024-04-02 15:59:34] test.py(109) : tester_params{'use_cuda': True, 'cuda_device_num': 0, 'model_load': {'path': './result/saved_CVRP100_model', 'epoch': 30500}, 'test_episodes': 1000, 'test_batch_size': 1, 'augmentation_enable': True, 'aug_factor': 8, 'aug_batch_size': 1, 'test_data_load': {'enable': False, 'filename': '../vrp100_test_seed1234.pt'}, 'test_set_path': '../../../../VRP-Omni-modified/Vrp-Set-X/X-n670', 'test_set_opt_sol_path': '../../../../VRP-Omni-modified/Vrp-Set-A/A-n33-sol', 'test_set_name': 'A-n33'}\n",
      "[2024-04-02 15:59:34] test.py(109) : logger_params{'log_file': {'desc': 'test_cvrp100', 'filename': 'log.txt', 'filepath': './result/20240402_165933_test_cvrp100'}}\n",
      "['../../../../VRP-Omni-modified/Vrp-Set-X/X-n670/X-n670-k130.vrp']\n"
     ]
    },
    {
     "name": "stderr",
     "output_type": "stream",
     "text": [
      "/home/xunj/miniconda3/lib/python3.11/site-packages/torch/__init__.py:614: UserWarning: torch.set_default_tensor_type() is deprecated as of PyTorch 2.1, please use torch.set_default_dtype() and torch.set_default_device() as alternatives. (Triggered internally at /opt/conda/conda-bld/pytorch_1699449183005/work/torch/csrc/tensor/python_tensor.cpp:451.)\n",
      "  _C._set_default_tensor_type(t)\n"
     ]
    },
    {
     "name": "stdout",
     "output_type": "stream",
     "text": [
      "[2024-04-02 15:59:37] CVRPTester.py(130) : episode   1/  1, Elapsed[0.04m], Remain[0.00m], score:213.928, aug_score:174.965\n",
      "[2024-04-02 15:59:37] CVRPTester.py(136) :  *** Test Done *** \n",
      "[2024-04-02 15:59:37] CVRPTester.py(137) :  NO-AUG SCORE: 213.9283 \n",
      "[2024-04-02 15:59:37] CVRPTester.py(138) :  AUGMENTATION SCORE: 174.9651 \n",
      ">> Evaluation on ../../../../VRP-Omni-modified/Vrp-Set-X/X-n670 finished within 2.21s\n",
      ">> Save final results to res/X-n670\n",
      "Test on \" ../../../../VRP-Omni-modified/Vrp-Set-X/X-n670 \" Success\n",
      "-----------------------------------------------------------------------------------------------------------------\n",
      "[2024-04-02 15:59:39] test.py(107) : DEBUG_MODE: False\n",
      "[2024-04-02 15:59:39] test.py(108) : USE_CUDA: True, CUDA_DEVICE_NUM: 0\n",
      "[2024-04-02 15:59:39] test.py(109) : env_params{'problem_size': 100, 'pomo_size': 100}\n",
      "[2024-04-02 15:59:39] test.py(109) : model_params{'embedding_dim': 128, 'sqrt_embedding_dim': 11.313708498984761, 'encoder_layer_num': 6, 'qkv_dim': 16, 'head_num': 8, 'logit_clipping': 10, 'ff_hidden_dim': 512, 'eval_type': 'argmax'}\n",
      "[2024-04-02 15:59:39] test.py(109) : tester_params{'use_cuda': True, 'cuda_device_num': 0, 'model_load': {'path': './result/saved_CVRP100_model', 'epoch': 30500}, 'test_episodes': 1000, 'test_batch_size': 1, 'augmentation_enable': True, 'aug_factor': 8, 'aug_batch_size': 1, 'test_data_load': {'enable': False, 'filename': '../vrp100_test_seed1234.pt'}, 'test_set_path': '../../../../VRP-Omni-modified/Vrp-Set-X/X-n685', 'test_set_opt_sol_path': '../../../../VRP-Omni-modified/Vrp-Set-A/A-n33-sol', 'test_set_name': 'A-n33'}\n",
      "[2024-04-02 15:59:39] test.py(109) : logger_params{'log_file': {'desc': 'test_cvrp100', 'filename': 'log.txt', 'filepath': './result/20240402_165938_test_cvrp100'}}\n",
      "['../../../../VRP-Omni-modified/Vrp-Set-X/X-n685/X-n685-k75.vrp']\n"
     ]
    },
    {
     "name": "stderr",
     "output_type": "stream",
     "text": [
      "/home/xunj/miniconda3/lib/python3.11/site-packages/torch/__init__.py:614: UserWarning: torch.set_default_tensor_type() is deprecated as of PyTorch 2.1, please use torch.set_default_dtype() and torch.set_default_device() as alternatives. (Triggered internally at /opt/conda/conda-bld/pytorch_1699449183005/work/torch/csrc/tensor/python_tensor.cpp:451.)\n",
      "  _C._set_default_tensor_type(t)\n"
     ]
    },
    {
     "name": "stdout",
     "output_type": "stream",
     "text": [
      "[2024-04-02 15:59:42] CVRPTester.py(130) : episode   1/  1, Elapsed[0.04m], Remain[0.00m], score:120.348, aug_score:116.503\n",
      "[2024-04-02 15:59:42] CVRPTester.py(136) :  *** Test Done *** \n",
      "[2024-04-02 15:59:42] CVRPTester.py(137) :  NO-AUG SCORE: 120.3477 \n",
      "[2024-04-02 15:59:42] CVRPTester.py(138) :  AUGMENTATION SCORE: 116.5032 \n",
      ">> Evaluation on ../../../../VRP-Omni-modified/Vrp-Set-X/X-n685 finished within 2.13s\n",
      ">> Save final results to res/X-n685\n",
      "Test on \" ../../../../VRP-Omni-modified/Vrp-Set-X/X-n685 \" Success\n",
      "-----------------------------------------------------------------------------------------------------------------\n",
      "[2024-04-02 15:59:44] test.py(107) : DEBUG_MODE: False\n",
      "[2024-04-02 15:59:44] test.py(108) : USE_CUDA: True, CUDA_DEVICE_NUM: 0\n",
      "[2024-04-02 15:59:44] test.py(109) : env_params{'problem_size': 100, 'pomo_size': 100}\n",
      "[2024-04-02 15:59:44] test.py(109) : model_params{'embedding_dim': 128, 'sqrt_embedding_dim': 11.313708498984761, 'encoder_layer_num': 6, 'qkv_dim': 16, 'head_num': 8, 'logit_clipping': 10, 'ff_hidden_dim': 512, 'eval_type': 'argmax'}\n",
      "[2024-04-02 15:59:44] test.py(109) : tester_params{'use_cuda': True, 'cuda_device_num': 0, 'model_load': {'path': './result/saved_CVRP100_model', 'epoch': 30500}, 'test_episodes': 1000, 'test_batch_size': 1, 'augmentation_enable': True, 'aug_factor': 8, 'aug_batch_size': 1, 'test_data_load': {'enable': False, 'filename': '../vrp100_test_seed1234.pt'}, 'test_set_path': '../../../../VRP-Omni-modified/Vrp-Set-X/X-n701', 'test_set_opt_sol_path': '../../../../VRP-Omni-modified/Vrp-Set-A/A-n33-sol', 'test_set_name': 'A-n33'}\n",
      "[2024-04-02 15:59:44] test.py(109) : logger_params{'log_file': {'desc': 'test_cvrp100', 'filename': 'log.txt', 'filepath': './result/20240402_165943_test_cvrp100'}}\n",
      "['../../../../VRP-Omni-modified/Vrp-Set-X/X-n701/X-n701-k44.vrp']\n"
     ]
    },
    {
     "name": "stderr",
     "output_type": "stream",
     "text": [
      "/home/xunj/miniconda3/lib/python3.11/site-packages/torch/__init__.py:614: UserWarning: torch.set_default_tensor_type() is deprecated as of PyTorch 2.1, please use torch.set_default_dtype() and torch.set_default_device() as alternatives. (Triggered internally at /opt/conda/conda-bld/pytorch_1699449183005/work/torch/csrc/tensor/python_tensor.cpp:451.)\n",
      "  _C._set_default_tensor_type(t)\n"
     ]
    },
    {
     "name": "stdout",
     "output_type": "stream",
     "text": [
      "[2024-04-02 15:59:47] CVRPTester.py(130) : episode   1/  1, Elapsed[0.04m], Remain[0.00m], score:122.758, aug_score:116.987\n",
      "[2024-04-02 15:59:47] CVRPTester.py(136) :  *** Test Done *** \n",
      "[2024-04-02 15:59:47] CVRPTester.py(137) :  NO-AUG SCORE: 122.7577 \n",
      "[2024-04-02 15:59:47] CVRPTester.py(138) :  AUGMENTATION SCORE: 116.9870 \n",
      ">> Evaluation on ../../../../VRP-Omni-modified/Vrp-Set-X/X-n701 finished within 2.18s\n",
      ">> Save final results to res/X-n701\n",
      "Test on \" ../../../../VRP-Omni-modified/Vrp-Set-X/X-n701 \" Success\n",
      "-----------------------------------------------------------------------------------------------------------------\n",
      "[2024-04-02 15:59:49] test.py(107) : DEBUG_MODE: False\n",
      "[2024-04-02 15:59:49] test.py(108) : USE_CUDA: True, CUDA_DEVICE_NUM: 0\n",
      "[2024-04-02 15:59:49] test.py(109) : env_params{'problem_size': 100, 'pomo_size': 100}\n",
      "[2024-04-02 15:59:49] test.py(109) : model_params{'embedding_dim': 128, 'sqrt_embedding_dim': 11.313708498984761, 'encoder_layer_num': 6, 'qkv_dim': 16, 'head_num': 8, 'logit_clipping': 10, 'ff_hidden_dim': 512, 'eval_type': 'argmax'}\n",
      "[2024-04-02 15:59:49] test.py(109) : tester_params{'use_cuda': True, 'cuda_device_num': 0, 'model_load': {'path': './result/saved_CVRP100_model', 'epoch': 30500}, 'test_episodes': 1000, 'test_batch_size': 1, 'augmentation_enable': True, 'aug_factor': 8, 'aug_batch_size': 1, 'test_data_load': {'enable': False, 'filename': '../vrp100_test_seed1234.pt'}, 'test_set_path': '../../../../VRP-Omni-modified/Vrp-Set-X/X-n716', 'test_set_opt_sol_path': '../../../../VRP-Omni-modified/Vrp-Set-A/A-n33-sol', 'test_set_name': 'A-n33'}\n",
      "[2024-04-02 15:59:49] test.py(109) : logger_params{'log_file': {'desc': 'test_cvrp100', 'filename': 'log.txt', 'filepath': './result/20240402_165948_test_cvrp100'}}\n",
      "['../../../../VRP-Omni-modified/Vrp-Set-X/X-n716/X-n716-k35.vrp']\n"
     ]
    },
    {
     "name": "stderr",
     "output_type": "stream",
     "text": [
      "/home/xunj/miniconda3/lib/python3.11/site-packages/torch/__init__.py:614: UserWarning: torch.set_default_tensor_type() is deprecated as of PyTorch 2.1, please use torch.set_default_dtype() and torch.set_default_device() as alternatives. (Triggered internally at /opt/conda/conda-bld/pytorch_1699449183005/work/torch/csrc/tensor/python_tensor.cpp:451.)\n",
      "  _C._set_default_tensor_type(t)\n"
     ]
    },
    {
     "name": "stdout",
     "output_type": "stream",
     "text": [
      "[2024-04-02 15:59:52] CVRPTester.py(130) : episode   1/  1, Elapsed[0.04m], Remain[0.00m], score:63.642, aug_score:53.212\n",
      "[2024-04-02 15:59:52] CVRPTester.py(136) :  *** Test Done *** \n",
      "[2024-04-02 15:59:52] CVRPTester.py(137) :  NO-AUG SCORE: 63.6420 \n",
      "[2024-04-02 15:59:52] CVRPTester.py(138) :  AUGMENTATION SCORE: 53.2125 \n",
      ">> Evaluation on ../../../../VRP-Omni-modified/Vrp-Set-X/X-n716 finished within 2.25s\n",
      ">> Save final results to res/X-n716\n",
      "Test on \" ../../../../VRP-Omni-modified/Vrp-Set-X/X-n716 \" Success\n",
      "-----------------------------------------------------------------------------------------------------------------\n",
      "[2024-04-02 15:59:54] test.py(107) : DEBUG_MODE: False\n",
      "[2024-04-02 15:59:54] test.py(108) : USE_CUDA: True, CUDA_DEVICE_NUM: 0\n",
      "[2024-04-02 15:59:54] test.py(109) : env_params{'problem_size': 100, 'pomo_size': 100}\n",
      "[2024-04-02 15:59:54] test.py(109) : model_params{'embedding_dim': 128, 'sqrt_embedding_dim': 11.313708498984761, 'encoder_layer_num': 6, 'qkv_dim': 16, 'head_num': 8, 'logit_clipping': 10, 'ff_hidden_dim': 512, 'eval_type': 'argmax'}\n",
      "[2024-04-02 15:59:54] test.py(109) : tester_params{'use_cuda': True, 'cuda_device_num': 0, 'model_load': {'path': './result/saved_CVRP100_model', 'epoch': 30500}, 'test_episodes': 1000, 'test_batch_size': 1, 'augmentation_enable': True, 'aug_factor': 8, 'aug_batch_size': 1, 'test_data_load': {'enable': False, 'filename': '../vrp100_test_seed1234.pt'}, 'test_set_path': '../../../../VRP-Omni-modified/Vrp-Set-X/X-n733', 'test_set_opt_sol_path': '../../../../VRP-Omni-modified/Vrp-Set-A/A-n33-sol', 'test_set_name': 'A-n33'}\n",
      "[2024-04-02 15:59:54] test.py(109) : logger_params{'log_file': {'desc': 'test_cvrp100', 'filename': 'log.txt', 'filepath': './result/20240402_165953_test_cvrp100'}}\n",
      "['../../../../VRP-Omni-modified/Vrp-Set-X/X-n733/X-n733-k159.vrp']\n"
     ]
    },
    {
     "name": "stderr",
     "output_type": "stream",
     "text": [
      "/home/xunj/miniconda3/lib/python3.11/site-packages/torch/__init__.py:614: UserWarning: torch.set_default_tensor_type() is deprecated as of PyTorch 2.1, please use torch.set_default_dtype() and torch.set_default_device() as alternatives. (Triggered internally at /opt/conda/conda-bld/pytorch_1699449183005/work/torch/csrc/tensor/python_tensor.cpp:451.)\n",
      "  _C._set_default_tensor_type(t)\n"
     ]
    },
    {
     "name": "stdout",
     "output_type": "stream",
     "text": [
      "[2024-04-02 15:59:57] CVRPTester.py(130) : episode   1/  1, Elapsed[0.05m], Remain[0.00m], score:212.405, aug_score:209.171\n",
      "[2024-04-02 15:59:57] CVRPTester.py(136) :  *** Test Done *** \n",
      "[2024-04-02 15:59:57] CVRPTester.py(137) :  NO-AUG SCORE: 212.4051 \n",
      "[2024-04-02 15:59:57] CVRPTester.py(138) :  AUGMENTATION SCORE: 209.1707 \n",
      ">> Evaluation on ../../../../VRP-Omni-modified/Vrp-Set-X/X-n733 finished within 2.72s\n",
      ">> Save final results to res/X-n733\n",
      "Test on \" ../../../../VRP-Omni-modified/Vrp-Set-X/X-n733 \" Success\n",
      "-----------------------------------------------------------------------------------------------------------------\n",
      "[2024-04-02 16:00:00] test.py(107) : DEBUG_MODE: False\n",
      "[2024-04-02 16:00:00] test.py(108) : USE_CUDA: True, CUDA_DEVICE_NUM: 0\n",
      "[2024-04-02 16:00:00] test.py(109) : env_params{'problem_size': 100, 'pomo_size': 100}\n",
      "[2024-04-02 16:00:00] test.py(109) : model_params{'embedding_dim': 128, 'sqrt_embedding_dim': 11.313708498984761, 'encoder_layer_num': 6, 'qkv_dim': 16, 'head_num': 8, 'logit_clipping': 10, 'ff_hidden_dim': 512, 'eval_type': 'argmax'}\n",
      "[2024-04-02 16:00:00] test.py(109) : tester_params{'use_cuda': True, 'cuda_device_num': 0, 'model_load': {'path': './result/saved_CVRP100_model', 'epoch': 30500}, 'test_episodes': 1000, 'test_batch_size': 1, 'augmentation_enable': True, 'aug_factor': 8, 'aug_batch_size': 1, 'test_data_load': {'enable': False, 'filename': '../vrp100_test_seed1234.pt'}, 'test_set_path': '../../../../VRP-Omni-modified/Vrp-Set-X/X-n749', 'test_set_opt_sol_path': '../../../../VRP-Omni-modified/Vrp-Set-A/A-n33-sol', 'test_set_name': 'A-n33'}\n",
      "[2024-04-02 16:00:00] test.py(109) : logger_params{'log_file': {'desc': 'test_cvrp100', 'filename': 'log.txt', 'filepath': './result/20240402_165958_test_cvrp100'}}\n",
      "['../../../../VRP-Omni-modified/Vrp-Set-X/X-n749/X-n749-k98.vrp']\n"
     ]
    },
    {
     "name": "stderr",
     "output_type": "stream",
     "text": [
      "/home/xunj/miniconda3/lib/python3.11/site-packages/torch/__init__.py:614: UserWarning: torch.set_default_tensor_type() is deprecated as of PyTorch 2.1, please use torch.set_default_dtype() and torch.set_default_device() as alternatives. (Triggered internally at /opt/conda/conda-bld/pytorch_1699449183005/work/torch/csrc/tensor/python_tensor.cpp:451.)\n",
      "  _C._set_default_tensor_type(t)\n"
     ]
    },
    {
     "name": "stdout",
     "output_type": "stream",
     "text": [
      "[2024-04-02 16:00:03] CVRPTester.py(130) : episode   1/  1, Elapsed[0.05m], Remain[0.00m], score:104.369, aug_score:104.369\n",
      "[2024-04-02 16:00:03] CVRPTester.py(136) :  *** Test Done *** \n",
      "[2024-04-02 16:00:03] CVRPTester.py(137) :  NO-AUG SCORE: 104.3688 \n",
      "[2024-04-02 16:00:03] CVRPTester.py(138) :  AUGMENTATION SCORE: 104.3688 \n",
      ">> Evaluation on ../../../../VRP-Omni-modified/Vrp-Set-X/X-n749 finished within 2.72s\n",
      ">> Save final results to res/X-n749\n",
      "Test on \" ../../../../VRP-Omni-modified/Vrp-Set-X/X-n749 \" Success\n",
      "-----------------------------------------------------------------------------------------------------------------\n",
      "[2024-04-02 16:00:05] test.py(107) : DEBUG_MODE: False\n",
      "[2024-04-02 16:00:05] test.py(108) : USE_CUDA: True, CUDA_DEVICE_NUM: 0\n",
      "[2024-04-02 16:00:05] test.py(109) : env_params{'problem_size': 100, 'pomo_size': 100}\n",
      "[2024-04-02 16:00:05] test.py(109) : model_params{'embedding_dim': 128, 'sqrt_embedding_dim': 11.313708498984761, 'encoder_layer_num': 6, 'qkv_dim': 16, 'head_num': 8, 'logit_clipping': 10, 'ff_hidden_dim': 512, 'eval_type': 'argmax'}\n",
      "[2024-04-02 16:00:05] test.py(109) : tester_params{'use_cuda': True, 'cuda_device_num': 0, 'model_load': {'path': './result/saved_CVRP100_model', 'epoch': 30500}, 'test_episodes': 1000, 'test_batch_size': 1, 'augmentation_enable': True, 'aug_factor': 8, 'aug_batch_size': 1, 'test_data_load': {'enable': False, 'filename': '../vrp100_test_seed1234.pt'}, 'test_set_path': '../../../../VRP-Omni-modified/Vrp-Set-X/X-n766', 'test_set_opt_sol_path': '../../../../VRP-Omni-modified/Vrp-Set-A/A-n33-sol', 'test_set_name': 'A-n33'}\n",
      "[2024-04-02 16:00:05] test.py(109) : logger_params{'log_file': {'desc': 'test_cvrp100', 'filename': 'log.txt', 'filepath': './result/20240402_170004_test_cvrp100'}}\n",
      "['../../../../VRP-Omni-modified/Vrp-Set-X/X-n766/X-n766-k71.vrp']\n"
     ]
    },
    {
     "name": "stderr",
     "output_type": "stream",
     "text": [
      "/home/xunj/miniconda3/lib/python3.11/site-packages/torch/__init__.py:614: UserWarning: torch.set_default_tensor_type() is deprecated as of PyTorch 2.1, please use torch.set_default_dtype() and torch.set_default_device() as alternatives. (Triggered internally at /opt/conda/conda-bld/pytorch_1699449183005/work/torch/csrc/tensor/python_tensor.cpp:451.)\n",
      "  _C._set_default_tensor_type(t)\n"
     ]
    },
    {
     "name": "stdout",
     "output_type": "stream",
     "text": [
      "[2024-04-02 16:00:09] CVRPTester.py(130) : episode   1/  1, Elapsed[0.05m], Remain[0.00m], score:161.876, aug_score:161.876\n",
      "[2024-04-02 16:00:09] CVRPTester.py(136) :  *** Test Done *** \n",
      "[2024-04-02 16:00:09] CVRPTester.py(137) :  NO-AUG SCORE: 161.8765 \n",
      "[2024-04-02 16:00:09] CVRPTester.py(138) :  AUGMENTATION SCORE: 161.8765 \n",
      ">> Evaluation on ../../../../VRP-Omni-modified/Vrp-Set-X/X-n766 finished within 2.71s\n",
      ">> Save final results to res/X-n766\n",
      "Test on \" ../../../../VRP-Omni-modified/Vrp-Set-X/X-n766 \" Success\n",
      "-----------------------------------------------------------------------------------------------------------------\n",
      "[2024-04-02 16:00:11] test.py(107) : DEBUG_MODE: False\n",
      "[2024-04-02 16:00:11] test.py(108) : USE_CUDA: True, CUDA_DEVICE_NUM: 0\n",
      "[2024-04-02 16:00:11] test.py(109) : env_params{'problem_size': 100, 'pomo_size': 100}\n",
      "[2024-04-02 16:00:11] test.py(109) : model_params{'embedding_dim': 128, 'sqrt_embedding_dim': 11.313708498984761, 'encoder_layer_num': 6, 'qkv_dim': 16, 'head_num': 8, 'logit_clipping': 10, 'ff_hidden_dim': 512, 'eval_type': 'argmax'}\n",
      "[2024-04-02 16:00:11] test.py(109) : tester_params{'use_cuda': True, 'cuda_device_num': 0, 'model_load': {'path': './result/saved_CVRP100_model', 'epoch': 30500}, 'test_episodes': 1000, 'test_batch_size': 1, 'augmentation_enable': True, 'aug_factor': 8, 'aug_batch_size': 1, 'test_data_load': {'enable': False, 'filename': '../vrp100_test_seed1234.pt'}, 'test_set_path': '../../../../VRP-Omni-modified/Vrp-Set-X/X-n783', 'test_set_opt_sol_path': '../../../../VRP-Omni-modified/Vrp-Set-A/A-n33-sol', 'test_set_name': 'A-n33'}\n",
      "[2024-04-02 16:00:11] test.py(109) : logger_params{'log_file': {'desc': 'test_cvrp100', 'filename': 'log.txt', 'filepath': './result/20240402_170010_test_cvrp100'}}\n",
      "['../../../../VRP-Omni-modified/Vrp-Set-X/X-n783/X-n783-k48.vrp']\n"
     ]
    },
    {
     "name": "stderr",
     "output_type": "stream",
     "text": [
      "/home/xunj/miniconda3/lib/python3.11/site-packages/torch/__init__.py:614: UserWarning: torch.set_default_tensor_type() is deprecated as of PyTorch 2.1, please use torch.set_default_dtype() and torch.set_default_device() as alternatives. (Triggered internally at /opt/conda/conda-bld/pytorch_1699449183005/work/torch/csrc/tensor/python_tensor.cpp:451.)\n",
      "  _C._set_default_tensor_type(t)\n"
     ]
    },
    {
     "name": "stdout",
     "output_type": "stream",
     "text": [
      "[2024-04-02 16:00:14] CVRPTester.py(130) : episode   1/  1, Elapsed[0.05m], Remain[0.00m], score:147.592, aug_score:143.132\n",
      "[2024-04-02 16:00:14] CVRPTester.py(136) :  *** Test Done *** \n",
      "[2024-04-02 16:00:14] CVRPTester.py(137) :  NO-AUG SCORE: 147.5918 \n",
      "[2024-04-02 16:00:14] CVRPTester.py(138) :  AUGMENTATION SCORE: 143.1316 \n",
      ">> Evaluation on ../../../../VRP-Omni-modified/Vrp-Set-X/X-n783 finished within 2.94s\n",
      ">> Save final results to res/X-n783\n",
      "Test on \" ../../../../VRP-Omni-modified/Vrp-Set-X/X-n783 \" Success\n",
      "-----------------------------------------------------------------------------------------------------------------\n",
      "[2024-04-02 16:00:17] test.py(107) : DEBUG_MODE: False\n",
      "[2024-04-02 16:00:17] test.py(108) : USE_CUDA: True, CUDA_DEVICE_NUM: 0\n",
      "[2024-04-02 16:00:17] test.py(109) : env_params{'problem_size': 100, 'pomo_size': 100}\n",
      "[2024-04-02 16:00:17] test.py(109) : model_params{'embedding_dim': 128, 'sqrt_embedding_dim': 11.313708498984761, 'encoder_layer_num': 6, 'qkv_dim': 16, 'head_num': 8, 'logit_clipping': 10, 'ff_hidden_dim': 512, 'eval_type': 'argmax'}\n",
      "[2024-04-02 16:00:17] test.py(109) : tester_params{'use_cuda': True, 'cuda_device_num': 0, 'model_load': {'path': './result/saved_CVRP100_model', 'epoch': 30500}, 'test_episodes': 1000, 'test_batch_size': 1, 'augmentation_enable': True, 'aug_factor': 8, 'aug_batch_size': 1, 'test_data_load': {'enable': False, 'filename': '../vrp100_test_seed1234.pt'}, 'test_set_path': '../../../../VRP-Omni-modified/Vrp-Set-X/X-n801', 'test_set_opt_sol_path': '../../../../VRP-Omni-modified/Vrp-Set-A/A-n33-sol', 'test_set_name': 'A-n33'}\n",
      "[2024-04-02 16:00:17] test.py(109) : logger_params{'log_file': {'desc': 'test_cvrp100', 'filename': 'log.txt', 'filepath': './result/20240402_170015_test_cvrp100'}}\n",
      "['../../../../VRP-Omni-modified/Vrp-Set-X/X-n801/X-n801-k40.vrp']\n"
     ]
    },
    {
     "name": "stderr",
     "output_type": "stream",
     "text": [
      "/home/xunj/miniconda3/lib/python3.11/site-packages/torch/__init__.py:614: UserWarning: torch.set_default_tensor_type() is deprecated as of PyTorch 2.1, please use torch.set_default_dtype() and torch.set_default_device() as alternatives. (Triggered internally at /opt/conda/conda-bld/pytorch_1699449183005/work/torch/csrc/tensor/python_tensor.cpp:451.)\n",
      "  _C._set_default_tensor_type(t)\n"
     ]
    },
    {
     "name": "stdout",
     "output_type": "stream",
     "text": [
      "[2024-04-02 16:00:21] CVRPTester.py(130) : episode   1/  1, Elapsed[0.06m], Remain[0.00m], score:155.211, aug_score:98.925\n",
      "[2024-04-02 16:00:21] CVRPTester.py(136) :  *** Test Done *** \n",
      "[2024-04-02 16:00:21] CVRPTester.py(137) :  NO-AUG SCORE: 155.2110 \n",
      "[2024-04-02 16:00:21] CVRPTester.py(138) :  AUGMENTATION SCORE: 98.9254 \n",
      ">> Evaluation on ../../../../VRP-Omni-modified/Vrp-Set-X/X-n801 finished within 3.43s\n",
      ">> Save final results to res/X-n801\n",
      "Test on \" ../../../../VRP-Omni-modified/Vrp-Set-X/X-n801 \" Success\n",
      "-----------------------------------------------------------------------------------------------------------------\n",
      "[2024-04-02 16:00:23] test.py(107) : DEBUG_MODE: False\n",
      "[2024-04-02 16:00:23] test.py(108) : USE_CUDA: True, CUDA_DEVICE_NUM: 0\n",
      "[2024-04-02 16:00:23] test.py(109) : env_params{'problem_size': 100, 'pomo_size': 100}\n",
      "[2024-04-02 16:00:23] test.py(109) : model_params{'embedding_dim': 128, 'sqrt_embedding_dim': 11.313708498984761, 'encoder_layer_num': 6, 'qkv_dim': 16, 'head_num': 8, 'logit_clipping': 10, 'ff_hidden_dim': 512, 'eval_type': 'argmax'}\n",
      "[2024-04-02 16:00:23] test.py(109) : tester_params{'use_cuda': True, 'cuda_device_num': 0, 'model_load': {'path': './result/saved_CVRP100_model', 'epoch': 30500}, 'test_episodes': 1000, 'test_batch_size': 1, 'augmentation_enable': True, 'aug_factor': 8, 'aug_batch_size': 1, 'test_data_load': {'enable': False, 'filename': '../vrp100_test_seed1234.pt'}, 'test_set_path': '../../../../VRP-Omni-modified/Vrp-Set-X/X-n819', 'test_set_opt_sol_path': '../../../../VRP-Omni-modified/Vrp-Set-A/A-n33-sol', 'test_set_name': 'A-n33'}\n",
      "[2024-04-02 16:00:23] test.py(109) : logger_params{'log_file': {'desc': 'test_cvrp100', 'filename': 'log.txt', 'filepath': './result/20240402_170022_test_cvrp100'}}\n",
      "['../../../../VRP-Omni-modified/Vrp-Set-X/X-n819/X-n819-k171.vrp']\n"
     ]
    },
    {
     "name": "stderr",
     "output_type": "stream",
     "text": [
      "/home/xunj/miniconda3/lib/python3.11/site-packages/torch/__init__.py:614: UserWarning: torch.set_default_tensor_type() is deprecated as of PyTorch 2.1, please use torch.set_default_dtype() and torch.set_default_device() as alternatives. (Triggered internally at /opt/conda/conda-bld/pytorch_1699449183005/work/torch/csrc/tensor/python_tensor.cpp:451.)\n",
      "  _C._set_default_tensor_type(t)\n"
     ]
    },
    {
     "name": "stdout",
     "output_type": "stream",
     "text": [
      "[2024-04-02 16:00:28] CVRPTester.py(130) : episode   1/  1, Elapsed[0.07m], Remain[0.00m], score:289.345, aug_score:237.897\n",
      "[2024-04-02 16:00:28] CVRPTester.py(136) :  *** Test Done *** \n",
      "[2024-04-02 16:00:28] CVRPTester.py(137) :  NO-AUG SCORE: 289.3453 \n",
      "[2024-04-02 16:00:28] CVRPTester.py(138) :  AUGMENTATION SCORE: 237.8973 \n",
      ">> Evaluation on ../../../../VRP-Omni-modified/Vrp-Set-X/X-n819 finished within 4.29s\n",
      ">> Save final results to res/X-n819\n",
      "Test on \" ../../../../VRP-Omni-modified/Vrp-Set-X/X-n819 \" Success\n",
      "-----------------------------------------------------------------------------------------------------------------\n",
      "[2024-04-02 16:00:30] test.py(107) : DEBUG_MODE: False\n",
      "[2024-04-02 16:00:30] test.py(108) : USE_CUDA: True, CUDA_DEVICE_NUM: 0\n",
      "[2024-04-02 16:00:30] test.py(109) : env_params{'problem_size': 100, 'pomo_size': 100}\n",
      "[2024-04-02 16:00:30] test.py(109) : model_params{'embedding_dim': 128, 'sqrt_embedding_dim': 11.313708498984761, 'encoder_layer_num': 6, 'qkv_dim': 16, 'head_num': 8, 'logit_clipping': 10, 'ff_hidden_dim': 512, 'eval_type': 'argmax'}\n",
      "[2024-04-02 16:00:30] test.py(109) : tester_params{'use_cuda': True, 'cuda_device_num': 0, 'model_load': {'path': './result/saved_CVRP100_model', 'epoch': 30500}, 'test_episodes': 1000, 'test_batch_size': 1, 'augmentation_enable': True, 'aug_factor': 8, 'aug_batch_size': 1, 'test_data_load': {'enable': False, 'filename': '../vrp100_test_seed1234.pt'}, 'test_set_path': '../../../../VRP-Omni-modified/Vrp-Set-X/X-n837', 'test_set_opt_sol_path': '../../../../VRP-Omni-modified/Vrp-Set-A/A-n33-sol', 'test_set_name': 'A-n33'}\n",
      "[2024-04-02 16:00:30] test.py(109) : logger_params{'log_file': {'desc': 'test_cvrp100', 'filename': 'log.txt', 'filepath': './result/20240402_170029_test_cvrp100'}}\n",
      "['../../../../VRP-Omni-modified/Vrp-Set-X/X-n837/X-n837-k142.vrp']\n"
     ]
    },
    {
     "name": "stderr",
     "output_type": "stream",
     "text": [
      "/home/xunj/miniconda3/lib/python3.11/site-packages/torch/__init__.py:614: UserWarning: torch.set_default_tensor_type() is deprecated as of PyTorch 2.1, please use torch.set_default_dtype() and torch.set_default_device() as alternatives. (Triggered internally at /opt/conda/conda-bld/pytorch_1699449183005/work/torch/csrc/tensor/python_tensor.cpp:451.)\n",
      "  _C._set_default_tensor_type(t)\n"
     ]
    },
    {
     "name": "stdout",
     "output_type": "stream",
     "text": [
      "[2024-04-02 16:00:34] CVRPTester.py(130) : episode   1/  1, Elapsed[0.06m], Remain[0.00m], score:233.820, aug_score:233.820\n",
      "[2024-04-02 16:00:34] CVRPTester.py(136) :  *** Test Done *** \n",
      "[2024-04-02 16:00:34] CVRPTester.py(137) :  NO-AUG SCORE: 233.8198 \n",
      "[2024-04-02 16:00:34] CVRPTester.py(138) :  AUGMENTATION SCORE: 233.8198 \n",
      ">> Evaluation on ../../../../VRP-Omni-modified/Vrp-Set-X/X-n837 finished within 3.66s\n",
      ">> Save final results to res/X-n837\n",
      "Test on \" ../../../../VRP-Omni-modified/Vrp-Set-X/X-n837 \" Success\n",
      "-----------------------------------------------------------------------------------------------------------------\n",
      "[2024-04-02 16:00:37] test.py(107) : DEBUG_MODE: False\n",
      "[2024-04-02 16:00:37] test.py(108) : USE_CUDA: True, CUDA_DEVICE_NUM: 0\n",
      "[2024-04-02 16:00:37] test.py(109) : env_params{'problem_size': 100, 'pomo_size': 100}\n",
      "[2024-04-02 16:00:37] test.py(109) : model_params{'embedding_dim': 128, 'sqrt_embedding_dim': 11.313708498984761, 'encoder_layer_num': 6, 'qkv_dim': 16, 'head_num': 8, 'logit_clipping': 10, 'ff_hidden_dim': 512, 'eval_type': 'argmax'}\n",
      "[2024-04-02 16:00:37] test.py(109) : tester_params{'use_cuda': True, 'cuda_device_num': 0, 'model_load': {'path': './result/saved_CVRP100_model', 'epoch': 30500}, 'test_episodes': 1000, 'test_batch_size': 1, 'augmentation_enable': True, 'aug_factor': 8, 'aug_batch_size': 1, 'test_data_load': {'enable': False, 'filename': '../vrp100_test_seed1234.pt'}, 'test_set_path': '../../../../VRP-Omni-modified/Vrp-Set-X/X-n856', 'test_set_opt_sol_path': '../../../../VRP-Omni-modified/Vrp-Set-A/A-n33-sol', 'test_set_name': 'A-n33'}\n",
      "[2024-04-02 16:00:37] test.py(109) : logger_params{'log_file': {'desc': 'test_cvrp100', 'filename': 'log.txt', 'filepath': './result/20240402_170036_test_cvrp100'}}\n",
      "['../../../../VRP-Omni-modified/Vrp-Set-X/X-n856/X-n856-k95.vrp']\n"
     ]
    },
    {
     "name": "stderr",
     "output_type": "stream",
     "text": [
      "/home/xunj/miniconda3/lib/python3.11/site-packages/torch/__init__.py:614: UserWarning: torch.set_default_tensor_type() is deprecated as of PyTorch 2.1, please use torch.set_default_dtype() and torch.set_default_device() as alternatives. (Triggered internally at /opt/conda/conda-bld/pytorch_1699449183005/work/torch/csrc/tensor/python_tensor.cpp:451.)\n",
      "  _C._set_default_tensor_type(t)\n"
     ]
    },
    {
     "name": "stdout",
     "output_type": "stream",
     "text": [
      "[2024-04-02 16:00:41] CVRPTester.py(130) : episode   1/  1, Elapsed[0.06m], Remain[0.00m], score:163.645, aug_score:163.645\n",
      "[2024-04-02 16:00:41] CVRPTester.py(136) :  *** Test Done *** \n",
      "[2024-04-02 16:00:41] CVRPTester.py(137) :  NO-AUG SCORE: 163.6454 \n",
      "[2024-04-02 16:00:41] CVRPTester.py(138) :  AUGMENTATION SCORE: 163.6454 \n",
      ">> Evaluation on ../../../../VRP-Omni-modified/Vrp-Set-X/X-n856 finished within 3.68s\n",
      ">> Save final results to res/X-n856\n",
      "Test on \" ../../../../VRP-Omni-modified/Vrp-Set-X/X-n856 \" Success\n",
      "-----------------------------------------------------------------------------------------------------------------\n",
      "[2024-04-02 16:00:44] test.py(107) : DEBUG_MODE: False\n",
      "[2024-04-02 16:00:44] test.py(108) : USE_CUDA: True, CUDA_DEVICE_NUM: 0\n",
      "[2024-04-02 16:00:44] test.py(109) : env_params{'problem_size': 100, 'pomo_size': 100}\n",
      "[2024-04-02 16:00:44] test.py(109) : model_params{'embedding_dim': 128, 'sqrt_embedding_dim': 11.313708498984761, 'encoder_layer_num': 6, 'qkv_dim': 16, 'head_num': 8, 'logit_clipping': 10, 'ff_hidden_dim': 512, 'eval_type': 'argmax'}\n",
      "[2024-04-02 16:00:44] test.py(109) : tester_params{'use_cuda': True, 'cuda_device_num': 0, 'model_load': {'path': './result/saved_CVRP100_model', 'epoch': 30500}, 'test_episodes': 1000, 'test_batch_size': 1, 'augmentation_enable': True, 'aug_factor': 8, 'aug_batch_size': 1, 'test_data_load': {'enable': False, 'filename': '../vrp100_test_seed1234.pt'}, 'test_set_path': '../../../../VRP-Omni-modified/Vrp-Set-X/X-n876', 'test_set_opt_sol_path': '../../../../VRP-Omni-modified/Vrp-Set-A/A-n33-sol', 'test_set_name': 'A-n33'}\n",
      "[2024-04-02 16:00:44] test.py(109) : logger_params{'log_file': {'desc': 'test_cvrp100', 'filename': 'log.txt', 'filepath': './result/20240402_170042_test_cvrp100'}}\n",
      "['../../../../VRP-Omni-modified/Vrp-Set-X/X-n876/X-n876-k59.vrp']\n"
     ]
    },
    {
     "name": "stderr",
     "output_type": "stream",
     "text": [
      "/home/xunj/miniconda3/lib/python3.11/site-packages/torch/__init__.py:614: UserWarning: torch.set_default_tensor_type() is deprecated as of PyTorch 2.1, please use torch.set_default_dtype() and torch.set_default_device() as alternatives. (Triggered internally at /opt/conda/conda-bld/pytorch_1699449183005/work/torch/csrc/tensor/python_tensor.cpp:451.)\n",
      "  _C._set_default_tensor_type(t)\n"
     ]
    },
    {
     "name": "stdout",
     "output_type": "stream",
     "text": [
      "[2024-04-02 16:00:48] CVRPTester.py(130) : episode   1/  1, Elapsed[0.06m], Remain[0.00m], score:177.726, aug_score:166.810\n",
      "[2024-04-02 16:00:48] CVRPTester.py(136) :  *** Test Done *** \n",
      "[2024-04-02 16:00:48] CVRPTester.py(137) :  NO-AUG SCORE: 177.7261 \n",
      "[2024-04-02 16:00:48] CVRPTester.py(138) :  AUGMENTATION SCORE: 166.8096 \n",
      ">> Evaluation on ../../../../VRP-Omni-modified/Vrp-Set-X/X-n876 finished within 3.75s\n",
      ">> Save final results to res/X-n876\n",
      "Test on \" ../../../../VRP-Omni-modified/Vrp-Set-X/X-n876 \" Success\n",
      "-----------------------------------------------------------------------------------------------------------------\n",
      "[2024-04-02 16:00:50] test.py(107) : DEBUG_MODE: False\n",
      "[2024-04-02 16:00:50] test.py(108) : USE_CUDA: True, CUDA_DEVICE_NUM: 0\n",
      "[2024-04-02 16:00:50] test.py(109) : env_params{'problem_size': 100, 'pomo_size': 100}\n",
      "[2024-04-02 16:00:50] test.py(109) : model_params{'embedding_dim': 128, 'sqrt_embedding_dim': 11.313708498984761, 'encoder_layer_num': 6, 'qkv_dim': 16, 'head_num': 8, 'logit_clipping': 10, 'ff_hidden_dim': 512, 'eval_type': 'argmax'}\n",
      "[2024-04-02 16:00:50] test.py(109) : tester_params{'use_cuda': True, 'cuda_device_num': 0, 'model_load': {'path': './result/saved_CVRP100_model', 'epoch': 30500}, 'test_episodes': 1000, 'test_batch_size': 1, 'augmentation_enable': True, 'aug_factor': 8, 'aug_batch_size': 1, 'test_data_load': {'enable': False, 'filename': '../vrp100_test_seed1234.pt'}, 'test_set_path': '../../../../VRP-Omni-modified/Vrp-Set-X/X-n895', 'test_set_opt_sol_path': '../../../../VRP-Omni-modified/Vrp-Set-A/A-n33-sol', 'test_set_name': 'A-n33'}\n",
      "[2024-04-02 16:00:50] test.py(109) : logger_params{'log_file': {'desc': 'test_cvrp100', 'filename': 'log.txt', 'filepath': './result/20240402_170049_test_cvrp100'}}\n",
      "['../../../../VRP-Omni-modified/Vrp-Set-X/X-n895/X-n895-k37.vrp']\n"
     ]
    },
    {
     "name": "stderr",
     "output_type": "stream",
     "text": [
      "/home/xunj/miniconda3/lib/python3.11/site-packages/torch/__init__.py:614: UserWarning: torch.set_default_tensor_type() is deprecated as of PyTorch 2.1, please use torch.set_default_dtype() and torch.set_default_device() as alternatives. (Triggered internally at /opt/conda/conda-bld/pytorch_1699449183005/work/torch/csrc/tensor/python_tensor.cpp:451.)\n",
      "  _C._set_default_tensor_type(t)\n"
     ]
    },
    {
     "name": "stdout",
     "output_type": "stream",
     "text": [
      "[2024-04-02 16:00:55] CVRPTester.py(130) : episode   1/  1, Elapsed[0.07m], Remain[0.00m], score:82.247, aug_score:79.317\n",
      "[2024-04-02 16:00:55] CVRPTester.py(136) :  *** Test Done *** \n",
      "[2024-04-02 16:00:55] CVRPTester.py(137) :  NO-AUG SCORE: 82.2471 \n",
      "[2024-04-02 16:00:55] CVRPTester.py(138) :  AUGMENTATION SCORE: 79.3168 \n",
      ">> Evaluation on ../../../../VRP-Omni-modified/Vrp-Set-X/X-n895 finished within 3.91s\n",
      ">> Save final results to res/X-n895\n",
      "Test on \" ../../../../VRP-Omni-modified/Vrp-Set-X/X-n895 \" Success\n",
      "-----------------------------------------------------------------------------------------------------------------\n",
      "[2024-04-02 16:00:57] test.py(107) : DEBUG_MODE: False\n",
      "[2024-04-02 16:00:57] test.py(108) : USE_CUDA: True, CUDA_DEVICE_NUM: 0\n",
      "[2024-04-02 16:00:57] test.py(109) : env_params{'problem_size': 100, 'pomo_size': 100}\n",
      "[2024-04-02 16:00:57] test.py(109) : model_params{'embedding_dim': 128, 'sqrt_embedding_dim': 11.313708498984761, 'encoder_layer_num': 6, 'qkv_dim': 16, 'head_num': 8, 'logit_clipping': 10, 'ff_hidden_dim': 512, 'eval_type': 'argmax'}\n",
      "[2024-04-02 16:00:57] test.py(109) : tester_params{'use_cuda': True, 'cuda_device_num': 0, 'model_load': {'path': './result/saved_CVRP100_model', 'epoch': 30500}, 'test_episodes': 1000, 'test_batch_size': 1, 'augmentation_enable': True, 'aug_factor': 8, 'aug_batch_size': 1, 'test_data_load': {'enable': False, 'filename': '../vrp100_test_seed1234.pt'}, 'test_set_path': '../../../../VRP-Omni-modified/Vrp-Set-X/X-n916', 'test_set_opt_sol_path': '../../../../VRP-Omni-modified/Vrp-Set-A/A-n33-sol', 'test_set_name': 'A-n33'}\n",
      "[2024-04-02 16:00:57] test.py(109) : logger_params{'log_file': {'desc': 'test_cvrp100', 'filename': 'log.txt', 'filepath': './result/20240402_170056_test_cvrp100'}}\n",
      "['../../../../VRP-Omni-modified/Vrp-Set-X/X-n916/X-n916-k207.vrp']\n"
     ]
    },
    {
     "name": "stderr",
     "output_type": "stream",
     "text": [
      "/home/xunj/miniconda3/lib/python3.11/site-packages/torch/__init__.py:614: UserWarning: torch.set_default_tensor_type() is deprecated as of PyTorch 2.1, please use torch.set_default_dtype() and torch.set_default_device() as alternatives. (Triggered internally at /opt/conda/conda-bld/pytorch_1699449183005/work/torch/csrc/tensor/python_tensor.cpp:451.)\n",
      "  _C._set_default_tensor_type(t)\n"
     ]
    },
    {
     "name": "stdout",
     "output_type": "stream",
     "text": [
      "[2024-04-02 16:01:02] CVRPTester.py(130) : episode   1/  1, Elapsed[0.08m], Remain[0.00m], score:384.625, aug_score:384.625\n",
      "[2024-04-02 16:01:02] CVRPTester.py(136) :  *** Test Done *** \n",
      "[2024-04-02 16:01:02] CVRPTester.py(137) :  NO-AUG SCORE: 384.6248 \n",
      "[2024-04-02 16:01:02] CVRPTester.py(138) :  AUGMENTATION SCORE: 384.6248 \n",
      ">> Evaluation on ../../../../VRP-Omni-modified/Vrp-Set-X/X-n916 finished within 4.99s\n",
      ">> Save final results to res/X-n916\n",
      "Test on \" ../../../../VRP-Omni-modified/Vrp-Set-X/X-n916 \" Success\n",
      "-----------------------------------------------------------------------------------------------------------------\n",
      "[2024-04-02 16:01:05] test.py(107) : DEBUG_MODE: False\n",
      "[2024-04-02 16:01:05] test.py(108) : USE_CUDA: True, CUDA_DEVICE_NUM: 0\n",
      "[2024-04-02 16:01:05] test.py(109) : env_params{'problem_size': 100, 'pomo_size': 100}\n",
      "[2024-04-02 16:01:05] test.py(109) : model_params{'embedding_dim': 128, 'sqrt_embedding_dim': 11.313708498984761, 'encoder_layer_num': 6, 'qkv_dim': 16, 'head_num': 8, 'logit_clipping': 10, 'ff_hidden_dim': 512, 'eval_type': 'argmax'}\n",
      "[2024-04-02 16:01:05] test.py(109) : tester_params{'use_cuda': True, 'cuda_device_num': 0, 'model_load': {'path': './result/saved_CVRP100_model', 'epoch': 30500}, 'test_episodes': 1000, 'test_batch_size': 1, 'augmentation_enable': True, 'aug_factor': 8, 'aug_batch_size': 1, 'test_data_load': {'enable': False, 'filename': '../vrp100_test_seed1234.pt'}, 'test_set_path': '../../../../VRP-Omni-modified/Vrp-Set-X/X-n936', 'test_set_opt_sol_path': '../../../../VRP-Omni-modified/Vrp-Set-A/A-n33-sol', 'test_set_name': 'A-n33'}\n",
      "[2024-04-02 16:01:05] test.py(109) : logger_params{'log_file': {'desc': 'test_cvrp100', 'filename': 'log.txt', 'filepath': './result/20240402_170104_test_cvrp100'}}\n",
      "['../../../../VRP-Omni-modified/Vrp-Set-X/X-n936/X-n936-k151.vrp']\n"
     ]
    },
    {
     "name": "stderr",
     "output_type": "stream",
     "text": [
      "/home/xunj/miniconda3/lib/python3.11/site-packages/torch/__init__.py:614: UserWarning: torch.set_default_tensor_type() is deprecated as of PyTorch 2.1, please use torch.set_default_dtype() and torch.set_default_device() as alternatives. (Triggered internally at /opt/conda/conda-bld/pytorch_1699449183005/work/torch/csrc/tensor/python_tensor.cpp:451.)\n",
      "  _C._set_default_tensor_type(t)\n"
     ]
    },
    {
     "name": "stdout",
     "output_type": "stream",
     "text": [
      "[2024-04-02 16:01:10] CVRPTester.py(130) : episode   1/  1, Elapsed[0.08m], Remain[0.00m], score:208.618, aug_score:208.618\n",
      "[2024-04-02 16:01:10] CVRPTester.py(136) :  *** Test Done *** \n",
      "[2024-04-02 16:01:10] CVRPTester.py(137) :  NO-AUG SCORE: 208.6178 \n",
      "[2024-04-02 16:01:10] CVRPTester.py(138) :  AUGMENTATION SCORE: 208.6178 \n",
      ">> Evaluation on ../../../../VRP-Omni-modified/Vrp-Set-X/X-n936 finished within 4.91s\n",
      ">> Save final results to res/X-n936\n",
      "Test on \" ../../../../VRP-Omni-modified/Vrp-Set-X/X-n936 \" Success\n",
      "-----------------------------------------------------------------------------------------------------------------\n",
      "[2024-04-02 16:01:13] test.py(107) : DEBUG_MODE: False\n",
      "[2024-04-02 16:01:13] test.py(108) : USE_CUDA: True, CUDA_DEVICE_NUM: 0\n",
      "[2024-04-02 16:01:13] test.py(109) : env_params{'problem_size': 100, 'pomo_size': 100}\n",
      "[2024-04-02 16:01:13] test.py(109) : model_params{'embedding_dim': 128, 'sqrt_embedding_dim': 11.313708498984761, 'encoder_layer_num': 6, 'qkv_dim': 16, 'head_num': 8, 'logit_clipping': 10, 'ff_hidden_dim': 512, 'eval_type': 'argmax'}\n",
      "[2024-04-02 16:01:13] test.py(109) : tester_params{'use_cuda': True, 'cuda_device_num': 0, 'model_load': {'path': './result/saved_CVRP100_model', 'epoch': 30500}, 'test_episodes': 1000, 'test_batch_size': 1, 'augmentation_enable': True, 'aug_factor': 8, 'aug_batch_size': 1, 'test_data_load': {'enable': False, 'filename': '../vrp100_test_seed1234.pt'}, 'test_set_path': '../../../../VRP-Omni-modified/Vrp-Set-X/X-n957', 'test_set_opt_sol_path': '../../../../VRP-Omni-modified/Vrp-Set-A/A-n33-sol', 'test_set_name': 'A-n33'}\n",
      "[2024-04-02 16:01:13] test.py(109) : logger_params{'log_file': {'desc': 'test_cvrp100', 'filename': 'log.txt', 'filepath': './result/20240402_170112_test_cvrp100'}}\n",
      "['../../../../VRP-Omni-modified/Vrp-Set-X/X-n957/X-n957-k87.vrp']\n"
     ]
    },
    {
     "name": "stderr",
     "output_type": "stream",
     "text": [
      "/home/xunj/miniconda3/lib/python3.11/site-packages/torch/__init__.py:614: UserWarning: torch.set_default_tensor_type() is deprecated as of PyTorch 2.1, please use torch.set_default_dtype() and torch.set_default_device() as alternatives. (Triggered internally at /opt/conda/conda-bld/pytorch_1699449183005/work/torch/csrc/tensor/python_tensor.cpp:451.)\n",
      "  _C._set_default_tensor_type(t)\n"
     ]
    },
    {
     "name": "stdout",
     "output_type": "stream",
     "text": [
      "[2024-04-02 16:01:18] CVRPTester.py(130) : episode   1/  1, Elapsed[0.08m], Remain[0.00m], score:183.254, aug_score:158.057\n",
      "[2024-04-02 16:01:18] CVRPTester.py(136) :  *** Test Done *** \n",
      "[2024-04-02 16:01:18] CVRPTester.py(137) :  NO-AUG SCORE: 183.2535 \n",
      "[2024-04-02 16:01:18] CVRPTester.py(138) :  AUGMENTATION SCORE: 158.0573 \n",
      ">> Evaluation on ../../../../VRP-Omni-modified/Vrp-Set-X/X-n957 finished within 5.01s\n",
      ">> Save final results to res/X-n957\n",
      "Test on \" ../../../../VRP-Omni-modified/Vrp-Set-X/X-n957 \" Success\n",
      "-----------------------------------------------------------------------------------------------------------------\n",
      "[2024-04-02 16:01:21] test.py(107) : DEBUG_MODE: False\n",
      "[2024-04-02 16:01:21] test.py(108) : USE_CUDA: True, CUDA_DEVICE_NUM: 0\n",
      "[2024-04-02 16:01:21] test.py(109) : env_params{'problem_size': 100, 'pomo_size': 100}\n",
      "[2024-04-02 16:01:21] test.py(109) : model_params{'embedding_dim': 128, 'sqrt_embedding_dim': 11.313708498984761, 'encoder_layer_num': 6, 'qkv_dim': 16, 'head_num': 8, 'logit_clipping': 10, 'ff_hidden_dim': 512, 'eval_type': 'argmax'}\n",
      "[2024-04-02 16:01:21] test.py(109) : tester_params{'use_cuda': True, 'cuda_device_num': 0, 'model_load': {'path': './result/saved_CVRP100_model', 'epoch': 30500}, 'test_episodes': 1000, 'test_batch_size': 1, 'augmentation_enable': True, 'aug_factor': 8, 'aug_batch_size': 1, 'test_data_load': {'enable': False, 'filename': '../vrp100_test_seed1234.pt'}, 'test_set_path': '../../../../VRP-Omni-modified/Vrp-Set-X/X-n979', 'test_set_opt_sol_path': '../../../../VRP-Omni-modified/Vrp-Set-A/A-n33-sol', 'test_set_name': 'A-n33'}\n",
      "[2024-04-02 16:01:21] test.py(109) : logger_params{'log_file': {'desc': 'test_cvrp100', 'filename': 'log.txt', 'filepath': './result/20240402_170119_test_cvrp100'}}\n",
      "['../../../../VRP-Omni-modified/Vrp-Set-X/X-n979/X-n979-k58.vrp']\n"
     ]
    },
    {
     "name": "stderr",
     "output_type": "stream",
     "text": [
      "/home/xunj/miniconda3/lib/python3.11/site-packages/torch/__init__.py:614: UserWarning: torch.set_default_tensor_type() is deprecated as of PyTorch 2.1, please use torch.set_default_dtype() and torch.set_default_device() as alternatives. (Triggered internally at /opt/conda/conda-bld/pytorch_1699449183005/work/torch/csrc/tensor/python_tensor.cpp:451.)\n",
      "  _C._set_default_tensor_type(t)\n"
     ]
    },
    {
     "name": "stdout",
     "output_type": "stream",
     "text": [
      "[2024-04-02 16:01:26] CVRPTester.py(130) : episode   1/  1, Elapsed[0.09m], Remain[0.00m], score:201.035, aug_score:187.624\n",
      "[2024-04-02 16:01:26] CVRPTester.py(136) :  *** Test Done *** \n",
      "[2024-04-02 16:01:26] CVRPTester.py(137) :  NO-AUG SCORE: 201.0350 \n",
      "[2024-04-02 16:01:26] CVRPTester.py(138) :  AUGMENTATION SCORE: 187.6238 \n",
      ">> Evaluation on ../../../../VRP-Omni-modified/Vrp-Set-X/X-n979 finished within 5.19s\n",
      ">> Save final results to res/X-n979\n",
      "Test on \" ../../../../VRP-Omni-modified/Vrp-Set-X/X-n979 \" Success\n",
      "-----------------------------------------------------------------------------------------------------------------\n",
      "[2024-04-02 16:01:29] test.py(107) : DEBUG_MODE: False\n",
      "[2024-04-02 16:01:29] test.py(108) : USE_CUDA: True, CUDA_DEVICE_NUM: 0\n",
      "[2024-04-02 16:01:29] test.py(109) : env_params{'problem_size': 100, 'pomo_size': 100}\n",
      "[2024-04-02 16:01:29] test.py(109) : model_params{'embedding_dim': 128, 'sqrt_embedding_dim': 11.313708498984761, 'encoder_layer_num': 6, 'qkv_dim': 16, 'head_num': 8, 'logit_clipping': 10, 'ff_hidden_dim': 512, 'eval_type': 'argmax'}\n",
      "[2024-04-02 16:01:29] test.py(109) : tester_params{'use_cuda': True, 'cuda_device_num': 0, 'model_load': {'path': './result/saved_CVRP100_model', 'epoch': 30500}, 'test_episodes': 1000, 'test_batch_size': 1, 'augmentation_enable': True, 'aug_factor': 8, 'aug_batch_size': 1, 'test_data_load': {'enable': False, 'filename': '../vrp100_test_seed1234.pt'}, 'test_set_path': '../../../../VRP-Omni-modified/Vrp-Set-XML100/Vrp-Set-XML100', 'test_set_opt_sol_path': '../../../../VRP-Omni-modified/Vrp-Set-A/A-n33-sol', 'test_set_name': 'A-n33'}\n",
      "[2024-04-02 16:01:29] test.py(109) : logger_params{'log_file': {'desc': 'test_cvrp100', 'filename': 'log.txt', 'filepath': './result/20240402_170128_test_cvrp100'}}\n",
      "['../../../../VRP-Omni-modified/Vrp-Set-XML100/Vrp-Set-XML100/OptimalCosts.ods', '../../../../VRP-Omni-modified/Vrp-Set-XML100/Vrp-Set-XML100/README', '../../../../VRP-Omni-modified/Vrp-Set-XML100/Vrp-Set-XML100/genXML100.sh', '../../../../VRP-Omni-modified/Vrp-Set-XML100/Vrp-Set-XML100/generator.py', '../../../../VRP-Omni-modified/Vrp-Set-XML100/Vrp-Set-XML100/instances', '../../../../VRP-Omni-modified/Vrp-Set-XML100/Vrp-Set-XML100/solutions']\n"
     ]
    },
    {
     "name": "stderr",
     "output_type": "stream",
     "text": [
      "/home/xunj/miniconda3/lib/python3.11/site-packages/torch/__init__.py:614: UserWarning: torch.set_default_tensor_type() is deprecated as of PyTorch 2.1, please use torch.set_default_dtype() and torch.set_default_device() as alternatives. (Triggered internally at /opt/conda/conda-bld/pytorch_1699449183005/work/torch/csrc/tensor/python_tensor.cpp:451.)\n",
      "  _C._set_default_tensor_type(t)\n",
      "Traceback (most recent call last):\n",
      "  File \"/home/xunj/GradWork/POMO-master/NEW_py_ver/CVRP/POMO/test.py\", line 132, in <module>\n",
      "    main()\n",
      "  File \"/home/xunj/GradWork/POMO-master/NEW_py_ver/CVRP/POMO/test.py\", line 91, in main\n",
      "    tester = Tester(env_params=env_params,\n",
      "             ^^^^^^^^^^^^^^^^^^^^^^^^^^^^^\n",
      "  File \"/home/xunj/GradWork/POMO-master/NEW_py_ver/CVRP/POMO/CVRPTester.py\", line 58, in __init__\n",
      "    assert self.path_list[-1].endswith(\".vrp\")\n",
      "AssertionError\n"
     ]
    },
    {
     "name": "stdout",
     "output_type": "stream",
     "text": [
      "Check out issue on set:  ../../../../VRP-Omni-modified/Vrp-Set-XML100/Vrp-Set-XML100\n",
      "[2024-04-02 16:01:31] test.py(107) : DEBUG_MODE: False\n",
      "[2024-04-02 16:01:31] test.py(108) : USE_CUDA: True, CUDA_DEVICE_NUM: 0\n",
      "[2024-04-02 16:01:31] test.py(109) : env_params{'problem_size': 100, 'pomo_size': 100}\n",
      "[2024-04-02 16:01:31] test.py(109) : model_params{'embedding_dim': 128, 'sqrt_embedding_dim': 11.313708498984761, 'encoder_layer_num': 6, 'qkv_dim': 16, 'head_num': 8, 'logit_clipping': 10, 'ff_hidden_dim': 512, 'eval_type': 'argmax'}\n",
      "[2024-04-02 16:01:31] test.py(109) : tester_params{'use_cuda': True, 'cuda_device_num': 0, 'model_load': {'path': './result/saved_CVRP100_model', 'epoch': 30500}, 'test_episodes': 1000, 'test_batch_size': 1, 'augmentation_enable': True, 'aug_factor': 8, 'aug_batch_size': 1, 'test_data_load': {'enable': False, 'filename': '../vrp100_test_seed1234.pt'}, 'test_set_path': '../../../../VRP-Omni-modified/Vrp-Set-XXL/XXL', 'test_set_opt_sol_path': '../../../../VRP-Omni-modified/Vrp-Set-A/A-n33-sol', 'test_set_name': 'A-n33'}\n",
      "[2024-04-02 16:01:31] test.py(109) : logger_params{'log_file': {'desc': 'test_cvrp100', 'filename': 'log.txt', 'filepath': './result/20240402_170130_test_cvrp100'}}\n",
      "['../../../../VRP-Omni-modified/Vrp-Set-XXL/XXL/Antwerp1.sol', '../../../../VRP-Omni-modified/Vrp-Set-XXL/XXL/Antwerp2.sol', '../../../../VRP-Omni-modified/Vrp-Set-XXL/XXL/Brussels1.sol', '../../../../VRP-Omni-modified/Vrp-Set-XXL/XXL/Brussels2.sol', '../../../../VRP-Omni-modified/Vrp-Set-XXL/XXL/Flanders1.sol', '../../../../VRP-Omni-modified/Vrp-Set-XXL/XXL/Flanders2.sol', '../../../../VRP-Omni-modified/Vrp-Set-XXL/XXL/Ghent1.sol', '../../../../VRP-Omni-modified/Vrp-Set-XXL/XXL/Ghent1.vrp', '../../../../VRP-Omni-modified/Vrp-Set-XXL/XXL/Ghent2.sol', '../../../../VRP-Omni-modified/Vrp-Set-XXL/XXL/Ghent2.vrp', '../../../../VRP-Omni-modified/Vrp-Set-XXL/XXL/Leuven1.sol', '../../../../VRP-Omni-modified/Vrp-Set-XXL/XXL/Leuven1.vrp', '../../../../VRP-Omni-modified/Vrp-Set-XXL/XXL/Leuven2.sol', '../../../../VRP-Omni-modified/Vrp-Set-XXL/XXL/Leuven2.vrp']\n"
     ]
    },
    {
     "name": "stderr",
     "output_type": "stream",
     "text": [
      "/home/xunj/miniconda3/lib/python3.11/site-packages/torch/__init__.py:614: UserWarning: torch.set_default_tensor_type() is deprecated as of PyTorch 2.1, please use torch.set_default_dtype() and torch.set_default_device() as alternatives. (Triggered internally at /opt/conda/conda-bld/pytorch_1699449183005/work/torch/csrc/tensor/python_tensor.cpp:451.)\n",
      "  _C._set_default_tensor_type(t)\n",
      "Traceback (most recent call last):\n",
      "  File \"/home/xunj/GradWork/POMO-master/NEW_py_ver/CVRP/POMO/test.py\", line 132, in <module>\n",
      "    main()\n",
      "  File \"/home/xunj/GradWork/POMO-master/NEW_py_ver/CVRP/POMO/test.py\", line 91, in main\n",
      "    tester = Tester(env_params=env_params,\n",
      "             ^^^^^^^^^^^^^^^^^^^^^^^^^^^^^\n",
      "  File \"/home/xunj/GradWork/POMO-master/NEW_py_ver/CVRP/POMO/CVRPTester.py\", line 65, in __init__\n",
      "    self.test_data = self.pack_cvrplib(self.path_list)[: self.tester_params['test_episodes']]\n",
      "                     ^^^^^^^^^^^^^^^^^^^^^^^^^^^^^^^^^\n",
      "  File \"/home/xunj/GradWork/POMO-master/NEW_py_ver/CVRP/POMO/CVRPTester.py\", line 213, in pack_cvrplib\n",
      "    original_locations = locations[:, 1:]\n",
      "                         ^^^^^^^^^\n",
      "UnboundLocalError: cannot access local variable 'locations' where it is not associated with a value\n"
     ]
    },
    {
     "name": "stdout",
     "output_type": "stream",
     "text": [
      "Check out issue on set:  ../../../../VRP-Omni-modified/Vrp-Set-XXL/XXL\n",
      "[2024-04-02 16:01:34] test.py(107) : DEBUG_MODE: False\n",
      "[2024-04-02 16:01:34] test.py(108) : USE_CUDA: True, CUDA_DEVICE_NUM: 0\n",
      "[2024-04-02 16:01:34] test.py(109) : env_params{'problem_size': 100, 'pomo_size': 100}\n",
      "[2024-04-02 16:01:34] test.py(109) : model_params{'embedding_dim': 128, 'sqrt_embedding_dim': 11.313708498984761, 'encoder_layer_num': 6, 'qkv_dim': 16, 'head_num': 8, 'logit_clipping': 10, 'ff_hidden_dim': 512, 'eval_type': 'argmax'}\n",
      "[2024-04-02 16:01:34] test.py(109) : tester_params{'use_cuda': True, 'cuda_device_num': 0, 'model_load': {'path': './result/saved_CVRP100_model', 'epoch': 30500}, 'test_episodes': 1000, 'test_batch_size': 1, 'augmentation_enable': True, 'aug_factor': 8, 'aug_batch_size': 1, 'test_data_load': {'enable': False, 'filename': '../vrp100_test_seed1234.pt'}, 'test_set_path': '../../../../VRP-Omni-modified/Vrp-Set-XXL/XXL-n15001', 'test_set_opt_sol_path': '../../../../VRP-Omni-modified/Vrp-Set-A/A-n33-sol', 'test_set_name': 'A-n33'}\n",
      "[2024-04-02 16:01:34] test.py(109) : logger_params{'log_file': {'desc': 'test_cvrp100', 'filename': 'log.txt', 'filepath': './result/20240402_170132_test_cvrp100'}}\n",
      "['../../../../VRP-Omni-modified/Vrp-Set-XXL/XXL-n15001/Brussels1.vrp']\n"
     ]
    },
    {
     "name": "stderr",
     "output_type": "stream",
     "text": [
      "/home/xunj/miniconda3/lib/python3.11/site-packages/torch/__init__.py:614: UserWarning: torch.set_default_tensor_type() is deprecated as of PyTorch 2.1, please use torch.set_default_dtype() and torch.set_default_device() as alternatives. (Triggered internally at /opt/conda/conda-bld/pytorch_1699449183005/work/torch/csrc/tensor/python_tensor.cpp:451.)\n",
      "  _C._set_default_tensor_type(t)\n",
      "Traceback (most recent call last):\n",
      "  File \"/home/xunj/GradWork/POMO-master/NEW_py_ver/CVRP/POMO/test.py\", line 132, in <module>\n",
      "    main()\n",
      "  File \"/home/xunj/GradWork/POMO-master/NEW_py_ver/CVRP/POMO/test.py\", line 97, in main\n",
      "    tester.run()\n",
      "  File \"/home/xunj/GradWork/POMO-master/NEW_py_ver/CVRP/POMO/CVRPTester.py\", line 111, in run\n",
      "    score, aug_score,all_score,all_aug_score = self._test_one_batch(batch_size,data=data)\n",
      "                                               ^^^^^^^^^^^^^^^^^^^^^^^^^^^^^^^^^^^^^^^^^^\n",
      "  File \"/home/xunj/GradWork/POMO-master/NEW_py_ver/CVRP/POMO/CVRPTester.py\", line 164, in _test_one_batch\n",
      "    self.model.pre_forward(reset_state)\n",
      "  File \"/home/xunj/GradWork/POMO-master/NEW_py_ver/CVRP/POMO/CVRPModel.py\", line 28, in pre_forward\n",
      "    self.encoded_nodes = self.encoder(depot_xy, node_xy_demand)\n",
      "                         ^^^^^^^^^^^^^^^^^^^^^^^^^^^^^^^^^^^^^^\n",
      "  File \"/home/xunj/miniconda3/lib/python3.11/site-packages/torch/nn/modules/module.py\", line 1518, in _wrapped_call_impl\n",
      "    return self._call_impl(*args, **kwargs)\n",
      "           ^^^^^^^^^^^^^^^^^^^^^^^^^^^^^^^^\n",
      "  File \"/home/xunj/miniconda3/lib/python3.11/site-packages/torch/nn/modules/module.py\", line 1527, in _call_impl\n",
      "    return forward_call(*args, **kwargs)\n",
      "           ^^^^^^^^^^^^^^^^^^^^^^^^^^^^^\n",
      "  File \"/home/xunj/GradWork/POMO-master/NEW_py_ver/CVRP/POMO/CVRPModel.py\", line 125, in forward\n",
      "    out = layer(out)\n",
      "          ^^^^^^^^^^\n",
      "  File \"/home/xunj/miniconda3/lib/python3.11/site-packages/torch/nn/modules/module.py\", line 1518, in _wrapped_call_impl\n",
      "    return self._call_impl(*args, **kwargs)\n",
      "           ^^^^^^^^^^^^^^^^^^^^^^^^^^^^^^^^\n",
      "  File \"/home/xunj/miniconda3/lib/python3.11/site-packages/torch/nn/modules/module.py\", line 1527, in _call_impl\n",
      "    return forward_call(*args, **kwargs)\n",
      "           ^^^^^^^^^^^^^^^^^^^^^^^^^^^^^\n",
      "  File \"/home/xunj/GradWork/POMO-master/NEW_py_ver/CVRP/POMO/CVRPModel.py\", line 157, in forward\n",
      "    out_concat = multi_head_attention(q, k, v)\n",
      "                 ^^^^^^^^^^^^^^^^^^^^^^^^^^^^^\n",
      "  File \"/home/xunj/GradWork/POMO-master/NEW_py_ver/CVRP/POMO/CVRPModel.py\", line 298, in multi_head_attention\n",
      "    score = torch.matmul(q, k.transpose(2, 3))\n",
      "            ^^^^^^^^^^^^^^^^^^^^^^^^^^^^^^^^^^\n",
      "torch.cuda.OutOfMemoryError: CUDA out of memory. Tried to allocate 53.65 GiB. GPU 0 has a total capacty of 23.69 GiB of which 283.19 MiB is free. Process 2946656 has 9.25 GiB memory in use. Including non-PyTorch memory, this process has 14.15 GiB memory in use. Of the allocated memory 13.83 GiB is allocated by PyTorch, and 23.98 MiB is reserved by PyTorch but unallocated. If reserved but unallocated memory is large try setting max_split_size_mb to avoid fragmentation.  See documentation for Memory Management and PYTORCH_CUDA_ALLOC_CONF\n"
     ]
    },
    {
     "name": "stdout",
     "output_type": "stream",
     "text": [
      "Check out issue on set:  ../../../../VRP-Omni-modified/Vrp-Set-XXL/XXL-n15001\n",
      "[2024-04-02 16:01:37] test.py(107) : DEBUG_MODE: False\n",
      "[2024-04-02 16:01:37] test.py(108) : USE_CUDA: True, CUDA_DEVICE_NUM: 0\n",
      "[2024-04-02 16:01:37] test.py(109) : env_params{'problem_size': 100, 'pomo_size': 100}\n",
      "[2024-04-02 16:01:37] test.py(109) : model_params{'embedding_dim': 128, 'sqrt_embedding_dim': 11.313708498984761, 'encoder_layer_num': 6, 'qkv_dim': 16, 'head_num': 8, 'logit_clipping': 10, 'ff_hidden_dim': 512, 'eval_type': 'argmax'}\n",
      "[2024-04-02 16:01:37] test.py(109) : tester_params{'use_cuda': True, 'cuda_device_num': 0, 'model_load': {'path': './result/saved_CVRP100_model', 'epoch': 30500}, 'test_episodes': 1000, 'test_batch_size': 1, 'augmentation_enable': True, 'aug_factor': 8, 'aug_batch_size': 1, 'test_data_load': {'enable': False, 'filename': '../vrp100_test_seed1234.pt'}, 'test_set_path': '../../../../VRP-Omni-modified/Vrp-Set-XXL/XXL-n16001', 'test_set_opt_sol_path': '../../../../VRP-Omni-modified/Vrp-Set-A/A-n33-sol', 'test_set_name': 'A-n33'}\n",
      "[2024-04-02 16:01:37] test.py(109) : logger_params{'log_file': {'desc': 'test_cvrp100', 'filename': 'log.txt', 'filepath': './result/20240402_170135_test_cvrp100'}}\n",
      "['../../../../VRP-Omni-modified/Vrp-Set-XXL/XXL-n16001/Brussels2.vrp']\n"
     ]
    },
    {
     "name": "stderr",
     "output_type": "stream",
     "text": [
      "/home/xunj/miniconda3/lib/python3.11/site-packages/torch/__init__.py:614: UserWarning: torch.set_default_tensor_type() is deprecated as of PyTorch 2.1, please use torch.set_default_dtype() and torch.set_default_device() as alternatives. (Triggered internally at /opt/conda/conda-bld/pytorch_1699449183005/work/torch/csrc/tensor/python_tensor.cpp:451.)\n",
      "  _C._set_default_tensor_type(t)\n",
      "Traceback (most recent call last):\n",
      "  File \"/home/xunj/GradWork/POMO-master/NEW_py_ver/CVRP/POMO/test.py\", line 132, in <module>\n",
      "    main()\n",
      "  File \"/home/xunj/GradWork/POMO-master/NEW_py_ver/CVRP/POMO/test.py\", line 97, in main\n",
      "    tester.run()\n",
      "  File \"/home/xunj/GradWork/POMO-master/NEW_py_ver/CVRP/POMO/CVRPTester.py\", line 111, in run\n",
      "    score, aug_score,all_score,all_aug_score = self._test_one_batch(batch_size,data=data)\n",
      "                                               ^^^^^^^^^^^^^^^^^^^^^^^^^^^^^^^^^^^^^^^^^^\n",
      "  File \"/home/xunj/GradWork/POMO-master/NEW_py_ver/CVRP/POMO/CVRPTester.py\", line 163, in _test_one_batch\n",
      "    reset_state, _, _ = self.env.reset()\n",
      "                        ^^^^^^^^^^^^^^^^\n",
      "  File \"/home/xunj/GradWork/POMO-master/NEW_py_ver/CVRP/POMO/CVRPEnv.py\", line 149, in reset\n",
      "    self.ninf_mask = torch.zeros(size=(self.batch_size, self.pomo_size, self.problem_size+1))\n",
      "                     ^^^^^^^^^^^^^^^^^^^^^^^^^^^^^^^^^^^^^^^^^^^^^^^^^^^^^^^^^^^^^^^^^^^^^^^^\n",
      "torch.cuda.OutOfMemoryError: CUDA out of memory. Tried to allocate 7.63 GiB. GPU 0 has a total capacty of 23.69 GiB of which 6.50 GiB is free. Process 2946656 has 9.25 GiB memory in use. Including non-PyTorch memory, this process has 7.93 GiB memory in use. Of the allocated memory 7.64 GiB is allocated by PyTorch, and 2.38 MiB is reserved by PyTorch but unallocated. If reserved but unallocated memory is large try setting max_split_size_mb to avoid fragmentation.  See documentation for Memory Management and PYTORCH_CUDA_ALLOC_CONF\n"
     ]
    },
    {
     "name": "stdout",
     "output_type": "stream",
     "text": [
      "Check out issue on set:  ../../../../VRP-Omni-modified/Vrp-Set-XXL/XXL-n16001\n",
      "[2024-04-02 16:01:40] test.py(107) : DEBUG_MODE: False\n",
      "[2024-04-02 16:01:40] test.py(108) : USE_CUDA: True, CUDA_DEVICE_NUM: 0\n",
      "[2024-04-02 16:01:40] test.py(109) : env_params{'problem_size': 100, 'pomo_size': 100}\n",
      "[2024-04-02 16:01:40] test.py(109) : model_params{'embedding_dim': 128, 'sqrt_embedding_dim': 11.313708498984761, 'encoder_layer_num': 6, 'qkv_dim': 16, 'head_num': 8, 'logit_clipping': 10, 'ff_hidden_dim': 512, 'eval_type': 'argmax'}\n",
      "[2024-04-02 16:01:40] test.py(109) : tester_params{'use_cuda': True, 'cuda_device_num': 0, 'model_load': {'path': './result/saved_CVRP100_model', 'epoch': 30500}, 'test_episodes': 1000, 'test_batch_size': 1, 'augmentation_enable': True, 'aug_factor': 8, 'aug_batch_size': 1, 'test_data_load': {'enable': False, 'filename': '../vrp100_test_seed1234.pt'}, 'test_set_path': '../../../../VRP-Omni-modified/Vrp-Set-XXL/XXL-n20001', 'test_set_opt_sol_path': '../../../../VRP-Omni-modified/Vrp-Set-A/A-n33-sol', 'test_set_name': 'A-n33'}\n",
      "[2024-04-02 16:01:40] test.py(109) : logger_params{'log_file': {'desc': 'test_cvrp100', 'filename': 'log.txt', 'filepath': './result/20240402_170138_test_cvrp100'}}\n",
      "['../../../../VRP-Omni-modified/Vrp-Set-XXL/XXL-n20001/Flanders1.vrp']\n"
     ]
    },
    {
     "name": "stderr",
     "output_type": "stream",
     "text": [
      "/home/xunj/miniconda3/lib/python3.11/site-packages/torch/__init__.py:614: UserWarning: torch.set_default_tensor_type() is deprecated as of PyTorch 2.1, please use torch.set_default_dtype() and torch.set_default_device() as alternatives. (Triggered internally at /opt/conda/conda-bld/pytorch_1699449183005/work/torch/csrc/tensor/python_tensor.cpp:451.)\n",
      "  _C._set_default_tensor_type(t)\n",
      "Traceback (most recent call last):\n",
      "  File \"/home/xunj/GradWork/POMO-master/NEW_py_ver/CVRP/POMO/test.py\", line 132, in <module>\n",
      "    main()\n",
      "  File \"/home/xunj/GradWork/POMO-master/NEW_py_ver/CVRP/POMO/test.py\", line 97, in main\n",
      "    tester.run()\n",
      "  File \"/home/xunj/GradWork/POMO-master/NEW_py_ver/CVRP/POMO/CVRPTester.py\", line 111, in run\n",
      "    score, aug_score,all_score,all_aug_score = self._test_one_batch(batch_size,data=data)\n",
      "                                               ^^^^^^^^^^^^^^^^^^^^^^^^^^^^^^^^^^^^^^^^^^\n",
      "  File \"/home/xunj/GradWork/POMO-master/NEW_py_ver/CVRP/POMO/CVRPTester.py\", line 163, in _test_one_batch\n",
      "    reset_state, _, _ = self.env.reset()\n",
      "                        ^^^^^^^^^^^^^^^^\n",
      "  File \"/home/xunj/GradWork/POMO-master/NEW_py_ver/CVRP/POMO/CVRPEnv.py\", line 149, in reset\n",
      "    self.ninf_mask = torch.zeros(size=(self.batch_size, self.pomo_size, self.problem_size+1))\n",
      "                     ^^^^^^^^^^^^^^^^^^^^^^^^^^^^^^^^^^^^^^^^^^^^^^^^^^^^^^^^^^^^^^^^^^^^^^^^\n",
      "torch.cuda.OutOfMemoryError: CUDA out of memory. Tried to allocate 11.92 GiB. GPU 0 has a total capacty of 23.69 GiB of which 2.19 GiB is free. Process 2946656 has 9.25 GiB memory in use. Including non-PyTorch memory, this process has 12.24 GiB memory in use. Of the allocated memory 11.93 GiB is allocated by PyTorch, and 18.41 MiB is reserved by PyTorch but unallocated. If reserved but unallocated memory is large try setting max_split_size_mb to avoid fragmentation.  See documentation for Memory Management and PYTORCH_CUDA_ALLOC_CONF\n"
     ]
    },
    {
     "name": "stdout",
     "output_type": "stream",
     "text": [
      "Check out issue on set:  ../../../../VRP-Omni-modified/Vrp-Set-XXL/XXL-n20001\n",
      "[2024-04-02 16:01:43] test.py(107) : DEBUG_MODE: False\n",
      "[2024-04-02 16:01:43] test.py(108) : USE_CUDA: True, CUDA_DEVICE_NUM: 0\n",
      "[2024-04-02 16:01:43] test.py(109) : env_params{'problem_size': 100, 'pomo_size': 100}\n",
      "[2024-04-02 16:01:43] test.py(109) : model_params{'embedding_dim': 128, 'sqrt_embedding_dim': 11.313708498984761, 'encoder_layer_num': 6, 'qkv_dim': 16, 'head_num': 8, 'logit_clipping': 10, 'ff_hidden_dim': 512, 'eval_type': 'argmax'}\n",
      "[2024-04-02 16:01:43] test.py(109) : tester_params{'use_cuda': True, 'cuda_device_num': 0, 'model_load': {'path': './result/saved_CVRP100_model', 'epoch': 30500}, 'test_episodes': 1000, 'test_batch_size': 1, 'augmentation_enable': True, 'aug_factor': 8, 'aug_batch_size': 1, 'test_data_load': {'enable': False, 'filename': '../vrp100_test_seed1234.pt'}, 'test_set_path': '../../../../VRP-Omni-modified/Vrp-Set-XXL/XXL-n30001', 'test_set_opt_sol_path': '../../../../VRP-Omni-modified/Vrp-Set-A/A-n33-sol', 'test_set_name': 'A-n33'}\n",
      "[2024-04-02 16:01:43] test.py(109) : logger_params{'log_file': {'desc': 'test_cvrp100', 'filename': 'log.txt', 'filepath': './result/20240402_170141_test_cvrp100'}}\n",
      "['../../../../VRP-Omni-modified/Vrp-Set-XXL/XXL-n30001/Flanders2.vrp']\n"
     ]
    },
    {
     "name": "stderr",
     "output_type": "stream",
     "text": [
      "/home/xunj/miniconda3/lib/python3.11/site-packages/torch/__init__.py:614: UserWarning: torch.set_default_tensor_type() is deprecated as of PyTorch 2.1, please use torch.set_default_dtype() and torch.set_default_device() as alternatives. (Triggered internally at /opt/conda/conda-bld/pytorch_1699449183005/work/torch/csrc/tensor/python_tensor.cpp:451.)\n",
      "  _C._set_default_tensor_type(t)\n",
      "Traceback (most recent call last):\n",
      "  File \"/home/xunj/GradWork/POMO-master/NEW_py_ver/CVRP/POMO/test.py\", line 132, in <module>\n",
      "    main()\n",
      "  File \"/home/xunj/GradWork/POMO-master/NEW_py_ver/CVRP/POMO/test.py\", line 97, in main\n",
      "    tester.run()\n",
      "  File \"/home/xunj/GradWork/POMO-master/NEW_py_ver/CVRP/POMO/CVRPTester.py\", line 111, in run\n",
      "    score, aug_score,all_score,all_aug_score = self._test_one_batch(batch_size,data=data)\n",
      "                                               ^^^^^^^^^^^^^^^^^^^^^^^^^^^^^^^^^^^^^^^^^^\n",
      "  File \"/home/xunj/GradWork/POMO-master/NEW_py_ver/CVRP/POMO/CVRPTester.py\", line 163, in _test_one_batch\n",
      "    reset_state, _, _ = self.env.reset()\n",
      "                        ^^^^^^^^^^^^^^^^\n",
      "  File \"/home/xunj/GradWork/POMO-master/NEW_py_ver/CVRP/POMO/CVRPEnv.py\", line 147, in reset\n",
      "    self.visited_ninf_flag = torch.zeros(size=(self.batch_size, self.pomo_size, self.problem_size+1))\n",
      "                             ^^^^^^^^^^^^^^^^^^^^^^^^^^^^^^^^^^^^^^^^^^^^^^^^^^^^^^^^^^^^^^^^^^^^^^^^\n",
      "torch.cuda.OutOfMemoryError: CUDA out of memory. Tried to allocate 26.82 GiB. GPU 0 has a total capacty of 23.69 GiB of which 14.11 GiB is free. Process 2946656 has 9.25 GiB memory in use. Including non-PyTorch memory, this process has 328.00 MiB memory in use. Of the allocated memory 12.00 MiB is allocated by PyTorch, and 18.00 MiB is reserved by PyTorch but unallocated. If reserved but unallocated memory is large try setting max_split_size_mb to avoid fragmentation.  See documentation for Memory Management and PYTORCH_CUDA_ALLOC_CONF\n"
     ]
    },
    {
     "name": "stdout",
     "output_type": "stream",
     "text": [
      "Check out issue on set:  ../../../../VRP-Omni-modified/Vrp-Set-XXL/XXL-n30001\n",
      "[2024-04-02 16:01:46] test.py(107) : DEBUG_MODE: False\n",
      "[2024-04-02 16:01:46] test.py(108) : USE_CUDA: True, CUDA_DEVICE_NUM: 0\n",
      "[2024-04-02 16:01:46] test.py(109) : env_params{'problem_size': 100, 'pomo_size': 100}\n",
      "[2024-04-02 16:01:46] test.py(109) : model_params{'embedding_dim': 128, 'sqrt_embedding_dim': 11.313708498984761, 'encoder_layer_num': 6, 'qkv_dim': 16, 'head_num': 8, 'logit_clipping': 10, 'ff_hidden_dim': 512, 'eval_type': 'argmax'}\n",
      "[2024-04-02 16:01:46] test.py(109) : tester_params{'use_cuda': True, 'cuda_device_num': 0, 'model_load': {'path': './result/saved_CVRP100_model', 'epoch': 30500}, 'test_episodes': 1000, 'test_batch_size': 1, 'augmentation_enable': True, 'aug_factor': 8, 'aug_batch_size': 1, 'test_data_load': {'enable': False, 'filename': '../vrp100_test_seed1234.pt'}, 'test_set_path': '../../../../VRP-Omni-modified/Vrp-Set-XXL/XXL-n6001', 'test_set_opt_sol_path': '../../../../VRP-Omni-modified/Vrp-Set-A/A-n33-sol', 'test_set_name': 'A-n33'}\n",
      "[2024-04-02 16:01:46] test.py(109) : logger_params{'log_file': {'desc': 'test_cvrp100', 'filename': 'log.txt', 'filepath': './result/20240402_170144_test_cvrp100'}}\n",
      "['../../../../VRP-Omni-modified/Vrp-Set-XXL/XXL-n6001/Antwerp1.vrp']\n"
     ]
    },
    {
     "name": "stderr",
     "output_type": "stream",
     "text": [
      "/home/xunj/miniconda3/lib/python3.11/site-packages/torch/__init__.py:614: UserWarning: torch.set_default_tensor_type() is deprecated as of PyTorch 2.1, please use torch.set_default_dtype() and torch.set_default_device() as alternatives. (Triggered internally at /opt/conda/conda-bld/pytorch_1699449183005/work/torch/csrc/tensor/python_tensor.cpp:451.)\n",
      "  _C._set_default_tensor_type(t)\n",
      "Traceback (most recent call last):\n",
      "  File \"/home/xunj/GradWork/POMO-master/NEW_py_ver/CVRP/POMO/test.py\", line 132, in <module>\n",
      "    main()\n",
      "  File \"/home/xunj/GradWork/POMO-master/NEW_py_ver/CVRP/POMO/test.py\", line 97, in main\n",
      "    tester.run()\n",
      "  File \"/home/xunj/GradWork/POMO-master/NEW_py_ver/CVRP/POMO/CVRPTester.py\", line 111, in run\n",
      "    score, aug_score,all_score,all_aug_score = self._test_one_batch(batch_size,data=data)\n",
      "                                               ^^^^^^^^^^^^^^^^^^^^^^^^^^^^^^^^^^^^^^^^^^\n",
      "  File \"/home/xunj/GradWork/POMO-master/NEW_py_ver/CVRP/POMO/CVRPTester.py\", line 164, in _test_one_batch\n",
      "    self.model.pre_forward(reset_state)\n",
      "  File \"/home/xunj/GradWork/POMO-master/NEW_py_ver/CVRP/POMO/CVRPModel.py\", line 28, in pre_forward\n",
      "    self.encoded_nodes = self.encoder(depot_xy, node_xy_demand)\n",
      "                         ^^^^^^^^^^^^^^^^^^^^^^^^^^^^^^^^^^^^^^\n",
      "  File \"/home/xunj/miniconda3/lib/python3.11/site-packages/torch/nn/modules/module.py\", line 1518, in _wrapped_call_impl\n",
      "    return self._call_impl(*args, **kwargs)\n",
      "           ^^^^^^^^^^^^^^^^^^^^^^^^^^^^^^^^\n",
      "  File \"/home/xunj/miniconda3/lib/python3.11/site-packages/torch/nn/modules/module.py\", line 1527, in _call_impl\n",
      "    return forward_call(*args, **kwargs)\n",
      "           ^^^^^^^^^^^^^^^^^^^^^^^^^^^^^\n",
      "  File \"/home/xunj/GradWork/POMO-master/NEW_py_ver/CVRP/POMO/CVRPModel.py\", line 125, in forward\n",
      "    out = layer(out)\n",
      "          ^^^^^^^^^^\n",
      "  File \"/home/xunj/miniconda3/lib/python3.11/site-packages/torch/nn/modules/module.py\", line 1518, in _wrapped_call_impl\n",
      "    return self._call_impl(*args, **kwargs)\n",
      "           ^^^^^^^^^^^^^^^^^^^^^^^^^^^^^^^^\n",
      "  File \"/home/xunj/miniconda3/lib/python3.11/site-packages/torch/nn/modules/module.py\", line 1527, in _call_impl\n",
      "    return forward_call(*args, **kwargs)\n",
      "           ^^^^^^^^^^^^^^^^^^^^^^^^^^^^^\n",
      "  File \"/home/xunj/GradWork/POMO-master/NEW_py_ver/CVRP/POMO/CVRPModel.py\", line 157, in forward\n",
      "    out_concat = multi_head_attention(q, k, v)\n",
      "                 ^^^^^^^^^^^^^^^^^^^^^^^^^^^^^\n",
      "  File \"/home/xunj/GradWork/POMO-master/NEW_py_ver/CVRP/POMO/CVRPModel.py\", line 301, in multi_head_attention\n",
      "    score_scaled = score / torch.sqrt(torch.tensor(key_dim, dtype=torch.float))\n",
      "                   ~~~~~~^~~~~~~~~~~~~~~~~~~~~~~~~~~~~~~~~~~~~~~~~~~~~~~~~~~~~~\n",
      "torch.cuda.OutOfMemoryError: CUDA out of memory. Tried to allocate 8.59 GiB. GPU 0 has a total capacty of 23.69 GiB of which 3.25 GiB is free. Process 2946656 has 9.25 GiB memory in use. Including non-PyTorch memory, this process has 11.18 GiB memory in use. Of the allocated memory 10.86 GiB is allocated by PyTorch, and 15.41 MiB is reserved by PyTorch but unallocated. If reserved but unallocated memory is large try setting max_split_size_mb to avoid fragmentation.  See documentation for Memory Management and PYTORCH_CUDA_ALLOC_CONF\n"
     ]
    },
    {
     "name": "stdout",
     "output_type": "stream",
     "text": [
      "Check out issue on set:  ../../../../VRP-Omni-modified/Vrp-Set-XXL/XXL-n6001\n",
      "[2024-04-02 16:01:49] test.py(107) : DEBUG_MODE: False\n",
      "[2024-04-02 16:01:49] test.py(108) : USE_CUDA: True, CUDA_DEVICE_NUM: 0\n",
      "[2024-04-02 16:01:49] test.py(109) : env_params{'problem_size': 100, 'pomo_size': 100}\n",
      "[2024-04-02 16:01:49] test.py(109) : model_params{'embedding_dim': 128, 'sqrt_embedding_dim': 11.313708498984761, 'encoder_layer_num': 6, 'qkv_dim': 16, 'head_num': 8, 'logit_clipping': 10, 'ff_hidden_dim': 512, 'eval_type': 'argmax'}\n",
      "[2024-04-02 16:01:49] test.py(109) : tester_params{'use_cuda': True, 'cuda_device_num': 0, 'model_load': {'path': './result/saved_CVRP100_model', 'epoch': 30500}, 'test_episodes': 1000, 'test_batch_size': 1, 'augmentation_enable': True, 'aug_factor': 8, 'aug_batch_size': 1, 'test_data_load': {'enable': False, 'filename': '../vrp100_test_seed1234.pt'}, 'test_set_path': '../../../../VRP-Omni-modified/Vrp-Set-XXL/XXL-n7001', 'test_set_opt_sol_path': '../../../../VRP-Omni-modified/Vrp-Set-A/A-n33-sol', 'test_set_name': 'A-n33'}\n",
      "[2024-04-02 16:01:49] test.py(109) : logger_params{'log_file': {'desc': 'test_cvrp100', 'filename': 'log.txt', 'filepath': './result/20240402_170148_test_cvrp100'}}\n",
      "['../../../../VRP-Omni-modified/Vrp-Set-XXL/XXL-n7001/Antwerp2.vrp']\n"
     ]
    },
    {
     "name": "stderr",
     "output_type": "stream",
     "text": [
      "/home/xunj/miniconda3/lib/python3.11/site-packages/torch/__init__.py:614: UserWarning: torch.set_default_tensor_type() is deprecated as of PyTorch 2.1, please use torch.set_default_dtype() and torch.set_default_device() as alternatives. (Triggered internally at /opt/conda/conda-bld/pytorch_1699449183005/work/torch/csrc/tensor/python_tensor.cpp:451.)\n",
      "  _C._set_default_tensor_type(t)\n",
      "Traceback (most recent call last):\n",
      "  File \"/home/xunj/GradWork/POMO-master/NEW_py_ver/CVRP/POMO/test.py\", line 132, in <module>\n",
      "    main()\n",
      "  File \"/home/xunj/GradWork/POMO-master/NEW_py_ver/CVRP/POMO/test.py\", line 97, in main\n",
      "    tester.run()\n",
      "  File \"/home/xunj/GradWork/POMO-master/NEW_py_ver/CVRP/POMO/CVRPTester.py\", line 111, in run\n",
      "    score, aug_score,all_score,all_aug_score = self._test_one_batch(batch_size,data=data)\n",
      "                                               ^^^^^^^^^^^^^^^^^^^^^^^^^^^^^^^^^^^^^^^^^^\n",
      "  File \"/home/xunj/GradWork/POMO-master/NEW_py_ver/CVRP/POMO/CVRPTester.py\", line 164, in _test_one_batch\n",
      "    self.model.pre_forward(reset_state)\n",
      "  File \"/home/xunj/GradWork/POMO-master/NEW_py_ver/CVRP/POMO/CVRPModel.py\", line 28, in pre_forward\n",
      "    self.encoded_nodes = self.encoder(depot_xy, node_xy_demand)\n",
      "                         ^^^^^^^^^^^^^^^^^^^^^^^^^^^^^^^^^^^^^^\n",
      "  File \"/home/xunj/miniconda3/lib/python3.11/site-packages/torch/nn/modules/module.py\", line 1518, in _wrapped_call_impl\n",
      "    return self._call_impl(*args, **kwargs)\n",
      "           ^^^^^^^^^^^^^^^^^^^^^^^^^^^^^^^^\n",
      "  File \"/home/xunj/miniconda3/lib/python3.11/site-packages/torch/nn/modules/module.py\", line 1527, in _call_impl\n",
      "    return forward_call(*args, **kwargs)\n",
      "           ^^^^^^^^^^^^^^^^^^^^^^^^^^^^^\n",
      "  File \"/home/xunj/GradWork/POMO-master/NEW_py_ver/CVRP/POMO/CVRPModel.py\", line 125, in forward\n",
      "    out = layer(out)\n",
      "          ^^^^^^^^^^\n",
      "  File \"/home/xunj/miniconda3/lib/python3.11/site-packages/torch/nn/modules/module.py\", line 1518, in _wrapped_call_impl\n",
      "    return self._call_impl(*args, **kwargs)\n",
      "           ^^^^^^^^^^^^^^^^^^^^^^^^^^^^^^^^\n",
      "  File \"/home/xunj/miniconda3/lib/python3.11/site-packages/torch/nn/modules/module.py\", line 1527, in _call_impl\n",
      "    return forward_call(*args, **kwargs)\n",
      "           ^^^^^^^^^^^^^^^^^^^^^^^^^^^^^\n",
      "  File \"/home/xunj/GradWork/POMO-master/NEW_py_ver/CVRP/POMO/CVRPModel.py\", line 157, in forward\n",
      "    out_concat = multi_head_attention(q, k, v)\n",
      "                 ^^^^^^^^^^^^^^^^^^^^^^^^^^^^^\n",
      "  File \"/home/xunj/GradWork/POMO-master/NEW_py_ver/CVRP/POMO/CVRPModel.py\", line 298, in multi_head_attention\n",
      "    score = torch.matmul(q, k.transpose(2, 3))\n",
      "            ^^^^^^^^^^^^^^^^^^^^^^^^^^^^^^^^^^\n",
      "torch.cuda.OutOfMemoryError: CUDA out of memory. Tried to allocate 11.69 GiB. GPU 0 has a total capacty of 23.69 GiB of which 10.99 GiB is free. Process 2946656 has 9.25 GiB memory in use. Including non-PyTorch memory, this process has 3.44 GiB memory in use. Of the allocated memory 3.13 GiB is allocated by PyTorch, and 12.71 MiB is reserved by PyTorch but unallocated. If reserved but unallocated memory is large try setting max_split_size_mb to avoid fragmentation.  See documentation for Memory Management and PYTORCH_CUDA_ALLOC_CONF\n"
     ]
    },
    {
     "name": "stdout",
     "output_type": "stream",
     "text": [
      "Check out issue on set:  ../../../../VRP-Omni-modified/Vrp-Set-XXL/XXL-n7001\n",
      "[2024-04-02 16:01:52] test.py(107) : DEBUG_MODE: False\n",
      "[2024-04-02 16:01:52] test.py(108) : USE_CUDA: True, CUDA_DEVICE_NUM: 0\n",
      "[2024-04-02 16:01:52] test.py(109) : env_params{'problem_size': 100, 'pomo_size': 100}\n",
      "[2024-04-02 16:01:52] test.py(109) : model_params{'embedding_dim': 128, 'sqrt_embedding_dim': 11.313708498984761, 'encoder_layer_num': 6, 'qkv_dim': 16, 'head_num': 8, 'logit_clipping': 10, 'ff_hidden_dim': 512, 'eval_type': 'argmax'}\n",
      "[2024-04-02 16:01:52] test.py(109) : tester_params{'use_cuda': True, 'cuda_device_num': 0, 'model_load': {'path': './result/saved_CVRP100_model', 'epoch': 30500}, 'test_episodes': 1000, 'test_batch_size': 1, 'augmentation_enable': True, 'aug_factor': 8, 'aug_batch_size': 1, 'test_data_load': {'enable': False, 'filename': '../vrp100_test_seed1234.pt'}, 'test_set_path': '../../../../VRP-Omni-modified/Vrp-Set-tai/tai-n101', 'test_set_opt_sol_path': '../../../../VRP-Omni-modified/Vrp-Set-A/A-n33-sol', 'test_set_name': 'A-n33'}\n",
      "[2024-04-02 16:01:52] test.py(109) : logger_params{'log_file': {'desc': 'test_cvrp100', 'filename': 'log.txt', 'filepath': './result/20240402_170151_test_cvrp100'}}\n",
      "['../../../../VRP-Omni-modified/Vrp-Set-tai/tai-n101/tai100a.vrp', '../../../../VRP-Omni-modified/Vrp-Set-tai/tai-n101/tai100b.vrp', '../../../../VRP-Omni-modified/Vrp-Set-tai/tai-n101/tai100c.vrp', '../../../../VRP-Omni-modified/Vrp-Set-tai/tai-n101/tai100d.vrp']\n"
     ]
    },
    {
     "name": "stderr",
     "output_type": "stream",
     "text": [
      "/home/xunj/miniconda3/lib/python3.11/site-packages/torch/__init__.py:614: UserWarning: torch.set_default_tensor_type() is deprecated as of PyTorch 2.1, please use torch.set_default_dtype() and torch.set_default_device() as alternatives. (Triggered internally at /opt/conda/conda-bld/pytorch_1699449183005/work/torch/csrc/tensor/python_tensor.cpp:451.)\n",
      "  _C._set_default_tensor_type(t)\n"
     ]
    },
    {
     "name": "stdout",
     "output_type": "stream",
     "text": [
      "[2024-04-02 16:01:53] CVRPTester.py(130) : episode   1/  4, Elapsed[0.01m], Remain[0.02m], score:4.151, aug_score:2.533\n",
      "[2024-04-02 16:01:53] CVRPTester.py(130) : episode   2/  4, Elapsed[0.01m], Remain[0.01m], score:3.624, aug_score:2.592\n",
      "[2024-04-02 16:01:53] CVRPTester.py(130) : episode   3/  4, Elapsed[0.01m], Remain[0.00m], score:2.492, aug_score:2.268\n",
      "[2024-04-02 16:01:53] CVRPTester.py(130) : episode   4/  4, Elapsed[0.01m], Remain[0.00m], score:3.208, aug_score:2.401\n",
      "[2024-04-02 16:01:53] CVRPTester.py(136) :  *** Test Done *** \n",
      "[2024-04-02 16:01:53] CVRPTester.py(137) :  NO-AUG SCORE: 3.3690 \n",
      "[2024-04-02 16:01:53] CVRPTester.py(138) :  AUGMENTATION SCORE: 2.4487 \n",
      ">> Evaluation on ../../../../VRP-Omni-modified/Vrp-Set-tai/tai-n101 finished within 0.13s\n",
      ">> Save final results to res/tai-n101\n",
      "Test on \" ../../../../VRP-Omni-modified/Vrp-Set-tai/tai-n101 \" Success\n",
      "-----------------------------------------------------------------------------------------------------------------\n",
      "[2024-04-02 16:01:56] test.py(107) : DEBUG_MODE: False\n",
      "[2024-04-02 16:01:56] test.py(108) : USE_CUDA: True, CUDA_DEVICE_NUM: 0\n",
      "[2024-04-02 16:01:56] test.py(109) : env_params{'problem_size': 100, 'pomo_size': 100}\n",
      "[2024-04-02 16:01:56] test.py(109) : model_params{'embedding_dim': 128, 'sqrt_embedding_dim': 11.313708498984761, 'encoder_layer_num': 6, 'qkv_dim': 16, 'head_num': 8, 'logit_clipping': 10, 'ff_hidden_dim': 512, 'eval_type': 'argmax'}\n",
      "[2024-04-02 16:01:56] test.py(109) : tester_params{'use_cuda': True, 'cuda_device_num': 0, 'model_load': {'path': './result/saved_CVRP100_model', 'epoch': 30500}, 'test_episodes': 1000, 'test_batch_size': 1, 'augmentation_enable': True, 'aug_factor': 8, 'aug_batch_size': 1, 'test_data_load': {'enable': False, 'filename': '../vrp100_test_seed1234.pt'}, 'test_set_path': '../../../../VRP-Omni-modified/Vrp-Set-tai/tai-n151', 'test_set_opt_sol_path': '../../../../VRP-Omni-modified/Vrp-Set-A/A-n33-sol', 'test_set_name': 'A-n33'}\n",
      "[2024-04-02 16:01:56] test.py(109) : logger_params{'log_file': {'desc': 'test_cvrp100', 'filename': 'log.txt', 'filepath': './result/20240402_170154_test_cvrp100'}}\n",
      "['../../../../VRP-Omni-modified/Vrp-Set-tai/tai-n151/tai150a.vrp', '../../../../VRP-Omni-modified/Vrp-Set-tai/tai-n151/tai150b.vrp', '../../../../VRP-Omni-modified/Vrp-Set-tai/tai-n151/tai150c.vrp', '../../../../VRP-Omni-modified/Vrp-Set-tai/tai-n151/tai150d.vrp']\n"
     ]
    },
    {
     "name": "stderr",
     "output_type": "stream",
     "text": [
      "/home/xunj/miniconda3/lib/python3.11/site-packages/torch/__init__.py:614: UserWarning: torch.set_default_tensor_type() is deprecated as of PyTorch 2.1, please use torch.set_default_dtype() and torch.set_default_device() as alternatives. (Triggered internally at /opt/conda/conda-bld/pytorch_1699449183005/work/torch/csrc/tensor/python_tensor.cpp:451.)\n",
      "  _C._set_default_tensor_type(t)\n"
     ]
    },
    {
     "name": "stdout",
     "output_type": "stream",
     "text": [
      "[2024-04-02 16:01:56] CVRPTester.py(130) : episode   1/  4, Elapsed[0.01m], Remain[0.02m], score:3.982, aug_score:3.632\n",
      "[2024-04-02 16:01:57] CVRPTester.py(130) : episode   2/  4, Elapsed[0.01m], Remain[0.01m], score:5.007, aug_score:3.905\n",
      "[2024-04-02 16:01:57] CVRPTester.py(130) : episode   3/  4, Elapsed[0.01m], Remain[0.00m], score:3.978, aug_score:3.028\n",
      "[2024-04-02 16:01:57] CVRPTester.py(130) : episode   4/  4, Elapsed[0.02m], Remain[0.00m], score:5.002, aug_score:3.402\n",
      "[2024-04-02 16:01:57] CVRPTester.py(136) :  *** Test Done *** \n",
      "[2024-04-02 16:01:57] CVRPTester.py(137) :  NO-AUG SCORE: 4.4924 \n",
      "[2024-04-02 16:01:57] CVRPTester.py(138) :  AUGMENTATION SCORE: 3.4917 \n",
      ">> Evaluation on ../../../../VRP-Omni-modified/Vrp-Set-tai/tai-n151 finished within 0.18s\n",
      ">> Save final results to res/tai-n151\n",
      "Test on \" ../../../../VRP-Omni-modified/Vrp-Set-tai/tai-n151 \" Success\n",
      "-----------------------------------------------------------------------------------------------------------------\n",
      "[2024-04-02 16:01:59] test.py(107) : DEBUG_MODE: False\n",
      "[2024-04-02 16:01:59] test.py(108) : USE_CUDA: True, CUDA_DEVICE_NUM: 0\n",
      "[2024-04-02 16:01:59] test.py(109) : env_params{'problem_size': 100, 'pomo_size': 100}\n",
      "[2024-04-02 16:01:59] test.py(109) : model_params{'embedding_dim': 128, 'sqrt_embedding_dim': 11.313708498984761, 'encoder_layer_num': 6, 'qkv_dim': 16, 'head_num': 8, 'logit_clipping': 10, 'ff_hidden_dim': 512, 'eval_type': 'argmax'}\n",
      "[2024-04-02 16:01:59] test.py(109) : tester_params{'use_cuda': True, 'cuda_device_num': 0, 'model_load': {'path': './result/saved_CVRP100_model', 'epoch': 30500}, 'test_episodes': 1000, 'test_batch_size': 1, 'augmentation_enable': True, 'aug_factor': 8, 'aug_batch_size': 1, 'test_data_load': {'enable': False, 'filename': '../vrp100_test_seed1234.pt'}, 'test_set_path': '../../../../VRP-Omni-modified/Vrp-Set-tai/tai-n386', 'test_set_opt_sol_path': '../../../../VRP-Omni-modified/Vrp-Set-A/A-n33-sol', 'test_set_name': 'A-n33'}\n",
      "[2024-04-02 16:01:59] test.py(109) : logger_params{'log_file': {'desc': 'test_cvrp100', 'filename': 'log.txt', 'filepath': './result/20240402_170158_test_cvrp100'}}\n",
      "['../../../../VRP-Omni-modified/Vrp-Set-tai/tai-n386/tai385.vrp']\n"
     ]
    },
    {
     "name": "stderr",
     "output_type": "stream",
     "text": [
      "/home/xunj/miniconda3/lib/python3.11/site-packages/torch/__init__.py:614: UserWarning: torch.set_default_tensor_type() is deprecated as of PyTorch 2.1, please use torch.set_default_dtype() and torch.set_default_device() as alternatives. (Triggered internally at /opt/conda/conda-bld/pytorch_1699449183005/work/torch/csrc/tensor/python_tensor.cpp:451.)\n",
      "  _C._set_default_tensor_type(t)\n"
     ]
    },
    {
     "name": "stdout",
     "output_type": "stream",
     "text": [
      "[2024-04-02 16:02:01] CVRPTester.py(130) : episode   1/  1, Elapsed[0.01m], Remain[0.00m], score:64.617, aug_score:42.527\n",
      "[2024-04-02 16:02:01] CVRPTester.py(136) :  *** Test Done *** \n",
      "[2024-04-02 16:02:01] CVRPTester.py(137) :  NO-AUG SCORE: 64.6166 \n",
      "[2024-04-02 16:02:01] CVRPTester.py(138) :  AUGMENTATION SCORE: 42.5266 \n",
      ">> Evaluation on ../../../../VRP-Omni-modified/Vrp-Set-tai/tai-n386 finished within 0.78s\n",
      ">> Save final results to res/tai-n386\n",
      "Test on \" ../../../../VRP-Omni-modified/Vrp-Set-tai/tai-n386 \" Success\n",
      "-----------------------------------------------------------------------------------------------------------------\n",
      "[2024-04-02 16:02:03] test.py(107) : DEBUG_MODE: False\n",
      "[2024-04-02 16:02:03] test.py(108) : USE_CUDA: True, CUDA_DEVICE_NUM: 0\n",
      "[2024-04-02 16:02:03] test.py(109) : env_params{'problem_size': 100, 'pomo_size': 100}\n",
      "[2024-04-02 16:02:03] test.py(109) : model_params{'embedding_dim': 128, 'sqrt_embedding_dim': 11.313708498984761, 'encoder_layer_num': 6, 'qkv_dim': 16, 'head_num': 8, 'logit_clipping': 10, 'ff_hidden_dim': 512, 'eval_type': 'argmax'}\n",
      "[2024-04-02 16:02:03] test.py(109) : tester_params{'use_cuda': True, 'cuda_device_num': 0, 'model_load': {'path': './result/saved_CVRP100_model', 'epoch': 30500}, 'test_episodes': 1000, 'test_batch_size': 1, 'augmentation_enable': True, 'aug_factor': 8, 'aug_batch_size': 1, 'test_data_load': {'enable': False, 'filename': '../vrp100_test_seed1234.pt'}, 'test_set_path': '../../../../VRP-Omni-modified/Vrp-Set-tai/tai-n76', 'test_set_opt_sol_path': '../../../../VRP-Omni-modified/Vrp-Set-A/A-n33-sol', 'test_set_name': 'A-n33'}\n",
      "[2024-04-02 16:02:03] test.py(109) : logger_params{'log_file': {'desc': 'test_cvrp100', 'filename': 'log.txt', 'filepath': './result/20240402_170202_test_cvrp100'}}\n",
      "['../../../../VRP-Omni-modified/Vrp-Set-tai/tai-n76/tai75a.vrp', '../../../../VRP-Omni-modified/Vrp-Set-tai/tai-n76/tai75b.vrp', '../../../../VRP-Omni-modified/Vrp-Set-tai/tai-n76/tai75c.vrp', '../../../../VRP-Omni-modified/Vrp-Set-tai/tai-n76/tai75d.vrp']\n"
     ]
    },
    {
     "name": "stderr",
     "output_type": "stream",
     "text": [
      "/home/xunj/miniconda3/lib/python3.11/site-packages/torch/__init__.py:614: UserWarning: torch.set_default_tensor_type() is deprecated as of PyTorch 2.1, please use torch.set_default_dtype() and torch.set_default_device() as alternatives. (Triggered internally at /opt/conda/conda-bld/pytorch_1699449183005/work/torch/csrc/tensor/python_tensor.cpp:451.)\n",
      "  _C._set_default_tensor_type(t)\n"
     ]
    },
    {
     "name": "stdout",
     "output_type": "stream",
     "text": [
      "[2024-04-02 16:02:04] CVRPTester.py(130) : episode   1/  4, Elapsed[0.01m], Remain[0.02m], score:3.803, aug_score:2.590\n",
      "[2024-04-02 16:02:04] CVRPTester.py(130) : episode   2/  4, Elapsed[0.01m], Remain[0.01m], score:1.959, aug_score:1.863\n",
      "[2024-04-02 16:02:04] CVRPTester.py(130) : episode   3/  4, Elapsed[0.01m], Remain[0.00m], score:2.670, aug_score:1.905\n",
      "[2024-04-02 16:02:04] CVRPTester.py(130) : episode   4/  4, Elapsed[0.01m], Remain[0.00m], score:2.117, aug_score:1.941\n",
      "[2024-04-02 16:02:04] CVRPTester.py(136) :  *** Test Done *** \n",
      "[2024-04-02 16:02:04] CVRPTester.py(137) :  NO-AUG SCORE: 2.6373 \n",
      "[2024-04-02 16:02:04] CVRPTester.py(138) :  AUGMENTATION SCORE: 2.0745 \n",
      ">> Evaluation on ../../../../VRP-Omni-modified/Vrp-Set-tai/tai-n76 finished within 0.10s\n",
      ">> Save final results to res/tai-n76\n",
      "Test on \" ../../../../VRP-Omni-modified/Vrp-Set-tai/tai-n76 \" Success\n",
      "-----------------------------------------------------------------------------------------------------------------\n"
     ]
    }
   ],
   "source": [
    "for sub_list in path_list:\n",
    "    res=0\n",
    "    for path in sub_list:\n",
    "        if not path.endswith('sol') and not path.endswith('.pkl') and not path.endswith('.ipynb'):\n",
    "            res=os.system('python -u test.py  --testpaths '+path)\n",
    "            if res==0:\n",
    "                print('Test on \"',path,'\" Success')\n",
    "                print('-----------------------------------------------------------------------------------------------------------------')\n",
    "                del path\n",
    "            else: \n",
    "                print('Check out issue on set: ',path)\n",
    "        #break\n",
    "    #break"
   ]
  }
 ],
 "metadata": {
  "kernelspec": {
   "display_name": "base",
   "language": "python",
   "name": "python3"
  },
  "language_info": {
   "codemirror_mode": {
    "name": "ipython",
    "version": 3
   },
   "file_extension": ".py",
   "mimetype": "text/x-python",
   "name": "python",
   "nbconvert_exporter": "python",
   "pygments_lexer": "ipython3",
   "version": "3.11.5"
  }
 },
 "nbformat": 4,
 "nbformat_minor": 2
}
