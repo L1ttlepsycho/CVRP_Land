{
 "cells": [
  {
   "cell_type": "code",
   "execution_count": 1,
   "metadata": {},
   "outputs": [],
   "source": [
    "import cvrp_land"
   ]
  },
  {
   "cell_type": "code",
   "execution_count": 2,
   "metadata": {},
   "outputs": [
    {
     "name": "stdout",
     "output_type": "stream",
     "text": [
      "[2024-04-10 23:03:41] test.py(106) : DEBUG_MODE: False\n",
      "[2024-04-10 23:03:41] test.py(107) : USE_CUDA: True, CUDA_DEVICE_NUM: 0\n",
      "[2024-04-10 23:03:41] test.py(108) : env_params{'problem_size': 200, 'pomo_size': 200}\n",
      "[2024-04-10 23:03:41] test.py(108) : model_params{'embedding_dim': 128, 'sqrt_embedding_dim': 11.313708498984761, 'encoder_layer_num': 6, 'qkv_dim': 16, 'head_num': 8, 'logit_clipping': 10, 'ff_hidden_dim': 512, 'eval_type': 'argmax', 'norm': 'batch_no_track'}\n",
      "[2024-04-10 23:03:41] test.py(108) : tester_params{'use_cuda': True, 'cuda_device_num': 0, 'seed': 2024, 'model_load': {'path': 'result/maml_250000checkpts', 'epoch': 250000}, 'test_episodes': 1, 'test_batch_size': 1, 'augmentation_enable': True, 'test_robustness': False, 'aug_factor': 8, 'aug_batch_size': 1, 'test_set_path': '../../../../Dataset/Vrp-Set-A/A-n32', 'test_set_opt_sol_path': '../../../../Dataset/Vrp-Set-A/A-n32-sol', 'test_set_name': 'A-n33'}\n",
      "[2024-04-10 23:03:41] test.py(108) : fine_tune_params{'enable': False, 'fine_tune_episodes': 1000, 'k': 10, 'fine_tune_batch_size': 10, 'augmentation_enable': True, 'optimizer': {'lr': 1e-05, 'weight_decay': 1e-06}}\n",
      "[2024-04-10 23:03:41] test.py(108) : logger_params{'log_file': {'desc': 'test_cvrp', 'filename': 'log.txt', 'filepath': './result/20240410_230340_test_cvrp'}}\n"
     ]
    },
    {
     "name": "stderr",
     "output_type": "stream",
     "text": [
      "/home/xunj/miniconda3/lib/python3.11/site-packages/torch/__init__.py:614: UserWarning: torch.set_default_tensor_type() is deprecated as of PyTorch 2.1, please use torch.set_default_dtype() and torch.set_default_device() as alternatives. (Triggered internally at /opt/conda/conda-bld/pytorch_1699449183005/work/torch/csrc/tensor/python_tensor.cpp:451.)\n",
      "  _C._set_default_tensor_type(t)\n"
     ]
    },
    {
     "name": "stdout",
     "output_type": "stream",
     "text": [
      "['../../../../Dataset/Vrp-Set-A/A-n32/A-n32-k5.vrp']\n",
      "[2024-04-10 23:03:47] CVRPTester.py(84) : >> Model loaded from result/maml_250000checkpts/checkpoint-250000.pt\n",
      "[2024-04-10 23:03:49] CVRPTester.py(229) : episode   1/  1, Elapsed[0.03m], Remain[0.00m], sol:0.784, score:1.038, aug_score:0.930\n",
      "[2024-04-10 23:03:49] CVRPTester.py(235) :  *** Test Done *** \n",
      "[2024-04-10 23:03:49] CVRPTester.py(236) :  NO-AUG SCORE: 1.0378, Gap: 32.3686 \n",
      "[2024-04-10 23:03:49] CVRPTester.py(237) :  AUGMENTATION SCORE: 0.9297, Gap: 18.5817 \n",
      "1.038 (32.369%)\n",
      "0.930 (18.582%)\n",
      ">> Evaluation on ../../../../Dataset/Vrp-Set-A/A-n32 finished within 1.56s\n",
      ">> Save final results to res/A-n32\n",
      "Test on \" ../Dataset/Vrp-Set-A/A-n32 \" Success\n",
      "-----------------------------------------------------------------------------------------------------------------\n",
      "[2024-04-10 23:03:52] test.py(106) : DEBUG_MODE: False\n",
      "[2024-04-10 23:03:52] test.py(107) : USE_CUDA: True, CUDA_DEVICE_NUM: 0\n",
      "[2024-04-10 23:03:52] test.py(108) : env_params{'problem_size': 200, 'pomo_size': 200}\n",
      "[2024-04-10 23:03:52] test.py(108) : model_params{'embedding_dim': 128, 'sqrt_embedding_dim': 11.313708498984761, 'encoder_layer_num': 6, 'qkv_dim': 16, 'head_num': 8, 'logit_clipping': 10, 'ff_hidden_dim': 512, 'eval_type': 'argmax', 'norm': 'batch_no_track'}\n",
      "[2024-04-10 23:03:52] test.py(108) : tester_params{'use_cuda': True, 'cuda_device_num': 0, 'seed': 2024, 'model_load': {'path': 'result/maml_250000checkpts', 'epoch': 250000}, 'test_episodes': 2, 'test_batch_size': 1, 'augmentation_enable': True, 'test_robustness': False, 'aug_factor': 8, 'aug_batch_size': 1, 'test_set_path': '../../../../Dataset/Vrp-Set-A/A-n33', 'test_set_opt_sol_path': '../../../../Dataset/Vrp-Set-A/A-n33-sol', 'test_set_name': 'A-n33'}\n",
      "[2024-04-10 23:03:52] test.py(108) : fine_tune_params{'enable': False, 'fine_tune_episodes': 1000, 'k': 10, 'fine_tune_batch_size': 10, 'augmentation_enable': True, 'optimizer': {'lr': 1e-05, 'weight_decay': 1e-06}}\n",
      "[2024-04-10 23:03:52] test.py(108) : logger_params{'log_file': {'desc': 'test_cvrp', 'filename': 'log.txt', 'filepath': './result/20240410_230352_test_cvrp'}}\n"
     ]
    },
    {
     "name": "stderr",
     "output_type": "stream",
     "text": [
      "/home/xunj/miniconda3/lib/python3.11/site-packages/torch/__init__.py:614: UserWarning: torch.set_default_tensor_type() is deprecated as of PyTorch 2.1, please use torch.set_default_dtype() and torch.set_default_device() as alternatives. (Triggered internally at /opt/conda/conda-bld/pytorch_1699449183005/work/torch/csrc/tensor/python_tensor.cpp:451.)\n",
      "  _C._set_default_tensor_type(t)\n"
     ]
    },
    {
     "name": "stdout",
     "output_type": "stream",
     "text": [
      "['../../../../Dataset/Vrp-Set-A/A-n33/A-n33-k5.vrp', '../../../../Dataset/Vrp-Set-A/A-n33/A-n33-k6.vrp']\n",
      "[2024-04-10 23:03:59] CVRPTester.py(84) : >> Model loaded from result/maml_250000checkpts/checkpoint-250000.pt\n",
      "[2024-04-10 23:04:00] CVRPTester.py(229) : episode   1/  2, Elapsed[0.03m], Remain[0.03m], sol:0.661, score:0.800, aug_score:0.779\n",
      "[2024-04-10 23:04:00] CVRPTester.py(229) : episode   2/  2, Elapsed[0.03m], Remain[0.00m], sol:0.742, score:0.828, aug_score:0.827\n",
      "[2024-04-10 23:04:00] CVRPTester.py(235) :  *** Test Done *** \n",
      "[2024-04-10 23:04:00] CVRPTester.py(236) :  NO-AUG SCORE: 0.8140, Gap: 16.3057 \n",
      "[2024-04-10 23:04:00] CVRPTester.py(237) :  AUGMENTATION SCORE: 0.8030, Gap: 14.6535 \n",
      "0.814 (16.306%)\n",
      "0.803 (14.653%)\n",
      ">> Evaluation on ../../../../Dataset/Vrp-Set-A/A-n33 finished within 1.57s\n",
      ">> Save final results to res/A-n33\n",
      "Test on \" ../Dataset/Vrp-Set-A/A-n33 \" Success\n",
      "-----------------------------------------------------------------------------------------------------------------\n",
      "[2024-04-10 23:04:04] test.py(106) : DEBUG_MODE: False\n",
      "[2024-04-10 23:04:04] test.py(107) : USE_CUDA: True, CUDA_DEVICE_NUM: 0\n",
      "[2024-04-10 23:04:04] test.py(108) : env_params{'problem_size': 200, 'pomo_size': 200}\n",
      "[2024-04-10 23:04:04] test.py(108) : model_params{'embedding_dim': 128, 'sqrt_embedding_dim': 11.313708498984761, 'encoder_layer_num': 6, 'qkv_dim': 16, 'head_num': 8, 'logit_clipping': 10, 'ff_hidden_dim': 512, 'eval_type': 'argmax', 'norm': 'batch_no_track'}\n",
      "[2024-04-10 23:04:04] test.py(108) : tester_params{'use_cuda': True, 'cuda_device_num': 0, 'seed': 2024, 'model_load': {'path': 'result/maml_250000checkpts', 'epoch': 250000}, 'test_episodes': 1, 'test_batch_size': 1, 'augmentation_enable': True, 'test_robustness': False, 'aug_factor': 8, 'aug_batch_size': 1, 'test_set_path': '../../../../Dataset/Vrp-Set-A/A-n34', 'test_set_opt_sol_path': '../../../../Dataset/Vrp-Set-A/A-n34-sol', 'test_set_name': 'A-n33'}\n",
      "[2024-04-10 23:04:04] test.py(108) : fine_tune_params{'enable': False, 'fine_tune_episodes': 1000, 'k': 10, 'fine_tune_batch_size': 10, 'augmentation_enable': True, 'optimizer': {'lr': 1e-05, 'weight_decay': 1e-06}}\n",
      "[2024-04-10 23:04:04] test.py(108) : logger_params{'log_file': {'desc': 'test_cvrp', 'filename': 'log.txt', 'filepath': './result/20240410_230403_test_cvrp'}}\n"
     ]
    },
    {
     "name": "stderr",
     "output_type": "stream",
     "text": [
      "/home/xunj/miniconda3/lib/python3.11/site-packages/torch/__init__.py:614: UserWarning: torch.set_default_tensor_type() is deprecated as of PyTorch 2.1, please use torch.set_default_dtype() and torch.set_default_device() as alternatives. (Triggered internally at /opt/conda/conda-bld/pytorch_1699449183005/work/torch/csrc/tensor/python_tensor.cpp:451.)\n",
      "  _C._set_default_tensor_type(t)\n"
     ]
    },
    {
     "name": "stdout",
     "output_type": "stream",
     "text": [
      "['../../../../Dataset/Vrp-Set-A/A-n34/A-n34-k5.vrp']\n"
     ]
    }
   ],
   "source": [
    "cvrp_land.Heuristics.run_lkh()"
   ]
  },
  {
   "cell_type": "code",
   "execution_count": null,
   "metadata": {},
   "outputs": [],
   "source": []
  },
  {
   "cell_type": "markdown",
   "metadata": {},
   "source": []
  }
 ],
 "metadata": {
  "kernelspec": {
   "display_name": "base",
   "language": "python",
   "name": "python3"
  },
  "language_info": {
   "codemirror_mode": {
    "name": "ipython",
    "version": 3
   },
   "file_extension": ".py",
   "mimetype": "text/x-python",
   "name": "python",
   "nbconvert_exporter": "python",
   "pygments_lexer": "ipython3",
   "version": "3.11.5"
  }
 },
 "nbformat": 4,
 "nbformat_minor": 2
}
